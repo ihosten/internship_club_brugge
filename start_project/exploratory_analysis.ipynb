{
 "cells": [
  {
   "cell_type": "code",
   "execution_count": 1,
   "metadata": {},
   "outputs": [],
   "source": [
    "import polars as pl\n",
    "import seaborn as sns\n",
    "import matplotlib.pyplot as plt\n",
    "import numpy as np\n",
    "import json\n",
    "from io import StringIO\n",
    "import pygwalker as pyg\n",
    "import os\n",
    "from tqdm import tqdm\n",
    "import polars.selectors as cs\n",
    "from scipy.stats import zscore "
   ]
  },
  {
   "cell_type": "markdown",
   "metadata": {},
   "source": [
    "reading competition editions json"
   ]
  },
  {
   "cell_type": "code",
   "execution_count": 2,
   "metadata": {},
   "outputs": [
    {
     "data": {
      "text/html": [
       "<div><style>\n",
       ".dataframe > thead > tr,\n",
       ".dataframe > tbody > tr {\n",
       "  text-align: right;\n",
       "  white-space: pre-wrap;\n",
       "}\n",
       "</style>\n",
       "<small>shape: (1, 4)</small><table border=\"1\" class=\"dataframe\"><thead><tr><th>count</th><th>next</th><th>previous</th><th>results</th></tr><tr><td>i64</td><td>null</td><td>null</td><td>list[struct[4]]</td></tr></thead><tbody><tr><td>938</td><td>null</td><td>null</td><td>[{0,{0,&quot;FIFA&quot;,&quot;World Cup&quot;,&quot;male&quot;,&quot;adult&quot;},{10,2014,2014,&quot;2014&quot;},&quot;FIFA - World Cup - 2014&quot;}, {1,{1,&quot;ENG&quot;,&quot;Premier League&quot;,&quot;male&quot;,&quot;adult&quot;},{2,2015,2016,&quot;2015/2016&quot;},&quot;ENG - Premier League - 2015/2016&quot;}, … {1129,{221,&quot;INT&quot;,&quot;Pinatar National Team Friendlies&quot;,&quot;male&quot;,&quot;U21&quot;},{128,2025,2025,&quot;2025&quot;},&quot;INT - Pinatar National Team Friendlies - 2025&quot;}]</td></tr></tbody></table></div>"
      ],
      "text/plain": [
       "shape: (1, 4)\n",
       "┌───────┬──────┬──────────┬─────────────────────────────────┐\n",
       "│ count ┆ next ┆ previous ┆ results                         │\n",
       "│ ---   ┆ ---  ┆ ---      ┆ ---                             │\n",
       "│ i64   ┆ null ┆ null     ┆ list[struct[4]]                 │\n",
       "╞═══════╪══════╪══════════╪═════════════════════════════════╡\n",
       "│ 938   ┆ null ┆ null     ┆ [{0,{0,\"FIFA\",\"World Cup\",\"mal… │\n",
       "└───────┴──────┴──────────┴─────────────────────────────────┘"
      ]
     },
     "execution_count": 2,
     "metadata": {},
     "output_type": "execute_result"
    }
   ],
   "source": [
    "ce_json_path = './skillcorner-competition-editions.json'\n",
    "ce_df1 = pl.read_json(ce_json_path)\n",
    "ce_df1.head(1)\n",
    "#ce_df.columns"
   ]
  },
  {
   "cell_type": "code",
   "execution_count": 3,
   "metadata": {},
   "outputs": [
    {
     "data": {
      "text/html": [
       "<div><style>\n",
       ".dataframe > thead > tr,\n",
       ".dataframe > tbody > tr {\n",
       "  text-align: right;\n",
       "  white-space: pre-wrap;\n",
       "}\n",
       "</style>\n",
       "<small>shape: (1, 4)</small><table border=\"1\" class=\"dataframe\"><thead><tr><th>id</th><th>competition</th><th>season</th><th>name</th></tr><tr><td>i64</td><td>struct[5]</td><td>struct[4]</td><td>str</td></tr></thead><tbody><tr><td>0</td><td>{0,&quot;FIFA&quot;,&quot;World Cup&quot;,&quot;male&quot;,&quot;adult&quot;}</td><td>{10,2014,2014,&quot;2014&quot;}</td><td>&quot;FIFA - World Cup - 2014&quot;</td></tr></tbody></table></div>"
      ],
      "text/plain": [
       "shape: (1, 4)\n",
       "┌─────┬─────────────────────────────────┬───────────────────────┬─────────────────────────┐\n",
       "│ id  ┆ competition                     ┆ season                ┆ name                    │\n",
       "│ --- ┆ ---                             ┆ ---                   ┆ ---                     │\n",
       "│ i64 ┆ struct[5]                       ┆ struct[4]             ┆ str                     │\n",
       "╞═════╪═════════════════════════════════╪═══════════════════════╪═════════════════════════╡\n",
       "│ 0   ┆ {0,\"FIFA\",\"World Cup\",\"male\",\"… ┆ {10,2014,2014,\"2014\"} ┆ FIFA - World Cup - 2014 │\n",
       "└─────┴─────────────────────────────────┴───────────────────────┴─────────────────────────┘"
      ]
     },
     "execution_count": 3,
     "metadata": {},
     "output_type": "execute_result"
    }
   ],
   "source": [
    "#ce_df2 = ce_df1.explode('results')\n",
    "ce_df2 = ce_df1.select('results').explode('results')\n",
    "ce_df2 = ce_df2.unnest('results')\n",
    "ce_df2.head(1)"
   ]
  },
  {
   "cell_type": "code",
   "execution_count": null,
   "metadata": {},
   "outputs": [],
   "source": []
  },
  {
   "cell_type": "code",
   "execution_count": 4,
   "metadata": {},
   "outputs": [
    {
     "data": {
      "text/html": [
       "<div><style>\n",
       ".dataframe > thead > tr,\n",
       ".dataframe > tbody > tr {\n",
       "  text-align: right;\n",
       "  white-space: pre-wrap;\n",
       "}\n",
       "</style>\n",
       "<small>shape: (1, 2)</small><table border=\"1\" class=\"dataframe\"><thead><tr><th>name</th><th>id</th></tr><tr><td>str</td><td>i64</td></tr></thead><tbody><tr><td>&quot;FIFA - World Cup - 2014&quot;</td><td>0</td></tr></tbody></table></div>"
      ],
      "text/plain": [
       "shape: (1, 2)\n",
       "┌─────────────────────────┬─────┐\n",
       "│ name                    ┆ id  │\n",
       "│ ---                     ┆ --- │\n",
       "│ str                     ┆ i64 │\n",
       "╞═════════════════════════╪═════╡\n",
       "│ FIFA - World Cup - 2014 ┆ 0   │\n",
       "└─────────────────────────┴─────┘"
      ]
     },
     "execution_count": 4,
     "metadata": {},
     "output_type": "execute_result"
    }
   ],
   "source": [
    "ce_name_id = ce_df2.select([\n",
    "    pl.col('name'),\n",
    "    pl.col('id'),\n",
    "    ]\n",
    ")\n",
    "ce_name_id.head(1)"
   ]
  },
  {
   "cell_type": "code",
   "execution_count": 5,
   "metadata": {},
   "outputs": [
    {
     "data": {
      "text/html": [
       "<div><style>\n",
       ".dataframe > thead > tr,\n",
       ".dataframe > tbody > tr {\n",
       "  text-align: right;\n",
       "  white-space: pre-wrap;\n",
       "}\n",
       "</style>\n",
       "<small>shape: (1, 5)</small><table border=\"1\" class=\"dataframe\"><thead><tr><th>competition_id</th><th>competition_area</th><th>competition_name</th><th>competition_gender</th><th>competition_age_group</th></tr><tr><td>i64</td><td>str</td><td>str</td><td>str</td><td>str</td></tr></thead><tbody><tr><td>0</td><td>&quot;FIFA&quot;</td><td>&quot;World Cup&quot;</td><td>&quot;male&quot;</td><td>&quot;adult&quot;</td></tr></tbody></table></div>"
      ],
      "text/plain": [
       "shape: (1, 5)\n",
       "┌────────────────┬──────────────────┬──────────────────┬────────────────────┬──────────────────────┐\n",
       "│ competition_id ┆ competition_area ┆ competition_name ┆ competition_gender ┆ competition_age_grou │\n",
       "│ ---            ┆ ---              ┆ ---              ┆ ---                ┆ p                    │\n",
       "│ i64            ┆ str              ┆ str              ┆ str                ┆ ---                  │\n",
       "│                ┆                  ┆                  ┆                    ┆ str                  │\n",
       "╞════════════════╪══════════════════╪══════════════════╪════════════════════╪══════════════════════╡\n",
       "│ 0              ┆ FIFA             ┆ World Cup        ┆ male               ┆ adult                │\n",
       "└────────────────┴──────────────────┴──────────────────┴────────────────────┴──────────────────────┘"
      ]
     },
     "execution_count": 5,
     "metadata": {},
     "output_type": "execute_result"
    }
   ],
   "source": [
    "ce_competition = ce_df2.select('competition').unnest('competition')\n",
    "ce_competition = ce_competition.rename({col: f\"competition_{col}\" for col in ce_competition.columns})\n",
    "ce_competition.head(1)"
   ]
  },
  {
   "cell_type": "code",
   "execution_count": 6,
   "metadata": {},
   "outputs": [
    {
     "data": {
      "text/html": [
       "<div><style>\n",
       ".dataframe > thead > tr,\n",
       ".dataframe > tbody > tr {\n",
       "  text-align: right;\n",
       "  white-space: pre-wrap;\n",
       "}\n",
       "</style>\n",
       "<small>shape: (1, 4)</small><table border=\"1\" class=\"dataframe\"><thead><tr><th>season_id</th><th>season_start_year</th><th>season_end_year</th><th>season_name</th></tr><tr><td>i64</td><td>i64</td><td>i64</td><td>str</td></tr></thead><tbody><tr><td>10</td><td>2014</td><td>2014</td><td>&quot;2014&quot;</td></tr></tbody></table></div>"
      ],
      "text/plain": [
       "shape: (1, 4)\n",
       "┌───────────┬───────────────────┬─────────────────┬─────────────┐\n",
       "│ season_id ┆ season_start_year ┆ season_end_year ┆ season_name │\n",
       "│ ---       ┆ ---               ┆ ---             ┆ ---         │\n",
       "│ i64       ┆ i64               ┆ i64             ┆ str         │\n",
       "╞═══════════╪═══════════════════╪═════════════════╪═════════════╡\n",
       "│ 10        ┆ 2014              ┆ 2014            ┆ 2014        │\n",
       "└───────────┴───────────────────┴─────────────────┴─────────────┘"
      ]
     },
     "execution_count": 6,
     "metadata": {},
     "output_type": "execute_result"
    }
   ],
   "source": [
    "ce_season = ce_df2.select('season').unnest('season')\n",
    "ce_season = ce_season.rename({col: f\"season_{col}\" for col in ce_season.columns})\n",
    "ce_season.head(1)"
   ]
  },
  {
   "cell_type": "code",
   "execution_count": 7,
   "metadata": {},
   "outputs": [
    {
     "data": {
      "text/html": [
       "<div><style>\n",
       ".dataframe > thead > tr,\n",
       ".dataframe > tbody > tr {\n",
       "  text-align: right;\n",
       "  white-space: pre-wrap;\n",
       "}\n",
       "</style>\n",
       "<small>shape: (10, 11)</small><table border=\"1\" class=\"dataframe\"><thead><tr><th>name</th><th>id</th><th>season_id</th><th>season_start_year</th><th>season_end_year</th><th>season_name</th><th>competition_id</th><th>competition_area</th><th>competition_name</th><th>competition_gender</th><th>competition_age_group</th></tr><tr><td>str</td><td>i64</td><td>i64</td><td>i64</td><td>i64</td><td>str</td><td>i64</td><td>str</td><td>str</td><td>str</td><td>str</td></tr></thead><tbody><tr><td>&quot;FIFA - World Cup - 2014&quot;</td><td>0</td><td>10</td><td>2014</td><td>2014</td><td>&quot;2014&quot;</td><td>0</td><td>&quot;FIFA&quot;</td><td>&quot;World Cup&quot;</td><td>&quot;male&quot;</td><td>&quot;adult&quot;</td></tr><tr><td>&quot;ENG - Premier League - 2015/20…</td><td>1</td><td>2</td><td>2015</td><td>2016</td><td>&quot;2015/2016&quot;</td><td>1</td><td>&quot;ENG&quot;</td><td>&quot;Premier League&quot;</td><td>&quot;male&quot;</td><td>&quot;adult&quot;</td></tr><tr><td>&quot;UEFA - European Championship -…</td><td>2</td><td>12</td><td>2016</td><td>2016</td><td>&quot;2016&quot;</td><td>2</td><td>&quot;UEFA&quot;</td><td>&quot;European Championship&quot;</td><td>&quot;male&quot;</td><td>&quot;adult&quot;</td></tr><tr><td>&quot;ENG - Premier League - 2016/20…</td><td>3</td><td>3</td><td>2016</td><td>2017</td><td>&quot;2016/2017&quot;</td><td>1</td><td>&quot;ENG&quot;</td><td>&quot;Premier League&quot;</td><td>&quot;male&quot;</td><td>&quot;adult&quot;</td></tr><tr><td>&quot;ENG - Premier League - 2017/20…</td><td>4</td><td>4</td><td>2017</td><td>2018</td><td>&quot;2017/2018&quot;</td><td>1</td><td>&quot;ENG&quot;</td><td>&quot;Premier League&quot;</td><td>&quot;male&quot;</td><td>&quot;adult&quot;</td></tr><tr><td>&quot;FRA - Ligue 1 - 2016/2017&quot;</td><td>5</td><td>3</td><td>2016</td><td>2017</td><td>&quot;2016/2017&quot;</td><td>3</td><td>&quot;FRA&quot;</td><td>&quot;Ligue 1&quot;</td><td>&quot;male&quot;</td><td>&quot;adult&quot;</td></tr><tr><td>&quot;FRA - Ligue 1 - 2017/2018&quot;</td><td>6</td><td>4</td><td>2017</td><td>2018</td><td>&quot;2017/2018&quot;</td><td>3</td><td>&quot;FRA&quot;</td><td>&quot;Ligue 1&quot;</td><td>&quot;male&quot;</td><td>&quot;adult&quot;</td></tr><tr><td>&quot;ESP - LaLiga - 2016/2017&quot;</td><td>7</td><td>3</td><td>2016</td><td>2017</td><td>&quot;2016/2017&quot;</td><td>4</td><td>&quot;ESP&quot;</td><td>&quot;LaLiga&quot;</td><td>&quot;male&quot;</td><td>&quot;adult&quot;</td></tr><tr><td>&quot;ESP - LaLiga - 2017/2018&quot;</td><td>8</td><td>4</td><td>2017</td><td>2018</td><td>&quot;2017/2018&quot;</td><td>4</td><td>&quot;ESP&quot;</td><td>&quot;LaLiga&quot;</td><td>&quot;male&quot;</td><td>&quot;adult&quot;</td></tr><tr><td>&quot;ITA - Serie A - 2016/2017&quot;</td><td>9</td><td>3</td><td>2016</td><td>2017</td><td>&quot;2016/2017&quot;</td><td>5</td><td>&quot;ITA&quot;</td><td>&quot;Serie A&quot;</td><td>&quot;male&quot;</td><td>&quot;adult&quot;</td></tr></tbody></table></div>"
      ],
      "text/plain": [
       "shape: (10, 11)\n",
       "┌────────────┬─────┬───────────┬────────────┬───┬────────────┬────────────┬────────────┬───────────┐\n",
       "│ name       ┆ id  ┆ season_id ┆ season_sta ┆ … ┆ competitio ┆ competitio ┆ competitio ┆ competiti │\n",
       "│ ---        ┆ --- ┆ ---       ┆ rt_year    ┆   ┆ n_area     ┆ n_name     ┆ n_gender   ┆ on_age_gr │\n",
       "│ str        ┆ i64 ┆ i64       ┆ ---        ┆   ┆ ---        ┆ ---        ┆ ---        ┆ oup       │\n",
       "│            ┆     ┆           ┆ i64        ┆   ┆ str        ┆ str        ┆ str        ┆ ---       │\n",
       "│            ┆     ┆           ┆            ┆   ┆            ┆            ┆            ┆ str       │\n",
       "╞════════════╪═════╪═══════════╪════════════╪═══╪════════════╪════════════╪════════════╪═══════════╡\n",
       "│ FIFA -     ┆ 0   ┆ 10        ┆ 2014       ┆ … ┆ FIFA       ┆ World Cup  ┆ male       ┆ adult     │\n",
       "│ World Cup  ┆     ┆           ┆            ┆   ┆            ┆            ┆            ┆           │\n",
       "│ - 2014     ┆     ┆           ┆            ┆   ┆            ┆            ┆            ┆           │\n",
       "│ ENG -      ┆ 1   ┆ 2         ┆ 2015       ┆ … ┆ ENG        ┆ Premier    ┆ male       ┆ adult     │\n",
       "│ Premier    ┆     ┆           ┆            ┆   ┆            ┆ League     ┆            ┆           │\n",
       "│ League -   ┆     ┆           ┆            ┆   ┆            ┆            ┆            ┆           │\n",
       "│ 2015/20…   ┆     ┆           ┆            ┆   ┆            ┆            ┆            ┆           │\n",
       "│ UEFA -     ┆ 2   ┆ 12        ┆ 2016       ┆ … ┆ UEFA       ┆ European   ┆ male       ┆ adult     │\n",
       "│ European   ┆     ┆           ┆            ┆   ┆            ┆ Championsh ┆            ┆           │\n",
       "│ Championsh ┆     ┆           ┆            ┆   ┆            ┆ ip         ┆            ┆           │\n",
       "│ ip -…      ┆     ┆           ┆            ┆   ┆            ┆            ┆            ┆           │\n",
       "│ ENG -      ┆ 3   ┆ 3         ┆ 2016       ┆ … ┆ ENG        ┆ Premier    ┆ male       ┆ adult     │\n",
       "│ Premier    ┆     ┆           ┆            ┆   ┆            ┆ League     ┆            ┆           │\n",
       "│ League -   ┆     ┆           ┆            ┆   ┆            ┆            ┆            ┆           │\n",
       "│ 2016/20…   ┆     ┆           ┆            ┆   ┆            ┆            ┆            ┆           │\n",
       "│ ENG -      ┆ 4   ┆ 4         ┆ 2017       ┆ … ┆ ENG        ┆ Premier    ┆ male       ┆ adult     │\n",
       "│ Premier    ┆     ┆           ┆            ┆   ┆            ┆ League     ┆            ┆           │\n",
       "│ League -   ┆     ┆           ┆            ┆   ┆            ┆            ┆            ┆           │\n",
       "│ 2017/20…   ┆     ┆           ┆            ┆   ┆            ┆            ┆            ┆           │\n",
       "│ FRA -      ┆ 5   ┆ 3         ┆ 2016       ┆ … ┆ FRA        ┆ Ligue 1    ┆ male       ┆ adult     │\n",
       "│ Ligue 1 -  ┆     ┆           ┆            ┆   ┆            ┆            ┆            ┆           │\n",
       "│ 2016/2017  ┆     ┆           ┆            ┆   ┆            ┆            ┆            ┆           │\n",
       "│ FRA -      ┆ 6   ┆ 4         ┆ 2017       ┆ … ┆ FRA        ┆ Ligue 1    ┆ male       ┆ adult     │\n",
       "│ Ligue 1 -  ┆     ┆           ┆            ┆   ┆            ┆            ┆            ┆           │\n",
       "│ 2017/2018  ┆     ┆           ┆            ┆   ┆            ┆            ┆            ┆           │\n",
       "│ ESP -      ┆ 7   ┆ 3         ┆ 2016       ┆ … ┆ ESP        ┆ LaLiga     ┆ male       ┆ adult     │\n",
       "│ LaLiga -   ┆     ┆           ┆            ┆   ┆            ┆            ┆            ┆           │\n",
       "│ 2016/2017  ┆     ┆           ┆            ┆   ┆            ┆            ┆            ┆           │\n",
       "│ ESP -      ┆ 8   ┆ 4         ┆ 2017       ┆ … ┆ ESP        ┆ LaLiga     ┆ male       ┆ adult     │\n",
       "│ LaLiga -   ┆     ┆           ┆            ┆   ┆            ┆            ┆            ┆           │\n",
       "│ 2017/2018  ┆     ┆           ┆            ┆   ┆            ┆            ┆            ┆           │\n",
       "│ ITA -      ┆ 9   ┆ 3         ┆ 2016       ┆ … ┆ ITA        ┆ Serie A    ┆ male       ┆ adult     │\n",
       "│ Serie A -  ┆     ┆           ┆            ┆   ┆            ┆            ┆            ┆           │\n",
       "│ 2016/2017  ┆     ┆           ┆            ┆   ┆            ┆            ┆            ┆           │\n",
       "└────────────┴─────┴───────────┴────────────┴───┴────────────┴────────────┴────────────┴───────────┘"
      ]
     },
     "execution_count": 7,
     "metadata": {},
     "output_type": "execute_result"
    }
   ],
   "source": [
    "ce = pl.concat([\n",
    "    ce_name_id,\n",
    "    ce_season,\n",
    "    ce_competition\n",
    "],\n",
    "how = \"horizontal\",)\n",
    "ce.head(10)"
   ]
  },
  {
   "cell_type": "markdown",
   "metadata": {},
   "source": [
    "reading json player file- test on 1 file\n"
   ]
  },
  {
   "cell_type": "code",
   "execution_count": 8,
   "metadata": {},
   "outputs": [],
   "source": [
    "position_json_testpath = './skillcorner-20250214/metrics-ce249-rAM.json'\n",
    "\n",
    "position_test_df = pl.read_json(position_json_testpath)"
   ]
  },
  {
   "cell_type": "code",
   "execution_count": 9,
   "metadata": {},
   "outputs": [
    {
     "data": {
      "text/plain": [
       "['Minutes',\n",
       " 'Count Sprint OTIP 2',\n",
       " 'Count Medium Acceleration OTIP',\n",
       " 'Distance',\n",
       " 'Distance 1',\n",
       " 'Count Sprint 1',\n",
       " 'Sprinting Distance TIP 1',\n",
       " 'player_birthdate',\n",
       " 'match_name',\n",
       " 'Count HSR 1',\n",
       " 'Count HSR TIP',\n",
       " 'Count High Deceleration TIP',\n",
       " 'Count Medium Deceleration',\n",
       " 'Sprinting Distance 1',\n",
       " 'Count High Deceleration 1',\n",
       " 'Minutes OTIP 2',\n",
       " 'Count HSR TIP 2',\n",
       " 'Count High Deceleration OTIP',\n",
       " 'Sprinting Distance OTIP 1',\n",
       " 'Sprinting Distance 2',\n",
       " 'Count Medium Acceleration 1',\n",
       " 'Distance TIP 1',\n",
       " 'HSR Distance TIP',\n",
       " 'Running Distance TIP 1',\n",
       " 'Minutes 2',\n",
       " 'Count Medium Deceleration TIP 1',\n",
       " 'match_id',\n",
       " 'Distance OTIP 1',\n",
       " 'Count Medium Acceleration 2',\n",
       " 'Count Medium Deceleration 1',\n",
       " 'Count Medium Acceleration TIP',\n",
       " 'Count High Acceleration OTIP',\n",
       " 'Sprinting Distance TIP 2',\n",
       " 'Count HSR OTIP',\n",
       " 'Count High Acceleration OTIP 2',\n",
       " 'HSR Distance OTIP 2',\n",
       " 'Count Medium Acceleration OTIP 1',\n",
       " 'competition_edition_id',\n",
       " 'Count Sprint',\n",
       " 'Count Medium Acceleration',\n",
       " 'Sprinting Distance OTIP',\n",
       " 'Count Medium Acceleration TIP 1',\n",
       " 'HSR Distance OTIP',\n",
       " 'Count High Acceleration TIP 1',\n",
       " 'Sprinting Distance OTIP 2',\n",
       " 'Count Medium Deceleration OTIP',\n",
       " 'Minutes OTIP',\n",
       " 'Count Medium Deceleration 2',\n",
       " 'Running Distance',\n",
       " 'Running Distance 2',\n",
       " 'HSR Distance 2',\n",
       " 'Count High Acceleration OTIP 1',\n",
       " 'Count Sprint TIP',\n",
       " 'Running Distance OTIP 1',\n",
       " 'team_name',\n",
       " 'Count Medium Deceleration OTIP 2',\n",
       " 'season_name',\n",
       " 'group',\n",
       " 'Distance OTIP 2',\n",
       " 'player_name',\n",
       " 'Distance TIP 2',\n",
       " 'Count Medium Deceleration TIP',\n",
       " 'Sprinting Distance',\n",
       " 'HSR Distance TIP 2',\n",
       " 'Count Medium Deceleration TIP 2',\n",
       " 'Running Distance OTIP',\n",
       " 'quality_check',\n",
       " 'Count Medium Deceleration OTIP 1',\n",
       " 'Count Sprint OTIP',\n",
       " 'Minutes OTIP 1',\n",
       " 'Count Sprint TIP 1',\n",
       " 'short_name',\n",
       " 'team',\n",
       " 'Count High Acceleration 1',\n",
       " 'Count HSR OTIP 1',\n",
       " 'Count HSR',\n",
       " 'Minutes TIP 1',\n",
       " 'Running Distance TIP',\n",
       " 'Count High Deceleration OTIP 2',\n",
       " 'player_id',\n",
       " 'Running Distance 1',\n",
       " 'Count Medium Acceleration OTIP 2',\n",
       " 'Count High Acceleration',\n",
       " 'PSV-99',\n",
       " 'Count High Acceleration 2',\n",
       " 'HSR Distance TIP 1',\n",
       " 'Count High Acceleration TIP',\n",
       " 'Count Sprint OTIP 1',\n",
       " 'Count High Acceleration TIP 2',\n",
       " 'Count Medium Acceleration TIP 2',\n",
       " 'Minutes TIP',\n",
       " 'position',\n",
       " 'HSR Distance 1',\n",
       " 'Distance 2',\n",
       " 'Minutes 1',\n",
       " 'Count Sprint 2',\n",
       " 'Minutes TIP 2',\n",
       " 'Count HSR OTIP 2',\n",
       " 'Count High Deceleration TIP 1',\n",
       " 'date',\n",
       " 'Count High Deceleration',\n",
       " 'Count High Deceleration TIP 2',\n",
       " 'Running Distance TIP 2',\n",
       " 'competition_id',\n",
       " 'Count Sprint TIP 2',\n",
       " 'HSR Distance',\n",
       " 'Count HSR 2',\n",
       " 'Count HSR TIP 1',\n",
       " 'season_id',\n",
       " 'Distance OTIP',\n",
       " 'Count High Deceleration OTIP 1',\n",
       " 'Distance TIP',\n",
       " 'Count High Deceleration 2',\n",
       " 'Running Distance OTIP 2',\n",
       " 'Sprinting Distance TIP',\n",
       " 'HSR Distance OTIP 1',\n",
       " 'team_id']"
      ]
     },
     "execution_count": 9,
     "metadata": {},
     "output_type": "execute_result"
    }
   ],
   "source": [
    "position_test_df.columns\n",
    "#position_test_df.head(10)"
   ]
  },
  {
   "cell_type": "code",
   "execution_count": 10,
   "metadata": {},
   "outputs": [],
   "source": [
    "#define the path to the entire directory\n",
    "json_dir_path = './skillcorner-20250214/'"
   ]
  },
  {
   "cell_type": "markdown",
   "metadata": {},
   "source": [
    "### Look at correlations between parameters\n",
    "Looking at the correlations across all competitions across all positions to see if we can leave out certain parameters"
   ]
  },
  {
   "cell_type": "code",
   "execution_count": 11,
   "metadata": {},
   "outputs": [],
   "source": [
    "json_list = os.listdir(json_dir_path)\n",
    "#json_list"
   ]
  },
  {
   "cell_type": "code",
   "execution_count": 12,
   "metadata": {},
   "outputs": [
    {
     "data": {
      "text/plain": [
       "'dfs = []\\nfor jsonf in json_list:\\n    json_path = f\"{json_dir_path}{jsonf}\"\\n    dfs.append(pl.read_json(json_path))\\n\\ncorr_df = pl.concat(dfs, how=\"align_full\")'"
      ]
     },
     "execution_count": 12,
     "metadata": {},
     "output_type": "execute_result"
    }
   ],
   "source": [
    "\"\"\"dfs = []\n",
    "for jsonf in json_list:\n",
    "    json_path = f\"{json_dir_path}{jsonf}\"\n",
    "    dfs.append(pl.read_json(json_path))\n",
    "\n",
    "corr_df = pl.concat(dfs, how=\"align_full\")\"\"\""
   ]
  },
  {
   "cell_type": "code",
   "execution_count": 13,
   "metadata": {},
   "outputs": [
    {
     "name": "stderr",
     "output_type": "stream",
     "text": [
      "  4%|▍         | 66/1652 [00:02<01:03, 25.00it/s]"
     ]
    },
    {
     "name": "stderr",
     "output_type": "stream",
     "text": [
      "100%|██████████| 1652/1652 [00:45<00:00, 35.93it/s]\n"
     ]
    },
    {
     "data": {
      "text/plain": [
       "'\\noutput_path = \"json_output.csv\"\\ncorr_df.write_csv(output_path)'"
      ]
     },
     "execution_count": 13,
     "metadata": {},
     "output_type": "execute_result"
    }
   ],
   "source": [
    "#loop through the json files and concat them into one big df\n",
    "\n",
    "# creating an empty data frame to concat the json dataframes to\n",
    "read_json_list = []\n",
    "\n",
    "for jsonf in tqdm(json_list):\n",
    "    json_path = f\"{json_dir_path}{jsonf}\"\n",
    "    json_df = pl.read_json(json_path)\n",
    "\n",
    "    read_json_list.append(json_df)\n",
    "\n",
    "corr_df = pl.concat(read_json_list)\n",
    "\n",
    "\n",
    "corr_df.shape\n",
    "#corr_df.head(2)\n",
    "\"\"\"\n",
    "output_path = \"json_output.csv\"\n",
    "corr_df.write_csv(output_path)\"\"\""
   ]
  },
  {
   "cell_type": "code",
   "execution_count": 14,
   "metadata": {},
   "outputs": [
    {
     "data": {
      "text/html": [
       "<div><style>\n",
       ".dataframe > thead > tr,\n",
       ".dataframe > tbody > tr {\n",
       "  text-align: right;\n",
       "  white-space: pre-wrap;\n",
       "}\n",
       "</style>\n",
       "<small>shape: (5, 117)</small><table border=\"1\" class=\"dataframe\"><thead><tr><th>Minutes</th><th>Count Sprint OTIP 2</th><th>Count Medium Acceleration OTIP</th><th>Distance</th><th>Distance 1</th><th>Count Sprint 1</th><th>Sprinting Distance TIP 1</th><th>player_birthdate</th><th>match_name</th><th>Count HSR 1</th><th>Count HSR TIP</th><th>Count High Deceleration TIP</th><th>Count Medium Deceleration</th><th>Sprinting Distance 1</th><th>Count High Deceleration 1</th><th>Minutes OTIP 2</th><th>Count HSR TIP 2</th><th>Count High Deceleration OTIP</th><th>Sprinting Distance OTIP 1</th><th>Sprinting Distance 2</th><th>Count Medium Acceleration 1</th><th>Distance TIP 1</th><th>HSR Distance TIP</th><th>Running Distance TIP 1</th><th>Minutes 2</th><th>Count Medium Deceleration TIP 1</th><th>match_id</th><th>Distance OTIP 1</th><th>Count Medium Acceleration 2</th><th>Count Medium Deceleration 1</th><th>Count Medium Acceleration TIP</th><th>Count High Acceleration OTIP</th><th>Sprinting Distance TIP 2</th><th>Count HSR OTIP</th><th>Count High Acceleration OTIP 2</th><th>HSR Distance OTIP 2</th><th>Count Medium Acceleration OTIP 1</th><th>competition_edition_id</th><th>Count Sprint</th><th>Count Medium Acceleration</th><th>Sprinting Distance OTIP</th><th>Count Medium Acceleration TIP 1</th><th>HSR Distance OTIP</th><th>Count High Acceleration TIP 1</th><th>Sprinting Distance OTIP 2</th><th>Count Medium Deceleration OTIP</th><th>Minutes OTIP</th><th>Count Medium Deceleration 2</th><th>Running Distance</th><th>Running Distance 2</th><th>HSR Distance 2</th><th>Count High Acceleration OTIP 1</th><th>Count Sprint TIP</th><th>Running Distance OTIP 1</th><th>team_name</th><th>Count Medium Deceleration OTIP 2</th><th>season_name</th><th>group</th><th>Distance OTIP 2</th><th>player_name</th><th>Distance TIP 2</th><th>Count Medium Deceleration TIP</th><th>Sprinting Distance</th><th>HSR Distance TIP 2</th><th>Count Medium Deceleration TIP 2</th><th>Running Distance OTIP</th><th>quality_check</th><th>Count Medium Deceleration OTIP 1</th><th>Count Sprint OTIP</th><th>Minutes OTIP 1</th><th>Count Sprint TIP 1</th><th>short_name</th><th>team</th><th>Count High Acceleration 1</th><th>Count HSR OTIP 1</th><th>Count HSR</th><th>Minutes TIP 1</th><th>Running Distance TIP</th><th>Count High Deceleration OTIP 2</th><th>player_id</th><th>Running Distance 1</th><th>Count Medium Acceleration OTIP 2</th><th>Count High Acceleration</th><th>PSV-99</th><th>Count High Acceleration 2</th><th>HSR Distance TIP 1</th><th>Count High Acceleration TIP</th><th>Count Sprint OTIP 1</th><th>Count High Acceleration TIP 2</th><th>Count Medium Acceleration TIP 2</th><th>Minutes TIP</th><th>position</th><th>HSR Distance 1</th><th>Distance 2</th><th>Minutes 1</th><th>Count Sprint 2</th><th>Minutes TIP 2</th><th>Count HSR OTIP 2</th><th>Count High Deceleration TIP 1</th><th>date</th><th>Count High Deceleration</th><th>Count High Deceleration TIP 2</th><th>Running Distance TIP 2</th><th>competition_id</th><th>Count Sprint TIP 2</th><th>HSR Distance</th><th>Count HSR 2</th><th>Count HSR TIP 1</th><th>season_id</th><th>Distance OTIP</th><th>Count High Deceleration OTIP 1</th><th>Distance TIP</th><th>Count High Deceleration 2</th><th>Running Distance OTIP 2</th><th>Sprinting Distance TIP</th><th>HSR Distance OTIP 1</th><th>team_id</th></tr><tr><td>f64</td><td>i64</td><td>i64</td><td>i64</td><td>i64</td><td>i64</td><td>i64</td><td>str</td><td>str</td><td>i64</td><td>i64</td><td>i64</td><td>i64</td><td>i64</td><td>i64</td><td>f64</td><td>i64</td><td>i64</td><td>i64</td><td>i64</td><td>i64</td><td>i64</td><td>i64</td><td>i64</td><td>f64</td><td>i64</td><td>i64</td><td>i64</td><td>i64</td><td>i64</td><td>i64</td><td>i64</td><td>i64</td><td>i64</td><td>i64</td><td>i64</td><td>i64</td><td>i64</td><td>i64</td><td>i64</td><td>i64</td><td>i64</td><td>i64</td><td>i64</td><td>i64</td><td>i64</td><td>f64</td><td>i64</td><td>i64</td><td>i64</td><td>i64</td><td>i64</td><td>i64</td><td>i64</td><td>str</td><td>i64</td><td>str</td><td>str</td><td>i64</td><td>str</td><td>i64</td><td>i64</td><td>i64</td><td>i64</td><td>i64</td><td>i64</td><td>bool</td><td>i64</td><td>i64</td><td>f64</td><td>i64</td><td>str</td><td>str</td><td>i64</td><td>i64</td><td>i64</td><td>f64</td><td>i64</td><td>i64</td><td>i64</td><td>i64</td><td>i64</td><td>i64</td><td>f64</td><td>i64</td><td>i64</td><td>i64</td><td>i64</td><td>i64</td><td>i64</td><td>f64</td><td>str</td><td>i64</td><td>i64</td><td>f64</td><td>i64</td><td>f64</td><td>i64</td><td>i64</td><td>str</td><td>i64</td><td>i64</td><td>i64</td><td>i64</td><td>i64</td><td>i64</td><td>i64</td><td>i64</td><td>i64</td><td>i64</td><td>i64</td><td>i64</td><td>i64</td><td>i64</td><td>i64</td><td>i64</td><td>i64</td></tr></thead><tbody><tr><td>96.63</td><td>1</td><td>47</td><td>13026</td><td>6810</td><td>3</td><td>11</td><td>&quot;1995-02-17&quot;</td><td>&quot;KV Mechelen v Royal Antwerp FC&quot;</td><td>33</td><td>19</td><td>3</td><td>89</td><td>92</td><td>8</td><td>17.3</td><td>6</td><td>4</td><td>27</td><td>56</td><td>52</td><td>1874</td><td>260</td><td>369</td><td>49.48</td><td>8</td><td>44999</td><td>2983</td><td>48</td><td>42</td><td>22</td><td>0</td><td>19</td><td>34</td><td>0</td><td>218</td><td>24</td><td>249</td><td>5</td><td>100</td><td>45</td><td>12</td><td>443</td><td>0</td><td>18</td><td>34</td><td>35.57</td><td>47</td><td>2415</td><td>1061</td><td>358</td><td>0</td><td>2</td><td>842</td><td>&quot;Royal Antwerp FC&quot;</td><td>17</td><td>&quot;2021/2022&quot;</td><td>&quot;Midfield&quot;</td><td>2744</td><td>&quot;Pieter Gerkens&quot;</td><td>1558</td><td>17</td><td>148</td><td>121</td><td>9</td><td>1504</td><td>true</td><td>17</td><td>2</td><td>18.27</td><td>1</td><td>&quot;P. Gerkens&quot;</td><td>&quot;Royal Antwerp FC&quot;</td><td>3</td><td>17</td><td>59</td><td>13.13</td><td>661</td><td>1</td><td>8701</td><td>1354</td><td>23</td><td>4</td><td>25.7</td><td>1</td><td>139</td><td>0</td><td>1</td><td>0</td><td>10</td><td>24.21</td><td>&quot;AM&quot;</td><td>387</td><td>6216</td><td>47.15</td><td>2</td><td>11.08</td><td>17</td><td>2</td><td>&quot;2021-07-25&quot;</td><td>11</td><td>1</td><td>292</td><td>16</td><td>1</td><td>745</td><td>26</td><td>13</td><td>8</td><td>5727</td><td>3</td><td>3432</td><td>3</td><td>662</td><td>30</td><td>225</td><td>462</td></tr><tr><td>96.19</td><td>0</td><td>32</td><td>9969</td><td>4842</td><td>3</td><td>17</td><td>&quot;1989-07-25&quot;</td><td>&quot;Oud-Heverlee Leuven v SV Zulte…</td><td>20</td><td>20</td><td>2</td><td>77</td><td>48</td><td>5</td><td>15.07</td><td>11</td><td>1</td><td>24</td><td>154</td><td>36</td><td>1660</td><td>265</td><td>267</td><td>50.07</td><td>9</td><td>45002</td><td>1795</td><td>41</td><td>31</td><td>25</td><td>1</td><td>119</td><td>17</td><td>1</td><td>63</td><td>15</td><td>249</td><td>8</td><td>77</td><td>24</td><td>11</td><td>167</td><td>1</td><td>0</td><td>25</td><td>29.59</td><td>46</td><td>1101</td><td>612</td><td>275</td><td>0</td><td>4</td><td>178</td><td>&quot;Oud-Heverlee Leuven&quot;</td><td>14</td><td>&quot;2021/2022&quot;</td><td>&quot;Midfield&quot;</td><td>1739</td><td>&quot;Xavier Mercier&quot;</td><td>1775</td><td>20</td><td>202</td><td>184</td><td>11</td><td>402</td><td>true</td><td>11</td><td>1</td><td>14.52</td><td>1</td><td>&quot;X. Mercier&quot;</td><td>&quot;Oud-Heverlee Leuven&quot;</td><td>3</td><td>10</td><td>39</td><td>13.2</td><td>610</td><td>0</td><td>10932</td><td>489</td><td>17</td><td>5</td><td>28.3</td><td>2</td><td>81</td><td>2</td><td>1</td><td>1</td><td>14</td><td>25.52</td><td>&quot;AM&quot;</td><td>201</td><td>5127</td><td>46.12</td><td>5</td><td>12.32</td><td>7</td><td>1</td><td>&quot;2021-07-24&quot;</td><td>8</td><td>1</td><td>343</td><td>16</td><td>3</td><td>476</td><td>19</td><td>9</td><td>8</td><td>3534</td><td>1</td><td>3435</td><td>3</td><td>224</td><td>136</td><td>104</td><td>27</td></tr><tr><td>71.07</td><td>1</td><td>23</td><td>8709</td><td>5620</td><td>4</td><td>26</td><td>&quot;1996-01-18&quot;</td><td>&quot;Oud-Heverlee Leuven v SV Zulte…</td><td>21</td><td>18</td><td>2</td><td>82</td><td>95</td><td>7</td><td>6.57</td><td>5</td><td>3</td><td>29</td><td>10</td><td>39</td><td>2289</td><td>222</td><td>427</td><td>24.95</td><td>22</td><td>45002</td><td>1938</td><td>25</td><td>57</td><td>26</td><td>2</td><td>0</td><td>14</td><td>1</td><td>78</td><td>17</td><td>249</td><td>5</td><td>64</td><td>36</td><td>18</td><td>167</td><td>0</td><td>7</td><td>18</td><td>19.77</td><td>25</td><td>1241</td><td>527</td><td>129</td><td>1</td><td>2</td><td>253</td><td>&quot;SV Zulte-Waregem&quot;</td><td>5</td><td>&quot;2021/2022&quot;</td><td>&quot;Midfield&quot;</td><td>938</td><td>&quot;Omar Nicolás Govea García&quot;</td><td>1278</td><td>33</td><td>105</td><td>51</td><td>11</td><td>425</td><td>true</td><td>13</td><td>2</td><td>13.2</td><td>2</td><td>&quot;O. Govea&quot;</td><td>&quot;SV Zulte-Waregem&quot;</td><td>1</td><td>7</td><td>34</td><td>14.52</td><td>724</td><td>1</td><td>14625</td><td>714</td><td>6</td><td>3</td><td>26.4</td><td>2</td><td>171</td><td>1</td><td>1</td><td>1</td><td>8</td><td>22.45</td><td>&quot;AM&quot;</td><td>292</td><td>3089</td><td>46.12</td><td>1</td><td>7.93</td><td>7</td><td>1</td><td>&quot;2021-07-24&quot;</td><td>11</td><td>1</td><td>297</td><td>16</td><td>0</td><td>421</td><td>13</td><td>13</td><td>8</td><td>2876</td><td>2</td><td>3567</td><td>4</td><td>172</td><td>26</td><td>89</td><td>8</td></tr><tr><td>74.15</td><td>1</td><td>26</td><td>8976</td><td>5410</td><td>6</td><td>44</td><td>&quot;1996-07-18&quot;</td><td>&quot;Oud-Heverlee Leuven v SV Zulte…</td><td>25</td><td>25</td><td>3</td><td>70</td><td>76</td><td>9</td><td>8.48</td><td>12</td><td>5</td><td>7</td><td>131</td><td>37</td><td>1883</td><td>337</td><td>327</td><td>28.03</td><td>13</td><td>45002</td><td>2025</td><td>27</td><td>44</td><td>21</td><td>0</td><td>88</td><td>20</td><td>0</td><td>110</td><td>17</td><td>249</td><td>12</td><td>64</td><td>27</td><td>13</td><td>224</td><td>0</td><td>20</td><td>21</td><td>23.0</td><td>26</td><td>1234</td><td>554</td><td>310</td><td>0</td><td>8</td><td>301</td><td>&quot;Oud-Heverlee Leuven&quot;</td><td>8</td><td>&quot;2021/2022&quot;</td><td>&quot;Midfield&quot;</td><td>1326</td><td>&quot;Siebe Schrijvers&quot;</td><td>1242</td><td>18</td><td>207</td><td>193</td><td>5</td><td>536</td><td>true</td><td>13</td><td>2</td><td>14.52</td><td>4</td><td>&quot;S. Schrijvers&quot;</td><td>&quot;Oud-Heverlee Leuven&quot;</td><td>0</td><td>11</td><td>50</td><td>13.2</td><td>603</td><td>3</td><td>9835</td><td>680</td><td>9</td><td>1</td><td>27.4</td><td>1</td><td>144</td><td>1</td><td>1</td><td>1</td><td>8</td><td>20.35</td><td>&quot;AM&quot;</td><td>284</td><td>3566</td><td>46.12</td><td>6</td><td>7.15</td><td>9</td><td>2</td><td>&quot;2021-07-24&quot;</td><td>15</td><td>1</td><td>276</td><td>16</td><td>4</td><td>594</td><td>25</td><td>13</td><td>8</td><td>3351</td><td>2</td><td>3125</td><td>6</td><td>235</td><td>132</td><td>114</td><td>27</td></tr><tr><td>110.42</td><td>1</td><td>47</td><td>11626</td><td>6257</td><td>4</td><td>36</td><td>&quot;1992-02-09&quot;</td><td>&quot;Club Brugge KV v KAS Eupen&quot;</td><td>23</td><td>17</td><td>1</td><td>85</td><td>56</td><td>6</td><td>19.18</td><td>4</td><td>3</td><td>20</td><td>4</td><td>47</td><td>2340</td><td>159</td><td>461</td><td>60.17</td><td>13</td><td>44998</td><td>2650</td><td>39</td><td>44</td><td>29</td><td>1</td><td>0</td><td>17</td><td>0</td><td>62</td><td>21</td><td>249</td><td>5</td><td>86</td><td>24</td><td>18</td><td>174</td><td>1</td><td>4</td><td>37</td><td>37.23</td><td>41</td><td>1405</td><td>462</td><td>81</td><td>1</td><td>2</td><td>468</td><td>&quot;KAS Eupen&quot;</td><td>19</td><td>&quot;2021/2022&quot;</td><td>&quot;Midfield&quot;</td><td>2252</td><td>&quot;Stef Peeters&quot;</td><td>1397</td><td>23</td><td>60</td><td>19</td><td>10</td><td>788</td><td>true</td><td>18</td><td>2</td><td>18.05</td><td>2</td><td>&quot;S. Peeters&quot;</td><td>&quot;KAS Eupen&quot;</td><td>2</td><td>9</td><td>35</td><td>15.68</td><td>603</td><td>1</td><td>11595</td><td>943</td><td>26</td><td>2</td><td>25.5</td><td>0</td><td>140</td><td>1</td><td>1</td><td>0</td><td>11</td><td>28.66</td><td>&quot;AM&quot;</td><td>253</td><td>5369</td><td>50.25</td><td>1</td><td>12.98</td><td>8</td><td>1</td><td>&quot;2021-07-25&quot;</td><td>8</td><td>0</td><td>142</td><td>16</td><td>0</td><td>334</td><td>12</td><td>13</td><td>8</td><td>4902</td><td>2</td><td>3737</td><td>2</td><td>320</td><td>36</td><td>112</td><td>26</td></tr></tbody></table></div>"
      ],
      "text/plain": [
       "shape: (5, 117)\n",
       "┌─────┬─────┬─────┬─────┬─────┬─────┬─────┬─────┬─────┬─────┬─────┬─────┬─────┬─────┬─────┬─────┬─────┬─────┬─────┬─────┬─────┬─────┬─────┬─────┬─────┬─────┬─────┬─────┬─────┬─────┬─────┬─────┬─────┬─────┬─────┬─────┬─────┬─────┬─────┬─────┬─────┬─────┬─────┬─────┬─────┬─────┬─────┬─────┬─────┬─────┬─────┬─────┬─────┬─────┬─────┬─────┬─────┬─────┬─────┬─────┬─────┬─────┬─────┬─────┬─────┬─────┬─────┬─────┬─────┬─────┬─────┬─────┬─────┬─────┬─────┬─────┬─────┬─────┬─────┬─────┬─────┬─────┬─────┬─────┬─────┬─────┬─────┬─────┬─────┬─────┬─────┬─────┬─────┬─────┬─────┬─────┬─────┬─────┬─────┬─────┬─────┬─────┬─────┬─────┬─────┬─────┬─────┬─────┬─────┬─────┬─────┬─────┬─────┬─────┬─────┬─────┬─────┐\n",
       "│ Min ┆ Cou ┆ Cou ┆ Dis ┆ Dis ┆ Cou ┆ Spr ┆ pla ┆ mat ┆ Cou ┆ Cou ┆ Cou ┆ Cou ┆ Spr ┆ Cou ┆ Min ┆ Cou ┆ Cou ┆ Spr ┆ Spr ┆ Cou ┆ Dis ┆ HSR ┆ Run ┆ Min ┆ Cou ┆ mat ┆ Dis ┆ Cou ┆ Cou ┆ Cou ┆ Cou ┆ Spr ┆ Cou ┆ Cou ┆ HSR ┆ Cou ┆ com ┆ Cou ┆ Cou ┆ Spr ┆ Cou ┆ HSR ┆ Cou ┆ Spr ┆ Cou ┆ Min ┆ Cou ┆ Run ┆ Run ┆ HSR ┆ Cou ┆ Cou ┆ Run ┆ tea ┆ Cou ┆ sea ┆ gro ┆ Dis ┆ pla ┆ Dis ┆ Cou ┆ Spr ┆ HSR ┆ Cou ┆ Run ┆ qua ┆ Cou ┆ Cou ┆ Min ┆ Cou ┆ sho ┆ tea ┆ Cou ┆ Cou ┆ Cou ┆ Min ┆ Run ┆ Cou ┆ pla ┆ Run ┆ Cou ┆ Cou ┆ PSV ┆ Cou ┆ HSR ┆ Cou ┆ Cou ┆ Cou ┆ Cou ┆ Min ┆ pos ┆ HSR ┆ Dis ┆ Min ┆ Cou ┆ Min ┆ Cou ┆ Cou ┆ dat ┆ Cou ┆ Cou ┆ Run ┆ com ┆ Cou ┆ HSR ┆ Cou ┆ Cou ┆ sea ┆ Dis ┆ Cou ┆ Dis ┆ Cou ┆ Run ┆ Spr ┆ HSR ┆ tea │\n",
       "│ ute ┆ nt  ┆ nt  ┆ tan ┆ tan ┆ nt  ┆ int ┆ yer ┆ ch_ ┆ nt  ┆ nt  ┆ nt  ┆ nt  ┆ int ┆ nt  ┆ ute ┆ nt  ┆ nt  ┆ int ┆ int ┆ nt  ┆ tan ┆ Dis ┆ nin ┆ ute ┆ nt  ┆ ch_ ┆ tan ┆ nt  ┆ nt  ┆ nt  ┆ nt  ┆ int ┆ nt  ┆ nt  ┆ Dis ┆ nt  ┆ pet ┆ nt  ┆ nt  ┆ int ┆ nt  ┆ Dis ┆ nt  ┆ int ┆ nt  ┆ ute ┆ nt  ┆ nin ┆ nin ┆ Dis ┆ nt  ┆ nt  ┆ nin ┆ m_n ┆ nt  ┆ son ┆ up  ┆ tan ┆ yer ┆ tan ┆ nt  ┆ int ┆ Dis ┆ nt  ┆ nin ┆ lit ┆ nt  ┆ nt  ┆ ute ┆ nt  ┆ rt_ ┆ m   ┆ nt  ┆ nt  ┆ nt  ┆ ute ┆ nin ┆ nt  ┆ yer ┆ nin ┆ nt  ┆ nt  ┆ -99 ┆ nt  ┆ Dis ┆ nt  ┆ nt  ┆ nt  ┆ nt  ┆ ute ┆ iti ┆ Dis ┆ tan ┆ ute ┆ nt  ┆ ute ┆ nt  ┆ nt  ┆ e   ┆ nt  ┆ nt  ┆ nin ┆ pet ┆ nt  ┆ Dis ┆ nt  ┆ nt  ┆ son ┆ tan ┆ nt  ┆ tan ┆ nt  ┆ nin ┆ int ┆ Dis ┆ m_i │\n",
       "│ s   ┆ Spr ┆ Med ┆ ce  ┆ ce  ┆ Spr ┆ ing ┆ _bi ┆ nam ┆ HSR ┆ HSR ┆ Hig ┆ Med ┆ ing ┆ Hig ┆ s   ┆ HSR ┆ Hig ┆ ing ┆ ing ┆ Med ┆ ce  ┆ tan ┆ g   ┆ s 2 ┆ Med ┆ id  ┆ ce  ┆ Med ┆ Med ┆ Med ┆ Hig ┆ ing ┆ HSR ┆ Hig ┆ tan ┆ Med ┆ iti ┆ Spr ┆ Med ┆ ing ┆ Med ┆ tan ┆ Hig ┆ ing ┆ Med ┆ s   ┆ Med ┆ g   ┆ g   ┆ tan ┆ Hig ┆ Spr ┆ g   ┆ ame ┆ Med ┆ _na ┆ --- ┆ ce  ┆ _na ┆ ce  ┆ Med ┆ ing ┆ tan ┆ Med ┆ g   ┆ y_c ┆ Med ┆ Spr ┆ s   ┆ Spr ┆ nam ┆ --- ┆ Hig ┆ HSR ┆ HSR ┆ s   ┆ g   ┆ Hig ┆ _id ┆ g   ┆ Med ┆ Hig ┆ --- ┆ Hig ┆ tan ┆ Hig ┆ Spr ┆ Hig ┆ Med ┆ s   ┆ on  ┆ tan ┆ ce  ┆ s 1 ┆ Spr ┆ s   ┆ HSR ┆ Hig ┆ --- ┆ Hig ┆ Hig ┆ g   ┆ iti ┆ Spr ┆ tan ┆ HSR ┆ HSR ┆ _id ┆ ce  ┆ Hig ┆ ce  ┆ Hig ┆ g   ┆ ing ┆ tan ┆ d   │\n",
       "│ --- ┆ int ┆ ium ┆ --- ┆ 1   ┆ int ┆ Dis ┆ rth ┆ e   ┆ 1   ┆ TIP ┆ h   ┆ ium ┆ Dis ┆ h   ┆ OTI ┆ TIP ┆ h   ┆ Dis ┆ Dis ┆ ium ┆ TIP ┆ ce  ┆ Dis ┆ --- ┆ ium ┆ --- ┆ OTI ┆ ium ┆ ium ┆ ium ┆ h   ┆ Dis ┆ OTI ┆ h   ┆ ce  ┆ ium ┆ on_ ┆ int ┆ ium ┆ Dis ┆ ium ┆ ce  ┆ h   ┆ Dis ┆ ium ┆ OTI ┆ ium ┆ Dis ┆ Dis ┆ ce  ┆ h   ┆ int ┆ Dis ┆ --- ┆ ium ┆ me  ┆ str ┆ OTI ┆ me  ┆ TIP ┆ ium ┆ Dis ┆ ce  ┆ ium ┆ Dis ┆ hec ┆ ium ┆ int ┆ OTI ┆ int ┆ e   ┆ str ┆ h   ┆ OTI ┆ --- ┆ TIP ┆ Dis ┆ h   ┆ --- ┆ Dis ┆ ium ┆ h   ┆ f64 ┆ h   ┆ ce  ┆ h   ┆ int ┆ h   ┆ ium ┆ TIP ┆ --- ┆ ce  ┆ 2   ┆ --- ┆ int ┆ TIP ┆ OTI ┆ h   ┆ str ┆ h   ┆ h   ┆ Dis ┆ on_ ┆ int ┆ ce  ┆ 2   ┆ TIP ┆ --- ┆ OTI ┆ h   ┆ TIP ┆ h   ┆ Dis ┆ Dis ┆ ce  ┆ --- │\n",
       "│ f64 ┆ OTI ┆ Acc ┆ i64 ┆ --- ┆ 1   ┆ tan ┆ dat ┆ --- ┆ --- ┆ --- ┆ Dec ┆ Dec ┆ tan ┆ Dec ┆ P 2 ┆ 2   ┆ Dec ┆ tan ┆ tan ┆ Acc ┆ 1   ┆ TIP ┆ tan ┆ f64 ┆ Dec ┆ i64 ┆ P 1 ┆ Acc ┆ Dec ┆ Acc ┆ Acc ┆ tan ┆ P   ┆ Acc ┆ OTI ┆ Acc ┆ edi ┆ --- ┆ Acc ┆ tan ┆ Acc ┆ OTI ┆ Acc ┆ tan ┆ Dec ┆ P   ┆ Dec ┆ tan ┆ tan ┆ 2   ┆ Acc ┆ TIP ┆ tan ┆ str ┆ Dec ┆ --- ┆     ┆ P 2 ┆ --- ┆ 2   ┆ Dec ┆ tan ┆ TIP ┆ Dec ┆ tan ┆ k   ┆ Dec ┆ OTI ┆ P 1 ┆ TIP ┆ --- ┆     ┆ Acc ┆ P 1 ┆ i64 ┆ 1   ┆ tan ┆ Dec ┆ i64 ┆ tan ┆ Acc ┆ Acc ┆     ┆ Acc ┆ TIP ┆ Acc ┆ OTI ┆ Acc ┆ Acc ┆ --- ┆ str ┆ 1   ┆ --- ┆ f64 ┆ 2   ┆ 2   ┆ P 2 ┆ Dec ┆     ┆ Dec ┆ Dec ┆ tan ┆ id  ┆ TIP ┆ --- ┆ --- ┆ 1   ┆ i64 ┆ P   ┆ Dec ┆ --- ┆ Dec ┆ tan ┆ tan ┆ OTI ┆ i64 │\n",
       "│     ┆ P 2 ┆ ele ┆     ┆ i64 ┆ --- ┆ ce  ┆ e   ┆ str ┆ i64 ┆ i64 ┆ ele ┆ ele ┆ ce  ┆ ele ┆ --- ┆ --- ┆ ele ┆ ce  ┆ ce  ┆ ele ┆ --- ┆ --- ┆ ce  ┆     ┆ ele ┆     ┆ --- ┆ ele ┆ ele ┆ ele ┆ ele ┆ ce  ┆ --- ┆ ele ┆ P 2 ┆ ele ┆ tio ┆ i64 ┆ ele ┆ ce  ┆ ele ┆ P   ┆ ele ┆ ce  ┆ ele ┆ --- ┆ ele ┆ ce  ┆ ce  ┆ --- ┆ ele ┆ --- ┆ ce  ┆     ┆ ele ┆ str ┆     ┆ --- ┆ str ┆ --- ┆ ele ┆ ce  ┆ 2   ┆ ele ┆ ce  ┆ --- ┆ ele ┆ P   ┆ --- ┆ 1   ┆ str ┆     ┆ ele ┆ --- ┆     ┆ --- ┆ ce  ┆ ele ┆     ┆ ce  ┆ ele ┆ ele ┆     ┆ ele ┆ 1   ┆ ele ┆ P 1 ┆ ele ┆ ele ┆ f64 ┆     ┆ --- ┆ i64 ┆     ┆ --- ┆ --- ┆ --- ┆ ele ┆     ┆ ele ┆ ele ┆ ce  ┆ --- ┆ 2   ┆ i64 ┆ i64 ┆ --- ┆     ┆ --- ┆ ele ┆ i64 ┆ ele ┆ ce  ┆ ce  ┆ P 1 ┆     │\n",
       "│     ┆ --- ┆ rat ┆     ┆     ┆ i64 ┆ TIP ┆ --- ┆     ┆     ┆     ┆ rat ┆ rat ┆ 1   ┆ rat ┆ f64 ┆ i64 ┆ rat ┆ OTI ┆ 2   ┆ rat ┆ i64 ┆ i64 ┆ TIP ┆     ┆ rat ┆     ┆ i64 ┆ rat ┆ rat ┆ rat ┆ rat ┆ TIP ┆ i64 ┆ rat ┆ --- ┆ rat ┆ n_i ┆     ┆ rat ┆ OTI ┆ rat ┆ --- ┆ rat ┆ OTI ┆ rat ┆ f64 ┆ rat ┆ --- ┆ 2   ┆ i64 ┆ rat ┆ i64 ┆ OTI ┆     ┆ rat ┆     ┆     ┆ i64 ┆     ┆ i64 ┆ rat ┆ --- ┆ --- ┆ rat ┆ OTI ┆ boo ┆ rat ┆ --- ┆ f64 ┆ --- ┆     ┆     ┆ rat ┆ i64 ┆     ┆ f64 ┆ TIP ┆ rat ┆     ┆ 1   ┆ rat ┆ rat ┆     ┆ rat ┆ --- ┆ rat ┆ --- ┆ rat ┆ rat ┆     ┆     ┆ i64 ┆     ┆     ┆ i64 ┆ f64 ┆ i64 ┆ rat ┆     ┆ rat ┆ rat ┆ TIP ┆ i64 ┆ --- ┆     ┆     ┆ i64 ┆     ┆ i64 ┆ rat ┆     ┆ rat ┆ OTI ┆ TIP ┆ --- ┆     │\n",
       "│     ┆ i64 ┆ ion ┆     ┆     ┆     ┆ 1   ┆ str ┆     ┆     ┆     ┆ ion ┆ ion ┆ --- ┆ ion ┆     ┆     ┆ ion ┆ P 1 ┆ --- ┆ ion ┆     ┆     ┆ 1   ┆     ┆ ion ┆     ┆     ┆ ion ┆ ion ┆ ion ┆ ion ┆ 2   ┆     ┆ ion ┆ i64 ┆ ion ┆ d   ┆     ┆ ion ┆ P   ┆ ion ┆ i64 ┆ ion ┆ P 2 ┆ ion ┆     ┆ ion ┆ i64 ┆ --- ┆     ┆ ion ┆     ┆ P 1 ┆     ┆ ion ┆     ┆     ┆     ┆     ┆     ┆ ion ┆ i64 ┆ i64 ┆ ion ┆ P   ┆ l   ┆ ion ┆ i64 ┆     ┆ i64 ┆     ┆     ┆ ion ┆     ┆     ┆     ┆ --- ┆ ion ┆     ┆ --- ┆ ion ┆ ion ┆     ┆ ion ┆ i64 ┆ ion ┆ i64 ┆ ion ┆ ion ┆     ┆     ┆     ┆     ┆     ┆     ┆     ┆     ┆ ion ┆     ┆ ion ┆ ion ┆ 2   ┆     ┆ i64 ┆     ┆     ┆     ┆     ┆     ┆ ion ┆     ┆ ion ┆ P 2 ┆ --- ┆ i64 ┆     │\n",
       "│     ┆     ┆ OTI ┆     ┆     ┆     ┆ --- ┆     ┆     ┆     ┆     ┆ TIP ┆ --- ┆ i64 ┆ 1   ┆     ┆     ┆ OTI ┆ --- ┆ i64 ┆ 1   ┆     ┆     ┆ --- ┆     ┆ TIP ┆     ┆     ┆ 2   ┆ 1   ┆ TIP ┆ OTI ┆ --- ┆     ┆ OTI ┆     ┆ OTI ┆ --- ┆     ┆ --- ┆ --- ┆ TIP ┆     ┆ TIP ┆ --- ┆ OTI ┆     ┆ 2   ┆     ┆ i64 ┆     ┆ OTI ┆     ┆ --- ┆     ┆ OTI ┆     ┆     ┆     ┆     ┆     ┆ TIP ┆     ┆     ┆ TIP ┆ --- ┆     ┆ OTI ┆     ┆     ┆     ┆     ┆     ┆ 1   ┆     ┆     ┆     ┆ i64 ┆ OTI ┆     ┆ i64 ┆ OTI ┆ --- ┆     ┆ 2   ┆     ┆ TIP ┆     ┆ TIP ┆ TIP ┆     ┆     ┆     ┆     ┆     ┆     ┆     ┆     ┆ TIP ┆     ┆ --- ┆ TIP ┆ --- ┆     ┆     ┆     ┆     ┆     ┆     ┆     ┆ OTI ┆     ┆ 2   ┆ --- ┆ i64 ┆     ┆     │\n",
       "│     ┆     ┆ P   ┆     ┆     ┆     ┆ i64 ┆     ┆     ┆     ┆     ┆ --- ┆ i64 ┆     ┆ --- ┆     ┆     ┆ P   ┆ i64 ┆     ┆ --- ┆     ┆     ┆ i64 ┆     ┆ …   ┆     ┆     ┆ --- ┆ --- ┆ --- ┆ P   ┆ i64 ┆     ┆ P 2 ┆     ┆ P…  ┆ i64 ┆     ┆ i64 ┆ i64 ┆ …   ┆     ┆ 1   ┆ i64 ┆ P   ┆     ┆ --- ┆     ┆     ┆     ┆ P 1 ┆     ┆ i64 ┆     ┆ P…  ┆     ┆     ┆     ┆     ┆     ┆ --- ┆     ┆     ┆ …   ┆ i64 ┆     ┆ P…  ┆     ┆     ┆     ┆     ┆     ┆ --- ┆     ┆     ┆     ┆     ┆ P 2 ┆     ┆     ┆ P…  ┆ i64 ┆     ┆ --- ┆     ┆ --- ┆     ┆ 2   ┆ …   ┆     ┆     ┆     ┆     ┆     ┆     ┆     ┆     ┆ 1   ┆     ┆ i64 ┆ 2   ┆ i64 ┆     ┆     ┆     ┆     ┆     ┆     ┆     ┆ P 1 ┆     ┆ --- ┆ i64 ┆     ┆     ┆     │\n",
       "│     ┆     ┆ --- ┆     ┆     ┆     ┆     ┆     ┆     ┆     ┆     ┆ i64 ┆     ┆     ┆ i64 ┆     ┆     ┆ --- ┆     ┆     ┆ i64 ┆     ┆     ┆     ┆     ┆ --- ┆     ┆     ┆ i64 ┆ i64 ┆ i64 ┆ --- ┆     ┆     ┆ --- ┆     ┆ --- ┆     ┆     ┆     ┆     ┆ --- ┆     ┆ --- ┆     ┆ --- ┆     ┆ i64 ┆     ┆     ┆     ┆ --- ┆     ┆     ┆     ┆ --- ┆     ┆     ┆     ┆     ┆     ┆ i64 ┆     ┆     ┆ --- ┆     ┆     ┆ --- ┆     ┆     ┆     ┆     ┆     ┆ i64 ┆     ┆     ┆     ┆     ┆ --- ┆     ┆     ┆ --- ┆     ┆     ┆ i64 ┆     ┆ i64 ┆     ┆ --- ┆ --- ┆     ┆     ┆     ┆     ┆     ┆     ┆     ┆     ┆ --- ┆     ┆     ┆ --- ┆     ┆     ┆     ┆     ┆     ┆     ┆     ┆     ┆ --- ┆     ┆ i64 ┆     ┆     ┆     ┆     │\n",
       "│     ┆     ┆ i64 ┆     ┆     ┆     ┆     ┆     ┆     ┆     ┆     ┆     ┆     ┆     ┆     ┆     ┆     ┆ i64 ┆     ┆     ┆     ┆     ┆     ┆     ┆     ┆ i64 ┆     ┆     ┆     ┆     ┆     ┆ i64 ┆     ┆     ┆ i64 ┆     ┆ i64 ┆     ┆     ┆     ┆     ┆ i64 ┆     ┆ i64 ┆     ┆ i64 ┆     ┆     ┆     ┆     ┆     ┆ i64 ┆     ┆     ┆     ┆ i64 ┆     ┆     ┆     ┆     ┆     ┆     ┆     ┆     ┆ i64 ┆     ┆     ┆ i64 ┆     ┆     ┆     ┆     ┆     ┆     ┆     ┆     ┆     ┆     ┆ i64 ┆     ┆     ┆ i64 ┆     ┆     ┆     ┆     ┆     ┆     ┆ i64 ┆ i64 ┆     ┆     ┆     ┆     ┆     ┆     ┆     ┆     ┆ i64 ┆     ┆     ┆ i64 ┆     ┆     ┆     ┆     ┆     ┆     ┆     ┆     ┆ i64 ┆     ┆     ┆     ┆     ┆     ┆     │\n",
       "╞═════╪═════╪═════╪═════╪═════╪═════╪═════╪═════╪═════╪═════╪═════╪═════╪═════╪═════╪═════╪═════╪═════╪═════╪═════╪═════╪═════╪═════╪═════╪═════╪═════╪═════╪═════╪═════╪═════╪═════╪═════╪═════╪═════╪═════╪═════╪═════╪═════╪═════╪═════╪═════╪═════╪═════╪═════╪═════╪═════╪═════╪═════╪═════╪═════╪═════╪═════╪═════╪═════╪═════╪═════╪═════╪═════╪═════╪═════╪═════╪═════╪═════╪═════╪═════╪═════╪═════╪═════╪═════╪═════╪═════╪═════╪═════╪═════╪═════╪═════╪═════╪═════╪═════╪═════╪═════╪═════╪═════╪═════╪═════╪═════╪═════╪═════╪═════╪═════╪═════╪═════╪═════╪═════╪═════╪═════╪═════╪═════╪═════╪═════╪═════╪═════╪═════╪═════╪═════╪═════╪═════╪═════╪═════╪═════╪═════╪═════╪═════╪═════╪═════╪═════╪═════╪═════╡\n",
       "│ 96. ┆ 1   ┆ 47  ┆ 130 ┆ 681 ┆ 3   ┆ 11  ┆ 199 ┆ KV  ┆ 33  ┆ 19  ┆ 3   ┆ 89  ┆ 92  ┆ 8   ┆ 17. ┆ 6   ┆ 4   ┆ 27  ┆ 56  ┆ 52  ┆ 187 ┆ 260 ┆ 369 ┆ 49. ┆ 8   ┆ 449 ┆ 298 ┆ 48  ┆ 42  ┆ 22  ┆ 0   ┆ 19  ┆ 34  ┆ 0   ┆ 218 ┆ 24  ┆ 249 ┆ 5   ┆ 100 ┆ 45  ┆ 12  ┆ 443 ┆ 0   ┆ 18  ┆ 34  ┆ 35. ┆ 47  ┆ 241 ┆ 106 ┆ 358 ┆ 0   ┆ 2   ┆ 842 ┆ Roy ┆ 17  ┆ 202 ┆ Mid ┆ 274 ┆ Pie ┆ 155 ┆ 17  ┆ 148 ┆ 121 ┆ 9   ┆ 150 ┆ tru ┆ 17  ┆ 2   ┆ 18. ┆ 1   ┆ P.  ┆ Roy ┆ 3   ┆ 17  ┆ 59  ┆ 13. ┆ 661 ┆ 1   ┆ 870 ┆ 135 ┆ 23  ┆ 4   ┆ 25. ┆ 1   ┆ 139 ┆ 0   ┆ 1   ┆ 0   ┆ 10  ┆ 24. ┆ AM  ┆ 387 ┆ 621 ┆ 47. ┆ 2   ┆ 11. ┆ 17  ┆ 2   ┆ 202 ┆ 11  ┆ 1   ┆ 292 ┆ 16  ┆ 1   ┆ 745 ┆ 26  ┆ 13  ┆ 8   ┆ 572 ┆ 3   ┆ 343 ┆ 3   ┆ 662 ┆ 30  ┆ 225 ┆ 462 │\n",
       "│ 63  ┆     ┆     ┆ 26  ┆ 0   ┆     ┆     ┆ 5-0 ┆ Mec ┆     ┆     ┆     ┆     ┆     ┆     ┆ 3   ┆     ┆     ┆     ┆     ┆     ┆ 4   ┆     ┆     ┆ 48  ┆     ┆ 99  ┆ 3   ┆     ┆     ┆     ┆     ┆     ┆     ┆     ┆     ┆     ┆     ┆     ┆     ┆     ┆     ┆     ┆     ┆     ┆     ┆ 57  ┆     ┆ 5   ┆ 1   ┆     ┆     ┆     ┆     ┆ al  ┆     ┆ 1/2 ┆ fie ┆ 4   ┆ ter ┆ 8   ┆     ┆     ┆     ┆     ┆ 4   ┆ e   ┆     ┆     ┆ 27  ┆     ┆ Ger ┆ al  ┆     ┆     ┆     ┆ 13  ┆     ┆     ┆ 1   ┆ 4   ┆     ┆     ┆ 7   ┆     ┆     ┆     ┆     ┆     ┆     ┆ 21  ┆     ┆     ┆ 6   ┆ 15  ┆     ┆ 08  ┆     ┆     ┆ 1-0 ┆     ┆     ┆     ┆     ┆     ┆     ┆     ┆     ┆     ┆ 7   ┆     ┆ 2   ┆     ┆     ┆     ┆     ┆     │\n",
       "│     ┆     ┆     ┆     ┆     ┆     ┆     ┆ 2-1 ┆ hel ┆     ┆     ┆     ┆     ┆     ┆     ┆     ┆     ┆     ┆     ┆     ┆     ┆     ┆     ┆     ┆     ┆     ┆     ┆     ┆     ┆     ┆     ┆     ┆     ┆     ┆     ┆     ┆     ┆     ┆     ┆     ┆     ┆     ┆     ┆     ┆     ┆     ┆     ┆     ┆     ┆     ┆     ┆     ┆     ┆     ┆ Ant ┆     ┆ 022 ┆ ld  ┆     ┆ Ger ┆     ┆     ┆     ┆     ┆     ┆     ┆     ┆     ┆     ┆     ┆     ┆ ken ┆ Ant ┆     ┆     ┆     ┆     ┆     ┆     ┆     ┆     ┆     ┆     ┆     ┆     ┆     ┆     ┆     ┆     ┆     ┆     ┆     ┆     ┆     ┆     ┆     ┆     ┆     ┆     ┆ 7-2 ┆     ┆     ┆     ┆     ┆     ┆     ┆     ┆     ┆     ┆     ┆     ┆     ┆     ┆     ┆     ┆     ┆     │\n",
       "│     ┆     ┆     ┆     ┆     ┆     ┆     ┆ 7   ┆ en  ┆     ┆     ┆     ┆     ┆     ┆     ┆     ┆     ┆     ┆     ┆     ┆     ┆     ┆     ┆     ┆     ┆     ┆     ┆     ┆     ┆     ┆     ┆     ┆     ┆     ┆     ┆     ┆     ┆     ┆     ┆     ┆     ┆     ┆     ┆     ┆     ┆     ┆     ┆     ┆     ┆     ┆     ┆     ┆     ┆     ┆ wer ┆     ┆     ┆     ┆     ┆ ken ┆     ┆     ┆     ┆     ┆     ┆     ┆     ┆     ┆     ┆     ┆     ┆ s   ┆ wer ┆     ┆     ┆     ┆     ┆     ┆     ┆     ┆     ┆     ┆     ┆     ┆     ┆     ┆     ┆     ┆     ┆     ┆     ┆     ┆     ┆     ┆     ┆     ┆     ┆     ┆     ┆ 5   ┆     ┆     ┆     ┆     ┆     ┆     ┆     ┆     ┆     ┆     ┆     ┆     ┆     ┆     ┆     ┆     ┆     │\n",
       "│     ┆     ┆     ┆     ┆     ┆     ┆     ┆     ┆ v   ┆     ┆     ┆     ┆     ┆     ┆     ┆     ┆     ┆     ┆     ┆     ┆     ┆     ┆     ┆     ┆     ┆     ┆     ┆     ┆     ┆     ┆     ┆     ┆     ┆     ┆     ┆     ┆     ┆     ┆     ┆     ┆     ┆     ┆     ┆     ┆     ┆     ┆     ┆     ┆     ┆     ┆     ┆     ┆     ┆     ┆ p   ┆     ┆     ┆     ┆     ┆ s   ┆     ┆     ┆     ┆     ┆     ┆     ┆     ┆     ┆     ┆     ┆     ┆     ┆ p   ┆     ┆     ┆     ┆     ┆     ┆     ┆     ┆     ┆     ┆     ┆     ┆     ┆     ┆     ┆     ┆     ┆     ┆     ┆     ┆     ┆     ┆     ┆     ┆     ┆     ┆     ┆     ┆     ┆     ┆     ┆     ┆     ┆     ┆     ┆     ┆     ┆     ┆     ┆     ┆     ┆     ┆     ┆     ┆     │\n",
       "│     ┆     ┆     ┆     ┆     ┆     ┆     ┆     ┆ Roy ┆     ┆     ┆     ┆     ┆     ┆     ┆     ┆     ┆     ┆     ┆     ┆     ┆     ┆     ┆     ┆     ┆     ┆     ┆     ┆     ┆     ┆     ┆     ┆     ┆     ┆     ┆     ┆     ┆     ┆     ┆     ┆     ┆     ┆     ┆     ┆     ┆     ┆     ┆     ┆     ┆     ┆     ┆     ┆     ┆     ┆ FC  ┆     ┆     ┆     ┆     ┆     ┆     ┆     ┆     ┆     ┆     ┆     ┆     ┆     ┆     ┆     ┆     ┆     ┆ FC  ┆     ┆     ┆     ┆     ┆     ┆     ┆     ┆     ┆     ┆     ┆     ┆     ┆     ┆     ┆     ┆     ┆     ┆     ┆     ┆     ┆     ┆     ┆     ┆     ┆     ┆     ┆     ┆     ┆     ┆     ┆     ┆     ┆     ┆     ┆     ┆     ┆     ┆     ┆     ┆     ┆     ┆     ┆     ┆     │\n",
       "│     ┆     ┆     ┆     ┆     ┆     ┆     ┆     ┆ al  ┆     ┆     ┆     ┆     ┆     ┆     ┆     ┆     ┆     ┆     ┆     ┆     ┆     ┆     ┆     ┆     ┆     ┆     ┆     ┆     ┆     ┆     ┆     ┆     ┆     ┆     ┆     ┆     ┆     ┆     ┆     ┆     ┆     ┆     ┆     ┆     ┆     ┆     ┆     ┆     ┆     ┆     ┆     ┆     ┆     ┆     ┆     ┆     ┆     ┆     ┆     ┆     ┆     ┆     ┆     ┆     ┆     ┆     ┆     ┆     ┆     ┆     ┆     ┆     ┆     ┆     ┆     ┆     ┆     ┆     ┆     ┆     ┆     ┆     ┆     ┆     ┆     ┆     ┆     ┆     ┆     ┆     ┆     ┆     ┆     ┆     ┆     ┆     ┆     ┆     ┆     ┆     ┆     ┆     ┆     ┆     ┆     ┆     ┆     ┆     ┆     ┆     ┆     ┆     ┆     ┆     ┆     ┆     │\n",
       "│     ┆     ┆     ┆     ┆     ┆     ┆     ┆     ┆ Ant ┆     ┆     ┆     ┆     ┆     ┆     ┆     ┆     ┆     ┆     ┆     ┆     ┆     ┆     ┆     ┆     ┆     ┆     ┆     ┆     ┆     ┆     ┆     ┆     ┆     ┆     ┆     ┆     ┆     ┆     ┆     ┆     ┆     ┆     ┆     ┆     ┆     ┆     ┆     ┆     ┆     ┆     ┆     ┆     ┆     ┆     ┆     ┆     ┆     ┆     ┆     ┆     ┆     ┆     ┆     ┆     ┆     ┆     ┆     ┆     ┆     ┆     ┆     ┆     ┆     ┆     ┆     ┆     ┆     ┆     ┆     ┆     ┆     ┆     ┆     ┆     ┆     ┆     ┆     ┆     ┆     ┆     ┆     ┆     ┆     ┆     ┆     ┆     ┆     ┆     ┆     ┆     ┆     ┆     ┆     ┆     ┆     ┆     ┆     ┆     ┆     ┆     ┆     ┆     ┆     ┆     ┆     ┆     │\n",
       "│     ┆     ┆     ┆     ┆     ┆     ┆     ┆     ┆ wer ┆     ┆     ┆     ┆     ┆     ┆     ┆     ┆     ┆     ┆     ┆     ┆     ┆     ┆     ┆     ┆     ┆     ┆     ┆     ┆     ┆     ┆     ┆     ┆     ┆     ┆     ┆     ┆     ┆     ┆     ┆     ┆     ┆     ┆     ┆     ┆     ┆     ┆     ┆     ┆     ┆     ┆     ┆     ┆     ┆     ┆     ┆     ┆     ┆     ┆     ┆     ┆     ┆     ┆     ┆     ┆     ┆     ┆     ┆     ┆     ┆     ┆     ┆     ┆     ┆     ┆     ┆     ┆     ┆     ┆     ┆     ┆     ┆     ┆     ┆     ┆     ┆     ┆     ┆     ┆     ┆     ┆     ┆     ┆     ┆     ┆     ┆     ┆     ┆     ┆     ┆     ┆     ┆     ┆     ┆     ┆     ┆     ┆     ┆     ┆     ┆     ┆     ┆     ┆     ┆     ┆     ┆     ┆     │\n",
       "│     ┆     ┆     ┆     ┆     ┆     ┆     ┆     ┆ p   ┆     ┆     ┆     ┆     ┆     ┆     ┆     ┆     ┆     ┆     ┆     ┆     ┆     ┆     ┆     ┆     ┆     ┆     ┆     ┆     ┆     ┆     ┆     ┆     ┆     ┆     ┆     ┆     ┆     ┆     ┆     ┆     ┆     ┆     ┆     ┆     ┆     ┆     ┆     ┆     ┆     ┆     ┆     ┆     ┆     ┆     ┆     ┆     ┆     ┆     ┆     ┆     ┆     ┆     ┆     ┆     ┆     ┆     ┆     ┆     ┆     ┆     ┆     ┆     ┆     ┆     ┆     ┆     ┆     ┆     ┆     ┆     ┆     ┆     ┆     ┆     ┆     ┆     ┆     ┆     ┆     ┆     ┆     ┆     ┆     ┆     ┆     ┆     ┆     ┆     ┆     ┆     ┆     ┆     ┆     ┆     ┆     ┆     ┆     ┆     ┆     ┆     ┆     ┆     ┆     ┆     ┆     ┆     │\n",
       "│     ┆     ┆     ┆     ┆     ┆     ┆     ┆     ┆ FC  ┆     ┆     ┆     ┆     ┆     ┆     ┆     ┆     ┆     ┆     ┆     ┆     ┆     ┆     ┆     ┆     ┆     ┆     ┆     ┆     ┆     ┆     ┆     ┆     ┆     ┆     ┆     ┆     ┆     ┆     ┆     ┆     ┆     ┆     ┆     ┆     ┆     ┆     ┆     ┆     ┆     ┆     ┆     ┆     ┆     ┆     ┆     ┆     ┆     ┆     ┆     ┆     ┆     ┆     ┆     ┆     ┆     ┆     ┆     ┆     ┆     ┆     ┆     ┆     ┆     ┆     ┆     ┆     ┆     ┆     ┆     ┆     ┆     ┆     ┆     ┆     ┆     ┆     ┆     ┆     ┆     ┆     ┆     ┆     ┆     ┆     ┆     ┆     ┆     ┆     ┆     ┆     ┆     ┆     ┆     ┆     ┆     ┆     ┆     ┆     ┆     ┆     ┆     ┆     ┆     ┆     ┆     ┆     │\n",
       "│ 96. ┆ 0   ┆ 32  ┆ 996 ┆ 484 ┆ 3   ┆ 17  ┆ 198 ┆ Oud ┆ 20  ┆ 20  ┆ 2   ┆ 77  ┆ 48  ┆ 5   ┆ 15. ┆ 11  ┆ 1   ┆ 24  ┆ 154 ┆ 36  ┆ 166 ┆ 265 ┆ 267 ┆ 50. ┆ 9   ┆ 450 ┆ 179 ┆ 41  ┆ 31  ┆ 25  ┆ 1   ┆ 119 ┆ 17  ┆ 1   ┆ 63  ┆ 15  ┆ 249 ┆ 8   ┆ 77  ┆ 24  ┆ 11  ┆ 167 ┆ 1   ┆ 0   ┆ 25  ┆ 29. ┆ 46  ┆ 110 ┆ 612 ┆ 275 ┆ 0   ┆ 4   ┆ 178 ┆ Oud ┆ 14  ┆ 202 ┆ Mid ┆ 173 ┆ Xav ┆ 177 ┆ 20  ┆ 202 ┆ 184 ┆ 11  ┆ 402 ┆ tru ┆ 11  ┆ 1   ┆ 14. ┆ 1   ┆ X.  ┆ Oud ┆ 3   ┆ 10  ┆ 39  ┆ 13. ┆ 610 ┆ 0   ┆ 109 ┆ 489 ┆ 17  ┆ 5   ┆ 28. ┆ 2   ┆ 81  ┆ 2   ┆ 1   ┆ 1   ┆ 14  ┆ 25. ┆ AM  ┆ 201 ┆ 512 ┆ 46. ┆ 5   ┆ 12. ┆ 7   ┆ 1   ┆ 202 ┆ 8   ┆ 1   ┆ 343 ┆ 16  ┆ 3   ┆ 476 ┆ 19  ┆ 9   ┆ 8   ┆ 353 ┆ 1   ┆ 343 ┆ 3   ┆ 224 ┆ 136 ┆ 104 ┆ 27  │\n",
       "│ 19  ┆     ┆     ┆ 9   ┆ 2   ┆     ┆     ┆ 9-0 ┆ -He ┆     ┆     ┆     ┆     ┆     ┆     ┆ 07  ┆     ┆     ┆     ┆     ┆     ┆ 0   ┆     ┆     ┆ 07  ┆     ┆ 02  ┆ 5   ┆     ┆     ┆     ┆     ┆     ┆     ┆     ┆     ┆     ┆     ┆     ┆     ┆     ┆     ┆     ┆     ┆     ┆     ┆ 59  ┆     ┆ 1   ┆     ┆     ┆     ┆     ┆     ┆ -He ┆     ┆ 1/2 ┆ fie ┆ 9   ┆ ier ┆ 5   ┆     ┆     ┆     ┆     ┆     ┆ e   ┆     ┆     ┆ 52  ┆     ┆ Mer ┆ -He ┆     ┆     ┆     ┆ 2   ┆     ┆     ┆ 32  ┆     ┆     ┆     ┆ 3   ┆     ┆     ┆     ┆     ┆     ┆     ┆ 52  ┆     ┆     ┆ 7   ┆ 12  ┆     ┆ 32  ┆     ┆     ┆ 1-0 ┆     ┆     ┆     ┆     ┆     ┆     ┆     ┆     ┆     ┆ 4   ┆     ┆ 5   ┆     ┆     ┆     ┆     ┆     │\n",
       "│     ┆     ┆     ┆     ┆     ┆     ┆     ┆ 7-2 ┆ ver ┆     ┆     ┆     ┆     ┆     ┆     ┆     ┆     ┆     ┆     ┆     ┆     ┆     ┆     ┆     ┆     ┆     ┆     ┆     ┆     ┆     ┆     ┆     ┆     ┆     ┆     ┆     ┆     ┆     ┆     ┆     ┆     ┆     ┆     ┆     ┆     ┆     ┆     ┆     ┆     ┆     ┆     ┆     ┆     ┆     ┆ ver ┆     ┆ 022 ┆ ld  ┆     ┆ Mer ┆     ┆     ┆     ┆     ┆     ┆     ┆     ┆     ┆     ┆     ┆     ┆ cie ┆ ver ┆     ┆     ┆     ┆     ┆     ┆     ┆     ┆     ┆     ┆     ┆     ┆     ┆     ┆     ┆     ┆     ┆     ┆     ┆     ┆     ┆     ┆     ┆     ┆     ┆     ┆     ┆ 7-2 ┆     ┆     ┆     ┆     ┆     ┆     ┆     ┆     ┆     ┆     ┆     ┆     ┆     ┆     ┆     ┆     ┆     │\n",
       "│     ┆     ┆     ┆     ┆     ┆     ┆     ┆ 5   ┆ lee ┆     ┆     ┆     ┆     ┆     ┆     ┆     ┆     ┆     ┆     ┆     ┆     ┆     ┆     ┆     ┆     ┆     ┆     ┆     ┆     ┆     ┆     ┆     ┆     ┆     ┆     ┆     ┆     ┆     ┆     ┆     ┆     ┆     ┆     ┆     ┆     ┆     ┆     ┆     ┆     ┆     ┆     ┆     ┆     ┆     ┆ lee ┆     ┆     ┆     ┆     ┆ cie ┆     ┆     ┆     ┆     ┆     ┆     ┆     ┆     ┆     ┆     ┆     ┆ r   ┆ lee ┆     ┆     ┆     ┆     ┆     ┆     ┆     ┆     ┆     ┆     ┆     ┆     ┆     ┆     ┆     ┆     ┆     ┆     ┆     ┆     ┆     ┆     ┆     ┆     ┆     ┆     ┆ 4   ┆     ┆     ┆     ┆     ┆     ┆     ┆     ┆     ┆     ┆     ┆     ┆     ┆     ┆     ┆     ┆     ┆     │\n",
       "│     ┆     ┆     ┆     ┆     ┆     ┆     ┆     ┆ Leu ┆     ┆     ┆     ┆     ┆     ┆     ┆     ┆     ┆     ┆     ┆     ┆     ┆     ┆     ┆     ┆     ┆     ┆     ┆     ┆     ┆     ┆     ┆     ┆     ┆     ┆     ┆     ┆     ┆     ┆     ┆     ┆     ┆     ┆     ┆     ┆     ┆     ┆     ┆     ┆     ┆     ┆     ┆     ┆     ┆     ┆ Leu ┆     ┆     ┆     ┆     ┆ r   ┆     ┆     ┆     ┆     ┆     ┆     ┆     ┆     ┆     ┆     ┆     ┆     ┆ Leu ┆     ┆     ┆     ┆     ┆     ┆     ┆     ┆     ┆     ┆     ┆     ┆     ┆     ┆     ┆     ┆     ┆     ┆     ┆     ┆     ┆     ┆     ┆     ┆     ┆     ┆     ┆     ┆     ┆     ┆     ┆     ┆     ┆     ┆     ┆     ┆     ┆     ┆     ┆     ┆     ┆     ┆     ┆     ┆     │\n",
       "│     ┆     ┆     ┆     ┆     ┆     ┆     ┆     ┆ ven ┆     ┆     ┆     ┆     ┆     ┆     ┆     ┆     ┆     ┆     ┆     ┆     ┆     ┆     ┆     ┆     ┆     ┆     ┆     ┆     ┆     ┆     ┆     ┆     ┆     ┆     ┆     ┆     ┆     ┆     ┆     ┆     ┆     ┆     ┆     ┆     ┆     ┆     ┆     ┆     ┆     ┆     ┆     ┆     ┆     ┆ ven ┆     ┆     ┆     ┆     ┆     ┆     ┆     ┆     ┆     ┆     ┆     ┆     ┆     ┆     ┆     ┆     ┆     ┆ ven ┆     ┆     ┆     ┆     ┆     ┆     ┆     ┆     ┆     ┆     ┆     ┆     ┆     ┆     ┆     ┆     ┆     ┆     ┆     ┆     ┆     ┆     ┆     ┆     ┆     ┆     ┆     ┆     ┆     ┆     ┆     ┆     ┆     ┆     ┆     ┆     ┆     ┆     ┆     ┆     ┆     ┆     ┆     ┆     │\n",
       "│     ┆     ┆     ┆     ┆     ┆     ┆     ┆     ┆ v   ┆     ┆     ┆     ┆     ┆     ┆     ┆     ┆     ┆     ┆     ┆     ┆     ┆     ┆     ┆     ┆     ┆     ┆     ┆     ┆     ┆     ┆     ┆     ┆     ┆     ┆     ┆     ┆     ┆     ┆     ┆     ┆     ┆     ┆     ┆     ┆     ┆     ┆     ┆     ┆     ┆     ┆     ┆     ┆     ┆     ┆     ┆     ┆     ┆     ┆     ┆     ┆     ┆     ┆     ┆     ┆     ┆     ┆     ┆     ┆     ┆     ┆     ┆     ┆     ┆     ┆     ┆     ┆     ┆     ┆     ┆     ┆     ┆     ┆     ┆     ┆     ┆     ┆     ┆     ┆     ┆     ┆     ┆     ┆     ┆     ┆     ┆     ┆     ┆     ┆     ┆     ┆     ┆     ┆     ┆     ┆     ┆     ┆     ┆     ┆     ┆     ┆     ┆     ┆     ┆     ┆     ┆     ┆     │\n",
       "│     ┆     ┆     ┆     ┆     ┆     ┆     ┆     ┆ SV  ┆     ┆     ┆     ┆     ┆     ┆     ┆     ┆     ┆     ┆     ┆     ┆     ┆     ┆     ┆     ┆     ┆     ┆     ┆     ┆     ┆     ┆     ┆     ┆     ┆     ┆     ┆     ┆     ┆     ┆     ┆     ┆     ┆     ┆     ┆     ┆     ┆     ┆     ┆     ┆     ┆     ┆     ┆     ┆     ┆     ┆     ┆     ┆     ┆     ┆     ┆     ┆     ┆     ┆     ┆     ┆     ┆     ┆     ┆     ┆     ┆     ┆     ┆     ┆     ┆     ┆     ┆     ┆     ┆     ┆     ┆     ┆     ┆     ┆     ┆     ┆     ┆     ┆     ┆     ┆     ┆     ┆     ┆     ┆     ┆     ┆     ┆     ┆     ┆     ┆     ┆     ┆     ┆     ┆     ┆     ┆     ┆     ┆     ┆     ┆     ┆     ┆     ┆     ┆     ┆     ┆     ┆     ┆     │\n",
       "│     ┆     ┆     ┆     ┆     ┆     ┆     ┆     ┆ Zul ┆     ┆     ┆     ┆     ┆     ┆     ┆     ┆     ┆     ┆     ┆     ┆     ┆     ┆     ┆     ┆     ┆     ┆     ┆     ┆     ┆     ┆     ┆     ┆     ┆     ┆     ┆     ┆     ┆     ┆     ┆     ┆     ┆     ┆     ┆     ┆     ┆     ┆     ┆     ┆     ┆     ┆     ┆     ┆     ┆     ┆     ┆     ┆     ┆     ┆     ┆     ┆     ┆     ┆     ┆     ┆     ┆     ┆     ┆     ┆     ┆     ┆     ┆     ┆     ┆     ┆     ┆     ┆     ┆     ┆     ┆     ┆     ┆     ┆     ┆     ┆     ┆     ┆     ┆     ┆     ┆     ┆     ┆     ┆     ┆     ┆     ┆     ┆     ┆     ┆     ┆     ┆     ┆     ┆     ┆     ┆     ┆     ┆     ┆     ┆     ┆     ┆     ┆     ┆     ┆     ┆     ┆     ┆     │\n",
       "│     ┆     ┆     ┆     ┆     ┆     ┆     ┆     ┆ te… ┆     ┆     ┆     ┆     ┆     ┆     ┆     ┆     ┆     ┆     ┆     ┆     ┆     ┆     ┆     ┆     ┆     ┆     ┆     ┆     ┆     ┆     ┆     ┆     ┆     ┆     ┆     ┆     ┆     ┆     ┆     ┆     ┆     ┆     ┆     ┆     ┆     ┆     ┆     ┆     ┆     ┆     ┆     ┆     ┆     ┆     ┆     ┆     ┆     ┆     ┆     ┆     ┆     ┆     ┆     ┆     ┆     ┆     ┆     ┆     ┆     ┆     ┆     ┆     ┆     ┆     ┆     ┆     ┆     ┆     ┆     ┆     ┆     ┆     ┆     ┆     ┆     ┆     ┆     ┆     ┆     ┆     ┆     ┆     ┆     ┆     ┆     ┆     ┆     ┆     ┆     ┆     ┆     ┆     ┆     ┆     ┆     ┆     ┆     ┆     ┆     ┆     ┆     ┆     ┆     ┆     ┆     ┆     │\n",
       "│ 71. ┆ 1   ┆ 23  ┆ 870 ┆ 562 ┆ 4   ┆ 26  ┆ 199 ┆ Oud ┆ 21  ┆ 18  ┆ 2   ┆ 82  ┆ 95  ┆ 7   ┆ 6.5 ┆ 5   ┆ 3   ┆ 29  ┆ 10  ┆ 39  ┆ 228 ┆ 222 ┆ 427 ┆ 24. ┆ 22  ┆ 450 ┆ 193 ┆ 25  ┆ 57  ┆ 26  ┆ 2   ┆ 0   ┆ 14  ┆ 1   ┆ 78  ┆ 17  ┆ 249 ┆ 5   ┆ 64  ┆ 36  ┆ 18  ┆ 167 ┆ 0   ┆ 7   ┆ 18  ┆ 19. ┆ 25  ┆ 124 ┆ 527 ┆ 129 ┆ 1   ┆ 2   ┆ 253 ┆ SV  ┆ 5   ┆ 202 ┆ Mid ┆ 938 ┆ Oma ┆ 127 ┆ 33  ┆ 105 ┆ 51  ┆ 11  ┆ 425 ┆ tru ┆ 13  ┆ 2   ┆ 13. ┆ 2   ┆ O.  ┆ SV  ┆ 1   ┆ 7   ┆ 34  ┆ 14. ┆ 724 ┆ 1   ┆ 146 ┆ 714 ┆ 6   ┆ 3   ┆ 26. ┆ 2   ┆ 171 ┆ 1   ┆ 1   ┆ 1   ┆ 8   ┆ 22. ┆ AM  ┆ 292 ┆ 308 ┆ 46. ┆ 1   ┆ 7.9 ┆ 7   ┆ 1   ┆ 202 ┆ 11  ┆ 1   ┆ 297 ┆ 16  ┆ 0   ┆ 421 ┆ 13  ┆ 13  ┆ 8   ┆ 287 ┆ 2   ┆ 356 ┆ 4   ┆ 172 ┆ 26  ┆ 89  ┆ 8   │\n",
       "│ 07  ┆     ┆     ┆ 9   ┆ 0   ┆     ┆     ┆ 6-0 ┆ -He ┆     ┆     ┆     ┆     ┆     ┆     ┆ 7   ┆     ┆     ┆     ┆     ┆     ┆ 9   ┆     ┆     ┆ 95  ┆     ┆ 02  ┆ 8   ┆     ┆     ┆     ┆     ┆     ┆     ┆     ┆     ┆     ┆     ┆     ┆     ┆     ┆     ┆     ┆     ┆     ┆     ┆ 77  ┆     ┆ 1   ┆     ┆     ┆     ┆     ┆     ┆ Zul ┆     ┆ 1/2 ┆ fie ┆     ┆ r   ┆ 8   ┆     ┆     ┆     ┆     ┆     ┆ e   ┆     ┆     ┆ 2   ┆     ┆ Gov ┆ Zul ┆     ┆     ┆     ┆ 52  ┆     ┆     ┆ 25  ┆     ┆     ┆     ┆ 4   ┆     ┆     ┆     ┆     ┆     ┆     ┆ 45  ┆     ┆     ┆ 9   ┆ 12  ┆     ┆ 3   ┆     ┆     ┆ 1-0 ┆     ┆     ┆     ┆     ┆     ┆     ┆     ┆     ┆     ┆ 6   ┆     ┆ 7   ┆     ┆     ┆     ┆     ┆     │\n",
       "│     ┆     ┆     ┆     ┆     ┆     ┆     ┆ 1-1 ┆ ver ┆     ┆     ┆     ┆     ┆     ┆     ┆     ┆     ┆     ┆     ┆     ┆     ┆     ┆     ┆     ┆     ┆     ┆     ┆     ┆     ┆     ┆     ┆     ┆     ┆     ┆     ┆     ┆     ┆     ┆     ┆     ┆     ┆     ┆     ┆     ┆     ┆     ┆     ┆     ┆     ┆     ┆     ┆     ┆     ┆     ┆ te- ┆     ┆ 022 ┆ ld  ┆     ┆ Nic ┆     ┆     ┆     ┆     ┆     ┆     ┆     ┆     ┆     ┆     ┆     ┆ ea  ┆ te- ┆     ┆     ┆     ┆     ┆     ┆     ┆     ┆     ┆     ┆     ┆     ┆     ┆     ┆     ┆     ┆     ┆     ┆     ┆     ┆     ┆     ┆     ┆     ┆     ┆     ┆     ┆ 7-2 ┆     ┆     ┆     ┆     ┆     ┆     ┆     ┆     ┆     ┆     ┆     ┆     ┆     ┆     ┆     ┆     ┆     │\n",
       "│     ┆     ┆     ┆     ┆     ┆     ┆     ┆ 8   ┆ lee ┆     ┆     ┆     ┆     ┆     ┆     ┆     ┆     ┆     ┆     ┆     ┆     ┆     ┆     ┆     ┆     ┆     ┆     ┆     ┆     ┆     ┆     ┆     ┆     ┆     ┆     ┆     ┆     ┆     ┆     ┆     ┆     ┆     ┆     ┆     ┆     ┆     ┆     ┆     ┆     ┆     ┆     ┆     ┆     ┆     ┆ War ┆     ┆     ┆     ┆     ┆ olá ┆     ┆     ┆     ┆     ┆     ┆     ┆     ┆     ┆     ┆     ┆     ┆     ┆ War ┆     ┆     ┆     ┆     ┆     ┆     ┆     ┆     ┆     ┆     ┆     ┆     ┆     ┆     ┆     ┆     ┆     ┆     ┆     ┆     ┆     ┆     ┆     ┆     ┆     ┆     ┆ 4   ┆     ┆     ┆     ┆     ┆     ┆     ┆     ┆     ┆     ┆     ┆     ┆     ┆     ┆     ┆     ┆     ┆     │\n",
       "│     ┆     ┆     ┆     ┆     ┆     ┆     ┆     ┆ Leu ┆     ┆     ┆     ┆     ┆     ┆     ┆     ┆     ┆     ┆     ┆     ┆     ┆     ┆     ┆     ┆     ┆     ┆     ┆     ┆     ┆     ┆     ┆     ┆     ┆     ┆     ┆     ┆     ┆     ┆     ┆     ┆     ┆     ┆     ┆     ┆     ┆     ┆     ┆     ┆     ┆     ┆     ┆     ┆     ┆     ┆ ege ┆     ┆     ┆     ┆     ┆ s   ┆     ┆     ┆     ┆     ┆     ┆     ┆     ┆     ┆     ┆     ┆     ┆     ┆ ege ┆     ┆     ┆     ┆     ┆     ┆     ┆     ┆     ┆     ┆     ┆     ┆     ┆     ┆     ┆     ┆     ┆     ┆     ┆     ┆     ┆     ┆     ┆     ┆     ┆     ┆     ┆     ┆     ┆     ┆     ┆     ┆     ┆     ┆     ┆     ┆     ┆     ┆     ┆     ┆     ┆     ┆     ┆     ┆     │\n",
       "│     ┆     ┆     ┆     ┆     ┆     ┆     ┆     ┆ ven ┆     ┆     ┆     ┆     ┆     ┆     ┆     ┆     ┆     ┆     ┆     ┆     ┆     ┆     ┆     ┆     ┆     ┆     ┆     ┆     ┆     ┆     ┆     ┆     ┆     ┆     ┆     ┆     ┆     ┆     ┆     ┆     ┆     ┆     ┆     ┆     ┆     ┆     ┆     ┆     ┆     ┆     ┆     ┆     ┆     ┆ m   ┆     ┆     ┆     ┆     ┆ Gov ┆     ┆     ┆     ┆     ┆     ┆     ┆     ┆     ┆     ┆     ┆     ┆     ┆ m   ┆     ┆     ┆     ┆     ┆     ┆     ┆     ┆     ┆     ┆     ┆     ┆     ┆     ┆     ┆     ┆     ┆     ┆     ┆     ┆     ┆     ┆     ┆     ┆     ┆     ┆     ┆     ┆     ┆     ┆     ┆     ┆     ┆     ┆     ┆     ┆     ┆     ┆     ┆     ┆     ┆     ┆     ┆     ┆     │\n",
       "│     ┆     ┆     ┆     ┆     ┆     ┆     ┆     ┆ v   ┆     ┆     ┆     ┆     ┆     ┆     ┆     ┆     ┆     ┆     ┆     ┆     ┆     ┆     ┆     ┆     ┆     ┆     ┆     ┆     ┆     ┆     ┆     ┆     ┆     ┆     ┆     ┆     ┆     ┆     ┆     ┆     ┆     ┆     ┆     ┆     ┆     ┆     ┆     ┆     ┆     ┆     ┆     ┆     ┆     ┆     ┆     ┆     ┆     ┆     ┆ ea  ┆     ┆     ┆     ┆     ┆     ┆     ┆     ┆     ┆     ┆     ┆     ┆     ┆     ┆     ┆     ┆     ┆     ┆     ┆     ┆     ┆     ┆     ┆     ┆     ┆     ┆     ┆     ┆     ┆     ┆     ┆     ┆     ┆     ┆     ┆     ┆     ┆     ┆     ┆     ┆     ┆     ┆     ┆     ┆     ┆     ┆     ┆     ┆     ┆     ┆     ┆     ┆     ┆     ┆     ┆     ┆     ┆     │\n",
       "│     ┆     ┆     ┆     ┆     ┆     ┆     ┆     ┆ SV  ┆     ┆     ┆     ┆     ┆     ┆     ┆     ┆     ┆     ┆     ┆     ┆     ┆     ┆     ┆     ┆     ┆     ┆     ┆     ┆     ┆     ┆     ┆     ┆     ┆     ┆     ┆     ┆     ┆     ┆     ┆     ┆     ┆     ┆     ┆     ┆     ┆     ┆     ┆     ┆     ┆     ┆     ┆     ┆     ┆     ┆     ┆     ┆     ┆     ┆     ┆ Gar ┆     ┆     ┆     ┆     ┆     ┆     ┆     ┆     ┆     ┆     ┆     ┆     ┆     ┆     ┆     ┆     ┆     ┆     ┆     ┆     ┆     ┆     ┆     ┆     ┆     ┆     ┆     ┆     ┆     ┆     ┆     ┆     ┆     ┆     ┆     ┆     ┆     ┆     ┆     ┆     ┆     ┆     ┆     ┆     ┆     ┆     ┆     ┆     ┆     ┆     ┆     ┆     ┆     ┆     ┆     ┆     ┆     │\n",
       "│     ┆     ┆     ┆     ┆     ┆     ┆     ┆     ┆ Zul ┆     ┆     ┆     ┆     ┆     ┆     ┆     ┆     ┆     ┆     ┆     ┆     ┆     ┆     ┆     ┆     ┆     ┆     ┆     ┆     ┆     ┆     ┆     ┆     ┆     ┆     ┆     ┆     ┆     ┆     ┆     ┆     ┆     ┆     ┆     ┆     ┆     ┆     ┆     ┆     ┆     ┆     ┆     ┆     ┆     ┆     ┆     ┆     ┆     ┆     ┆ cía ┆     ┆     ┆     ┆     ┆     ┆     ┆     ┆     ┆     ┆     ┆     ┆     ┆     ┆     ┆     ┆     ┆     ┆     ┆     ┆     ┆     ┆     ┆     ┆     ┆     ┆     ┆     ┆     ┆     ┆     ┆     ┆     ┆     ┆     ┆     ┆     ┆     ┆     ┆     ┆     ┆     ┆     ┆     ┆     ┆     ┆     ┆     ┆     ┆     ┆     ┆     ┆     ┆     ┆     ┆     ┆     ┆     │\n",
       "│     ┆     ┆     ┆     ┆     ┆     ┆     ┆     ┆ te… ┆     ┆     ┆     ┆     ┆     ┆     ┆     ┆     ┆     ┆     ┆     ┆     ┆     ┆     ┆     ┆     ┆     ┆     ┆     ┆     ┆     ┆     ┆     ┆     ┆     ┆     ┆     ┆     ┆     ┆     ┆     ┆     ┆     ┆     ┆     ┆     ┆     ┆     ┆     ┆     ┆     ┆     ┆     ┆     ┆     ┆     ┆     ┆     ┆     ┆     ┆     ┆     ┆     ┆     ┆     ┆     ┆     ┆     ┆     ┆     ┆     ┆     ┆     ┆     ┆     ┆     ┆     ┆     ┆     ┆     ┆     ┆     ┆     ┆     ┆     ┆     ┆     ┆     ┆     ┆     ┆     ┆     ┆     ┆     ┆     ┆     ┆     ┆     ┆     ┆     ┆     ┆     ┆     ┆     ┆     ┆     ┆     ┆     ┆     ┆     ┆     ┆     ┆     ┆     ┆     ┆     ┆     ┆     │\n",
       "│ 74. ┆ 1   ┆ 26  ┆ 897 ┆ 541 ┆ 6   ┆ 44  ┆ 199 ┆ Oud ┆ 25  ┆ 25  ┆ 3   ┆ 70  ┆ 76  ┆ 9   ┆ 8.4 ┆ 12  ┆ 5   ┆ 7   ┆ 131 ┆ 37  ┆ 188 ┆ 337 ┆ 327 ┆ 28. ┆ 13  ┆ 450 ┆ 202 ┆ 27  ┆ 44  ┆ 21  ┆ 0   ┆ 88  ┆ 20  ┆ 0   ┆ 110 ┆ 17  ┆ 249 ┆ 12  ┆ 64  ┆ 27  ┆ 13  ┆ 224 ┆ 0   ┆ 20  ┆ 21  ┆ 23. ┆ 26  ┆ 123 ┆ 554 ┆ 310 ┆ 0   ┆ 8   ┆ 301 ┆ Oud ┆ 8   ┆ 202 ┆ Mid ┆ 132 ┆ Sie ┆ 124 ┆ 18  ┆ 207 ┆ 193 ┆ 5   ┆ 536 ┆ tru ┆ 13  ┆ 2   ┆ 14. ┆ 4   ┆ S.  ┆ Oud ┆ 0   ┆ 11  ┆ 50  ┆ 13. ┆ 603 ┆ 3   ┆ 983 ┆ 680 ┆ 9   ┆ 1   ┆ 27. ┆ 1   ┆ 144 ┆ 1   ┆ 1   ┆ 1   ┆ 8   ┆ 20. ┆ AM  ┆ 284 ┆ 356 ┆ 46. ┆ 6   ┆ 7.1 ┆ 9   ┆ 2   ┆ 202 ┆ 15  ┆ 1   ┆ 276 ┆ 16  ┆ 4   ┆ 594 ┆ 25  ┆ 13  ┆ 8   ┆ 335 ┆ 2   ┆ 312 ┆ 6   ┆ 235 ┆ 132 ┆ 114 ┆ 27  │\n",
       "│ 15  ┆     ┆     ┆ 6   ┆ 0   ┆     ┆     ┆ 6-0 ┆ -He ┆     ┆     ┆     ┆     ┆     ┆     ┆ 8   ┆     ┆     ┆     ┆     ┆     ┆ 3   ┆     ┆     ┆ 03  ┆     ┆ 02  ┆ 5   ┆     ┆     ┆     ┆     ┆     ┆     ┆     ┆     ┆     ┆     ┆     ┆     ┆     ┆     ┆     ┆     ┆     ┆     ┆ 0   ┆     ┆ 4   ┆     ┆     ┆     ┆     ┆     ┆ -He ┆     ┆ 1/2 ┆ fie ┆ 6   ┆ be  ┆ 2   ┆     ┆     ┆     ┆     ┆     ┆ e   ┆     ┆     ┆ 52  ┆     ┆ Sch ┆ -He ┆     ┆     ┆     ┆ 2   ┆     ┆     ┆ 5   ┆     ┆     ┆     ┆ 4   ┆     ┆     ┆     ┆     ┆     ┆     ┆ 35  ┆     ┆     ┆ 6   ┆ 12  ┆     ┆ 5   ┆     ┆     ┆ 1-0 ┆     ┆     ┆     ┆     ┆     ┆     ┆     ┆     ┆     ┆ 1   ┆     ┆ 5   ┆     ┆     ┆     ┆     ┆     │\n",
       "│     ┆     ┆     ┆     ┆     ┆     ┆     ┆ 7-1 ┆ ver ┆     ┆     ┆     ┆     ┆     ┆     ┆     ┆     ┆     ┆     ┆     ┆     ┆     ┆     ┆     ┆     ┆     ┆     ┆     ┆     ┆     ┆     ┆     ┆     ┆     ┆     ┆     ┆     ┆     ┆     ┆     ┆     ┆     ┆     ┆     ┆     ┆     ┆     ┆     ┆     ┆     ┆     ┆     ┆     ┆     ┆ ver ┆     ┆ 022 ┆ ld  ┆     ┆ Sch ┆     ┆     ┆     ┆     ┆     ┆     ┆     ┆     ┆     ┆     ┆     ┆ rij ┆ ver ┆     ┆     ┆     ┆     ┆     ┆     ┆     ┆     ┆     ┆     ┆     ┆     ┆     ┆     ┆     ┆     ┆     ┆     ┆     ┆     ┆     ┆     ┆     ┆     ┆     ┆     ┆ 7-2 ┆     ┆     ┆     ┆     ┆     ┆     ┆     ┆     ┆     ┆     ┆     ┆     ┆     ┆     ┆     ┆     ┆     │\n",
       "│     ┆     ┆     ┆     ┆     ┆     ┆     ┆ 8   ┆ lee ┆     ┆     ┆     ┆     ┆     ┆     ┆     ┆     ┆     ┆     ┆     ┆     ┆     ┆     ┆     ┆     ┆     ┆     ┆     ┆     ┆     ┆     ┆     ┆     ┆     ┆     ┆     ┆     ┆     ┆     ┆     ┆     ┆     ┆     ┆     ┆     ┆     ┆     ┆     ┆     ┆     ┆     ┆     ┆     ┆     ┆ lee ┆     ┆     ┆     ┆     ┆ rij ┆     ┆     ┆     ┆     ┆     ┆     ┆     ┆     ┆     ┆     ┆     ┆ ver ┆ lee ┆     ┆     ┆     ┆     ┆     ┆     ┆     ┆     ┆     ┆     ┆     ┆     ┆     ┆     ┆     ┆     ┆     ┆     ┆     ┆     ┆     ┆     ┆     ┆     ┆     ┆     ┆ 4   ┆     ┆     ┆     ┆     ┆     ┆     ┆     ┆     ┆     ┆     ┆     ┆     ┆     ┆     ┆     ┆     ┆     │\n",
       "│     ┆     ┆     ┆     ┆     ┆     ┆     ┆     ┆ Leu ┆     ┆     ┆     ┆     ┆     ┆     ┆     ┆     ┆     ┆     ┆     ┆     ┆     ┆     ┆     ┆     ┆     ┆     ┆     ┆     ┆     ┆     ┆     ┆     ┆     ┆     ┆     ┆     ┆     ┆     ┆     ┆     ┆     ┆     ┆     ┆     ┆     ┆     ┆     ┆     ┆     ┆     ┆     ┆     ┆     ┆ Leu ┆     ┆     ┆     ┆     ┆ ver ┆     ┆     ┆     ┆     ┆     ┆     ┆     ┆     ┆     ┆     ┆     ┆ s   ┆ Leu ┆     ┆     ┆     ┆     ┆     ┆     ┆     ┆     ┆     ┆     ┆     ┆     ┆     ┆     ┆     ┆     ┆     ┆     ┆     ┆     ┆     ┆     ┆     ┆     ┆     ┆     ┆     ┆     ┆     ┆     ┆     ┆     ┆     ┆     ┆     ┆     ┆     ┆     ┆     ┆     ┆     ┆     ┆     ┆     │\n",
       "│     ┆     ┆     ┆     ┆     ┆     ┆     ┆     ┆ ven ┆     ┆     ┆     ┆     ┆     ┆     ┆     ┆     ┆     ┆     ┆     ┆     ┆     ┆     ┆     ┆     ┆     ┆     ┆     ┆     ┆     ┆     ┆     ┆     ┆     ┆     ┆     ┆     ┆     ┆     ┆     ┆     ┆     ┆     ┆     ┆     ┆     ┆     ┆     ┆     ┆     ┆     ┆     ┆     ┆     ┆ ven ┆     ┆     ┆     ┆     ┆ s   ┆     ┆     ┆     ┆     ┆     ┆     ┆     ┆     ┆     ┆     ┆     ┆     ┆ ven ┆     ┆     ┆     ┆     ┆     ┆     ┆     ┆     ┆     ┆     ┆     ┆     ┆     ┆     ┆     ┆     ┆     ┆     ┆     ┆     ┆     ┆     ┆     ┆     ┆     ┆     ┆     ┆     ┆     ┆     ┆     ┆     ┆     ┆     ┆     ┆     ┆     ┆     ┆     ┆     ┆     ┆     ┆     ┆     │\n",
       "│     ┆     ┆     ┆     ┆     ┆     ┆     ┆     ┆ v   ┆     ┆     ┆     ┆     ┆     ┆     ┆     ┆     ┆     ┆     ┆     ┆     ┆     ┆     ┆     ┆     ┆     ┆     ┆     ┆     ┆     ┆     ┆     ┆     ┆     ┆     ┆     ┆     ┆     ┆     ┆     ┆     ┆     ┆     ┆     ┆     ┆     ┆     ┆     ┆     ┆     ┆     ┆     ┆     ┆     ┆     ┆     ┆     ┆     ┆     ┆     ┆     ┆     ┆     ┆     ┆     ┆     ┆     ┆     ┆     ┆     ┆     ┆     ┆     ┆     ┆     ┆     ┆     ┆     ┆     ┆     ┆     ┆     ┆     ┆     ┆     ┆     ┆     ┆     ┆     ┆     ┆     ┆     ┆     ┆     ┆     ┆     ┆     ┆     ┆     ┆     ┆     ┆     ┆     ┆     ┆     ┆     ┆     ┆     ┆     ┆     ┆     ┆     ┆     ┆     ┆     ┆     ┆     │\n",
       "│     ┆     ┆     ┆     ┆     ┆     ┆     ┆     ┆ SV  ┆     ┆     ┆     ┆     ┆     ┆     ┆     ┆     ┆     ┆     ┆     ┆     ┆     ┆     ┆     ┆     ┆     ┆     ┆     ┆     ┆     ┆     ┆     ┆     ┆     ┆     ┆     ┆     ┆     ┆     ┆     ┆     ┆     ┆     ┆     ┆     ┆     ┆     ┆     ┆     ┆     ┆     ┆     ┆     ┆     ┆     ┆     ┆     ┆     ┆     ┆     ┆     ┆     ┆     ┆     ┆     ┆     ┆     ┆     ┆     ┆     ┆     ┆     ┆     ┆     ┆     ┆     ┆     ┆     ┆     ┆     ┆     ┆     ┆     ┆     ┆     ┆     ┆     ┆     ┆     ┆     ┆     ┆     ┆     ┆     ┆     ┆     ┆     ┆     ┆     ┆     ┆     ┆     ┆     ┆     ┆     ┆     ┆     ┆     ┆     ┆     ┆     ┆     ┆     ┆     ┆     ┆     ┆     │\n",
       "│     ┆     ┆     ┆     ┆     ┆     ┆     ┆     ┆ Zul ┆     ┆     ┆     ┆     ┆     ┆     ┆     ┆     ┆     ┆     ┆     ┆     ┆     ┆     ┆     ┆     ┆     ┆     ┆     ┆     ┆     ┆     ┆     ┆     ┆     ┆     ┆     ┆     ┆     ┆     ┆     ┆     ┆     ┆     ┆     ┆     ┆     ┆     ┆     ┆     ┆     ┆     ┆     ┆     ┆     ┆     ┆     ┆     ┆     ┆     ┆     ┆     ┆     ┆     ┆     ┆     ┆     ┆     ┆     ┆     ┆     ┆     ┆     ┆     ┆     ┆     ┆     ┆     ┆     ┆     ┆     ┆     ┆     ┆     ┆     ┆     ┆     ┆     ┆     ┆     ┆     ┆     ┆     ┆     ┆     ┆     ┆     ┆     ┆     ┆     ┆     ┆     ┆     ┆     ┆     ┆     ┆     ┆     ┆     ┆     ┆     ┆     ┆     ┆     ┆     ┆     ┆     ┆     │\n",
       "│     ┆     ┆     ┆     ┆     ┆     ┆     ┆     ┆ te… ┆     ┆     ┆     ┆     ┆     ┆     ┆     ┆     ┆     ┆     ┆     ┆     ┆     ┆     ┆     ┆     ┆     ┆     ┆     ┆     ┆     ┆     ┆     ┆     ┆     ┆     ┆     ┆     ┆     ┆     ┆     ┆     ┆     ┆     ┆     ┆     ┆     ┆     ┆     ┆     ┆     ┆     ┆     ┆     ┆     ┆     ┆     ┆     ┆     ┆     ┆     ┆     ┆     ┆     ┆     ┆     ┆     ┆     ┆     ┆     ┆     ┆     ┆     ┆     ┆     ┆     ┆     ┆     ┆     ┆     ┆     ┆     ┆     ┆     ┆     ┆     ┆     ┆     ┆     ┆     ┆     ┆     ┆     ┆     ┆     ┆     ┆     ┆     ┆     ┆     ┆     ┆     ┆     ┆     ┆     ┆     ┆     ┆     ┆     ┆     ┆     ┆     ┆     ┆     ┆     ┆     ┆     ┆     │\n",
       "│ 110 ┆ 1   ┆ 47  ┆ 116 ┆ 625 ┆ 4   ┆ 36  ┆ 199 ┆ Clu ┆ 23  ┆ 17  ┆ 1   ┆ 85  ┆ 56  ┆ 6   ┆ 19. ┆ 4   ┆ 3   ┆ 20  ┆ 4   ┆ 47  ┆ 234 ┆ 159 ┆ 461 ┆ 60. ┆ 13  ┆ 449 ┆ 265 ┆ 39  ┆ 44  ┆ 29  ┆ 1   ┆ 0   ┆ 17  ┆ 0   ┆ 62  ┆ 21  ┆ 249 ┆ 5   ┆ 86  ┆ 24  ┆ 18  ┆ 174 ┆ 1   ┆ 4   ┆ 37  ┆ 37. ┆ 41  ┆ 140 ┆ 462 ┆ 81  ┆ 1   ┆ 2   ┆ 468 ┆ KAS ┆ 19  ┆ 202 ┆ Mid ┆ 225 ┆ Ste ┆ 139 ┆ 23  ┆ 60  ┆ 19  ┆ 10  ┆ 788 ┆ tru ┆ 18  ┆ 2   ┆ 18. ┆ 2   ┆ S.  ┆ KAS ┆ 2   ┆ 9   ┆ 35  ┆ 15. ┆ 603 ┆ 1   ┆ 115 ┆ 943 ┆ 26  ┆ 2   ┆ 25. ┆ 0   ┆ 140 ┆ 1   ┆ 1   ┆ 0   ┆ 11  ┆ 28. ┆ AM  ┆ 253 ┆ 536 ┆ 50. ┆ 1   ┆ 12. ┆ 8   ┆ 1   ┆ 202 ┆ 8   ┆ 0   ┆ 142 ┆ 16  ┆ 0   ┆ 334 ┆ 12  ┆ 13  ┆ 8   ┆ 490 ┆ 2   ┆ 373 ┆ 2   ┆ 320 ┆ 36  ┆ 112 ┆ 26  │\n",
       "│ .42 ┆     ┆     ┆ 26  ┆ 7   ┆     ┆     ┆ 2-0 ┆ b   ┆     ┆     ┆     ┆     ┆     ┆     ┆ 18  ┆     ┆     ┆     ┆     ┆     ┆ 0   ┆     ┆     ┆ 17  ┆     ┆ 98  ┆ 0   ┆     ┆     ┆     ┆     ┆     ┆     ┆     ┆     ┆     ┆     ┆     ┆     ┆     ┆     ┆     ┆     ┆     ┆     ┆ 23  ┆     ┆ 5   ┆     ┆     ┆     ┆     ┆     ┆ Eup ┆     ┆ 1/2 ┆ fie ┆ 2   ┆ f   ┆ 7   ┆     ┆     ┆     ┆     ┆     ┆ e   ┆     ┆     ┆ 05  ┆     ┆ Pee ┆ Eup ┆     ┆     ┆     ┆ 68  ┆     ┆     ┆ 95  ┆     ┆     ┆     ┆ 5   ┆     ┆     ┆     ┆     ┆     ┆     ┆ 66  ┆     ┆     ┆ 9   ┆ 25  ┆     ┆ 98  ┆     ┆     ┆ 1-0 ┆     ┆     ┆     ┆     ┆     ┆     ┆     ┆     ┆     ┆ 2   ┆     ┆ 7   ┆     ┆     ┆     ┆     ┆     │\n",
       "│     ┆     ┆     ┆     ┆     ┆     ┆     ┆ 2-0 ┆ Bru ┆     ┆     ┆     ┆     ┆     ┆     ┆     ┆     ┆     ┆     ┆     ┆     ┆     ┆     ┆     ┆     ┆     ┆     ┆     ┆     ┆     ┆     ┆     ┆     ┆     ┆     ┆     ┆     ┆     ┆     ┆     ┆     ┆     ┆     ┆     ┆     ┆     ┆     ┆     ┆     ┆     ┆     ┆     ┆     ┆     ┆ en  ┆     ┆ 022 ┆ ld  ┆     ┆ Pee ┆     ┆     ┆     ┆     ┆     ┆     ┆     ┆     ┆     ┆     ┆     ┆ ter ┆ en  ┆     ┆     ┆     ┆     ┆     ┆     ┆     ┆     ┆     ┆     ┆     ┆     ┆     ┆     ┆     ┆     ┆     ┆     ┆     ┆     ┆     ┆     ┆     ┆     ┆     ┆     ┆ 7-2 ┆     ┆     ┆     ┆     ┆     ┆     ┆     ┆     ┆     ┆     ┆     ┆     ┆     ┆     ┆     ┆     ┆     │\n",
       "│     ┆     ┆     ┆     ┆     ┆     ┆     ┆ 9   ┆ gge ┆     ┆     ┆     ┆     ┆     ┆     ┆     ┆     ┆     ┆     ┆     ┆     ┆     ┆     ┆     ┆     ┆     ┆     ┆     ┆     ┆     ┆     ┆     ┆     ┆     ┆     ┆     ┆     ┆     ┆     ┆     ┆     ┆     ┆     ┆     ┆     ┆     ┆     ┆     ┆     ┆     ┆     ┆     ┆     ┆     ┆     ┆     ┆     ┆     ┆     ┆ ter ┆     ┆     ┆     ┆     ┆     ┆     ┆     ┆     ┆     ┆     ┆     ┆ s   ┆     ┆     ┆     ┆     ┆     ┆     ┆     ┆     ┆     ┆     ┆     ┆     ┆     ┆     ┆     ┆     ┆     ┆     ┆     ┆     ┆     ┆     ┆     ┆     ┆     ┆     ┆     ┆ 5   ┆     ┆     ┆     ┆     ┆     ┆     ┆     ┆     ┆     ┆     ┆     ┆     ┆     ┆     ┆     ┆     ┆     │\n",
       "│     ┆     ┆     ┆     ┆     ┆     ┆     ┆     ┆ KV  ┆     ┆     ┆     ┆     ┆     ┆     ┆     ┆     ┆     ┆     ┆     ┆     ┆     ┆     ┆     ┆     ┆     ┆     ┆     ┆     ┆     ┆     ┆     ┆     ┆     ┆     ┆     ┆     ┆     ┆     ┆     ┆     ┆     ┆     ┆     ┆     ┆     ┆     ┆     ┆     ┆     ┆     ┆     ┆     ┆     ┆     ┆     ┆     ┆     ┆     ┆ s   ┆     ┆     ┆     ┆     ┆     ┆     ┆     ┆     ┆     ┆     ┆     ┆     ┆     ┆     ┆     ┆     ┆     ┆     ┆     ┆     ┆     ┆     ┆     ┆     ┆     ┆     ┆     ┆     ┆     ┆     ┆     ┆     ┆     ┆     ┆     ┆     ┆     ┆     ┆     ┆     ┆     ┆     ┆     ┆     ┆     ┆     ┆     ┆     ┆     ┆     ┆     ┆     ┆     ┆     ┆     ┆     ┆     │\n",
       "│     ┆     ┆     ┆     ┆     ┆     ┆     ┆     ┆ v   ┆     ┆     ┆     ┆     ┆     ┆     ┆     ┆     ┆     ┆     ┆     ┆     ┆     ┆     ┆     ┆     ┆     ┆     ┆     ┆     ┆     ┆     ┆     ┆     ┆     ┆     ┆     ┆     ┆     ┆     ┆     ┆     ┆     ┆     ┆     ┆     ┆     ┆     ┆     ┆     ┆     ┆     ┆     ┆     ┆     ┆     ┆     ┆     ┆     ┆     ┆     ┆     ┆     ┆     ┆     ┆     ┆     ┆     ┆     ┆     ┆     ┆     ┆     ┆     ┆     ┆     ┆     ┆     ┆     ┆     ┆     ┆     ┆     ┆     ┆     ┆     ┆     ┆     ┆     ┆     ┆     ┆     ┆     ┆     ┆     ┆     ┆     ┆     ┆     ┆     ┆     ┆     ┆     ┆     ┆     ┆     ┆     ┆     ┆     ┆     ┆     ┆     ┆     ┆     ┆     ┆     ┆     ┆     │\n",
       "│     ┆     ┆     ┆     ┆     ┆     ┆     ┆     ┆ KAS ┆     ┆     ┆     ┆     ┆     ┆     ┆     ┆     ┆     ┆     ┆     ┆     ┆     ┆     ┆     ┆     ┆     ┆     ┆     ┆     ┆     ┆     ┆     ┆     ┆     ┆     ┆     ┆     ┆     ┆     ┆     ┆     ┆     ┆     ┆     ┆     ┆     ┆     ┆     ┆     ┆     ┆     ┆     ┆     ┆     ┆     ┆     ┆     ┆     ┆     ┆     ┆     ┆     ┆     ┆     ┆     ┆     ┆     ┆     ┆     ┆     ┆     ┆     ┆     ┆     ┆     ┆     ┆     ┆     ┆     ┆     ┆     ┆     ┆     ┆     ┆     ┆     ┆     ┆     ┆     ┆     ┆     ┆     ┆     ┆     ┆     ┆     ┆     ┆     ┆     ┆     ┆     ┆     ┆     ┆     ┆     ┆     ┆     ┆     ┆     ┆     ┆     ┆     ┆     ┆     ┆     ┆     ┆     │\n",
       "│     ┆     ┆     ┆     ┆     ┆     ┆     ┆     ┆ Eup ┆     ┆     ┆     ┆     ┆     ┆     ┆     ┆     ┆     ┆     ┆     ┆     ┆     ┆     ┆     ┆     ┆     ┆     ┆     ┆     ┆     ┆     ┆     ┆     ┆     ┆     ┆     ┆     ┆     ┆     ┆     ┆     ┆     ┆     ┆     ┆     ┆     ┆     ┆     ┆     ┆     ┆     ┆     ┆     ┆     ┆     ┆     ┆     ┆     ┆     ┆     ┆     ┆     ┆     ┆     ┆     ┆     ┆     ┆     ┆     ┆     ┆     ┆     ┆     ┆     ┆     ┆     ┆     ┆     ┆     ┆     ┆     ┆     ┆     ┆     ┆     ┆     ┆     ┆     ┆     ┆     ┆     ┆     ┆     ┆     ┆     ┆     ┆     ┆     ┆     ┆     ┆     ┆     ┆     ┆     ┆     ┆     ┆     ┆     ┆     ┆     ┆     ┆     ┆     ┆     ┆     ┆     ┆     │\n",
       "│     ┆     ┆     ┆     ┆     ┆     ┆     ┆     ┆ en  ┆     ┆     ┆     ┆     ┆     ┆     ┆     ┆     ┆     ┆     ┆     ┆     ┆     ┆     ┆     ┆     ┆     ┆     ┆     ┆     ┆     ┆     ┆     ┆     ┆     ┆     ┆     ┆     ┆     ┆     ┆     ┆     ┆     ┆     ┆     ┆     ┆     ┆     ┆     ┆     ┆     ┆     ┆     ┆     ┆     ┆     ┆     ┆     ┆     ┆     ┆     ┆     ┆     ┆     ┆     ┆     ┆     ┆     ┆     ┆     ┆     ┆     ┆     ┆     ┆     ┆     ┆     ┆     ┆     ┆     ┆     ┆     ┆     ┆     ┆     ┆     ┆     ┆     ┆     ┆     ┆     ┆     ┆     ┆     ┆     ┆     ┆     ┆     ┆     ┆     ┆     ┆     ┆     ┆     ┆     ┆     ┆     ┆     ┆     ┆     ┆     ┆     ┆     ┆     ┆     ┆     ┆     ┆     │\n",
       "└─────┴─────┴─────┴─────┴─────┴─────┴─────┴─────┴─────┴─────┴─────┴─────┴─────┴─────┴─────┴─────┴─────┴─────┴─────┴─────┴─────┴─────┴─────┴─────┴─────┴─────┴─────┴─────┴─────┴─────┴─────┴─────┴─────┴─────┴─────┴─────┴─────┴─────┴─────┴─────┴─────┴─────┴─────┴─────┴─────┴─────┴─────┴─────┴─────┴─────┴─────┴─────┴─────┴─────┴─────┴─────┴─────┴─────┴─────┴─────┴─────┴─────┴─────┴─────┴─────┴─────┴─────┴─────┴─────┴─────┴─────┴─────┴─────┴─────┴─────┴─────┴─────┴─────┴─────┴─────┴─────┴─────┴─────┴─────┴─────┴─────┴─────┴─────┴─────┴─────┴─────┴─────┴─────┴─────┴─────┴─────┴─────┴─────┴─────┴─────┴─────┴─────┴─────┴─────┴─────┴─────┴─────┴─────┴─────┴─────┴─────┴─────┴─────┴─────┴─────┴─────┴─────┘"
      ]
     },
     "execution_count": 14,
     "metadata": {},
     "output_type": "execute_result"
    }
   ],
   "source": [
    "pl.Config.set_tbl_cols(250)\n",
    "corr_df.head()"
   ]
  },
  {
   "cell_type": "code",
   "execution_count": 15,
   "metadata": {},
   "outputs": [],
   "source": [
    "nonull_numeric = corr_df.drop_nulls().select(cs.numeric())"
   ]
  },
  {
   "cell_type": "code",
   "execution_count": 16,
   "metadata": {},
   "outputs": [],
   "source": [
    "correlations = nonull_numeric.corr()"
   ]
  },
  {
   "cell_type": "code",
   "execution_count": 17,
   "metadata": {},
   "outputs": [
    {
     "name": "stderr",
     "output_type": "stream",
     "text": [
      "/tmp/ipykernel_7200/36976019.py:15: DataOrientationWarning: Row orientation inferred during DataFrame construction. Explicitly specify the orientation by passing `orient=\"row\"` to silence this warning.\n",
      "  filtered_df = pl.DataFrame(filtered_data, schema=[\"Variable 1\", \"Variable 2\", \"Correlation\"])\n"
     ]
    },
    {
     "name": "stdout",
     "output_type": "stream",
     "text": [
      "Filtered correlations saved to 'filtered_correlations.csv'.\n"
     ]
    }
   ],
   "source": [
    "# only retaining meaningfull correlation\n",
    "\n",
    "# Initialize an empty list to store the filtered correlation pairs\n",
    "filtered_data = []\n",
    "\n",
    "# Iterate over the rows and columns to extract variable pairs and correlations\n",
    "for i, row in enumerate(correlations.columns):\n",
    "    for j, col in enumerate(correlations.columns):\n",
    "        if i < j:  # Skip self-correlation and duplicate pairs (ensure we only process one pair)\n",
    "            corr_value = correlations[row][j]  # Access the correlation value at row i, column j\n",
    "            if corr_value > 0.8:  # Only keep correlations > 0.8\n",
    "                filtered_data.append([row, col, corr_value])\n",
    "\n",
    "# Create a Polars DataFrame with the filtered data\n",
    "filtered_df = pl.DataFrame(filtered_data, schema=[\"Variable 1\", \"Variable 2\", \"Correlation\"])\n",
    "\n",
    "# Write the filtered data to a CSV file (since Polars doesn't support writing to Excel directly)\n",
    "filtered_df.write_excel(workbook = \"filtered_correlations.xlsx\")\n",
    "\n",
    "print(\"Filtered correlations saved to 'filtered_correlations.csv'.\")"
   ]
  },
  {
   "cell_type": "code",
   "execution_count": 18,
   "metadata": {},
   "outputs": [],
   "source": [
    "nonull_numeric_np = nonull_numeric.to_numpy()"
   ]
  },
  {
   "cell_type": "code",
   "execution_count": 19,
   "metadata": {},
   "outputs": [],
   "source": [
    "#get back the correlations\n",
    "#get back the z-scores\n",
    "z_scores = zscore(nonull_numeric_np)"
   ]
  },
  {
   "cell_type": "code",
   "execution_count": 20,
   "metadata": {},
   "outputs": [
    {
     "name": "stdout",
     "output_type": "stream",
     "text": [
      "(0, 106)\n"
     ]
    }
   ],
   "source": [
    "# Find outliers\n",
    "outliers = nonull_numeric_np[(np.abs(zscore(nonull_numeric_np)) >= 5).all(axis=1)]\n",
    "\n",
    "# Check the shape\n",
    "print(outliers.shape)"
   ]
  },
  {
   "cell_type": "code",
   "execution_count": 21,
   "metadata": {},
   "outputs": [
    {
     "data": {
      "application/vnd.jupyter.widget-view+json": {
       "model_id": "4770148bdc0649b1a9742304b3c8354c",
       "version_major": 2,
       "version_minor": 0
      },
      "text/plain": [
       "Box(children=(HTML(value='\\n<div id=\"ifr-pyg-000632e2df303b2feTGbDsYXlZyIF1p7\" style=\"height: auto\">\\n    <hea…"
      ]
     },
     "metadata": {},
     "output_type": "display_data"
    },
    {
     "data": {
      "text/html": [
       "<script>\n",
       "    window.addEventListener(\"message\", function(event) {\n",
       "        const backgroundMap = {\n",
       "            \"dark\": \"hsl(240 10% 3.9%)\",\n",
       "            \"light\": \"hsl(0 0 100%)\",\n",
       "        };\n",
       "        const colorMap = {\n",
       "            \"dark\": \"hsl(0 0% 98%)\",\n",
       "            \"light\": \"hsl(240 10% 3.9%)\",\n",
       "        };\n",
       "        if (event.data.action === \"changeAppearance\" && event.data.gid === \"000632e2df303b2feTGbDsYXlZyIF1p7\") {\n",
       "            var iframe = document.getElementById(\"gwalker-000632e2df303b2feTGbDsYXlZyIF1p7\");\n",
       "            iframe.style.background  = backgroundMap[event.data.appearance];\n",
       "            iframe.style.color = colorMap[event.data.appearance];\n",
       "        }\n",
       "    });\n",
       "</script>"
      ],
      "text/plain": [
       "<IPython.core.display.HTML object>"
      ]
     },
     "metadata": {},
     "output_type": "display_data"
    },
    {
     "data": {
      "text/html": [],
      "text/plain": [
       "<IPython.core.display.HTML object>"
      ]
     },
     "metadata": {},
     "output_type": "display_data"
    },
    {
     "data": {
      "text/plain": [
       "<pygwalker.api.pygwalker.PygWalker at 0x7f19ed6634a0>"
      ]
     },
     "execution_count": 21,
     "metadata": {},
     "output_type": "execute_result"
    }
   ],
   "source": [
    "pyg.walk(position_test_df)"
   ]
  },
  {
   "cell_type": "code",
   "execution_count": 22,
   "metadata": {},
   "outputs": [
    {
     "data": {
      "text/html": [
       "<div><style>\n",
       ".dataframe > thead > tr,\n",
       ".dataframe > tbody > tr {\n",
       "  text-align: right;\n",
       "  white-space: pre-wrap;\n",
       "}\n",
       "</style>\n",
       "<small>shape: (5, 11)</small><table border=\"1\" class=\"dataframe\"><thead><tr><th>name</th><th>id</th><th>season_id</th><th>season_start_year</th><th>season_end_year</th><th>season_name</th><th>competition_id</th><th>competition_area</th><th>competition_name</th><th>competition_gender</th><th>competition_age_group</th></tr><tr><td>str</td><td>i64</td><td>i64</td><td>i64</td><td>i64</td><td>str</td><td>i64</td><td>str</td><td>str</td><td>str</td><td>str</td></tr></thead><tbody><tr><td>&quot;FIFA - World Cup - 2014&quot;</td><td>0</td><td>10</td><td>2014</td><td>2014</td><td>&quot;2014&quot;</td><td>0</td><td>&quot;FIFA&quot;</td><td>&quot;World Cup&quot;</td><td>&quot;male&quot;</td><td>&quot;adult&quot;</td></tr><tr><td>&quot;ENG - Premier League - 2015/20…</td><td>1</td><td>2</td><td>2015</td><td>2016</td><td>&quot;2015/2016&quot;</td><td>1</td><td>&quot;ENG&quot;</td><td>&quot;Premier League&quot;</td><td>&quot;male&quot;</td><td>&quot;adult&quot;</td></tr><tr><td>&quot;UEFA - European Championship -…</td><td>2</td><td>12</td><td>2016</td><td>2016</td><td>&quot;2016&quot;</td><td>2</td><td>&quot;UEFA&quot;</td><td>&quot;European Championship&quot;</td><td>&quot;male&quot;</td><td>&quot;adult&quot;</td></tr><tr><td>&quot;ENG - Premier League - 2016/20…</td><td>3</td><td>3</td><td>2016</td><td>2017</td><td>&quot;2016/2017&quot;</td><td>1</td><td>&quot;ENG&quot;</td><td>&quot;Premier League&quot;</td><td>&quot;male&quot;</td><td>&quot;adult&quot;</td></tr><tr><td>&quot;ENG - Premier League - 2017/20…</td><td>4</td><td>4</td><td>2017</td><td>2018</td><td>&quot;2017/2018&quot;</td><td>1</td><td>&quot;ENG&quot;</td><td>&quot;Premier League&quot;</td><td>&quot;male&quot;</td><td>&quot;adult&quot;</td></tr></tbody></table></div>"
      ],
      "text/plain": [
       "shape: (5, 11)\n",
       "┌─────────┬─────┬─────────┬─────────┬────────┬────────┬────────┬────────┬────────┬────────┬────────┐\n",
       "│ name    ┆ id  ┆ season_ ┆ season_ ┆ season ┆ season ┆ compet ┆ compet ┆ compet ┆ compet ┆ compet │\n",
       "│ ---     ┆ --- ┆ id      ┆ start_y ┆ _end_y ┆ _name  ┆ ition_ ┆ ition_ ┆ ition_ ┆ ition_ ┆ ition_ │\n",
       "│ str     ┆ i64 ┆ ---     ┆ ear     ┆ ear    ┆ ---    ┆ id     ┆ area   ┆ name   ┆ gender ┆ age_gr │\n",
       "│         ┆     ┆ i64     ┆ ---     ┆ ---    ┆ str    ┆ ---    ┆ ---    ┆ ---    ┆ ---    ┆ oup    │\n",
       "│         ┆     ┆         ┆ i64     ┆ i64    ┆        ┆ i64    ┆ str    ┆ str    ┆ str    ┆ ---    │\n",
       "│         ┆     ┆         ┆         ┆        ┆        ┆        ┆        ┆        ┆        ┆ str    │\n",
       "╞═════════╪═════╪═════════╪═════════╪════════╪════════╪════════╪════════╪════════╪════════╪════════╡\n",
       "│ FIFA -  ┆ 0   ┆ 10      ┆ 2014    ┆ 2014   ┆ 2014   ┆ 0      ┆ FIFA   ┆ World  ┆ male   ┆ adult  │\n",
       "│ World   ┆     ┆         ┆         ┆        ┆        ┆        ┆        ┆ Cup    ┆        ┆        │\n",
       "│ Cup -   ┆     ┆         ┆         ┆        ┆        ┆        ┆        ┆        ┆        ┆        │\n",
       "│ 2014    ┆     ┆         ┆         ┆        ┆        ┆        ┆        ┆        ┆        ┆        │\n",
       "│ ENG -   ┆ 1   ┆ 2       ┆ 2015    ┆ 2016   ┆ 2015/2 ┆ 1      ┆ ENG    ┆ Premie ┆ male   ┆ adult  │\n",
       "│ Premier ┆     ┆         ┆         ┆        ┆ 016    ┆        ┆        ┆ r      ┆        ┆        │\n",
       "│ League  ┆     ┆         ┆         ┆        ┆        ┆        ┆        ┆ League ┆        ┆        │\n",
       "│ - 2015/ ┆     ┆         ┆         ┆        ┆        ┆        ┆        ┆        ┆        ┆        │\n",
       "│ 20…     ┆     ┆         ┆         ┆        ┆        ┆        ┆        ┆        ┆        ┆        │\n",
       "│ UEFA -  ┆ 2   ┆ 12      ┆ 2016    ┆ 2016   ┆ 2016   ┆ 2      ┆ UEFA   ┆ Europe ┆ male   ┆ adult  │\n",
       "│ Europea ┆     ┆         ┆         ┆        ┆        ┆        ┆        ┆ an Cha ┆        ┆        │\n",
       "│ n Champ ┆     ┆         ┆         ┆        ┆        ┆        ┆        ┆ mpions ┆        ┆        │\n",
       "│ ionship ┆     ┆         ┆         ┆        ┆        ┆        ┆        ┆ hip    ┆        ┆        │\n",
       "│ -…      ┆     ┆         ┆         ┆        ┆        ┆        ┆        ┆        ┆        ┆        │\n",
       "│ ENG -   ┆ 3   ┆ 3       ┆ 2016    ┆ 2017   ┆ 2016/2 ┆ 1      ┆ ENG    ┆ Premie ┆ male   ┆ adult  │\n",
       "│ Premier ┆     ┆         ┆         ┆        ┆ 017    ┆        ┆        ┆ r      ┆        ┆        │\n",
       "│ League  ┆     ┆         ┆         ┆        ┆        ┆        ┆        ┆ League ┆        ┆        │\n",
       "│ - 2016/ ┆     ┆         ┆         ┆        ┆        ┆        ┆        ┆        ┆        ┆        │\n",
       "│ 20…     ┆     ┆         ┆         ┆        ┆        ┆        ┆        ┆        ┆        ┆        │\n",
       "│ ENG -   ┆ 4   ┆ 4       ┆ 2017    ┆ 2018   ┆ 2017/2 ┆ 1      ┆ ENG    ┆ Premie ┆ male   ┆ adult  │\n",
       "│ Premier ┆     ┆         ┆         ┆        ┆ 018    ┆        ┆        ┆ r      ┆        ┆        │\n",
       "│ League  ┆     ┆         ┆         ┆        ┆        ┆        ┆        ┆ League ┆        ┆        │\n",
       "│ - 2017/ ┆     ┆         ┆         ┆        ┆        ┆        ┆        ┆        ┆        ┆        │\n",
       "│ 20…     ┆     ┆         ┆         ┆        ┆        ┆        ┆        ┆        ┆        ┆        │\n",
       "└─────────┴─────┴─────────┴─────────┴────────┴────────┴────────┴────────┴────────┴────────┴────────┘"
      ]
     },
     "execution_count": 22,
     "metadata": {},
     "output_type": "execute_result"
    }
   ],
   "source": [
    "ce.head()"
   ]
  },
  {
   "cell_type": "code",
   "execution_count": 23,
   "metadata": {},
   "outputs": [],
   "source": [
    "# change column name of ce df id collumn for easy join\n",
    "ce = ce.rename({\"id\":\"competition_edition_id\"})"
   ]
  },
  {
   "cell_type": "code",
   "execution_count": 24,
   "metadata": {},
   "outputs": [
    {
     "data": {
      "text/html": [
       "<div><style>\n",
       ".dataframe > thead > tr,\n",
       ".dataframe > tbody > tr {\n",
       "  text-align: right;\n",
       "  white-space: pre-wrap;\n",
       "}\n",
       "</style>\n",
       "<small>shape: (5, 11)</small><table border=\"1\" class=\"dataframe\"><thead><tr><th>name</th><th>competition_edition_id</th><th>season_id</th><th>season_start_year</th><th>season_end_year</th><th>season_name</th><th>competition_id</th><th>competition_area</th><th>competition_name</th><th>competition_gender</th><th>competition_age_group</th></tr><tr><td>str</td><td>i64</td><td>i64</td><td>i64</td><td>i64</td><td>str</td><td>i64</td><td>str</td><td>str</td><td>str</td><td>str</td></tr></thead><tbody><tr><td>&quot;FIFA - World Cup - 2014&quot;</td><td>0</td><td>10</td><td>2014</td><td>2014</td><td>&quot;2014&quot;</td><td>0</td><td>&quot;FIFA&quot;</td><td>&quot;World Cup&quot;</td><td>&quot;male&quot;</td><td>&quot;adult&quot;</td></tr><tr><td>&quot;ENG - Premier League - 2015/20…</td><td>1</td><td>2</td><td>2015</td><td>2016</td><td>&quot;2015/2016&quot;</td><td>1</td><td>&quot;ENG&quot;</td><td>&quot;Premier League&quot;</td><td>&quot;male&quot;</td><td>&quot;adult&quot;</td></tr><tr><td>&quot;UEFA - European Championship -…</td><td>2</td><td>12</td><td>2016</td><td>2016</td><td>&quot;2016&quot;</td><td>2</td><td>&quot;UEFA&quot;</td><td>&quot;European Championship&quot;</td><td>&quot;male&quot;</td><td>&quot;adult&quot;</td></tr><tr><td>&quot;ENG - Premier League - 2016/20…</td><td>3</td><td>3</td><td>2016</td><td>2017</td><td>&quot;2016/2017&quot;</td><td>1</td><td>&quot;ENG&quot;</td><td>&quot;Premier League&quot;</td><td>&quot;male&quot;</td><td>&quot;adult&quot;</td></tr><tr><td>&quot;ENG - Premier League - 2017/20…</td><td>4</td><td>4</td><td>2017</td><td>2018</td><td>&quot;2017/2018&quot;</td><td>1</td><td>&quot;ENG&quot;</td><td>&quot;Premier League&quot;</td><td>&quot;male&quot;</td><td>&quot;adult&quot;</td></tr></tbody></table></div>"
      ],
      "text/plain": [
       "shape: (5, 11)\n",
       "┌────────┬────────┬────────┬────────┬────────┬────────┬────────┬────────┬────────┬────────┬────────┐\n",
       "│ name   ┆ compet ┆ season ┆ season ┆ season ┆ season ┆ compet ┆ compet ┆ compet ┆ compet ┆ compet │\n",
       "│ ---    ┆ ition_ ┆ _id    ┆ _start ┆ _end_y ┆ _name  ┆ ition_ ┆ ition_ ┆ ition_ ┆ ition_ ┆ ition_ │\n",
       "│ str    ┆ editio ┆ ---    ┆ _year  ┆ ear    ┆ ---    ┆ id     ┆ area   ┆ name   ┆ gender ┆ age_gr │\n",
       "│        ┆ n_id   ┆ i64    ┆ ---    ┆ ---    ┆ str    ┆ ---    ┆ ---    ┆ ---    ┆ ---    ┆ oup    │\n",
       "│        ┆ ---    ┆        ┆ i64    ┆ i64    ┆        ┆ i64    ┆ str    ┆ str    ┆ str    ┆ ---    │\n",
       "│        ┆ i64    ┆        ┆        ┆        ┆        ┆        ┆        ┆        ┆        ┆ str    │\n",
       "╞════════╪════════╪════════╪════════╪════════╪════════╪════════╪════════╪════════╪════════╪════════╡\n",
       "│ FIFA - ┆ 0      ┆ 10     ┆ 2014   ┆ 2014   ┆ 2014   ┆ 0      ┆ FIFA   ┆ World  ┆ male   ┆ adult  │\n",
       "│ World  ┆        ┆        ┆        ┆        ┆        ┆        ┆        ┆ Cup    ┆        ┆        │\n",
       "│ Cup -  ┆        ┆        ┆        ┆        ┆        ┆        ┆        ┆        ┆        ┆        │\n",
       "│ 2014   ┆        ┆        ┆        ┆        ┆        ┆        ┆        ┆        ┆        ┆        │\n",
       "│ ENG -  ┆ 1      ┆ 2      ┆ 2015   ┆ 2016   ┆ 2015/2 ┆ 1      ┆ ENG    ┆ Premie ┆ male   ┆ adult  │\n",
       "│ Premie ┆        ┆        ┆        ┆        ┆ 016    ┆        ┆        ┆ r      ┆        ┆        │\n",
       "│ r      ┆        ┆        ┆        ┆        ┆        ┆        ┆        ┆ League ┆        ┆        │\n",
       "│ League ┆        ┆        ┆        ┆        ┆        ┆        ┆        ┆        ┆        ┆        │\n",
       "│ - 2015 ┆        ┆        ┆        ┆        ┆        ┆        ┆        ┆        ┆        ┆        │\n",
       "│ /20…   ┆        ┆        ┆        ┆        ┆        ┆        ┆        ┆        ┆        ┆        │\n",
       "│ UEFA - ┆ 2      ┆ 12     ┆ 2016   ┆ 2016   ┆ 2016   ┆ 2      ┆ UEFA   ┆ Europe ┆ male   ┆ adult  │\n",
       "│ Europe ┆        ┆        ┆        ┆        ┆        ┆        ┆        ┆ an Cha ┆        ┆        │\n",
       "│ an Cha ┆        ┆        ┆        ┆        ┆        ┆        ┆        ┆ mpions ┆        ┆        │\n",
       "│ mpions ┆        ┆        ┆        ┆        ┆        ┆        ┆        ┆ hip    ┆        ┆        │\n",
       "│ hip -… ┆        ┆        ┆        ┆        ┆        ┆        ┆        ┆        ┆        ┆        │\n",
       "│ ENG -  ┆ 3      ┆ 3      ┆ 2016   ┆ 2017   ┆ 2016/2 ┆ 1      ┆ ENG    ┆ Premie ┆ male   ┆ adult  │\n",
       "│ Premie ┆        ┆        ┆        ┆        ┆ 017    ┆        ┆        ┆ r      ┆        ┆        │\n",
       "│ r      ┆        ┆        ┆        ┆        ┆        ┆        ┆        ┆ League ┆        ┆        │\n",
       "│ League ┆        ┆        ┆        ┆        ┆        ┆        ┆        ┆        ┆        ┆        │\n",
       "│ - 2016 ┆        ┆        ┆        ┆        ┆        ┆        ┆        ┆        ┆        ┆        │\n",
       "│ /20…   ┆        ┆        ┆        ┆        ┆        ┆        ┆        ┆        ┆        ┆        │\n",
       "│ ENG -  ┆ 4      ┆ 4      ┆ 2017   ┆ 2018   ┆ 2017/2 ┆ 1      ┆ ENG    ┆ Premie ┆ male   ┆ adult  │\n",
       "│ Premie ┆        ┆        ┆        ┆        ┆ 018    ┆        ┆        ┆ r      ┆        ┆        │\n",
       "│ r      ┆        ┆        ┆        ┆        ┆        ┆        ┆        ┆ League ┆        ┆        │\n",
       "│ League ┆        ┆        ┆        ┆        ┆        ┆        ┆        ┆        ┆        ┆        │\n",
       "│ - 2017 ┆        ┆        ┆        ┆        ┆        ┆        ┆        ┆        ┆        ┆        │\n",
       "│ /20…   ┆        ┆        ┆        ┆        ┆        ┆        ┆        ┆        ┆        ┆        │\n",
       "└────────┴────────┴────────┴────────┴────────┴────────┴────────┴────────┴────────┴────────┴────────┘"
      ]
     },
     "execution_count": 24,
     "metadata": {},
     "output_type": "execute_result"
    }
   ],
   "source": [
    "ce.head()"
   ]
  },
  {
   "cell_type": "code",
   "execution_count": 25,
   "metadata": {},
   "outputs": [],
   "source": [
    "#join corr_df (competition_edition_id) and ce_df (id)\n",
    "work_df = corr_df.join(ce, on = \"competition_edition_id\")"
   ]
  },
  {
   "cell_type": "code",
   "execution_count": 26,
   "metadata": {},
   "outputs": [
    {
     "data": {
      "text/html": [
       "<div><style>\n",
       ".dataframe > thead > tr,\n",
       ".dataframe > tbody > tr {\n",
       "  text-align: right;\n",
       "  white-space: pre-wrap;\n",
       "}\n",
       "</style>\n",
       "<small>shape: (5, 127)</small><table border=\"1\" class=\"dataframe\"><thead><tr><th>Minutes</th><th>Count Sprint OTIP 2</th><th>Count Medium Acceleration OTIP</th><th>Distance</th><th>Distance 1</th><th>Count Sprint 1</th><th>Sprinting Distance TIP 1</th><th>player_birthdate</th><th>match_name</th><th>Count HSR 1</th><th>Count HSR TIP</th><th>Count High Deceleration TIP</th><th>Count Medium Deceleration</th><th>Sprinting Distance 1</th><th>Count High Deceleration 1</th><th>Minutes OTIP 2</th><th>Count HSR TIP 2</th><th>Count High Deceleration OTIP</th><th>Sprinting Distance OTIP 1</th><th>Sprinting Distance 2</th><th>Count Medium Acceleration 1</th><th>Distance TIP 1</th><th>HSR Distance TIP</th><th>Running Distance TIP 1</th><th>Minutes 2</th><th>Count Medium Deceleration TIP 1</th><th>match_id</th><th>Distance OTIP 1</th><th>Count Medium Acceleration 2</th><th>Count Medium Deceleration 1</th><th>Count Medium Acceleration TIP</th><th>Count High Acceleration OTIP</th><th>Sprinting Distance TIP 2</th><th>Count HSR OTIP</th><th>Count High Acceleration OTIP 2</th><th>HSR Distance OTIP 2</th><th>Count Medium Acceleration OTIP 1</th><th>competition_edition_id</th><th>Count Sprint</th><th>Count Medium Acceleration</th><th>Sprinting Distance OTIP</th><th>Count Medium Acceleration TIP 1</th><th>HSR Distance OTIP</th><th>Count High Acceleration TIP 1</th><th>Sprinting Distance OTIP 2</th><th>Count Medium Deceleration OTIP</th><th>Minutes OTIP</th><th>Count Medium Deceleration 2</th><th>Running Distance</th><th>Running Distance 2</th><th>HSR Distance 2</th><th>Count High Acceleration OTIP 1</th><th>Count Sprint TIP</th><th>Running Distance OTIP 1</th><th>team_name</th><th>Count Medium Deceleration OTIP 2</th><th>season_name</th><th>group</th><th>Distance OTIP 2</th><th>player_name</th><th>Distance TIP 2</th><th>Count Medium Deceleration TIP</th><th>Sprinting Distance</th><th>HSR Distance TIP 2</th><th>Count Medium Deceleration TIP 2</th><th>Running Distance OTIP</th><th>quality_check</th><th>Count Medium Deceleration OTIP 1</th><th>Count Sprint OTIP</th><th>Minutes OTIP 1</th><th>Count Sprint TIP 1</th><th>short_name</th><th>team</th><th>Count High Acceleration 1</th><th>Count HSR OTIP 1</th><th>Count HSR</th><th>Minutes TIP 1</th><th>Running Distance TIP</th><th>Count High Deceleration OTIP 2</th><th>player_id</th><th>Running Distance 1</th><th>Count Medium Acceleration OTIP 2</th><th>Count High Acceleration</th><th>PSV-99</th><th>Count High Acceleration 2</th><th>HSR Distance TIP 1</th><th>Count High Acceleration TIP</th><th>Count Sprint OTIP 1</th><th>Count High Acceleration TIP 2</th><th>Count Medium Acceleration TIP 2</th><th>Minutes TIP</th><th>position</th><th>HSR Distance 1</th><th>Distance 2</th><th>Minutes 1</th><th>Count Sprint 2</th><th>Minutes TIP 2</th><th>Count HSR OTIP 2</th><th>Count High Deceleration TIP 1</th><th>date</th><th>Count High Deceleration</th><th>Count High Deceleration TIP 2</th><th>Running Distance TIP 2</th><th>competition_id</th><th>Count Sprint TIP 2</th><th>HSR Distance</th><th>Count HSR 2</th><th>Count HSR TIP 1</th><th>season_id</th><th>Distance OTIP</th><th>Count High Deceleration OTIP 1</th><th>Distance TIP</th><th>Count High Deceleration 2</th><th>Running Distance OTIP 2</th><th>Sprinting Distance TIP</th><th>HSR Distance OTIP 1</th><th>team_id</th><th>name</th><th>season_id_right</th><th>season_start_year</th><th>season_end_year</th><th>season_name_right</th><th>competition_id_right</th><th>competition_area</th><th>competition_name</th><th>competition_gender</th><th>competition_age_group</th></tr><tr><td>f64</td><td>i64</td><td>i64</td><td>i64</td><td>i64</td><td>i64</td><td>i64</td><td>str</td><td>str</td><td>i64</td><td>i64</td><td>i64</td><td>i64</td><td>i64</td><td>i64</td><td>f64</td><td>i64</td><td>i64</td><td>i64</td><td>i64</td><td>i64</td><td>i64</td><td>i64</td><td>i64</td><td>f64</td><td>i64</td><td>i64</td><td>i64</td><td>i64</td><td>i64</td><td>i64</td><td>i64</td><td>i64</td><td>i64</td><td>i64</td><td>i64</td><td>i64</td><td>i64</td><td>i64</td><td>i64</td><td>i64</td><td>i64</td><td>i64</td><td>i64</td><td>i64</td><td>i64</td><td>f64</td><td>i64</td><td>i64</td><td>i64</td><td>i64</td><td>i64</td><td>i64</td><td>i64</td><td>str</td><td>i64</td><td>str</td><td>str</td><td>i64</td><td>str</td><td>i64</td><td>i64</td><td>i64</td><td>i64</td><td>i64</td><td>i64</td><td>bool</td><td>i64</td><td>i64</td><td>f64</td><td>i64</td><td>str</td><td>str</td><td>i64</td><td>i64</td><td>i64</td><td>f64</td><td>i64</td><td>i64</td><td>i64</td><td>i64</td><td>i64</td><td>i64</td><td>f64</td><td>i64</td><td>i64</td><td>i64</td><td>i64</td><td>i64</td><td>i64</td><td>f64</td><td>str</td><td>i64</td><td>i64</td><td>f64</td><td>i64</td><td>f64</td><td>i64</td><td>i64</td><td>str</td><td>i64</td><td>i64</td><td>i64</td><td>i64</td><td>i64</td><td>i64</td><td>i64</td><td>i64</td><td>i64</td><td>i64</td><td>i64</td><td>i64</td><td>i64</td><td>i64</td><td>i64</td><td>i64</td><td>i64</td><td>str</td><td>i64</td><td>i64</td><td>i64</td><td>str</td><td>i64</td><td>str</td><td>str</td><td>str</td><td>str</td></tr></thead><tbody><tr><td>96.63</td><td>1</td><td>47</td><td>13026</td><td>6810</td><td>3</td><td>11</td><td>&quot;1995-02-17&quot;</td><td>&quot;KV Mechelen v Royal Antwerp FC&quot;</td><td>33</td><td>19</td><td>3</td><td>89</td><td>92</td><td>8</td><td>17.3</td><td>6</td><td>4</td><td>27</td><td>56</td><td>52</td><td>1874</td><td>260</td><td>369</td><td>49.48</td><td>8</td><td>44999</td><td>2983</td><td>48</td><td>42</td><td>22</td><td>0</td><td>19</td><td>34</td><td>0</td><td>218</td><td>24</td><td>249</td><td>5</td><td>100</td><td>45</td><td>12</td><td>443</td><td>0</td><td>18</td><td>34</td><td>35.57</td><td>47</td><td>2415</td><td>1061</td><td>358</td><td>0</td><td>2</td><td>842</td><td>&quot;Royal Antwerp FC&quot;</td><td>17</td><td>&quot;2021/2022&quot;</td><td>&quot;Midfield&quot;</td><td>2744</td><td>&quot;Pieter Gerkens&quot;</td><td>1558</td><td>17</td><td>148</td><td>121</td><td>9</td><td>1504</td><td>true</td><td>17</td><td>2</td><td>18.27</td><td>1</td><td>&quot;P. Gerkens&quot;</td><td>&quot;Royal Antwerp FC&quot;</td><td>3</td><td>17</td><td>59</td><td>13.13</td><td>661</td><td>1</td><td>8701</td><td>1354</td><td>23</td><td>4</td><td>25.7</td><td>1</td><td>139</td><td>0</td><td>1</td><td>0</td><td>10</td><td>24.21</td><td>&quot;AM&quot;</td><td>387</td><td>6216</td><td>47.15</td><td>2</td><td>11.08</td><td>17</td><td>2</td><td>&quot;2021-07-25&quot;</td><td>11</td><td>1</td><td>292</td><td>16</td><td>1</td><td>745</td><td>26</td><td>13</td><td>8</td><td>5727</td><td>3</td><td>3432</td><td>3</td><td>662</td><td>30</td><td>225</td><td>462</td><td>&quot;BEL - Pro League - 2021/2022&quot;</td><td>8</td><td>2021</td><td>2022</td><td>&quot;2021/2022&quot;</td><td>16</td><td>&quot;BEL&quot;</td><td>&quot;Pro League&quot;</td><td>&quot;male&quot;</td><td>&quot;adult&quot;</td></tr><tr><td>96.19</td><td>0</td><td>32</td><td>9969</td><td>4842</td><td>3</td><td>17</td><td>&quot;1989-07-25&quot;</td><td>&quot;Oud-Heverlee Leuven v SV Zulte…</td><td>20</td><td>20</td><td>2</td><td>77</td><td>48</td><td>5</td><td>15.07</td><td>11</td><td>1</td><td>24</td><td>154</td><td>36</td><td>1660</td><td>265</td><td>267</td><td>50.07</td><td>9</td><td>45002</td><td>1795</td><td>41</td><td>31</td><td>25</td><td>1</td><td>119</td><td>17</td><td>1</td><td>63</td><td>15</td><td>249</td><td>8</td><td>77</td><td>24</td><td>11</td><td>167</td><td>1</td><td>0</td><td>25</td><td>29.59</td><td>46</td><td>1101</td><td>612</td><td>275</td><td>0</td><td>4</td><td>178</td><td>&quot;Oud-Heverlee Leuven&quot;</td><td>14</td><td>&quot;2021/2022&quot;</td><td>&quot;Midfield&quot;</td><td>1739</td><td>&quot;Xavier Mercier&quot;</td><td>1775</td><td>20</td><td>202</td><td>184</td><td>11</td><td>402</td><td>true</td><td>11</td><td>1</td><td>14.52</td><td>1</td><td>&quot;X. Mercier&quot;</td><td>&quot;Oud-Heverlee Leuven&quot;</td><td>3</td><td>10</td><td>39</td><td>13.2</td><td>610</td><td>0</td><td>10932</td><td>489</td><td>17</td><td>5</td><td>28.3</td><td>2</td><td>81</td><td>2</td><td>1</td><td>1</td><td>14</td><td>25.52</td><td>&quot;AM&quot;</td><td>201</td><td>5127</td><td>46.12</td><td>5</td><td>12.32</td><td>7</td><td>1</td><td>&quot;2021-07-24&quot;</td><td>8</td><td>1</td><td>343</td><td>16</td><td>3</td><td>476</td><td>19</td><td>9</td><td>8</td><td>3534</td><td>1</td><td>3435</td><td>3</td><td>224</td><td>136</td><td>104</td><td>27</td><td>&quot;BEL - Pro League - 2021/2022&quot;</td><td>8</td><td>2021</td><td>2022</td><td>&quot;2021/2022&quot;</td><td>16</td><td>&quot;BEL&quot;</td><td>&quot;Pro League&quot;</td><td>&quot;male&quot;</td><td>&quot;adult&quot;</td></tr><tr><td>71.07</td><td>1</td><td>23</td><td>8709</td><td>5620</td><td>4</td><td>26</td><td>&quot;1996-01-18&quot;</td><td>&quot;Oud-Heverlee Leuven v SV Zulte…</td><td>21</td><td>18</td><td>2</td><td>82</td><td>95</td><td>7</td><td>6.57</td><td>5</td><td>3</td><td>29</td><td>10</td><td>39</td><td>2289</td><td>222</td><td>427</td><td>24.95</td><td>22</td><td>45002</td><td>1938</td><td>25</td><td>57</td><td>26</td><td>2</td><td>0</td><td>14</td><td>1</td><td>78</td><td>17</td><td>249</td><td>5</td><td>64</td><td>36</td><td>18</td><td>167</td><td>0</td><td>7</td><td>18</td><td>19.77</td><td>25</td><td>1241</td><td>527</td><td>129</td><td>1</td><td>2</td><td>253</td><td>&quot;SV Zulte-Waregem&quot;</td><td>5</td><td>&quot;2021/2022&quot;</td><td>&quot;Midfield&quot;</td><td>938</td><td>&quot;Omar Nicolás Govea García&quot;</td><td>1278</td><td>33</td><td>105</td><td>51</td><td>11</td><td>425</td><td>true</td><td>13</td><td>2</td><td>13.2</td><td>2</td><td>&quot;O. Govea&quot;</td><td>&quot;SV Zulte-Waregem&quot;</td><td>1</td><td>7</td><td>34</td><td>14.52</td><td>724</td><td>1</td><td>14625</td><td>714</td><td>6</td><td>3</td><td>26.4</td><td>2</td><td>171</td><td>1</td><td>1</td><td>1</td><td>8</td><td>22.45</td><td>&quot;AM&quot;</td><td>292</td><td>3089</td><td>46.12</td><td>1</td><td>7.93</td><td>7</td><td>1</td><td>&quot;2021-07-24&quot;</td><td>11</td><td>1</td><td>297</td><td>16</td><td>0</td><td>421</td><td>13</td><td>13</td><td>8</td><td>2876</td><td>2</td><td>3567</td><td>4</td><td>172</td><td>26</td><td>89</td><td>8</td><td>&quot;BEL - Pro League - 2021/2022&quot;</td><td>8</td><td>2021</td><td>2022</td><td>&quot;2021/2022&quot;</td><td>16</td><td>&quot;BEL&quot;</td><td>&quot;Pro League&quot;</td><td>&quot;male&quot;</td><td>&quot;adult&quot;</td></tr><tr><td>74.15</td><td>1</td><td>26</td><td>8976</td><td>5410</td><td>6</td><td>44</td><td>&quot;1996-07-18&quot;</td><td>&quot;Oud-Heverlee Leuven v SV Zulte…</td><td>25</td><td>25</td><td>3</td><td>70</td><td>76</td><td>9</td><td>8.48</td><td>12</td><td>5</td><td>7</td><td>131</td><td>37</td><td>1883</td><td>337</td><td>327</td><td>28.03</td><td>13</td><td>45002</td><td>2025</td><td>27</td><td>44</td><td>21</td><td>0</td><td>88</td><td>20</td><td>0</td><td>110</td><td>17</td><td>249</td><td>12</td><td>64</td><td>27</td><td>13</td><td>224</td><td>0</td><td>20</td><td>21</td><td>23.0</td><td>26</td><td>1234</td><td>554</td><td>310</td><td>0</td><td>8</td><td>301</td><td>&quot;Oud-Heverlee Leuven&quot;</td><td>8</td><td>&quot;2021/2022&quot;</td><td>&quot;Midfield&quot;</td><td>1326</td><td>&quot;Siebe Schrijvers&quot;</td><td>1242</td><td>18</td><td>207</td><td>193</td><td>5</td><td>536</td><td>true</td><td>13</td><td>2</td><td>14.52</td><td>4</td><td>&quot;S. Schrijvers&quot;</td><td>&quot;Oud-Heverlee Leuven&quot;</td><td>0</td><td>11</td><td>50</td><td>13.2</td><td>603</td><td>3</td><td>9835</td><td>680</td><td>9</td><td>1</td><td>27.4</td><td>1</td><td>144</td><td>1</td><td>1</td><td>1</td><td>8</td><td>20.35</td><td>&quot;AM&quot;</td><td>284</td><td>3566</td><td>46.12</td><td>6</td><td>7.15</td><td>9</td><td>2</td><td>&quot;2021-07-24&quot;</td><td>15</td><td>1</td><td>276</td><td>16</td><td>4</td><td>594</td><td>25</td><td>13</td><td>8</td><td>3351</td><td>2</td><td>3125</td><td>6</td><td>235</td><td>132</td><td>114</td><td>27</td><td>&quot;BEL - Pro League - 2021/2022&quot;</td><td>8</td><td>2021</td><td>2022</td><td>&quot;2021/2022&quot;</td><td>16</td><td>&quot;BEL&quot;</td><td>&quot;Pro League&quot;</td><td>&quot;male&quot;</td><td>&quot;adult&quot;</td></tr><tr><td>110.42</td><td>1</td><td>47</td><td>11626</td><td>6257</td><td>4</td><td>36</td><td>&quot;1992-02-09&quot;</td><td>&quot;Club Brugge KV v KAS Eupen&quot;</td><td>23</td><td>17</td><td>1</td><td>85</td><td>56</td><td>6</td><td>19.18</td><td>4</td><td>3</td><td>20</td><td>4</td><td>47</td><td>2340</td><td>159</td><td>461</td><td>60.17</td><td>13</td><td>44998</td><td>2650</td><td>39</td><td>44</td><td>29</td><td>1</td><td>0</td><td>17</td><td>0</td><td>62</td><td>21</td><td>249</td><td>5</td><td>86</td><td>24</td><td>18</td><td>174</td><td>1</td><td>4</td><td>37</td><td>37.23</td><td>41</td><td>1405</td><td>462</td><td>81</td><td>1</td><td>2</td><td>468</td><td>&quot;KAS Eupen&quot;</td><td>19</td><td>&quot;2021/2022&quot;</td><td>&quot;Midfield&quot;</td><td>2252</td><td>&quot;Stef Peeters&quot;</td><td>1397</td><td>23</td><td>60</td><td>19</td><td>10</td><td>788</td><td>true</td><td>18</td><td>2</td><td>18.05</td><td>2</td><td>&quot;S. Peeters&quot;</td><td>&quot;KAS Eupen&quot;</td><td>2</td><td>9</td><td>35</td><td>15.68</td><td>603</td><td>1</td><td>11595</td><td>943</td><td>26</td><td>2</td><td>25.5</td><td>0</td><td>140</td><td>1</td><td>1</td><td>0</td><td>11</td><td>28.66</td><td>&quot;AM&quot;</td><td>253</td><td>5369</td><td>50.25</td><td>1</td><td>12.98</td><td>8</td><td>1</td><td>&quot;2021-07-25&quot;</td><td>8</td><td>0</td><td>142</td><td>16</td><td>0</td><td>334</td><td>12</td><td>13</td><td>8</td><td>4902</td><td>2</td><td>3737</td><td>2</td><td>320</td><td>36</td><td>112</td><td>26</td><td>&quot;BEL - Pro League - 2021/2022&quot;</td><td>8</td><td>2021</td><td>2022</td><td>&quot;2021/2022&quot;</td><td>16</td><td>&quot;BEL&quot;</td><td>&quot;Pro League&quot;</td><td>&quot;male&quot;</td><td>&quot;adult&quot;</td></tr></tbody></table></div>"
      ],
      "text/plain": [
       "shape: (5, 127)\n",
       "┌─────┬─────┬─────┬─────┬─────┬─────┬─────┬─────┬─────┬─────┬─────┬─────┬─────┬─────┬─────┬─────┬─────┬─────┬─────┬─────┬─────┬─────┬─────┬─────┬─────┬─────┬─────┬─────┬─────┬─────┬─────┬─────┬─────┬─────┬─────┬─────┬─────┬─────┬─────┬─────┬─────┬─────┬─────┬─────┬─────┬─────┬─────┬─────┬─────┬─────┬─────┬─────┬─────┬─────┬─────┬─────┬─────┬─────┬─────┬─────┬─────┬─────┬─────┬─────┬─────┬─────┬─────┬─────┬─────┬─────┬─────┬─────┬─────┬─────┬─────┬─────┬─────┬─────┬─────┬─────┬─────┬─────┬─────┬─────┬─────┬─────┬─────┬─────┬─────┬─────┬─────┬─────┬─────┬─────┬─────┬─────┬─────┬─────┬─────┬─────┬─────┬─────┬─────┬─────┬─────┬─────┬─────┬─────┬─────┬─────┬─────┬─────┬─────┬─────┬─────┬─────┬─────┬─────┬─────┬─────┬─────┬─────┬─────┬─────┬─────┬─────┬─────┐\n",
       "│ Min ┆ Cou ┆ Cou ┆ Dis ┆ Dis ┆ Cou ┆ Spr ┆ pla ┆ mat ┆ Cou ┆ Cou ┆ Cou ┆ Cou ┆ Spr ┆ Cou ┆ Min ┆ Cou ┆ Cou ┆ Spr ┆ Spr ┆ Cou ┆ Dis ┆ HSR ┆ Run ┆ Min ┆ Cou ┆ mat ┆ Dis ┆ Cou ┆ Cou ┆ Cou ┆ Cou ┆ Spr ┆ Cou ┆ Cou ┆ HSR ┆ Cou ┆ com ┆ Cou ┆ Cou ┆ Spr ┆ Cou ┆ HSR ┆ Cou ┆ Spr ┆ Cou ┆ Min ┆ Cou ┆ Run ┆ Run ┆ HSR ┆ Cou ┆ Cou ┆ Run ┆ tea ┆ Cou ┆ sea ┆ gro ┆ Dis ┆ pla ┆ Dis ┆ Cou ┆ Spr ┆ HSR ┆ Cou ┆ Run ┆ qua ┆ Cou ┆ Cou ┆ Min ┆ Cou ┆ sho ┆ tea ┆ Cou ┆ Cou ┆ Cou ┆ Min ┆ Run ┆ Cou ┆ pla ┆ Run ┆ Cou ┆ Cou ┆ PSV ┆ Cou ┆ HSR ┆ Cou ┆ Cou ┆ Cou ┆ Cou ┆ Min ┆ pos ┆ HSR ┆ Dis ┆ Min ┆ Cou ┆ Min ┆ Cou ┆ Cou ┆ dat ┆ Cou ┆ Cou ┆ Run ┆ com ┆ Cou ┆ HSR ┆ Cou ┆ Cou ┆ sea ┆ Dis ┆ Cou ┆ Dis ┆ Cou ┆ Run ┆ Spr ┆ HSR ┆ tea ┆ nam ┆ sea ┆ sea ┆ sea ┆ sea ┆ com ┆ com ┆ com ┆ com ┆ com │\n",
       "│ ute ┆ nt  ┆ nt  ┆ tan ┆ tan ┆ nt  ┆ int ┆ yer ┆ ch_ ┆ nt  ┆ nt  ┆ nt  ┆ nt  ┆ int ┆ nt  ┆ ute ┆ nt  ┆ nt  ┆ int ┆ int ┆ nt  ┆ tan ┆ Dis ┆ nin ┆ ute ┆ nt  ┆ ch_ ┆ tan ┆ nt  ┆ nt  ┆ nt  ┆ nt  ┆ int ┆ nt  ┆ nt  ┆ Dis ┆ nt  ┆ pet ┆ nt  ┆ nt  ┆ int ┆ nt  ┆ Dis ┆ nt  ┆ int ┆ nt  ┆ ute ┆ nt  ┆ nin ┆ nin ┆ Dis ┆ nt  ┆ nt  ┆ nin ┆ m_n ┆ nt  ┆ son ┆ up  ┆ tan ┆ yer ┆ tan ┆ nt  ┆ int ┆ Dis ┆ nt  ┆ nin ┆ lit ┆ nt  ┆ nt  ┆ ute ┆ nt  ┆ rt_ ┆ m   ┆ nt  ┆ nt  ┆ nt  ┆ ute ┆ nin ┆ nt  ┆ yer ┆ nin ┆ nt  ┆ nt  ┆ -99 ┆ nt  ┆ Dis ┆ nt  ┆ nt  ┆ nt  ┆ nt  ┆ ute ┆ iti ┆ Dis ┆ tan ┆ ute ┆ nt  ┆ ute ┆ nt  ┆ nt  ┆ e   ┆ nt  ┆ nt  ┆ nin ┆ pet ┆ nt  ┆ Dis ┆ nt  ┆ nt  ┆ son ┆ tan ┆ nt  ┆ tan ┆ nt  ┆ nin ┆ int ┆ Dis ┆ m_i ┆ e   ┆ son ┆ son ┆ son ┆ son ┆ pet ┆ pet ┆ pet ┆ pet ┆ pet │\n",
       "│ s   ┆ Spr ┆ Med ┆ ce  ┆ ce  ┆ Spr ┆ ing ┆ _bi ┆ nam ┆ HSR ┆ HSR ┆ Hig ┆ Med ┆ ing ┆ Hig ┆ s   ┆ HSR ┆ Hig ┆ ing ┆ ing ┆ Med ┆ ce  ┆ tan ┆ g   ┆ s 2 ┆ Med ┆ id  ┆ ce  ┆ Med ┆ Med ┆ Med ┆ Hig ┆ ing ┆ HSR ┆ Hig ┆ tan ┆ Med ┆ iti ┆ Spr ┆ Med ┆ ing ┆ Med ┆ tan ┆ Hig ┆ ing ┆ Med ┆ s   ┆ Med ┆ g   ┆ g   ┆ tan ┆ Hig ┆ Spr ┆ g   ┆ ame ┆ Med ┆ _na ┆ --- ┆ ce  ┆ _na ┆ ce  ┆ Med ┆ ing ┆ tan ┆ Med ┆ g   ┆ y_c ┆ Med ┆ Spr ┆ s   ┆ Spr ┆ nam ┆ --- ┆ Hig ┆ HSR ┆ HSR ┆ s   ┆ g   ┆ Hig ┆ _id ┆ g   ┆ Med ┆ Hig ┆ --- ┆ Hig ┆ tan ┆ Hig ┆ Spr ┆ Hig ┆ Med ┆ s   ┆ on  ┆ tan ┆ ce  ┆ s 1 ┆ Spr ┆ s   ┆ HSR ┆ Hig ┆ --- ┆ Hig ┆ Hig ┆ g   ┆ iti ┆ Spr ┆ tan ┆ HSR ┆ HSR ┆ _id ┆ ce  ┆ Hig ┆ ce  ┆ Hig ┆ g   ┆ ing ┆ tan ┆ d   ┆ --- ┆ _id ┆ _st ┆ _en ┆ _na ┆ iti ┆ iti ┆ iti ┆ iti ┆ iti │\n",
       "│ --- ┆ int ┆ ium ┆ --- ┆ 1   ┆ int ┆ Dis ┆ rth ┆ e   ┆ 1   ┆ TIP ┆ h   ┆ ium ┆ Dis ┆ h   ┆ OTI ┆ TIP ┆ h   ┆ Dis ┆ Dis ┆ ium ┆ TIP ┆ ce  ┆ Dis ┆ --- ┆ ium ┆ --- ┆ OTI ┆ ium ┆ ium ┆ ium ┆ h   ┆ Dis ┆ OTI ┆ h   ┆ ce  ┆ ium ┆ on_ ┆ int ┆ ium ┆ Dis ┆ ium ┆ ce  ┆ h   ┆ Dis ┆ ium ┆ OTI ┆ ium ┆ Dis ┆ Dis ┆ ce  ┆ h   ┆ int ┆ Dis ┆ --- ┆ ium ┆ me  ┆ str ┆ OTI ┆ me  ┆ TIP ┆ ium ┆ Dis ┆ ce  ┆ ium ┆ Dis ┆ hec ┆ ium ┆ int ┆ OTI ┆ int ┆ e   ┆ str ┆ h   ┆ OTI ┆ --- ┆ TIP ┆ Dis ┆ h   ┆ --- ┆ Dis ┆ ium ┆ h   ┆ f64 ┆ h   ┆ ce  ┆ h   ┆ int ┆ h   ┆ ium ┆ TIP ┆ --- ┆ ce  ┆ 2   ┆ --- ┆ int ┆ TIP ┆ OTI ┆ h   ┆ str ┆ h   ┆ h   ┆ Dis ┆ on_ ┆ int ┆ ce  ┆ 2   ┆ TIP ┆ --- ┆ OTI ┆ h   ┆ TIP ┆ h   ┆ Dis ┆ Dis ┆ ce  ┆ --- ┆ str ┆ _ri ┆ art ┆ d_y ┆ me_ ┆ on_ ┆ on_ ┆ on_ ┆ on_ ┆ on_ │\n",
       "│ f64 ┆ OTI ┆ Acc ┆ i64 ┆ --- ┆ 1   ┆ tan ┆ dat ┆ --- ┆ --- ┆ --- ┆ Dec ┆ Dec ┆ tan ┆ Dec ┆ P 2 ┆ 2   ┆ Dec ┆ tan ┆ tan ┆ Acc ┆ 1   ┆ TIP ┆ tan ┆ f64 ┆ Dec ┆ i64 ┆ P 1 ┆ Acc ┆ Dec ┆ Acc ┆ Acc ┆ tan ┆ P   ┆ Acc ┆ OTI ┆ Acc ┆ edi ┆ --- ┆ Acc ┆ tan ┆ Acc ┆ OTI ┆ Acc ┆ tan ┆ Dec ┆ P   ┆ Dec ┆ tan ┆ tan ┆ 2   ┆ Acc ┆ TIP ┆ tan ┆ str ┆ Dec ┆ --- ┆     ┆ P 2 ┆ --- ┆ 2   ┆ Dec ┆ tan ┆ TIP ┆ Dec ┆ tan ┆ k   ┆ Dec ┆ OTI ┆ P 1 ┆ TIP ┆ --- ┆     ┆ Acc ┆ P 1 ┆ i64 ┆ 1   ┆ tan ┆ Dec ┆ i64 ┆ tan ┆ Acc ┆ Acc ┆     ┆ Acc ┆ TIP ┆ Acc ┆ OTI ┆ Acc ┆ Acc ┆ --- ┆ str ┆ 1   ┆ --- ┆ f64 ┆ 2   ┆ 2   ┆ P 2 ┆ Dec ┆     ┆ Dec ┆ Dec ┆ tan ┆ id  ┆ TIP ┆ --- ┆ --- ┆ 1   ┆ i64 ┆ P   ┆ Dec ┆ --- ┆ Dec ┆ tan ┆ tan ┆ OTI ┆ i64 ┆     ┆ ght ┆ _ye ┆ ear ┆ rig ┆ id_ ┆ are ┆ nam ┆ gen ┆ age │\n",
       "│     ┆ P 2 ┆ ele ┆     ┆ i64 ┆ --- ┆ ce  ┆ e   ┆ str ┆ i64 ┆ i64 ┆ ele ┆ ele ┆ ce  ┆ ele ┆ --- ┆ --- ┆ ele ┆ ce  ┆ ce  ┆ ele ┆ --- ┆ --- ┆ ce  ┆     ┆ ele ┆     ┆ --- ┆ ele ┆ ele ┆ ele ┆ ele ┆ ce  ┆ --- ┆ ele ┆ P 2 ┆ ele ┆ tio ┆ i64 ┆ ele ┆ ce  ┆ ele ┆ P   ┆ ele ┆ ce  ┆ ele ┆ --- ┆ ele ┆ ce  ┆ ce  ┆ --- ┆ ele ┆ --- ┆ ce  ┆     ┆ ele ┆ str ┆     ┆ --- ┆ str ┆ --- ┆ ele ┆ ce  ┆ 2   ┆ ele ┆ ce  ┆ --- ┆ ele ┆ P   ┆ --- ┆ 1   ┆ str ┆     ┆ ele ┆ --- ┆     ┆ --- ┆ ce  ┆ ele ┆     ┆ ce  ┆ ele ┆ ele ┆     ┆ ele ┆ 1   ┆ ele ┆ P 1 ┆ ele ┆ ele ┆ f64 ┆     ┆ --- ┆ i64 ┆     ┆ --- ┆ --- ┆ --- ┆ ele ┆     ┆ ele ┆ ele ┆ ce  ┆ --- ┆ 2   ┆ i64 ┆ i64 ┆ --- ┆     ┆ --- ┆ ele ┆ i64 ┆ ele ┆ ce  ┆ ce  ┆ P 1 ┆     ┆     ┆ --- ┆ ar  ┆ --- ┆ ht  ┆ rig ┆ a   ┆ e   ┆ der ┆ _gr │\n",
       "│     ┆ --- ┆ rat ┆     ┆     ┆ i64 ┆ TIP ┆ --- ┆     ┆     ┆     ┆ rat ┆ rat ┆ 1   ┆ rat ┆ f64 ┆ i64 ┆ rat ┆ OTI ┆ 2   ┆ rat ┆ i64 ┆ i64 ┆ TIP ┆     ┆ rat ┆     ┆ i64 ┆ rat ┆ rat ┆ rat ┆ rat ┆ TIP ┆ i64 ┆ rat ┆ --- ┆ rat ┆ n_i ┆     ┆ rat ┆ OTI ┆ rat ┆ --- ┆ rat ┆ OTI ┆ rat ┆ f64 ┆ rat ┆ --- ┆ 2   ┆ i64 ┆ rat ┆ i64 ┆ OTI ┆     ┆ rat ┆     ┆     ┆ i64 ┆     ┆ i64 ┆ rat ┆ --- ┆ --- ┆ rat ┆ OTI ┆ boo ┆ rat ┆ --- ┆ f64 ┆ --- ┆     ┆     ┆ rat ┆ i64 ┆     ┆ f64 ┆ TIP ┆ rat ┆     ┆ 1   ┆ rat ┆ rat ┆     ┆ rat ┆ --- ┆ rat ┆ --- ┆ rat ┆ rat ┆     ┆     ┆ i64 ┆     ┆     ┆ i64 ┆ f64 ┆ i64 ┆ rat ┆     ┆ rat ┆ rat ┆ TIP ┆ i64 ┆ --- ┆     ┆     ┆ i64 ┆     ┆ i64 ┆ rat ┆     ┆ rat ┆ OTI ┆ TIP ┆ --- ┆     ┆     ┆ i64 ┆ --- ┆ i64 ┆ --- ┆ ht  ┆ --- ┆ --- ┆ --- ┆ oup │\n",
       "│     ┆ i64 ┆ ion ┆     ┆     ┆     ┆ 1   ┆ str ┆     ┆     ┆     ┆ ion ┆ ion ┆ --- ┆ ion ┆     ┆     ┆ ion ┆ P 1 ┆ --- ┆ ion ┆     ┆     ┆ 1   ┆     ┆ ion ┆     ┆     ┆ ion ┆ ion ┆ ion ┆ ion ┆ 2   ┆     ┆ ion ┆ i64 ┆ ion ┆ d   ┆     ┆ ion ┆ P   ┆ ion ┆ i64 ┆ ion ┆ P 2 ┆ ion ┆     ┆ ion ┆ i64 ┆ --- ┆     ┆ ion ┆     ┆ P 1 ┆     ┆ ion ┆     ┆     ┆     ┆     ┆     ┆ ion ┆ i64 ┆ i64 ┆ ion ┆ P   ┆ l   ┆ ion ┆ i64 ┆     ┆ i64 ┆     ┆     ┆ ion ┆     ┆     ┆     ┆ --- ┆ ion ┆     ┆ --- ┆ ion ┆ ion ┆     ┆ ion ┆ i64 ┆ ion ┆ i64 ┆ ion ┆ ion ┆     ┆     ┆     ┆     ┆     ┆     ┆     ┆     ┆ ion ┆     ┆ ion ┆ ion ┆ 2   ┆     ┆ i64 ┆     ┆     ┆     ┆     ┆     ┆ ion ┆     ┆ ion ┆ P 2 ┆ --- ┆ i64 ┆     ┆     ┆     ┆ i64 ┆     ┆ str ┆ --- ┆ str ┆ str ┆ str ┆ --- │\n",
       "│     ┆     ┆ OTI ┆     ┆     ┆     ┆ --- ┆     ┆     ┆     ┆     ┆ TIP ┆ --- ┆ i64 ┆ 1   ┆     ┆     ┆ OTI ┆ --- ┆ i64 ┆ 1   ┆     ┆     ┆ --- ┆     ┆ TIP ┆     ┆     ┆ 2   ┆ 1   ┆ TIP ┆ OTI ┆ --- ┆     ┆ OTI ┆     ┆ OTI ┆ --- ┆     ┆ --- ┆ --- ┆ TIP ┆     ┆ TIP ┆ --- ┆ OTI ┆     ┆ 2   ┆     ┆ i64 ┆     ┆ OTI ┆     ┆ --- ┆     ┆ OTI ┆     ┆     ┆     ┆     ┆     ┆ TIP ┆     ┆     ┆ TIP ┆ --- ┆     ┆ OTI ┆     ┆     ┆     ┆     ┆     ┆ 1   ┆     ┆     ┆     ┆ i64 ┆ OTI ┆     ┆ i64 ┆ OTI ┆ --- ┆     ┆ 2   ┆     ┆ TIP ┆     ┆ TIP ┆ TIP ┆     ┆     ┆     ┆     ┆     ┆     ┆     ┆     ┆ TIP ┆     ┆ --- ┆ TIP ┆ --- ┆     ┆     ┆     ┆     ┆     ┆     ┆     ┆ OTI ┆     ┆ 2   ┆ --- ┆ i64 ┆     ┆     ┆     ┆     ┆     ┆     ┆     ┆ i64 ┆     ┆     ┆     ┆ str │\n",
       "│     ┆     ┆ P   ┆     ┆     ┆     ┆ i64 ┆     ┆     ┆     ┆     ┆ --- ┆ i64 ┆     ┆ --- ┆     ┆     ┆ P   ┆ i64 ┆     ┆ --- ┆     ┆     ┆ i64 ┆     ┆ …   ┆     ┆     ┆ --- ┆ --- ┆ --- ┆ P   ┆ i64 ┆     ┆ P 2 ┆     ┆ P…  ┆ i64 ┆     ┆ i64 ┆ i64 ┆ …   ┆     ┆ 1   ┆ i64 ┆ P   ┆     ┆ --- ┆     ┆     ┆     ┆ P 1 ┆     ┆ i64 ┆     ┆ P…  ┆     ┆     ┆     ┆     ┆     ┆ --- ┆     ┆     ┆ …   ┆ i64 ┆     ┆ P…  ┆     ┆     ┆     ┆     ┆     ┆ --- ┆     ┆     ┆     ┆     ┆ P 2 ┆     ┆     ┆ P…  ┆ i64 ┆     ┆ --- ┆     ┆ --- ┆     ┆ 2   ┆ …   ┆     ┆     ┆     ┆     ┆     ┆     ┆     ┆     ┆ 1   ┆     ┆ i64 ┆ 2   ┆ i64 ┆     ┆     ┆     ┆     ┆     ┆     ┆     ┆ P 1 ┆     ┆ --- ┆ i64 ┆     ┆     ┆     ┆     ┆     ┆     ┆     ┆     ┆     ┆     ┆     ┆     ┆     │\n",
       "│     ┆     ┆ --- ┆     ┆     ┆     ┆     ┆     ┆     ┆     ┆     ┆ i64 ┆     ┆     ┆ i64 ┆     ┆     ┆ --- ┆     ┆     ┆ i64 ┆     ┆     ┆     ┆     ┆ --- ┆     ┆     ┆ i64 ┆ i64 ┆ i64 ┆ --- ┆     ┆     ┆ --- ┆     ┆ --- ┆     ┆     ┆     ┆     ┆ --- ┆     ┆ --- ┆     ┆ --- ┆     ┆ i64 ┆     ┆     ┆     ┆ --- ┆     ┆     ┆     ┆ --- ┆     ┆     ┆     ┆     ┆     ┆ i64 ┆     ┆     ┆ --- ┆     ┆     ┆ --- ┆     ┆     ┆     ┆     ┆     ┆ i64 ┆     ┆     ┆     ┆     ┆ --- ┆     ┆     ┆ --- ┆     ┆     ┆ i64 ┆     ┆ i64 ┆     ┆ --- ┆ --- ┆     ┆     ┆     ┆     ┆     ┆     ┆     ┆     ┆ --- ┆     ┆     ┆ --- ┆     ┆     ┆     ┆     ┆     ┆     ┆     ┆     ┆ --- ┆     ┆ i64 ┆     ┆     ┆     ┆     ┆     ┆     ┆     ┆     ┆     ┆     ┆     ┆     ┆     ┆     │\n",
       "│     ┆     ┆ i64 ┆     ┆     ┆     ┆     ┆     ┆     ┆     ┆     ┆     ┆     ┆     ┆     ┆     ┆     ┆ i64 ┆     ┆     ┆     ┆     ┆     ┆     ┆     ┆ i64 ┆     ┆     ┆     ┆     ┆     ┆ i64 ┆     ┆     ┆ i64 ┆     ┆ i64 ┆     ┆     ┆     ┆     ┆ i64 ┆     ┆ i64 ┆     ┆ i64 ┆     ┆     ┆     ┆     ┆     ┆ i64 ┆     ┆     ┆     ┆ i64 ┆     ┆     ┆     ┆     ┆     ┆     ┆     ┆     ┆ i64 ┆     ┆     ┆ i64 ┆     ┆     ┆     ┆     ┆     ┆     ┆     ┆     ┆     ┆     ┆ i64 ┆     ┆     ┆ i64 ┆     ┆     ┆     ┆     ┆     ┆     ┆ i64 ┆ i64 ┆     ┆     ┆     ┆     ┆     ┆     ┆     ┆     ┆ i64 ┆     ┆     ┆ i64 ┆     ┆     ┆     ┆     ┆     ┆     ┆     ┆     ┆ i64 ┆     ┆     ┆     ┆     ┆     ┆     ┆     ┆     ┆     ┆     ┆     ┆     ┆     ┆     ┆     ┆     │\n",
       "╞═════╪═════╪═════╪═════╪═════╪═════╪═════╪═════╪═════╪═════╪═════╪═════╪═════╪═════╪═════╪═════╪═════╪═════╪═════╪═════╪═════╪═════╪═════╪═════╪═════╪═════╪═════╪═════╪═════╪═════╪═════╪═════╪═════╪═════╪═════╪═════╪═════╪═════╪═════╪═════╪═════╪═════╪═════╪═════╪═════╪═════╪═════╪═════╪═════╪═════╪═════╪═════╪═════╪═════╪═════╪═════╪═════╪═════╪═════╪═════╪═════╪═════╪═════╪═════╪═════╪═════╪═════╪═════╪═════╪═════╪═════╪═════╪═════╪═════╪═════╪═════╪═════╪═════╪═════╪═════╪═════╪═════╪═════╪═════╪═════╪═════╪═════╪═════╪═════╪═════╪═════╪═════╪═════╪═════╪═════╪═════╪═════╪═════╪═════╪═════╪═════╪═════╪═════╪═════╪═════╪═════╪═════╪═════╪═════╪═════╪═════╪═════╪═════╪═════╪═════╪═════╪═════╪═════╪═════╪═════╪═════╪═════╪═════╪═════╪═════╪═════╪═════╡\n",
       "│ 96. ┆ 1   ┆ 47  ┆ 130 ┆ 681 ┆ 3   ┆ 11  ┆ 199 ┆ KV  ┆ 33  ┆ 19  ┆ 3   ┆ 89  ┆ 92  ┆ 8   ┆ 17. ┆ 6   ┆ 4   ┆ 27  ┆ 56  ┆ 52  ┆ 187 ┆ 260 ┆ 369 ┆ 49. ┆ 8   ┆ 449 ┆ 298 ┆ 48  ┆ 42  ┆ 22  ┆ 0   ┆ 19  ┆ 34  ┆ 0   ┆ 218 ┆ 24  ┆ 249 ┆ 5   ┆ 100 ┆ 45  ┆ 12  ┆ 443 ┆ 0   ┆ 18  ┆ 34  ┆ 35. ┆ 47  ┆ 241 ┆ 106 ┆ 358 ┆ 0   ┆ 2   ┆ 842 ┆ Roy ┆ 17  ┆ 202 ┆ Mid ┆ 274 ┆ Pie ┆ 155 ┆ 17  ┆ 148 ┆ 121 ┆ 9   ┆ 150 ┆ tru ┆ 17  ┆ 2   ┆ 18. ┆ 1   ┆ P.  ┆ Roy ┆ 3   ┆ 17  ┆ 59  ┆ 13. ┆ 661 ┆ 1   ┆ 870 ┆ 135 ┆ 23  ┆ 4   ┆ 25. ┆ 1   ┆ 139 ┆ 0   ┆ 1   ┆ 0   ┆ 10  ┆ 24. ┆ AM  ┆ 387 ┆ 621 ┆ 47. ┆ 2   ┆ 11. ┆ 17  ┆ 2   ┆ 202 ┆ 11  ┆ 1   ┆ 292 ┆ 16  ┆ 1   ┆ 745 ┆ 26  ┆ 13  ┆ 8   ┆ 572 ┆ 3   ┆ 343 ┆ 3   ┆ 662 ┆ 30  ┆ 225 ┆ 462 ┆ BEL ┆ 8   ┆ 202 ┆ 202 ┆ 202 ┆ 16  ┆ BEL ┆ Pro ┆ mal ┆ adu │\n",
       "│ 63  ┆     ┆     ┆ 26  ┆ 0   ┆     ┆     ┆ 5-0 ┆ Mec ┆     ┆     ┆     ┆     ┆     ┆     ┆ 3   ┆     ┆     ┆     ┆     ┆     ┆ 4   ┆     ┆     ┆ 48  ┆     ┆ 99  ┆ 3   ┆     ┆     ┆     ┆     ┆     ┆     ┆     ┆     ┆     ┆     ┆     ┆     ┆     ┆     ┆     ┆     ┆     ┆     ┆ 57  ┆     ┆ 5   ┆ 1   ┆     ┆     ┆     ┆     ┆ al  ┆     ┆ 1/2 ┆ fie ┆ 4   ┆ ter ┆ 8   ┆     ┆     ┆     ┆     ┆ 4   ┆ e   ┆     ┆     ┆ 27  ┆     ┆ Ger ┆ al  ┆     ┆     ┆     ┆ 13  ┆     ┆     ┆ 1   ┆ 4   ┆     ┆     ┆ 7   ┆     ┆     ┆     ┆     ┆     ┆     ┆ 21  ┆     ┆     ┆ 6   ┆ 15  ┆     ┆ 08  ┆     ┆     ┆ 1-0 ┆     ┆     ┆     ┆     ┆     ┆     ┆     ┆     ┆     ┆ 7   ┆     ┆ 2   ┆     ┆     ┆     ┆     ┆     ┆ -   ┆     ┆ 1   ┆ 2   ┆ 1/2 ┆     ┆     ┆ Lea ┆ e   ┆ lt  │\n",
       "│     ┆     ┆     ┆     ┆     ┆     ┆     ┆ 2-1 ┆ hel ┆     ┆     ┆     ┆     ┆     ┆     ┆     ┆     ┆     ┆     ┆     ┆     ┆     ┆     ┆     ┆     ┆     ┆     ┆     ┆     ┆     ┆     ┆     ┆     ┆     ┆     ┆     ┆     ┆     ┆     ┆     ┆     ┆     ┆     ┆     ┆     ┆     ┆     ┆     ┆     ┆     ┆     ┆     ┆     ┆     ┆ Ant ┆     ┆ 022 ┆ ld  ┆     ┆ Ger ┆     ┆     ┆     ┆     ┆     ┆     ┆     ┆     ┆     ┆     ┆     ┆ ken ┆ Ant ┆     ┆     ┆     ┆     ┆     ┆     ┆     ┆     ┆     ┆     ┆     ┆     ┆     ┆     ┆     ┆     ┆     ┆     ┆     ┆     ┆     ┆     ┆     ┆     ┆     ┆     ┆ 7-2 ┆     ┆     ┆     ┆     ┆     ┆     ┆     ┆     ┆     ┆     ┆     ┆     ┆     ┆     ┆     ┆     ┆     ┆ Pro ┆     ┆     ┆     ┆ 022 ┆     ┆     ┆ gue ┆     ┆     │\n",
       "│     ┆     ┆     ┆     ┆     ┆     ┆     ┆ 7   ┆ en  ┆     ┆     ┆     ┆     ┆     ┆     ┆     ┆     ┆     ┆     ┆     ┆     ┆     ┆     ┆     ┆     ┆     ┆     ┆     ┆     ┆     ┆     ┆     ┆     ┆     ┆     ┆     ┆     ┆     ┆     ┆     ┆     ┆     ┆     ┆     ┆     ┆     ┆     ┆     ┆     ┆     ┆     ┆     ┆     ┆     ┆ wer ┆     ┆     ┆     ┆     ┆ ken ┆     ┆     ┆     ┆     ┆     ┆     ┆     ┆     ┆     ┆     ┆     ┆ s   ┆ wer ┆     ┆     ┆     ┆     ┆     ┆     ┆     ┆     ┆     ┆     ┆     ┆     ┆     ┆     ┆     ┆     ┆     ┆     ┆     ┆     ┆     ┆     ┆     ┆     ┆     ┆     ┆ 5   ┆     ┆     ┆     ┆     ┆     ┆     ┆     ┆     ┆     ┆     ┆     ┆     ┆     ┆     ┆     ┆     ┆     ┆ Lea ┆     ┆     ┆     ┆     ┆     ┆     ┆     ┆     ┆     │\n",
       "│     ┆     ┆     ┆     ┆     ┆     ┆     ┆     ┆ v   ┆     ┆     ┆     ┆     ┆     ┆     ┆     ┆     ┆     ┆     ┆     ┆     ┆     ┆     ┆     ┆     ┆     ┆     ┆     ┆     ┆     ┆     ┆     ┆     ┆     ┆     ┆     ┆     ┆     ┆     ┆     ┆     ┆     ┆     ┆     ┆     ┆     ┆     ┆     ┆     ┆     ┆     ┆     ┆     ┆     ┆ p   ┆     ┆     ┆     ┆     ┆ s   ┆     ┆     ┆     ┆     ┆     ┆     ┆     ┆     ┆     ┆     ┆     ┆     ┆ p   ┆     ┆     ┆     ┆     ┆     ┆     ┆     ┆     ┆     ┆     ┆     ┆     ┆     ┆     ┆     ┆     ┆     ┆     ┆     ┆     ┆     ┆     ┆     ┆     ┆     ┆     ┆     ┆     ┆     ┆     ┆     ┆     ┆     ┆     ┆     ┆     ┆     ┆     ┆     ┆     ┆     ┆     ┆     ┆     ┆ gue ┆     ┆     ┆     ┆     ┆     ┆     ┆     ┆     ┆     │\n",
       "│     ┆     ┆     ┆     ┆     ┆     ┆     ┆     ┆ Roy ┆     ┆     ┆     ┆     ┆     ┆     ┆     ┆     ┆     ┆     ┆     ┆     ┆     ┆     ┆     ┆     ┆     ┆     ┆     ┆     ┆     ┆     ┆     ┆     ┆     ┆     ┆     ┆     ┆     ┆     ┆     ┆     ┆     ┆     ┆     ┆     ┆     ┆     ┆     ┆     ┆     ┆     ┆     ┆     ┆     ┆ FC  ┆     ┆     ┆     ┆     ┆     ┆     ┆     ┆     ┆     ┆     ┆     ┆     ┆     ┆     ┆     ┆     ┆     ┆ FC  ┆     ┆     ┆     ┆     ┆     ┆     ┆     ┆     ┆     ┆     ┆     ┆     ┆     ┆     ┆     ┆     ┆     ┆     ┆     ┆     ┆     ┆     ┆     ┆     ┆     ┆     ┆     ┆     ┆     ┆     ┆     ┆     ┆     ┆     ┆     ┆     ┆     ┆     ┆     ┆     ┆     ┆     ┆     ┆     ┆ -   ┆     ┆     ┆     ┆     ┆     ┆     ┆     ┆     ┆     │\n",
       "│     ┆     ┆     ┆     ┆     ┆     ┆     ┆     ┆ al  ┆     ┆     ┆     ┆     ┆     ┆     ┆     ┆     ┆     ┆     ┆     ┆     ┆     ┆     ┆     ┆     ┆     ┆     ┆     ┆     ┆     ┆     ┆     ┆     ┆     ┆     ┆     ┆     ┆     ┆     ┆     ┆     ┆     ┆     ┆     ┆     ┆     ┆     ┆     ┆     ┆     ┆     ┆     ┆     ┆     ┆     ┆     ┆     ┆     ┆     ┆     ┆     ┆     ┆     ┆     ┆     ┆     ┆     ┆     ┆     ┆     ┆     ┆     ┆     ┆     ┆     ┆     ┆     ┆     ┆     ┆     ┆     ┆     ┆     ┆     ┆     ┆     ┆     ┆     ┆     ┆     ┆     ┆     ┆     ┆     ┆     ┆     ┆     ┆     ┆     ┆     ┆     ┆     ┆     ┆     ┆     ┆     ┆     ┆     ┆     ┆     ┆     ┆     ┆     ┆     ┆     ┆     ┆     ┆ 202 ┆     ┆     ┆     ┆     ┆     ┆     ┆     ┆     ┆     │\n",
       "│     ┆     ┆     ┆     ┆     ┆     ┆     ┆     ┆ Ant ┆     ┆     ┆     ┆     ┆     ┆     ┆     ┆     ┆     ┆     ┆     ┆     ┆     ┆     ┆     ┆     ┆     ┆     ┆     ┆     ┆     ┆     ┆     ┆     ┆     ┆     ┆     ┆     ┆     ┆     ┆     ┆     ┆     ┆     ┆     ┆     ┆     ┆     ┆     ┆     ┆     ┆     ┆     ┆     ┆     ┆     ┆     ┆     ┆     ┆     ┆     ┆     ┆     ┆     ┆     ┆     ┆     ┆     ┆     ┆     ┆     ┆     ┆     ┆     ┆     ┆     ┆     ┆     ┆     ┆     ┆     ┆     ┆     ┆     ┆     ┆     ┆     ┆     ┆     ┆     ┆     ┆     ┆     ┆     ┆     ┆     ┆     ┆     ┆     ┆     ┆     ┆     ┆     ┆     ┆     ┆     ┆     ┆     ┆     ┆     ┆     ┆     ┆     ┆     ┆     ┆     ┆     ┆     ┆ 1/2 ┆     ┆     ┆     ┆     ┆     ┆     ┆     ┆     ┆     │\n",
       "│     ┆     ┆     ┆     ┆     ┆     ┆     ┆     ┆ wer ┆     ┆     ┆     ┆     ┆     ┆     ┆     ┆     ┆     ┆     ┆     ┆     ┆     ┆     ┆     ┆     ┆     ┆     ┆     ┆     ┆     ┆     ┆     ┆     ┆     ┆     ┆     ┆     ┆     ┆     ┆     ┆     ┆     ┆     ┆     ┆     ┆     ┆     ┆     ┆     ┆     ┆     ┆     ┆     ┆     ┆     ┆     ┆     ┆     ┆     ┆     ┆     ┆     ┆     ┆     ┆     ┆     ┆     ┆     ┆     ┆     ┆     ┆     ┆     ┆     ┆     ┆     ┆     ┆     ┆     ┆     ┆     ┆     ┆     ┆     ┆     ┆     ┆     ┆     ┆     ┆     ┆     ┆     ┆     ┆     ┆     ┆     ┆     ┆     ┆     ┆     ┆     ┆     ┆     ┆     ┆     ┆     ┆     ┆     ┆     ┆     ┆     ┆     ┆     ┆     ┆     ┆     ┆     ┆ 022 ┆     ┆     ┆     ┆     ┆     ┆     ┆     ┆     ┆     │\n",
       "│     ┆     ┆     ┆     ┆     ┆     ┆     ┆     ┆ p   ┆     ┆     ┆     ┆     ┆     ┆     ┆     ┆     ┆     ┆     ┆     ┆     ┆     ┆     ┆     ┆     ┆     ┆     ┆     ┆     ┆     ┆     ┆     ┆     ┆     ┆     ┆     ┆     ┆     ┆     ┆     ┆     ┆     ┆     ┆     ┆     ┆     ┆     ┆     ┆     ┆     ┆     ┆     ┆     ┆     ┆     ┆     ┆     ┆     ┆     ┆     ┆     ┆     ┆     ┆     ┆     ┆     ┆     ┆     ┆     ┆     ┆     ┆     ┆     ┆     ┆     ┆     ┆     ┆     ┆     ┆     ┆     ┆     ┆     ┆     ┆     ┆     ┆     ┆     ┆     ┆     ┆     ┆     ┆     ┆     ┆     ┆     ┆     ┆     ┆     ┆     ┆     ┆     ┆     ┆     ┆     ┆     ┆     ┆     ┆     ┆     ┆     ┆     ┆     ┆     ┆     ┆     ┆     ┆     ┆     ┆     ┆     ┆     ┆     ┆     ┆     ┆     ┆     │\n",
       "│     ┆     ┆     ┆     ┆     ┆     ┆     ┆     ┆ FC  ┆     ┆     ┆     ┆     ┆     ┆     ┆     ┆     ┆     ┆     ┆     ┆     ┆     ┆     ┆     ┆     ┆     ┆     ┆     ┆     ┆     ┆     ┆     ┆     ┆     ┆     ┆     ┆     ┆     ┆     ┆     ┆     ┆     ┆     ┆     ┆     ┆     ┆     ┆     ┆     ┆     ┆     ┆     ┆     ┆     ┆     ┆     ┆     ┆     ┆     ┆     ┆     ┆     ┆     ┆     ┆     ┆     ┆     ┆     ┆     ┆     ┆     ┆     ┆     ┆     ┆     ┆     ┆     ┆     ┆     ┆     ┆     ┆     ┆     ┆     ┆     ┆     ┆     ┆     ┆     ┆     ┆     ┆     ┆     ┆     ┆     ┆     ┆     ┆     ┆     ┆     ┆     ┆     ┆     ┆     ┆     ┆     ┆     ┆     ┆     ┆     ┆     ┆     ┆     ┆     ┆     ┆     ┆     ┆     ┆     ┆     ┆     ┆     ┆     ┆     ┆     ┆     ┆     │\n",
       "│ 96. ┆ 0   ┆ 32  ┆ 996 ┆ 484 ┆ 3   ┆ 17  ┆ 198 ┆ Oud ┆ 20  ┆ 20  ┆ 2   ┆ 77  ┆ 48  ┆ 5   ┆ 15. ┆ 11  ┆ 1   ┆ 24  ┆ 154 ┆ 36  ┆ 166 ┆ 265 ┆ 267 ┆ 50. ┆ 9   ┆ 450 ┆ 179 ┆ 41  ┆ 31  ┆ 25  ┆ 1   ┆ 119 ┆ 17  ┆ 1   ┆ 63  ┆ 15  ┆ 249 ┆ 8   ┆ 77  ┆ 24  ┆ 11  ┆ 167 ┆ 1   ┆ 0   ┆ 25  ┆ 29. ┆ 46  ┆ 110 ┆ 612 ┆ 275 ┆ 0   ┆ 4   ┆ 178 ┆ Oud ┆ 14  ┆ 202 ┆ Mid ┆ 173 ┆ Xav ┆ 177 ┆ 20  ┆ 202 ┆ 184 ┆ 11  ┆ 402 ┆ tru ┆ 11  ┆ 1   ┆ 14. ┆ 1   ┆ X.  ┆ Oud ┆ 3   ┆ 10  ┆ 39  ┆ 13. ┆ 610 ┆ 0   ┆ 109 ┆ 489 ┆ 17  ┆ 5   ┆ 28. ┆ 2   ┆ 81  ┆ 2   ┆ 1   ┆ 1   ┆ 14  ┆ 25. ┆ AM  ┆ 201 ┆ 512 ┆ 46. ┆ 5   ┆ 12. ┆ 7   ┆ 1   ┆ 202 ┆ 8   ┆ 1   ┆ 343 ┆ 16  ┆ 3   ┆ 476 ┆ 19  ┆ 9   ┆ 8   ┆ 353 ┆ 1   ┆ 343 ┆ 3   ┆ 224 ┆ 136 ┆ 104 ┆ 27  ┆ BEL ┆ 8   ┆ 202 ┆ 202 ┆ 202 ┆ 16  ┆ BEL ┆ Pro ┆ mal ┆ adu │\n",
       "│ 19  ┆     ┆     ┆ 9   ┆ 2   ┆     ┆     ┆ 9-0 ┆ -He ┆     ┆     ┆     ┆     ┆     ┆     ┆ 07  ┆     ┆     ┆     ┆     ┆     ┆ 0   ┆     ┆     ┆ 07  ┆     ┆ 02  ┆ 5   ┆     ┆     ┆     ┆     ┆     ┆     ┆     ┆     ┆     ┆     ┆     ┆     ┆     ┆     ┆     ┆     ┆     ┆     ┆ 59  ┆     ┆ 1   ┆     ┆     ┆     ┆     ┆     ┆ -He ┆     ┆ 1/2 ┆ fie ┆ 9   ┆ ier ┆ 5   ┆     ┆     ┆     ┆     ┆     ┆ e   ┆     ┆     ┆ 52  ┆     ┆ Mer ┆ -He ┆     ┆     ┆     ┆ 2   ┆     ┆     ┆ 32  ┆     ┆     ┆     ┆ 3   ┆     ┆     ┆     ┆     ┆     ┆     ┆ 52  ┆     ┆     ┆ 7   ┆ 12  ┆     ┆ 32  ┆     ┆     ┆ 1-0 ┆     ┆     ┆     ┆     ┆     ┆     ┆     ┆     ┆     ┆ 4   ┆     ┆ 5   ┆     ┆     ┆     ┆     ┆     ┆ -   ┆     ┆ 1   ┆ 2   ┆ 1/2 ┆     ┆     ┆ Lea ┆ e   ┆ lt  │\n",
       "│     ┆     ┆     ┆     ┆     ┆     ┆     ┆ 7-2 ┆ ver ┆     ┆     ┆     ┆     ┆     ┆     ┆     ┆     ┆     ┆     ┆     ┆     ┆     ┆     ┆     ┆     ┆     ┆     ┆     ┆     ┆     ┆     ┆     ┆     ┆     ┆     ┆     ┆     ┆     ┆     ┆     ┆     ┆     ┆     ┆     ┆     ┆     ┆     ┆     ┆     ┆     ┆     ┆     ┆     ┆     ┆ ver ┆     ┆ 022 ┆ ld  ┆     ┆ Mer ┆     ┆     ┆     ┆     ┆     ┆     ┆     ┆     ┆     ┆     ┆     ┆ cie ┆ ver ┆     ┆     ┆     ┆     ┆     ┆     ┆     ┆     ┆     ┆     ┆     ┆     ┆     ┆     ┆     ┆     ┆     ┆     ┆     ┆     ┆     ┆     ┆     ┆     ┆     ┆     ┆ 7-2 ┆     ┆     ┆     ┆     ┆     ┆     ┆     ┆     ┆     ┆     ┆     ┆     ┆     ┆     ┆     ┆     ┆     ┆ Pro ┆     ┆     ┆     ┆ 022 ┆     ┆     ┆ gue ┆     ┆     │\n",
       "│     ┆     ┆     ┆     ┆     ┆     ┆     ┆ 5   ┆ lee ┆     ┆     ┆     ┆     ┆     ┆     ┆     ┆     ┆     ┆     ┆     ┆     ┆     ┆     ┆     ┆     ┆     ┆     ┆     ┆     ┆     ┆     ┆     ┆     ┆     ┆     ┆     ┆     ┆     ┆     ┆     ┆     ┆     ┆     ┆     ┆     ┆     ┆     ┆     ┆     ┆     ┆     ┆     ┆     ┆     ┆ lee ┆     ┆     ┆     ┆     ┆ cie ┆     ┆     ┆     ┆     ┆     ┆     ┆     ┆     ┆     ┆     ┆     ┆ r   ┆ lee ┆     ┆     ┆     ┆     ┆     ┆     ┆     ┆     ┆     ┆     ┆     ┆     ┆     ┆     ┆     ┆     ┆     ┆     ┆     ┆     ┆     ┆     ┆     ┆     ┆     ┆     ┆ 4   ┆     ┆     ┆     ┆     ┆     ┆     ┆     ┆     ┆     ┆     ┆     ┆     ┆     ┆     ┆     ┆     ┆     ┆ Lea ┆     ┆     ┆     ┆     ┆     ┆     ┆     ┆     ┆     │\n",
       "│     ┆     ┆     ┆     ┆     ┆     ┆     ┆     ┆ Leu ┆     ┆     ┆     ┆     ┆     ┆     ┆     ┆     ┆     ┆     ┆     ┆     ┆     ┆     ┆     ┆     ┆     ┆     ┆     ┆     ┆     ┆     ┆     ┆     ┆     ┆     ┆     ┆     ┆     ┆     ┆     ┆     ┆     ┆     ┆     ┆     ┆     ┆     ┆     ┆     ┆     ┆     ┆     ┆     ┆     ┆ Leu ┆     ┆     ┆     ┆     ┆ r   ┆     ┆     ┆     ┆     ┆     ┆     ┆     ┆     ┆     ┆     ┆     ┆     ┆ Leu ┆     ┆     ┆     ┆     ┆     ┆     ┆     ┆     ┆     ┆     ┆     ┆     ┆     ┆     ┆     ┆     ┆     ┆     ┆     ┆     ┆     ┆     ┆     ┆     ┆     ┆     ┆     ┆     ┆     ┆     ┆     ┆     ┆     ┆     ┆     ┆     ┆     ┆     ┆     ┆     ┆     ┆     ┆     ┆     ┆ gue ┆     ┆     ┆     ┆     ┆     ┆     ┆     ┆     ┆     │\n",
       "│     ┆     ┆     ┆     ┆     ┆     ┆     ┆     ┆ ven ┆     ┆     ┆     ┆     ┆     ┆     ┆     ┆     ┆     ┆     ┆     ┆     ┆     ┆     ┆     ┆     ┆     ┆     ┆     ┆     ┆     ┆     ┆     ┆     ┆     ┆     ┆     ┆     ┆     ┆     ┆     ┆     ┆     ┆     ┆     ┆     ┆     ┆     ┆     ┆     ┆     ┆     ┆     ┆     ┆     ┆ ven ┆     ┆     ┆     ┆     ┆     ┆     ┆     ┆     ┆     ┆     ┆     ┆     ┆     ┆     ┆     ┆     ┆     ┆ ven ┆     ┆     ┆     ┆     ┆     ┆     ┆     ┆     ┆     ┆     ┆     ┆     ┆     ┆     ┆     ┆     ┆     ┆     ┆     ┆     ┆     ┆     ┆     ┆     ┆     ┆     ┆     ┆     ┆     ┆     ┆     ┆     ┆     ┆     ┆     ┆     ┆     ┆     ┆     ┆     ┆     ┆     ┆     ┆     ┆ -   ┆     ┆     ┆     ┆     ┆     ┆     ┆     ┆     ┆     │\n",
       "│     ┆     ┆     ┆     ┆     ┆     ┆     ┆     ┆ v   ┆     ┆     ┆     ┆     ┆     ┆     ┆     ┆     ┆     ┆     ┆     ┆     ┆     ┆     ┆     ┆     ┆     ┆     ┆     ┆     ┆     ┆     ┆     ┆     ┆     ┆     ┆     ┆     ┆     ┆     ┆     ┆     ┆     ┆     ┆     ┆     ┆     ┆     ┆     ┆     ┆     ┆     ┆     ┆     ┆     ┆     ┆     ┆     ┆     ┆     ┆     ┆     ┆     ┆     ┆     ┆     ┆     ┆     ┆     ┆     ┆     ┆     ┆     ┆     ┆     ┆     ┆     ┆     ┆     ┆     ┆     ┆     ┆     ┆     ┆     ┆     ┆     ┆     ┆     ┆     ┆     ┆     ┆     ┆     ┆     ┆     ┆     ┆     ┆     ┆     ┆     ┆     ┆     ┆     ┆     ┆     ┆     ┆     ┆     ┆     ┆     ┆     ┆     ┆     ┆     ┆     ┆     ┆     ┆ 202 ┆     ┆     ┆     ┆     ┆     ┆     ┆     ┆     ┆     │\n",
       "│     ┆     ┆     ┆     ┆     ┆     ┆     ┆     ┆ SV  ┆     ┆     ┆     ┆     ┆     ┆     ┆     ┆     ┆     ┆     ┆     ┆     ┆     ┆     ┆     ┆     ┆     ┆     ┆     ┆     ┆     ┆     ┆     ┆     ┆     ┆     ┆     ┆     ┆     ┆     ┆     ┆     ┆     ┆     ┆     ┆     ┆     ┆     ┆     ┆     ┆     ┆     ┆     ┆     ┆     ┆     ┆     ┆     ┆     ┆     ┆     ┆     ┆     ┆     ┆     ┆     ┆     ┆     ┆     ┆     ┆     ┆     ┆     ┆     ┆     ┆     ┆     ┆     ┆     ┆     ┆     ┆     ┆     ┆     ┆     ┆     ┆     ┆     ┆     ┆     ┆     ┆     ┆     ┆     ┆     ┆     ┆     ┆     ┆     ┆     ┆     ┆     ┆     ┆     ┆     ┆     ┆     ┆     ┆     ┆     ┆     ┆     ┆     ┆     ┆     ┆     ┆     ┆     ┆ 1/2 ┆     ┆     ┆     ┆     ┆     ┆     ┆     ┆     ┆     │\n",
       "│     ┆     ┆     ┆     ┆     ┆     ┆     ┆     ┆ Zul ┆     ┆     ┆     ┆     ┆     ┆     ┆     ┆     ┆     ┆     ┆     ┆     ┆     ┆     ┆     ┆     ┆     ┆     ┆     ┆     ┆     ┆     ┆     ┆     ┆     ┆     ┆     ┆     ┆     ┆     ┆     ┆     ┆     ┆     ┆     ┆     ┆     ┆     ┆     ┆     ┆     ┆     ┆     ┆     ┆     ┆     ┆     ┆     ┆     ┆     ┆     ┆     ┆     ┆     ┆     ┆     ┆     ┆     ┆     ┆     ┆     ┆     ┆     ┆     ┆     ┆     ┆     ┆     ┆     ┆     ┆     ┆     ┆     ┆     ┆     ┆     ┆     ┆     ┆     ┆     ┆     ┆     ┆     ┆     ┆     ┆     ┆     ┆     ┆     ┆     ┆     ┆     ┆     ┆     ┆     ┆     ┆     ┆     ┆     ┆     ┆     ┆     ┆     ┆     ┆     ┆     ┆     ┆     ┆ 022 ┆     ┆     ┆     ┆     ┆     ┆     ┆     ┆     ┆     │\n",
       "│     ┆     ┆     ┆     ┆     ┆     ┆     ┆     ┆ te… ┆     ┆     ┆     ┆     ┆     ┆     ┆     ┆     ┆     ┆     ┆     ┆     ┆     ┆     ┆     ┆     ┆     ┆     ┆     ┆     ┆     ┆     ┆     ┆     ┆     ┆     ┆     ┆     ┆     ┆     ┆     ┆     ┆     ┆     ┆     ┆     ┆     ┆     ┆     ┆     ┆     ┆     ┆     ┆     ┆     ┆     ┆     ┆     ┆     ┆     ┆     ┆     ┆     ┆     ┆     ┆     ┆     ┆     ┆     ┆     ┆     ┆     ┆     ┆     ┆     ┆     ┆     ┆     ┆     ┆     ┆     ┆     ┆     ┆     ┆     ┆     ┆     ┆     ┆     ┆     ┆     ┆     ┆     ┆     ┆     ┆     ┆     ┆     ┆     ┆     ┆     ┆     ┆     ┆     ┆     ┆     ┆     ┆     ┆     ┆     ┆     ┆     ┆     ┆     ┆     ┆     ┆     ┆     ┆     ┆     ┆     ┆     ┆     ┆     ┆     ┆     ┆     ┆     │\n",
       "│ 71. ┆ 1   ┆ 23  ┆ 870 ┆ 562 ┆ 4   ┆ 26  ┆ 199 ┆ Oud ┆ 21  ┆ 18  ┆ 2   ┆ 82  ┆ 95  ┆ 7   ┆ 6.5 ┆ 5   ┆ 3   ┆ 29  ┆ 10  ┆ 39  ┆ 228 ┆ 222 ┆ 427 ┆ 24. ┆ 22  ┆ 450 ┆ 193 ┆ 25  ┆ 57  ┆ 26  ┆ 2   ┆ 0   ┆ 14  ┆ 1   ┆ 78  ┆ 17  ┆ 249 ┆ 5   ┆ 64  ┆ 36  ┆ 18  ┆ 167 ┆ 0   ┆ 7   ┆ 18  ┆ 19. ┆ 25  ┆ 124 ┆ 527 ┆ 129 ┆ 1   ┆ 2   ┆ 253 ┆ SV  ┆ 5   ┆ 202 ┆ Mid ┆ 938 ┆ Oma ┆ 127 ┆ 33  ┆ 105 ┆ 51  ┆ 11  ┆ 425 ┆ tru ┆ 13  ┆ 2   ┆ 13. ┆ 2   ┆ O.  ┆ SV  ┆ 1   ┆ 7   ┆ 34  ┆ 14. ┆ 724 ┆ 1   ┆ 146 ┆ 714 ┆ 6   ┆ 3   ┆ 26. ┆ 2   ┆ 171 ┆ 1   ┆ 1   ┆ 1   ┆ 8   ┆ 22. ┆ AM  ┆ 292 ┆ 308 ┆ 46. ┆ 1   ┆ 7.9 ┆ 7   ┆ 1   ┆ 202 ┆ 11  ┆ 1   ┆ 297 ┆ 16  ┆ 0   ┆ 421 ┆ 13  ┆ 13  ┆ 8   ┆ 287 ┆ 2   ┆ 356 ┆ 4   ┆ 172 ┆ 26  ┆ 89  ┆ 8   ┆ BEL ┆ 8   ┆ 202 ┆ 202 ┆ 202 ┆ 16  ┆ BEL ┆ Pro ┆ mal ┆ adu │\n",
       "│ 07  ┆     ┆     ┆ 9   ┆ 0   ┆     ┆     ┆ 6-0 ┆ -He ┆     ┆     ┆     ┆     ┆     ┆     ┆ 7   ┆     ┆     ┆     ┆     ┆     ┆ 9   ┆     ┆     ┆ 95  ┆     ┆ 02  ┆ 8   ┆     ┆     ┆     ┆     ┆     ┆     ┆     ┆     ┆     ┆     ┆     ┆     ┆     ┆     ┆     ┆     ┆     ┆     ┆ 77  ┆     ┆ 1   ┆     ┆     ┆     ┆     ┆     ┆ Zul ┆     ┆ 1/2 ┆ fie ┆     ┆ r   ┆ 8   ┆     ┆     ┆     ┆     ┆     ┆ e   ┆     ┆     ┆ 2   ┆     ┆ Gov ┆ Zul ┆     ┆     ┆     ┆ 52  ┆     ┆     ┆ 25  ┆     ┆     ┆     ┆ 4   ┆     ┆     ┆     ┆     ┆     ┆     ┆ 45  ┆     ┆     ┆ 9   ┆ 12  ┆     ┆ 3   ┆     ┆     ┆ 1-0 ┆     ┆     ┆     ┆     ┆     ┆     ┆     ┆     ┆     ┆ 6   ┆     ┆ 7   ┆     ┆     ┆     ┆     ┆     ┆ -   ┆     ┆ 1   ┆ 2   ┆ 1/2 ┆     ┆     ┆ Lea ┆ e   ┆ lt  │\n",
       "│     ┆     ┆     ┆     ┆     ┆     ┆     ┆ 1-1 ┆ ver ┆     ┆     ┆     ┆     ┆     ┆     ┆     ┆     ┆     ┆     ┆     ┆     ┆     ┆     ┆     ┆     ┆     ┆     ┆     ┆     ┆     ┆     ┆     ┆     ┆     ┆     ┆     ┆     ┆     ┆     ┆     ┆     ┆     ┆     ┆     ┆     ┆     ┆     ┆     ┆     ┆     ┆     ┆     ┆     ┆     ┆ te- ┆     ┆ 022 ┆ ld  ┆     ┆ Nic ┆     ┆     ┆     ┆     ┆     ┆     ┆     ┆     ┆     ┆     ┆     ┆ ea  ┆ te- ┆     ┆     ┆     ┆     ┆     ┆     ┆     ┆     ┆     ┆     ┆     ┆     ┆     ┆     ┆     ┆     ┆     ┆     ┆     ┆     ┆     ┆     ┆     ┆     ┆     ┆     ┆ 7-2 ┆     ┆     ┆     ┆     ┆     ┆     ┆     ┆     ┆     ┆     ┆     ┆     ┆     ┆     ┆     ┆     ┆     ┆ Pro ┆     ┆     ┆     ┆ 022 ┆     ┆     ┆ gue ┆     ┆     │\n",
       "│     ┆     ┆     ┆     ┆     ┆     ┆     ┆ 8   ┆ lee ┆     ┆     ┆     ┆     ┆     ┆     ┆     ┆     ┆     ┆     ┆     ┆     ┆     ┆     ┆     ┆     ┆     ┆     ┆     ┆     ┆     ┆     ┆     ┆     ┆     ┆     ┆     ┆     ┆     ┆     ┆     ┆     ┆     ┆     ┆     ┆     ┆     ┆     ┆     ┆     ┆     ┆     ┆     ┆     ┆     ┆ War ┆     ┆     ┆     ┆     ┆ olá ┆     ┆     ┆     ┆     ┆     ┆     ┆     ┆     ┆     ┆     ┆     ┆     ┆ War ┆     ┆     ┆     ┆     ┆     ┆     ┆     ┆     ┆     ┆     ┆     ┆     ┆     ┆     ┆     ┆     ┆     ┆     ┆     ┆     ┆     ┆     ┆     ┆     ┆     ┆     ┆ 4   ┆     ┆     ┆     ┆     ┆     ┆     ┆     ┆     ┆     ┆     ┆     ┆     ┆     ┆     ┆     ┆     ┆     ┆ Lea ┆     ┆     ┆     ┆     ┆     ┆     ┆     ┆     ┆     │\n",
       "│     ┆     ┆     ┆     ┆     ┆     ┆     ┆     ┆ Leu ┆     ┆     ┆     ┆     ┆     ┆     ┆     ┆     ┆     ┆     ┆     ┆     ┆     ┆     ┆     ┆     ┆     ┆     ┆     ┆     ┆     ┆     ┆     ┆     ┆     ┆     ┆     ┆     ┆     ┆     ┆     ┆     ┆     ┆     ┆     ┆     ┆     ┆     ┆     ┆     ┆     ┆     ┆     ┆     ┆     ┆ ege ┆     ┆     ┆     ┆     ┆ s   ┆     ┆     ┆     ┆     ┆     ┆     ┆     ┆     ┆     ┆     ┆     ┆     ┆ ege ┆     ┆     ┆     ┆     ┆     ┆     ┆     ┆     ┆     ┆     ┆     ┆     ┆     ┆     ┆     ┆     ┆     ┆     ┆     ┆     ┆     ┆     ┆     ┆     ┆     ┆     ┆     ┆     ┆     ┆     ┆     ┆     ┆     ┆     ┆     ┆     ┆     ┆     ┆     ┆     ┆     ┆     ┆     ┆     ┆ gue ┆     ┆     ┆     ┆     ┆     ┆     ┆     ┆     ┆     │\n",
       "│     ┆     ┆     ┆     ┆     ┆     ┆     ┆     ┆ ven ┆     ┆     ┆     ┆     ┆     ┆     ┆     ┆     ┆     ┆     ┆     ┆     ┆     ┆     ┆     ┆     ┆     ┆     ┆     ┆     ┆     ┆     ┆     ┆     ┆     ┆     ┆     ┆     ┆     ┆     ┆     ┆     ┆     ┆     ┆     ┆     ┆     ┆     ┆     ┆     ┆     ┆     ┆     ┆     ┆     ┆ m   ┆     ┆     ┆     ┆     ┆ Gov ┆     ┆     ┆     ┆     ┆     ┆     ┆     ┆     ┆     ┆     ┆     ┆     ┆ m   ┆     ┆     ┆     ┆     ┆     ┆     ┆     ┆     ┆     ┆     ┆     ┆     ┆     ┆     ┆     ┆     ┆     ┆     ┆     ┆     ┆     ┆     ┆     ┆     ┆     ┆     ┆     ┆     ┆     ┆     ┆     ┆     ┆     ┆     ┆     ┆     ┆     ┆     ┆     ┆     ┆     ┆     ┆     ┆     ┆ -   ┆     ┆     ┆     ┆     ┆     ┆     ┆     ┆     ┆     │\n",
       "│     ┆     ┆     ┆     ┆     ┆     ┆     ┆     ┆ v   ┆     ┆     ┆     ┆     ┆     ┆     ┆     ┆     ┆     ┆     ┆     ┆     ┆     ┆     ┆     ┆     ┆     ┆     ┆     ┆     ┆     ┆     ┆     ┆     ┆     ┆     ┆     ┆     ┆     ┆     ┆     ┆     ┆     ┆     ┆     ┆     ┆     ┆     ┆     ┆     ┆     ┆     ┆     ┆     ┆     ┆     ┆     ┆     ┆     ┆     ┆ ea  ┆     ┆     ┆     ┆     ┆     ┆     ┆     ┆     ┆     ┆     ┆     ┆     ┆     ┆     ┆     ┆     ┆     ┆     ┆     ┆     ┆     ┆     ┆     ┆     ┆     ┆     ┆     ┆     ┆     ┆     ┆     ┆     ┆     ┆     ┆     ┆     ┆     ┆     ┆     ┆     ┆     ┆     ┆     ┆     ┆     ┆     ┆     ┆     ┆     ┆     ┆     ┆     ┆     ┆     ┆     ┆     ┆     ┆ 202 ┆     ┆     ┆     ┆     ┆     ┆     ┆     ┆     ┆     │\n",
       "│     ┆     ┆     ┆     ┆     ┆     ┆     ┆     ┆ SV  ┆     ┆     ┆     ┆     ┆     ┆     ┆     ┆     ┆     ┆     ┆     ┆     ┆     ┆     ┆     ┆     ┆     ┆     ┆     ┆     ┆     ┆     ┆     ┆     ┆     ┆     ┆     ┆     ┆     ┆     ┆     ┆     ┆     ┆     ┆     ┆     ┆     ┆     ┆     ┆     ┆     ┆     ┆     ┆     ┆     ┆     ┆     ┆     ┆     ┆     ┆ Gar ┆     ┆     ┆     ┆     ┆     ┆     ┆     ┆     ┆     ┆     ┆     ┆     ┆     ┆     ┆     ┆     ┆     ┆     ┆     ┆     ┆     ┆     ┆     ┆     ┆     ┆     ┆     ┆     ┆     ┆     ┆     ┆     ┆     ┆     ┆     ┆     ┆     ┆     ┆     ┆     ┆     ┆     ┆     ┆     ┆     ┆     ┆     ┆     ┆     ┆     ┆     ┆     ┆     ┆     ┆     ┆     ┆     ┆ 1/2 ┆     ┆     ┆     ┆     ┆     ┆     ┆     ┆     ┆     │\n",
       "│     ┆     ┆     ┆     ┆     ┆     ┆     ┆     ┆ Zul ┆     ┆     ┆     ┆     ┆     ┆     ┆     ┆     ┆     ┆     ┆     ┆     ┆     ┆     ┆     ┆     ┆     ┆     ┆     ┆     ┆     ┆     ┆     ┆     ┆     ┆     ┆     ┆     ┆     ┆     ┆     ┆     ┆     ┆     ┆     ┆     ┆     ┆     ┆     ┆     ┆     ┆     ┆     ┆     ┆     ┆     ┆     ┆     ┆     ┆     ┆ cía ┆     ┆     ┆     ┆     ┆     ┆     ┆     ┆     ┆     ┆     ┆     ┆     ┆     ┆     ┆     ┆     ┆     ┆     ┆     ┆     ┆     ┆     ┆     ┆     ┆     ┆     ┆     ┆     ┆     ┆     ┆     ┆     ┆     ┆     ┆     ┆     ┆     ┆     ┆     ┆     ┆     ┆     ┆     ┆     ┆     ┆     ┆     ┆     ┆     ┆     ┆     ┆     ┆     ┆     ┆     ┆     ┆     ┆ 022 ┆     ┆     ┆     ┆     ┆     ┆     ┆     ┆     ┆     │\n",
       "│     ┆     ┆     ┆     ┆     ┆     ┆     ┆     ┆ te… ┆     ┆     ┆     ┆     ┆     ┆     ┆     ┆     ┆     ┆     ┆     ┆     ┆     ┆     ┆     ┆     ┆     ┆     ┆     ┆     ┆     ┆     ┆     ┆     ┆     ┆     ┆     ┆     ┆     ┆     ┆     ┆     ┆     ┆     ┆     ┆     ┆     ┆     ┆     ┆     ┆     ┆     ┆     ┆     ┆     ┆     ┆     ┆     ┆     ┆     ┆     ┆     ┆     ┆     ┆     ┆     ┆     ┆     ┆     ┆     ┆     ┆     ┆     ┆     ┆     ┆     ┆     ┆     ┆     ┆     ┆     ┆     ┆     ┆     ┆     ┆     ┆     ┆     ┆     ┆     ┆     ┆     ┆     ┆     ┆     ┆     ┆     ┆     ┆     ┆     ┆     ┆     ┆     ┆     ┆     ┆     ┆     ┆     ┆     ┆     ┆     ┆     ┆     ┆     ┆     ┆     ┆     ┆     ┆     ┆     ┆     ┆     ┆     ┆     ┆     ┆     ┆     ┆     │\n",
       "│ 74. ┆ 1   ┆ 26  ┆ 897 ┆ 541 ┆ 6   ┆ 44  ┆ 199 ┆ Oud ┆ 25  ┆ 25  ┆ 3   ┆ 70  ┆ 76  ┆ 9   ┆ 8.4 ┆ 12  ┆ 5   ┆ 7   ┆ 131 ┆ 37  ┆ 188 ┆ 337 ┆ 327 ┆ 28. ┆ 13  ┆ 450 ┆ 202 ┆ 27  ┆ 44  ┆ 21  ┆ 0   ┆ 88  ┆ 20  ┆ 0   ┆ 110 ┆ 17  ┆ 249 ┆ 12  ┆ 64  ┆ 27  ┆ 13  ┆ 224 ┆ 0   ┆ 20  ┆ 21  ┆ 23. ┆ 26  ┆ 123 ┆ 554 ┆ 310 ┆ 0   ┆ 8   ┆ 301 ┆ Oud ┆ 8   ┆ 202 ┆ Mid ┆ 132 ┆ Sie ┆ 124 ┆ 18  ┆ 207 ┆ 193 ┆ 5   ┆ 536 ┆ tru ┆ 13  ┆ 2   ┆ 14. ┆ 4   ┆ S.  ┆ Oud ┆ 0   ┆ 11  ┆ 50  ┆ 13. ┆ 603 ┆ 3   ┆ 983 ┆ 680 ┆ 9   ┆ 1   ┆ 27. ┆ 1   ┆ 144 ┆ 1   ┆ 1   ┆ 1   ┆ 8   ┆ 20. ┆ AM  ┆ 284 ┆ 356 ┆ 46. ┆ 6   ┆ 7.1 ┆ 9   ┆ 2   ┆ 202 ┆ 15  ┆ 1   ┆ 276 ┆ 16  ┆ 4   ┆ 594 ┆ 25  ┆ 13  ┆ 8   ┆ 335 ┆ 2   ┆ 312 ┆ 6   ┆ 235 ┆ 132 ┆ 114 ┆ 27  ┆ BEL ┆ 8   ┆ 202 ┆ 202 ┆ 202 ┆ 16  ┆ BEL ┆ Pro ┆ mal ┆ adu │\n",
       "│ 15  ┆     ┆     ┆ 6   ┆ 0   ┆     ┆     ┆ 6-0 ┆ -He ┆     ┆     ┆     ┆     ┆     ┆     ┆ 8   ┆     ┆     ┆     ┆     ┆     ┆ 3   ┆     ┆     ┆ 03  ┆     ┆ 02  ┆ 5   ┆     ┆     ┆     ┆     ┆     ┆     ┆     ┆     ┆     ┆     ┆     ┆     ┆     ┆     ┆     ┆     ┆     ┆     ┆ 0   ┆     ┆ 4   ┆     ┆     ┆     ┆     ┆     ┆ -He ┆     ┆ 1/2 ┆ fie ┆ 6   ┆ be  ┆ 2   ┆     ┆     ┆     ┆     ┆     ┆ e   ┆     ┆     ┆ 52  ┆     ┆ Sch ┆ -He ┆     ┆     ┆     ┆ 2   ┆     ┆     ┆ 5   ┆     ┆     ┆     ┆ 4   ┆     ┆     ┆     ┆     ┆     ┆     ┆ 35  ┆     ┆     ┆ 6   ┆ 12  ┆     ┆ 5   ┆     ┆     ┆ 1-0 ┆     ┆     ┆     ┆     ┆     ┆     ┆     ┆     ┆     ┆ 1   ┆     ┆ 5   ┆     ┆     ┆     ┆     ┆     ┆ -   ┆     ┆ 1   ┆ 2   ┆ 1/2 ┆     ┆     ┆ Lea ┆ e   ┆ lt  │\n",
       "│     ┆     ┆     ┆     ┆     ┆     ┆     ┆ 7-1 ┆ ver ┆     ┆     ┆     ┆     ┆     ┆     ┆     ┆     ┆     ┆     ┆     ┆     ┆     ┆     ┆     ┆     ┆     ┆     ┆     ┆     ┆     ┆     ┆     ┆     ┆     ┆     ┆     ┆     ┆     ┆     ┆     ┆     ┆     ┆     ┆     ┆     ┆     ┆     ┆     ┆     ┆     ┆     ┆     ┆     ┆     ┆ ver ┆     ┆ 022 ┆ ld  ┆     ┆ Sch ┆     ┆     ┆     ┆     ┆     ┆     ┆     ┆     ┆     ┆     ┆     ┆ rij ┆ ver ┆     ┆     ┆     ┆     ┆     ┆     ┆     ┆     ┆     ┆     ┆     ┆     ┆     ┆     ┆     ┆     ┆     ┆     ┆     ┆     ┆     ┆     ┆     ┆     ┆     ┆     ┆ 7-2 ┆     ┆     ┆     ┆     ┆     ┆     ┆     ┆     ┆     ┆     ┆     ┆     ┆     ┆     ┆     ┆     ┆     ┆ Pro ┆     ┆     ┆     ┆ 022 ┆     ┆     ┆ gue ┆     ┆     │\n",
       "│     ┆     ┆     ┆     ┆     ┆     ┆     ┆ 8   ┆ lee ┆     ┆     ┆     ┆     ┆     ┆     ┆     ┆     ┆     ┆     ┆     ┆     ┆     ┆     ┆     ┆     ┆     ┆     ┆     ┆     ┆     ┆     ┆     ┆     ┆     ┆     ┆     ┆     ┆     ┆     ┆     ┆     ┆     ┆     ┆     ┆     ┆     ┆     ┆     ┆     ┆     ┆     ┆     ┆     ┆     ┆ lee ┆     ┆     ┆     ┆     ┆ rij ┆     ┆     ┆     ┆     ┆     ┆     ┆     ┆     ┆     ┆     ┆     ┆ ver ┆ lee ┆     ┆     ┆     ┆     ┆     ┆     ┆     ┆     ┆     ┆     ┆     ┆     ┆     ┆     ┆     ┆     ┆     ┆     ┆     ┆     ┆     ┆     ┆     ┆     ┆     ┆     ┆ 4   ┆     ┆     ┆     ┆     ┆     ┆     ┆     ┆     ┆     ┆     ┆     ┆     ┆     ┆     ┆     ┆     ┆     ┆ Lea ┆     ┆     ┆     ┆     ┆     ┆     ┆     ┆     ┆     │\n",
       "│     ┆     ┆     ┆     ┆     ┆     ┆     ┆     ┆ Leu ┆     ┆     ┆     ┆     ┆     ┆     ┆     ┆     ┆     ┆     ┆     ┆     ┆     ┆     ┆     ┆     ┆     ┆     ┆     ┆     ┆     ┆     ┆     ┆     ┆     ┆     ┆     ┆     ┆     ┆     ┆     ┆     ┆     ┆     ┆     ┆     ┆     ┆     ┆     ┆     ┆     ┆     ┆     ┆     ┆     ┆ Leu ┆     ┆     ┆     ┆     ┆ ver ┆     ┆     ┆     ┆     ┆     ┆     ┆     ┆     ┆     ┆     ┆     ┆ s   ┆ Leu ┆     ┆     ┆     ┆     ┆     ┆     ┆     ┆     ┆     ┆     ┆     ┆     ┆     ┆     ┆     ┆     ┆     ┆     ┆     ┆     ┆     ┆     ┆     ┆     ┆     ┆     ┆     ┆     ┆     ┆     ┆     ┆     ┆     ┆     ┆     ┆     ┆     ┆     ┆     ┆     ┆     ┆     ┆     ┆     ┆ gue ┆     ┆     ┆     ┆     ┆     ┆     ┆     ┆     ┆     │\n",
       "│     ┆     ┆     ┆     ┆     ┆     ┆     ┆     ┆ ven ┆     ┆     ┆     ┆     ┆     ┆     ┆     ┆     ┆     ┆     ┆     ┆     ┆     ┆     ┆     ┆     ┆     ┆     ┆     ┆     ┆     ┆     ┆     ┆     ┆     ┆     ┆     ┆     ┆     ┆     ┆     ┆     ┆     ┆     ┆     ┆     ┆     ┆     ┆     ┆     ┆     ┆     ┆     ┆     ┆     ┆ ven ┆     ┆     ┆     ┆     ┆ s   ┆     ┆     ┆     ┆     ┆     ┆     ┆     ┆     ┆     ┆     ┆     ┆     ┆ ven ┆     ┆     ┆     ┆     ┆     ┆     ┆     ┆     ┆     ┆     ┆     ┆     ┆     ┆     ┆     ┆     ┆     ┆     ┆     ┆     ┆     ┆     ┆     ┆     ┆     ┆     ┆     ┆     ┆     ┆     ┆     ┆     ┆     ┆     ┆     ┆     ┆     ┆     ┆     ┆     ┆     ┆     ┆     ┆     ┆ -   ┆     ┆     ┆     ┆     ┆     ┆     ┆     ┆     ┆     │\n",
       "│     ┆     ┆     ┆     ┆     ┆     ┆     ┆     ┆ v   ┆     ┆     ┆     ┆     ┆     ┆     ┆     ┆     ┆     ┆     ┆     ┆     ┆     ┆     ┆     ┆     ┆     ┆     ┆     ┆     ┆     ┆     ┆     ┆     ┆     ┆     ┆     ┆     ┆     ┆     ┆     ┆     ┆     ┆     ┆     ┆     ┆     ┆     ┆     ┆     ┆     ┆     ┆     ┆     ┆     ┆     ┆     ┆     ┆     ┆     ┆     ┆     ┆     ┆     ┆     ┆     ┆     ┆     ┆     ┆     ┆     ┆     ┆     ┆     ┆     ┆     ┆     ┆     ┆     ┆     ┆     ┆     ┆     ┆     ┆     ┆     ┆     ┆     ┆     ┆     ┆     ┆     ┆     ┆     ┆     ┆     ┆     ┆     ┆     ┆     ┆     ┆     ┆     ┆     ┆     ┆     ┆     ┆     ┆     ┆     ┆     ┆     ┆     ┆     ┆     ┆     ┆     ┆     ┆ 202 ┆     ┆     ┆     ┆     ┆     ┆     ┆     ┆     ┆     │\n",
       "│     ┆     ┆     ┆     ┆     ┆     ┆     ┆     ┆ SV  ┆     ┆     ┆     ┆     ┆     ┆     ┆     ┆     ┆     ┆     ┆     ┆     ┆     ┆     ┆     ┆     ┆     ┆     ┆     ┆     ┆     ┆     ┆     ┆     ┆     ┆     ┆     ┆     ┆     ┆     ┆     ┆     ┆     ┆     ┆     ┆     ┆     ┆     ┆     ┆     ┆     ┆     ┆     ┆     ┆     ┆     ┆     ┆     ┆     ┆     ┆     ┆     ┆     ┆     ┆     ┆     ┆     ┆     ┆     ┆     ┆     ┆     ┆     ┆     ┆     ┆     ┆     ┆     ┆     ┆     ┆     ┆     ┆     ┆     ┆     ┆     ┆     ┆     ┆     ┆     ┆     ┆     ┆     ┆     ┆     ┆     ┆     ┆     ┆     ┆     ┆     ┆     ┆     ┆     ┆     ┆     ┆     ┆     ┆     ┆     ┆     ┆     ┆     ┆     ┆     ┆     ┆     ┆     ┆ 1/2 ┆     ┆     ┆     ┆     ┆     ┆     ┆     ┆     ┆     │\n",
       "│     ┆     ┆     ┆     ┆     ┆     ┆     ┆     ┆ Zul ┆     ┆     ┆     ┆     ┆     ┆     ┆     ┆     ┆     ┆     ┆     ┆     ┆     ┆     ┆     ┆     ┆     ┆     ┆     ┆     ┆     ┆     ┆     ┆     ┆     ┆     ┆     ┆     ┆     ┆     ┆     ┆     ┆     ┆     ┆     ┆     ┆     ┆     ┆     ┆     ┆     ┆     ┆     ┆     ┆     ┆     ┆     ┆     ┆     ┆     ┆     ┆     ┆     ┆     ┆     ┆     ┆     ┆     ┆     ┆     ┆     ┆     ┆     ┆     ┆     ┆     ┆     ┆     ┆     ┆     ┆     ┆     ┆     ┆     ┆     ┆     ┆     ┆     ┆     ┆     ┆     ┆     ┆     ┆     ┆     ┆     ┆     ┆     ┆     ┆     ┆     ┆     ┆     ┆     ┆     ┆     ┆     ┆     ┆     ┆     ┆     ┆     ┆     ┆     ┆     ┆     ┆     ┆     ┆ 022 ┆     ┆     ┆     ┆     ┆     ┆     ┆     ┆     ┆     │\n",
       "│     ┆     ┆     ┆     ┆     ┆     ┆     ┆     ┆ te… ┆     ┆     ┆     ┆     ┆     ┆     ┆     ┆     ┆     ┆     ┆     ┆     ┆     ┆     ┆     ┆     ┆     ┆     ┆     ┆     ┆     ┆     ┆     ┆     ┆     ┆     ┆     ┆     ┆     ┆     ┆     ┆     ┆     ┆     ┆     ┆     ┆     ┆     ┆     ┆     ┆     ┆     ┆     ┆     ┆     ┆     ┆     ┆     ┆     ┆     ┆     ┆     ┆     ┆     ┆     ┆     ┆     ┆     ┆     ┆     ┆     ┆     ┆     ┆     ┆     ┆     ┆     ┆     ┆     ┆     ┆     ┆     ┆     ┆     ┆     ┆     ┆     ┆     ┆     ┆     ┆     ┆     ┆     ┆     ┆     ┆     ┆     ┆     ┆     ┆     ┆     ┆     ┆     ┆     ┆     ┆     ┆     ┆     ┆     ┆     ┆     ┆     ┆     ┆     ┆     ┆     ┆     ┆     ┆     ┆     ┆     ┆     ┆     ┆     ┆     ┆     ┆     ┆     │\n",
       "│ 110 ┆ 1   ┆ 47  ┆ 116 ┆ 625 ┆ 4   ┆ 36  ┆ 199 ┆ Clu ┆ 23  ┆ 17  ┆ 1   ┆ 85  ┆ 56  ┆ 6   ┆ 19. ┆ 4   ┆ 3   ┆ 20  ┆ 4   ┆ 47  ┆ 234 ┆ 159 ┆ 461 ┆ 60. ┆ 13  ┆ 449 ┆ 265 ┆ 39  ┆ 44  ┆ 29  ┆ 1   ┆ 0   ┆ 17  ┆ 0   ┆ 62  ┆ 21  ┆ 249 ┆ 5   ┆ 86  ┆ 24  ┆ 18  ┆ 174 ┆ 1   ┆ 4   ┆ 37  ┆ 37. ┆ 41  ┆ 140 ┆ 462 ┆ 81  ┆ 1   ┆ 2   ┆ 468 ┆ KAS ┆ 19  ┆ 202 ┆ Mid ┆ 225 ┆ Ste ┆ 139 ┆ 23  ┆ 60  ┆ 19  ┆ 10  ┆ 788 ┆ tru ┆ 18  ┆ 2   ┆ 18. ┆ 2   ┆ S.  ┆ KAS ┆ 2   ┆ 9   ┆ 35  ┆ 15. ┆ 603 ┆ 1   ┆ 115 ┆ 943 ┆ 26  ┆ 2   ┆ 25. ┆ 0   ┆ 140 ┆ 1   ┆ 1   ┆ 0   ┆ 11  ┆ 28. ┆ AM  ┆ 253 ┆ 536 ┆ 50. ┆ 1   ┆ 12. ┆ 8   ┆ 1   ┆ 202 ┆ 8   ┆ 0   ┆ 142 ┆ 16  ┆ 0   ┆ 334 ┆ 12  ┆ 13  ┆ 8   ┆ 490 ┆ 2   ┆ 373 ┆ 2   ┆ 320 ┆ 36  ┆ 112 ┆ 26  ┆ BEL ┆ 8   ┆ 202 ┆ 202 ┆ 202 ┆ 16  ┆ BEL ┆ Pro ┆ mal ┆ adu │\n",
       "│ .42 ┆     ┆     ┆ 26  ┆ 7   ┆     ┆     ┆ 2-0 ┆ b   ┆     ┆     ┆     ┆     ┆     ┆     ┆ 18  ┆     ┆     ┆     ┆     ┆     ┆ 0   ┆     ┆     ┆ 17  ┆     ┆ 98  ┆ 0   ┆     ┆     ┆     ┆     ┆     ┆     ┆     ┆     ┆     ┆     ┆     ┆     ┆     ┆     ┆     ┆     ┆     ┆     ┆ 23  ┆     ┆ 5   ┆     ┆     ┆     ┆     ┆     ┆ Eup ┆     ┆ 1/2 ┆ fie ┆ 2   ┆ f   ┆ 7   ┆     ┆     ┆     ┆     ┆     ┆ e   ┆     ┆     ┆ 05  ┆     ┆ Pee ┆ Eup ┆     ┆     ┆     ┆ 68  ┆     ┆     ┆ 95  ┆     ┆     ┆     ┆ 5   ┆     ┆     ┆     ┆     ┆     ┆     ┆ 66  ┆     ┆     ┆ 9   ┆ 25  ┆     ┆ 98  ┆     ┆     ┆ 1-0 ┆     ┆     ┆     ┆     ┆     ┆     ┆     ┆     ┆     ┆ 2   ┆     ┆ 7   ┆     ┆     ┆     ┆     ┆     ┆ -   ┆     ┆ 1   ┆ 2   ┆ 1/2 ┆     ┆     ┆ Lea ┆ e   ┆ lt  │\n",
       "│     ┆     ┆     ┆     ┆     ┆     ┆     ┆ 2-0 ┆ Bru ┆     ┆     ┆     ┆     ┆     ┆     ┆     ┆     ┆     ┆     ┆     ┆     ┆     ┆     ┆     ┆     ┆     ┆     ┆     ┆     ┆     ┆     ┆     ┆     ┆     ┆     ┆     ┆     ┆     ┆     ┆     ┆     ┆     ┆     ┆     ┆     ┆     ┆     ┆     ┆     ┆     ┆     ┆     ┆     ┆     ┆ en  ┆     ┆ 022 ┆ ld  ┆     ┆ Pee ┆     ┆     ┆     ┆     ┆     ┆     ┆     ┆     ┆     ┆     ┆     ┆ ter ┆ en  ┆     ┆     ┆     ┆     ┆     ┆     ┆     ┆     ┆     ┆     ┆     ┆     ┆     ┆     ┆     ┆     ┆     ┆     ┆     ┆     ┆     ┆     ┆     ┆     ┆     ┆     ┆ 7-2 ┆     ┆     ┆     ┆     ┆     ┆     ┆     ┆     ┆     ┆     ┆     ┆     ┆     ┆     ┆     ┆     ┆     ┆ Pro ┆     ┆     ┆     ┆ 022 ┆     ┆     ┆ gue ┆     ┆     │\n",
       "│     ┆     ┆     ┆     ┆     ┆     ┆     ┆ 9   ┆ gge ┆     ┆     ┆     ┆     ┆     ┆     ┆     ┆     ┆     ┆     ┆     ┆     ┆     ┆     ┆     ┆     ┆     ┆     ┆     ┆     ┆     ┆     ┆     ┆     ┆     ┆     ┆     ┆     ┆     ┆     ┆     ┆     ┆     ┆     ┆     ┆     ┆     ┆     ┆     ┆     ┆     ┆     ┆     ┆     ┆     ┆     ┆     ┆     ┆     ┆     ┆ ter ┆     ┆     ┆     ┆     ┆     ┆     ┆     ┆     ┆     ┆     ┆     ┆ s   ┆     ┆     ┆     ┆     ┆     ┆     ┆     ┆     ┆     ┆     ┆     ┆     ┆     ┆     ┆     ┆     ┆     ┆     ┆     ┆     ┆     ┆     ┆     ┆     ┆     ┆     ┆     ┆ 5   ┆     ┆     ┆     ┆     ┆     ┆     ┆     ┆     ┆     ┆     ┆     ┆     ┆     ┆     ┆     ┆     ┆     ┆ Lea ┆     ┆     ┆     ┆     ┆     ┆     ┆     ┆     ┆     │\n",
       "│     ┆     ┆     ┆     ┆     ┆     ┆     ┆     ┆ KV  ┆     ┆     ┆     ┆     ┆     ┆     ┆     ┆     ┆     ┆     ┆     ┆     ┆     ┆     ┆     ┆     ┆     ┆     ┆     ┆     ┆     ┆     ┆     ┆     ┆     ┆     ┆     ┆     ┆     ┆     ┆     ┆     ┆     ┆     ┆     ┆     ┆     ┆     ┆     ┆     ┆     ┆     ┆     ┆     ┆     ┆     ┆     ┆     ┆     ┆     ┆ s   ┆     ┆     ┆     ┆     ┆     ┆     ┆     ┆     ┆     ┆     ┆     ┆     ┆     ┆     ┆     ┆     ┆     ┆     ┆     ┆     ┆     ┆     ┆     ┆     ┆     ┆     ┆     ┆     ┆     ┆     ┆     ┆     ┆     ┆     ┆     ┆     ┆     ┆     ┆     ┆     ┆     ┆     ┆     ┆     ┆     ┆     ┆     ┆     ┆     ┆     ┆     ┆     ┆     ┆     ┆     ┆     ┆     ┆ gue ┆     ┆     ┆     ┆     ┆     ┆     ┆     ┆     ┆     │\n",
       "│     ┆     ┆     ┆     ┆     ┆     ┆     ┆     ┆ v   ┆     ┆     ┆     ┆     ┆     ┆     ┆     ┆     ┆     ┆     ┆     ┆     ┆     ┆     ┆     ┆     ┆     ┆     ┆     ┆     ┆     ┆     ┆     ┆     ┆     ┆     ┆     ┆     ┆     ┆     ┆     ┆     ┆     ┆     ┆     ┆     ┆     ┆     ┆     ┆     ┆     ┆     ┆     ┆     ┆     ┆     ┆     ┆     ┆     ┆     ┆     ┆     ┆     ┆     ┆     ┆     ┆     ┆     ┆     ┆     ┆     ┆     ┆     ┆     ┆     ┆     ┆     ┆     ┆     ┆     ┆     ┆     ┆     ┆     ┆     ┆     ┆     ┆     ┆     ┆     ┆     ┆     ┆     ┆     ┆     ┆     ┆     ┆     ┆     ┆     ┆     ┆     ┆     ┆     ┆     ┆     ┆     ┆     ┆     ┆     ┆     ┆     ┆     ┆     ┆     ┆     ┆     ┆     ┆ -   ┆     ┆     ┆     ┆     ┆     ┆     ┆     ┆     ┆     │\n",
       "│     ┆     ┆     ┆     ┆     ┆     ┆     ┆     ┆ KAS ┆     ┆     ┆     ┆     ┆     ┆     ┆     ┆     ┆     ┆     ┆     ┆     ┆     ┆     ┆     ┆     ┆     ┆     ┆     ┆     ┆     ┆     ┆     ┆     ┆     ┆     ┆     ┆     ┆     ┆     ┆     ┆     ┆     ┆     ┆     ┆     ┆     ┆     ┆     ┆     ┆     ┆     ┆     ┆     ┆     ┆     ┆     ┆     ┆     ┆     ┆     ┆     ┆     ┆     ┆     ┆     ┆     ┆     ┆     ┆     ┆     ┆     ┆     ┆     ┆     ┆     ┆     ┆     ┆     ┆     ┆     ┆     ┆     ┆     ┆     ┆     ┆     ┆     ┆     ┆     ┆     ┆     ┆     ┆     ┆     ┆     ┆     ┆     ┆     ┆     ┆     ┆     ┆     ┆     ┆     ┆     ┆     ┆     ┆     ┆     ┆     ┆     ┆     ┆     ┆     ┆     ┆     ┆     ┆ 202 ┆     ┆     ┆     ┆     ┆     ┆     ┆     ┆     ┆     │\n",
       "│     ┆     ┆     ┆     ┆     ┆     ┆     ┆     ┆ Eup ┆     ┆     ┆     ┆     ┆     ┆     ┆     ┆     ┆     ┆     ┆     ┆     ┆     ┆     ┆     ┆     ┆     ┆     ┆     ┆     ┆     ┆     ┆     ┆     ┆     ┆     ┆     ┆     ┆     ┆     ┆     ┆     ┆     ┆     ┆     ┆     ┆     ┆     ┆     ┆     ┆     ┆     ┆     ┆     ┆     ┆     ┆     ┆     ┆     ┆     ┆     ┆     ┆     ┆     ┆     ┆     ┆     ┆     ┆     ┆     ┆     ┆     ┆     ┆     ┆     ┆     ┆     ┆     ┆     ┆     ┆     ┆     ┆     ┆     ┆     ┆     ┆     ┆     ┆     ┆     ┆     ┆     ┆     ┆     ┆     ┆     ┆     ┆     ┆     ┆     ┆     ┆     ┆     ┆     ┆     ┆     ┆     ┆     ┆     ┆     ┆     ┆     ┆     ┆     ┆     ┆     ┆     ┆     ┆ 1/2 ┆     ┆     ┆     ┆     ┆     ┆     ┆     ┆     ┆     │\n",
       "│     ┆     ┆     ┆     ┆     ┆     ┆     ┆     ┆ en  ┆     ┆     ┆     ┆     ┆     ┆     ┆     ┆     ┆     ┆     ┆     ┆     ┆     ┆     ┆     ┆     ┆     ┆     ┆     ┆     ┆     ┆     ┆     ┆     ┆     ┆     ┆     ┆     ┆     ┆     ┆     ┆     ┆     ┆     ┆     ┆     ┆     ┆     ┆     ┆     ┆     ┆     ┆     ┆     ┆     ┆     ┆     ┆     ┆     ┆     ┆     ┆     ┆     ┆     ┆     ┆     ┆     ┆     ┆     ┆     ┆     ┆     ┆     ┆     ┆     ┆     ┆     ┆     ┆     ┆     ┆     ┆     ┆     ┆     ┆     ┆     ┆     ┆     ┆     ┆     ┆     ┆     ┆     ┆     ┆     ┆     ┆     ┆     ┆     ┆     ┆     ┆     ┆     ┆     ┆     ┆     ┆     ┆     ┆     ┆     ┆     ┆     ┆     ┆     ┆     ┆     ┆     ┆     ┆ 022 ┆     ┆     ┆     ┆     ┆     ┆     ┆     ┆     ┆     │\n",
       "└─────┴─────┴─────┴─────┴─────┴─────┴─────┴─────┴─────┴─────┴─────┴─────┴─────┴─────┴─────┴─────┴─────┴─────┴─────┴─────┴─────┴─────┴─────┴─────┴─────┴─────┴─────┴─────┴─────┴─────┴─────┴─────┴─────┴─────┴─────┴─────┴─────┴─────┴─────┴─────┴─────┴─────┴─────┴─────┴─────┴─────┴─────┴─────┴─────┴─────┴─────┴─────┴─────┴─────┴─────┴─────┴─────┴─────┴─────┴─────┴─────┴─────┴─────┴─────┴─────┴─────┴─────┴─────┴─────┴─────┴─────┴─────┴─────┴─────┴─────┴─────┴─────┴─────┴─────┴─────┴─────┴─────┴─────┴─────┴─────┴─────┴─────┴─────┴─────┴─────┴─────┴─────┴─────┴─────┴─────┴─────┴─────┴─────┴─────┴─────┴─────┴─────┴─────┴─────┴─────┴─────┴─────┴─────┴─────┴─────┴─────┴─────┴─────┴─────┴─────┴─────┴─────┴─────┴─────┴─────┴─────┴─────┴─────┴─────┴─────┴─────┴─────┘"
      ]
     },
     "execution_count": 26,
     "metadata": {},
     "output_type": "execute_result"
    }
   ],
   "source": [
    "pl.Config.set_tbl_cols(250)\n",
    "work_df.head()"
   ]
  },
  {
   "cell_type": "code",
   "execution_count": 27,
   "metadata": {},
   "outputs": [],
   "source": [
    "# get the statsbomb levels\n",
    "sb_cl = pl.read_csv('statsbomb-competition-levels.csv')"
   ]
  },
  {
   "cell_type": "code",
   "execution_count": 28,
   "metadata": {},
   "outputs": [
    {
     "data": {
      "text/html": [
       "<div><style>\n",
       ".dataframe > thead > tr,\n",
       ".dataframe > tbody > tr {\n",
       "  text-align: right;\n",
       "  white-space: pre-wrap;\n",
       "}\n",
       "</style>\n",
       "<small>shape: (5, 5)</small><table border=\"1\" class=\"dataframe\"><thead><tr><th>competition_id</th><th>competition_name</th><th>competition_region_name</th><th>competition_level</th><th>competition_division_level</th></tr><tr><td>i64</td><td>str</td><td>str</td><td>i64</td><td>str</td></tr></thead><tbody><tr><td>81</td><td>&quot;Liga Profesional&quot;</td><td>&quot;Argentina&quot;</td><td>2</td><td>&quot;1&quot;</td></tr><tr><td>93</td><td>&quot;A-League&quot;</td><td>&quot;Australia&quot;</td><td>3</td><td>&quot;1&quot;</td></tr><tr><td>47</td><td>&quot;Bundesliga&quot;</td><td>&quot;Austria&quot;</td><td>2</td><td>&quot;1&quot;</td></tr><tr><td>1035</td><td>&quot;First Division B&quot;</td><td>&quot;Belgium&quot;</td><td>3</td><td>&quot;2&quot;</td></tr><tr><td>46</td><td>&quot;Jupiler Pro League&quot;</td><td>&quot;Belgium&quot;</td><td>2</td><td>&quot;1&quot;</td></tr></tbody></table></div>"
      ],
      "text/plain": [
       "shape: (5, 5)\n",
       "┌────────────────┬────────────────────┬────────────────────┬───────────────────┬───────────────────┐\n",
       "│ competition_id ┆ competition_name   ┆ competition_region ┆ competition_level ┆ competition_divis │\n",
       "│ ---            ┆ ---                ┆ _name              ┆ ---               ┆ ion_level         │\n",
       "│ i64            ┆ str                ┆ ---                ┆ i64               ┆ ---               │\n",
       "│                ┆                    ┆ str                ┆                   ┆ str               │\n",
       "╞════════════════╪════════════════════╪════════════════════╪═══════════════════╪═══════════════════╡\n",
       "│ 81             ┆ Liga Profesional   ┆ Argentina          ┆ 2                 ┆ 1                 │\n",
       "│ 93             ┆ A-League           ┆ Australia          ┆ 3                 ┆ 1                 │\n",
       "│ 47             ┆ Bundesliga         ┆ Austria            ┆ 2                 ┆ 1                 │\n",
       "│ 1035           ┆ First Division B   ┆ Belgium            ┆ 3                 ┆ 2                 │\n",
       "│ 46             ┆ Jupiler Pro League ┆ Belgium            ┆ 2                 ┆ 1                 │\n",
       "└────────────────┴────────────────────┴────────────────────┴───────────────────┴───────────────────┘"
      ]
     },
     "execution_count": 28,
     "metadata": {},
     "output_type": "execute_result"
    }
   ],
   "source": [
    "sb_cl.head()"
   ]
  },
  {
   "cell_type": "code",
   "execution_count": 29,
   "metadata": {},
   "outputs": [],
   "source": [
    "# rename competition name for easy merge\n",
    "sb_cl = sb_cl.rename({\"competition_name\":\"sb_competition_name\"})"
   ]
  },
  {
   "cell_type": "code",
   "execution_count": 30,
   "metadata": {},
   "outputs": [],
   "source": [
    "sb_cl = sb_cl.drop([\"competition_id\", \"competition_level\"])"
   ]
  },
  {
   "cell_type": "code",
   "execution_count": 31,
   "metadata": {},
   "outputs": [
    {
     "data": {
      "text/html": [
       "<div><style>\n",
       ".dataframe > thead > tr,\n",
       ".dataframe > tbody > tr {\n",
       "  text-align: right;\n",
       "  white-space: pre-wrap;\n",
       "}\n",
       "</style>\n",
       "<small>shape: (5, 3)</small><table border=\"1\" class=\"dataframe\"><thead><tr><th>sb_competition_name</th><th>competition_region_name</th><th>competition_division_level</th></tr><tr><td>str</td><td>str</td><td>str</td></tr></thead><tbody><tr><td>&quot;Liga Profesional&quot;</td><td>&quot;Argentina&quot;</td><td>&quot;1&quot;</td></tr><tr><td>&quot;A-League&quot;</td><td>&quot;Australia&quot;</td><td>&quot;1&quot;</td></tr><tr><td>&quot;Bundesliga&quot;</td><td>&quot;Austria&quot;</td><td>&quot;1&quot;</td></tr><tr><td>&quot;First Division B&quot;</td><td>&quot;Belgium&quot;</td><td>&quot;2&quot;</td></tr><tr><td>&quot;Jupiler Pro League&quot;</td><td>&quot;Belgium&quot;</td><td>&quot;1&quot;</td></tr></tbody></table></div>"
      ],
      "text/plain": [
       "shape: (5, 3)\n",
       "┌─────────────────────┬─────────────────────────┬────────────────────────────┐\n",
       "│ sb_competition_name ┆ competition_region_name ┆ competition_division_level │\n",
       "│ ---                 ┆ ---                     ┆ ---                        │\n",
       "│ str                 ┆ str                     ┆ str                        │\n",
       "╞═════════════════════╪═════════════════════════╪════════════════════════════╡\n",
       "│ Liga Profesional    ┆ Argentina               ┆ 1                          │\n",
       "│ A-League            ┆ Australia               ┆ 1                          │\n",
       "│ Bundesliga          ┆ Austria                 ┆ 1                          │\n",
       "│ First Division B    ┆ Belgium                 ┆ 2                          │\n",
       "│ Jupiler Pro League  ┆ Belgium                 ┆ 1                          │\n",
       "└─────────────────────┴─────────────────────────┴────────────────────────────┘"
      ]
     },
     "execution_count": 31,
     "metadata": {},
     "output_type": "execute_result"
    }
   ],
   "source": [
    "sb_cl.head()"
   ]
  },
  {
   "cell_type": "code",
   "execution_count": 32,
   "metadata": {},
   "outputs": [],
   "source": [
    "sb_sc = pl.read_csv('mapping-competition-seasons.csv')"
   ]
  },
  {
   "cell_type": "code",
   "execution_count": 33,
   "metadata": {},
   "outputs": [
    {
     "data": {
      "text/html": [
       "<div><style>\n",
       ".dataframe > thead > tr,\n",
       ".dataframe > tbody > tr {\n",
       "  text-align: right;\n",
       "  white-space: pre-wrap;\n",
       "}\n",
       "</style>\n",
       "<small>shape: (5, 10)</small><table border=\"1\" class=\"dataframe\"><thead><tr><th>sb_competition_id</th><th>sb_competition_name</th><th>sb_season_id</th><th>sb_season_name</th><th>sc_competition_id</th><th>sc_competition_name</th><th>sc_season_id</th><th>sc_season_name</th><th>sc_competition_season_id</th><th>sc_competition_season_name</th></tr><tr><td>i64</td><td>str</td><td>i64</td><td>str</td><td>i64</td><td>str</td><td>i64</td><td>str</td><td>i64</td><td>str</td></tr></thead><tbody><tr><td>2</td><td>&quot;Premier League&quot;</td><td>317</td><td>&quot;2024/2025&quot;</td><td>1</td><td>&quot;Premier League&quot;</td><td>95</td><td>&quot;2024/2025&quot;</td><td>895</td><td>&quot;ENG - Premier League - 2024/20…</td></tr><tr><td>2</td><td>&quot;Premier League&quot;</td><td>281</td><td>&quot;2023/2024&quot;</td><td>1</td><td>&quot;Premier League&quot;</td><td>28</td><td>&quot;2023/2024&quot;</td><td>543</td><td>&quot;ENG - Premier League - 2023/20…</td></tr><tr><td>2</td><td>&quot;Premier League&quot;</td><td>235</td><td>&quot;2022/2023&quot;</td><td>1</td><td>&quot;Premier League&quot;</td><td>21</td><td>&quot;2022/2023&quot;</td><td>387</td><td>&quot;ENG - Premier League - 2022/20…</td></tr><tr><td>2</td><td>&quot;Premier League&quot;</td><td>108</td><td>&quot;2021/2022&quot;</td><td>1</td><td>&quot;Premier League&quot;</td><td>8</td><td>&quot;2021/2022&quot;</td><td>287</td><td>&quot;ENG - Premier League - 2021/20…</td></tr><tr><td>2</td><td>&quot;Premier League&quot;</td><td>90</td><td>&quot;2020/2021&quot;</td><td>1</td><td>&quot;Premier League&quot;</td><td>7</td><td>&quot;2020/2021&quot;</td><td>147</td><td>&quot;ENG - Premier League - 2020/20…</td></tr></tbody></table></div>"
      ],
      "text/plain": [
       "shape: (5, 10)\n",
       "┌─────────┬─────────┬─────────┬─────────┬─────────┬─────────┬─────────┬─────────┬─────────┬────────┐\n",
       "│ sb_comp ┆ sb_comp ┆ sb_seas ┆ sb_seas ┆ sc_comp ┆ sc_comp ┆ sc_seas ┆ sc_seas ┆ sc_comp ┆ sc_com │\n",
       "│ etition ┆ etition ┆ on_id   ┆ on_name ┆ etition ┆ etition ┆ on_id   ┆ on_name ┆ etition ┆ petiti │\n",
       "│ _id     ┆ _name   ┆ ---     ┆ ---     ┆ _id     ┆ _name   ┆ ---     ┆ ---     ┆ _season ┆ on_sea │\n",
       "│ ---     ┆ ---     ┆ i64     ┆ str     ┆ ---     ┆ ---     ┆ i64     ┆ str     ┆ _id     ┆ son_na │\n",
       "│ i64     ┆ str     ┆         ┆         ┆ i64     ┆ str     ┆         ┆         ┆ ---     ┆ me     │\n",
       "│         ┆         ┆         ┆         ┆         ┆         ┆         ┆         ┆ i64     ┆ ---    │\n",
       "│         ┆         ┆         ┆         ┆         ┆         ┆         ┆         ┆         ┆ str    │\n",
       "╞═════════╪═════════╪═════════╪═════════╪═════════╪═════════╪═════════╪═════════╪═════════╪════════╡\n",
       "│ 2       ┆ Premier ┆ 317     ┆ 2024/20 ┆ 1       ┆ Premier ┆ 95      ┆ 2024/20 ┆ 895     ┆ ENG -  │\n",
       "│         ┆ League  ┆         ┆ 25      ┆         ┆ League  ┆         ┆ 25      ┆         ┆ Premie │\n",
       "│         ┆         ┆         ┆         ┆         ┆         ┆         ┆         ┆         ┆ r      │\n",
       "│         ┆         ┆         ┆         ┆         ┆         ┆         ┆         ┆         ┆ League │\n",
       "│         ┆         ┆         ┆         ┆         ┆         ┆         ┆         ┆         ┆ - 2024 │\n",
       "│         ┆         ┆         ┆         ┆         ┆         ┆         ┆         ┆         ┆ /20…   │\n",
       "│ 2       ┆ Premier ┆ 281     ┆ 2023/20 ┆ 1       ┆ Premier ┆ 28      ┆ 2023/20 ┆ 543     ┆ ENG -  │\n",
       "│         ┆ League  ┆         ┆ 24      ┆         ┆ League  ┆         ┆ 24      ┆         ┆ Premie │\n",
       "│         ┆         ┆         ┆         ┆         ┆         ┆         ┆         ┆         ┆ r      │\n",
       "│         ┆         ┆         ┆         ┆         ┆         ┆         ┆         ┆         ┆ League │\n",
       "│         ┆         ┆         ┆         ┆         ┆         ┆         ┆         ┆         ┆ - 2023 │\n",
       "│         ┆         ┆         ┆         ┆         ┆         ┆         ┆         ┆         ┆ /20…   │\n",
       "│ 2       ┆ Premier ┆ 235     ┆ 2022/20 ┆ 1       ┆ Premier ┆ 21      ┆ 2022/20 ┆ 387     ┆ ENG -  │\n",
       "│         ┆ League  ┆         ┆ 23      ┆         ┆ League  ┆         ┆ 23      ┆         ┆ Premie │\n",
       "│         ┆         ┆         ┆         ┆         ┆         ┆         ┆         ┆         ┆ r      │\n",
       "│         ┆         ┆         ┆         ┆         ┆         ┆         ┆         ┆         ┆ League │\n",
       "│         ┆         ┆         ┆         ┆         ┆         ┆         ┆         ┆         ┆ - 2022 │\n",
       "│         ┆         ┆         ┆         ┆         ┆         ┆         ┆         ┆         ┆ /20…   │\n",
       "│ 2       ┆ Premier ┆ 108     ┆ 2021/20 ┆ 1       ┆ Premier ┆ 8       ┆ 2021/20 ┆ 287     ┆ ENG -  │\n",
       "│         ┆ League  ┆         ┆ 22      ┆         ┆ League  ┆         ┆ 22      ┆         ┆ Premie │\n",
       "│         ┆         ┆         ┆         ┆         ┆         ┆         ┆         ┆         ┆ r      │\n",
       "│         ┆         ┆         ┆         ┆         ┆         ┆         ┆         ┆         ┆ League │\n",
       "│         ┆         ┆         ┆         ┆         ┆         ┆         ┆         ┆         ┆ - 2021 │\n",
       "│         ┆         ┆         ┆         ┆         ┆         ┆         ┆         ┆         ┆ /20…   │\n",
       "│ 2       ┆ Premier ┆ 90      ┆ 2020/20 ┆ 1       ┆ Premier ┆ 7       ┆ 2020/20 ┆ 147     ┆ ENG -  │\n",
       "│         ┆ League  ┆         ┆ 21      ┆         ┆ League  ┆         ┆ 21      ┆         ┆ Premie │\n",
       "│         ┆         ┆         ┆         ┆         ┆         ┆         ┆         ┆         ┆ r      │\n",
       "│         ┆         ┆         ┆         ┆         ┆         ┆         ┆         ┆         ┆ League │\n",
       "│         ┆         ┆         ┆         ┆         ┆         ┆         ┆         ┆         ┆ - 2020 │\n",
       "│         ┆         ┆         ┆         ┆         ┆         ┆         ┆         ┆         ┆ /20…   │\n",
       "└─────────┴─────────┴─────────┴─────────┴─────────┴─────────┴─────────┴─────────┴─────────┴────────┘"
      ]
     },
     "execution_count": 33,
     "metadata": {},
     "output_type": "execute_result"
    }
   ],
   "source": [
    "sb_sc.head()"
   ]
  },
  {
   "cell_type": "code",
   "execution_count": 34,
   "metadata": {},
   "outputs": [],
   "source": [
    "joined_sb_sc = sb_cl.join(sb_sc, on=\"sb_competition_name\")"
   ]
  },
  {
   "cell_type": "code",
   "execution_count": 35,
   "metadata": {},
   "outputs": [
    {
     "data": {
      "text/html": [
       "<div><style>\n",
       ".dataframe > thead > tr,\n",
       ".dataframe > tbody > tr {\n",
       "  text-align: right;\n",
       "  white-space: pre-wrap;\n",
       "}\n",
       "</style>\n",
       "<small>shape: (5, 12)</small><table border=\"1\" class=\"dataframe\"><thead><tr><th>sb_competition_name</th><th>competition_region_name</th><th>competition_division_level</th><th>sb_competition_id</th><th>sb_season_id</th><th>sb_season_name</th><th>sc_competition_id</th><th>sc_competition_name</th><th>sc_season_id</th><th>sc_season_name</th><th>sc_competition_season_id</th><th>sc_competition_season_name</th></tr><tr><td>str</td><td>str</td><td>str</td><td>i64</td><td>i64</td><td>str</td><td>i64</td><td>str</td><td>i64</td><td>str</td><td>i64</td><td>str</td></tr></thead><tbody><tr><td>&quot;Premier League&quot;</td><td>&quot;England&quot;</td><td>&quot;1&quot;</td><td>2</td><td>317</td><td>&quot;2024/2025&quot;</td><td>1</td><td>&quot;Premier League&quot;</td><td>95</td><td>&quot;2024/2025&quot;</td><td>895</td><td>&quot;ENG - Premier League - 2024/20…</td></tr><tr><td>&quot;Premier League&quot;</td><td>&quot;Scotland&quot;</td><td>&quot;1&quot;</td><td>2</td><td>317</td><td>&quot;2024/2025&quot;</td><td>1</td><td>&quot;Premier League&quot;</td><td>95</td><td>&quot;2024/2025&quot;</td><td>895</td><td>&quot;ENG - Premier League - 2024/20…</td></tr><tr><td>&quot;Premier League&quot;</td><td>&quot;Ukraine&quot;</td><td>&quot;1&quot;</td><td>2</td><td>317</td><td>&quot;2024/2025&quot;</td><td>1</td><td>&quot;Premier League&quot;</td><td>95</td><td>&quot;2024/2025&quot;</td><td>895</td><td>&quot;ENG - Premier League - 2024/20…</td></tr><tr><td>&quot;Premier League&quot;</td><td>&quot;England&quot;</td><td>&quot;1&quot;</td><td>2</td><td>281</td><td>&quot;2023/2024&quot;</td><td>1</td><td>&quot;Premier League&quot;</td><td>28</td><td>&quot;2023/2024&quot;</td><td>543</td><td>&quot;ENG - Premier League - 2023/20…</td></tr><tr><td>&quot;Premier League&quot;</td><td>&quot;Scotland&quot;</td><td>&quot;1&quot;</td><td>2</td><td>281</td><td>&quot;2023/2024&quot;</td><td>1</td><td>&quot;Premier League&quot;</td><td>28</td><td>&quot;2023/2024&quot;</td><td>543</td><td>&quot;ENG - Premier League - 2023/20…</td></tr></tbody></table></div>"
      ],
      "text/plain": [
       "shape: (5, 12)\n",
       "┌────────┬────────┬────────┬───────┬───────┬───────┬───────┬───────┬───────┬───────┬───────┬───────┐\n",
       "│ sb_com ┆ compet ┆ compet ┆ sb_co ┆ sb_se ┆ sb_se ┆ sc_co ┆ sc_co ┆ sc_se ┆ sc_se ┆ sc_co ┆ sc_co │\n",
       "│ petiti ┆ ition_ ┆ ition_ ┆ mpeti ┆ ason_ ┆ ason_ ┆ mpeti ┆ mpeti ┆ ason_ ┆ ason_ ┆ mpeti ┆ mpeti │\n",
       "│ on_nam ┆ region ┆ divisi ┆ tion_ ┆ id    ┆ name  ┆ tion_ ┆ tion_ ┆ id    ┆ name  ┆ tion_ ┆ tion_ │\n",
       "│ e      ┆ _name  ┆ on_lev ┆ id    ┆ ---   ┆ ---   ┆ id    ┆ name  ┆ ---   ┆ ---   ┆ seaso ┆ seaso │\n",
       "│ ---    ┆ ---    ┆ el     ┆ ---   ┆ i64   ┆ str   ┆ ---   ┆ ---   ┆ i64   ┆ str   ┆ n_id  ┆ n_nam │\n",
       "│ str    ┆ str    ┆ ---    ┆ i64   ┆       ┆       ┆ i64   ┆ str   ┆       ┆       ┆ ---   ┆ e     │\n",
       "│        ┆        ┆ str    ┆       ┆       ┆       ┆       ┆       ┆       ┆       ┆ i64   ┆ ---   │\n",
       "│        ┆        ┆        ┆       ┆       ┆       ┆       ┆       ┆       ┆       ┆       ┆ str   │\n",
       "╞════════╪════════╪════════╪═══════╪═══════╪═══════╪═══════╪═══════╪═══════╪═══════╪═══════╪═══════╡\n",
       "│ Premie ┆ Englan ┆ 1      ┆ 2     ┆ 317   ┆ 2024/ ┆ 1     ┆ Premi ┆ 95    ┆ 2024/ ┆ 895   ┆ ENG - │\n",
       "│ r      ┆ d      ┆        ┆       ┆       ┆ 2025  ┆       ┆ er    ┆       ┆ 2025  ┆       ┆ Premi │\n",
       "│ League ┆        ┆        ┆       ┆       ┆       ┆       ┆ Leagu ┆       ┆       ┆       ┆ er    │\n",
       "│        ┆        ┆        ┆       ┆       ┆       ┆       ┆ e     ┆       ┆       ┆       ┆ Leagu │\n",
       "│        ┆        ┆        ┆       ┆       ┆       ┆       ┆       ┆       ┆       ┆       ┆ e -   │\n",
       "│        ┆        ┆        ┆       ┆       ┆       ┆       ┆       ┆       ┆       ┆       ┆ 2024/ │\n",
       "│        ┆        ┆        ┆       ┆       ┆       ┆       ┆       ┆       ┆       ┆       ┆ 20…   │\n",
       "│ Premie ┆ Scotla ┆ 1      ┆ 2     ┆ 317   ┆ 2024/ ┆ 1     ┆ Premi ┆ 95    ┆ 2024/ ┆ 895   ┆ ENG - │\n",
       "│ r      ┆ nd     ┆        ┆       ┆       ┆ 2025  ┆       ┆ er    ┆       ┆ 2025  ┆       ┆ Premi │\n",
       "│ League ┆        ┆        ┆       ┆       ┆       ┆       ┆ Leagu ┆       ┆       ┆       ┆ er    │\n",
       "│        ┆        ┆        ┆       ┆       ┆       ┆       ┆ e     ┆       ┆       ┆       ┆ Leagu │\n",
       "│        ┆        ┆        ┆       ┆       ┆       ┆       ┆       ┆       ┆       ┆       ┆ e -   │\n",
       "│        ┆        ┆        ┆       ┆       ┆       ┆       ┆       ┆       ┆       ┆       ┆ 2024/ │\n",
       "│        ┆        ┆        ┆       ┆       ┆       ┆       ┆       ┆       ┆       ┆       ┆ 20…   │\n",
       "│ Premie ┆ Ukrain ┆ 1      ┆ 2     ┆ 317   ┆ 2024/ ┆ 1     ┆ Premi ┆ 95    ┆ 2024/ ┆ 895   ┆ ENG - │\n",
       "│ r      ┆ e      ┆        ┆       ┆       ┆ 2025  ┆       ┆ er    ┆       ┆ 2025  ┆       ┆ Premi │\n",
       "│ League ┆        ┆        ┆       ┆       ┆       ┆       ┆ Leagu ┆       ┆       ┆       ┆ er    │\n",
       "│        ┆        ┆        ┆       ┆       ┆       ┆       ┆ e     ┆       ┆       ┆       ┆ Leagu │\n",
       "│        ┆        ┆        ┆       ┆       ┆       ┆       ┆       ┆       ┆       ┆       ┆ e -   │\n",
       "│        ┆        ┆        ┆       ┆       ┆       ┆       ┆       ┆       ┆       ┆       ┆ 2024/ │\n",
       "│        ┆        ┆        ┆       ┆       ┆       ┆       ┆       ┆       ┆       ┆       ┆ 20…   │\n",
       "│ Premie ┆ Englan ┆ 1      ┆ 2     ┆ 281   ┆ 2023/ ┆ 1     ┆ Premi ┆ 28    ┆ 2023/ ┆ 543   ┆ ENG - │\n",
       "│ r      ┆ d      ┆        ┆       ┆       ┆ 2024  ┆       ┆ er    ┆       ┆ 2024  ┆       ┆ Premi │\n",
       "│ League ┆        ┆        ┆       ┆       ┆       ┆       ┆ Leagu ┆       ┆       ┆       ┆ er    │\n",
       "│        ┆        ┆        ┆       ┆       ┆       ┆       ┆ e     ┆       ┆       ┆       ┆ Leagu │\n",
       "│        ┆        ┆        ┆       ┆       ┆       ┆       ┆       ┆       ┆       ┆       ┆ e -   │\n",
       "│        ┆        ┆        ┆       ┆       ┆       ┆       ┆       ┆       ┆       ┆       ┆ 2023/ │\n",
       "│        ┆        ┆        ┆       ┆       ┆       ┆       ┆       ┆       ┆       ┆       ┆ 20…   │\n",
       "│ Premie ┆ Scotla ┆ 1      ┆ 2     ┆ 281   ┆ 2023/ ┆ 1     ┆ Premi ┆ 28    ┆ 2023/ ┆ 543   ┆ ENG - │\n",
       "│ r      ┆ nd     ┆        ┆       ┆       ┆ 2024  ┆       ┆ er    ┆       ┆ 2024  ┆       ┆ Premi │\n",
       "│ League ┆        ┆        ┆       ┆       ┆       ┆       ┆ Leagu ┆       ┆       ┆       ┆ er    │\n",
       "│        ┆        ┆        ┆       ┆       ┆       ┆       ┆ e     ┆       ┆       ┆       ┆ Leagu │\n",
       "│        ┆        ┆        ┆       ┆       ┆       ┆       ┆       ┆       ┆       ┆       ┆ e -   │\n",
       "│        ┆        ┆        ┆       ┆       ┆       ┆       ┆       ┆       ┆       ┆       ┆ 2023/ │\n",
       "│        ┆        ┆        ┆       ┆       ┆       ┆       ┆       ┆       ┆       ┆       ┆ 20…   │\n",
       "└────────┴────────┴────────┴───────┴───────┴───────┴───────┴───────┴───────┴───────┴───────┴───────┘"
      ]
     },
     "execution_count": 35,
     "metadata": {},
     "output_type": "execute_result"
    }
   ],
   "source": [
    "joined_sb_sc.head()"
   ]
  },
  {
   "cell_type": "code",
   "execution_count": 36,
   "metadata": {},
   "outputs": [],
   "source": [
    "# extract columns containing skillcorner competition country and national division information, sc_competition_id\n",
    "extracted_sb_sc = joined_sb_sc.select([\"sc_competition_season_id\", \"competition_region_name\", \"competition_division_level\"])"
   ]
  },
  {
   "cell_type": "code",
   "execution_count": 37,
   "metadata": {},
   "outputs": [],
   "source": [
    "extracted_sb_sc = extracted_sb_sc.rename({\"sc_competition_season_id\":\"competition_edition_id\"})"
   ]
  },
  {
   "cell_type": "code",
   "execution_count": 38,
   "metadata": {},
   "outputs": [],
   "source": [
    "extracted_sb_sc = extracted_sb_sc.with_columns(\n",
    "    pl.concat_str(\n",
    "        [\n",
    "            pl.col(\"competition_region_name\"),\n",
    "            pl.col(\"competition_division_level\"),\n",
    "        ],\n",
    "        separator = \"_\"\n",
    "    ).alias(\"competition_region_division\")\n",
    ").drop([\"competition_region_name\", \"competition_division_level\"])"
   ]
  },
  {
   "cell_type": "code",
   "execution_count": 39,
   "metadata": {},
   "outputs": [
    {
     "data": {
      "text/html": [
       "<div><style>\n",
       ".dataframe > thead > tr,\n",
       ".dataframe > tbody > tr {\n",
       "  text-align: right;\n",
       "  white-space: pre-wrap;\n",
       "}\n",
       "</style>\n",
       "<small>shape: (5, 2)</small><table border=\"1\" class=\"dataframe\"><thead><tr><th>competition_edition_id</th><th>competition_region_division</th></tr><tr><td>i64</td><td>str</td></tr></thead><tbody><tr><td>895</td><td>&quot;England_1&quot;</td></tr><tr><td>895</td><td>&quot;Scotland_1&quot;</td></tr><tr><td>895</td><td>&quot;Ukraine_1&quot;</td></tr><tr><td>543</td><td>&quot;England_1&quot;</td></tr><tr><td>543</td><td>&quot;Scotland_1&quot;</td></tr></tbody></table></div>"
      ],
      "text/plain": [
       "shape: (5, 2)\n",
       "┌────────────────────────┬─────────────────────────────┐\n",
       "│ competition_edition_id ┆ competition_region_division │\n",
       "│ ---                    ┆ ---                         │\n",
       "│ i64                    ┆ str                         │\n",
       "╞════════════════════════╪═════════════════════════════╡\n",
       "│ 895                    ┆ England_1                   │\n",
       "│ 895                    ┆ Scotland_1                  │\n",
       "│ 895                    ┆ Ukraine_1                   │\n",
       "│ 543                    ┆ England_1                   │\n",
       "│ 543                    ┆ Scotland_1                  │\n",
       "└────────────────────────┴─────────────────────────────┘"
      ]
     },
     "execution_count": 39,
     "metadata": {},
     "output_type": "execute_result"
    }
   ],
   "source": [
    "extracted_sb_sc.head()"
   ]
  },
  {
   "cell_type": "code",
   "execution_count": 40,
   "metadata": {},
   "outputs": [],
   "source": [
    "final_df = work_df.join(extracted_sb_sc, on = \"competition_edition_id\")"
   ]
  },
  {
   "cell_type": "code",
   "execution_count": 41,
   "metadata": {},
   "outputs": [
    {
     "data": {
      "text/plain": [
       "(508602, 128)"
      ]
     },
     "execution_count": 41,
     "metadata": {},
     "output_type": "execute_result"
    }
   ],
   "source": [
    "final_df.shape"
   ]
  },
  {
   "cell_type": "code",
   "execution_count": 42,
   "metadata": {},
   "outputs": [
    {
     "data": {
      "text/html": [
       "<div><style>\n",
       ".dataframe > thead > tr,\n",
       ".dataframe > tbody > tr {\n",
       "  text-align: right;\n",
       "  white-space: pre-wrap;\n",
       "}\n",
       "</style>\n",
       "<small>shape: (5, 128)</small><table border=\"1\" class=\"dataframe\"><thead><tr><th>Minutes</th><th>Count Sprint OTIP 2</th><th>Count Medium Acceleration OTIP</th><th>Distance</th><th>Distance 1</th><th>Count Sprint 1</th><th>Sprinting Distance TIP 1</th><th>player_birthdate</th><th>match_name</th><th>Count HSR 1</th><th>Count HSR TIP</th><th>Count High Deceleration TIP</th><th>Count Medium Deceleration</th><th>Sprinting Distance 1</th><th>Count High Deceleration 1</th><th>Minutes OTIP 2</th><th>Count HSR TIP 2</th><th>Count High Deceleration OTIP</th><th>Sprinting Distance OTIP 1</th><th>Sprinting Distance 2</th><th>Count Medium Acceleration 1</th><th>Distance TIP 1</th><th>HSR Distance TIP</th><th>Running Distance TIP 1</th><th>Minutes 2</th><th>Count Medium Deceleration TIP 1</th><th>match_id</th><th>Distance OTIP 1</th><th>Count Medium Acceleration 2</th><th>Count Medium Deceleration 1</th><th>Count Medium Acceleration TIP</th><th>Count High Acceleration OTIP</th><th>Sprinting Distance TIP 2</th><th>Count HSR OTIP</th><th>Count High Acceleration OTIP 2</th><th>HSR Distance OTIP 2</th><th>Count Medium Acceleration OTIP 1</th><th>competition_edition_id</th><th>Count Sprint</th><th>Count Medium Acceleration</th><th>Sprinting Distance OTIP</th><th>Count Medium Acceleration TIP 1</th><th>HSR Distance OTIP</th><th>Count High Acceleration TIP 1</th><th>Sprinting Distance OTIP 2</th><th>Count Medium Deceleration OTIP</th><th>Minutes OTIP</th><th>Count Medium Deceleration 2</th><th>Running Distance</th><th>Running Distance 2</th><th>HSR Distance 2</th><th>Count High Acceleration OTIP 1</th><th>Count Sprint TIP</th><th>Running Distance OTIP 1</th><th>team_name</th><th>Count Medium Deceleration OTIP 2</th><th>season_name</th><th>group</th><th>Distance OTIP 2</th><th>player_name</th><th>Distance TIP 2</th><th>Count Medium Deceleration TIP</th><th>Sprinting Distance</th><th>HSR Distance TIP 2</th><th>Count Medium Deceleration TIP 2</th><th>Running Distance OTIP</th><th>quality_check</th><th>Count Medium Deceleration OTIP 1</th><th>Count Sprint OTIP</th><th>Minutes OTIP 1</th><th>Count Sprint TIP 1</th><th>short_name</th><th>team</th><th>Count High Acceleration 1</th><th>Count HSR OTIP 1</th><th>Count HSR</th><th>Minutes TIP 1</th><th>Running Distance TIP</th><th>Count High Deceleration OTIP 2</th><th>player_id</th><th>Running Distance 1</th><th>Count Medium Acceleration OTIP 2</th><th>Count High Acceleration</th><th>PSV-99</th><th>Count High Acceleration 2</th><th>HSR Distance TIP 1</th><th>Count High Acceleration TIP</th><th>Count Sprint OTIP 1</th><th>Count High Acceleration TIP 2</th><th>Count Medium Acceleration TIP 2</th><th>Minutes TIP</th><th>position</th><th>HSR Distance 1</th><th>Distance 2</th><th>Minutes 1</th><th>Count Sprint 2</th><th>Minutes TIP 2</th><th>Count HSR OTIP 2</th><th>Count High Deceleration TIP 1</th><th>date</th><th>Count High Deceleration</th><th>Count High Deceleration TIP 2</th><th>Running Distance TIP 2</th><th>competition_id</th><th>Count Sprint TIP 2</th><th>HSR Distance</th><th>Count HSR 2</th><th>Count HSR TIP 1</th><th>season_id</th><th>Distance OTIP</th><th>Count High Deceleration OTIP 1</th><th>Distance TIP</th><th>Count High Deceleration 2</th><th>Running Distance OTIP 2</th><th>Sprinting Distance TIP</th><th>HSR Distance OTIP 1</th><th>team_id</th><th>name</th><th>season_id_right</th><th>season_start_year</th><th>season_end_year</th><th>season_name_right</th><th>competition_id_right</th><th>competition_area</th><th>competition_name</th><th>competition_gender</th><th>competition_age_group</th><th>competition_region_division</th></tr><tr><td>f64</td><td>i64</td><td>i64</td><td>i64</td><td>i64</td><td>i64</td><td>i64</td><td>str</td><td>str</td><td>i64</td><td>i64</td><td>i64</td><td>i64</td><td>i64</td><td>i64</td><td>f64</td><td>i64</td><td>i64</td><td>i64</td><td>i64</td><td>i64</td><td>i64</td><td>i64</td><td>i64</td><td>f64</td><td>i64</td><td>i64</td><td>i64</td><td>i64</td><td>i64</td><td>i64</td><td>i64</td><td>i64</td><td>i64</td><td>i64</td><td>i64</td><td>i64</td><td>i64</td><td>i64</td><td>i64</td><td>i64</td><td>i64</td><td>i64</td><td>i64</td><td>i64</td><td>i64</td><td>f64</td><td>i64</td><td>i64</td><td>i64</td><td>i64</td><td>i64</td><td>i64</td><td>i64</td><td>str</td><td>i64</td><td>str</td><td>str</td><td>i64</td><td>str</td><td>i64</td><td>i64</td><td>i64</td><td>i64</td><td>i64</td><td>i64</td><td>bool</td><td>i64</td><td>i64</td><td>f64</td><td>i64</td><td>str</td><td>str</td><td>i64</td><td>i64</td><td>i64</td><td>f64</td><td>i64</td><td>i64</td><td>i64</td><td>i64</td><td>i64</td><td>i64</td><td>f64</td><td>i64</td><td>i64</td><td>i64</td><td>i64</td><td>i64</td><td>i64</td><td>f64</td><td>str</td><td>i64</td><td>i64</td><td>f64</td><td>i64</td><td>f64</td><td>i64</td><td>i64</td><td>str</td><td>i64</td><td>i64</td><td>i64</td><td>i64</td><td>i64</td><td>i64</td><td>i64</td><td>i64</td><td>i64</td><td>i64</td><td>i64</td><td>i64</td><td>i64</td><td>i64</td><td>i64</td><td>i64</td><td>i64</td><td>str</td><td>i64</td><td>i64</td><td>i64</td><td>str</td><td>i64</td><td>str</td><td>str</td><td>str</td><td>str</td><td>str</td></tr></thead><tbody><tr><td>96.63</td><td>1</td><td>47</td><td>13026</td><td>6810</td><td>3</td><td>11</td><td>&quot;1995-02-17&quot;</td><td>&quot;KV Mechelen v Royal Antwerp FC&quot;</td><td>33</td><td>19</td><td>3</td><td>89</td><td>92</td><td>8</td><td>17.3</td><td>6</td><td>4</td><td>27</td><td>56</td><td>52</td><td>1874</td><td>260</td><td>369</td><td>49.48</td><td>8</td><td>44999</td><td>2983</td><td>48</td><td>42</td><td>22</td><td>0</td><td>19</td><td>34</td><td>0</td><td>218</td><td>24</td><td>249</td><td>5</td><td>100</td><td>45</td><td>12</td><td>443</td><td>0</td><td>18</td><td>34</td><td>35.57</td><td>47</td><td>2415</td><td>1061</td><td>358</td><td>0</td><td>2</td><td>842</td><td>&quot;Royal Antwerp FC&quot;</td><td>17</td><td>&quot;2021/2022&quot;</td><td>&quot;Midfield&quot;</td><td>2744</td><td>&quot;Pieter Gerkens&quot;</td><td>1558</td><td>17</td><td>148</td><td>121</td><td>9</td><td>1504</td><td>true</td><td>17</td><td>2</td><td>18.27</td><td>1</td><td>&quot;P. Gerkens&quot;</td><td>&quot;Royal Antwerp FC&quot;</td><td>3</td><td>17</td><td>59</td><td>13.13</td><td>661</td><td>1</td><td>8701</td><td>1354</td><td>23</td><td>4</td><td>25.7</td><td>1</td><td>139</td><td>0</td><td>1</td><td>0</td><td>10</td><td>24.21</td><td>&quot;AM&quot;</td><td>387</td><td>6216</td><td>47.15</td><td>2</td><td>11.08</td><td>17</td><td>2</td><td>&quot;2021-07-25&quot;</td><td>11</td><td>1</td><td>292</td><td>16</td><td>1</td><td>745</td><td>26</td><td>13</td><td>8</td><td>5727</td><td>3</td><td>3432</td><td>3</td><td>662</td><td>30</td><td>225</td><td>462</td><td>&quot;BEL - Pro League - 2021/2022&quot;</td><td>8</td><td>2021</td><td>2022</td><td>&quot;2021/2022&quot;</td><td>16</td><td>&quot;BEL&quot;</td><td>&quot;Pro League&quot;</td><td>&quot;male&quot;</td><td>&quot;adult&quot;</td><td>&quot;Belgium_1&quot;</td></tr><tr><td>96.19</td><td>0</td><td>32</td><td>9969</td><td>4842</td><td>3</td><td>17</td><td>&quot;1989-07-25&quot;</td><td>&quot;Oud-Heverlee Leuven v SV Zulte…</td><td>20</td><td>20</td><td>2</td><td>77</td><td>48</td><td>5</td><td>15.07</td><td>11</td><td>1</td><td>24</td><td>154</td><td>36</td><td>1660</td><td>265</td><td>267</td><td>50.07</td><td>9</td><td>45002</td><td>1795</td><td>41</td><td>31</td><td>25</td><td>1</td><td>119</td><td>17</td><td>1</td><td>63</td><td>15</td><td>249</td><td>8</td><td>77</td><td>24</td><td>11</td><td>167</td><td>1</td><td>0</td><td>25</td><td>29.59</td><td>46</td><td>1101</td><td>612</td><td>275</td><td>0</td><td>4</td><td>178</td><td>&quot;Oud-Heverlee Leuven&quot;</td><td>14</td><td>&quot;2021/2022&quot;</td><td>&quot;Midfield&quot;</td><td>1739</td><td>&quot;Xavier Mercier&quot;</td><td>1775</td><td>20</td><td>202</td><td>184</td><td>11</td><td>402</td><td>true</td><td>11</td><td>1</td><td>14.52</td><td>1</td><td>&quot;X. Mercier&quot;</td><td>&quot;Oud-Heverlee Leuven&quot;</td><td>3</td><td>10</td><td>39</td><td>13.2</td><td>610</td><td>0</td><td>10932</td><td>489</td><td>17</td><td>5</td><td>28.3</td><td>2</td><td>81</td><td>2</td><td>1</td><td>1</td><td>14</td><td>25.52</td><td>&quot;AM&quot;</td><td>201</td><td>5127</td><td>46.12</td><td>5</td><td>12.32</td><td>7</td><td>1</td><td>&quot;2021-07-24&quot;</td><td>8</td><td>1</td><td>343</td><td>16</td><td>3</td><td>476</td><td>19</td><td>9</td><td>8</td><td>3534</td><td>1</td><td>3435</td><td>3</td><td>224</td><td>136</td><td>104</td><td>27</td><td>&quot;BEL - Pro League - 2021/2022&quot;</td><td>8</td><td>2021</td><td>2022</td><td>&quot;2021/2022&quot;</td><td>16</td><td>&quot;BEL&quot;</td><td>&quot;Pro League&quot;</td><td>&quot;male&quot;</td><td>&quot;adult&quot;</td><td>&quot;Belgium_1&quot;</td></tr><tr><td>71.07</td><td>1</td><td>23</td><td>8709</td><td>5620</td><td>4</td><td>26</td><td>&quot;1996-01-18&quot;</td><td>&quot;Oud-Heverlee Leuven v SV Zulte…</td><td>21</td><td>18</td><td>2</td><td>82</td><td>95</td><td>7</td><td>6.57</td><td>5</td><td>3</td><td>29</td><td>10</td><td>39</td><td>2289</td><td>222</td><td>427</td><td>24.95</td><td>22</td><td>45002</td><td>1938</td><td>25</td><td>57</td><td>26</td><td>2</td><td>0</td><td>14</td><td>1</td><td>78</td><td>17</td><td>249</td><td>5</td><td>64</td><td>36</td><td>18</td><td>167</td><td>0</td><td>7</td><td>18</td><td>19.77</td><td>25</td><td>1241</td><td>527</td><td>129</td><td>1</td><td>2</td><td>253</td><td>&quot;SV Zulte-Waregem&quot;</td><td>5</td><td>&quot;2021/2022&quot;</td><td>&quot;Midfield&quot;</td><td>938</td><td>&quot;Omar Nicolás Govea García&quot;</td><td>1278</td><td>33</td><td>105</td><td>51</td><td>11</td><td>425</td><td>true</td><td>13</td><td>2</td><td>13.2</td><td>2</td><td>&quot;O. Govea&quot;</td><td>&quot;SV Zulte-Waregem&quot;</td><td>1</td><td>7</td><td>34</td><td>14.52</td><td>724</td><td>1</td><td>14625</td><td>714</td><td>6</td><td>3</td><td>26.4</td><td>2</td><td>171</td><td>1</td><td>1</td><td>1</td><td>8</td><td>22.45</td><td>&quot;AM&quot;</td><td>292</td><td>3089</td><td>46.12</td><td>1</td><td>7.93</td><td>7</td><td>1</td><td>&quot;2021-07-24&quot;</td><td>11</td><td>1</td><td>297</td><td>16</td><td>0</td><td>421</td><td>13</td><td>13</td><td>8</td><td>2876</td><td>2</td><td>3567</td><td>4</td><td>172</td><td>26</td><td>89</td><td>8</td><td>&quot;BEL - Pro League - 2021/2022&quot;</td><td>8</td><td>2021</td><td>2022</td><td>&quot;2021/2022&quot;</td><td>16</td><td>&quot;BEL&quot;</td><td>&quot;Pro League&quot;</td><td>&quot;male&quot;</td><td>&quot;adult&quot;</td><td>&quot;Belgium_1&quot;</td></tr><tr><td>74.15</td><td>1</td><td>26</td><td>8976</td><td>5410</td><td>6</td><td>44</td><td>&quot;1996-07-18&quot;</td><td>&quot;Oud-Heverlee Leuven v SV Zulte…</td><td>25</td><td>25</td><td>3</td><td>70</td><td>76</td><td>9</td><td>8.48</td><td>12</td><td>5</td><td>7</td><td>131</td><td>37</td><td>1883</td><td>337</td><td>327</td><td>28.03</td><td>13</td><td>45002</td><td>2025</td><td>27</td><td>44</td><td>21</td><td>0</td><td>88</td><td>20</td><td>0</td><td>110</td><td>17</td><td>249</td><td>12</td><td>64</td><td>27</td><td>13</td><td>224</td><td>0</td><td>20</td><td>21</td><td>23.0</td><td>26</td><td>1234</td><td>554</td><td>310</td><td>0</td><td>8</td><td>301</td><td>&quot;Oud-Heverlee Leuven&quot;</td><td>8</td><td>&quot;2021/2022&quot;</td><td>&quot;Midfield&quot;</td><td>1326</td><td>&quot;Siebe Schrijvers&quot;</td><td>1242</td><td>18</td><td>207</td><td>193</td><td>5</td><td>536</td><td>true</td><td>13</td><td>2</td><td>14.52</td><td>4</td><td>&quot;S. Schrijvers&quot;</td><td>&quot;Oud-Heverlee Leuven&quot;</td><td>0</td><td>11</td><td>50</td><td>13.2</td><td>603</td><td>3</td><td>9835</td><td>680</td><td>9</td><td>1</td><td>27.4</td><td>1</td><td>144</td><td>1</td><td>1</td><td>1</td><td>8</td><td>20.35</td><td>&quot;AM&quot;</td><td>284</td><td>3566</td><td>46.12</td><td>6</td><td>7.15</td><td>9</td><td>2</td><td>&quot;2021-07-24&quot;</td><td>15</td><td>1</td><td>276</td><td>16</td><td>4</td><td>594</td><td>25</td><td>13</td><td>8</td><td>3351</td><td>2</td><td>3125</td><td>6</td><td>235</td><td>132</td><td>114</td><td>27</td><td>&quot;BEL - Pro League - 2021/2022&quot;</td><td>8</td><td>2021</td><td>2022</td><td>&quot;2021/2022&quot;</td><td>16</td><td>&quot;BEL&quot;</td><td>&quot;Pro League&quot;</td><td>&quot;male&quot;</td><td>&quot;adult&quot;</td><td>&quot;Belgium_1&quot;</td></tr><tr><td>110.42</td><td>1</td><td>47</td><td>11626</td><td>6257</td><td>4</td><td>36</td><td>&quot;1992-02-09&quot;</td><td>&quot;Club Brugge KV v KAS Eupen&quot;</td><td>23</td><td>17</td><td>1</td><td>85</td><td>56</td><td>6</td><td>19.18</td><td>4</td><td>3</td><td>20</td><td>4</td><td>47</td><td>2340</td><td>159</td><td>461</td><td>60.17</td><td>13</td><td>44998</td><td>2650</td><td>39</td><td>44</td><td>29</td><td>1</td><td>0</td><td>17</td><td>0</td><td>62</td><td>21</td><td>249</td><td>5</td><td>86</td><td>24</td><td>18</td><td>174</td><td>1</td><td>4</td><td>37</td><td>37.23</td><td>41</td><td>1405</td><td>462</td><td>81</td><td>1</td><td>2</td><td>468</td><td>&quot;KAS Eupen&quot;</td><td>19</td><td>&quot;2021/2022&quot;</td><td>&quot;Midfield&quot;</td><td>2252</td><td>&quot;Stef Peeters&quot;</td><td>1397</td><td>23</td><td>60</td><td>19</td><td>10</td><td>788</td><td>true</td><td>18</td><td>2</td><td>18.05</td><td>2</td><td>&quot;S. Peeters&quot;</td><td>&quot;KAS Eupen&quot;</td><td>2</td><td>9</td><td>35</td><td>15.68</td><td>603</td><td>1</td><td>11595</td><td>943</td><td>26</td><td>2</td><td>25.5</td><td>0</td><td>140</td><td>1</td><td>1</td><td>0</td><td>11</td><td>28.66</td><td>&quot;AM&quot;</td><td>253</td><td>5369</td><td>50.25</td><td>1</td><td>12.98</td><td>8</td><td>1</td><td>&quot;2021-07-25&quot;</td><td>8</td><td>0</td><td>142</td><td>16</td><td>0</td><td>334</td><td>12</td><td>13</td><td>8</td><td>4902</td><td>2</td><td>3737</td><td>2</td><td>320</td><td>36</td><td>112</td><td>26</td><td>&quot;BEL - Pro League - 2021/2022&quot;</td><td>8</td><td>2021</td><td>2022</td><td>&quot;2021/2022&quot;</td><td>16</td><td>&quot;BEL&quot;</td><td>&quot;Pro League&quot;</td><td>&quot;male&quot;</td><td>&quot;adult&quot;</td><td>&quot;Belgium_1&quot;</td></tr></tbody></table></div>"
      ],
      "text/plain": [
       "shape: (5, 128)\n",
       "┌─────┬─────┬─────┬─────┬─────┬─────┬─────┬─────┬─────┬─────┬─────┬─────┬─────┬─────┬─────┬─────┬─────┬─────┬─────┬─────┬─────┬─────┬─────┬─────┬─────┬─────┬─────┬─────┬─────┬─────┬─────┬─────┬─────┬─────┬─────┬─────┬─────┬─────┬─────┬─────┬─────┬─────┬─────┬─────┬─────┬─────┬─────┬─────┬─────┬─────┬─────┬─────┬─────┬─────┬─────┬─────┬─────┬─────┬─────┬─────┬─────┬─────┬─────┬─────┬─────┬─────┬─────┬─────┬─────┬─────┬─────┬─────┬─────┬─────┬─────┬─────┬─────┬─────┬─────┬─────┬─────┬─────┬─────┬─────┬─────┬─────┬─────┬─────┬─────┬─────┬─────┬─────┬─────┬─────┬─────┬─────┬─────┬─────┬─────┬─────┬─────┬─────┬─────┬─────┬─────┬─────┬─────┬─────┬─────┬─────┬─────┬─────┬─────┬─────┬─────┬─────┬─────┬─────┬─────┬─────┬─────┬─────┬─────┬─────┬─────┬─────┬─────┬─────┐\n",
       "│ Min ┆ Cou ┆ Cou ┆ Dis ┆ Dis ┆ Cou ┆ Spr ┆ pla ┆ mat ┆ Cou ┆ Cou ┆ Cou ┆ Cou ┆ Spr ┆ Cou ┆ Min ┆ Cou ┆ Cou ┆ Spr ┆ Spr ┆ Cou ┆ Dis ┆ HSR ┆ Run ┆ Min ┆ Cou ┆ mat ┆ Dis ┆ Cou ┆ Cou ┆ Cou ┆ Cou ┆ Spr ┆ Cou ┆ Cou ┆ HSR ┆ Cou ┆ com ┆ Cou ┆ Cou ┆ Spr ┆ Cou ┆ HSR ┆ Cou ┆ Spr ┆ Cou ┆ Min ┆ Cou ┆ Run ┆ Run ┆ HSR ┆ Cou ┆ Cou ┆ Run ┆ tea ┆ Cou ┆ sea ┆ gro ┆ Dis ┆ pla ┆ Dis ┆ Cou ┆ Spr ┆ HSR ┆ Cou ┆ Run ┆ qua ┆ Cou ┆ Cou ┆ Min ┆ Cou ┆ sho ┆ tea ┆ Cou ┆ Cou ┆ Cou ┆ Min ┆ Run ┆ Cou ┆ pla ┆ Run ┆ Cou ┆ Cou ┆ PSV ┆ Cou ┆ HSR ┆ Cou ┆ Cou ┆ Cou ┆ Cou ┆ Min ┆ pos ┆ HSR ┆ Dis ┆ Min ┆ Cou ┆ Min ┆ Cou ┆ Cou ┆ dat ┆ Cou ┆ Cou ┆ Run ┆ com ┆ Cou ┆ HSR ┆ Cou ┆ Cou ┆ sea ┆ Dis ┆ Cou ┆ Dis ┆ Cou ┆ Run ┆ Spr ┆ HSR ┆ tea ┆ nam ┆ sea ┆ sea ┆ sea ┆ sea ┆ com ┆ com ┆ com ┆ com ┆ com ┆ com │\n",
       "│ ute ┆ nt  ┆ nt  ┆ tan ┆ tan ┆ nt  ┆ int ┆ yer ┆ ch_ ┆ nt  ┆ nt  ┆ nt  ┆ nt  ┆ int ┆ nt  ┆ ute ┆ nt  ┆ nt  ┆ int ┆ int ┆ nt  ┆ tan ┆ Dis ┆ nin ┆ ute ┆ nt  ┆ ch_ ┆ tan ┆ nt  ┆ nt  ┆ nt  ┆ nt  ┆ int ┆ nt  ┆ nt  ┆ Dis ┆ nt  ┆ pet ┆ nt  ┆ nt  ┆ int ┆ nt  ┆ Dis ┆ nt  ┆ int ┆ nt  ┆ ute ┆ nt  ┆ nin ┆ nin ┆ Dis ┆ nt  ┆ nt  ┆ nin ┆ m_n ┆ nt  ┆ son ┆ up  ┆ tan ┆ yer ┆ tan ┆ nt  ┆ int ┆ Dis ┆ nt  ┆ nin ┆ lit ┆ nt  ┆ nt  ┆ ute ┆ nt  ┆ rt_ ┆ m   ┆ nt  ┆ nt  ┆ nt  ┆ ute ┆ nin ┆ nt  ┆ yer ┆ nin ┆ nt  ┆ nt  ┆ -99 ┆ nt  ┆ Dis ┆ nt  ┆ nt  ┆ nt  ┆ nt  ┆ ute ┆ iti ┆ Dis ┆ tan ┆ ute ┆ nt  ┆ ute ┆ nt  ┆ nt  ┆ e   ┆ nt  ┆ nt  ┆ nin ┆ pet ┆ nt  ┆ Dis ┆ nt  ┆ nt  ┆ son ┆ tan ┆ nt  ┆ tan ┆ nt  ┆ nin ┆ int ┆ Dis ┆ m_i ┆ e   ┆ son ┆ son ┆ son ┆ son ┆ pet ┆ pet ┆ pet ┆ pet ┆ pet ┆ pet │\n",
       "│ s   ┆ Spr ┆ Med ┆ ce  ┆ ce  ┆ Spr ┆ ing ┆ _bi ┆ nam ┆ HSR ┆ HSR ┆ Hig ┆ Med ┆ ing ┆ Hig ┆ s   ┆ HSR ┆ Hig ┆ ing ┆ ing ┆ Med ┆ ce  ┆ tan ┆ g   ┆ s 2 ┆ Med ┆ id  ┆ ce  ┆ Med ┆ Med ┆ Med ┆ Hig ┆ ing ┆ HSR ┆ Hig ┆ tan ┆ Med ┆ iti ┆ Spr ┆ Med ┆ ing ┆ Med ┆ tan ┆ Hig ┆ ing ┆ Med ┆ s   ┆ Med ┆ g   ┆ g   ┆ tan ┆ Hig ┆ Spr ┆ g   ┆ ame ┆ Med ┆ _na ┆ --- ┆ ce  ┆ _na ┆ ce  ┆ Med ┆ ing ┆ tan ┆ Med ┆ g   ┆ y_c ┆ Med ┆ Spr ┆ s   ┆ Spr ┆ nam ┆ --- ┆ Hig ┆ HSR ┆ HSR ┆ s   ┆ g   ┆ Hig ┆ _id ┆ g   ┆ Med ┆ Hig ┆ --- ┆ Hig ┆ tan ┆ Hig ┆ Spr ┆ Hig ┆ Med ┆ s   ┆ on  ┆ tan ┆ ce  ┆ s 1 ┆ Spr ┆ s   ┆ HSR ┆ Hig ┆ --- ┆ Hig ┆ Hig ┆ g   ┆ iti ┆ Spr ┆ tan ┆ HSR ┆ HSR ┆ _id ┆ ce  ┆ Hig ┆ ce  ┆ Hig ┆ g   ┆ ing ┆ tan ┆ d   ┆ --- ┆ _id ┆ _st ┆ _en ┆ _na ┆ iti ┆ iti ┆ iti ┆ iti ┆ iti ┆ iti │\n",
       "│ --- ┆ int ┆ ium ┆ --- ┆ 1   ┆ int ┆ Dis ┆ rth ┆ e   ┆ 1   ┆ TIP ┆ h   ┆ ium ┆ Dis ┆ h   ┆ OTI ┆ TIP ┆ h   ┆ Dis ┆ Dis ┆ ium ┆ TIP ┆ ce  ┆ Dis ┆ --- ┆ ium ┆ --- ┆ OTI ┆ ium ┆ ium ┆ ium ┆ h   ┆ Dis ┆ OTI ┆ h   ┆ ce  ┆ ium ┆ on_ ┆ int ┆ ium ┆ Dis ┆ ium ┆ ce  ┆ h   ┆ Dis ┆ ium ┆ OTI ┆ ium ┆ Dis ┆ Dis ┆ ce  ┆ h   ┆ int ┆ Dis ┆ --- ┆ ium ┆ me  ┆ str ┆ OTI ┆ me  ┆ TIP ┆ ium ┆ Dis ┆ ce  ┆ ium ┆ Dis ┆ hec ┆ ium ┆ int ┆ OTI ┆ int ┆ e   ┆ str ┆ h   ┆ OTI ┆ --- ┆ TIP ┆ Dis ┆ h   ┆ --- ┆ Dis ┆ ium ┆ h   ┆ f64 ┆ h   ┆ ce  ┆ h   ┆ int ┆ h   ┆ ium ┆ TIP ┆ --- ┆ ce  ┆ 2   ┆ --- ┆ int ┆ TIP ┆ OTI ┆ h   ┆ str ┆ h   ┆ h   ┆ Dis ┆ on_ ┆ int ┆ ce  ┆ 2   ┆ TIP ┆ --- ┆ OTI ┆ h   ┆ TIP ┆ h   ┆ Dis ┆ Dis ┆ ce  ┆ --- ┆ str ┆ _ri ┆ art ┆ d_y ┆ me_ ┆ on_ ┆ on_ ┆ on_ ┆ on_ ┆ on_ ┆ on_ │\n",
       "│ f64 ┆ OTI ┆ Acc ┆ i64 ┆ --- ┆ 1   ┆ tan ┆ dat ┆ --- ┆ --- ┆ --- ┆ Dec ┆ Dec ┆ tan ┆ Dec ┆ P 2 ┆ 2   ┆ Dec ┆ tan ┆ tan ┆ Acc ┆ 1   ┆ TIP ┆ tan ┆ f64 ┆ Dec ┆ i64 ┆ P 1 ┆ Acc ┆ Dec ┆ Acc ┆ Acc ┆ tan ┆ P   ┆ Acc ┆ OTI ┆ Acc ┆ edi ┆ --- ┆ Acc ┆ tan ┆ Acc ┆ OTI ┆ Acc ┆ tan ┆ Dec ┆ P   ┆ Dec ┆ tan ┆ tan ┆ 2   ┆ Acc ┆ TIP ┆ tan ┆ str ┆ Dec ┆ --- ┆     ┆ P 2 ┆ --- ┆ 2   ┆ Dec ┆ tan ┆ TIP ┆ Dec ┆ tan ┆ k   ┆ Dec ┆ OTI ┆ P 1 ┆ TIP ┆ --- ┆     ┆ Acc ┆ P 1 ┆ i64 ┆ 1   ┆ tan ┆ Dec ┆ i64 ┆ tan ┆ Acc ┆ Acc ┆     ┆ Acc ┆ TIP ┆ Acc ┆ OTI ┆ Acc ┆ Acc ┆ --- ┆ str ┆ 1   ┆ --- ┆ f64 ┆ 2   ┆ 2   ┆ P 2 ┆ Dec ┆     ┆ Dec ┆ Dec ┆ tan ┆ id  ┆ TIP ┆ --- ┆ --- ┆ 1   ┆ i64 ┆ P   ┆ Dec ┆ --- ┆ Dec ┆ tan ┆ tan ┆ OTI ┆ i64 ┆     ┆ ght ┆ _ye ┆ ear ┆ rig ┆ id_ ┆ are ┆ nam ┆ gen ┆ age ┆ reg │\n",
       "│     ┆ P 2 ┆ ele ┆     ┆ i64 ┆ --- ┆ ce  ┆ e   ┆ str ┆ i64 ┆ i64 ┆ ele ┆ ele ┆ ce  ┆ ele ┆ --- ┆ --- ┆ ele ┆ ce  ┆ ce  ┆ ele ┆ --- ┆ --- ┆ ce  ┆     ┆ ele ┆     ┆ --- ┆ ele ┆ ele ┆ ele ┆ ele ┆ ce  ┆ --- ┆ ele ┆ P 2 ┆ ele ┆ tio ┆ i64 ┆ ele ┆ ce  ┆ ele ┆ P   ┆ ele ┆ ce  ┆ ele ┆ --- ┆ ele ┆ ce  ┆ ce  ┆ --- ┆ ele ┆ --- ┆ ce  ┆     ┆ ele ┆ str ┆     ┆ --- ┆ str ┆ --- ┆ ele ┆ ce  ┆ 2   ┆ ele ┆ ce  ┆ --- ┆ ele ┆ P   ┆ --- ┆ 1   ┆ str ┆     ┆ ele ┆ --- ┆     ┆ --- ┆ ce  ┆ ele ┆     ┆ ce  ┆ ele ┆ ele ┆     ┆ ele ┆ 1   ┆ ele ┆ P 1 ┆ ele ┆ ele ┆ f64 ┆     ┆ --- ┆ i64 ┆     ┆ --- ┆ --- ┆ --- ┆ ele ┆     ┆ ele ┆ ele ┆ ce  ┆ --- ┆ 2   ┆ i64 ┆ i64 ┆ --- ┆     ┆ --- ┆ ele ┆ i64 ┆ ele ┆ ce  ┆ ce  ┆ P 1 ┆     ┆     ┆ --- ┆ ar  ┆ --- ┆ ht  ┆ rig ┆ a   ┆ e   ┆ der ┆ _gr ┆ ion │\n",
       "│     ┆ --- ┆ rat ┆     ┆     ┆ i64 ┆ TIP ┆ --- ┆     ┆     ┆     ┆ rat ┆ rat ┆ 1   ┆ rat ┆ f64 ┆ i64 ┆ rat ┆ OTI ┆ 2   ┆ rat ┆ i64 ┆ i64 ┆ TIP ┆     ┆ rat ┆     ┆ i64 ┆ rat ┆ rat ┆ rat ┆ rat ┆ TIP ┆ i64 ┆ rat ┆ --- ┆ rat ┆ n_i ┆     ┆ rat ┆ OTI ┆ rat ┆ --- ┆ rat ┆ OTI ┆ rat ┆ f64 ┆ rat ┆ --- ┆ 2   ┆ i64 ┆ rat ┆ i64 ┆ OTI ┆     ┆ rat ┆     ┆     ┆ i64 ┆     ┆ i64 ┆ rat ┆ --- ┆ --- ┆ rat ┆ OTI ┆ boo ┆ rat ┆ --- ┆ f64 ┆ --- ┆     ┆     ┆ rat ┆ i64 ┆     ┆ f64 ┆ TIP ┆ rat ┆     ┆ 1   ┆ rat ┆ rat ┆     ┆ rat ┆ --- ┆ rat ┆ --- ┆ rat ┆ rat ┆     ┆     ┆ i64 ┆     ┆     ┆ i64 ┆ f64 ┆ i64 ┆ rat ┆     ┆ rat ┆ rat ┆ TIP ┆ i64 ┆ --- ┆     ┆     ┆ i64 ┆     ┆ i64 ┆ rat ┆     ┆ rat ┆ OTI ┆ TIP ┆ --- ┆     ┆     ┆ i64 ┆ --- ┆ i64 ┆ --- ┆ ht  ┆ --- ┆ --- ┆ --- ┆ oup ┆ _di │\n",
       "│     ┆ i64 ┆ ion ┆     ┆     ┆     ┆ 1   ┆ str ┆     ┆     ┆     ┆ ion ┆ ion ┆ --- ┆ ion ┆     ┆     ┆ ion ┆ P 1 ┆ --- ┆ ion ┆     ┆     ┆ 1   ┆     ┆ ion ┆     ┆     ┆ ion ┆ ion ┆ ion ┆ ion ┆ 2   ┆     ┆ ion ┆ i64 ┆ ion ┆ d   ┆     ┆ ion ┆ P   ┆ ion ┆ i64 ┆ ion ┆ P 2 ┆ ion ┆     ┆ ion ┆ i64 ┆ --- ┆     ┆ ion ┆     ┆ P 1 ┆     ┆ ion ┆     ┆     ┆     ┆     ┆     ┆ ion ┆ i64 ┆ i64 ┆ ion ┆ P   ┆ l   ┆ ion ┆ i64 ┆     ┆ i64 ┆     ┆     ┆ ion ┆     ┆     ┆     ┆ --- ┆ ion ┆     ┆ --- ┆ ion ┆ ion ┆     ┆ ion ┆ i64 ┆ ion ┆ i64 ┆ ion ┆ ion ┆     ┆     ┆     ┆     ┆     ┆     ┆     ┆     ┆ ion ┆     ┆ ion ┆ ion ┆ 2   ┆     ┆ i64 ┆     ┆     ┆     ┆     ┆     ┆ ion ┆     ┆ ion ┆ P 2 ┆ --- ┆ i64 ┆     ┆     ┆     ┆ i64 ┆     ┆ str ┆ --- ┆ str ┆ str ┆ str ┆ --- ┆ vis │\n",
       "│     ┆     ┆ OTI ┆     ┆     ┆     ┆ --- ┆     ┆     ┆     ┆     ┆ TIP ┆ --- ┆ i64 ┆ 1   ┆     ┆     ┆ OTI ┆ --- ┆ i64 ┆ 1   ┆     ┆     ┆ --- ┆     ┆ TIP ┆     ┆     ┆ 2   ┆ 1   ┆ TIP ┆ OTI ┆ --- ┆     ┆ OTI ┆     ┆ OTI ┆ --- ┆     ┆ --- ┆ --- ┆ TIP ┆     ┆ TIP ┆ --- ┆ OTI ┆     ┆ 2   ┆     ┆ i64 ┆     ┆ OTI ┆     ┆ --- ┆     ┆ OTI ┆     ┆     ┆     ┆     ┆     ┆ TIP ┆     ┆     ┆ TIP ┆ --- ┆     ┆ OTI ┆     ┆     ┆     ┆     ┆     ┆ 1   ┆     ┆     ┆     ┆ i64 ┆ OTI ┆     ┆ i64 ┆ OTI ┆ --- ┆     ┆ 2   ┆     ┆ TIP ┆     ┆ TIP ┆ TIP ┆     ┆     ┆     ┆     ┆     ┆     ┆     ┆     ┆ TIP ┆     ┆ --- ┆ TIP ┆ --- ┆     ┆     ┆     ┆     ┆     ┆     ┆     ┆ OTI ┆     ┆ 2   ┆ --- ┆ i64 ┆     ┆     ┆     ┆     ┆     ┆     ┆     ┆ i64 ┆     ┆     ┆     ┆ str ┆ ion │\n",
       "│     ┆     ┆ P   ┆     ┆     ┆     ┆ i64 ┆     ┆     ┆     ┆     ┆ --- ┆ i64 ┆     ┆ --- ┆     ┆     ┆ P   ┆ i64 ┆     ┆ --- ┆     ┆     ┆ i64 ┆     ┆ …   ┆     ┆     ┆ --- ┆ --- ┆ --- ┆ P   ┆ i64 ┆     ┆ P 2 ┆     ┆ P…  ┆ i64 ┆     ┆ i64 ┆ i64 ┆ …   ┆     ┆ 1   ┆ i64 ┆ P   ┆     ┆ --- ┆     ┆     ┆     ┆ P 1 ┆     ┆ i64 ┆     ┆ P…  ┆     ┆     ┆     ┆     ┆     ┆ --- ┆     ┆     ┆ …   ┆ i64 ┆     ┆ P…  ┆     ┆     ┆     ┆     ┆     ┆ --- ┆     ┆     ┆     ┆     ┆ P 2 ┆     ┆     ┆ P…  ┆ i64 ┆     ┆ --- ┆     ┆ --- ┆     ┆ 2   ┆ …   ┆     ┆     ┆     ┆     ┆     ┆     ┆     ┆     ┆ 1   ┆     ┆ i64 ┆ 2   ┆ i64 ┆     ┆     ┆     ┆     ┆     ┆     ┆     ┆ P 1 ┆     ┆ --- ┆ i64 ┆     ┆     ┆     ┆     ┆     ┆     ┆     ┆     ┆     ┆     ┆     ┆     ┆     ┆ --- │\n",
       "│     ┆     ┆ --- ┆     ┆     ┆     ┆     ┆     ┆     ┆     ┆     ┆ i64 ┆     ┆     ┆ i64 ┆     ┆     ┆ --- ┆     ┆     ┆ i64 ┆     ┆     ┆     ┆     ┆ --- ┆     ┆     ┆ i64 ┆ i64 ┆ i64 ┆ --- ┆     ┆     ┆ --- ┆     ┆ --- ┆     ┆     ┆     ┆     ┆ --- ┆     ┆ --- ┆     ┆ --- ┆     ┆ i64 ┆     ┆     ┆     ┆ --- ┆     ┆     ┆     ┆ --- ┆     ┆     ┆     ┆     ┆     ┆ i64 ┆     ┆     ┆ --- ┆     ┆     ┆ --- ┆     ┆     ┆     ┆     ┆     ┆ i64 ┆     ┆     ┆     ┆     ┆ --- ┆     ┆     ┆ --- ┆     ┆     ┆ i64 ┆     ┆ i64 ┆     ┆ --- ┆ --- ┆     ┆     ┆     ┆     ┆     ┆     ┆     ┆     ┆ --- ┆     ┆     ┆ --- ┆     ┆     ┆     ┆     ┆     ┆     ┆     ┆     ┆ --- ┆     ┆ i64 ┆     ┆     ┆     ┆     ┆     ┆     ┆     ┆     ┆     ┆     ┆     ┆     ┆     ┆     ┆ str │\n",
       "│     ┆     ┆ i64 ┆     ┆     ┆     ┆     ┆     ┆     ┆     ┆     ┆     ┆     ┆     ┆     ┆     ┆     ┆ i64 ┆     ┆     ┆     ┆     ┆     ┆     ┆     ┆ i64 ┆     ┆     ┆     ┆     ┆     ┆ i64 ┆     ┆     ┆ i64 ┆     ┆ i64 ┆     ┆     ┆     ┆     ┆ i64 ┆     ┆ i64 ┆     ┆ i64 ┆     ┆     ┆     ┆     ┆     ┆ i64 ┆     ┆     ┆     ┆ i64 ┆     ┆     ┆     ┆     ┆     ┆     ┆     ┆     ┆ i64 ┆     ┆     ┆ i64 ┆     ┆     ┆     ┆     ┆     ┆     ┆     ┆     ┆     ┆     ┆ i64 ┆     ┆     ┆ i64 ┆     ┆     ┆     ┆     ┆     ┆     ┆ i64 ┆ i64 ┆     ┆     ┆     ┆     ┆     ┆     ┆     ┆     ┆ i64 ┆     ┆     ┆ i64 ┆     ┆     ┆     ┆     ┆     ┆     ┆     ┆     ┆ i64 ┆     ┆     ┆     ┆     ┆     ┆     ┆     ┆     ┆     ┆     ┆     ┆     ┆     ┆     ┆     ┆     ┆     │\n",
       "╞═════╪═════╪═════╪═════╪═════╪═════╪═════╪═════╪═════╪═════╪═════╪═════╪═════╪═════╪═════╪═════╪═════╪═════╪═════╪═════╪═════╪═════╪═════╪═════╪═════╪═════╪═════╪═════╪═════╪═════╪═════╪═════╪═════╪═════╪═════╪═════╪═════╪═════╪═════╪═════╪═════╪═════╪═════╪═════╪═════╪═════╪═════╪═════╪═════╪═════╪═════╪═════╪═════╪═════╪═════╪═════╪═════╪═════╪═════╪═════╪═════╪═════╪═════╪═════╪═════╪═════╪═════╪═════╪═════╪═════╪═════╪═════╪═════╪═════╪═════╪═════╪═════╪═════╪═════╪═════╪═════╪═════╪═════╪═════╪═════╪═════╪═════╪═════╪═════╪═════╪═════╪═════╪═════╪═════╪═════╪═════╪═════╪═════╪═════╪═════╪═════╪═════╪═════╪═════╪═════╪═════╪═════╪═════╪═════╪═════╪═════╪═════╪═════╪═════╪═════╪═════╪═════╪═════╪═════╪═════╪═════╪═════╪═════╪═════╪═════╪═════╪═════╪═════╡\n",
       "│ 96. ┆ 1   ┆ 47  ┆ 130 ┆ 681 ┆ 3   ┆ 11  ┆ 199 ┆ KV  ┆ 33  ┆ 19  ┆ 3   ┆ 89  ┆ 92  ┆ 8   ┆ 17. ┆ 6   ┆ 4   ┆ 27  ┆ 56  ┆ 52  ┆ 187 ┆ 260 ┆ 369 ┆ 49. ┆ 8   ┆ 449 ┆ 298 ┆ 48  ┆ 42  ┆ 22  ┆ 0   ┆ 19  ┆ 34  ┆ 0   ┆ 218 ┆ 24  ┆ 249 ┆ 5   ┆ 100 ┆ 45  ┆ 12  ┆ 443 ┆ 0   ┆ 18  ┆ 34  ┆ 35. ┆ 47  ┆ 241 ┆ 106 ┆ 358 ┆ 0   ┆ 2   ┆ 842 ┆ Roy ┆ 17  ┆ 202 ┆ Mid ┆ 274 ┆ Pie ┆ 155 ┆ 17  ┆ 148 ┆ 121 ┆ 9   ┆ 150 ┆ tru ┆ 17  ┆ 2   ┆ 18. ┆ 1   ┆ P.  ┆ Roy ┆ 3   ┆ 17  ┆ 59  ┆ 13. ┆ 661 ┆ 1   ┆ 870 ┆ 135 ┆ 23  ┆ 4   ┆ 25. ┆ 1   ┆ 139 ┆ 0   ┆ 1   ┆ 0   ┆ 10  ┆ 24. ┆ AM  ┆ 387 ┆ 621 ┆ 47. ┆ 2   ┆ 11. ┆ 17  ┆ 2   ┆ 202 ┆ 11  ┆ 1   ┆ 292 ┆ 16  ┆ 1   ┆ 745 ┆ 26  ┆ 13  ┆ 8   ┆ 572 ┆ 3   ┆ 343 ┆ 3   ┆ 662 ┆ 30  ┆ 225 ┆ 462 ┆ BEL ┆ 8   ┆ 202 ┆ 202 ┆ 202 ┆ 16  ┆ BEL ┆ Pro ┆ mal ┆ adu ┆ Bel │\n",
       "│ 63  ┆     ┆     ┆ 26  ┆ 0   ┆     ┆     ┆ 5-0 ┆ Mec ┆     ┆     ┆     ┆     ┆     ┆     ┆ 3   ┆     ┆     ┆     ┆     ┆     ┆ 4   ┆     ┆     ┆ 48  ┆     ┆ 99  ┆ 3   ┆     ┆     ┆     ┆     ┆     ┆     ┆     ┆     ┆     ┆     ┆     ┆     ┆     ┆     ┆     ┆     ┆     ┆     ┆ 57  ┆     ┆ 5   ┆ 1   ┆     ┆     ┆     ┆     ┆ al  ┆     ┆ 1/2 ┆ fie ┆ 4   ┆ ter ┆ 8   ┆     ┆     ┆     ┆     ┆ 4   ┆ e   ┆     ┆     ┆ 27  ┆     ┆ Ger ┆ al  ┆     ┆     ┆     ┆ 13  ┆     ┆     ┆ 1   ┆ 4   ┆     ┆     ┆ 7   ┆     ┆     ┆     ┆     ┆     ┆     ┆ 21  ┆     ┆     ┆ 6   ┆ 15  ┆     ┆ 08  ┆     ┆     ┆ 1-0 ┆     ┆     ┆     ┆     ┆     ┆     ┆     ┆     ┆     ┆ 7   ┆     ┆ 2   ┆     ┆     ┆     ┆     ┆     ┆ -   ┆     ┆ 1   ┆ 2   ┆ 1/2 ┆     ┆     ┆ Lea ┆ e   ┆ lt  ┆ giu │\n",
       "│     ┆     ┆     ┆     ┆     ┆     ┆     ┆ 2-1 ┆ hel ┆     ┆     ┆     ┆     ┆     ┆     ┆     ┆     ┆     ┆     ┆     ┆     ┆     ┆     ┆     ┆     ┆     ┆     ┆     ┆     ┆     ┆     ┆     ┆     ┆     ┆     ┆     ┆     ┆     ┆     ┆     ┆     ┆     ┆     ┆     ┆     ┆     ┆     ┆     ┆     ┆     ┆     ┆     ┆     ┆     ┆ Ant ┆     ┆ 022 ┆ ld  ┆     ┆ Ger ┆     ┆     ┆     ┆     ┆     ┆     ┆     ┆     ┆     ┆     ┆     ┆ ken ┆ Ant ┆     ┆     ┆     ┆     ┆     ┆     ┆     ┆     ┆     ┆     ┆     ┆     ┆     ┆     ┆     ┆     ┆     ┆     ┆     ┆     ┆     ┆     ┆     ┆     ┆     ┆     ┆ 7-2 ┆     ┆     ┆     ┆     ┆     ┆     ┆     ┆     ┆     ┆     ┆     ┆     ┆     ┆     ┆     ┆     ┆     ┆ Pro ┆     ┆     ┆     ┆ 022 ┆     ┆     ┆ gue ┆     ┆     ┆ m_1 │\n",
       "│     ┆     ┆     ┆     ┆     ┆     ┆     ┆ 7   ┆ en  ┆     ┆     ┆     ┆     ┆     ┆     ┆     ┆     ┆     ┆     ┆     ┆     ┆     ┆     ┆     ┆     ┆     ┆     ┆     ┆     ┆     ┆     ┆     ┆     ┆     ┆     ┆     ┆     ┆     ┆     ┆     ┆     ┆     ┆     ┆     ┆     ┆     ┆     ┆     ┆     ┆     ┆     ┆     ┆     ┆     ┆ wer ┆     ┆     ┆     ┆     ┆ ken ┆     ┆     ┆     ┆     ┆     ┆     ┆     ┆     ┆     ┆     ┆     ┆ s   ┆ wer ┆     ┆     ┆     ┆     ┆     ┆     ┆     ┆     ┆     ┆     ┆     ┆     ┆     ┆     ┆     ┆     ┆     ┆     ┆     ┆     ┆     ┆     ┆     ┆     ┆     ┆     ┆ 5   ┆     ┆     ┆     ┆     ┆     ┆     ┆     ┆     ┆     ┆     ┆     ┆     ┆     ┆     ┆     ┆     ┆     ┆ Lea ┆     ┆     ┆     ┆     ┆     ┆     ┆     ┆     ┆     ┆     │\n",
       "│     ┆     ┆     ┆     ┆     ┆     ┆     ┆     ┆ v   ┆     ┆     ┆     ┆     ┆     ┆     ┆     ┆     ┆     ┆     ┆     ┆     ┆     ┆     ┆     ┆     ┆     ┆     ┆     ┆     ┆     ┆     ┆     ┆     ┆     ┆     ┆     ┆     ┆     ┆     ┆     ┆     ┆     ┆     ┆     ┆     ┆     ┆     ┆     ┆     ┆     ┆     ┆     ┆     ┆     ┆ p   ┆     ┆     ┆     ┆     ┆ s   ┆     ┆     ┆     ┆     ┆     ┆     ┆     ┆     ┆     ┆     ┆     ┆     ┆ p   ┆     ┆     ┆     ┆     ┆     ┆     ┆     ┆     ┆     ┆     ┆     ┆     ┆     ┆     ┆     ┆     ┆     ┆     ┆     ┆     ┆     ┆     ┆     ┆     ┆     ┆     ┆     ┆     ┆     ┆     ┆     ┆     ┆     ┆     ┆     ┆     ┆     ┆     ┆     ┆     ┆     ┆     ┆     ┆     ┆ gue ┆     ┆     ┆     ┆     ┆     ┆     ┆     ┆     ┆     ┆     │\n",
       "│     ┆     ┆     ┆     ┆     ┆     ┆     ┆     ┆ Roy ┆     ┆     ┆     ┆     ┆     ┆     ┆     ┆     ┆     ┆     ┆     ┆     ┆     ┆     ┆     ┆     ┆     ┆     ┆     ┆     ┆     ┆     ┆     ┆     ┆     ┆     ┆     ┆     ┆     ┆     ┆     ┆     ┆     ┆     ┆     ┆     ┆     ┆     ┆     ┆     ┆     ┆     ┆     ┆     ┆     ┆ FC  ┆     ┆     ┆     ┆     ┆     ┆     ┆     ┆     ┆     ┆     ┆     ┆     ┆     ┆     ┆     ┆     ┆     ┆ FC  ┆     ┆     ┆     ┆     ┆     ┆     ┆     ┆     ┆     ┆     ┆     ┆     ┆     ┆     ┆     ┆     ┆     ┆     ┆     ┆     ┆     ┆     ┆     ┆     ┆     ┆     ┆     ┆     ┆     ┆     ┆     ┆     ┆     ┆     ┆     ┆     ┆     ┆     ┆     ┆     ┆     ┆     ┆     ┆     ┆ -   ┆     ┆     ┆     ┆     ┆     ┆     ┆     ┆     ┆     ┆     │\n",
       "│     ┆     ┆     ┆     ┆     ┆     ┆     ┆     ┆ al  ┆     ┆     ┆     ┆     ┆     ┆     ┆     ┆     ┆     ┆     ┆     ┆     ┆     ┆     ┆     ┆     ┆     ┆     ┆     ┆     ┆     ┆     ┆     ┆     ┆     ┆     ┆     ┆     ┆     ┆     ┆     ┆     ┆     ┆     ┆     ┆     ┆     ┆     ┆     ┆     ┆     ┆     ┆     ┆     ┆     ┆     ┆     ┆     ┆     ┆     ┆     ┆     ┆     ┆     ┆     ┆     ┆     ┆     ┆     ┆     ┆     ┆     ┆     ┆     ┆     ┆     ┆     ┆     ┆     ┆     ┆     ┆     ┆     ┆     ┆     ┆     ┆     ┆     ┆     ┆     ┆     ┆     ┆     ┆     ┆     ┆     ┆     ┆     ┆     ┆     ┆     ┆     ┆     ┆     ┆     ┆     ┆     ┆     ┆     ┆     ┆     ┆     ┆     ┆     ┆     ┆     ┆     ┆     ┆ 202 ┆     ┆     ┆     ┆     ┆     ┆     ┆     ┆     ┆     ┆     │\n",
       "│     ┆     ┆     ┆     ┆     ┆     ┆     ┆     ┆ Ant ┆     ┆     ┆     ┆     ┆     ┆     ┆     ┆     ┆     ┆     ┆     ┆     ┆     ┆     ┆     ┆     ┆     ┆     ┆     ┆     ┆     ┆     ┆     ┆     ┆     ┆     ┆     ┆     ┆     ┆     ┆     ┆     ┆     ┆     ┆     ┆     ┆     ┆     ┆     ┆     ┆     ┆     ┆     ┆     ┆     ┆     ┆     ┆     ┆     ┆     ┆     ┆     ┆     ┆     ┆     ┆     ┆     ┆     ┆     ┆     ┆     ┆     ┆     ┆     ┆     ┆     ┆     ┆     ┆     ┆     ┆     ┆     ┆     ┆     ┆     ┆     ┆     ┆     ┆     ┆     ┆     ┆     ┆     ┆     ┆     ┆     ┆     ┆     ┆     ┆     ┆     ┆     ┆     ┆     ┆     ┆     ┆     ┆     ┆     ┆     ┆     ┆     ┆     ┆     ┆     ┆     ┆     ┆     ┆ 1/2 ┆     ┆     ┆     ┆     ┆     ┆     ┆     ┆     ┆     ┆     │\n",
       "│     ┆     ┆     ┆     ┆     ┆     ┆     ┆     ┆ wer ┆     ┆     ┆     ┆     ┆     ┆     ┆     ┆     ┆     ┆     ┆     ┆     ┆     ┆     ┆     ┆     ┆     ┆     ┆     ┆     ┆     ┆     ┆     ┆     ┆     ┆     ┆     ┆     ┆     ┆     ┆     ┆     ┆     ┆     ┆     ┆     ┆     ┆     ┆     ┆     ┆     ┆     ┆     ┆     ┆     ┆     ┆     ┆     ┆     ┆     ┆     ┆     ┆     ┆     ┆     ┆     ┆     ┆     ┆     ┆     ┆     ┆     ┆     ┆     ┆     ┆     ┆     ┆     ┆     ┆     ┆     ┆     ┆     ┆     ┆     ┆     ┆     ┆     ┆     ┆     ┆     ┆     ┆     ┆     ┆     ┆     ┆     ┆     ┆     ┆     ┆     ┆     ┆     ┆     ┆     ┆     ┆     ┆     ┆     ┆     ┆     ┆     ┆     ┆     ┆     ┆     ┆     ┆     ┆ 022 ┆     ┆     ┆     ┆     ┆     ┆     ┆     ┆     ┆     ┆     │\n",
       "│     ┆     ┆     ┆     ┆     ┆     ┆     ┆     ┆ p   ┆     ┆     ┆     ┆     ┆     ┆     ┆     ┆     ┆     ┆     ┆     ┆     ┆     ┆     ┆     ┆     ┆     ┆     ┆     ┆     ┆     ┆     ┆     ┆     ┆     ┆     ┆     ┆     ┆     ┆     ┆     ┆     ┆     ┆     ┆     ┆     ┆     ┆     ┆     ┆     ┆     ┆     ┆     ┆     ┆     ┆     ┆     ┆     ┆     ┆     ┆     ┆     ┆     ┆     ┆     ┆     ┆     ┆     ┆     ┆     ┆     ┆     ┆     ┆     ┆     ┆     ┆     ┆     ┆     ┆     ┆     ┆     ┆     ┆     ┆     ┆     ┆     ┆     ┆     ┆     ┆     ┆     ┆     ┆     ┆     ┆     ┆     ┆     ┆     ┆     ┆     ┆     ┆     ┆     ┆     ┆     ┆     ┆     ┆     ┆     ┆     ┆     ┆     ┆     ┆     ┆     ┆     ┆     ┆     ┆     ┆     ┆     ┆     ┆     ┆     ┆     ┆     ┆     ┆     │\n",
       "│     ┆     ┆     ┆     ┆     ┆     ┆     ┆     ┆ FC  ┆     ┆     ┆     ┆     ┆     ┆     ┆     ┆     ┆     ┆     ┆     ┆     ┆     ┆     ┆     ┆     ┆     ┆     ┆     ┆     ┆     ┆     ┆     ┆     ┆     ┆     ┆     ┆     ┆     ┆     ┆     ┆     ┆     ┆     ┆     ┆     ┆     ┆     ┆     ┆     ┆     ┆     ┆     ┆     ┆     ┆     ┆     ┆     ┆     ┆     ┆     ┆     ┆     ┆     ┆     ┆     ┆     ┆     ┆     ┆     ┆     ┆     ┆     ┆     ┆     ┆     ┆     ┆     ┆     ┆     ┆     ┆     ┆     ┆     ┆     ┆     ┆     ┆     ┆     ┆     ┆     ┆     ┆     ┆     ┆     ┆     ┆     ┆     ┆     ┆     ┆     ┆     ┆     ┆     ┆     ┆     ┆     ┆     ┆     ┆     ┆     ┆     ┆     ┆     ┆     ┆     ┆     ┆     ┆     ┆     ┆     ┆     ┆     ┆     ┆     ┆     ┆     ┆     ┆     │\n",
       "│ 96. ┆ 0   ┆ 32  ┆ 996 ┆ 484 ┆ 3   ┆ 17  ┆ 198 ┆ Oud ┆ 20  ┆ 20  ┆ 2   ┆ 77  ┆ 48  ┆ 5   ┆ 15. ┆ 11  ┆ 1   ┆ 24  ┆ 154 ┆ 36  ┆ 166 ┆ 265 ┆ 267 ┆ 50. ┆ 9   ┆ 450 ┆ 179 ┆ 41  ┆ 31  ┆ 25  ┆ 1   ┆ 119 ┆ 17  ┆ 1   ┆ 63  ┆ 15  ┆ 249 ┆ 8   ┆ 77  ┆ 24  ┆ 11  ┆ 167 ┆ 1   ┆ 0   ┆ 25  ┆ 29. ┆ 46  ┆ 110 ┆ 612 ┆ 275 ┆ 0   ┆ 4   ┆ 178 ┆ Oud ┆ 14  ┆ 202 ┆ Mid ┆ 173 ┆ Xav ┆ 177 ┆ 20  ┆ 202 ┆ 184 ┆ 11  ┆ 402 ┆ tru ┆ 11  ┆ 1   ┆ 14. ┆ 1   ┆ X.  ┆ Oud ┆ 3   ┆ 10  ┆ 39  ┆ 13. ┆ 610 ┆ 0   ┆ 109 ┆ 489 ┆ 17  ┆ 5   ┆ 28. ┆ 2   ┆ 81  ┆ 2   ┆ 1   ┆ 1   ┆ 14  ┆ 25. ┆ AM  ┆ 201 ┆ 512 ┆ 46. ┆ 5   ┆ 12. ┆ 7   ┆ 1   ┆ 202 ┆ 8   ┆ 1   ┆ 343 ┆ 16  ┆ 3   ┆ 476 ┆ 19  ┆ 9   ┆ 8   ┆ 353 ┆ 1   ┆ 343 ┆ 3   ┆ 224 ┆ 136 ┆ 104 ┆ 27  ┆ BEL ┆ 8   ┆ 202 ┆ 202 ┆ 202 ┆ 16  ┆ BEL ┆ Pro ┆ mal ┆ adu ┆ Bel │\n",
       "│ 19  ┆     ┆     ┆ 9   ┆ 2   ┆     ┆     ┆ 9-0 ┆ -He ┆     ┆     ┆     ┆     ┆     ┆     ┆ 07  ┆     ┆     ┆     ┆     ┆     ┆ 0   ┆     ┆     ┆ 07  ┆     ┆ 02  ┆ 5   ┆     ┆     ┆     ┆     ┆     ┆     ┆     ┆     ┆     ┆     ┆     ┆     ┆     ┆     ┆     ┆     ┆     ┆     ┆ 59  ┆     ┆ 1   ┆     ┆     ┆     ┆     ┆     ┆ -He ┆     ┆ 1/2 ┆ fie ┆ 9   ┆ ier ┆ 5   ┆     ┆     ┆     ┆     ┆     ┆ e   ┆     ┆     ┆ 52  ┆     ┆ Mer ┆ -He ┆     ┆     ┆     ┆ 2   ┆     ┆     ┆ 32  ┆     ┆     ┆     ┆ 3   ┆     ┆     ┆     ┆     ┆     ┆     ┆ 52  ┆     ┆     ┆ 7   ┆ 12  ┆     ┆ 32  ┆     ┆     ┆ 1-0 ┆     ┆     ┆     ┆     ┆     ┆     ┆     ┆     ┆     ┆ 4   ┆     ┆ 5   ┆     ┆     ┆     ┆     ┆     ┆ -   ┆     ┆ 1   ┆ 2   ┆ 1/2 ┆     ┆     ┆ Lea ┆ e   ┆ lt  ┆ giu │\n",
       "│     ┆     ┆     ┆     ┆     ┆     ┆     ┆ 7-2 ┆ ver ┆     ┆     ┆     ┆     ┆     ┆     ┆     ┆     ┆     ┆     ┆     ┆     ┆     ┆     ┆     ┆     ┆     ┆     ┆     ┆     ┆     ┆     ┆     ┆     ┆     ┆     ┆     ┆     ┆     ┆     ┆     ┆     ┆     ┆     ┆     ┆     ┆     ┆     ┆     ┆     ┆     ┆     ┆     ┆     ┆     ┆ ver ┆     ┆ 022 ┆ ld  ┆     ┆ Mer ┆     ┆     ┆     ┆     ┆     ┆     ┆     ┆     ┆     ┆     ┆     ┆ cie ┆ ver ┆     ┆     ┆     ┆     ┆     ┆     ┆     ┆     ┆     ┆     ┆     ┆     ┆     ┆     ┆     ┆     ┆     ┆     ┆     ┆     ┆     ┆     ┆     ┆     ┆     ┆     ┆ 7-2 ┆     ┆     ┆     ┆     ┆     ┆     ┆     ┆     ┆     ┆     ┆     ┆     ┆     ┆     ┆     ┆     ┆     ┆ Pro ┆     ┆     ┆     ┆ 022 ┆     ┆     ┆ gue ┆     ┆     ┆ m_1 │\n",
       "│     ┆     ┆     ┆     ┆     ┆     ┆     ┆ 5   ┆ lee ┆     ┆     ┆     ┆     ┆     ┆     ┆     ┆     ┆     ┆     ┆     ┆     ┆     ┆     ┆     ┆     ┆     ┆     ┆     ┆     ┆     ┆     ┆     ┆     ┆     ┆     ┆     ┆     ┆     ┆     ┆     ┆     ┆     ┆     ┆     ┆     ┆     ┆     ┆     ┆     ┆     ┆     ┆     ┆     ┆     ┆ lee ┆     ┆     ┆     ┆     ┆ cie ┆     ┆     ┆     ┆     ┆     ┆     ┆     ┆     ┆     ┆     ┆     ┆ r   ┆ lee ┆     ┆     ┆     ┆     ┆     ┆     ┆     ┆     ┆     ┆     ┆     ┆     ┆     ┆     ┆     ┆     ┆     ┆     ┆     ┆     ┆     ┆     ┆     ┆     ┆     ┆     ┆ 4   ┆     ┆     ┆     ┆     ┆     ┆     ┆     ┆     ┆     ┆     ┆     ┆     ┆     ┆     ┆     ┆     ┆     ┆ Lea ┆     ┆     ┆     ┆     ┆     ┆     ┆     ┆     ┆     ┆     │\n",
       "│     ┆     ┆     ┆     ┆     ┆     ┆     ┆     ┆ Leu ┆     ┆     ┆     ┆     ┆     ┆     ┆     ┆     ┆     ┆     ┆     ┆     ┆     ┆     ┆     ┆     ┆     ┆     ┆     ┆     ┆     ┆     ┆     ┆     ┆     ┆     ┆     ┆     ┆     ┆     ┆     ┆     ┆     ┆     ┆     ┆     ┆     ┆     ┆     ┆     ┆     ┆     ┆     ┆     ┆     ┆ Leu ┆     ┆     ┆     ┆     ┆ r   ┆     ┆     ┆     ┆     ┆     ┆     ┆     ┆     ┆     ┆     ┆     ┆     ┆ Leu ┆     ┆     ┆     ┆     ┆     ┆     ┆     ┆     ┆     ┆     ┆     ┆     ┆     ┆     ┆     ┆     ┆     ┆     ┆     ┆     ┆     ┆     ┆     ┆     ┆     ┆     ┆     ┆     ┆     ┆     ┆     ┆     ┆     ┆     ┆     ┆     ┆     ┆     ┆     ┆     ┆     ┆     ┆     ┆     ┆ gue ┆     ┆     ┆     ┆     ┆     ┆     ┆     ┆     ┆     ┆     │\n",
       "│     ┆     ┆     ┆     ┆     ┆     ┆     ┆     ┆ ven ┆     ┆     ┆     ┆     ┆     ┆     ┆     ┆     ┆     ┆     ┆     ┆     ┆     ┆     ┆     ┆     ┆     ┆     ┆     ┆     ┆     ┆     ┆     ┆     ┆     ┆     ┆     ┆     ┆     ┆     ┆     ┆     ┆     ┆     ┆     ┆     ┆     ┆     ┆     ┆     ┆     ┆     ┆     ┆     ┆     ┆ ven ┆     ┆     ┆     ┆     ┆     ┆     ┆     ┆     ┆     ┆     ┆     ┆     ┆     ┆     ┆     ┆     ┆     ┆ ven ┆     ┆     ┆     ┆     ┆     ┆     ┆     ┆     ┆     ┆     ┆     ┆     ┆     ┆     ┆     ┆     ┆     ┆     ┆     ┆     ┆     ┆     ┆     ┆     ┆     ┆     ┆     ┆     ┆     ┆     ┆     ┆     ┆     ┆     ┆     ┆     ┆     ┆     ┆     ┆     ┆     ┆     ┆     ┆     ┆ -   ┆     ┆     ┆     ┆     ┆     ┆     ┆     ┆     ┆     ┆     │\n",
       "│     ┆     ┆     ┆     ┆     ┆     ┆     ┆     ┆ v   ┆     ┆     ┆     ┆     ┆     ┆     ┆     ┆     ┆     ┆     ┆     ┆     ┆     ┆     ┆     ┆     ┆     ┆     ┆     ┆     ┆     ┆     ┆     ┆     ┆     ┆     ┆     ┆     ┆     ┆     ┆     ┆     ┆     ┆     ┆     ┆     ┆     ┆     ┆     ┆     ┆     ┆     ┆     ┆     ┆     ┆     ┆     ┆     ┆     ┆     ┆     ┆     ┆     ┆     ┆     ┆     ┆     ┆     ┆     ┆     ┆     ┆     ┆     ┆     ┆     ┆     ┆     ┆     ┆     ┆     ┆     ┆     ┆     ┆     ┆     ┆     ┆     ┆     ┆     ┆     ┆     ┆     ┆     ┆     ┆     ┆     ┆     ┆     ┆     ┆     ┆     ┆     ┆     ┆     ┆     ┆     ┆     ┆     ┆     ┆     ┆     ┆     ┆     ┆     ┆     ┆     ┆     ┆     ┆ 202 ┆     ┆     ┆     ┆     ┆     ┆     ┆     ┆     ┆     ┆     │\n",
       "│     ┆     ┆     ┆     ┆     ┆     ┆     ┆     ┆ SV  ┆     ┆     ┆     ┆     ┆     ┆     ┆     ┆     ┆     ┆     ┆     ┆     ┆     ┆     ┆     ┆     ┆     ┆     ┆     ┆     ┆     ┆     ┆     ┆     ┆     ┆     ┆     ┆     ┆     ┆     ┆     ┆     ┆     ┆     ┆     ┆     ┆     ┆     ┆     ┆     ┆     ┆     ┆     ┆     ┆     ┆     ┆     ┆     ┆     ┆     ┆     ┆     ┆     ┆     ┆     ┆     ┆     ┆     ┆     ┆     ┆     ┆     ┆     ┆     ┆     ┆     ┆     ┆     ┆     ┆     ┆     ┆     ┆     ┆     ┆     ┆     ┆     ┆     ┆     ┆     ┆     ┆     ┆     ┆     ┆     ┆     ┆     ┆     ┆     ┆     ┆     ┆     ┆     ┆     ┆     ┆     ┆     ┆     ┆     ┆     ┆     ┆     ┆     ┆     ┆     ┆     ┆     ┆     ┆ 1/2 ┆     ┆     ┆     ┆     ┆     ┆     ┆     ┆     ┆     ┆     │\n",
       "│     ┆     ┆     ┆     ┆     ┆     ┆     ┆     ┆ Zul ┆     ┆     ┆     ┆     ┆     ┆     ┆     ┆     ┆     ┆     ┆     ┆     ┆     ┆     ┆     ┆     ┆     ┆     ┆     ┆     ┆     ┆     ┆     ┆     ┆     ┆     ┆     ┆     ┆     ┆     ┆     ┆     ┆     ┆     ┆     ┆     ┆     ┆     ┆     ┆     ┆     ┆     ┆     ┆     ┆     ┆     ┆     ┆     ┆     ┆     ┆     ┆     ┆     ┆     ┆     ┆     ┆     ┆     ┆     ┆     ┆     ┆     ┆     ┆     ┆     ┆     ┆     ┆     ┆     ┆     ┆     ┆     ┆     ┆     ┆     ┆     ┆     ┆     ┆     ┆     ┆     ┆     ┆     ┆     ┆     ┆     ┆     ┆     ┆     ┆     ┆     ┆     ┆     ┆     ┆     ┆     ┆     ┆     ┆     ┆     ┆     ┆     ┆     ┆     ┆     ┆     ┆     ┆     ┆ 022 ┆     ┆     ┆     ┆     ┆     ┆     ┆     ┆     ┆     ┆     │\n",
       "│     ┆     ┆     ┆     ┆     ┆     ┆     ┆     ┆ te… ┆     ┆     ┆     ┆     ┆     ┆     ┆     ┆     ┆     ┆     ┆     ┆     ┆     ┆     ┆     ┆     ┆     ┆     ┆     ┆     ┆     ┆     ┆     ┆     ┆     ┆     ┆     ┆     ┆     ┆     ┆     ┆     ┆     ┆     ┆     ┆     ┆     ┆     ┆     ┆     ┆     ┆     ┆     ┆     ┆     ┆     ┆     ┆     ┆     ┆     ┆     ┆     ┆     ┆     ┆     ┆     ┆     ┆     ┆     ┆     ┆     ┆     ┆     ┆     ┆     ┆     ┆     ┆     ┆     ┆     ┆     ┆     ┆     ┆     ┆     ┆     ┆     ┆     ┆     ┆     ┆     ┆     ┆     ┆     ┆     ┆     ┆     ┆     ┆     ┆     ┆     ┆     ┆     ┆     ┆     ┆     ┆     ┆     ┆     ┆     ┆     ┆     ┆     ┆     ┆     ┆     ┆     ┆     ┆     ┆     ┆     ┆     ┆     ┆     ┆     ┆     ┆     ┆     ┆     │\n",
       "│ 71. ┆ 1   ┆ 23  ┆ 870 ┆ 562 ┆ 4   ┆ 26  ┆ 199 ┆ Oud ┆ 21  ┆ 18  ┆ 2   ┆ 82  ┆ 95  ┆ 7   ┆ 6.5 ┆ 5   ┆ 3   ┆ 29  ┆ 10  ┆ 39  ┆ 228 ┆ 222 ┆ 427 ┆ 24. ┆ 22  ┆ 450 ┆ 193 ┆ 25  ┆ 57  ┆ 26  ┆ 2   ┆ 0   ┆ 14  ┆ 1   ┆ 78  ┆ 17  ┆ 249 ┆ 5   ┆ 64  ┆ 36  ┆ 18  ┆ 167 ┆ 0   ┆ 7   ┆ 18  ┆ 19. ┆ 25  ┆ 124 ┆ 527 ┆ 129 ┆ 1   ┆ 2   ┆ 253 ┆ SV  ┆ 5   ┆ 202 ┆ Mid ┆ 938 ┆ Oma ┆ 127 ┆ 33  ┆ 105 ┆ 51  ┆ 11  ┆ 425 ┆ tru ┆ 13  ┆ 2   ┆ 13. ┆ 2   ┆ O.  ┆ SV  ┆ 1   ┆ 7   ┆ 34  ┆ 14. ┆ 724 ┆ 1   ┆ 146 ┆ 714 ┆ 6   ┆ 3   ┆ 26. ┆ 2   ┆ 171 ┆ 1   ┆ 1   ┆ 1   ┆ 8   ┆ 22. ┆ AM  ┆ 292 ┆ 308 ┆ 46. ┆ 1   ┆ 7.9 ┆ 7   ┆ 1   ┆ 202 ┆ 11  ┆ 1   ┆ 297 ┆ 16  ┆ 0   ┆ 421 ┆ 13  ┆ 13  ┆ 8   ┆ 287 ┆ 2   ┆ 356 ┆ 4   ┆ 172 ┆ 26  ┆ 89  ┆ 8   ┆ BEL ┆ 8   ┆ 202 ┆ 202 ┆ 202 ┆ 16  ┆ BEL ┆ Pro ┆ mal ┆ adu ┆ Bel │\n",
       "│ 07  ┆     ┆     ┆ 9   ┆ 0   ┆     ┆     ┆ 6-0 ┆ -He ┆     ┆     ┆     ┆     ┆     ┆     ┆ 7   ┆     ┆     ┆     ┆     ┆     ┆ 9   ┆     ┆     ┆ 95  ┆     ┆ 02  ┆ 8   ┆     ┆     ┆     ┆     ┆     ┆     ┆     ┆     ┆     ┆     ┆     ┆     ┆     ┆     ┆     ┆     ┆     ┆     ┆ 77  ┆     ┆ 1   ┆     ┆     ┆     ┆     ┆     ┆ Zul ┆     ┆ 1/2 ┆ fie ┆     ┆ r   ┆ 8   ┆     ┆     ┆     ┆     ┆     ┆ e   ┆     ┆     ┆ 2   ┆     ┆ Gov ┆ Zul ┆     ┆     ┆     ┆ 52  ┆     ┆     ┆ 25  ┆     ┆     ┆     ┆ 4   ┆     ┆     ┆     ┆     ┆     ┆     ┆ 45  ┆     ┆     ┆ 9   ┆ 12  ┆     ┆ 3   ┆     ┆     ┆ 1-0 ┆     ┆     ┆     ┆     ┆     ┆     ┆     ┆     ┆     ┆ 6   ┆     ┆ 7   ┆     ┆     ┆     ┆     ┆     ┆ -   ┆     ┆ 1   ┆ 2   ┆ 1/2 ┆     ┆     ┆ Lea ┆ e   ┆ lt  ┆ giu │\n",
       "│     ┆     ┆     ┆     ┆     ┆     ┆     ┆ 1-1 ┆ ver ┆     ┆     ┆     ┆     ┆     ┆     ┆     ┆     ┆     ┆     ┆     ┆     ┆     ┆     ┆     ┆     ┆     ┆     ┆     ┆     ┆     ┆     ┆     ┆     ┆     ┆     ┆     ┆     ┆     ┆     ┆     ┆     ┆     ┆     ┆     ┆     ┆     ┆     ┆     ┆     ┆     ┆     ┆     ┆     ┆     ┆ te- ┆     ┆ 022 ┆ ld  ┆     ┆ Nic ┆     ┆     ┆     ┆     ┆     ┆     ┆     ┆     ┆     ┆     ┆     ┆ ea  ┆ te- ┆     ┆     ┆     ┆     ┆     ┆     ┆     ┆     ┆     ┆     ┆     ┆     ┆     ┆     ┆     ┆     ┆     ┆     ┆     ┆     ┆     ┆     ┆     ┆     ┆     ┆     ┆ 7-2 ┆     ┆     ┆     ┆     ┆     ┆     ┆     ┆     ┆     ┆     ┆     ┆     ┆     ┆     ┆     ┆     ┆     ┆ Pro ┆     ┆     ┆     ┆ 022 ┆     ┆     ┆ gue ┆     ┆     ┆ m_1 │\n",
       "│     ┆     ┆     ┆     ┆     ┆     ┆     ┆ 8   ┆ lee ┆     ┆     ┆     ┆     ┆     ┆     ┆     ┆     ┆     ┆     ┆     ┆     ┆     ┆     ┆     ┆     ┆     ┆     ┆     ┆     ┆     ┆     ┆     ┆     ┆     ┆     ┆     ┆     ┆     ┆     ┆     ┆     ┆     ┆     ┆     ┆     ┆     ┆     ┆     ┆     ┆     ┆     ┆     ┆     ┆     ┆ War ┆     ┆     ┆     ┆     ┆ olá ┆     ┆     ┆     ┆     ┆     ┆     ┆     ┆     ┆     ┆     ┆     ┆     ┆ War ┆     ┆     ┆     ┆     ┆     ┆     ┆     ┆     ┆     ┆     ┆     ┆     ┆     ┆     ┆     ┆     ┆     ┆     ┆     ┆     ┆     ┆     ┆     ┆     ┆     ┆     ┆ 4   ┆     ┆     ┆     ┆     ┆     ┆     ┆     ┆     ┆     ┆     ┆     ┆     ┆     ┆     ┆     ┆     ┆     ┆ Lea ┆     ┆     ┆     ┆     ┆     ┆     ┆     ┆     ┆     ┆     │\n",
       "│     ┆     ┆     ┆     ┆     ┆     ┆     ┆     ┆ Leu ┆     ┆     ┆     ┆     ┆     ┆     ┆     ┆     ┆     ┆     ┆     ┆     ┆     ┆     ┆     ┆     ┆     ┆     ┆     ┆     ┆     ┆     ┆     ┆     ┆     ┆     ┆     ┆     ┆     ┆     ┆     ┆     ┆     ┆     ┆     ┆     ┆     ┆     ┆     ┆     ┆     ┆     ┆     ┆     ┆     ┆ ege ┆     ┆     ┆     ┆     ┆ s   ┆     ┆     ┆     ┆     ┆     ┆     ┆     ┆     ┆     ┆     ┆     ┆     ┆ ege ┆     ┆     ┆     ┆     ┆     ┆     ┆     ┆     ┆     ┆     ┆     ┆     ┆     ┆     ┆     ┆     ┆     ┆     ┆     ┆     ┆     ┆     ┆     ┆     ┆     ┆     ┆     ┆     ┆     ┆     ┆     ┆     ┆     ┆     ┆     ┆     ┆     ┆     ┆     ┆     ┆     ┆     ┆     ┆     ┆ gue ┆     ┆     ┆     ┆     ┆     ┆     ┆     ┆     ┆     ┆     │\n",
       "│     ┆     ┆     ┆     ┆     ┆     ┆     ┆     ┆ ven ┆     ┆     ┆     ┆     ┆     ┆     ┆     ┆     ┆     ┆     ┆     ┆     ┆     ┆     ┆     ┆     ┆     ┆     ┆     ┆     ┆     ┆     ┆     ┆     ┆     ┆     ┆     ┆     ┆     ┆     ┆     ┆     ┆     ┆     ┆     ┆     ┆     ┆     ┆     ┆     ┆     ┆     ┆     ┆     ┆     ┆ m   ┆     ┆     ┆     ┆     ┆ Gov ┆     ┆     ┆     ┆     ┆     ┆     ┆     ┆     ┆     ┆     ┆     ┆     ┆ m   ┆     ┆     ┆     ┆     ┆     ┆     ┆     ┆     ┆     ┆     ┆     ┆     ┆     ┆     ┆     ┆     ┆     ┆     ┆     ┆     ┆     ┆     ┆     ┆     ┆     ┆     ┆     ┆     ┆     ┆     ┆     ┆     ┆     ┆     ┆     ┆     ┆     ┆     ┆     ┆     ┆     ┆     ┆     ┆     ┆ -   ┆     ┆     ┆     ┆     ┆     ┆     ┆     ┆     ┆     ┆     │\n",
       "│     ┆     ┆     ┆     ┆     ┆     ┆     ┆     ┆ v   ┆     ┆     ┆     ┆     ┆     ┆     ┆     ┆     ┆     ┆     ┆     ┆     ┆     ┆     ┆     ┆     ┆     ┆     ┆     ┆     ┆     ┆     ┆     ┆     ┆     ┆     ┆     ┆     ┆     ┆     ┆     ┆     ┆     ┆     ┆     ┆     ┆     ┆     ┆     ┆     ┆     ┆     ┆     ┆     ┆     ┆     ┆     ┆     ┆     ┆     ┆ ea  ┆     ┆     ┆     ┆     ┆     ┆     ┆     ┆     ┆     ┆     ┆     ┆     ┆     ┆     ┆     ┆     ┆     ┆     ┆     ┆     ┆     ┆     ┆     ┆     ┆     ┆     ┆     ┆     ┆     ┆     ┆     ┆     ┆     ┆     ┆     ┆     ┆     ┆     ┆     ┆     ┆     ┆     ┆     ┆     ┆     ┆     ┆     ┆     ┆     ┆     ┆     ┆     ┆     ┆     ┆     ┆     ┆     ┆ 202 ┆     ┆     ┆     ┆     ┆     ┆     ┆     ┆     ┆     ┆     │\n",
       "│     ┆     ┆     ┆     ┆     ┆     ┆     ┆     ┆ SV  ┆     ┆     ┆     ┆     ┆     ┆     ┆     ┆     ┆     ┆     ┆     ┆     ┆     ┆     ┆     ┆     ┆     ┆     ┆     ┆     ┆     ┆     ┆     ┆     ┆     ┆     ┆     ┆     ┆     ┆     ┆     ┆     ┆     ┆     ┆     ┆     ┆     ┆     ┆     ┆     ┆     ┆     ┆     ┆     ┆     ┆     ┆     ┆     ┆     ┆     ┆ Gar ┆     ┆     ┆     ┆     ┆     ┆     ┆     ┆     ┆     ┆     ┆     ┆     ┆     ┆     ┆     ┆     ┆     ┆     ┆     ┆     ┆     ┆     ┆     ┆     ┆     ┆     ┆     ┆     ┆     ┆     ┆     ┆     ┆     ┆     ┆     ┆     ┆     ┆     ┆     ┆     ┆     ┆     ┆     ┆     ┆     ┆     ┆     ┆     ┆     ┆     ┆     ┆     ┆     ┆     ┆     ┆     ┆     ┆ 1/2 ┆     ┆     ┆     ┆     ┆     ┆     ┆     ┆     ┆     ┆     │\n",
       "│     ┆     ┆     ┆     ┆     ┆     ┆     ┆     ┆ Zul ┆     ┆     ┆     ┆     ┆     ┆     ┆     ┆     ┆     ┆     ┆     ┆     ┆     ┆     ┆     ┆     ┆     ┆     ┆     ┆     ┆     ┆     ┆     ┆     ┆     ┆     ┆     ┆     ┆     ┆     ┆     ┆     ┆     ┆     ┆     ┆     ┆     ┆     ┆     ┆     ┆     ┆     ┆     ┆     ┆     ┆     ┆     ┆     ┆     ┆     ┆ cía ┆     ┆     ┆     ┆     ┆     ┆     ┆     ┆     ┆     ┆     ┆     ┆     ┆     ┆     ┆     ┆     ┆     ┆     ┆     ┆     ┆     ┆     ┆     ┆     ┆     ┆     ┆     ┆     ┆     ┆     ┆     ┆     ┆     ┆     ┆     ┆     ┆     ┆     ┆     ┆     ┆     ┆     ┆     ┆     ┆     ┆     ┆     ┆     ┆     ┆     ┆     ┆     ┆     ┆     ┆     ┆     ┆     ┆ 022 ┆     ┆     ┆     ┆     ┆     ┆     ┆     ┆     ┆     ┆     │\n",
       "│     ┆     ┆     ┆     ┆     ┆     ┆     ┆     ┆ te… ┆     ┆     ┆     ┆     ┆     ┆     ┆     ┆     ┆     ┆     ┆     ┆     ┆     ┆     ┆     ┆     ┆     ┆     ┆     ┆     ┆     ┆     ┆     ┆     ┆     ┆     ┆     ┆     ┆     ┆     ┆     ┆     ┆     ┆     ┆     ┆     ┆     ┆     ┆     ┆     ┆     ┆     ┆     ┆     ┆     ┆     ┆     ┆     ┆     ┆     ┆     ┆     ┆     ┆     ┆     ┆     ┆     ┆     ┆     ┆     ┆     ┆     ┆     ┆     ┆     ┆     ┆     ┆     ┆     ┆     ┆     ┆     ┆     ┆     ┆     ┆     ┆     ┆     ┆     ┆     ┆     ┆     ┆     ┆     ┆     ┆     ┆     ┆     ┆     ┆     ┆     ┆     ┆     ┆     ┆     ┆     ┆     ┆     ┆     ┆     ┆     ┆     ┆     ┆     ┆     ┆     ┆     ┆     ┆     ┆     ┆     ┆     ┆     ┆     ┆     ┆     ┆     ┆     ┆     │\n",
       "│ 74. ┆ 1   ┆ 26  ┆ 897 ┆ 541 ┆ 6   ┆ 44  ┆ 199 ┆ Oud ┆ 25  ┆ 25  ┆ 3   ┆ 70  ┆ 76  ┆ 9   ┆ 8.4 ┆ 12  ┆ 5   ┆ 7   ┆ 131 ┆ 37  ┆ 188 ┆ 337 ┆ 327 ┆ 28. ┆ 13  ┆ 450 ┆ 202 ┆ 27  ┆ 44  ┆ 21  ┆ 0   ┆ 88  ┆ 20  ┆ 0   ┆ 110 ┆ 17  ┆ 249 ┆ 12  ┆ 64  ┆ 27  ┆ 13  ┆ 224 ┆ 0   ┆ 20  ┆ 21  ┆ 23. ┆ 26  ┆ 123 ┆ 554 ┆ 310 ┆ 0   ┆ 8   ┆ 301 ┆ Oud ┆ 8   ┆ 202 ┆ Mid ┆ 132 ┆ Sie ┆ 124 ┆ 18  ┆ 207 ┆ 193 ┆ 5   ┆ 536 ┆ tru ┆ 13  ┆ 2   ┆ 14. ┆ 4   ┆ S.  ┆ Oud ┆ 0   ┆ 11  ┆ 50  ┆ 13. ┆ 603 ┆ 3   ┆ 983 ┆ 680 ┆ 9   ┆ 1   ┆ 27. ┆ 1   ┆ 144 ┆ 1   ┆ 1   ┆ 1   ┆ 8   ┆ 20. ┆ AM  ┆ 284 ┆ 356 ┆ 46. ┆ 6   ┆ 7.1 ┆ 9   ┆ 2   ┆ 202 ┆ 15  ┆ 1   ┆ 276 ┆ 16  ┆ 4   ┆ 594 ┆ 25  ┆ 13  ┆ 8   ┆ 335 ┆ 2   ┆ 312 ┆ 6   ┆ 235 ┆ 132 ┆ 114 ┆ 27  ┆ BEL ┆ 8   ┆ 202 ┆ 202 ┆ 202 ┆ 16  ┆ BEL ┆ Pro ┆ mal ┆ adu ┆ Bel │\n",
       "│ 15  ┆     ┆     ┆ 6   ┆ 0   ┆     ┆     ┆ 6-0 ┆ -He ┆     ┆     ┆     ┆     ┆     ┆     ┆ 8   ┆     ┆     ┆     ┆     ┆     ┆ 3   ┆     ┆     ┆ 03  ┆     ┆ 02  ┆ 5   ┆     ┆     ┆     ┆     ┆     ┆     ┆     ┆     ┆     ┆     ┆     ┆     ┆     ┆     ┆     ┆     ┆     ┆     ┆ 0   ┆     ┆ 4   ┆     ┆     ┆     ┆     ┆     ┆ -He ┆     ┆ 1/2 ┆ fie ┆ 6   ┆ be  ┆ 2   ┆     ┆     ┆     ┆     ┆     ┆ e   ┆     ┆     ┆ 52  ┆     ┆ Sch ┆ -He ┆     ┆     ┆     ┆ 2   ┆     ┆     ┆ 5   ┆     ┆     ┆     ┆ 4   ┆     ┆     ┆     ┆     ┆     ┆     ┆ 35  ┆     ┆     ┆ 6   ┆ 12  ┆     ┆ 5   ┆     ┆     ┆ 1-0 ┆     ┆     ┆     ┆     ┆     ┆     ┆     ┆     ┆     ┆ 1   ┆     ┆ 5   ┆     ┆     ┆     ┆     ┆     ┆ -   ┆     ┆ 1   ┆ 2   ┆ 1/2 ┆     ┆     ┆ Lea ┆ e   ┆ lt  ┆ giu │\n",
       "│     ┆     ┆     ┆     ┆     ┆     ┆     ┆ 7-1 ┆ ver ┆     ┆     ┆     ┆     ┆     ┆     ┆     ┆     ┆     ┆     ┆     ┆     ┆     ┆     ┆     ┆     ┆     ┆     ┆     ┆     ┆     ┆     ┆     ┆     ┆     ┆     ┆     ┆     ┆     ┆     ┆     ┆     ┆     ┆     ┆     ┆     ┆     ┆     ┆     ┆     ┆     ┆     ┆     ┆     ┆     ┆ ver ┆     ┆ 022 ┆ ld  ┆     ┆ Sch ┆     ┆     ┆     ┆     ┆     ┆     ┆     ┆     ┆     ┆     ┆     ┆ rij ┆ ver ┆     ┆     ┆     ┆     ┆     ┆     ┆     ┆     ┆     ┆     ┆     ┆     ┆     ┆     ┆     ┆     ┆     ┆     ┆     ┆     ┆     ┆     ┆     ┆     ┆     ┆     ┆ 7-2 ┆     ┆     ┆     ┆     ┆     ┆     ┆     ┆     ┆     ┆     ┆     ┆     ┆     ┆     ┆     ┆     ┆     ┆ Pro ┆     ┆     ┆     ┆ 022 ┆     ┆     ┆ gue ┆     ┆     ┆ m_1 │\n",
       "│     ┆     ┆     ┆     ┆     ┆     ┆     ┆ 8   ┆ lee ┆     ┆     ┆     ┆     ┆     ┆     ┆     ┆     ┆     ┆     ┆     ┆     ┆     ┆     ┆     ┆     ┆     ┆     ┆     ┆     ┆     ┆     ┆     ┆     ┆     ┆     ┆     ┆     ┆     ┆     ┆     ┆     ┆     ┆     ┆     ┆     ┆     ┆     ┆     ┆     ┆     ┆     ┆     ┆     ┆     ┆ lee ┆     ┆     ┆     ┆     ┆ rij ┆     ┆     ┆     ┆     ┆     ┆     ┆     ┆     ┆     ┆     ┆     ┆ ver ┆ lee ┆     ┆     ┆     ┆     ┆     ┆     ┆     ┆     ┆     ┆     ┆     ┆     ┆     ┆     ┆     ┆     ┆     ┆     ┆     ┆     ┆     ┆     ┆     ┆     ┆     ┆     ┆ 4   ┆     ┆     ┆     ┆     ┆     ┆     ┆     ┆     ┆     ┆     ┆     ┆     ┆     ┆     ┆     ┆     ┆     ┆ Lea ┆     ┆     ┆     ┆     ┆     ┆     ┆     ┆     ┆     ┆     │\n",
       "│     ┆     ┆     ┆     ┆     ┆     ┆     ┆     ┆ Leu ┆     ┆     ┆     ┆     ┆     ┆     ┆     ┆     ┆     ┆     ┆     ┆     ┆     ┆     ┆     ┆     ┆     ┆     ┆     ┆     ┆     ┆     ┆     ┆     ┆     ┆     ┆     ┆     ┆     ┆     ┆     ┆     ┆     ┆     ┆     ┆     ┆     ┆     ┆     ┆     ┆     ┆     ┆     ┆     ┆     ┆ Leu ┆     ┆     ┆     ┆     ┆ ver ┆     ┆     ┆     ┆     ┆     ┆     ┆     ┆     ┆     ┆     ┆     ┆ s   ┆ Leu ┆     ┆     ┆     ┆     ┆     ┆     ┆     ┆     ┆     ┆     ┆     ┆     ┆     ┆     ┆     ┆     ┆     ┆     ┆     ┆     ┆     ┆     ┆     ┆     ┆     ┆     ┆     ┆     ┆     ┆     ┆     ┆     ┆     ┆     ┆     ┆     ┆     ┆     ┆     ┆     ┆     ┆     ┆     ┆     ┆ gue ┆     ┆     ┆     ┆     ┆     ┆     ┆     ┆     ┆     ┆     │\n",
       "│     ┆     ┆     ┆     ┆     ┆     ┆     ┆     ┆ ven ┆     ┆     ┆     ┆     ┆     ┆     ┆     ┆     ┆     ┆     ┆     ┆     ┆     ┆     ┆     ┆     ┆     ┆     ┆     ┆     ┆     ┆     ┆     ┆     ┆     ┆     ┆     ┆     ┆     ┆     ┆     ┆     ┆     ┆     ┆     ┆     ┆     ┆     ┆     ┆     ┆     ┆     ┆     ┆     ┆     ┆ ven ┆     ┆     ┆     ┆     ┆ s   ┆     ┆     ┆     ┆     ┆     ┆     ┆     ┆     ┆     ┆     ┆     ┆     ┆ ven ┆     ┆     ┆     ┆     ┆     ┆     ┆     ┆     ┆     ┆     ┆     ┆     ┆     ┆     ┆     ┆     ┆     ┆     ┆     ┆     ┆     ┆     ┆     ┆     ┆     ┆     ┆     ┆     ┆     ┆     ┆     ┆     ┆     ┆     ┆     ┆     ┆     ┆     ┆     ┆     ┆     ┆     ┆     ┆     ┆ -   ┆     ┆     ┆     ┆     ┆     ┆     ┆     ┆     ┆     ┆     │\n",
       "│     ┆     ┆     ┆     ┆     ┆     ┆     ┆     ┆ v   ┆     ┆     ┆     ┆     ┆     ┆     ┆     ┆     ┆     ┆     ┆     ┆     ┆     ┆     ┆     ┆     ┆     ┆     ┆     ┆     ┆     ┆     ┆     ┆     ┆     ┆     ┆     ┆     ┆     ┆     ┆     ┆     ┆     ┆     ┆     ┆     ┆     ┆     ┆     ┆     ┆     ┆     ┆     ┆     ┆     ┆     ┆     ┆     ┆     ┆     ┆     ┆     ┆     ┆     ┆     ┆     ┆     ┆     ┆     ┆     ┆     ┆     ┆     ┆     ┆     ┆     ┆     ┆     ┆     ┆     ┆     ┆     ┆     ┆     ┆     ┆     ┆     ┆     ┆     ┆     ┆     ┆     ┆     ┆     ┆     ┆     ┆     ┆     ┆     ┆     ┆     ┆     ┆     ┆     ┆     ┆     ┆     ┆     ┆     ┆     ┆     ┆     ┆     ┆     ┆     ┆     ┆     ┆     ┆ 202 ┆     ┆     ┆     ┆     ┆     ┆     ┆     ┆     ┆     ┆     │\n",
       "│     ┆     ┆     ┆     ┆     ┆     ┆     ┆     ┆ SV  ┆     ┆     ┆     ┆     ┆     ┆     ┆     ┆     ┆     ┆     ┆     ┆     ┆     ┆     ┆     ┆     ┆     ┆     ┆     ┆     ┆     ┆     ┆     ┆     ┆     ┆     ┆     ┆     ┆     ┆     ┆     ┆     ┆     ┆     ┆     ┆     ┆     ┆     ┆     ┆     ┆     ┆     ┆     ┆     ┆     ┆     ┆     ┆     ┆     ┆     ┆     ┆     ┆     ┆     ┆     ┆     ┆     ┆     ┆     ┆     ┆     ┆     ┆     ┆     ┆     ┆     ┆     ┆     ┆     ┆     ┆     ┆     ┆     ┆     ┆     ┆     ┆     ┆     ┆     ┆     ┆     ┆     ┆     ┆     ┆     ┆     ┆     ┆     ┆     ┆     ┆     ┆     ┆     ┆     ┆     ┆     ┆     ┆     ┆     ┆     ┆     ┆     ┆     ┆     ┆     ┆     ┆     ┆     ┆ 1/2 ┆     ┆     ┆     ┆     ┆     ┆     ┆     ┆     ┆     ┆     │\n",
       "│     ┆     ┆     ┆     ┆     ┆     ┆     ┆     ┆ Zul ┆     ┆     ┆     ┆     ┆     ┆     ┆     ┆     ┆     ┆     ┆     ┆     ┆     ┆     ┆     ┆     ┆     ┆     ┆     ┆     ┆     ┆     ┆     ┆     ┆     ┆     ┆     ┆     ┆     ┆     ┆     ┆     ┆     ┆     ┆     ┆     ┆     ┆     ┆     ┆     ┆     ┆     ┆     ┆     ┆     ┆     ┆     ┆     ┆     ┆     ┆     ┆     ┆     ┆     ┆     ┆     ┆     ┆     ┆     ┆     ┆     ┆     ┆     ┆     ┆     ┆     ┆     ┆     ┆     ┆     ┆     ┆     ┆     ┆     ┆     ┆     ┆     ┆     ┆     ┆     ┆     ┆     ┆     ┆     ┆     ┆     ┆     ┆     ┆     ┆     ┆     ┆     ┆     ┆     ┆     ┆     ┆     ┆     ┆     ┆     ┆     ┆     ┆     ┆     ┆     ┆     ┆     ┆     ┆ 022 ┆     ┆     ┆     ┆     ┆     ┆     ┆     ┆     ┆     ┆     │\n",
       "│     ┆     ┆     ┆     ┆     ┆     ┆     ┆     ┆ te… ┆     ┆     ┆     ┆     ┆     ┆     ┆     ┆     ┆     ┆     ┆     ┆     ┆     ┆     ┆     ┆     ┆     ┆     ┆     ┆     ┆     ┆     ┆     ┆     ┆     ┆     ┆     ┆     ┆     ┆     ┆     ┆     ┆     ┆     ┆     ┆     ┆     ┆     ┆     ┆     ┆     ┆     ┆     ┆     ┆     ┆     ┆     ┆     ┆     ┆     ┆     ┆     ┆     ┆     ┆     ┆     ┆     ┆     ┆     ┆     ┆     ┆     ┆     ┆     ┆     ┆     ┆     ┆     ┆     ┆     ┆     ┆     ┆     ┆     ┆     ┆     ┆     ┆     ┆     ┆     ┆     ┆     ┆     ┆     ┆     ┆     ┆     ┆     ┆     ┆     ┆     ┆     ┆     ┆     ┆     ┆     ┆     ┆     ┆     ┆     ┆     ┆     ┆     ┆     ┆     ┆     ┆     ┆     ┆     ┆     ┆     ┆     ┆     ┆     ┆     ┆     ┆     ┆     ┆     │\n",
       "│ 110 ┆ 1   ┆ 47  ┆ 116 ┆ 625 ┆ 4   ┆ 36  ┆ 199 ┆ Clu ┆ 23  ┆ 17  ┆ 1   ┆ 85  ┆ 56  ┆ 6   ┆ 19. ┆ 4   ┆ 3   ┆ 20  ┆ 4   ┆ 47  ┆ 234 ┆ 159 ┆ 461 ┆ 60. ┆ 13  ┆ 449 ┆ 265 ┆ 39  ┆ 44  ┆ 29  ┆ 1   ┆ 0   ┆ 17  ┆ 0   ┆ 62  ┆ 21  ┆ 249 ┆ 5   ┆ 86  ┆ 24  ┆ 18  ┆ 174 ┆ 1   ┆ 4   ┆ 37  ┆ 37. ┆ 41  ┆ 140 ┆ 462 ┆ 81  ┆ 1   ┆ 2   ┆ 468 ┆ KAS ┆ 19  ┆ 202 ┆ Mid ┆ 225 ┆ Ste ┆ 139 ┆ 23  ┆ 60  ┆ 19  ┆ 10  ┆ 788 ┆ tru ┆ 18  ┆ 2   ┆ 18. ┆ 2   ┆ S.  ┆ KAS ┆ 2   ┆ 9   ┆ 35  ┆ 15. ┆ 603 ┆ 1   ┆ 115 ┆ 943 ┆ 26  ┆ 2   ┆ 25. ┆ 0   ┆ 140 ┆ 1   ┆ 1   ┆ 0   ┆ 11  ┆ 28. ┆ AM  ┆ 253 ┆ 536 ┆ 50. ┆ 1   ┆ 12. ┆ 8   ┆ 1   ┆ 202 ┆ 8   ┆ 0   ┆ 142 ┆ 16  ┆ 0   ┆ 334 ┆ 12  ┆ 13  ┆ 8   ┆ 490 ┆ 2   ┆ 373 ┆ 2   ┆ 320 ┆ 36  ┆ 112 ┆ 26  ┆ BEL ┆ 8   ┆ 202 ┆ 202 ┆ 202 ┆ 16  ┆ BEL ┆ Pro ┆ mal ┆ adu ┆ Bel │\n",
       "│ .42 ┆     ┆     ┆ 26  ┆ 7   ┆     ┆     ┆ 2-0 ┆ b   ┆     ┆     ┆     ┆     ┆     ┆     ┆ 18  ┆     ┆     ┆     ┆     ┆     ┆ 0   ┆     ┆     ┆ 17  ┆     ┆ 98  ┆ 0   ┆     ┆     ┆     ┆     ┆     ┆     ┆     ┆     ┆     ┆     ┆     ┆     ┆     ┆     ┆     ┆     ┆     ┆     ┆ 23  ┆     ┆ 5   ┆     ┆     ┆     ┆     ┆     ┆ Eup ┆     ┆ 1/2 ┆ fie ┆ 2   ┆ f   ┆ 7   ┆     ┆     ┆     ┆     ┆     ┆ e   ┆     ┆     ┆ 05  ┆     ┆ Pee ┆ Eup ┆     ┆     ┆     ┆ 68  ┆     ┆     ┆ 95  ┆     ┆     ┆     ┆ 5   ┆     ┆     ┆     ┆     ┆     ┆     ┆ 66  ┆     ┆     ┆ 9   ┆ 25  ┆     ┆ 98  ┆     ┆     ┆ 1-0 ┆     ┆     ┆     ┆     ┆     ┆     ┆     ┆     ┆     ┆ 2   ┆     ┆ 7   ┆     ┆     ┆     ┆     ┆     ┆ -   ┆     ┆ 1   ┆ 2   ┆ 1/2 ┆     ┆     ┆ Lea ┆ e   ┆ lt  ┆ giu │\n",
       "│     ┆     ┆     ┆     ┆     ┆     ┆     ┆ 2-0 ┆ Bru ┆     ┆     ┆     ┆     ┆     ┆     ┆     ┆     ┆     ┆     ┆     ┆     ┆     ┆     ┆     ┆     ┆     ┆     ┆     ┆     ┆     ┆     ┆     ┆     ┆     ┆     ┆     ┆     ┆     ┆     ┆     ┆     ┆     ┆     ┆     ┆     ┆     ┆     ┆     ┆     ┆     ┆     ┆     ┆     ┆     ┆ en  ┆     ┆ 022 ┆ ld  ┆     ┆ Pee ┆     ┆     ┆     ┆     ┆     ┆     ┆     ┆     ┆     ┆     ┆     ┆ ter ┆ en  ┆     ┆     ┆     ┆     ┆     ┆     ┆     ┆     ┆     ┆     ┆     ┆     ┆     ┆     ┆     ┆     ┆     ┆     ┆     ┆     ┆     ┆     ┆     ┆     ┆     ┆     ┆ 7-2 ┆     ┆     ┆     ┆     ┆     ┆     ┆     ┆     ┆     ┆     ┆     ┆     ┆     ┆     ┆     ┆     ┆     ┆ Pro ┆     ┆     ┆     ┆ 022 ┆     ┆     ┆ gue ┆     ┆     ┆ m_1 │\n",
       "│     ┆     ┆     ┆     ┆     ┆     ┆     ┆ 9   ┆ gge ┆     ┆     ┆     ┆     ┆     ┆     ┆     ┆     ┆     ┆     ┆     ┆     ┆     ┆     ┆     ┆     ┆     ┆     ┆     ┆     ┆     ┆     ┆     ┆     ┆     ┆     ┆     ┆     ┆     ┆     ┆     ┆     ┆     ┆     ┆     ┆     ┆     ┆     ┆     ┆     ┆     ┆     ┆     ┆     ┆     ┆     ┆     ┆     ┆     ┆     ┆ ter ┆     ┆     ┆     ┆     ┆     ┆     ┆     ┆     ┆     ┆     ┆     ┆ s   ┆     ┆     ┆     ┆     ┆     ┆     ┆     ┆     ┆     ┆     ┆     ┆     ┆     ┆     ┆     ┆     ┆     ┆     ┆     ┆     ┆     ┆     ┆     ┆     ┆     ┆     ┆     ┆ 5   ┆     ┆     ┆     ┆     ┆     ┆     ┆     ┆     ┆     ┆     ┆     ┆     ┆     ┆     ┆     ┆     ┆     ┆ Lea ┆     ┆     ┆     ┆     ┆     ┆     ┆     ┆     ┆     ┆     │\n",
       "│     ┆     ┆     ┆     ┆     ┆     ┆     ┆     ┆ KV  ┆     ┆     ┆     ┆     ┆     ┆     ┆     ┆     ┆     ┆     ┆     ┆     ┆     ┆     ┆     ┆     ┆     ┆     ┆     ┆     ┆     ┆     ┆     ┆     ┆     ┆     ┆     ┆     ┆     ┆     ┆     ┆     ┆     ┆     ┆     ┆     ┆     ┆     ┆     ┆     ┆     ┆     ┆     ┆     ┆     ┆     ┆     ┆     ┆     ┆     ┆ s   ┆     ┆     ┆     ┆     ┆     ┆     ┆     ┆     ┆     ┆     ┆     ┆     ┆     ┆     ┆     ┆     ┆     ┆     ┆     ┆     ┆     ┆     ┆     ┆     ┆     ┆     ┆     ┆     ┆     ┆     ┆     ┆     ┆     ┆     ┆     ┆     ┆     ┆     ┆     ┆     ┆     ┆     ┆     ┆     ┆     ┆     ┆     ┆     ┆     ┆     ┆     ┆     ┆     ┆     ┆     ┆     ┆     ┆ gue ┆     ┆     ┆     ┆     ┆     ┆     ┆     ┆     ┆     ┆     │\n",
       "│     ┆     ┆     ┆     ┆     ┆     ┆     ┆     ┆ v   ┆     ┆     ┆     ┆     ┆     ┆     ┆     ┆     ┆     ┆     ┆     ┆     ┆     ┆     ┆     ┆     ┆     ┆     ┆     ┆     ┆     ┆     ┆     ┆     ┆     ┆     ┆     ┆     ┆     ┆     ┆     ┆     ┆     ┆     ┆     ┆     ┆     ┆     ┆     ┆     ┆     ┆     ┆     ┆     ┆     ┆     ┆     ┆     ┆     ┆     ┆     ┆     ┆     ┆     ┆     ┆     ┆     ┆     ┆     ┆     ┆     ┆     ┆     ┆     ┆     ┆     ┆     ┆     ┆     ┆     ┆     ┆     ┆     ┆     ┆     ┆     ┆     ┆     ┆     ┆     ┆     ┆     ┆     ┆     ┆     ┆     ┆     ┆     ┆     ┆     ┆     ┆     ┆     ┆     ┆     ┆     ┆     ┆     ┆     ┆     ┆     ┆     ┆     ┆     ┆     ┆     ┆     ┆     ┆ -   ┆     ┆     ┆     ┆     ┆     ┆     ┆     ┆     ┆     ┆     │\n",
       "│     ┆     ┆     ┆     ┆     ┆     ┆     ┆     ┆ KAS ┆     ┆     ┆     ┆     ┆     ┆     ┆     ┆     ┆     ┆     ┆     ┆     ┆     ┆     ┆     ┆     ┆     ┆     ┆     ┆     ┆     ┆     ┆     ┆     ┆     ┆     ┆     ┆     ┆     ┆     ┆     ┆     ┆     ┆     ┆     ┆     ┆     ┆     ┆     ┆     ┆     ┆     ┆     ┆     ┆     ┆     ┆     ┆     ┆     ┆     ┆     ┆     ┆     ┆     ┆     ┆     ┆     ┆     ┆     ┆     ┆     ┆     ┆     ┆     ┆     ┆     ┆     ┆     ┆     ┆     ┆     ┆     ┆     ┆     ┆     ┆     ┆     ┆     ┆     ┆     ┆     ┆     ┆     ┆     ┆     ┆     ┆     ┆     ┆     ┆     ┆     ┆     ┆     ┆     ┆     ┆     ┆     ┆     ┆     ┆     ┆     ┆     ┆     ┆     ┆     ┆     ┆     ┆     ┆ 202 ┆     ┆     ┆     ┆     ┆     ┆     ┆     ┆     ┆     ┆     │\n",
       "│     ┆     ┆     ┆     ┆     ┆     ┆     ┆     ┆ Eup ┆     ┆     ┆     ┆     ┆     ┆     ┆     ┆     ┆     ┆     ┆     ┆     ┆     ┆     ┆     ┆     ┆     ┆     ┆     ┆     ┆     ┆     ┆     ┆     ┆     ┆     ┆     ┆     ┆     ┆     ┆     ┆     ┆     ┆     ┆     ┆     ┆     ┆     ┆     ┆     ┆     ┆     ┆     ┆     ┆     ┆     ┆     ┆     ┆     ┆     ┆     ┆     ┆     ┆     ┆     ┆     ┆     ┆     ┆     ┆     ┆     ┆     ┆     ┆     ┆     ┆     ┆     ┆     ┆     ┆     ┆     ┆     ┆     ┆     ┆     ┆     ┆     ┆     ┆     ┆     ┆     ┆     ┆     ┆     ┆     ┆     ┆     ┆     ┆     ┆     ┆     ┆     ┆     ┆     ┆     ┆     ┆     ┆     ┆     ┆     ┆     ┆     ┆     ┆     ┆     ┆     ┆     ┆     ┆ 1/2 ┆     ┆     ┆     ┆     ┆     ┆     ┆     ┆     ┆     ┆     │\n",
       "│     ┆     ┆     ┆     ┆     ┆     ┆     ┆     ┆ en  ┆     ┆     ┆     ┆     ┆     ┆     ┆     ┆     ┆     ┆     ┆     ┆     ┆     ┆     ┆     ┆     ┆     ┆     ┆     ┆     ┆     ┆     ┆     ┆     ┆     ┆     ┆     ┆     ┆     ┆     ┆     ┆     ┆     ┆     ┆     ┆     ┆     ┆     ┆     ┆     ┆     ┆     ┆     ┆     ┆     ┆     ┆     ┆     ┆     ┆     ┆     ┆     ┆     ┆     ┆     ┆     ┆     ┆     ┆     ┆     ┆     ┆     ┆     ┆     ┆     ┆     ┆     ┆     ┆     ┆     ┆     ┆     ┆     ┆     ┆     ┆     ┆     ┆     ┆     ┆     ┆     ┆     ┆     ┆     ┆     ┆     ┆     ┆     ┆     ┆     ┆     ┆     ┆     ┆     ┆     ┆     ┆     ┆     ┆     ┆     ┆     ┆     ┆     ┆     ┆     ┆     ┆     ┆     ┆ 022 ┆     ┆     ┆     ┆     ┆     ┆     ┆     ┆     ┆     ┆     │\n",
       "└─────┴─────┴─────┴─────┴─────┴─────┴─────┴─────┴─────┴─────┴─────┴─────┴─────┴─────┴─────┴─────┴─────┴─────┴─────┴─────┴─────┴─────┴─────┴─────┴─────┴─────┴─────┴─────┴─────┴─────┴─────┴─────┴─────┴─────┴─────┴─────┴─────┴─────┴─────┴─────┴─────┴─────┴─────┴─────┴─────┴─────┴─────┴─────┴─────┴─────┴─────┴─────┴─────┴─────┴─────┴─────┴─────┴─────┴─────┴─────┴─────┴─────┴─────┴─────┴─────┴─────┴─────┴─────┴─────┴─────┴─────┴─────┴─────┴─────┴─────┴─────┴─────┴─────┴─────┴─────┴─────┴─────┴─────┴─────┴─────┴─────┴─────┴─────┴─────┴─────┴─────┴─────┴─────┴─────┴─────┴─────┴─────┴─────┴─────┴─────┴─────┴─────┴─────┴─────┴─────┴─────┴─────┴─────┴─────┴─────┴─────┴─────┴─────┴─────┴─────┴─────┴─────┴─────┴─────┴─────┴─────┴─────┴─────┴─────┴─────┴─────┴─────┴─────┘"
      ]
     },
     "execution_count": 42,
     "metadata": {},
     "output_type": "execute_result"
    }
   ],
   "source": [
    "final_df.head()"
   ]
  },
  {
   "cell_type": "code",
   "execution_count": 43,
   "metadata": {},
   "outputs": [],
   "source": [
    "final_df = final_df.select(sorted(final_df.columns))"
   ]
  },
  {
   "cell_type": "code",
   "execution_count": 44,
   "metadata": {},
   "outputs": [],
   "source": [
    "# path to csv to write the dataframe to\n",
    "csv_path = './data_summary.csv'"
   ]
  },
  {
   "cell_type": "code",
   "execution_count": 45,
   "metadata": {},
   "outputs": [],
   "source": [
    "# writing  the dataframe to a csv\n",
    "final_df.write_csv(csv_path)"
   ]
  },
  {
   "cell_type": "code",
   "execution_count": null,
   "metadata": {},
   "outputs": [],
   "source": [
    "# extra columns taken to the next step\n",
    "# competition_region_division\n"
   ]
  }
 ],
 "metadata": {
  "kernelspec": {
   "display_name": "usr",
   "language": "python",
   "name": "python3"
  },
  "language_info": {
   "codemirror_mode": {
    "name": "ipython",
    "version": 3
   },
   "file_extension": ".py",
   "mimetype": "text/x-python",
   "name": "python",
   "nbconvert_exporter": "python",
   "pygments_lexer": "ipython3",
   "version": "3.12.7"
  }
 },
 "nbformat": 4,
 "nbformat_minor": 2
}
