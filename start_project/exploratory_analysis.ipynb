{
 "cells": [
  {
   "cell_type": "code",
   "execution_count": 1,
   "metadata": {},
   "outputs": [],
   "source": [
    "import polars as pl\n",
    "import seaborn as sns\n",
    "import matplotlib.pyplot as plt\n",
    "import numpy as np\n",
    "import json\n",
    "from io import StringIO\n",
    "import pygwalker as pyg\n",
    "import os\n",
    "from tqdm import tqdm\n",
    "import polars.selectors as cs\n",
    "from scipy.stats import zscore "
   ]
  },
  {
   "cell_type": "markdown",
   "metadata": {},
   "source": [
    "reading competition editions json"
   ]
  },
  {
   "cell_type": "code",
   "execution_count": 5,
   "metadata": {},
   "outputs": [
    {
     "data": {
      "text/html": [
       "<div><style>\n",
       ".dataframe > thead > tr,\n",
       ".dataframe > tbody > tr {\n",
       "  text-align: right;\n",
       "  white-space: pre-wrap;\n",
       "}\n",
       "</style>\n",
       "<small>shape: (1, 4)</small><table border=\"1\" class=\"dataframe\"><thead><tr><th>count</th><th>next</th><th>previous</th><th>results</th></tr><tr><td>i64</td><td>null</td><td>null</td><td>list[struct[4]]</td></tr></thead><tbody><tr><td>938</td><td>null</td><td>null</td><td>[{0,{0,&quot;FIFA&quot;,&quot;World Cup&quot;,&quot;male&quot;,&quot;adult&quot;},{10,2014,2014,&quot;2014&quot;},&quot;FIFA - World Cup - 2014&quot;}, {1,{1,&quot;ENG&quot;,&quot;Premier League&quot;,&quot;male&quot;,&quot;adult&quot;},{2,2015,2016,&quot;2015/2016&quot;},&quot;ENG - Premier League - 2015/2016&quot;}, … {1129,{221,&quot;INT&quot;,&quot;Pinatar National Team Friendlies&quot;,&quot;male&quot;,&quot;U21&quot;},{128,2025,2025,&quot;2025&quot;},&quot;INT - Pinatar National Team Friendlies - 2025&quot;}]</td></tr></tbody></table></div>"
      ],
      "text/plain": [
       "shape: (1, 4)\n",
       "┌───────┬──────┬──────────┬─────────────────────────────────┐\n",
       "│ count ┆ next ┆ previous ┆ results                         │\n",
       "│ ---   ┆ ---  ┆ ---      ┆ ---                             │\n",
       "│ i64   ┆ null ┆ null     ┆ list[struct[4]]                 │\n",
       "╞═══════╪══════╪══════════╪═════════════════════════════════╡\n",
       "│ 938   ┆ null ┆ null     ┆ [{0,{0,\"FIFA\",\"World Cup\",\"mal… │\n",
       "└───────┴──────┴──────────┴─────────────────────────────────┘"
      ]
     },
     "execution_count": 5,
     "metadata": {},
     "output_type": "execute_result"
    }
   ],
   "source": [
    "ce_json_path = './skillcorner-competition-editions.json'\n",
    "ce_df1 = pl.read_json(ce_json_path)\n",
    "ce_df1.head(1)\n",
    "#ce_df.columns"
   ]
  },
  {
   "cell_type": "code",
   "execution_count": 6,
   "metadata": {},
   "outputs": [
    {
     "data": {
      "text/html": [
       "<div><style>\n",
       ".dataframe > thead > tr,\n",
       ".dataframe > tbody > tr {\n",
       "  text-align: right;\n",
       "  white-space: pre-wrap;\n",
       "}\n",
       "</style>\n",
       "<small>shape: (1, 4)</small><table border=\"1\" class=\"dataframe\"><thead><tr><th>id</th><th>competition</th><th>season</th><th>name</th></tr><tr><td>i64</td><td>struct[5]</td><td>struct[4]</td><td>str</td></tr></thead><tbody><tr><td>0</td><td>{0,&quot;FIFA&quot;,&quot;World Cup&quot;,&quot;male&quot;,&quot;adult&quot;}</td><td>{10,2014,2014,&quot;2014&quot;}</td><td>&quot;FIFA - World Cup - 2014&quot;</td></tr></tbody></table></div>"
      ],
      "text/plain": [
       "shape: (1, 4)\n",
       "┌─────┬─────────────────────────────────┬───────────────────────┬─────────────────────────┐\n",
       "│ id  ┆ competition                     ┆ season                ┆ name                    │\n",
       "│ --- ┆ ---                             ┆ ---                   ┆ ---                     │\n",
       "│ i64 ┆ struct[5]                       ┆ struct[4]             ┆ str                     │\n",
       "╞═════╪═════════════════════════════════╪═══════════════════════╪═════════════════════════╡\n",
       "│ 0   ┆ {0,\"FIFA\",\"World Cup\",\"male\",\"… ┆ {10,2014,2014,\"2014\"} ┆ FIFA - World Cup - 2014 │\n",
       "└─────┴─────────────────────────────────┴───────────────────────┴─────────────────────────┘"
      ]
     },
     "execution_count": 6,
     "metadata": {},
     "output_type": "execute_result"
    }
   ],
   "source": [
    "#ce_df2 = ce_df1.explode('results')\n",
    "ce_df2 = ce_df1.select('results').explode('results').unnest('results')\n",
    "#ce_df2 = ce_df2.unnest('results')\n",
    "ce_df2.head(1)"
   ]
  },
  {
   "cell_type": "code",
   "execution_count": 4,
   "metadata": {},
   "outputs": [
    {
     "data": {
      "text/html": [
       "<div><style>\n",
       ".dataframe > thead > tr,\n",
       ".dataframe > tbody > tr {\n",
       "  text-align: right;\n",
       "  white-space: pre-wrap;\n",
       "}\n",
       "</style>\n",
       "<small>shape: (1, 2)</small><table border=\"1\" class=\"dataframe\"><thead><tr><th>name</th><th>id</th></tr><tr><td>str</td><td>i64</td></tr></thead><tbody><tr><td>&quot;FIFA - World Cup - 2014&quot;</td><td>0</td></tr></tbody></table></div>"
      ],
      "text/plain": [
       "shape: (1, 2)\n",
       "┌─────────────────────────┬─────┐\n",
       "│ name                    ┆ id  │\n",
       "│ ---                     ┆ --- │\n",
       "│ str                     ┆ i64 │\n",
       "╞═════════════════════════╪═════╡\n",
       "│ FIFA - World Cup - 2014 ┆ 0   │\n",
       "└─────────────────────────┴─────┘"
      ]
     },
     "execution_count": 4,
     "metadata": {},
     "output_type": "execute_result"
    }
   ],
   "source": [
    "ce_name_id = ce_df2.select([\n",
    "    pl.col('name'),\n",
    "    pl.col('id'),\n",
    "    ]\n",
    ")\n",
    "ce_name_id.head(1)"
   ]
  },
  {
   "cell_type": "code",
   "execution_count": 5,
   "metadata": {},
   "outputs": [
    {
     "data": {
      "text/html": [
       "<div><style>\n",
       ".dataframe > thead > tr,\n",
       ".dataframe > tbody > tr {\n",
       "  text-align: right;\n",
       "  white-space: pre-wrap;\n",
       "}\n",
       "</style>\n",
       "<small>shape: (1, 5)</small><table border=\"1\" class=\"dataframe\"><thead><tr><th>competition_id</th><th>competition_area</th><th>competition_name</th><th>competition_gender</th><th>competition_age_group</th></tr><tr><td>i64</td><td>str</td><td>str</td><td>str</td><td>str</td></tr></thead><tbody><tr><td>0</td><td>&quot;FIFA&quot;</td><td>&quot;World Cup&quot;</td><td>&quot;male&quot;</td><td>&quot;adult&quot;</td></tr></tbody></table></div>"
      ],
      "text/plain": [
       "shape: (1, 5)\n",
       "┌────────────────┬──────────────────┬──────────────────┬────────────────────┬──────────────────────┐\n",
       "│ competition_id ┆ competition_area ┆ competition_name ┆ competition_gender ┆ competition_age_grou │\n",
       "│ ---            ┆ ---              ┆ ---              ┆ ---                ┆ p                    │\n",
       "│ i64            ┆ str              ┆ str              ┆ str                ┆ ---                  │\n",
       "│                ┆                  ┆                  ┆                    ┆ str                  │\n",
       "╞════════════════╪══════════════════╪══════════════════╪════════════════════╪══════════════════════╡\n",
       "│ 0              ┆ FIFA             ┆ World Cup        ┆ male               ┆ adult                │\n",
       "└────────────────┴──────────────────┴──────────────────┴────────────────────┴──────────────────────┘"
      ]
     },
     "execution_count": 5,
     "metadata": {},
     "output_type": "execute_result"
    }
   ],
   "source": [
    "ce_competition = ce_df2.select('competition').unnest('competition')\n",
    "ce_competition = ce_competition.rename({col: f\"competition_{col}\" for col in ce_competition.columns})\n",
    "ce_competition.head(1)"
   ]
  },
  {
   "cell_type": "code",
   "execution_count": 6,
   "metadata": {},
   "outputs": [
    {
     "data": {
      "text/html": [
       "<div><style>\n",
       ".dataframe > thead > tr,\n",
       ".dataframe > tbody > tr {\n",
       "  text-align: right;\n",
       "  white-space: pre-wrap;\n",
       "}\n",
       "</style>\n",
       "<small>shape: (1, 4)</small><table border=\"1\" class=\"dataframe\"><thead><tr><th>season_id</th><th>season_start_year</th><th>season_end_year</th><th>season_name</th></tr><tr><td>i64</td><td>i64</td><td>i64</td><td>str</td></tr></thead><tbody><tr><td>10</td><td>2014</td><td>2014</td><td>&quot;2014&quot;</td></tr></tbody></table></div>"
      ],
      "text/plain": [
       "shape: (1, 4)\n",
       "┌───────────┬───────────────────┬─────────────────┬─────────────┐\n",
       "│ season_id ┆ season_start_year ┆ season_end_year ┆ season_name │\n",
       "│ ---       ┆ ---               ┆ ---             ┆ ---         │\n",
       "│ i64       ┆ i64               ┆ i64             ┆ str         │\n",
       "╞═══════════╪═══════════════════╪═════════════════╪═════════════╡\n",
       "│ 10        ┆ 2014              ┆ 2014            ┆ 2014        │\n",
       "└───────────┴───────────────────┴─────────────────┴─────────────┘"
      ]
     },
     "execution_count": 6,
     "metadata": {},
     "output_type": "execute_result"
    }
   ],
   "source": [
    "ce_season = ce_df2.select('season').unnest('season')\n",
    "ce_season = ce_season.rename({col: f\"season_{col}\" for col in ce_season.columns})\n",
    "ce_season.head(1)"
   ]
  },
  {
   "cell_type": "code",
   "execution_count": 7,
   "metadata": {},
   "outputs": [
    {
     "data": {
      "text/html": [
       "<div><style>\n",
       ".dataframe > thead > tr,\n",
       ".dataframe > tbody > tr {\n",
       "  text-align: right;\n",
       "  white-space: pre-wrap;\n",
       "}\n",
       "</style>\n",
       "<small>shape: (10, 11)</small><table border=\"1\" class=\"dataframe\"><thead><tr><th>name</th><th>id</th><th>season_id</th><th>season_start_year</th><th>season_end_year</th><th>season_name</th><th>competition_id</th><th>competition_area</th><th>competition_name</th><th>competition_gender</th><th>competition_age_group</th></tr><tr><td>str</td><td>i64</td><td>i64</td><td>i64</td><td>i64</td><td>str</td><td>i64</td><td>str</td><td>str</td><td>str</td><td>str</td></tr></thead><tbody><tr><td>&quot;FIFA - World Cup - 2014&quot;</td><td>0</td><td>10</td><td>2014</td><td>2014</td><td>&quot;2014&quot;</td><td>0</td><td>&quot;FIFA&quot;</td><td>&quot;World Cup&quot;</td><td>&quot;male&quot;</td><td>&quot;adult&quot;</td></tr><tr><td>&quot;ENG - Premier League - 2015/20…</td><td>1</td><td>2</td><td>2015</td><td>2016</td><td>&quot;2015/2016&quot;</td><td>1</td><td>&quot;ENG&quot;</td><td>&quot;Premier League&quot;</td><td>&quot;male&quot;</td><td>&quot;adult&quot;</td></tr><tr><td>&quot;UEFA - European Championship -…</td><td>2</td><td>12</td><td>2016</td><td>2016</td><td>&quot;2016&quot;</td><td>2</td><td>&quot;UEFA&quot;</td><td>&quot;European Championship&quot;</td><td>&quot;male&quot;</td><td>&quot;adult&quot;</td></tr><tr><td>&quot;ENG - Premier League - 2016/20…</td><td>3</td><td>3</td><td>2016</td><td>2017</td><td>&quot;2016/2017&quot;</td><td>1</td><td>&quot;ENG&quot;</td><td>&quot;Premier League&quot;</td><td>&quot;male&quot;</td><td>&quot;adult&quot;</td></tr><tr><td>&quot;ENG - Premier League - 2017/20…</td><td>4</td><td>4</td><td>2017</td><td>2018</td><td>&quot;2017/2018&quot;</td><td>1</td><td>&quot;ENG&quot;</td><td>&quot;Premier League&quot;</td><td>&quot;male&quot;</td><td>&quot;adult&quot;</td></tr><tr><td>&quot;FRA - Ligue 1 - 2016/2017&quot;</td><td>5</td><td>3</td><td>2016</td><td>2017</td><td>&quot;2016/2017&quot;</td><td>3</td><td>&quot;FRA&quot;</td><td>&quot;Ligue 1&quot;</td><td>&quot;male&quot;</td><td>&quot;adult&quot;</td></tr><tr><td>&quot;FRA - Ligue 1 - 2017/2018&quot;</td><td>6</td><td>4</td><td>2017</td><td>2018</td><td>&quot;2017/2018&quot;</td><td>3</td><td>&quot;FRA&quot;</td><td>&quot;Ligue 1&quot;</td><td>&quot;male&quot;</td><td>&quot;adult&quot;</td></tr><tr><td>&quot;ESP - LaLiga - 2016/2017&quot;</td><td>7</td><td>3</td><td>2016</td><td>2017</td><td>&quot;2016/2017&quot;</td><td>4</td><td>&quot;ESP&quot;</td><td>&quot;LaLiga&quot;</td><td>&quot;male&quot;</td><td>&quot;adult&quot;</td></tr><tr><td>&quot;ESP - LaLiga - 2017/2018&quot;</td><td>8</td><td>4</td><td>2017</td><td>2018</td><td>&quot;2017/2018&quot;</td><td>4</td><td>&quot;ESP&quot;</td><td>&quot;LaLiga&quot;</td><td>&quot;male&quot;</td><td>&quot;adult&quot;</td></tr><tr><td>&quot;ITA - Serie A - 2016/2017&quot;</td><td>9</td><td>3</td><td>2016</td><td>2017</td><td>&quot;2016/2017&quot;</td><td>5</td><td>&quot;ITA&quot;</td><td>&quot;Serie A&quot;</td><td>&quot;male&quot;</td><td>&quot;adult&quot;</td></tr></tbody></table></div>"
      ],
      "text/plain": [
       "shape: (10, 11)\n",
       "┌────────────┬─────┬───────────┬────────────┬───┬────────────┬────────────┬────────────┬───────────┐\n",
       "│ name       ┆ id  ┆ season_id ┆ season_sta ┆ … ┆ competitio ┆ competitio ┆ competitio ┆ competiti │\n",
       "│ ---        ┆ --- ┆ ---       ┆ rt_year    ┆   ┆ n_area     ┆ n_name     ┆ n_gender   ┆ on_age_gr │\n",
       "│ str        ┆ i64 ┆ i64       ┆ ---        ┆   ┆ ---        ┆ ---        ┆ ---        ┆ oup       │\n",
       "│            ┆     ┆           ┆ i64        ┆   ┆ str        ┆ str        ┆ str        ┆ ---       │\n",
       "│            ┆     ┆           ┆            ┆   ┆            ┆            ┆            ┆ str       │\n",
       "╞════════════╪═════╪═══════════╪════════════╪═══╪════════════╪════════════╪════════════╪═══════════╡\n",
       "│ FIFA -     ┆ 0   ┆ 10        ┆ 2014       ┆ … ┆ FIFA       ┆ World Cup  ┆ male       ┆ adult     │\n",
       "│ World Cup  ┆     ┆           ┆            ┆   ┆            ┆            ┆            ┆           │\n",
       "│ - 2014     ┆     ┆           ┆            ┆   ┆            ┆            ┆            ┆           │\n",
       "│ ENG -      ┆ 1   ┆ 2         ┆ 2015       ┆ … ┆ ENG        ┆ Premier    ┆ male       ┆ adult     │\n",
       "│ Premier    ┆     ┆           ┆            ┆   ┆            ┆ League     ┆            ┆           │\n",
       "│ League -   ┆     ┆           ┆            ┆   ┆            ┆            ┆            ┆           │\n",
       "│ 2015/20…   ┆     ┆           ┆            ┆   ┆            ┆            ┆            ┆           │\n",
       "│ UEFA -     ┆ 2   ┆ 12        ┆ 2016       ┆ … ┆ UEFA       ┆ European   ┆ male       ┆ adult     │\n",
       "│ European   ┆     ┆           ┆            ┆   ┆            ┆ Championsh ┆            ┆           │\n",
       "│ Championsh ┆     ┆           ┆            ┆   ┆            ┆ ip         ┆            ┆           │\n",
       "│ ip -…      ┆     ┆           ┆            ┆   ┆            ┆            ┆            ┆           │\n",
       "│ ENG -      ┆ 3   ┆ 3         ┆ 2016       ┆ … ┆ ENG        ┆ Premier    ┆ male       ┆ adult     │\n",
       "│ Premier    ┆     ┆           ┆            ┆   ┆            ┆ League     ┆            ┆           │\n",
       "│ League -   ┆     ┆           ┆            ┆   ┆            ┆            ┆            ┆           │\n",
       "│ 2016/20…   ┆     ┆           ┆            ┆   ┆            ┆            ┆            ┆           │\n",
       "│ ENG -      ┆ 4   ┆ 4         ┆ 2017       ┆ … ┆ ENG        ┆ Premier    ┆ male       ┆ adult     │\n",
       "│ Premier    ┆     ┆           ┆            ┆   ┆            ┆ League     ┆            ┆           │\n",
       "│ League -   ┆     ┆           ┆            ┆   ┆            ┆            ┆            ┆           │\n",
       "│ 2017/20…   ┆     ┆           ┆            ┆   ┆            ┆            ┆            ┆           │\n",
       "│ FRA -      ┆ 5   ┆ 3         ┆ 2016       ┆ … ┆ FRA        ┆ Ligue 1    ┆ male       ┆ adult     │\n",
       "│ Ligue 1 -  ┆     ┆           ┆            ┆   ┆            ┆            ┆            ┆           │\n",
       "│ 2016/2017  ┆     ┆           ┆            ┆   ┆            ┆            ┆            ┆           │\n",
       "│ FRA -      ┆ 6   ┆ 4         ┆ 2017       ┆ … ┆ FRA        ┆ Ligue 1    ┆ male       ┆ adult     │\n",
       "│ Ligue 1 -  ┆     ┆           ┆            ┆   ┆            ┆            ┆            ┆           │\n",
       "│ 2017/2018  ┆     ┆           ┆            ┆   ┆            ┆            ┆            ┆           │\n",
       "│ ESP -      ┆ 7   ┆ 3         ┆ 2016       ┆ … ┆ ESP        ┆ LaLiga     ┆ male       ┆ adult     │\n",
       "│ LaLiga -   ┆     ┆           ┆            ┆   ┆            ┆            ┆            ┆           │\n",
       "│ 2016/2017  ┆     ┆           ┆            ┆   ┆            ┆            ┆            ┆           │\n",
       "│ ESP -      ┆ 8   ┆ 4         ┆ 2017       ┆ … ┆ ESP        ┆ LaLiga     ┆ male       ┆ adult     │\n",
       "│ LaLiga -   ┆     ┆           ┆            ┆   ┆            ┆            ┆            ┆           │\n",
       "│ 2017/2018  ┆     ┆           ┆            ┆   ┆            ┆            ┆            ┆           │\n",
       "│ ITA -      ┆ 9   ┆ 3         ┆ 2016       ┆ … ┆ ITA        ┆ Serie A    ┆ male       ┆ adult     │\n",
       "│ Serie A -  ┆     ┆           ┆            ┆   ┆            ┆            ┆            ┆           │\n",
       "│ 2016/2017  ┆     ┆           ┆            ┆   ┆            ┆            ┆            ┆           │\n",
       "└────────────┴─────┴───────────┴────────────┴───┴────────────┴────────────┴────────────┴───────────┘"
      ]
     },
     "execution_count": 7,
     "metadata": {},
     "output_type": "execute_result"
    }
   ],
   "source": [
    "ce = pl.concat([\n",
    "    ce_name_id,\n",
    "    ce_season,\n",
    "    ce_competition\n",
    "],\n",
    "how = \"horizontal\",)\n",
    "ce.head(10)"
   ]
  },
  {
   "cell_type": "markdown",
   "metadata": {},
   "source": [
    "reading json player file- test on 1 file\n"
   ]
  },
  {
   "cell_type": "code",
   "execution_count": 8,
   "metadata": {},
   "outputs": [],
   "source": [
    "position_json_testpath = './skillcorner-20250214/metrics-ce249-rAM.json'\n",
    "\n",
    "position_test_df = pl.read_json(position_json_testpath)"
   ]
  },
  {
   "cell_type": "code",
   "execution_count": 9,
   "metadata": {},
   "outputs": [
    {
     "data": {
      "text/plain": [
       "['Sprinting Distance TIP',\n",
       " 'Count HSR TIP 1',\n",
       " 'Count Medium Deceleration 1',\n",
       " 'HSR Distance 1',\n",
       " 'Sprinting Distance TIP 2',\n",
       " 'Count Sprint 1',\n",
       " 'Count High Deceleration TIP',\n",
       " 'Minutes 2',\n",
       " 'Count High Deceleration OTIP',\n",
       " 'Minutes OTIP 2',\n",
       " 'Count Sprint OTIP 2',\n",
       " 'Running Distance 1',\n",
       " 'Count High Deceleration 1',\n",
       " 'competition_edition_id',\n",
       " 'Count High Deceleration 2',\n",
       " 'Count High Acceleration TIP 2',\n",
       " 'Minutes',\n",
       " 'HSR Distance',\n",
       " 'Count High Acceleration',\n",
       " 'Distance',\n",
       " 'team_id',\n",
       " 'Sprinting Distance TIP 1',\n",
       " 'Count Medium Deceleration TIP 2',\n",
       " 'HSR Distance OTIP',\n",
       " 'Minutes TIP',\n",
       " 'Running Distance OTIP 1',\n",
       " 'short_name',\n",
       " 'season_name',\n",
       " 'Distance 2',\n",
       " 'Count Medium Acceleration 2',\n",
       " 'Count Medium Deceleration TIP 1',\n",
       " 'player_id',\n",
       " 'Sprinting Distance',\n",
       " 'Count HSR OTIP',\n",
       " 'Count High Acceleration OTIP 2',\n",
       " 'date',\n",
       " 'Count High Deceleration TIP 2',\n",
       " 'Minutes OTIP 1',\n",
       " 'Count HSR TIP 2',\n",
       " 'HSR Distance OTIP 2',\n",
       " 'HSR Distance OTIP 1',\n",
       " 'Count HSR',\n",
       " 'Count Medium Deceleration OTIP 2',\n",
       " 'Running Distance',\n",
       " 'Count Medium Acceleration TIP 2',\n",
       " 'match_name',\n",
       " 'team',\n",
       " 'Count Sprint TIP 1',\n",
       " 'Distance TIP 2',\n",
       " 'Count High Deceleration OTIP 1',\n",
       " 'Distance TIP 1',\n",
       " 'HSR Distance TIP 1',\n",
       " 'Running Distance TIP 1',\n",
       " 'quality_check',\n",
       " 'Count Medium Acceleration',\n",
       " 'Minutes TIP 2',\n",
       " 'Count High Deceleration TIP 1',\n",
       " 'Count High Acceleration 2',\n",
       " 'Count Medium Acceleration TIP',\n",
       " 'Count HSR 1',\n",
       " 'Count HSR OTIP 1',\n",
       " 'Count Medium Deceleration',\n",
       " 'Minutes OTIP',\n",
       " 'Minutes 1',\n",
       " 'Running Distance TIP',\n",
       " 'Count Medium Acceleration OTIP',\n",
       " 'Count Medium Deceleration OTIP',\n",
       " 'Count High Acceleration OTIP 1',\n",
       " 'PSV-99',\n",
       " 'Running Distance OTIP',\n",
       " 'Count Medium Deceleration TIP',\n",
       " 'Count Sprint OTIP 1',\n",
       " 'Count High Acceleration TIP 1',\n",
       " 'Distance OTIP 2',\n",
       " 'Sprinting Distance 2',\n",
       " 'Count High Acceleration OTIP',\n",
       " 'competition_id',\n",
       " 'team_name',\n",
       " 'Count High Deceleration',\n",
       " 'Count Medium Deceleration OTIP 1',\n",
       " 'Count Sprint OTIP',\n",
       " 'Count HSR 2',\n",
       " 'Running Distance TIP 2',\n",
       " 'HSR Distance TIP',\n",
       " 'HSR Distance 2',\n",
       " 'Count Sprint 2',\n",
       " 'Distance OTIP 1',\n",
       " 'Running Distance OTIP 2',\n",
       " 'Count Medium Acceleration TIP 1',\n",
       " 'Sprinting Distance 1',\n",
       " 'Count HSR OTIP 2',\n",
       " 'season_id',\n",
       " 'Count Sprint TIP',\n",
       " 'position',\n",
       " 'Count High Acceleration TIP',\n",
       " 'player_name',\n",
       " 'HSR Distance TIP 2',\n",
       " 'Count Medium Acceleration 1',\n",
       " 'Distance OTIP',\n",
       " 'group',\n",
       " 'player_birthdate',\n",
       " 'Distance 1',\n",
       " 'Count High Acceleration 1',\n",
       " 'Count HSR TIP',\n",
       " 'Count Sprint',\n",
       " 'Count Medium Deceleration 2',\n",
       " 'Sprinting Distance OTIP 2',\n",
       " 'Sprinting Distance OTIP 1',\n",
       " 'Count High Deceleration OTIP 2',\n",
       " 'Count Medium Acceleration OTIP 1',\n",
       " 'Minutes TIP 1',\n",
       " 'match_id',\n",
       " 'Running Distance 2',\n",
       " 'Count Sprint TIP 2',\n",
       " 'Count Medium Acceleration OTIP 2',\n",
       " 'Sprinting Distance OTIP',\n",
       " 'Distance TIP']"
      ]
     },
     "execution_count": 9,
     "metadata": {},
     "output_type": "execute_result"
    }
   ],
   "source": [
    "position_test_df.columns\n",
    "#position_test_df.head(10)"
   ]
  },
  {
   "cell_type": "code",
   "execution_count": 10,
   "metadata": {},
   "outputs": [],
   "source": [
    "#define the path to the entire directory\n",
    "json_dir_path = './skillcorner-20250214/'"
   ]
  },
  {
   "cell_type": "markdown",
   "metadata": {},
   "source": [
    "### Look at correlations between parameters\n",
    "Looking at the correlations across all competitions across all positions to see if we can leave out certain parameters"
   ]
  },
  {
   "cell_type": "code",
   "execution_count": 11,
   "metadata": {},
   "outputs": [],
   "source": [
    "json_list = os.listdir(json_dir_path)\n",
    "#json_list"
   ]
  },
  {
   "cell_type": "code",
   "execution_count": 12,
   "metadata": {},
   "outputs": [
    {
     "data": {
      "text/plain": [
       "'dfs = []\\nfor jsonf in json_list:\\n    json_path = f\"{json_dir_path}{jsonf}\"\\n    dfs.append(pl.read_json(json_path))\\n\\ncorr_df = pl.concat(dfs, how=\"align_full\")'"
      ]
     },
     "execution_count": 12,
     "metadata": {},
     "output_type": "execute_result"
    }
   ],
   "source": [
    "\"\"\"dfs = []\n",
    "for jsonf in json_list:\n",
    "    json_path = f\"{json_dir_path}{jsonf}\"\n",
    "    dfs.append(pl.read_json(json_path))\n",
    "\n",
    "corr_df = pl.concat(dfs, how=\"align_full\")\"\"\""
   ]
  },
  {
   "cell_type": "code",
   "execution_count": 13,
   "metadata": {},
   "outputs": [
    {
     "name": "stderr",
     "output_type": "stream",
     "text": [
      "100%|██████████| 1652/1652 [00:26<00:00, 62.84it/s] \n"
     ]
    },
    {
     "data": {
      "text/plain": [
       "'\\noutput_path = \"json_output.csv\"\\ncorr_df.write_csv(output_path)'"
      ]
     },
     "execution_count": 13,
     "metadata": {},
     "output_type": "execute_result"
    }
   ],
   "source": [
    "#loop through the json files and concat them into one big df\n",
    "\n",
    "# creating an empty data frame to concat the json dataframes to\n",
    "read_json_list = []\n",
    "\n",
    "for jsonf in tqdm(json_list):\n",
    "    json_path = f\"{json_dir_path}{jsonf}\"\n",
    "    json_df = pl.read_json(json_path)\n",
    "\n",
    "    read_json_list.append(json_df)\n",
    "\n",
    "corr_df = pl.concat(read_json_list)\n",
    "\n",
    "\n",
    "corr_df.shape\n",
    "#corr_df.head(2)\n",
    "\"\"\"\n",
    "output_path = \"json_output.csv\"\n",
    "corr_df.write_csv(output_path)\"\"\""
   ]
  },
  {
   "cell_type": "code",
   "execution_count": 14,
   "metadata": {},
   "outputs": [
    {
     "data": {
      "text/html": [
       "<div><style>\n",
       ".dataframe > thead > tr,\n",
       ".dataframe > tbody > tr {\n",
       "  text-align: right;\n",
       "  white-space: pre-wrap;\n",
       "}\n",
       "</style>\n",
       "<small>shape: (5, 117)</small><table border=\"1\" class=\"dataframe\"><thead><tr><th>Sprinting Distance TIP</th><th>Count HSR TIP 1</th><th>Count Medium Deceleration 1</th><th>HSR Distance 1</th><th>Sprinting Distance TIP 2</th><th>Count Sprint 1</th><th>Count High Deceleration TIP</th><th>Minutes 2</th><th>Count High Deceleration OTIP</th><th>Minutes OTIP 2</th><th>Count Sprint OTIP 2</th><th>Running Distance 1</th><th>Count High Deceleration 1</th><th>competition_edition_id</th><th>Count High Deceleration 2</th><th>Count High Acceleration TIP 2</th><th>Minutes</th><th>HSR Distance</th><th>Count High Acceleration</th><th>Distance</th><th>team_id</th><th>Sprinting Distance TIP 1</th><th>Count Medium Deceleration TIP 2</th><th>HSR Distance OTIP</th><th>Minutes TIP</th><th>Running Distance OTIP 1</th><th>short_name</th><th>season_name</th><th>Distance 2</th><th>Count Medium Acceleration 2</th><th>Count Medium Deceleration TIP 1</th><th>player_id</th><th>Sprinting Distance</th><th>Count HSR OTIP</th><th>Count High Acceleration OTIP 2</th><th>date</th><th>Count High Deceleration TIP 2</th><th>Minutes OTIP 1</th><th>Count HSR TIP 2</th><th>HSR Distance OTIP 2</th><th>HSR Distance OTIP 1</th><th>Count HSR</th><th>Count Medium Deceleration OTIP 2</th><th>Running Distance</th><th>Count Medium Acceleration TIP 2</th><th>match_name</th><th>team</th><th>Count Sprint TIP 1</th><th>Distance TIP 2</th><th>Count High Deceleration OTIP 1</th><th>Distance TIP 1</th><th>HSR Distance TIP 1</th><th>Running Distance TIP 1</th><th>quality_check</th><th>Count Medium Acceleration</th><th>Minutes TIP 2</th><th>Count High Deceleration TIP 1</th><th>Count High Acceleration 2</th><th>Count Medium Acceleration TIP</th><th>Count HSR 1</th><th>Count HSR OTIP 1</th><th>Count Medium Deceleration</th><th>Minutes OTIP</th><th>Minutes 1</th><th>Running Distance TIP</th><th>Count Medium Acceleration OTIP</th><th>Count Medium Deceleration OTIP</th><th>Count High Acceleration OTIP 1</th><th>PSV-99</th><th>Running Distance OTIP</th><th>Count Medium Deceleration TIP</th><th>Count Sprint OTIP 1</th><th>Count High Acceleration TIP 1</th><th>Distance OTIP 2</th><th>Sprinting Distance 2</th><th>Count High Acceleration OTIP</th><th>competition_id</th><th>team_name</th><th>Count High Deceleration</th><th>Count Medium Deceleration OTIP 1</th><th>Count Sprint OTIP</th><th>Count HSR 2</th><th>Running Distance TIP 2</th><th>HSR Distance TIP</th><th>HSR Distance 2</th><th>Count Sprint 2</th><th>Distance OTIP 1</th><th>Running Distance OTIP 2</th><th>Count Medium Acceleration TIP 1</th><th>Sprinting Distance 1</th><th>Count HSR OTIP 2</th><th>season_id</th><th>Count Sprint TIP</th><th>position</th><th>Count High Acceleration TIP</th><th>player_name</th><th>HSR Distance TIP 2</th><th>Count Medium Acceleration 1</th><th>Distance OTIP</th><th>group</th><th>player_birthdate</th><th>Distance 1</th><th>Count High Acceleration 1</th><th>Count HSR TIP</th><th>Count Sprint</th><th>Count Medium Deceleration 2</th><th>Sprinting Distance OTIP 2</th><th>Sprinting Distance OTIP 1</th><th>Count High Deceleration OTIP 2</th><th>Count Medium Acceleration OTIP 1</th><th>Minutes TIP 1</th><th>match_id</th><th>Running Distance 2</th><th>Count Sprint TIP 2</th><th>Count Medium Acceleration OTIP 2</th><th>Sprinting Distance OTIP</th><th>Distance TIP</th></tr><tr><td>i64</td><td>i64</td><td>i64</td><td>i64</td><td>i64</td><td>i64</td><td>i64</td><td>f64</td><td>i64</td><td>f64</td><td>i64</td><td>i64</td><td>i64</td><td>i64</td><td>i64</td><td>i64</td><td>f64</td><td>i64</td><td>i64</td><td>i64</td><td>i64</td><td>i64</td><td>i64</td><td>i64</td><td>f64</td><td>i64</td><td>str</td><td>str</td><td>i64</td><td>i64</td><td>i64</td><td>i64</td><td>i64</td><td>i64</td><td>i64</td><td>str</td><td>i64</td><td>f64</td><td>i64</td><td>i64</td><td>i64</td><td>i64</td><td>i64</td><td>i64</td><td>i64</td><td>str</td><td>str</td><td>i64</td><td>i64</td><td>i64</td><td>i64</td><td>i64</td><td>i64</td><td>bool</td><td>i64</td><td>f64</td><td>i64</td><td>i64</td><td>i64</td><td>i64</td><td>i64</td><td>i64</td><td>f64</td><td>f64</td><td>i64</td><td>i64</td><td>i64</td><td>i64</td><td>f64</td><td>i64</td><td>i64</td><td>i64</td><td>i64</td><td>i64</td><td>i64</td><td>i64</td><td>i64</td><td>str</td><td>i64</td><td>i64</td><td>i64</td><td>i64</td><td>i64</td><td>i64</td><td>i64</td><td>i64</td><td>i64</td><td>i64</td><td>i64</td><td>i64</td><td>i64</td><td>i64</td><td>i64</td><td>str</td><td>i64</td><td>str</td><td>i64</td><td>i64</td><td>i64</td><td>str</td><td>str</td><td>i64</td><td>i64</td><td>i64</td><td>i64</td><td>i64</td><td>i64</td><td>i64</td><td>i64</td><td>i64</td><td>f64</td><td>i64</td><td>i64</td><td>i64</td><td>i64</td><td>i64</td><td>i64</td></tr></thead><tbody><tr><td>30</td><td>13</td><td>42</td><td>387</td><td>19</td><td>3</td><td>3</td><td>49.48</td><td>4</td><td>17.3</td><td>1</td><td>1354</td><td>8</td><td>249</td><td>3</td><td>0</td><td>96.63</td><td>745</td><td>4</td><td>13026</td><td>462</td><td>11</td><td>9</td><td>443</td><td>24.21</td><td>842</td><td>&quot;P. Gerkens&quot;</td><td>&quot;2021/2022&quot;</td><td>6216</td><td>48</td><td>8</td><td>8701</td><td>148</td><td>34</td><td>0</td><td>&quot;2021-07-25&quot;</td><td>1</td><td>18.27</td><td>6</td><td>218</td><td>225</td><td>59</td><td>17</td><td>2415</td><td>10</td><td>&quot;KV Mechelen v Royal Antwerp FC&quot;</td><td>&quot;Royal Antwerp FC&quot;</td><td>1</td><td>1558</td><td>3</td><td>1874</td><td>139</td><td>369</td><td>true</td><td>100</td><td>11.08</td><td>2</td><td>1</td><td>22</td><td>33</td><td>17</td><td>89</td><td>35.57</td><td>47.15</td><td>661</td><td>47</td><td>34</td><td>0</td><td>25.7</td><td>1504</td><td>17</td><td>1</td><td>0</td><td>2744</td><td>56</td><td>0</td><td>16</td><td>&quot;Royal Antwerp FC&quot;</td><td>11</td><td>17</td><td>2</td><td>26</td><td>292</td><td>260</td><td>358</td><td>2</td><td>2983</td><td>662</td><td>12</td><td>92</td><td>17</td><td>8</td><td>2</td><td>&quot;AM&quot;</td><td>0</td><td>&quot;Pieter Gerkens&quot;</td><td>121</td><td>52</td><td>5727</td><td>&quot;Midfield&quot;</td><td>&quot;1995-02-17&quot;</td><td>6810</td><td>3</td><td>19</td><td>5</td><td>47</td><td>18</td><td>27</td><td>1</td><td>24</td><td>13.13</td><td>44999</td><td>1061</td><td>1</td><td>23</td><td>45</td><td>3432</td></tr><tr><td>136</td><td>9</td><td>31</td><td>201</td><td>119</td><td>3</td><td>2</td><td>50.07</td><td>1</td><td>15.07</td><td>0</td><td>489</td><td>5</td><td>249</td><td>3</td><td>1</td><td>96.19</td><td>476</td><td>5</td><td>9969</td><td>27</td><td>17</td><td>11</td><td>167</td><td>25.52</td><td>178</td><td>&quot;X. Mercier&quot;</td><td>&quot;2021/2022&quot;</td><td>5127</td><td>41</td><td>9</td><td>10932</td><td>202</td><td>17</td><td>1</td><td>&quot;2021-07-24&quot;</td><td>1</td><td>14.52</td><td>11</td><td>63</td><td>104</td><td>39</td><td>14</td><td>1101</td><td>14</td><td>&quot;Oud-Heverlee Leuven v SV Zulte…</td><td>&quot;Oud-Heverlee Leuven&quot;</td><td>1</td><td>1775</td><td>1</td><td>1660</td><td>81</td><td>267</td><td>true</td><td>77</td><td>12.32</td><td>1</td><td>2</td><td>25</td><td>20</td><td>10</td><td>77</td><td>29.59</td><td>46.12</td><td>610</td><td>32</td><td>25</td><td>0</td><td>28.3</td><td>402</td><td>20</td><td>1</td><td>1</td><td>1739</td><td>154</td><td>1</td><td>16</td><td>&quot;Oud-Heverlee Leuven&quot;</td><td>8</td><td>11</td><td>1</td><td>19</td><td>343</td><td>265</td><td>275</td><td>5</td><td>1795</td><td>224</td><td>11</td><td>48</td><td>7</td><td>8</td><td>4</td><td>&quot;AM&quot;</td><td>2</td><td>&quot;Xavier Mercier&quot;</td><td>184</td><td>36</td><td>3534</td><td>&quot;Midfield&quot;</td><td>&quot;1989-07-25&quot;</td><td>4842</td><td>3</td><td>20</td><td>8</td><td>46</td><td>0</td><td>24</td><td>0</td><td>15</td><td>13.2</td><td>45002</td><td>612</td><td>3</td><td>17</td><td>24</td><td>3435</td></tr><tr><td>26</td><td>13</td><td>57</td><td>292</td><td>0</td><td>4</td><td>2</td><td>24.95</td><td>3</td><td>6.57</td><td>1</td><td>714</td><td>7</td><td>249</td><td>4</td><td>1</td><td>71.07</td><td>421</td><td>3</td><td>8709</td><td>8</td><td>26</td><td>11</td><td>167</td><td>22.45</td><td>253</td><td>&quot;O. Govea&quot;</td><td>&quot;2021/2022&quot;</td><td>3089</td><td>25</td><td>22</td><td>14625</td><td>105</td><td>14</td><td>1</td><td>&quot;2021-07-24&quot;</td><td>1</td><td>13.2</td><td>5</td><td>78</td><td>89</td><td>34</td><td>5</td><td>1241</td><td>8</td><td>&quot;Oud-Heverlee Leuven v SV Zulte…</td><td>&quot;SV Zulte-Waregem&quot;</td><td>2</td><td>1278</td><td>2</td><td>2289</td><td>171</td><td>427</td><td>true</td><td>64</td><td>7.93</td><td>1</td><td>2</td><td>26</td><td>21</td><td>7</td><td>82</td><td>19.77</td><td>46.12</td><td>724</td><td>23</td><td>18</td><td>1</td><td>26.4</td><td>425</td><td>33</td><td>1</td><td>0</td><td>938</td><td>10</td><td>2</td><td>16</td><td>&quot;SV Zulte-Waregem&quot;</td><td>11</td><td>13</td><td>2</td><td>13</td><td>297</td><td>222</td><td>129</td><td>1</td><td>1938</td><td>172</td><td>18</td><td>95</td><td>7</td><td>8</td><td>2</td><td>&quot;AM&quot;</td><td>1</td><td>&quot;Omar Nicolás Govea García&quot;</td><td>51</td><td>39</td><td>2876</td><td>&quot;Midfield&quot;</td><td>&quot;1996-01-18&quot;</td><td>5620</td><td>1</td><td>18</td><td>5</td><td>25</td><td>7</td><td>29</td><td>1</td><td>17</td><td>14.52</td><td>45002</td><td>527</td><td>0</td><td>6</td><td>36</td><td>3567</td></tr><tr><td>132</td><td>13</td><td>44</td><td>284</td><td>88</td><td>6</td><td>3</td><td>28.03</td><td>5</td><td>8.48</td><td>1</td><td>680</td><td>9</td><td>249</td><td>6</td><td>1</td><td>74.15</td><td>594</td><td>1</td><td>8976</td><td>27</td><td>44</td><td>5</td><td>224</td><td>20.35</td><td>301</td><td>&quot;S. Schrijvers&quot;</td><td>&quot;2021/2022&quot;</td><td>3566</td><td>27</td><td>13</td><td>9835</td><td>207</td><td>20</td><td>0</td><td>&quot;2021-07-24&quot;</td><td>1</td><td>14.52</td><td>12</td><td>110</td><td>114</td><td>50</td><td>8</td><td>1234</td><td>8</td><td>&quot;Oud-Heverlee Leuven v SV Zulte…</td><td>&quot;Oud-Heverlee Leuven&quot;</td><td>4</td><td>1242</td><td>2</td><td>1883</td><td>144</td><td>327</td><td>true</td><td>64</td><td>7.15</td><td>2</td><td>1</td><td>21</td><td>25</td><td>11</td><td>70</td><td>23.0</td><td>46.12</td><td>603</td><td>26</td><td>21</td><td>0</td><td>27.4</td><td>536</td><td>18</td><td>1</td><td>0</td><td>1326</td><td>131</td><td>0</td><td>16</td><td>&quot;Oud-Heverlee Leuven&quot;</td><td>15</td><td>13</td><td>2</td><td>25</td><td>276</td><td>337</td><td>310</td><td>6</td><td>2025</td><td>235</td><td>13</td><td>76</td><td>9</td><td>8</td><td>8</td><td>&quot;AM&quot;</td><td>1</td><td>&quot;Siebe Schrijvers&quot;</td><td>193</td><td>37</td><td>3351</td><td>&quot;Midfield&quot;</td><td>&quot;1996-07-18&quot;</td><td>5410</td><td>0</td><td>25</td><td>12</td><td>26</td><td>20</td><td>7</td><td>3</td><td>17</td><td>13.2</td><td>45002</td><td>554</td><td>4</td><td>9</td><td>27</td><td>3125</td></tr><tr><td>36</td><td>13</td><td>44</td><td>253</td><td>0</td><td>4</td><td>1</td><td>60.17</td><td>3</td><td>19.18</td><td>1</td><td>943</td><td>6</td><td>249</td><td>2</td><td>0</td><td>110.42</td><td>334</td><td>2</td><td>11626</td><td>26</td><td>36</td><td>10</td><td>174</td><td>28.66</td><td>468</td><td>&quot;S. Peeters&quot;</td><td>&quot;2021/2022&quot;</td><td>5369</td><td>39</td><td>13</td><td>11595</td><td>60</td><td>17</td><td>0</td><td>&quot;2021-07-25&quot;</td><td>0</td><td>18.05</td><td>4</td><td>62</td><td>112</td><td>35</td><td>19</td><td>1405</td><td>11</td><td>&quot;Club Brugge KV v KAS Eupen&quot;</td><td>&quot;KAS Eupen&quot;</td><td>2</td><td>1397</td><td>2</td><td>2340</td><td>140</td><td>461</td><td>true</td><td>86</td><td>12.98</td><td>1</td><td>0</td><td>29</td><td>23</td><td>9</td><td>85</td><td>37.23</td><td>50.25</td><td>603</td><td>47</td><td>37</td><td>1</td><td>25.5</td><td>788</td><td>23</td><td>1</td><td>1</td><td>2252</td><td>4</td><td>1</td><td>16</td><td>&quot;KAS Eupen&quot;</td><td>8</td><td>18</td><td>2</td><td>12</td><td>142</td><td>159</td><td>81</td><td>1</td><td>2650</td><td>320</td><td>18</td><td>56</td><td>8</td><td>8</td><td>2</td><td>&quot;AM&quot;</td><td>1</td><td>&quot;Stef Peeters&quot;</td><td>19</td><td>47</td><td>4902</td><td>&quot;Midfield&quot;</td><td>&quot;1992-02-09&quot;</td><td>6257</td><td>2</td><td>17</td><td>5</td><td>41</td><td>4</td><td>20</td><td>1</td><td>21</td><td>15.68</td><td>44998</td><td>462</td><td>0</td><td>26</td><td>24</td><td>3737</td></tr></tbody></table></div>"
      ],
      "text/plain": [
       "shape: (5, 117)\n",
       "┌─────┬─────┬─────┬─────┬─────┬─────┬─────┬─────┬─────┬─────┬─────┬─────┬─────┬─────┬─────┬─────┬─────┬─────┬─────┬─────┬─────┬─────┬─────┬─────┬─────┬─────┬─────┬─────┬─────┬─────┬─────┬─────┬─────┬─────┬─────┬─────┬─────┬─────┬─────┬─────┬─────┬─────┬─────┬─────┬─────┬─────┬─────┬─────┬─────┬─────┬─────┬─────┬─────┬─────┬─────┬─────┬─────┬─────┬─────┬─────┬─────┬─────┬─────┬─────┬─────┬─────┬─────┬─────┬─────┬─────┬─────┬─────┬─────┬─────┬─────┬─────┬─────┬─────┬─────┬─────┬─────┬─────┬─────┬─────┬─────┬─────┬─────┬─────┬─────┬─────┬─────┬─────┬─────┬─────┬─────┬─────┬─────┬─────┬─────┬─────┬─────┬─────┬─────┬─────┬─────┬─────┬─────┬─────┬─────┬─────┬─────┬─────┬─────┬─────┬─────┬─────┬─────┐\n",
       "│ Spr ┆ Cou ┆ Cou ┆ HSR ┆ Spr ┆ Cou ┆ Cou ┆ Min ┆ Cou ┆ Min ┆ Cou ┆ Run ┆ Cou ┆ com ┆ Cou ┆ Cou ┆ Min ┆ HSR ┆ Cou ┆ Dis ┆ tea ┆ Spr ┆ Cou ┆ HSR ┆ Min ┆ Run ┆ sho ┆ sea ┆ Dis ┆ Cou ┆ Cou ┆ pla ┆ Spr ┆ Cou ┆ Cou ┆ dat ┆ Cou ┆ Min ┆ Cou ┆ HSR ┆ HSR ┆ Cou ┆ Cou ┆ Run ┆ Cou ┆ mat ┆ tea ┆ Cou ┆ Dis ┆ Cou ┆ Dis ┆ HSR ┆ Run ┆ qua ┆ Cou ┆ Min ┆ Cou ┆ Cou ┆ Cou ┆ Cou ┆ Cou ┆ Cou ┆ Min ┆ Min ┆ Run ┆ Cou ┆ Cou ┆ Cou ┆ PSV ┆ Run ┆ Cou ┆ Cou ┆ Cou ┆ Dis ┆ Spr ┆ Cou ┆ com ┆ tea ┆ Cou ┆ Cou ┆ Cou ┆ Cou ┆ Run ┆ HSR ┆ HSR ┆ Cou ┆ Dis ┆ Run ┆ Cou ┆ Spr ┆ Cou ┆ sea ┆ Cou ┆ pos ┆ Cou ┆ pla ┆ HSR ┆ Cou ┆ Dis ┆ gro ┆ pla ┆ Dis ┆ Cou ┆ Cou ┆ Cou ┆ Cou ┆ Spr ┆ Spr ┆ Cou ┆ Cou ┆ Min ┆ mat ┆ Run ┆ Cou ┆ Cou ┆ Spr ┆ Dis │\n",
       "│ int ┆ nt  ┆ nt  ┆ Dis ┆ int ┆ nt  ┆ nt  ┆ ute ┆ nt  ┆ ute ┆ nt  ┆ nin ┆ nt  ┆ pet ┆ nt  ┆ nt  ┆ ute ┆ Dis ┆ nt  ┆ tan ┆ m_i ┆ int ┆ nt  ┆ Dis ┆ ute ┆ nin ┆ rt_ ┆ son ┆ tan ┆ nt  ┆ nt  ┆ yer ┆ int ┆ nt  ┆ nt  ┆ e   ┆ nt  ┆ ute ┆ nt  ┆ Dis ┆ Dis ┆ nt  ┆ nt  ┆ nin ┆ nt  ┆ ch_ ┆ m   ┆ nt  ┆ tan ┆ nt  ┆ tan ┆ Dis ┆ nin ┆ lit ┆ nt  ┆ ute ┆ nt  ┆ nt  ┆ nt  ┆ nt  ┆ nt  ┆ nt  ┆ ute ┆ ute ┆ nin ┆ nt  ┆ nt  ┆ nt  ┆ -99 ┆ nin ┆ nt  ┆ nt  ┆ nt  ┆ tan ┆ int ┆ nt  ┆ pet ┆ m_n ┆ nt  ┆ nt  ┆ nt  ┆ nt  ┆ nin ┆ Dis ┆ Dis ┆ nt  ┆ tan ┆ nin ┆ nt  ┆ int ┆ nt  ┆ son ┆ nt  ┆ iti ┆ nt  ┆ yer ┆ Dis ┆ nt  ┆ tan ┆ up  ┆ yer ┆ tan ┆ nt  ┆ nt  ┆ nt  ┆ nt  ┆ int ┆ int ┆ nt  ┆ nt  ┆ ute ┆ ch_ ┆ nin ┆ nt  ┆ nt  ┆ int ┆ tan │\n",
       "│ ing ┆ HSR ┆ Med ┆ tan ┆ ing ┆ Spr ┆ Hig ┆ s 2 ┆ Hig ┆ s   ┆ Spr ┆ g   ┆ Hig ┆ iti ┆ Hig ┆ Hig ┆ s   ┆ tan ┆ Hig ┆ ce  ┆ d   ┆ ing ┆ Med ┆ tan ┆ s   ┆ g   ┆ nam ┆ _na ┆ ce  ┆ Med ┆ Med ┆ _id ┆ ing ┆ HSR ┆ Hig ┆ --- ┆ Hig ┆ s   ┆ HSR ┆ tan ┆ tan ┆ HSR ┆ Med ┆ g   ┆ Med ┆ nam ┆ --- ┆ Spr ┆ ce  ┆ Hig ┆ ce  ┆ tan ┆ g   ┆ y_c ┆ Med ┆ s   ┆ Hig ┆ Hig ┆ Med ┆ HSR ┆ HSR ┆ Med ┆ s   ┆ s 1 ┆ g   ┆ Med ┆ Med ┆ Hig ┆ --- ┆ g   ┆ Med ┆ Spr ┆ Hig ┆ ce  ┆ ing ┆ Hig ┆ iti ┆ ame ┆ Hig ┆ Med ┆ Spr ┆ HSR ┆ g   ┆ tan ┆ tan ┆ Spr ┆ ce  ┆ g   ┆ Med ┆ ing ┆ HSR ┆ _id ┆ Spr ┆ on  ┆ Hig ┆ _na ┆ tan ┆ Med ┆ ce  ┆ --- ┆ _bi ┆ ce  ┆ Hig ┆ HSR ┆ Spr ┆ Med ┆ ing ┆ ing ┆ Hig ┆ Med ┆ s   ┆ id  ┆ g   ┆ Spr ┆ Med ┆ ing ┆ ce  │\n",
       "│ Dis ┆ TIP ┆ ium ┆ ce  ┆ Dis ┆ int ┆ h   ┆ --- ┆ h   ┆ OTI ┆ int ┆ Dis ┆ h   ┆ on_ ┆ h   ┆ h   ┆ --- ┆ ce  ┆ h   ┆ --- ┆ --- ┆ Dis ┆ ium ┆ ce  ┆ TIP ┆ Dis ┆ e   ┆ me  ┆ 2   ┆ ium ┆ ium ┆ --- ┆ Dis ┆ OTI ┆ h   ┆ str ┆ h   ┆ OTI ┆ TIP ┆ ce  ┆ ce  ┆ --- ┆ ium ┆ Dis ┆ ium ┆ e   ┆ str ┆ int ┆ TIP ┆ h   ┆ TIP ┆ ce  ┆ Dis ┆ hec ┆ ium ┆ TIP ┆ h   ┆ h   ┆ ium ┆ 1   ┆ OTI ┆ ium ┆ OTI ┆ --- ┆ Dis ┆ ium ┆ ium ┆ h   ┆ f64 ┆ Dis ┆ ium ┆ int ┆ h   ┆ OTI ┆ Dis ┆ h   ┆ on_ ┆ --- ┆ h   ┆ ium ┆ int ┆ 2   ┆ Dis ┆ ce  ┆ ce  ┆ int ┆ OTI ┆ Dis ┆ ium ┆ Dis ┆ OTI ┆ --- ┆ int ┆ --- ┆ h   ┆ me  ┆ ce  ┆ ium ┆ OTI ┆ str ┆ rth ┆ 1   ┆ h   ┆ TIP ┆ int ┆ ium ┆ Dis ┆ Dis ┆ h   ┆ ium ┆ TIP ┆ --- ┆ Dis ┆ int ┆ ium ┆ Dis ┆ TIP │\n",
       "│ tan ┆ 1   ┆ Dec ┆ 1   ┆ tan ┆ 1   ┆ Dec ┆ f64 ┆ Dec ┆ P 2 ┆ OTI ┆ tan ┆ Dec ┆ edi ┆ Dec ┆ Acc ┆ f64 ┆ --- ┆ Acc ┆ i64 ┆ i64 ┆ tan ┆ Dec ┆ OTI ┆ --- ┆ tan ┆ --- ┆ --- ┆ --- ┆ Acc ┆ Dec ┆ i64 ┆ tan ┆ P   ┆ Acc ┆     ┆ Dec ┆ P 1 ┆ 2   ┆ OTI ┆ OTI ┆ i64 ┆ Dec ┆ tan ┆ Acc ┆ --- ┆     ┆ TIP ┆ 2   ┆ Dec ┆ 1   ┆ TIP ┆ tan ┆ k   ┆ Acc ┆ 2   ┆ Dec ┆ Acc ┆ Acc ┆ --- ┆ P 1 ┆ Dec ┆ P   ┆ f64 ┆ tan ┆ Acc ┆ Dec ┆ Acc ┆     ┆ tan ┆ Dec ┆ OTI ┆ Acc ┆ P 2 ┆ tan ┆ Acc ┆ id  ┆ str ┆ Dec ┆ Dec ┆ OTI ┆ --- ┆ tan ┆ TIP ┆ 2   ┆ 2   ┆ P 1 ┆ tan ┆ Acc ┆ tan ┆ P 2 ┆ i64 ┆ TIP ┆ str ┆ Acc ┆ --- ┆ TIP ┆ Acc ┆ P   ┆     ┆ dat ┆ --- ┆ Acc ┆ --- ┆ --- ┆ Dec ┆ tan ┆ tan ┆ Dec ┆ Acc ┆ 1   ┆ i64 ┆ tan ┆ TIP ┆ Acc ┆ tan ┆ --- │\n",
       "│ ce  ┆ --- ┆ ele ┆ --- ┆ ce  ┆ --- ┆ ele ┆     ┆ ele ┆ --- ┆ P 2 ┆ ce  ┆ ele ┆ tio ┆ ele ┆ ele ┆     ┆ i64 ┆ ele ┆     ┆     ┆ ce  ┆ ele ┆ P   ┆ f64 ┆ ce  ┆ str ┆ str ┆ i64 ┆ ele ┆ ele ┆     ┆ ce  ┆ --- ┆ ele ┆     ┆ ele ┆ --- ┆ --- ┆ P 2 ┆ P 1 ┆     ┆ ele ┆ ce  ┆ ele ┆ str ┆     ┆ 1   ┆ --- ┆ ele ┆ --- ┆ 1   ┆ ce  ┆ --- ┆ ele ┆ --- ┆ ele ┆ ele ┆ ele ┆ i64 ┆ --- ┆ ele ┆ --- ┆     ┆ ce  ┆ ele ┆ ele ┆ ele ┆     ┆ ce  ┆ ele ┆ P 1 ┆ ele ┆ --- ┆ ce  ┆ ele ┆ --- ┆     ┆ ele ┆ ele ┆ P   ┆ i64 ┆ ce  ┆ --- ┆ --- ┆ --- ┆ --- ┆ ce  ┆ ele ┆ ce  ┆ --- ┆     ┆ --- ┆     ┆ ele ┆ str ┆ 2   ┆ ele ┆ --- ┆     ┆ e   ┆ i64 ┆ ele ┆ i64 ┆ i64 ┆ ele ┆ ce  ┆ ce  ┆ ele ┆ ele ┆ --- ┆     ┆ ce  ┆ 2   ┆ ele ┆ ce  ┆ i64 │\n",
       "│ TIP ┆ i64 ┆ rat ┆ i64 ┆ TIP ┆ i64 ┆ rat ┆     ┆ rat ┆ f64 ┆ --- ┆ 1   ┆ rat ┆ n_i ┆ rat ┆ rat ┆     ┆     ┆ rat ┆     ┆     ┆ TIP ┆ rat ┆ --- ┆     ┆ OTI ┆     ┆     ┆     ┆ rat ┆ rat ┆     ┆ --- ┆ i64 ┆ rat ┆     ┆ rat ┆ f64 ┆ i64 ┆ --- ┆ --- ┆     ┆ rat ┆ --- ┆ rat ┆     ┆     ┆ --- ┆ i64 ┆ rat ┆ i64 ┆ --- ┆ TIP ┆ boo ┆ rat ┆ f64 ┆ rat ┆ rat ┆ rat ┆     ┆ i64 ┆ rat ┆ f64 ┆     ┆ TIP ┆ rat ┆ rat ┆ rat ┆     ┆ OTI ┆ rat ┆ --- ┆ rat ┆ i64 ┆ 2   ┆ rat ┆ i64 ┆     ┆ rat ┆ rat ┆ --- ┆     ┆ TIP ┆ i64 ┆ i64 ┆ i64 ┆ i64 ┆ OTI ┆ rat ┆ 1   ┆ i64 ┆     ┆ i64 ┆     ┆ rat ┆     ┆ --- ┆ rat ┆ i64 ┆     ┆ --- ┆     ┆ rat ┆     ┆     ┆ rat ┆ OTI ┆ OTI ┆ rat ┆ rat ┆ f64 ┆     ┆ 2   ┆ --- ┆ rat ┆ OTI ┆     │\n",
       "│ --- ┆     ┆ ion ┆     ┆ 2   ┆     ┆ ion ┆     ┆ ion ┆     ┆ i64 ┆ --- ┆ ion ┆ d   ┆ ion ┆ ion ┆     ┆     ┆ ion ┆     ┆     ┆ 1   ┆ ion ┆ i64 ┆     ┆ P 1 ┆     ┆     ┆     ┆ ion ┆ ion ┆     ┆ i64 ┆     ┆ ion ┆     ┆ ion ┆     ┆     ┆ i64 ┆ i64 ┆     ┆ ion ┆ i64 ┆ ion ┆     ┆     ┆ i64 ┆     ┆ ion ┆     ┆ i64 ┆ 1   ┆ l   ┆ ion ┆     ┆ ion ┆ ion ┆ ion ┆     ┆     ┆ ion ┆     ┆     ┆ --- ┆ ion ┆ ion ┆ ion ┆     ┆ P   ┆ ion ┆ i64 ┆ ion ┆     ┆ --- ┆ ion ┆     ┆     ┆ ion ┆ ion ┆ i64 ┆     ┆ 2   ┆     ┆     ┆     ┆     ┆ P 2 ┆ ion ┆ --- ┆     ┆     ┆     ┆     ┆ ion ┆     ┆ i64 ┆ ion ┆     ┆     ┆ str ┆     ┆ ion ┆     ┆     ┆ ion ┆ P 2 ┆ P 1 ┆ ion ┆ ion ┆     ┆     ┆ --- ┆ i64 ┆ ion ┆ P   ┆     │\n",
       "│ i64 ┆     ┆ 1   ┆     ┆ --- ┆     ┆ TIP ┆     ┆ OTI ┆     ┆     ┆ i64 ┆ 1   ┆ --- ┆ 2   ┆ TIP ┆     ┆     ┆ --- ┆     ┆     ┆ --- ┆ TIP ┆     ┆     ┆ --- ┆     ┆     ┆     ┆ 2   ┆ TIP ┆     ┆     ┆     ┆ OTI ┆     ┆ TIP ┆     ┆     ┆     ┆     ┆     ┆ OTI ┆     ┆ TIP ┆     ┆     ┆     ┆     ┆ OTI ┆     ┆     ┆ --- ┆     ┆ --- ┆     ┆ TIP ┆ 2   ┆ TIP ┆     ┆     ┆ --- ┆     ┆     ┆ i64 ┆ OTI ┆ OTI ┆ OTI ┆     ┆ --- ┆ TIP ┆     ┆ TIP ┆     ┆ i64 ┆ OTI ┆     ┆     ┆ --- ┆ OTI ┆     ┆     ┆ --- ┆     ┆     ┆     ┆     ┆ --- ┆ TIP ┆ i64 ┆     ┆     ┆     ┆     ┆ TIP ┆     ┆     ┆ 1   ┆     ┆     ┆     ┆     ┆ 1   ┆     ┆     ┆ 2   ┆ --- ┆ --- ┆ OTI ┆ OTI ┆     ┆     ┆ i64 ┆     ┆ OTI ┆ --- ┆     │\n",
       "│     ┆     ┆ --- ┆     ┆ i64 ┆     ┆ --- ┆     ┆ P   ┆     ┆     ┆     ┆ --- ┆ i64 ┆ --- ┆ 2   ┆     ┆     ┆ i64 ┆     ┆     ┆ i64 ┆ …   ┆     ┆     ┆ i64 ┆     ┆     ┆     ┆ --- ┆ …   ┆     ┆     ┆     ┆ P 2 ┆     ┆ 2   ┆     ┆     ┆     ┆     ┆     ┆ P…  ┆     ┆ …   ┆     ┆     ┆     ┆     ┆ P 1 ┆     ┆     ┆ i64 ┆     ┆ i64 ┆     ┆ 1   ┆ --- ┆ --- ┆     ┆     ┆ i64 ┆     ┆     ┆     ┆ P   ┆ P   ┆ P 1 ┆     ┆ i64 ┆ --- ┆     ┆ 1   ┆     ┆     ┆ P   ┆     ┆     ┆ i64 ┆ P…  ┆     ┆     ┆ i64 ┆     ┆     ┆     ┆     ┆ i64 ┆ …   ┆     ┆     ┆     ┆     ┆     ┆ --- ┆     ┆     ┆ --- ┆     ┆     ┆     ┆     ┆ --- ┆     ┆     ┆ --- ┆ i64 ┆ i64 ┆ P 2 ┆ P…  ┆     ┆     ┆     ┆     ┆ P…  ┆ i64 ┆     │\n",
       "│     ┆     ┆ i64 ┆     ┆     ┆     ┆ i64 ┆     ┆ --- ┆     ┆     ┆     ┆ i64 ┆     ┆ i64 ┆ --- ┆     ┆     ┆     ┆     ┆     ┆     ┆ --- ┆     ┆     ┆     ┆     ┆     ┆     ┆ i64 ┆ --- ┆     ┆     ┆     ┆ --- ┆     ┆ --- ┆     ┆     ┆     ┆     ┆     ┆ --- ┆     ┆ --- ┆     ┆     ┆     ┆     ┆ --- ┆     ┆     ┆     ┆     ┆     ┆     ┆ --- ┆ i64 ┆ i64 ┆     ┆     ┆     ┆     ┆     ┆     ┆ --- ┆ --- ┆ --- ┆     ┆     ┆ i64 ┆     ┆ --- ┆     ┆     ┆ --- ┆     ┆     ┆     ┆ --- ┆     ┆     ┆     ┆     ┆     ┆     ┆     ┆     ┆ --- ┆     ┆     ┆     ┆     ┆     ┆ i64 ┆     ┆     ┆ i64 ┆     ┆     ┆     ┆     ┆ i64 ┆     ┆     ┆ i64 ┆     ┆     ┆ --- ┆ --- ┆     ┆     ┆     ┆     ┆ --- ┆     ┆     │\n",
       "│     ┆     ┆     ┆     ┆     ┆     ┆     ┆     ┆ i64 ┆     ┆     ┆     ┆     ┆     ┆     ┆ i64 ┆     ┆     ┆     ┆     ┆     ┆     ┆ i64 ┆     ┆     ┆     ┆     ┆     ┆     ┆     ┆ i64 ┆     ┆     ┆     ┆ i64 ┆     ┆ i64 ┆     ┆     ┆     ┆     ┆     ┆ i64 ┆     ┆ i64 ┆     ┆     ┆     ┆     ┆ i64 ┆     ┆     ┆     ┆     ┆     ┆     ┆ i64 ┆     ┆     ┆     ┆     ┆     ┆     ┆     ┆     ┆ i64 ┆ i64 ┆ i64 ┆     ┆     ┆     ┆     ┆ i64 ┆     ┆     ┆ i64 ┆     ┆     ┆     ┆ i64 ┆     ┆     ┆     ┆     ┆     ┆     ┆     ┆     ┆ i64 ┆     ┆     ┆     ┆     ┆     ┆     ┆     ┆     ┆     ┆     ┆     ┆     ┆     ┆     ┆     ┆     ┆     ┆     ┆     ┆ i64 ┆ i64 ┆     ┆     ┆     ┆     ┆ i64 ┆     ┆     │\n",
       "╞═════╪═════╪═════╪═════╪═════╪═════╪═════╪═════╪═════╪═════╪═════╪═════╪═════╪═════╪═════╪═════╪═════╪═════╪═════╪═════╪═════╪═════╪═════╪═════╪═════╪═════╪═════╪═════╪═════╪═════╪═════╪═════╪═════╪═════╪═════╪═════╪═════╪═════╪═════╪═════╪═════╪═════╪═════╪═════╪═════╪═════╪═════╪═════╪═════╪═════╪═════╪═════╪═════╪═════╪═════╪═════╪═════╪═════╪═════╪═════╪═════╪═════╪═════╪═════╪═════╪═════╪═════╪═════╪═════╪═════╪═════╪═════╪═════╪═════╪═════╪═════╪═════╪═════╪═════╪═════╪═════╪═════╪═════╪═════╪═════╪═════╪═════╪═════╪═════╪═════╪═════╪═════╪═════╪═════╪═════╪═════╪═════╪═════╪═════╪═════╪═════╪═════╪═════╪═════╪═════╪═════╪═════╪═════╪═════╪═════╪═════╪═════╪═════╪═════╪═════╪═════╪═════╡\n",
       "│ 30  ┆ 13  ┆ 42  ┆ 387 ┆ 19  ┆ 3   ┆ 3   ┆ 49. ┆ 4   ┆ 17. ┆ 1   ┆ 135 ┆ 8   ┆ 249 ┆ 3   ┆ 0   ┆ 96. ┆ 745 ┆ 4   ┆ 130 ┆ 462 ┆ 11  ┆ 9   ┆ 443 ┆ 24. ┆ 842 ┆ P.  ┆ 202 ┆ 621 ┆ 48  ┆ 8   ┆ 870 ┆ 148 ┆ 34  ┆ 0   ┆ 202 ┆ 1   ┆ 18. ┆ 6   ┆ 218 ┆ 225 ┆ 59  ┆ 17  ┆ 241 ┆ 10  ┆ KV  ┆ Roy ┆ 1   ┆ 155 ┆ 3   ┆ 187 ┆ 139 ┆ 369 ┆ tru ┆ 100 ┆ 11. ┆ 2   ┆ 1   ┆ 22  ┆ 33  ┆ 17  ┆ 89  ┆ 35. ┆ 47. ┆ 661 ┆ 47  ┆ 34  ┆ 0   ┆ 25. ┆ 150 ┆ 17  ┆ 1   ┆ 0   ┆ 274 ┆ 56  ┆ 0   ┆ 16  ┆ Roy ┆ 11  ┆ 17  ┆ 2   ┆ 26  ┆ 292 ┆ 260 ┆ 358 ┆ 2   ┆ 298 ┆ 662 ┆ 12  ┆ 92  ┆ 17  ┆ 8   ┆ 2   ┆ AM  ┆ 0   ┆ Pie ┆ 121 ┆ 52  ┆ 572 ┆ Mid ┆ 199 ┆ 681 ┆ 3   ┆ 19  ┆ 5   ┆ 47  ┆ 18  ┆ 27  ┆ 1   ┆ 24  ┆ 13. ┆ 449 ┆ 106 ┆ 1   ┆ 23  ┆ 45  ┆ 343 │\n",
       "│     ┆     ┆     ┆     ┆     ┆     ┆     ┆ 48  ┆     ┆ 3   ┆     ┆ 4   ┆     ┆     ┆     ┆     ┆ 63  ┆     ┆     ┆ 26  ┆     ┆     ┆     ┆     ┆ 21  ┆     ┆ Ger ┆ 1/2 ┆ 6   ┆     ┆     ┆ 1   ┆     ┆     ┆     ┆ 1-0 ┆     ┆ 27  ┆     ┆     ┆     ┆     ┆     ┆ 5   ┆     ┆ Mec ┆ al  ┆     ┆ 8   ┆     ┆ 4   ┆     ┆     ┆ e   ┆     ┆ 08  ┆     ┆     ┆     ┆     ┆     ┆     ┆ 57  ┆ 15  ┆     ┆     ┆     ┆     ┆ 7   ┆ 4   ┆     ┆     ┆     ┆ 4   ┆     ┆     ┆     ┆ al  ┆     ┆     ┆     ┆     ┆     ┆     ┆     ┆     ┆ 3   ┆     ┆     ┆     ┆     ┆     ┆     ┆     ┆     ┆ ter ┆     ┆     ┆ 7   ┆ fie ┆ 5-0 ┆ 0   ┆     ┆     ┆     ┆     ┆     ┆     ┆     ┆     ┆ 13  ┆ 99  ┆ 1   ┆     ┆     ┆     ┆ 2   │\n",
       "│     ┆     ┆     ┆     ┆     ┆     ┆     ┆     ┆     ┆     ┆     ┆     ┆     ┆     ┆     ┆     ┆     ┆     ┆     ┆     ┆     ┆     ┆     ┆     ┆     ┆     ┆ ken ┆ 022 ┆     ┆     ┆     ┆     ┆     ┆     ┆     ┆ 7-2 ┆     ┆     ┆     ┆     ┆     ┆     ┆     ┆     ┆     ┆ hel ┆ Ant ┆     ┆     ┆     ┆     ┆     ┆     ┆     ┆     ┆     ┆     ┆     ┆     ┆     ┆     ┆     ┆     ┆     ┆     ┆     ┆     ┆     ┆     ┆     ┆     ┆     ┆     ┆     ┆     ┆     ┆     ┆ Ant ┆     ┆     ┆     ┆     ┆     ┆     ┆     ┆     ┆     ┆     ┆     ┆     ┆     ┆     ┆     ┆     ┆     ┆ Ger ┆     ┆     ┆     ┆ ld  ┆ 2-1 ┆     ┆     ┆     ┆     ┆     ┆     ┆     ┆     ┆     ┆     ┆     ┆     ┆     ┆     ┆     ┆     │\n",
       "│     ┆     ┆     ┆     ┆     ┆     ┆     ┆     ┆     ┆     ┆     ┆     ┆     ┆     ┆     ┆     ┆     ┆     ┆     ┆     ┆     ┆     ┆     ┆     ┆     ┆     ┆ s   ┆     ┆     ┆     ┆     ┆     ┆     ┆     ┆     ┆ 5   ┆     ┆     ┆     ┆     ┆     ┆     ┆     ┆     ┆     ┆ en  ┆ wer ┆     ┆     ┆     ┆     ┆     ┆     ┆     ┆     ┆     ┆     ┆     ┆     ┆     ┆     ┆     ┆     ┆     ┆     ┆     ┆     ┆     ┆     ┆     ┆     ┆     ┆     ┆     ┆     ┆     ┆     ┆ wer ┆     ┆     ┆     ┆     ┆     ┆     ┆     ┆     ┆     ┆     ┆     ┆     ┆     ┆     ┆     ┆     ┆     ┆ ken ┆     ┆     ┆     ┆     ┆ 7   ┆     ┆     ┆     ┆     ┆     ┆     ┆     ┆     ┆     ┆     ┆     ┆     ┆     ┆     ┆     ┆     │\n",
       "│     ┆     ┆     ┆     ┆     ┆     ┆     ┆     ┆     ┆     ┆     ┆     ┆     ┆     ┆     ┆     ┆     ┆     ┆     ┆     ┆     ┆     ┆     ┆     ┆     ┆     ┆     ┆     ┆     ┆     ┆     ┆     ┆     ┆     ┆     ┆     ┆     ┆     ┆     ┆     ┆     ┆     ┆     ┆     ┆     ┆ v   ┆ p   ┆     ┆     ┆     ┆     ┆     ┆     ┆     ┆     ┆     ┆     ┆     ┆     ┆     ┆     ┆     ┆     ┆     ┆     ┆     ┆     ┆     ┆     ┆     ┆     ┆     ┆     ┆     ┆     ┆     ┆     ┆ p   ┆     ┆     ┆     ┆     ┆     ┆     ┆     ┆     ┆     ┆     ┆     ┆     ┆     ┆     ┆     ┆     ┆     ┆ s   ┆     ┆     ┆     ┆     ┆     ┆     ┆     ┆     ┆     ┆     ┆     ┆     ┆     ┆     ┆     ┆     ┆     ┆     ┆     ┆     ┆     │\n",
       "│     ┆     ┆     ┆     ┆     ┆     ┆     ┆     ┆     ┆     ┆     ┆     ┆     ┆     ┆     ┆     ┆     ┆     ┆     ┆     ┆     ┆     ┆     ┆     ┆     ┆     ┆     ┆     ┆     ┆     ┆     ┆     ┆     ┆     ┆     ┆     ┆     ┆     ┆     ┆     ┆     ┆     ┆     ┆     ┆     ┆ Roy ┆ FC  ┆     ┆     ┆     ┆     ┆     ┆     ┆     ┆     ┆     ┆     ┆     ┆     ┆     ┆     ┆     ┆     ┆     ┆     ┆     ┆     ┆     ┆     ┆     ┆     ┆     ┆     ┆     ┆     ┆     ┆     ┆ FC  ┆     ┆     ┆     ┆     ┆     ┆     ┆     ┆     ┆     ┆     ┆     ┆     ┆     ┆     ┆     ┆     ┆     ┆     ┆     ┆     ┆     ┆     ┆     ┆     ┆     ┆     ┆     ┆     ┆     ┆     ┆     ┆     ┆     ┆     ┆     ┆     ┆     ┆     ┆     │\n",
       "│     ┆     ┆     ┆     ┆     ┆     ┆     ┆     ┆     ┆     ┆     ┆     ┆     ┆     ┆     ┆     ┆     ┆     ┆     ┆     ┆     ┆     ┆     ┆     ┆     ┆     ┆     ┆     ┆     ┆     ┆     ┆     ┆     ┆     ┆     ┆     ┆     ┆     ┆     ┆     ┆     ┆     ┆     ┆     ┆     ┆ al  ┆     ┆     ┆     ┆     ┆     ┆     ┆     ┆     ┆     ┆     ┆     ┆     ┆     ┆     ┆     ┆     ┆     ┆     ┆     ┆     ┆     ┆     ┆     ┆     ┆     ┆     ┆     ┆     ┆     ┆     ┆     ┆     ┆     ┆     ┆     ┆     ┆     ┆     ┆     ┆     ┆     ┆     ┆     ┆     ┆     ┆     ┆     ┆     ┆     ┆     ┆     ┆     ┆     ┆     ┆     ┆     ┆     ┆     ┆     ┆     ┆     ┆     ┆     ┆     ┆     ┆     ┆     ┆     ┆     ┆     ┆     │\n",
       "│     ┆     ┆     ┆     ┆     ┆     ┆     ┆     ┆     ┆     ┆     ┆     ┆     ┆     ┆     ┆     ┆     ┆     ┆     ┆     ┆     ┆     ┆     ┆     ┆     ┆     ┆     ┆     ┆     ┆     ┆     ┆     ┆     ┆     ┆     ┆     ┆     ┆     ┆     ┆     ┆     ┆     ┆     ┆     ┆     ┆ Ant ┆     ┆     ┆     ┆     ┆     ┆     ┆     ┆     ┆     ┆     ┆     ┆     ┆     ┆     ┆     ┆     ┆     ┆     ┆     ┆     ┆     ┆     ┆     ┆     ┆     ┆     ┆     ┆     ┆     ┆     ┆     ┆     ┆     ┆     ┆     ┆     ┆     ┆     ┆     ┆     ┆     ┆     ┆     ┆     ┆     ┆     ┆     ┆     ┆     ┆     ┆     ┆     ┆     ┆     ┆     ┆     ┆     ┆     ┆     ┆     ┆     ┆     ┆     ┆     ┆     ┆     ┆     ┆     ┆     ┆     ┆     │\n",
       "│     ┆     ┆     ┆     ┆     ┆     ┆     ┆     ┆     ┆     ┆     ┆     ┆     ┆     ┆     ┆     ┆     ┆     ┆     ┆     ┆     ┆     ┆     ┆     ┆     ┆     ┆     ┆     ┆     ┆     ┆     ┆     ┆     ┆     ┆     ┆     ┆     ┆     ┆     ┆     ┆     ┆     ┆     ┆     ┆     ┆ wer ┆     ┆     ┆     ┆     ┆     ┆     ┆     ┆     ┆     ┆     ┆     ┆     ┆     ┆     ┆     ┆     ┆     ┆     ┆     ┆     ┆     ┆     ┆     ┆     ┆     ┆     ┆     ┆     ┆     ┆     ┆     ┆     ┆     ┆     ┆     ┆     ┆     ┆     ┆     ┆     ┆     ┆     ┆     ┆     ┆     ┆     ┆     ┆     ┆     ┆     ┆     ┆     ┆     ┆     ┆     ┆     ┆     ┆     ┆     ┆     ┆     ┆     ┆     ┆     ┆     ┆     ┆     ┆     ┆     ┆     ┆     │\n",
       "│     ┆     ┆     ┆     ┆     ┆     ┆     ┆     ┆     ┆     ┆     ┆     ┆     ┆     ┆     ┆     ┆     ┆     ┆     ┆     ┆     ┆     ┆     ┆     ┆     ┆     ┆     ┆     ┆     ┆     ┆     ┆     ┆     ┆     ┆     ┆     ┆     ┆     ┆     ┆     ┆     ┆     ┆     ┆     ┆     ┆ p   ┆     ┆     ┆     ┆     ┆     ┆     ┆     ┆     ┆     ┆     ┆     ┆     ┆     ┆     ┆     ┆     ┆     ┆     ┆     ┆     ┆     ┆     ┆     ┆     ┆     ┆     ┆     ┆     ┆     ┆     ┆     ┆     ┆     ┆     ┆     ┆     ┆     ┆     ┆     ┆     ┆     ┆     ┆     ┆     ┆     ┆     ┆     ┆     ┆     ┆     ┆     ┆     ┆     ┆     ┆     ┆     ┆     ┆     ┆     ┆     ┆     ┆     ┆     ┆     ┆     ┆     ┆     ┆     ┆     ┆     ┆     │\n",
       "│     ┆     ┆     ┆     ┆     ┆     ┆     ┆     ┆     ┆     ┆     ┆     ┆     ┆     ┆     ┆     ┆     ┆     ┆     ┆     ┆     ┆     ┆     ┆     ┆     ┆     ┆     ┆     ┆     ┆     ┆     ┆     ┆     ┆     ┆     ┆     ┆     ┆     ┆     ┆     ┆     ┆     ┆     ┆     ┆     ┆ FC  ┆     ┆     ┆     ┆     ┆     ┆     ┆     ┆     ┆     ┆     ┆     ┆     ┆     ┆     ┆     ┆     ┆     ┆     ┆     ┆     ┆     ┆     ┆     ┆     ┆     ┆     ┆     ┆     ┆     ┆     ┆     ┆     ┆     ┆     ┆     ┆     ┆     ┆     ┆     ┆     ┆     ┆     ┆     ┆     ┆     ┆     ┆     ┆     ┆     ┆     ┆     ┆     ┆     ┆     ┆     ┆     ┆     ┆     ┆     ┆     ┆     ┆     ┆     ┆     ┆     ┆     ┆     ┆     ┆     ┆     ┆     │\n",
       "│ 136 ┆ 9   ┆ 31  ┆ 201 ┆ 119 ┆ 3   ┆ 2   ┆ 50. ┆ 1   ┆ 15. ┆ 0   ┆ 489 ┆ 5   ┆ 249 ┆ 3   ┆ 1   ┆ 96. ┆ 476 ┆ 5   ┆ 996 ┆ 27  ┆ 17  ┆ 11  ┆ 167 ┆ 25. ┆ 178 ┆ X.  ┆ 202 ┆ 512 ┆ 41  ┆ 9   ┆ 109 ┆ 202 ┆ 17  ┆ 1   ┆ 202 ┆ 1   ┆ 14. ┆ 11  ┆ 63  ┆ 104 ┆ 39  ┆ 14  ┆ 110 ┆ 14  ┆ Oud ┆ Oud ┆ 1   ┆ 177 ┆ 1   ┆ 166 ┆ 81  ┆ 267 ┆ tru ┆ 77  ┆ 12. ┆ 1   ┆ 2   ┆ 25  ┆ 20  ┆ 10  ┆ 77  ┆ 29. ┆ 46. ┆ 610 ┆ 32  ┆ 25  ┆ 0   ┆ 28. ┆ 402 ┆ 20  ┆ 1   ┆ 1   ┆ 173 ┆ 154 ┆ 1   ┆ 16  ┆ Oud ┆ 8   ┆ 11  ┆ 1   ┆ 19  ┆ 343 ┆ 265 ┆ 275 ┆ 5   ┆ 179 ┆ 224 ┆ 11  ┆ 48  ┆ 7   ┆ 8   ┆ 4   ┆ AM  ┆ 2   ┆ Xav ┆ 184 ┆ 36  ┆ 353 ┆ Mid ┆ 198 ┆ 484 ┆ 3   ┆ 20  ┆ 8   ┆ 46  ┆ 0   ┆ 24  ┆ 0   ┆ 15  ┆ 13. ┆ 450 ┆ 612 ┆ 3   ┆ 17  ┆ 24  ┆ 343 │\n",
       "│     ┆     ┆     ┆     ┆     ┆     ┆     ┆ 07  ┆     ┆ 07  ┆     ┆     ┆     ┆     ┆     ┆     ┆ 19  ┆     ┆     ┆ 9   ┆     ┆     ┆     ┆     ┆ 52  ┆     ┆ Mer ┆ 1/2 ┆ 7   ┆     ┆     ┆ 32  ┆     ┆     ┆     ┆ 1-0 ┆     ┆ 52  ┆     ┆     ┆     ┆     ┆     ┆ 1   ┆     ┆ -He ┆ -He ┆     ┆ 5   ┆     ┆ 0   ┆     ┆     ┆ e   ┆     ┆ 32  ┆     ┆     ┆     ┆     ┆     ┆     ┆ 59  ┆ 12  ┆     ┆     ┆     ┆     ┆ 3   ┆     ┆     ┆     ┆     ┆ 9   ┆     ┆     ┆     ┆ -He ┆     ┆     ┆     ┆     ┆     ┆     ┆     ┆     ┆ 5   ┆     ┆     ┆     ┆     ┆     ┆     ┆     ┆     ┆ ier ┆     ┆     ┆ 4   ┆ fie ┆ 9-0 ┆ 2   ┆     ┆     ┆     ┆     ┆     ┆     ┆     ┆     ┆ 2   ┆ 02  ┆     ┆     ┆     ┆     ┆ 5   │\n",
       "│     ┆     ┆     ┆     ┆     ┆     ┆     ┆     ┆     ┆     ┆     ┆     ┆     ┆     ┆     ┆     ┆     ┆     ┆     ┆     ┆     ┆     ┆     ┆     ┆     ┆     ┆ cie ┆ 022 ┆     ┆     ┆     ┆     ┆     ┆     ┆     ┆ 7-2 ┆     ┆     ┆     ┆     ┆     ┆     ┆     ┆     ┆     ┆ ver ┆ ver ┆     ┆     ┆     ┆     ┆     ┆     ┆     ┆     ┆     ┆     ┆     ┆     ┆     ┆     ┆     ┆     ┆     ┆     ┆     ┆     ┆     ┆     ┆     ┆     ┆     ┆     ┆     ┆     ┆     ┆     ┆ ver ┆     ┆     ┆     ┆     ┆     ┆     ┆     ┆     ┆     ┆     ┆     ┆     ┆     ┆     ┆     ┆     ┆     ┆ Mer ┆     ┆     ┆     ┆ ld  ┆ 7-2 ┆     ┆     ┆     ┆     ┆     ┆     ┆     ┆     ┆     ┆     ┆     ┆     ┆     ┆     ┆     ┆     │\n",
       "│     ┆     ┆     ┆     ┆     ┆     ┆     ┆     ┆     ┆     ┆     ┆     ┆     ┆     ┆     ┆     ┆     ┆     ┆     ┆     ┆     ┆     ┆     ┆     ┆     ┆     ┆ r   ┆     ┆     ┆     ┆     ┆     ┆     ┆     ┆     ┆ 4   ┆     ┆     ┆     ┆     ┆     ┆     ┆     ┆     ┆     ┆ lee ┆ lee ┆     ┆     ┆     ┆     ┆     ┆     ┆     ┆     ┆     ┆     ┆     ┆     ┆     ┆     ┆     ┆     ┆     ┆     ┆     ┆     ┆     ┆     ┆     ┆     ┆     ┆     ┆     ┆     ┆     ┆     ┆ lee ┆     ┆     ┆     ┆     ┆     ┆     ┆     ┆     ┆     ┆     ┆     ┆     ┆     ┆     ┆     ┆     ┆     ┆ cie ┆     ┆     ┆     ┆     ┆ 5   ┆     ┆     ┆     ┆     ┆     ┆     ┆     ┆     ┆     ┆     ┆     ┆     ┆     ┆     ┆     ┆     │\n",
       "│     ┆     ┆     ┆     ┆     ┆     ┆     ┆     ┆     ┆     ┆     ┆     ┆     ┆     ┆     ┆     ┆     ┆     ┆     ┆     ┆     ┆     ┆     ┆     ┆     ┆     ┆     ┆     ┆     ┆     ┆     ┆     ┆     ┆     ┆     ┆     ┆     ┆     ┆     ┆     ┆     ┆     ┆     ┆     ┆     ┆ Leu ┆ Leu ┆     ┆     ┆     ┆     ┆     ┆     ┆     ┆     ┆     ┆     ┆     ┆     ┆     ┆     ┆     ┆     ┆     ┆     ┆     ┆     ┆     ┆     ┆     ┆     ┆     ┆     ┆     ┆     ┆     ┆     ┆ Leu ┆     ┆     ┆     ┆     ┆     ┆     ┆     ┆     ┆     ┆     ┆     ┆     ┆     ┆     ┆     ┆     ┆     ┆ r   ┆     ┆     ┆     ┆     ┆     ┆     ┆     ┆     ┆     ┆     ┆     ┆     ┆     ┆     ┆     ┆     ┆     ┆     ┆     ┆     ┆     │\n",
       "│     ┆     ┆     ┆     ┆     ┆     ┆     ┆     ┆     ┆     ┆     ┆     ┆     ┆     ┆     ┆     ┆     ┆     ┆     ┆     ┆     ┆     ┆     ┆     ┆     ┆     ┆     ┆     ┆     ┆     ┆     ┆     ┆     ┆     ┆     ┆     ┆     ┆     ┆     ┆     ┆     ┆     ┆     ┆     ┆     ┆ ven ┆ ven ┆     ┆     ┆     ┆     ┆     ┆     ┆     ┆     ┆     ┆     ┆     ┆     ┆     ┆     ┆     ┆     ┆     ┆     ┆     ┆     ┆     ┆     ┆     ┆     ┆     ┆     ┆     ┆     ┆     ┆     ┆ ven ┆     ┆     ┆     ┆     ┆     ┆     ┆     ┆     ┆     ┆     ┆     ┆     ┆     ┆     ┆     ┆     ┆     ┆     ┆     ┆     ┆     ┆     ┆     ┆     ┆     ┆     ┆     ┆     ┆     ┆     ┆     ┆     ┆     ┆     ┆     ┆     ┆     ┆     ┆     │\n",
       "│     ┆     ┆     ┆     ┆     ┆     ┆     ┆     ┆     ┆     ┆     ┆     ┆     ┆     ┆     ┆     ┆     ┆     ┆     ┆     ┆     ┆     ┆     ┆     ┆     ┆     ┆     ┆     ┆     ┆     ┆     ┆     ┆     ┆     ┆     ┆     ┆     ┆     ┆     ┆     ┆     ┆     ┆     ┆     ┆     ┆ v   ┆     ┆     ┆     ┆     ┆     ┆     ┆     ┆     ┆     ┆     ┆     ┆     ┆     ┆     ┆     ┆     ┆     ┆     ┆     ┆     ┆     ┆     ┆     ┆     ┆     ┆     ┆     ┆     ┆     ┆     ┆     ┆     ┆     ┆     ┆     ┆     ┆     ┆     ┆     ┆     ┆     ┆     ┆     ┆     ┆     ┆     ┆     ┆     ┆     ┆     ┆     ┆     ┆     ┆     ┆     ┆     ┆     ┆     ┆     ┆     ┆     ┆     ┆     ┆     ┆     ┆     ┆     ┆     ┆     ┆     ┆     │\n",
       "│     ┆     ┆     ┆     ┆     ┆     ┆     ┆     ┆     ┆     ┆     ┆     ┆     ┆     ┆     ┆     ┆     ┆     ┆     ┆     ┆     ┆     ┆     ┆     ┆     ┆     ┆     ┆     ┆     ┆     ┆     ┆     ┆     ┆     ┆     ┆     ┆     ┆     ┆     ┆     ┆     ┆     ┆     ┆     ┆     ┆ SV  ┆     ┆     ┆     ┆     ┆     ┆     ┆     ┆     ┆     ┆     ┆     ┆     ┆     ┆     ┆     ┆     ┆     ┆     ┆     ┆     ┆     ┆     ┆     ┆     ┆     ┆     ┆     ┆     ┆     ┆     ┆     ┆     ┆     ┆     ┆     ┆     ┆     ┆     ┆     ┆     ┆     ┆     ┆     ┆     ┆     ┆     ┆     ┆     ┆     ┆     ┆     ┆     ┆     ┆     ┆     ┆     ┆     ┆     ┆     ┆     ┆     ┆     ┆     ┆     ┆     ┆     ┆     ┆     ┆     ┆     ┆     │\n",
       "│     ┆     ┆     ┆     ┆     ┆     ┆     ┆     ┆     ┆     ┆     ┆     ┆     ┆     ┆     ┆     ┆     ┆     ┆     ┆     ┆     ┆     ┆     ┆     ┆     ┆     ┆     ┆     ┆     ┆     ┆     ┆     ┆     ┆     ┆     ┆     ┆     ┆     ┆     ┆     ┆     ┆     ┆     ┆     ┆     ┆ Zul ┆     ┆     ┆     ┆     ┆     ┆     ┆     ┆     ┆     ┆     ┆     ┆     ┆     ┆     ┆     ┆     ┆     ┆     ┆     ┆     ┆     ┆     ┆     ┆     ┆     ┆     ┆     ┆     ┆     ┆     ┆     ┆     ┆     ┆     ┆     ┆     ┆     ┆     ┆     ┆     ┆     ┆     ┆     ┆     ┆     ┆     ┆     ┆     ┆     ┆     ┆     ┆     ┆     ┆     ┆     ┆     ┆     ┆     ┆     ┆     ┆     ┆     ┆     ┆     ┆     ┆     ┆     ┆     ┆     ┆     ┆     │\n",
       "│     ┆     ┆     ┆     ┆     ┆     ┆     ┆     ┆     ┆     ┆     ┆     ┆     ┆     ┆     ┆     ┆     ┆     ┆     ┆     ┆     ┆     ┆     ┆     ┆     ┆     ┆     ┆     ┆     ┆     ┆     ┆     ┆     ┆     ┆     ┆     ┆     ┆     ┆     ┆     ┆     ┆     ┆     ┆     ┆     ┆ te… ┆     ┆     ┆     ┆     ┆     ┆     ┆     ┆     ┆     ┆     ┆     ┆     ┆     ┆     ┆     ┆     ┆     ┆     ┆     ┆     ┆     ┆     ┆     ┆     ┆     ┆     ┆     ┆     ┆     ┆     ┆     ┆     ┆     ┆     ┆     ┆     ┆     ┆     ┆     ┆     ┆     ┆     ┆     ┆     ┆     ┆     ┆     ┆     ┆     ┆     ┆     ┆     ┆     ┆     ┆     ┆     ┆     ┆     ┆     ┆     ┆     ┆     ┆     ┆     ┆     ┆     ┆     ┆     ┆     ┆     ┆     │\n",
       "│ 26  ┆ 13  ┆ 57  ┆ 292 ┆ 0   ┆ 4   ┆ 2   ┆ 24. ┆ 3   ┆ 6.5 ┆ 1   ┆ 714 ┆ 7   ┆ 249 ┆ 4   ┆ 1   ┆ 71. ┆ 421 ┆ 3   ┆ 870 ┆ 8   ┆ 26  ┆ 11  ┆ 167 ┆ 22. ┆ 253 ┆ O.  ┆ 202 ┆ 308 ┆ 25  ┆ 22  ┆ 146 ┆ 105 ┆ 14  ┆ 1   ┆ 202 ┆ 1   ┆ 13. ┆ 5   ┆ 78  ┆ 89  ┆ 34  ┆ 5   ┆ 124 ┆ 8   ┆ Oud ┆ SV  ┆ 2   ┆ 127 ┆ 2   ┆ 228 ┆ 171 ┆ 427 ┆ tru ┆ 64  ┆ 7.9 ┆ 1   ┆ 2   ┆ 26  ┆ 21  ┆ 7   ┆ 82  ┆ 19. ┆ 46. ┆ 724 ┆ 23  ┆ 18  ┆ 1   ┆ 26. ┆ 425 ┆ 33  ┆ 1   ┆ 0   ┆ 938 ┆ 10  ┆ 2   ┆ 16  ┆ SV  ┆ 11  ┆ 13  ┆ 2   ┆ 13  ┆ 297 ┆ 222 ┆ 129 ┆ 1   ┆ 193 ┆ 172 ┆ 18  ┆ 95  ┆ 7   ┆ 8   ┆ 2   ┆ AM  ┆ 1   ┆ Oma ┆ 51  ┆ 39  ┆ 287 ┆ Mid ┆ 199 ┆ 562 ┆ 1   ┆ 18  ┆ 5   ┆ 25  ┆ 7   ┆ 29  ┆ 1   ┆ 17  ┆ 14. ┆ 450 ┆ 527 ┆ 0   ┆ 6   ┆ 36  ┆ 356 │\n",
       "│     ┆     ┆     ┆     ┆     ┆     ┆     ┆ 95  ┆     ┆ 7   ┆     ┆     ┆     ┆     ┆     ┆     ┆ 07  ┆     ┆     ┆ 9   ┆     ┆     ┆     ┆     ┆ 45  ┆     ┆ Gov ┆ 1/2 ┆ 9   ┆     ┆     ┆ 25  ┆     ┆     ┆     ┆ 1-0 ┆     ┆ 2   ┆     ┆     ┆     ┆     ┆     ┆ 1   ┆     ┆ -He ┆ Zul ┆     ┆ 8   ┆     ┆ 9   ┆     ┆     ┆ e   ┆     ┆ 3   ┆     ┆     ┆     ┆     ┆     ┆     ┆ 77  ┆ 12  ┆     ┆     ┆     ┆     ┆ 4   ┆     ┆     ┆     ┆     ┆     ┆     ┆     ┆     ┆ Zul ┆     ┆     ┆     ┆     ┆     ┆     ┆     ┆     ┆ 8   ┆     ┆     ┆     ┆     ┆     ┆     ┆     ┆     ┆ r   ┆     ┆     ┆ 6   ┆ fie ┆ 6-0 ┆ 0   ┆     ┆     ┆     ┆     ┆     ┆     ┆     ┆     ┆ 52  ┆ 02  ┆     ┆     ┆     ┆     ┆ 7   │\n",
       "│     ┆     ┆     ┆     ┆     ┆     ┆     ┆     ┆     ┆     ┆     ┆     ┆     ┆     ┆     ┆     ┆     ┆     ┆     ┆     ┆     ┆     ┆     ┆     ┆     ┆     ┆ ea  ┆ 022 ┆     ┆     ┆     ┆     ┆     ┆     ┆     ┆ 7-2 ┆     ┆     ┆     ┆     ┆     ┆     ┆     ┆     ┆     ┆ ver ┆ te- ┆     ┆     ┆     ┆     ┆     ┆     ┆     ┆     ┆     ┆     ┆     ┆     ┆     ┆     ┆     ┆     ┆     ┆     ┆     ┆     ┆     ┆     ┆     ┆     ┆     ┆     ┆     ┆     ┆     ┆     ┆ te- ┆     ┆     ┆     ┆     ┆     ┆     ┆     ┆     ┆     ┆     ┆     ┆     ┆     ┆     ┆     ┆     ┆     ┆ Nic ┆     ┆     ┆     ┆ ld  ┆ 1-1 ┆     ┆     ┆     ┆     ┆     ┆     ┆     ┆     ┆     ┆     ┆     ┆     ┆     ┆     ┆     ┆     │\n",
       "│     ┆     ┆     ┆     ┆     ┆     ┆     ┆     ┆     ┆     ┆     ┆     ┆     ┆     ┆     ┆     ┆     ┆     ┆     ┆     ┆     ┆     ┆     ┆     ┆     ┆     ┆     ┆     ┆     ┆     ┆     ┆     ┆     ┆     ┆     ┆ 4   ┆     ┆     ┆     ┆     ┆     ┆     ┆     ┆     ┆     ┆ lee ┆ War ┆     ┆     ┆     ┆     ┆     ┆     ┆     ┆     ┆     ┆     ┆     ┆     ┆     ┆     ┆     ┆     ┆     ┆     ┆     ┆     ┆     ┆     ┆     ┆     ┆     ┆     ┆     ┆     ┆     ┆     ┆ War ┆     ┆     ┆     ┆     ┆     ┆     ┆     ┆     ┆     ┆     ┆     ┆     ┆     ┆     ┆     ┆     ┆     ┆ olá ┆     ┆     ┆     ┆     ┆ 8   ┆     ┆     ┆     ┆     ┆     ┆     ┆     ┆     ┆     ┆     ┆     ┆     ┆     ┆     ┆     ┆     │\n",
       "│     ┆     ┆     ┆     ┆     ┆     ┆     ┆     ┆     ┆     ┆     ┆     ┆     ┆     ┆     ┆     ┆     ┆     ┆     ┆     ┆     ┆     ┆     ┆     ┆     ┆     ┆     ┆     ┆     ┆     ┆     ┆     ┆     ┆     ┆     ┆     ┆     ┆     ┆     ┆     ┆     ┆     ┆     ┆     ┆     ┆ Leu ┆ ege ┆     ┆     ┆     ┆     ┆     ┆     ┆     ┆     ┆     ┆     ┆     ┆     ┆     ┆     ┆     ┆     ┆     ┆     ┆     ┆     ┆     ┆     ┆     ┆     ┆     ┆     ┆     ┆     ┆     ┆     ┆ ege ┆     ┆     ┆     ┆     ┆     ┆     ┆     ┆     ┆     ┆     ┆     ┆     ┆     ┆     ┆     ┆     ┆     ┆ s   ┆     ┆     ┆     ┆     ┆     ┆     ┆     ┆     ┆     ┆     ┆     ┆     ┆     ┆     ┆     ┆     ┆     ┆     ┆     ┆     ┆     │\n",
       "│     ┆     ┆     ┆     ┆     ┆     ┆     ┆     ┆     ┆     ┆     ┆     ┆     ┆     ┆     ┆     ┆     ┆     ┆     ┆     ┆     ┆     ┆     ┆     ┆     ┆     ┆     ┆     ┆     ┆     ┆     ┆     ┆     ┆     ┆     ┆     ┆     ┆     ┆     ┆     ┆     ┆     ┆     ┆     ┆     ┆ ven ┆ m   ┆     ┆     ┆     ┆     ┆     ┆     ┆     ┆     ┆     ┆     ┆     ┆     ┆     ┆     ┆     ┆     ┆     ┆     ┆     ┆     ┆     ┆     ┆     ┆     ┆     ┆     ┆     ┆     ┆     ┆     ┆ m   ┆     ┆     ┆     ┆     ┆     ┆     ┆     ┆     ┆     ┆     ┆     ┆     ┆     ┆     ┆     ┆     ┆     ┆ Gov ┆     ┆     ┆     ┆     ┆     ┆     ┆     ┆     ┆     ┆     ┆     ┆     ┆     ┆     ┆     ┆     ┆     ┆     ┆     ┆     ┆     │\n",
       "│     ┆     ┆     ┆     ┆     ┆     ┆     ┆     ┆     ┆     ┆     ┆     ┆     ┆     ┆     ┆     ┆     ┆     ┆     ┆     ┆     ┆     ┆     ┆     ┆     ┆     ┆     ┆     ┆     ┆     ┆     ┆     ┆     ┆     ┆     ┆     ┆     ┆     ┆     ┆     ┆     ┆     ┆     ┆     ┆     ┆ v   ┆     ┆     ┆     ┆     ┆     ┆     ┆     ┆     ┆     ┆     ┆     ┆     ┆     ┆     ┆     ┆     ┆     ┆     ┆     ┆     ┆     ┆     ┆     ┆     ┆     ┆     ┆     ┆     ┆     ┆     ┆     ┆     ┆     ┆     ┆     ┆     ┆     ┆     ┆     ┆     ┆     ┆     ┆     ┆     ┆     ┆     ┆     ┆     ┆     ┆ ea  ┆     ┆     ┆     ┆     ┆     ┆     ┆     ┆     ┆     ┆     ┆     ┆     ┆     ┆     ┆     ┆     ┆     ┆     ┆     ┆     ┆     │\n",
       "│     ┆     ┆     ┆     ┆     ┆     ┆     ┆     ┆     ┆     ┆     ┆     ┆     ┆     ┆     ┆     ┆     ┆     ┆     ┆     ┆     ┆     ┆     ┆     ┆     ┆     ┆     ┆     ┆     ┆     ┆     ┆     ┆     ┆     ┆     ┆     ┆     ┆     ┆     ┆     ┆     ┆     ┆     ┆     ┆     ┆ SV  ┆     ┆     ┆     ┆     ┆     ┆     ┆     ┆     ┆     ┆     ┆     ┆     ┆     ┆     ┆     ┆     ┆     ┆     ┆     ┆     ┆     ┆     ┆     ┆     ┆     ┆     ┆     ┆     ┆     ┆     ┆     ┆     ┆     ┆     ┆     ┆     ┆     ┆     ┆     ┆     ┆     ┆     ┆     ┆     ┆     ┆     ┆     ┆     ┆     ┆ Gar ┆     ┆     ┆     ┆     ┆     ┆     ┆     ┆     ┆     ┆     ┆     ┆     ┆     ┆     ┆     ┆     ┆     ┆     ┆     ┆     ┆     │\n",
       "│     ┆     ┆     ┆     ┆     ┆     ┆     ┆     ┆     ┆     ┆     ┆     ┆     ┆     ┆     ┆     ┆     ┆     ┆     ┆     ┆     ┆     ┆     ┆     ┆     ┆     ┆     ┆     ┆     ┆     ┆     ┆     ┆     ┆     ┆     ┆     ┆     ┆     ┆     ┆     ┆     ┆     ┆     ┆     ┆     ┆ Zul ┆     ┆     ┆     ┆     ┆     ┆     ┆     ┆     ┆     ┆     ┆     ┆     ┆     ┆     ┆     ┆     ┆     ┆     ┆     ┆     ┆     ┆     ┆     ┆     ┆     ┆     ┆     ┆     ┆     ┆     ┆     ┆     ┆     ┆     ┆     ┆     ┆     ┆     ┆     ┆     ┆     ┆     ┆     ┆     ┆     ┆     ┆     ┆     ┆     ┆ cía ┆     ┆     ┆     ┆     ┆     ┆     ┆     ┆     ┆     ┆     ┆     ┆     ┆     ┆     ┆     ┆     ┆     ┆     ┆     ┆     ┆     │\n",
       "│     ┆     ┆     ┆     ┆     ┆     ┆     ┆     ┆     ┆     ┆     ┆     ┆     ┆     ┆     ┆     ┆     ┆     ┆     ┆     ┆     ┆     ┆     ┆     ┆     ┆     ┆     ┆     ┆     ┆     ┆     ┆     ┆     ┆     ┆     ┆     ┆     ┆     ┆     ┆     ┆     ┆     ┆     ┆     ┆     ┆ te… ┆     ┆     ┆     ┆     ┆     ┆     ┆     ┆     ┆     ┆     ┆     ┆     ┆     ┆     ┆     ┆     ┆     ┆     ┆     ┆     ┆     ┆     ┆     ┆     ┆     ┆     ┆     ┆     ┆     ┆     ┆     ┆     ┆     ┆     ┆     ┆     ┆     ┆     ┆     ┆     ┆     ┆     ┆     ┆     ┆     ┆     ┆     ┆     ┆     ┆     ┆     ┆     ┆     ┆     ┆     ┆     ┆     ┆     ┆     ┆     ┆     ┆     ┆     ┆     ┆     ┆     ┆     ┆     ┆     ┆     ┆     │\n",
       "│ 132 ┆ 13  ┆ 44  ┆ 284 ┆ 88  ┆ 6   ┆ 3   ┆ 28. ┆ 5   ┆ 8.4 ┆ 1   ┆ 680 ┆ 9   ┆ 249 ┆ 6   ┆ 1   ┆ 74. ┆ 594 ┆ 1   ┆ 897 ┆ 27  ┆ 44  ┆ 5   ┆ 224 ┆ 20. ┆ 301 ┆ S.  ┆ 202 ┆ 356 ┆ 27  ┆ 13  ┆ 983 ┆ 207 ┆ 20  ┆ 0   ┆ 202 ┆ 1   ┆ 14. ┆ 12  ┆ 110 ┆ 114 ┆ 50  ┆ 8   ┆ 123 ┆ 8   ┆ Oud ┆ Oud ┆ 4   ┆ 124 ┆ 2   ┆ 188 ┆ 144 ┆ 327 ┆ tru ┆ 64  ┆ 7.1 ┆ 2   ┆ 1   ┆ 21  ┆ 25  ┆ 11  ┆ 70  ┆ 23. ┆ 46. ┆ 603 ┆ 26  ┆ 21  ┆ 0   ┆ 27. ┆ 536 ┆ 18  ┆ 1   ┆ 0   ┆ 132 ┆ 131 ┆ 0   ┆ 16  ┆ Oud ┆ 15  ┆ 13  ┆ 2   ┆ 25  ┆ 276 ┆ 337 ┆ 310 ┆ 6   ┆ 202 ┆ 235 ┆ 13  ┆ 76  ┆ 9   ┆ 8   ┆ 8   ┆ AM  ┆ 1   ┆ Sie ┆ 193 ┆ 37  ┆ 335 ┆ Mid ┆ 199 ┆ 541 ┆ 0   ┆ 25  ┆ 12  ┆ 26  ┆ 20  ┆ 7   ┆ 3   ┆ 17  ┆ 13. ┆ 450 ┆ 554 ┆ 4   ┆ 9   ┆ 27  ┆ 312 │\n",
       "│     ┆     ┆     ┆     ┆     ┆     ┆     ┆ 03  ┆     ┆ 8   ┆     ┆     ┆     ┆     ┆     ┆     ┆ 15  ┆     ┆     ┆ 6   ┆     ┆     ┆     ┆     ┆ 35  ┆     ┆ Sch ┆ 1/2 ┆ 6   ┆     ┆     ┆ 5   ┆     ┆     ┆     ┆ 1-0 ┆     ┆ 52  ┆     ┆     ┆     ┆     ┆     ┆ 4   ┆     ┆ -He ┆ -He ┆     ┆ 2   ┆     ┆ 3   ┆     ┆     ┆ e   ┆     ┆ 5   ┆     ┆     ┆     ┆     ┆     ┆     ┆ 0   ┆ 12  ┆     ┆     ┆     ┆     ┆ 4   ┆     ┆     ┆     ┆     ┆ 6   ┆     ┆     ┆     ┆ -He ┆     ┆     ┆     ┆     ┆     ┆     ┆     ┆     ┆ 5   ┆     ┆     ┆     ┆     ┆     ┆     ┆     ┆     ┆ be  ┆     ┆     ┆ 1   ┆ fie ┆ 6-0 ┆ 0   ┆     ┆     ┆     ┆     ┆     ┆     ┆     ┆     ┆ 2   ┆ 02  ┆     ┆     ┆     ┆     ┆ 5   │\n",
       "│     ┆     ┆     ┆     ┆     ┆     ┆     ┆     ┆     ┆     ┆     ┆     ┆     ┆     ┆     ┆     ┆     ┆     ┆     ┆     ┆     ┆     ┆     ┆     ┆     ┆     ┆ rij ┆ 022 ┆     ┆     ┆     ┆     ┆     ┆     ┆     ┆ 7-2 ┆     ┆     ┆     ┆     ┆     ┆     ┆     ┆     ┆     ┆ ver ┆ ver ┆     ┆     ┆     ┆     ┆     ┆     ┆     ┆     ┆     ┆     ┆     ┆     ┆     ┆     ┆     ┆     ┆     ┆     ┆     ┆     ┆     ┆     ┆     ┆     ┆     ┆     ┆     ┆     ┆     ┆     ┆ ver ┆     ┆     ┆     ┆     ┆     ┆     ┆     ┆     ┆     ┆     ┆     ┆     ┆     ┆     ┆     ┆     ┆     ┆ Sch ┆     ┆     ┆     ┆ ld  ┆ 7-1 ┆     ┆     ┆     ┆     ┆     ┆     ┆     ┆     ┆     ┆     ┆     ┆     ┆     ┆     ┆     ┆     │\n",
       "│     ┆     ┆     ┆     ┆     ┆     ┆     ┆     ┆     ┆     ┆     ┆     ┆     ┆     ┆     ┆     ┆     ┆     ┆     ┆     ┆     ┆     ┆     ┆     ┆     ┆     ┆ ver ┆     ┆     ┆     ┆     ┆     ┆     ┆     ┆     ┆ 4   ┆     ┆     ┆     ┆     ┆     ┆     ┆     ┆     ┆     ┆ lee ┆ lee ┆     ┆     ┆     ┆     ┆     ┆     ┆     ┆     ┆     ┆     ┆     ┆     ┆     ┆     ┆     ┆     ┆     ┆     ┆     ┆     ┆     ┆     ┆     ┆     ┆     ┆     ┆     ┆     ┆     ┆     ┆ lee ┆     ┆     ┆     ┆     ┆     ┆     ┆     ┆     ┆     ┆     ┆     ┆     ┆     ┆     ┆     ┆     ┆     ┆ rij ┆     ┆     ┆     ┆     ┆ 8   ┆     ┆     ┆     ┆     ┆     ┆     ┆     ┆     ┆     ┆     ┆     ┆     ┆     ┆     ┆     ┆     │\n",
       "│     ┆     ┆     ┆     ┆     ┆     ┆     ┆     ┆     ┆     ┆     ┆     ┆     ┆     ┆     ┆     ┆     ┆     ┆     ┆     ┆     ┆     ┆     ┆     ┆     ┆     ┆ s   ┆     ┆     ┆     ┆     ┆     ┆     ┆     ┆     ┆     ┆     ┆     ┆     ┆     ┆     ┆     ┆     ┆     ┆     ┆ Leu ┆ Leu ┆     ┆     ┆     ┆     ┆     ┆     ┆     ┆     ┆     ┆     ┆     ┆     ┆     ┆     ┆     ┆     ┆     ┆     ┆     ┆     ┆     ┆     ┆     ┆     ┆     ┆     ┆     ┆     ┆     ┆     ┆ Leu ┆     ┆     ┆     ┆     ┆     ┆     ┆     ┆     ┆     ┆     ┆     ┆     ┆     ┆     ┆     ┆     ┆     ┆ ver ┆     ┆     ┆     ┆     ┆     ┆     ┆     ┆     ┆     ┆     ┆     ┆     ┆     ┆     ┆     ┆     ┆     ┆     ┆     ┆     ┆     │\n",
       "│     ┆     ┆     ┆     ┆     ┆     ┆     ┆     ┆     ┆     ┆     ┆     ┆     ┆     ┆     ┆     ┆     ┆     ┆     ┆     ┆     ┆     ┆     ┆     ┆     ┆     ┆     ┆     ┆     ┆     ┆     ┆     ┆     ┆     ┆     ┆     ┆     ┆     ┆     ┆     ┆     ┆     ┆     ┆     ┆     ┆ ven ┆ ven ┆     ┆     ┆     ┆     ┆     ┆     ┆     ┆     ┆     ┆     ┆     ┆     ┆     ┆     ┆     ┆     ┆     ┆     ┆     ┆     ┆     ┆     ┆     ┆     ┆     ┆     ┆     ┆     ┆     ┆     ┆ ven ┆     ┆     ┆     ┆     ┆     ┆     ┆     ┆     ┆     ┆     ┆     ┆     ┆     ┆     ┆     ┆     ┆     ┆ s   ┆     ┆     ┆     ┆     ┆     ┆     ┆     ┆     ┆     ┆     ┆     ┆     ┆     ┆     ┆     ┆     ┆     ┆     ┆     ┆     ┆     │\n",
       "│     ┆     ┆     ┆     ┆     ┆     ┆     ┆     ┆     ┆     ┆     ┆     ┆     ┆     ┆     ┆     ┆     ┆     ┆     ┆     ┆     ┆     ┆     ┆     ┆     ┆     ┆     ┆     ┆     ┆     ┆     ┆     ┆     ┆     ┆     ┆     ┆     ┆     ┆     ┆     ┆     ┆     ┆     ┆     ┆     ┆ v   ┆     ┆     ┆     ┆     ┆     ┆     ┆     ┆     ┆     ┆     ┆     ┆     ┆     ┆     ┆     ┆     ┆     ┆     ┆     ┆     ┆     ┆     ┆     ┆     ┆     ┆     ┆     ┆     ┆     ┆     ┆     ┆     ┆     ┆     ┆     ┆     ┆     ┆     ┆     ┆     ┆     ┆     ┆     ┆     ┆     ┆     ┆     ┆     ┆     ┆     ┆     ┆     ┆     ┆     ┆     ┆     ┆     ┆     ┆     ┆     ┆     ┆     ┆     ┆     ┆     ┆     ┆     ┆     ┆     ┆     ┆     │\n",
       "│     ┆     ┆     ┆     ┆     ┆     ┆     ┆     ┆     ┆     ┆     ┆     ┆     ┆     ┆     ┆     ┆     ┆     ┆     ┆     ┆     ┆     ┆     ┆     ┆     ┆     ┆     ┆     ┆     ┆     ┆     ┆     ┆     ┆     ┆     ┆     ┆     ┆     ┆     ┆     ┆     ┆     ┆     ┆     ┆     ┆ SV  ┆     ┆     ┆     ┆     ┆     ┆     ┆     ┆     ┆     ┆     ┆     ┆     ┆     ┆     ┆     ┆     ┆     ┆     ┆     ┆     ┆     ┆     ┆     ┆     ┆     ┆     ┆     ┆     ┆     ┆     ┆     ┆     ┆     ┆     ┆     ┆     ┆     ┆     ┆     ┆     ┆     ┆     ┆     ┆     ┆     ┆     ┆     ┆     ┆     ┆     ┆     ┆     ┆     ┆     ┆     ┆     ┆     ┆     ┆     ┆     ┆     ┆     ┆     ┆     ┆     ┆     ┆     ┆     ┆     ┆     ┆     │\n",
       "│     ┆     ┆     ┆     ┆     ┆     ┆     ┆     ┆     ┆     ┆     ┆     ┆     ┆     ┆     ┆     ┆     ┆     ┆     ┆     ┆     ┆     ┆     ┆     ┆     ┆     ┆     ┆     ┆     ┆     ┆     ┆     ┆     ┆     ┆     ┆     ┆     ┆     ┆     ┆     ┆     ┆     ┆     ┆     ┆     ┆ Zul ┆     ┆     ┆     ┆     ┆     ┆     ┆     ┆     ┆     ┆     ┆     ┆     ┆     ┆     ┆     ┆     ┆     ┆     ┆     ┆     ┆     ┆     ┆     ┆     ┆     ┆     ┆     ┆     ┆     ┆     ┆     ┆     ┆     ┆     ┆     ┆     ┆     ┆     ┆     ┆     ┆     ┆     ┆     ┆     ┆     ┆     ┆     ┆     ┆     ┆     ┆     ┆     ┆     ┆     ┆     ┆     ┆     ┆     ┆     ┆     ┆     ┆     ┆     ┆     ┆     ┆     ┆     ┆     ┆     ┆     ┆     │\n",
       "│     ┆     ┆     ┆     ┆     ┆     ┆     ┆     ┆     ┆     ┆     ┆     ┆     ┆     ┆     ┆     ┆     ┆     ┆     ┆     ┆     ┆     ┆     ┆     ┆     ┆     ┆     ┆     ┆     ┆     ┆     ┆     ┆     ┆     ┆     ┆     ┆     ┆     ┆     ┆     ┆     ┆     ┆     ┆     ┆     ┆ te… ┆     ┆     ┆     ┆     ┆     ┆     ┆     ┆     ┆     ┆     ┆     ┆     ┆     ┆     ┆     ┆     ┆     ┆     ┆     ┆     ┆     ┆     ┆     ┆     ┆     ┆     ┆     ┆     ┆     ┆     ┆     ┆     ┆     ┆     ┆     ┆     ┆     ┆     ┆     ┆     ┆     ┆     ┆     ┆     ┆     ┆     ┆     ┆     ┆     ┆     ┆     ┆     ┆     ┆     ┆     ┆     ┆     ┆     ┆     ┆     ┆     ┆     ┆     ┆     ┆     ┆     ┆     ┆     ┆     ┆     ┆     │\n",
       "│ 36  ┆ 13  ┆ 44  ┆ 253 ┆ 0   ┆ 4   ┆ 1   ┆ 60. ┆ 3   ┆ 19. ┆ 1   ┆ 943 ┆ 6   ┆ 249 ┆ 2   ┆ 0   ┆ 110 ┆ 334 ┆ 2   ┆ 116 ┆ 26  ┆ 36  ┆ 10  ┆ 174 ┆ 28. ┆ 468 ┆ S.  ┆ 202 ┆ 536 ┆ 39  ┆ 13  ┆ 115 ┆ 60  ┆ 17  ┆ 0   ┆ 202 ┆ 0   ┆ 18. ┆ 4   ┆ 62  ┆ 112 ┆ 35  ┆ 19  ┆ 140 ┆ 11  ┆ Clu ┆ KAS ┆ 2   ┆ 139 ┆ 2   ┆ 234 ┆ 140 ┆ 461 ┆ tru ┆ 86  ┆ 12. ┆ 1   ┆ 0   ┆ 29  ┆ 23  ┆ 9   ┆ 85  ┆ 37. ┆ 50. ┆ 603 ┆ 47  ┆ 37  ┆ 1   ┆ 25. ┆ 788 ┆ 23  ┆ 1   ┆ 1   ┆ 225 ┆ 4   ┆ 1   ┆ 16  ┆ KAS ┆ 8   ┆ 18  ┆ 2   ┆ 12  ┆ 142 ┆ 159 ┆ 81  ┆ 1   ┆ 265 ┆ 320 ┆ 18  ┆ 56  ┆ 8   ┆ 8   ┆ 2   ┆ AM  ┆ 1   ┆ Ste ┆ 19  ┆ 47  ┆ 490 ┆ Mid ┆ 199 ┆ 625 ┆ 2   ┆ 17  ┆ 5   ┆ 41  ┆ 4   ┆ 20  ┆ 1   ┆ 21  ┆ 15. ┆ 449 ┆ 462 ┆ 0   ┆ 26  ┆ 24  ┆ 373 │\n",
       "│     ┆     ┆     ┆     ┆     ┆     ┆     ┆ 17  ┆     ┆ 18  ┆     ┆     ┆     ┆     ┆     ┆     ┆ .42 ┆     ┆     ┆ 26  ┆     ┆     ┆     ┆     ┆ 66  ┆     ┆ Pee ┆ 1/2 ┆ 9   ┆     ┆     ┆ 95  ┆     ┆     ┆     ┆ 1-0 ┆     ┆ 05  ┆     ┆     ┆     ┆     ┆     ┆ 5   ┆     ┆ b   ┆ Eup ┆     ┆ 7   ┆     ┆ 0   ┆     ┆     ┆ e   ┆     ┆ 98  ┆     ┆     ┆     ┆     ┆     ┆     ┆ 23  ┆ 25  ┆     ┆     ┆     ┆     ┆ 5   ┆     ┆     ┆     ┆     ┆ 2   ┆     ┆     ┆     ┆ Eup ┆     ┆     ┆     ┆     ┆     ┆     ┆     ┆     ┆ 0   ┆     ┆     ┆     ┆     ┆     ┆     ┆     ┆     ┆ f   ┆     ┆     ┆ 2   ┆ fie ┆ 2-0 ┆ 7   ┆     ┆     ┆     ┆     ┆     ┆     ┆     ┆     ┆ 68  ┆ 98  ┆     ┆     ┆     ┆     ┆ 7   │\n",
       "│     ┆     ┆     ┆     ┆     ┆     ┆     ┆     ┆     ┆     ┆     ┆     ┆     ┆     ┆     ┆     ┆     ┆     ┆     ┆     ┆     ┆     ┆     ┆     ┆     ┆     ┆ ter ┆ 022 ┆     ┆     ┆     ┆     ┆     ┆     ┆     ┆ 7-2 ┆     ┆     ┆     ┆     ┆     ┆     ┆     ┆     ┆     ┆ Bru ┆ en  ┆     ┆     ┆     ┆     ┆     ┆     ┆     ┆     ┆     ┆     ┆     ┆     ┆     ┆     ┆     ┆     ┆     ┆     ┆     ┆     ┆     ┆     ┆     ┆     ┆     ┆     ┆     ┆     ┆     ┆     ┆ en  ┆     ┆     ┆     ┆     ┆     ┆     ┆     ┆     ┆     ┆     ┆     ┆     ┆     ┆     ┆     ┆     ┆     ┆ Pee ┆     ┆     ┆     ┆ ld  ┆ 2-0 ┆     ┆     ┆     ┆     ┆     ┆     ┆     ┆     ┆     ┆     ┆     ┆     ┆     ┆     ┆     ┆     │\n",
       "│     ┆     ┆     ┆     ┆     ┆     ┆     ┆     ┆     ┆     ┆     ┆     ┆     ┆     ┆     ┆     ┆     ┆     ┆     ┆     ┆     ┆     ┆     ┆     ┆     ┆     ┆ s   ┆     ┆     ┆     ┆     ┆     ┆     ┆     ┆     ┆ 5   ┆     ┆     ┆     ┆     ┆     ┆     ┆     ┆     ┆     ┆ gge ┆     ┆     ┆     ┆     ┆     ┆     ┆     ┆     ┆     ┆     ┆     ┆     ┆     ┆     ┆     ┆     ┆     ┆     ┆     ┆     ┆     ┆     ┆     ┆     ┆     ┆     ┆     ┆     ┆     ┆     ┆     ┆     ┆     ┆     ┆     ┆     ┆     ┆     ┆     ┆     ┆     ┆     ┆     ┆     ┆     ┆     ┆     ┆     ┆     ┆ ter ┆     ┆     ┆     ┆     ┆ 9   ┆     ┆     ┆     ┆     ┆     ┆     ┆     ┆     ┆     ┆     ┆     ┆     ┆     ┆     ┆     ┆     │\n",
       "│     ┆     ┆     ┆     ┆     ┆     ┆     ┆     ┆     ┆     ┆     ┆     ┆     ┆     ┆     ┆     ┆     ┆     ┆     ┆     ┆     ┆     ┆     ┆     ┆     ┆     ┆     ┆     ┆     ┆     ┆     ┆     ┆     ┆     ┆     ┆     ┆     ┆     ┆     ┆     ┆     ┆     ┆     ┆     ┆     ┆ KV  ┆     ┆     ┆     ┆     ┆     ┆     ┆     ┆     ┆     ┆     ┆     ┆     ┆     ┆     ┆     ┆     ┆     ┆     ┆     ┆     ┆     ┆     ┆     ┆     ┆     ┆     ┆     ┆     ┆     ┆     ┆     ┆     ┆     ┆     ┆     ┆     ┆     ┆     ┆     ┆     ┆     ┆     ┆     ┆     ┆     ┆     ┆     ┆     ┆     ┆ s   ┆     ┆     ┆     ┆     ┆     ┆     ┆     ┆     ┆     ┆     ┆     ┆     ┆     ┆     ┆     ┆     ┆     ┆     ┆     ┆     ┆     │\n",
       "│     ┆     ┆     ┆     ┆     ┆     ┆     ┆     ┆     ┆     ┆     ┆     ┆     ┆     ┆     ┆     ┆     ┆     ┆     ┆     ┆     ┆     ┆     ┆     ┆     ┆     ┆     ┆     ┆     ┆     ┆     ┆     ┆     ┆     ┆     ┆     ┆     ┆     ┆     ┆     ┆     ┆     ┆     ┆     ┆     ┆ v   ┆     ┆     ┆     ┆     ┆     ┆     ┆     ┆     ┆     ┆     ┆     ┆     ┆     ┆     ┆     ┆     ┆     ┆     ┆     ┆     ┆     ┆     ┆     ┆     ┆     ┆     ┆     ┆     ┆     ┆     ┆     ┆     ┆     ┆     ┆     ┆     ┆     ┆     ┆     ┆     ┆     ┆     ┆     ┆     ┆     ┆     ┆     ┆     ┆     ┆     ┆     ┆     ┆     ┆     ┆     ┆     ┆     ┆     ┆     ┆     ┆     ┆     ┆     ┆     ┆     ┆     ┆     ┆     ┆     ┆     ┆     │\n",
       "│     ┆     ┆     ┆     ┆     ┆     ┆     ┆     ┆     ┆     ┆     ┆     ┆     ┆     ┆     ┆     ┆     ┆     ┆     ┆     ┆     ┆     ┆     ┆     ┆     ┆     ┆     ┆     ┆     ┆     ┆     ┆     ┆     ┆     ┆     ┆     ┆     ┆     ┆     ┆     ┆     ┆     ┆     ┆     ┆     ┆ KAS ┆     ┆     ┆     ┆     ┆     ┆     ┆     ┆     ┆     ┆     ┆     ┆     ┆     ┆     ┆     ┆     ┆     ┆     ┆     ┆     ┆     ┆     ┆     ┆     ┆     ┆     ┆     ┆     ┆     ┆     ┆     ┆     ┆     ┆     ┆     ┆     ┆     ┆     ┆     ┆     ┆     ┆     ┆     ┆     ┆     ┆     ┆     ┆     ┆     ┆     ┆     ┆     ┆     ┆     ┆     ┆     ┆     ┆     ┆     ┆     ┆     ┆     ┆     ┆     ┆     ┆     ┆     ┆     ┆     ┆     ┆     │\n",
       "│     ┆     ┆     ┆     ┆     ┆     ┆     ┆     ┆     ┆     ┆     ┆     ┆     ┆     ┆     ┆     ┆     ┆     ┆     ┆     ┆     ┆     ┆     ┆     ┆     ┆     ┆     ┆     ┆     ┆     ┆     ┆     ┆     ┆     ┆     ┆     ┆     ┆     ┆     ┆     ┆     ┆     ┆     ┆     ┆     ┆ Eup ┆     ┆     ┆     ┆     ┆     ┆     ┆     ┆     ┆     ┆     ┆     ┆     ┆     ┆     ┆     ┆     ┆     ┆     ┆     ┆     ┆     ┆     ┆     ┆     ┆     ┆     ┆     ┆     ┆     ┆     ┆     ┆     ┆     ┆     ┆     ┆     ┆     ┆     ┆     ┆     ┆     ┆     ┆     ┆     ┆     ┆     ┆     ┆     ┆     ┆     ┆     ┆     ┆     ┆     ┆     ┆     ┆     ┆     ┆     ┆     ┆     ┆     ┆     ┆     ┆     ┆     ┆     ┆     ┆     ┆     ┆     │\n",
       "│     ┆     ┆     ┆     ┆     ┆     ┆     ┆     ┆     ┆     ┆     ┆     ┆     ┆     ┆     ┆     ┆     ┆     ┆     ┆     ┆     ┆     ┆     ┆     ┆     ┆     ┆     ┆     ┆     ┆     ┆     ┆     ┆     ┆     ┆     ┆     ┆     ┆     ┆     ┆     ┆     ┆     ┆     ┆     ┆     ┆ en  ┆     ┆     ┆     ┆     ┆     ┆     ┆     ┆     ┆     ┆     ┆     ┆     ┆     ┆     ┆     ┆     ┆     ┆     ┆     ┆     ┆     ┆     ┆     ┆     ┆     ┆     ┆     ┆     ┆     ┆     ┆     ┆     ┆     ┆     ┆     ┆     ┆     ┆     ┆     ┆     ┆     ┆     ┆     ┆     ┆     ┆     ┆     ┆     ┆     ┆     ┆     ┆     ┆     ┆     ┆     ┆     ┆     ┆     ┆     ┆     ┆     ┆     ┆     ┆     ┆     ┆     ┆     ┆     ┆     ┆     ┆     │\n",
       "└─────┴─────┴─────┴─────┴─────┴─────┴─────┴─────┴─────┴─────┴─────┴─────┴─────┴─────┴─────┴─────┴─────┴─────┴─────┴─────┴─────┴─────┴─────┴─────┴─────┴─────┴─────┴─────┴─────┴─────┴─────┴─────┴─────┴─────┴─────┴─────┴─────┴─────┴─────┴─────┴─────┴─────┴─────┴─────┴─────┴─────┴─────┴─────┴─────┴─────┴─────┴─────┴─────┴─────┴─────┴─────┴─────┴─────┴─────┴─────┴─────┴─────┴─────┴─────┴─────┴─────┴─────┴─────┴─────┴─────┴─────┴─────┴─────┴─────┴─────┴─────┴─────┴─────┴─────┴─────┴─────┴─────┴─────┴─────┴─────┴─────┴─────┴─────┴─────┴─────┴─────┴─────┴─────┴─────┴─────┴─────┴─────┴─────┴─────┴─────┴─────┴─────┴─────┴─────┴─────┴─────┴─────┴─────┴─────┴─────┴─────┴─────┴─────┴─────┴─────┴─────┴─────┘"
      ]
     },
     "execution_count": 14,
     "metadata": {},
     "output_type": "execute_result"
    }
   ],
   "source": [
    "pl.Config.set_tbl_cols(250)\n",
    "corr_df.head()"
   ]
  },
  {
   "cell_type": "code",
   "execution_count": 15,
   "metadata": {},
   "outputs": [],
   "source": [
    "nonull_numeric = corr_df.drop_nulls().select(cs.numeric())"
   ]
  },
  {
   "cell_type": "code",
   "execution_count": 16,
   "metadata": {},
   "outputs": [],
   "source": [
    "correlations = nonull_numeric.corr()"
   ]
  },
  {
   "cell_type": "code",
   "execution_count": 17,
   "metadata": {},
   "outputs": [
    {
     "name": "stdout",
     "output_type": "stream",
     "text": [
      "Filtered correlations saved to 'filtered_correlations.csv'.\n"
     ]
    },
    {
     "name": "stderr",
     "output_type": "stream",
     "text": [
      "/tmp/ipykernel_3858/36976019.py:15: DataOrientationWarning: Row orientation inferred during DataFrame construction. Explicitly specify the orientation by passing `orient=\"row\"` to silence this warning.\n",
      "  filtered_df = pl.DataFrame(filtered_data, schema=[\"Variable 1\", \"Variable 2\", \"Correlation\"])\n"
     ]
    }
   ],
   "source": [
    "# only retaining meaningfull correlation\n",
    "\n",
    "# Initialize an empty list to store the filtered correlation pairs\n",
    "filtered_data = []\n",
    "\n",
    "# Iterate over the rows and columns to extract variable pairs and correlations\n",
    "for i, row in enumerate(correlations.columns):\n",
    "    for j, col in enumerate(correlations.columns):\n",
    "        if i < j:  # Skip self-correlation and duplicate pairs (ensure we only process one pair)\n",
    "            corr_value = correlations[row][j]  # Access the correlation value at row i, column j\n",
    "            if corr_value > 0.8:  # Only keep correlations > 0.8\n",
    "                filtered_data.append([row, col, corr_value])\n",
    "\n",
    "# Create a Polars DataFrame with the filtered data\n",
    "filtered_df = pl.DataFrame(filtered_data, schema=[\"Variable 1\", \"Variable 2\", \"Correlation\"])\n",
    "\n",
    "# Write the filtered data to a CSV file (since Polars doesn't support writing to Excel directly)\n",
    "filtered_df.write_excel(workbook = \"filtered_correlations.xlsx\")\n",
    "\n",
    "print(\"Filtered correlations saved to 'filtered_correlations.csv'.\")"
   ]
  },
  {
   "cell_type": "code",
   "execution_count": 18,
   "metadata": {},
   "outputs": [],
   "source": [
    "nonull_numeric_np = nonull_numeric.to_numpy()"
   ]
  },
  {
   "cell_type": "code",
   "execution_count": 19,
   "metadata": {},
   "outputs": [],
   "source": [
    "#get back the correlations\n",
    "#get back the z-scores\n",
    "z_scores = zscore(nonull_numeric_np)"
   ]
  },
  {
   "cell_type": "code",
   "execution_count": 20,
   "metadata": {},
   "outputs": [
    {
     "name": "stdout",
     "output_type": "stream",
     "text": [
      "(0, 106)\n"
     ]
    }
   ],
   "source": [
    "# Find outliers\n",
    "outliers = nonull_numeric_np[(np.abs(zscore(nonull_numeric_np)) >= 5).all(axis=1)]\n",
    "\n",
    "# Check the shape\n",
    "print(outliers.shape)"
   ]
  },
  {
   "cell_type": "code",
   "execution_count": 21,
   "metadata": {},
   "outputs": [],
   "source": [
    "#pyg.walk(position_test_df)"
   ]
  },
  {
   "cell_type": "code",
   "execution_count": 22,
   "metadata": {},
   "outputs": [
    {
     "data": {
      "text/html": [
       "<div><style>\n",
       ".dataframe > thead > tr,\n",
       ".dataframe > tbody > tr {\n",
       "  text-align: right;\n",
       "  white-space: pre-wrap;\n",
       "}\n",
       "</style>\n",
       "<small>shape: (5, 11)</small><table border=\"1\" class=\"dataframe\"><thead><tr><th>name</th><th>id</th><th>season_id</th><th>season_start_year</th><th>season_end_year</th><th>season_name</th><th>competition_id</th><th>competition_area</th><th>competition_name</th><th>competition_gender</th><th>competition_age_group</th></tr><tr><td>str</td><td>i64</td><td>i64</td><td>i64</td><td>i64</td><td>str</td><td>i64</td><td>str</td><td>str</td><td>str</td><td>str</td></tr></thead><tbody><tr><td>&quot;FIFA - World Cup - 2014&quot;</td><td>0</td><td>10</td><td>2014</td><td>2014</td><td>&quot;2014&quot;</td><td>0</td><td>&quot;FIFA&quot;</td><td>&quot;World Cup&quot;</td><td>&quot;male&quot;</td><td>&quot;adult&quot;</td></tr><tr><td>&quot;ENG - Premier League - 2015/20…</td><td>1</td><td>2</td><td>2015</td><td>2016</td><td>&quot;2015/2016&quot;</td><td>1</td><td>&quot;ENG&quot;</td><td>&quot;Premier League&quot;</td><td>&quot;male&quot;</td><td>&quot;adult&quot;</td></tr><tr><td>&quot;UEFA - European Championship -…</td><td>2</td><td>12</td><td>2016</td><td>2016</td><td>&quot;2016&quot;</td><td>2</td><td>&quot;UEFA&quot;</td><td>&quot;European Championship&quot;</td><td>&quot;male&quot;</td><td>&quot;adult&quot;</td></tr><tr><td>&quot;ENG - Premier League - 2016/20…</td><td>3</td><td>3</td><td>2016</td><td>2017</td><td>&quot;2016/2017&quot;</td><td>1</td><td>&quot;ENG&quot;</td><td>&quot;Premier League&quot;</td><td>&quot;male&quot;</td><td>&quot;adult&quot;</td></tr><tr><td>&quot;ENG - Premier League - 2017/20…</td><td>4</td><td>4</td><td>2017</td><td>2018</td><td>&quot;2017/2018&quot;</td><td>1</td><td>&quot;ENG&quot;</td><td>&quot;Premier League&quot;</td><td>&quot;male&quot;</td><td>&quot;adult&quot;</td></tr></tbody></table></div>"
      ],
      "text/plain": [
       "shape: (5, 11)\n",
       "┌─────────┬─────┬─────────┬─────────┬────────┬────────┬────────┬────────┬────────┬────────┬────────┐\n",
       "│ name    ┆ id  ┆ season_ ┆ season_ ┆ season ┆ season ┆ compet ┆ compet ┆ compet ┆ compet ┆ compet │\n",
       "│ ---     ┆ --- ┆ id      ┆ start_y ┆ _end_y ┆ _name  ┆ ition_ ┆ ition_ ┆ ition_ ┆ ition_ ┆ ition_ │\n",
       "│ str     ┆ i64 ┆ ---     ┆ ear     ┆ ear    ┆ ---    ┆ id     ┆ area   ┆ name   ┆ gender ┆ age_gr │\n",
       "│         ┆     ┆ i64     ┆ ---     ┆ ---    ┆ str    ┆ ---    ┆ ---    ┆ ---    ┆ ---    ┆ oup    │\n",
       "│         ┆     ┆         ┆ i64     ┆ i64    ┆        ┆ i64    ┆ str    ┆ str    ┆ str    ┆ ---    │\n",
       "│         ┆     ┆         ┆         ┆        ┆        ┆        ┆        ┆        ┆        ┆ str    │\n",
       "╞═════════╪═════╪═════════╪═════════╪════════╪════════╪════════╪════════╪════════╪════════╪════════╡\n",
       "│ FIFA -  ┆ 0   ┆ 10      ┆ 2014    ┆ 2014   ┆ 2014   ┆ 0      ┆ FIFA   ┆ World  ┆ male   ┆ adult  │\n",
       "│ World   ┆     ┆         ┆         ┆        ┆        ┆        ┆        ┆ Cup    ┆        ┆        │\n",
       "│ Cup -   ┆     ┆         ┆         ┆        ┆        ┆        ┆        ┆        ┆        ┆        │\n",
       "│ 2014    ┆     ┆         ┆         ┆        ┆        ┆        ┆        ┆        ┆        ┆        │\n",
       "│ ENG -   ┆ 1   ┆ 2       ┆ 2015    ┆ 2016   ┆ 2015/2 ┆ 1      ┆ ENG    ┆ Premie ┆ male   ┆ adult  │\n",
       "│ Premier ┆     ┆         ┆         ┆        ┆ 016    ┆        ┆        ┆ r      ┆        ┆        │\n",
       "│ League  ┆     ┆         ┆         ┆        ┆        ┆        ┆        ┆ League ┆        ┆        │\n",
       "│ - 2015/ ┆     ┆         ┆         ┆        ┆        ┆        ┆        ┆        ┆        ┆        │\n",
       "│ 20…     ┆     ┆         ┆         ┆        ┆        ┆        ┆        ┆        ┆        ┆        │\n",
       "│ UEFA -  ┆ 2   ┆ 12      ┆ 2016    ┆ 2016   ┆ 2016   ┆ 2      ┆ UEFA   ┆ Europe ┆ male   ┆ adult  │\n",
       "│ Europea ┆     ┆         ┆         ┆        ┆        ┆        ┆        ┆ an Cha ┆        ┆        │\n",
       "│ n Champ ┆     ┆         ┆         ┆        ┆        ┆        ┆        ┆ mpions ┆        ┆        │\n",
       "│ ionship ┆     ┆         ┆         ┆        ┆        ┆        ┆        ┆ hip    ┆        ┆        │\n",
       "│ -…      ┆     ┆         ┆         ┆        ┆        ┆        ┆        ┆        ┆        ┆        │\n",
       "│ ENG -   ┆ 3   ┆ 3       ┆ 2016    ┆ 2017   ┆ 2016/2 ┆ 1      ┆ ENG    ┆ Premie ┆ male   ┆ adult  │\n",
       "│ Premier ┆     ┆         ┆         ┆        ┆ 017    ┆        ┆        ┆ r      ┆        ┆        │\n",
       "│ League  ┆     ┆         ┆         ┆        ┆        ┆        ┆        ┆ League ┆        ┆        │\n",
       "│ - 2016/ ┆     ┆         ┆         ┆        ┆        ┆        ┆        ┆        ┆        ┆        │\n",
       "│ 20…     ┆     ┆         ┆         ┆        ┆        ┆        ┆        ┆        ┆        ┆        │\n",
       "│ ENG -   ┆ 4   ┆ 4       ┆ 2017    ┆ 2018   ┆ 2017/2 ┆ 1      ┆ ENG    ┆ Premie ┆ male   ┆ adult  │\n",
       "│ Premier ┆     ┆         ┆         ┆        ┆ 018    ┆        ┆        ┆ r      ┆        ┆        │\n",
       "│ League  ┆     ┆         ┆         ┆        ┆        ┆        ┆        ┆ League ┆        ┆        │\n",
       "│ - 2017/ ┆     ┆         ┆         ┆        ┆        ┆        ┆        ┆        ┆        ┆        │\n",
       "│ 20…     ┆     ┆         ┆         ┆        ┆        ┆        ┆        ┆        ┆        ┆        │\n",
       "└─────────┴─────┴─────────┴─────────┴────────┴────────┴────────┴────────┴────────┴────────┴────────┘"
      ]
     },
     "execution_count": 22,
     "metadata": {},
     "output_type": "execute_result"
    }
   ],
   "source": [
    "ce.head()"
   ]
  },
  {
   "cell_type": "code",
   "execution_count": 23,
   "metadata": {},
   "outputs": [],
   "source": [
    "# change column name of ce df id collumn for easy join\n",
    "ce = ce.rename({\"id\":\"competition_edition_id\"})"
   ]
  },
  {
   "cell_type": "code",
   "execution_count": 24,
   "metadata": {},
   "outputs": [
    {
     "data": {
      "text/html": [
       "<div><style>\n",
       ".dataframe > thead > tr,\n",
       ".dataframe > tbody > tr {\n",
       "  text-align: right;\n",
       "  white-space: pre-wrap;\n",
       "}\n",
       "</style>\n",
       "<small>shape: (5, 11)</small><table border=\"1\" class=\"dataframe\"><thead><tr><th>name</th><th>competition_edition_id</th><th>season_id</th><th>season_start_year</th><th>season_end_year</th><th>season_name</th><th>competition_id</th><th>competition_area</th><th>competition_name</th><th>competition_gender</th><th>competition_age_group</th></tr><tr><td>str</td><td>i64</td><td>i64</td><td>i64</td><td>i64</td><td>str</td><td>i64</td><td>str</td><td>str</td><td>str</td><td>str</td></tr></thead><tbody><tr><td>&quot;FIFA - World Cup - 2014&quot;</td><td>0</td><td>10</td><td>2014</td><td>2014</td><td>&quot;2014&quot;</td><td>0</td><td>&quot;FIFA&quot;</td><td>&quot;World Cup&quot;</td><td>&quot;male&quot;</td><td>&quot;adult&quot;</td></tr><tr><td>&quot;ENG - Premier League - 2015/20…</td><td>1</td><td>2</td><td>2015</td><td>2016</td><td>&quot;2015/2016&quot;</td><td>1</td><td>&quot;ENG&quot;</td><td>&quot;Premier League&quot;</td><td>&quot;male&quot;</td><td>&quot;adult&quot;</td></tr><tr><td>&quot;UEFA - European Championship -…</td><td>2</td><td>12</td><td>2016</td><td>2016</td><td>&quot;2016&quot;</td><td>2</td><td>&quot;UEFA&quot;</td><td>&quot;European Championship&quot;</td><td>&quot;male&quot;</td><td>&quot;adult&quot;</td></tr><tr><td>&quot;ENG - Premier League - 2016/20…</td><td>3</td><td>3</td><td>2016</td><td>2017</td><td>&quot;2016/2017&quot;</td><td>1</td><td>&quot;ENG&quot;</td><td>&quot;Premier League&quot;</td><td>&quot;male&quot;</td><td>&quot;adult&quot;</td></tr><tr><td>&quot;ENG - Premier League - 2017/20…</td><td>4</td><td>4</td><td>2017</td><td>2018</td><td>&quot;2017/2018&quot;</td><td>1</td><td>&quot;ENG&quot;</td><td>&quot;Premier League&quot;</td><td>&quot;male&quot;</td><td>&quot;adult&quot;</td></tr></tbody></table></div>"
      ],
      "text/plain": [
       "shape: (5, 11)\n",
       "┌────────┬────────┬────────┬────────┬────────┬────────┬────────┬────────┬────────┬────────┬────────┐\n",
       "│ name   ┆ compet ┆ season ┆ season ┆ season ┆ season ┆ compet ┆ compet ┆ compet ┆ compet ┆ compet │\n",
       "│ ---    ┆ ition_ ┆ _id    ┆ _start ┆ _end_y ┆ _name  ┆ ition_ ┆ ition_ ┆ ition_ ┆ ition_ ┆ ition_ │\n",
       "│ str    ┆ editio ┆ ---    ┆ _year  ┆ ear    ┆ ---    ┆ id     ┆ area   ┆ name   ┆ gender ┆ age_gr │\n",
       "│        ┆ n_id   ┆ i64    ┆ ---    ┆ ---    ┆ str    ┆ ---    ┆ ---    ┆ ---    ┆ ---    ┆ oup    │\n",
       "│        ┆ ---    ┆        ┆ i64    ┆ i64    ┆        ┆ i64    ┆ str    ┆ str    ┆ str    ┆ ---    │\n",
       "│        ┆ i64    ┆        ┆        ┆        ┆        ┆        ┆        ┆        ┆        ┆ str    │\n",
       "╞════════╪════════╪════════╪════════╪════════╪════════╪════════╪════════╪════════╪════════╪════════╡\n",
       "│ FIFA - ┆ 0      ┆ 10     ┆ 2014   ┆ 2014   ┆ 2014   ┆ 0      ┆ FIFA   ┆ World  ┆ male   ┆ adult  │\n",
       "│ World  ┆        ┆        ┆        ┆        ┆        ┆        ┆        ┆ Cup    ┆        ┆        │\n",
       "│ Cup -  ┆        ┆        ┆        ┆        ┆        ┆        ┆        ┆        ┆        ┆        │\n",
       "│ 2014   ┆        ┆        ┆        ┆        ┆        ┆        ┆        ┆        ┆        ┆        │\n",
       "│ ENG -  ┆ 1      ┆ 2      ┆ 2015   ┆ 2016   ┆ 2015/2 ┆ 1      ┆ ENG    ┆ Premie ┆ male   ┆ adult  │\n",
       "│ Premie ┆        ┆        ┆        ┆        ┆ 016    ┆        ┆        ┆ r      ┆        ┆        │\n",
       "│ r      ┆        ┆        ┆        ┆        ┆        ┆        ┆        ┆ League ┆        ┆        │\n",
       "│ League ┆        ┆        ┆        ┆        ┆        ┆        ┆        ┆        ┆        ┆        │\n",
       "│ - 2015 ┆        ┆        ┆        ┆        ┆        ┆        ┆        ┆        ┆        ┆        │\n",
       "│ /20…   ┆        ┆        ┆        ┆        ┆        ┆        ┆        ┆        ┆        ┆        │\n",
       "│ UEFA - ┆ 2      ┆ 12     ┆ 2016   ┆ 2016   ┆ 2016   ┆ 2      ┆ UEFA   ┆ Europe ┆ male   ┆ adult  │\n",
       "│ Europe ┆        ┆        ┆        ┆        ┆        ┆        ┆        ┆ an Cha ┆        ┆        │\n",
       "│ an Cha ┆        ┆        ┆        ┆        ┆        ┆        ┆        ┆ mpions ┆        ┆        │\n",
       "│ mpions ┆        ┆        ┆        ┆        ┆        ┆        ┆        ┆ hip    ┆        ┆        │\n",
       "│ hip -… ┆        ┆        ┆        ┆        ┆        ┆        ┆        ┆        ┆        ┆        │\n",
       "│ ENG -  ┆ 3      ┆ 3      ┆ 2016   ┆ 2017   ┆ 2016/2 ┆ 1      ┆ ENG    ┆ Premie ┆ male   ┆ adult  │\n",
       "│ Premie ┆        ┆        ┆        ┆        ┆ 017    ┆        ┆        ┆ r      ┆        ┆        │\n",
       "│ r      ┆        ┆        ┆        ┆        ┆        ┆        ┆        ┆ League ┆        ┆        │\n",
       "│ League ┆        ┆        ┆        ┆        ┆        ┆        ┆        ┆        ┆        ┆        │\n",
       "│ - 2016 ┆        ┆        ┆        ┆        ┆        ┆        ┆        ┆        ┆        ┆        │\n",
       "│ /20…   ┆        ┆        ┆        ┆        ┆        ┆        ┆        ┆        ┆        ┆        │\n",
       "│ ENG -  ┆ 4      ┆ 4      ┆ 2017   ┆ 2018   ┆ 2017/2 ┆ 1      ┆ ENG    ┆ Premie ┆ male   ┆ adult  │\n",
       "│ Premie ┆        ┆        ┆        ┆        ┆ 018    ┆        ┆        ┆ r      ┆        ┆        │\n",
       "│ r      ┆        ┆        ┆        ┆        ┆        ┆        ┆        ┆ League ┆        ┆        │\n",
       "│ League ┆        ┆        ┆        ┆        ┆        ┆        ┆        ┆        ┆        ┆        │\n",
       "│ - 2017 ┆        ┆        ┆        ┆        ┆        ┆        ┆        ┆        ┆        ┆        │\n",
       "│ /20…   ┆        ┆        ┆        ┆        ┆        ┆        ┆        ┆        ┆        ┆        │\n",
       "└────────┴────────┴────────┴────────┴────────┴────────┴────────┴────────┴────────┴────────┴────────┘"
      ]
     },
     "execution_count": 24,
     "metadata": {},
     "output_type": "execute_result"
    }
   ],
   "source": [
    "ce.head()"
   ]
  },
  {
   "cell_type": "code",
   "execution_count": 25,
   "metadata": {},
   "outputs": [],
   "source": [
    "#join corr_df (competition_edition_id) and ce_df (id)\n",
    "work_df = corr_df.join(ce, on = \"competition_edition_id\")"
   ]
  },
  {
   "cell_type": "code",
   "execution_count": 26,
   "metadata": {},
   "outputs": [
    {
     "data": {
      "text/html": [
       "<div><style>\n",
       ".dataframe > thead > tr,\n",
       ".dataframe > tbody > tr {\n",
       "  text-align: right;\n",
       "  white-space: pre-wrap;\n",
       "}\n",
       "</style>\n",
       "<small>shape: (5, 127)</small><table border=\"1\" class=\"dataframe\"><thead><tr><th>Sprinting Distance TIP</th><th>Count HSR TIP 1</th><th>Count Medium Deceleration 1</th><th>HSR Distance 1</th><th>Sprinting Distance TIP 2</th><th>Count Sprint 1</th><th>Count High Deceleration TIP</th><th>Minutes 2</th><th>Count High Deceleration OTIP</th><th>Minutes OTIP 2</th><th>Count Sprint OTIP 2</th><th>Running Distance 1</th><th>Count High Deceleration 1</th><th>competition_edition_id</th><th>Count High Deceleration 2</th><th>Count High Acceleration TIP 2</th><th>Minutes</th><th>HSR Distance</th><th>Count High Acceleration</th><th>Distance</th><th>team_id</th><th>Sprinting Distance TIP 1</th><th>Count Medium Deceleration TIP 2</th><th>HSR Distance OTIP</th><th>Minutes TIP</th><th>Running Distance OTIP 1</th><th>short_name</th><th>season_name</th><th>Distance 2</th><th>Count Medium Acceleration 2</th><th>Count Medium Deceleration TIP 1</th><th>player_id</th><th>Sprinting Distance</th><th>Count HSR OTIP</th><th>Count High Acceleration OTIP 2</th><th>date</th><th>Count High Deceleration TIP 2</th><th>Minutes OTIP 1</th><th>Count HSR TIP 2</th><th>HSR Distance OTIP 2</th><th>HSR Distance OTIP 1</th><th>Count HSR</th><th>Count Medium Deceleration OTIP 2</th><th>Running Distance</th><th>Count Medium Acceleration TIP 2</th><th>match_name</th><th>team</th><th>Count Sprint TIP 1</th><th>Distance TIP 2</th><th>Count High Deceleration OTIP 1</th><th>Distance TIP 1</th><th>HSR Distance TIP 1</th><th>Running Distance TIP 1</th><th>quality_check</th><th>Count Medium Acceleration</th><th>Minutes TIP 2</th><th>Count High Deceleration TIP 1</th><th>Count High Acceleration 2</th><th>Count Medium Acceleration TIP</th><th>Count HSR 1</th><th>Count HSR OTIP 1</th><th>Count Medium Deceleration</th><th>Minutes OTIP</th><th>Minutes 1</th><th>Running Distance TIP</th><th>Count Medium Acceleration OTIP</th><th>Count Medium Deceleration OTIP</th><th>Count High Acceleration OTIP 1</th><th>PSV-99</th><th>Running Distance OTIP</th><th>Count Medium Deceleration TIP</th><th>Count Sprint OTIP 1</th><th>Count High Acceleration TIP 1</th><th>Distance OTIP 2</th><th>Sprinting Distance 2</th><th>Count High Acceleration OTIP</th><th>competition_id</th><th>team_name</th><th>Count High Deceleration</th><th>Count Medium Deceleration OTIP 1</th><th>Count Sprint OTIP</th><th>Count HSR 2</th><th>Running Distance TIP 2</th><th>HSR Distance TIP</th><th>HSR Distance 2</th><th>Count Sprint 2</th><th>Distance OTIP 1</th><th>Running Distance OTIP 2</th><th>Count Medium Acceleration TIP 1</th><th>Sprinting Distance 1</th><th>Count HSR OTIP 2</th><th>season_id</th><th>Count Sprint TIP</th><th>position</th><th>Count High Acceleration TIP</th><th>player_name</th><th>HSR Distance TIP 2</th><th>Count Medium Acceleration 1</th><th>Distance OTIP</th><th>group</th><th>player_birthdate</th><th>Distance 1</th><th>Count High Acceleration 1</th><th>Count HSR TIP</th><th>Count Sprint</th><th>Count Medium Deceleration 2</th><th>Sprinting Distance OTIP 2</th><th>Sprinting Distance OTIP 1</th><th>Count High Deceleration OTIP 2</th><th>Count Medium Acceleration OTIP 1</th><th>Minutes TIP 1</th><th>match_id</th><th>Running Distance 2</th><th>Count Sprint TIP 2</th><th>Count Medium Acceleration OTIP 2</th><th>Sprinting Distance OTIP</th><th>Distance TIP</th><th>name</th><th>season_id_right</th><th>season_start_year</th><th>season_end_year</th><th>season_name_right</th><th>competition_id_right</th><th>competition_area</th><th>competition_name</th><th>competition_gender</th><th>competition_age_group</th></tr><tr><td>i64</td><td>i64</td><td>i64</td><td>i64</td><td>i64</td><td>i64</td><td>i64</td><td>f64</td><td>i64</td><td>f64</td><td>i64</td><td>i64</td><td>i64</td><td>i64</td><td>i64</td><td>i64</td><td>f64</td><td>i64</td><td>i64</td><td>i64</td><td>i64</td><td>i64</td><td>i64</td><td>i64</td><td>f64</td><td>i64</td><td>str</td><td>str</td><td>i64</td><td>i64</td><td>i64</td><td>i64</td><td>i64</td><td>i64</td><td>i64</td><td>str</td><td>i64</td><td>f64</td><td>i64</td><td>i64</td><td>i64</td><td>i64</td><td>i64</td><td>i64</td><td>i64</td><td>str</td><td>str</td><td>i64</td><td>i64</td><td>i64</td><td>i64</td><td>i64</td><td>i64</td><td>bool</td><td>i64</td><td>f64</td><td>i64</td><td>i64</td><td>i64</td><td>i64</td><td>i64</td><td>i64</td><td>f64</td><td>f64</td><td>i64</td><td>i64</td><td>i64</td><td>i64</td><td>f64</td><td>i64</td><td>i64</td><td>i64</td><td>i64</td><td>i64</td><td>i64</td><td>i64</td><td>i64</td><td>str</td><td>i64</td><td>i64</td><td>i64</td><td>i64</td><td>i64</td><td>i64</td><td>i64</td><td>i64</td><td>i64</td><td>i64</td><td>i64</td><td>i64</td><td>i64</td><td>i64</td><td>i64</td><td>str</td><td>i64</td><td>str</td><td>i64</td><td>i64</td><td>i64</td><td>str</td><td>str</td><td>i64</td><td>i64</td><td>i64</td><td>i64</td><td>i64</td><td>i64</td><td>i64</td><td>i64</td><td>i64</td><td>f64</td><td>i64</td><td>i64</td><td>i64</td><td>i64</td><td>i64</td><td>i64</td><td>str</td><td>i64</td><td>i64</td><td>i64</td><td>str</td><td>i64</td><td>str</td><td>str</td><td>str</td><td>str</td></tr></thead><tbody><tr><td>30</td><td>13</td><td>42</td><td>387</td><td>19</td><td>3</td><td>3</td><td>49.48</td><td>4</td><td>17.3</td><td>1</td><td>1354</td><td>8</td><td>249</td><td>3</td><td>0</td><td>96.63</td><td>745</td><td>4</td><td>13026</td><td>462</td><td>11</td><td>9</td><td>443</td><td>24.21</td><td>842</td><td>&quot;P. Gerkens&quot;</td><td>&quot;2021/2022&quot;</td><td>6216</td><td>48</td><td>8</td><td>8701</td><td>148</td><td>34</td><td>0</td><td>&quot;2021-07-25&quot;</td><td>1</td><td>18.27</td><td>6</td><td>218</td><td>225</td><td>59</td><td>17</td><td>2415</td><td>10</td><td>&quot;KV Mechelen v Royal Antwerp FC&quot;</td><td>&quot;Royal Antwerp FC&quot;</td><td>1</td><td>1558</td><td>3</td><td>1874</td><td>139</td><td>369</td><td>true</td><td>100</td><td>11.08</td><td>2</td><td>1</td><td>22</td><td>33</td><td>17</td><td>89</td><td>35.57</td><td>47.15</td><td>661</td><td>47</td><td>34</td><td>0</td><td>25.7</td><td>1504</td><td>17</td><td>1</td><td>0</td><td>2744</td><td>56</td><td>0</td><td>16</td><td>&quot;Royal Antwerp FC&quot;</td><td>11</td><td>17</td><td>2</td><td>26</td><td>292</td><td>260</td><td>358</td><td>2</td><td>2983</td><td>662</td><td>12</td><td>92</td><td>17</td><td>8</td><td>2</td><td>&quot;AM&quot;</td><td>0</td><td>&quot;Pieter Gerkens&quot;</td><td>121</td><td>52</td><td>5727</td><td>&quot;Midfield&quot;</td><td>&quot;1995-02-17&quot;</td><td>6810</td><td>3</td><td>19</td><td>5</td><td>47</td><td>18</td><td>27</td><td>1</td><td>24</td><td>13.13</td><td>44999</td><td>1061</td><td>1</td><td>23</td><td>45</td><td>3432</td><td>&quot;BEL - Pro League - 2021/2022&quot;</td><td>8</td><td>2021</td><td>2022</td><td>&quot;2021/2022&quot;</td><td>16</td><td>&quot;BEL&quot;</td><td>&quot;Pro League&quot;</td><td>&quot;male&quot;</td><td>&quot;adult&quot;</td></tr><tr><td>136</td><td>9</td><td>31</td><td>201</td><td>119</td><td>3</td><td>2</td><td>50.07</td><td>1</td><td>15.07</td><td>0</td><td>489</td><td>5</td><td>249</td><td>3</td><td>1</td><td>96.19</td><td>476</td><td>5</td><td>9969</td><td>27</td><td>17</td><td>11</td><td>167</td><td>25.52</td><td>178</td><td>&quot;X. Mercier&quot;</td><td>&quot;2021/2022&quot;</td><td>5127</td><td>41</td><td>9</td><td>10932</td><td>202</td><td>17</td><td>1</td><td>&quot;2021-07-24&quot;</td><td>1</td><td>14.52</td><td>11</td><td>63</td><td>104</td><td>39</td><td>14</td><td>1101</td><td>14</td><td>&quot;Oud-Heverlee Leuven v SV Zulte…</td><td>&quot;Oud-Heverlee Leuven&quot;</td><td>1</td><td>1775</td><td>1</td><td>1660</td><td>81</td><td>267</td><td>true</td><td>77</td><td>12.32</td><td>1</td><td>2</td><td>25</td><td>20</td><td>10</td><td>77</td><td>29.59</td><td>46.12</td><td>610</td><td>32</td><td>25</td><td>0</td><td>28.3</td><td>402</td><td>20</td><td>1</td><td>1</td><td>1739</td><td>154</td><td>1</td><td>16</td><td>&quot;Oud-Heverlee Leuven&quot;</td><td>8</td><td>11</td><td>1</td><td>19</td><td>343</td><td>265</td><td>275</td><td>5</td><td>1795</td><td>224</td><td>11</td><td>48</td><td>7</td><td>8</td><td>4</td><td>&quot;AM&quot;</td><td>2</td><td>&quot;Xavier Mercier&quot;</td><td>184</td><td>36</td><td>3534</td><td>&quot;Midfield&quot;</td><td>&quot;1989-07-25&quot;</td><td>4842</td><td>3</td><td>20</td><td>8</td><td>46</td><td>0</td><td>24</td><td>0</td><td>15</td><td>13.2</td><td>45002</td><td>612</td><td>3</td><td>17</td><td>24</td><td>3435</td><td>&quot;BEL - Pro League - 2021/2022&quot;</td><td>8</td><td>2021</td><td>2022</td><td>&quot;2021/2022&quot;</td><td>16</td><td>&quot;BEL&quot;</td><td>&quot;Pro League&quot;</td><td>&quot;male&quot;</td><td>&quot;adult&quot;</td></tr><tr><td>26</td><td>13</td><td>57</td><td>292</td><td>0</td><td>4</td><td>2</td><td>24.95</td><td>3</td><td>6.57</td><td>1</td><td>714</td><td>7</td><td>249</td><td>4</td><td>1</td><td>71.07</td><td>421</td><td>3</td><td>8709</td><td>8</td><td>26</td><td>11</td><td>167</td><td>22.45</td><td>253</td><td>&quot;O. Govea&quot;</td><td>&quot;2021/2022&quot;</td><td>3089</td><td>25</td><td>22</td><td>14625</td><td>105</td><td>14</td><td>1</td><td>&quot;2021-07-24&quot;</td><td>1</td><td>13.2</td><td>5</td><td>78</td><td>89</td><td>34</td><td>5</td><td>1241</td><td>8</td><td>&quot;Oud-Heverlee Leuven v SV Zulte…</td><td>&quot;SV Zulte-Waregem&quot;</td><td>2</td><td>1278</td><td>2</td><td>2289</td><td>171</td><td>427</td><td>true</td><td>64</td><td>7.93</td><td>1</td><td>2</td><td>26</td><td>21</td><td>7</td><td>82</td><td>19.77</td><td>46.12</td><td>724</td><td>23</td><td>18</td><td>1</td><td>26.4</td><td>425</td><td>33</td><td>1</td><td>0</td><td>938</td><td>10</td><td>2</td><td>16</td><td>&quot;SV Zulte-Waregem&quot;</td><td>11</td><td>13</td><td>2</td><td>13</td><td>297</td><td>222</td><td>129</td><td>1</td><td>1938</td><td>172</td><td>18</td><td>95</td><td>7</td><td>8</td><td>2</td><td>&quot;AM&quot;</td><td>1</td><td>&quot;Omar Nicolás Govea García&quot;</td><td>51</td><td>39</td><td>2876</td><td>&quot;Midfield&quot;</td><td>&quot;1996-01-18&quot;</td><td>5620</td><td>1</td><td>18</td><td>5</td><td>25</td><td>7</td><td>29</td><td>1</td><td>17</td><td>14.52</td><td>45002</td><td>527</td><td>0</td><td>6</td><td>36</td><td>3567</td><td>&quot;BEL - Pro League - 2021/2022&quot;</td><td>8</td><td>2021</td><td>2022</td><td>&quot;2021/2022&quot;</td><td>16</td><td>&quot;BEL&quot;</td><td>&quot;Pro League&quot;</td><td>&quot;male&quot;</td><td>&quot;adult&quot;</td></tr><tr><td>132</td><td>13</td><td>44</td><td>284</td><td>88</td><td>6</td><td>3</td><td>28.03</td><td>5</td><td>8.48</td><td>1</td><td>680</td><td>9</td><td>249</td><td>6</td><td>1</td><td>74.15</td><td>594</td><td>1</td><td>8976</td><td>27</td><td>44</td><td>5</td><td>224</td><td>20.35</td><td>301</td><td>&quot;S. Schrijvers&quot;</td><td>&quot;2021/2022&quot;</td><td>3566</td><td>27</td><td>13</td><td>9835</td><td>207</td><td>20</td><td>0</td><td>&quot;2021-07-24&quot;</td><td>1</td><td>14.52</td><td>12</td><td>110</td><td>114</td><td>50</td><td>8</td><td>1234</td><td>8</td><td>&quot;Oud-Heverlee Leuven v SV Zulte…</td><td>&quot;Oud-Heverlee Leuven&quot;</td><td>4</td><td>1242</td><td>2</td><td>1883</td><td>144</td><td>327</td><td>true</td><td>64</td><td>7.15</td><td>2</td><td>1</td><td>21</td><td>25</td><td>11</td><td>70</td><td>23.0</td><td>46.12</td><td>603</td><td>26</td><td>21</td><td>0</td><td>27.4</td><td>536</td><td>18</td><td>1</td><td>0</td><td>1326</td><td>131</td><td>0</td><td>16</td><td>&quot;Oud-Heverlee Leuven&quot;</td><td>15</td><td>13</td><td>2</td><td>25</td><td>276</td><td>337</td><td>310</td><td>6</td><td>2025</td><td>235</td><td>13</td><td>76</td><td>9</td><td>8</td><td>8</td><td>&quot;AM&quot;</td><td>1</td><td>&quot;Siebe Schrijvers&quot;</td><td>193</td><td>37</td><td>3351</td><td>&quot;Midfield&quot;</td><td>&quot;1996-07-18&quot;</td><td>5410</td><td>0</td><td>25</td><td>12</td><td>26</td><td>20</td><td>7</td><td>3</td><td>17</td><td>13.2</td><td>45002</td><td>554</td><td>4</td><td>9</td><td>27</td><td>3125</td><td>&quot;BEL - Pro League - 2021/2022&quot;</td><td>8</td><td>2021</td><td>2022</td><td>&quot;2021/2022&quot;</td><td>16</td><td>&quot;BEL&quot;</td><td>&quot;Pro League&quot;</td><td>&quot;male&quot;</td><td>&quot;adult&quot;</td></tr><tr><td>36</td><td>13</td><td>44</td><td>253</td><td>0</td><td>4</td><td>1</td><td>60.17</td><td>3</td><td>19.18</td><td>1</td><td>943</td><td>6</td><td>249</td><td>2</td><td>0</td><td>110.42</td><td>334</td><td>2</td><td>11626</td><td>26</td><td>36</td><td>10</td><td>174</td><td>28.66</td><td>468</td><td>&quot;S. Peeters&quot;</td><td>&quot;2021/2022&quot;</td><td>5369</td><td>39</td><td>13</td><td>11595</td><td>60</td><td>17</td><td>0</td><td>&quot;2021-07-25&quot;</td><td>0</td><td>18.05</td><td>4</td><td>62</td><td>112</td><td>35</td><td>19</td><td>1405</td><td>11</td><td>&quot;Club Brugge KV v KAS Eupen&quot;</td><td>&quot;KAS Eupen&quot;</td><td>2</td><td>1397</td><td>2</td><td>2340</td><td>140</td><td>461</td><td>true</td><td>86</td><td>12.98</td><td>1</td><td>0</td><td>29</td><td>23</td><td>9</td><td>85</td><td>37.23</td><td>50.25</td><td>603</td><td>47</td><td>37</td><td>1</td><td>25.5</td><td>788</td><td>23</td><td>1</td><td>1</td><td>2252</td><td>4</td><td>1</td><td>16</td><td>&quot;KAS Eupen&quot;</td><td>8</td><td>18</td><td>2</td><td>12</td><td>142</td><td>159</td><td>81</td><td>1</td><td>2650</td><td>320</td><td>18</td><td>56</td><td>8</td><td>8</td><td>2</td><td>&quot;AM&quot;</td><td>1</td><td>&quot;Stef Peeters&quot;</td><td>19</td><td>47</td><td>4902</td><td>&quot;Midfield&quot;</td><td>&quot;1992-02-09&quot;</td><td>6257</td><td>2</td><td>17</td><td>5</td><td>41</td><td>4</td><td>20</td><td>1</td><td>21</td><td>15.68</td><td>44998</td><td>462</td><td>0</td><td>26</td><td>24</td><td>3737</td><td>&quot;BEL - Pro League - 2021/2022&quot;</td><td>8</td><td>2021</td><td>2022</td><td>&quot;2021/2022&quot;</td><td>16</td><td>&quot;BEL&quot;</td><td>&quot;Pro League&quot;</td><td>&quot;male&quot;</td><td>&quot;adult&quot;</td></tr></tbody></table></div>"
      ],
      "text/plain": [
       "shape: (5, 127)\n",
       "┌─────┬─────┬─────┬─────┬─────┬─────┬─────┬─────┬─────┬─────┬─────┬─────┬─────┬─────┬─────┬─────┬─────┬─────┬─────┬─────┬─────┬─────┬─────┬─────┬─────┬─────┬─────┬─────┬─────┬─────┬─────┬─────┬─────┬─────┬─────┬─────┬─────┬─────┬─────┬─────┬─────┬─────┬─────┬─────┬─────┬─────┬─────┬─────┬─────┬─────┬─────┬─────┬─────┬─────┬─────┬─────┬─────┬─────┬─────┬─────┬─────┬─────┬─────┬─────┬─────┬─────┬─────┬─────┬─────┬─────┬─────┬─────┬─────┬─────┬─────┬─────┬─────┬─────┬─────┬─────┬─────┬─────┬─────┬─────┬─────┬─────┬─────┬─────┬─────┬─────┬─────┬─────┬─────┬─────┬─────┬─────┬─────┬─────┬─────┬─────┬─────┬─────┬─────┬─────┬─────┬─────┬─────┬─────┬─────┬─────┬─────┬─────┬─────┬─────┬─────┬─────┬─────┬─────┬─────┬─────┬─────┬─────┬─────┬─────┬─────┬─────┬─────┐\n",
       "│ Spr ┆ Cou ┆ Cou ┆ HSR ┆ Spr ┆ Cou ┆ Cou ┆ Min ┆ Cou ┆ Min ┆ Cou ┆ Run ┆ Cou ┆ com ┆ Cou ┆ Cou ┆ Min ┆ HSR ┆ Cou ┆ Dis ┆ tea ┆ Spr ┆ Cou ┆ HSR ┆ Min ┆ Run ┆ sho ┆ sea ┆ Dis ┆ Cou ┆ Cou ┆ pla ┆ Spr ┆ Cou ┆ Cou ┆ dat ┆ Cou ┆ Min ┆ Cou ┆ HSR ┆ HSR ┆ Cou ┆ Cou ┆ Run ┆ Cou ┆ mat ┆ tea ┆ Cou ┆ Dis ┆ Cou ┆ Dis ┆ HSR ┆ Run ┆ qua ┆ Cou ┆ Min ┆ Cou ┆ Cou ┆ Cou ┆ Cou ┆ Cou ┆ Cou ┆ Min ┆ Min ┆ Run ┆ Cou ┆ Cou ┆ Cou ┆ PSV ┆ Run ┆ Cou ┆ Cou ┆ Cou ┆ Dis ┆ Spr ┆ Cou ┆ com ┆ tea ┆ Cou ┆ Cou ┆ Cou ┆ Cou ┆ Run ┆ HSR ┆ HSR ┆ Cou ┆ Dis ┆ Run ┆ Cou ┆ Spr ┆ Cou ┆ sea ┆ Cou ┆ pos ┆ Cou ┆ pla ┆ HSR ┆ Cou ┆ Dis ┆ gro ┆ pla ┆ Dis ┆ Cou ┆ Cou ┆ Cou ┆ Cou ┆ Spr ┆ Spr ┆ Cou ┆ Cou ┆ Min ┆ mat ┆ Run ┆ Cou ┆ Cou ┆ Spr ┆ Dis ┆ nam ┆ sea ┆ sea ┆ sea ┆ sea ┆ com ┆ com ┆ com ┆ com ┆ com │\n",
       "│ int ┆ nt  ┆ nt  ┆ Dis ┆ int ┆ nt  ┆ nt  ┆ ute ┆ nt  ┆ ute ┆ nt  ┆ nin ┆ nt  ┆ pet ┆ nt  ┆ nt  ┆ ute ┆ Dis ┆ nt  ┆ tan ┆ m_i ┆ int ┆ nt  ┆ Dis ┆ ute ┆ nin ┆ rt_ ┆ son ┆ tan ┆ nt  ┆ nt  ┆ yer ┆ int ┆ nt  ┆ nt  ┆ e   ┆ nt  ┆ ute ┆ nt  ┆ Dis ┆ Dis ┆ nt  ┆ nt  ┆ nin ┆ nt  ┆ ch_ ┆ m   ┆ nt  ┆ tan ┆ nt  ┆ tan ┆ Dis ┆ nin ┆ lit ┆ nt  ┆ ute ┆ nt  ┆ nt  ┆ nt  ┆ nt  ┆ nt  ┆ nt  ┆ ute ┆ ute ┆ nin ┆ nt  ┆ nt  ┆ nt  ┆ -99 ┆ nin ┆ nt  ┆ nt  ┆ nt  ┆ tan ┆ int ┆ nt  ┆ pet ┆ m_n ┆ nt  ┆ nt  ┆ nt  ┆ nt  ┆ nin ┆ Dis ┆ Dis ┆ nt  ┆ tan ┆ nin ┆ nt  ┆ int ┆ nt  ┆ son ┆ nt  ┆ iti ┆ nt  ┆ yer ┆ Dis ┆ nt  ┆ tan ┆ up  ┆ yer ┆ tan ┆ nt  ┆ nt  ┆ nt  ┆ nt  ┆ int ┆ int ┆ nt  ┆ nt  ┆ ute ┆ ch_ ┆ nin ┆ nt  ┆ nt  ┆ int ┆ tan ┆ e   ┆ son ┆ son ┆ son ┆ son ┆ pet ┆ pet ┆ pet ┆ pet ┆ pet │\n",
       "│ ing ┆ HSR ┆ Med ┆ tan ┆ ing ┆ Spr ┆ Hig ┆ s 2 ┆ Hig ┆ s   ┆ Spr ┆ g   ┆ Hig ┆ iti ┆ Hig ┆ Hig ┆ s   ┆ tan ┆ Hig ┆ ce  ┆ d   ┆ ing ┆ Med ┆ tan ┆ s   ┆ g   ┆ nam ┆ _na ┆ ce  ┆ Med ┆ Med ┆ _id ┆ ing ┆ HSR ┆ Hig ┆ --- ┆ Hig ┆ s   ┆ HSR ┆ tan ┆ tan ┆ HSR ┆ Med ┆ g   ┆ Med ┆ nam ┆ --- ┆ Spr ┆ ce  ┆ Hig ┆ ce  ┆ tan ┆ g   ┆ y_c ┆ Med ┆ s   ┆ Hig ┆ Hig ┆ Med ┆ HSR ┆ HSR ┆ Med ┆ s   ┆ s 1 ┆ g   ┆ Med ┆ Med ┆ Hig ┆ --- ┆ g   ┆ Med ┆ Spr ┆ Hig ┆ ce  ┆ ing ┆ Hig ┆ iti ┆ ame ┆ Hig ┆ Med ┆ Spr ┆ HSR ┆ g   ┆ tan ┆ tan ┆ Spr ┆ ce  ┆ g   ┆ Med ┆ ing ┆ HSR ┆ _id ┆ Spr ┆ on  ┆ Hig ┆ _na ┆ tan ┆ Med ┆ ce  ┆ --- ┆ _bi ┆ ce  ┆ Hig ┆ HSR ┆ Spr ┆ Med ┆ ing ┆ ing ┆ Hig ┆ Med ┆ s   ┆ id  ┆ g   ┆ Spr ┆ Med ┆ ing ┆ ce  ┆ --- ┆ _id ┆ _st ┆ _en ┆ _na ┆ iti ┆ iti ┆ iti ┆ iti ┆ iti │\n",
       "│ Dis ┆ TIP ┆ ium ┆ ce  ┆ Dis ┆ int ┆ h   ┆ --- ┆ h   ┆ OTI ┆ int ┆ Dis ┆ h   ┆ on_ ┆ h   ┆ h   ┆ --- ┆ ce  ┆ h   ┆ --- ┆ --- ┆ Dis ┆ ium ┆ ce  ┆ TIP ┆ Dis ┆ e   ┆ me  ┆ 2   ┆ ium ┆ ium ┆ --- ┆ Dis ┆ OTI ┆ h   ┆ str ┆ h   ┆ OTI ┆ TIP ┆ ce  ┆ ce  ┆ --- ┆ ium ┆ Dis ┆ ium ┆ e   ┆ str ┆ int ┆ TIP ┆ h   ┆ TIP ┆ ce  ┆ Dis ┆ hec ┆ ium ┆ TIP ┆ h   ┆ h   ┆ ium ┆ 1   ┆ OTI ┆ ium ┆ OTI ┆ --- ┆ Dis ┆ ium ┆ ium ┆ h   ┆ f64 ┆ Dis ┆ ium ┆ int ┆ h   ┆ OTI ┆ Dis ┆ h   ┆ on_ ┆ --- ┆ h   ┆ ium ┆ int ┆ 2   ┆ Dis ┆ ce  ┆ ce  ┆ int ┆ OTI ┆ Dis ┆ ium ┆ Dis ┆ OTI ┆ --- ┆ int ┆ --- ┆ h   ┆ me  ┆ ce  ┆ ium ┆ OTI ┆ str ┆ rth ┆ 1   ┆ h   ┆ TIP ┆ int ┆ ium ┆ Dis ┆ Dis ┆ h   ┆ ium ┆ TIP ┆ --- ┆ Dis ┆ int ┆ ium ┆ Dis ┆ TIP ┆ str ┆ _ri ┆ art ┆ d_y ┆ me_ ┆ on_ ┆ on_ ┆ on_ ┆ on_ ┆ on_ │\n",
       "│ tan ┆ 1   ┆ Dec ┆ 1   ┆ tan ┆ 1   ┆ Dec ┆ f64 ┆ Dec ┆ P 2 ┆ OTI ┆ tan ┆ Dec ┆ edi ┆ Dec ┆ Acc ┆ f64 ┆ --- ┆ Acc ┆ i64 ┆ i64 ┆ tan ┆ Dec ┆ OTI ┆ --- ┆ tan ┆ --- ┆ --- ┆ --- ┆ Acc ┆ Dec ┆ i64 ┆ tan ┆ P   ┆ Acc ┆     ┆ Dec ┆ P 1 ┆ 2   ┆ OTI ┆ OTI ┆ i64 ┆ Dec ┆ tan ┆ Acc ┆ --- ┆     ┆ TIP ┆ 2   ┆ Dec ┆ 1   ┆ TIP ┆ tan ┆ k   ┆ Acc ┆ 2   ┆ Dec ┆ Acc ┆ Acc ┆ --- ┆ P 1 ┆ Dec ┆ P   ┆ f64 ┆ tan ┆ Acc ┆ Dec ┆ Acc ┆     ┆ tan ┆ Dec ┆ OTI ┆ Acc ┆ P 2 ┆ tan ┆ Acc ┆ id  ┆ str ┆ Dec ┆ Dec ┆ OTI ┆ --- ┆ tan ┆ TIP ┆ 2   ┆ 2   ┆ P 1 ┆ tan ┆ Acc ┆ tan ┆ P 2 ┆ i64 ┆ TIP ┆ str ┆ Acc ┆ --- ┆ TIP ┆ Acc ┆ P   ┆     ┆ dat ┆ --- ┆ Acc ┆ --- ┆ --- ┆ Dec ┆ tan ┆ tan ┆ Dec ┆ Acc ┆ 1   ┆ i64 ┆ tan ┆ TIP ┆ Acc ┆ tan ┆ --- ┆     ┆ ght ┆ _ye ┆ ear ┆ rig ┆ id_ ┆ are ┆ nam ┆ gen ┆ age │\n",
       "│ ce  ┆ --- ┆ ele ┆ --- ┆ ce  ┆ --- ┆ ele ┆     ┆ ele ┆ --- ┆ P 2 ┆ ce  ┆ ele ┆ tio ┆ ele ┆ ele ┆     ┆ i64 ┆ ele ┆     ┆     ┆ ce  ┆ ele ┆ P   ┆ f64 ┆ ce  ┆ str ┆ str ┆ i64 ┆ ele ┆ ele ┆     ┆ ce  ┆ --- ┆ ele ┆     ┆ ele ┆ --- ┆ --- ┆ P 2 ┆ P 1 ┆     ┆ ele ┆ ce  ┆ ele ┆ str ┆     ┆ 1   ┆ --- ┆ ele ┆ --- ┆ 1   ┆ ce  ┆ --- ┆ ele ┆ --- ┆ ele ┆ ele ┆ ele ┆ i64 ┆ --- ┆ ele ┆ --- ┆     ┆ ce  ┆ ele ┆ ele ┆ ele ┆     ┆ ce  ┆ ele ┆ P 1 ┆ ele ┆ --- ┆ ce  ┆ ele ┆ --- ┆     ┆ ele ┆ ele ┆ P   ┆ i64 ┆ ce  ┆ --- ┆ --- ┆ --- ┆ --- ┆ ce  ┆ ele ┆ ce  ┆ --- ┆     ┆ --- ┆     ┆ ele ┆ str ┆ 2   ┆ ele ┆ --- ┆     ┆ e   ┆ i64 ┆ ele ┆ i64 ┆ i64 ┆ ele ┆ ce  ┆ ce  ┆ ele ┆ ele ┆ --- ┆     ┆ ce  ┆ 2   ┆ ele ┆ ce  ┆ i64 ┆     ┆ --- ┆ ar  ┆ --- ┆ ht  ┆ rig ┆ a   ┆ e   ┆ der ┆ _gr │\n",
       "│ TIP ┆ i64 ┆ rat ┆ i64 ┆ TIP ┆ i64 ┆ rat ┆     ┆ rat ┆ f64 ┆ --- ┆ 1   ┆ rat ┆ n_i ┆ rat ┆ rat ┆     ┆     ┆ rat ┆     ┆     ┆ TIP ┆ rat ┆ --- ┆     ┆ OTI ┆     ┆     ┆     ┆ rat ┆ rat ┆     ┆ --- ┆ i64 ┆ rat ┆     ┆ rat ┆ f64 ┆ i64 ┆ --- ┆ --- ┆     ┆ rat ┆ --- ┆ rat ┆     ┆     ┆ --- ┆ i64 ┆ rat ┆ i64 ┆ --- ┆ TIP ┆ boo ┆ rat ┆ f64 ┆ rat ┆ rat ┆ rat ┆     ┆ i64 ┆ rat ┆ f64 ┆     ┆ TIP ┆ rat ┆ rat ┆ rat ┆     ┆ OTI ┆ rat ┆ --- ┆ rat ┆ i64 ┆ 2   ┆ rat ┆ i64 ┆     ┆ rat ┆ rat ┆ --- ┆     ┆ TIP ┆ i64 ┆ i64 ┆ i64 ┆ i64 ┆ OTI ┆ rat ┆ 1   ┆ i64 ┆     ┆ i64 ┆     ┆ rat ┆     ┆ --- ┆ rat ┆ i64 ┆     ┆ --- ┆     ┆ rat ┆     ┆     ┆ rat ┆ OTI ┆ OTI ┆ rat ┆ rat ┆ f64 ┆     ┆ 2   ┆ --- ┆ rat ┆ OTI ┆     ┆     ┆ i64 ┆ --- ┆ i64 ┆ --- ┆ ht  ┆ --- ┆ --- ┆ --- ┆ oup │\n",
       "│ --- ┆     ┆ ion ┆     ┆ 2   ┆     ┆ ion ┆     ┆ ion ┆     ┆ i64 ┆ --- ┆ ion ┆ d   ┆ ion ┆ ion ┆     ┆     ┆ ion ┆     ┆     ┆ 1   ┆ ion ┆ i64 ┆     ┆ P 1 ┆     ┆     ┆     ┆ ion ┆ ion ┆     ┆ i64 ┆     ┆ ion ┆     ┆ ion ┆     ┆     ┆ i64 ┆ i64 ┆     ┆ ion ┆ i64 ┆ ion ┆     ┆     ┆ i64 ┆     ┆ ion ┆     ┆ i64 ┆ 1   ┆ l   ┆ ion ┆     ┆ ion ┆ ion ┆ ion ┆     ┆     ┆ ion ┆     ┆     ┆ --- ┆ ion ┆ ion ┆ ion ┆     ┆ P   ┆ ion ┆ i64 ┆ ion ┆     ┆ --- ┆ ion ┆     ┆     ┆ ion ┆ ion ┆ i64 ┆     ┆ 2   ┆     ┆     ┆     ┆     ┆ P 2 ┆ ion ┆ --- ┆     ┆     ┆     ┆     ┆ ion ┆     ┆ i64 ┆ ion ┆     ┆     ┆ str ┆     ┆ ion ┆     ┆     ┆ ion ┆ P 2 ┆ P 1 ┆ ion ┆ ion ┆     ┆     ┆ --- ┆ i64 ┆ ion ┆ P   ┆     ┆     ┆     ┆ i64 ┆     ┆ str ┆ --- ┆ str ┆ str ┆ str ┆ --- │\n",
       "│ i64 ┆     ┆ 1   ┆     ┆ --- ┆     ┆ TIP ┆     ┆ OTI ┆     ┆     ┆ i64 ┆ 1   ┆ --- ┆ 2   ┆ TIP ┆     ┆     ┆ --- ┆     ┆     ┆ --- ┆ TIP ┆     ┆     ┆ --- ┆     ┆     ┆     ┆ 2   ┆ TIP ┆     ┆     ┆     ┆ OTI ┆     ┆ TIP ┆     ┆     ┆     ┆     ┆     ┆ OTI ┆     ┆ TIP ┆     ┆     ┆     ┆     ┆ OTI ┆     ┆     ┆ --- ┆     ┆ --- ┆     ┆ TIP ┆ 2   ┆ TIP ┆     ┆     ┆ --- ┆     ┆     ┆ i64 ┆ OTI ┆ OTI ┆ OTI ┆     ┆ --- ┆ TIP ┆     ┆ TIP ┆     ┆ i64 ┆ OTI ┆     ┆     ┆ --- ┆ OTI ┆     ┆     ┆ --- ┆     ┆     ┆     ┆     ┆ --- ┆ TIP ┆ i64 ┆     ┆     ┆     ┆     ┆ TIP ┆     ┆     ┆ 1   ┆     ┆     ┆     ┆     ┆ 1   ┆     ┆     ┆ 2   ┆ --- ┆ --- ┆ OTI ┆ OTI ┆     ┆     ┆ i64 ┆     ┆ OTI ┆ --- ┆     ┆     ┆     ┆     ┆     ┆     ┆ i64 ┆     ┆     ┆     ┆ str │\n",
       "│     ┆     ┆ --- ┆     ┆ i64 ┆     ┆ --- ┆     ┆ P   ┆     ┆     ┆     ┆ --- ┆ i64 ┆ --- ┆ 2   ┆     ┆     ┆ i64 ┆     ┆     ┆ i64 ┆ …   ┆     ┆     ┆ i64 ┆     ┆     ┆     ┆ --- ┆ …   ┆     ┆     ┆     ┆ P 2 ┆     ┆ 2   ┆     ┆     ┆     ┆     ┆     ┆ P…  ┆     ┆ …   ┆     ┆     ┆     ┆     ┆ P 1 ┆     ┆     ┆ i64 ┆     ┆ i64 ┆     ┆ 1   ┆ --- ┆ --- ┆     ┆     ┆ i64 ┆     ┆     ┆     ┆ P   ┆ P   ┆ P 1 ┆     ┆ i64 ┆ --- ┆     ┆ 1   ┆     ┆     ┆ P   ┆     ┆     ┆ i64 ┆ P…  ┆     ┆     ┆ i64 ┆     ┆     ┆     ┆     ┆ i64 ┆ …   ┆     ┆     ┆     ┆     ┆     ┆ --- ┆     ┆     ┆ --- ┆     ┆     ┆     ┆     ┆ --- ┆     ┆     ┆ --- ┆ i64 ┆ i64 ┆ P 2 ┆ P…  ┆     ┆     ┆     ┆     ┆ P…  ┆ i64 ┆     ┆     ┆     ┆     ┆     ┆     ┆     ┆     ┆     ┆     ┆     │\n",
       "│     ┆     ┆ i64 ┆     ┆     ┆     ┆ i64 ┆     ┆ --- ┆     ┆     ┆     ┆ i64 ┆     ┆ i64 ┆ --- ┆     ┆     ┆     ┆     ┆     ┆     ┆ --- ┆     ┆     ┆     ┆     ┆     ┆     ┆ i64 ┆ --- ┆     ┆     ┆     ┆ --- ┆     ┆ --- ┆     ┆     ┆     ┆     ┆     ┆ --- ┆     ┆ --- ┆     ┆     ┆     ┆     ┆ --- ┆     ┆     ┆     ┆     ┆     ┆     ┆ --- ┆ i64 ┆ i64 ┆     ┆     ┆     ┆     ┆     ┆     ┆ --- ┆ --- ┆ --- ┆     ┆     ┆ i64 ┆     ┆ --- ┆     ┆     ┆ --- ┆     ┆     ┆     ┆ --- ┆     ┆     ┆     ┆     ┆     ┆     ┆     ┆     ┆ --- ┆     ┆     ┆     ┆     ┆     ┆ i64 ┆     ┆     ┆ i64 ┆     ┆     ┆     ┆     ┆ i64 ┆     ┆     ┆ i64 ┆     ┆     ┆ --- ┆ --- ┆     ┆     ┆     ┆     ┆ --- ┆     ┆     ┆     ┆     ┆     ┆     ┆     ┆     ┆     ┆     ┆     ┆     │\n",
       "│     ┆     ┆     ┆     ┆     ┆     ┆     ┆     ┆ i64 ┆     ┆     ┆     ┆     ┆     ┆     ┆ i64 ┆     ┆     ┆     ┆     ┆     ┆     ┆ i64 ┆     ┆     ┆     ┆     ┆     ┆     ┆     ┆ i64 ┆     ┆     ┆     ┆ i64 ┆     ┆ i64 ┆     ┆     ┆     ┆     ┆     ┆ i64 ┆     ┆ i64 ┆     ┆     ┆     ┆     ┆ i64 ┆     ┆     ┆     ┆     ┆     ┆     ┆ i64 ┆     ┆     ┆     ┆     ┆     ┆     ┆     ┆     ┆ i64 ┆ i64 ┆ i64 ┆     ┆     ┆     ┆     ┆ i64 ┆     ┆     ┆ i64 ┆     ┆     ┆     ┆ i64 ┆     ┆     ┆     ┆     ┆     ┆     ┆     ┆     ┆ i64 ┆     ┆     ┆     ┆     ┆     ┆     ┆     ┆     ┆     ┆     ┆     ┆     ┆     ┆     ┆     ┆     ┆     ┆     ┆     ┆ i64 ┆ i64 ┆     ┆     ┆     ┆     ┆ i64 ┆     ┆     ┆     ┆     ┆     ┆     ┆     ┆     ┆     ┆     ┆     ┆     │\n",
       "╞═════╪═════╪═════╪═════╪═════╪═════╪═════╪═════╪═════╪═════╪═════╪═════╪═════╪═════╪═════╪═════╪═════╪═════╪═════╪═════╪═════╪═════╪═════╪═════╪═════╪═════╪═════╪═════╪═════╪═════╪═════╪═════╪═════╪═════╪═════╪═════╪═════╪═════╪═════╪═════╪═════╪═════╪═════╪═════╪═════╪═════╪═════╪═════╪═════╪═════╪═════╪═════╪═════╪═════╪═════╪═════╪═════╪═════╪═════╪═════╪═════╪═════╪═════╪═════╪═════╪═════╪═════╪═════╪═════╪═════╪═════╪═════╪═════╪═════╪═════╪═════╪═════╪═════╪═════╪═════╪═════╪═════╪═════╪═════╪═════╪═════╪═════╪═════╪═════╪═════╪═════╪═════╪═════╪═════╪═════╪═════╪═════╪═════╪═════╪═════╪═════╪═════╪═════╪═════╪═════╪═════╪═════╪═════╪═════╪═════╪═════╪═════╪═════╪═════╪═════╪═════╪═════╪═════╪═════╪═════╪═════╪═════╪═════╪═════╪═════╪═════╪═════╡\n",
       "│ 30  ┆ 13  ┆ 42  ┆ 387 ┆ 19  ┆ 3   ┆ 3   ┆ 49. ┆ 4   ┆ 17. ┆ 1   ┆ 135 ┆ 8   ┆ 249 ┆ 3   ┆ 0   ┆ 96. ┆ 745 ┆ 4   ┆ 130 ┆ 462 ┆ 11  ┆ 9   ┆ 443 ┆ 24. ┆ 842 ┆ P.  ┆ 202 ┆ 621 ┆ 48  ┆ 8   ┆ 870 ┆ 148 ┆ 34  ┆ 0   ┆ 202 ┆ 1   ┆ 18. ┆ 6   ┆ 218 ┆ 225 ┆ 59  ┆ 17  ┆ 241 ┆ 10  ┆ KV  ┆ Roy ┆ 1   ┆ 155 ┆ 3   ┆ 187 ┆ 139 ┆ 369 ┆ tru ┆ 100 ┆ 11. ┆ 2   ┆ 1   ┆ 22  ┆ 33  ┆ 17  ┆ 89  ┆ 35. ┆ 47. ┆ 661 ┆ 47  ┆ 34  ┆ 0   ┆ 25. ┆ 150 ┆ 17  ┆ 1   ┆ 0   ┆ 274 ┆ 56  ┆ 0   ┆ 16  ┆ Roy ┆ 11  ┆ 17  ┆ 2   ┆ 26  ┆ 292 ┆ 260 ┆ 358 ┆ 2   ┆ 298 ┆ 662 ┆ 12  ┆ 92  ┆ 17  ┆ 8   ┆ 2   ┆ AM  ┆ 0   ┆ Pie ┆ 121 ┆ 52  ┆ 572 ┆ Mid ┆ 199 ┆ 681 ┆ 3   ┆ 19  ┆ 5   ┆ 47  ┆ 18  ┆ 27  ┆ 1   ┆ 24  ┆ 13. ┆ 449 ┆ 106 ┆ 1   ┆ 23  ┆ 45  ┆ 343 ┆ BEL ┆ 8   ┆ 202 ┆ 202 ┆ 202 ┆ 16  ┆ BEL ┆ Pro ┆ mal ┆ adu │\n",
       "│     ┆     ┆     ┆     ┆     ┆     ┆     ┆ 48  ┆     ┆ 3   ┆     ┆ 4   ┆     ┆     ┆     ┆     ┆ 63  ┆     ┆     ┆ 26  ┆     ┆     ┆     ┆     ┆ 21  ┆     ┆ Ger ┆ 1/2 ┆ 6   ┆     ┆     ┆ 1   ┆     ┆     ┆     ┆ 1-0 ┆     ┆ 27  ┆     ┆     ┆     ┆     ┆     ┆ 5   ┆     ┆ Mec ┆ al  ┆     ┆ 8   ┆     ┆ 4   ┆     ┆     ┆ e   ┆     ┆ 08  ┆     ┆     ┆     ┆     ┆     ┆     ┆ 57  ┆ 15  ┆     ┆     ┆     ┆     ┆ 7   ┆ 4   ┆     ┆     ┆     ┆ 4   ┆     ┆     ┆     ┆ al  ┆     ┆     ┆     ┆     ┆     ┆     ┆     ┆     ┆ 3   ┆     ┆     ┆     ┆     ┆     ┆     ┆     ┆     ┆ ter ┆     ┆     ┆ 7   ┆ fie ┆ 5-0 ┆ 0   ┆     ┆     ┆     ┆     ┆     ┆     ┆     ┆     ┆ 13  ┆ 99  ┆ 1   ┆     ┆     ┆     ┆ 2   ┆ -   ┆     ┆ 1   ┆ 2   ┆ 1/2 ┆     ┆     ┆ Lea ┆ e   ┆ lt  │\n",
       "│     ┆     ┆     ┆     ┆     ┆     ┆     ┆     ┆     ┆     ┆     ┆     ┆     ┆     ┆     ┆     ┆     ┆     ┆     ┆     ┆     ┆     ┆     ┆     ┆     ┆     ┆ ken ┆ 022 ┆     ┆     ┆     ┆     ┆     ┆     ┆     ┆ 7-2 ┆     ┆     ┆     ┆     ┆     ┆     ┆     ┆     ┆     ┆ hel ┆ Ant ┆     ┆     ┆     ┆     ┆     ┆     ┆     ┆     ┆     ┆     ┆     ┆     ┆     ┆     ┆     ┆     ┆     ┆     ┆     ┆     ┆     ┆     ┆     ┆     ┆     ┆     ┆     ┆     ┆     ┆     ┆ Ant ┆     ┆     ┆     ┆     ┆     ┆     ┆     ┆     ┆     ┆     ┆     ┆     ┆     ┆     ┆     ┆     ┆     ┆ Ger ┆     ┆     ┆     ┆ ld  ┆ 2-1 ┆     ┆     ┆     ┆     ┆     ┆     ┆     ┆     ┆     ┆     ┆     ┆     ┆     ┆     ┆     ┆     ┆ Pro ┆     ┆     ┆     ┆ 022 ┆     ┆     ┆ gue ┆     ┆     │\n",
       "│     ┆     ┆     ┆     ┆     ┆     ┆     ┆     ┆     ┆     ┆     ┆     ┆     ┆     ┆     ┆     ┆     ┆     ┆     ┆     ┆     ┆     ┆     ┆     ┆     ┆     ┆ s   ┆     ┆     ┆     ┆     ┆     ┆     ┆     ┆     ┆ 5   ┆     ┆     ┆     ┆     ┆     ┆     ┆     ┆     ┆     ┆ en  ┆ wer ┆     ┆     ┆     ┆     ┆     ┆     ┆     ┆     ┆     ┆     ┆     ┆     ┆     ┆     ┆     ┆     ┆     ┆     ┆     ┆     ┆     ┆     ┆     ┆     ┆     ┆     ┆     ┆     ┆     ┆     ┆ wer ┆     ┆     ┆     ┆     ┆     ┆     ┆     ┆     ┆     ┆     ┆     ┆     ┆     ┆     ┆     ┆     ┆     ┆ ken ┆     ┆     ┆     ┆     ┆ 7   ┆     ┆     ┆     ┆     ┆     ┆     ┆     ┆     ┆     ┆     ┆     ┆     ┆     ┆     ┆     ┆     ┆ Lea ┆     ┆     ┆     ┆     ┆     ┆     ┆     ┆     ┆     │\n",
       "│     ┆     ┆     ┆     ┆     ┆     ┆     ┆     ┆     ┆     ┆     ┆     ┆     ┆     ┆     ┆     ┆     ┆     ┆     ┆     ┆     ┆     ┆     ┆     ┆     ┆     ┆     ┆     ┆     ┆     ┆     ┆     ┆     ┆     ┆     ┆     ┆     ┆     ┆     ┆     ┆     ┆     ┆     ┆     ┆     ┆ v   ┆ p   ┆     ┆     ┆     ┆     ┆     ┆     ┆     ┆     ┆     ┆     ┆     ┆     ┆     ┆     ┆     ┆     ┆     ┆     ┆     ┆     ┆     ┆     ┆     ┆     ┆     ┆     ┆     ┆     ┆     ┆     ┆ p   ┆     ┆     ┆     ┆     ┆     ┆     ┆     ┆     ┆     ┆     ┆     ┆     ┆     ┆     ┆     ┆     ┆     ┆ s   ┆     ┆     ┆     ┆     ┆     ┆     ┆     ┆     ┆     ┆     ┆     ┆     ┆     ┆     ┆     ┆     ┆     ┆     ┆     ┆     ┆     ┆ gue ┆     ┆     ┆     ┆     ┆     ┆     ┆     ┆     ┆     │\n",
       "│     ┆     ┆     ┆     ┆     ┆     ┆     ┆     ┆     ┆     ┆     ┆     ┆     ┆     ┆     ┆     ┆     ┆     ┆     ┆     ┆     ┆     ┆     ┆     ┆     ┆     ┆     ┆     ┆     ┆     ┆     ┆     ┆     ┆     ┆     ┆     ┆     ┆     ┆     ┆     ┆     ┆     ┆     ┆     ┆     ┆ Roy ┆ FC  ┆     ┆     ┆     ┆     ┆     ┆     ┆     ┆     ┆     ┆     ┆     ┆     ┆     ┆     ┆     ┆     ┆     ┆     ┆     ┆     ┆     ┆     ┆     ┆     ┆     ┆     ┆     ┆     ┆     ┆     ┆ FC  ┆     ┆     ┆     ┆     ┆     ┆     ┆     ┆     ┆     ┆     ┆     ┆     ┆     ┆     ┆     ┆     ┆     ┆     ┆     ┆     ┆     ┆     ┆     ┆     ┆     ┆     ┆     ┆     ┆     ┆     ┆     ┆     ┆     ┆     ┆     ┆     ┆     ┆     ┆     ┆ -   ┆     ┆     ┆     ┆     ┆     ┆     ┆     ┆     ┆     │\n",
       "│     ┆     ┆     ┆     ┆     ┆     ┆     ┆     ┆     ┆     ┆     ┆     ┆     ┆     ┆     ┆     ┆     ┆     ┆     ┆     ┆     ┆     ┆     ┆     ┆     ┆     ┆     ┆     ┆     ┆     ┆     ┆     ┆     ┆     ┆     ┆     ┆     ┆     ┆     ┆     ┆     ┆     ┆     ┆     ┆     ┆ al  ┆     ┆     ┆     ┆     ┆     ┆     ┆     ┆     ┆     ┆     ┆     ┆     ┆     ┆     ┆     ┆     ┆     ┆     ┆     ┆     ┆     ┆     ┆     ┆     ┆     ┆     ┆     ┆     ┆     ┆     ┆     ┆     ┆     ┆     ┆     ┆     ┆     ┆     ┆     ┆     ┆     ┆     ┆     ┆     ┆     ┆     ┆     ┆     ┆     ┆     ┆     ┆     ┆     ┆     ┆     ┆     ┆     ┆     ┆     ┆     ┆     ┆     ┆     ┆     ┆     ┆     ┆     ┆     ┆     ┆     ┆     ┆ 202 ┆     ┆     ┆     ┆     ┆     ┆     ┆     ┆     ┆     │\n",
       "│     ┆     ┆     ┆     ┆     ┆     ┆     ┆     ┆     ┆     ┆     ┆     ┆     ┆     ┆     ┆     ┆     ┆     ┆     ┆     ┆     ┆     ┆     ┆     ┆     ┆     ┆     ┆     ┆     ┆     ┆     ┆     ┆     ┆     ┆     ┆     ┆     ┆     ┆     ┆     ┆     ┆     ┆     ┆     ┆     ┆ Ant ┆     ┆     ┆     ┆     ┆     ┆     ┆     ┆     ┆     ┆     ┆     ┆     ┆     ┆     ┆     ┆     ┆     ┆     ┆     ┆     ┆     ┆     ┆     ┆     ┆     ┆     ┆     ┆     ┆     ┆     ┆     ┆     ┆     ┆     ┆     ┆     ┆     ┆     ┆     ┆     ┆     ┆     ┆     ┆     ┆     ┆     ┆     ┆     ┆     ┆     ┆     ┆     ┆     ┆     ┆     ┆     ┆     ┆     ┆     ┆     ┆     ┆     ┆     ┆     ┆     ┆     ┆     ┆     ┆     ┆     ┆     ┆ 1/2 ┆     ┆     ┆     ┆     ┆     ┆     ┆     ┆     ┆     │\n",
       "│     ┆     ┆     ┆     ┆     ┆     ┆     ┆     ┆     ┆     ┆     ┆     ┆     ┆     ┆     ┆     ┆     ┆     ┆     ┆     ┆     ┆     ┆     ┆     ┆     ┆     ┆     ┆     ┆     ┆     ┆     ┆     ┆     ┆     ┆     ┆     ┆     ┆     ┆     ┆     ┆     ┆     ┆     ┆     ┆     ┆ wer ┆     ┆     ┆     ┆     ┆     ┆     ┆     ┆     ┆     ┆     ┆     ┆     ┆     ┆     ┆     ┆     ┆     ┆     ┆     ┆     ┆     ┆     ┆     ┆     ┆     ┆     ┆     ┆     ┆     ┆     ┆     ┆     ┆     ┆     ┆     ┆     ┆     ┆     ┆     ┆     ┆     ┆     ┆     ┆     ┆     ┆     ┆     ┆     ┆     ┆     ┆     ┆     ┆     ┆     ┆     ┆     ┆     ┆     ┆     ┆     ┆     ┆     ┆     ┆     ┆     ┆     ┆     ┆     ┆     ┆     ┆     ┆ 022 ┆     ┆     ┆     ┆     ┆     ┆     ┆     ┆     ┆     │\n",
       "│     ┆     ┆     ┆     ┆     ┆     ┆     ┆     ┆     ┆     ┆     ┆     ┆     ┆     ┆     ┆     ┆     ┆     ┆     ┆     ┆     ┆     ┆     ┆     ┆     ┆     ┆     ┆     ┆     ┆     ┆     ┆     ┆     ┆     ┆     ┆     ┆     ┆     ┆     ┆     ┆     ┆     ┆     ┆     ┆     ┆ p   ┆     ┆     ┆     ┆     ┆     ┆     ┆     ┆     ┆     ┆     ┆     ┆     ┆     ┆     ┆     ┆     ┆     ┆     ┆     ┆     ┆     ┆     ┆     ┆     ┆     ┆     ┆     ┆     ┆     ┆     ┆     ┆     ┆     ┆     ┆     ┆     ┆     ┆     ┆     ┆     ┆     ┆     ┆     ┆     ┆     ┆     ┆     ┆     ┆     ┆     ┆     ┆     ┆     ┆     ┆     ┆     ┆     ┆     ┆     ┆     ┆     ┆     ┆     ┆     ┆     ┆     ┆     ┆     ┆     ┆     ┆     ┆     ┆     ┆     ┆     ┆     ┆     ┆     ┆     ┆     ┆     │\n",
       "│     ┆     ┆     ┆     ┆     ┆     ┆     ┆     ┆     ┆     ┆     ┆     ┆     ┆     ┆     ┆     ┆     ┆     ┆     ┆     ┆     ┆     ┆     ┆     ┆     ┆     ┆     ┆     ┆     ┆     ┆     ┆     ┆     ┆     ┆     ┆     ┆     ┆     ┆     ┆     ┆     ┆     ┆     ┆     ┆     ┆ FC  ┆     ┆     ┆     ┆     ┆     ┆     ┆     ┆     ┆     ┆     ┆     ┆     ┆     ┆     ┆     ┆     ┆     ┆     ┆     ┆     ┆     ┆     ┆     ┆     ┆     ┆     ┆     ┆     ┆     ┆     ┆     ┆     ┆     ┆     ┆     ┆     ┆     ┆     ┆     ┆     ┆     ┆     ┆     ┆     ┆     ┆     ┆     ┆     ┆     ┆     ┆     ┆     ┆     ┆     ┆     ┆     ┆     ┆     ┆     ┆     ┆     ┆     ┆     ┆     ┆     ┆     ┆     ┆     ┆     ┆     ┆     ┆     ┆     ┆     ┆     ┆     ┆     ┆     ┆     ┆     ┆     │\n",
       "│ 136 ┆ 9   ┆ 31  ┆ 201 ┆ 119 ┆ 3   ┆ 2   ┆ 50. ┆ 1   ┆ 15. ┆ 0   ┆ 489 ┆ 5   ┆ 249 ┆ 3   ┆ 1   ┆ 96. ┆ 476 ┆ 5   ┆ 996 ┆ 27  ┆ 17  ┆ 11  ┆ 167 ┆ 25. ┆ 178 ┆ X.  ┆ 202 ┆ 512 ┆ 41  ┆ 9   ┆ 109 ┆ 202 ┆ 17  ┆ 1   ┆ 202 ┆ 1   ┆ 14. ┆ 11  ┆ 63  ┆ 104 ┆ 39  ┆ 14  ┆ 110 ┆ 14  ┆ Oud ┆ Oud ┆ 1   ┆ 177 ┆ 1   ┆ 166 ┆ 81  ┆ 267 ┆ tru ┆ 77  ┆ 12. ┆ 1   ┆ 2   ┆ 25  ┆ 20  ┆ 10  ┆ 77  ┆ 29. ┆ 46. ┆ 610 ┆ 32  ┆ 25  ┆ 0   ┆ 28. ┆ 402 ┆ 20  ┆ 1   ┆ 1   ┆ 173 ┆ 154 ┆ 1   ┆ 16  ┆ Oud ┆ 8   ┆ 11  ┆ 1   ┆ 19  ┆ 343 ┆ 265 ┆ 275 ┆ 5   ┆ 179 ┆ 224 ┆ 11  ┆ 48  ┆ 7   ┆ 8   ┆ 4   ┆ AM  ┆ 2   ┆ Xav ┆ 184 ┆ 36  ┆ 353 ┆ Mid ┆ 198 ┆ 484 ┆ 3   ┆ 20  ┆ 8   ┆ 46  ┆ 0   ┆ 24  ┆ 0   ┆ 15  ┆ 13. ┆ 450 ┆ 612 ┆ 3   ┆ 17  ┆ 24  ┆ 343 ┆ BEL ┆ 8   ┆ 202 ┆ 202 ┆ 202 ┆ 16  ┆ BEL ┆ Pro ┆ mal ┆ adu │\n",
       "│     ┆     ┆     ┆     ┆     ┆     ┆     ┆ 07  ┆     ┆ 07  ┆     ┆     ┆     ┆     ┆     ┆     ┆ 19  ┆     ┆     ┆ 9   ┆     ┆     ┆     ┆     ┆ 52  ┆     ┆ Mer ┆ 1/2 ┆ 7   ┆     ┆     ┆ 32  ┆     ┆     ┆     ┆ 1-0 ┆     ┆ 52  ┆     ┆     ┆     ┆     ┆     ┆ 1   ┆     ┆ -He ┆ -He ┆     ┆ 5   ┆     ┆ 0   ┆     ┆     ┆ e   ┆     ┆ 32  ┆     ┆     ┆     ┆     ┆     ┆     ┆ 59  ┆ 12  ┆     ┆     ┆     ┆     ┆ 3   ┆     ┆     ┆     ┆     ┆ 9   ┆     ┆     ┆     ┆ -He ┆     ┆     ┆     ┆     ┆     ┆     ┆     ┆     ┆ 5   ┆     ┆     ┆     ┆     ┆     ┆     ┆     ┆     ┆ ier ┆     ┆     ┆ 4   ┆ fie ┆ 9-0 ┆ 2   ┆     ┆     ┆     ┆     ┆     ┆     ┆     ┆     ┆ 2   ┆ 02  ┆     ┆     ┆     ┆     ┆ 5   ┆ -   ┆     ┆ 1   ┆ 2   ┆ 1/2 ┆     ┆     ┆ Lea ┆ e   ┆ lt  │\n",
       "│     ┆     ┆     ┆     ┆     ┆     ┆     ┆     ┆     ┆     ┆     ┆     ┆     ┆     ┆     ┆     ┆     ┆     ┆     ┆     ┆     ┆     ┆     ┆     ┆     ┆     ┆ cie ┆ 022 ┆     ┆     ┆     ┆     ┆     ┆     ┆     ┆ 7-2 ┆     ┆     ┆     ┆     ┆     ┆     ┆     ┆     ┆     ┆ ver ┆ ver ┆     ┆     ┆     ┆     ┆     ┆     ┆     ┆     ┆     ┆     ┆     ┆     ┆     ┆     ┆     ┆     ┆     ┆     ┆     ┆     ┆     ┆     ┆     ┆     ┆     ┆     ┆     ┆     ┆     ┆     ┆ ver ┆     ┆     ┆     ┆     ┆     ┆     ┆     ┆     ┆     ┆     ┆     ┆     ┆     ┆     ┆     ┆     ┆     ┆ Mer ┆     ┆     ┆     ┆ ld  ┆ 7-2 ┆     ┆     ┆     ┆     ┆     ┆     ┆     ┆     ┆     ┆     ┆     ┆     ┆     ┆     ┆     ┆     ┆ Pro ┆     ┆     ┆     ┆ 022 ┆     ┆     ┆ gue ┆     ┆     │\n",
       "│     ┆     ┆     ┆     ┆     ┆     ┆     ┆     ┆     ┆     ┆     ┆     ┆     ┆     ┆     ┆     ┆     ┆     ┆     ┆     ┆     ┆     ┆     ┆     ┆     ┆     ┆ r   ┆     ┆     ┆     ┆     ┆     ┆     ┆     ┆     ┆ 4   ┆     ┆     ┆     ┆     ┆     ┆     ┆     ┆     ┆     ┆ lee ┆ lee ┆     ┆     ┆     ┆     ┆     ┆     ┆     ┆     ┆     ┆     ┆     ┆     ┆     ┆     ┆     ┆     ┆     ┆     ┆     ┆     ┆     ┆     ┆     ┆     ┆     ┆     ┆     ┆     ┆     ┆     ┆ lee ┆     ┆     ┆     ┆     ┆     ┆     ┆     ┆     ┆     ┆     ┆     ┆     ┆     ┆     ┆     ┆     ┆     ┆ cie ┆     ┆     ┆     ┆     ┆ 5   ┆     ┆     ┆     ┆     ┆     ┆     ┆     ┆     ┆     ┆     ┆     ┆     ┆     ┆     ┆     ┆     ┆ Lea ┆     ┆     ┆     ┆     ┆     ┆     ┆     ┆     ┆     │\n",
       "│     ┆     ┆     ┆     ┆     ┆     ┆     ┆     ┆     ┆     ┆     ┆     ┆     ┆     ┆     ┆     ┆     ┆     ┆     ┆     ┆     ┆     ┆     ┆     ┆     ┆     ┆     ┆     ┆     ┆     ┆     ┆     ┆     ┆     ┆     ┆     ┆     ┆     ┆     ┆     ┆     ┆     ┆     ┆     ┆     ┆ Leu ┆ Leu ┆     ┆     ┆     ┆     ┆     ┆     ┆     ┆     ┆     ┆     ┆     ┆     ┆     ┆     ┆     ┆     ┆     ┆     ┆     ┆     ┆     ┆     ┆     ┆     ┆     ┆     ┆     ┆     ┆     ┆     ┆ Leu ┆     ┆     ┆     ┆     ┆     ┆     ┆     ┆     ┆     ┆     ┆     ┆     ┆     ┆     ┆     ┆     ┆     ┆ r   ┆     ┆     ┆     ┆     ┆     ┆     ┆     ┆     ┆     ┆     ┆     ┆     ┆     ┆     ┆     ┆     ┆     ┆     ┆     ┆     ┆     ┆ gue ┆     ┆     ┆     ┆     ┆     ┆     ┆     ┆     ┆     │\n",
       "│     ┆     ┆     ┆     ┆     ┆     ┆     ┆     ┆     ┆     ┆     ┆     ┆     ┆     ┆     ┆     ┆     ┆     ┆     ┆     ┆     ┆     ┆     ┆     ┆     ┆     ┆     ┆     ┆     ┆     ┆     ┆     ┆     ┆     ┆     ┆     ┆     ┆     ┆     ┆     ┆     ┆     ┆     ┆     ┆     ┆ ven ┆ ven ┆     ┆     ┆     ┆     ┆     ┆     ┆     ┆     ┆     ┆     ┆     ┆     ┆     ┆     ┆     ┆     ┆     ┆     ┆     ┆     ┆     ┆     ┆     ┆     ┆     ┆     ┆     ┆     ┆     ┆     ┆ ven ┆     ┆     ┆     ┆     ┆     ┆     ┆     ┆     ┆     ┆     ┆     ┆     ┆     ┆     ┆     ┆     ┆     ┆     ┆     ┆     ┆     ┆     ┆     ┆     ┆     ┆     ┆     ┆     ┆     ┆     ┆     ┆     ┆     ┆     ┆     ┆     ┆     ┆     ┆     ┆ -   ┆     ┆     ┆     ┆     ┆     ┆     ┆     ┆     ┆     │\n",
       "│     ┆     ┆     ┆     ┆     ┆     ┆     ┆     ┆     ┆     ┆     ┆     ┆     ┆     ┆     ┆     ┆     ┆     ┆     ┆     ┆     ┆     ┆     ┆     ┆     ┆     ┆     ┆     ┆     ┆     ┆     ┆     ┆     ┆     ┆     ┆     ┆     ┆     ┆     ┆     ┆     ┆     ┆     ┆     ┆     ┆ v   ┆     ┆     ┆     ┆     ┆     ┆     ┆     ┆     ┆     ┆     ┆     ┆     ┆     ┆     ┆     ┆     ┆     ┆     ┆     ┆     ┆     ┆     ┆     ┆     ┆     ┆     ┆     ┆     ┆     ┆     ┆     ┆     ┆     ┆     ┆     ┆     ┆     ┆     ┆     ┆     ┆     ┆     ┆     ┆     ┆     ┆     ┆     ┆     ┆     ┆     ┆     ┆     ┆     ┆     ┆     ┆     ┆     ┆     ┆     ┆     ┆     ┆     ┆     ┆     ┆     ┆     ┆     ┆     ┆     ┆     ┆     ┆ 202 ┆     ┆     ┆     ┆     ┆     ┆     ┆     ┆     ┆     │\n",
       "│     ┆     ┆     ┆     ┆     ┆     ┆     ┆     ┆     ┆     ┆     ┆     ┆     ┆     ┆     ┆     ┆     ┆     ┆     ┆     ┆     ┆     ┆     ┆     ┆     ┆     ┆     ┆     ┆     ┆     ┆     ┆     ┆     ┆     ┆     ┆     ┆     ┆     ┆     ┆     ┆     ┆     ┆     ┆     ┆     ┆ SV  ┆     ┆     ┆     ┆     ┆     ┆     ┆     ┆     ┆     ┆     ┆     ┆     ┆     ┆     ┆     ┆     ┆     ┆     ┆     ┆     ┆     ┆     ┆     ┆     ┆     ┆     ┆     ┆     ┆     ┆     ┆     ┆     ┆     ┆     ┆     ┆     ┆     ┆     ┆     ┆     ┆     ┆     ┆     ┆     ┆     ┆     ┆     ┆     ┆     ┆     ┆     ┆     ┆     ┆     ┆     ┆     ┆     ┆     ┆     ┆     ┆     ┆     ┆     ┆     ┆     ┆     ┆     ┆     ┆     ┆     ┆     ┆ 1/2 ┆     ┆     ┆     ┆     ┆     ┆     ┆     ┆     ┆     │\n",
       "│     ┆     ┆     ┆     ┆     ┆     ┆     ┆     ┆     ┆     ┆     ┆     ┆     ┆     ┆     ┆     ┆     ┆     ┆     ┆     ┆     ┆     ┆     ┆     ┆     ┆     ┆     ┆     ┆     ┆     ┆     ┆     ┆     ┆     ┆     ┆     ┆     ┆     ┆     ┆     ┆     ┆     ┆     ┆     ┆     ┆ Zul ┆     ┆     ┆     ┆     ┆     ┆     ┆     ┆     ┆     ┆     ┆     ┆     ┆     ┆     ┆     ┆     ┆     ┆     ┆     ┆     ┆     ┆     ┆     ┆     ┆     ┆     ┆     ┆     ┆     ┆     ┆     ┆     ┆     ┆     ┆     ┆     ┆     ┆     ┆     ┆     ┆     ┆     ┆     ┆     ┆     ┆     ┆     ┆     ┆     ┆     ┆     ┆     ┆     ┆     ┆     ┆     ┆     ┆     ┆     ┆     ┆     ┆     ┆     ┆     ┆     ┆     ┆     ┆     ┆     ┆     ┆     ┆ 022 ┆     ┆     ┆     ┆     ┆     ┆     ┆     ┆     ┆     │\n",
       "│     ┆     ┆     ┆     ┆     ┆     ┆     ┆     ┆     ┆     ┆     ┆     ┆     ┆     ┆     ┆     ┆     ┆     ┆     ┆     ┆     ┆     ┆     ┆     ┆     ┆     ┆     ┆     ┆     ┆     ┆     ┆     ┆     ┆     ┆     ┆     ┆     ┆     ┆     ┆     ┆     ┆     ┆     ┆     ┆     ┆ te… ┆     ┆     ┆     ┆     ┆     ┆     ┆     ┆     ┆     ┆     ┆     ┆     ┆     ┆     ┆     ┆     ┆     ┆     ┆     ┆     ┆     ┆     ┆     ┆     ┆     ┆     ┆     ┆     ┆     ┆     ┆     ┆     ┆     ┆     ┆     ┆     ┆     ┆     ┆     ┆     ┆     ┆     ┆     ┆     ┆     ┆     ┆     ┆     ┆     ┆     ┆     ┆     ┆     ┆     ┆     ┆     ┆     ┆     ┆     ┆     ┆     ┆     ┆     ┆     ┆     ┆     ┆     ┆     ┆     ┆     ┆     ┆     ┆     ┆     ┆     ┆     ┆     ┆     ┆     ┆     ┆     │\n",
       "│ 26  ┆ 13  ┆ 57  ┆ 292 ┆ 0   ┆ 4   ┆ 2   ┆ 24. ┆ 3   ┆ 6.5 ┆ 1   ┆ 714 ┆ 7   ┆ 249 ┆ 4   ┆ 1   ┆ 71. ┆ 421 ┆ 3   ┆ 870 ┆ 8   ┆ 26  ┆ 11  ┆ 167 ┆ 22. ┆ 253 ┆ O.  ┆ 202 ┆ 308 ┆ 25  ┆ 22  ┆ 146 ┆ 105 ┆ 14  ┆ 1   ┆ 202 ┆ 1   ┆ 13. ┆ 5   ┆ 78  ┆ 89  ┆ 34  ┆ 5   ┆ 124 ┆ 8   ┆ Oud ┆ SV  ┆ 2   ┆ 127 ┆ 2   ┆ 228 ┆ 171 ┆ 427 ┆ tru ┆ 64  ┆ 7.9 ┆ 1   ┆ 2   ┆ 26  ┆ 21  ┆ 7   ┆ 82  ┆ 19. ┆ 46. ┆ 724 ┆ 23  ┆ 18  ┆ 1   ┆ 26. ┆ 425 ┆ 33  ┆ 1   ┆ 0   ┆ 938 ┆ 10  ┆ 2   ┆ 16  ┆ SV  ┆ 11  ┆ 13  ┆ 2   ┆ 13  ┆ 297 ┆ 222 ┆ 129 ┆ 1   ┆ 193 ┆ 172 ┆ 18  ┆ 95  ┆ 7   ┆ 8   ┆ 2   ┆ AM  ┆ 1   ┆ Oma ┆ 51  ┆ 39  ┆ 287 ┆ Mid ┆ 199 ┆ 562 ┆ 1   ┆ 18  ┆ 5   ┆ 25  ┆ 7   ┆ 29  ┆ 1   ┆ 17  ┆ 14. ┆ 450 ┆ 527 ┆ 0   ┆ 6   ┆ 36  ┆ 356 ┆ BEL ┆ 8   ┆ 202 ┆ 202 ┆ 202 ┆ 16  ┆ BEL ┆ Pro ┆ mal ┆ adu │\n",
       "│     ┆     ┆     ┆     ┆     ┆     ┆     ┆ 95  ┆     ┆ 7   ┆     ┆     ┆     ┆     ┆     ┆     ┆ 07  ┆     ┆     ┆ 9   ┆     ┆     ┆     ┆     ┆ 45  ┆     ┆ Gov ┆ 1/2 ┆ 9   ┆     ┆     ┆ 25  ┆     ┆     ┆     ┆ 1-0 ┆     ┆ 2   ┆     ┆     ┆     ┆     ┆     ┆ 1   ┆     ┆ -He ┆ Zul ┆     ┆ 8   ┆     ┆ 9   ┆     ┆     ┆ e   ┆     ┆ 3   ┆     ┆     ┆     ┆     ┆     ┆     ┆ 77  ┆ 12  ┆     ┆     ┆     ┆     ┆ 4   ┆     ┆     ┆     ┆     ┆     ┆     ┆     ┆     ┆ Zul ┆     ┆     ┆     ┆     ┆     ┆     ┆     ┆     ┆ 8   ┆     ┆     ┆     ┆     ┆     ┆     ┆     ┆     ┆ r   ┆     ┆     ┆ 6   ┆ fie ┆ 6-0 ┆ 0   ┆     ┆     ┆     ┆     ┆     ┆     ┆     ┆     ┆ 52  ┆ 02  ┆     ┆     ┆     ┆     ┆ 7   ┆ -   ┆     ┆ 1   ┆ 2   ┆ 1/2 ┆     ┆     ┆ Lea ┆ e   ┆ lt  │\n",
       "│     ┆     ┆     ┆     ┆     ┆     ┆     ┆     ┆     ┆     ┆     ┆     ┆     ┆     ┆     ┆     ┆     ┆     ┆     ┆     ┆     ┆     ┆     ┆     ┆     ┆     ┆ ea  ┆ 022 ┆     ┆     ┆     ┆     ┆     ┆     ┆     ┆ 7-2 ┆     ┆     ┆     ┆     ┆     ┆     ┆     ┆     ┆     ┆ ver ┆ te- ┆     ┆     ┆     ┆     ┆     ┆     ┆     ┆     ┆     ┆     ┆     ┆     ┆     ┆     ┆     ┆     ┆     ┆     ┆     ┆     ┆     ┆     ┆     ┆     ┆     ┆     ┆     ┆     ┆     ┆     ┆ te- ┆     ┆     ┆     ┆     ┆     ┆     ┆     ┆     ┆     ┆     ┆     ┆     ┆     ┆     ┆     ┆     ┆     ┆ Nic ┆     ┆     ┆     ┆ ld  ┆ 1-1 ┆     ┆     ┆     ┆     ┆     ┆     ┆     ┆     ┆     ┆     ┆     ┆     ┆     ┆     ┆     ┆     ┆ Pro ┆     ┆     ┆     ┆ 022 ┆     ┆     ┆ gue ┆     ┆     │\n",
       "│     ┆     ┆     ┆     ┆     ┆     ┆     ┆     ┆     ┆     ┆     ┆     ┆     ┆     ┆     ┆     ┆     ┆     ┆     ┆     ┆     ┆     ┆     ┆     ┆     ┆     ┆     ┆     ┆     ┆     ┆     ┆     ┆     ┆     ┆     ┆ 4   ┆     ┆     ┆     ┆     ┆     ┆     ┆     ┆     ┆     ┆ lee ┆ War ┆     ┆     ┆     ┆     ┆     ┆     ┆     ┆     ┆     ┆     ┆     ┆     ┆     ┆     ┆     ┆     ┆     ┆     ┆     ┆     ┆     ┆     ┆     ┆     ┆     ┆     ┆     ┆     ┆     ┆     ┆ War ┆     ┆     ┆     ┆     ┆     ┆     ┆     ┆     ┆     ┆     ┆     ┆     ┆     ┆     ┆     ┆     ┆     ┆ olá ┆     ┆     ┆     ┆     ┆ 8   ┆     ┆     ┆     ┆     ┆     ┆     ┆     ┆     ┆     ┆     ┆     ┆     ┆     ┆     ┆     ┆     ┆ Lea ┆     ┆     ┆     ┆     ┆     ┆     ┆     ┆     ┆     │\n",
       "│     ┆     ┆     ┆     ┆     ┆     ┆     ┆     ┆     ┆     ┆     ┆     ┆     ┆     ┆     ┆     ┆     ┆     ┆     ┆     ┆     ┆     ┆     ┆     ┆     ┆     ┆     ┆     ┆     ┆     ┆     ┆     ┆     ┆     ┆     ┆     ┆     ┆     ┆     ┆     ┆     ┆     ┆     ┆     ┆     ┆ Leu ┆ ege ┆     ┆     ┆     ┆     ┆     ┆     ┆     ┆     ┆     ┆     ┆     ┆     ┆     ┆     ┆     ┆     ┆     ┆     ┆     ┆     ┆     ┆     ┆     ┆     ┆     ┆     ┆     ┆     ┆     ┆     ┆ ege ┆     ┆     ┆     ┆     ┆     ┆     ┆     ┆     ┆     ┆     ┆     ┆     ┆     ┆     ┆     ┆     ┆     ┆ s   ┆     ┆     ┆     ┆     ┆     ┆     ┆     ┆     ┆     ┆     ┆     ┆     ┆     ┆     ┆     ┆     ┆     ┆     ┆     ┆     ┆     ┆ gue ┆     ┆     ┆     ┆     ┆     ┆     ┆     ┆     ┆     │\n",
       "│     ┆     ┆     ┆     ┆     ┆     ┆     ┆     ┆     ┆     ┆     ┆     ┆     ┆     ┆     ┆     ┆     ┆     ┆     ┆     ┆     ┆     ┆     ┆     ┆     ┆     ┆     ┆     ┆     ┆     ┆     ┆     ┆     ┆     ┆     ┆     ┆     ┆     ┆     ┆     ┆     ┆     ┆     ┆     ┆     ┆ ven ┆ m   ┆     ┆     ┆     ┆     ┆     ┆     ┆     ┆     ┆     ┆     ┆     ┆     ┆     ┆     ┆     ┆     ┆     ┆     ┆     ┆     ┆     ┆     ┆     ┆     ┆     ┆     ┆     ┆     ┆     ┆     ┆ m   ┆     ┆     ┆     ┆     ┆     ┆     ┆     ┆     ┆     ┆     ┆     ┆     ┆     ┆     ┆     ┆     ┆     ┆ Gov ┆     ┆     ┆     ┆     ┆     ┆     ┆     ┆     ┆     ┆     ┆     ┆     ┆     ┆     ┆     ┆     ┆     ┆     ┆     ┆     ┆     ┆ -   ┆     ┆     ┆     ┆     ┆     ┆     ┆     ┆     ┆     │\n",
       "│     ┆     ┆     ┆     ┆     ┆     ┆     ┆     ┆     ┆     ┆     ┆     ┆     ┆     ┆     ┆     ┆     ┆     ┆     ┆     ┆     ┆     ┆     ┆     ┆     ┆     ┆     ┆     ┆     ┆     ┆     ┆     ┆     ┆     ┆     ┆     ┆     ┆     ┆     ┆     ┆     ┆     ┆     ┆     ┆     ┆ v   ┆     ┆     ┆     ┆     ┆     ┆     ┆     ┆     ┆     ┆     ┆     ┆     ┆     ┆     ┆     ┆     ┆     ┆     ┆     ┆     ┆     ┆     ┆     ┆     ┆     ┆     ┆     ┆     ┆     ┆     ┆     ┆     ┆     ┆     ┆     ┆     ┆     ┆     ┆     ┆     ┆     ┆     ┆     ┆     ┆     ┆     ┆     ┆     ┆     ┆ ea  ┆     ┆     ┆     ┆     ┆     ┆     ┆     ┆     ┆     ┆     ┆     ┆     ┆     ┆     ┆     ┆     ┆     ┆     ┆     ┆     ┆     ┆ 202 ┆     ┆     ┆     ┆     ┆     ┆     ┆     ┆     ┆     │\n",
       "│     ┆     ┆     ┆     ┆     ┆     ┆     ┆     ┆     ┆     ┆     ┆     ┆     ┆     ┆     ┆     ┆     ┆     ┆     ┆     ┆     ┆     ┆     ┆     ┆     ┆     ┆     ┆     ┆     ┆     ┆     ┆     ┆     ┆     ┆     ┆     ┆     ┆     ┆     ┆     ┆     ┆     ┆     ┆     ┆     ┆ SV  ┆     ┆     ┆     ┆     ┆     ┆     ┆     ┆     ┆     ┆     ┆     ┆     ┆     ┆     ┆     ┆     ┆     ┆     ┆     ┆     ┆     ┆     ┆     ┆     ┆     ┆     ┆     ┆     ┆     ┆     ┆     ┆     ┆     ┆     ┆     ┆     ┆     ┆     ┆     ┆     ┆     ┆     ┆     ┆     ┆     ┆     ┆     ┆     ┆     ┆ Gar ┆     ┆     ┆     ┆     ┆     ┆     ┆     ┆     ┆     ┆     ┆     ┆     ┆     ┆     ┆     ┆     ┆     ┆     ┆     ┆     ┆     ┆ 1/2 ┆     ┆     ┆     ┆     ┆     ┆     ┆     ┆     ┆     │\n",
       "│     ┆     ┆     ┆     ┆     ┆     ┆     ┆     ┆     ┆     ┆     ┆     ┆     ┆     ┆     ┆     ┆     ┆     ┆     ┆     ┆     ┆     ┆     ┆     ┆     ┆     ┆     ┆     ┆     ┆     ┆     ┆     ┆     ┆     ┆     ┆     ┆     ┆     ┆     ┆     ┆     ┆     ┆     ┆     ┆     ┆ Zul ┆     ┆     ┆     ┆     ┆     ┆     ┆     ┆     ┆     ┆     ┆     ┆     ┆     ┆     ┆     ┆     ┆     ┆     ┆     ┆     ┆     ┆     ┆     ┆     ┆     ┆     ┆     ┆     ┆     ┆     ┆     ┆     ┆     ┆     ┆     ┆     ┆     ┆     ┆     ┆     ┆     ┆     ┆     ┆     ┆     ┆     ┆     ┆     ┆     ┆ cía ┆     ┆     ┆     ┆     ┆     ┆     ┆     ┆     ┆     ┆     ┆     ┆     ┆     ┆     ┆     ┆     ┆     ┆     ┆     ┆     ┆     ┆ 022 ┆     ┆     ┆     ┆     ┆     ┆     ┆     ┆     ┆     │\n",
       "│     ┆     ┆     ┆     ┆     ┆     ┆     ┆     ┆     ┆     ┆     ┆     ┆     ┆     ┆     ┆     ┆     ┆     ┆     ┆     ┆     ┆     ┆     ┆     ┆     ┆     ┆     ┆     ┆     ┆     ┆     ┆     ┆     ┆     ┆     ┆     ┆     ┆     ┆     ┆     ┆     ┆     ┆     ┆     ┆     ┆ te… ┆     ┆     ┆     ┆     ┆     ┆     ┆     ┆     ┆     ┆     ┆     ┆     ┆     ┆     ┆     ┆     ┆     ┆     ┆     ┆     ┆     ┆     ┆     ┆     ┆     ┆     ┆     ┆     ┆     ┆     ┆     ┆     ┆     ┆     ┆     ┆     ┆     ┆     ┆     ┆     ┆     ┆     ┆     ┆     ┆     ┆     ┆     ┆     ┆     ┆     ┆     ┆     ┆     ┆     ┆     ┆     ┆     ┆     ┆     ┆     ┆     ┆     ┆     ┆     ┆     ┆     ┆     ┆     ┆     ┆     ┆     ┆     ┆     ┆     ┆     ┆     ┆     ┆     ┆     ┆     ┆     │\n",
       "│ 132 ┆ 13  ┆ 44  ┆ 284 ┆ 88  ┆ 6   ┆ 3   ┆ 28. ┆ 5   ┆ 8.4 ┆ 1   ┆ 680 ┆ 9   ┆ 249 ┆ 6   ┆ 1   ┆ 74. ┆ 594 ┆ 1   ┆ 897 ┆ 27  ┆ 44  ┆ 5   ┆ 224 ┆ 20. ┆ 301 ┆ S.  ┆ 202 ┆ 356 ┆ 27  ┆ 13  ┆ 983 ┆ 207 ┆ 20  ┆ 0   ┆ 202 ┆ 1   ┆ 14. ┆ 12  ┆ 110 ┆ 114 ┆ 50  ┆ 8   ┆ 123 ┆ 8   ┆ Oud ┆ Oud ┆ 4   ┆ 124 ┆ 2   ┆ 188 ┆ 144 ┆ 327 ┆ tru ┆ 64  ┆ 7.1 ┆ 2   ┆ 1   ┆ 21  ┆ 25  ┆ 11  ┆ 70  ┆ 23. ┆ 46. ┆ 603 ┆ 26  ┆ 21  ┆ 0   ┆ 27. ┆ 536 ┆ 18  ┆ 1   ┆ 0   ┆ 132 ┆ 131 ┆ 0   ┆ 16  ┆ Oud ┆ 15  ┆ 13  ┆ 2   ┆ 25  ┆ 276 ┆ 337 ┆ 310 ┆ 6   ┆ 202 ┆ 235 ┆ 13  ┆ 76  ┆ 9   ┆ 8   ┆ 8   ┆ AM  ┆ 1   ┆ Sie ┆ 193 ┆ 37  ┆ 335 ┆ Mid ┆ 199 ┆ 541 ┆ 0   ┆ 25  ┆ 12  ┆ 26  ┆ 20  ┆ 7   ┆ 3   ┆ 17  ┆ 13. ┆ 450 ┆ 554 ┆ 4   ┆ 9   ┆ 27  ┆ 312 ┆ BEL ┆ 8   ┆ 202 ┆ 202 ┆ 202 ┆ 16  ┆ BEL ┆ Pro ┆ mal ┆ adu │\n",
       "│     ┆     ┆     ┆     ┆     ┆     ┆     ┆ 03  ┆     ┆ 8   ┆     ┆     ┆     ┆     ┆     ┆     ┆ 15  ┆     ┆     ┆ 6   ┆     ┆     ┆     ┆     ┆ 35  ┆     ┆ Sch ┆ 1/2 ┆ 6   ┆     ┆     ┆ 5   ┆     ┆     ┆     ┆ 1-0 ┆     ┆ 52  ┆     ┆     ┆     ┆     ┆     ┆ 4   ┆     ┆ -He ┆ -He ┆     ┆ 2   ┆     ┆ 3   ┆     ┆     ┆ e   ┆     ┆ 5   ┆     ┆     ┆     ┆     ┆     ┆     ┆ 0   ┆ 12  ┆     ┆     ┆     ┆     ┆ 4   ┆     ┆     ┆     ┆     ┆ 6   ┆     ┆     ┆     ┆ -He ┆     ┆     ┆     ┆     ┆     ┆     ┆     ┆     ┆ 5   ┆     ┆     ┆     ┆     ┆     ┆     ┆     ┆     ┆ be  ┆     ┆     ┆ 1   ┆ fie ┆ 6-0 ┆ 0   ┆     ┆     ┆     ┆     ┆     ┆     ┆     ┆     ┆ 2   ┆ 02  ┆     ┆     ┆     ┆     ┆ 5   ┆ -   ┆     ┆ 1   ┆ 2   ┆ 1/2 ┆     ┆     ┆ Lea ┆ e   ┆ lt  │\n",
       "│     ┆     ┆     ┆     ┆     ┆     ┆     ┆     ┆     ┆     ┆     ┆     ┆     ┆     ┆     ┆     ┆     ┆     ┆     ┆     ┆     ┆     ┆     ┆     ┆     ┆     ┆ rij ┆ 022 ┆     ┆     ┆     ┆     ┆     ┆     ┆     ┆ 7-2 ┆     ┆     ┆     ┆     ┆     ┆     ┆     ┆     ┆     ┆ ver ┆ ver ┆     ┆     ┆     ┆     ┆     ┆     ┆     ┆     ┆     ┆     ┆     ┆     ┆     ┆     ┆     ┆     ┆     ┆     ┆     ┆     ┆     ┆     ┆     ┆     ┆     ┆     ┆     ┆     ┆     ┆     ┆ ver ┆     ┆     ┆     ┆     ┆     ┆     ┆     ┆     ┆     ┆     ┆     ┆     ┆     ┆     ┆     ┆     ┆     ┆ Sch ┆     ┆     ┆     ┆ ld  ┆ 7-1 ┆     ┆     ┆     ┆     ┆     ┆     ┆     ┆     ┆     ┆     ┆     ┆     ┆     ┆     ┆     ┆     ┆ Pro ┆     ┆     ┆     ┆ 022 ┆     ┆     ┆ gue ┆     ┆     │\n",
       "│     ┆     ┆     ┆     ┆     ┆     ┆     ┆     ┆     ┆     ┆     ┆     ┆     ┆     ┆     ┆     ┆     ┆     ┆     ┆     ┆     ┆     ┆     ┆     ┆     ┆     ┆ ver ┆     ┆     ┆     ┆     ┆     ┆     ┆     ┆     ┆ 4   ┆     ┆     ┆     ┆     ┆     ┆     ┆     ┆     ┆     ┆ lee ┆ lee ┆     ┆     ┆     ┆     ┆     ┆     ┆     ┆     ┆     ┆     ┆     ┆     ┆     ┆     ┆     ┆     ┆     ┆     ┆     ┆     ┆     ┆     ┆     ┆     ┆     ┆     ┆     ┆     ┆     ┆     ┆ lee ┆     ┆     ┆     ┆     ┆     ┆     ┆     ┆     ┆     ┆     ┆     ┆     ┆     ┆     ┆     ┆     ┆     ┆ rij ┆     ┆     ┆     ┆     ┆ 8   ┆     ┆     ┆     ┆     ┆     ┆     ┆     ┆     ┆     ┆     ┆     ┆     ┆     ┆     ┆     ┆     ┆ Lea ┆     ┆     ┆     ┆     ┆     ┆     ┆     ┆     ┆     │\n",
       "│     ┆     ┆     ┆     ┆     ┆     ┆     ┆     ┆     ┆     ┆     ┆     ┆     ┆     ┆     ┆     ┆     ┆     ┆     ┆     ┆     ┆     ┆     ┆     ┆     ┆     ┆ s   ┆     ┆     ┆     ┆     ┆     ┆     ┆     ┆     ┆     ┆     ┆     ┆     ┆     ┆     ┆     ┆     ┆     ┆     ┆ Leu ┆ Leu ┆     ┆     ┆     ┆     ┆     ┆     ┆     ┆     ┆     ┆     ┆     ┆     ┆     ┆     ┆     ┆     ┆     ┆     ┆     ┆     ┆     ┆     ┆     ┆     ┆     ┆     ┆     ┆     ┆     ┆     ┆ Leu ┆     ┆     ┆     ┆     ┆     ┆     ┆     ┆     ┆     ┆     ┆     ┆     ┆     ┆     ┆     ┆     ┆     ┆ ver ┆     ┆     ┆     ┆     ┆     ┆     ┆     ┆     ┆     ┆     ┆     ┆     ┆     ┆     ┆     ┆     ┆     ┆     ┆     ┆     ┆     ┆ gue ┆     ┆     ┆     ┆     ┆     ┆     ┆     ┆     ┆     │\n",
       "│     ┆     ┆     ┆     ┆     ┆     ┆     ┆     ┆     ┆     ┆     ┆     ┆     ┆     ┆     ┆     ┆     ┆     ┆     ┆     ┆     ┆     ┆     ┆     ┆     ┆     ┆     ┆     ┆     ┆     ┆     ┆     ┆     ┆     ┆     ┆     ┆     ┆     ┆     ┆     ┆     ┆     ┆     ┆     ┆     ┆ ven ┆ ven ┆     ┆     ┆     ┆     ┆     ┆     ┆     ┆     ┆     ┆     ┆     ┆     ┆     ┆     ┆     ┆     ┆     ┆     ┆     ┆     ┆     ┆     ┆     ┆     ┆     ┆     ┆     ┆     ┆     ┆     ┆ ven ┆     ┆     ┆     ┆     ┆     ┆     ┆     ┆     ┆     ┆     ┆     ┆     ┆     ┆     ┆     ┆     ┆     ┆ s   ┆     ┆     ┆     ┆     ┆     ┆     ┆     ┆     ┆     ┆     ┆     ┆     ┆     ┆     ┆     ┆     ┆     ┆     ┆     ┆     ┆     ┆ -   ┆     ┆     ┆     ┆     ┆     ┆     ┆     ┆     ┆     │\n",
       "│     ┆     ┆     ┆     ┆     ┆     ┆     ┆     ┆     ┆     ┆     ┆     ┆     ┆     ┆     ┆     ┆     ┆     ┆     ┆     ┆     ┆     ┆     ┆     ┆     ┆     ┆     ┆     ┆     ┆     ┆     ┆     ┆     ┆     ┆     ┆     ┆     ┆     ┆     ┆     ┆     ┆     ┆     ┆     ┆     ┆ v   ┆     ┆     ┆     ┆     ┆     ┆     ┆     ┆     ┆     ┆     ┆     ┆     ┆     ┆     ┆     ┆     ┆     ┆     ┆     ┆     ┆     ┆     ┆     ┆     ┆     ┆     ┆     ┆     ┆     ┆     ┆     ┆     ┆     ┆     ┆     ┆     ┆     ┆     ┆     ┆     ┆     ┆     ┆     ┆     ┆     ┆     ┆     ┆     ┆     ┆     ┆     ┆     ┆     ┆     ┆     ┆     ┆     ┆     ┆     ┆     ┆     ┆     ┆     ┆     ┆     ┆     ┆     ┆     ┆     ┆     ┆     ┆ 202 ┆     ┆     ┆     ┆     ┆     ┆     ┆     ┆     ┆     │\n",
       "│     ┆     ┆     ┆     ┆     ┆     ┆     ┆     ┆     ┆     ┆     ┆     ┆     ┆     ┆     ┆     ┆     ┆     ┆     ┆     ┆     ┆     ┆     ┆     ┆     ┆     ┆     ┆     ┆     ┆     ┆     ┆     ┆     ┆     ┆     ┆     ┆     ┆     ┆     ┆     ┆     ┆     ┆     ┆     ┆     ┆ SV  ┆     ┆     ┆     ┆     ┆     ┆     ┆     ┆     ┆     ┆     ┆     ┆     ┆     ┆     ┆     ┆     ┆     ┆     ┆     ┆     ┆     ┆     ┆     ┆     ┆     ┆     ┆     ┆     ┆     ┆     ┆     ┆     ┆     ┆     ┆     ┆     ┆     ┆     ┆     ┆     ┆     ┆     ┆     ┆     ┆     ┆     ┆     ┆     ┆     ┆     ┆     ┆     ┆     ┆     ┆     ┆     ┆     ┆     ┆     ┆     ┆     ┆     ┆     ┆     ┆     ┆     ┆     ┆     ┆     ┆     ┆     ┆ 1/2 ┆     ┆     ┆     ┆     ┆     ┆     ┆     ┆     ┆     │\n",
       "│     ┆     ┆     ┆     ┆     ┆     ┆     ┆     ┆     ┆     ┆     ┆     ┆     ┆     ┆     ┆     ┆     ┆     ┆     ┆     ┆     ┆     ┆     ┆     ┆     ┆     ┆     ┆     ┆     ┆     ┆     ┆     ┆     ┆     ┆     ┆     ┆     ┆     ┆     ┆     ┆     ┆     ┆     ┆     ┆     ┆ Zul ┆     ┆     ┆     ┆     ┆     ┆     ┆     ┆     ┆     ┆     ┆     ┆     ┆     ┆     ┆     ┆     ┆     ┆     ┆     ┆     ┆     ┆     ┆     ┆     ┆     ┆     ┆     ┆     ┆     ┆     ┆     ┆     ┆     ┆     ┆     ┆     ┆     ┆     ┆     ┆     ┆     ┆     ┆     ┆     ┆     ┆     ┆     ┆     ┆     ┆     ┆     ┆     ┆     ┆     ┆     ┆     ┆     ┆     ┆     ┆     ┆     ┆     ┆     ┆     ┆     ┆     ┆     ┆     ┆     ┆     ┆     ┆ 022 ┆     ┆     ┆     ┆     ┆     ┆     ┆     ┆     ┆     │\n",
       "│     ┆     ┆     ┆     ┆     ┆     ┆     ┆     ┆     ┆     ┆     ┆     ┆     ┆     ┆     ┆     ┆     ┆     ┆     ┆     ┆     ┆     ┆     ┆     ┆     ┆     ┆     ┆     ┆     ┆     ┆     ┆     ┆     ┆     ┆     ┆     ┆     ┆     ┆     ┆     ┆     ┆     ┆     ┆     ┆     ┆ te… ┆     ┆     ┆     ┆     ┆     ┆     ┆     ┆     ┆     ┆     ┆     ┆     ┆     ┆     ┆     ┆     ┆     ┆     ┆     ┆     ┆     ┆     ┆     ┆     ┆     ┆     ┆     ┆     ┆     ┆     ┆     ┆     ┆     ┆     ┆     ┆     ┆     ┆     ┆     ┆     ┆     ┆     ┆     ┆     ┆     ┆     ┆     ┆     ┆     ┆     ┆     ┆     ┆     ┆     ┆     ┆     ┆     ┆     ┆     ┆     ┆     ┆     ┆     ┆     ┆     ┆     ┆     ┆     ┆     ┆     ┆     ┆     ┆     ┆     ┆     ┆     ┆     ┆     ┆     ┆     ┆     │\n",
       "│ 36  ┆ 13  ┆ 44  ┆ 253 ┆ 0   ┆ 4   ┆ 1   ┆ 60. ┆ 3   ┆ 19. ┆ 1   ┆ 943 ┆ 6   ┆ 249 ┆ 2   ┆ 0   ┆ 110 ┆ 334 ┆ 2   ┆ 116 ┆ 26  ┆ 36  ┆ 10  ┆ 174 ┆ 28. ┆ 468 ┆ S.  ┆ 202 ┆ 536 ┆ 39  ┆ 13  ┆ 115 ┆ 60  ┆ 17  ┆ 0   ┆ 202 ┆ 0   ┆ 18. ┆ 4   ┆ 62  ┆ 112 ┆ 35  ┆ 19  ┆ 140 ┆ 11  ┆ Clu ┆ KAS ┆ 2   ┆ 139 ┆ 2   ┆ 234 ┆ 140 ┆ 461 ┆ tru ┆ 86  ┆ 12. ┆ 1   ┆ 0   ┆ 29  ┆ 23  ┆ 9   ┆ 85  ┆ 37. ┆ 50. ┆ 603 ┆ 47  ┆ 37  ┆ 1   ┆ 25. ┆ 788 ┆ 23  ┆ 1   ┆ 1   ┆ 225 ┆ 4   ┆ 1   ┆ 16  ┆ KAS ┆ 8   ┆ 18  ┆ 2   ┆ 12  ┆ 142 ┆ 159 ┆ 81  ┆ 1   ┆ 265 ┆ 320 ┆ 18  ┆ 56  ┆ 8   ┆ 8   ┆ 2   ┆ AM  ┆ 1   ┆ Ste ┆ 19  ┆ 47  ┆ 490 ┆ Mid ┆ 199 ┆ 625 ┆ 2   ┆ 17  ┆ 5   ┆ 41  ┆ 4   ┆ 20  ┆ 1   ┆ 21  ┆ 15. ┆ 449 ┆ 462 ┆ 0   ┆ 26  ┆ 24  ┆ 373 ┆ BEL ┆ 8   ┆ 202 ┆ 202 ┆ 202 ┆ 16  ┆ BEL ┆ Pro ┆ mal ┆ adu │\n",
       "│     ┆     ┆     ┆     ┆     ┆     ┆     ┆ 17  ┆     ┆ 18  ┆     ┆     ┆     ┆     ┆     ┆     ┆ .42 ┆     ┆     ┆ 26  ┆     ┆     ┆     ┆     ┆ 66  ┆     ┆ Pee ┆ 1/2 ┆ 9   ┆     ┆     ┆ 95  ┆     ┆     ┆     ┆ 1-0 ┆     ┆ 05  ┆     ┆     ┆     ┆     ┆     ┆ 5   ┆     ┆ b   ┆ Eup ┆     ┆ 7   ┆     ┆ 0   ┆     ┆     ┆ e   ┆     ┆ 98  ┆     ┆     ┆     ┆     ┆     ┆     ┆ 23  ┆ 25  ┆     ┆     ┆     ┆     ┆ 5   ┆     ┆     ┆     ┆     ┆ 2   ┆     ┆     ┆     ┆ Eup ┆     ┆     ┆     ┆     ┆     ┆     ┆     ┆     ┆ 0   ┆     ┆     ┆     ┆     ┆     ┆     ┆     ┆     ┆ f   ┆     ┆     ┆ 2   ┆ fie ┆ 2-0 ┆ 7   ┆     ┆     ┆     ┆     ┆     ┆     ┆     ┆     ┆ 68  ┆ 98  ┆     ┆     ┆     ┆     ┆ 7   ┆ -   ┆     ┆ 1   ┆ 2   ┆ 1/2 ┆     ┆     ┆ Lea ┆ e   ┆ lt  │\n",
       "│     ┆     ┆     ┆     ┆     ┆     ┆     ┆     ┆     ┆     ┆     ┆     ┆     ┆     ┆     ┆     ┆     ┆     ┆     ┆     ┆     ┆     ┆     ┆     ┆     ┆     ┆ ter ┆ 022 ┆     ┆     ┆     ┆     ┆     ┆     ┆     ┆ 7-2 ┆     ┆     ┆     ┆     ┆     ┆     ┆     ┆     ┆     ┆ Bru ┆ en  ┆     ┆     ┆     ┆     ┆     ┆     ┆     ┆     ┆     ┆     ┆     ┆     ┆     ┆     ┆     ┆     ┆     ┆     ┆     ┆     ┆     ┆     ┆     ┆     ┆     ┆     ┆     ┆     ┆     ┆     ┆ en  ┆     ┆     ┆     ┆     ┆     ┆     ┆     ┆     ┆     ┆     ┆     ┆     ┆     ┆     ┆     ┆     ┆     ┆ Pee ┆     ┆     ┆     ┆ ld  ┆ 2-0 ┆     ┆     ┆     ┆     ┆     ┆     ┆     ┆     ┆     ┆     ┆     ┆     ┆     ┆     ┆     ┆     ┆ Pro ┆     ┆     ┆     ┆ 022 ┆     ┆     ┆ gue ┆     ┆     │\n",
       "│     ┆     ┆     ┆     ┆     ┆     ┆     ┆     ┆     ┆     ┆     ┆     ┆     ┆     ┆     ┆     ┆     ┆     ┆     ┆     ┆     ┆     ┆     ┆     ┆     ┆     ┆ s   ┆     ┆     ┆     ┆     ┆     ┆     ┆     ┆     ┆ 5   ┆     ┆     ┆     ┆     ┆     ┆     ┆     ┆     ┆     ┆ gge ┆     ┆     ┆     ┆     ┆     ┆     ┆     ┆     ┆     ┆     ┆     ┆     ┆     ┆     ┆     ┆     ┆     ┆     ┆     ┆     ┆     ┆     ┆     ┆     ┆     ┆     ┆     ┆     ┆     ┆     ┆     ┆     ┆     ┆     ┆     ┆     ┆     ┆     ┆     ┆     ┆     ┆     ┆     ┆     ┆     ┆     ┆     ┆     ┆     ┆ ter ┆     ┆     ┆     ┆     ┆ 9   ┆     ┆     ┆     ┆     ┆     ┆     ┆     ┆     ┆     ┆     ┆     ┆     ┆     ┆     ┆     ┆     ┆ Lea ┆     ┆     ┆     ┆     ┆     ┆     ┆     ┆     ┆     │\n",
       "│     ┆     ┆     ┆     ┆     ┆     ┆     ┆     ┆     ┆     ┆     ┆     ┆     ┆     ┆     ┆     ┆     ┆     ┆     ┆     ┆     ┆     ┆     ┆     ┆     ┆     ┆     ┆     ┆     ┆     ┆     ┆     ┆     ┆     ┆     ┆     ┆     ┆     ┆     ┆     ┆     ┆     ┆     ┆     ┆     ┆ KV  ┆     ┆     ┆     ┆     ┆     ┆     ┆     ┆     ┆     ┆     ┆     ┆     ┆     ┆     ┆     ┆     ┆     ┆     ┆     ┆     ┆     ┆     ┆     ┆     ┆     ┆     ┆     ┆     ┆     ┆     ┆     ┆     ┆     ┆     ┆     ┆     ┆     ┆     ┆     ┆     ┆     ┆     ┆     ┆     ┆     ┆     ┆     ┆     ┆     ┆ s   ┆     ┆     ┆     ┆     ┆     ┆     ┆     ┆     ┆     ┆     ┆     ┆     ┆     ┆     ┆     ┆     ┆     ┆     ┆     ┆     ┆     ┆ gue ┆     ┆     ┆     ┆     ┆     ┆     ┆     ┆     ┆     │\n",
       "│     ┆     ┆     ┆     ┆     ┆     ┆     ┆     ┆     ┆     ┆     ┆     ┆     ┆     ┆     ┆     ┆     ┆     ┆     ┆     ┆     ┆     ┆     ┆     ┆     ┆     ┆     ┆     ┆     ┆     ┆     ┆     ┆     ┆     ┆     ┆     ┆     ┆     ┆     ┆     ┆     ┆     ┆     ┆     ┆     ┆ v   ┆     ┆     ┆     ┆     ┆     ┆     ┆     ┆     ┆     ┆     ┆     ┆     ┆     ┆     ┆     ┆     ┆     ┆     ┆     ┆     ┆     ┆     ┆     ┆     ┆     ┆     ┆     ┆     ┆     ┆     ┆     ┆     ┆     ┆     ┆     ┆     ┆     ┆     ┆     ┆     ┆     ┆     ┆     ┆     ┆     ┆     ┆     ┆     ┆     ┆     ┆     ┆     ┆     ┆     ┆     ┆     ┆     ┆     ┆     ┆     ┆     ┆     ┆     ┆     ┆     ┆     ┆     ┆     ┆     ┆     ┆     ┆ -   ┆     ┆     ┆     ┆     ┆     ┆     ┆     ┆     ┆     │\n",
       "│     ┆     ┆     ┆     ┆     ┆     ┆     ┆     ┆     ┆     ┆     ┆     ┆     ┆     ┆     ┆     ┆     ┆     ┆     ┆     ┆     ┆     ┆     ┆     ┆     ┆     ┆     ┆     ┆     ┆     ┆     ┆     ┆     ┆     ┆     ┆     ┆     ┆     ┆     ┆     ┆     ┆     ┆     ┆     ┆     ┆ KAS ┆     ┆     ┆     ┆     ┆     ┆     ┆     ┆     ┆     ┆     ┆     ┆     ┆     ┆     ┆     ┆     ┆     ┆     ┆     ┆     ┆     ┆     ┆     ┆     ┆     ┆     ┆     ┆     ┆     ┆     ┆     ┆     ┆     ┆     ┆     ┆     ┆     ┆     ┆     ┆     ┆     ┆     ┆     ┆     ┆     ┆     ┆     ┆     ┆     ┆     ┆     ┆     ┆     ┆     ┆     ┆     ┆     ┆     ┆     ┆     ┆     ┆     ┆     ┆     ┆     ┆     ┆     ┆     ┆     ┆     ┆     ┆ 202 ┆     ┆     ┆     ┆     ┆     ┆     ┆     ┆     ┆     │\n",
       "│     ┆     ┆     ┆     ┆     ┆     ┆     ┆     ┆     ┆     ┆     ┆     ┆     ┆     ┆     ┆     ┆     ┆     ┆     ┆     ┆     ┆     ┆     ┆     ┆     ┆     ┆     ┆     ┆     ┆     ┆     ┆     ┆     ┆     ┆     ┆     ┆     ┆     ┆     ┆     ┆     ┆     ┆     ┆     ┆     ┆ Eup ┆     ┆     ┆     ┆     ┆     ┆     ┆     ┆     ┆     ┆     ┆     ┆     ┆     ┆     ┆     ┆     ┆     ┆     ┆     ┆     ┆     ┆     ┆     ┆     ┆     ┆     ┆     ┆     ┆     ┆     ┆     ┆     ┆     ┆     ┆     ┆     ┆     ┆     ┆     ┆     ┆     ┆     ┆     ┆     ┆     ┆     ┆     ┆     ┆     ┆     ┆     ┆     ┆     ┆     ┆     ┆     ┆     ┆     ┆     ┆     ┆     ┆     ┆     ┆     ┆     ┆     ┆     ┆     ┆     ┆     ┆     ┆ 1/2 ┆     ┆     ┆     ┆     ┆     ┆     ┆     ┆     ┆     │\n",
       "│     ┆     ┆     ┆     ┆     ┆     ┆     ┆     ┆     ┆     ┆     ┆     ┆     ┆     ┆     ┆     ┆     ┆     ┆     ┆     ┆     ┆     ┆     ┆     ┆     ┆     ┆     ┆     ┆     ┆     ┆     ┆     ┆     ┆     ┆     ┆     ┆     ┆     ┆     ┆     ┆     ┆     ┆     ┆     ┆     ┆ en  ┆     ┆     ┆     ┆     ┆     ┆     ┆     ┆     ┆     ┆     ┆     ┆     ┆     ┆     ┆     ┆     ┆     ┆     ┆     ┆     ┆     ┆     ┆     ┆     ┆     ┆     ┆     ┆     ┆     ┆     ┆     ┆     ┆     ┆     ┆     ┆     ┆     ┆     ┆     ┆     ┆     ┆     ┆     ┆     ┆     ┆     ┆     ┆     ┆     ┆     ┆     ┆     ┆     ┆     ┆     ┆     ┆     ┆     ┆     ┆     ┆     ┆     ┆     ┆     ┆     ┆     ┆     ┆     ┆     ┆     ┆     ┆ 022 ┆     ┆     ┆     ┆     ┆     ┆     ┆     ┆     ┆     │\n",
       "└─────┴─────┴─────┴─────┴─────┴─────┴─────┴─────┴─────┴─────┴─────┴─────┴─────┴─────┴─────┴─────┴─────┴─────┴─────┴─────┴─────┴─────┴─────┴─────┴─────┴─────┴─────┴─────┴─────┴─────┴─────┴─────┴─────┴─────┴─────┴─────┴─────┴─────┴─────┴─────┴─────┴─────┴─────┴─────┴─────┴─────┴─────┴─────┴─────┴─────┴─────┴─────┴─────┴─────┴─────┴─────┴─────┴─────┴─────┴─────┴─────┴─────┴─────┴─────┴─────┴─────┴─────┴─────┴─────┴─────┴─────┴─────┴─────┴─────┴─────┴─────┴─────┴─────┴─────┴─────┴─────┴─────┴─────┴─────┴─────┴─────┴─────┴─────┴─────┴─────┴─────┴─────┴─────┴─────┴─────┴─────┴─────┴─────┴─────┴─────┴─────┴─────┴─────┴─────┴─────┴─────┴─────┴─────┴─────┴─────┴─────┴─────┴─────┴─────┴─────┴─────┴─────┴─────┴─────┴─────┴─────┴─────┴─────┴─────┴─────┴─────┴─────┘"
      ]
     },
     "execution_count": 26,
     "metadata": {},
     "output_type": "execute_result"
    }
   ],
   "source": [
    "pl.Config.set_tbl_cols(250)\n",
    "work_df.head()"
   ]
  },
  {
   "cell_type": "code",
   "execution_count": 27,
   "metadata": {},
   "outputs": [],
   "source": [
    "# get the statsbomb levels\n",
    "sb_cl = pl.read_csv('statsbomb-competition-levels.csv')"
   ]
  },
  {
   "cell_type": "code",
   "execution_count": 28,
   "metadata": {},
   "outputs": [
    {
     "data": {
      "text/html": [
       "<div><style>\n",
       ".dataframe > thead > tr,\n",
       ".dataframe > tbody > tr {\n",
       "  text-align: right;\n",
       "  white-space: pre-wrap;\n",
       "}\n",
       "</style>\n",
       "<small>shape: (5, 5)</small><table border=\"1\" class=\"dataframe\"><thead><tr><th>competition_id</th><th>competition_name</th><th>competition_region_name</th><th>competition_level</th><th>competition_division_level</th></tr><tr><td>i64</td><td>str</td><td>str</td><td>i64</td><td>str</td></tr></thead><tbody><tr><td>81</td><td>&quot;Liga Profesional&quot;</td><td>&quot;Argentina&quot;</td><td>2</td><td>&quot;1&quot;</td></tr><tr><td>93</td><td>&quot;A-League&quot;</td><td>&quot;Australia&quot;</td><td>3</td><td>&quot;1&quot;</td></tr><tr><td>47</td><td>&quot;Bundesliga&quot;</td><td>&quot;Austria&quot;</td><td>2</td><td>&quot;1&quot;</td></tr><tr><td>1035</td><td>&quot;First Division B&quot;</td><td>&quot;Belgium&quot;</td><td>3</td><td>&quot;2&quot;</td></tr><tr><td>46</td><td>&quot;Jupiler Pro League&quot;</td><td>&quot;Belgium&quot;</td><td>2</td><td>&quot;1&quot;</td></tr></tbody></table></div>"
      ],
      "text/plain": [
       "shape: (5, 5)\n",
       "┌────────────────┬────────────────────┬────────────────────┬───────────────────┬───────────────────┐\n",
       "│ competition_id ┆ competition_name   ┆ competition_region ┆ competition_level ┆ competition_divis │\n",
       "│ ---            ┆ ---                ┆ _name              ┆ ---               ┆ ion_level         │\n",
       "│ i64            ┆ str                ┆ ---                ┆ i64               ┆ ---               │\n",
       "│                ┆                    ┆ str                ┆                   ┆ str               │\n",
       "╞════════════════╪════════════════════╪════════════════════╪═══════════════════╪═══════════════════╡\n",
       "│ 81             ┆ Liga Profesional   ┆ Argentina          ┆ 2                 ┆ 1                 │\n",
       "│ 93             ┆ A-League           ┆ Australia          ┆ 3                 ┆ 1                 │\n",
       "│ 47             ┆ Bundesliga         ┆ Austria            ┆ 2                 ┆ 1                 │\n",
       "│ 1035           ┆ First Division B   ┆ Belgium            ┆ 3                 ┆ 2                 │\n",
       "│ 46             ┆ Jupiler Pro League ┆ Belgium            ┆ 2                 ┆ 1                 │\n",
       "└────────────────┴────────────────────┴────────────────────┴───────────────────┴───────────────────┘"
      ]
     },
     "execution_count": 28,
     "metadata": {},
     "output_type": "execute_result"
    }
   ],
   "source": [
    "sb_cl.head()"
   ]
  },
  {
   "cell_type": "code",
   "execution_count": 29,
   "metadata": {},
   "outputs": [],
   "source": [
    "# rename competition name for easy merge\n",
    "sb_cl = sb_cl.rename({\"competition_name\":\"sb_competition_name\"})\n"
   ]
  },
  {
   "cell_type": "code",
   "execution_count": 30,
   "metadata": {},
   "outputs": [],
   "source": [
    "sb_cl = sb_cl.drop([\"competition_id\", \"competition_level\"])"
   ]
  },
  {
   "cell_type": "code",
   "execution_count": 31,
   "metadata": {},
   "outputs": [
    {
     "data": {
      "text/html": [
       "<div><style>\n",
       ".dataframe > thead > tr,\n",
       ".dataframe > tbody > tr {\n",
       "  text-align: right;\n",
       "  white-space: pre-wrap;\n",
       "}\n",
       "</style>\n",
       "<small>shape: (5, 3)</small><table border=\"1\" class=\"dataframe\"><thead><tr><th>sb_competition_name</th><th>competition_region_name</th><th>competition_division_level</th></tr><tr><td>str</td><td>str</td><td>str</td></tr></thead><tbody><tr><td>&quot;Liga Profesional&quot;</td><td>&quot;Argentina&quot;</td><td>&quot;1&quot;</td></tr><tr><td>&quot;A-League&quot;</td><td>&quot;Australia&quot;</td><td>&quot;1&quot;</td></tr><tr><td>&quot;Bundesliga&quot;</td><td>&quot;Austria&quot;</td><td>&quot;1&quot;</td></tr><tr><td>&quot;First Division B&quot;</td><td>&quot;Belgium&quot;</td><td>&quot;2&quot;</td></tr><tr><td>&quot;Jupiler Pro League&quot;</td><td>&quot;Belgium&quot;</td><td>&quot;1&quot;</td></tr></tbody></table></div>"
      ],
      "text/plain": [
       "shape: (5, 3)\n",
       "┌─────────────────────┬─────────────────────────┬────────────────────────────┐\n",
       "│ sb_competition_name ┆ competition_region_name ┆ competition_division_level │\n",
       "│ ---                 ┆ ---                     ┆ ---                        │\n",
       "│ str                 ┆ str                     ┆ str                        │\n",
       "╞═════════════════════╪═════════════════════════╪════════════════════════════╡\n",
       "│ Liga Profesional    ┆ Argentina               ┆ 1                          │\n",
       "│ A-League            ┆ Australia               ┆ 1                          │\n",
       "│ Bundesliga          ┆ Austria                 ┆ 1                          │\n",
       "│ First Division B    ┆ Belgium                 ┆ 2                          │\n",
       "│ Jupiler Pro League  ┆ Belgium                 ┆ 1                          │\n",
       "└─────────────────────┴─────────────────────────┴────────────────────────────┘"
      ]
     },
     "execution_count": 31,
     "metadata": {},
     "output_type": "execute_result"
    }
   ],
   "source": [
    "sb_cl.head()"
   ]
  },
  {
   "cell_type": "code",
   "execution_count": 32,
   "metadata": {},
   "outputs": [],
   "source": [
    "sb_sc = pl.read_csv('mapping-competition-seasons.csv')"
   ]
  },
  {
   "cell_type": "code",
   "execution_count": 33,
   "metadata": {},
   "outputs": [
    {
     "data": {
      "text/html": [
       "<div><style>\n",
       ".dataframe > thead > tr,\n",
       ".dataframe > tbody > tr {\n",
       "  text-align: right;\n",
       "  white-space: pre-wrap;\n",
       "}\n",
       "</style>\n",
       "<small>shape: (5, 10)</small><table border=\"1\" class=\"dataframe\"><thead><tr><th>sb_competition_id</th><th>sb_competition_name</th><th>sb_season_id</th><th>sb_season_name</th><th>sc_competition_id</th><th>sc_competition_name</th><th>sc_season_id</th><th>sc_season_name</th><th>sc_competition_season_id</th><th>sc_competition_season_name</th></tr><tr><td>i64</td><td>str</td><td>i64</td><td>str</td><td>i64</td><td>str</td><td>i64</td><td>str</td><td>i64</td><td>str</td></tr></thead><tbody><tr><td>2</td><td>&quot;Premier League&quot;</td><td>317</td><td>&quot;2024/2025&quot;</td><td>1</td><td>&quot;Premier League&quot;</td><td>95</td><td>&quot;2024/2025&quot;</td><td>895</td><td>&quot;ENG - Premier League - 2024/20…</td></tr><tr><td>2</td><td>&quot;Premier League&quot;</td><td>281</td><td>&quot;2023/2024&quot;</td><td>1</td><td>&quot;Premier League&quot;</td><td>28</td><td>&quot;2023/2024&quot;</td><td>543</td><td>&quot;ENG - Premier League - 2023/20…</td></tr><tr><td>2</td><td>&quot;Premier League&quot;</td><td>235</td><td>&quot;2022/2023&quot;</td><td>1</td><td>&quot;Premier League&quot;</td><td>21</td><td>&quot;2022/2023&quot;</td><td>387</td><td>&quot;ENG - Premier League - 2022/20…</td></tr><tr><td>2</td><td>&quot;Premier League&quot;</td><td>108</td><td>&quot;2021/2022&quot;</td><td>1</td><td>&quot;Premier League&quot;</td><td>8</td><td>&quot;2021/2022&quot;</td><td>287</td><td>&quot;ENG - Premier League - 2021/20…</td></tr><tr><td>2</td><td>&quot;Premier League&quot;</td><td>90</td><td>&quot;2020/2021&quot;</td><td>1</td><td>&quot;Premier League&quot;</td><td>7</td><td>&quot;2020/2021&quot;</td><td>147</td><td>&quot;ENG - Premier League - 2020/20…</td></tr></tbody></table></div>"
      ],
      "text/plain": [
       "shape: (5, 10)\n",
       "┌─────────┬─────────┬─────────┬─────────┬─────────┬─────────┬─────────┬─────────┬─────────┬────────┐\n",
       "│ sb_comp ┆ sb_comp ┆ sb_seas ┆ sb_seas ┆ sc_comp ┆ sc_comp ┆ sc_seas ┆ sc_seas ┆ sc_comp ┆ sc_com │\n",
       "│ etition ┆ etition ┆ on_id   ┆ on_name ┆ etition ┆ etition ┆ on_id   ┆ on_name ┆ etition ┆ petiti │\n",
       "│ _id     ┆ _name   ┆ ---     ┆ ---     ┆ _id     ┆ _name   ┆ ---     ┆ ---     ┆ _season ┆ on_sea │\n",
       "│ ---     ┆ ---     ┆ i64     ┆ str     ┆ ---     ┆ ---     ┆ i64     ┆ str     ┆ _id     ┆ son_na │\n",
       "│ i64     ┆ str     ┆         ┆         ┆ i64     ┆ str     ┆         ┆         ┆ ---     ┆ me     │\n",
       "│         ┆         ┆         ┆         ┆         ┆         ┆         ┆         ┆ i64     ┆ ---    │\n",
       "│         ┆         ┆         ┆         ┆         ┆         ┆         ┆         ┆         ┆ str    │\n",
       "╞═════════╪═════════╪═════════╪═════════╪═════════╪═════════╪═════════╪═════════╪═════════╪════════╡\n",
       "│ 2       ┆ Premier ┆ 317     ┆ 2024/20 ┆ 1       ┆ Premier ┆ 95      ┆ 2024/20 ┆ 895     ┆ ENG -  │\n",
       "│         ┆ League  ┆         ┆ 25      ┆         ┆ League  ┆         ┆ 25      ┆         ┆ Premie │\n",
       "│         ┆         ┆         ┆         ┆         ┆         ┆         ┆         ┆         ┆ r      │\n",
       "│         ┆         ┆         ┆         ┆         ┆         ┆         ┆         ┆         ┆ League │\n",
       "│         ┆         ┆         ┆         ┆         ┆         ┆         ┆         ┆         ┆ - 2024 │\n",
       "│         ┆         ┆         ┆         ┆         ┆         ┆         ┆         ┆         ┆ /20…   │\n",
       "│ 2       ┆ Premier ┆ 281     ┆ 2023/20 ┆ 1       ┆ Premier ┆ 28      ┆ 2023/20 ┆ 543     ┆ ENG -  │\n",
       "│         ┆ League  ┆         ┆ 24      ┆         ┆ League  ┆         ┆ 24      ┆         ┆ Premie │\n",
       "│         ┆         ┆         ┆         ┆         ┆         ┆         ┆         ┆         ┆ r      │\n",
       "│         ┆         ┆         ┆         ┆         ┆         ┆         ┆         ┆         ┆ League │\n",
       "│         ┆         ┆         ┆         ┆         ┆         ┆         ┆         ┆         ┆ - 2023 │\n",
       "│         ┆         ┆         ┆         ┆         ┆         ┆         ┆         ┆         ┆ /20…   │\n",
       "│ 2       ┆ Premier ┆ 235     ┆ 2022/20 ┆ 1       ┆ Premier ┆ 21      ┆ 2022/20 ┆ 387     ┆ ENG -  │\n",
       "│         ┆ League  ┆         ┆ 23      ┆         ┆ League  ┆         ┆ 23      ┆         ┆ Premie │\n",
       "│         ┆         ┆         ┆         ┆         ┆         ┆         ┆         ┆         ┆ r      │\n",
       "│         ┆         ┆         ┆         ┆         ┆         ┆         ┆         ┆         ┆ League │\n",
       "│         ┆         ┆         ┆         ┆         ┆         ┆         ┆         ┆         ┆ - 2022 │\n",
       "│         ┆         ┆         ┆         ┆         ┆         ┆         ┆         ┆         ┆ /20…   │\n",
       "│ 2       ┆ Premier ┆ 108     ┆ 2021/20 ┆ 1       ┆ Premier ┆ 8       ┆ 2021/20 ┆ 287     ┆ ENG -  │\n",
       "│         ┆ League  ┆         ┆ 22      ┆         ┆ League  ┆         ┆ 22      ┆         ┆ Premie │\n",
       "│         ┆         ┆         ┆         ┆         ┆         ┆         ┆         ┆         ┆ r      │\n",
       "│         ┆         ┆         ┆         ┆         ┆         ┆         ┆         ┆         ┆ League │\n",
       "│         ┆         ┆         ┆         ┆         ┆         ┆         ┆         ┆         ┆ - 2021 │\n",
       "│         ┆         ┆         ┆         ┆         ┆         ┆         ┆         ┆         ┆ /20…   │\n",
       "│ 2       ┆ Premier ┆ 90      ┆ 2020/20 ┆ 1       ┆ Premier ┆ 7       ┆ 2020/20 ┆ 147     ┆ ENG -  │\n",
       "│         ┆ League  ┆         ┆ 21      ┆         ┆ League  ┆         ┆ 21      ┆         ┆ Premie │\n",
       "│         ┆         ┆         ┆         ┆         ┆         ┆         ┆         ┆         ┆ r      │\n",
       "│         ┆         ┆         ┆         ┆         ┆         ┆         ┆         ┆         ┆ League │\n",
       "│         ┆         ┆         ┆         ┆         ┆         ┆         ┆         ┆         ┆ - 2020 │\n",
       "│         ┆         ┆         ┆         ┆         ┆         ┆         ┆         ┆         ┆ /20…   │\n",
       "└─────────┴─────────┴─────────┴─────────┴─────────┴─────────┴─────────┴─────────┴─────────┴────────┘"
      ]
     },
     "execution_count": 33,
     "metadata": {},
     "output_type": "execute_result"
    }
   ],
   "source": [
    "sb_sc.head()"
   ]
  },
  {
   "cell_type": "code",
   "execution_count": 34,
   "metadata": {},
   "outputs": [],
   "source": [
    "joined_sb_sc = sb_cl.join(sb_sc, on=\"sb_competition_name\")"
   ]
  },
  {
   "cell_type": "code",
   "execution_count": 35,
   "metadata": {},
   "outputs": [
    {
     "data": {
      "text/html": [
       "<div><style>\n",
       ".dataframe > thead > tr,\n",
       ".dataframe > tbody > tr {\n",
       "  text-align: right;\n",
       "  white-space: pre-wrap;\n",
       "}\n",
       "</style>\n",
       "<small>shape: (5, 12)</small><table border=\"1\" class=\"dataframe\"><thead><tr><th>sb_competition_name</th><th>competition_region_name</th><th>competition_division_level</th><th>sb_competition_id</th><th>sb_season_id</th><th>sb_season_name</th><th>sc_competition_id</th><th>sc_competition_name</th><th>sc_season_id</th><th>sc_season_name</th><th>sc_competition_season_id</th><th>sc_competition_season_name</th></tr><tr><td>str</td><td>str</td><td>str</td><td>i64</td><td>i64</td><td>str</td><td>i64</td><td>str</td><td>i64</td><td>str</td><td>i64</td><td>str</td></tr></thead><tbody><tr><td>&quot;Premier League&quot;</td><td>&quot;England&quot;</td><td>&quot;1&quot;</td><td>2</td><td>317</td><td>&quot;2024/2025&quot;</td><td>1</td><td>&quot;Premier League&quot;</td><td>95</td><td>&quot;2024/2025&quot;</td><td>895</td><td>&quot;ENG - Premier League - 2024/20…</td></tr><tr><td>&quot;Premier League&quot;</td><td>&quot;Scotland&quot;</td><td>&quot;1&quot;</td><td>2</td><td>317</td><td>&quot;2024/2025&quot;</td><td>1</td><td>&quot;Premier League&quot;</td><td>95</td><td>&quot;2024/2025&quot;</td><td>895</td><td>&quot;ENG - Premier League - 2024/20…</td></tr><tr><td>&quot;Premier League&quot;</td><td>&quot;Ukraine&quot;</td><td>&quot;1&quot;</td><td>2</td><td>317</td><td>&quot;2024/2025&quot;</td><td>1</td><td>&quot;Premier League&quot;</td><td>95</td><td>&quot;2024/2025&quot;</td><td>895</td><td>&quot;ENG - Premier League - 2024/20…</td></tr><tr><td>&quot;Premier League&quot;</td><td>&quot;England&quot;</td><td>&quot;1&quot;</td><td>2</td><td>281</td><td>&quot;2023/2024&quot;</td><td>1</td><td>&quot;Premier League&quot;</td><td>28</td><td>&quot;2023/2024&quot;</td><td>543</td><td>&quot;ENG - Premier League - 2023/20…</td></tr><tr><td>&quot;Premier League&quot;</td><td>&quot;Scotland&quot;</td><td>&quot;1&quot;</td><td>2</td><td>281</td><td>&quot;2023/2024&quot;</td><td>1</td><td>&quot;Premier League&quot;</td><td>28</td><td>&quot;2023/2024&quot;</td><td>543</td><td>&quot;ENG - Premier League - 2023/20…</td></tr></tbody></table></div>"
      ],
      "text/plain": [
       "shape: (5, 12)\n",
       "┌────────┬────────┬────────┬───────┬───────┬───────┬───────┬───────┬───────┬───────┬───────┬───────┐\n",
       "│ sb_com ┆ compet ┆ compet ┆ sb_co ┆ sb_se ┆ sb_se ┆ sc_co ┆ sc_co ┆ sc_se ┆ sc_se ┆ sc_co ┆ sc_co │\n",
       "│ petiti ┆ ition_ ┆ ition_ ┆ mpeti ┆ ason_ ┆ ason_ ┆ mpeti ┆ mpeti ┆ ason_ ┆ ason_ ┆ mpeti ┆ mpeti │\n",
       "│ on_nam ┆ region ┆ divisi ┆ tion_ ┆ id    ┆ name  ┆ tion_ ┆ tion_ ┆ id    ┆ name  ┆ tion_ ┆ tion_ │\n",
       "│ e      ┆ _name  ┆ on_lev ┆ id    ┆ ---   ┆ ---   ┆ id    ┆ name  ┆ ---   ┆ ---   ┆ seaso ┆ seaso │\n",
       "│ ---    ┆ ---    ┆ el     ┆ ---   ┆ i64   ┆ str   ┆ ---   ┆ ---   ┆ i64   ┆ str   ┆ n_id  ┆ n_nam │\n",
       "│ str    ┆ str    ┆ ---    ┆ i64   ┆       ┆       ┆ i64   ┆ str   ┆       ┆       ┆ ---   ┆ e     │\n",
       "│        ┆        ┆ str    ┆       ┆       ┆       ┆       ┆       ┆       ┆       ┆ i64   ┆ ---   │\n",
       "│        ┆        ┆        ┆       ┆       ┆       ┆       ┆       ┆       ┆       ┆       ┆ str   │\n",
       "╞════════╪════════╪════════╪═══════╪═══════╪═══════╪═══════╪═══════╪═══════╪═══════╪═══════╪═══════╡\n",
       "│ Premie ┆ Englan ┆ 1      ┆ 2     ┆ 317   ┆ 2024/ ┆ 1     ┆ Premi ┆ 95    ┆ 2024/ ┆ 895   ┆ ENG - │\n",
       "│ r      ┆ d      ┆        ┆       ┆       ┆ 2025  ┆       ┆ er    ┆       ┆ 2025  ┆       ┆ Premi │\n",
       "│ League ┆        ┆        ┆       ┆       ┆       ┆       ┆ Leagu ┆       ┆       ┆       ┆ er    │\n",
       "│        ┆        ┆        ┆       ┆       ┆       ┆       ┆ e     ┆       ┆       ┆       ┆ Leagu │\n",
       "│        ┆        ┆        ┆       ┆       ┆       ┆       ┆       ┆       ┆       ┆       ┆ e -   │\n",
       "│        ┆        ┆        ┆       ┆       ┆       ┆       ┆       ┆       ┆       ┆       ┆ 2024/ │\n",
       "│        ┆        ┆        ┆       ┆       ┆       ┆       ┆       ┆       ┆       ┆       ┆ 20…   │\n",
       "│ Premie ┆ Scotla ┆ 1      ┆ 2     ┆ 317   ┆ 2024/ ┆ 1     ┆ Premi ┆ 95    ┆ 2024/ ┆ 895   ┆ ENG - │\n",
       "│ r      ┆ nd     ┆        ┆       ┆       ┆ 2025  ┆       ┆ er    ┆       ┆ 2025  ┆       ┆ Premi │\n",
       "│ League ┆        ┆        ┆       ┆       ┆       ┆       ┆ Leagu ┆       ┆       ┆       ┆ er    │\n",
       "│        ┆        ┆        ┆       ┆       ┆       ┆       ┆ e     ┆       ┆       ┆       ┆ Leagu │\n",
       "│        ┆        ┆        ┆       ┆       ┆       ┆       ┆       ┆       ┆       ┆       ┆ e -   │\n",
       "│        ┆        ┆        ┆       ┆       ┆       ┆       ┆       ┆       ┆       ┆       ┆ 2024/ │\n",
       "│        ┆        ┆        ┆       ┆       ┆       ┆       ┆       ┆       ┆       ┆       ┆ 20…   │\n",
       "│ Premie ┆ Ukrain ┆ 1      ┆ 2     ┆ 317   ┆ 2024/ ┆ 1     ┆ Premi ┆ 95    ┆ 2024/ ┆ 895   ┆ ENG - │\n",
       "│ r      ┆ e      ┆        ┆       ┆       ┆ 2025  ┆       ┆ er    ┆       ┆ 2025  ┆       ┆ Premi │\n",
       "│ League ┆        ┆        ┆       ┆       ┆       ┆       ┆ Leagu ┆       ┆       ┆       ┆ er    │\n",
       "│        ┆        ┆        ┆       ┆       ┆       ┆       ┆ e     ┆       ┆       ┆       ┆ Leagu │\n",
       "│        ┆        ┆        ┆       ┆       ┆       ┆       ┆       ┆       ┆       ┆       ┆ e -   │\n",
       "│        ┆        ┆        ┆       ┆       ┆       ┆       ┆       ┆       ┆       ┆       ┆ 2024/ │\n",
       "│        ┆        ┆        ┆       ┆       ┆       ┆       ┆       ┆       ┆       ┆       ┆ 20…   │\n",
       "│ Premie ┆ Englan ┆ 1      ┆ 2     ┆ 281   ┆ 2023/ ┆ 1     ┆ Premi ┆ 28    ┆ 2023/ ┆ 543   ┆ ENG - │\n",
       "│ r      ┆ d      ┆        ┆       ┆       ┆ 2024  ┆       ┆ er    ┆       ┆ 2024  ┆       ┆ Premi │\n",
       "│ League ┆        ┆        ┆       ┆       ┆       ┆       ┆ Leagu ┆       ┆       ┆       ┆ er    │\n",
       "│        ┆        ┆        ┆       ┆       ┆       ┆       ┆ e     ┆       ┆       ┆       ┆ Leagu │\n",
       "│        ┆        ┆        ┆       ┆       ┆       ┆       ┆       ┆       ┆       ┆       ┆ e -   │\n",
       "│        ┆        ┆        ┆       ┆       ┆       ┆       ┆       ┆       ┆       ┆       ┆ 2023/ │\n",
       "│        ┆        ┆        ┆       ┆       ┆       ┆       ┆       ┆       ┆       ┆       ┆ 20…   │\n",
       "│ Premie ┆ Scotla ┆ 1      ┆ 2     ┆ 281   ┆ 2023/ ┆ 1     ┆ Premi ┆ 28    ┆ 2023/ ┆ 543   ┆ ENG - │\n",
       "│ r      ┆ nd     ┆        ┆       ┆       ┆ 2024  ┆       ┆ er    ┆       ┆ 2024  ┆       ┆ Premi │\n",
       "│ League ┆        ┆        ┆       ┆       ┆       ┆       ┆ Leagu ┆       ┆       ┆       ┆ er    │\n",
       "│        ┆        ┆        ┆       ┆       ┆       ┆       ┆ e     ┆       ┆       ┆       ┆ Leagu │\n",
       "│        ┆        ┆        ┆       ┆       ┆       ┆       ┆       ┆       ┆       ┆       ┆ e -   │\n",
       "│        ┆        ┆        ┆       ┆       ┆       ┆       ┆       ┆       ┆       ┆       ┆ 2023/ │\n",
       "│        ┆        ┆        ┆       ┆       ┆       ┆       ┆       ┆       ┆       ┆       ┆ 20…   │\n",
       "└────────┴────────┴────────┴───────┴───────┴───────┴───────┴───────┴───────┴───────┴───────┴───────┘"
      ]
     },
     "execution_count": 35,
     "metadata": {},
     "output_type": "execute_result"
    }
   ],
   "source": [
    "joined_sb_sc.head()"
   ]
  },
  {
   "cell_type": "code",
   "execution_count": 36,
   "metadata": {},
   "outputs": [],
   "source": [
    "# extract columns containing skillcorner competition country and national division information, sc_competition_id\n",
    "extracted_sb_sc = joined_sb_sc.select([\"sc_competition_season_id\", \"competition_region_name\", \"competition_division_level\"])"
   ]
  },
  {
   "cell_type": "code",
   "execution_count": 37,
   "metadata": {},
   "outputs": [],
   "source": [
    "extracted_sb_sc = extracted_sb_sc.rename({\"sc_competition_season_id\":\"competition_edition_id\"})"
   ]
  },
  {
   "cell_type": "code",
   "execution_count": 38,
   "metadata": {},
   "outputs": [],
   "source": [
    "extracted_sb_sc = extracted_sb_sc.with_columns(\n",
    "    pl.concat_str(\n",
    "        [\n",
    "            pl.col(\"competition_region_name\"),\n",
    "            pl.col(\"competition_division_level\").cast(str),\n",
    "        ],\n",
    "        separator=\" \",\n",
    "    ).alias(\"competition_region_division\")\n",
    ").drop([\"competition_region_name\", \"competition_division_level\"])"
   ]
  },
  {
   "cell_type": "code",
   "execution_count": 39,
   "metadata": {},
   "outputs": [
    {
     "data": {
      "text/html": [
       "<div><style>\n",
       ".dataframe > thead > tr,\n",
       ".dataframe > tbody > tr {\n",
       "  text-align: right;\n",
       "  white-space: pre-wrap;\n",
       "}\n",
       "</style>\n",
       "<small>shape: (5, 2)</small><table border=\"1\" class=\"dataframe\"><thead><tr><th>competition_edition_id</th><th>competition_region_division</th></tr><tr><td>i64</td><td>str</td></tr></thead><tbody><tr><td>895</td><td>&quot;England 1&quot;</td></tr><tr><td>895</td><td>&quot;Scotland 1&quot;</td></tr><tr><td>895</td><td>&quot;Ukraine 1&quot;</td></tr><tr><td>543</td><td>&quot;England 1&quot;</td></tr><tr><td>543</td><td>&quot;Scotland 1&quot;</td></tr></tbody></table></div>"
      ],
      "text/plain": [
       "shape: (5, 2)\n",
       "┌────────────────────────┬─────────────────────────────┐\n",
       "│ competition_edition_id ┆ competition_region_division │\n",
       "│ ---                    ┆ ---                         │\n",
       "│ i64                    ┆ str                         │\n",
       "╞════════════════════════╪═════════════════════════════╡\n",
       "│ 895                    ┆ England 1                   │\n",
       "│ 895                    ┆ Scotland 1                  │\n",
       "│ 895                    ┆ Ukraine 1                   │\n",
       "│ 543                    ┆ England 1                   │\n",
       "│ 543                    ┆ Scotland 1                  │\n",
       "└────────────────────────┴─────────────────────────────┘"
      ]
     },
     "execution_count": 39,
     "metadata": {},
     "output_type": "execute_result"
    }
   ],
   "source": [
    "extracted_sb_sc.head()"
   ]
  },
  {
   "cell_type": "code",
   "execution_count": 40,
   "metadata": {},
   "outputs": [],
   "source": [
    "final_df = work_df.join(extracted_sb_sc, on = \"competition_edition_id\")"
   ]
  },
  {
   "cell_type": "code",
   "execution_count": 41,
   "metadata": {},
   "outputs": [
    {
     "data": {
      "text/plain": [
       "(508602, 128)"
      ]
     },
     "execution_count": 41,
     "metadata": {},
     "output_type": "execute_result"
    }
   ],
   "source": [
    "final_df.shape"
   ]
  },
  {
   "cell_type": "code",
   "execution_count": 42,
   "metadata": {},
   "outputs": [
    {
     "data": {
      "text/html": [
       "<div><style>\n",
       ".dataframe > thead > tr,\n",
       ".dataframe > tbody > tr {\n",
       "  text-align: right;\n",
       "  white-space: pre-wrap;\n",
       "}\n",
       "</style>\n",
       "<small>shape: (5, 128)</small><table border=\"1\" class=\"dataframe\"><thead><tr><th>Sprinting Distance TIP</th><th>Count HSR TIP 1</th><th>Count Medium Deceleration 1</th><th>HSR Distance 1</th><th>Sprinting Distance TIP 2</th><th>Count Sprint 1</th><th>Count High Deceleration TIP</th><th>Minutes 2</th><th>Count High Deceleration OTIP</th><th>Minutes OTIP 2</th><th>Count Sprint OTIP 2</th><th>Running Distance 1</th><th>Count High Deceleration 1</th><th>competition_edition_id</th><th>Count High Deceleration 2</th><th>Count High Acceleration TIP 2</th><th>Minutes</th><th>HSR Distance</th><th>Count High Acceleration</th><th>Distance</th><th>team_id</th><th>Sprinting Distance TIP 1</th><th>Count Medium Deceleration TIP 2</th><th>HSR Distance OTIP</th><th>Minutes TIP</th><th>Running Distance OTIP 1</th><th>short_name</th><th>season_name</th><th>Distance 2</th><th>Count Medium Acceleration 2</th><th>Count Medium Deceleration TIP 1</th><th>player_id</th><th>Sprinting Distance</th><th>Count HSR OTIP</th><th>Count High Acceleration OTIP 2</th><th>date</th><th>Count High Deceleration TIP 2</th><th>Minutes OTIP 1</th><th>Count HSR TIP 2</th><th>HSR Distance OTIP 2</th><th>HSR Distance OTIP 1</th><th>Count HSR</th><th>Count Medium Deceleration OTIP 2</th><th>Running Distance</th><th>Count Medium Acceleration TIP 2</th><th>match_name</th><th>team</th><th>Count Sprint TIP 1</th><th>Distance TIP 2</th><th>Count High Deceleration OTIP 1</th><th>Distance TIP 1</th><th>HSR Distance TIP 1</th><th>Running Distance TIP 1</th><th>quality_check</th><th>Count Medium Acceleration</th><th>Minutes TIP 2</th><th>Count High Deceleration TIP 1</th><th>Count High Acceleration 2</th><th>Count Medium Acceleration TIP</th><th>Count HSR 1</th><th>Count HSR OTIP 1</th><th>Count Medium Deceleration</th><th>Minutes OTIP</th><th>Minutes 1</th><th>Running Distance TIP</th><th>Count Medium Acceleration OTIP</th><th>Count Medium Deceleration OTIP</th><th>Count High Acceleration OTIP 1</th><th>PSV-99</th><th>Running Distance OTIP</th><th>Count Medium Deceleration TIP</th><th>Count Sprint OTIP 1</th><th>Count High Acceleration TIP 1</th><th>Distance OTIP 2</th><th>Sprinting Distance 2</th><th>Count High Acceleration OTIP</th><th>competition_id</th><th>team_name</th><th>Count High Deceleration</th><th>Count Medium Deceleration OTIP 1</th><th>Count Sprint OTIP</th><th>Count HSR 2</th><th>Running Distance TIP 2</th><th>HSR Distance TIP</th><th>HSR Distance 2</th><th>Count Sprint 2</th><th>Distance OTIP 1</th><th>Running Distance OTIP 2</th><th>Count Medium Acceleration TIP 1</th><th>Sprinting Distance 1</th><th>Count HSR OTIP 2</th><th>season_id</th><th>Count Sprint TIP</th><th>position</th><th>Count High Acceleration TIP</th><th>player_name</th><th>HSR Distance TIP 2</th><th>Count Medium Acceleration 1</th><th>Distance OTIP</th><th>group</th><th>player_birthdate</th><th>Distance 1</th><th>Count High Acceleration 1</th><th>Count HSR TIP</th><th>Count Sprint</th><th>Count Medium Deceleration 2</th><th>Sprinting Distance OTIP 2</th><th>Sprinting Distance OTIP 1</th><th>Count High Deceleration OTIP 2</th><th>Count Medium Acceleration OTIP 1</th><th>Minutes TIP 1</th><th>match_id</th><th>Running Distance 2</th><th>Count Sprint TIP 2</th><th>Count Medium Acceleration OTIP 2</th><th>Sprinting Distance OTIP</th><th>Distance TIP</th><th>name</th><th>season_id_right</th><th>season_start_year</th><th>season_end_year</th><th>season_name_right</th><th>competition_id_right</th><th>competition_area</th><th>competition_name</th><th>competition_gender</th><th>competition_age_group</th><th>competition_region_division</th></tr><tr><td>i64</td><td>i64</td><td>i64</td><td>i64</td><td>i64</td><td>i64</td><td>i64</td><td>f64</td><td>i64</td><td>f64</td><td>i64</td><td>i64</td><td>i64</td><td>i64</td><td>i64</td><td>i64</td><td>f64</td><td>i64</td><td>i64</td><td>i64</td><td>i64</td><td>i64</td><td>i64</td><td>i64</td><td>f64</td><td>i64</td><td>str</td><td>str</td><td>i64</td><td>i64</td><td>i64</td><td>i64</td><td>i64</td><td>i64</td><td>i64</td><td>str</td><td>i64</td><td>f64</td><td>i64</td><td>i64</td><td>i64</td><td>i64</td><td>i64</td><td>i64</td><td>i64</td><td>str</td><td>str</td><td>i64</td><td>i64</td><td>i64</td><td>i64</td><td>i64</td><td>i64</td><td>bool</td><td>i64</td><td>f64</td><td>i64</td><td>i64</td><td>i64</td><td>i64</td><td>i64</td><td>i64</td><td>f64</td><td>f64</td><td>i64</td><td>i64</td><td>i64</td><td>i64</td><td>f64</td><td>i64</td><td>i64</td><td>i64</td><td>i64</td><td>i64</td><td>i64</td><td>i64</td><td>i64</td><td>str</td><td>i64</td><td>i64</td><td>i64</td><td>i64</td><td>i64</td><td>i64</td><td>i64</td><td>i64</td><td>i64</td><td>i64</td><td>i64</td><td>i64</td><td>i64</td><td>i64</td><td>i64</td><td>str</td><td>i64</td><td>str</td><td>i64</td><td>i64</td><td>i64</td><td>str</td><td>str</td><td>i64</td><td>i64</td><td>i64</td><td>i64</td><td>i64</td><td>i64</td><td>i64</td><td>i64</td><td>i64</td><td>f64</td><td>i64</td><td>i64</td><td>i64</td><td>i64</td><td>i64</td><td>i64</td><td>str</td><td>i64</td><td>i64</td><td>i64</td><td>str</td><td>i64</td><td>str</td><td>str</td><td>str</td><td>str</td><td>str</td></tr></thead><tbody><tr><td>30</td><td>13</td><td>42</td><td>387</td><td>19</td><td>3</td><td>3</td><td>49.48</td><td>4</td><td>17.3</td><td>1</td><td>1354</td><td>8</td><td>249</td><td>3</td><td>0</td><td>96.63</td><td>745</td><td>4</td><td>13026</td><td>462</td><td>11</td><td>9</td><td>443</td><td>24.21</td><td>842</td><td>&quot;P. Gerkens&quot;</td><td>&quot;2021/2022&quot;</td><td>6216</td><td>48</td><td>8</td><td>8701</td><td>148</td><td>34</td><td>0</td><td>&quot;2021-07-25&quot;</td><td>1</td><td>18.27</td><td>6</td><td>218</td><td>225</td><td>59</td><td>17</td><td>2415</td><td>10</td><td>&quot;KV Mechelen v Royal Antwerp FC&quot;</td><td>&quot;Royal Antwerp FC&quot;</td><td>1</td><td>1558</td><td>3</td><td>1874</td><td>139</td><td>369</td><td>true</td><td>100</td><td>11.08</td><td>2</td><td>1</td><td>22</td><td>33</td><td>17</td><td>89</td><td>35.57</td><td>47.15</td><td>661</td><td>47</td><td>34</td><td>0</td><td>25.7</td><td>1504</td><td>17</td><td>1</td><td>0</td><td>2744</td><td>56</td><td>0</td><td>16</td><td>&quot;Royal Antwerp FC&quot;</td><td>11</td><td>17</td><td>2</td><td>26</td><td>292</td><td>260</td><td>358</td><td>2</td><td>2983</td><td>662</td><td>12</td><td>92</td><td>17</td><td>8</td><td>2</td><td>&quot;AM&quot;</td><td>0</td><td>&quot;Pieter Gerkens&quot;</td><td>121</td><td>52</td><td>5727</td><td>&quot;Midfield&quot;</td><td>&quot;1995-02-17&quot;</td><td>6810</td><td>3</td><td>19</td><td>5</td><td>47</td><td>18</td><td>27</td><td>1</td><td>24</td><td>13.13</td><td>44999</td><td>1061</td><td>1</td><td>23</td><td>45</td><td>3432</td><td>&quot;BEL - Pro League - 2021/2022&quot;</td><td>8</td><td>2021</td><td>2022</td><td>&quot;2021/2022&quot;</td><td>16</td><td>&quot;BEL&quot;</td><td>&quot;Pro League&quot;</td><td>&quot;male&quot;</td><td>&quot;adult&quot;</td><td>&quot;Belgium 1&quot;</td></tr><tr><td>136</td><td>9</td><td>31</td><td>201</td><td>119</td><td>3</td><td>2</td><td>50.07</td><td>1</td><td>15.07</td><td>0</td><td>489</td><td>5</td><td>249</td><td>3</td><td>1</td><td>96.19</td><td>476</td><td>5</td><td>9969</td><td>27</td><td>17</td><td>11</td><td>167</td><td>25.52</td><td>178</td><td>&quot;X. Mercier&quot;</td><td>&quot;2021/2022&quot;</td><td>5127</td><td>41</td><td>9</td><td>10932</td><td>202</td><td>17</td><td>1</td><td>&quot;2021-07-24&quot;</td><td>1</td><td>14.52</td><td>11</td><td>63</td><td>104</td><td>39</td><td>14</td><td>1101</td><td>14</td><td>&quot;Oud-Heverlee Leuven v SV Zulte…</td><td>&quot;Oud-Heverlee Leuven&quot;</td><td>1</td><td>1775</td><td>1</td><td>1660</td><td>81</td><td>267</td><td>true</td><td>77</td><td>12.32</td><td>1</td><td>2</td><td>25</td><td>20</td><td>10</td><td>77</td><td>29.59</td><td>46.12</td><td>610</td><td>32</td><td>25</td><td>0</td><td>28.3</td><td>402</td><td>20</td><td>1</td><td>1</td><td>1739</td><td>154</td><td>1</td><td>16</td><td>&quot;Oud-Heverlee Leuven&quot;</td><td>8</td><td>11</td><td>1</td><td>19</td><td>343</td><td>265</td><td>275</td><td>5</td><td>1795</td><td>224</td><td>11</td><td>48</td><td>7</td><td>8</td><td>4</td><td>&quot;AM&quot;</td><td>2</td><td>&quot;Xavier Mercier&quot;</td><td>184</td><td>36</td><td>3534</td><td>&quot;Midfield&quot;</td><td>&quot;1989-07-25&quot;</td><td>4842</td><td>3</td><td>20</td><td>8</td><td>46</td><td>0</td><td>24</td><td>0</td><td>15</td><td>13.2</td><td>45002</td><td>612</td><td>3</td><td>17</td><td>24</td><td>3435</td><td>&quot;BEL - Pro League - 2021/2022&quot;</td><td>8</td><td>2021</td><td>2022</td><td>&quot;2021/2022&quot;</td><td>16</td><td>&quot;BEL&quot;</td><td>&quot;Pro League&quot;</td><td>&quot;male&quot;</td><td>&quot;adult&quot;</td><td>&quot;Belgium 1&quot;</td></tr><tr><td>26</td><td>13</td><td>57</td><td>292</td><td>0</td><td>4</td><td>2</td><td>24.95</td><td>3</td><td>6.57</td><td>1</td><td>714</td><td>7</td><td>249</td><td>4</td><td>1</td><td>71.07</td><td>421</td><td>3</td><td>8709</td><td>8</td><td>26</td><td>11</td><td>167</td><td>22.45</td><td>253</td><td>&quot;O. Govea&quot;</td><td>&quot;2021/2022&quot;</td><td>3089</td><td>25</td><td>22</td><td>14625</td><td>105</td><td>14</td><td>1</td><td>&quot;2021-07-24&quot;</td><td>1</td><td>13.2</td><td>5</td><td>78</td><td>89</td><td>34</td><td>5</td><td>1241</td><td>8</td><td>&quot;Oud-Heverlee Leuven v SV Zulte…</td><td>&quot;SV Zulte-Waregem&quot;</td><td>2</td><td>1278</td><td>2</td><td>2289</td><td>171</td><td>427</td><td>true</td><td>64</td><td>7.93</td><td>1</td><td>2</td><td>26</td><td>21</td><td>7</td><td>82</td><td>19.77</td><td>46.12</td><td>724</td><td>23</td><td>18</td><td>1</td><td>26.4</td><td>425</td><td>33</td><td>1</td><td>0</td><td>938</td><td>10</td><td>2</td><td>16</td><td>&quot;SV Zulte-Waregem&quot;</td><td>11</td><td>13</td><td>2</td><td>13</td><td>297</td><td>222</td><td>129</td><td>1</td><td>1938</td><td>172</td><td>18</td><td>95</td><td>7</td><td>8</td><td>2</td><td>&quot;AM&quot;</td><td>1</td><td>&quot;Omar Nicolás Govea García&quot;</td><td>51</td><td>39</td><td>2876</td><td>&quot;Midfield&quot;</td><td>&quot;1996-01-18&quot;</td><td>5620</td><td>1</td><td>18</td><td>5</td><td>25</td><td>7</td><td>29</td><td>1</td><td>17</td><td>14.52</td><td>45002</td><td>527</td><td>0</td><td>6</td><td>36</td><td>3567</td><td>&quot;BEL - Pro League - 2021/2022&quot;</td><td>8</td><td>2021</td><td>2022</td><td>&quot;2021/2022&quot;</td><td>16</td><td>&quot;BEL&quot;</td><td>&quot;Pro League&quot;</td><td>&quot;male&quot;</td><td>&quot;adult&quot;</td><td>&quot;Belgium 1&quot;</td></tr><tr><td>132</td><td>13</td><td>44</td><td>284</td><td>88</td><td>6</td><td>3</td><td>28.03</td><td>5</td><td>8.48</td><td>1</td><td>680</td><td>9</td><td>249</td><td>6</td><td>1</td><td>74.15</td><td>594</td><td>1</td><td>8976</td><td>27</td><td>44</td><td>5</td><td>224</td><td>20.35</td><td>301</td><td>&quot;S. Schrijvers&quot;</td><td>&quot;2021/2022&quot;</td><td>3566</td><td>27</td><td>13</td><td>9835</td><td>207</td><td>20</td><td>0</td><td>&quot;2021-07-24&quot;</td><td>1</td><td>14.52</td><td>12</td><td>110</td><td>114</td><td>50</td><td>8</td><td>1234</td><td>8</td><td>&quot;Oud-Heverlee Leuven v SV Zulte…</td><td>&quot;Oud-Heverlee Leuven&quot;</td><td>4</td><td>1242</td><td>2</td><td>1883</td><td>144</td><td>327</td><td>true</td><td>64</td><td>7.15</td><td>2</td><td>1</td><td>21</td><td>25</td><td>11</td><td>70</td><td>23.0</td><td>46.12</td><td>603</td><td>26</td><td>21</td><td>0</td><td>27.4</td><td>536</td><td>18</td><td>1</td><td>0</td><td>1326</td><td>131</td><td>0</td><td>16</td><td>&quot;Oud-Heverlee Leuven&quot;</td><td>15</td><td>13</td><td>2</td><td>25</td><td>276</td><td>337</td><td>310</td><td>6</td><td>2025</td><td>235</td><td>13</td><td>76</td><td>9</td><td>8</td><td>8</td><td>&quot;AM&quot;</td><td>1</td><td>&quot;Siebe Schrijvers&quot;</td><td>193</td><td>37</td><td>3351</td><td>&quot;Midfield&quot;</td><td>&quot;1996-07-18&quot;</td><td>5410</td><td>0</td><td>25</td><td>12</td><td>26</td><td>20</td><td>7</td><td>3</td><td>17</td><td>13.2</td><td>45002</td><td>554</td><td>4</td><td>9</td><td>27</td><td>3125</td><td>&quot;BEL - Pro League - 2021/2022&quot;</td><td>8</td><td>2021</td><td>2022</td><td>&quot;2021/2022&quot;</td><td>16</td><td>&quot;BEL&quot;</td><td>&quot;Pro League&quot;</td><td>&quot;male&quot;</td><td>&quot;adult&quot;</td><td>&quot;Belgium 1&quot;</td></tr><tr><td>36</td><td>13</td><td>44</td><td>253</td><td>0</td><td>4</td><td>1</td><td>60.17</td><td>3</td><td>19.18</td><td>1</td><td>943</td><td>6</td><td>249</td><td>2</td><td>0</td><td>110.42</td><td>334</td><td>2</td><td>11626</td><td>26</td><td>36</td><td>10</td><td>174</td><td>28.66</td><td>468</td><td>&quot;S. Peeters&quot;</td><td>&quot;2021/2022&quot;</td><td>5369</td><td>39</td><td>13</td><td>11595</td><td>60</td><td>17</td><td>0</td><td>&quot;2021-07-25&quot;</td><td>0</td><td>18.05</td><td>4</td><td>62</td><td>112</td><td>35</td><td>19</td><td>1405</td><td>11</td><td>&quot;Club Brugge KV v KAS Eupen&quot;</td><td>&quot;KAS Eupen&quot;</td><td>2</td><td>1397</td><td>2</td><td>2340</td><td>140</td><td>461</td><td>true</td><td>86</td><td>12.98</td><td>1</td><td>0</td><td>29</td><td>23</td><td>9</td><td>85</td><td>37.23</td><td>50.25</td><td>603</td><td>47</td><td>37</td><td>1</td><td>25.5</td><td>788</td><td>23</td><td>1</td><td>1</td><td>2252</td><td>4</td><td>1</td><td>16</td><td>&quot;KAS Eupen&quot;</td><td>8</td><td>18</td><td>2</td><td>12</td><td>142</td><td>159</td><td>81</td><td>1</td><td>2650</td><td>320</td><td>18</td><td>56</td><td>8</td><td>8</td><td>2</td><td>&quot;AM&quot;</td><td>1</td><td>&quot;Stef Peeters&quot;</td><td>19</td><td>47</td><td>4902</td><td>&quot;Midfield&quot;</td><td>&quot;1992-02-09&quot;</td><td>6257</td><td>2</td><td>17</td><td>5</td><td>41</td><td>4</td><td>20</td><td>1</td><td>21</td><td>15.68</td><td>44998</td><td>462</td><td>0</td><td>26</td><td>24</td><td>3737</td><td>&quot;BEL - Pro League - 2021/2022&quot;</td><td>8</td><td>2021</td><td>2022</td><td>&quot;2021/2022&quot;</td><td>16</td><td>&quot;BEL&quot;</td><td>&quot;Pro League&quot;</td><td>&quot;male&quot;</td><td>&quot;adult&quot;</td><td>&quot;Belgium 1&quot;</td></tr></tbody></table></div>"
      ],
      "text/plain": [
       "shape: (5, 128)\n",
       "┌─────┬─────┬─────┬─────┬─────┬─────┬─────┬─────┬─────┬─────┬─────┬─────┬─────┬─────┬─────┬─────┬─────┬─────┬─────┬─────┬─────┬─────┬─────┬─────┬─────┬─────┬─────┬─────┬─────┬─────┬─────┬─────┬─────┬─────┬─────┬─────┬─────┬─────┬─────┬─────┬─────┬─────┬─────┬─────┬─────┬─────┬─────┬─────┬─────┬─────┬─────┬─────┬─────┬─────┬─────┬─────┬─────┬─────┬─────┬─────┬─────┬─────┬─────┬─────┬─────┬─────┬─────┬─────┬─────┬─────┬─────┬─────┬─────┬─────┬─────┬─────┬─────┬─────┬─────┬─────┬─────┬─────┬─────┬─────┬─────┬─────┬─────┬─────┬─────┬─────┬─────┬─────┬─────┬─────┬─────┬─────┬─────┬─────┬─────┬─────┬─────┬─────┬─────┬─────┬─────┬─────┬─────┬─────┬─────┬─────┬─────┬─────┬─────┬─────┬─────┬─────┬─────┬─────┬─────┬─────┬─────┬─────┬─────┬─────┬─────┬─────┬─────┬─────┐\n",
       "│ Spr ┆ Cou ┆ Cou ┆ HSR ┆ Spr ┆ Cou ┆ Cou ┆ Min ┆ Cou ┆ Min ┆ Cou ┆ Run ┆ Cou ┆ com ┆ Cou ┆ Cou ┆ Min ┆ HSR ┆ Cou ┆ Dis ┆ tea ┆ Spr ┆ Cou ┆ HSR ┆ Min ┆ Run ┆ sho ┆ sea ┆ Dis ┆ Cou ┆ Cou ┆ pla ┆ Spr ┆ Cou ┆ Cou ┆ dat ┆ Cou ┆ Min ┆ Cou ┆ HSR ┆ HSR ┆ Cou ┆ Cou ┆ Run ┆ Cou ┆ mat ┆ tea ┆ Cou ┆ Dis ┆ Cou ┆ Dis ┆ HSR ┆ Run ┆ qua ┆ Cou ┆ Min ┆ Cou ┆ Cou ┆ Cou ┆ Cou ┆ Cou ┆ Cou ┆ Min ┆ Min ┆ Run ┆ Cou ┆ Cou ┆ Cou ┆ PSV ┆ Run ┆ Cou ┆ Cou ┆ Cou ┆ Dis ┆ Spr ┆ Cou ┆ com ┆ tea ┆ Cou ┆ Cou ┆ Cou ┆ Cou ┆ Run ┆ HSR ┆ HSR ┆ Cou ┆ Dis ┆ Run ┆ Cou ┆ Spr ┆ Cou ┆ sea ┆ Cou ┆ pos ┆ Cou ┆ pla ┆ HSR ┆ Cou ┆ Dis ┆ gro ┆ pla ┆ Dis ┆ Cou ┆ Cou ┆ Cou ┆ Cou ┆ Spr ┆ Spr ┆ Cou ┆ Cou ┆ Min ┆ mat ┆ Run ┆ Cou ┆ Cou ┆ Spr ┆ Dis ┆ nam ┆ sea ┆ sea ┆ sea ┆ sea ┆ com ┆ com ┆ com ┆ com ┆ com ┆ com │\n",
       "│ int ┆ nt  ┆ nt  ┆ Dis ┆ int ┆ nt  ┆ nt  ┆ ute ┆ nt  ┆ ute ┆ nt  ┆ nin ┆ nt  ┆ pet ┆ nt  ┆ nt  ┆ ute ┆ Dis ┆ nt  ┆ tan ┆ m_i ┆ int ┆ nt  ┆ Dis ┆ ute ┆ nin ┆ rt_ ┆ son ┆ tan ┆ nt  ┆ nt  ┆ yer ┆ int ┆ nt  ┆ nt  ┆ e   ┆ nt  ┆ ute ┆ nt  ┆ Dis ┆ Dis ┆ nt  ┆ nt  ┆ nin ┆ nt  ┆ ch_ ┆ m   ┆ nt  ┆ tan ┆ nt  ┆ tan ┆ Dis ┆ nin ┆ lit ┆ nt  ┆ ute ┆ nt  ┆ nt  ┆ nt  ┆ nt  ┆ nt  ┆ nt  ┆ ute ┆ ute ┆ nin ┆ nt  ┆ nt  ┆ nt  ┆ -99 ┆ nin ┆ nt  ┆ nt  ┆ nt  ┆ tan ┆ int ┆ nt  ┆ pet ┆ m_n ┆ nt  ┆ nt  ┆ nt  ┆ nt  ┆ nin ┆ Dis ┆ Dis ┆ nt  ┆ tan ┆ nin ┆ nt  ┆ int ┆ nt  ┆ son ┆ nt  ┆ iti ┆ nt  ┆ yer ┆ Dis ┆ nt  ┆ tan ┆ up  ┆ yer ┆ tan ┆ nt  ┆ nt  ┆ nt  ┆ nt  ┆ int ┆ int ┆ nt  ┆ nt  ┆ ute ┆ ch_ ┆ nin ┆ nt  ┆ nt  ┆ int ┆ tan ┆ e   ┆ son ┆ son ┆ son ┆ son ┆ pet ┆ pet ┆ pet ┆ pet ┆ pet ┆ pet │\n",
       "│ ing ┆ HSR ┆ Med ┆ tan ┆ ing ┆ Spr ┆ Hig ┆ s 2 ┆ Hig ┆ s   ┆ Spr ┆ g   ┆ Hig ┆ iti ┆ Hig ┆ Hig ┆ s   ┆ tan ┆ Hig ┆ ce  ┆ d   ┆ ing ┆ Med ┆ tan ┆ s   ┆ g   ┆ nam ┆ _na ┆ ce  ┆ Med ┆ Med ┆ _id ┆ ing ┆ HSR ┆ Hig ┆ --- ┆ Hig ┆ s   ┆ HSR ┆ tan ┆ tan ┆ HSR ┆ Med ┆ g   ┆ Med ┆ nam ┆ --- ┆ Spr ┆ ce  ┆ Hig ┆ ce  ┆ tan ┆ g   ┆ y_c ┆ Med ┆ s   ┆ Hig ┆ Hig ┆ Med ┆ HSR ┆ HSR ┆ Med ┆ s   ┆ s 1 ┆ g   ┆ Med ┆ Med ┆ Hig ┆ --- ┆ g   ┆ Med ┆ Spr ┆ Hig ┆ ce  ┆ ing ┆ Hig ┆ iti ┆ ame ┆ Hig ┆ Med ┆ Spr ┆ HSR ┆ g   ┆ tan ┆ tan ┆ Spr ┆ ce  ┆ g   ┆ Med ┆ ing ┆ HSR ┆ _id ┆ Spr ┆ on  ┆ Hig ┆ _na ┆ tan ┆ Med ┆ ce  ┆ --- ┆ _bi ┆ ce  ┆ Hig ┆ HSR ┆ Spr ┆ Med ┆ ing ┆ ing ┆ Hig ┆ Med ┆ s   ┆ id  ┆ g   ┆ Spr ┆ Med ┆ ing ┆ ce  ┆ --- ┆ _id ┆ _st ┆ _en ┆ _na ┆ iti ┆ iti ┆ iti ┆ iti ┆ iti ┆ iti │\n",
       "│ Dis ┆ TIP ┆ ium ┆ ce  ┆ Dis ┆ int ┆ h   ┆ --- ┆ h   ┆ OTI ┆ int ┆ Dis ┆ h   ┆ on_ ┆ h   ┆ h   ┆ --- ┆ ce  ┆ h   ┆ --- ┆ --- ┆ Dis ┆ ium ┆ ce  ┆ TIP ┆ Dis ┆ e   ┆ me  ┆ 2   ┆ ium ┆ ium ┆ --- ┆ Dis ┆ OTI ┆ h   ┆ str ┆ h   ┆ OTI ┆ TIP ┆ ce  ┆ ce  ┆ --- ┆ ium ┆ Dis ┆ ium ┆ e   ┆ str ┆ int ┆ TIP ┆ h   ┆ TIP ┆ ce  ┆ Dis ┆ hec ┆ ium ┆ TIP ┆ h   ┆ h   ┆ ium ┆ 1   ┆ OTI ┆ ium ┆ OTI ┆ --- ┆ Dis ┆ ium ┆ ium ┆ h   ┆ f64 ┆ Dis ┆ ium ┆ int ┆ h   ┆ OTI ┆ Dis ┆ h   ┆ on_ ┆ --- ┆ h   ┆ ium ┆ int ┆ 2   ┆ Dis ┆ ce  ┆ ce  ┆ int ┆ OTI ┆ Dis ┆ ium ┆ Dis ┆ OTI ┆ --- ┆ int ┆ --- ┆ h   ┆ me  ┆ ce  ┆ ium ┆ OTI ┆ str ┆ rth ┆ 1   ┆ h   ┆ TIP ┆ int ┆ ium ┆ Dis ┆ Dis ┆ h   ┆ ium ┆ TIP ┆ --- ┆ Dis ┆ int ┆ ium ┆ Dis ┆ TIP ┆ str ┆ _ri ┆ art ┆ d_y ┆ me_ ┆ on_ ┆ on_ ┆ on_ ┆ on_ ┆ on_ ┆ on_ │\n",
       "│ tan ┆ 1   ┆ Dec ┆ 1   ┆ tan ┆ 1   ┆ Dec ┆ f64 ┆ Dec ┆ P 2 ┆ OTI ┆ tan ┆ Dec ┆ edi ┆ Dec ┆ Acc ┆ f64 ┆ --- ┆ Acc ┆ i64 ┆ i64 ┆ tan ┆ Dec ┆ OTI ┆ --- ┆ tan ┆ --- ┆ --- ┆ --- ┆ Acc ┆ Dec ┆ i64 ┆ tan ┆ P   ┆ Acc ┆     ┆ Dec ┆ P 1 ┆ 2   ┆ OTI ┆ OTI ┆ i64 ┆ Dec ┆ tan ┆ Acc ┆ --- ┆     ┆ TIP ┆ 2   ┆ Dec ┆ 1   ┆ TIP ┆ tan ┆ k   ┆ Acc ┆ 2   ┆ Dec ┆ Acc ┆ Acc ┆ --- ┆ P 1 ┆ Dec ┆ P   ┆ f64 ┆ tan ┆ Acc ┆ Dec ┆ Acc ┆     ┆ tan ┆ Dec ┆ OTI ┆ Acc ┆ P 2 ┆ tan ┆ Acc ┆ id  ┆ str ┆ Dec ┆ Dec ┆ OTI ┆ --- ┆ tan ┆ TIP ┆ 2   ┆ 2   ┆ P 1 ┆ tan ┆ Acc ┆ tan ┆ P 2 ┆ i64 ┆ TIP ┆ str ┆ Acc ┆ --- ┆ TIP ┆ Acc ┆ P   ┆     ┆ dat ┆ --- ┆ Acc ┆ --- ┆ --- ┆ Dec ┆ tan ┆ tan ┆ Dec ┆ Acc ┆ 1   ┆ i64 ┆ tan ┆ TIP ┆ Acc ┆ tan ┆ --- ┆     ┆ ght ┆ _ye ┆ ear ┆ rig ┆ id_ ┆ are ┆ nam ┆ gen ┆ age ┆ reg │\n",
       "│ ce  ┆ --- ┆ ele ┆ --- ┆ ce  ┆ --- ┆ ele ┆     ┆ ele ┆ --- ┆ P 2 ┆ ce  ┆ ele ┆ tio ┆ ele ┆ ele ┆     ┆ i64 ┆ ele ┆     ┆     ┆ ce  ┆ ele ┆ P   ┆ f64 ┆ ce  ┆ str ┆ str ┆ i64 ┆ ele ┆ ele ┆     ┆ ce  ┆ --- ┆ ele ┆     ┆ ele ┆ --- ┆ --- ┆ P 2 ┆ P 1 ┆     ┆ ele ┆ ce  ┆ ele ┆ str ┆     ┆ 1   ┆ --- ┆ ele ┆ --- ┆ 1   ┆ ce  ┆ --- ┆ ele ┆ --- ┆ ele ┆ ele ┆ ele ┆ i64 ┆ --- ┆ ele ┆ --- ┆     ┆ ce  ┆ ele ┆ ele ┆ ele ┆     ┆ ce  ┆ ele ┆ P 1 ┆ ele ┆ --- ┆ ce  ┆ ele ┆ --- ┆     ┆ ele ┆ ele ┆ P   ┆ i64 ┆ ce  ┆ --- ┆ --- ┆ --- ┆ --- ┆ ce  ┆ ele ┆ ce  ┆ --- ┆     ┆ --- ┆     ┆ ele ┆ str ┆ 2   ┆ ele ┆ --- ┆     ┆ e   ┆ i64 ┆ ele ┆ i64 ┆ i64 ┆ ele ┆ ce  ┆ ce  ┆ ele ┆ ele ┆ --- ┆     ┆ ce  ┆ 2   ┆ ele ┆ ce  ┆ i64 ┆     ┆ --- ┆ ar  ┆ --- ┆ ht  ┆ rig ┆ a   ┆ e   ┆ der ┆ _gr ┆ ion │\n",
       "│ TIP ┆ i64 ┆ rat ┆ i64 ┆ TIP ┆ i64 ┆ rat ┆     ┆ rat ┆ f64 ┆ --- ┆ 1   ┆ rat ┆ n_i ┆ rat ┆ rat ┆     ┆     ┆ rat ┆     ┆     ┆ TIP ┆ rat ┆ --- ┆     ┆ OTI ┆     ┆     ┆     ┆ rat ┆ rat ┆     ┆ --- ┆ i64 ┆ rat ┆     ┆ rat ┆ f64 ┆ i64 ┆ --- ┆ --- ┆     ┆ rat ┆ --- ┆ rat ┆     ┆     ┆ --- ┆ i64 ┆ rat ┆ i64 ┆ --- ┆ TIP ┆ boo ┆ rat ┆ f64 ┆ rat ┆ rat ┆ rat ┆     ┆ i64 ┆ rat ┆ f64 ┆     ┆ TIP ┆ rat ┆ rat ┆ rat ┆     ┆ OTI ┆ rat ┆ --- ┆ rat ┆ i64 ┆ 2   ┆ rat ┆ i64 ┆     ┆ rat ┆ rat ┆ --- ┆     ┆ TIP ┆ i64 ┆ i64 ┆ i64 ┆ i64 ┆ OTI ┆ rat ┆ 1   ┆ i64 ┆     ┆ i64 ┆     ┆ rat ┆     ┆ --- ┆ rat ┆ i64 ┆     ┆ --- ┆     ┆ rat ┆     ┆     ┆ rat ┆ OTI ┆ OTI ┆ rat ┆ rat ┆ f64 ┆     ┆ 2   ┆ --- ┆ rat ┆ OTI ┆     ┆     ┆ i64 ┆ --- ┆ i64 ┆ --- ┆ ht  ┆ --- ┆ --- ┆ --- ┆ oup ┆ _di │\n",
       "│ --- ┆     ┆ ion ┆     ┆ 2   ┆     ┆ ion ┆     ┆ ion ┆     ┆ i64 ┆ --- ┆ ion ┆ d   ┆ ion ┆ ion ┆     ┆     ┆ ion ┆     ┆     ┆ 1   ┆ ion ┆ i64 ┆     ┆ P 1 ┆     ┆     ┆     ┆ ion ┆ ion ┆     ┆ i64 ┆     ┆ ion ┆     ┆ ion ┆     ┆     ┆ i64 ┆ i64 ┆     ┆ ion ┆ i64 ┆ ion ┆     ┆     ┆ i64 ┆     ┆ ion ┆     ┆ i64 ┆ 1   ┆ l   ┆ ion ┆     ┆ ion ┆ ion ┆ ion ┆     ┆     ┆ ion ┆     ┆     ┆ --- ┆ ion ┆ ion ┆ ion ┆     ┆ P   ┆ ion ┆ i64 ┆ ion ┆     ┆ --- ┆ ion ┆     ┆     ┆ ion ┆ ion ┆ i64 ┆     ┆ 2   ┆     ┆     ┆     ┆     ┆ P 2 ┆ ion ┆ --- ┆     ┆     ┆     ┆     ┆ ion ┆     ┆ i64 ┆ ion ┆     ┆     ┆ str ┆     ┆ ion ┆     ┆     ┆ ion ┆ P 2 ┆ P 1 ┆ ion ┆ ion ┆     ┆     ┆ --- ┆ i64 ┆ ion ┆ P   ┆     ┆     ┆     ┆ i64 ┆     ┆ str ┆ --- ┆ str ┆ str ┆ str ┆ --- ┆ vis │\n",
       "│ i64 ┆     ┆ 1   ┆     ┆ --- ┆     ┆ TIP ┆     ┆ OTI ┆     ┆     ┆ i64 ┆ 1   ┆ --- ┆ 2   ┆ TIP ┆     ┆     ┆ --- ┆     ┆     ┆ --- ┆ TIP ┆     ┆     ┆ --- ┆     ┆     ┆     ┆ 2   ┆ TIP ┆     ┆     ┆     ┆ OTI ┆     ┆ TIP ┆     ┆     ┆     ┆     ┆     ┆ OTI ┆     ┆ TIP ┆     ┆     ┆     ┆     ┆ OTI ┆     ┆     ┆ --- ┆     ┆ --- ┆     ┆ TIP ┆ 2   ┆ TIP ┆     ┆     ┆ --- ┆     ┆     ┆ i64 ┆ OTI ┆ OTI ┆ OTI ┆     ┆ --- ┆ TIP ┆     ┆ TIP ┆     ┆ i64 ┆ OTI ┆     ┆     ┆ --- ┆ OTI ┆     ┆     ┆ --- ┆     ┆     ┆     ┆     ┆ --- ┆ TIP ┆ i64 ┆     ┆     ┆     ┆     ┆ TIP ┆     ┆     ┆ 1   ┆     ┆     ┆     ┆     ┆ 1   ┆     ┆     ┆ 2   ┆ --- ┆ --- ┆ OTI ┆ OTI ┆     ┆     ┆ i64 ┆     ┆ OTI ┆ --- ┆     ┆     ┆     ┆     ┆     ┆     ┆ i64 ┆     ┆     ┆     ┆ str ┆ ion │\n",
       "│     ┆     ┆ --- ┆     ┆ i64 ┆     ┆ --- ┆     ┆ P   ┆     ┆     ┆     ┆ --- ┆ i64 ┆ --- ┆ 2   ┆     ┆     ┆ i64 ┆     ┆     ┆ i64 ┆ …   ┆     ┆     ┆ i64 ┆     ┆     ┆     ┆ --- ┆ …   ┆     ┆     ┆     ┆ P 2 ┆     ┆ 2   ┆     ┆     ┆     ┆     ┆     ┆ P…  ┆     ┆ …   ┆     ┆     ┆     ┆     ┆ P 1 ┆     ┆     ┆ i64 ┆     ┆ i64 ┆     ┆ 1   ┆ --- ┆ --- ┆     ┆     ┆ i64 ┆     ┆     ┆     ┆ P   ┆ P   ┆ P 1 ┆     ┆ i64 ┆ --- ┆     ┆ 1   ┆     ┆     ┆ P   ┆     ┆     ┆ i64 ┆ P…  ┆     ┆     ┆ i64 ┆     ┆     ┆     ┆     ┆ i64 ┆ …   ┆     ┆     ┆     ┆     ┆     ┆ --- ┆     ┆     ┆ --- ┆     ┆     ┆     ┆     ┆ --- ┆     ┆     ┆ --- ┆ i64 ┆ i64 ┆ P 2 ┆ P…  ┆     ┆     ┆     ┆     ┆ P…  ┆ i64 ┆     ┆     ┆     ┆     ┆     ┆     ┆     ┆     ┆     ┆     ┆     ┆ --- │\n",
       "│     ┆     ┆ i64 ┆     ┆     ┆     ┆ i64 ┆     ┆ --- ┆     ┆     ┆     ┆ i64 ┆     ┆ i64 ┆ --- ┆     ┆     ┆     ┆     ┆     ┆     ┆ --- ┆     ┆     ┆     ┆     ┆     ┆     ┆ i64 ┆ --- ┆     ┆     ┆     ┆ --- ┆     ┆ --- ┆     ┆     ┆     ┆     ┆     ┆ --- ┆     ┆ --- ┆     ┆     ┆     ┆     ┆ --- ┆     ┆     ┆     ┆     ┆     ┆     ┆ --- ┆ i64 ┆ i64 ┆     ┆     ┆     ┆     ┆     ┆     ┆ --- ┆ --- ┆ --- ┆     ┆     ┆ i64 ┆     ┆ --- ┆     ┆     ┆ --- ┆     ┆     ┆     ┆ --- ┆     ┆     ┆     ┆     ┆     ┆     ┆     ┆     ┆ --- ┆     ┆     ┆     ┆     ┆     ┆ i64 ┆     ┆     ┆ i64 ┆     ┆     ┆     ┆     ┆ i64 ┆     ┆     ┆ i64 ┆     ┆     ┆ --- ┆ --- ┆     ┆     ┆     ┆     ┆ --- ┆     ┆     ┆     ┆     ┆     ┆     ┆     ┆     ┆     ┆     ┆     ┆     ┆ str │\n",
       "│     ┆     ┆     ┆     ┆     ┆     ┆     ┆     ┆ i64 ┆     ┆     ┆     ┆     ┆     ┆     ┆ i64 ┆     ┆     ┆     ┆     ┆     ┆     ┆ i64 ┆     ┆     ┆     ┆     ┆     ┆     ┆     ┆ i64 ┆     ┆     ┆     ┆ i64 ┆     ┆ i64 ┆     ┆     ┆     ┆     ┆     ┆ i64 ┆     ┆ i64 ┆     ┆     ┆     ┆     ┆ i64 ┆     ┆     ┆     ┆     ┆     ┆     ┆ i64 ┆     ┆     ┆     ┆     ┆     ┆     ┆     ┆     ┆ i64 ┆ i64 ┆ i64 ┆     ┆     ┆     ┆     ┆ i64 ┆     ┆     ┆ i64 ┆     ┆     ┆     ┆ i64 ┆     ┆     ┆     ┆     ┆     ┆     ┆     ┆     ┆ i64 ┆     ┆     ┆     ┆     ┆     ┆     ┆     ┆     ┆     ┆     ┆     ┆     ┆     ┆     ┆     ┆     ┆     ┆     ┆     ┆ i64 ┆ i64 ┆     ┆     ┆     ┆     ┆ i64 ┆     ┆     ┆     ┆     ┆     ┆     ┆     ┆     ┆     ┆     ┆     ┆     ┆     │\n",
       "╞═════╪═════╪═════╪═════╪═════╪═════╪═════╪═════╪═════╪═════╪═════╪═════╪═════╪═════╪═════╪═════╪═════╪═════╪═════╪═════╪═════╪═════╪═════╪═════╪═════╪═════╪═════╪═════╪═════╪═════╪═════╪═════╪═════╪═════╪═════╪═════╪═════╪═════╪═════╪═════╪═════╪═════╪═════╪═════╪═════╪═════╪═════╪═════╪═════╪═════╪═════╪═════╪═════╪═════╪═════╪═════╪═════╪═════╪═════╪═════╪═════╪═════╪═════╪═════╪═════╪═════╪═════╪═════╪═════╪═════╪═════╪═════╪═════╪═════╪═════╪═════╪═════╪═════╪═════╪═════╪═════╪═════╪═════╪═════╪═════╪═════╪═════╪═════╪═════╪═════╪═════╪═════╪═════╪═════╪═════╪═════╪═════╪═════╪═════╪═════╪═════╪═════╪═════╪═════╪═════╪═════╪═════╪═════╪═════╪═════╪═════╪═════╪═════╪═════╪═════╪═════╪═════╪═════╪═════╪═════╪═════╪═════╪═════╪═════╪═════╪═════╪═════╪═════╡\n",
       "│ 30  ┆ 13  ┆ 42  ┆ 387 ┆ 19  ┆ 3   ┆ 3   ┆ 49. ┆ 4   ┆ 17. ┆ 1   ┆ 135 ┆ 8   ┆ 249 ┆ 3   ┆ 0   ┆ 96. ┆ 745 ┆ 4   ┆ 130 ┆ 462 ┆ 11  ┆ 9   ┆ 443 ┆ 24. ┆ 842 ┆ P.  ┆ 202 ┆ 621 ┆ 48  ┆ 8   ┆ 870 ┆ 148 ┆ 34  ┆ 0   ┆ 202 ┆ 1   ┆ 18. ┆ 6   ┆ 218 ┆ 225 ┆ 59  ┆ 17  ┆ 241 ┆ 10  ┆ KV  ┆ Roy ┆ 1   ┆ 155 ┆ 3   ┆ 187 ┆ 139 ┆ 369 ┆ tru ┆ 100 ┆ 11. ┆ 2   ┆ 1   ┆ 22  ┆ 33  ┆ 17  ┆ 89  ┆ 35. ┆ 47. ┆ 661 ┆ 47  ┆ 34  ┆ 0   ┆ 25. ┆ 150 ┆ 17  ┆ 1   ┆ 0   ┆ 274 ┆ 56  ┆ 0   ┆ 16  ┆ Roy ┆ 11  ┆ 17  ┆ 2   ┆ 26  ┆ 292 ┆ 260 ┆ 358 ┆ 2   ┆ 298 ┆ 662 ┆ 12  ┆ 92  ┆ 17  ┆ 8   ┆ 2   ┆ AM  ┆ 0   ┆ Pie ┆ 121 ┆ 52  ┆ 572 ┆ Mid ┆ 199 ┆ 681 ┆ 3   ┆ 19  ┆ 5   ┆ 47  ┆ 18  ┆ 27  ┆ 1   ┆ 24  ┆ 13. ┆ 449 ┆ 106 ┆ 1   ┆ 23  ┆ 45  ┆ 343 ┆ BEL ┆ 8   ┆ 202 ┆ 202 ┆ 202 ┆ 16  ┆ BEL ┆ Pro ┆ mal ┆ adu ┆ Bel │\n",
       "│     ┆     ┆     ┆     ┆     ┆     ┆     ┆ 48  ┆     ┆ 3   ┆     ┆ 4   ┆     ┆     ┆     ┆     ┆ 63  ┆     ┆     ┆ 26  ┆     ┆     ┆     ┆     ┆ 21  ┆     ┆ Ger ┆ 1/2 ┆ 6   ┆     ┆     ┆ 1   ┆     ┆     ┆     ┆ 1-0 ┆     ┆ 27  ┆     ┆     ┆     ┆     ┆     ┆ 5   ┆     ┆ Mec ┆ al  ┆     ┆ 8   ┆     ┆ 4   ┆     ┆     ┆ e   ┆     ┆ 08  ┆     ┆     ┆     ┆     ┆     ┆     ┆ 57  ┆ 15  ┆     ┆     ┆     ┆     ┆ 7   ┆ 4   ┆     ┆     ┆     ┆ 4   ┆     ┆     ┆     ┆ al  ┆     ┆     ┆     ┆     ┆     ┆     ┆     ┆     ┆ 3   ┆     ┆     ┆     ┆     ┆     ┆     ┆     ┆     ┆ ter ┆     ┆     ┆ 7   ┆ fie ┆ 5-0 ┆ 0   ┆     ┆     ┆     ┆     ┆     ┆     ┆     ┆     ┆ 13  ┆ 99  ┆ 1   ┆     ┆     ┆     ┆ 2   ┆ -   ┆     ┆ 1   ┆ 2   ┆ 1/2 ┆     ┆     ┆ Lea ┆ e   ┆ lt  ┆ giu │\n",
       "│     ┆     ┆     ┆     ┆     ┆     ┆     ┆     ┆     ┆     ┆     ┆     ┆     ┆     ┆     ┆     ┆     ┆     ┆     ┆     ┆     ┆     ┆     ┆     ┆     ┆     ┆ ken ┆ 022 ┆     ┆     ┆     ┆     ┆     ┆     ┆     ┆ 7-2 ┆     ┆     ┆     ┆     ┆     ┆     ┆     ┆     ┆     ┆ hel ┆ Ant ┆     ┆     ┆     ┆     ┆     ┆     ┆     ┆     ┆     ┆     ┆     ┆     ┆     ┆     ┆     ┆     ┆     ┆     ┆     ┆     ┆     ┆     ┆     ┆     ┆     ┆     ┆     ┆     ┆     ┆     ┆ Ant ┆     ┆     ┆     ┆     ┆     ┆     ┆     ┆     ┆     ┆     ┆     ┆     ┆     ┆     ┆     ┆     ┆     ┆ Ger ┆     ┆     ┆     ┆ ld  ┆ 2-1 ┆     ┆     ┆     ┆     ┆     ┆     ┆     ┆     ┆     ┆     ┆     ┆     ┆     ┆     ┆     ┆     ┆ Pro ┆     ┆     ┆     ┆ 022 ┆     ┆     ┆ gue ┆     ┆     ┆ m 1 │\n",
       "│     ┆     ┆     ┆     ┆     ┆     ┆     ┆     ┆     ┆     ┆     ┆     ┆     ┆     ┆     ┆     ┆     ┆     ┆     ┆     ┆     ┆     ┆     ┆     ┆     ┆     ┆ s   ┆     ┆     ┆     ┆     ┆     ┆     ┆     ┆     ┆ 5   ┆     ┆     ┆     ┆     ┆     ┆     ┆     ┆     ┆     ┆ en  ┆ wer ┆     ┆     ┆     ┆     ┆     ┆     ┆     ┆     ┆     ┆     ┆     ┆     ┆     ┆     ┆     ┆     ┆     ┆     ┆     ┆     ┆     ┆     ┆     ┆     ┆     ┆     ┆     ┆     ┆     ┆     ┆ wer ┆     ┆     ┆     ┆     ┆     ┆     ┆     ┆     ┆     ┆     ┆     ┆     ┆     ┆     ┆     ┆     ┆     ┆ ken ┆     ┆     ┆     ┆     ┆ 7   ┆     ┆     ┆     ┆     ┆     ┆     ┆     ┆     ┆     ┆     ┆     ┆     ┆     ┆     ┆     ┆     ┆ Lea ┆     ┆     ┆     ┆     ┆     ┆     ┆     ┆     ┆     ┆     │\n",
       "│     ┆     ┆     ┆     ┆     ┆     ┆     ┆     ┆     ┆     ┆     ┆     ┆     ┆     ┆     ┆     ┆     ┆     ┆     ┆     ┆     ┆     ┆     ┆     ┆     ┆     ┆     ┆     ┆     ┆     ┆     ┆     ┆     ┆     ┆     ┆     ┆     ┆     ┆     ┆     ┆     ┆     ┆     ┆     ┆     ┆ v   ┆ p   ┆     ┆     ┆     ┆     ┆     ┆     ┆     ┆     ┆     ┆     ┆     ┆     ┆     ┆     ┆     ┆     ┆     ┆     ┆     ┆     ┆     ┆     ┆     ┆     ┆     ┆     ┆     ┆     ┆     ┆     ┆ p   ┆     ┆     ┆     ┆     ┆     ┆     ┆     ┆     ┆     ┆     ┆     ┆     ┆     ┆     ┆     ┆     ┆     ┆ s   ┆     ┆     ┆     ┆     ┆     ┆     ┆     ┆     ┆     ┆     ┆     ┆     ┆     ┆     ┆     ┆     ┆     ┆     ┆     ┆     ┆     ┆ gue ┆     ┆     ┆     ┆     ┆     ┆     ┆     ┆     ┆     ┆     │\n",
       "│     ┆     ┆     ┆     ┆     ┆     ┆     ┆     ┆     ┆     ┆     ┆     ┆     ┆     ┆     ┆     ┆     ┆     ┆     ┆     ┆     ┆     ┆     ┆     ┆     ┆     ┆     ┆     ┆     ┆     ┆     ┆     ┆     ┆     ┆     ┆     ┆     ┆     ┆     ┆     ┆     ┆     ┆     ┆     ┆     ┆ Roy ┆ FC  ┆     ┆     ┆     ┆     ┆     ┆     ┆     ┆     ┆     ┆     ┆     ┆     ┆     ┆     ┆     ┆     ┆     ┆     ┆     ┆     ┆     ┆     ┆     ┆     ┆     ┆     ┆     ┆     ┆     ┆     ┆ FC  ┆     ┆     ┆     ┆     ┆     ┆     ┆     ┆     ┆     ┆     ┆     ┆     ┆     ┆     ┆     ┆     ┆     ┆     ┆     ┆     ┆     ┆     ┆     ┆     ┆     ┆     ┆     ┆     ┆     ┆     ┆     ┆     ┆     ┆     ┆     ┆     ┆     ┆     ┆     ┆ -   ┆     ┆     ┆     ┆     ┆     ┆     ┆     ┆     ┆     ┆     │\n",
       "│     ┆     ┆     ┆     ┆     ┆     ┆     ┆     ┆     ┆     ┆     ┆     ┆     ┆     ┆     ┆     ┆     ┆     ┆     ┆     ┆     ┆     ┆     ┆     ┆     ┆     ┆     ┆     ┆     ┆     ┆     ┆     ┆     ┆     ┆     ┆     ┆     ┆     ┆     ┆     ┆     ┆     ┆     ┆     ┆     ┆ al  ┆     ┆     ┆     ┆     ┆     ┆     ┆     ┆     ┆     ┆     ┆     ┆     ┆     ┆     ┆     ┆     ┆     ┆     ┆     ┆     ┆     ┆     ┆     ┆     ┆     ┆     ┆     ┆     ┆     ┆     ┆     ┆     ┆     ┆     ┆     ┆     ┆     ┆     ┆     ┆     ┆     ┆     ┆     ┆     ┆     ┆     ┆     ┆     ┆     ┆     ┆     ┆     ┆     ┆     ┆     ┆     ┆     ┆     ┆     ┆     ┆     ┆     ┆     ┆     ┆     ┆     ┆     ┆     ┆     ┆     ┆     ┆ 202 ┆     ┆     ┆     ┆     ┆     ┆     ┆     ┆     ┆     ┆     │\n",
       "│     ┆     ┆     ┆     ┆     ┆     ┆     ┆     ┆     ┆     ┆     ┆     ┆     ┆     ┆     ┆     ┆     ┆     ┆     ┆     ┆     ┆     ┆     ┆     ┆     ┆     ┆     ┆     ┆     ┆     ┆     ┆     ┆     ┆     ┆     ┆     ┆     ┆     ┆     ┆     ┆     ┆     ┆     ┆     ┆     ┆ Ant ┆     ┆     ┆     ┆     ┆     ┆     ┆     ┆     ┆     ┆     ┆     ┆     ┆     ┆     ┆     ┆     ┆     ┆     ┆     ┆     ┆     ┆     ┆     ┆     ┆     ┆     ┆     ┆     ┆     ┆     ┆     ┆     ┆     ┆     ┆     ┆     ┆     ┆     ┆     ┆     ┆     ┆     ┆     ┆     ┆     ┆     ┆     ┆     ┆     ┆     ┆     ┆     ┆     ┆     ┆     ┆     ┆     ┆     ┆     ┆     ┆     ┆     ┆     ┆     ┆     ┆     ┆     ┆     ┆     ┆     ┆     ┆ 1/2 ┆     ┆     ┆     ┆     ┆     ┆     ┆     ┆     ┆     ┆     │\n",
       "│     ┆     ┆     ┆     ┆     ┆     ┆     ┆     ┆     ┆     ┆     ┆     ┆     ┆     ┆     ┆     ┆     ┆     ┆     ┆     ┆     ┆     ┆     ┆     ┆     ┆     ┆     ┆     ┆     ┆     ┆     ┆     ┆     ┆     ┆     ┆     ┆     ┆     ┆     ┆     ┆     ┆     ┆     ┆     ┆     ┆ wer ┆     ┆     ┆     ┆     ┆     ┆     ┆     ┆     ┆     ┆     ┆     ┆     ┆     ┆     ┆     ┆     ┆     ┆     ┆     ┆     ┆     ┆     ┆     ┆     ┆     ┆     ┆     ┆     ┆     ┆     ┆     ┆     ┆     ┆     ┆     ┆     ┆     ┆     ┆     ┆     ┆     ┆     ┆     ┆     ┆     ┆     ┆     ┆     ┆     ┆     ┆     ┆     ┆     ┆     ┆     ┆     ┆     ┆     ┆     ┆     ┆     ┆     ┆     ┆     ┆     ┆     ┆     ┆     ┆     ┆     ┆     ┆ 022 ┆     ┆     ┆     ┆     ┆     ┆     ┆     ┆     ┆     ┆     │\n",
       "│     ┆     ┆     ┆     ┆     ┆     ┆     ┆     ┆     ┆     ┆     ┆     ┆     ┆     ┆     ┆     ┆     ┆     ┆     ┆     ┆     ┆     ┆     ┆     ┆     ┆     ┆     ┆     ┆     ┆     ┆     ┆     ┆     ┆     ┆     ┆     ┆     ┆     ┆     ┆     ┆     ┆     ┆     ┆     ┆     ┆ p   ┆     ┆     ┆     ┆     ┆     ┆     ┆     ┆     ┆     ┆     ┆     ┆     ┆     ┆     ┆     ┆     ┆     ┆     ┆     ┆     ┆     ┆     ┆     ┆     ┆     ┆     ┆     ┆     ┆     ┆     ┆     ┆     ┆     ┆     ┆     ┆     ┆     ┆     ┆     ┆     ┆     ┆     ┆     ┆     ┆     ┆     ┆     ┆     ┆     ┆     ┆     ┆     ┆     ┆     ┆     ┆     ┆     ┆     ┆     ┆     ┆     ┆     ┆     ┆     ┆     ┆     ┆     ┆     ┆     ┆     ┆     ┆     ┆     ┆     ┆     ┆     ┆     ┆     ┆     ┆     ┆     ┆     │\n",
       "│     ┆     ┆     ┆     ┆     ┆     ┆     ┆     ┆     ┆     ┆     ┆     ┆     ┆     ┆     ┆     ┆     ┆     ┆     ┆     ┆     ┆     ┆     ┆     ┆     ┆     ┆     ┆     ┆     ┆     ┆     ┆     ┆     ┆     ┆     ┆     ┆     ┆     ┆     ┆     ┆     ┆     ┆     ┆     ┆     ┆ FC  ┆     ┆     ┆     ┆     ┆     ┆     ┆     ┆     ┆     ┆     ┆     ┆     ┆     ┆     ┆     ┆     ┆     ┆     ┆     ┆     ┆     ┆     ┆     ┆     ┆     ┆     ┆     ┆     ┆     ┆     ┆     ┆     ┆     ┆     ┆     ┆     ┆     ┆     ┆     ┆     ┆     ┆     ┆     ┆     ┆     ┆     ┆     ┆     ┆     ┆     ┆     ┆     ┆     ┆     ┆     ┆     ┆     ┆     ┆     ┆     ┆     ┆     ┆     ┆     ┆     ┆     ┆     ┆     ┆     ┆     ┆     ┆     ┆     ┆     ┆     ┆     ┆     ┆     ┆     ┆     ┆     ┆     │\n",
       "│ 136 ┆ 9   ┆ 31  ┆ 201 ┆ 119 ┆ 3   ┆ 2   ┆ 50. ┆ 1   ┆ 15. ┆ 0   ┆ 489 ┆ 5   ┆ 249 ┆ 3   ┆ 1   ┆ 96. ┆ 476 ┆ 5   ┆ 996 ┆ 27  ┆ 17  ┆ 11  ┆ 167 ┆ 25. ┆ 178 ┆ X.  ┆ 202 ┆ 512 ┆ 41  ┆ 9   ┆ 109 ┆ 202 ┆ 17  ┆ 1   ┆ 202 ┆ 1   ┆ 14. ┆ 11  ┆ 63  ┆ 104 ┆ 39  ┆ 14  ┆ 110 ┆ 14  ┆ Oud ┆ Oud ┆ 1   ┆ 177 ┆ 1   ┆ 166 ┆ 81  ┆ 267 ┆ tru ┆ 77  ┆ 12. ┆ 1   ┆ 2   ┆ 25  ┆ 20  ┆ 10  ┆ 77  ┆ 29. ┆ 46. ┆ 610 ┆ 32  ┆ 25  ┆ 0   ┆ 28. ┆ 402 ┆ 20  ┆ 1   ┆ 1   ┆ 173 ┆ 154 ┆ 1   ┆ 16  ┆ Oud ┆ 8   ┆ 11  ┆ 1   ┆ 19  ┆ 343 ┆ 265 ┆ 275 ┆ 5   ┆ 179 ┆ 224 ┆ 11  ┆ 48  ┆ 7   ┆ 8   ┆ 4   ┆ AM  ┆ 2   ┆ Xav ┆ 184 ┆ 36  ┆ 353 ┆ Mid ┆ 198 ┆ 484 ┆ 3   ┆ 20  ┆ 8   ┆ 46  ┆ 0   ┆ 24  ┆ 0   ┆ 15  ┆ 13. ┆ 450 ┆ 612 ┆ 3   ┆ 17  ┆ 24  ┆ 343 ┆ BEL ┆ 8   ┆ 202 ┆ 202 ┆ 202 ┆ 16  ┆ BEL ┆ Pro ┆ mal ┆ adu ┆ Bel │\n",
       "│     ┆     ┆     ┆     ┆     ┆     ┆     ┆ 07  ┆     ┆ 07  ┆     ┆     ┆     ┆     ┆     ┆     ┆ 19  ┆     ┆     ┆ 9   ┆     ┆     ┆     ┆     ┆ 52  ┆     ┆ Mer ┆ 1/2 ┆ 7   ┆     ┆     ┆ 32  ┆     ┆     ┆     ┆ 1-0 ┆     ┆ 52  ┆     ┆     ┆     ┆     ┆     ┆ 1   ┆     ┆ -He ┆ -He ┆     ┆ 5   ┆     ┆ 0   ┆     ┆     ┆ e   ┆     ┆ 32  ┆     ┆     ┆     ┆     ┆     ┆     ┆ 59  ┆ 12  ┆     ┆     ┆     ┆     ┆ 3   ┆     ┆     ┆     ┆     ┆ 9   ┆     ┆     ┆     ┆ -He ┆     ┆     ┆     ┆     ┆     ┆     ┆     ┆     ┆ 5   ┆     ┆     ┆     ┆     ┆     ┆     ┆     ┆     ┆ ier ┆     ┆     ┆ 4   ┆ fie ┆ 9-0 ┆ 2   ┆     ┆     ┆     ┆     ┆     ┆     ┆     ┆     ┆ 2   ┆ 02  ┆     ┆     ┆     ┆     ┆ 5   ┆ -   ┆     ┆ 1   ┆ 2   ┆ 1/2 ┆     ┆     ┆ Lea ┆ e   ┆ lt  ┆ giu │\n",
       "│     ┆     ┆     ┆     ┆     ┆     ┆     ┆     ┆     ┆     ┆     ┆     ┆     ┆     ┆     ┆     ┆     ┆     ┆     ┆     ┆     ┆     ┆     ┆     ┆     ┆     ┆ cie ┆ 022 ┆     ┆     ┆     ┆     ┆     ┆     ┆     ┆ 7-2 ┆     ┆     ┆     ┆     ┆     ┆     ┆     ┆     ┆     ┆ ver ┆ ver ┆     ┆     ┆     ┆     ┆     ┆     ┆     ┆     ┆     ┆     ┆     ┆     ┆     ┆     ┆     ┆     ┆     ┆     ┆     ┆     ┆     ┆     ┆     ┆     ┆     ┆     ┆     ┆     ┆     ┆     ┆ ver ┆     ┆     ┆     ┆     ┆     ┆     ┆     ┆     ┆     ┆     ┆     ┆     ┆     ┆     ┆     ┆     ┆     ┆ Mer ┆     ┆     ┆     ┆ ld  ┆ 7-2 ┆     ┆     ┆     ┆     ┆     ┆     ┆     ┆     ┆     ┆     ┆     ┆     ┆     ┆     ┆     ┆     ┆ Pro ┆     ┆     ┆     ┆ 022 ┆     ┆     ┆ gue ┆     ┆     ┆ m 1 │\n",
       "│     ┆     ┆     ┆     ┆     ┆     ┆     ┆     ┆     ┆     ┆     ┆     ┆     ┆     ┆     ┆     ┆     ┆     ┆     ┆     ┆     ┆     ┆     ┆     ┆     ┆     ┆ r   ┆     ┆     ┆     ┆     ┆     ┆     ┆     ┆     ┆ 4   ┆     ┆     ┆     ┆     ┆     ┆     ┆     ┆     ┆     ┆ lee ┆ lee ┆     ┆     ┆     ┆     ┆     ┆     ┆     ┆     ┆     ┆     ┆     ┆     ┆     ┆     ┆     ┆     ┆     ┆     ┆     ┆     ┆     ┆     ┆     ┆     ┆     ┆     ┆     ┆     ┆     ┆     ┆ lee ┆     ┆     ┆     ┆     ┆     ┆     ┆     ┆     ┆     ┆     ┆     ┆     ┆     ┆     ┆     ┆     ┆     ┆ cie ┆     ┆     ┆     ┆     ┆ 5   ┆     ┆     ┆     ┆     ┆     ┆     ┆     ┆     ┆     ┆     ┆     ┆     ┆     ┆     ┆     ┆     ┆ Lea ┆     ┆     ┆     ┆     ┆     ┆     ┆     ┆     ┆     ┆     │\n",
       "│     ┆     ┆     ┆     ┆     ┆     ┆     ┆     ┆     ┆     ┆     ┆     ┆     ┆     ┆     ┆     ┆     ┆     ┆     ┆     ┆     ┆     ┆     ┆     ┆     ┆     ┆     ┆     ┆     ┆     ┆     ┆     ┆     ┆     ┆     ┆     ┆     ┆     ┆     ┆     ┆     ┆     ┆     ┆     ┆     ┆ Leu ┆ Leu ┆     ┆     ┆     ┆     ┆     ┆     ┆     ┆     ┆     ┆     ┆     ┆     ┆     ┆     ┆     ┆     ┆     ┆     ┆     ┆     ┆     ┆     ┆     ┆     ┆     ┆     ┆     ┆     ┆     ┆     ┆ Leu ┆     ┆     ┆     ┆     ┆     ┆     ┆     ┆     ┆     ┆     ┆     ┆     ┆     ┆     ┆     ┆     ┆     ┆ r   ┆     ┆     ┆     ┆     ┆     ┆     ┆     ┆     ┆     ┆     ┆     ┆     ┆     ┆     ┆     ┆     ┆     ┆     ┆     ┆     ┆     ┆ gue ┆     ┆     ┆     ┆     ┆     ┆     ┆     ┆     ┆     ┆     │\n",
       "│     ┆     ┆     ┆     ┆     ┆     ┆     ┆     ┆     ┆     ┆     ┆     ┆     ┆     ┆     ┆     ┆     ┆     ┆     ┆     ┆     ┆     ┆     ┆     ┆     ┆     ┆     ┆     ┆     ┆     ┆     ┆     ┆     ┆     ┆     ┆     ┆     ┆     ┆     ┆     ┆     ┆     ┆     ┆     ┆     ┆ ven ┆ ven ┆     ┆     ┆     ┆     ┆     ┆     ┆     ┆     ┆     ┆     ┆     ┆     ┆     ┆     ┆     ┆     ┆     ┆     ┆     ┆     ┆     ┆     ┆     ┆     ┆     ┆     ┆     ┆     ┆     ┆     ┆ ven ┆     ┆     ┆     ┆     ┆     ┆     ┆     ┆     ┆     ┆     ┆     ┆     ┆     ┆     ┆     ┆     ┆     ┆     ┆     ┆     ┆     ┆     ┆     ┆     ┆     ┆     ┆     ┆     ┆     ┆     ┆     ┆     ┆     ┆     ┆     ┆     ┆     ┆     ┆     ┆ -   ┆     ┆     ┆     ┆     ┆     ┆     ┆     ┆     ┆     ┆     │\n",
       "│     ┆     ┆     ┆     ┆     ┆     ┆     ┆     ┆     ┆     ┆     ┆     ┆     ┆     ┆     ┆     ┆     ┆     ┆     ┆     ┆     ┆     ┆     ┆     ┆     ┆     ┆     ┆     ┆     ┆     ┆     ┆     ┆     ┆     ┆     ┆     ┆     ┆     ┆     ┆     ┆     ┆     ┆     ┆     ┆     ┆ v   ┆     ┆     ┆     ┆     ┆     ┆     ┆     ┆     ┆     ┆     ┆     ┆     ┆     ┆     ┆     ┆     ┆     ┆     ┆     ┆     ┆     ┆     ┆     ┆     ┆     ┆     ┆     ┆     ┆     ┆     ┆     ┆     ┆     ┆     ┆     ┆     ┆     ┆     ┆     ┆     ┆     ┆     ┆     ┆     ┆     ┆     ┆     ┆     ┆     ┆     ┆     ┆     ┆     ┆     ┆     ┆     ┆     ┆     ┆     ┆     ┆     ┆     ┆     ┆     ┆     ┆     ┆     ┆     ┆     ┆     ┆     ┆ 202 ┆     ┆     ┆     ┆     ┆     ┆     ┆     ┆     ┆     ┆     │\n",
       "│     ┆     ┆     ┆     ┆     ┆     ┆     ┆     ┆     ┆     ┆     ┆     ┆     ┆     ┆     ┆     ┆     ┆     ┆     ┆     ┆     ┆     ┆     ┆     ┆     ┆     ┆     ┆     ┆     ┆     ┆     ┆     ┆     ┆     ┆     ┆     ┆     ┆     ┆     ┆     ┆     ┆     ┆     ┆     ┆     ┆ SV  ┆     ┆     ┆     ┆     ┆     ┆     ┆     ┆     ┆     ┆     ┆     ┆     ┆     ┆     ┆     ┆     ┆     ┆     ┆     ┆     ┆     ┆     ┆     ┆     ┆     ┆     ┆     ┆     ┆     ┆     ┆     ┆     ┆     ┆     ┆     ┆     ┆     ┆     ┆     ┆     ┆     ┆     ┆     ┆     ┆     ┆     ┆     ┆     ┆     ┆     ┆     ┆     ┆     ┆     ┆     ┆     ┆     ┆     ┆     ┆     ┆     ┆     ┆     ┆     ┆     ┆     ┆     ┆     ┆     ┆     ┆     ┆ 1/2 ┆     ┆     ┆     ┆     ┆     ┆     ┆     ┆     ┆     ┆     │\n",
       "│     ┆     ┆     ┆     ┆     ┆     ┆     ┆     ┆     ┆     ┆     ┆     ┆     ┆     ┆     ┆     ┆     ┆     ┆     ┆     ┆     ┆     ┆     ┆     ┆     ┆     ┆     ┆     ┆     ┆     ┆     ┆     ┆     ┆     ┆     ┆     ┆     ┆     ┆     ┆     ┆     ┆     ┆     ┆     ┆     ┆ Zul ┆     ┆     ┆     ┆     ┆     ┆     ┆     ┆     ┆     ┆     ┆     ┆     ┆     ┆     ┆     ┆     ┆     ┆     ┆     ┆     ┆     ┆     ┆     ┆     ┆     ┆     ┆     ┆     ┆     ┆     ┆     ┆     ┆     ┆     ┆     ┆     ┆     ┆     ┆     ┆     ┆     ┆     ┆     ┆     ┆     ┆     ┆     ┆     ┆     ┆     ┆     ┆     ┆     ┆     ┆     ┆     ┆     ┆     ┆     ┆     ┆     ┆     ┆     ┆     ┆     ┆     ┆     ┆     ┆     ┆     ┆     ┆ 022 ┆     ┆     ┆     ┆     ┆     ┆     ┆     ┆     ┆     ┆     │\n",
       "│     ┆     ┆     ┆     ┆     ┆     ┆     ┆     ┆     ┆     ┆     ┆     ┆     ┆     ┆     ┆     ┆     ┆     ┆     ┆     ┆     ┆     ┆     ┆     ┆     ┆     ┆     ┆     ┆     ┆     ┆     ┆     ┆     ┆     ┆     ┆     ┆     ┆     ┆     ┆     ┆     ┆     ┆     ┆     ┆     ┆ te… ┆     ┆     ┆     ┆     ┆     ┆     ┆     ┆     ┆     ┆     ┆     ┆     ┆     ┆     ┆     ┆     ┆     ┆     ┆     ┆     ┆     ┆     ┆     ┆     ┆     ┆     ┆     ┆     ┆     ┆     ┆     ┆     ┆     ┆     ┆     ┆     ┆     ┆     ┆     ┆     ┆     ┆     ┆     ┆     ┆     ┆     ┆     ┆     ┆     ┆     ┆     ┆     ┆     ┆     ┆     ┆     ┆     ┆     ┆     ┆     ┆     ┆     ┆     ┆     ┆     ┆     ┆     ┆     ┆     ┆     ┆     ┆     ┆     ┆     ┆     ┆     ┆     ┆     ┆     ┆     ┆     ┆     │\n",
       "│ 26  ┆ 13  ┆ 57  ┆ 292 ┆ 0   ┆ 4   ┆ 2   ┆ 24. ┆ 3   ┆ 6.5 ┆ 1   ┆ 714 ┆ 7   ┆ 249 ┆ 4   ┆ 1   ┆ 71. ┆ 421 ┆ 3   ┆ 870 ┆ 8   ┆ 26  ┆ 11  ┆ 167 ┆ 22. ┆ 253 ┆ O.  ┆ 202 ┆ 308 ┆ 25  ┆ 22  ┆ 146 ┆ 105 ┆ 14  ┆ 1   ┆ 202 ┆ 1   ┆ 13. ┆ 5   ┆ 78  ┆ 89  ┆ 34  ┆ 5   ┆ 124 ┆ 8   ┆ Oud ┆ SV  ┆ 2   ┆ 127 ┆ 2   ┆ 228 ┆ 171 ┆ 427 ┆ tru ┆ 64  ┆ 7.9 ┆ 1   ┆ 2   ┆ 26  ┆ 21  ┆ 7   ┆ 82  ┆ 19. ┆ 46. ┆ 724 ┆ 23  ┆ 18  ┆ 1   ┆ 26. ┆ 425 ┆ 33  ┆ 1   ┆ 0   ┆ 938 ┆ 10  ┆ 2   ┆ 16  ┆ SV  ┆ 11  ┆ 13  ┆ 2   ┆ 13  ┆ 297 ┆ 222 ┆ 129 ┆ 1   ┆ 193 ┆ 172 ┆ 18  ┆ 95  ┆ 7   ┆ 8   ┆ 2   ┆ AM  ┆ 1   ┆ Oma ┆ 51  ┆ 39  ┆ 287 ┆ Mid ┆ 199 ┆ 562 ┆ 1   ┆ 18  ┆ 5   ┆ 25  ┆ 7   ┆ 29  ┆ 1   ┆ 17  ┆ 14. ┆ 450 ┆ 527 ┆ 0   ┆ 6   ┆ 36  ┆ 356 ┆ BEL ┆ 8   ┆ 202 ┆ 202 ┆ 202 ┆ 16  ┆ BEL ┆ Pro ┆ mal ┆ adu ┆ Bel │\n",
       "│     ┆     ┆     ┆     ┆     ┆     ┆     ┆ 95  ┆     ┆ 7   ┆     ┆     ┆     ┆     ┆     ┆     ┆ 07  ┆     ┆     ┆ 9   ┆     ┆     ┆     ┆     ┆ 45  ┆     ┆ Gov ┆ 1/2 ┆ 9   ┆     ┆     ┆ 25  ┆     ┆     ┆     ┆ 1-0 ┆     ┆ 2   ┆     ┆     ┆     ┆     ┆     ┆ 1   ┆     ┆ -He ┆ Zul ┆     ┆ 8   ┆     ┆ 9   ┆     ┆     ┆ e   ┆     ┆ 3   ┆     ┆     ┆     ┆     ┆     ┆     ┆ 77  ┆ 12  ┆     ┆     ┆     ┆     ┆ 4   ┆     ┆     ┆     ┆     ┆     ┆     ┆     ┆     ┆ Zul ┆     ┆     ┆     ┆     ┆     ┆     ┆     ┆     ┆ 8   ┆     ┆     ┆     ┆     ┆     ┆     ┆     ┆     ┆ r   ┆     ┆     ┆ 6   ┆ fie ┆ 6-0 ┆ 0   ┆     ┆     ┆     ┆     ┆     ┆     ┆     ┆     ┆ 52  ┆ 02  ┆     ┆     ┆     ┆     ┆ 7   ┆ -   ┆     ┆ 1   ┆ 2   ┆ 1/2 ┆     ┆     ┆ Lea ┆ e   ┆ lt  ┆ giu │\n",
       "│     ┆     ┆     ┆     ┆     ┆     ┆     ┆     ┆     ┆     ┆     ┆     ┆     ┆     ┆     ┆     ┆     ┆     ┆     ┆     ┆     ┆     ┆     ┆     ┆     ┆     ┆ ea  ┆ 022 ┆     ┆     ┆     ┆     ┆     ┆     ┆     ┆ 7-2 ┆     ┆     ┆     ┆     ┆     ┆     ┆     ┆     ┆     ┆ ver ┆ te- ┆     ┆     ┆     ┆     ┆     ┆     ┆     ┆     ┆     ┆     ┆     ┆     ┆     ┆     ┆     ┆     ┆     ┆     ┆     ┆     ┆     ┆     ┆     ┆     ┆     ┆     ┆     ┆     ┆     ┆     ┆ te- ┆     ┆     ┆     ┆     ┆     ┆     ┆     ┆     ┆     ┆     ┆     ┆     ┆     ┆     ┆     ┆     ┆     ┆ Nic ┆     ┆     ┆     ┆ ld  ┆ 1-1 ┆     ┆     ┆     ┆     ┆     ┆     ┆     ┆     ┆     ┆     ┆     ┆     ┆     ┆     ┆     ┆     ┆ Pro ┆     ┆     ┆     ┆ 022 ┆     ┆     ┆ gue ┆     ┆     ┆ m 1 │\n",
       "│     ┆     ┆     ┆     ┆     ┆     ┆     ┆     ┆     ┆     ┆     ┆     ┆     ┆     ┆     ┆     ┆     ┆     ┆     ┆     ┆     ┆     ┆     ┆     ┆     ┆     ┆     ┆     ┆     ┆     ┆     ┆     ┆     ┆     ┆     ┆ 4   ┆     ┆     ┆     ┆     ┆     ┆     ┆     ┆     ┆     ┆ lee ┆ War ┆     ┆     ┆     ┆     ┆     ┆     ┆     ┆     ┆     ┆     ┆     ┆     ┆     ┆     ┆     ┆     ┆     ┆     ┆     ┆     ┆     ┆     ┆     ┆     ┆     ┆     ┆     ┆     ┆     ┆     ┆ War ┆     ┆     ┆     ┆     ┆     ┆     ┆     ┆     ┆     ┆     ┆     ┆     ┆     ┆     ┆     ┆     ┆     ┆ olá ┆     ┆     ┆     ┆     ┆ 8   ┆     ┆     ┆     ┆     ┆     ┆     ┆     ┆     ┆     ┆     ┆     ┆     ┆     ┆     ┆     ┆     ┆ Lea ┆     ┆     ┆     ┆     ┆     ┆     ┆     ┆     ┆     ┆     │\n",
       "│     ┆     ┆     ┆     ┆     ┆     ┆     ┆     ┆     ┆     ┆     ┆     ┆     ┆     ┆     ┆     ┆     ┆     ┆     ┆     ┆     ┆     ┆     ┆     ┆     ┆     ┆     ┆     ┆     ┆     ┆     ┆     ┆     ┆     ┆     ┆     ┆     ┆     ┆     ┆     ┆     ┆     ┆     ┆     ┆     ┆ Leu ┆ ege ┆     ┆     ┆     ┆     ┆     ┆     ┆     ┆     ┆     ┆     ┆     ┆     ┆     ┆     ┆     ┆     ┆     ┆     ┆     ┆     ┆     ┆     ┆     ┆     ┆     ┆     ┆     ┆     ┆     ┆     ┆ ege ┆     ┆     ┆     ┆     ┆     ┆     ┆     ┆     ┆     ┆     ┆     ┆     ┆     ┆     ┆     ┆     ┆     ┆ s   ┆     ┆     ┆     ┆     ┆     ┆     ┆     ┆     ┆     ┆     ┆     ┆     ┆     ┆     ┆     ┆     ┆     ┆     ┆     ┆     ┆     ┆ gue ┆     ┆     ┆     ┆     ┆     ┆     ┆     ┆     ┆     ┆     │\n",
       "│     ┆     ┆     ┆     ┆     ┆     ┆     ┆     ┆     ┆     ┆     ┆     ┆     ┆     ┆     ┆     ┆     ┆     ┆     ┆     ┆     ┆     ┆     ┆     ┆     ┆     ┆     ┆     ┆     ┆     ┆     ┆     ┆     ┆     ┆     ┆     ┆     ┆     ┆     ┆     ┆     ┆     ┆     ┆     ┆     ┆ ven ┆ m   ┆     ┆     ┆     ┆     ┆     ┆     ┆     ┆     ┆     ┆     ┆     ┆     ┆     ┆     ┆     ┆     ┆     ┆     ┆     ┆     ┆     ┆     ┆     ┆     ┆     ┆     ┆     ┆     ┆     ┆     ┆ m   ┆     ┆     ┆     ┆     ┆     ┆     ┆     ┆     ┆     ┆     ┆     ┆     ┆     ┆     ┆     ┆     ┆     ┆ Gov ┆     ┆     ┆     ┆     ┆     ┆     ┆     ┆     ┆     ┆     ┆     ┆     ┆     ┆     ┆     ┆     ┆     ┆     ┆     ┆     ┆     ┆ -   ┆     ┆     ┆     ┆     ┆     ┆     ┆     ┆     ┆     ┆     │\n",
       "│     ┆     ┆     ┆     ┆     ┆     ┆     ┆     ┆     ┆     ┆     ┆     ┆     ┆     ┆     ┆     ┆     ┆     ┆     ┆     ┆     ┆     ┆     ┆     ┆     ┆     ┆     ┆     ┆     ┆     ┆     ┆     ┆     ┆     ┆     ┆     ┆     ┆     ┆     ┆     ┆     ┆     ┆     ┆     ┆     ┆ v   ┆     ┆     ┆     ┆     ┆     ┆     ┆     ┆     ┆     ┆     ┆     ┆     ┆     ┆     ┆     ┆     ┆     ┆     ┆     ┆     ┆     ┆     ┆     ┆     ┆     ┆     ┆     ┆     ┆     ┆     ┆     ┆     ┆     ┆     ┆     ┆     ┆     ┆     ┆     ┆     ┆     ┆     ┆     ┆     ┆     ┆     ┆     ┆     ┆     ┆ ea  ┆     ┆     ┆     ┆     ┆     ┆     ┆     ┆     ┆     ┆     ┆     ┆     ┆     ┆     ┆     ┆     ┆     ┆     ┆     ┆     ┆     ┆ 202 ┆     ┆     ┆     ┆     ┆     ┆     ┆     ┆     ┆     ┆     │\n",
       "│     ┆     ┆     ┆     ┆     ┆     ┆     ┆     ┆     ┆     ┆     ┆     ┆     ┆     ┆     ┆     ┆     ┆     ┆     ┆     ┆     ┆     ┆     ┆     ┆     ┆     ┆     ┆     ┆     ┆     ┆     ┆     ┆     ┆     ┆     ┆     ┆     ┆     ┆     ┆     ┆     ┆     ┆     ┆     ┆     ┆ SV  ┆     ┆     ┆     ┆     ┆     ┆     ┆     ┆     ┆     ┆     ┆     ┆     ┆     ┆     ┆     ┆     ┆     ┆     ┆     ┆     ┆     ┆     ┆     ┆     ┆     ┆     ┆     ┆     ┆     ┆     ┆     ┆     ┆     ┆     ┆     ┆     ┆     ┆     ┆     ┆     ┆     ┆     ┆     ┆     ┆     ┆     ┆     ┆     ┆     ┆ Gar ┆     ┆     ┆     ┆     ┆     ┆     ┆     ┆     ┆     ┆     ┆     ┆     ┆     ┆     ┆     ┆     ┆     ┆     ┆     ┆     ┆     ┆ 1/2 ┆     ┆     ┆     ┆     ┆     ┆     ┆     ┆     ┆     ┆     │\n",
       "│     ┆     ┆     ┆     ┆     ┆     ┆     ┆     ┆     ┆     ┆     ┆     ┆     ┆     ┆     ┆     ┆     ┆     ┆     ┆     ┆     ┆     ┆     ┆     ┆     ┆     ┆     ┆     ┆     ┆     ┆     ┆     ┆     ┆     ┆     ┆     ┆     ┆     ┆     ┆     ┆     ┆     ┆     ┆     ┆     ┆ Zul ┆     ┆     ┆     ┆     ┆     ┆     ┆     ┆     ┆     ┆     ┆     ┆     ┆     ┆     ┆     ┆     ┆     ┆     ┆     ┆     ┆     ┆     ┆     ┆     ┆     ┆     ┆     ┆     ┆     ┆     ┆     ┆     ┆     ┆     ┆     ┆     ┆     ┆     ┆     ┆     ┆     ┆     ┆     ┆     ┆     ┆     ┆     ┆     ┆     ┆ cía ┆     ┆     ┆     ┆     ┆     ┆     ┆     ┆     ┆     ┆     ┆     ┆     ┆     ┆     ┆     ┆     ┆     ┆     ┆     ┆     ┆     ┆ 022 ┆     ┆     ┆     ┆     ┆     ┆     ┆     ┆     ┆     ┆     │\n",
       "│     ┆     ┆     ┆     ┆     ┆     ┆     ┆     ┆     ┆     ┆     ┆     ┆     ┆     ┆     ┆     ┆     ┆     ┆     ┆     ┆     ┆     ┆     ┆     ┆     ┆     ┆     ┆     ┆     ┆     ┆     ┆     ┆     ┆     ┆     ┆     ┆     ┆     ┆     ┆     ┆     ┆     ┆     ┆     ┆     ┆ te… ┆     ┆     ┆     ┆     ┆     ┆     ┆     ┆     ┆     ┆     ┆     ┆     ┆     ┆     ┆     ┆     ┆     ┆     ┆     ┆     ┆     ┆     ┆     ┆     ┆     ┆     ┆     ┆     ┆     ┆     ┆     ┆     ┆     ┆     ┆     ┆     ┆     ┆     ┆     ┆     ┆     ┆     ┆     ┆     ┆     ┆     ┆     ┆     ┆     ┆     ┆     ┆     ┆     ┆     ┆     ┆     ┆     ┆     ┆     ┆     ┆     ┆     ┆     ┆     ┆     ┆     ┆     ┆     ┆     ┆     ┆     ┆     ┆     ┆     ┆     ┆     ┆     ┆     ┆     ┆     ┆     ┆     │\n",
       "│ 132 ┆ 13  ┆ 44  ┆ 284 ┆ 88  ┆ 6   ┆ 3   ┆ 28. ┆ 5   ┆ 8.4 ┆ 1   ┆ 680 ┆ 9   ┆ 249 ┆ 6   ┆ 1   ┆ 74. ┆ 594 ┆ 1   ┆ 897 ┆ 27  ┆ 44  ┆ 5   ┆ 224 ┆ 20. ┆ 301 ┆ S.  ┆ 202 ┆ 356 ┆ 27  ┆ 13  ┆ 983 ┆ 207 ┆ 20  ┆ 0   ┆ 202 ┆ 1   ┆ 14. ┆ 12  ┆ 110 ┆ 114 ┆ 50  ┆ 8   ┆ 123 ┆ 8   ┆ Oud ┆ Oud ┆ 4   ┆ 124 ┆ 2   ┆ 188 ┆ 144 ┆ 327 ┆ tru ┆ 64  ┆ 7.1 ┆ 2   ┆ 1   ┆ 21  ┆ 25  ┆ 11  ┆ 70  ┆ 23. ┆ 46. ┆ 603 ┆ 26  ┆ 21  ┆ 0   ┆ 27. ┆ 536 ┆ 18  ┆ 1   ┆ 0   ┆ 132 ┆ 131 ┆ 0   ┆ 16  ┆ Oud ┆ 15  ┆ 13  ┆ 2   ┆ 25  ┆ 276 ┆ 337 ┆ 310 ┆ 6   ┆ 202 ┆ 235 ┆ 13  ┆ 76  ┆ 9   ┆ 8   ┆ 8   ┆ AM  ┆ 1   ┆ Sie ┆ 193 ┆ 37  ┆ 335 ┆ Mid ┆ 199 ┆ 541 ┆ 0   ┆ 25  ┆ 12  ┆ 26  ┆ 20  ┆ 7   ┆ 3   ┆ 17  ┆ 13. ┆ 450 ┆ 554 ┆ 4   ┆ 9   ┆ 27  ┆ 312 ┆ BEL ┆ 8   ┆ 202 ┆ 202 ┆ 202 ┆ 16  ┆ BEL ┆ Pro ┆ mal ┆ adu ┆ Bel │\n",
       "│     ┆     ┆     ┆     ┆     ┆     ┆     ┆ 03  ┆     ┆ 8   ┆     ┆     ┆     ┆     ┆     ┆     ┆ 15  ┆     ┆     ┆ 6   ┆     ┆     ┆     ┆     ┆ 35  ┆     ┆ Sch ┆ 1/2 ┆ 6   ┆     ┆     ┆ 5   ┆     ┆     ┆     ┆ 1-0 ┆     ┆ 52  ┆     ┆     ┆     ┆     ┆     ┆ 4   ┆     ┆ -He ┆ -He ┆     ┆ 2   ┆     ┆ 3   ┆     ┆     ┆ e   ┆     ┆ 5   ┆     ┆     ┆     ┆     ┆     ┆     ┆ 0   ┆ 12  ┆     ┆     ┆     ┆     ┆ 4   ┆     ┆     ┆     ┆     ┆ 6   ┆     ┆     ┆     ┆ -He ┆     ┆     ┆     ┆     ┆     ┆     ┆     ┆     ┆ 5   ┆     ┆     ┆     ┆     ┆     ┆     ┆     ┆     ┆ be  ┆     ┆     ┆ 1   ┆ fie ┆ 6-0 ┆ 0   ┆     ┆     ┆     ┆     ┆     ┆     ┆     ┆     ┆ 2   ┆ 02  ┆     ┆     ┆     ┆     ┆ 5   ┆ -   ┆     ┆ 1   ┆ 2   ┆ 1/2 ┆     ┆     ┆ Lea ┆ e   ┆ lt  ┆ giu │\n",
       "│     ┆     ┆     ┆     ┆     ┆     ┆     ┆     ┆     ┆     ┆     ┆     ┆     ┆     ┆     ┆     ┆     ┆     ┆     ┆     ┆     ┆     ┆     ┆     ┆     ┆     ┆ rij ┆ 022 ┆     ┆     ┆     ┆     ┆     ┆     ┆     ┆ 7-2 ┆     ┆     ┆     ┆     ┆     ┆     ┆     ┆     ┆     ┆ ver ┆ ver ┆     ┆     ┆     ┆     ┆     ┆     ┆     ┆     ┆     ┆     ┆     ┆     ┆     ┆     ┆     ┆     ┆     ┆     ┆     ┆     ┆     ┆     ┆     ┆     ┆     ┆     ┆     ┆     ┆     ┆     ┆ ver ┆     ┆     ┆     ┆     ┆     ┆     ┆     ┆     ┆     ┆     ┆     ┆     ┆     ┆     ┆     ┆     ┆     ┆ Sch ┆     ┆     ┆     ┆ ld  ┆ 7-1 ┆     ┆     ┆     ┆     ┆     ┆     ┆     ┆     ┆     ┆     ┆     ┆     ┆     ┆     ┆     ┆     ┆ Pro ┆     ┆     ┆     ┆ 022 ┆     ┆     ┆ gue ┆     ┆     ┆ m 1 │\n",
       "│     ┆     ┆     ┆     ┆     ┆     ┆     ┆     ┆     ┆     ┆     ┆     ┆     ┆     ┆     ┆     ┆     ┆     ┆     ┆     ┆     ┆     ┆     ┆     ┆     ┆     ┆ ver ┆     ┆     ┆     ┆     ┆     ┆     ┆     ┆     ┆ 4   ┆     ┆     ┆     ┆     ┆     ┆     ┆     ┆     ┆     ┆ lee ┆ lee ┆     ┆     ┆     ┆     ┆     ┆     ┆     ┆     ┆     ┆     ┆     ┆     ┆     ┆     ┆     ┆     ┆     ┆     ┆     ┆     ┆     ┆     ┆     ┆     ┆     ┆     ┆     ┆     ┆     ┆     ┆ lee ┆     ┆     ┆     ┆     ┆     ┆     ┆     ┆     ┆     ┆     ┆     ┆     ┆     ┆     ┆     ┆     ┆     ┆ rij ┆     ┆     ┆     ┆     ┆ 8   ┆     ┆     ┆     ┆     ┆     ┆     ┆     ┆     ┆     ┆     ┆     ┆     ┆     ┆     ┆     ┆     ┆ Lea ┆     ┆     ┆     ┆     ┆     ┆     ┆     ┆     ┆     ┆     │\n",
       "│     ┆     ┆     ┆     ┆     ┆     ┆     ┆     ┆     ┆     ┆     ┆     ┆     ┆     ┆     ┆     ┆     ┆     ┆     ┆     ┆     ┆     ┆     ┆     ┆     ┆     ┆ s   ┆     ┆     ┆     ┆     ┆     ┆     ┆     ┆     ┆     ┆     ┆     ┆     ┆     ┆     ┆     ┆     ┆     ┆     ┆ Leu ┆ Leu ┆     ┆     ┆     ┆     ┆     ┆     ┆     ┆     ┆     ┆     ┆     ┆     ┆     ┆     ┆     ┆     ┆     ┆     ┆     ┆     ┆     ┆     ┆     ┆     ┆     ┆     ┆     ┆     ┆     ┆     ┆ Leu ┆     ┆     ┆     ┆     ┆     ┆     ┆     ┆     ┆     ┆     ┆     ┆     ┆     ┆     ┆     ┆     ┆     ┆ ver ┆     ┆     ┆     ┆     ┆     ┆     ┆     ┆     ┆     ┆     ┆     ┆     ┆     ┆     ┆     ┆     ┆     ┆     ┆     ┆     ┆     ┆ gue ┆     ┆     ┆     ┆     ┆     ┆     ┆     ┆     ┆     ┆     │\n",
       "│     ┆     ┆     ┆     ┆     ┆     ┆     ┆     ┆     ┆     ┆     ┆     ┆     ┆     ┆     ┆     ┆     ┆     ┆     ┆     ┆     ┆     ┆     ┆     ┆     ┆     ┆     ┆     ┆     ┆     ┆     ┆     ┆     ┆     ┆     ┆     ┆     ┆     ┆     ┆     ┆     ┆     ┆     ┆     ┆     ┆ ven ┆ ven ┆     ┆     ┆     ┆     ┆     ┆     ┆     ┆     ┆     ┆     ┆     ┆     ┆     ┆     ┆     ┆     ┆     ┆     ┆     ┆     ┆     ┆     ┆     ┆     ┆     ┆     ┆     ┆     ┆     ┆     ┆ ven ┆     ┆     ┆     ┆     ┆     ┆     ┆     ┆     ┆     ┆     ┆     ┆     ┆     ┆     ┆     ┆     ┆     ┆ s   ┆     ┆     ┆     ┆     ┆     ┆     ┆     ┆     ┆     ┆     ┆     ┆     ┆     ┆     ┆     ┆     ┆     ┆     ┆     ┆     ┆     ┆ -   ┆     ┆     ┆     ┆     ┆     ┆     ┆     ┆     ┆     ┆     │\n",
       "│     ┆     ┆     ┆     ┆     ┆     ┆     ┆     ┆     ┆     ┆     ┆     ┆     ┆     ┆     ┆     ┆     ┆     ┆     ┆     ┆     ┆     ┆     ┆     ┆     ┆     ┆     ┆     ┆     ┆     ┆     ┆     ┆     ┆     ┆     ┆     ┆     ┆     ┆     ┆     ┆     ┆     ┆     ┆     ┆     ┆ v   ┆     ┆     ┆     ┆     ┆     ┆     ┆     ┆     ┆     ┆     ┆     ┆     ┆     ┆     ┆     ┆     ┆     ┆     ┆     ┆     ┆     ┆     ┆     ┆     ┆     ┆     ┆     ┆     ┆     ┆     ┆     ┆     ┆     ┆     ┆     ┆     ┆     ┆     ┆     ┆     ┆     ┆     ┆     ┆     ┆     ┆     ┆     ┆     ┆     ┆     ┆     ┆     ┆     ┆     ┆     ┆     ┆     ┆     ┆     ┆     ┆     ┆     ┆     ┆     ┆     ┆     ┆     ┆     ┆     ┆     ┆     ┆ 202 ┆     ┆     ┆     ┆     ┆     ┆     ┆     ┆     ┆     ┆     │\n",
       "│     ┆     ┆     ┆     ┆     ┆     ┆     ┆     ┆     ┆     ┆     ┆     ┆     ┆     ┆     ┆     ┆     ┆     ┆     ┆     ┆     ┆     ┆     ┆     ┆     ┆     ┆     ┆     ┆     ┆     ┆     ┆     ┆     ┆     ┆     ┆     ┆     ┆     ┆     ┆     ┆     ┆     ┆     ┆     ┆     ┆ SV  ┆     ┆     ┆     ┆     ┆     ┆     ┆     ┆     ┆     ┆     ┆     ┆     ┆     ┆     ┆     ┆     ┆     ┆     ┆     ┆     ┆     ┆     ┆     ┆     ┆     ┆     ┆     ┆     ┆     ┆     ┆     ┆     ┆     ┆     ┆     ┆     ┆     ┆     ┆     ┆     ┆     ┆     ┆     ┆     ┆     ┆     ┆     ┆     ┆     ┆     ┆     ┆     ┆     ┆     ┆     ┆     ┆     ┆     ┆     ┆     ┆     ┆     ┆     ┆     ┆     ┆     ┆     ┆     ┆     ┆     ┆     ┆ 1/2 ┆     ┆     ┆     ┆     ┆     ┆     ┆     ┆     ┆     ┆     │\n",
       "│     ┆     ┆     ┆     ┆     ┆     ┆     ┆     ┆     ┆     ┆     ┆     ┆     ┆     ┆     ┆     ┆     ┆     ┆     ┆     ┆     ┆     ┆     ┆     ┆     ┆     ┆     ┆     ┆     ┆     ┆     ┆     ┆     ┆     ┆     ┆     ┆     ┆     ┆     ┆     ┆     ┆     ┆     ┆     ┆     ┆ Zul ┆     ┆     ┆     ┆     ┆     ┆     ┆     ┆     ┆     ┆     ┆     ┆     ┆     ┆     ┆     ┆     ┆     ┆     ┆     ┆     ┆     ┆     ┆     ┆     ┆     ┆     ┆     ┆     ┆     ┆     ┆     ┆     ┆     ┆     ┆     ┆     ┆     ┆     ┆     ┆     ┆     ┆     ┆     ┆     ┆     ┆     ┆     ┆     ┆     ┆     ┆     ┆     ┆     ┆     ┆     ┆     ┆     ┆     ┆     ┆     ┆     ┆     ┆     ┆     ┆     ┆     ┆     ┆     ┆     ┆     ┆     ┆ 022 ┆     ┆     ┆     ┆     ┆     ┆     ┆     ┆     ┆     ┆     │\n",
       "│     ┆     ┆     ┆     ┆     ┆     ┆     ┆     ┆     ┆     ┆     ┆     ┆     ┆     ┆     ┆     ┆     ┆     ┆     ┆     ┆     ┆     ┆     ┆     ┆     ┆     ┆     ┆     ┆     ┆     ┆     ┆     ┆     ┆     ┆     ┆     ┆     ┆     ┆     ┆     ┆     ┆     ┆     ┆     ┆     ┆ te… ┆     ┆     ┆     ┆     ┆     ┆     ┆     ┆     ┆     ┆     ┆     ┆     ┆     ┆     ┆     ┆     ┆     ┆     ┆     ┆     ┆     ┆     ┆     ┆     ┆     ┆     ┆     ┆     ┆     ┆     ┆     ┆     ┆     ┆     ┆     ┆     ┆     ┆     ┆     ┆     ┆     ┆     ┆     ┆     ┆     ┆     ┆     ┆     ┆     ┆     ┆     ┆     ┆     ┆     ┆     ┆     ┆     ┆     ┆     ┆     ┆     ┆     ┆     ┆     ┆     ┆     ┆     ┆     ┆     ┆     ┆     ┆     ┆     ┆     ┆     ┆     ┆     ┆     ┆     ┆     ┆     ┆     │\n",
       "│ 36  ┆ 13  ┆ 44  ┆ 253 ┆ 0   ┆ 4   ┆ 1   ┆ 60. ┆ 3   ┆ 19. ┆ 1   ┆ 943 ┆ 6   ┆ 249 ┆ 2   ┆ 0   ┆ 110 ┆ 334 ┆ 2   ┆ 116 ┆ 26  ┆ 36  ┆ 10  ┆ 174 ┆ 28. ┆ 468 ┆ S.  ┆ 202 ┆ 536 ┆ 39  ┆ 13  ┆ 115 ┆ 60  ┆ 17  ┆ 0   ┆ 202 ┆ 0   ┆ 18. ┆ 4   ┆ 62  ┆ 112 ┆ 35  ┆ 19  ┆ 140 ┆ 11  ┆ Clu ┆ KAS ┆ 2   ┆ 139 ┆ 2   ┆ 234 ┆ 140 ┆ 461 ┆ tru ┆ 86  ┆ 12. ┆ 1   ┆ 0   ┆ 29  ┆ 23  ┆ 9   ┆ 85  ┆ 37. ┆ 50. ┆ 603 ┆ 47  ┆ 37  ┆ 1   ┆ 25. ┆ 788 ┆ 23  ┆ 1   ┆ 1   ┆ 225 ┆ 4   ┆ 1   ┆ 16  ┆ KAS ┆ 8   ┆ 18  ┆ 2   ┆ 12  ┆ 142 ┆ 159 ┆ 81  ┆ 1   ┆ 265 ┆ 320 ┆ 18  ┆ 56  ┆ 8   ┆ 8   ┆ 2   ┆ AM  ┆ 1   ┆ Ste ┆ 19  ┆ 47  ┆ 490 ┆ Mid ┆ 199 ┆ 625 ┆ 2   ┆ 17  ┆ 5   ┆ 41  ┆ 4   ┆ 20  ┆ 1   ┆ 21  ┆ 15. ┆ 449 ┆ 462 ┆ 0   ┆ 26  ┆ 24  ┆ 373 ┆ BEL ┆ 8   ┆ 202 ┆ 202 ┆ 202 ┆ 16  ┆ BEL ┆ Pro ┆ mal ┆ adu ┆ Bel │\n",
       "│     ┆     ┆     ┆     ┆     ┆     ┆     ┆ 17  ┆     ┆ 18  ┆     ┆     ┆     ┆     ┆     ┆     ┆ .42 ┆     ┆     ┆ 26  ┆     ┆     ┆     ┆     ┆ 66  ┆     ┆ Pee ┆ 1/2 ┆ 9   ┆     ┆     ┆ 95  ┆     ┆     ┆     ┆ 1-0 ┆     ┆ 05  ┆     ┆     ┆     ┆     ┆     ┆ 5   ┆     ┆ b   ┆ Eup ┆     ┆ 7   ┆     ┆ 0   ┆     ┆     ┆ e   ┆     ┆ 98  ┆     ┆     ┆     ┆     ┆     ┆     ┆ 23  ┆ 25  ┆     ┆     ┆     ┆     ┆ 5   ┆     ┆     ┆     ┆     ┆ 2   ┆     ┆     ┆     ┆ Eup ┆     ┆     ┆     ┆     ┆     ┆     ┆     ┆     ┆ 0   ┆     ┆     ┆     ┆     ┆     ┆     ┆     ┆     ┆ f   ┆     ┆     ┆ 2   ┆ fie ┆ 2-0 ┆ 7   ┆     ┆     ┆     ┆     ┆     ┆     ┆     ┆     ┆ 68  ┆ 98  ┆     ┆     ┆     ┆     ┆ 7   ┆ -   ┆     ┆ 1   ┆ 2   ┆ 1/2 ┆     ┆     ┆ Lea ┆ e   ┆ lt  ┆ giu │\n",
       "│     ┆     ┆     ┆     ┆     ┆     ┆     ┆     ┆     ┆     ┆     ┆     ┆     ┆     ┆     ┆     ┆     ┆     ┆     ┆     ┆     ┆     ┆     ┆     ┆     ┆     ┆ ter ┆ 022 ┆     ┆     ┆     ┆     ┆     ┆     ┆     ┆ 7-2 ┆     ┆     ┆     ┆     ┆     ┆     ┆     ┆     ┆     ┆ Bru ┆ en  ┆     ┆     ┆     ┆     ┆     ┆     ┆     ┆     ┆     ┆     ┆     ┆     ┆     ┆     ┆     ┆     ┆     ┆     ┆     ┆     ┆     ┆     ┆     ┆     ┆     ┆     ┆     ┆     ┆     ┆     ┆ en  ┆     ┆     ┆     ┆     ┆     ┆     ┆     ┆     ┆     ┆     ┆     ┆     ┆     ┆     ┆     ┆     ┆     ┆ Pee ┆     ┆     ┆     ┆ ld  ┆ 2-0 ┆     ┆     ┆     ┆     ┆     ┆     ┆     ┆     ┆     ┆     ┆     ┆     ┆     ┆     ┆     ┆     ┆ Pro ┆     ┆     ┆     ┆ 022 ┆     ┆     ┆ gue ┆     ┆     ┆ m 1 │\n",
       "│     ┆     ┆     ┆     ┆     ┆     ┆     ┆     ┆     ┆     ┆     ┆     ┆     ┆     ┆     ┆     ┆     ┆     ┆     ┆     ┆     ┆     ┆     ┆     ┆     ┆     ┆ s   ┆     ┆     ┆     ┆     ┆     ┆     ┆     ┆     ┆ 5   ┆     ┆     ┆     ┆     ┆     ┆     ┆     ┆     ┆     ┆ gge ┆     ┆     ┆     ┆     ┆     ┆     ┆     ┆     ┆     ┆     ┆     ┆     ┆     ┆     ┆     ┆     ┆     ┆     ┆     ┆     ┆     ┆     ┆     ┆     ┆     ┆     ┆     ┆     ┆     ┆     ┆     ┆     ┆     ┆     ┆     ┆     ┆     ┆     ┆     ┆     ┆     ┆     ┆     ┆     ┆     ┆     ┆     ┆     ┆     ┆ ter ┆     ┆     ┆     ┆     ┆ 9   ┆     ┆     ┆     ┆     ┆     ┆     ┆     ┆     ┆     ┆     ┆     ┆     ┆     ┆     ┆     ┆     ┆ Lea ┆     ┆     ┆     ┆     ┆     ┆     ┆     ┆     ┆     ┆     │\n",
       "│     ┆     ┆     ┆     ┆     ┆     ┆     ┆     ┆     ┆     ┆     ┆     ┆     ┆     ┆     ┆     ┆     ┆     ┆     ┆     ┆     ┆     ┆     ┆     ┆     ┆     ┆     ┆     ┆     ┆     ┆     ┆     ┆     ┆     ┆     ┆     ┆     ┆     ┆     ┆     ┆     ┆     ┆     ┆     ┆     ┆ KV  ┆     ┆     ┆     ┆     ┆     ┆     ┆     ┆     ┆     ┆     ┆     ┆     ┆     ┆     ┆     ┆     ┆     ┆     ┆     ┆     ┆     ┆     ┆     ┆     ┆     ┆     ┆     ┆     ┆     ┆     ┆     ┆     ┆     ┆     ┆     ┆     ┆     ┆     ┆     ┆     ┆     ┆     ┆     ┆     ┆     ┆     ┆     ┆     ┆     ┆ s   ┆     ┆     ┆     ┆     ┆     ┆     ┆     ┆     ┆     ┆     ┆     ┆     ┆     ┆     ┆     ┆     ┆     ┆     ┆     ┆     ┆     ┆ gue ┆     ┆     ┆     ┆     ┆     ┆     ┆     ┆     ┆     ┆     │\n",
       "│     ┆     ┆     ┆     ┆     ┆     ┆     ┆     ┆     ┆     ┆     ┆     ┆     ┆     ┆     ┆     ┆     ┆     ┆     ┆     ┆     ┆     ┆     ┆     ┆     ┆     ┆     ┆     ┆     ┆     ┆     ┆     ┆     ┆     ┆     ┆     ┆     ┆     ┆     ┆     ┆     ┆     ┆     ┆     ┆     ┆ v   ┆     ┆     ┆     ┆     ┆     ┆     ┆     ┆     ┆     ┆     ┆     ┆     ┆     ┆     ┆     ┆     ┆     ┆     ┆     ┆     ┆     ┆     ┆     ┆     ┆     ┆     ┆     ┆     ┆     ┆     ┆     ┆     ┆     ┆     ┆     ┆     ┆     ┆     ┆     ┆     ┆     ┆     ┆     ┆     ┆     ┆     ┆     ┆     ┆     ┆     ┆     ┆     ┆     ┆     ┆     ┆     ┆     ┆     ┆     ┆     ┆     ┆     ┆     ┆     ┆     ┆     ┆     ┆     ┆     ┆     ┆     ┆ -   ┆     ┆     ┆     ┆     ┆     ┆     ┆     ┆     ┆     ┆     │\n",
       "│     ┆     ┆     ┆     ┆     ┆     ┆     ┆     ┆     ┆     ┆     ┆     ┆     ┆     ┆     ┆     ┆     ┆     ┆     ┆     ┆     ┆     ┆     ┆     ┆     ┆     ┆     ┆     ┆     ┆     ┆     ┆     ┆     ┆     ┆     ┆     ┆     ┆     ┆     ┆     ┆     ┆     ┆     ┆     ┆     ┆ KAS ┆     ┆     ┆     ┆     ┆     ┆     ┆     ┆     ┆     ┆     ┆     ┆     ┆     ┆     ┆     ┆     ┆     ┆     ┆     ┆     ┆     ┆     ┆     ┆     ┆     ┆     ┆     ┆     ┆     ┆     ┆     ┆     ┆     ┆     ┆     ┆     ┆     ┆     ┆     ┆     ┆     ┆     ┆     ┆     ┆     ┆     ┆     ┆     ┆     ┆     ┆     ┆     ┆     ┆     ┆     ┆     ┆     ┆     ┆     ┆     ┆     ┆     ┆     ┆     ┆     ┆     ┆     ┆     ┆     ┆     ┆     ┆ 202 ┆     ┆     ┆     ┆     ┆     ┆     ┆     ┆     ┆     ┆     │\n",
       "│     ┆     ┆     ┆     ┆     ┆     ┆     ┆     ┆     ┆     ┆     ┆     ┆     ┆     ┆     ┆     ┆     ┆     ┆     ┆     ┆     ┆     ┆     ┆     ┆     ┆     ┆     ┆     ┆     ┆     ┆     ┆     ┆     ┆     ┆     ┆     ┆     ┆     ┆     ┆     ┆     ┆     ┆     ┆     ┆     ┆ Eup ┆     ┆     ┆     ┆     ┆     ┆     ┆     ┆     ┆     ┆     ┆     ┆     ┆     ┆     ┆     ┆     ┆     ┆     ┆     ┆     ┆     ┆     ┆     ┆     ┆     ┆     ┆     ┆     ┆     ┆     ┆     ┆     ┆     ┆     ┆     ┆     ┆     ┆     ┆     ┆     ┆     ┆     ┆     ┆     ┆     ┆     ┆     ┆     ┆     ┆     ┆     ┆     ┆     ┆     ┆     ┆     ┆     ┆     ┆     ┆     ┆     ┆     ┆     ┆     ┆     ┆     ┆     ┆     ┆     ┆     ┆     ┆ 1/2 ┆     ┆     ┆     ┆     ┆     ┆     ┆     ┆     ┆     ┆     │\n",
       "│     ┆     ┆     ┆     ┆     ┆     ┆     ┆     ┆     ┆     ┆     ┆     ┆     ┆     ┆     ┆     ┆     ┆     ┆     ┆     ┆     ┆     ┆     ┆     ┆     ┆     ┆     ┆     ┆     ┆     ┆     ┆     ┆     ┆     ┆     ┆     ┆     ┆     ┆     ┆     ┆     ┆     ┆     ┆     ┆     ┆ en  ┆     ┆     ┆     ┆     ┆     ┆     ┆     ┆     ┆     ┆     ┆     ┆     ┆     ┆     ┆     ┆     ┆     ┆     ┆     ┆     ┆     ┆     ┆     ┆     ┆     ┆     ┆     ┆     ┆     ┆     ┆     ┆     ┆     ┆     ┆     ┆     ┆     ┆     ┆     ┆     ┆     ┆     ┆     ┆     ┆     ┆     ┆     ┆     ┆     ┆     ┆     ┆     ┆     ┆     ┆     ┆     ┆     ┆     ┆     ┆     ┆     ┆     ┆     ┆     ┆     ┆     ┆     ┆     ┆     ┆     ┆     ┆ 022 ┆     ┆     ┆     ┆     ┆     ┆     ┆     ┆     ┆     ┆     │\n",
       "└─────┴─────┴─────┴─────┴─────┴─────┴─────┴─────┴─────┴─────┴─────┴─────┴─────┴─────┴─────┴─────┴─────┴─────┴─────┴─────┴─────┴─────┴─────┴─────┴─────┴─────┴─────┴─────┴─────┴─────┴─────┴─────┴─────┴─────┴─────┴─────┴─────┴─────┴─────┴─────┴─────┴─────┴─────┴─────┴─────┴─────┴─────┴─────┴─────┴─────┴─────┴─────┴─────┴─────┴─────┴─────┴─────┴─────┴─────┴─────┴─────┴─────┴─────┴─────┴─────┴─────┴─────┴─────┴─────┴─────┴─────┴─────┴─────┴─────┴─────┴─────┴─────┴─────┴─────┴─────┴─────┴─────┴─────┴─────┴─────┴─────┴─────┴─────┴─────┴─────┴─────┴─────┴─────┴─────┴─────┴─────┴─────┴─────┴─────┴─────┴─────┴─────┴─────┴─────┴─────┴─────┴─────┴─────┴─────┴─────┴─────┴─────┴─────┴─────┴─────┴─────┴─────┴─────┴─────┴─────┴─────┴─────┴─────┴─────┴─────┴─────┴─────┴─────┘"
      ]
     },
     "execution_count": 42,
     "metadata": {},
     "output_type": "execute_result"
    }
   ],
   "source": [
    "final_df.head()"
   ]
  },
  {
   "cell_type": "code",
   "execution_count": 43,
   "metadata": {},
   "outputs": [],
   "source": [
    "final_df = final_df.select(sorted(final_df.columns))"
   ]
  },
  {
   "cell_type": "code",
   "execution_count": 44,
   "metadata": {},
   "outputs": [],
   "source": [
    "# path to csv to write the dataframe to\n",
    "csv_path = './data_summary.csv'"
   ]
  },
  {
   "cell_type": "code",
   "execution_count": 45,
   "metadata": {},
   "outputs": [],
   "source": [
    "# writing  the dataframe to a csv\n",
    "final_df.write_csv(csv_path)"
   ]
  },
  {
   "cell_type": "code",
   "execution_count": null,
   "metadata": {},
   "outputs": [],
   "source": [
    "# extra columns taken to the next step\n",
    "# competition_region_division\n"
   ]
  }
 ],
 "metadata": {
  "kernelspec": {
   "display_name": "usr",
   "language": "python",
   "name": "python3"
  },
  "language_info": {
   "codemirror_mode": {
    "name": "ipython",
    "version": 3
   },
   "file_extension": ".py",
   "mimetype": "text/x-python",
   "name": "python",
   "nbconvert_exporter": "python",
   "pygments_lexer": "ipython3",
   "version": "3.12.7"
  }
 },
 "nbformat": 4,
 "nbformat_minor": 2
}
