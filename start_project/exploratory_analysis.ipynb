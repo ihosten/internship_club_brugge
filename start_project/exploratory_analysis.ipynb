{
 "cells": [
  {
   "cell_type": "code",
   "execution_count": 1,
   "metadata": {},
   "outputs": [],
   "source": [
    "import polars as pl\n",
    "import seaborn as sns\n",
    "import matplotlib.pyplot as plt\n",
    "import numpy as np\n",
    "import json\n",
    "from io import StringIO\n",
    "import pygwalker as pyg\n",
    "import os"
   ]
  },
  {
   "cell_type": "markdown",
   "metadata": {},
   "source": [
    "reading competition editions json"
   ]
  },
  {
   "cell_type": "code",
   "execution_count": 2,
   "metadata": {},
   "outputs": [
    {
     "data": {
      "text/html": [
       "<div><style>\n",
       ".dataframe > thead > tr,\n",
       ".dataframe > tbody > tr {\n",
       "  text-align: right;\n",
       "  white-space: pre-wrap;\n",
       "}\n",
       "</style>\n",
       "<small>shape: (1, 4)</small><table border=\"1\" class=\"dataframe\"><thead><tr><th>count</th><th>next</th><th>previous</th><th>results</th></tr><tr><td>i64</td><td>null</td><td>null</td><td>list[struct[4]]</td></tr></thead><tbody><tr><td>938</td><td>null</td><td>null</td><td>[{0,{0,&quot;FIFA&quot;,&quot;World Cup&quot;,&quot;male&quot;,&quot;adult&quot;},{10,2014,2014,&quot;2014&quot;},&quot;FIFA - World Cup - 2014&quot;}, {1,{1,&quot;ENG&quot;,&quot;Premier League&quot;,&quot;male&quot;,&quot;adult&quot;},{2,2015,2016,&quot;2015/2016&quot;},&quot;ENG - Premier League - 2015/2016&quot;}, … {1129,{221,&quot;INT&quot;,&quot;Pinatar National Team Friendlies&quot;,&quot;male&quot;,&quot;U21&quot;},{128,2025,2025,&quot;2025&quot;},&quot;INT - Pinatar National Team Friendlies - 2025&quot;}]</td></tr></tbody></table></div>"
      ],
      "text/plain": [
       "shape: (1, 4)\n",
       "┌───────┬──────┬──────────┬─────────────────────────────────┐\n",
       "│ count ┆ next ┆ previous ┆ results                         │\n",
       "│ ---   ┆ ---  ┆ ---      ┆ ---                             │\n",
       "│ i64   ┆ null ┆ null     ┆ list[struct[4]]                 │\n",
       "╞═══════╪══════╪══════════╪═════════════════════════════════╡\n",
       "│ 938   ┆ null ┆ null     ┆ [{0,{0,\"FIFA\",\"World Cup\",\"mal… │\n",
       "└───────┴──────┴──────────┴─────────────────────────────────┘"
      ]
     },
     "execution_count": 2,
     "metadata": {},
     "output_type": "execute_result"
    }
   ],
   "source": [
    "ce_json_path = './skillcorner-competition-editions.json'\n",
    "ce_df1 = pl.read_json(ce_json_path)\n",
    "ce_df1.head(1)\n",
    "#ce_df.columns"
   ]
  },
  {
   "cell_type": "code",
   "execution_count": 3,
   "metadata": {},
   "outputs": [
    {
     "data": {
      "text/html": [
       "<div><style>\n",
       ".dataframe > thead > tr,\n",
       ".dataframe > tbody > tr {\n",
       "  text-align: right;\n",
       "  white-space: pre-wrap;\n",
       "}\n",
       "</style>\n",
       "<small>shape: (1, 4)</small><table border=\"1\" class=\"dataframe\"><thead><tr><th>id</th><th>competition</th><th>season</th><th>name</th></tr><tr><td>i64</td><td>struct[5]</td><td>struct[4]</td><td>str</td></tr></thead><tbody><tr><td>0</td><td>{0,&quot;FIFA&quot;,&quot;World Cup&quot;,&quot;male&quot;,&quot;adult&quot;}</td><td>{10,2014,2014,&quot;2014&quot;}</td><td>&quot;FIFA - World Cup - 2014&quot;</td></tr></tbody></table></div>"
      ],
      "text/plain": [
       "shape: (1, 4)\n",
       "┌─────┬─────────────────────────────────┬───────────────────────┬─────────────────────────┐\n",
       "│ id  ┆ competition                     ┆ season                ┆ name                    │\n",
       "│ --- ┆ ---                             ┆ ---                   ┆ ---                     │\n",
       "│ i64 ┆ struct[5]                       ┆ struct[4]             ┆ str                     │\n",
       "╞═════╪═════════════════════════════════╪═══════════════════════╪═════════════════════════╡\n",
       "│ 0   ┆ {0,\"FIFA\",\"World Cup\",\"male\",\"… ┆ {10,2014,2014,\"2014\"} ┆ FIFA - World Cup - 2014 │\n",
       "└─────┴─────────────────────────────────┴───────────────────────┴─────────────────────────┘"
      ]
     },
     "execution_count": 3,
     "metadata": {},
     "output_type": "execute_result"
    }
   ],
   "source": [
    "#ce_df2 = ce_df1.explode('results')\n",
    "ce_df2 = ce_df1.select('results').explode('results')\n",
    "ce_df2 = ce_df2.unnest('results')\n",
    "ce_df2.head(1)"
   ]
  },
  {
   "cell_type": "code",
   "execution_count": null,
   "metadata": {},
   "outputs": [],
   "source": []
  },
  {
   "cell_type": "code",
   "execution_count": 4,
   "metadata": {},
   "outputs": [
    {
     "data": {
      "text/html": [
       "<div><style>\n",
       ".dataframe > thead > tr,\n",
       ".dataframe > tbody > tr {\n",
       "  text-align: right;\n",
       "  white-space: pre-wrap;\n",
       "}\n",
       "</style>\n",
       "<small>shape: (1, 2)</small><table border=\"1\" class=\"dataframe\"><thead><tr><th>name</th><th>id</th></tr><tr><td>str</td><td>i64</td></tr></thead><tbody><tr><td>&quot;FIFA - World Cup - 2014&quot;</td><td>0</td></tr></tbody></table></div>"
      ],
      "text/plain": [
       "shape: (1, 2)\n",
       "┌─────────────────────────┬─────┐\n",
       "│ name                    ┆ id  │\n",
       "│ ---                     ┆ --- │\n",
       "│ str                     ┆ i64 │\n",
       "╞═════════════════════════╪═════╡\n",
       "│ FIFA - World Cup - 2014 ┆ 0   │\n",
       "└─────────────────────────┴─────┘"
      ]
     },
     "execution_count": 4,
     "metadata": {},
     "output_type": "execute_result"
    }
   ],
   "source": [
    "ce_name_id = ce_df2.select([\n",
    "    pl.col('name'),\n",
    "    pl.col('id'),\n",
    "    ]\n",
    ")\n",
    "ce_name_id.head(1)"
   ]
  },
  {
   "cell_type": "code",
   "execution_count": 5,
   "metadata": {},
   "outputs": [
    {
     "data": {
      "text/html": [
       "<div><style>\n",
       ".dataframe > thead > tr,\n",
       ".dataframe > tbody > tr {\n",
       "  text-align: right;\n",
       "  white-space: pre-wrap;\n",
       "}\n",
       "</style>\n",
       "<small>shape: (1, 5)</small><table border=\"1\" class=\"dataframe\"><thead><tr><th>competition_id</th><th>competition_area</th><th>competition_name</th><th>competition_gender</th><th>competition_age_group</th></tr><tr><td>i64</td><td>str</td><td>str</td><td>str</td><td>str</td></tr></thead><tbody><tr><td>0</td><td>&quot;FIFA&quot;</td><td>&quot;World Cup&quot;</td><td>&quot;male&quot;</td><td>&quot;adult&quot;</td></tr></tbody></table></div>"
      ],
      "text/plain": [
       "shape: (1, 5)\n",
       "┌────────────────┬──────────────────┬──────────────────┬────────────────────┬──────────────────────┐\n",
       "│ competition_id ┆ competition_area ┆ competition_name ┆ competition_gender ┆ competition_age_grou │\n",
       "│ ---            ┆ ---              ┆ ---              ┆ ---                ┆ p                    │\n",
       "│ i64            ┆ str              ┆ str              ┆ str                ┆ ---                  │\n",
       "│                ┆                  ┆                  ┆                    ┆ str                  │\n",
       "╞════════════════╪══════════════════╪══════════════════╪════════════════════╪══════════════════════╡\n",
       "│ 0              ┆ FIFA             ┆ World Cup        ┆ male               ┆ adult                │\n",
       "└────────────────┴──────────────────┴──────────────────┴────────────────────┴──────────────────────┘"
      ]
     },
     "execution_count": 5,
     "metadata": {},
     "output_type": "execute_result"
    }
   ],
   "source": [
    "ce_competition = ce_df2.select('competition').unnest('competition')\n",
    "ce_competition = ce_competition.rename({col: f\"competition_{col}\" for col in ce_competition.columns})\n",
    "ce_competition.head(1)"
   ]
  },
  {
   "cell_type": "code",
   "execution_count": 6,
   "metadata": {},
   "outputs": [
    {
     "data": {
      "text/html": [
       "<div><style>\n",
       ".dataframe > thead > tr,\n",
       ".dataframe > tbody > tr {\n",
       "  text-align: right;\n",
       "  white-space: pre-wrap;\n",
       "}\n",
       "</style>\n",
       "<small>shape: (1, 4)</small><table border=\"1\" class=\"dataframe\"><thead><tr><th>season_id</th><th>season_start_year</th><th>season_end_year</th><th>season_name</th></tr><tr><td>i64</td><td>i64</td><td>i64</td><td>str</td></tr></thead><tbody><tr><td>10</td><td>2014</td><td>2014</td><td>&quot;2014&quot;</td></tr></tbody></table></div>"
      ],
      "text/plain": [
       "shape: (1, 4)\n",
       "┌───────────┬───────────────────┬─────────────────┬─────────────┐\n",
       "│ season_id ┆ season_start_year ┆ season_end_year ┆ season_name │\n",
       "│ ---       ┆ ---               ┆ ---             ┆ ---         │\n",
       "│ i64       ┆ i64               ┆ i64             ┆ str         │\n",
       "╞═══════════╪═══════════════════╪═════════════════╪═════════════╡\n",
       "│ 10        ┆ 2014              ┆ 2014            ┆ 2014        │\n",
       "└───────────┴───────────────────┴─────────────────┴─────────────┘"
      ]
     },
     "execution_count": 6,
     "metadata": {},
     "output_type": "execute_result"
    }
   ],
   "source": [
    "ce_season = ce_df2.select('season').unnest('season')\n",
    "ce_season = ce_season.rename({col: f\"season_{col}\" for col in ce_season.columns})\n",
    "ce_season.head(1)"
   ]
  },
  {
   "cell_type": "code",
   "execution_count": 7,
   "metadata": {},
   "outputs": [
    {
     "data": {
      "text/html": [
       "<div><style>\n",
       ".dataframe > thead > tr,\n",
       ".dataframe > tbody > tr {\n",
       "  text-align: right;\n",
       "  white-space: pre-wrap;\n",
       "}\n",
       "</style>\n",
       "<small>shape: (10, 11)</small><table border=\"1\" class=\"dataframe\"><thead><tr><th>name</th><th>id</th><th>season_id</th><th>season_start_year</th><th>season_end_year</th><th>season_name</th><th>competition_id</th><th>competition_area</th><th>competition_name</th><th>competition_gender</th><th>competition_age_group</th></tr><tr><td>str</td><td>i64</td><td>i64</td><td>i64</td><td>i64</td><td>str</td><td>i64</td><td>str</td><td>str</td><td>str</td><td>str</td></tr></thead><tbody><tr><td>&quot;FIFA - World Cup - 2014&quot;</td><td>0</td><td>10</td><td>2014</td><td>2014</td><td>&quot;2014&quot;</td><td>0</td><td>&quot;FIFA&quot;</td><td>&quot;World Cup&quot;</td><td>&quot;male&quot;</td><td>&quot;adult&quot;</td></tr><tr><td>&quot;ENG - Premier League - 2015/20…</td><td>1</td><td>2</td><td>2015</td><td>2016</td><td>&quot;2015/2016&quot;</td><td>1</td><td>&quot;ENG&quot;</td><td>&quot;Premier League&quot;</td><td>&quot;male&quot;</td><td>&quot;adult&quot;</td></tr><tr><td>&quot;UEFA - European Championship -…</td><td>2</td><td>12</td><td>2016</td><td>2016</td><td>&quot;2016&quot;</td><td>2</td><td>&quot;UEFA&quot;</td><td>&quot;European Championship&quot;</td><td>&quot;male&quot;</td><td>&quot;adult&quot;</td></tr><tr><td>&quot;ENG - Premier League - 2016/20…</td><td>3</td><td>3</td><td>2016</td><td>2017</td><td>&quot;2016/2017&quot;</td><td>1</td><td>&quot;ENG&quot;</td><td>&quot;Premier League&quot;</td><td>&quot;male&quot;</td><td>&quot;adult&quot;</td></tr><tr><td>&quot;ENG - Premier League - 2017/20…</td><td>4</td><td>4</td><td>2017</td><td>2018</td><td>&quot;2017/2018&quot;</td><td>1</td><td>&quot;ENG&quot;</td><td>&quot;Premier League&quot;</td><td>&quot;male&quot;</td><td>&quot;adult&quot;</td></tr><tr><td>&quot;FRA - Ligue 1 - 2016/2017&quot;</td><td>5</td><td>3</td><td>2016</td><td>2017</td><td>&quot;2016/2017&quot;</td><td>3</td><td>&quot;FRA&quot;</td><td>&quot;Ligue 1&quot;</td><td>&quot;male&quot;</td><td>&quot;adult&quot;</td></tr><tr><td>&quot;FRA - Ligue 1 - 2017/2018&quot;</td><td>6</td><td>4</td><td>2017</td><td>2018</td><td>&quot;2017/2018&quot;</td><td>3</td><td>&quot;FRA&quot;</td><td>&quot;Ligue 1&quot;</td><td>&quot;male&quot;</td><td>&quot;adult&quot;</td></tr><tr><td>&quot;ESP - LaLiga - 2016/2017&quot;</td><td>7</td><td>3</td><td>2016</td><td>2017</td><td>&quot;2016/2017&quot;</td><td>4</td><td>&quot;ESP&quot;</td><td>&quot;LaLiga&quot;</td><td>&quot;male&quot;</td><td>&quot;adult&quot;</td></tr><tr><td>&quot;ESP - LaLiga - 2017/2018&quot;</td><td>8</td><td>4</td><td>2017</td><td>2018</td><td>&quot;2017/2018&quot;</td><td>4</td><td>&quot;ESP&quot;</td><td>&quot;LaLiga&quot;</td><td>&quot;male&quot;</td><td>&quot;adult&quot;</td></tr><tr><td>&quot;ITA - Serie A - 2016/2017&quot;</td><td>9</td><td>3</td><td>2016</td><td>2017</td><td>&quot;2016/2017&quot;</td><td>5</td><td>&quot;ITA&quot;</td><td>&quot;Serie A&quot;</td><td>&quot;male&quot;</td><td>&quot;adult&quot;</td></tr></tbody></table></div>"
      ],
      "text/plain": [
       "shape: (10, 11)\n",
       "┌────────────┬─────┬───────────┬────────────┬───┬────────────┬────────────┬────────────┬───────────┐\n",
       "│ name       ┆ id  ┆ season_id ┆ season_sta ┆ … ┆ competitio ┆ competitio ┆ competitio ┆ competiti │\n",
       "│ ---        ┆ --- ┆ ---       ┆ rt_year    ┆   ┆ n_area     ┆ n_name     ┆ n_gender   ┆ on_age_gr │\n",
       "│ str        ┆ i64 ┆ i64       ┆ ---        ┆   ┆ ---        ┆ ---        ┆ ---        ┆ oup       │\n",
       "│            ┆     ┆           ┆ i64        ┆   ┆ str        ┆ str        ┆ str        ┆ ---       │\n",
       "│            ┆     ┆           ┆            ┆   ┆            ┆            ┆            ┆ str       │\n",
       "╞════════════╪═════╪═══════════╪════════════╪═══╪════════════╪════════════╪════════════╪═══════════╡\n",
       "│ FIFA -     ┆ 0   ┆ 10        ┆ 2014       ┆ … ┆ FIFA       ┆ World Cup  ┆ male       ┆ adult     │\n",
       "│ World Cup  ┆     ┆           ┆            ┆   ┆            ┆            ┆            ┆           │\n",
       "│ - 2014     ┆     ┆           ┆            ┆   ┆            ┆            ┆            ┆           │\n",
       "│ ENG -      ┆ 1   ┆ 2         ┆ 2015       ┆ … ┆ ENG        ┆ Premier    ┆ male       ┆ adult     │\n",
       "│ Premier    ┆     ┆           ┆            ┆   ┆            ┆ League     ┆            ┆           │\n",
       "│ League -   ┆     ┆           ┆            ┆   ┆            ┆            ┆            ┆           │\n",
       "│ 2015/20…   ┆     ┆           ┆            ┆   ┆            ┆            ┆            ┆           │\n",
       "│ UEFA -     ┆ 2   ┆ 12        ┆ 2016       ┆ … ┆ UEFA       ┆ European   ┆ male       ┆ adult     │\n",
       "│ European   ┆     ┆           ┆            ┆   ┆            ┆ Championsh ┆            ┆           │\n",
       "│ Championsh ┆     ┆           ┆            ┆   ┆            ┆ ip         ┆            ┆           │\n",
       "│ ip -…      ┆     ┆           ┆            ┆   ┆            ┆            ┆            ┆           │\n",
       "│ ENG -      ┆ 3   ┆ 3         ┆ 2016       ┆ … ┆ ENG        ┆ Premier    ┆ male       ┆ adult     │\n",
       "│ Premier    ┆     ┆           ┆            ┆   ┆            ┆ League     ┆            ┆           │\n",
       "│ League -   ┆     ┆           ┆            ┆   ┆            ┆            ┆            ┆           │\n",
       "│ 2016/20…   ┆     ┆           ┆            ┆   ┆            ┆            ┆            ┆           │\n",
       "│ ENG -      ┆ 4   ┆ 4         ┆ 2017       ┆ … ┆ ENG        ┆ Premier    ┆ male       ┆ adult     │\n",
       "│ Premier    ┆     ┆           ┆            ┆   ┆            ┆ League     ┆            ┆           │\n",
       "│ League -   ┆     ┆           ┆            ┆   ┆            ┆            ┆            ┆           │\n",
       "│ 2017/20…   ┆     ┆           ┆            ┆   ┆            ┆            ┆            ┆           │\n",
       "│ FRA -      ┆ 5   ┆ 3         ┆ 2016       ┆ … ┆ FRA        ┆ Ligue 1    ┆ male       ┆ adult     │\n",
       "│ Ligue 1 -  ┆     ┆           ┆            ┆   ┆            ┆            ┆            ┆           │\n",
       "│ 2016/2017  ┆     ┆           ┆            ┆   ┆            ┆            ┆            ┆           │\n",
       "│ FRA -      ┆ 6   ┆ 4         ┆ 2017       ┆ … ┆ FRA        ┆ Ligue 1    ┆ male       ┆ adult     │\n",
       "│ Ligue 1 -  ┆     ┆           ┆            ┆   ┆            ┆            ┆            ┆           │\n",
       "│ 2017/2018  ┆     ┆           ┆            ┆   ┆            ┆            ┆            ┆           │\n",
       "│ ESP -      ┆ 7   ┆ 3         ┆ 2016       ┆ … ┆ ESP        ┆ LaLiga     ┆ male       ┆ adult     │\n",
       "│ LaLiga -   ┆     ┆           ┆            ┆   ┆            ┆            ┆            ┆           │\n",
       "│ 2016/2017  ┆     ┆           ┆            ┆   ┆            ┆            ┆            ┆           │\n",
       "│ ESP -      ┆ 8   ┆ 4         ┆ 2017       ┆ … ┆ ESP        ┆ LaLiga     ┆ male       ┆ adult     │\n",
       "│ LaLiga -   ┆     ┆           ┆            ┆   ┆            ┆            ┆            ┆           │\n",
       "│ 2017/2018  ┆     ┆           ┆            ┆   ┆            ┆            ┆            ┆           │\n",
       "│ ITA -      ┆ 9   ┆ 3         ┆ 2016       ┆ … ┆ ITA        ┆ Serie A    ┆ male       ┆ adult     │\n",
       "│ Serie A -  ┆     ┆           ┆            ┆   ┆            ┆            ┆            ┆           │\n",
       "│ 2016/2017  ┆     ┆           ┆            ┆   ┆            ┆            ┆            ┆           │\n",
       "└────────────┴─────┴───────────┴────────────┴───┴────────────┴────────────┴────────────┴───────────┘"
      ]
     },
     "execution_count": 7,
     "metadata": {},
     "output_type": "execute_result"
    }
   ],
   "source": [
    "ce = pl.concat([\n",
    "    ce_name_id,\n",
    "    ce_season,\n",
    "    ce_competition\n",
    "],\n",
    "how = \"horizontal\",)\n",
    "ce.head(10)"
   ]
  },
  {
   "cell_type": "markdown",
   "metadata": {},
   "source": [
    "reading json player file- test on 1 file\n"
   ]
  },
  {
   "cell_type": "code",
   "execution_count": 8,
   "metadata": {},
   "outputs": [],
   "source": [
    "position_json_testpath = './skillcorner-20250214/metrics-ce249-rAM.json'\n",
    "\n",
    "position_test_df = pl.read_json(position_json_testpath)"
   ]
  },
  {
   "cell_type": "code",
   "execution_count": 9,
   "metadata": {},
   "outputs": [
    {
     "data": {
      "text/plain": [
       "['Count Medium Acceleration TIP 1',\n",
       " 'match_name',\n",
       " 'Sprinting Distance 1',\n",
       " 'HSR Distance TIP 1',\n",
       " 'Distance OTIP',\n",
       " 'Minutes TIP 2',\n",
       " 'Running Distance',\n",
       " 'match_id',\n",
       " 'Count Sprint 1',\n",
       " 'Count Medium Acceleration TIP 2',\n",
       " 'Distance TIP 2',\n",
       " 'Count Medium Acceleration OTIP 1',\n",
       " 'Count High Deceleration',\n",
       " 'Running Distance TIP 1',\n",
       " 'Sprinting Distance 2',\n",
       " 'HSR Distance OTIP',\n",
       " 'Minutes 1',\n",
       " 'Minutes OTIP 1',\n",
       " 'Count HSR 1',\n",
       " 'Count High Acceleration OTIP 1',\n",
       " 'Count HSR 2',\n",
       " 'Running Distance 2',\n",
       " 'team_name',\n",
       " 'position',\n",
       " 'Count High Acceleration TIP 2',\n",
       " 'Minutes OTIP 2',\n",
       " 'Count High Deceleration TIP 1',\n",
       " 'team_id',\n",
       " 'Count Sprint TIP 2',\n",
       " 'Count Medium Deceleration TIP',\n",
       " 'Minutes',\n",
       " 'short_name',\n",
       " 'competition_id',\n",
       " 'Sprinting Distance',\n",
       " 'Count Medium Deceleration 1',\n",
       " 'Count Medium Acceleration',\n",
       " 'Count High Deceleration OTIP 2',\n",
       " 'Minutes 2',\n",
       " 'player_birthdate',\n",
       " 'Count High Acceleration TIP',\n",
       " 'Running Distance OTIP',\n",
       " 'date',\n",
       " 'HSR Distance 2',\n",
       " 'Count Medium Acceleration OTIP',\n",
       " 'Sprinting Distance TIP 1',\n",
       " 'Distance OTIP 1',\n",
       " 'Count Medium Deceleration OTIP',\n",
       " 'Count Medium Deceleration TIP 2',\n",
       " 'Count Medium Acceleration 1',\n",
       " 'Count HSR TIP 1',\n",
       " 'Count Medium Acceleration 2',\n",
       " 'season_id',\n",
       " 'Sprinting Distance TIP',\n",
       " 'Count Sprint 2',\n",
       " 'HSR Distance 1',\n",
       " 'Count High Deceleration TIP',\n",
       " 'Count Medium Deceleration',\n",
       " 'Minutes TIP 1',\n",
       " 'Count Sprint OTIP',\n",
       " 'team',\n",
       " 'HSR Distance OTIP 2',\n",
       " 'Count Sprint',\n",
       " 'Count High Acceleration TIP 1',\n",
       " 'quality_check',\n",
       " 'Count Medium Acceleration OTIP 2',\n",
       " 'Sprinting Distance OTIP',\n",
       " 'Distance TIP 1',\n",
       " 'Minutes OTIP',\n",
       " 'group',\n",
       " 'Count High Acceleration OTIP',\n",
       " 'season_name',\n",
       " 'Count High Acceleration 2',\n",
       " 'Count HSR',\n",
       " 'Count Medium Deceleration 2',\n",
       " 'Count HSR TIP 2',\n",
       " 'Count Medium Deceleration TIP 1',\n",
       " 'Count Sprint TIP 1',\n",
       " 'Minutes TIP',\n",
       " 'Count Sprint OTIP 1',\n",
       " 'Running Distance TIP',\n",
       " 'Sprinting Distance TIP 2',\n",
       " 'Running Distance OTIP 1',\n",
       " 'competition_edition_id',\n",
       " 'Distance',\n",
       " 'Count HSR OTIP 1',\n",
       " 'Distance 2',\n",
       " 'player_name',\n",
       " 'Count Sprint TIP',\n",
       " 'HSR Distance',\n",
       " 'Count High Acceleration 1',\n",
       " 'Count High Deceleration 2',\n",
       " 'Count HSR OTIP',\n",
       " 'PSV-99',\n",
       " 'Count High Deceleration 1',\n",
       " 'Sprinting Distance OTIP 1',\n",
       " 'HSR Distance TIP',\n",
       " 'Count Sprint OTIP 2',\n",
       " 'Count HSR OTIP 2',\n",
       " 'Count High Deceleration OTIP',\n",
       " 'HSR Distance TIP 2',\n",
       " 'Count Medium Deceleration OTIP 1',\n",
       " 'Count Medium Deceleration OTIP 2',\n",
       " 'Running Distance 1',\n",
       " 'Running Distance OTIP 2',\n",
       " 'Distance 1',\n",
       " 'HSR Distance OTIP 1',\n",
       " 'Sprinting Distance OTIP 2',\n",
       " 'Distance OTIP 2',\n",
       " 'Count Medium Acceleration TIP',\n",
       " 'Count HSR TIP',\n",
       " 'Count High Acceleration OTIP 2',\n",
       " 'Count High Acceleration',\n",
       " 'Count High Deceleration OTIP 1',\n",
       " 'player_id',\n",
       " 'Distance TIP',\n",
       " 'Running Distance TIP 2',\n",
       " 'Count High Deceleration TIP 2']"
      ]
     },
     "execution_count": 9,
     "metadata": {},
     "output_type": "execute_result"
    }
   ],
   "source": [
    "position_test_df.columns\n",
    "#position_test_df.head(10)"
   ]
  },
  {
   "cell_type": "code",
   "execution_count": 10,
   "metadata": {},
   "outputs": [],
   "source": [
    "#define the path to the entire directory\n",
    "json_dir_path = './skillcorner-20250214/'"
   ]
  },
  {
   "cell_type": "markdown",
   "metadata": {},
   "source": [
    "### Look at correlations between parameters\n",
    "Looking at the correlations across all competitions across all positions to see if we can leave out certain parameters"
   ]
  },
  {
   "cell_type": "code",
   "execution_count": 11,
   "metadata": {},
   "outputs": [],
   "source": [
    "json_list = os.listdir(json_dir_path)\n",
    "#json_list"
   ]
  },
  {
   "cell_type": "code",
   "execution_count": 12,
   "metadata": {},
   "outputs": [
    {
     "data": {
      "text/plain": [
       "'dfs = []\\nfor jsonf in json_list:\\n    json_path = f\"{json_dir_path}{jsonf}\"\\n    dfs.append(pl.read_json(json_path))\\n\\ncorr_df = pl.concat(dfs, how=\"align_full\")'"
      ]
     },
     "execution_count": 12,
     "metadata": {},
     "output_type": "execute_result"
    }
   ],
   "source": [
    "\"\"\"dfs = []\n",
    "for jsonf in json_list:\n",
    "    json_path = f\"{json_dir_path}{jsonf}\"\n",
    "    dfs.append(pl.read_json(json_path))\n",
    "\n",
    "corr_df = pl.concat(dfs, how=\"align_full\")\"\"\""
   ]
  },
  {
   "cell_type": "code",
   "execution_count": 15,
   "metadata": {},
   "outputs": [
    {
     "ename": "KeyboardInterrupt",
     "evalue": "",
     "output_type": "error",
     "traceback": [
      "\u001b[0;31m---------------------------------------------------------------------------\u001b[0m",
      "\u001b[0;31mKeyboardInterrupt\u001b[0m                         Traceback (most recent call last)",
      "Cell \u001b[0;32mIn[15], line 24\u001b[0m\n\u001b[1;32m     22\u001b[0m         corr_df \u001b[38;5;241m=\u001b[39m json_df\n\u001b[1;32m     23\u001b[0m     \u001b[38;5;28;01melse\u001b[39;00m:\n\u001b[0;32m---> 24\u001b[0m         corr_df \u001b[38;5;241m=\u001b[39m \u001b[43mpl\u001b[49m\u001b[38;5;241;43m.\u001b[39;49m\u001b[43mconcat\u001b[49m\u001b[43m(\u001b[49m\u001b[43m[\u001b[49m\u001b[43mcorr_df\u001b[49m\u001b[43m,\u001b[49m\u001b[43m \u001b[49m\u001b[43mjson_df\u001b[49m\u001b[43m]\u001b[49m\u001b[43m,\u001b[49m\u001b[43m \u001b[49m\u001b[43mhow\u001b[49m\u001b[38;5;241;43m=\u001b[39;49m\u001b[38;5;124;43m\"\u001b[39;49m\u001b[38;5;124;43malign_full\u001b[39;49m\u001b[38;5;124;43m\"\u001b[39;49m\u001b[43m)\u001b[49m\n\u001b[1;32m     27\u001b[0m corr_df\u001b[38;5;241m.\u001b[39mshape\n\u001b[1;32m     28\u001b[0m \u001b[38;5;66;03m#corr_df.head(2)\u001b[39;00m\n",
      "File \u001b[0;32m/usr/local/lib64/python3.12/site-packages/polars/functions/eager.py:222\u001b[0m, in \u001b[0;36mconcat\u001b[0;34m(items, how, rechunk, parallel)\u001b[0m\n\u001b[1;32m    205\u001b[0m     lf: LazyFrame \u001b[38;5;241m=\u001b[39m (\n\u001b[1;32m    206\u001b[0m         reduce(\n\u001b[1;32m    207\u001b[0m             \u001b[38;5;28;01mlambda\u001b[39;00m x, y: (\n\u001b[0;32m   (...)\u001b[0m\n\u001b[1;32m    219\u001b[0m         \u001b[38;5;241m.\u001b[39mselect(\u001b[38;5;241m*\u001b[39moutput_column_order)\n\u001b[1;32m    220\u001b[0m     )\n\u001b[1;32m    221\u001b[0m     eager \u001b[38;5;241m=\u001b[39m \u001b[38;5;28misinstance\u001b[39m(elems[\u001b[38;5;241m0\u001b[39m], pl\u001b[38;5;241m.\u001b[39mDataFrame)\n\u001b[0;32m--> 222\u001b[0m     \u001b[38;5;28;01mreturn\u001b[39;00m \u001b[43mlf\u001b[49m\u001b[38;5;241;43m.\u001b[39;49m\u001b[43mcollect\u001b[49m\u001b[43m(\u001b[49m\u001b[43m)\u001b[49m \u001b[38;5;28;01mif\u001b[39;00m eager \u001b[38;5;28;01melse\u001b[39;00m lf  \u001b[38;5;66;03m# type: ignore[return-value]\u001b[39;00m\n\u001b[1;32m    224\u001b[0m out: Series \u001b[38;5;241m|\u001b[39m DataFrame \u001b[38;5;241m|\u001b[39m LazyFrame \u001b[38;5;241m|\u001b[39m Expr\n\u001b[1;32m    225\u001b[0m first \u001b[38;5;241m=\u001b[39m elems[\u001b[38;5;241m0\u001b[39m]\n",
      "File \u001b[0;32m/usr/local/lib64/python3.12/site-packages/polars/_utils/deprecation.py:93\u001b[0m, in \u001b[0;36mdeprecate_streaming_parameter.<locals>.decorate.<locals>.wrapper\u001b[0;34m(*args, **kwargs)\u001b[0m\n\u001b[1;32m     89\u001b[0m         kwargs[\u001b[38;5;124m\"\u001b[39m\u001b[38;5;124mengine\u001b[39m\u001b[38;5;124m\"\u001b[39m] \u001b[38;5;241m=\u001b[39m \u001b[38;5;124m\"\u001b[39m\u001b[38;5;124min-memory\u001b[39m\u001b[38;5;124m\"\u001b[39m\n\u001b[1;32m     91\u001b[0m     \u001b[38;5;28;01mdel\u001b[39;00m kwargs[\u001b[38;5;124m\"\u001b[39m\u001b[38;5;124mstreaming\u001b[39m\u001b[38;5;124m\"\u001b[39m]\n\u001b[0;32m---> 93\u001b[0m \u001b[38;5;28;01mreturn\u001b[39;00m \u001b[43mfunction\u001b[49m\u001b[43m(\u001b[49m\u001b[38;5;241;43m*\u001b[39;49m\u001b[43margs\u001b[49m\u001b[43m,\u001b[49m\u001b[43m \u001b[49m\u001b[38;5;241;43m*\u001b[39;49m\u001b[38;5;241;43m*\u001b[39;49m\u001b[43mkwargs\u001b[49m\u001b[43m)\u001b[49m\n",
      "File \u001b[0;32m/usr/local/lib64/python3.12/site-packages/polars/lazyframe/frame.py:2188\u001b[0m, in \u001b[0;36mLazyFrame.collect\u001b[0;34m(self, type_coercion, _type_check, predicate_pushdown, projection_pushdown, simplify_expression, slice_pushdown, comm_subplan_elim, comm_subexpr_elim, cluster_with_columns, collapse_joins, no_optimization, engine, background, _check_order, _eager, **_kwargs)\u001b[0m\n\u001b[1;32m   2186\u001b[0m \u001b[38;5;66;03m# Only for testing purposes\u001b[39;00m\n\u001b[1;32m   2187\u001b[0m callback \u001b[38;5;241m=\u001b[39m _kwargs\u001b[38;5;241m.\u001b[39mget(\u001b[38;5;124m\"\u001b[39m\u001b[38;5;124mpost_opt_callback\u001b[39m\u001b[38;5;124m\"\u001b[39m, callback)\n\u001b[0;32m-> 2188\u001b[0m \u001b[38;5;28;01mreturn\u001b[39;00m wrap_df(\u001b[43mldf\u001b[49m\u001b[38;5;241;43m.\u001b[39;49m\u001b[43mcollect\u001b[49m\u001b[43m(\u001b[49m\u001b[43mengine\u001b[49m\u001b[43m,\u001b[49m\u001b[43m \u001b[49m\u001b[43mcallback\u001b[49m\u001b[43m)\u001b[49m)\n",
      "\u001b[0;31mKeyboardInterrupt\u001b[0m: "
     ]
    }
   ],
   "source": [
    "#loop through the json files and concat them into one big df\n",
    "\n",
    "# creating an empty data frame to concat the json dataframes to\n",
    "corr_df = pl.DataFrame()\n",
    "\n",
    "#initializing a counter for code testing \n",
    "counter = 0 \n",
    "for jsonf in json_list:\n",
    "\n",
    "    counter += 1\n",
    "    #if counter > 1:\n",
    "    #    break\n",
    "\n",
    "    json_path = f\"{json_dir_path}{jsonf}\"\n",
    "    #print(json_path)\n",
    "\n",
    "    #creating df of the current json file \n",
    "    json_df = pl.read_json(json_path)\n",
    "    #print(json_df.head())\n",
    "\n",
    "    if counter == 1:\n",
    "        corr_df = json_df\n",
    "    else:\n",
    "        corr_df = pl.concat([corr_df, json_df], how=\"align_full\")\n",
    "\n",
    "\n",
    "corr_df.shape\n",
    "#corr_df.head(2)\n",
    "\n",
    "output_path = \"json_output.csv\"\n",
    "corr_df.write_csv(output_path)"
   ]
  },
  {
   "cell_type": "code",
   "execution_count": null,
   "metadata": {},
   "outputs": [],
   "source": [
    "corr_df.to_numpy()"
   ]
  },
  {
   "cell_type": "code",
   "execution_count": 10,
   "metadata": {},
   "outputs": [
    {
     "data": {
      "application/vnd.jupyter.widget-view+json": {
       "model_id": "d5b54b8269464f039a95203fe7e24280",
       "version_major": 2,
       "version_minor": 0
      },
      "text/plain": [
       "Box(children=(HTML(value='\\n<div id=\"ifr-pyg-0006324367bf2c7fVw7Zdze1N3WBjGS2\" style=\"height: auto\">\\n    <hea…"
      ]
     },
     "metadata": {},
     "output_type": "display_data"
    },
    {
     "data": {
      "text/html": [
       "<script>\n",
       "    window.addEventListener(\"message\", function(event) {\n",
       "        const backgroundMap = {\n",
       "            \"dark\": \"hsl(240 10% 3.9%)\",\n",
       "            \"light\": \"hsl(0 0 100%)\",\n",
       "        };\n",
       "        const colorMap = {\n",
       "            \"dark\": \"hsl(0 0% 98%)\",\n",
       "            \"light\": \"hsl(240 10% 3.9%)\",\n",
       "        };\n",
       "        if (event.data.action === \"changeAppearance\" && event.data.gid === \"0006324367bf2c7fVw7Zdze1N3WBjGS2\") {\n",
       "            var iframe = document.getElementById(\"gwalker-0006324367bf2c7fVw7Zdze1N3WBjGS2\");\n",
       "            iframe.style.background  = backgroundMap[event.data.appearance];\n",
       "            iframe.style.color = colorMap[event.data.appearance];\n",
       "        }\n",
       "    });\n",
       "</script>"
      ],
      "text/plain": [
       "<IPython.core.display.HTML object>"
      ]
     },
     "metadata": {},
     "output_type": "display_data"
    },
    {
     "data": {
      "text/html": [],
      "text/plain": [
       "<IPython.core.display.HTML object>"
      ]
     },
     "metadata": {},
     "output_type": "display_data"
    },
    {
     "data": {
      "text/plain": [
       "<pygwalker.api.pygwalker.PygWalker at 0x7f72f88ea360>"
      ]
     },
     "execution_count": 10,
     "metadata": {},
     "output_type": "execute_result"
    },
    {
     "name": "stderr",
     "output_type": "stream",
     "text": [
      "ERROR: kanaries_api_key is not valid.\n",
      "Please set kanaries_api_key first.\n",
      "If you are not kanaries user, please register it from 'https://kanaries.net/home/access' \n",
      "Then refer 'https://github.com/Kanaries/pygwalker/wiki/How-to-get-api-key-of-kanaries%3F' to set kanaries_api_key. \n",
      "\n"
     ]
    }
   ],
   "source": [
    "pyg.walk(position_test_df)"
   ]
  }
 ],
 "metadata": {
  "kernelspec": {
   "display_name": "usr",
   "language": "python",
   "name": "python3"
  },
  "language_info": {
   "codemirror_mode": {
    "name": "ipython",
    "version": 3
   },
   "file_extension": ".py",
   "mimetype": "text/x-python",
   "name": "python",
   "nbconvert_exporter": "python",
   "pygments_lexer": "ipython3",
   "version": "3.12.7"
  }
 },
 "nbformat": 4,
 "nbformat_minor": 2
}
