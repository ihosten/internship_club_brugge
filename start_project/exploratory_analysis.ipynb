{
 "cells": [
  {
   "cell_type": "code",
   "execution_count": 4,
   "metadata": {},
   "outputs": [],
   "source": [
    "import polars as pl\n",
    "import seaborn as sns\n",
    "import matplotlib.pyplot as plt\n",
    "import numpy as np\n",
    "import json\n",
    "from io import StringIO\n",
    "import pygwalker as pyg\n",
    "import os\n",
    "from tqdm import tqdm"
   ]
  },
  {
   "cell_type": "markdown",
   "metadata": {},
   "source": [
    "reading competition editions json"
   ]
  },
  {
   "cell_type": "code",
   "execution_count": 5,
   "metadata": {},
   "outputs": [
    {
     "data": {
      "text/html": [
       "<div><style>\n",
       ".dataframe > thead > tr,\n",
       ".dataframe > tbody > tr {\n",
       "  text-align: right;\n",
       "  white-space: pre-wrap;\n",
       "}\n",
       "</style>\n",
       "<small>shape: (1, 4)</small><table border=\"1\" class=\"dataframe\"><thead><tr><th>count</th><th>next</th><th>previous</th><th>results</th></tr><tr><td>i64</td><td>null</td><td>null</td><td>list[struct[4]]</td></tr></thead><tbody><tr><td>938</td><td>null</td><td>null</td><td>[{0,{0,&quot;FIFA&quot;,&quot;World Cup&quot;,&quot;male&quot;,&quot;adult&quot;},{10,2014,2014,&quot;2014&quot;},&quot;FIFA - World Cup - 2014&quot;}, {1,{1,&quot;ENG&quot;,&quot;Premier League&quot;,&quot;male&quot;,&quot;adult&quot;},{2,2015,2016,&quot;2015/2016&quot;},&quot;ENG - Premier League - 2015/2016&quot;}, … {1129,{221,&quot;INT&quot;,&quot;Pinatar National Team Friendlies&quot;,&quot;male&quot;,&quot;U21&quot;},{128,2025,2025,&quot;2025&quot;},&quot;INT - Pinatar National Team Friendlies - 2025&quot;}]</td></tr></tbody></table></div>"
      ],
      "text/plain": [
       "shape: (1, 4)\n",
       "┌───────┬──────┬──────────┬─────────────────────────────────┐\n",
       "│ count ┆ next ┆ previous ┆ results                         │\n",
       "│ ---   ┆ ---  ┆ ---      ┆ ---                             │\n",
       "│ i64   ┆ null ┆ null     ┆ list[struct[4]]                 │\n",
       "╞═══════╪══════╪══════════╪═════════════════════════════════╡\n",
       "│ 938   ┆ null ┆ null     ┆ [{0,{0,\"FIFA\",\"World Cup\",\"mal… │\n",
       "└───────┴──────┴──────────┴─────────────────────────────────┘"
      ]
     },
     "execution_count": 5,
     "metadata": {},
     "output_type": "execute_result"
    }
   ],
   "source": [
    "ce_json_path = './skillcorner-competition-editions.json'\n",
    "ce_df1 = pl.read_json(ce_json_path)\n",
    "ce_df1.head(1)\n",
    "#ce_df.columns"
   ]
  },
  {
   "cell_type": "code",
   "execution_count": 6,
   "metadata": {},
   "outputs": [
    {
     "data": {
      "text/html": [
       "<div><style>\n",
       ".dataframe > thead > tr,\n",
       ".dataframe > tbody > tr {\n",
       "  text-align: right;\n",
       "  white-space: pre-wrap;\n",
       "}\n",
       "</style>\n",
       "<small>shape: (1, 4)</small><table border=\"1\" class=\"dataframe\"><thead><tr><th>id</th><th>competition</th><th>season</th><th>name</th></tr><tr><td>i64</td><td>struct[5]</td><td>struct[4]</td><td>str</td></tr></thead><tbody><tr><td>0</td><td>{0,&quot;FIFA&quot;,&quot;World Cup&quot;,&quot;male&quot;,&quot;adult&quot;}</td><td>{10,2014,2014,&quot;2014&quot;}</td><td>&quot;FIFA - World Cup - 2014&quot;</td></tr></tbody></table></div>"
      ],
      "text/plain": [
       "shape: (1, 4)\n",
       "┌─────┬─────────────────────────────────┬───────────────────────┬─────────────────────────┐\n",
       "│ id  ┆ competition                     ┆ season                ┆ name                    │\n",
       "│ --- ┆ ---                             ┆ ---                   ┆ ---                     │\n",
       "│ i64 ┆ struct[5]                       ┆ struct[4]             ┆ str                     │\n",
       "╞═════╪═════════════════════════════════╪═══════════════════════╪═════════════════════════╡\n",
       "│ 0   ┆ {0,\"FIFA\",\"World Cup\",\"male\",\"… ┆ {10,2014,2014,\"2014\"} ┆ FIFA - World Cup - 2014 │\n",
       "└─────┴─────────────────────────────────┴───────────────────────┴─────────────────────────┘"
      ]
     },
     "execution_count": 6,
     "metadata": {},
     "output_type": "execute_result"
    }
   ],
   "source": [
    "#ce_df2 = ce_df1.explode('results')\n",
    "ce_df2 = ce_df1.select('results').explode('results')\n",
    "ce_df2 = ce_df2.unnest('results')\n",
    "ce_df2.head(1)"
   ]
  },
  {
   "cell_type": "code",
   "execution_count": null,
   "metadata": {},
   "outputs": [],
   "source": []
  },
  {
   "cell_type": "code",
   "execution_count": 7,
   "metadata": {},
   "outputs": [
    {
     "data": {
      "text/html": [
       "<div><style>\n",
       ".dataframe > thead > tr,\n",
       ".dataframe > tbody > tr {\n",
       "  text-align: right;\n",
       "  white-space: pre-wrap;\n",
       "}\n",
       "</style>\n",
       "<small>shape: (1, 2)</small><table border=\"1\" class=\"dataframe\"><thead><tr><th>name</th><th>id</th></tr><tr><td>str</td><td>i64</td></tr></thead><tbody><tr><td>&quot;FIFA - World Cup - 2014&quot;</td><td>0</td></tr></tbody></table></div>"
      ],
      "text/plain": [
       "shape: (1, 2)\n",
       "┌─────────────────────────┬─────┐\n",
       "│ name                    ┆ id  │\n",
       "│ ---                     ┆ --- │\n",
       "│ str                     ┆ i64 │\n",
       "╞═════════════════════════╪═════╡\n",
       "│ FIFA - World Cup - 2014 ┆ 0   │\n",
       "└─────────────────────────┴─────┘"
      ]
     },
     "execution_count": 7,
     "metadata": {},
     "output_type": "execute_result"
    }
   ],
   "source": [
    "ce_name_id = ce_df2.select([\n",
    "    pl.col('name'),\n",
    "    pl.col('id'),\n",
    "    ]\n",
    ")\n",
    "ce_name_id.head(1)"
   ]
  },
  {
   "cell_type": "code",
   "execution_count": 8,
   "metadata": {},
   "outputs": [
    {
     "data": {
      "text/html": [
       "<div><style>\n",
       ".dataframe > thead > tr,\n",
       ".dataframe > tbody > tr {\n",
       "  text-align: right;\n",
       "  white-space: pre-wrap;\n",
       "}\n",
       "</style>\n",
       "<small>shape: (1, 5)</small><table border=\"1\" class=\"dataframe\"><thead><tr><th>competition_id</th><th>competition_area</th><th>competition_name</th><th>competition_gender</th><th>competition_age_group</th></tr><tr><td>i64</td><td>str</td><td>str</td><td>str</td><td>str</td></tr></thead><tbody><tr><td>0</td><td>&quot;FIFA&quot;</td><td>&quot;World Cup&quot;</td><td>&quot;male&quot;</td><td>&quot;adult&quot;</td></tr></tbody></table></div>"
      ],
      "text/plain": [
       "shape: (1, 5)\n",
       "┌────────────────┬──────────────────┬──────────────────┬────────────────────┬──────────────────────┐\n",
       "│ competition_id ┆ competition_area ┆ competition_name ┆ competition_gender ┆ competition_age_grou │\n",
       "│ ---            ┆ ---              ┆ ---              ┆ ---                ┆ p                    │\n",
       "│ i64            ┆ str              ┆ str              ┆ str                ┆ ---                  │\n",
       "│                ┆                  ┆                  ┆                    ┆ str                  │\n",
       "╞════════════════╪══════════════════╪══════════════════╪════════════════════╪══════════════════════╡\n",
       "│ 0              ┆ FIFA             ┆ World Cup        ┆ male               ┆ adult                │\n",
       "└────────────────┴──────────────────┴──────────────────┴────────────────────┴──────────────────────┘"
      ]
     },
     "execution_count": 8,
     "metadata": {},
     "output_type": "execute_result"
    }
   ],
   "source": [
    "ce_competition = ce_df2.select('competition').unnest('competition')\n",
    "ce_competition = ce_competition.rename({col: f\"competition_{col}\" for col in ce_competition.columns})\n",
    "ce_competition.head(1)"
   ]
  },
  {
   "cell_type": "code",
   "execution_count": 9,
   "metadata": {},
   "outputs": [
    {
     "data": {
      "text/html": [
       "<div><style>\n",
       ".dataframe > thead > tr,\n",
       ".dataframe > tbody > tr {\n",
       "  text-align: right;\n",
       "  white-space: pre-wrap;\n",
       "}\n",
       "</style>\n",
       "<small>shape: (1, 4)</small><table border=\"1\" class=\"dataframe\"><thead><tr><th>season_id</th><th>season_start_year</th><th>season_end_year</th><th>season_name</th></tr><tr><td>i64</td><td>i64</td><td>i64</td><td>str</td></tr></thead><tbody><tr><td>10</td><td>2014</td><td>2014</td><td>&quot;2014&quot;</td></tr></tbody></table></div>"
      ],
      "text/plain": [
       "shape: (1, 4)\n",
       "┌───────────┬───────────────────┬─────────────────┬─────────────┐\n",
       "│ season_id ┆ season_start_year ┆ season_end_year ┆ season_name │\n",
       "│ ---       ┆ ---               ┆ ---             ┆ ---         │\n",
       "│ i64       ┆ i64               ┆ i64             ┆ str         │\n",
       "╞═══════════╪═══════════════════╪═════════════════╪═════════════╡\n",
       "│ 10        ┆ 2014              ┆ 2014            ┆ 2014        │\n",
       "└───────────┴───────────────────┴─────────────────┴─────────────┘"
      ]
     },
     "execution_count": 9,
     "metadata": {},
     "output_type": "execute_result"
    }
   ],
   "source": [
    "ce_season = ce_df2.select('season').unnest('season')\n",
    "ce_season = ce_season.rename({col: f\"season_{col}\" for col in ce_season.columns})\n",
    "ce_season.head(1)"
   ]
  },
  {
   "cell_type": "code",
   "execution_count": 10,
   "metadata": {},
   "outputs": [
    {
     "data": {
      "text/html": [
       "<div><style>\n",
       ".dataframe > thead > tr,\n",
       ".dataframe > tbody > tr {\n",
       "  text-align: right;\n",
       "  white-space: pre-wrap;\n",
       "}\n",
       "</style>\n",
       "<small>shape: (10, 11)</small><table border=\"1\" class=\"dataframe\"><thead><tr><th>name</th><th>id</th><th>season_id</th><th>season_start_year</th><th>season_end_year</th><th>season_name</th><th>competition_id</th><th>competition_area</th><th>competition_name</th><th>competition_gender</th><th>competition_age_group</th></tr><tr><td>str</td><td>i64</td><td>i64</td><td>i64</td><td>i64</td><td>str</td><td>i64</td><td>str</td><td>str</td><td>str</td><td>str</td></tr></thead><tbody><tr><td>&quot;FIFA - World Cup - 2014&quot;</td><td>0</td><td>10</td><td>2014</td><td>2014</td><td>&quot;2014&quot;</td><td>0</td><td>&quot;FIFA&quot;</td><td>&quot;World Cup&quot;</td><td>&quot;male&quot;</td><td>&quot;adult&quot;</td></tr><tr><td>&quot;ENG - Premier League - 2015/20…</td><td>1</td><td>2</td><td>2015</td><td>2016</td><td>&quot;2015/2016&quot;</td><td>1</td><td>&quot;ENG&quot;</td><td>&quot;Premier League&quot;</td><td>&quot;male&quot;</td><td>&quot;adult&quot;</td></tr><tr><td>&quot;UEFA - European Championship -…</td><td>2</td><td>12</td><td>2016</td><td>2016</td><td>&quot;2016&quot;</td><td>2</td><td>&quot;UEFA&quot;</td><td>&quot;European Championship&quot;</td><td>&quot;male&quot;</td><td>&quot;adult&quot;</td></tr><tr><td>&quot;ENG - Premier League - 2016/20…</td><td>3</td><td>3</td><td>2016</td><td>2017</td><td>&quot;2016/2017&quot;</td><td>1</td><td>&quot;ENG&quot;</td><td>&quot;Premier League&quot;</td><td>&quot;male&quot;</td><td>&quot;adult&quot;</td></tr><tr><td>&quot;ENG - Premier League - 2017/20…</td><td>4</td><td>4</td><td>2017</td><td>2018</td><td>&quot;2017/2018&quot;</td><td>1</td><td>&quot;ENG&quot;</td><td>&quot;Premier League&quot;</td><td>&quot;male&quot;</td><td>&quot;adult&quot;</td></tr><tr><td>&quot;FRA - Ligue 1 - 2016/2017&quot;</td><td>5</td><td>3</td><td>2016</td><td>2017</td><td>&quot;2016/2017&quot;</td><td>3</td><td>&quot;FRA&quot;</td><td>&quot;Ligue 1&quot;</td><td>&quot;male&quot;</td><td>&quot;adult&quot;</td></tr><tr><td>&quot;FRA - Ligue 1 - 2017/2018&quot;</td><td>6</td><td>4</td><td>2017</td><td>2018</td><td>&quot;2017/2018&quot;</td><td>3</td><td>&quot;FRA&quot;</td><td>&quot;Ligue 1&quot;</td><td>&quot;male&quot;</td><td>&quot;adult&quot;</td></tr><tr><td>&quot;ESP - LaLiga - 2016/2017&quot;</td><td>7</td><td>3</td><td>2016</td><td>2017</td><td>&quot;2016/2017&quot;</td><td>4</td><td>&quot;ESP&quot;</td><td>&quot;LaLiga&quot;</td><td>&quot;male&quot;</td><td>&quot;adult&quot;</td></tr><tr><td>&quot;ESP - LaLiga - 2017/2018&quot;</td><td>8</td><td>4</td><td>2017</td><td>2018</td><td>&quot;2017/2018&quot;</td><td>4</td><td>&quot;ESP&quot;</td><td>&quot;LaLiga&quot;</td><td>&quot;male&quot;</td><td>&quot;adult&quot;</td></tr><tr><td>&quot;ITA - Serie A - 2016/2017&quot;</td><td>9</td><td>3</td><td>2016</td><td>2017</td><td>&quot;2016/2017&quot;</td><td>5</td><td>&quot;ITA&quot;</td><td>&quot;Serie A&quot;</td><td>&quot;male&quot;</td><td>&quot;adult&quot;</td></tr></tbody></table></div>"
      ],
      "text/plain": [
       "shape: (10, 11)\n",
       "┌────────────┬─────┬───────────┬────────────┬───┬────────────┬────────────┬────────────┬───────────┐\n",
       "│ name       ┆ id  ┆ season_id ┆ season_sta ┆ … ┆ competitio ┆ competitio ┆ competitio ┆ competiti │\n",
       "│ ---        ┆ --- ┆ ---       ┆ rt_year    ┆   ┆ n_area     ┆ n_name     ┆ n_gender   ┆ on_age_gr │\n",
       "│ str        ┆ i64 ┆ i64       ┆ ---        ┆   ┆ ---        ┆ ---        ┆ ---        ┆ oup       │\n",
       "│            ┆     ┆           ┆ i64        ┆   ┆ str        ┆ str        ┆ str        ┆ ---       │\n",
       "│            ┆     ┆           ┆            ┆   ┆            ┆            ┆            ┆ str       │\n",
       "╞════════════╪═════╪═══════════╪════════════╪═══╪════════════╪════════════╪════════════╪═══════════╡\n",
       "│ FIFA -     ┆ 0   ┆ 10        ┆ 2014       ┆ … ┆ FIFA       ┆ World Cup  ┆ male       ┆ adult     │\n",
       "│ World Cup  ┆     ┆           ┆            ┆   ┆            ┆            ┆            ┆           │\n",
       "│ - 2014     ┆     ┆           ┆            ┆   ┆            ┆            ┆            ┆           │\n",
       "│ ENG -      ┆ 1   ┆ 2         ┆ 2015       ┆ … ┆ ENG        ┆ Premier    ┆ male       ┆ adult     │\n",
       "│ Premier    ┆     ┆           ┆            ┆   ┆            ┆ League     ┆            ┆           │\n",
       "│ League -   ┆     ┆           ┆            ┆   ┆            ┆            ┆            ┆           │\n",
       "│ 2015/20…   ┆     ┆           ┆            ┆   ┆            ┆            ┆            ┆           │\n",
       "│ UEFA -     ┆ 2   ┆ 12        ┆ 2016       ┆ … ┆ UEFA       ┆ European   ┆ male       ┆ adult     │\n",
       "│ European   ┆     ┆           ┆            ┆   ┆            ┆ Championsh ┆            ┆           │\n",
       "│ Championsh ┆     ┆           ┆            ┆   ┆            ┆ ip         ┆            ┆           │\n",
       "│ ip -…      ┆     ┆           ┆            ┆   ┆            ┆            ┆            ┆           │\n",
       "│ ENG -      ┆ 3   ┆ 3         ┆ 2016       ┆ … ┆ ENG        ┆ Premier    ┆ male       ┆ adult     │\n",
       "│ Premier    ┆     ┆           ┆            ┆   ┆            ┆ League     ┆            ┆           │\n",
       "│ League -   ┆     ┆           ┆            ┆   ┆            ┆            ┆            ┆           │\n",
       "│ 2016/20…   ┆     ┆           ┆            ┆   ┆            ┆            ┆            ┆           │\n",
       "│ ENG -      ┆ 4   ┆ 4         ┆ 2017       ┆ … ┆ ENG        ┆ Premier    ┆ male       ┆ adult     │\n",
       "│ Premier    ┆     ┆           ┆            ┆   ┆            ┆ League     ┆            ┆           │\n",
       "│ League -   ┆     ┆           ┆            ┆   ┆            ┆            ┆            ┆           │\n",
       "│ 2017/20…   ┆     ┆           ┆            ┆   ┆            ┆            ┆            ┆           │\n",
       "│ FRA -      ┆ 5   ┆ 3         ┆ 2016       ┆ … ┆ FRA        ┆ Ligue 1    ┆ male       ┆ adult     │\n",
       "│ Ligue 1 -  ┆     ┆           ┆            ┆   ┆            ┆            ┆            ┆           │\n",
       "│ 2016/2017  ┆     ┆           ┆            ┆   ┆            ┆            ┆            ┆           │\n",
       "│ FRA -      ┆ 6   ┆ 4         ┆ 2017       ┆ … ┆ FRA        ┆ Ligue 1    ┆ male       ┆ adult     │\n",
       "│ Ligue 1 -  ┆     ┆           ┆            ┆   ┆            ┆            ┆            ┆           │\n",
       "│ 2017/2018  ┆     ┆           ┆            ┆   ┆            ┆            ┆            ┆           │\n",
       "│ ESP -      ┆ 7   ┆ 3         ┆ 2016       ┆ … ┆ ESP        ┆ LaLiga     ┆ male       ┆ adult     │\n",
       "│ LaLiga -   ┆     ┆           ┆            ┆   ┆            ┆            ┆            ┆           │\n",
       "│ 2016/2017  ┆     ┆           ┆            ┆   ┆            ┆            ┆            ┆           │\n",
       "│ ESP -      ┆ 8   ┆ 4         ┆ 2017       ┆ … ┆ ESP        ┆ LaLiga     ┆ male       ┆ adult     │\n",
       "│ LaLiga -   ┆     ┆           ┆            ┆   ┆            ┆            ┆            ┆           │\n",
       "│ 2017/2018  ┆     ┆           ┆            ┆   ┆            ┆            ┆            ┆           │\n",
       "│ ITA -      ┆ 9   ┆ 3         ┆ 2016       ┆ … ┆ ITA        ┆ Serie A    ┆ male       ┆ adult     │\n",
       "│ Serie A -  ┆     ┆           ┆            ┆   ┆            ┆            ┆            ┆           │\n",
       "│ 2016/2017  ┆     ┆           ┆            ┆   ┆            ┆            ┆            ┆           │\n",
       "└────────────┴─────┴───────────┴────────────┴───┴────────────┴────────────┴────────────┴───────────┘"
      ]
     },
     "execution_count": 10,
     "metadata": {},
     "output_type": "execute_result"
    }
   ],
   "source": [
    "ce = pl.concat([\n",
    "    ce_name_id,\n",
    "    ce_season,\n",
    "    ce_competition\n",
    "],\n",
    "how = \"horizontal\",)\n",
    "ce.head(10)"
   ]
  },
  {
   "cell_type": "markdown",
   "metadata": {},
   "source": [
    "reading json player file- test on 1 file\n"
   ]
  },
  {
   "cell_type": "code",
   "execution_count": 11,
   "metadata": {},
   "outputs": [],
   "source": [
    "position_json_testpath = './skillcorner-20250214/metrics-ce249-rAM.json'\n",
    "\n",
    "position_test_df = pl.read_json(position_json_testpath)"
   ]
  },
  {
   "cell_type": "code",
   "execution_count": 12,
   "metadata": {},
   "outputs": [
    {
     "data": {
      "text/plain": [
       "['Count High Acceleration OTIP 1',\n",
       " 'Minutes TIP 1',\n",
       " 'short_name',\n",
       " 'Count High Deceleration 2',\n",
       " 'player_birthdate',\n",
       " 'Count Medium Deceleration 2',\n",
       " 'Count Medium Deceleration OTIP 1',\n",
       " 'Count High Deceleration TIP 1',\n",
       " 'Running Distance OTIP 1',\n",
       " 'Count Medium Deceleration OTIP',\n",
       " 'HSR Distance OTIP 1',\n",
       " 'Count Sprint 1',\n",
       " 'Distance 2',\n",
       " 'Count High Deceleration TIP',\n",
       " 'Count Medium Acceleration OTIP 2',\n",
       " 'Count Medium Acceleration',\n",
       " 'competition_id',\n",
       " 'Running Distance OTIP 2',\n",
       " 'Count HSR OTIP',\n",
       " 'Count Sprint TIP',\n",
       " 'Sprinting Distance 1',\n",
       " 'season_name',\n",
       " 'Distance 1',\n",
       " 'competition_edition_id',\n",
       " 'Count High Acceleration 1',\n",
       " 'Count High Deceleration',\n",
       " 'Count HSR 2',\n",
       " 'Distance TIP 2',\n",
       " 'HSR Distance 2',\n",
       " 'Count Sprint OTIP',\n",
       " 'Sprinting Distance TIP 2',\n",
       " 'Count HSR TIP',\n",
       " 'HSR Distance TIP 2',\n",
       " 'Count Medium Acceleration TIP 2',\n",
       " 'Minutes OTIP 2',\n",
       " 'Count Medium Deceleration 1',\n",
       " 'season_id',\n",
       " 'Sprinting Distance',\n",
       " 'Count Medium Deceleration',\n",
       " 'Count High Acceleration OTIP 2',\n",
       " 'Running Distance 1',\n",
       " 'Count Medium Deceleration TIP 1',\n",
       " 'Count High Deceleration 1',\n",
       " 'Count Medium Deceleration TIP',\n",
       " 'Minutes',\n",
       " 'Count Sprint TIP 1',\n",
       " 'Distance TIP 1',\n",
       " 'Minutes OTIP',\n",
       " 'HSR Distance TIP 1',\n",
       " 'Distance OTIP',\n",
       " 'Count Medium Acceleration TIP',\n",
       " 'Count High Deceleration OTIP',\n",
       " 'Sprinting Distance TIP',\n",
       " 'Count Medium Acceleration TIP 1',\n",
       " 'match_name',\n",
       " 'group',\n",
       " 'Running Distance 2',\n",
       " 'Count High Acceleration 2',\n",
       " 'Count HSR OTIP 1',\n",
       " 'Count High Deceleration OTIP 1',\n",
       " 'Count HSR 1',\n",
       " 'HSR Distance OTIP 2',\n",
       " 'HSR Distance 1',\n",
       " 'Sprinting Distance 2',\n",
       " 'team_name',\n",
       " 'Minutes OTIP 1',\n",
       " 'Running Distance OTIP',\n",
       " 'Count High Deceleration OTIP 2',\n",
       " 'Count Sprint OTIP 1',\n",
       " 'Count High Acceleration OTIP',\n",
       " 'PSV-99',\n",
       " 'Minutes TIP 2',\n",
       " 'Sprinting Distance OTIP',\n",
       " 'team',\n",
       " 'Count HSR TIP 1',\n",
       " 'Count HSR',\n",
       " 'Count HSR OTIP 2',\n",
       " 'Count High Acceleration TIP',\n",
       " 'Sprinting Distance TIP 1',\n",
       " 'Count High Acceleration',\n",
       " 'Running Distance TIP 1',\n",
       " 'Count Medium Acceleration OTIP 1',\n",
       " 'Count Sprint TIP 2',\n",
       " 'HSR Distance TIP',\n",
       " 'position',\n",
       " 'player_id',\n",
       " 'Minutes 1',\n",
       " 'Distance OTIP 2',\n",
       " 'Count High Acceleration TIP 1',\n",
       " 'Running Distance TIP',\n",
       " 'Minutes 2',\n",
       " 'Count High Acceleration TIP 2',\n",
       " 'Distance',\n",
       " 'Count Medium Acceleration OTIP',\n",
       " 'Running Distance',\n",
       " 'quality_check',\n",
       " 'Count High Deceleration TIP 2',\n",
       " 'team_id',\n",
       " 'Count Sprint',\n",
       " 'Count HSR TIP 2',\n",
       " 'HSR Distance',\n",
       " 'Sprinting Distance OTIP 2',\n",
       " 'match_id',\n",
       " 'Distance OTIP 1',\n",
       " 'player_name',\n",
       " 'HSR Distance OTIP',\n",
       " 'Minutes TIP',\n",
       " 'Count Medium Acceleration 1',\n",
       " 'date',\n",
       " 'Sprinting Distance OTIP 1',\n",
       " 'Count Medium Acceleration 2',\n",
       " 'Count Sprint 2',\n",
       " 'Distance TIP',\n",
       " 'Count Medium Deceleration TIP 2',\n",
       " 'Running Distance TIP 2',\n",
       " 'Count Sprint OTIP 2',\n",
       " 'Count Medium Deceleration OTIP 2']"
      ]
     },
     "execution_count": 12,
     "metadata": {},
     "output_type": "execute_result"
    }
   ],
   "source": [
    "position_test_df.columns\n",
    "#position_test_df.head(10)"
   ]
  },
  {
   "cell_type": "code",
   "execution_count": 13,
   "metadata": {},
   "outputs": [],
   "source": [
    "#define the path to the entire directory\n",
    "json_dir_path = './skillcorner-20250214/'"
   ]
  },
  {
   "cell_type": "markdown",
   "metadata": {},
   "source": [
    "### Look at correlations between parameters\n",
    "Looking at the correlations across all competitions across all positions to see if we can leave out certain parameters"
   ]
  },
  {
   "cell_type": "code",
   "execution_count": 14,
   "metadata": {},
   "outputs": [],
   "source": [
    "json_list = os.listdir(json_dir_path)\n",
    "#json_list"
   ]
  },
  {
   "cell_type": "code",
   "execution_count": 15,
   "metadata": {},
   "outputs": [
    {
     "name": "stderr",
     "output_type": "stream",
     "text": [
      "100%|██████████| 1652/1652 [00:49<00:00, 33.43it/s]\n"
     ]
    }
   ],
   "source": [
    "read_json_list = []\n",
    "\n",
    "for jsonf in tqdm(json_list):\n",
    "    json_path = f\"{json_dir_path}{jsonf}\"\n",
    "    json_df = pl.read_json(json_path)\n",
    "\n",
    "    read_json_list.append(json_df)\n",
    "\n",
    "corr_df = pl.concat(read_json_list)"
   ]
  },
  {
   "cell_type": "code",
   "execution_count": 16,
   "metadata": {},
   "outputs": [
    {
     "data": {
      "text/plain": [
       "(449537, 117)"
      ]
     },
     "execution_count": 16,
     "metadata": {},
     "output_type": "execute_result"
    }
   ],
   "source": [
    "json_df.shape"
   ]
  },
  {
   "cell_type": "code",
   "execution_count": null,
   "metadata": {},
   "outputs": [],
   "source": [
    "#create the correlation matrix"
   ]
  },
  {
   "cell_type": "code",
   "execution_count": null,
   "metadata": {},
   "outputs": [],
   "source": [
    "corr_df.to_numpy()"
   ]
  },
  {
   "cell_type": "code",
   "execution_count": null,
   "metadata": {},
   "outputs": [],
   "source": [
    "pyg.walk(position_test_df)"
   ]
  }
 ],
 "metadata": {
  "kernelspec": {
   "display_name": "usr",
   "language": "python",
   "name": "python3"
  },
  "language_info": {
   "codemirror_mode": {
    "name": "ipython",
    "version": 3
   },
   "file_extension": ".py",
   "mimetype": "text/x-python",
   "name": "python",
   "nbconvert_exporter": "python",
   "pygments_lexer": "ipython3",
   "version": "3.12.7"
  }
 },
 "nbformat": 4,
 "nbformat_minor": 2
}
