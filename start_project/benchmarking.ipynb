{
 "cells": [
  {
   "cell_type": "code",
   "execution_count": 1,
   "id": "a6cefeed",
   "metadata": {},
   "outputs": [],
   "source": [
    "# STEP 0: importing required packages\n",
    "import polars as pl\n",
    "import json\n",
    "import os\n",
    "import polars.selectors as cs\n",
    "import xlsxwriter\n",
    "import zipfile\n",
    "import io\n",
    "from pathlib import Path"
   ]
  },
  {
   "cell_type": "markdown",
   "id": "9cedd2f0",
   "metadata": {},
   "source": [
    "STEP 1: Defining the path to the required files"
   ]
  },
  {
   "cell_type": "code",
   "execution_count": null,
   "id": "7473e209",
   "metadata": {},
   "outputs": [],
   "source": [
    "# 1.1 json file containing skillcorner competition editions information\n",
    "ce_path = Path('./data/skillcorner-competition-editions.json')"
   ]
  },
  {
   "cell_type": "code",
   "execution_count": null,
   "id": "def8533c",
   "metadata": {},
   "outputs": [],
   "source": [
    "# 1.2 Directory containing json files with skillcorner position data\n",
    "json_PosDir_path = Path('/data/skillcorner-20250214.zip')"
   ]
  },
  {
   "cell_type": "code",
   "execution_count": null,
   "id": "0fcfcb6b",
   "metadata": {},
   "outputs": [],
   "source": [
    "# 1.3 csv containing statsbomb competition id and info (country & division)\n",
    "sb_path = \"./data//statsbomb-competition-levels.csv\""
   ]
  },
  {
   "cell_type": "code",
   "execution_count": null,
   "id": "fb6192d5",
   "metadata": {},
   "outputs": [],
   "source": [
    "# 1.4 csv containing comparison of statsbomb and skillcorner id's / information\n",
    "sb_sc_path = \"./data//mapping-competition-seasons.csv\""
   ]
  },
  {
   "cell_type": "markdown",
   "id": "59da3f4d",
   "metadata": {},
   "source": [
    "STEP 2: Converting the competitions editions json to a usable DataFrame"
   ]
  },
  {
   "cell_type": "code",
   "execution_count": 6,
   "id": "9f46c069",
   "metadata": {},
   "outputs": [],
   "source": [
    "\n",
    "with ce_path.open('r') as ce_file:\n",
    "    ce_data = json.load(ce_file)['results']\n",
    "    ce_df = pl.json_normalize(ce_data)"
   ]
  },
  {
   "cell_type": "markdown",
   "id": "726a29c8",
   "metadata": {},
   "source": [
    "STEP 3: Combining the json files with the position data into a usable dataframe"
   ]
  },
  {
   "cell_type": "code",
   "execution_count": 7,
   "id": "69f14ef5",
   "metadata": {},
   "outputs": [],
   "source": [
    "# initializing an empty list to store json files\n",
    "json_list = []"
   ]
  },
  {
   "cell_type": "code",
   "execution_count": 8,
   "id": "82ce00c0",
   "metadata": {},
   "outputs": [],
   "source": [
    "# Looping through the json files and storing them into one list\n",
    "with zipfile.ZipFile(json_PosDir_path, \"r\") as zip:\n",
    "    for file_name in zip.namelist():\n",
    "        if file_name.endswith(\".json\"):\n",
    "            with zip.open(file_name) as f:\n",
    "                json_bytes = f.read()\n",
    "                json_buffer = io.BytesIO(json_bytes)\n",
    "                json_df = pl.read_json(json_buffer)\n",
    "                json_list.append(json_df)"
   ]
  },
  {
   "cell_type": "markdown",
   "id": "08793344",
   "metadata": {},
   "source": [
    "STEP 4: Combining the data"
   ]
  },
  {
   "cell_type": "code",
   "execution_count": 9,
   "id": "c7e9d262",
   "metadata": {},
   "outputs": [],
   "source": [
    "# concatenate json files and join with ce_df (keep left on column name)\n",
    "df = pl.concat(\n",
    "        json_list\n",
    "    ).join(\n",
    "        ce_df, \n",
    "        left_on = \"competition_edition_id\",\n",
    "        right_on = \"id\",\n",
    "        how = \"left\"\n",
    "    )\n"
   ]
  },
  {
   "cell_type": "markdown",
   "id": "dcc94b2f",
   "metadata": {},
   "source": [
    "STEP 5: Cobining statsbomb and skillcorner data with the physical data"
   ]
  },
  {
   "cell_type": "code",
   "execution_count": 10,
   "id": "dd6fcb5d",
   "metadata": {},
   "outputs": [],
   "source": [
    "sb = pl.read_csv(sb_path)\n",
    "sb_sc = pl.read_csv(sb_sc_path)"
   ]
  },
  {
   "cell_type": "code",
   "execution_count": 11,
   "id": "3ec15a37",
   "metadata": {},
   "outputs": [],
   "source": [
    "# 5.1 Linking competition info (country & division) to skillcorner competition edition\n",
    "df = sb_sc.join(sb, #join statsbomb information with the sb - sc comparison\n",
    "        left_on=\"sb_competition_id\",\n",
    "        right_on=\"competition_id\",\n",
    "        how = \"left\"\n",
    ").select(\n",
    "    [\n",
    "        \"sc_competition_season_id\", \n",
    "        \"competition_region_name\",\n",
    "        \"competition_division_level\"\n",
    "    ]\n",
    ").with_columns(\n",
    "    pl.concat_str(\n",
    "        [\n",
    "            pl.col(\"competition_region_name\"),\n",
    "            pl.col(\"competition_division_level\").cast(str),\n",
    "        ],\n",
    "        separator=\" \",\n",
    "    ).alias(\"competition_region_division\")\n",
    ").drop(\n",
    "    [\n",
    "        \"competition_region_name\", \n",
    "        \"competition_division_level\"\n",
    "    ]\n",
    ").join(\n",
    "    df, \n",
    "    left_on=\"sc_competition_season_id\",\n",
    "    right_on=\"competition_edition_id\",\n",
    "    how = \"right\"\n",
    ")"
   ]
  },
  {
   "cell_type": "code",
   "execution_count": 12,
   "id": "229a0c84",
   "metadata": {},
   "outputs": [
    {
     "data": {
      "text/html": [
       "<div><style>\n",
       ".dataframe > thead > tr,\n",
       ".dataframe > tbody > tr {\n",
       "  text-align: right;\n",
       "  white-space: pre-wrap;\n",
       "}\n",
       "</style>\n",
       "<small>shape: (52,)</small><table border=\"1\" class=\"dataframe\"><thead><tr><th>competition_region_division</th></tr><tr><td>str</td></tr></thead><tbody><tr><td>&quot;Romania 1&quot;</td></tr><tr><td>&quot;Spain 3&quot;</td></tr><tr><td>&quot;Uruguay 1&quot;</td></tr><tr><td>&quot;Germany 3&quot;</td></tr><tr><td>&quot;Japan 2&quot;</td></tr><tr><td>&hellip;</td></tr><tr><td>&quot;Switzerland 1&quot;</td></tr><tr><td>&quot;Italy 1&quot;</td></tr><tr><td>&quot;England 1&quot;</td></tr><tr><td>&quot;Norway 1&quot;</td></tr><tr><td>&quot;Greece 1&quot;</td></tr></tbody></table></div>"
      ],
      "text/plain": [
       "shape: (52,)\n",
       "Series: 'competition_region_division' [str]\n",
       "[\n",
       "\t\"Romania 1\"\n",
       "\t\"Spain 3\"\n",
       "\t\"Uruguay 1\"\n",
       "\t\"Germany 3\"\n",
       "\t\"Japan 2\"\n",
       "\t…\n",
       "\t\"Switzerland 1\"\n",
       "\t\"Italy 1\"\n",
       "\t\"England 1\"\n",
       "\t\"Norway 1\"\n",
       "\t\"Greece 1\"\n",
       "]"
      ]
     },
     "execution_count": 12,
     "metadata": {},
     "output_type": "execute_result"
    }
   ],
   "source": [
    "df['competition_region_division'].unique()"
   ]
  },
  {
   "cell_type": "markdown",
   "id": "dacb06fc",
   "metadata": {},
   "source": [
    "STEP 6: Performance metrics have to be normalized towards a 90 minute match based on the minutes played"
   ]
  },
  {
   "cell_type": "code",
   "execution_count": 13,
   "id": "65d3b213",
   "metadata": {},
   "outputs": [],
   "source": [
    "# 6.1: Defining column names that do not have to be normalized (non numeric columns)\n",
    "list2skip = df.select(~cs.numeric()).columns"
   ]
  },
  {
   "cell_type": "code",
   "execution_count": 14,
   "id": "55b379e9",
   "metadata": {},
   "outputs": [],
   "source": [
    "# Hardcoding the numerical columns that do not have to be normalized\n",
    "hardcoded = [\n",
    "    'PSV-99',\n",
    "    'competition_edition_id',\n",
    "    'competition_id',\n",
    "    'competition_id_right',\n",
    "    'match_id',\n",
    "    'player_id',\n",
    "    'season_id_right',\n",
    "    'season_id',\n",
    "    'season_end_year',\n",
    "    'season_start_year',\n",
    "    'team_id'\n",
    "]"
   ]
  },
  {
   "cell_type": "code",
   "execution_count": 15,
   "id": "2984c6d9",
   "metadata": {},
   "outputs": [],
   "source": [
    "list2skip = list2skip + hardcoded"
   ]
  },
  {
   "cell_type": "code",
   "execution_count": 16,
   "id": "fd1e5456",
   "metadata": {},
   "outputs": [],
   "source": [
    "# 6.2 hardcoding the time indicators\n",
    "# Needed to correctly normalize each metric\n",
    "time_indicators = {\n",
    "    \"OTIP 2\": \"Minutes OTIP 2\",\n",
    "    \"OTIP 1\": \"Minutes OTIP 1\",\n",
    "    \"TIP 2\": \"Minutes TIP 2\",\n",
    "    \"TIP 1\": \"Minutes TIP 1\",\n",
    "    \"OTIP\": \"Minutes OTIP\",\n",
    "    \"TIP\": \"Minutes TIP\",\n",
    "    \"2\": \"Minutes 2\",\n",
    "    \"1\": \"Minutes 1\"\n",
    "}"
   ]
  },
  {
   "cell_type": "code",
   "execution_count": 17,
   "id": "6d61c69c",
   "metadata": {},
   "outputs": [],
   "source": [
    "# iterating over the columns to match them to the correct time / minute column\n",
    "# normalizing the metrics for the time played\n",
    "for coln in df.columns:\n",
    "    if coln in list2skip:\n",
    "        continue\n",
    "\n",
    "    for pattern, indicator in time_indicators.items():\n",
    "        if pattern in coln:\n",
    "            divisor = indicator\n",
    "            break\n",
    "        else:\n",
    "            divisor = \"Minutes\"\n",
    "\n",
    "    df = df.with_columns(\n",
    "        ((pl.col(coln) / pl.col(divisor))*90).alias(f\"P90 {coln}\")\n",
    "    )"
   ]
  },
  {
   "cell_type": "code",
   "execution_count": 18,
   "id": "d11c8683",
   "metadata": {},
   "outputs": [],
   "source": [
    "# sort the dataframe again for logical column order\n",
    "df = df.select(sorted(df.columns))"
   ]
  },
  {
   "cell_type": "markdown",
   "id": "faccd2c4",
   "metadata": {},
   "source": [
    "STEP 7: Creating Excell files showing benchmarked data for the needed metrics"
   ]
  },
  {
   "cell_type": "code",
   "execution_count": 19,
   "id": "7d68e9a5",
   "metadata": {},
   "outputs": [],
   "source": [
    "# 7.1 group the symmetrical positions by hardcoding\n",
    "# symmetrical positions have to be shown in the same excell sheet \n",
    "mapping = {\n",
    "    \"RM\": \"RM|LM\",\n",
    "    \"LM\": \"RM|LM\",\n",
    "    \"RCB\": \"RCB|LCB\",\n",
    "    \"LCB\": \"RCB|LCB\",\n",
    "    \"RWB\": \"RWB|LWB\",\n",
    "    \"LWB\": \"RWB|LWB\",\n",
    "    \"RF\": \"RF|LF\",\n",
    "    \"LF\": \"RF|LF\",\n",
    "    \"RW\": \"RW|LW\",\n",
    "    \"LW\": \"RW|LW\",\n",
    "    \"DM\": \"DM\",\n",
    "    \"AM\": \"AM\",\n",
    "    \"CB\": \"CB\",\n",
    "    \"CF\": \"CF\"\n",
    "}"
   ]
  },
  {
   "cell_type": "code",
   "execution_count": 20,
   "id": "9c96de9d",
   "metadata": {},
   "outputs": [],
   "source": [
    "df = df.with_columns(\n",
    "    position_grouped = pl.col(\"position\").replace_strict(mapping)\n",
    ")"
   ]
  },
  {
   "cell_type": "code",
   "execution_count": 21,
   "id": "41bdea3d",
   "metadata": {},
   "outputs": [],
   "source": [
    "# 7.2 Hardcoding column names of the metrics wanted in the excells\n",
    "# competition_region_division and position are fixed columns and should not be changed\n",
    "df_subset = df.select([\n",
    "    'competition_region_division', \n",
    "    'position_grouped',\n",
    "    'P90 Distance',\n",
    "    'P90 Running Distance',\n",
    "    'P90 HSR Distance', \n",
    "    'P90 Sprinting Distance', \n",
    "    'PSV-99'\n",
    "])"
   ]
  },
  {
   "cell_type": "code",
   "execution_count": 22,
   "id": "b2c09857",
   "metadata": {},
   "outputs": [],
   "source": [
    "# The performance metrics are variable columns and can be modified\n",
    "# depending on the wanted analysis\n",
    "metrics = df_subset.drop([\n",
    "    'competition_region_division', \n",
    "    'position_grouped'\n",
    "]).columns"
   ]
  },
  {
   "cell_type": "code",
   "execution_count": 23,
   "id": "ec947829",
   "metadata": {},
   "outputs": [],
   "source": [
    "# 7.3 Hardcoding positions in the same order as the wanted excell sheet order\n",
    "positions = ['CB', 'RCB|LCB', 'RWB|LWB', 'DM','RM|LM', 'AM', 'RW|LW', 'CF', 'RF|LF']"
   ]
  },
  {
   "cell_type": "code",
   "execution_count": 24,
   "id": "27d6bc9e",
   "metadata": {},
   "outputs": [],
   "source": [
    "def position_filter(dataframe, position):\n",
    "    \"\"\"Filters the dataframe on a specified position\"\"\"\n",
    "    pos_df = dataframe.filter(\n",
    "                pl.col(\"position_grouped\") == position\n",
    "            ).filter(\n",
    "                pl.col(\"competition_region_division\").is_not_null()\n",
    "            )\n",
    "    \n",
    "    return pos_df"
   ]
  },
  {
   "cell_type": "code",
   "execution_count": 25,
   "id": "0adb3cb7",
   "metadata": {},
   "outputs": [],
   "source": [
    "def sample_size_calculator(dataframe):\n",
    "    \"\"\"Calculate the sample size per position per competition\"\"\"\n",
    "    ss_df = (\n",
    "        dataframe.group_by(\n",
    "            \"competition_region_division\"        \n",
    "        ).agg([\n",
    "            pl.col(\"competition_region_division\").len().alias(\"Sample Size\")\n",
    "        ])\n",
    "    )\n",
    "    \n",
    "    return ss_df"
   ]
  },
  {
   "cell_type": "code",
   "execution_count": 26,
   "id": "c01eb78b",
   "metadata": {},
   "outputs": [],
   "source": [
    "\n",
    "# 7.4 Create the 1st excell type\n",
    "# store the statistical measures to loop through \n",
    "stats = {\n",
    "    \"Mean\": pl.col(metrics).mean(),\n",
    "    \"Median\": pl.col(metrics).median(),\n",
    "    \"Std\": pl.col(metrics).std(),\n",
    "    \"Q25\": pl.col(metrics).quantile(0.25),\n",
    "    \"Q75\": pl.col(metrics).quantile(0.75),\n",
    "}"
   ]
  },
  {
   "cell_type": "code",
   "execution_count": 27,
   "id": "359b2db8",
   "metadata": {},
   "outputs": [],
   "source": [
    "with xlsxwriter.Workbook(\"match_benchmarks_stat_grouped.xlsx\") as wb:\n",
    "\n",
    "    for position in positions:\n",
    "        result_list = []\n",
    "        \n",
    "        # Filter for the specific position\n",
    "        df_pos = position_filter(df_subset, position)\n",
    "\n",
    "        # determine the sample size per competition\n",
    "        ss = sample_size_calculator(df_pos)\n",
    "\n",
    "        for stat_name, stat_expr in stats.items():\n",
    "            result = (\n",
    "                df_pos\n",
    "                .group_by(\"competition_region_division\")\n",
    "                .agg([stat_expr])\n",
    "                .with_columns(pl.lit(stat_name).alias(\"Statistical Measure\"))\n",
    "            )\n",
    "            result_list.append(result)\n",
    "\n",
    "        # Combine all results with columns in prefered order \n",
    "        pl.concat(\n",
    "                result_list\n",
    "            ).join(\n",
    "                ss, on=\"competition_region_division\"\n",
    "            ).select([\n",
    "                    \"competition_region_division\",\n",
    "                    \"Statistical Measure\",\n",
    "                    \"Sample Size\"\n",
    "                ]\n",
    "                + metrics\n",
    "            ).rename({\n",
    "                \"competition_region_division\":\"Competition\"\n",
    "            }).write_excel(\n",
    "                workbook=wb, \n",
    "                worksheet = position,\n",
    "                autofit = True,\n",
    "                float_precision = 1,\n",
    "                freeze_panes = (1,0),\n",
    "                header_format = {\"bold\": True}\n",
    "            )"
   ]
  },
  {
   "cell_type": "code",
   "execution_count": 28,
   "id": "890a1d5c",
   "metadata": {},
   "outputs": [],
   "source": [
    "# 7.5 Create the 2nd excell type\n",
    "with xlsxwriter.Workbook(\"match_benchmarks_stat_sep.xlsx\") as wb:\n",
    "\n",
    "    for position in positions:    \n",
    "        result_list = []\n",
    "\n",
    "        # Filter for the specific position\n",
    "        df_pos = position_filter(df_subset, position)\n",
    "\n",
    "        # determine the sample size per competition\n",
    "        ss = sample_size_calculator(df_pos)\n",
    "        result_list.append(ss)\n",
    "\n",
    "        # Filter for this specific position\n",
    "        for metric in metrics:\n",
    "            result = (\n",
    "                df_pos\n",
    "                .filter(pl.col(\"position_grouped\") == position)\n",
    "                .group_by(\"competition_region_division\")\n",
    "                .agg(\n",
    "                    [pl.col(metric).mean().alias(f\"{metric} Mean\")] +\n",
    "                    [pl.col(metric).median().alias(f\"{metric} Median\")] + \n",
    "                    [pl.col(metric).std().alias(f\"{metric}  Std\")] + \n",
    "                    [pl.col(metric).quantile(0.25).alias(f\"{metric} Q25\")]+\n",
    "                    [pl.col(metric).quantile(0.75).alias(f\"{metric} Q75\")]\n",
    "                )\n",
    "            )   \n",
    "\n",
    "            result_list.append(result)\n",
    "\n",
    "        # Combine all results in a dataframe to write to a position sheet of the excel\n",
    "        pl.concat(\n",
    "                result_list, how='align'\n",
    "            ).rename({\n",
    "                \"competition_region_division\":\"Competition\"\n",
    "            }).write_excel(\n",
    "                workbook=wb, \n",
    "                worksheet = position,\n",
    "                autofit = True,\n",
    "                float_precision = 1,\n",
    "                freeze_panes = (1,0),\n",
    "                header_format = {\"bold\": True}\n",
    "            )"
   ]
  },
  {
   "cell_type": "code",
   "execution_count": null,
   "id": "6288f80a",
   "metadata": {},
   "outputs": [],
   "source": [
    "# STEP 9: Write the dataframe to a parquet file that will be used for visualisation\n",
    "# entire dataframe written to the parquet file \n",
    "parquet4visual_path = \"./data/parquet4visual.parquet\""
   ]
  },
  {
   "cell_type": "code",
   "execution_count": 30,
   "id": "e181565d",
   "metadata": {},
   "outputs": [],
   "source": [
    "\n",
    "df.write_parquet(parquet4visual_path)"
   ]
  }
 ],
 "metadata": {
  "kernelspec": {
   "display_name": "club_brugge",
   "language": "python",
   "name": "python3"
  },
  "language_info": {
   "codemirror_mode": {
    "name": "ipython",
    "version": 3
   },
   "file_extension": ".py",
   "mimetype": "text/x-python",
   "name": "python",
   "nbconvert_exporter": "python",
   "pygments_lexer": "ipython3",
   "version": "3.13.3"
  }
 },
 "nbformat": 4,
 "nbformat_minor": 5
}
