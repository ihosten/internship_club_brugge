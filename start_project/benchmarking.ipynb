{
 "cells": [
  {
   "cell_type": "code",
   "execution_count": 1,
   "id": "a6cefeed",
   "metadata": {},
   "outputs": [],
   "source": [
    "# STEP 0: importing required packages\n",
    "import polars as pl\n",
    "import json\n",
    "import os\n",
    "import polars.selectors as cs\n",
    "import xlsxwriter\n",
    "import zipfile\n",
    "import io\n",
    "from pathlib import Path"
   ]
  },
  {
   "cell_type": "markdown",
   "id": "9cedd2f0",
   "metadata": {},
   "source": [
    "STEP 1: Defining the path to the required files"
   ]
  },
  {
   "cell_type": "code",
   "execution_count": 51,
   "id": "7473e209",
   "metadata": {},
   "outputs": [],
   "source": [
    "# 1.1 json file containing skillcorner competition editions information\n",
    "ce_path = Path('skillcorner-competition-editions.json')"
   ]
  },
  {
   "cell_type": "code",
   "execution_count": 52,
   "id": "def8533c",
   "metadata": {},
   "outputs": [],
   "source": [
    "# 1.2 Directory containing json files with skillcorner position data\n",
    "json_PosDir_path = Path('skillcorner-20250214.zip')"
   ]
  },
  {
   "cell_type": "code",
   "execution_count": 53,
   "id": "0fcfcb6b",
   "metadata": {},
   "outputs": [],
   "source": [
    "# 1.3 csv containing statsbomb competition id and info (country & division)\n",
    "sb_path = \"./statsbomb-competition-levels.csv\""
   ]
  },
  {
   "cell_type": "code",
   "execution_count": 54,
   "id": "fb6192d5",
   "metadata": {},
   "outputs": [],
   "source": [
    "# 1.4 csv containing comparison of statsbomb and skillcorner id's / information\n",
    "sb_sc_path = \"./mapping-competition-seasons.csv\""
   ]
  },
  {
   "cell_type": "markdown",
   "id": "59da3f4d",
   "metadata": {},
   "source": [
    "STEP 2: Converting the competitions editions json to a usable DataFrame"
   ]
  },
  {
   "cell_type": "code",
   "execution_count": 55,
   "id": "9f46c069",
   "metadata": {},
   "outputs": [],
   "source": [
    "\n",
    "with ce_path.open('r') as ce_file:\n",
    "    ce_data = json.load(ce_file)['results']\n",
    "    ce_df = pl.json_normalize(ce_data)"
   ]
  },
  {
   "cell_type": "markdown",
   "id": "726a29c8",
   "metadata": {},
   "source": [
    "STEP 3: Combining the json files with the position data into a usable dataframe"
   ]
  },
  {
   "cell_type": "code",
   "execution_count": 56,
   "id": "69f14ef5",
   "metadata": {},
   "outputs": [],
   "source": [
    "# initializing an empty list to store json files\n",
    "json_list = []"
   ]
  },
  {
   "cell_type": "code",
   "execution_count": 57,
   "id": "82ce00c0",
   "metadata": {},
   "outputs": [],
   "source": [
    "# Looping through the json files and storing them into one list\n",
    "with zipfile.ZipFile(json_PosDir_path, \"r\") as zip:\n",
    "    for file_name in zip.namelist():\n",
    "        if file_name.endswith(\".json\"):\n",
    "            with zip.open(file_name) as f:\n",
    "                json_bytes = f.read()\n",
    "                json_buffer = io.BytesIO(json_bytes)\n",
    "                json_df = pl.read_json(json_buffer)\n",
    "                json_list.append(json_df)"
   ]
  },
  {
   "cell_type": "markdown",
   "id": "08793344",
   "metadata": {},
   "source": [
    "STEP 4: Combining the data"
   ]
  },
  {
   "cell_type": "code",
   "execution_count": 137,
   "id": "c7e9d262",
   "metadata": {},
   "outputs": [],
   "source": [
    "# concatenate json files and join with ce_df (keep left on column name)\n",
    "df = pl.concat(\n",
    "        json_list\n",
    "    ).join(\n",
    "        ce_df, \n",
    "        left_on = \"competition_edition_id\",\n",
    "        right_on = \"id\",\n",
    "        how = \"left\"\n",
    "    )\n"
   ]
  },
  {
   "cell_type": "code",
   "execution_count": 138,
   "id": "44a1c919",
   "metadata": {},
   "outputs": [
    {
     "data": {
      "text/html": [
       "<div><style>\n",
       ".dataframe > thead > tr,\n",
       ".dataframe > tbody > tr {\n",
       "  text-align: right;\n",
       "  white-space: pre-wrap;\n",
       "}\n",
       "</style>\n",
       "<small>shape: (118,)</small><table border=\"1\" class=\"dataframe\"><thead><tr><th>competition_edition_id</th></tr><tr><td>i64</td></tr></thead><tbody><tr><td>249</td></tr><tr><td>353</td></tr><tr><td>357</td></tr><tr><td>360</td></tr><tr><td>374</td></tr><tr><td>375</td></tr><tr><td>376</td></tr><tr><td>377</td></tr><tr><td>379</td></tr><tr><td>380</td></tr><tr><td>385</td></tr><tr><td>386</td></tr><tr><td>390</td></tr><tr><td>391</td></tr><tr><td>392</td></tr><tr><td>393</td></tr><tr><td>394</td></tr><tr><td>395</td></tr><tr><td>401</td></tr><tr><td>402</td></tr><tr><td>403</td></tr><tr><td>404</td></tr><tr><td>411</td></tr><tr><td>412</td></tr><tr><td>414</td></tr><tr><td>418</td></tr><tr><td>419</td></tr><tr><td>496</td></tr><tr><td>509</td></tr><tr><td>522</td></tr><tr><td>536</td></tr><tr><td>538</td></tr><tr><td>540</td></tr><tr><td>541</td></tr><tr><td>542</td></tr><tr><td>543</td></tr><tr><td>544</td></tr><tr><td>546</td></tr><tr><td>547</td></tr><tr><td>548</td></tr><tr><td>549</td></tr><tr><td>550</td></tr><tr><td>551</td></tr><tr><td>552</td></tr><tr><td>553</td></tr><tr><td>554</td></tr><tr><td>555</td></tr><tr><td>556</td></tr><tr><td>558</td></tr><tr><td>559</td></tr><tr><td>560</td></tr><tr><td>561</td></tr><tr><td>562</td></tr><tr><td>565</td></tr><tr><td>566</td></tr><tr><td>569</td></tr><tr><td>571</td></tr><tr><td>573</td></tr><tr><td>615</td></tr><tr><td>618</td></tr><tr><td>621</td></tr><tr><td>624</td></tr><tr><td>629</td></tr><tr><td>732</td></tr><tr><td>752</td></tr><tr><td>767</td></tr><tr><td>772</td></tr><tr><td>773</td></tr><tr><td>775</td></tr><tr><td>777</td></tr><tr><td>783</td></tr><tr><td>787</td></tr><tr><td>788</td></tr><tr><td>789</td></tr><tr><td>791</td></tr><tr><td>793</td></tr><tr><td>795</td></tr><tr><td>797</td></tr><tr><td>798</td></tr><tr><td>799</td></tr><tr><td>864</td></tr><tr><td>865</td></tr><tr><td>870</td></tr><tr><td>872</td></tr><tr><td>873</td></tr><tr><td>882</td></tr><tr><td>885</td></tr><tr><td>888</td></tr><tr><td>890</td></tr><tr><td>895</td></tr><tr><td>900</td></tr><tr><td>901</td></tr><tr><td>902</td></tr><tr><td>903</td></tr><tr><td>905</td></tr><tr><td>906</td></tr><tr><td>907</td></tr><tr><td>908</td></tr><tr><td>909</td></tr><tr><td>912</td></tr><tr><td>913</td></tr><tr><td>915</td></tr><tr><td>916</td></tr><tr><td>922</td></tr><tr><td>924</td></tr><tr><td>925</td></tr><tr><td>926</td></tr><tr><td>928</td></tr><tr><td>929</td></tr><tr><td>933</td></tr><tr><td>934</td></tr><tr><td>937</td></tr><tr><td>938</td></tr><tr><td>940</td></tr><tr><td>941</td></tr><tr><td>948</td></tr><tr><td>949</td></tr><tr><td>957</td></tr></tbody></table></div>"
      ],
      "text/plain": [
       "shape: (118,)\n",
       "Series: 'competition_edition_id' [i64]\n",
       "[\n",
       "\t249\n",
       "\t353\n",
       "\t357\n",
       "\t360\n",
       "\t374\n",
       "\t375\n",
       "\t376\n",
       "\t377\n",
       "\t379\n",
       "\t380\n",
       "\t385\n",
       "\t386\n",
       "\t390\n",
       "\t391\n",
       "\t392\n",
       "\t393\n",
       "\t394\n",
       "\t395\n",
       "\t401\n",
       "\t402\n",
       "\t403\n",
       "\t404\n",
       "\t411\n",
       "\t412\n",
       "\t414\n",
       "\t418\n",
       "\t419\n",
       "\t496\n",
       "\t509\n",
       "\t522\n",
       "\t536\n",
       "\t538\n",
       "\t540\n",
       "\t541\n",
       "\t542\n",
       "\t543\n",
       "\t544\n",
       "\t546\n",
       "\t547\n",
       "\t548\n",
       "\t549\n",
       "\t550\n",
       "\t551\n",
       "\t552\n",
       "\t553\n",
       "\t554\n",
       "\t555\n",
       "\t556\n",
       "\t558\n",
       "\t559\n",
       "\t560\n",
       "\t561\n",
       "\t562\n",
       "\t565\n",
       "\t566\n",
       "\t569\n",
       "\t571\n",
       "\t573\n",
       "\t615\n",
       "\t618\n",
       "\t621\n",
       "\t624\n",
       "\t629\n",
       "\t732\n",
       "\t752\n",
       "\t767\n",
       "\t772\n",
       "\t773\n",
       "\t775\n",
       "\t777\n",
       "\t783\n",
       "\t787\n",
       "\t788\n",
       "\t789\n",
       "\t791\n",
       "\t793\n",
       "\t795\n",
       "\t797\n",
       "\t798\n",
       "\t799\n",
       "\t864\n",
       "\t865\n",
       "\t870\n",
       "\t872\n",
       "\t873\n",
       "\t882\n",
       "\t885\n",
       "\t888\n",
       "\t890\n",
       "\t895\n",
       "\t900\n",
       "\t901\n",
       "\t902\n",
       "\t903\n",
       "\t905\n",
       "\t906\n",
       "\t907\n",
       "\t908\n",
       "\t909\n",
       "\t912\n",
       "\t913\n",
       "\t915\n",
       "\t916\n",
       "\t922\n",
       "\t924\n",
       "\t925\n",
       "\t926\n",
       "\t928\n",
       "\t929\n",
       "\t933\n",
       "\t934\n",
       "\t937\n",
       "\t938\n",
       "\t940\n",
       "\t941\n",
       "\t948\n",
       "\t949\n",
       "\t957\n",
       "]"
      ]
     },
     "execution_count": 138,
     "metadata": {},
     "output_type": "execute_result"
    }
   ],
   "source": [
    "# --> mag nog weg, hier zit de limitatie niet\n",
    "pl.Config.set_tbl_rows(150)\n",
    "# 'name',\n",
    "# 'competition.id',\n",
    "# 'competition.area',\n",
    "# 'competition.name',\n",
    "# 'competition.gender',\n",
    "# 'competition.age_group',\n",
    "df['competition_edition_id'].unique()"
   ]
  },
  {
   "cell_type": "markdown",
   "id": "dcc94b2f",
   "metadata": {},
   "source": [
    "STEP 5: Cobining statsbomb and skillcorner data with the physical data"
   ]
  },
  {
   "cell_type": "code",
   "execution_count": 139,
   "id": "bb02879d",
   "metadata": {},
   "outputs": [],
   "source": [
    "# sb_sc_path: sc_competition_season_id bevat null values"
   ]
  },
  {
   "cell_type": "code",
   "execution_count": 140,
   "id": "e433c38b",
   "metadata": {},
   "outputs": [],
   "source": [
    "# terug verwijderen\n",
    "sb = pl.read_csv(sb_sc_path)"
   ]
  },
  {
   "cell_type": "code",
   "execution_count": 141,
   "id": "e55680f0",
   "metadata": {},
   "outputs": [
    {
     "data": {
      "text/html": [
       "<div><style>\n",
       ".dataframe > thead > tr,\n",
       ".dataframe > tbody > tr {\n",
       "  text-align: right;\n",
       "  white-space: pre-wrap;\n",
       "}\n",
       "</style>\n",
       "<small>shape: (5, 10)</small><table border=\"1\" class=\"dataframe\"><thead><tr><th>sb_competition_id</th><th>sb_competition_name</th><th>sb_season_id</th><th>sb_season_name</th><th>sc_competition_id</th><th>sc_competition_name</th><th>sc_season_id</th><th>sc_season_name</th><th>sc_competition_season_id</th><th>sc_competition_season_name</th></tr><tr><td>i64</td><td>str</td><td>i64</td><td>str</td><td>i64</td><td>str</td><td>i64</td><td>str</td><td>i64</td><td>str</td></tr></thead><tbody><tr><td>2</td><td>&quot;Premier League&quot;</td><td>317</td><td>&quot;2024/2025&quot;</td><td>1</td><td>&quot;Premier League&quot;</td><td>95</td><td>&quot;2024/2025&quot;</td><td>895</td><td>&quot;ENG - Premier League - 2024/20…</td></tr><tr><td>2</td><td>&quot;Premier League&quot;</td><td>281</td><td>&quot;2023/2024&quot;</td><td>1</td><td>&quot;Premier League&quot;</td><td>28</td><td>&quot;2023/2024&quot;</td><td>543</td><td>&quot;ENG - Premier League - 2023/20…</td></tr><tr><td>2</td><td>&quot;Premier League&quot;</td><td>235</td><td>&quot;2022/2023&quot;</td><td>1</td><td>&quot;Premier League&quot;</td><td>21</td><td>&quot;2022/2023&quot;</td><td>387</td><td>&quot;ENG - Premier League - 2022/20…</td></tr><tr><td>2</td><td>&quot;Premier League&quot;</td><td>108</td><td>&quot;2021/2022&quot;</td><td>1</td><td>&quot;Premier League&quot;</td><td>8</td><td>&quot;2021/2022&quot;</td><td>287</td><td>&quot;ENG - Premier League - 2021/20…</td></tr><tr><td>2</td><td>&quot;Premier League&quot;</td><td>90</td><td>&quot;2020/2021&quot;</td><td>1</td><td>&quot;Premier League&quot;</td><td>7</td><td>&quot;2020/2021&quot;</td><td>147</td><td>&quot;ENG - Premier League - 2020/20…</td></tr></tbody></table></div>"
      ],
      "text/plain": [
       "shape: (5, 10)\n",
       "┌───────────┬───────────┬───────────┬───────────┬───┬───────────┬───────────┬───────────┬──────────┐\n",
       "│ sb_compet ┆ sb_compet ┆ sb_season ┆ sb_season ┆ … ┆ sc_season ┆ sc_season ┆ sc_compet ┆ sc_compe │\n",
       "│ ition_id  ┆ ition_nam ┆ _id       ┆ _name     ┆   ┆ _id       ┆ _name     ┆ ition_sea ┆ tition_s │\n",
       "│ ---       ┆ e         ┆ ---       ┆ ---       ┆   ┆ ---       ┆ ---       ┆ son_id    ┆ eason_na │\n",
       "│ i64       ┆ ---       ┆ i64       ┆ str       ┆   ┆ i64       ┆ str       ┆ ---       ┆ me       │\n",
       "│           ┆ str       ┆           ┆           ┆   ┆           ┆           ┆ i64       ┆ ---      │\n",
       "│           ┆           ┆           ┆           ┆   ┆           ┆           ┆           ┆ str      │\n",
       "╞═══════════╪═══════════╪═══════════╪═══════════╪═══╪═══════════╪═══════════╪═══════════╪══════════╡\n",
       "│ 2         ┆ Premier   ┆ 317       ┆ 2024/2025 ┆ … ┆ 95        ┆ 2024/2025 ┆ 895       ┆ ENG -    │\n",
       "│           ┆ League    ┆           ┆           ┆   ┆           ┆           ┆           ┆ Premier  │\n",
       "│           ┆           ┆           ┆           ┆   ┆           ┆           ┆           ┆ League - │\n",
       "│           ┆           ┆           ┆           ┆   ┆           ┆           ┆           ┆ 2024/20… │\n",
       "│ 2         ┆ Premier   ┆ 281       ┆ 2023/2024 ┆ … ┆ 28        ┆ 2023/2024 ┆ 543       ┆ ENG -    │\n",
       "│           ┆ League    ┆           ┆           ┆   ┆           ┆           ┆           ┆ Premier  │\n",
       "│           ┆           ┆           ┆           ┆   ┆           ┆           ┆           ┆ League - │\n",
       "│           ┆           ┆           ┆           ┆   ┆           ┆           ┆           ┆ 2023/20… │\n",
       "│ 2         ┆ Premier   ┆ 235       ┆ 2022/2023 ┆ … ┆ 21        ┆ 2022/2023 ┆ 387       ┆ ENG -    │\n",
       "│           ┆ League    ┆           ┆           ┆   ┆           ┆           ┆           ┆ Premier  │\n",
       "│           ┆           ┆           ┆           ┆   ┆           ┆           ┆           ┆ League - │\n",
       "│           ┆           ┆           ┆           ┆   ┆           ┆           ┆           ┆ 2022/20… │\n",
       "│ 2         ┆ Premier   ┆ 108       ┆ 2021/2022 ┆ … ┆ 8         ┆ 2021/2022 ┆ 287       ┆ ENG -    │\n",
       "│           ┆ League    ┆           ┆           ┆   ┆           ┆           ┆           ┆ Premier  │\n",
       "│           ┆           ┆           ┆           ┆   ┆           ┆           ┆           ┆ League - │\n",
       "│           ┆           ┆           ┆           ┆   ┆           ┆           ┆           ┆ 2021/20… │\n",
       "│ 2         ┆ Premier   ┆ 90        ┆ 2020/2021 ┆ … ┆ 7         ┆ 2020/2021 ┆ 147       ┆ ENG -    │\n",
       "│           ┆ League    ┆           ┆           ┆   ┆           ┆           ┆           ┆ Premier  │\n",
       "│           ┆           ┆           ┆           ┆   ┆           ┆           ┆           ┆ League - │\n",
       "│           ┆           ┆           ┆           ┆   ┆           ┆           ┆           ┆ 2020/20… │\n",
       "└───────────┴───────────┴───────────┴───────────┴───┴───────────┴───────────┴───────────┴──────────┘"
      ]
     },
     "execution_count": 141,
     "metadata": {},
     "output_type": "execute_result"
    }
   ],
   "source": [
    "# terug verwijderen\n",
    "sb.head()"
   ]
  },
  {
   "cell_type": "code",
   "execution_count": 142,
   "id": "ea71237a",
   "metadata": {},
   "outputs": [
    {
     "data": {
      "text/html": [
       "<div><style>\n",
       ".dataframe > thead > tr,\n",
       ".dataframe > tbody > tr {\n",
       "  text-align: right;\n",
       "  white-space: pre-wrap;\n",
       "}\n",
       "</style>\n",
       "<small>shape: (55,)</small><table border=\"1\" class=\"dataframe\"><thead><tr><th>sc_competition_name</th></tr><tr><td>str</td></tr></thead><tbody><tr><td>&quot;Primera Division&quot;</td></tr><tr><td>&quot;Ligat Al&quot;</td></tr><tr><td>&quot;Nemzeti Bajnokság&quot;</td></tr><tr><td>&quot;Primeira Liga&quot;</td></tr><tr><td>&quot;Pro League&quot;</td></tr><tr><td>&quot;LaLiga 3&quot;</td></tr><tr><td>&quot;Championship&quot;</td></tr><tr><td>&quot;Liga Dimayor&quot;</td></tr><tr><td>&quot;Major League Soccer&quot;</td></tr><tr><td>&quot;Play-offs 2/3&quot;</td></tr><tr><td>&quot;Serie B&quot;</td></tr><tr><td>&quot;Premiership&quot;</td></tr><tr><td>&quot;3. Liga&quot;</td></tr><tr><td>&quot;First League&quot;</td></tr><tr><td>&quot;National&quot;</td></tr><tr><td>&quot;J2 League&quot;</td></tr><tr><td>&quot;Primera División&quot;</td></tr><tr><td>null</td></tr><tr><td>&quot;1B Pro League&quot;</td></tr><tr><td>&quot;Super League&quot;</td></tr><tr><td>&quot;Ekstraklasa&quot;</td></tr><tr><td>&quot;Europa Conference League&quot;</td></tr><tr><td>&quot;Eerste Divisie&quot;</td></tr><tr><td>&quot;Obos Ligaen&quot;</td></tr><tr><td>&quot;LaLiga&quot;</td></tr><tr><td>&quot;Bundesliga&quot;</td></tr><tr><td>&quot;3rd Bundesliga&quot;</td></tr><tr><td>&quot;Série A&quot;</td></tr><tr><td>&quot;Segunda Liga&quot;</td></tr><tr><td>&quot;1.HNL&quot;</td></tr><tr><td>&quot;Niké Liga&quot;</td></tr><tr><td>&quot;K League 1&quot;</td></tr><tr><td>&quot;Liga MX&quot;</td></tr><tr><td>&quot;Eredivisie&quot;</td></tr><tr><td>&quot;Champions League&quot;</td></tr><tr><td>&quot;Serie A&quot;</td></tr><tr><td>&quot;Division Profesional&quot;</td></tr><tr><td>&quot;Allsvenskan&quot;</td></tr><tr><td>&quot;Premier League&quot;</td></tr><tr><td>&quot;Eliteserien&quot;</td></tr><tr><td>&quot;A-League&quot;</td></tr><tr><td>&quot;Primera Division - 1st Phase&quot;</td></tr><tr><td>&quot;Ligue 2&quot;</td></tr><tr><td>&quot;Campionato Primavera 1&quot;</td></tr><tr><td>&quot;Liga 1&quot;</td></tr><tr><td>&quot;Play-offs 1/2&quot;</td></tr><tr><td>&quot;Primera Division RFEF&quot;</td></tr><tr><td>&quot;Super Lig&quot;</td></tr><tr><td>&quot;J1 League&quot;</td></tr><tr><td>&quot;Liga Pro&quot;</td></tr><tr><td>&quot;Superliga&quot;</td></tr><tr><td>&quot;Ligue 1&quot;</td></tr><tr><td>&quot;MLS Next Pro&quot;</td></tr><tr><td>&quot;Série B&quot;</td></tr><tr><td>&quot;PSL&quot;</td></tr></tbody></table></div>"
      ],
      "text/plain": [
       "shape: (55,)\n",
       "Series: 'sc_competition_name' [str]\n",
       "[\n",
       "\t\"Primera Division\"\n",
       "\t\"Ligat Al\"\n",
       "\t\"Nemzeti Bajnokság\"\n",
       "\t\"Primeira Liga\"\n",
       "\t\"Pro League\"\n",
       "\t\"LaLiga 3\"\n",
       "\t\"Championship\"\n",
       "\t\"Liga Dimayor\"\n",
       "\t\"Major League Soccer\"\n",
       "\t\"Play-offs 2/3\"\n",
       "\t\"Serie B\"\n",
       "\t\"Premiership\"\n",
       "\t\"3. Liga\"\n",
       "\t\"First League\"\n",
       "\t\"National\"\n",
       "\t\"J2 League\"\n",
       "\t\"Primera División\"\n",
       "\tnull\n",
       "\t\"1B Pro League\"\n",
       "\t\"Super League\"\n",
       "\t\"Ekstraklasa\"\n",
       "\t\"Europa Conference League\"\n",
       "\t\"Eerste Divisie\"\n",
       "\t\"Obos Ligaen\"\n",
       "\t\"LaLiga\"\n",
       "\t\"Bundesliga\"\n",
       "\t\"3rd Bundesliga\"\n",
       "\t\"Série A\"\n",
       "\t\"Segunda Liga\"\n",
       "\t\"1.HNL\"\n",
       "\t\"Niké Liga\"\n",
       "\t\"K League 1\"\n",
       "\t\"Liga MX\"\n",
       "\t\"Eredivisie\"\n",
       "\t\"Champions League\"\n",
       "\t\"Serie A\"\n",
       "\t\"Division Profesional\"\n",
       "\t\"Allsvenskan\"\n",
       "\t\"Premier League\"\n",
       "\t\"Eliteserien\"\n",
       "\t\"A-League\"\n",
       "\t\"Primera Division - 1st Phase\"\n",
       "\t\"Ligue 2\"\n",
       "\t\"Campionato Primavera 1\"\n",
       "\t\"Liga 1\"\n",
       "\t\"Play-offs 1/2\"\n",
       "\t\"Primera Division RFEF\"\n",
       "\t\"Super Lig\"\n",
       "\t\"J1 League\"\n",
       "\t\"Liga Pro\"\n",
       "\t\"Superliga\"\n",
       "\t\"Ligue 1\"\n",
       "\t\"MLS Next Pro\"\n",
       "\t\"Série B\"\n",
       "\t\"PSL\"\n",
       "]"
      ]
     },
     "execution_count": 142,
     "metadata": {},
     "output_type": "execute_result"
    }
   ],
   "source": [
    "# terug verwijderen\n",
    "sb['sc_competition_name'].unique()"
   ]
  },
  {
   "cell_type": "code",
   "execution_count": 143,
   "id": "dd6fcb5d",
   "metadata": {},
   "outputs": [],
   "source": [
    "sb = pl.read_csv(sb_path)\n",
    "sb_sc = pl.read_csv(sb_sc_path)"
   ]
  },
  {
   "cell_type": "code",
   "execution_count": 144,
   "id": "fe587c4b",
   "metadata": {},
   "outputs": [
    {
     "data": {
      "text/html": [
       "<div><style>\n",
       ".dataframe > thead > tr,\n",
       ".dataframe > tbody > tr {\n",
       "  text-align: right;\n",
       "  white-space: pre-wrap;\n",
       "}\n",
       "</style>\n",
       "<small>shape: (5, 3)</small><table border=\"1\" class=\"dataframe\"><thead><tr><th>sc_competition_season_id</th><th>competition_region_name</th><th>competition_division_level</th></tr><tr><td>i64</td><td>str</td><td>str</td></tr></thead><tbody><tr><td>895</td><td>&quot;England&quot;</td><td>&quot;1&quot;</td></tr><tr><td>543</td><td>&quot;England&quot;</td><td>&quot;1&quot;</td></tr><tr><td>387</td><td>&quot;England&quot;</td><td>&quot;1&quot;</td></tr><tr><td>287</td><td>&quot;England&quot;</td><td>&quot;1&quot;</td></tr><tr><td>147</td><td>&quot;England&quot;</td><td>&quot;1&quot;</td></tr></tbody></table></div>"
      ],
      "text/plain": [
       "shape: (5, 3)\n",
       "┌──────────────────────────┬─────────────────────────┬────────────────────────────┐\n",
       "│ sc_competition_season_id ┆ competition_region_name ┆ competition_division_level │\n",
       "│ ---                      ┆ ---                     ┆ ---                        │\n",
       "│ i64                      ┆ str                     ┆ str                        │\n",
       "╞══════════════════════════╪═════════════════════════╪════════════════════════════╡\n",
       "│ 895                      ┆ England                 ┆ 1                          │\n",
       "│ 543                      ┆ England                 ┆ 1                          │\n",
       "│ 387                      ┆ England                 ┆ 1                          │\n",
       "│ 287                      ┆ England                 ┆ 1                          │\n",
       "│ 147                      ┆ England                 ┆ 1                          │\n",
       "└──────────────────────────┴─────────────────────────┴────────────────────────────┘"
      ]
     },
     "execution_count": 144,
     "metadata": {},
     "output_type": "execute_result"
    }
   ],
   "source": [
    "#debugging\n",
    "df = sb_sc.join(sb, #join statsbomb information with the sb - sc comparison\n",
    "        left_on=\"sb_competition_id\",\n",
    "        right_on=\"competition_id\",\n",
    "        how = \"left\"\n",
    ").select(\n",
    "    [\n",
    "        \"sc_competition_season_id\", \n",
    "        \"competition_region_name\",\n",
    "        \"competition_division_level\"\n",
    "    ]\n",
    ")\n",
    "\n",
    "df.head()"
   ]
  },
  {
   "cell_type": "code",
   "execution_count": 155,
   "id": "dd7b222a",
   "metadata": {},
   "outputs": [
    {
     "name": "stdout",
     "output_type": "stream",
     "text": [
      "[16, 274, 1426, 280, 283, 286, 292, 295, 1449, 300, 1337, 1338, 1339, 1340, 1341, 1595, 218, 353, 226, 231, 1259, 1264, 119, 121, 125]\n"
     ]
    }
   ],
   "source": [
    "missing_sb_ids = []\n",
    "\n",
    "for id in sb_sc['sb_competition_id']:\n",
    "    if id not in sb['competition_id']:\n",
    "        missing_sb_ids.append(id)\n",
    "\n",
    "print(list(set(missing_sb_ids)))"
   ]
  },
  {
   "cell_type": "code",
   "execution_count": 161,
   "id": "e4003772",
   "metadata": {},
   "outputs": [],
   "source": [
    "missing_sb_ids_dflist = []\n",
    "\n",
    "for id in missing_sb_ids:\n",
    "    missing_sb_ids_dflist.append(sb_sc.filter(pl.col(\"sb_competition_id\")==id)\n",
    ")\n"
   ]
  },
  {
   "cell_type": "code",
   "execution_count": 162,
   "id": "a1d2f904",
   "metadata": {},
   "outputs": [],
   "source": [
    "missing_sb_ids_df = pl.concat(missing_sb_ids_dflist)"
   ]
  },
  {
   "cell_type": "code",
   "execution_count": 164,
   "id": "49ac12e3",
   "metadata": {},
   "outputs": [],
   "source": [
    "missing_sb_ids_df\n",
    "\n",
    "with xlsxwriter.Workbook(\"missing_statsbomb_data.xlsx\") as wb:\n",
    "    missing_sb_ids_df.write_excel(\n",
    "        workbook=wb, \n",
    "        autofit = True,\n",
    "        float_precision = 1,\n",
    "        freeze_panes = (1,0),\n",
    "        header_format = {\"bold\": True}\n",
    "    )\n"
   ]
  },
  {
   "cell_type": "code",
   "execution_count": 149,
   "id": "2accd100",
   "metadata": {},
   "outputs": [],
   "source": [
    "# kijken welke competition uit the statsbomb scillcorner mapping file niet in de statsbomb file zit"
   ]
  },
  {
   "cell_type": "code",
   "execution_count": 134,
   "id": "3ec15a37",
   "metadata": {},
   "outputs": [],
   "source": [
    "# 5.1 Linking competition info (country & division) to skillcorner competition edition\n",
    "df = sb_sc.join(sb, #join statsbomb information with the sb - sc comparison\n",
    "        left_on=\"sb_competition_id\",\n",
    "        right_on=\"competition_id\",\n",
    "        how = \"left\"\n",
    ").select(\n",
    "    [\n",
    "        \"sc_competition_season_id\", \n",
    "        \"competition_region_name\",\n",
    "        \"competition_division_level\"\n",
    "    ]\n",
    ").with_columns(\n",
    "    pl.concat_str(\n",
    "        [\n",
    "            pl.col(\"competition_region_name\"),\n",
    "            pl.col(\"competition_division_level\").cast(str),\n",
    "        ],\n",
    "        separator=\" \",\n",
    "    ).alias(\"competition_region_division\")\n",
    ").drop(\n",
    "    [\n",
    "        \"competition_region_name\", \n",
    "        \"competition_division_level\"\n",
    "    ]\n",
    ").join(\n",
    "    df, \n",
    "    left_on=\"sc_competition_season_id\",\n",
    "    right_on=\"competition_edition_id\",\n",
    "    how = \"right\"\n",
    ")"
   ]
  },
  {
   "cell_type": "code",
   "execution_count": 135,
   "id": "229a0c84",
   "metadata": {},
   "outputs": [
    {
     "data": {
      "text/html": [
       "<div><style>\n",
       ".dataframe > thead > tr,\n",
       ".dataframe > tbody > tr {\n",
       "  text-align: right;\n",
       "  white-space: pre-wrap;\n",
       "}\n",
       "</style>\n",
       "<small>shape: (50,)</small><table border=\"1\" class=\"dataframe\"><thead><tr><th>competition_region_division</th></tr><tr><td>str</td></tr></thead><tbody><tr><td>&quot;Portugal 2&quot;</td></tr><tr><td>&quot;Germany 3&quot;</td></tr><tr><td>&quot;France 1&quot;</td></tr><tr><td>&quot;Germany 1&quot;</td></tr><tr><td>&quot;Spain 3&quot;</td></tr><tr><td>&quot;Uruguay 1&quot;</td></tr><tr><td>&quot;Belgium 1&quot;</td></tr><tr><td>&quot;Romania 1&quot;</td></tr><tr><td>&quot;Portugal 1&quot;</td></tr><tr><td>&quot;Scotland 1&quot;</td></tr><tr><td>&quot;Australia 1&quot;</td></tr><tr><td>&quot;Austria 1&quot;</td></tr><tr><td>&quot;Poland 1&quot;</td></tr><tr><td>&quot;Belgium 2&quot;</td></tr><tr><td>&quot;Japan 1&quot;</td></tr><tr><td>&quot;USA 3&quot;</td></tr><tr><td>&quot;Czech Republic 1&quot;</td></tr><tr><td>&quot;Sweden 1&quot;</td></tr><tr><td>null</td></tr><tr><td>&quot;Mexico 1&quot;</td></tr><tr><td>&quot;Norway 1&quot;</td></tr><tr><td>&quot;France 2&quot;</td></tr><tr><td>&quot;Hungary 1&quot;</td></tr><tr><td>&quot;Slovakia 1&quot;</td></tr><tr><td>&quot;Colombia 1&quot;</td></tr><tr><td>&quot;England 1&quot;</td></tr><tr><td>&quot;Netherlands 2&quot;</td></tr><tr><td>&quot;Switzerland 1&quot;</td></tr><tr><td>&quot;Denmark 1&quot;</td></tr><tr><td>&quot;Brazil 2&quot;</td></tr><tr><td>&quot;Croatia 1&quot;</td></tr><tr><td>&quot;Japan 2&quot;</td></tr><tr><td>&quot;Chile 1&quot;</td></tr><tr><td>&quot;Spain 2&quot;</td></tr><tr><td>&quot;Argentina 1&quot;</td></tr><tr><td>&quot;Brazil 1&quot;</td></tr><tr><td>&quot;England 2&quot;</td></tr><tr><td>&quot;Ecuador 1&quot;</td></tr><tr><td>&quot;USA 1&quot;</td></tr><tr><td>&quot;Greece 1&quot;</td></tr><tr><td>&quot;Italy 2&quot;</td></tr><tr><td>&quot;Germany 2&quot;</td></tr><tr><td>&quot;Serbia 1&quot;</td></tr><tr><td>&quot;Netherlands 1&quot;</td></tr><tr><td>&quot;South Africa 1&quot;</td></tr><tr><td>&quot;France 3&quot;</td></tr><tr><td>&quot;Paraguay 1&quot;</td></tr><tr><td>&quot;Italy 1&quot;</td></tr><tr><td>&quot;Spain 1&quot;</td></tr><tr><td>&quot;South Korea 1&quot;</td></tr></tbody></table></div>"
      ],
      "text/plain": [
       "shape: (50,)\n",
       "Series: 'competition_region_division' [str]\n",
       "[\n",
       "\t\"Portugal 2\"\n",
       "\t\"Germany 3\"\n",
       "\t\"France 1\"\n",
       "\t\"Germany 1\"\n",
       "\t\"Spain 3\"\n",
       "\t\"Uruguay 1\"\n",
       "\t\"Belgium 1\"\n",
       "\t\"Romania 1\"\n",
       "\t\"Portugal 1\"\n",
       "\t\"Scotland 1\"\n",
       "\t\"Australia 1\"\n",
       "\t\"Austria 1\"\n",
       "\t\"Poland 1\"\n",
       "\t\"Belgium 2\"\n",
       "\t\"Japan 1\"\n",
       "\t\"USA 3\"\n",
       "\t\"Czech Republic 1\"\n",
       "\t\"Sweden 1\"\n",
       "\tnull\n",
       "\t\"Mexico 1\"\n",
       "\t\"Norway 1\"\n",
       "\t\"France 2\"\n",
       "\t\"Hungary 1\"\n",
       "\t\"Slovakia 1\"\n",
       "\t\"Colombia 1\"\n",
       "\t\"England 1\"\n",
       "\t\"Netherlands 2\"\n",
       "\t\"Switzerland 1\"\n",
       "\t\"Denmark 1\"\n",
       "\t\"Brazil 2\"\n",
       "\t\"Croatia 1\"\n",
       "\t\"Japan 2\"\n",
       "\t\"Chile 1\"\n",
       "\t\"Spain 2\"\n",
       "\t\"Argentina 1\"\n",
       "\t\"Brazil 1\"\n",
       "\t\"England 2\"\n",
       "\t\"Ecuador 1\"\n",
       "\t\"USA 1\"\n",
       "\t\"Greece 1\"\n",
       "\t\"Italy 2\"\n",
       "\t\"Germany 2\"\n",
       "\t\"Serbia 1\"\n",
       "\t\"Netherlands 1\"\n",
       "\t\"South Africa 1\"\n",
       "\t\"France 3\"\n",
       "\t\"Paraguay 1\"\n",
       "\t\"Italy 1\"\n",
       "\t\"Spain 1\"\n",
       "\t\"South Korea 1\"\n",
       "]"
      ]
     },
     "execution_count": 135,
     "metadata": {},
     "output_type": "execute_result"
    }
   ],
   "source": [
    "df['competition_region_division'].unique()"
   ]
  },
  {
   "cell_type": "code",
   "execution_count": 86,
   "id": "4d02db33",
   "metadata": {},
   "outputs": [
    {
     "data": {
      "text/html": [
       "<div><style>\n",
       ".dataframe > thead > tr,\n",
       ".dataframe > tbody > tr {\n",
       "  text-align: right;\n",
       "  white-space: pre-wrap;\n",
       "}\n",
       "</style>\n",
       "<small>shape: (5, 128)</small><table border=\"1\" class=\"dataframe\"><thead><tr><th>sc_competition_season_id</th><th>competition_region_division</th><th>player_id</th><th>Count Sprint TIP 1</th><th>Sprinting Distance OTIP 2</th><th>player_name</th><th>Distance TIP 2</th><th>Count Medium Deceleration TIP</th><th>short_name</th><th>Count High Deceleration TIP 1</th><th>position</th><th>Count Sprint 1</th><th>HSR Distance TIP 2</th><th>Minutes</th><th>Count High Deceleration OTIP 2</th><th>Count Medium Deceleration TIP 2</th><th>Count Medium Deceleration TIP 1</th><th>Count Sprint OTIP 2</th><th>Count Medium Deceleration 2</th><th>Count High Deceleration</th><th>Count HSR TIP 1</th><th>Count High Deceleration 1</th><th>Count Medium Deceleration OTIP 2</th><th>team</th><th>Running Distance 1</th><th>Count HSR 2</th><th>Count HSR OTIP 1</th><th>Count HSR OTIP 2</th><th>group</th><th>match_id</th><th>Count High Acceleration 1</th><th>Minutes TIP</th><th>date</th><th>HSR Distance OTIP 1</th><th>player_birthdate</th><th>Distance 1</th><th>Distance 2</th><th>&hellip;</th><th>Count High Deceleration TIP 2</th><th>Count High Deceleration OTIP 1</th><th>season_id</th><th>Running Distance OTIP 1</th><th>PSV-99</th><th>Sprinting Distance</th><th>Minutes 2</th><th>Minutes OTIP 1</th><th>HSR Distance TIP</th><th>team_name</th><th>quality_check</th><th>Count High Acceleration 2</th><th>Count HSR TIP 2</th><th>competition_id</th><th>Running Distance OTIP</th><th>Running Distance OTIP 2</th><th>Distance TIP 1</th><th>HSR Distance 2</th><th>Count Medium Acceleration OTIP</th><th>Sprinting Distance TIP</th><th>Minutes OTIP</th><th>season_name</th><th>Count HSR 1</th><th>Count Medium Acceleration TIP 2</th><th>Count High Deceleration OTIP</th><th>Minutes TIP 2</th><th>Count Medium Acceleration TIP</th><th>name</th><th>competition.id</th><th>competition.area</th><th>competition.name</th><th>competition.gender</th><th>competition.age_group</th><th>season.id</th><th>season.start_year</th><th>season.end_year</th><th>season.name</th></tr><tr><td>i64</td><td>str</td><td>i64</td><td>i64</td><td>i64</td><td>str</td><td>i64</td><td>i64</td><td>str</td><td>i64</td><td>str</td><td>i64</td><td>i64</td><td>f64</td><td>i64</td><td>i64</td><td>i64</td><td>i64</td><td>i64</td><td>i64</td><td>i64</td><td>i64</td><td>i64</td><td>str</td><td>i64</td><td>i64</td><td>i64</td><td>i64</td><td>str</td><td>i64</td><td>i64</td><td>f64</td><td>str</td><td>i64</td><td>str</td><td>i64</td><td>i64</td><td>&hellip;</td><td>i64</td><td>i64</td><td>i64</td><td>i64</td><td>f64</td><td>i64</td><td>f64</td><td>f64</td><td>i64</td><td>str</td><td>bool</td><td>i64</td><td>i64</td><td>i64</td><td>i64</td><td>i64</td><td>i64</td><td>i64</td><td>i64</td><td>i64</td><td>f64</td><td>str</td><td>i64</td><td>i64</td><td>i64</td><td>f64</td><td>i64</td><td>str</td><td>i64</td><td>str</td><td>str</td><td>str</td><td>str</td><td>i64</td><td>i64</td><td>i64</td><td>str</td></tr></thead><tbody><tr><td>895</td><td>&quot;England 1&quot;</td><td>13078</td><td>2</td><td>37</td><td>&quot;Mason Mount&quot;</td><td>549</td><td>16</td><td>&quot;M. Mount&quot;</td><td>4</td><td>&quot;AM&quot;</td><td>10</td><td>68</td><td>61.38</td><td>2</td><td>0</td><td>16</td><td>1</td><td>8</td><td>18</td><td>10</td><td>15</td><td>2</td><td>&quot;Manchester United&quot;</td><td>933</td><td>7</td><td>17</td><td>2</td><td>&quot;Midfield&quot;</td><td>1650385</td><td>4</td><td>22.05</td><td>&quot;2024-08-16&quot;</td><td>233</td><td>&quot;1999-01-10&quot;</td><td>5763</td><td>1723</td><td>&hellip;</td><td>0</td><td>2</td><td>95</td><td>482</td><td>30.3</td><td>321</td><td>15.18</td><td>10.88</td><td>194</td><td>&quot;Manchester United&quot;</td><td>true</td><td>0</td><td>3</td><td>1</td><td>638</td><td>156</td><td>2503</td><td>104</td><td>21</td><td>81</td><td>14.36</td><td>&quot;2024/2025&quot;</td><td>30</td><td>3</td><td>4</td><td>3.67</td><td>19</td><td>&quot;ENG - Premier League - 2024/20…</td><td>1</td><td>&quot;ENG&quot;</td><td>&quot;Premier League&quot;</td><td>&quot;male&quot;</td><td>&quot;adult&quot;</td><td>95</td><td>2024</td><td>2025</td><td>&quot;2024/2025&quot;</td></tr><tr><td>895</td><td>&quot;England 1&quot;</td><td>24579</td><td>4</td><td>41</td><td>&quot;Conor Chaplin&quot;</td><td>461</td><td>11</td><td>&quot;C. Chaplin&quot;</td><td>2</td><td>&quot;AM&quot;</td><td>7</td><td>26</td><td>65.51</td><td>2</td><td>0</td><td>11</td><td>2</td><td>16</td><td>15</td><td>12</td><td>10</td><td>6</td><td>&quot;Ipswich Town&quot;</td><td>1112</td><td>9</td><td>18</td><td>7</td><td>&quot;Midfield&quot;</td><td>1650961</td><td>2</td><td>14.25</td><td>&quot;2024-08-17&quot;</td><td>239</td><td>&quot;1997-02-16&quot;</td><td>6043</td><td>2259</td><td>&hellip;</td><td>0</td><td>3</td><td>95</td><td>646</td><td>29.2</td><td>316</td><td>19.23</td><td>15.18</td><td>214</td><td>&quot;Ipswich Town&quot;</td><td>true</td><td>0</td><td>0</td><td>1</td><td>990</td><td>344</td><td>1922</td><td>149</td><td>33</td><td>115</td><td>21.75</td><td>&quot;2024/2025&quot;</td><td>31</td><td>3</td><td>5</td><td>2.55</td><td>13</td><td>&quot;ENG - Premier League - 2024/20…</td><td>1</td><td>&quot;ENG&quot;</td><td>&quot;Premier League&quot;</td><td>&quot;male&quot;</td><td>&quot;adult&quot;</td><td>95</td><td>2024</td><td>2025</td><td>&quot;2024/2025&quot;</td></tr><tr><td>895</td><td>&quot;England 1&quot;</td><td>13589</td><td>2</td><td>73</td><td>&quot;Dominik Szoboszlai&quot;</td><td>2381</td><td>25</td><td>&quot;D. Szoboszlai&quot;</td><td>1</td><td>&quot;AM&quot;</td><td>8</td><td>217</td><td>99.88</td><td>3</td><td>14</td><td>11</td><td>3</td><td>42</td><td>19</td><td>18</td><td>9</td><td>10</td><td>&quot;Liverpool Football Club&quot;</td><td>1080</td><td>26</td><td>13</td><td>14</td><td>&quot;Midfield&quot;</td><td>1650961</td><td>4</td><td>32.58</td><td>&quot;2024-08-17&quot;</td><td>198</td><td>&quot;2000-10-25&quot;</td><td>5884</td><td>5633</td><td>&hellip;</td><td>2</td><td>2</td><td>95</td><td>520</td><td>32.0</td><td>510</td><td>53.6</td><td>11.7</td><td>448</td><td>&quot;Liverpool Football Club&quot;</td><td>true</td><td>2</td><td>11</td><td>1</td><td>973</td><td>453</td><td>2279</td><td>460</td><td>31</td><td>190</td><td>21.85</td><td>&quot;2024/2025&quot;</td><td>33</td><td>20</td><td>5</td><td>17.4</td><td>35</td><td>&quot;ENG - Premier League - 2024/20…</td><td>1</td><td>&quot;ENG&quot;</td><td>&quot;Premier League&quot;</td><td>&quot;male&quot;</td><td>&quot;adult&quot;</td><td>95</td><td>2024</td><td>2025</td><td>&quot;2024/2025&quot;</td></tr><tr><td>895</td><td>&quot;England 1&quot;</td><td>24703</td><td>2</td><td>21</td><td>&quot;João Pedro Junqueira de Jesus&quot;</td><td>1650</td><td>24</td><td>&quot;João Pedro&quot;</td><td>2</td><td>&quot;AM&quot;</td><td>3</td><td>145</td><td>85.78</td><td>1</td><td>11</td><td>13</td><td>2</td><td>36</td><td>22</td><td>14</td><td>12</td><td>6</td><td>&quot;Brighton and Hove Albion&quot;</td><td>1205</td><td>22</td><td>19</td><td>10</td><td>&quot;Midfield&quot;</td><td>1651702</td><td>5</td><td>25.74</td><td>&quot;2024-08-17&quot;</td><td>203</td><td>&quot;2001-09-26&quot;</td><td>6135</td><td>4186</td><td>&hellip;</td><td>3</td><td>3</td><td>95</td><td>572</td><td>29.3</td><td>234</td><td>36.6</td><td>13.83</td><td>328</td><td>&quot;Brighton and Hove Albion&quot;</td><td>true</td><td>5</td><td>11</td><td>1</td><td>824</td><td>252</td><td>2018</td><td>285</td><td>32</td><td>160</td><td>21.35</td><td>&quot;2024/2025&quot;</td><td>36</td><td>15</td><td>4</td><td>11.87</td><td>33</td><td>&quot;ENG - Premier League - 2024/20…</td><td>1</td><td>&quot;ENG&quot;</td><td>&quot;Premier League&quot;</td><td>&quot;male&quot;</td><td>&quot;adult&quot;</td><td>95</td><td>2024</td><td>2025</td><td>&quot;2024/2025&quot;</td></tr><tr><td>895</td><td>&quot;England 1&quot;</td><td>12166</td><td>5</td><td>20</td><td>&quot;Morgan Gibbs-White&quot;</td><td>2066</td><td>30</td><td>&quot;M. Gibbs-White&quot;</td><td>2</td><td>&quot;AM&quot;</td><td>9</td><td>156</td><td>107.9</td><td>3</td><td>19</td><td>11</td><td>1</td><td>50</td><td>18</td><td>13</td><td>9</td><td>15</td><td>&quot;Nottingham Forest&quot;</td><td>973</td><td>33</td><td>18</td><td>15</td><td>&quot;Midfield&quot;</td><td>1651704</td><td>4</td><td>28.77</td><td>&quot;2024-08-17&quot;</td><td>189</td><td>&quot;2000-01-27&quot;</td><td>5952</td><td>5605</td><td>&hellip;</td><td>2</td><td>2</td><td>95</td><td>454</td><td>27.5</td><td>169</td><td>51.0</td><td>13.58</td><td>330</td><td>&quot;Nottingham Forest&quot;</td><td>true</td><td>4</td><td>18</td><td>1</td><td>888</td><td>434</td><td>2009</td><td>399</td><td>40</td><td>96</td><td>29.66</td><td>&quot;2024/2025&quot;</td><td>32</td><td>20</td><td>5</td><td>14.47</td><td>35</td><td>&quot;ENG - Premier League - 2024/20…</td><td>1</td><td>&quot;ENG&quot;</td><td>&quot;Premier League&quot;</td><td>&quot;male&quot;</td><td>&quot;adult&quot;</td><td>95</td><td>2024</td><td>2025</td><td>&quot;2024/2025&quot;</td></tr></tbody></table></div>"
      ],
      "text/plain": [
       "shape: (5, 128)\n",
       "┌───────────┬───────────┬───────────┬───────────┬───┬───────────┬───────────┬───────────┬──────────┐\n",
       "│ sc_compet ┆ competiti ┆ player_id ┆ Count     ┆ … ┆ season.id ┆ season.st ┆ season.en ┆ season.n │\n",
       "│ ition_sea ┆ on_region ┆ ---       ┆ Sprint    ┆   ┆ ---       ┆ art_year  ┆ d_year    ┆ ame      │\n",
       "│ son_id    ┆ _division ┆ i64       ┆ TIP 1     ┆   ┆ i64       ┆ ---       ┆ ---       ┆ ---      │\n",
       "│ ---       ┆ ---       ┆           ┆ ---       ┆   ┆           ┆ i64       ┆ i64       ┆ str      │\n",
       "│ i64       ┆ str       ┆           ┆ i64       ┆   ┆           ┆           ┆           ┆          │\n",
       "╞═══════════╪═══════════╪═══════════╪═══════════╪═══╪═══════════╪═══════════╪═══════════╪══════════╡\n",
       "│ 895       ┆ England 1 ┆ 13078     ┆ 2         ┆ … ┆ 95        ┆ 2024      ┆ 2025      ┆ 2024/202 │\n",
       "│           ┆           ┆           ┆           ┆   ┆           ┆           ┆           ┆ 5        │\n",
       "│ 895       ┆ England 1 ┆ 24579     ┆ 4         ┆ … ┆ 95        ┆ 2024      ┆ 2025      ┆ 2024/202 │\n",
       "│           ┆           ┆           ┆           ┆   ┆           ┆           ┆           ┆ 5        │\n",
       "│ 895       ┆ England 1 ┆ 13589     ┆ 2         ┆ … ┆ 95        ┆ 2024      ┆ 2025      ┆ 2024/202 │\n",
       "│           ┆           ┆           ┆           ┆   ┆           ┆           ┆           ┆ 5        │\n",
       "│ 895       ┆ England 1 ┆ 24703     ┆ 2         ┆ … ┆ 95        ┆ 2024      ┆ 2025      ┆ 2024/202 │\n",
       "│           ┆           ┆           ┆           ┆   ┆           ┆           ┆           ┆ 5        │\n",
       "│ 895       ┆ England 1 ┆ 12166     ┆ 5         ┆ … ┆ 95        ┆ 2024      ┆ 2025      ┆ 2024/202 │\n",
       "│           ┆           ┆           ┆           ┆   ┆           ┆           ┆           ┆ 5        │\n",
       "└───────────┴───────────┴───────────┴───────────┴───┴───────────┴───────────┴───────────┴──────────┘"
      ]
     },
     "execution_count": 86,
     "metadata": {},
     "output_type": "execute_result"
    }
   ],
   "source": [
    "df.head()"
   ]
  },
  {
   "cell_type": "markdown",
   "id": "dacb06fc",
   "metadata": {},
   "source": [
    "STEP 6: Performance metrics have to be normalized towards a 90 minute match based on the minutes played"
   ]
  },
  {
   "cell_type": "code",
   "execution_count": 19,
   "id": "65d3b213",
   "metadata": {},
   "outputs": [],
   "source": [
    "# 6.1: Defining column names that do not have to be normalized (non numeric columns)\n",
    "list2skip = df.select(~cs.numeric()).columns"
   ]
  },
  {
   "cell_type": "code",
   "execution_count": 20,
   "id": "55b379e9",
   "metadata": {},
   "outputs": [],
   "source": [
    "# Hardcoding the numerical columns that do not have to be normalized\n",
    "hardcoded = [\n",
    "    'PSV-99',\n",
    "    'competition_edition_id',\n",
    "    'competition_id',\n",
    "    'competition_id_right',\n",
    "    'match_id',\n",
    "    'player_id',\n",
    "    'season_id_right',\n",
    "    'season_id',\n",
    "    'season_end_year',\n",
    "    'season_start_year',\n",
    "    'team_id'\n",
    "]"
   ]
  },
  {
   "cell_type": "code",
   "execution_count": 21,
   "id": "2984c6d9",
   "metadata": {},
   "outputs": [],
   "source": [
    "list2skip = list2skip + hardcoded"
   ]
  },
  {
   "cell_type": "code",
   "execution_count": 23,
   "id": "fd1e5456",
   "metadata": {},
   "outputs": [],
   "source": [
    "# 6.2 hardcoding the time indicators\n",
    "# Needed to correctly normalize each metric\n",
    "time_indicators = {\n",
    "    \"OTIP 2\": \"Minutes OTIP 2\",\n",
    "    \"OTIP 1\": \"Minutes OTIP 1\",\n",
    "    \"TIP 2\": \"Minutes TIP 2\",\n",
    "    \"TIP 1\": \"Minutes TIP 1\",\n",
    "    \"OTIP\": \"Minutes OTIP\",\n",
    "    \"TIP\": \"Minutes TIP\",\n",
    "    \"2\": \"Minutes 2\",\n",
    "    \"1\": \"Minutes 1\"\n",
    "}"
   ]
  },
  {
   "cell_type": "code",
   "execution_count": 24,
   "id": "6d61c69c",
   "metadata": {},
   "outputs": [],
   "source": [
    "# iterating over the columns to match them to the correct time / minute column\n",
    "# normalizing the metrics for the time played\n",
    "for coln in df.columns:\n",
    "    if coln in list2skip:\n",
    "        continue\n",
    "\n",
    "    for pattern, indicator in time_indicators.items():\n",
    "        if pattern in coln:\n",
    "            divisor = indicator\n",
    "            break\n",
    "        else:\n",
    "            divisor = \"Minutes\"\n",
    "\n",
    "    df = df.with_columns(\n",
    "        ((pl.col(coln) / pl.col(divisor))*90).alias(f\"P90 {coln}\")\n",
    "    )"
   ]
  },
  {
   "cell_type": "code",
   "execution_count": 25,
   "id": "d11c8683",
   "metadata": {},
   "outputs": [],
   "source": [
    "# sort the dataframe again for logical column order\n",
    "df = df.select(sorted(df.columns))"
   ]
  },
  {
   "cell_type": "markdown",
   "id": "faccd2c4",
   "metadata": {},
   "source": [
    "STEP 7: Creating Excell files showing benchmarked data for the needed metrics"
   ]
  },
  {
   "cell_type": "code",
   "execution_count": 26,
   "id": "7d68e9a5",
   "metadata": {},
   "outputs": [],
   "source": [
    "# 7.1 group the symmetrical positions by hardcoding\n",
    "# symmetrical positions have to be shown in the same excell sheet \n",
    "mapping = {\n",
    "    \"RM\": \"RM|LM\",\n",
    "    \"LM\": \"RM|LM\",\n",
    "    \"RCB\": \"RCB|LCB\",\n",
    "    \"LCB\": \"RCB|LCB\",\n",
    "    \"RWB\": \"RWB|LWB\",\n",
    "    \"LWB\": \"RWB|LWB\",\n",
    "    \"RF\": \"RF|LF\",\n",
    "    \"LF\": \"RF|LF\",\n",
    "    \"RW\": \"RW|LW\",\n",
    "    \"LW\": \"RW|LW\",\n",
    "    \"DM\": \"DM\",\n",
    "    \"AM\": \"AM\",\n",
    "    \"CB\": \"CB\",\n",
    "    \"CF\": \"CF\"\n",
    "}"
   ]
  },
  {
   "cell_type": "code",
   "execution_count": 27,
   "id": "9c96de9d",
   "metadata": {},
   "outputs": [],
   "source": [
    "df = df.with_columns(\n",
    "    position_grouped = pl.col(\"position\").replace_strict(mapping)\n",
    ")"
   ]
  },
  {
   "cell_type": "code",
   "execution_count": 28,
   "id": "41bdea3d",
   "metadata": {},
   "outputs": [],
   "source": [
    "# 7.2 Hardcoding column names of the metrics wanted in the excells\n",
    "# competition_region_division and position are fixed columns and should not be changed\n",
    "df_subset = df.select([\n",
    "    'competition_region_division', \n",
    "    'position_grouped',\n",
    "    'P90 Distance',\n",
    "    'P90 Running Distance',\n",
    "    'P90 HSR Distance', \n",
    "    'P90 Sprinting Distance', \n",
    "    'PSV-99'\n",
    "])"
   ]
  },
  {
   "cell_type": "code",
   "execution_count": 29,
   "id": "b2c09857",
   "metadata": {},
   "outputs": [],
   "source": [
    "# The performance metrics are variable columns and can be modified\n",
    "# depending on the wanted analysis\n",
    "metrics = df_subset.drop([\n",
    "    'competition_region_division', \n",
    "    'position_grouped'\n",
    "]).columns"
   ]
  },
  {
   "cell_type": "code",
   "execution_count": 30,
   "id": "ec947829",
   "metadata": {},
   "outputs": [],
   "source": [
    "# 7.3 Hardcoding positions in the same order as the wanted excell sheet order\n",
    "positions = ['CB', 'RCB|LCB', 'RWB|LWB', 'DM','RM|LM', 'AM', 'RW|LW', 'CF', 'RF|LF']"
   ]
  },
  {
   "cell_type": "code",
   "execution_count": 38,
   "id": "27d6bc9e",
   "metadata": {},
   "outputs": [],
   "source": [
    "def position_filter(dataframe, position):\n",
    "    \"\"\"Filters the dataframe on a specified position\"\"\"\n",
    "    pos_df = dataframe.filter(\n",
    "                pl.col(\"position_grouped\") == position\n",
    "            ).filter(\n",
    "                pl.col(\"competition_region_division\").is_not_null()\n",
    "            )\n",
    "    \n",
    "    return pos_df"
   ]
  },
  {
   "cell_type": "code",
   "execution_count": 39,
   "id": "0adb3cb7",
   "metadata": {},
   "outputs": [],
   "source": [
    "def sample_size_calculator(dataframe):\n",
    "    \"\"\"Calculate the sample size per position per competition\"\"\"\n",
    "    ss_df = (\n",
    "        dataframe.group_by(\n",
    "            \"competition_region_division\"        \n",
    "        ).agg([\n",
    "            pl.col(\"competition_region_division\").len().alias(\"Sample Size\")\n",
    "        ])\n",
    "    )\n",
    "    \n",
    "    return ss_df"
   ]
  },
  {
   "cell_type": "code",
   "execution_count": 31,
   "id": "c01eb78b",
   "metadata": {},
   "outputs": [],
   "source": [
    "\n",
    "# 7.4 Create the 1st excell type\n",
    "# store the statistical measures to loop through \n",
    "stats = {\n",
    "    \"Mean\": pl.col(metrics).mean(),\n",
    "    \"Median\": pl.col(metrics).median(),\n",
    "    \"Std\": pl.col(metrics).std(),\n",
    "    \"Q25\": pl.col(metrics).quantile(0.25),\n",
    "    \"Q75\": pl.col(metrics).quantile(0.75),\n",
    "}"
   ]
  },
  {
   "cell_type": "code",
   "execution_count": 44,
   "id": "359b2db8",
   "metadata": {},
   "outputs": [],
   "source": [
    "with xlsxwriter.Workbook(\"match_benchmarks_stat_grouped.xlsx\") as wb:\n",
    "\n",
    "    for position in positions:\n",
    "        result_list = []\n",
    "        \n",
    "        # Filter for the specific position\n",
    "        df_pos = position_filter(df_subset, position)\n",
    "\n",
    "        # determine the sample size per competition\n",
    "        ss = sample_size_calculator(df_pos)\n",
    "\n",
    "        for stat_name, stat_expr in stats.items():\n",
    "            result = (\n",
    "                df_pos\n",
    "                .group_by(\"competition_region_division\")\n",
    "                .agg([stat_expr])\n",
    "                .with_columns(pl.lit(stat_name).alias(\"Statistical Measure\"))\n",
    "            )\n",
    "            result_list.append(result)\n",
    "\n",
    "        # Combine all results with columns in prefered order \n",
    "        pl.concat(\n",
    "                result_list\n",
    "            ).join(\n",
    "                ss, on=\"competition_region_division\"\n",
    "            ).select([\n",
    "                    \"competition_region_division\",\n",
    "                    \"Statistical Measure\",\n",
    "                    \"Sample Size\"\n",
    "                ]\n",
    "                + metrics\n",
    "            ).rename({\n",
    "                \"competition_region_division\":\"Competition\"\n",
    "            }).write_excel(\n",
    "                workbook=wb, \n",
    "                worksheet = position,\n",
    "                autofit = True,\n",
    "                float_precision = 1,\n",
    "                freeze_panes = (1,0),\n",
    "                header_format = {\"bold\": True}\n",
    "            )"
   ]
  },
  {
   "cell_type": "code",
   "execution_count": 45,
   "id": "890a1d5c",
   "metadata": {},
   "outputs": [],
   "source": [
    "# 7.5 Create the 2nd excell type\n",
    "with xlsxwriter.Workbook(\"match_benchmarks_stat_sep.xlsx\") as wb:\n",
    "\n",
    "    for position in positions:    \n",
    "        result_list = []\n",
    "\n",
    "        # Filter for the specific position\n",
    "        df_pos = position_filter(df_subset, position)\n",
    "\n",
    "        # determine the sample size per competition\n",
    "        ss = sample_size_calculator(df_pos)\n",
    "        result_list.append(ss)\n",
    "\n",
    "        # Filter for this specific position\n",
    "        for metric in metrics:\n",
    "            result = (\n",
    "                df_pos\n",
    "                .filter(pl.col(\"position_grouped\") == position)\n",
    "                .group_by(\"competition_region_division\")\n",
    "                .agg(\n",
    "                    [pl.col(metric).mean().alias(f\"{metric} Mean\")] +\n",
    "                    [pl.col(metric).median().alias(f\"{metric} Median\")] + \n",
    "                    [pl.col(metric).std().alias(f\"{metric}  Std\")] + \n",
    "                    [pl.col(metric).quantile(0.25).alias(f\"{metric} Q25\")]+\n",
    "                    [pl.col(metric).quantile(0.75).alias(f\"{metric} Q75\")]\n",
    "                )\n",
    "            )   \n",
    "\n",
    "            result_list.append(result)\n",
    "\n",
    "        # Combine all results in a dataframe to write to a position sheet of the excel\n",
    "        pl.concat(\n",
    "                result_list, how='align'\n",
    "            ).rename({\n",
    "                \"competition_region_division\":\"Competition\"\n",
    "            }).write_excel(\n",
    "                workbook=wb, \n",
    "                worksheet = position,\n",
    "                autofit = True,\n",
    "                float_precision = 1,\n",
    "                freeze_panes = (1,0),\n",
    "                header_format = {\"bold\": True}\n",
    "            )"
   ]
  },
  {
   "cell_type": "code",
   "execution_count": 42,
   "id": "6288f80a",
   "metadata": {},
   "outputs": [],
   "source": [
    "# STEP 9: Write the dataframe to a parquet file that will be used for visualisation\n",
    "# entire dataframe written to the parquet file \n",
    "parquet4visual_path = \"./parquet4visual.parquet\""
   ]
  },
  {
   "cell_type": "code",
   "execution_count": 43,
   "id": "e181565d",
   "metadata": {},
   "outputs": [],
   "source": [
    "\n",
    "df.write_parquet(parquet4visual_path)"
   ]
  }
 ],
 "metadata": {
  "kernelspec": {
   "display_name": "club_brugge",
   "language": "python",
   "name": "python3"
  },
  "language_info": {
   "codemirror_mode": {
    "name": "ipython",
    "version": 3
   },
   "file_extension": ".py",
   "mimetype": "text/x-python",
   "name": "python",
   "nbconvert_exporter": "python",
   "pygments_lexer": "ipython3",
   "version": "3.13.3"
  }
 },
 "nbformat": 4,
 "nbformat_minor": 5
}
