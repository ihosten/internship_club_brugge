{
 "cells": [
  {
   "cell_type": "code",
   "execution_count": 15,
   "metadata": {},
   "outputs": [],
   "source": [
    "import polars as pl\n",
    "import seaborn as sns\n",
    "import matplotlib.pyplot as plt\n",
    "import numpy as np\n",
    "import json\n",
    "from io import StringIO\n",
    "import pygwalker as pyg\n",
    "import os\n",
    "from tqdm import tqdm\n",
    "import polars.selectors as cs\n",
    "from openpyxl import Workbook\n",
    "import re\n",
    "import xlsxwriter\n"
   ]
  },
  {
   "cell_type": "code",
   "execution_count": 16,
   "metadata": {},
   "outputs": [],
   "source": [
    "csv_path = \"./final_df.csv\""
   ]
  },
  {
   "cell_type": "code",
   "execution_count": 17,
   "metadata": {},
   "outputs": [
    {
     "data": {
      "text/plain": [
<<<<<<< HEAD
       "(508602, 218)"
=======
       "(449537, 322)"
>>>>>>> ecf08498a9159a99827573dc94b46897c99c0a13
      ]
     },
     "execution_count": 17,
     "metadata": {},
     "output_type": "execute_result"
    }
   ],
   "source": [
    "df = pl.read_csv(csv_path)\n",
    "df.shape"
   ]
  },
  {
   "cell_type": "code",
<<<<<<< HEAD
   "execution_count": 18,
   "metadata": {},
   "outputs": [
    {
     "data": {
      "text/plain": [
       "['Count HSR',\n",
       " 'Count HSR 1',\n",
       " 'Count HSR 2',\n",
       " 'Count HSR OTIP',\n",
       " 'Count HSR OTIP 1',\n",
       " 'Count HSR OTIP 2',\n",
       " 'Count HSR TIP',\n",
       " 'Count HSR TIP 1',\n",
       " 'Count HSR TIP 2',\n",
       " 'Count High Acceleration',\n",
       " 'Count High Acceleration 1',\n",
       " 'Count High Acceleration 2',\n",
       " 'Count High Acceleration OTIP',\n",
       " 'Count High Acceleration OTIP 1',\n",
       " 'Count High Acceleration OTIP 2',\n",
       " 'Count High Acceleration TIP',\n",
       " 'Count High Acceleration TIP 1',\n",
       " 'Count High Acceleration TIP 2',\n",
       " 'Count High Deceleration',\n",
       " 'Count High Deceleration 1',\n",
       " 'Count High Deceleration 2',\n",
       " 'Count High Deceleration OTIP',\n",
       " 'Count High Deceleration OTIP 1',\n",
       " 'Count High Deceleration OTIP 2',\n",
       " 'Count High Deceleration TIP',\n",
       " 'Count High Deceleration TIP 1',\n",
       " 'Count High Deceleration TIP 2',\n",
       " 'Count Medium Acceleration',\n",
       " 'Count Medium Acceleration 1',\n",
       " 'Count Medium Acceleration 2',\n",
       " 'Count Medium Acceleration OTIP',\n",
       " 'Count Medium Acceleration OTIP 1',\n",
       " 'Count Medium Acceleration OTIP 2',\n",
       " 'Count Medium Acceleration TIP',\n",
       " 'Count Medium Acceleration TIP 1',\n",
       " 'Count Medium Acceleration TIP 2',\n",
       " 'Count Medium Deceleration',\n",
       " 'Count Medium Deceleration 1',\n",
       " 'Count Medium Deceleration 2',\n",
       " 'Count Medium Deceleration OTIP',\n",
       " 'Count Medium Deceleration OTIP 1',\n",
       " 'Count Medium Deceleration OTIP 2',\n",
       " 'Count Medium Deceleration TIP',\n",
       " 'Count Medium Deceleration TIP 1',\n",
       " 'Count Medium Deceleration TIP 2',\n",
       " 'Count Sprint',\n",
       " 'Count Sprint 1',\n",
       " 'Count Sprint 2',\n",
       " 'Count Sprint OTIP',\n",
       " 'Count Sprint OTIP 1',\n",
       " 'Count Sprint OTIP 2',\n",
       " 'Count Sprint TIP',\n",
       " 'Count Sprint TIP 1',\n",
       " 'Count Sprint TIP 2',\n",
       " 'Distance',\n",
       " 'Distance 1',\n",
       " 'Distance 2',\n",
       " 'Distance OTIP',\n",
       " 'Distance OTIP 1',\n",
       " 'Distance OTIP 2',\n",
       " 'Distance TIP',\n",
       " 'Distance TIP 1',\n",
       " 'Distance TIP 2',\n",
       " 'HSR Distance',\n",
       " 'HSR Distance 1',\n",
       " 'HSR Distance 2',\n",
       " 'HSR Distance OTIP',\n",
       " 'HSR Distance OTIP 1',\n",
       " 'HSR Distance OTIP 2',\n",
       " 'HSR Distance TIP',\n",
       " 'HSR Distance TIP 1',\n",
       " 'HSR Distance TIP 2',\n",
       " 'Minutes',\n",
       " 'Minutes 1',\n",
       " 'Minutes 2',\n",
       " 'Minutes OTIP',\n",
       " 'Minutes OTIP 1',\n",
       " 'Minutes OTIP 2',\n",
       " 'Minutes TIP',\n",
       " 'Minutes TIP 1',\n",
       " 'Minutes TIP 2',\n",
       " 'Running Distance',\n",
       " 'Running Distance 1',\n",
       " 'Running Distance 2',\n",
       " 'Running Distance OTIP',\n",
       " 'Running Distance OTIP 1',\n",
       " 'Running Distance OTIP 2',\n",
       " 'Running Distance TIP',\n",
       " 'Running Distance TIP 1',\n",
       " 'Running Distance TIP 2',\n",
       " 'Sprinting Distance',\n",
       " 'Sprinting Distance 1',\n",
       " 'Sprinting Distance 2',\n",
       " 'Sprinting Distance OTIP',\n",
       " 'Sprinting Distance OTIP 1',\n",
       " 'Sprinting Distance OTIP 2',\n",
       " 'Sprinting Distance TIP',\n",
       " 'Sprinting Distance TIP 1',\n",
       " 'Sprinting Distance TIP 2',\n",
       " 'P90_Count HSR',\n",
       " 'P90_Count HSR 1',\n",
       " 'P90_Count HSR 2',\n",
       " 'P90_Count HSR OTIP',\n",
       " 'P90_Count HSR OTIP 1',\n",
       " 'P90_Count HSR OTIP 2',\n",
       " 'P90_Count HSR TIP',\n",
       " 'P90_Count HSR TIP 1',\n",
       " 'P90_Count HSR TIP 2',\n",
       " 'P90_Count High Acceleration',\n",
       " 'P90_Count High Acceleration 1',\n",
       " 'P90_Count High Acceleration 2',\n",
       " 'P90_Count High Acceleration OTIP',\n",
       " 'P90_Count High Acceleration OTIP 1',\n",
       " 'P90_Count High Acceleration OTIP 2',\n",
       " 'P90_Count High Acceleration TIP',\n",
       " 'P90_Count High Acceleration TIP 1',\n",
       " 'P90_Count High Acceleration TIP 2',\n",
       " 'P90_Count High Deceleration',\n",
       " 'P90_Count High Deceleration 1',\n",
       " 'P90_Count High Deceleration 2',\n",
       " 'P90_Count High Deceleration OTIP',\n",
       " 'P90_Count High Deceleration OTIP 1',\n",
       " 'P90_Count High Deceleration OTIP 2',\n",
       " 'P90_Count High Deceleration TIP',\n",
       " 'P90_Count High Deceleration TIP 1',\n",
       " 'P90_Count High Deceleration TIP 2',\n",
       " 'P90_Count Medium Acceleration',\n",
       " 'P90_Count Medium Acceleration 1',\n",
       " 'P90_Count Medium Acceleration 2',\n",
       " 'P90_Count Medium Acceleration OTIP',\n",
       " 'P90_Count Medium Acceleration OTIP 1',\n",
       " 'P90_Count Medium Acceleration OTIP 2',\n",
       " 'P90_Count Medium Acceleration TIP',\n",
       " 'P90_Count Medium Acceleration TIP 1',\n",
       " 'P90_Count Medium Acceleration TIP 2',\n",
       " 'P90_Count Medium Deceleration',\n",
       " 'P90_Count Medium Deceleration 1',\n",
       " 'P90_Count Medium Deceleration 2',\n",
       " 'P90_Count Medium Deceleration OTIP',\n",
       " 'P90_Count Medium Deceleration OTIP 1',\n",
       " 'P90_Count Medium Deceleration OTIP 2',\n",
       " 'P90_Count Medium Deceleration TIP',\n",
       " 'P90_Count Medium Deceleration TIP 1',\n",
       " 'P90_Count Medium Deceleration TIP 2',\n",
       " 'P90_Count Sprint',\n",
       " 'P90_Count Sprint 1',\n",
       " 'P90_Count Sprint 2',\n",
       " 'P90_Count Sprint OTIP',\n",
       " 'P90_Count Sprint OTIP 1',\n",
       " 'P90_Count Sprint OTIP 2',\n",
       " 'P90_Count Sprint TIP',\n",
       " 'P90_Count Sprint TIP 1',\n",
       " 'P90_Count Sprint TIP 2',\n",
       " 'P90_Distance',\n",
       " 'P90_Distance 1',\n",
       " 'P90_Distance 2',\n",
       " 'P90_Distance OTIP',\n",
       " 'P90_Distance OTIP 1',\n",
       " 'P90_Distance OTIP 2',\n",
       " 'P90_Distance TIP',\n",
       " 'P90_Distance TIP 1',\n",
       " 'P90_Distance TIP 2',\n",
       " 'P90_HSR Distance',\n",
       " 'P90_HSR Distance 1',\n",
       " 'P90_HSR Distance 2',\n",
       " 'P90_HSR Distance OTIP',\n",
       " 'P90_HSR Distance OTIP 1',\n",
       " 'P90_HSR Distance OTIP 2',\n",
       " 'P90_HSR Distance TIP',\n",
       " 'P90_HSR Distance TIP 1',\n",
       " 'P90_HSR Distance TIP 2',\n",
       " 'P90_Running Distance',\n",
       " 'P90_Running Distance 1',\n",
       " 'P90_Running Distance 2',\n",
       " 'P90_Running Distance OTIP',\n",
       " 'P90_Running Distance OTIP 1',\n",
       " 'P90_Running Distance OTIP 2',\n",
       " 'P90_Running Distance TIP',\n",
       " 'P90_Running Distance TIP 1',\n",
       " 'P90_Running Distance TIP 2',\n",
       " 'P90_Sprinting Distance',\n",
       " 'P90_Sprinting Distance 1',\n",
       " 'P90_Sprinting Distance 2',\n",
       " 'P90_Sprinting Distance OTIP',\n",
       " 'P90_Sprinting Distance OTIP 1',\n",
       " 'P90_Sprinting Distance OTIP 2',\n",
       " 'P90_Sprinting Distance TIP',\n",
       " 'P90_Sprinting Distance TIP 1',\n",
       " 'P90_Sprinting Distance TIP 2',\n",
       " 'PSV-99',\n",
       " 'competition_age_group',\n",
       " 'competition_area',\n",
       " 'competition_edition_id',\n",
       " 'competition_gender',\n",
       " 'competition_id',\n",
       " 'competition_id_right',\n",
       " 'competition_name',\n",
       " 'competition_region_division',\n",
       " 'date',\n",
       " 'group',\n",
       " 'match_id',\n",
       " 'match_name',\n",
       " 'name',\n",
       " 'player_birthdate',\n",
       " 'player_id',\n",
       " 'player_name',\n",
       " 'position',\n",
       " 'quality_check',\n",
       " 'season_end_year',\n",
       " 'season_id',\n",
       " 'season_id_right',\n",
       " 'season_name',\n",
       " 'season_name_right',\n",
       " 'season_start_year',\n",
       " 'short_name',\n",
       " 'team',\n",
       " 'team_id',\n",
       " 'team_name']"
      ]
     },
     "execution_count": 18,
     "metadata": {},
     "output_type": "execute_result"
    }
   ],
   "source": [
    "df.columns"
   ]
  },
  {
   "cell_type": "code",
   "execution_count": 20,
=======
   "execution_count": 5,
>>>>>>> ecf08498a9159a99827573dc94b46897c99c0a13
   "metadata": {},
   "outputs": [
    {
     "data": {
      "text/html": [
       "<div><style>\n",
       ".dataframe > thead > tr,\n",
       ".dataframe > tbody > tr {\n",
       "  text-align: right;\n",
       "  white-space: pre-wrap;\n",
       "}\n",
       "</style>\n",
<<<<<<< HEAD
       "<small>shape: (5, 218)</small><table border=\"1\" class=\"dataframe\"><thead><tr><th>Count HSR</th><th>Count HSR 1</th><th>Count HSR 2</th><th>Count HSR OTIP</th><th>Count HSR OTIP 1</th><th>Count HSR OTIP 2</th><th>Count HSR TIP</th><th>Count HSR TIP 1</th><th>Count HSR TIP 2</th><th>Count High Acceleration</th><th>Count High Acceleration 1</th><th>Count High Acceleration 2</th><th>Count High Acceleration OTIP</th><th>Count High Acceleration OTIP 1</th><th>Count High Acceleration OTIP 2</th><th>Count High Acceleration TIP</th><th>Count High Acceleration TIP 1</th><th>Count High Acceleration TIP 2</th><th>Count High Deceleration</th><th>Count High Deceleration 1</th><th>Count High Deceleration 2</th><th>Count High Deceleration OTIP</th><th>Count High Deceleration OTIP 1</th><th>Count High Deceleration OTIP 2</th><th>Count High Deceleration TIP</th><th>Count High Deceleration TIP 1</th><th>Count High Deceleration TIP 2</th><th>Count Medium Acceleration</th><th>Count Medium Acceleration 1</th><th>Count Medium Acceleration 2</th><th>Count Medium Acceleration OTIP</th><th>Count Medium Acceleration OTIP 1</th><th>Count Medium Acceleration OTIP 2</th><th>Count Medium Acceleration TIP</th><th>Count Medium Acceleration TIP 1</th><th>Count Medium Acceleration TIP 2</th><th>Count Medium Deceleration</th><th>Count Medium Deceleration 1</th><th>Count Medium Deceleration 2</th><th>Count Medium Deceleration OTIP</th><th>Count Medium Deceleration OTIP 1</th><th>Count Medium Deceleration OTIP 2</th><th>Count Medium Deceleration TIP</th><th>Count Medium Deceleration TIP 1</th><th>Count Medium Deceleration TIP 2</th><th>Count Sprint</th><th>Count Sprint 1</th><th>Count Sprint 2</th><th>Count Sprint OTIP</th><th>Count Sprint OTIP 1</th><th>Count Sprint OTIP 2</th><th>Count Sprint TIP</th><th>Count Sprint TIP 1</th><th>Count Sprint TIP 2</th><th>Distance</th><th>Distance 1</th><th>Distance 2</th><th>Distance OTIP</th><th>Distance OTIP 1</th><th>Distance OTIP 2</th><th>Distance TIP</th><th>Distance TIP 1</th><th>Distance TIP 2</th><th>HSR Distance</th><th>HSR Distance 1</th><th>HSR Distance 2</th><th>HSR Distance OTIP</th><th>HSR Distance OTIP 1</th><th>HSR Distance OTIP 2</th><th>HSR Distance TIP</th><th>HSR Distance TIP 1</th><th>HSR Distance TIP 2</th><th>Minutes</th><th>Minutes 1</th><th>Minutes 2</th><th>&hellip;</th><th>P90_Count Medium Deceleration TIP 2</th><th>P90_Count Sprint</th><th>P90_Count Sprint 1</th><th>P90_Count Sprint 2</th><th>P90_Count Sprint OTIP</th><th>P90_Count Sprint OTIP 1</th><th>P90_Count Sprint OTIP 2</th><th>P90_Count Sprint TIP</th><th>P90_Count Sprint TIP 1</th><th>P90_Count Sprint TIP 2</th><th>P90_Distance</th><th>P90_Distance 1</th><th>P90_Distance 2</th><th>P90_Distance OTIP</th><th>P90_Distance OTIP 1</th><th>P90_Distance OTIP 2</th><th>P90_Distance TIP</th><th>P90_Distance TIP 1</th><th>P90_Distance TIP 2</th><th>P90_HSR Distance</th><th>P90_HSR Distance 1</th><th>P90_HSR Distance 2</th><th>P90_HSR Distance OTIP</th><th>P90_HSR Distance OTIP 1</th><th>P90_HSR Distance OTIP 2</th><th>P90_HSR Distance TIP</th><th>P90_HSR Distance TIP 1</th><th>P90_HSR Distance TIP 2</th><th>P90_Running Distance</th><th>P90_Running Distance 1</th><th>P90_Running Distance 2</th><th>P90_Running Distance OTIP</th><th>P90_Running Distance OTIP 1</th><th>P90_Running Distance OTIP 2</th><th>P90_Running Distance TIP</th><th>P90_Running Distance TIP 1</th><th>P90_Running Distance TIP 2</th><th>P90_Sprinting Distance</th><th>P90_Sprinting Distance 1</th><th>P90_Sprinting Distance 2</th><th>P90_Sprinting Distance OTIP</th><th>P90_Sprinting Distance OTIP 1</th><th>P90_Sprinting Distance OTIP 2</th><th>P90_Sprinting Distance TIP</th><th>P90_Sprinting Distance TIP 1</th><th>P90_Sprinting Distance TIP 2</th><th>PSV-99</th><th>competition_age_group</th><th>competition_area</th><th>competition_edition_id</th><th>competition_gender</th><th>competition_id</th><th>competition_id_right</th><th>competition_name</th><th>competition_region_division</th><th>date</th><th>group</th><th>match_id</th><th>match_name</th><th>name</th><th>player_birthdate</th><th>player_id</th><th>player_name</th><th>position</th><th>quality_check</th><th>season_end_year</th><th>season_id</th><th>season_id_right</th><th>season_name</th><th>season_name_right</th><th>season_start_year</th><th>short_name</th><th>team</th><th>team_id</th><th>team_name</th></tr><tr><td>i64</td><td>i64</td><td>i64</td><td>i64</td><td>i64</td><td>i64</td><td>i64</td><td>i64</td><td>i64</td><td>i64</td><td>i64</td><td>i64</td><td>i64</td><td>i64</td><td>i64</td><td>i64</td><td>i64</td><td>i64</td><td>i64</td><td>i64</td><td>i64</td><td>i64</td><td>i64</td><td>i64</td><td>i64</td><td>i64</td><td>i64</td><td>i64</td><td>i64</td><td>i64</td><td>i64</td><td>i64</td><td>i64</td><td>i64</td><td>i64</td><td>i64</td><td>i64</td><td>i64</td><td>i64</td><td>i64</td><td>i64</td><td>i64</td><td>i64</td><td>i64</td><td>i64</td><td>i64</td><td>i64</td><td>i64</td><td>i64</td><td>i64</td><td>i64</td><td>i64</td><td>i64</td><td>i64</td><td>i64</td><td>i64</td><td>i64</td><td>i64</td><td>i64</td><td>i64</td><td>i64</td><td>i64</td><td>i64</td><td>i64</td><td>i64</td><td>i64</td><td>i64</td><td>i64</td><td>i64</td><td>i64</td><td>i64</td><td>i64</td><td>f64</td><td>f64</td><td>f64</td><td>&hellip;</td><td>f64</td><td>f64</td><td>f64</td><td>f64</td><td>f64</td><td>f64</td><td>f64</td><td>f64</td><td>f64</td><td>f64</td><td>f64</td><td>f64</td><td>f64</td><td>f64</td><td>f64</td><td>f64</td><td>f64</td><td>f64</td><td>f64</td><td>f64</td><td>f64</td><td>f64</td><td>f64</td><td>f64</td><td>f64</td><td>f64</td><td>f64</td><td>f64</td><td>f64</td><td>f64</td><td>f64</td><td>f64</td><td>f64</td><td>f64</td><td>f64</td><td>f64</td><td>f64</td><td>f64</td><td>f64</td><td>f64</td><td>f64</td><td>f64</td><td>f64</td><td>f64</td><td>f64</td><td>f64</td><td>f64</td><td>str</td><td>str</td><td>i64</td><td>str</td><td>i64</td><td>i64</td><td>str</td><td>str</td><td>str</td><td>str</td><td>i64</td><td>str</td><td>str</td><td>str</td><td>i64</td><td>str</td><td>str</td><td>bool</td><td>i64</td><td>i64</td><td>i64</td><td>str</td><td>str</td><td>i64</td><td>str</td><td>str</td><td>i64</td><td>str</td></tr></thead><tbody><tr><td>59</td><td>33</td><td>26</td><td>34</td><td>17</td><td>17</td><td>19</td><td>13</td><td>6</td><td>4</td><td>3</td><td>1</td><td>0</td><td>0</td><td>0</td><td>0</td><td>0</td><td>0</td><td>11</td><td>8</td><td>3</td><td>4</td><td>3</td><td>1</td><td>3</td><td>2</td><td>1</td><td>100</td><td>52</td><td>48</td><td>47</td><td>24</td><td>23</td><td>22</td><td>12</td><td>10</td><td>89</td><td>42</td><td>47</td><td>34</td><td>17</td><td>17</td><td>17</td><td>8</td><td>9</td><td>5</td><td>3</td><td>2</td><td>2</td><td>1</td><td>1</td><td>2</td><td>1</td><td>1</td><td>13026</td><td>6810</td><td>6216</td><td>5727</td><td>2983</td><td>2744</td><td>3432</td><td>1874</td><td>1558</td><td>745</td><td>387</td><td>358</td><td>443</td><td>225</td><td>218</td><td>260</td><td>139</td><td>121</td><td>96.63</td><td>47.15</td><td>49.48</td><td>&hellip;</td><td>73.104693</td><td>4.656939</td><td>5.726405</td><td>3.637833</td><td>5.060444</td><td>4.926108</td><td>5.202312</td><td>7.434944</td><td>6.854532</td><td>8.122744</td><td>12132.257063</td><td>12998.939555</td><td>11306.386419</td><td>14490.581951</td><td>14694.581281</td><td>14275.144509</td><td>12758.364312</td><td>12845.392232</td><td>12655.234657</td><td>693.883887</td><td>738.706257</td><td>651.172191</td><td>1120.888389</td><td>1108.374384</td><td>1134.104046</td><td>966.542751</td><td>952.779893</td><td>982.851986</td><td>2249.301459</td><td>2584.517497</td><td>1929.870655</td><td>3805.454034</td><td>4147.783251</td><td>3443.930636</td><td>2457.249071</td><td>2529.322163</td><td>2371.841155</td><td>137.84539</td><td>175.609756</td><td>101.859337</td><td>113.859994</td><td>133.004926</td><td>93.641618</td><td>111.524164</td><td>75.399848</td><td>154.33213</td><td>25.7</td><td>&quot;adult&quot;</td><td>&quot;BEL&quot;</td><td>249</td><td>&quot;male&quot;</td><td>16</td><td>16</td><td>&quot;Pro League&quot;</td><td>&quot;Belgium_1&quot;</td><td>&quot;2021-07-25&quot;</td><td>&quot;Midfield&quot;</td><td>44999</td><td>&quot;KV Mechelen v Royal Antwerp FC&quot;</td><td>&quot;BEL - Pro League - 2021/2022&quot;</td><td>&quot;1995-02-17&quot;</td><td>8701</td><td>&quot;Pieter Gerkens&quot;</td><td>&quot;AM&quot;</td><td>true</td><td>2022</td><td>8</td><td>8</td><td>&quot;2021/2022&quot;</td><td>&quot;2021/2022&quot;</td><td>2021</td><td>&quot;P. Gerkens&quot;</td><td>&quot;Royal Antwerp FC&quot;</td><td>462</td><td>&quot;Royal Antwerp FC&quot;</td></tr><tr><td>39</td><td>20</td><td>19</td><td>17</td><td>10</td><td>7</td><td>20</td><td>9</td><td>11</td><td>5</td><td>3</td><td>2</td><td>1</td><td>0</td><td>1</td><td>2</td><td>1</td><td>1</td><td>8</td><td>5</td><td>3</td><td>1</td><td>1</td><td>0</td><td>2</td><td>1</td><td>1</td><td>77</td><td>36</td><td>41</td><td>32</td><td>15</td><td>17</td><td>25</td><td>11</td><td>14</td><td>77</td><td>31</td><td>46</td><td>25</td><td>11</td><td>14</td><td>20</td><td>9</td><td>11</td><td>8</td><td>3</td><td>5</td><td>1</td><td>1</td><td>0</td><td>4</td><td>1</td><td>3</td><td>9969</td><td>4842</td><td>5127</td><td>3534</td><td>1795</td><td>1739</td><td>3435</td><td>1660</td><td>1775</td><td>476</td><td>201</td><td>275</td><td>167</td><td>104</td><td>63</td><td>265</td><td>81</td><td>184</td><td>96.19</td><td>46.12</td><td>50.07</td><td>&hellip;</td><td>80.357143</td><td>7.485186</td><td>5.854293</td><td>8.987418</td><td>3.041568</td><td>6.198347</td><td>0.0</td><td>14.106583</td><td>6.818182</td><td>21.915584</td><td>9327.476869</td><td>9448.829141</td><td>9215.698023</td><td>10748.901656</td><td>11126.033058</td><td>10385.534174</td><td>12114.028213</td><td>11318.181818</td><td>12966.720779</td><td>445.368541</td><td>392.237641</td><td>494.307969</td><td>507.941872</td><td>644.628099</td><td>376.244194</td><td>934.561129</td><td>552.272727</td><td>1344.155844</td><td>1030.148664</td><td>954.249783</td><td>1100.059916</td><td>1222.710375</td><td>1103.305785</td><td>1337.757133</td><td>2151.253918</td><td>1820.454545</td><td>2505.681818</td><td>189.000936</td><td>93.66869</td><td>276.812463</td><td>72.997634</td><td>148.760331</td><td>0.0</td><td>479.623824</td><td>115.909091</td><td>869.318182</td><td>28.3</td><td>&quot;adult&quot;</td><td>&quot;BEL&quot;</td><td>249</td><td>&quot;male&quot;</td><td>16</td><td>16</td><td>&quot;Pro League&quot;</td><td>&quot;Belgium_1&quot;</td><td>&quot;2021-07-24&quot;</td><td>&quot;Midfield&quot;</td><td>45002</td><td>&quot;Oud-Heverlee Leuven v SV Zulte…</td><td>&quot;BEL - Pro League - 2021/2022&quot;</td><td>&quot;1989-07-25&quot;</td><td>10932</td><td>&quot;Xavier Mercier&quot;</td><td>&quot;AM&quot;</td><td>true</td><td>2022</td><td>8</td><td>8</td><td>&quot;2021/2022&quot;</td><td>&quot;2021/2022&quot;</td><td>2021</td><td>&quot;X. Mercier&quot;</td><td>&quot;Oud-Heverlee Leuven&quot;</td><td>27</td><td>&quot;Oud-Heverlee Leuven&quot;</td></tr><tr><td>34</td><td>21</td><td>13</td><td>14</td><td>7</td><td>7</td><td>18</td><td>13</td><td>5</td><td>3</td><td>1</td><td>2</td><td>2</td><td>1</td><td>1</td><td>1</td><td>0</td><td>1</td><td>11</td><td>7</td><td>4</td><td>3</td><td>2</td><td>1</td><td>2</td><td>1</td><td>1</td><td>64</td><td>39</td><td>25</td><td>23</td><td>17</td><td>6</td><td>26</td><td>18</td><td>8</td><td>82</td><td>57</td><td>25</td><td>18</td><td>13</td><td>5</td><td>33</td><td>22</td><td>11</td><td>5</td><td>4</td><td>1</td><td>2</td><td>1</td><td>1</td><td>2</td><td>2</td><td>0</td><td>8709</td><td>5620</td><td>3089</td><td>2876</td><td>1938</td><td>938</td><td>3567</td><td>2289</td><td>1278</td><td>421</td><td>292</td><td>129</td><td>167</td><td>89</td><td>78</td><td>222</td><td>171</td><td>51</td><td>71.07</td><td>46.12</td><td>24.95</td><td>&hellip;</td><td>124.842371</td><td>6.331786</td><td>7.805724</td><td>3.607214</td><td>9.104704</td><td>6.818182</td><td>13.69863</td><td>8.017817</td><td>12.396694</td><td>0.0</td><td>11028.704095</td><td>10967.042498</td><td>11142.685371</td><td>13092.564492</td><td>13213.636364</td><td>12849.315068</td><td>14299.777283</td><td>14188.016529</td><td>14504.413619</td><td>533.136344</td><td>569.817866</td><td>465.330661</td><td>760.242792</td><td>606.818182</td><td>1068.493151</td><td>889.977728</td><td>1059.917355</td><td>578.814628</td><td>1571.549177</td><td>1393.321769</td><td>1901.002004</td><td>1934.749621</td><td>1725.0</td><td>2356.164384</td><td>2902.449889</td><td>2646.694215</td><td>3370.74401</td><td>132.967497</td><td>185.38595</td><td>36.072144</td><td>163.884674</td><td>197.727273</td><td>95.890411</td><td>104.231626</td><td>161.157025</td><td>0.0</td><td>26.4</td><td>&quot;adult&quot;</td><td>&quot;BEL&quot;</td><td>249</td><td>&quot;male&quot;</td><td>16</td><td>16</td><td>&quot;Pro League&quot;</td><td>&quot;Belgium_1&quot;</td><td>&quot;2021-07-24&quot;</td><td>&quot;Midfield&quot;</td><td>45002</td><td>&quot;Oud-Heverlee Leuven v SV Zulte…</td><td>&quot;BEL - Pro League - 2021/2022&quot;</td><td>&quot;1996-01-18&quot;</td><td>14625</td><td>&quot;Omar Nicolás Govea García&quot;</td><td>&quot;AM&quot;</td><td>true</td><td>2022</td><td>8</td><td>8</td><td>&quot;2021/2022&quot;</td><td>&quot;2021/2022&quot;</td><td>2021</td><td>&quot;O. Govea&quot;</td><td>&quot;SV Zulte-Waregem&quot;</td><td>8</td><td>&quot;SV Zulte-Waregem&quot;</td></tr><tr><td>50</td><td>25</td><td>25</td><td>20</td><td>11</td><td>9</td><td>25</td><td>13</td><td>12</td><td>1</td><td>0</td><td>1</td><td>0</td><td>0</td><td>0</td><td>1</td><td>0</td><td>1</td><td>15</td><td>9</td><td>6</td><td>5</td><td>2</td><td>3</td><td>3</td><td>2</td><td>1</td><td>64</td><td>37</td><td>27</td><td>26</td><td>17</td><td>9</td><td>21</td><td>13</td><td>8</td><td>70</td><td>44</td><td>26</td><td>21</td><td>13</td><td>8</td><td>18</td><td>13</td><td>5</td><td>12</td><td>6</td><td>6</td><td>2</td><td>1</td><td>1</td><td>8</td><td>4</td><td>4</td><td>8976</td><td>5410</td><td>3566</td><td>3351</td><td>2025</td><td>1326</td><td>3125</td><td>1883</td><td>1242</td><td>594</td><td>284</td><td>310</td><td>224</td><td>114</td><td>110</td><td>337</td><td>144</td><td>193</td><td>74.15</td><td>46.12</td><td>28.03</td><td>&hellip;</td><td>62.937063</td><td>14.565071</td><td>11.708586</td><td>19.265073</td><td>7.826087</td><td>6.198347</td><td>10.613208</td><td>35.380835</td><td>27.272727</td><td>50.34965</td><td>10894.67296</td><td>10557.241977</td><td>11449.875134</td><td>13112.608696</td><td>12551.652893</td><td>14073.113208</td><td>13820.638821</td><td>12838.636364</td><td>15633.566434</td><td>720.971005</td><td>554.206418</td><td>995.362112</td><td>876.521739</td><td>706.61157</td><td>1167.45283</td><td>1490.41769</td><td>981.818182</td><td>2429.370629</td><td>1497.774781</td><td>1326.973114</td><td>1778.80842</td><td>2097.391304</td><td>1865.702479</td><td>2494.103774</td><td>2666.830467</td><td>2229.545455</td><td>3474.125874</td><td>251.247471</td><td>148.30876</td><td>420.620763</td><td>105.652174</td><td>43.38843</td><td>212.264151</td><td>583.783784</td><td>300.0</td><td>1107.692308</td><td>27.4</td><td>&quot;adult&quot;</td><td>&quot;BEL&quot;</td><td>249</td><td>&quot;male&quot;</td><td>16</td><td>16</td><td>&quot;Pro League&quot;</td><td>&quot;Belgium_1&quot;</td><td>&quot;2021-07-24&quot;</td><td>&quot;Midfield&quot;</td><td>45002</td><td>&quot;Oud-Heverlee Leuven v SV Zulte…</td><td>&quot;BEL - Pro League - 2021/2022&quot;</td><td>&quot;1996-07-18&quot;</td><td>9835</td><td>&quot;Siebe Schrijvers&quot;</td><td>&quot;AM&quot;</td><td>true</td><td>2022</td><td>8</td><td>8</td><td>&quot;2021/2022&quot;</td><td>&quot;2021/2022&quot;</td><td>2021</td><td>&quot;S. Schrijvers&quot;</td><td>&quot;Oud-Heverlee Leuven&quot;</td><td>27</td><td>&quot;Oud-Heverlee Leuven&quot;</td></tr><tr><td>35</td><td>23</td><td>12</td><td>17</td><td>9</td><td>8</td><td>17</td><td>13</td><td>4</td><td>2</td><td>2</td><td>0</td><td>1</td><td>1</td><td>0</td><td>1</td><td>1</td><td>0</td><td>8</td><td>6</td><td>2</td><td>3</td><td>2</td><td>1</td><td>1</td><td>1</td><td>0</td><td>86</td><td>47</td><td>39</td><td>47</td><td>21</td><td>26</td><td>29</td><td>18</td><td>11</td><td>85</td><td>44</td><td>41</td><td>37</td><td>18</td><td>19</td><td>23</td><td>13</td><td>10</td><td>5</td><td>4</td><td>1</td><td>2</td><td>1</td><td>1</td><td>2</td><td>2</td><td>0</td><td>11626</td><td>6257</td><td>5369</td><td>4902</td><td>2650</td><td>2252</td><td>3737</td><td>2340</td><td>1397</td><td>334</td><td>253</td><td>81</td><td>174</td><td>112</td><td>62</td><td>159</td><td>140</td><td>19</td><td>110.42</td><td>50.25</td><td>60.17</td><td>&hellip;</td><td>69.337442</td><td>4.075349</td><td>7.164179</td><td>1.495762</td><td>4.834811</td><td>4.98615</td><td>4.692388</td><td>6.28053</td><td>11.479592</td><td>0.0</td><td>9476.000725</td><td>11206.567164</td><td>8030.746219</td><td>11850.12087</td><td>13213.296399</td><td>10567.25756</td><td>11735.17097</td><td>13431.122449</td><td>9686.440678</td><td>272.233291</td><td>453.134328</td><td>121.156723</td><td>420.628525</td><td>558.448753</td><td>290.92805</td><td>499.302163</td><td>803.571429</td><td>131.74114</td><td>1145.172976</td><td>1688.955224</td><td>691.042048</td><td>1904.915391</td><td>2333.518006</td><td>1501.564129</td><td>1893.579902</td><td>2646.045918</td><td>984.59168</td><td>48.904184</td><td>100.298507</td><td>5.983048</td><td>58.017728</td><td>99.722992</td><td>18.769552</td><td>113.049546</td><td>206.632653</td><td>0.0</td><td>25.5</td><td>&quot;adult&quot;</td><td>&quot;BEL&quot;</td><td>249</td><td>&quot;male&quot;</td><td>16</td><td>16</td><td>&quot;Pro League&quot;</td><td>&quot;Belgium_1&quot;</td><td>&quot;2021-07-25&quot;</td><td>&quot;Midfield&quot;</td><td>44998</td><td>&quot;Club Brugge KV v KAS Eupen&quot;</td><td>&quot;BEL - Pro League - 2021/2022&quot;</td><td>&quot;1992-02-09&quot;</td><td>11595</td><td>&quot;Stef Peeters&quot;</td><td>&quot;AM&quot;</td><td>true</td><td>2022</td><td>8</td><td>8</td><td>&quot;2021/2022&quot;</td><td>&quot;2021/2022&quot;</td><td>2021</td><td>&quot;S. Peeters&quot;</td><td>&quot;KAS Eupen&quot;</td><td>26</td><td>&quot;KAS Eupen&quot;</td></tr></tbody></table></div>"
      ],
      "text/plain": [
       "shape: (5, 218)\n",
       "┌─────┬─────┬─────┬─────┬─────┬─────┬─────┬─────┬─────┬─────┬─────┬─────┬─────┬─────┬─────┬─────┬─────┬─────┬─────┬─────┬─────┬─────┬─────┬─────┬─────┬─────┬─────┬─────┬─────┬─────┬─────┬─────┬─────┬─────┬─────┬─────┬─────┬─────┬─────┬─────┬─────┬─────┬─────┬─────┬─────┬─────┬─────┬─────┬─────┬─────┬─────┬─────┬─────┬─────┬─────┬─────┬─────┬─────┬─────┬─────┬─────┬─────┬─────┬─────┬─────┬─────┬─────┬─────┬─────┬─────┬─────┬─────┬─────┬─────┬─────┬───┬─────┬─────┬─────┬─────┬─────┬─────┬─────┬─────┬─────┬─────┬─────┬─────┬─────┬─────┬─────┬─────┬─────┬─────┬─────┬─────┬─────┬─────┬─────┬─────┬─────┬─────┬─────┬─────┬─────┬─────┬─────┬─────┬─────┬─────┬─────┬─────┬─────┬─────┬─────┬─────┬─────┬─────┬─────┬─────┬─────┬─────┬─────┬─────┬─────┬─────┬─────┬─────┬─────┬─────┬─────┬─────┬─────┬─────┬─────┬─────┬─────┬─────┬─────┬─────┬─────┬─────┬─────┬─────┬─────┬─────┬─────┬─────┬─────┬─────┬─────┐\n",
       "│ Cou ┆ Cou ┆ Cou ┆ Cou ┆ Cou ┆ Cou ┆ Cou ┆ Cou ┆ Cou ┆ Cou ┆ Cou ┆ Cou ┆ Cou ┆ Cou ┆ Cou ┆ Cou ┆ Cou ┆ Cou ┆ Cou ┆ Cou ┆ Cou ┆ Cou ┆ Cou ┆ Cou ┆ Cou ┆ Cou ┆ Cou ┆ Cou ┆ Cou ┆ Cou ┆ Cou ┆ Cou ┆ Cou ┆ Cou ┆ Cou ┆ Cou ┆ Cou ┆ Cou ┆ Cou ┆ Cou ┆ Cou ┆ Cou ┆ Cou ┆ Cou ┆ Cou ┆ Cou ┆ Cou ┆ Cou ┆ Cou ┆ Cou ┆ Cou ┆ Cou ┆ Cou ┆ Cou ┆ Dis ┆ Dis ┆ Dis ┆ Dis ┆ Dis ┆ Dis ┆ Dis ┆ Dis ┆ Dis ┆ HSR ┆ HSR ┆ HSR ┆ HSR ┆ HSR ┆ HSR ┆ HSR ┆ HSR ┆ HSR ┆ Min ┆ Min ┆ Min ┆ … ┆ P90 ┆ P90 ┆ P90 ┆ P90 ┆ P90 ┆ P90 ┆ P90 ┆ P90 ┆ P90 ┆ P90 ┆ P90 ┆ P90 ┆ P90 ┆ P90 ┆ P90 ┆ P90 ┆ P90 ┆ P90 ┆ P90 ┆ P90 ┆ P90 ┆ P90 ┆ P90 ┆ P90 ┆ P90 ┆ P90 ┆ P90 ┆ P90 ┆ P90 ┆ P90 ┆ P90 ┆ P90 ┆ P90 ┆ P90 ┆ P90 ┆ P90 ┆ P90 ┆ P90 ┆ P90 ┆ P90 ┆ P90 ┆ P90 ┆ P90 ┆ P90 ┆ P90 ┆ P90 ┆ PSV ┆ com ┆ com ┆ com ┆ com ┆ com ┆ com ┆ com ┆ com ┆ dat ┆ gro ┆ mat ┆ mat ┆ nam ┆ pla ┆ pla ┆ pla ┆ pos ┆ qua ┆ sea ┆ sea ┆ sea ┆ sea ┆ sea ┆ sea ┆ sho ┆ tea ┆ tea ┆ tea │\n",
       "│ nt  ┆ nt  ┆ nt  ┆ nt  ┆ nt  ┆ nt  ┆ nt  ┆ nt  ┆ nt  ┆ nt  ┆ nt  ┆ nt  ┆ nt  ┆ nt  ┆ nt  ┆ nt  ┆ nt  ┆ nt  ┆ nt  ┆ nt  ┆ nt  ┆ nt  ┆ nt  ┆ nt  ┆ nt  ┆ nt  ┆ nt  ┆ nt  ┆ nt  ┆ nt  ┆ nt  ┆ nt  ┆ nt  ┆ nt  ┆ nt  ┆ nt  ┆ nt  ┆ nt  ┆ nt  ┆ nt  ┆ nt  ┆ nt  ┆ nt  ┆ nt  ┆ nt  ┆ nt  ┆ nt  ┆ nt  ┆ nt  ┆ nt  ┆ nt  ┆ nt  ┆ nt  ┆ nt  ┆ tan ┆ tan ┆ tan ┆ tan ┆ tan ┆ tan ┆ tan ┆ tan ┆ tan ┆ Dis ┆ Dis ┆ Dis ┆ Dis ┆ Dis ┆ Dis ┆ Dis ┆ Dis ┆ Dis ┆ ute ┆ ute ┆ ute ┆   ┆ _Co ┆ _Co ┆ _Co ┆ _Co ┆ _Co ┆ _Co ┆ _Co ┆ _Co ┆ _Co ┆ _Co ┆ _Di ┆ _Di ┆ _Di ┆ _Di ┆ _Di ┆ _Di ┆ _Di ┆ _Di ┆ _Di ┆ _HS ┆ _HS ┆ _HS ┆ _HS ┆ _HS ┆ _HS ┆ _HS ┆ _HS ┆ _HS ┆ _Ru ┆ _Ru ┆ _Ru ┆ _Ru ┆ _Ru ┆ _Ru ┆ _Ru ┆ _Ru ┆ _Ru ┆ _Sp ┆ _Sp ┆ _Sp ┆ _Sp ┆ _Sp ┆ _Sp ┆ _Sp ┆ _Sp ┆ _Sp ┆ -99 ┆ pet ┆ pet ┆ pet ┆ pet ┆ pet ┆ pet ┆ pet ┆ pet ┆ e   ┆ up  ┆ ch_ ┆ ch_ ┆ e   ┆ yer ┆ yer ┆ yer ┆ iti ┆ lit ┆ son ┆ son ┆ son ┆ son ┆ son ┆ son ┆ rt_ ┆ m   ┆ m_i ┆ m_n │\n",
       "│ HSR ┆ HSR ┆ HSR ┆ HSR ┆ HSR ┆ HSR ┆ HSR ┆ HSR ┆ HSR ┆ Hig ┆ Hig ┆ Hig ┆ Hig ┆ Hig ┆ Hig ┆ Hig ┆ Hig ┆ Hig ┆ Hig ┆ Hig ┆ Hig ┆ Hig ┆ Hig ┆ Hig ┆ Hig ┆ Hig ┆ Hig ┆ Med ┆ Med ┆ Med ┆ Med ┆ Med ┆ Med ┆ Med ┆ Med ┆ Med ┆ Med ┆ Med ┆ Med ┆ Med ┆ Med ┆ Med ┆ Med ┆ Med ┆ Med ┆ Spr ┆ Spr ┆ Spr ┆ Spr ┆ Spr ┆ Spr ┆ Spr ┆ Spr ┆ Spr ┆ ce  ┆ ce  ┆ ce  ┆ ce  ┆ ce  ┆ ce  ┆ ce  ┆ ce  ┆ ce  ┆ tan ┆ tan ┆ tan ┆ tan ┆ tan ┆ tan ┆ tan ┆ tan ┆ tan ┆ s   ┆ s 1 ┆ s 2 ┆   ┆ unt ┆ unt ┆ unt ┆ unt ┆ unt ┆ unt ┆ unt ┆ unt ┆ unt ┆ unt ┆ sta ┆ sta ┆ sta ┆ sta ┆ sta ┆ sta ┆ sta ┆ sta ┆ sta ┆ R   ┆ R   ┆ R   ┆ R   ┆ R   ┆ R   ┆ R   ┆ R   ┆ R   ┆ nni ┆ nni ┆ nni ┆ nni ┆ nni ┆ nni ┆ nni ┆ nni ┆ nni ┆ rin ┆ rin ┆ rin ┆ rin ┆ rin ┆ rin ┆ rin ┆ rin ┆ rin ┆ --- ┆ iti ┆ iti ┆ iti ┆ iti ┆ iti ┆ iti ┆ iti ┆ iti ┆ --- ┆ --- ┆ id  ┆ nam ┆ --- ┆ _bi ┆ _id ┆ _na ┆ on  ┆ y_c ┆ _en ┆ _id ┆ _id ┆ _na ┆ _na ┆ _st ┆ nam ┆ --- ┆ d   ┆ ame │\n",
       "│ --- ┆ 1   ┆ 2   ┆ OTI ┆ OTI ┆ OTI ┆ TIP ┆ TIP ┆ TIP ┆ h   ┆ h   ┆ h   ┆ h   ┆ h   ┆ h   ┆ h   ┆ h   ┆ h   ┆ h   ┆ h   ┆ h   ┆ h   ┆ h   ┆ h   ┆ h   ┆ h   ┆ h   ┆ ium ┆ ium ┆ ium ┆ ium ┆ ium ┆ ium ┆ ium ┆ ium ┆ ium ┆ ium ┆ ium ┆ ium ┆ ium ┆ ium ┆ ium ┆ ium ┆ ium ┆ ium ┆ int ┆ int ┆ int ┆ int ┆ int ┆ int ┆ int ┆ int ┆ int ┆ --- ┆ 1   ┆ 2   ┆ OTI ┆ OTI ┆ OTI ┆ TIP ┆ TIP ┆ TIP ┆ ce  ┆ ce  ┆ ce  ┆ ce  ┆ ce  ┆ ce  ┆ ce  ┆ ce  ┆ ce  ┆ --- ┆ --- ┆ --- ┆   ┆ Med ┆ Spr ┆ Spr ┆ Spr ┆ Spr ┆ Spr ┆ Spr ┆ Spr ┆ Spr ┆ Spr ┆ nce ┆ nce ┆ nce ┆ nce ┆ nce ┆ nce ┆ nce ┆ nce ┆ nce ┆ Dis ┆ Dis ┆ Dis ┆ Dis ┆ Dis ┆ Dis ┆ Dis ┆ Dis ┆ Dis ┆ ng  ┆ ng  ┆ ng  ┆ ng  ┆ ng  ┆ ng  ┆ ng  ┆ ng  ┆ ng  ┆ tin ┆ tin ┆ tin ┆ tin ┆ tin ┆ tin ┆ tin ┆ tin ┆ tin ┆ f64 ┆ on_ ┆ on_ ┆ on_ ┆ on_ ┆ on_ ┆ on_ ┆ on_ ┆ on_ ┆ str ┆ str ┆ --- ┆ e   ┆ str ┆ rth ┆ --- ┆ me  ┆ --- ┆ hec ┆ d_y ┆ --- ┆ _ri ┆ me  ┆ me_ ┆ art ┆ e   ┆ str ┆ --- ┆ --- │\n",
       "│ i64 ┆ --- ┆ --- ┆ P   ┆ P 1 ┆ P 2 ┆ --- ┆ 1   ┆ 2   ┆ Acc ┆ Acc ┆ Acc ┆ Acc ┆ Acc ┆ Acc ┆ Acc ┆ Acc ┆ Acc ┆ Dec ┆ Dec ┆ Dec ┆ Dec ┆ Dec ┆ Dec ┆ Dec ┆ Dec ┆ Dec ┆ Acc ┆ Acc ┆ Acc ┆ Acc ┆ Acc ┆ Acc ┆ Acc ┆ Acc ┆ Acc ┆ Dec ┆ Dec ┆ Dec ┆ Dec ┆ Dec ┆ Dec ┆ Dec ┆ Dec ┆ Dec ┆ --- ┆ 1   ┆ 2   ┆ OTI ┆ OTI ┆ OTI ┆ TIP ┆ TIP ┆ TIP ┆ i64 ┆ --- ┆ --- ┆ P   ┆ P 1 ┆ P 2 ┆ --- ┆ 1   ┆ 2   ┆ --- ┆ 1   ┆ 2   ┆ OTI ┆ OTI ┆ OTI ┆ TIP ┆ TIP ┆ TIP ┆ f64 ┆ f64 ┆ f64 ┆   ┆ ium ┆ int ┆ int ┆ int ┆ int ┆ int ┆ int ┆ int ┆ int ┆ int ┆ --- ┆ 1   ┆ 2   ┆ OTI ┆ OTI ┆ OTI ┆ TIP ┆ TIP ┆ TIP ┆ tan ┆ tan ┆ tan ┆ tan ┆ tan ┆ tan ┆ tan ┆ tan ┆ tan ┆ Dis ┆ Dis ┆ Dis ┆ Dis ┆ Dis ┆ Dis ┆ Dis ┆ Dis ┆ Dis ┆ g   ┆ g   ┆ g   ┆ g   ┆ g   ┆ g   ┆ g   ┆ g   ┆ g   ┆     ┆ age ┆ are ┆ edi ┆ gen ┆ id  ┆ id_ ┆ nam ┆ reg ┆     ┆     ┆ i64 ┆ --- ┆     ┆ dat ┆ i64 ┆ --- ┆ str ┆ k   ┆ ear ┆ i64 ┆ ght ┆ --- ┆ rig ┆ _ye ┆ --- ┆     ┆ i64 ┆ str │\n",
       "│     ┆ i64 ┆ i64 ┆ --- ┆ --- ┆ --- ┆ i64 ┆ --- ┆ --- ┆ ele ┆ ele ┆ ele ┆ ele ┆ ele ┆ ele ┆ ele ┆ ele ┆ ele ┆ ele ┆ ele ┆ ele ┆ ele ┆ ele ┆ ele ┆ ele ┆ ele ┆ ele ┆ ele ┆ ele ┆ ele ┆ ele ┆ ele ┆ ele ┆ ele ┆ ele ┆ ele ┆ ele ┆ ele ┆ ele ┆ ele ┆ ele ┆ ele ┆ ele ┆ ele ┆ ele ┆ i64 ┆ --- ┆ --- ┆ P   ┆ P 1 ┆ P 2 ┆ --- ┆ 1   ┆ 2   ┆     ┆ i64 ┆ i64 ┆ --- ┆ --- ┆ --- ┆ i64 ┆ --- ┆ --- ┆ i64 ┆ --- ┆ --- ┆ P   ┆ P 1 ┆ P 2 ┆ --- ┆ 1   ┆ 2   ┆     ┆     ┆     ┆   ┆ Dec ┆ --- ┆ 1   ┆ 2   ┆ OTI ┆ OTI ┆ OTI ┆ TIP ┆ TIP ┆ TIP ┆ f64 ┆ --- ┆ --- ┆ P   ┆ P 1 ┆ P 2 ┆ --- ┆ 1   ┆ 2   ┆ ce  ┆ ce  ┆ ce  ┆ ce  ┆ ce  ┆ ce  ┆ ce  ┆ ce  ┆ ce  ┆ tan ┆ tan ┆ tan ┆ tan ┆ tan ┆ tan ┆ tan ┆ tan ┆ tan ┆ Dis ┆ Dis ┆ Dis ┆ Dis ┆ Dis ┆ Dis ┆ Dis ┆ Dis ┆ Dis ┆     ┆ _gr ┆ a   ┆ tio ┆ der ┆ --- ┆ rig ┆ e   ┆ ion ┆     ┆     ┆     ┆ str ┆     ┆ e   ┆     ┆ str ┆     ┆ --- ┆ --- ┆     ┆ --- ┆ str ┆ ht  ┆ ar  ┆ str ┆     ┆     ┆     │\n",
       "│     ┆     ┆     ┆ i64 ┆ i64 ┆ i64 ┆     ┆ i64 ┆ i64 ┆ rat ┆ rat ┆ rat ┆ rat ┆ rat ┆ rat ┆ rat ┆ rat ┆ rat ┆ rat ┆ rat ┆ rat ┆ rat ┆ rat ┆ rat ┆ rat ┆ rat ┆ rat ┆ rat ┆ rat ┆ rat ┆ rat ┆ rat ┆ rat ┆ rat ┆ rat ┆ rat ┆ rat ┆ rat ┆ rat ┆ rat ┆ rat ┆ rat ┆ rat ┆ rat ┆ rat ┆     ┆ i64 ┆ i64 ┆ --- ┆ --- ┆ --- ┆ i64 ┆ --- ┆ --- ┆     ┆     ┆     ┆ i64 ┆ i64 ┆ i64 ┆     ┆ i64 ┆ i64 ┆     ┆ i64 ┆ i64 ┆ --- ┆ --- ┆ --- ┆ i64 ┆ --- ┆ --- ┆     ┆     ┆     ┆   ┆ ele ┆ f64 ┆ --- ┆ --- ┆ P   ┆ P 1 ┆ P 2 ┆ --- ┆ 1   ┆ 2   ┆     ┆ f64 ┆ f64 ┆ --- ┆ --- ┆ --- ┆ f64 ┆ --- ┆ --- ┆ --- ┆ 1   ┆ 2   ┆ OTI ┆ OTI ┆ OTI ┆ TIP ┆ TIP ┆ TIP ┆ ce  ┆ ce  ┆ ce  ┆ ce  ┆ ce  ┆ ce  ┆ ce  ┆ ce  ┆ ce  ┆ tan ┆ tan ┆ tan ┆ tan ┆ tan ┆ tan ┆ tan ┆ tan ┆ tan ┆     ┆ oup ┆ --- ┆ n_i ┆ --- ┆ i64 ┆ ht  ┆ --- ┆ _di ┆     ┆     ┆     ┆     ┆     ┆ --- ┆     ┆     ┆     ┆ boo ┆ i64 ┆     ┆ i64 ┆     ┆ --- ┆ --- ┆     ┆     ┆     ┆     │\n",
       "│     ┆     ┆     ┆     ┆     ┆     ┆     ┆     ┆     ┆ ion ┆ ion ┆ ion ┆ ion ┆ ion ┆ ion ┆ ion ┆ ion ┆ ion ┆ ion ┆ ion ┆ ion ┆ ion ┆ ion ┆ ion ┆ ion ┆ ion ┆ ion ┆ ion ┆ ion ┆ ion ┆ ion ┆ ion ┆ ion ┆ ion ┆ ion ┆ ion ┆ ion ┆ ion ┆ ion ┆ ion ┆ ion ┆ ion ┆ ion ┆ ion ┆ ion ┆     ┆     ┆     ┆ i64 ┆ i64 ┆ i64 ┆     ┆ i64 ┆ i64 ┆     ┆     ┆     ┆     ┆     ┆     ┆     ┆     ┆     ┆     ┆     ┆     ┆ i64 ┆ i64 ┆ i64 ┆     ┆ i64 ┆ i64 ┆     ┆     ┆     ┆   ┆ rat ┆     ┆ f64 ┆ f64 ┆ --- ┆ --- ┆ --- ┆ f64 ┆ --- ┆ --- ┆     ┆     ┆     ┆ f64 ┆ f64 ┆ f64 ┆     ┆ f64 ┆ f64 ┆ f64 ┆ --- ┆ --- ┆ P   ┆ P 1 ┆ P 2 ┆ --- ┆ 1   ┆ 2   ┆ --- ┆ 1   ┆ 2   ┆ OTI ┆ OTI ┆ OTI ┆ TIP ┆ TIP ┆ TIP ┆ ce  ┆ ce  ┆ ce  ┆ ce  ┆ ce  ┆ ce  ┆ ce  ┆ ce  ┆ ce  ┆     ┆ --- ┆ str ┆ d   ┆ str ┆     ┆ --- ┆ str ┆ vis ┆     ┆     ┆     ┆     ┆     ┆ str ┆     ┆     ┆     ┆ l   ┆     ┆     ┆     ┆     ┆ str ┆ i64 ┆     ┆     ┆     ┆     │\n",
       "│     ┆     ┆     ┆     ┆     ┆     ┆     ┆     ┆     ┆ --- ┆ 1   ┆ 2   ┆ OTI ┆ OTI ┆ OTI ┆ TIP ┆ TIP ┆ TIP ┆ --- ┆ 1   ┆ 2   ┆ OTI ┆ OTI ┆ OTI ┆ TIP ┆ TIP ┆ TIP ┆ --- ┆ 1   ┆ 2   ┆ OTI ┆ OTI ┆ OTI ┆ TIP ┆ TIP ┆ TIP ┆ --- ┆ 1   ┆ 2   ┆ OTI ┆ OTI ┆ OTI ┆ TIP ┆ TIP ┆ TIP ┆     ┆     ┆     ┆     ┆     ┆     ┆     ┆     ┆     ┆     ┆     ┆     ┆     ┆     ┆     ┆     ┆     ┆     ┆     ┆     ┆     ┆     ┆     ┆     ┆     ┆     ┆     ┆     ┆     ┆     ┆   ┆ ion ┆     ┆     ┆     ┆ f64 ┆ f64 ┆ f64 ┆     ┆ f64 ┆ f64 ┆     ┆     ┆     ┆     ┆     ┆     ┆     ┆     ┆     ┆     ┆ f64 ┆ f64 ┆ --- ┆ --- ┆ --- ┆ f64 ┆ --- ┆ --- ┆ f64 ┆ --- ┆ --- ┆ P   ┆ P 1 ┆ P 2 ┆ --- ┆ 1   ┆ 2   ┆ --- ┆ 1   ┆ 2   ┆ OTI ┆ OTI ┆ OTI ┆ TIP ┆ TIP ┆ TIP ┆     ┆ str ┆     ┆ --- ┆     ┆     ┆ i64 ┆     ┆ ion ┆     ┆     ┆     ┆     ┆     ┆     ┆     ┆     ┆     ┆     ┆     ┆     ┆     ┆     ┆     ┆     ┆     ┆     ┆     ┆     │\n",
       "│     ┆     ┆     ┆     ┆     ┆     ┆     ┆     ┆     ┆ i64 ┆ --- ┆ --- ┆ P   ┆ P 1 ┆ P 2 ┆ --- ┆ 1   ┆ 2   ┆ i64 ┆ --- ┆ --- ┆ P   ┆ P 1 ┆ P 2 ┆ --- ┆ 1   ┆ 2   ┆ i64 ┆ --- ┆ --- ┆ P   ┆ P…  ┆ P…  ┆ --- ┆ …   ┆ …   ┆ i64 ┆ --- ┆ --- ┆ P   ┆ P…  ┆ P…  ┆ --- ┆ …   ┆ …   ┆     ┆     ┆     ┆     ┆     ┆     ┆     ┆     ┆     ┆     ┆     ┆     ┆     ┆     ┆     ┆     ┆     ┆     ┆     ┆     ┆     ┆     ┆     ┆     ┆     ┆     ┆     ┆     ┆     ┆     ┆   ┆ …   ┆     ┆     ┆     ┆     ┆     ┆     ┆     ┆     ┆     ┆     ┆     ┆     ┆     ┆     ┆     ┆     ┆     ┆     ┆     ┆     ┆     ┆ f64 ┆ f64 ┆ f64 ┆     ┆ f64 ┆ f64 ┆     ┆ f64 ┆ f64 ┆ --- ┆ --- ┆ --- ┆ f64 ┆ --- ┆ --- ┆ f64 ┆ --- ┆ --- ┆ P   ┆ P 1 ┆ P 2 ┆ --- ┆ 1   ┆ 2   ┆     ┆     ┆     ┆ i64 ┆     ┆     ┆     ┆     ┆ --- ┆     ┆     ┆     ┆     ┆     ┆     ┆     ┆     ┆     ┆     ┆     ┆     ┆     ┆     ┆     ┆     ┆     ┆     ┆     ┆     │\n",
       "│     ┆     ┆     ┆     ┆     ┆     ┆     ┆     ┆     ┆     ┆ i64 ┆ i64 ┆ --- ┆ --- ┆ --- ┆ i64 ┆ --- ┆ --- ┆     ┆ i64 ┆ i64 ┆ --- ┆ --- ┆ --- ┆ i64 ┆ --- ┆ --- ┆     ┆ i64 ┆ i64 ┆ --- ┆ --- ┆ --- ┆ i64 ┆ --- ┆ --- ┆     ┆ i64 ┆ i64 ┆ --- ┆ --- ┆ --- ┆ i64 ┆ --- ┆ --- ┆     ┆     ┆     ┆     ┆     ┆     ┆     ┆     ┆     ┆     ┆     ┆     ┆     ┆     ┆     ┆     ┆     ┆     ┆     ┆     ┆     ┆     ┆     ┆     ┆     ┆     ┆     ┆     ┆     ┆     ┆   ┆ --- ┆     ┆     ┆     ┆     ┆     ┆     ┆     ┆     ┆     ┆     ┆     ┆     ┆     ┆     ┆     ┆     ┆     ┆     ┆     ┆     ┆     ┆     ┆     ┆     ┆     ┆     ┆     ┆     ┆     ┆     ┆ f64 ┆ f64 ┆ f64 ┆     ┆ f64 ┆ f64 ┆     ┆ f64 ┆ f64 ┆ --- ┆ --- ┆ --- ┆ f64 ┆ --- ┆ --- ┆     ┆     ┆     ┆     ┆     ┆     ┆     ┆     ┆ str ┆     ┆     ┆     ┆     ┆     ┆     ┆     ┆     ┆     ┆     ┆     ┆     ┆     ┆     ┆     ┆     ┆     ┆     ┆     ┆     │\n",
       "│     ┆     ┆     ┆     ┆     ┆     ┆     ┆     ┆     ┆     ┆     ┆     ┆ i64 ┆ i64 ┆ i64 ┆     ┆ i64 ┆ i64 ┆     ┆     ┆     ┆ i64 ┆ i64 ┆ i64 ┆     ┆ i64 ┆ i64 ┆     ┆     ┆     ┆ i64 ┆ i64 ┆ i64 ┆     ┆ i64 ┆ i64 ┆     ┆     ┆     ┆ i64 ┆ i64 ┆ i64 ┆     ┆ i64 ┆ i64 ┆     ┆     ┆     ┆     ┆     ┆     ┆     ┆     ┆     ┆     ┆     ┆     ┆     ┆     ┆     ┆     ┆     ┆     ┆     ┆     ┆     ┆     ┆     ┆     ┆     ┆     ┆     ┆     ┆     ┆     ┆   ┆ f64 ┆     ┆     ┆     ┆     ┆     ┆     ┆     ┆     ┆     ┆     ┆     ┆     ┆     ┆     ┆     ┆     ┆     ┆     ┆     ┆     ┆     ┆     ┆     ┆     ┆     ┆     ┆     ┆     ┆     ┆     ┆     ┆     ┆     ┆     ┆     ┆     ┆     ┆     ┆     ┆ f64 ┆ f64 ┆ f64 ┆     ┆ f64 ┆ f64 ┆     ┆     ┆     ┆     ┆     ┆     ┆     ┆     ┆     ┆     ┆     ┆     ┆     ┆     ┆     ┆     ┆     ┆     ┆     ┆     ┆     ┆     ┆     ┆     ┆     ┆     ┆     ┆     ┆     │\n",
       "╞═════╪═════╪═════╪═════╪═════╪═════╪═════╪═════╪═════╪═════╪═════╪═════╪═════╪═════╪═════╪═════╪═════╪═════╪═════╪═════╪═════╪═════╪═════╪═════╪═════╪═════╪═════╪═════╪═════╪═════╪═════╪═════╪═════╪═════╪═════╪═════╪═════╪═════╪═════╪═════╪═════╪═════╪═════╪═════╪═════╪═════╪═════╪═════╪═════╪═════╪═════╪═════╪═════╪═════╪═════╪═════╪═════╪═════╪═════╪═════╪═════╪═════╪═════╪═════╪═════╪═════╪═════╪═════╪═════╪═════╪═════╪═════╪═════╪═════╪═════╪═══╪═════╪═════╪═════╪═════╪═════╪═════╪═════╪═════╪═════╪═════╪═════╪═════╪═════╪═════╪═════╪═════╪═════╪═════╪═════╪═════╪═════╪═════╪═════╪═════╪═════╪═════╪═════╪═════╪═════╪═════╪═════╪═════╪═════╪═════╪═════╪═════╪═════╪═════╪═════╪═════╪═════╪═════╪═════╪═════╪═════╪═════╪═════╪═════╪═════╪═════╪═════╪═════╪═════╪═════╪═════╪═════╪═════╪═════╪═════╪═════╪═════╪═════╪═════╪═════╪═════╪═════╪═════╪═════╪═════╪═════╪═════╪═════╪═════╪═════╪═════╡\n",
       "│ 59  ┆ 33  ┆ 26  ┆ 34  ┆ 17  ┆ 17  ┆ 19  ┆ 13  ┆ 6   ┆ 4   ┆ 3   ┆ 1   ┆ 0   ┆ 0   ┆ 0   ┆ 0   ┆ 0   ┆ 0   ┆ 11  ┆ 8   ┆ 3   ┆ 4   ┆ 3   ┆ 1   ┆ 3   ┆ 2   ┆ 1   ┆ 100 ┆ 52  ┆ 48  ┆ 47  ┆ 24  ┆ 23  ┆ 22  ┆ 12  ┆ 10  ┆ 89  ┆ 42  ┆ 47  ┆ 34  ┆ 17  ┆ 17  ┆ 17  ┆ 8   ┆ 9   ┆ 5   ┆ 3   ┆ 2   ┆ 2   ┆ 1   ┆ 1   ┆ 2   ┆ 1   ┆ 1   ┆ 130 ┆ 681 ┆ 621 ┆ 572 ┆ 298 ┆ 274 ┆ 343 ┆ 187 ┆ 155 ┆ 745 ┆ 387 ┆ 358 ┆ 443 ┆ 225 ┆ 218 ┆ 260 ┆ 139 ┆ 121 ┆ 96. ┆ 47. ┆ 49. ┆ … ┆ 73. ┆ 4.6 ┆ 5.7 ┆ 3.6 ┆ 5.0 ┆ 4.9 ┆ 5.2 ┆ 7.4 ┆ 6.8 ┆ 8.1 ┆ 121 ┆ 129 ┆ 113 ┆ 144 ┆ 146 ┆ 142 ┆ 127 ┆ 128 ┆ 126 ┆ 693 ┆ 738 ┆ 651 ┆ 112 ┆ 110 ┆ 113 ┆ 966 ┆ 952 ┆ 982 ┆ 224 ┆ 258 ┆ 192 ┆ 380 ┆ 414 ┆ 344 ┆ 245 ┆ 252 ┆ 237 ┆ 137 ┆ 175 ┆ 101 ┆ 113 ┆ 133 ┆ 93. ┆ 111 ┆ 75. ┆ 154 ┆ 25. ┆ adu ┆ BEL ┆ 249 ┆ mal ┆ 16  ┆ 16  ┆ Pro ┆ Bel ┆ 202 ┆ Mid ┆ 449 ┆ KV  ┆ BEL ┆ 199 ┆ 870 ┆ Pie ┆ AM  ┆ tru ┆ 202 ┆ 8   ┆ 8   ┆ 202 ┆ 202 ┆ 202 ┆ P.  ┆ Roy ┆ 462 ┆ Roy │\n",
       "│     ┆     ┆     ┆     ┆     ┆     ┆     ┆     ┆     ┆     ┆     ┆     ┆     ┆     ┆     ┆     ┆     ┆     ┆     ┆     ┆     ┆     ┆     ┆     ┆     ┆     ┆     ┆     ┆     ┆     ┆     ┆     ┆     ┆     ┆     ┆     ┆     ┆     ┆     ┆     ┆     ┆     ┆     ┆     ┆     ┆     ┆     ┆     ┆     ┆     ┆     ┆     ┆     ┆     ┆ 26  ┆ 0   ┆ 6   ┆ 7   ┆ 3   ┆ 4   ┆ 2   ┆ 4   ┆ 8   ┆     ┆     ┆     ┆     ┆     ┆     ┆     ┆     ┆     ┆ 63  ┆ 15  ┆ 48  ┆   ┆ 104 ┆ 569 ┆ 264 ┆ 378 ┆ 604 ┆ 261 ┆ 023 ┆ 349 ┆ 545 ┆ 227 ┆ 32. ┆ 98. ┆ 06. ┆ 90. ┆ 94. ┆ 75. ┆ 58. ┆ 45. ┆ 55. ┆ .88 ┆ .70 ┆ .17 ┆ 0.8 ┆ 8.3 ┆ 4.1 ┆ .54 ┆ .77 ┆ .85 ┆ 9.3 ┆ 4.5 ┆ 9.8 ┆ 5.4 ┆ 7.7 ┆ 3.9 ┆ 7.2 ┆ 9.3 ┆ 1.8 ┆ .84 ┆ .60 ┆ .85 ┆ .85 ┆ .00 ┆ 641 ┆ .52 ┆ 399 ┆ .33 ┆ 7   ┆ lt  ┆     ┆     ┆ e   ┆     ┆     ┆ Lea ┆ giu ┆ 1-0 ┆ fie ┆ 99  ┆ Mec ┆ -   ┆ 5-0 ┆ 1   ┆ ter ┆     ┆ e   ┆ 2   ┆     ┆     ┆ 1/2 ┆ 1/2 ┆ 1   ┆ Ger ┆ al  ┆     ┆ al  │\n",
       "│     ┆     ┆     ┆     ┆     ┆     ┆     ┆     ┆     ┆     ┆     ┆     ┆     ┆     ┆     ┆     ┆     ┆     ┆     ┆     ┆     ┆     ┆     ┆     ┆     ┆     ┆     ┆     ┆     ┆     ┆     ┆     ┆     ┆     ┆     ┆     ┆     ┆     ┆     ┆     ┆     ┆     ┆     ┆     ┆     ┆     ┆     ┆     ┆     ┆     ┆     ┆     ┆     ┆     ┆     ┆     ┆     ┆     ┆     ┆     ┆     ┆     ┆     ┆     ┆     ┆     ┆     ┆     ┆     ┆     ┆     ┆     ┆     ┆     ┆     ┆   ┆ 693 ┆ 39  ┆ 05  ┆ 33  ┆ 44  ┆ 08  ┆ 12  ┆ 44  ┆ 32  ┆ 44  ┆ 257 ┆ 939 ┆ 386 ┆ 581 ┆ 581 ┆ 144 ┆ 364 ┆ 392 ┆ 234 ┆ 388 ┆ 625 ┆ 219 ┆ 883 ┆ 743 ┆ 040 ┆ 275 ┆ 989 ┆ 198 ┆ 014 ┆ 174 ┆ 706 ┆ 540 ┆ 832 ┆ 306 ┆ 490 ┆ 221 ┆ 411 ┆ 539 ┆ 975 ┆ 933 ┆ 999 ┆ 492 ┆ 618 ┆ 416 ┆ 848 ┆ 213 ┆     ┆     ┆     ┆     ┆     ┆     ┆     ┆ gue ┆ m_1 ┆ 7-2 ┆ ld  ┆     ┆ hel ┆ Pro ┆ 2-1 ┆     ┆ Ger ┆     ┆     ┆     ┆     ┆     ┆ 022 ┆ 022 ┆     ┆ ken ┆ Ant ┆     ┆ Ant │\n",
       "│     ┆     ┆     ┆     ┆     ┆     ┆     ┆     ┆     ┆     ┆     ┆     ┆     ┆     ┆     ┆     ┆     ┆     ┆     ┆     ┆     ┆     ┆     ┆     ┆     ┆     ┆     ┆     ┆     ┆     ┆     ┆     ┆     ┆     ┆     ┆     ┆     ┆     ┆     ┆     ┆     ┆     ┆     ┆     ┆     ┆     ┆     ┆     ┆     ┆     ┆     ┆     ┆     ┆     ┆     ┆     ┆     ┆     ┆     ┆     ┆     ┆     ┆     ┆     ┆     ┆     ┆     ┆     ┆     ┆     ┆     ┆     ┆     ┆     ┆     ┆   ┆     ┆     ┆     ┆     ┆     ┆     ┆     ┆     ┆     ┆     ┆ 063 ┆ 555 ┆ 419 ┆ 951 ┆ 281 ┆ 509 ┆ 312 ┆ 232 ┆ 657 ┆ 7   ┆ 7   ┆ 1   ┆ 89  ┆ 84  ┆ 46  ┆ 1   ┆ 3   ┆ 6   ┆ 59  ┆ 97  ┆ 55  ┆ 34  ┆ 51  ┆ 36  ┆ 71  ┆ 63  ┆ 55  ┆     ┆ 6   ┆ 7   ┆ 4   ┆ 6   ┆     ┆ 4   ┆     ┆     ┆     ┆     ┆     ┆     ┆     ┆     ┆     ┆     ┆     ┆ 5   ┆     ┆     ┆ en  ┆ Lea ┆ 7   ┆     ┆ ken ┆     ┆     ┆     ┆     ┆     ┆     ┆     ┆     ┆ s   ┆ wer ┆     ┆ wer │\n",
       "│     ┆     ┆     ┆     ┆     ┆     ┆     ┆     ┆     ┆     ┆     ┆     ┆     ┆     ┆     ┆     ┆     ┆     ┆     ┆     ┆     ┆     ┆     ┆     ┆     ┆     ┆     ┆     ┆     ┆     ┆     ┆     ┆     ┆     ┆     ┆     ┆     ┆     ┆     ┆     ┆     ┆     ┆     ┆     ┆     ┆     ┆     ┆     ┆     ┆     ┆     ┆     ┆     ┆     ┆     ┆     ┆     ┆     ┆     ┆     ┆     ┆     ┆     ┆     ┆     ┆     ┆     ┆     ┆     ┆     ┆     ┆     ┆     ┆     ┆     ┆   ┆     ┆     ┆     ┆     ┆     ┆     ┆     ┆     ┆     ┆     ┆     ┆     ┆     ┆     ┆     ┆     ┆     ┆     ┆     ┆     ┆     ┆     ┆     ┆     ┆     ┆     ┆     ┆     ┆     ┆     ┆     ┆     ┆     ┆     ┆     ┆     ┆     ┆     ┆     ┆     ┆     ┆     ┆     ┆     ┆     ┆     ┆     ┆     ┆     ┆     ┆     ┆     ┆     ┆     ┆     ┆     ┆     ┆     ┆ v   ┆ gue ┆     ┆     ┆ s   ┆     ┆     ┆     ┆     ┆     ┆     ┆     ┆     ┆     ┆ p   ┆     ┆ p   │\n",
       "│     ┆     ┆     ┆     ┆     ┆     ┆     ┆     ┆     ┆     ┆     ┆     ┆     ┆     ┆     ┆     ┆     ┆     ┆     ┆     ┆     ┆     ┆     ┆     ┆     ┆     ┆     ┆     ┆     ┆     ┆     ┆     ┆     ┆     ┆     ┆     ┆     ┆     ┆     ┆     ┆     ┆     ┆     ┆     ┆     ┆     ┆     ┆     ┆     ┆     ┆     ┆     ┆     ┆     ┆     ┆     ┆     ┆     ┆     ┆     ┆     ┆     ┆     ┆     ┆     ┆     ┆     ┆     ┆     ┆     ┆     ┆     ┆     ┆     ┆     ┆   ┆     ┆     ┆     ┆     ┆     ┆     ┆     ┆     ┆     ┆     ┆     ┆     ┆     ┆     ┆     ┆     ┆     ┆     ┆     ┆     ┆     ┆     ┆     ┆     ┆     ┆     ┆     ┆     ┆     ┆     ┆     ┆     ┆     ┆     ┆     ┆     ┆     ┆     ┆     ┆     ┆     ┆     ┆     ┆     ┆     ┆     ┆     ┆     ┆     ┆     ┆     ┆     ┆     ┆     ┆     ┆     ┆     ┆     ┆ Roy ┆ -   ┆     ┆     ┆     ┆     ┆     ┆     ┆     ┆     ┆     ┆     ┆     ┆     ┆ FC  ┆     ┆ FC  │\n",
       "│     ┆     ┆     ┆     ┆     ┆     ┆     ┆     ┆     ┆     ┆     ┆     ┆     ┆     ┆     ┆     ┆     ┆     ┆     ┆     ┆     ┆     ┆     ┆     ┆     ┆     ┆     ┆     ┆     ┆     ┆     ┆     ┆     ┆     ┆     ┆     ┆     ┆     ┆     ┆     ┆     ┆     ┆     ┆     ┆     ┆     ┆     ┆     ┆     ┆     ┆     ┆     ┆     ┆     ┆     ┆     ┆     ┆     ┆     ┆     ┆     ┆     ┆     ┆     ┆     ┆     ┆     ┆     ┆     ┆     ┆     ┆     ┆     ┆     ┆     ┆   ┆     ┆     ┆     ┆     ┆     ┆     ┆     ┆     ┆     ┆     ┆     ┆     ┆     ┆     ┆     ┆     ┆     ┆     ┆     ┆     ┆     ┆     ┆     ┆     ┆     ┆     ┆     ┆     ┆     ┆     ┆     ┆     ┆     ┆     ┆     ┆     ┆     ┆     ┆     ┆     ┆     ┆     ┆     ┆     ┆     ┆     ┆     ┆     ┆     ┆     ┆     ┆     ┆     ┆     ┆     ┆     ┆     ┆     ┆ al  ┆ 202 ┆     ┆     ┆     ┆     ┆     ┆     ┆     ┆     ┆     ┆     ┆     ┆     ┆     ┆     ┆     │\n",
       "│     ┆     ┆     ┆     ┆     ┆     ┆     ┆     ┆     ┆     ┆     ┆     ┆     ┆     ┆     ┆     ┆     ┆     ┆     ┆     ┆     ┆     ┆     ┆     ┆     ┆     ┆     ┆     ┆     ┆     ┆     ┆     ┆     ┆     ┆     ┆     ┆     ┆     ┆     ┆     ┆     ┆     ┆     ┆     ┆     ┆     ┆     ┆     ┆     ┆     ┆     ┆     ┆     ┆     ┆     ┆     ┆     ┆     ┆     ┆     ┆     ┆     ┆     ┆     ┆     ┆     ┆     ┆     ┆     ┆     ┆     ┆     ┆     ┆     ┆     ┆   ┆     ┆     ┆     ┆     ┆     ┆     ┆     ┆     ┆     ┆     ┆     ┆     ┆     ┆     ┆     ┆     ┆     ┆     ┆     ┆     ┆     ┆     ┆     ┆     ┆     ┆     ┆     ┆     ┆     ┆     ┆     ┆     ┆     ┆     ┆     ┆     ┆     ┆     ┆     ┆     ┆     ┆     ┆     ┆     ┆     ┆     ┆     ┆     ┆     ┆     ┆     ┆     ┆     ┆     ┆     ┆     ┆     ┆     ┆ Ant ┆ 1/2 ┆     ┆     ┆     ┆     ┆     ┆     ┆     ┆     ┆     ┆     ┆     ┆     ┆     ┆     ┆     │\n",
       "│     ┆     ┆     ┆     ┆     ┆     ┆     ┆     ┆     ┆     ┆     ┆     ┆     ┆     ┆     ┆     ┆     ┆     ┆     ┆     ┆     ┆     ┆     ┆     ┆     ┆     ┆     ┆     ┆     ┆     ┆     ┆     ┆     ┆     ┆     ┆     ┆     ┆     ┆     ┆     ┆     ┆     ┆     ┆     ┆     ┆     ┆     ┆     ┆     ┆     ┆     ┆     ┆     ┆     ┆     ┆     ┆     ┆     ┆     ┆     ┆     ┆     ┆     ┆     ┆     ┆     ┆     ┆     ┆     ┆     ┆     ┆     ┆     ┆     ┆     ┆   ┆     ┆     ┆     ┆     ┆     ┆     ┆     ┆     ┆     ┆     ┆     ┆     ┆     ┆     ┆     ┆     ┆     ┆     ┆     ┆     ┆     ┆     ┆     ┆     ┆     ┆     ┆     ┆     ┆     ┆     ┆     ┆     ┆     ┆     ┆     ┆     ┆     ┆     ┆     ┆     ┆     ┆     ┆     ┆     ┆     ┆     ┆     ┆     ┆     ┆     ┆     ┆     ┆     ┆     ┆     ┆     ┆     ┆     ┆ wer ┆ 022 ┆     ┆     ┆     ┆     ┆     ┆     ┆     ┆     ┆     ┆     ┆     ┆     ┆     ┆     ┆     │\n",
       "│     ┆     ┆     ┆     ┆     ┆     ┆     ┆     ┆     ┆     ┆     ┆     ┆     ┆     ┆     ┆     ┆     ┆     ┆     ┆     ┆     ┆     ┆     ┆     ┆     ┆     ┆     ┆     ┆     ┆     ┆     ┆     ┆     ┆     ┆     ┆     ┆     ┆     ┆     ┆     ┆     ┆     ┆     ┆     ┆     ┆     ┆     ┆     ┆     ┆     ┆     ┆     ┆     ┆     ┆     ┆     ┆     ┆     ┆     ┆     ┆     ┆     ┆     ┆     ┆     ┆     ┆     ┆     ┆     ┆     ┆     ┆     ┆     ┆     ┆     ┆   ┆     ┆     ┆     ┆     ┆     ┆     ┆     ┆     ┆     ┆     ┆     ┆     ┆     ┆     ┆     ┆     ┆     ┆     ┆     ┆     ┆     ┆     ┆     ┆     ┆     ┆     ┆     ┆     ┆     ┆     ┆     ┆     ┆     ┆     ┆     ┆     ┆     ┆     ┆     ┆     ┆     ┆     ┆     ┆     ┆     ┆     ┆     ┆     ┆     ┆     ┆     ┆     ┆     ┆     ┆     ┆     ┆     ┆     ┆ p   ┆     ┆     ┆     ┆     ┆     ┆     ┆     ┆     ┆     ┆     ┆     ┆     ┆     ┆     ┆     ┆     │\n",
       "│     ┆     ┆     ┆     ┆     ┆     ┆     ┆     ┆     ┆     ┆     ┆     ┆     ┆     ┆     ┆     ┆     ┆     ┆     ┆     ┆     ┆     ┆     ┆     ┆     ┆     ┆     ┆     ┆     ┆     ┆     ┆     ┆     ┆     ┆     ┆     ┆     ┆     ┆     ┆     ┆     ┆     ┆     ┆     ┆     ┆     ┆     ┆     ┆     ┆     ┆     ┆     ┆     ┆     ┆     ┆     ┆     ┆     ┆     ┆     ┆     ┆     ┆     ┆     ┆     ┆     ┆     ┆     ┆     ┆     ┆     ┆     ┆     ┆     ┆     ┆   ┆     ┆     ┆     ┆     ┆     ┆     ┆     ┆     ┆     ┆     ┆     ┆     ┆     ┆     ┆     ┆     ┆     ┆     ┆     ┆     ┆     ┆     ┆     ┆     ┆     ┆     ┆     ┆     ┆     ┆     ┆     ┆     ┆     ┆     ┆     ┆     ┆     ┆     ┆     ┆     ┆     ┆     ┆     ┆     ┆     ┆     ┆     ┆     ┆     ┆     ┆     ┆     ┆     ┆     ┆     ┆     ┆     ┆     ┆ FC  ┆     ┆     ┆     ┆     ┆     ┆     ┆     ┆     ┆     ┆     ┆     ┆     ┆     ┆     ┆     ┆     │\n",
       "│ 39  ┆ 20  ┆ 19  ┆ 17  ┆ 10  ┆ 7   ┆ 20  ┆ 9   ┆ 11  ┆ 5   ┆ 3   ┆ 2   ┆ 1   ┆ 0   ┆ 1   ┆ 2   ┆ 1   ┆ 1   ┆ 8   ┆ 5   ┆ 3   ┆ 1   ┆ 1   ┆ 0   ┆ 2   ┆ 1   ┆ 1   ┆ 77  ┆ 36  ┆ 41  ┆ 32  ┆ 15  ┆ 17  ┆ 25  ┆ 11  ┆ 14  ┆ 77  ┆ 31  ┆ 46  ┆ 25  ┆ 11  ┆ 14  ┆ 20  ┆ 9   ┆ 11  ┆ 8   ┆ 3   ┆ 5   ┆ 1   ┆ 1   ┆ 0   ┆ 4   ┆ 1   ┆ 3   ┆ 996 ┆ 484 ┆ 512 ┆ 353 ┆ 179 ┆ 173 ┆ 343 ┆ 166 ┆ 177 ┆ 476 ┆ 201 ┆ 275 ┆ 167 ┆ 104 ┆ 63  ┆ 265 ┆ 81  ┆ 184 ┆ 96. ┆ 46. ┆ 50. ┆ … ┆ 80. ┆ 7.4 ┆ 5.8 ┆ 8.9 ┆ 3.0 ┆ 6.1 ┆ 0.0 ┆ 14. ┆ 6.8 ┆ 21. ┆ 932 ┆ 944 ┆ 921 ┆ 107 ┆ 111 ┆ 103 ┆ 121 ┆ 113 ┆ 129 ┆ 445 ┆ 392 ┆ 494 ┆ 507 ┆ 644 ┆ 376 ┆ 934 ┆ 552 ┆ 134 ┆ 103 ┆ 954 ┆ 110 ┆ 122 ┆ 110 ┆ 133 ┆ 215 ┆ 182 ┆ 250 ┆ 189 ┆ 93. ┆ 276 ┆ 72. ┆ 148 ┆ 0.0 ┆ 479 ┆ 115 ┆ 869 ┆ 28. ┆ adu ┆ BEL ┆ 249 ┆ mal ┆ 16  ┆ 16  ┆ Pro ┆ Bel ┆ 202 ┆ Mid ┆ 450 ┆ Oud ┆ BEL ┆ 198 ┆ 109 ┆ Xav ┆ AM  ┆ tru ┆ 202 ┆ 8   ┆ 8   ┆ 202 ┆ 202 ┆ 202 ┆ X.  ┆ Oud ┆ 27  ┆ Oud │\n",
       "│     ┆     ┆     ┆     ┆     ┆     ┆     ┆     ┆     ┆     ┆     ┆     ┆     ┆     ┆     ┆     ┆     ┆     ┆     ┆     ┆     ┆     ┆     ┆     ┆     ┆     ┆     ┆     ┆     ┆     ┆     ┆     ┆     ┆     ┆     ┆     ┆     ┆     ┆     ┆     ┆     ┆     ┆     ┆     ┆     ┆     ┆     ┆     ┆     ┆     ┆     ┆     ┆     ┆     ┆ 9   ┆ 2   ┆ 7   ┆ 4   ┆ 5   ┆ 9   ┆ 5   ┆ 0   ┆ 5   ┆     ┆     ┆     ┆     ┆     ┆     ┆     ┆     ┆     ┆ 19  ┆ 12  ┆ 07  ┆   ┆ 357 ┆ 851 ┆ 542 ┆ 874 ┆ 415 ┆ 983 ┆     ┆ 106 ┆ 181 ┆ 915 ┆ 7.4 ┆ 8.8 ┆ 5.6 ┆ 48. ┆ 26. ┆ 85. ┆ 14. ┆ 18. ┆ 66. ┆ .36 ┆ .23 ┆ .30 ┆ .94 ┆ .62 ┆ .24 ┆ .56 ┆ .27 ┆ 4.1 ┆ 0.1 ┆ .24 ┆ 0.0 ┆ 2.7 ┆ 3.3 ┆ 7.7 ┆ 1.2 ┆ 0.4 ┆ 5.6 ┆ .00 ┆ 668 ┆ .81 ┆ 997 ┆ .76 ┆     ┆ .62 ┆ .90 ┆ .31 ┆ 3   ┆ lt  ┆     ┆     ┆ e   ┆     ┆     ┆ Lea ┆ giu ┆ 1-0 ┆ fie ┆ 02  ┆ -He ┆ -   ┆ 9-0 ┆ 32  ┆ ier ┆     ┆ e   ┆ 2   ┆     ┆     ┆ 1/2 ┆ 1/2 ┆ 1   ┆ Mer ┆ -He ┆     ┆ -He │\n",
       "│     ┆     ┆     ┆     ┆     ┆     ┆     ┆     ┆     ┆     ┆     ┆     ┆     ┆     ┆     ┆     ┆     ┆     ┆     ┆     ┆     ┆     ┆     ┆     ┆     ┆     ┆     ┆     ┆     ┆     ┆     ┆     ┆     ┆     ┆     ┆     ┆     ┆     ┆     ┆     ┆     ┆     ┆     ┆     ┆     ┆     ┆     ┆     ┆     ┆     ┆     ┆     ┆     ┆     ┆     ┆     ┆     ┆     ┆     ┆     ┆     ┆     ┆     ┆     ┆     ┆     ┆     ┆     ┆     ┆     ┆     ┆     ┆     ┆     ┆     ┆   ┆ 143 ┆ 86  ┆ 93  ┆ 18  ┆ 68  ┆ 47  ┆     ┆ 583 ┆ 82  ┆ 584 ┆ 768 ┆ 291 ┆ 980 ┆ 901 ┆ 033 ┆ 534 ┆ 028 ┆ 181 ┆ 720 ┆ 854 ┆ 764 ┆ 796 ┆ 187 ┆ 809 ┆ 419 ┆ 112 ┆ 272 ┆ 558 ┆ 486 ┆ 978 ┆ 599 ┆ 103 ┆ 057 ┆ 571 ┆ 539 ┆ 545 ┆ 818 ┆ 093 ┆ 69  ┆ 246 ┆ 634 ┆ 033 ┆     ┆ 382 ┆ 909 ┆ 818 ┆     ┆     ┆     ┆     ┆     ┆     ┆     ┆ gue ┆ m_1 ┆ 7-2 ┆ ld  ┆     ┆ ver ┆ Pro ┆ 7-2 ┆     ┆ Mer ┆     ┆     ┆     ┆     ┆     ┆ 022 ┆ 022 ┆     ┆ cie ┆ ver ┆     ┆ ver │\n",
       "│     ┆     ┆     ┆     ┆     ┆     ┆     ┆     ┆     ┆     ┆     ┆     ┆     ┆     ┆     ┆     ┆     ┆     ┆     ┆     ┆     ┆     ┆     ┆     ┆     ┆     ┆     ┆     ┆     ┆     ┆     ┆     ┆     ┆     ┆     ┆     ┆     ┆     ┆     ┆     ┆     ┆     ┆     ┆     ┆     ┆     ┆     ┆     ┆     ┆     ┆     ┆     ┆     ┆     ┆     ┆     ┆     ┆     ┆     ┆     ┆     ┆     ┆     ┆     ┆     ┆     ┆     ┆     ┆     ┆     ┆     ┆     ┆     ┆     ┆     ┆   ┆     ┆     ┆     ┆     ┆     ┆     ┆     ┆     ┆     ┆     ┆ 69  ┆ 41  ┆ 23  ┆ 656 ┆ 058 ┆ 174 ┆ 213 ┆ 818 ┆ 779 ┆ 1   ┆ 1   ┆ 9   ┆ 2   ┆ 9   ┆ 4   ┆ 9   ┆ 7   ┆ 44  ┆ 64  ┆ 3   ┆ 16  ┆ 75  ┆ 85  ┆ 33  ┆ 18  ┆ 45  ┆ 18  ┆ 6   ┆     ┆ 3   ┆     ┆ 1   ┆     ┆ 4   ┆ 1   ┆ 2   ┆     ┆     ┆     ┆     ┆     ┆     ┆     ┆     ┆     ┆ 4   ┆     ┆     ┆ lee ┆ Lea ┆ 5   ┆     ┆ cie ┆     ┆     ┆     ┆     ┆     ┆     ┆     ┆     ┆ r   ┆ lee ┆     ┆ lee │\n",
       "│     ┆     ┆     ┆     ┆     ┆     ┆     ┆     ┆     ┆     ┆     ┆     ┆     ┆     ┆     ┆     ┆     ┆     ┆     ┆     ┆     ┆     ┆     ┆     ┆     ┆     ┆     ┆     ┆     ┆     ┆     ┆     ┆     ┆     ┆     ┆     ┆     ┆     ┆     ┆     ┆     ┆     ┆     ┆     ┆     ┆     ┆     ┆     ┆     ┆     ┆     ┆     ┆     ┆     ┆     ┆     ┆     ┆     ┆     ┆     ┆     ┆     ┆     ┆     ┆     ┆     ┆     ┆     ┆     ┆     ┆     ┆     ┆     ┆     ┆     ┆   ┆     ┆     ┆     ┆     ┆     ┆     ┆     ┆     ┆     ┆     ┆     ┆     ┆     ┆     ┆     ┆     ┆     ┆     ┆     ┆     ┆     ┆     ┆     ┆     ┆     ┆     ┆     ┆     ┆     ┆     ┆     ┆     ┆     ┆     ┆     ┆     ┆     ┆     ┆     ┆     ┆     ┆     ┆     ┆     ┆     ┆     ┆     ┆     ┆     ┆     ┆     ┆     ┆     ┆     ┆     ┆     ┆     ┆     ┆ Leu ┆ gue ┆     ┆     ┆ r   ┆     ┆     ┆     ┆     ┆     ┆     ┆     ┆     ┆     ┆ Leu ┆     ┆ Leu │\n",
       "│     ┆     ┆     ┆     ┆     ┆     ┆     ┆     ┆     ┆     ┆     ┆     ┆     ┆     ┆     ┆     ┆     ┆     ┆     ┆     ┆     ┆     ┆     ┆     ┆     ┆     ┆     ┆     ┆     ┆     ┆     ┆     ┆     ┆     ┆     ┆     ┆     ┆     ┆     ┆     ┆     ┆     ┆     ┆     ┆     ┆     ┆     ┆     ┆     ┆     ┆     ┆     ┆     ┆     ┆     ┆     ┆     ┆     ┆     ┆     ┆     ┆     ┆     ┆     ┆     ┆     ┆     ┆     ┆     ┆     ┆     ┆     ┆     ┆     ┆     ┆   ┆     ┆     ┆     ┆     ┆     ┆     ┆     ┆     ┆     ┆     ┆     ┆     ┆     ┆     ┆     ┆     ┆     ┆     ┆     ┆     ┆     ┆     ┆     ┆     ┆     ┆     ┆     ┆     ┆     ┆     ┆     ┆     ┆     ┆     ┆     ┆     ┆     ┆     ┆     ┆     ┆     ┆     ┆     ┆     ┆     ┆     ┆     ┆     ┆     ┆     ┆     ┆     ┆     ┆     ┆     ┆     ┆     ┆     ┆ ven ┆ -   ┆     ┆     ┆     ┆     ┆     ┆     ┆     ┆     ┆     ┆     ┆     ┆     ┆ ven ┆     ┆ ven │\n",
       "│     ┆     ┆     ┆     ┆     ┆     ┆     ┆     ┆     ┆     ┆     ┆     ┆     ┆     ┆     ┆     ┆     ┆     ┆     ┆     ┆     ┆     ┆     ┆     ┆     ┆     ┆     ┆     ┆     ┆     ┆     ┆     ┆     ┆     ┆     ┆     ┆     ┆     ┆     ┆     ┆     ┆     ┆     ┆     ┆     ┆     ┆     ┆     ┆     ┆     ┆     ┆     ┆     ┆     ┆     ┆     ┆     ┆     ┆     ┆     ┆     ┆     ┆     ┆     ┆     ┆     ┆     ┆     ┆     ┆     ┆     ┆     ┆     ┆     ┆     ┆   ┆     ┆     ┆     ┆     ┆     ┆     ┆     ┆     ┆     ┆     ┆     ┆     ┆     ┆     ┆     ┆     ┆     ┆     ┆     ┆     ┆     ┆     ┆     ┆     ┆     ┆     ┆     ┆     ┆     ┆     ┆     ┆     ┆     ┆     ┆     ┆     ┆     ┆     ┆     ┆     ┆     ┆     ┆     ┆     ┆     ┆     ┆     ┆     ┆     ┆     ┆     ┆     ┆     ┆     ┆     ┆     ┆     ┆     ┆ v   ┆ 202 ┆     ┆     ┆     ┆     ┆     ┆     ┆     ┆     ┆     ┆     ┆     ┆     ┆     ┆     ┆     │\n",
       "│     ┆     ┆     ┆     ┆     ┆     ┆     ┆     ┆     ┆     ┆     ┆     ┆     ┆     ┆     ┆     ┆     ┆     ┆     ┆     ┆     ┆     ┆     ┆     ┆     ┆     ┆     ┆     ┆     ┆     ┆     ┆     ┆     ┆     ┆     ┆     ┆     ┆     ┆     ┆     ┆     ┆     ┆     ┆     ┆     ┆     ┆     ┆     ┆     ┆     ┆     ┆     ┆     ┆     ┆     ┆     ┆     ┆     ┆     ┆     ┆     ┆     ┆     ┆     ┆     ┆     ┆     ┆     ┆     ┆     ┆     ┆     ┆     ┆     ┆     ┆   ┆     ┆     ┆     ┆     ┆     ┆     ┆     ┆     ┆     ┆     ┆     ┆     ┆     ┆     ┆     ┆     ┆     ┆     ┆     ┆     ┆     ┆     ┆     ┆     ┆     ┆     ┆     ┆     ┆     ┆     ┆     ┆     ┆     ┆     ┆     ┆     ┆     ┆     ┆     ┆     ┆     ┆     ┆     ┆     ┆     ┆     ┆     ┆     ┆     ┆     ┆     ┆     ┆     ┆     ┆     ┆     ┆     ┆     ┆ SV  ┆ 1/2 ┆     ┆     ┆     ┆     ┆     ┆     ┆     ┆     ┆     ┆     ┆     ┆     ┆     ┆     ┆     │\n",
       "│     ┆     ┆     ┆     ┆     ┆     ┆     ┆     ┆     ┆     ┆     ┆     ┆     ┆     ┆     ┆     ┆     ┆     ┆     ┆     ┆     ┆     ┆     ┆     ┆     ┆     ┆     ┆     ┆     ┆     ┆     ┆     ┆     ┆     ┆     ┆     ┆     ┆     ┆     ┆     ┆     ┆     ┆     ┆     ┆     ┆     ┆     ┆     ┆     ┆     ┆     ┆     ┆     ┆     ┆     ┆     ┆     ┆     ┆     ┆     ┆     ┆     ┆     ┆     ┆     ┆     ┆     ┆     ┆     ┆     ┆     ┆     ┆     ┆     ┆     ┆   ┆     ┆     ┆     ┆     ┆     ┆     ┆     ┆     ┆     ┆     ┆     ┆     ┆     ┆     ┆     ┆     ┆     ┆     ┆     ┆     ┆     ┆     ┆     ┆     ┆     ┆     ┆     ┆     ┆     ┆     ┆     ┆     ┆     ┆     ┆     ┆     ┆     ┆     ┆     ┆     ┆     ┆     ┆     ┆     ┆     ┆     ┆     ┆     ┆     ┆     ┆     ┆     ┆     ┆     ┆     ┆     ┆     ┆     ┆ Zul ┆ 022 ┆     ┆     ┆     ┆     ┆     ┆     ┆     ┆     ┆     ┆     ┆     ┆     ┆     ┆     ┆     │\n",
       "│     ┆     ┆     ┆     ┆     ┆     ┆     ┆     ┆     ┆     ┆     ┆     ┆     ┆     ┆     ┆     ┆     ┆     ┆     ┆     ┆     ┆     ┆     ┆     ┆     ┆     ┆     ┆     ┆     ┆     ┆     ┆     ┆     ┆     ┆     ┆     ┆     ┆     ┆     ┆     ┆     ┆     ┆     ┆     ┆     ┆     ┆     ┆     ┆     ┆     ┆     ┆     ┆     ┆     ┆     ┆     ┆     ┆     ┆     ┆     ┆     ┆     ┆     ┆     ┆     ┆     ┆     ┆     ┆     ┆     ┆     ┆     ┆     ┆     ┆     ┆   ┆     ┆     ┆     ┆     ┆     ┆     ┆     ┆     ┆     ┆     ┆     ┆     ┆     ┆     ┆     ┆     ┆     ┆     ┆     ┆     ┆     ┆     ┆     ┆     ┆     ┆     ┆     ┆     ┆     ┆     ┆     ┆     ┆     ┆     ┆     ┆     ┆     ┆     ┆     ┆     ┆     ┆     ┆     ┆     ┆     ┆     ┆     ┆     ┆     ┆     ┆     ┆     ┆     ┆     ┆     ┆     ┆     ┆     ┆ te… ┆     ┆     ┆     ┆     ┆     ┆     ┆     ┆     ┆     ┆     ┆     ┆     ┆     ┆     ┆     ┆     │\n",
       "│ 34  ┆ 21  ┆ 13  ┆ 14  ┆ 7   ┆ 7   ┆ 18  ┆ 13  ┆ 5   ┆ 3   ┆ 1   ┆ 2   ┆ 2   ┆ 1   ┆ 1   ┆ 1   ┆ 0   ┆ 1   ┆ 11  ┆ 7   ┆ 4   ┆ 3   ┆ 2   ┆ 1   ┆ 2   ┆ 1   ┆ 1   ┆ 64  ┆ 39  ┆ 25  ┆ 23  ┆ 17  ┆ 6   ┆ 26  ┆ 18  ┆ 8   ┆ 82  ┆ 57  ┆ 25  ┆ 18  ┆ 13  ┆ 5   ┆ 33  ┆ 22  ┆ 11  ┆ 5   ┆ 4   ┆ 1   ┆ 2   ┆ 1   ┆ 1   ┆ 2   ┆ 2   ┆ 0   ┆ 870 ┆ 562 ┆ 308 ┆ 287 ┆ 193 ┆ 938 ┆ 356 ┆ 228 ┆ 127 ┆ 421 ┆ 292 ┆ 129 ┆ 167 ┆ 89  ┆ 78  ┆ 222 ┆ 171 ┆ 51  ┆ 71. ┆ 46. ┆ 24. ┆ … ┆ 124 ┆ 6.3 ┆ 7.8 ┆ 3.6 ┆ 9.1 ┆ 6.8 ┆ 13. ┆ 8.0 ┆ 12. ┆ 0.0 ┆ 110 ┆ 109 ┆ 111 ┆ 130 ┆ 132 ┆ 128 ┆ 142 ┆ 141 ┆ 145 ┆ 533 ┆ 569 ┆ 465 ┆ 760 ┆ 606 ┆ 106 ┆ 889 ┆ 105 ┆ 578 ┆ 157 ┆ 139 ┆ 190 ┆ 193 ┆ 172 ┆ 235 ┆ 290 ┆ 264 ┆ 337 ┆ 132 ┆ 185 ┆ 36. ┆ 163 ┆ 197 ┆ 95. ┆ 104 ┆ 161 ┆ 0.0 ┆ 26. ┆ adu ┆ BEL ┆ 249 ┆ mal ┆ 16  ┆ 16  ┆ Pro ┆ Bel ┆ 202 ┆ Mid ┆ 450 ┆ Oud ┆ BEL ┆ 199 ┆ 146 ┆ Oma ┆ AM  ┆ tru ┆ 202 ┆ 8   ┆ 8   ┆ 202 ┆ 202 ┆ 202 ┆ O.  ┆ SV  ┆ 8   ┆ SV  │\n",
       "│     ┆     ┆     ┆     ┆     ┆     ┆     ┆     ┆     ┆     ┆     ┆     ┆     ┆     ┆     ┆     ┆     ┆     ┆     ┆     ┆     ┆     ┆     ┆     ┆     ┆     ┆     ┆     ┆     ┆     ┆     ┆     ┆     ┆     ┆     ┆     ┆     ┆     ┆     ┆     ┆     ┆     ┆     ┆     ┆     ┆     ┆     ┆     ┆     ┆     ┆     ┆     ┆     ┆     ┆ 9   ┆ 0   ┆ 9   ┆ 6   ┆ 8   ┆     ┆ 7   ┆ 9   ┆ 8   ┆     ┆     ┆     ┆     ┆     ┆     ┆     ┆     ┆     ┆ 07  ┆ 12  ┆ 95  ┆   ┆ .84 ┆ 317 ┆ 057 ┆ 072 ┆ 047 ┆ 181 ┆ 698 ┆ 178 ┆ 396 ┆     ┆ 28. ┆ 67. ┆ 42. ┆ 92. ┆ 13. ┆ 49. ┆ 99. ┆ 88. ┆ 04. ┆ .13 ┆ .81 ┆ .33 ┆ .24 ┆ .81 ┆ 8.4 ┆ .97 ┆ 9.9 ┆ .81 ┆ 1.5 ┆ 3.3 ┆ 1.0 ┆ 4.7 ┆ 5.0 ┆ 6.1 ┆ 2.4 ┆ 6.6 ┆ 0.7 ┆ .96 ┆ .38 ┆ 072 ┆ .88 ┆ .72 ┆ 890 ┆ .23 ┆ .15 ┆     ┆ 4   ┆ lt  ┆     ┆     ┆ e   ┆     ┆     ┆ Lea ┆ giu ┆ 1-0 ┆ fie ┆ 02  ┆ -He ┆ -   ┆ 6-0 ┆ 25  ┆ r   ┆     ┆ e   ┆ 2   ┆     ┆     ┆ 1/2 ┆ 1/2 ┆ 1   ┆ Gov ┆ Zul ┆     ┆ Zul │\n",
       "│     ┆     ┆     ┆     ┆     ┆     ┆     ┆     ┆     ┆     ┆     ┆     ┆     ┆     ┆     ┆     ┆     ┆     ┆     ┆     ┆     ┆     ┆     ┆     ┆     ┆     ┆     ┆     ┆     ┆     ┆     ┆     ┆     ┆     ┆     ┆     ┆     ┆     ┆     ┆     ┆     ┆     ┆     ┆     ┆     ┆     ┆     ┆     ┆     ┆     ┆     ┆     ┆     ┆     ┆     ┆     ┆     ┆     ┆     ┆     ┆     ┆     ┆     ┆     ┆     ┆     ┆     ┆     ┆     ┆     ┆     ┆     ┆     ┆     ┆     ┆   ┆ 237 ┆ 86  ┆ 24  ┆ 14  ┆ 04  ┆ 82  ┆ 63  ┆ 17  ┆ 694 ┆     ┆ 704 ┆ 042 ┆ 685 ┆ 564 ┆ 636 ┆ 315 ┆ 777 ┆ 016 ┆ 413 ┆ 634 ┆ 786 ┆ 066 ┆ 279 ┆ 818 ┆ 931 ┆ 772 ┆ 173 ┆ 462 ┆ 491 ┆ 217 ┆ 020 ┆ 496 ┆     ┆ 643 ┆ 498 ┆ 942 ┆ 440 ┆ 749 ┆ 595 ┆ 144 ┆ 467 ┆ 727 ┆ 411 ┆ 162 ┆ 702 ┆     ┆     ┆     ┆     ┆     ┆     ┆     ┆     ┆ gue ┆ m_1 ┆ 7-2 ┆ ld  ┆     ┆ ver ┆ Pro ┆ 1-1 ┆     ┆ Nic ┆     ┆     ┆     ┆     ┆     ┆ 022 ┆ 022 ┆     ┆ ea  ┆ te- ┆     ┆ te- │\n",
       "│     ┆     ┆     ┆     ┆     ┆     ┆     ┆     ┆     ┆     ┆     ┆     ┆     ┆     ┆     ┆     ┆     ┆     ┆     ┆     ┆     ┆     ┆     ┆     ┆     ┆     ┆     ┆     ┆     ┆     ┆     ┆     ┆     ┆     ┆     ┆     ┆     ┆     ┆     ┆     ┆     ┆     ┆     ┆     ┆     ┆     ┆     ┆     ┆     ┆     ┆     ┆     ┆     ┆     ┆     ┆     ┆     ┆     ┆     ┆     ┆     ┆     ┆     ┆     ┆     ┆     ┆     ┆     ┆     ┆     ┆     ┆     ┆     ┆     ┆     ┆   ┆ 1   ┆     ┆     ┆     ┆     ┆     ┆     ┆     ┆     ┆     ┆ 095 ┆ 498 ┆ 371 ┆ 492 ┆ 364 ┆ 068 ┆ 283 ┆ 529 ┆ 619 ┆ 4   ┆ 6   ┆ 1   ┆ 2   ┆ 2   ┆ 51  ┆ 8   ┆ 55  ┆ 8   ┆ 77  ┆ 69  ┆ 04  ┆ 21  ┆     ┆ 84  ┆ 89  ┆ 15  ┆ 1   ┆ 7   ┆     ┆     ┆ 4   ┆ 3   ┆     ┆ 6   ┆ 5   ┆     ┆     ┆     ┆     ┆     ┆     ┆     ┆     ┆     ┆     ┆ 4   ┆     ┆     ┆ lee ┆ Lea ┆ 8   ┆     ┆ olá ┆     ┆     ┆     ┆     ┆     ┆     ┆     ┆     ┆     ┆ War ┆     ┆ War │\n",
       "│     ┆     ┆     ┆     ┆     ┆     ┆     ┆     ┆     ┆     ┆     ┆     ┆     ┆     ┆     ┆     ┆     ┆     ┆     ┆     ┆     ┆     ┆     ┆     ┆     ┆     ┆     ┆     ┆     ┆     ┆     ┆     ┆     ┆     ┆     ┆     ┆     ┆     ┆     ┆     ┆     ┆     ┆     ┆     ┆     ┆     ┆     ┆     ┆     ┆     ┆     ┆     ┆     ┆     ┆     ┆     ┆     ┆     ┆     ┆     ┆     ┆     ┆     ┆     ┆     ┆     ┆     ┆     ┆     ┆     ┆     ┆     ┆     ┆     ┆     ┆   ┆     ┆     ┆     ┆     ┆     ┆     ┆     ┆     ┆     ┆     ┆     ┆     ┆     ┆     ┆     ┆     ┆     ┆     ┆     ┆     ┆     ┆     ┆     ┆     ┆     ┆     ┆     ┆     ┆     ┆     ┆     ┆     ┆     ┆     ┆     ┆     ┆     ┆     ┆     ┆     ┆     ┆     ┆     ┆     ┆     ┆     ┆     ┆     ┆     ┆     ┆     ┆     ┆     ┆     ┆     ┆     ┆     ┆     ┆ Leu ┆ gue ┆     ┆     ┆ s   ┆     ┆     ┆     ┆     ┆     ┆     ┆     ┆     ┆     ┆ ege ┆     ┆ ege │\n",
       "│     ┆     ┆     ┆     ┆     ┆     ┆     ┆     ┆     ┆     ┆     ┆     ┆     ┆     ┆     ┆     ┆     ┆     ┆     ┆     ┆     ┆     ┆     ┆     ┆     ┆     ┆     ┆     ┆     ┆     ┆     ┆     ┆     ┆     ┆     ┆     ┆     ┆     ┆     ┆     ┆     ┆     ┆     ┆     ┆     ┆     ┆     ┆     ┆     ┆     ┆     ┆     ┆     ┆     ┆     ┆     ┆     ┆     ┆     ┆     ┆     ┆     ┆     ┆     ┆     ┆     ┆     ┆     ┆     ┆     ┆     ┆     ┆     ┆     ┆     ┆   ┆     ┆     ┆     ┆     ┆     ┆     ┆     ┆     ┆     ┆     ┆     ┆     ┆     ┆     ┆     ┆     ┆     ┆     ┆     ┆     ┆     ┆     ┆     ┆     ┆     ┆     ┆     ┆     ┆     ┆     ┆     ┆     ┆     ┆     ┆     ┆     ┆     ┆     ┆     ┆     ┆     ┆     ┆     ┆     ┆     ┆     ┆     ┆     ┆     ┆     ┆     ┆     ┆     ┆     ┆     ┆     ┆     ┆     ┆ ven ┆ -   ┆     ┆     ┆ Gov ┆     ┆     ┆     ┆     ┆     ┆     ┆     ┆     ┆     ┆ m   ┆     ┆ m   │\n",
       "│     ┆     ┆     ┆     ┆     ┆     ┆     ┆     ┆     ┆     ┆     ┆     ┆     ┆     ┆     ┆     ┆     ┆     ┆     ┆     ┆     ┆     ┆     ┆     ┆     ┆     ┆     ┆     ┆     ┆     ┆     ┆     ┆     ┆     ┆     ┆     ┆     ┆     ┆     ┆     ┆     ┆     ┆     ┆     ┆     ┆     ┆     ┆     ┆     ┆     ┆     ┆     ┆     ┆     ┆     ┆     ┆     ┆     ┆     ┆     ┆     ┆     ┆     ┆     ┆     ┆     ┆     ┆     ┆     ┆     ┆     ┆     ┆     ┆     ┆     ┆   ┆     ┆     ┆     ┆     ┆     ┆     ┆     ┆     ┆     ┆     ┆     ┆     ┆     ┆     ┆     ┆     ┆     ┆     ┆     ┆     ┆     ┆     ┆     ┆     ┆     ┆     ┆     ┆     ┆     ┆     ┆     ┆     ┆     ┆     ┆     ┆     ┆     ┆     ┆     ┆     ┆     ┆     ┆     ┆     ┆     ┆     ┆     ┆     ┆     ┆     ┆     ┆     ┆     ┆     ┆     ┆     ┆     ┆     ┆ v   ┆ 202 ┆     ┆     ┆ ea  ┆     ┆     ┆     ┆     ┆     ┆     ┆     ┆     ┆     ┆     ┆     ┆     │\n",
       "│     ┆     ┆     ┆     ┆     ┆     ┆     ┆     ┆     ┆     ┆     ┆     ┆     ┆     ┆     ┆     ┆     ┆     ┆     ┆     ┆     ┆     ┆     ┆     ┆     ┆     ┆     ┆     ┆     ┆     ┆     ┆     ┆     ┆     ┆     ┆     ┆     ┆     ┆     ┆     ┆     ┆     ┆     ┆     ┆     ┆     ┆     ┆     ┆     ┆     ┆     ┆     ┆     ┆     ┆     ┆     ┆     ┆     ┆     ┆     ┆     ┆     ┆     ┆     ┆     ┆     ┆     ┆     ┆     ┆     ┆     ┆     ┆     ┆     ┆     ┆   ┆     ┆     ┆     ┆     ┆     ┆     ┆     ┆     ┆     ┆     ┆     ┆     ┆     ┆     ┆     ┆     ┆     ┆     ┆     ┆     ┆     ┆     ┆     ┆     ┆     ┆     ┆     ┆     ┆     ┆     ┆     ┆     ┆     ┆     ┆     ┆     ┆     ┆     ┆     ┆     ┆     ┆     ┆     ┆     ┆     ┆     ┆     ┆     ┆     ┆     ┆     ┆     ┆     ┆     ┆     ┆     ┆     ┆     ┆ SV  ┆ 1/2 ┆     ┆     ┆ Gar ┆     ┆     ┆     ┆     ┆     ┆     ┆     ┆     ┆     ┆     ┆     ┆     │\n",
       "│     ┆     ┆     ┆     ┆     ┆     ┆     ┆     ┆     ┆     ┆     ┆     ┆     ┆     ┆     ┆     ┆     ┆     ┆     ┆     ┆     ┆     ┆     ┆     ┆     ┆     ┆     ┆     ┆     ┆     ┆     ┆     ┆     ┆     ┆     ┆     ┆     ┆     ┆     ┆     ┆     ┆     ┆     ┆     ┆     ┆     ┆     ┆     ┆     ┆     ┆     ┆     ┆     ┆     ┆     ┆     ┆     ┆     ┆     ┆     ┆     ┆     ┆     ┆     ┆     ┆     ┆     ┆     ┆     ┆     ┆     ┆     ┆     ┆     ┆     ┆   ┆     ┆     ┆     ┆     ┆     ┆     ┆     ┆     ┆     ┆     ┆     ┆     ┆     ┆     ┆     ┆     ┆     ┆     ┆     ┆     ┆     ┆     ┆     ┆     ┆     ┆     ┆     ┆     ┆     ┆     ┆     ┆     ┆     ┆     ┆     ┆     ┆     ┆     ┆     ┆     ┆     ┆     ┆     ┆     ┆     ┆     ┆     ┆     ┆     ┆     ┆     ┆     ┆     ┆     ┆     ┆     ┆     ┆     ┆ Zul ┆ 022 ┆     ┆     ┆ cía ┆     ┆     ┆     ┆     ┆     ┆     ┆     ┆     ┆     ┆     ┆     ┆     │\n",
       "│     ┆     ┆     ┆     ┆     ┆     ┆     ┆     ┆     ┆     ┆     ┆     ┆     ┆     ┆     ┆     ┆     ┆     ┆     ┆     ┆     ┆     ┆     ┆     ┆     ┆     ┆     ┆     ┆     ┆     ┆     ┆     ┆     ┆     ┆     ┆     ┆     ┆     ┆     ┆     ┆     ┆     ┆     ┆     ┆     ┆     ┆     ┆     ┆     ┆     ┆     ┆     ┆     ┆     ┆     ┆     ┆     ┆     ┆     ┆     ┆     ┆     ┆     ┆     ┆     ┆     ┆     ┆     ┆     ┆     ┆     ┆     ┆     ┆     ┆     ┆   ┆     ┆     ┆     ┆     ┆     ┆     ┆     ┆     ┆     ┆     ┆     ┆     ┆     ┆     ┆     ┆     ┆     ┆     ┆     ┆     ┆     ┆     ┆     ┆     ┆     ┆     ┆     ┆     ┆     ┆     ┆     ┆     ┆     ┆     ┆     ┆     ┆     ┆     ┆     ┆     ┆     ┆     ┆     ┆     ┆     ┆     ┆     ┆     ┆     ┆     ┆     ┆     ┆     ┆     ┆     ┆     ┆     ┆     ┆ te… ┆     ┆     ┆     ┆     ┆     ┆     ┆     ┆     ┆     ┆     ┆     ┆     ┆     ┆     ┆     ┆     │\n",
       "│ 50  ┆ 25  ┆ 25  ┆ 20  ┆ 11  ┆ 9   ┆ 25  ┆ 13  ┆ 12  ┆ 1   ┆ 0   ┆ 1   ┆ 0   ┆ 0   ┆ 0   ┆ 1   ┆ 0   ┆ 1   ┆ 15  ┆ 9   ┆ 6   ┆ 5   ┆ 2   ┆ 3   ┆ 3   ┆ 2   ┆ 1   ┆ 64  ┆ 37  ┆ 27  ┆ 26  ┆ 17  ┆ 9   ┆ 21  ┆ 13  ┆ 8   ┆ 70  ┆ 44  ┆ 26  ┆ 21  ┆ 13  ┆ 8   ┆ 18  ┆ 13  ┆ 5   ┆ 12  ┆ 6   ┆ 6   ┆ 2   ┆ 1   ┆ 1   ┆ 8   ┆ 4   ┆ 4   ┆ 897 ┆ 541 ┆ 356 ┆ 335 ┆ 202 ┆ 132 ┆ 312 ┆ 188 ┆ 124 ┆ 594 ┆ 284 ┆ 310 ┆ 224 ┆ 114 ┆ 110 ┆ 337 ┆ 144 ┆ 193 ┆ 74. ┆ 46. ┆ 28. ┆ … ┆ 62. ┆ 14. ┆ 11. ┆ 19. ┆ 7.8 ┆ 6.1 ┆ 10. ┆ 35. ┆ 27. ┆ 50. ┆ 108 ┆ 105 ┆ 114 ┆ 131 ┆ 125 ┆ 140 ┆ 138 ┆ 128 ┆ 156 ┆ 720 ┆ 554 ┆ 995 ┆ 876 ┆ 706 ┆ 116 ┆ 149 ┆ 981 ┆ 242 ┆ 149 ┆ 132 ┆ 177 ┆ 209 ┆ 186 ┆ 249 ┆ 266 ┆ 222 ┆ 347 ┆ 251 ┆ 148 ┆ 420 ┆ 105 ┆ 43. ┆ 212 ┆ 583 ┆ 300 ┆ 110 ┆ 27. ┆ adu ┆ BEL ┆ 249 ┆ mal ┆ 16  ┆ 16  ┆ Pro ┆ Bel ┆ 202 ┆ Mid ┆ 450 ┆ Oud ┆ BEL ┆ 199 ┆ 983 ┆ Sie ┆ AM  ┆ tru ┆ 202 ┆ 8   ┆ 8   ┆ 202 ┆ 202 ┆ 202 ┆ S.  ┆ Oud ┆ 27  ┆ Oud │\n",
       "│     ┆     ┆     ┆     ┆     ┆     ┆     ┆     ┆     ┆     ┆     ┆     ┆     ┆     ┆     ┆     ┆     ┆     ┆     ┆     ┆     ┆     ┆     ┆     ┆     ┆     ┆     ┆     ┆     ┆     ┆     ┆     ┆     ┆     ┆     ┆     ┆     ┆     ┆     ┆     ┆     ┆     ┆     ┆     ┆     ┆     ┆     ┆     ┆     ┆     ┆     ┆     ┆     ┆     ┆ 6   ┆ 0   ┆ 6   ┆ 1   ┆ 5   ┆ 6   ┆ 5   ┆ 3   ┆ 2   ┆     ┆     ┆     ┆     ┆     ┆     ┆     ┆     ┆     ┆ 15  ┆ 12  ┆ 03  ┆   ┆ 937 ┆ 565 ┆ 708 ┆ 265 ┆ 260 ┆ 983 ┆ 613 ┆ 380 ┆ 272 ┆ 349 ┆ 94. ┆ 57. ┆ 49. ┆ 12. ┆ 51. ┆ 73. ┆ 20. ┆ 38. ┆ 33. ┆ .97 ┆ .20 ┆ .36 ┆ .52 ┆ .61 ┆ 7.4 ┆ 0.4 ┆ .81 ┆ 9.3 ┆ 7.7 ┆ 6.9 ┆ 8.8 ┆ 7.3 ┆ 5.7 ┆ 4.1 ┆ 6.8 ┆ 9.5 ┆ 4.1 ┆ .24 ┆ .30 ┆ .62 ┆ .65 ┆ 388 ┆ .26 ┆ .78 ┆ .0  ┆ 7.6 ┆ 4   ┆ lt  ┆     ┆     ┆ e   ┆     ┆     ┆ Lea ┆ giu ┆ 1-0 ┆ fie ┆ 02  ┆ -He ┆ -   ┆ 6-0 ┆ 5   ┆ be  ┆     ┆ e   ┆ 2   ┆     ┆     ┆ 1/2 ┆ 1/2 ┆ 1   ┆ Sch ┆ -He ┆     ┆ -He │\n",
       "│     ┆     ┆     ┆     ┆     ┆     ┆     ┆     ┆     ┆     ┆     ┆     ┆     ┆     ┆     ┆     ┆     ┆     ┆     ┆     ┆     ┆     ┆     ┆     ┆     ┆     ┆     ┆     ┆     ┆     ┆     ┆     ┆     ┆     ┆     ┆     ┆     ┆     ┆     ┆     ┆     ┆     ┆     ┆     ┆     ┆     ┆     ┆     ┆     ┆     ┆     ┆     ┆     ┆     ┆     ┆     ┆     ┆     ┆     ┆     ┆     ┆     ┆     ┆     ┆     ┆     ┆     ┆     ┆     ┆     ┆     ┆     ┆     ┆     ┆     ┆   ┆ 063 ┆ 071 ┆ 586 ┆ 073 ┆ 87  ┆ 47  ┆ 208 ┆ 835 ┆ 727 ┆ 65  ┆ 672 ┆ 241 ┆ 875 ┆ 608 ┆ 652 ┆ 113 ┆ 638 ┆ 636 ┆ 566 ┆ 100 ┆ 641 ┆ 211 ┆ 173 ┆ 157 ┆ 528 ┆ 176 ┆ 818 ┆ 706 ┆ 747 ┆ 731 ┆ 084 ┆ 913 ┆ 024 ┆ 037 ┆ 304 ┆ 454 ┆ 258 ┆ 747 ┆ 876 ┆ 076 ┆ 217 ┆ 43  ┆ 415 ┆ 378 ┆     ┆ 923 ┆     ┆     ┆     ┆     ┆     ┆     ┆     ┆ gue ┆ m_1 ┆ 7-2 ┆ ld  ┆     ┆ ver ┆ Pro ┆ 7-1 ┆     ┆ Sch ┆     ┆     ┆     ┆     ┆     ┆ 022 ┆ 022 ┆     ┆ rij ┆ ver ┆     ┆ ver │\n",
       "│     ┆     ┆     ┆     ┆     ┆     ┆     ┆     ┆     ┆     ┆     ┆     ┆     ┆     ┆     ┆     ┆     ┆     ┆     ┆     ┆     ┆     ┆     ┆     ┆     ┆     ┆     ┆     ┆     ┆     ┆     ┆     ┆     ┆     ┆     ┆     ┆     ┆     ┆     ┆     ┆     ┆     ┆     ┆     ┆     ┆     ┆     ┆     ┆     ┆     ┆     ┆     ┆     ┆     ┆     ┆     ┆     ┆     ┆     ┆     ┆     ┆     ┆     ┆     ┆     ┆     ┆     ┆     ┆     ┆     ┆     ┆     ┆     ┆     ┆     ┆   ┆     ┆     ┆     ┆     ┆     ┆     ┆     ┆     ┆     ┆     ┆ 96  ┆ 977 ┆ 134 ┆ 696 ┆ 893 ┆ 208 ┆ 821 ┆ 364 ┆ 434 ┆ 5   ┆ 8   ┆ 2   ┆ 9   ┆     ┆ 3   ┆ 9   ┆ 2   ┆ 29  ┆ 81  ┆ 14  ┆ 2   ┆ 04  ┆ 79  ┆ 74  ┆ 67  ┆ 55  ┆ 74  ┆ 1   ┆     ┆ 3   ┆ 4   ┆     ┆ 1   ┆ 4   ┆     ┆ 08  ┆     ┆     ┆     ┆     ┆     ┆     ┆     ┆     ┆     ┆ 4   ┆     ┆     ┆ lee ┆ Lea ┆ 8   ┆     ┆ rij ┆     ┆     ┆     ┆     ┆     ┆     ┆     ┆     ┆ ver ┆ lee ┆     ┆ lee │\n",
       "│     ┆     ┆     ┆     ┆     ┆     ┆     ┆     ┆     ┆     ┆     ┆     ┆     ┆     ┆     ┆     ┆     ┆     ┆     ┆     ┆     ┆     ┆     ┆     ┆     ┆     ┆     ┆     ┆     ┆     ┆     ┆     ┆     ┆     ┆     ┆     ┆     ┆     ┆     ┆     ┆     ┆     ┆     ┆     ┆     ┆     ┆     ┆     ┆     ┆     ┆     ┆     ┆     ┆     ┆     ┆     ┆     ┆     ┆     ┆     ┆     ┆     ┆     ┆     ┆     ┆     ┆     ┆     ┆     ┆     ┆     ┆     ┆     ┆     ┆     ┆   ┆     ┆     ┆     ┆     ┆     ┆     ┆     ┆     ┆     ┆     ┆     ┆     ┆     ┆     ┆     ┆     ┆     ┆     ┆     ┆     ┆     ┆     ┆     ┆     ┆     ┆     ┆     ┆     ┆     ┆     ┆     ┆     ┆     ┆     ┆     ┆     ┆     ┆     ┆     ┆     ┆     ┆     ┆     ┆     ┆     ┆     ┆     ┆     ┆     ┆     ┆     ┆     ┆     ┆     ┆     ┆     ┆     ┆     ┆ Leu ┆ gue ┆     ┆     ┆ ver ┆     ┆     ┆     ┆     ┆     ┆     ┆     ┆     ┆ s   ┆ Leu ┆     ┆ Leu │\n",
       "│     ┆     ┆     ┆     ┆     ┆     ┆     ┆     ┆     ┆     ┆     ┆     ┆     ┆     ┆     ┆     ┆     ┆     ┆     ┆     ┆     ┆     ┆     ┆     ┆     ┆     ┆     ┆     ┆     ┆     ┆     ┆     ┆     ┆     ┆     ┆     ┆     ┆     ┆     ┆     ┆     ┆     ┆     ┆     ┆     ┆     ┆     ┆     ┆     ┆     ┆     ┆     ┆     ┆     ┆     ┆     ┆     ┆     ┆     ┆     ┆     ┆     ┆     ┆     ┆     ┆     ┆     ┆     ┆     ┆     ┆     ┆     ┆     ┆     ┆     ┆   ┆     ┆     ┆     ┆     ┆     ┆     ┆     ┆     ┆     ┆     ┆     ┆     ┆     ┆     ┆     ┆     ┆     ┆     ┆     ┆     ┆     ┆     ┆     ┆     ┆     ┆     ┆     ┆     ┆     ┆     ┆     ┆     ┆     ┆     ┆     ┆     ┆     ┆     ┆     ┆     ┆     ┆     ┆     ┆     ┆     ┆     ┆     ┆     ┆     ┆     ┆     ┆     ┆     ┆     ┆     ┆     ┆     ┆     ┆ ven ┆ -   ┆     ┆     ┆ s   ┆     ┆     ┆     ┆     ┆     ┆     ┆     ┆     ┆     ┆ ven ┆     ┆ ven │\n",
       "│     ┆     ┆     ┆     ┆     ┆     ┆     ┆     ┆     ┆     ┆     ┆     ┆     ┆     ┆     ┆     ┆     ┆     ┆     ┆     ┆     ┆     ┆     ┆     ┆     ┆     ┆     ┆     ┆     ┆     ┆     ┆     ┆     ┆     ┆     ┆     ┆     ┆     ┆     ┆     ┆     ┆     ┆     ┆     ┆     ┆     ┆     ┆     ┆     ┆     ┆     ┆     ┆     ┆     ┆     ┆     ┆     ┆     ┆     ┆     ┆     ┆     ┆     ┆     ┆     ┆     ┆     ┆     ┆     ┆     ┆     ┆     ┆     ┆     ┆     ┆   ┆     ┆     ┆     ┆     ┆     ┆     ┆     ┆     ┆     ┆     ┆     ┆     ┆     ┆     ┆     ┆     ┆     ┆     ┆     ┆     ┆     ┆     ┆     ┆     ┆     ┆     ┆     ┆     ┆     ┆     ┆     ┆     ┆     ┆     ┆     ┆     ┆     ┆     ┆     ┆     ┆     ┆     ┆     ┆     ┆     ┆     ┆     ┆     ┆     ┆     ┆     ┆     ┆     ┆     ┆     ┆     ┆     ┆     ┆ v   ┆ 202 ┆     ┆     ┆     ┆     ┆     ┆     ┆     ┆     ┆     ┆     ┆     ┆     ┆     ┆     ┆     │\n",
       "│     ┆     ┆     ┆     ┆     ┆     ┆     ┆     ┆     ┆     ┆     ┆     ┆     ┆     ┆     ┆     ┆     ┆     ┆     ┆     ┆     ┆     ┆     ┆     ┆     ┆     ┆     ┆     ┆     ┆     ┆     ┆     ┆     ┆     ┆     ┆     ┆     ┆     ┆     ┆     ┆     ┆     ┆     ┆     ┆     ┆     ┆     ┆     ┆     ┆     ┆     ┆     ┆     ┆     ┆     ┆     ┆     ┆     ┆     ┆     ┆     ┆     ┆     ┆     ┆     ┆     ┆     ┆     ┆     ┆     ┆     ┆     ┆     ┆     ┆     ┆   ┆     ┆     ┆     ┆     ┆     ┆     ┆     ┆     ┆     ┆     ┆     ┆     ┆     ┆     ┆     ┆     ┆     ┆     ┆     ┆     ┆     ┆     ┆     ┆     ┆     ┆     ┆     ┆     ┆     ┆     ┆     ┆     ┆     ┆     ┆     ┆     ┆     ┆     ┆     ┆     ┆     ┆     ┆     ┆     ┆     ┆     ┆     ┆     ┆     ┆     ┆     ┆     ┆     ┆     ┆     ┆     ┆     ┆     ┆ SV  ┆ 1/2 ┆     ┆     ┆     ┆     ┆     ┆     ┆     ┆     ┆     ┆     ┆     ┆     ┆     ┆     ┆     │\n",
       "│     ┆     ┆     ┆     ┆     ┆     ┆     ┆     ┆     ┆     ┆     ┆     ┆     ┆     ┆     ┆     ┆     ┆     ┆     ┆     ┆     ┆     ┆     ┆     ┆     ┆     ┆     ┆     ┆     ┆     ┆     ┆     ┆     ┆     ┆     ┆     ┆     ┆     ┆     ┆     ┆     ┆     ┆     ┆     ┆     ┆     ┆     ┆     ┆     ┆     ┆     ┆     ┆     ┆     ┆     ┆     ┆     ┆     ┆     ┆     ┆     ┆     ┆     ┆     ┆     ┆     ┆     ┆     ┆     ┆     ┆     ┆     ┆     ┆     ┆     ┆   ┆     ┆     ┆     ┆     ┆     ┆     ┆     ┆     ┆     ┆     ┆     ┆     ┆     ┆     ┆     ┆     ┆     ┆     ┆     ┆     ┆     ┆     ┆     ┆     ┆     ┆     ┆     ┆     ┆     ┆     ┆     ┆     ┆     ┆     ┆     ┆     ┆     ┆     ┆     ┆     ┆     ┆     ┆     ┆     ┆     ┆     ┆     ┆     ┆     ┆     ┆     ┆     ┆     ┆     ┆     ┆     ┆     ┆     ┆ Zul ┆ 022 ┆     ┆     ┆     ┆     ┆     ┆     ┆     ┆     ┆     ┆     ┆     ┆     ┆     ┆     ┆     │\n",
       "│     ┆     ┆     ┆     ┆     ┆     ┆     ┆     ┆     ┆     ┆     ┆     ┆     ┆     ┆     ┆     ┆     ┆     ┆     ┆     ┆     ┆     ┆     ┆     ┆     ┆     ┆     ┆     ┆     ┆     ┆     ┆     ┆     ┆     ┆     ┆     ┆     ┆     ┆     ┆     ┆     ┆     ┆     ┆     ┆     ┆     ┆     ┆     ┆     ┆     ┆     ┆     ┆     ┆     ┆     ┆     ┆     ┆     ┆     ┆     ┆     ┆     ┆     ┆     ┆     ┆     ┆     ┆     ┆     ┆     ┆     ┆     ┆     ┆     ┆     ┆   ┆     ┆     ┆     ┆     ┆     ┆     ┆     ┆     ┆     ┆     ┆     ┆     ┆     ┆     ┆     ┆     ┆     ┆     ┆     ┆     ┆     ┆     ┆     ┆     ┆     ┆     ┆     ┆     ┆     ┆     ┆     ┆     ┆     ┆     ┆     ┆     ┆     ┆     ┆     ┆     ┆     ┆     ┆     ┆     ┆     ┆     ┆     ┆     ┆     ┆     ┆     ┆     ┆     ┆     ┆     ┆     ┆     ┆     ┆ te… ┆     ┆     ┆     ┆     ┆     ┆     ┆     ┆     ┆     ┆     ┆     ┆     ┆     ┆     ┆     ┆     │\n",
       "│ 35  ┆ 23  ┆ 12  ┆ 17  ┆ 9   ┆ 8   ┆ 17  ┆ 13  ┆ 4   ┆ 2   ┆ 2   ┆ 0   ┆ 1   ┆ 1   ┆ 0   ┆ 1   ┆ 1   ┆ 0   ┆ 8   ┆ 6   ┆ 2   ┆ 3   ┆ 2   ┆ 1   ┆ 1   ┆ 1   ┆ 0   ┆ 86  ┆ 47  ┆ 39  ┆ 47  ┆ 21  ┆ 26  ┆ 29  ┆ 18  ┆ 11  ┆ 85  ┆ 44  ┆ 41  ┆ 37  ┆ 18  ┆ 19  ┆ 23  ┆ 13  ┆ 10  ┆ 5   ┆ 4   ┆ 1   ┆ 2   ┆ 1   ┆ 1   ┆ 2   ┆ 2   ┆ 0   ┆ 116 ┆ 625 ┆ 536 ┆ 490 ┆ 265 ┆ 225 ┆ 373 ┆ 234 ┆ 139 ┆ 334 ┆ 253 ┆ 81  ┆ 174 ┆ 112 ┆ 62  ┆ 159 ┆ 140 ┆ 19  ┆ 110 ┆ 50. ┆ 60. ┆ … ┆ 69. ┆ 4.0 ┆ 7.1 ┆ 1.4 ┆ 4.8 ┆ 4.9 ┆ 4.6 ┆ 6.2 ┆ 11. ┆ 0.0 ┆ 947 ┆ 112 ┆ 803 ┆ 118 ┆ 132 ┆ 105 ┆ 117 ┆ 134 ┆ 968 ┆ 272 ┆ 453 ┆ 121 ┆ 420 ┆ 558 ┆ 290 ┆ 499 ┆ 803 ┆ 131 ┆ 114 ┆ 168 ┆ 691 ┆ 190 ┆ 233 ┆ 150 ┆ 189 ┆ 264 ┆ 984 ┆ 48. ┆ 100 ┆ 5.9 ┆ 58. ┆ 99. ┆ 18. ┆ 113 ┆ 206 ┆ 0.0 ┆ 25. ┆ adu ┆ BEL ┆ 249 ┆ mal ┆ 16  ┆ 16  ┆ Pro ┆ Bel ┆ 202 ┆ Mid ┆ 449 ┆ Clu ┆ BEL ┆ 199 ┆ 115 ┆ Ste ┆ AM  ┆ tru ┆ 202 ┆ 8   ┆ 8   ┆ 202 ┆ 202 ┆ 202 ┆ S.  ┆ KAS ┆ 26  ┆ KAS │\n",
       "│     ┆     ┆     ┆     ┆     ┆     ┆     ┆     ┆     ┆     ┆     ┆     ┆     ┆     ┆     ┆     ┆     ┆     ┆     ┆     ┆     ┆     ┆     ┆     ┆     ┆     ┆     ┆     ┆     ┆     ┆     ┆     ┆     ┆     ┆     ┆     ┆     ┆     ┆     ┆     ┆     ┆     ┆     ┆     ┆     ┆     ┆     ┆     ┆     ┆     ┆     ┆     ┆     ┆     ┆ 26  ┆ 7   ┆ 9   ┆ 2   ┆ 0   ┆ 2   ┆ 7   ┆ 0   ┆ 7   ┆     ┆     ┆     ┆     ┆     ┆     ┆     ┆     ┆     ┆ .42 ┆ 25  ┆ 17  ┆   ┆ 337 ┆ 753 ┆ 641 ┆ 957 ┆ 348 ┆ 861 ┆ 923 ┆ 805 ┆ 479 ┆     ┆ 6.0 ┆ 06. ┆ 0.7 ┆ 50. ┆ 13. ┆ 67. ┆ 35. ┆ 31. ┆ 6.4 ┆ .23 ┆ .13 ┆ .15 ┆ .62 ┆ .44 ┆ .92 ┆ .30 ┆ .57 ┆ .74 ┆ 5.1 ┆ 8.9 ┆ .04 ┆ 4.9 ┆ 3.5 ┆ 1.5 ┆ 3.5 ┆ 6.0 ┆ .59 ┆ 904 ┆ .29 ┆ 830 ┆ 017 ┆ 722 ┆ 769 ┆ .04 ┆ .63 ┆     ┆ 5   ┆ lt  ┆     ┆     ┆ e   ┆     ┆     ┆ Lea ┆ giu ┆ 1-0 ┆ fie ┆ 98  ┆ b   ┆ -   ┆ 2-0 ┆ 95  ┆ f   ┆     ┆ e   ┆ 2   ┆     ┆     ┆ 1/2 ┆ 1/2 ┆ 1   ┆ Pee ┆ Eup ┆     ┆ Eup │\n",
       "│     ┆     ┆     ┆     ┆     ┆     ┆     ┆     ┆     ┆     ┆     ┆     ┆     ┆     ┆     ┆     ┆     ┆     ┆     ┆     ┆     ┆     ┆     ┆     ┆     ┆     ┆     ┆     ┆     ┆     ┆     ┆     ┆     ┆     ┆     ┆     ┆     ┆     ┆     ┆     ┆     ┆     ┆     ┆     ┆     ┆     ┆     ┆     ┆     ┆     ┆     ┆     ┆     ┆     ┆     ┆     ┆     ┆     ┆     ┆     ┆     ┆     ┆     ┆     ┆     ┆     ┆     ┆     ┆     ┆     ┆     ┆     ┆     ┆     ┆     ┆   ┆ 442 ┆ 49  ┆ 79  ┆ 62  ┆ 11  ┆ 5   ┆ 88  ┆ 3   ┆ 592 ┆     ┆ 007 ┆ 567 ┆ 462 ┆ 120 ┆ 296 ┆ 257 ┆ 170 ┆ 122 ┆ 406 ┆ 329 ┆ 432 ┆ 672 ┆ 852 ┆ 875 ┆ 805 ┆ 216 ┆ 142 ┆ 114 ┆ 729 ┆ 552 ┆ 204 ┆ 153 ┆ 180 ┆ 641 ┆ 799 ┆ 459 ┆ 168 ┆ 184 ┆ 850 ┆ 48  ┆ 728 ┆ 992 ┆ 552 ┆ 954 ┆ 265 ┆     ┆     ┆     ┆     ┆     ┆     ┆     ┆     ┆ gue ┆ m_1 ┆ 7-2 ┆ ld  ┆     ┆ Bru ┆ Pro ┆ 2-0 ┆     ┆ Pee ┆     ┆     ┆     ┆     ┆     ┆ 022 ┆ 022 ┆     ┆ ter ┆ en  ┆     ┆ en  │\n",
       "│     ┆     ┆     ┆     ┆     ┆     ┆     ┆     ┆     ┆     ┆     ┆     ┆     ┆     ┆     ┆     ┆     ┆     ┆     ┆     ┆     ┆     ┆     ┆     ┆     ┆     ┆     ┆     ┆     ┆     ┆     ┆     ┆     ┆     ┆     ┆     ┆     ┆     ┆     ┆     ┆     ┆     ┆     ┆     ┆     ┆     ┆     ┆     ┆     ┆     ┆     ┆     ┆     ┆     ┆     ┆     ┆     ┆     ┆     ┆     ┆     ┆     ┆     ┆     ┆     ┆     ┆     ┆     ┆     ┆     ┆     ┆     ┆     ┆     ┆     ┆   ┆     ┆     ┆     ┆     ┆     ┆     ┆     ┆     ┆     ┆     ┆ 25  ┆ 164 ┆ 19  ┆ 87  ┆ 399 ┆ 56  ┆ 97  ┆ 449 ┆ 78  ┆ 1   ┆ 8   ┆ 3   ┆ 5   ┆ 3   ┆     ┆ 3   ┆ 9   ┆     ┆ 76  ┆ 24  ┆ 8   ┆ 91  ┆ 06  ┆ 29  ┆ 02  ┆ 18  ┆     ┆     ┆ 7   ┆     ┆     ┆     ┆     ┆ 6   ┆ 3   ┆     ┆     ┆     ┆     ┆     ┆     ┆     ┆     ┆     ┆     ┆ 5   ┆     ┆     ┆ gge ┆ Lea ┆ 9   ┆     ┆ ter ┆     ┆     ┆     ┆     ┆     ┆     ┆     ┆     ┆ s   ┆     ┆     ┆     │\n",
       "│     ┆     ┆     ┆     ┆     ┆     ┆     ┆     ┆     ┆     ┆     ┆     ┆     ┆     ┆     ┆     ┆     ┆     ┆     ┆     ┆     ┆     ┆     ┆     ┆     ┆     ┆     ┆     ┆     ┆     ┆     ┆     ┆     ┆     ┆     ┆     ┆     ┆     ┆     ┆     ┆     ┆     ┆     ┆     ┆     ┆     ┆     ┆     ┆     ┆     ┆     ┆     ┆     ┆     ┆     ┆     ┆     ┆     ┆     ┆     ┆     ┆     ┆     ┆     ┆     ┆     ┆     ┆     ┆     ┆     ┆     ┆     ┆     ┆     ┆     ┆   ┆     ┆     ┆     ┆     ┆     ┆     ┆     ┆     ┆     ┆     ┆     ┆     ┆     ┆     ┆     ┆     ┆     ┆     ┆     ┆     ┆     ┆     ┆     ┆     ┆     ┆     ┆     ┆     ┆     ┆     ┆     ┆     ┆     ┆     ┆     ┆     ┆     ┆     ┆     ┆     ┆     ┆     ┆     ┆     ┆     ┆     ┆     ┆     ┆     ┆     ┆     ┆     ┆     ┆     ┆     ┆     ┆     ┆     ┆ KV  ┆ gue ┆     ┆     ┆ s   ┆     ┆     ┆     ┆     ┆     ┆     ┆     ┆     ┆     ┆     ┆     ┆     │\n",
       "│     ┆     ┆     ┆     ┆     ┆     ┆     ┆     ┆     ┆     ┆     ┆     ┆     ┆     ┆     ┆     ┆     ┆     ┆     ┆     ┆     ┆     ┆     ┆     ┆     ┆     ┆     ┆     ┆     ┆     ┆     ┆     ┆     ┆     ┆     ┆     ┆     ┆     ┆     ┆     ┆     ┆     ┆     ┆     ┆     ┆     ┆     ┆     ┆     ┆     ┆     ┆     ┆     ┆     ┆     ┆     ┆     ┆     ┆     ┆     ┆     ┆     ┆     ┆     ┆     ┆     ┆     ┆     ┆     ┆     ┆     ┆     ┆     ┆     ┆     ┆   ┆     ┆     ┆     ┆     ┆     ┆     ┆     ┆     ┆     ┆     ┆     ┆     ┆     ┆     ┆     ┆     ┆     ┆     ┆     ┆     ┆     ┆     ┆     ┆     ┆     ┆     ┆     ┆     ┆     ┆     ┆     ┆     ┆     ┆     ┆     ┆     ┆     ┆     ┆     ┆     ┆     ┆     ┆     ┆     ┆     ┆     ┆     ┆     ┆     ┆     ┆     ┆     ┆     ┆     ┆     ┆     ┆     ┆     ┆ v   ┆ -   ┆     ┆     ┆     ┆     ┆     ┆     ┆     ┆     ┆     ┆     ┆     ┆     ┆     ┆     ┆     │\n",
       "│     ┆     ┆     ┆     ┆     ┆     ┆     ┆     ┆     ┆     ┆     ┆     ┆     ┆     ┆     ┆     ┆     ┆     ┆     ┆     ┆     ┆     ┆     ┆     ┆     ┆     ┆     ┆     ┆     ┆     ┆     ┆     ┆     ┆     ┆     ┆     ┆     ┆     ┆     ┆     ┆     ┆     ┆     ┆     ┆     ┆     ┆     ┆     ┆     ┆     ┆     ┆     ┆     ┆     ┆     ┆     ┆     ┆     ┆     ┆     ┆     ┆     ┆     ┆     ┆     ┆     ┆     ┆     ┆     ┆     ┆     ┆     ┆     ┆     ┆     ┆   ┆     ┆     ┆     ┆     ┆     ┆     ┆     ┆     ┆     ┆     ┆     ┆     ┆     ┆     ┆     ┆     ┆     ┆     ┆     ┆     ┆     ┆     ┆     ┆     ┆     ┆     ┆     ┆     ┆     ┆     ┆     ┆     ┆     ┆     ┆     ┆     ┆     ┆     ┆     ┆     ┆     ┆     ┆     ┆     ┆     ┆     ┆     ┆     ┆     ┆     ┆     ┆     ┆     ┆     ┆     ┆     ┆     ┆     ┆ KAS ┆ 202 ┆     ┆     ┆     ┆     ┆     ┆     ┆     ┆     ┆     ┆     ┆     ┆     ┆     ┆     ┆     │\n",
       "│     ┆     ┆     ┆     ┆     ┆     ┆     ┆     ┆     ┆     ┆     ┆     ┆     ┆     ┆     ┆     ┆     ┆     ┆     ┆     ┆     ┆     ┆     ┆     ┆     ┆     ┆     ┆     ┆     ┆     ┆     ┆     ┆     ┆     ┆     ┆     ┆     ┆     ┆     ┆     ┆     ┆     ┆     ┆     ┆     ┆     ┆     ┆     ┆     ┆     ┆     ┆     ┆     ┆     ┆     ┆     ┆     ┆     ┆     ┆     ┆     ┆     ┆     ┆     ┆     ┆     ┆     ┆     ┆     ┆     ┆     ┆     ┆     ┆     ┆     ┆   ┆     ┆     ┆     ┆     ┆     ┆     ┆     ┆     ┆     ┆     ┆     ┆     ┆     ┆     ┆     ┆     ┆     ┆     ┆     ┆     ┆     ┆     ┆     ┆     ┆     ┆     ┆     ┆     ┆     ┆     ┆     ┆     ┆     ┆     ┆     ┆     ┆     ┆     ┆     ┆     ┆     ┆     ┆     ┆     ┆     ┆     ┆     ┆     ┆     ┆     ┆     ┆     ┆     ┆     ┆     ┆     ┆     ┆     ┆ Eup ┆ 1/2 ┆     ┆     ┆     ┆     ┆     ┆     ┆     ┆     ┆     ┆     ┆     ┆     ┆     ┆     ┆     │\n",
       "│     ┆     ┆     ┆     ┆     ┆     ┆     ┆     ┆     ┆     ┆     ┆     ┆     ┆     ┆     ┆     ┆     ┆     ┆     ┆     ┆     ┆     ┆     ┆     ┆     ┆     ┆     ┆     ┆     ┆     ┆     ┆     ┆     ┆     ┆     ┆     ┆     ┆     ┆     ┆     ┆     ┆     ┆     ┆     ┆     ┆     ┆     ┆     ┆     ┆     ┆     ┆     ┆     ┆     ┆     ┆     ┆     ┆     ┆     ┆     ┆     ┆     ┆     ┆     ┆     ┆     ┆     ┆     ┆     ┆     ┆     ┆     ┆     ┆     ┆     ┆   ┆     ┆     ┆     ┆     ┆     ┆     ┆     ┆     ┆     ┆     ┆     ┆     ┆     ┆     ┆     ┆     ┆     ┆     ┆     ┆     ┆     ┆     ┆     ┆     ┆     ┆     ┆     ┆     ┆     ┆     ┆     ┆     ┆     ┆     ┆     ┆     ┆     ┆     ┆     ┆     ┆     ┆     ┆     ┆     ┆     ┆     ┆     ┆     ┆     ┆     ┆     ┆     ┆     ┆     ┆     ┆     ┆     ┆     ┆ en  ┆ 022 ┆     ┆     ┆     ┆     ┆     ┆     ┆     ┆     ┆     ┆     ┆     ┆     ┆     ┆     ┆     │\n",
       "└─────┴─────┴─────┴─────┴─────┴─────┴─────┴─────┴─────┴─────┴─────┴─────┴─────┴─────┴─────┴─────┴─────┴─────┴─────┴─────┴─────┴─────┴─────┴─────┴─────┴─────┴─────┴─────┴─────┴─────┴─────┴─────┴─────┴─────┴─────┴─────┴─────┴─────┴─────┴─────┴─────┴─────┴─────┴─────┴─────┴─────┴─────┴─────┴─────┴─────┴─────┴─────┴─────┴─────┴─────┴─────┴─────┴─────┴─────┴─────┴─────┴─────┴─────┴─────┴─────┴─────┴─────┴─────┴─────┴─────┴─────┴─────┴─────┴─────┴─────┴───┴─────┴─────┴─────┴─────┴─────┴─────┴─────┴─────┴─────┴─────┴─────┴─────┴─────┴─────┴─────┴─────┴─────┴─────┴─────┴─────┴─────┴─────┴─────┴─────┴─────┴─────┴─────┴─────┴─────┴─────┴─────┴─────┴─────┴─────┴─────┴─────┴─────┴─────┴─────┴─────┴─────┴─────┴─────┴─────┴─────┴─────┴─────┴─────┴─────┴─────┴─────┴─────┴─────┴─────┴─────┴─────┴─────┴─────┴─────┴─────┴─────┴─────┴─────┴─────┴─────┴─────┴─────┴─────┴─────┴─────┴─────┴─────┴─────┴─────┴─────┘"
      ]
     },
     "execution_count": 20,
=======
       "<small>shape: (5, 322)</small><table border=\"1\" class=\"dataframe\"><thead><tr><th>Count HSR</th><th>Count HSR 1</th><th>Count HSR 2</th><th>Count HSR OTIP</th><th>Count HSR OTIP 1</th><th>Count HSR OTIP 2</th><th>Count HSR TIP</th><th>Count HSR TIP 1</th><th>Count HSR TIP 2</th><th>Count High Acceleration</th><th>Count High Acceleration 1</th><th>Count High Acceleration 2</th><th>Count High Acceleration OTIP</th><th>Count High Acceleration OTIP 1</th><th>Count High Acceleration OTIP 2</th><th>Count High Acceleration TIP</th><th>Count High Acceleration TIP 1</th><th>Count High Acceleration TIP 2</th><th>Count High Deceleration</th><th>Count High Deceleration 1</th><th>Count High Deceleration 2</th><th>Count High Deceleration OTIP</th><th>Count High Deceleration OTIP 1</th><th>Count High Deceleration OTIP 2</th><th>Count High Deceleration TIP</th><th>Count High Deceleration TIP 1</th><th>Count High Deceleration TIP 2</th><th>Count Medium Acceleration</th><th>Count Medium Acceleration 1</th><th>Count Medium Acceleration 2</th><th>Count Medium Acceleration OTIP</th><th>Count Medium Acceleration OTIP 1</th><th>Count Medium Acceleration OTIP 2</th><th>Count Medium Acceleration TIP</th><th>Count Medium Acceleration TIP 1</th><th>Count Medium Acceleration TIP 2</th><th>Count Medium Deceleration</th><th>Count Medium Deceleration 1</th><th>Count Medium Deceleration 2</th><th>Count Medium Deceleration OTIP</th><th>Count Medium Deceleration OTIP 1</th><th>Count Medium Deceleration OTIP 2</th><th>Count Medium Deceleration TIP</th><th>Count Medium Deceleration TIP 1</th><th>Count Medium Deceleration TIP 2</th><th>Count Sprint</th><th>Count Sprint 1</th><th>Count Sprint 2</th><th>Count Sprint OTIP</th><th>Count Sprint OTIP 1</th><th>Count Sprint OTIP 2</th><th>Count Sprint TIP</th><th>Count Sprint TIP 1</th><th>Count Sprint TIP 2</th><th>Distance</th><th>Distance 1</th><th>Distance 2</th><th>Distance OTIP</th><th>Distance OTIP 1</th><th>Distance OTIP 2</th><th>Distance TIP</th><th>Distance TIP 1</th><th>Distance TIP 2</th><th>HSR Distance</th><th>HSR Distance 1</th><th>HSR Distance 2</th><th>HSR Distance OTIP</th><th>HSR Distance OTIP 1</th><th>HSR Distance OTIP 2</th><th>HSR Distance TIP</th><th>HSR Distance TIP 1</th><th>HSR Distance TIP 2</th><th>Minutes</th><th>Minutes 1</th><th>Minutes 2</th><th>&hellip;</th><th>P90_P90_Count Sprint OTIP 1</th><th>P90_P90_Count Sprint OTIP 2</th><th>P90_P90_Count Sprint TIP</th><th>P90_P90_Count Sprint TIP 1</th><th>P90_P90_Count Sprint TIP 2</th><th>P90_P90_Distance</th><th>P90_P90_Distance 1</th><th>P90_P90_Distance 2</th><th>P90_P90_Distance OTIP</th><th>P90_P90_Distance OTIP 1</th><th>P90_P90_Distance OTIP 2</th><th>P90_P90_Distance TIP</th><th>P90_P90_Distance TIP 1</th><th>P90_P90_Distance TIP 2</th><th>P90_P90_HSR Distance</th><th>P90_P90_HSR Distance 1</th><th>P90_P90_HSR Distance 2</th><th>P90_P90_HSR Distance OTIP</th><th>P90_P90_HSR Distance OTIP 1</th><th>P90_P90_HSR Distance OTIP 2</th><th>P90_P90_HSR Distance TIP</th><th>P90_P90_HSR Distance TIP 1</th><th>P90_P90_HSR Distance TIP 2</th><th>P90_P90_Minutes</th><th>P90_P90_Minutes 1</th><th>P90_P90_Minutes 2</th><th>P90_P90_Minutes OTIP</th><th>P90_P90_Minutes OTIP 1</th><th>P90_P90_Minutes OTIP 2</th><th>P90_P90_Minutes TIP</th><th>P90_P90_Minutes TIP 1</th><th>P90_P90_Minutes TIP 2</th><th>P90_P90_Running Distance</th><th>P90_P90_Running Distance 1</th><th>P90_P90_Running Distance 2</th><th>P90_P90_Running Distance OTIP</th><th>P90_P90_Running Distance OTIP 1</th><th>P90_P90_Running Distance OTIP 2</th><th>P90_P90_Running Distance TIP</th><th>P90_P90_Running Distance TIP 1</th><th>P90_P90_Running Distance TIP 2</th><th>P90_P90_Sprinting Distance</th><th>P90_P90_Sprinting Distance 1</th><th>P90_P90_Sprinting Distance 2</th><th>P90_P90_Sprinting Distance OTIP</th><th>P90_P90_Sprinting Distance OTIP 1</th><th>P90_P90_Sprinting Distance OTIP 2</th><th>P90_P90_Sprinting Distance TIP</th><th>P90_P90_Sprinting Distance TIP 1</th><th>P90_P90_Sprinting Distance TIP 2</th><th>PSV-99</th><th>competition_age_group</th><th>competition_area</th><th>competition_edition_id</th><th>competition_gender</th><th>competition_id</th><th>competition_name</th><th>date</th><th>full_comp_name</th><th>group</th><th>match_id</th><th>match_name</th><th>player_birthdate</th><th>player_id</th><th>player_name</th><th>position</th><th>quality_check</th><th>season_end_year</th><th>season_id</th><th>season_name</th><th>season_start_year</th><th>short_name</th><th>team</th><th>team_id</th><th>team_name</th></tr><tr><td>i64</td><td>i64</td><td>i64</td><td>i64</td><td>i64</td><td>i64</td><td>i64</td><td>i64</td><td>i64</td><td>i64</td><td>i64</td><td>i64</td><td>i64</td><td>i64</td><td>i64</td><td>i64</td><td>i64</td><td>i64</td><td>i64</td><td>i64</td><td>i64</td><td>i64</td><td>i64</td><td>i64</td><td>i64</td><td>i64</td><td>i64</td><td>i64</td><td>i64</td><td>i64</td><td>i64</td><td>i64</td><td>i64</td><td>i64</td><td>i64</td><td>i64</td><td>i64</td><td>i64</td><td>i64</td><td>i64</td><td>i64</td><td>i64</td><td>i64</td><td>i64</td><td>i64</td><td>i64</td><td>i64</td><td>i64</td><td>i64</td><td>i64</td><td>i64</td><td>i64</td><td>i64</td><td>i64</td><td>i64</td><td>i64</td><td>i64</td><td>i64</td><td>i64</td><td>i64</td><td>i64</td><td>i64</td><td>i64</td><td>i64</td><td>i64</td><td>i64</td><td>i64</td><td>i64</td><td>i64</td><td>i64</td><td>i64</td><td>i64</td><td>f64</td><td>f64</td><td>f64</td><td>&hellip;</td><td>f64</td><td>f64</td><td>f64</td><td>f64</td><td>f64</td><td>f64</td><td>f64</td><td>f64</td><td>f64</td><td>f64</td><td>f64</td><td>f64</td><td>f64</td><td>f64</td><td>f64</td><td>f64</td><td>f64</td><td>f64</td><td>f64</td><td>f64</td><td>f64</td><td>f64</td><td>f64</td><td>f64</td><td>f64</td><td>f64</td><td>f64</td><td>f64</td><td>f64</td><td>f64</td><td>f64</td><td>f64</td><td>f64</td><td>f64</td><td>f64</td><td>f64</td><td>f64</td><td>f64</td><td>f64</td><td>f64</td><td>f64</td><td>f64</td><td>f64</td><td>f64</td><td>f64</td><td>f64</td><td>f64</td><td>f64</td><td>f64</td><td>f64</td><td>f64</td><td>str</td><td>str</td><td>i64</td><td>str</td><td>i64</td><td>str</td><td>str</td><td>str</td><td>str</td><td>i64</td><td>str</td><td>str</td><td>i64</td><td>str</td><td>str</td><td>bool</td><td>i64</td><td>i64</td><td>str</td><td>i64</td><td>str</td><td>str</td><td>i64</td><td>str</td></tr></thead><tbody><tr><td>59</td><td>33</td><td>26</td><td>34</td><td>17</td><td>17</td><td>19</td><td>13</td><td>6</td><td>4</td><td>3</td><td>1</td><td>0</td><td>0</td><td>0</td><td>0</td><td>0</td><td>0</td><td>11</td><td>8</td><td>3</td><td>4</td><td>3</td><td>1</td><td>3</td><td>2</td><td>1</td><td>100</td><td>52</td><td>48</td><td>47</td><td>24</td><td>23</td><td>22</td><td>12</td><td>10</td><td>89</td><td>42</td><td>47</td><td>34</td><td>17</td><td>17</td><td>17</td><td>8</td><td>9</td><td>5</td><td>3</td><td>2</td><td>2</td><td>1</td><td>1</td><td>2</td><td>1</td><td>1</td><td>13026</td><td>6810</td><td>6216</td><td>5727</td><td>2983</td><td>2744</td><td>3432</td><td>1874</td><td>1558</td><td>745</td><td>387</td><td>358</td><td>443</td><td>225</td><td>218</td><td>260</td><td>139</td><td>121</td><td>96.63</td><td>47.15</td><td>49.48</td><td>&hellip;</td><td>24.266544</td><td>27.064052</td><td>27.639198</td><td>46.984604</td><td>65.978965</td><td>11299.835824</td><td>24812.397877</td><td>20565.375459</td><td>36664.390655</td><td>72387.099905</td><td>74263.75756</td><td>47428.863614</td><td>88049.147055</td><td>102795.227359</td><td>646.274965</td><td>1410.043756</td><td>1184.427995</td><td>2836.096571</td><td>5459.972336</td><td>5899.963246</td><td>3593.095728</td><td>6530.859894</td><td>7983.454756</td><td>83.824899</td><td>171.792153</td><td>163.702506</td><td>227.719989</td><td>443.349754</td><td>468.208092</td><td>334.572491</td><td>616.907845</td><td>731.046931</td><td>2094.971865</td><td>4933.331384</td><td>3510.274029</td><td>9628.643888</td><td>20432.429809</td><td>17916.402152</td><td>9134.754909</td><td>17337.31871</td><td>19265.857759</td><td>128.38751</td><td>335.2042</td><td>185.273653</td><td>288.091074</td><td>655.19668</td><td>487.152929</td><td>414.587969</td><td>516.830639</td><td>1253.600334</td><td>25.7</td><td>&quot;adult&quot;</td><td>&quot;BEL&quot;</td><td>249</td><td>&quot;male&quot;</td><td>16</td><td>&quot;Pro League&quot;</td><td>&quot;2021-07-25&quot;</td><td>&quot;BEL - Pro League - 2021/2022&quot;</td><td>&quot;Midfield&quot;</td><td>44999</td><td>&quot;KV Mechelen v Royal Antwerp FC&quot;</td><td>&quot;1995-02-17&quot;</td><td>8701</td><td>&quot;Pieter Gerkens&quot;</td><td>&quot;AM&quot;</td><td>true</td><td>2022</td><td>8</td><td>&quot;2021/2022&quot;</td><td>2021</td><td>&quot;P. Gerkens&quot;</td><td>&quot;Royal Antwerp FC&quot;</td><td>462</td><td>&quot;Royal Antwerp FC&quot;</td></tr><tr><td>39</td><td>20</td><td>19</td><td>17</td><td>10</td><td>7</td><td>20</td><td>9</td><td>11</td><td>5</td><td>3</td><td>2</td><td>1</td><td>0</td><td>1</td><td>2</td><td>1</td><td>1</td><td>8</td><td>5</td><td>3</td><td>1</td><td>1</td><td>0</td><td>2</td><td>1</td><td>1</td><td>77</td><td>36</td><td>41</td><td>32</td><td>15</td><td>17</td><td>25</td><td>11</td><td>14</td><td>77</td><td>31</td><td>46</td><td>25</td><td>11</td><td>14</td><td>20</td><td>9</td><td>11</td><td>8</td><td>3</td><td>5</td><td>1</td><td>1</td><td>0</td><td>4</td><td>1</td><td>3</td><td>9969</td><td>4842</td><td>5127</td><td>3534</td><td>1795</td><td>1739</td><td>3435</td><td>1660</td><td>1775</td><td>476</td><td>201</td><td>275</td><td>167</td><td>104</td><td>63</td><td>265</td><td>81</td><td>184</td><td>96.19</td><td>46.12</td><td>50.07</td><td>&hellip;</td><td>38.419507</td><td>0.0</td><td>49.748921</td><td>46.487603</td><td>160.097613</td><td>8727.236908</td><td>18438.738567</td><td>16565.065349</td><td>32693.516358</td><td>68963.014821</td><td>62023.760826</td><td>42721.886332</td><td>77169.421488</td><td>94724.421277</td><td>416.708272</td><td>765.424711</td><td>888.510429</td><td>1544.939794</td><td>3995.628714</td><td>2246.979259</td><td>3295.866049</td><td>3765.495868</td><td>9819.32029</td><td>84.208338</td><td>175.628794</td><td>161.773517</td><td>273.741129</td><td>557.85124</td><td>537.491705</td><td>317.398119</td><td>613.636364</td><td>657.467532</td><td>963.856739</td><td>1862.152656</td><td>1977.339574</td><td>3718.956869</td><td>6838.672222</td><td>7989.259589</td><td>7586.710528</td><td>12412.190083</td><td>18304.493802</td><td>176.838385</td><td>182.787991</td><td>497.56584</td><td>222.027276</td><td>922.068165</td><td>0.0</td><td>1691.463331</td><td>790.289256</td><td>6350.538666</td><td>28.3</td><td>&quot;adult&quot;</td><td>&quot;BEL&quot;</td><td>249</td><td>&quot;male&quot;</td><td>16</td><td>&quot;Pro League&quot;</td><td>&quot;2021-07-24&quot;</td><td>&quot;BEL - Pro League - 2021/2022&quot;</td><td>&quot;Midfield&quot;</td><td>45002</td><td>&quot;Oud-Heverlee Leuven v SV Zulte…</td><td>&quot;1989-07-25&quot;</td><td>10932</td><td>&quot;Xavier Mercier&quot;</td><td>&quot;AM&quot;</td><td>true</td><td>2022</td><td>8</td><td>&quot;2021/2022&quot;</td><td>2021</td><td>&quot;X. Mercier&quot;</td><td>&quot;Oud-Heverlee Leuven&quot;</td><td>27</td><td>&quot;Oud-Heverlee Leuven&quot;</td></tr><tr><td>34</td><td>21</td><td>13</td><td>14</td><td>7</td><td>7</td><td>18</td><td>13</td><td>5</td><td>3</td><td>1</td><td>2</td><td>2</td><td>1</td><td>1</td><td>1</td><td>0</td><td>1</td><td>11</td><td>7</td><td>4</td><td>3</td><td>2</td><td>1</td><td>2</td><td>1</td><td>1</td><td>64</td><td>39</td><td>25</td><td>23</td><td>17</td><td>6</td><td>26</td><td>18</td><td>8</td><td>82</td><td>57</td><td>25</td><td>18</td><td>13</td><td>5</td><td>33</td><td>22</td><td>11</td><td>5</td><td>4</td><td>1</td><td>2</td><td>1</td><td>1</td><td>2</td><td>2</td><td>0</td><td>8709</td><td>5620</td><td>3089</td><td>2876</td><td>1938</td><td>938</td><td>3567</td><td>2289</td><td>1278</td><td>421</td><td>292</td><td>129</td><td>167</td><td>89</td><td>78</td><td>222</td><td>171</td><td>51</td><td>71.07</td><td>46.12</td><td>24.95</td><td>&hellip;</td><td>46.487603</td><td>187.652468</td><td>32.142698</td><td>76.839014</td><td>0.0</td><td>13966.277874</td><td>21401.427251</td><td>40194.055446</td><td>59601.962784</td><td>90092.975207</td><td>176018.014637</td><td>57326.501357</td><td>87942.251212</td><td>164615.03477</td><td>675.141002</td><td>1111.960277</td><td>1678.547476</td><td>3460.892832</td><td>4137.396694</td><td>14636.892475</td><td>3567.839445</td><td>6569.735674</td><td>6569.14458</td><td>113.97214</td><td>175.628794</td><td>324.649299</td><td>409.711684</td><td>613.636364</td><td>1232.876712</td><td>360.801782</td><td>557.85124</td><td>1021.437579</td><td>1990.142478</td><td>2718.971362</td><td>6857.321858</td><td>8807.661399</td><td>11761.363636</td><td>32276.224432</td><td>11635.656569</td><td>16405.129431</td><td>38255.606672</td><td>168.384335</td><td>361.767898</td><td>130.119959</td><td>746.06073</td><td>1348.140496</td><td>1313.567273</td><td>417.85507</td><td>998.907178</td><td>0.0</td><td>26.4</td><td>&quot;adult&quot;</td><td>&quot;BEL&quot;</td><td>249</td><td>&quot;male&quot;</td><td>16</td><td>&quot;Pro League&quot;</td><td>&quot;2021-07-24&quot;</td><td>&quot;BEL - Pro League - 2021/2022&quot;</td><td>&quot;Midfield&quot;</td><td>45002</td><td>&quot;Oud-Heverlee Leuven v SV Zulte…</td><td>&quot;1996-01-18&quot;</td><td>14625</td><td>&quot;Omar Nicolás Govea García&quot;</td><td>&quot;AM&quot;</td><td>true</td><td>2022</td><td>8</td><td>&quot;2021/2022&quot;</td><td>2021</td><td>&quot;O. Govea&quot;</td><td>&quot;SV Zulte-Waregem&quot;</td><td>8</td><td>&quot;SV Zulte-Waregem&quot;</td></tr><tr><td>50</td><td>25</td><td>25</td><td>20</td><td>11</td><td>9</td><td>25</td><td>13</td><td>12</td><td>1</td><td>0</td><td>1</td><td>0</td><td>0</td><td>0</td><td>1</td><td>0</td><td>1</td><td>15</td><td>9</td><td>6</td><td>5</td><td>2</td><td>3</td><td>3</td><td>2</td><td>1</td><td>64</td><td>37</td><td>27</td><td>26</td><td>17</td><td>9</td><td>21</td><td>13</td><td>8</td><td>70</td><td>44</td><td>26</td><td>21</td><td>13</td><td>8</td><td>18</td><td>13</td><td>5</td><td>12</td><td>6</td><td>6</td><td>2</td><td>1</td><td>1</td><td>8</td><td>4</td><td>4</td><td>8976</td><td>5410</td><td>3566</td><td>3351</td><td>2025</td><td>1326</td><td>3125</td><td>1883</td><td>1242</td><td>594</td><td>284</td><td>310</td><td>224</td><td>114</td><td>110</td><td>337</td><td>144</td><td>193</td><td>74.15</td><td>46.12</td><td>28.03</td><td>&hellip;</td><td>38.419507</td><td>112.640174</td><td>156.475439</td><td>185.950413</td><td>633.771823</td><td>13223.473586</td><td>20601.729791</td><td>36763.780308</td><td>51310.20794</td><td>77799.5014</td><td>149360.871307</td><td>61123.218371</td><td>87536.157025</td><td>196786.150912</td><td>875.082811</td><td>1081.495612</td><td>3195.953981</td><td>3429.867675</td><td>4379.823783</td><td>12390.419188</td><td>6591.527869</td><td>6694.214876</td><td>30579.49044</td><td>109.238031</td><td>175.628794</td><td>288.976097</td><td>352.173913</td><td>557.85124</td><td>955.188679</td><td>398.034398</td><td>613.636364</td><td>1132.867133</td><td>1817.932977</td><td>2589.496536</td><td>5711.47905</td><td>8207.183365</td><td>11564.271566</td><td>26470.440993</td><td>11794.336217</td><td>15201.446281</td><td>43730.255758</td><td>304.953101</td><td>289.414319</td><td>1350.548295</td><td>413.42155</td><td>268.936548</td><td>2252.803489</td><td>2581.844744</td><td>2045.454545</td><td>13942.980097</td><td>27.4</td><td>&quot;adult&quot;</td><td>&quot;BEL&quot;</td><td>249</td><td>&quot;male&quot;</td><td>16</td><td>&quot;Pro League&quot;</td><td>&quot;2021-07-24&quot;</td><td>&quot;BEL - Pro League - 2021/2022&quot;</td><td>&quot;Midfield&quot;</td><td>45002</td><td>&quot;Oud-Heverlee Leuven v SV Zulte…</td><td>&quot;1996-07-18&quot;</td><td>9835</td><td>&quot;Siebe Schrijvers&quot;</td><td>&quot;AM&quot;</td><td>true</td><td>2022</td><td>8</td><td>&quot;2021/2022&quot;</td><td>2021</td><td>&quot;S. Schrijvers&quot;</td><td>&quot;Oud-Heverlee Leuven&quot;</td><td>27</td><td>&quot;Oud-Heverlee Leuven&quot;</td></tr><tr><td>35</td><td>23</td><td>12</td><td>17</td><td>9</td><td>8</td><td>17</td><td>13</td><td>4</td><td>2</td><td>2</td><td>0</td><td>1</td><td>1</td><td>0</td><td>1</td><td>1</td><td>0</td><td>8</td><td>6</td><td>2</td><td>3</td><td>2</td><td>1</td><td>1</td><td>1</td><td>0</td><td>86</td><td>47</td><td>39</td><td>47</td><td>21</td><td>26</td><td>29</td><td>18</td><td>11</td><td>85</td><td>44</td><td>41</td><td>37</td><td>18</td><td>19</td><td>23</td><td>13</td><td>10</td><td>5</td><td>4</td><td>1</td><td>2</td><td>1</td><td>1</td><td>2</td><td>2</td><td>0</td><td>11626</td><td>6257</td><td>5369</td><td>4902</td><td>2650</td><td>2252</td><td>3737</td><td>2340</td><td>1397</td><td>334</td><td>253</td><td>81</td><td>174</td><td>112</td><td>62</td><td>159</td><td>140</td><td>19</td><td>110.42</td><td>50.25</td><td>60.17</td><td>&hellip;</td><td>24.861688</td><td>22.018504</td><td>19.722531</td><td>65.890514</td><td>0.0</td><td>7723.601387</td><td>20071.463578</td><td>12012.085087</td><td>28646.545214</td><td>65883.472349</td><td>49585.671554</td><td>36851.548754</td><td>77091.901812</td><td>67163.302081</td><td>221.889116</td><td>811.583872</td><td>181.221623</td><td>1016.829634</td><td>2784.50902</td><td>1365.147263</td><td>1567.941197</td><td>4612.336006</td><td>913.45937</td><td>73.356276</td><td>161.19403</td><td>134.618581</td><td>217.566479</td><td>448.753463</td><td>422.314911</td><td>282.623866</td><td>516.581633</td><td>624.03698</td><td>933.395833</td><td>3024.994431</td><td>1033.63444</td><td>4604.952597</td><td>11635.269834</td><td>7045.921358</td><td>5946.343029</td><td>15187.763562</td><td>6826.906869</td><td>39.86032</td><td>179.639118</td><td>8.949216</td><td>140.252363</td><td>497.233754</td><td>88.074017</td><td>355.005554</td><td>1186.029259</td><td>0.0</td><td>25.5</td><td>&quot;adult&quot;</td><td>&quot;BEL&quot;</td><td>249</td><td>&quot;male&quot;</td><td>16</td><td>&quot;Pro League&quot;</td><td>&quot;2021-07-25&quot;</td><td>&quot;BEL - Pro League - 2021/2022&quot;</td><td>&quot;Midfield&quot;</td><td>44998</td><td>&quot;Club Brugge KV v KAS Eupen&quot;</td><td>&quot;1992-02-09&quot;</td><td>11595</td><td>&quot;Stef Peeters&quot;</td><td>&quot;AM&quot;</td><td>true</td><td>2022</td><td>8</td><td>&quot;2021/2022&quot;</td><td>2021</td><td>&quot;S. Peeters&quot;</td><td>&quot;KAS Eupen&quot;</td><td>26</td><td>&quot;KAS Eupen&quot;</td></tr></tbody></table></div>"
      ],
      "text/plain": [
       "shape: (5, 322)\n",
       "┌─────┬─────┬─────┬─────┬─────┬─────┬─────┬─────┬─────┬─────┬─────┬─────┬─────┬─────┬─────┬─────┬─────┬─────┬─────┬─────┬─────┬─────┬─────┬─────┬─────┬─────┬─────┬─────┬─────┬─────┬─────┬─────┬─────┬─────┬─────┬─────┬─────┬─────┬─────┬─────┬─────┬─────┬─────┬─────┬─────┬─────┬─────┬─────┬─────┬─────┬─────┬─────┬─────┬─────┬─────┬─────┬─────┬─────┬─────┬─────┬─────┬─────┬─────┬─────┬─────┬─────┬─────┬─────┬─────┬─────┬─────┬─────┬─────┬─────┬─────┬───┬─────┬─────┬─────┬─────┬─────┬─────┬─────┬─────┬─────┬─────┬─────┬─────┬─────┬─────┬─────┬─────┬─────┬─────┬─────┬─────┬─────┬─────┬─────┬─────┬─────┬─────┬─────┬─────┬─────┬─────┬─────┬─────┬─────┬─────┬─────┬─────┬─────┬─────┬─────┬─────┬─────┬─────┬─────┬─────┬─────┬─────┬─────┬─────┬─────┬─────┬─────┬─────┬─────┬─────┬─────┬─────┬─────┬─────┬─────┬─────┬─────┬─────┬─────┬─────┬─────┬─────┬─────┬─────┬─────┬─────┬─────┬─────┬─────┬─────┬─────┐\n",
       "│ Cou ┆ Cou ┆ Cou ┆ Cou ┆ Cou ┆ Cou ┆ Cou ┆ Cou ┆ Cou ┆ Cou ┆ Cou ┆ Cou ┆ Cou ┆ Cou ┆ Cou ┆ Cou ┆ Cou ┆ Cou ┆ Cou ┆ Cou ┆ Cou ┆ Cou ┆ Cou ┆ Cou ┆ Cou ┆ Cou ┆ Cou ┆ Cou ┆ Cou ┆ Cou ┆ Cou ┆ Cou ┆ Cou ┆ Cou ┆ Cou ┆ Cou ┆ Cou ┆ Cou ┆ Cou ┆ Cou ┆ Cou ┆ Cou ┆ Cou ┆ Cou ┆ Cou ┆ Cou ┆ Cou ┆ Cou ┆ Cou ┆ Cou ┆ Cou ┆ Cou ┆ Cou ┆ Cou ┆ Dis ┆ Dis ┆ Dis ┆ Dis ┆ Dis ┆ Dis ┆ Dis ┆ Dis ┆ Dis ┆ HSR ┆ HSR ┆ HSR ┆ HSR ┆ HSR ┆ HSR ┆ HSR ┆ HSR ┆ HSR ┆ Min ┆ Min ┆ Min ┆ … ┆ P90 ┆ P90 ┆ P90 ┆ P90 ┆ P90 ┆ P90 ┆ P90 ┆ P90 ┆ P90 ┆ P90 ┆ P90 ┆ P90 ┆ P90 ┆ P90 ┆ P90 ┆ P90 ┆ P90 ┆ P90 ┆ P90 ┆ P90 ┆ P90 ┆ P90 ┆ P90 ┆ P90 ┆ P90 ┆ P90 ┆ P90 ┆ P90 ┆ P90 ┆ P90 ┆ P90 ┆ P90 ┆ P90 ┆ P90 ┆ P90 ┆ P90 ┆ P90 ┆ P90 ┆ P90 ┆ P90 ┆ P90 ┆ P90 ┆ P90 ┆ P90 ┆ P90 ┆ P90 ┆ P90 ┆ P90 ┆ P90 ┆ P90 ┆ PSV ┆ com ┆ com ┆ com ┆ com ┆ com ┆ com ┆ dat ┆ ful ┆ gro ┆ mat ┆ mat ┆ pla ┆ pla ┆ pla ┆ pos ┆ qua ┆ sea ┆ sea ┆ sea ┆ sea ┆ sho ┆ tea ┆ tea ┆ tea │\n",
       "│ nt  ┆ nt  ┆ nt  ┆ nt  ┆ nt  ┆ nt  ┆ nt  ┆ nt  ┆ nt  ┆ nt  ┆ nt  ┆ nt  ┆ nt  ┆ nt  ┆ nt  ┆ nt  ┆ nt  ┆ nt  ┆ nt  ┆ nt  ┆ nt  ┆ nt  ┆ nt  ┆ nt  ┆ nt  ┆ nt  ┆ nt  ┆ nt  ┆ nt  ┆ nt  ┆ nt  ┆ nt  ┆ nt  ┆ nt  ┆ nt  ┆ nt  ┆ nt  ┆ nt  ┆ nt  ┆ nt  ┆ nt  ┆ nt  ┆ nt  ┆ nt  ┆ nt  ┆ nt  ┆ nt  ┆ nt  ┆ nt  ┆ nt  ┆ nt  ┆ nt  ┆ nt  ┆ nt  ┆ tan ┆ tan ┆ tan ┆ tan ┆ tan ┆ tan ┆ tan ┆ tan ┆ tan ┆ Dis ┆ Dis ┆ Dis ┆ Dis ┆ Dis ┆ Dis ┆ Dis ┆ Dis ┆ Dis ┆ ute ┆ ute ┆ ute ┆   ┆ _P9 ┆ _P9 ┆ _P9 ┆ _P9 ┆ _P9 ┆ _P9 ┆ _P9 ┆ _P9 ┆ _P9 ┆ _P9 ┆ _P9 ┆ _P9 ┆ _P9 ┆ _P9 ┆ _P9 ┆ _P9 ┆ _P9 ┆ _P9 ┆ _P9 ┆ _P9 ┆ _P9 ┆ _P9 ┆ _P9 ┆ _P9 ┆ _P9 ┆ _P9 ┆ _P9 ┆ _P9 ┆ _P9 ┆ _P9 ┆ _P9 ┆ _P9 ┆ _P9 ┆ _P9 ┆ _P9 ┆ _P9 ┆ _P9 ┆ _P9 ┆ _P9 ┆ _P9 ┆ _P9 ┆ _P9 ┆ _P9 ┆ _P9 ┆ _P9 ┆ _P9 ┆ _P9 ┆ _P9 ┆ _P9 ┆ _P9 ┆ -99 ┆ pet ┆ pet ┆ pet ┆ pet ┆ pet ┆ pet ┆ e   ┆ l_c ┆ up  ┆ ch_ ┆ ch_ ┆ yer ┆ yer ┆ yer ┆ iti ┆ lit ┆ son ┆ son ┆ son ┆ son ┆ rt_ ┆ m   ┆ m_i ┆ m_n │\n",
       "│ HSR ┆ HSR ┆ HSR ┆ HSR ┆ HSR ┆ HSR ┆ HSR ┆ HSR ┆ HSR ┆ Hig ┆ Hig ┆ Hig ┆ Hig ┆ Hig ┆ Hig ┆ Hig ┆ Hig ┆ Hig ┆ Hig ┆ Hig ┆ Hig ┆ Hig ┆ Hig ┆ Hig ┆ Hig ┆ Hig ┆ Hig ┆ Med ┆ Med ┆ Med ┆ Med ┆ Med ┆ Med ┆ Med ┆ Med ┆ Med ┆ Med ┆ Med ┆ Med ┆ Med ┆ Med ┆ Med ┆ Med ┆ Med ┆ Med ┆ Spr ┆ Spr ┆ Spr ┆ Spr ┆ Spr ┆ Spr ┆ Spr ┆ Spr ┆ Spr ┆ ce  ┆ ce  ┆ ce  ┆ ce  ┆ ce  ┆ ce  ┆ ce  ┆ ce  ┆ ce  ┆ tan ┆ tan ┆ tan ┆ tan ┆ tan ┆ tan ┆ tan ┆ tan ┆ tan ┆ s   ┆ s 1 ┆ s 2 ┆   ┆ 0_C ┆ 0_C ┆ 0_C ┆ 0_C ┆ 0_C ┆ 0_D ┆ 0_D ┆ 0_D ┆ 0_D ┆ 0_D ┆ 0_D ┆ 0_D ┆ 0_D ┆ 0_D ┆ 0_H ┆ 0_H ┆ 0_H ┆ 0_H ┆ 0_H ┆ 0_H ┆ 0_H ┆ 0_H ┆ 0_H ┆ 0_M ┆ 0_M ┆ 0_M ┆ 0_M ┆ 0_M ┆ 0_M ┆ 0_M ┆ 0_M ┆ 0_M ┆ 0_R ┆ 0_R ┆ 0_R ┆ 0_R ┆ 0_R ┆ 0_R ┆ 0_R ┆ 0_R ┆ 0_R ┆ 0_S ┆ 0_S ┆ 0_S ┆ 0_S ┆ 0_S ┆ 0_S ┆ 0_S ┆ 0_S ┆ 0_S ┆ --- ┆ iti ┆ iti ┆ iti ┆ iti ┆ iti ┆ iti ┆ --- ┆ omp ┆ --- ┆ id  ┆ nam ┆ _bi ┆ _id ┆ _na ┆ on  ┆ y_c ┆ _en ┆ _id ┆ _na ┆ _st ┆ nam ┆ --- ┆ d   ┆ ame │\n",
       "│ --- ┆ 1   ┆ 2   ┆ OTI ┆ OTI ┆ OTI ┆ TIP ┆ TIP ┆ TIP ┆ h   ┆ h   ┆ h   ┆ h   ┆ h   ┆ h   ┆ h   ┆ h   ┆ h   ┆ h   ┆ h   ┆ h   ┆ h   ┆ h   ┆ h   ┆ h   ┆ h   ┆ h   ┆ ium ┆ ium ┆ ium ┆ ium ┆ ium ┆ ium ┆ ium ┆ ium ┆ ium ┆ ium ┆ ium ┆ ium ┆ ium ┆ ium ┆ ium ┆ ium ┆ ium ┆ ium ┆ int ┆ int ┆ int ┆ int ┆ int ┆ int ┆ int ┆ int ┆ int ┆ --- ┆ 1   ┆ 2   ┆ OTI ┆ OTI ┆ OTI ┆ TIP ┆ TIP ┆ TIP ┆ ce  ┆ ce  ┆ ce  ┆ ce  ┆ ce  ┆ ce  ┆ ce  ┆ ce  ┆ ce  ┆ --- ┆ --- ┆ --- ┆   ┆ oun ┆ oun ┆ oun ┆ oun ┆ oun ┆ ist ┆ ist ┆ ist ┆ ist ┆ ist ┆ ist ┆ ist ┆ ist ┆ ist ┆ SR  ┆ SR  ┆ SR  ┆ SR  ┆ SR  ┆ SR  ┆ SR  ┆ SR  ┆ SR  ┆ inu ┆ inu ┆ inu ┆ inu ┆ inu ┆ inu ┆ inu ┆ inu ┆ inu ┆ unn ┆ unn ┆ unn ┆ unn ┆ unn ┆ unn ┆ unn ┆ unn ┆ unn ┆ pri ┆ pri ┆ pri ┆ pri ┆ pri ┆ pri ┆ pri ┆ pri ┆ pri ┆ f64 ┆ on_ ┆ on_ ┆ on_ ┆ on_ ┆ on_ ┆ on_ ┆ str ┆ _na ┆ str ┆ --- ┆ e   ┆ rth ┆ --- ┆ me  ┆ --- ┆ hec ┆ d_y ┆ --- ┆ me  ┆ art ┆ e   ┆ str ┆ --- ┆ --- │\n",
       "│ i64 ┆ --- ┆ --- ┆ P   ┆ P 1 ┆ P 2 ┆ --- ┆ 1   ┆ 2   ┆ Acc ┆ Acc ┆ Acc ┆ Acc ┆ Acc ┆ Acc ┆ Acc ┆ Acc ┆ Acc ┆ Dec ┆ Dec ┆ Dec ┆ Dec ┆ Dec ┆ Dec ┆ Dec ┆ Dec ┆ Dec ┆ Acc ┆ Acc ┆ Acc ┆ Acc ┆ Acc ┆ Acc ┆ Acc ┆ Acc ┆ Acc ┆ Dec ┆ Dec ┆ Dec ┆ Dec ┆ Dec ┆ Dec ┆ Dec ┆ Dec ┆ Dec ┆ --- ┆ 1   ┆ 2   ┆ OTI ┆ OTI ┆ OTI ┆ TIP ┆ TIP ┆ TIP ┆ i64 ┆ --- ┆ --- ┆ P   ┆ P 1 ┆ P 2 ┆ --- ┆ 1   ┆ 2   ┆ --- ┆ 1   ┆ 2   ┆ OTI ┆ OTI ┆ OTI ┆ TIP ┆ TIP ┆ TIP ┆ f64 ┆ f64 ┆ f64 ┆   ┆ t   ┆ t   ┆ t   ┆ t   ┆ t   ┆ anc ┆ anc ┆ anc ┆ anc ┆ anc ┆ anc ┆ anc ┆ anc ┆ anc ┆ Dis ┆ Dis ┆ Dis ┆ Dis ┆ Dis ┆ Dis ┆ Dis ┆ Dis ┆ Dis ┆ tes ┆ tes ┆ tes ┆ tes ┆ tes ┆ tes ┆ tes ┆ tes ┆ tes ┆ ing ┆ ing ┆ ing ┆ ing ┆ ing ┆ ing ┆ ing ┆ ing ┆ ing ┆ nti ┆ nti ┆ nti ┆ nti ┆ nti ┆ nti ┆ nti ┆ nti ┆ nti ┆     ┆ age ┆ are ┆ edi ┆ gen ┆ id  ┆ nam ┆     ┆ me  ┆     ┆ i64 ┆ --- ┆ dat ┆ i64 ┆ --- ┆ str ┆ k   ┆ ear ┆ i64 ┆ --- ┆ _ye ┆ --- ┆     ┆ i64 ┆ str │\n",
       "│     ┆ i64 ┆ i64 ┆ --- ┆ --- ┆ --- ┆ i64 ┆ --- ┆ --- ┆ ele ┆ ele ┆ ele ┆ ele ┆ ele ┆ ele ┆ ele ┆ ele ┆ ele ┆ ele ┆ ele ┆ ele ┆ ele ┆ ele ┆ ele ┆ ele ┆ ele ┆ ele ┆ ele ┆ ele ┆ ele ┆ ele ┆ ele ┆ ele ┆ ele ┆ ele ┆ ele ┆ ele ┆ ele ┆ ele ┆ ele ┆ ele ┆ ele ┆ ele ┆ ele ┆ ele ┆ i64 ┆ --- ┆ --- ┆ P   ┆ P 1 ┆ P 2 ┆ --- ┆ 1   ┆ 2   ┆     ┆ i64 ┆ i64 ┆ --- ┆ --- ┆ --- ┆ i64 ┆ --- ┆ --- ┆ i64 ┆ --- ┆ --- ┆ P   ┆ P 1 ┆ P 2 ┆ --- ┆ 1   ┆ 2   ┆     ┆     ┆     ┆   ┆ Spr ┆ Spr ┆ Spr ┆ Spr ┆ Spr ┆ e   ┆ e 1 ┆ e 2 ┆ e   ┆ e   ┆ e   ┆ e   ┆ e   ┆ e   ┆ tan ┆ tan ┆ tan ┆ tan ┆ tan ┆ tan ┆ tan ┆ tan ┆ tan ┆ --- ┆ 1   ┆ 2   ┆ OTI ┆ OTI ┆ OTI ┆ TIP ┆ TIP ┆ TIP ┆ Dis ┆ Dis ┆ Dis ┆ Dis ┆ Dis ┆ Dis ┆ Dis ┆ Dis ┆ Dis ┆ ng  ┆ ng  ┆ ng  ┆ ng  ┆ ng  ┆ ng  ┆ ng  ┆ ng  ┆ ng  ┆     ┆ _gr ┆ a   ┆ tio ┆ der ┆ --- ┆ e   ┆     ┆ --- ┆     ┆     ┆ str ┆ e   ┆     ┆ str ┆     ┆ --- ┆ --- ┆     ┆ str ┆ ar  ┆ str ┆     ┆     ┆     │\n",
       "│     ┆     ┆     ┆ i64 ┆ i64 ┆ i64 ┆     ┆ i64 ┆ i64 ┆ rat ┆ rat ┆ rat ┆ rat ┆ rat ┆ rat ┆ rat ┆ rat ┆ rat ┆ rat ┆ rat ┆ rat ┆ rat ┆ rat ┆ rat ┆ rat ┆ rat ┆ rat ┆ rat ┆ rat ┆ rat ┆ rat ┆ rat ┆ rat ┆ rat ┆ rat ┆ rat ┆ rat ┆ rat ┆ rat ┆ rat ┆ rat ┆ rat ┆ rat ┆ rat ┆ rat ┆     ┆ i64 ┆ i64 ┆ --- ┆ --- ┆ --- ┆ i64 ┆ --- ┆ --- ┆     ┆     ┆     ┆ i64 ┆ i64 ┆ i64 ┆     ┆ i64 ┆ i64 ┆     ┆ i64 ┆ i64 ┆ --- ┆ --- ┆ --- ┆ i64 ┆ --- ┆ --- ┆     ┆     ┆     ┆   ┆ int ┆ int ┆ int ┆ int ┆ int ┆ --- ┆ --- ┆ --- ┆ OTI ┆ OTI ┆ OTI ┆ TIP ┆ TIP ┆ TIP ┆ ce  ┆ ce  ┆ ce  ┆ ce  ┆ ce  ┆ ce  ┆ ce  ┆ ce  ┆ ce  ┆ f64 ┆ --- ┆ --- ┆ P   ┆ P 1 ┆ P 2 ┆ --- ┆ 1   ┆ 2   ┆ tan ┆ tan ┆ tan ┆ tan ┆ tan ┆ tan ┆ tan ┆ tan ┆ tan ┆ Dis ┆ Dis ┆ Dis ┆ Dis ┆ Dis ┆ Dis ┆ Dis ┆ Dis ┆ Dis ┆     ┆ oup ┆ --- ┆ n_i ┆ --- ┆ i64 ┆ --- ┆     ┆ str ┆     ┆     ┆     ┆ --- ┆     ┆     ┆     ┆ boo ┆ i64 ┆     ┆     ┆ --- ┆     ┆     ┆     ┆     │\n",
       "│     ┆     ┆     ┆     ┆     ┆     ┆     ┆     ┆     ┆ ion ┆ ion ┆ ion ┆ ion ┆ ion ┆ ion ┆ ion ┆ ion ┆ ion ┆ ion ┆ ion ┆ ion ┆ ion ┆ ion ┆ ion ┆ ion ┆ ion ┆ ion ┆ ion ┆ ion ┆ ion ┆ ion ┆ ion ┆ ion ┆ ion ┆ ion ┆ ion ┆ ion ┆ ion ┆ ion ┆ ion ┆ ion ┆ ion ┆ ion ┆ ion ┆ ion ┆     ┆     ┆     ┆ i64 ┆ i64 ┆ i64 ┆     ┆ i64 ┆ i64 ┆     ┆     ┆     ┆     ┆     ┆     ┆     ┆     ┆     ┆     ┆     ┆     ┆ i64 ┆ i64 ┆ i64 ┆     ┆ i64 ┆ i64 ┆     ┆     ┆     ┆   ┆ OTI ┆ OTI ┆ TIP ┆ TIP ┆ TIP ┆ f64 ┆ f64 ┆ f64 ┆ P   ┆ P 1 ┆ P 2 ┆ --- ┆ 1   ┆ 2   ┆ --- ┆ 1   ┆ 2   ┆ OTI ┆ OTI ┆ OTI ┆ TIP ┆ TIP ┆ TIP ┆     ┆ f64 ┆ f64 ┆ --- ┆ --- ┆ --- ┆ f64 ┆ --- ┆ --- ┆ ce  ┆ ce  ┆ ce  ┆ ce  ┆ ce  ┆ ce  ┆ ce  ┆ ce  ┆ ce  ┆ tan ┆ tan ┆ tan ┆ tan ┆ tan ┆ tan ┆ tan ┆ tan ┆ tan ┆     ┆ --- ┆ str ┆ d   ┆ str ┆     ┆ str ┆     ┆     ┆     ┆     ┆     ┆ str ┆     ┆     ┆     ┆ l   ┆     ┆     ┆     ┆ i64 ┆     ┆     ┆     ┆     │\n",
       "│     ┆     ┆     ┆     ┆     ┆     ┆     ┆     ┆     ┆ --- ┆ 1   ┆ 2   ┆ OTI ┆ OTI ┆ OTI ┆ TIP ┆ TIP ┆ TIP ┆ --- ┆ 1   ┆ 2   ┆ OTI ┆ OTI ┆ OTI ┆ TIP ┆ TIP ┆ TIP ┆ --- ┆ 1   ┆ 2   ┆ OTI ┆ OTI ┆ OTI ┆ TIP ┆ TIP ┆ TIP ┆ --- ┆ 1   ┆ 2   ┆ OTI ┆ OTI ┆ OTI ┆ TIP ┆ TIP ┆ TIP ┆     ┆     ┆     ┆     ┆     ┆     ┆     ┆     ┆     ┆     ┆     ┆     ┆     ┆     ┆     ┆     ┆     ┆     ┆     ┆     ┆     ┆     ┆     ┆     ┆     ┆     ┆     ┆     ┆     ┆     ┆   ┆ P 1 ┆ P 2 ┆ --- ┆ 1   ┆ 2   ┆     ┆     ┆     ┆ --- ┆ --- ┆ --- ┆ f64 ┆ --- ┆ --- ┆ f64 ┆ --- ┆ --- ┆ P   ┆ P 1 ┆ P 2 ┆ --- ┆ 1   ┆ 2   ┆     ┆     ┆     ┆ f64 ┆ f64 ┆ f64 ┆     ┆ f64 ┆ f64 ┆ --- ┆ 1   ┆ 2   ┆ OTI ┆ OTI ┆ OTI ┆ TIP ┆ TIP ┆ TIP ┆ ce  ┆ ce  ┆ ce  ┆ ce  ┆ ce  ┆ ce  ┆ ce  ┆ ce  ┆ ce  ┆     ┆ str ┆     ┆ --- ┆     ┆     ┆     ┆     ┆     ┆     ┆     ┆     ┆     ┆     ┆     ┆     ┆     ┆     ┆     ┆     ┆     ┆     ┆     ┆     ┆     │\n",
       "│     ┆     ┆     ┆     ┆     ┆     ┆     ┆     ┆     ┆ i64 ┆ --- ┆ --- ┆ P   ┆ P 1 ┆ P 2 ┆ --- ┆ 1   ┆ 2   ┆ i64 ┆ --- ┆ --- ┆ P   ┆ P 1 ┆ P 2 ┆ --- ┆ 1   ┆ 2   ┆ i64 ┆ --- ┆ --- ┆ P   ┆ P…  ┆ P…  ┆ --- ┆ …   ┆ …   ┆ i64 ┆ --- ┆ --- ┆ P   ┆ P…  ┆ P…  ┆ --- ┆ …   ┆ …   ┆     ┆     ┆     ┆     ┆     ┆     ┆     ┆     ┆     ┆     ┆     ┆     ┆     ┆     ┆     ┆     ┆     ┆     ┆     ┆     ┆     ┆     ┆     ┆     ┆     ┆     ┆     ┆     ┆     ┆     ┆   ┆ --- ┆ --- ┆ f64 ┆ --- ┆ --- ┆     ┆     ┆     ┆ f64 ┆ f64 ┆ f64 ┆     ┆ f64 ┆ f64 ┆     ┆ f64 ┆ f64 ┆ --- ┆ --- ┆ --- ┆ f64 ┆ --- ┆ --- ┆     ┆     ┆     ┆     ┆     ┆     ┆     ┆     ┆     ┆ f64 ┆ --- ┆ --- ┆ P   ┆ P … ┆ P … ┆ --- ┆ 1   ┆ 2   ┆ --- ┆ 1   ┆ 2   ┆ OTI ┆ OTI ┆ OTI ┆ TIP ┆ TIP ┆ TIP ┆     ┆     ┆     ┆ i64 ┆     ┆     ┆     ┆     ┆     ┆     ┆     ┆     ┆     ┆     ┆     ┆     ┆     ┆     ┆     ┆     ┆     ┆     ┆     ┆     ┆     │\n",
       "│     ┆     ┆     ┆     ┆     ┆     ┆     ┆     ┆     ┆     ┆ i64 ┆ i64 ┆ --- ┆ --- ┆ --- ┆ i64 ┆ --- ┆ --- ┆     ┆ i64 ┆ i64 ┆ --- ┆ --- ┆ --- ┆ i64 ┆ --- ┆ --- ┆     ┆ i64 ┆ i64 ┆ --- ┆ --- ┆ --- ┆ i64 ┆ --- ┆ --- ┆     ┆ i64 ┆ i64 ┆ --- ┆ --- ┆ --- ┆ i64 ┆ --- ┆ --- ┆     ┆     ┆     ┆     ┆     ┆     ┆     ┆     ┆     ┆     ┆     ┆     ┆     ┆     ┆     ┆     ┆     ┆     ┆     ┆     ┆     ┆     ┆     ┆     ┆     ┆     ┆     ┆     ┆     ┆     ┆   ┆ f64 ┆ f64 ┆     ┆ f64 ┆ f64 ┆     ┆     ┆     ┆     ┆     ┆     ┆     ┆     ┆     ┆     ┆     ┆     ┆ f64 ┆ f64 ┆ f64 ┆     ┆ f64 ┆ f64 ┆     ┆     ┆     ┆     ┆     ┆     ┆     ┆     ┆     ┆     ┆ f64 ┆ f64 ┆ --- ┆ --- ┆ --- ┆ f64 ┆ --- ┆ --- ┆ f64 ┆ --- ┆ --- ┆ …   ┆ …   ┆ …   ┆ --- ┆ …   ┆ …   ┆     ┆     ┆     ┆     ┆     ┆     ┆     ┆     ┆     ┆     ┆     ┆     ┆     ┆     ┆     ┆     ┆     ┆     ┆     ┆     ┆     ┆     ┆     ┆     ┆     │\n",
       "│     ┆     ┆     ┆     ┆     ┆     ┆     ┆     ┆     ┆     ┆     ┆     ┆ i64 ┆ i64 ┆ i64 ┆     ┆ i64 ┆ i64 ┆     ┆     ┆     ┆ i64 ┆ i64 ┆ i64 ┆     ┆ i64 ┆ i64 ┆     ┆     ┆     ┆ i64 ┆ i64 ┆ i64 ┆     ┆ i64 ┆ i64 ┆     ┆     ┆     ┆ i64 ┆ i64 ┆ i64 ┆     ┆ i64 ┆ i64 ┆     ┆     ┆     ┆     ┆     ┆     ┆     ┆     ┆     ┆     ┆     ┆     ┆     ┆     ┆     ┆     ┆     ┆     ┆     ┆     ┆     ┆     ┆     ┆     ┆     ┆     ┆     ┆     ┆     ┆     ┆   ┆     ┆     ┆     ┆     ┆     ┆     ┆     ┆     ┆     ┆     ┆     ┆     ┆     ┆     ┆     ┆     ┆     ┆     ┆     ┆     ┆     ┆     ┆     ┆     ┆     ┆     ┆     ┆     ┆     ┆     ┆     ┆     ┆     ┆     ┆     ┆ f64 ┆ f64 ┆ f64 ┆     ┆ f64 ┆ f64 ┆     ┆ f64 ┆ f64 ┆ --- ┆ --- ┆ --- ┆ f64 ┆ --- ┆ --- ┆     ┆     ┆     ┆     ┆     ┆     ┆     ┆     ┆     ┆     ┆     ┆     ┆     ┆     ┆     ┆     ┆     ┆     ┆     ┆     ┆     ┆     ┆     ┆     ┆     │\n",
       "│     ┆     ┆     ┆     ┆     ┆     ┆     ┆     ┆     ┆     ┆     ┆     ┆     ┆     ┆     ┆     ┆     ┆     ┆     ┆     ┆     ┆     ┆     ┆     ┆     ┆     ┆     ┆     ┆     ┆     ┆     ┆     ┆     ┆     ┆     ┆     ┆     ┆     ┆     ┆     ┆     ┆     ┆     ┆     ┆     ┆     ┆     ┆     ┆     ┆     ┆     ┆     ┆     ┆     ┆     ┆     ┆     ┆     ┆     ┆     ┆     ┆     ┆     ┆     ┆     ┆     ┆     ┆     ┆     ┆     ┆     ┆     ┆     ┆     ┆     ┆   ┆     ┆     ┆     ┆     ┆     ┆     ┆     ┆     ┆     ┆     ┆     ┆     ┆     ┆     ┆     ┆     ┆     ┆     ┆     ┆     ┆     ┆     ┆     ┆     ┆     ┆     ┆     ┆     ┆     ┆     ┆     ┆     ┆     ┆     ┆     ┆     ┆     ┆     ┆     ┆     ┆     ┆     ┆     ┆     ┆ f64 ┆ f64 ┆ f64 ┆     ┆ f64 ┆ f64 ┆     ┆     ┆     ┆     ┆     ┆     ┆     ┆     ┆     ┆     ┆     ┆     ┆     ┆     ┆     ┆     ┆     ┆     ┆     ┆     ┆     ┆     ┆     ┆     ┆     │\n",
       "╞═════╪═════╪═════╪═════╪═════╪═════╪═════╪═════╪═════╪═════╪═════╪═════╪═════╪═════╪═════╪═════╪═════╪═════╪═════╪═════╪═════╪═════╪═════╪═════╪═════╪═════╪═════╪═════╪═════╪═════╪═════╪═════╪═════╪═════╪═════╪═════╪═════╪═════╪═════╪═════╪═════╪═════╪═════╪═════╪═════╪═════╪═════╪═════╪═════╪═════╪═════╪═════╪═════╪═════╪═════╪═════╪═════╪═════╪═════╪═════╪═════╪═════╪═════╪═════╪═════╪═════╪═════╪═════╪═════╪═════╪═════╪═════╪═════╪═════╪═════╪═══╪═════╪═════╪═════╪═════╪═════╪═════╪═════╪═════╪═════╪═════╪═════╪═════╪═════╪═════╪═════╪═════╪═════╪═════╪═════╪═════╪═════╪═════╪═════╪═════╪═════╪═════╪═════╪═════╪═════╪═════╪═════╪═════╪═════╪═════╪═════╪═════╪═════╪═════╪═════╪═════╪═════╪═════╪═════╪═════╪═════╪═════╪═════╪═════╪═════╪═════╪═════╪═════╪═════╪═════╪═════╪═════╪═════╪═════╪═════╪═════╪═════╪═════╪═════╪═════╪═════╪═════╪═════╪═════╪═════╪═════╪═════╪═════╪═════╪═════╪═════╡\n",
       "│ 59  ┆ 33  ┆ 26  ┆ 34  ┆ 17  ┆ 17  ┆ 19  ┆ 13  ┆ 6   ┆ 4   ┆ 3   ┆ 1   ┆ 0   ┆ 0   ┆ 0   ┆ 0   ┆ 0   ┆ 0   ┆ 11  ┆ 8   ┆ 3   ┆ 4   ┆ 3   ┆ 1   ┆ 3   ┆ 2   ┆ 1   ┆ 100 ┆ 52  ┆ 48  ┆ 47  ┆ 24  ┆ 23  ┆ 22  ┆ 12  ┆ 10  ┆ 89  ┆ 42  ┆ 47  ┆ 34  ┆ 17  ┆ 17  ┆ 17  ┆ 8   ┆ 9   ┆ 5   ┆ 3   ┆ 2   ┆ 2   ┆ 1   ┆ 1   ┆ 2   ┆ 1   ┆ 1   ┆ 130 ┆ 681 ┆ 621 ┆ 572 ┆ 298 ┆ 274 ┆ 343 ┆ 187 ┆ 155 ┆ 745 ┆ 387 ┆ 358 ┆ 443 ┆ 225 ┆ 218 ┆ 260 ┆ 139 ┆ 121 ┆ 96. ┆ 47. ┆ 49. ┆ … ┆ 24. ┆ 27. ┆ 27. ┆ 46. ┆ 65. ┆ 112 ┆ 248 ┆ 205 ┆ 366 ┆ 723 ┆ 742 ┆ 474 ┆ 880 ┆ 102 ┆ 646 ┆ 141 ┆ 118 ┆ 283 ┆ 545 ┆ 589 ┆ 359 ┆ 653 ┆ 798 ┆ 83. ┆ 171 ┆ 163 ┆ 227 ┆ 443 ┆ 468 ┆ 334 ┆ 616 ┆ 731 ┆ 209 ┆ 493 ┆ 351 ┆ 962 ┆ 204 ┆ 179 ┆ 913 ┆ 173 ┆ 192 ┆ 128 ┆ 335 ┆ 185 ┆ 288 ┆ 655 ┆ 487 ┆ 414 ┆ 516 ┆ 125 ┆ 25. ┆ adu ┆ BEL ┆ 249 ┆ mal ┆ 16  ┆ Pro ┆ 202 ┆ BEL ┆ Mid ┆ 449 ┆ KV  ┆ 199 ┆ 870 ┆ Pie ┆ AM  ┆ tru ┆ 202 ┆ 8   ┆ 202 ┆ 202 ┆ P.  ┆ Roy ┆ 462 ┆ Roy │\n",
       "│     ┆     ┆     ┆     ┆     ┆     ┆     ┆     ┆     ┆     ┆     ┆     ┆     ┆     ┆     ┆     ┆     ┆     ┆     ┆     ┆     ┆     ┆     ┆     ┆     ┆     ┆     ┆     ┆     ┆     ┆     ┆     ┆     ┆     ┆     ┆     ┆     ┆     ┆     ┆     ┆     ┆     ┆     ┆     ┆     ┆     ┆     ┆     ┆     ┆     ┆     ┆     ┆     ┆     ┆ 26  ┆ 0   ┆ 6   ┆ 7   ┆ 3   ┆ 4   ┆ 2   ┆ 4   ┆ 8   ┆     ┆     ┆     ┆     ┆     ┆     ┆     ┆     ┆     ┆ 63  ┆ 15  ┆ 48  ┆   ┆ 266 ┆ 064 ┆ 639 ┆ 984 ┆ 978 ┆ 99. ┆ 12. ┆ 65. ┆ 64. ┆ 87. ┆ 63. ┆ 28. ┆ 49. ┆ 795 ┆ .27 ┆ 0.0 ┆ 4.4 ┆ 6.0 ┆ 9.9 ┆ 9.9 ┆ 3.0 ┆ 0.8 ┆ 3.4 ┆ 824 ┆ .79 ┆ .70 ┆ .71 ┆ .34 ┆ .20 ┆ .57 ┆ .90 ┆ .04 ┆ 4.9 ┆ 3.3 ┆ 0.2 ┆ 8.6 ┆ 32. ┆ 16. ┆ 4.7 ┆ 37. ┆ 65. ┆ .38 ┆ .20 ┆ .27 ┆ .09 ┆ .19 ┆ .15 ┆ .58 ┆ .83 ┆ 3.6 ┆ 7   ┆ lt  ┆     ┆     ┆ e   ┆     ┆ Lea ┆ 1-0 ┆ -   ┆ fie ┆ 99  ┆ Mec ┆ 5-0 ┆ 1   ┆ ter ┆     ┆ e   ┆ 2   ┆     ┆ 1/2 ┆ 1   ┆ Ger ┆ al  ┆     ┆ al  │\n",
       "│     ┆     ┆     ┆     ┆     ┆     ┆     ┆     ┆     ┆     ┆     ┆     ┆     ┆     ┆     ┆     ┆     ┆     ┆     ┆     ┆     ┆     ┆     ┆     ┆     ┆     ┆     ┆     ┆     ┆     ┆     ┆     ┆     ┆     ┆     ┆     ┆     ┆     ┆     ┆     ┆     ┆     ┆     ┆     ┆     ┆     ┆     ┆     ┆     ┆     ┆     ┆     ┆     ┆     ┆     ┆     ┆     ┆     ┆     ┆     ┆     ┆     ┆     ┆     ┆     ┆     ┆     ┆     ┆     ┆     ┆     ┆     ┆     ┆     ┆     ┆   ┆ 544 ┆ 052 ┆ 198 ┆ 604 ┆ 965 ┆ 835 ┆ 397 ┆ 375 ┆ 390 ┆ 099 ┆ 757 ┆ 863 ┆ 147 ┆ .22 ┆ 496 ┆ 437 ┆ 279 ┆ 965 ┆ 723 ┆ 632 ┆ 957 ┆ 598 ┆ 547 ┆ 899 ┆ 215 ┆ 250 ┆ 998 ┆ 975 ┆ 809 ┆ 249 ┆ 784 ┆ 693 ┆ 718 ┆ 313 ┆ 740 ┆ 438 ┆ 429 ┆ 402 ┆ 549 ┆ 318 ┆ 857 ┆ 751 ┆ 42  ┆ 365 ┆ 107 ┆ 668 ┆ 292 ┆ 796 ┆ 063 ┆ 003 ┆     ┆     ┆     ┆     ┆     ┆     ┆ gue ┆ 7-2 ┆ Pro ┆ ld  ┆     ┆ hel ┆ 2-1 ┆     ┆ Ger ┆     ┆     ┆     ┆     ┆ 022 ┆     ┆ ken ┆ Ant ┆     ┆ Ant │\n",
       "│     ┆     ┆     ┆     ┆     ┆     ┆     ┆     ┆     ┆     ┆     ┆     ┆     ┆     ┆     ┆     ┆     ┆     ┆     ┆     ┆     ┆     ┆     ┆     ┆     ┆     ┆     ┆     ┆     ┆     ┆     ┆     ┆     ┆     ┆     ┆     ┆     ┆     ┆     ┆     ┆     ┆     ┆     ┆     ┆     ┆     ┆     ┆     ┆     ┆     ┆     ┆     ┆     ┆     ┆     ┆     ┆     ┆     ┆     ┆     ┆     ┆     ┆     ┆     ┆     ┆     ┆     ┆     ┆     ┆     ┆     ┆     ┆     ┆     ┆     ┆   ┆     ┆     ┆     ┆     ┆     ┆ 824 ┆ 877 ┆ 459 ┆ 655 ┆ 905 ┆ 56  ┆ 614 ┆ 055 ┆ 735 ┆ 5   ┆ 56  ┆ 95  ┆ 71  ┆ 36  ┆ 46  ┆ 28  ┆ 94  ┆ 56  ┆     ┆ 3   ┆ 6   ┆ 9   ┆ 4   ┆ 2   ┆ 1   ┆ 5   ┆ 1   ┆ 65  ┆ 84  ┆ 29  ┆ 88  ┆ 809 ┆ 152 ┆ 09  ┆ 71  ┆ 759 ┆     ┆     ┆ 3   ┆ 4   ┆     ┆ 9   ┆ 9   ┆ 9   ┆ 34  ┆     ┆     ┆     ┆     ┆     ┆     ┆     ┆ 5   ┆ Lea ┆     ┆     ┆ en  ┆ 7   ┆     ┆ ken ┆     ┆     ┆     ┆     ┆     ┆     ┆ s   ┆ wer ┆     ┆ wer │\n",
       "│     ┆     ┆     ┆     ┆     ┆     ┆     ┆     ┆     ┆     ┆     ┆     ┆     ┆     ┆     ┆     ┆     ┆     ┆     ┆     ┆     ┆     ┆     ┆     ┆     ┆     ┆     ┆     ┆     ┆     ┆     ┆     ┆     ┆     ┆     ┆     ┆     ┆     ┆     ┆     ┆     ┆     ┆     ┆     ┆     ┆     ┆     ┆     ┆     ┆     ┆     ┆     ┆     ┆     ┆     ┆     ┆     ┆     ┆     ┆     ┆     ┆     ┆     ┆     ┆     ┆     ┆     ┆     ┆     ┆     ┆     ┆     ┆     ┆     ┆     ┆   ┆     ┆     ┆     ┆     ┆     ┆     ┆     ┆     ┆     ┆     ┆     ┆     ┆     ┆ 9   ┆     ┆     ┆     ┆     ┆     ┆     ┆     ┆     ┆     ┆     ┆     ┆     ┆     ┆     ┆     ┆     ┆     ┆     ┆     ┆     ┆     ┆     ┆     ┆     ┆     ┆     ┆     ┆     ┆     ┆     ┆     ┆     ┆     ┆     ┆     ┆     ┆     ┆     ┆     ┆     ┆     ┆     ┆     ┆     ┆ gue ┆     ┆     ┆ v   ┆     ┆     ┆ s   ┆     ┆     ┆     ┆     ┆     ┆     ┆     ┆ p   ┆     ┆ p   │\n",
       "│     ┆     ┆     ┆     ┆     ┆     ┆     ┆     ┆     ┆     ┆     ┆     ┆     ┆     ┆     ┆     ┆     ┆     ┆     ┆     ┆     ┆     ┆     ┆     ┆     ┆     ┆     ┆     ┆     ┆     ┆     ┆     ┆     ┆     ┆     ┆     ┆     ┆     ┆     ┆     ┆     ┆     ┆     ┆     ┆     ┆     ┆     ┆     ┆     ┆     ┆     ┆     ┆     ┆     ┆     ┆     ┆     ┆     ┆     ┆     ┆     ┆     ┆     ┆     ┆     ┆     ┆     ┆     ┆     ┆     ┆     ┆     ┆     ┆     ┆     ┆   ┆     ┆     ┆     ┆     ┆     ┆     ┆     ┆     ┆     ┆     ┆     ┆     ┆     ┆     ┆     ┆     ┆     ┆     ┆     ┆     ┆     ┆     ┆     ┆     ┆     ┆     ┆     ┆     ┆     ┆     ┆     ┆     ┆     ┆     ┆     ┆     ┆     ┆     ┆     ┆     ┆     ┆     ┆     ┆     ┆     ┆     ┆     ┆     ┆     ┆     ┆     ┆     ┆     ┆     ┆     ┆     ┆     ┆     ┆ -   ┆     ┆     ┆ Roy ┆     ┆     ┆     ┆     ┆     ┆     ┆     ┆     ┆     ┆     ┆ FC  ┆     ┆ FC  │\n",
       "│     ┆     ┆     ┆     ┆     ┆     ┆     ┆     ┆     ┆     ┆     ┆     ┆     ┆     ┆     ┆     ┆     ┆     ┆     ┆     ┆     ┆     ┆     ┆     ┆     ┆     ┆     ┆     ┆     ┆     ┆     ┆     ┆     ┆     ┆     ┆     ┆     ┆     ┆     ┆     ┆     ┆     ┆     ┆     ┆     ┆     ┆     ┆     ┆     ┆     ┆     ┆     ┆     ┆     ┆     ┆     ┆     ┆     ┆     ┆     ┆     ┆     ┆     ┆     ┆     ┆     ┆     ┆     ┆     ┆     ┆     ┆     ┆     ┆     ┆     ┆   ┆     ┆     ┆     ┆     ┆     ┆     ┆     ┆     ┆     ┆     ┆     ┆     ┆     ┆     ┆     ┆     ┆     ┆     ┆     ┆     ┆     ┆     ┆     ┆     ┆     ┆     ┆     ┆     ┆     ┆     ┆     ┆     ┆     ┆     ┆     ┆     ┆     ┆     ┆     ┆     ┆     ┆     ┆     ┆     ┆     ┆     ┆     ┆     ┆     ┆     ┆     ┆     ┆     ┆     ┆     ┆     ┆     ┆     ┆ 202 ┆     ┆     ┆ al  ┆     ┆     ┆     ┆     ┆     ┆     ┆     ┆     ┆     ┆     ┆     ┆     ┆     │\n",
       "│     ┆     ┆     ┆     ┆     ┆     ┆     ┆     ┆     ┆     ┆     ┆     ┆     ┆     ┆     ┆     ┆     ┆     ┆     ┆     ┆     ┆     ┆     ┆     ┆     ┆     ┆     ┆     ┆     ┆     ┆     ┆     ┆     ┆     ┆     ┆     ┆     ┆     ┆     ┆     ┆     ┆     ┆     ┆     ┆     ┆     ┆     ┆     ┆     ┆     ┆     ┆     ┆     ┆     ┆     ┆     ┆     ┆     ┆     ┆     ┆     ┆     ┆     ┆     ┆     ┆     ┆     ┆     ┆     ┆     ┆     ┆     ┆     ┆     ┆     ┆   ┆     ┆     ┆     ┆     ┆     ┆     ┆     ┆     ┆     ┆     ┆     ┆     ┆     ┆     ┆     ┆     ┆     ┆     ┆     ┆     ┆     ┆     ┆     ┆     ┆     ┆     ┆     ┆     ┆     ┆     ┆     ┆     ┆     ┆     ┆     ┆     ┆     ┆     ┆     ┆     ┆     ┆     ┆     ┆     ┆     ┆     ┆     ┆     ┆     ┆     ┆     ┆     ┆     ┆     ┆     ┆     ┆     ┆     ┆ 1/2 ┆     ┆     ┆ Ant ┆     ┆     ┆     ┆     ┆     ┆     ┆     ┆     ┆     ┆     ┆     ┆     ┆     │\n",
       "│     ┆     ┆     ┆     ┆     ┆     ┆     ┆     ┆     ┆     ┆     ┆     ┆     ┆     ┆     ┆     ┆     ┆     ┆     ┆     ┆     ┆     ┆     ┆     ┆     ┆     ┆     ┆     ┆     ┆     ┆     ┆     ┆     ┆     ┆     ┆     ┆     ┆     ┆     ┆     ┆     ┆     ┆     ┆     ┆     ┆     ┆     ┆     ┆     ┆     ┆     ┆     ┆     ┆     ┆     ┆     ┆     ┆     ┆     ┆     ┆     ┆     ┆     ┆     ┆     ┆     ┆     ┆     ┆     ┆     ┆     ┆     ┆     ┆     ┆     ┆   ┆     ┆     ┆     ┆     ┆     ┆     ┆     ┆     ┆     ┆     ┆     ┆     ┆     ┆     ┆     ┆     ┆     ┆     ┆     ┆     ┆     ┆     ┆     ┆     ┆     ┆     ┆     ┆     ┆     ┆     ┆     ┆     ┆     ┆     ┆     ┆     ┆     ┆     ┆     ┆     ┆     ┆     ┆     ┆     ┆     ┆     ┆     ┆     ┆     ┆     ┆     ┆     ┆     ┆     ┆     ┆     ┆     ┆     ┆ 022 ┆     ┆     ┆ wer ┆     ┆     ┆     ┆     ┆     ┆     ┆     ┆     ┆     ┆     ┆     ┆     ┆     │\n",
       "│     ┆     ┆     ┆     ┆     ┆     ┆     ┆     ┆     ┆     ┆     ┆     ┆     ┆     ┆     ┆     ┆     ┆     ┆     ┆     ┆     ┆     ┆     ┆     ┆     ┆     ┆     ┆     ┆     ┆     ┆     ┆     ┆     ┆     ┆     ┆     ┆     ┆     ┆     ┆     ┆     ┆     ┆     ┆     ┆     ┆     ┆     ┆     ┆     ┆     ┆     ┆     ┆     ┆     ┆     ┆     ┆     ┆     ┆     ┆     ┆     ┆     ┆     ┆     ┆     ┆     ┆     ┆     ┆     ┆     ┆     ┆     ┆     ┆     ┆     ┆   ┆     ┆     ┆     ┆     ┆     ┆     ┆     ┆     ┆     ┆     ┆     ┆     ┆     ┆     ┆     ┆     ┆     ┆     ┆     ┆     ┆     ┆     ┆     ┆     ┆     ┆     ┆     ┆     ┆     ┆     ┆     ┆     ┆     ┆     ┆     ┆     ┆     ┆     ┆     ┆     ┆     ┆     ┆     ┆     ┆     ┆     ┆     ┆     ┆     ┆     ┆     ┆     ┆     ┆     ┆     ┆     ┆     ┆     ┆     ┆     ┆     ┆ p   ┆     ┆     ┆     ┆     ┆     ┆     ┆     ┆     ┆     ┆     ┆     ┆     ┆     │\n",
       "│     ┆     ┆     ┆     ┆     ┆     ┆     ┆     ┆     ┆     ┆     ┆     ┆     ┆     ┆     ┆     ┆     ┆     ┆     ┆     ┆     ┆     ┆     ┆     ┆     ┆     ┆     ┆     ┆     ┆     ┆     ┆     ┆     ┆     ┆     ┆     ┆     ┆     ┆     ┆     ┆     ┆     ┆     ┆     ┆     ┆     ┆     ┆     ┆     ┆     ┆     ┆     ┆     ┆     ┆     ┆     ┆     ┆     ┆     ┆     ┆     ┆     ┆     ┆     ┆     ┆     ┆     ┆     ┆     ┆     ┆     ┆     ┆     ┆     ┆     ┆   ┆     ┆     ┆     ┆     ┆     ┆     ┆     ┆     ┆     ┆     ┆     ┆     ┆     ┆     ┆     ┆     ┆     ┆     ┆     ┆     ┆     ┆     ┆     ┆     ┆     ┆     ┆     ┆     ┆     ┆     ┆     ┆     ┆     ┆     ┆     ┆     ┆     ┆     ┆     ┆     ┆     ┆     ┆     ┆     ┆     ┆     ┆     ┆     ┆     ┆     ┆     ┆     ┆     ┆     ┆     ┆     ┆     ┆     ┆     ┆     ┆     ┆ FC  ┆     ┆     ┆     ┆     ┆     ┆     ┆     ┆     ┆     ┆     ┆     ┆     ┆     │\n",
       "│ 39  ┆ 20  ┆ 19  ┆ 17  ┆ 10  ┆ 7   ┆ 20  ┆ 9   ┆ 11  ┆ 5   ┆ 3   ┆ 2   ┆ 1   ┆ 0   ┆ 1   ┆ 2   ┆ 1   ┆ 1   ┆ 8   ┆ 5   ┆ 3   ┆ 1   ┆ 1   ┆ 0   ┆ 2   ┆ 1   ┆ 1   ┆ 77  ┆ 36  ┆ 41  ┆ 32  ┆ 15  ┆ 17  ┆ 25  ┆ 11  ┆ 14  ┆ 77  ┆ 31  ┆ 46  ┆ 25  ┆ 11  ┆ 14  ┆ 20  ┆ 9   ┆ 11  ┆ 8   ┆ 3   ┆ 5   ┆ 1   ┆ 1   ┆ 0   ┆ 4   ┆ 1   ┆ 3   ┆ 996 ┆ 484 ┆ 512 ┆ 353 ┆ 179 ┆ 173 ┆ 343 ┆ 166 ┆ 177 ┆ 476 ┆ 201 ┆ 275 ┆ 167 ┆ 104 ┆ 63  ┆ 265 ┆ 81  ┆ 184 ┆ 96. ┆ 46. ┆ 50. ┆ … ┆ 38. ┆ 0.0 ┆ 49. ┆ 46. ┆ 160 ┆ 872 ┆ 184 ┆ 165 ┆ 326 ┆ 689 ┆ 620 ┆ 427 ┆ 771 ┆ 947 ┆ 416 ┆ 765 ┆ 888 ┆ 154 ┆ 399 ┆ 224 ┆ 329 ┆ 376 ┆ 981 ┆ 84. ┆ 175 ┆ 161 ┆ 273 ┆ 557 ┆ 537 ┆ 317 ┆ 613 ┆ 657 ┆ 963 ┆ 186 ┆ 197 ┆ 371 ┆ 683 ┆ 798 ┆ 758 ┆ 124 ┆ 183 ┆ 176 ┆ 182 ┆ 497 ┆ 222 ┆ 922 ┆ 0.0 ┆ 169 ┆ 790 ┆ 635 ┆ 28. ┆ adu ┆ BEL ┆ 249 ┆ mal ┆ 16  ┆ Pro ┆ 202 ┆ BEL ┆ Mid ┆ 450 ┆ Oud ┆ 198 ┆ 109 ┆ Xav ┆ AM  ┆ tru ┆ 202 ┆ 8   ┆ 202 ┆ 202 ┆ X.  ┆ Oud ┆ 27  ┆ Oud │\n",
       "│     ┆     ┆     ┆     ┆     ┆     ┆     ┆     ┆     ┆     ┆     ┆     ┆     ┆     ┆     ┆     ┆     ┆     ┆     ┆     ┆     ┆     ┆     ┆     ┆     ┆     ┆     ┆     ┆     ┆     ┆     ┆     ┆     ┆     ┆     ┆     ┆     ┆     ┆     ┆     ┆     ┆     ┆     ┆     ┆     ┆     ┆     ┆     ┆     ┆     ┆     ┆     ┆     ┆     ┆ 9   ┆ 2   ┆ 7   ┆ 4   ┆ 5   ┆ 9   ┆ 5   ┆ 0   ┆ 5   ┆     ┆     ┆     ┆     ┆     ┆     ┆     ┆     ┆     ┆ 19  ┆ 12  ┆ 07  ┆   ┆ 419 ┆     ┆ 748 ┆ 487 ┆ .09 ┆ 7.2 ┆ 38. ┆ 65. ┆ 93. ┆ 63. ┆ 23. ┆ 21. ┆ 69. ┆ 24. ┆ .70 ┆ .42 ┆ .51 ┆ 4.9 ┆ 5.6 ┆ 6.9 ┆ 5.8 ┆ 5.4 ┆ 9.3 ┆ 208 ┆ .62 ┆ .77 ┆ .74 ┆ .85 ┆ .49 ┆ .39 ┆ .63 ┆ .46 ┆ .85 ┆ 2.1 ┆ 7.3 ┆ 8.9 ┆ 8.6 ┆ 9.2 ┆ 6.7 ┆ 12. ┆ 04. ┆ .83 ┆ .78 ┆ .56 ┆ .02 ┆ .06 ┆     ┆ 1.4 ┆ .28 ┆ 0.5 ┆ 3   ┆ lt  ┆     ┆     ┆ e   ┆     ┆ Lea ┆ 1-0 ┆ -   ┆ fie ┆ 02  ┆ -He ┆ 9-0 ┆ 32  ┆ ier ┆     ┆ e   ┆ 2   ┆     ┆ 1/2 ┆ 1   ┆ Mer ┆ -He ┆     ┆ -He │\n",
       "│     ┆     ┆     ┆     ┆     ┆     ┆     ┆     ┆     ┆     ┆     ┆     ┆     ┆     ┆     ┆     ┆     ┆     ┆     ┆     ┆     ┆     ┆     ┆     ┆     ┆     ┆     ┆     ┆     ┆     ┆     ┆     ┆     ┆     ┆     ┆     ┆     ┆     ┆     ┆     ┆     ┆     ┆     ┆     ┆     ┆     ┆     ┆     ┆     ┆     ┆     ┆     ┆     ┆     ┆     ┆     ┆     ┆     ┆     ┆     ┆     ┆     ┆     ┆     ┆     ┆     ┆     ┆     ┆     ┆     ┆     ┆     ┆     ┆     ┆     ┆   ┆ 507 ┆     ┆ 921 ┆ 603 ┆ 761 ┆ 369 ┆ 738 ┆ 065 ┆ 516 ┆ 014 ┆ 760 ┆ 886 ┆ 421 ┆ 421 ┆ 827 ┆ 471 ┆ 042 ┆ 397 ┆ 287 ┆ 792 ┆ 660 ┆ 958 ┆ 202 ┆ 338 ┆ 879 ┆ 351 ┆ 112 ┆ 124 ┆ 170 ┆ 811 ┆ 636 ┆ 753 ┆ 673 ┆ 526 ┆ 395 ┆ 568 ┆ 722 ┆ 595 ┆ 105 ┆ 190 ┆ 493 ┆ 838 ┆ 799 ┆ 584 ┆ 727 ┆ 816 ┆     ┆ 633 ┆ 925 ┆ 386 ┆     ┆     ┆     ┆     ┆     ┆     ┆ gue ┆ 7-2 ┆ Pro ┆ ld  ┆     ┆ ver ┆ 7-2 ┆     ┆ Mer ┆     ┆     ┆     ┆     ┆ 022 ┆     ┆ cie ┆ ver ┆     ┆ ver │\n",
       "│     ┆     ┆     ┆     ┆     ┆     ┆     ┆     ┆     ┆     ┆     ┆     ┆     ┆     ┆     ┆     ┆     ┆     ┆     ┆     ┆     ┆     ┆     ┆     ┆     ┆     ┆     ┆     ┆     ┆     ┆     ┆     ┆     ┆     ┆     ┆     ┆     ┆     ┆     ┆     ┆     ┆     ┆     ┆     ┆     ┆     ┆     ┆     ┆     ┆     ┆     ┆     ┆     ┆     ┆     ┆     ┆     ┆     ┆     ┆     ┆     ┆     ┆     ┆     ┆     ┆     ┆     ┆     ┆     ┆     ┆     ┆     ┆     ┆     ┆     ┆   ┆     ┆     ┆     ┆     ┆ 3   ┆ 08  ┆ 567 ┆ 349 ┆ 358 ┆ 821 ┆ 826 ┆ 332 ┆ 488 ┆ 277 ┆ 2   ┆ 1   ┆ 9   ┆ 94  ┆ 14  ┆ 59  ┆ 49  ┆ 68  ┆ 9   ┆     ┆ 4   ┆ 7   ┆ 9   ┆     ┆ 5   ┆ 9   ┆ 4   ┆ 2   ┆ 9   ┆ 56  ┆ 74  ┆ 69  ┆ 22  ┆ 89  ┆ 28  ┆ 083 ┆ 802 ┆ 5   ┆ 1   ┆     ┆ 6   ┆ 5   ┆     ┆ 31  ┆ 6   ┆ 66  ┆     ┆     ┆     ┆     ┆     ┆     ┆     ┆ 4   ┆ Lea ┆     ┆     ┆ lee ┆ 5   ┆     ┆ cie ┆     ┆     ┆     ┆     ┆     ┆     ┆ r   ┆ lee ┆     ┆ lee │\n",
       "│     ┆     ┆     ┆     ┆     ┆     ┆     ┆     ┆     ┆     ┆     ┆     ┆     ┆     ┆     ┆     ┆     ┆     ┆     ┆     ┆     ┆     ┆     ┆     ┆     ┆     ┆     ┆     ┆     ┆     ┆     ┆     ┆     ┆     ┆     ┆     ┆     ┆     ┆     ┆     ┆     ┆     ┆     ┆     ┆     ┆     ┆     ┆     ┆     ┆     ┆     ┆     ┆     ┆     ┆     ┆     ┆     ┆     ┆     ┆     ┆     ┆     ┆     ┆     ┆     ┆     ┆     ┆     ┆     ┆     ┆     ┆     ┆     ┆     ┆     ┆   ┆     ┆     ┆     ┆     ┆     ┆     ┆     ┆     ┆     ┆     ┆     ┆     ┆     ┆     ┆     ┆     ┆     ┆     ┆     ┆     ┆     ┆     ┆     ┆     ┆     ┆     ┆     ┆     ┆     ┆     ┆     ┆     ┆     ┆     ┆     ┆     ┆     ┆     ┆     ┆     ┆     ┆     ┆     ┆     ┆     ┆     ┆     ┆     ┆     ┆     ┆     ┆     ┆     ┆     ┆     ┆     ┆     ┆     ┆ gue ┆     ┆     ┆ Leu ┆     ┆     ┆ r   ┆     ┆     ┆     ┆     ┆     ┆     ┆     ┆ Leu ┆     ┆ Leu │\n",
       "│     ┆     ┆     ┆     ┆     ┆     ┆     ┆     ┆     ┆     ┆     ┆     ┆     ┆     ┆     ┆     ┆     ┆     ┆     ┆     ┆     ┆     ┆     ┆     ┆     ┆     ┆     ┆     ┆     ┆     ┆     ┆     ┆     ┆     ┆     ┆     ┆     ┆     ┆     ┆     ┆     ┆     ┆     ┆     ┆     ┆     ┆     ┆     ┆     ┆     ┆     ┆     ┆     ┆     ┆     ┆     ┆     ┆     ┆     ┆     ┆     ┆     ┆     ┆     ┆     ┆     ┆     ┆     ┆     ┆     ┆     ┆     ┆     ┆     ┆     ┆   ┆     ┆     ┆     ┆     ┆     ┆     ┆     ┆     ┆     ┆     ┆     ┆     ┆     ┆     ┆     ┆     ┆     ┆     ┆     ┆     ┆     ┆     ┆     ┆     ┆     ┆     ┆     ┆     ┆     ┆     ┆     ┆     ┆     ┆     ┆     ┆     ┆     ┆     ┆     ┆     ┆     ┆     ┆     ┆     ┆     ┆     ┆     ┆     ┆     ┆     ┆     ┆     ┆     ┆     ┆     ┆     ┆     ┆     ┆ -   ┆     ┆     ┆ ven ┆     ┆     ┆     ┆     ┆     ┆     ┆     ┆     ┆     ┆     ┆ ven ┆     ┆ ven │\n",
       "│     ┆     ┆     ┆     ┆     ┆     ┆     ┆     ┆     ┆     ┆     ┆     ┆     ┆     ┆     ┆     ┆     ┆     ┆     ┆     ┆     ┆     ┆     ┆     ┆     ┆     ┆     ┆     ┆     ┆     ┆     ┆     ┆     ┆     ┆     ┆     ┆     ┆     ┆     ┆     ┆     ┆     ┆     ┆     ┆     ┆     ┆     ┆     ┆     ┆     ┆     ┆     ┆     ┆     ┆     ┆     ┆     ┆     ┆     ┆     ┆     ┆     ┆     ┆     ┆     ┆     ┆     ┆     ┆     ┆     ┆     ┆     ┆     ┆     ┆     ┆   ┆     ┆     ┆     ┆     ┆     ┆     ┆     ┆     ┆     ┆     ┆     ┆     ┆     ┆     ┆     ┆     ┆     ┆     ┆     ┆     ┆     ┆     ┆     ┆     ┆     ┆     ┆     ┆     ┆     ┆     ┆     ┆     ┆     ┆     ┆     ┆     ┆     ┆     ┆     ┆     ┆     ┆     ┆     ┆     ┆     ┆     ┆     ┆     ┆     ┆     ┆     ┆     ┆     ┆     ┆     ┆     ┆     ┆     ┆ 202 ┆     ┆     ┆ v   ┆     ┆     ┆     ┆     ┆     ┆     ┆     ┆     ┆     ┆     ┆     ┆     ┆     │\n",
       "│     ┆     ┆     ┆     ┆     ┆     ┆     ┆     ┆     ┆     ┆     ┆     ┆     ┆     ┆     ┆     ┆     ┆     ┆     ┆     ┆     ┆     ┆     ┆     ┆     ┆     ┆     ┆     ┆     ┆     ┆     ┆     ┆     ┆     ┆     ┆     ┆     ┆     ┆     ┆     ┆     ┆     ┆     ┆     ┆     ┆     ┆     ┆     ┆     ┆     ┆     ┆     ┆     ┆     ┆     ┆     ┆     ┆     ┆     ┆     ┆     ┆     ┆     ┆     ┆     ┆     ┆     ┆     ┆     ┆     ┆     ┆     ┆     ┆     ┆     ┆   ┆     ┆     ┆     ┆     ┆     ┆     ┆     ┆     ┆     ┆     ┆     ┆     ┆     ┆     ┆     ┆     ┆     ┆     ┆     ┆     ┆     ┆     ┆     ┆     ┆     ┆     ┆     ┆     ┆     ┆     ┆     ┆     ┆     ┆     ┆     ┆     ┆     ┆     ┆     ┆     ┆     ┆     ┆     ┆     ┆     ┆     ┆     ┆     ┆     ┆     ┆     ┆     ┆     ┆     ┆     ┆     ┆     ┆     ┆ 1/2 ┆     ┆     ┆ SV  ┆     ┆     ┆     ┆     ┆     ┆     ┆     ┆     ┆     ┆     ┆     ┆     ┆     │\n",
       "│     ┆     ┆     ┆     ┆     ┆     ┆     ┆     ┆     ┆     ┆     ┆     ┆     ┆     ┆     ┆     ┆     ┆     ┆     ┆     ┆     ┆     ┆     ┆     ┆     ┆     ┆     ┆     ┆     ┆     ┆     ┆     ┆     ┆     ┆     ┆     ┆     ┆     ┆     ┆     ┆     ┆     ┆     ┆     ┆     ┆     ┆     ┆     ┆     ┆     ┆     ┆     ┆     ┆     ┆     ┆     ┆     ┆     ┆     ┆     ┆     ┆     ┆     ┆     ┆     ┆     ┆     ┆     ┆     ┆     ┆     ┆     ┆     ┆     ┆     ┆   ┆     ┆     ┆     ┆     ┆     ┆     ┆     ┆     ┆     ┆     ┆     ┆     ┆     ┆     ┆     ┆     ┆     ┆     ┆     ┆     ┆     ┆     ┆     ┆     ┆     ┆     ┆     ┆     ┆     ┆     ┆     ┆     ┆     ┆     ┆     ┆     ┆     ┆     ┆     ┆     ┆     ┆     ┆     ┆     ┆     ┆     ┆     ┆     ┆     ┆     ┆     ┆     ┆     ┆     ┆     ┆     ┆     ┆     ┆ 022 ┆     ┆     ┆ Zul ┆     ┆     ┆     ┆     ┆     ┆     ┆     ┆     ┆     ┆     ┆     ┆     ┆     │\n",
       "│     ┆     ┆     ┆     ┆     ┆     ┆     ┆     ┆     ┆     ┆     ┆     ┆     ┆     ┆     ┆     ┆     ┆     ┆     ┆     ┆     ┆     ┆     ┆     ┆     ┆     ┆     ┆     ┆     ┆     ┆     ┆     ┆     ┆     ┆     ┆     ┆     ┆     ┆     ┆     ┆     ┆     ┆     ┆     ┆     ┆     ┆     ┆     ┆     ┆     ┆     ┆     ┆     ┆     ┆     ┆     ┆     ┆     ┆     ┆     ┆     ┆     ┆     ┆     ┆     ┆     ┆     ┆     ┆     ┆     ┆     ┆     ┆     ┆     ┆     ┆   ┆     ┆     ┆     ┆     ┆     ┆     ┆     ┆     ┆     ┆     ┆     ┆     ┆     ┆     ┆     ┆     ┆     ┆     ┆     ┆     ┆     ┆     ┆     ┆     ┆     ┆     ┆     ┆     ┆     ┆     ┆     ┆     ┆     ┆     ┆     ┆     ┆     ┆     ┆     ┆     ┆     ┆     ┆     ┆     ┆     ┆     ┆     ┆     ┆     ┆     ┆     ┆     ┆     ┆     ┆     ┆     ┆     ┆     ┆     ┆     ┆     ┆ te… ┆     ┆     ┆     ┆     ┆     ┆     ┆     ┆     ┆     ┆     ┆     ┆     ┆     │\n",
       "│ 34  ┆ 21  ┆ 13  ┆ 14  ┆ 7   ┆ 7   ┆ 18  ┆ 13  ┆ 5   ┆ 3   ┆ 1   ┆ 2   ┆ 2   ┆ 1   ┆ 1   ┆ 1   ┆ 0   ┆ 1   ┆ 11  ┆ 7   ┆ 4   ┆ 3   ┆ 2   ┆ 1   ┆ 2   ┆ 1   ┆ 1   ┆ 64  ┆ 39  ┆ 25  ┆ 23  ┆ 17  ┆ 6   ┆ 26  ┆ 18  ┆ 8   ┆ 82  ┆ 57  ┆ 25  ┆ 18  ┆ 13  ┆ 5   ┆ 33  ┆ 22  ┆ 11  ┆ 5   ┆ 4   ┆ 1   ┆ 2   ┆ 1   ┆ 1   ┆ 2   ┆ 2   ┆ 0   ┆ 870 ┆ 562 ┆ 308 ┆ 287 ┆ 193 ┆ 938 ┆ 356 ┆ 228 ┆ 127 ┆ 421 ┆ 292 ┆ 129 ┆ 167 ┆ 89  ┆ 78  ┆ 222 ┆ 171 ┆ 51  ┆ 71. ┆ 46. ┆ 24. ┆ … ┆ 46. ┆ 187 ┆ 32. ┆ 76. ┆ 0.0 ┆ 139 ┆ 214 ┆ 401 ┆ 596 ┆ 900 ┆ 176 ┆ 573 ┆ 879 ┆ 164 ┆ 675 ┆ 111 ┆ 167 ┆ 346 ┆ 413 ┆ 146 ┆ 356 ┆ 656 ┆ 656 ┆ 113 ┆ 175 ┆ 324 ┆ 409 ┆ 613 ┆ 123 ┆ 360 ┆ 557 ┆ 102 ┆ 199 ┆ 271 ┆ 685 ┆ 880 ┆ 117 ┆ 322 ┆ 116 ┆ 164 ┆ 382 ┆ 168 ┆ 361 ┆ 130 ┆ 746 ┆ 134 ┆ 131 ┆ 417 ┆ 998 ┆ 0.0 ┆ 26. ┆ adu ┆ BEL ┆ 249 ┆ mal ┆ 16  ┆ Pro ┆ 202 ┆ BEL ┆ Mid ┆ 450 ┆ Oud ┆ 199 ┆ 146 ┆ Oma ┆ AM  ┆ tru ┆ 202 ┆ 8   ┆ 202 ┆ 202 ┆ O.  ┆ SV  ┆ 8   ┆ SV  │\n",
       "│     ┆     ┆     ┆     ┆     ┆     ┆     ┆     ┆     ┆     ┆     ┆     ┆     ┆     ┆     ┆     ┆     ┆     ┆     ┆     ┆     ┆     ┆     ┆     ┆     ┆     ┆     ┆     ┆     ┆     ┆     ┆     ┆     ┆     ┆     ┆     ┆     ┆     ┆     ┆     ┆     ┆     ┆     ┆     ┆     ┆     ┆     ┆     ┆     ┆     ┆     ┆     ┆     ┆     ┆ 9   ┆ 0   ┆ 9   ┆ 6   ┆ 8   ┆     ┆ 7   ┆ 9   ┆ 8   ┆     ┆     ┆     ┆     ┆     ┆     ┆     ┆     ┆     ┆ 07  ┆ 12  ┆ 95  ┆   ┆ 487 ┆ .65 ┆ 142 ┆ 839 ┆     ┆ 66. ┆ 01. ┆ 94. ┆ 01. ┆ 92. ┆ 018 ┆ 26. ┆ 42. ┆ 615 ┆ .14 ┆ 1.9 ┆ 8.5 ┆ 0.8 ┆ 7.3 ┆ 36. ┆ 7.8 ┆ 9.7 ┆ 9.1 ┆ .97 ┆ .62 ┆ .64 ┆ .71 ┆ .63 ┆ 2.8 ┆ .80 ┆ .85 ┆ 1.4 ┆ 0.1 ┆ 8.9 ┆ 7.3 ┆ 7.6 ┆ 61. ┆ 76. ┆ 35. ┆ 05. ┆ 55. ┆ .38 ┆ .76 ┆ .11 ┆ .06 ┆ 8.1 ┆ 3.5 ┆ .85 ┆ .90 ┆     ┆ 4   ┆ lt  ┆     ┆     ┆ e   ┆     ┆ Lea ┆ 1-0 ┆ -   ┆ fie ┆ 02  ┆ -He ┆ 6-0 ┆ 25  ┆ r   ┆     ┆ e   ┆ 2   ┆     ┆ 1/2 ┆ 1   ┆ Gov ┆ Zul ┆     ┆ Zul │\n",
       "│     ┆     ┆     ┆     ┆     ┆     ┆     ┆     ┆     ┆     ┆     ┆     ┆     ┆     ┆     ┆     ┆     ┆     ┆     ┆     ┆     ┆     ┆     ┆     ┆     ┆     ┆     ┆     ┆     ┆     ┆     ┆     ┆     ┆     ┆     ┆     ┆     ┆     ┆     ┆     ┆     ┆     ┆     ┆     ┆     ┆     ┆     ┆     ┆     ┆     ┆     ┆     ┆     ┆     ┆     ┆     ┆     ┆     ┆     ┆     ┆     ┆     ┆     ┆     ┆     ┆     ┆     ┆     ┆     ┆     ┆     ┆     ┆     ┆     ┆     ┆   ┆ 603 ┆ 246 ┆ 698 ┆ 014 ┆     ┆ 277 ┆ 427 ┆ 055 ┆ 962 ┆ 975 ┆ .01 ┆ 501 ┆ 251 ┆ .03 ┆ 100 ┆ 602 ┆ 474 ┆ 928 ┆ 966 ┆ 892 ┆ 394 ┆ 356 ┆ 445 ┆ 214 ┆ 879 ┆ 929 ┆ 168 ┆ 636 ┆ 767 ┆ 178 ┆ 124 ┆ 375 ┆ 424 ┆ 713 ┆ 218 ┆ 613 ┆ 363 ┆ 224 ┆ 656 ┆ 129 ┆ 606 ┆ 433 ┆ 789 ┆ 995 ┆ 073 ┆ 404 ┆ 672 ┆ 507 ┆ 717 ┆     ┆     ┆     ┆     ┆     ┆     ┆     ┆ gue ┆ 7-2 ┆ Pro ┆ ld  ┆     ┆ ver ┆ 1-1 ┆     ┆ Nic ┆     ┆     ┆     ┆     ┆ 022 ┆     ┆ ea  ┆ te- ┆     ┆ te- │\n",
       "│     ┆     ┆     ┆     ┆     ┆     ┆     ┆     ┆     ┆     ┆     ┆     ┆     ┆     ┆     ┆     ┆     ┆     ┆     ┆     ┆     ┆     ┆     ┆     ┆     ┆     ┆     ┆     ┆     ┆     ┆     ┆     ┆     ┆     ┆     ┆     ┆     ┆     ┆     ┆     ┆     ┆     ┆     ┆     ┆     ┆     ┆     ┆     ┆     ┆     ┆     ┆     ┆     ┆     ┆     ┆     ┆     ┆     ┆     ┆     ┆     ┆     ┆     ┆     ┆     ┆     ┆     ┆     ┆     ┆     ┆     ┆     ┆     ┆     ┆     ┆   ┆     ┆ 8   ┆     ┆     ┆     ┆ 874 ┆ 251 ┆ 446 ┆ 784 ┆ 207 ┆ 463 ┆ 357 ┆ 212 ┆ 477 ┆ 2   ┆ 77  ┆ 76  ┆ 32  ┆ 94  ┆ 475 ┆ 45  ┆ 74  ┆ 8   ┆     ┆ 4   ┆ 9   ┆ 4   ┆ 4   ┆ 12  ┆ 2   ┆     ┆ 79  ┆ 78  ┆ 62  ┆ 58  ┆ 99  ┆ 636 ┆ 432 ┆ 569 ┆ 431 ┆ 672 ┆ 5   ┆ 8   ┆ 9   ┆     ┆ 96  ┆ 73  ┆     ┆ 8   ┆     ┆     ┆     ┆     ┆     ┆     ┆     ┆     ┆ 4   ┆ Lea ┆     ┆     ┆ lee ┆ 8   ┆     ┆ olá ┆     ┆     ┆     ┆     ┆     ┆     ┆     ┆ War ┆     ┆ War │\n",
       "│     ┆     ┆     ┆     ┆     ┆     ┆     ┆     ┆     ┆     ┆     ┆     ┆     ┆     ┆     ┆     ┆     ┆     ┆     ┆     ┆     ┆     ┆     ┆     ┆     ┆     ┆     ┆     ┆     ┆     ┆     ┆     ┆     ┆     ┆     ┆     ┆     ┆     ┆     ┆     ┆     ┆     ┆     ┆     ┆     ┆     ┆     ┆     ┆     ┆     ┆     ┆     ┆     ┆     ┆     ┆     ┆     ┆     ┆     ┆     ┆     ┆     ┆     ┆     ┆     ┆     ┆     ┆     ┆     ┆     ┆     ┆     ┆     ┆     ┆     ┆   ┆     ┆     ┆     ┆     ┆     ┆     ┆     ┆     ┆     ┆     ┆ 7   ┆     ┆     ┆     ┆     ┆     ┆     ┆     ┆     ┆     ┆     ┆     ┆     ┆     ┆     ┆     ┆     ┆     ┆     ┆     ┆     ┆     ┆     ┆     ┆     ┆     ┆     ┆     ┆     ┆     ┆     ┆     ┆     ┆     ┆     ┆     ┆     ┆     ┆     ┆     ┆     ┆     ┆     ┆     ┆     ┆     ┆     ┆     ┆ gue ┆     ┆     ┆ Leu ┆     ┆     ┆ s   ┆     ┆     ┆     ┆     ┆     ┆     ┆     ┆ ege ┆     ┆ ege │\n",
       "│     ┆     ┆     ┆     ┆     ┆     ┆     ┆     ┆     ┆     ┆     ┆     ┆     ┆     ┆     ┆     ┆     ┆     ┆     ┆     ┆     ┆     ┆     ┆     ┆     ┆     ┆     ┆     ┆     ┆     ┆     ┆     ┆     ┆     ┆     ┆     ┆     ┆     ┆     ┆     ┆     ┆     ┆     ┆     ┆     ┆     ┆     ┆     ┆     ┆     ┆     ┆     ┆     ┆     ┆     ┆     ┆     ┆     ┆     ┆     ┆     ┆     ┆     ┆     ┆     ┆     ┆     ┆     ┆     ┆     ┆     ┆     ┆     ┆     ┆     ┆   ┆     ┆     ┆     ┆     ┆     ┆     ┆     ┆     ┆     ┆     ┆     ┆     ┆     ┆     ┆     ┆     ┆     ┆     ┆     ┆     ┆     ┆     ┆     ┆     ┆     ┆     ┆     ┆     ┆     ┆     ┆     ┆     ┆     ┆     ┆     ┆     ┆     ┆     ┆     ┆     ┆     ┆     ┆     ┆     ┆     ┆     ┆     ┆     ┆     ┆     ┆     ┆     ┆     ┆     ┆     ┆     ┆     ┆     ┆ -   ┆     ┆     ┆ ven ┆     ┆     ┆ Gov ┆     ┆     ┆     ┆     ┆     ┆     ┆     ┆ m   ┆     ┆ m   │\n",
       "│     ┆     ┆     ┆     ┆     ┆     ┆     ┆     ┆     ┆     ┆     ┆     ┆     ┆     ┆     ┆     ┆     ┆     ┆     ┆     ┆     ┆     ┆     ┆     ┆     ┆     ┆     ┆     ┆     ┆     ┆     ┆     ┆     ┆     ┆     ┆     ┆     ┆     ┆     ┆     ┆     ┆     ┆     ┆     ┆     ┆     ┆     ┆     ┆     ┆     ┆     ┆     ┆     ┆     ┆     ┆     ┆     ┆     ┆     ┆     ┆     ┆     ┆     ┆     ┆     ┆     ┆     ┆     ┆     ┆     ┆     ┆     ┆     ┆     ┆     ┆   ┆     ┆     ┆     ┆     ┆     ┆     ┆     ┆     ┆     ┆     ┆     ┆     ┆     ┆     ┆     ┆     ┆     ┆     ┆     ┆     ┆     ┆     ┆     ┆     ┆     ┆     ┆     ┆     ┆     ┆     ┆     ┆     ┆     ┆     ┆     ┆     ┆     ┆     ┆     ┆     ┆     ┆     ┆     ┆     ┆     ┆     ┆     ┆     ┆     ┆     ┆     ┆     ┆     ┆     ┆     ┆     ┆     ┆     ┆ 202 ┆     ┆     ┆ v   ┆     ┆     ┆ ea  ┆     ┆     ┆     ┆     ┆     ┆     ┆     ┆     ┆     ┆     │\n",
       "│     ┆     ┆     ┆     ┆     ┆     ┆     ┆     ┆     ┆     ┆     ┆     ┆     ┆     ┆     ┆     ┆     ┆     ┆     ┆     ┆     ┆     ┆     ┆     ┆     ┆     ┆     ┆     ┆     ┆     ┆     ┆     ┆     ┆     ┆     ┆     ┆     ┆     ┆     ┆     ┆     ┆     ┆     ┆     ┆     ┆     ┆     ┆     ┆     ┆     ┆     ┆     ┆     ┆     ┆     ┆     ┆     ┆     ┆     ┆     ┆     ┆     ┆     ┆     ┆     ┆     ┆     ┆     ┆     ┆     ┆     ┆     ┆     ┆     ┆     ┆   ┆     ┆     ┆     ┆     ┆     ┆     ┆     ┆     ┆     ┆     ┆     ┆     ┆     ┆     ┆     ┆     ┆     ┆     ┆     ┆     ┆     ┆     ┆     ┆     ┆     ┆     ┆     ┆     ┆     ┆     ┆     ┆     ┆     ┆     ┆     ┆     ┆     ┆     ┆     ┆     ┆     ┆     ┆     ┆     ┆     ┆     ┆     ┆     ┆     ┆     ┆     ┆     ┆     ┆     ┆     ┆     ┆     ┆     ┆ 1/2 ┆     ┆     ┆ SV  ┆     ┆     ┆ Gar ┆     ┆     ┆     ┆     ┆     ┆     ┆     ┆     ┆     ┆     │\n",
       "│     ┆     ┆     ┆     ┆     ┆     ┆     ┆     ┆     ┆     ┆     ┆     ┆     ┆     ┆     ┆     ┆     ┆     ┆     ┆     ┆     ┆     ┆     ┆     ┆     ┆     ┆     ┆     ┆     ┆     ┆     ┆     ┆     ┆     ┆     ┆     ┆     ┆     ┆     ┆     ┆     ┆     ┆     ┆     ┆     ┆     ┆     ┆     ┆     ┆     ┆     ┆     ┆     ┆     ┆     ┆     ┆     ┆     ┆     ┆     ┆     ┆     ┆     ┆     ┆     ┆     ┆     ┆     ┆     ┆     ┆     ┆     ┆     ┆     ┆     ┆   ┆     ┆     ┆     ┆     ┆     ┆     ┆     ┆     ┆     ┆     ┆     ┆     ┆     ┆     ┆     ┆     ┆     ┆     ┆     ┆     ┆     ┆     ┆     ┆     ┆     ┆     ┆     ┆     ┆     ┆     ┆     ┆     ┆     ┆     ┆     ┆     ┆     ┆     ┆     ┆     ┆     ┆     ┆     ┆     ┆     ┆     ┆     ┆     ┆     ┆     ┆     ┆     ┆     ┆     ┆     ┆     ┆     ┆     ┆ 022 ┆     ┆     ┆ Zul ┆     ┆     ┆ cía ┆     ┆     ┆     ┆     ┆     ┆     ┆     ┆     ┆     ┆     │\n",
       "│     ┆     ┆     ┆     ┆     ┆     ┆     ┆     ┆     ┆     ┆     ┆     ┆     ┆     ┆     ┆     ┆     ┆     ┆     ┆     ┆     ┆     ┆     ┆     ┆     ┆     ┆     ┆     ┆     ┆     ┆     ┆     ┆     ┆     ┆     ┆     ┆     ┆     ┆     ┆     ┆     ┆     ┆     ┆     ┆     ┆     ┆     ┆     ┆     ┆     ┆     ┆     ┆     ┆     ┆     ┆     ┆     ┆     ┆     ┆     ┆     ┆     ┆     ┆     ┆     ┆     ┆     ┆     ┆     ┆     ┆     ┆     ┆     ┆     ┆     ┆   ┆     ┆     ┆     ┆     ┆     ┆     ┆     ┆     ┆     ┆     ┆     ┆     ┆     ┆     ┆     ┆     ┆     ┆     ┆     ┆     ┆     ┆     ┆     ┆     ┆     ┆     ┆     ┆     ┆     ┆     ┆     ┆     ┆     ┆     ┆     ┆     ┆     ┆     ┆     ┆     ┆     ┆     ┆     ┆     ┆     ┆     ┆     ┆     ┆     ┆     ┆     ┆     ┆     ┆     ┆     ┆     ┆     ┆     ┆     ┆     ┆     ┆ te… ┆     ┆     ┆     ┆     ┆     ┆     ┆     ┆     ┆     ┆     ┆     ┆     ┆     │\n",
       "│ 50  ┆ 25  ┆ 25  ┆ 20  ┆ 11  ┆ 9   ┆ 25  ┆ 13  ┆ 12  ┆ 1   ┆ 0   ┆ 1   ┆ 0   ┆ 0   ┆ 0   ┆ 1   ┆ 0   ┆ 1   ┆ 15  ┆ 9   ┆ 6   ┆ 5   ┆ 2   ┆ 3   ┆ 3   ┆ 2   ┆ 1   ┆ 64  ┆ 37  ┆ 27  ┆ 26  ┆ 17  ┆ 9   ┆ 21  ┆ 13  ┆ 8   ┆ 70  ┆ 44  ┆ 26  ┆ 21  ┆ 13  ┆ 8   ┆ 18  ┆ 13  ┆ 5   ┆ 12  ┆ 6   ┆ 6   ┆ 2   ┆ 1   ┆ 1   ┆ 8   ┆ 4   ┆ 4   ┆ 897 ┆ 541 ┆ 356 ┆ 335 ┆ 202 ┆ 132 ┆ 312 ┆ 188 ┆ 124 ┆ 594 ┆ 284 ┆ 310 ┆ 224 ┆ 114 ┆ 110 ┆ 337 ┆ 144 ┆ 193 ┆ 74. ┆ 46. ┆ 28. ┆ … ┆ 38. ┆ 112 ┆ 156 ┆ 185 ┆ 633 ┆ 132 ┆ 206 ┆ 367 ┆ 513 ┆ 777 ┆ 149 ┆ 611 ┆ 875 ┆ 196 ┆ 875 ┆ 108 ┆ 319 ┆ 342 ┆ 437 ┆ 123 ┆ 659 ┆ 669 ┆ 305 ┆ 109 ┆ 175 ┆ 288 ┆ 352 ┆ 557 ┆ 955 ┆ 398 ┆ 613 ┆ 113 ┆ 181 ┆ 258 ┆ 571 ┆ 820 ┆ 115 ┆ 264 ┆ 117 ┆ 152 ┆ 437 ┆ 304 ┆ 289 ┆ 135 ┆ 413 ┆ 268 ┆ 225 ┆ 258 ┆ 204 ┆ 139 ┆ 27. ┆ adu ┆ BEL ┆ 249 ┆ mal ┆ 16  ┆ Pro ┆ 202 ┆ BEL ┆ Mid ┆ 450 ┆ Oud ┆ 199 ┆ 983 ┆ Sie ┆ AM  ┆ tru ┆ 202 ┆ 8   ┆ 202 ┆ 202 ┆ S.  ┆ Oud ┆ 27  ┆ Oud │\n",
       "│     ┆     ┆     ┆     ┆     ┆     ┆     ┆     ┆     ┆     ┆     ┆     ┆     ┆     ┆     ┆     ┆     ┆     ┆     ┆     ┆     ┆     ┆     ┆     ┆     ┆     ┆     ┆     ┆     ┆     ┆     ┆     ┆     ┆     ┆     ┆     ┆     ┆     ┆     ┆     ┆     ┆     ┆     ┆     ┆     ┆     ┆     ┆     ┆     ┆     ┆     ┆     ┆     ┆     ┆ 6   ┆ 0   ┆ 6   ┆ 1   ┆ 5   ┆ 6   ┆ 5   ┆ 3   ┆ 2   ┆     ┆     ┆     ┆     ┆     ┆     ┆     ┆     ┆     ┆ 15  ┆ 12  ┆ 03  ┆   ┆ 419 ┆ .64 ┆ .47 ┆ .95 ┆ .77 ┆ 23. ┆ 01. ┆ 63. ┆ 10. ┆ 99. ┆ 360 ┆ 23. ┆ 36. ┆ 786 ┆ .08 ┆ 1.4 ┆ 5.9 ┆ 9.8 ┆ 9.8 ┆ 90. ┆ 1.5 ┆ 4.2 ┆ 79. ┆ .23 ┆ .62 ┆ .97 ┆ .17 ┆ .85 ┆ .18 ┆ .03 ┆ .63 ┆ 2.8 ┆ 7.9 ┆ 9.4 ┆ 1.4 ┆ 7.1 ┆ 64. ┆ 70. ┆ 94. ┆ 01. ┆ 30. ┆ .95 ┆ .41 ┆ 0.5 ┆ .42 ┆ .93 ┆ 2.8 ┆ 1.8 ┆ 5.4 ┆ 42. ┆ 4   ┆ lt  ┆     ┆     ┆ e   ┆     ┆ Lea ┆ 1-0 ┆ -   ┆ fie ┆ 02  ┆ -He ┆ 6-0 ┆ 5   ┆ be  ┆     ┆ e   ┆ 2   ┆     ┆ 1/2 ┆ 1   ┆ Sch ┆ -He ┆     ┆ -He │\n",
       "│     ┆     ┆     ┆     ┆     ┆     ┆     ┆     ┆     ┆     ┆     ┆     ┆     ┆     ┆     ┆     ┆     ┆     ┆     ┆     ┆     ┆     ┆     ┆     ┆     ┆     ┆     ┆     ┆     ┆     ┆     ┆     ┆     ┆     ┆     ┆     ┆     ┆     ┆     ┆     ┆     ┆     ┆     ┆     ┆     ┆     ┆     ┆     ┆     ┆     ┆     ┆     ┆     ┆     ┆     ┆     ┆     ┆     ┆     ┆     ┆     ┆     ┆     ┆     ┆     ┆     ┆     ┆     ┆     ┆     ┆     ┆     ┆     ┆     ┆     ┆   ┆ 507 ┆ 017 ┆ 543 ┆ 041 ┆ 182 ┆ 473 ┆ 729 ┆ 780 ┆ 207 ┆ 501 ┆ .87 ┆ 218 ┆ 157 ┆ .15 ┆ 281 ┆ 956 ┆ 539 ┆ 676 ┆ 237 ┆ 419 ┆ 278 ┆ 148 ┆ 490 ┆ 803 ┆ 879 ┆ 609 ┆ 391 ┆ 124 ┆ 867 ┆ 439 ┆ 636 ┆ 671 ┆ 329 ┆ 965 ┆ 790 ┆ 833 ┆ 271 ┆ 440 ┆ 336 ┆ 446 ┆ 255 ┆ 310 ┆ 431 ┆ 482 ┆ 155 ┆ 654 ┆ 034 ┆ 447 ┆ 545 ┆ 980 ┆     ┆     ┆     ┆     ┆     ┆     ┆ gue ┆ 7-2 ┆ Pro ┆ ld  ┆     ┆ ver ┆ 7-1 ┆     ┆ Sch ┆     ┆     ┆     ┆     ┆ 022 ┆     ┆ rij ┆ ver ┆     ┆ ver │\n",
       "│     ┆     ┆     ┆     ┆     ┆     ┆     ┆     ┆     ┆     ┆     ┆     ┆     ┆     ┆     ┆     ┆     ┆     ┆     ┆     ┆     ┆     ┆     ┆     ┆     ┆     ┆     ┆     ┆     ┆     ┆     ┆     ┆     ┆     ┆     ┆     ┆     ┆     ┆     ┆     ┆     ┆     ┆     ┆     ┆     ┆     ┆     ┆     ┆     ┆     ┆     ┆     ┆     ┆     ┆     ┆     ┆     ┆     ┆     ┆     ┆     ┆     ┆     ┆     ┆     ┆     ┆     ┆     ┆     ┆     ┆     ┆     ┆     ┆     ┆     ┆   ┆     ┆ 4   ┆ 9   ┆ 3   ┆ 3   ┆ 586 ┆ 791 ┆ 308 ┆ 94  ┆ 4   ┆ 130 ┆ 371 ┆ 025 ┆ 091 ┆ 1   ┆ 12  ┆ 81  ┆ 75  ┆ 83  ┆ 188 ┆ 69  ┆ 76  ┆ 44  ┆ 1   ┆ 4   ┆ 7   ┆ 3   ┆     ┆ 9   ┆ 8   ┆ 4   ┆ 33  ┆ 77  ┆ 36  ┆ 5   ┆ 65  ┆ 566 ┆ 993 ┆ 217 ┆ 281 ┆ 758 ┆ 1   ┆ 9   ┆ 95  ┆     ┆ 8   ┆ 89  ┆ 44  ┆ 45  ┆ 097 ┆     ┆     ┆     ┆     ┆     ┆     ┆     ┆ 4   ┆ Lea ┆     ┆     ┆ lee ┆ 8   ┆     ┆ rij ┆     ┆     ┆     ┆     ┆     ┆     ┆ ver ┆ lee ┆     ┆ lee │\n",
       "│     ┆     ┆     ┆     ┆     ┆     ┆     ┆     ┆     ┆     ┆     ┆     ┆     ┆     ┆     ┆     ┆     ┆     ┆     ┆     ┆     ┆     ┆     ┆     ┆     ┆     ┆     ┆     ┆     ┆     ┆     ┆     ┆     ┆     ┆     ┆     ┆     ┆     ┆     ┆     ┆     ┆     ┆     ┆     ┆     ┆     ┆     ┆     ┆     ┆     ┆     ┆     ┆     ┆     ┆     ┆     ┆     ┆     ┆     ┆     ┆     ┆     ┆     ┆     ┆     ┆     ┆     ┆     ┆     ┆     ┆     ┆     ┆     ┆     ┆     ┆   ┆     ┆     ┆     ┆     ┆     ┆     ┆     ┆     ┆     ┆     ┆ 7   ┆     ┆     ┆ 2   ┆     ┆     ┆     ┆     ┆     ┆     ┆     ┆     ┆     ┆     ┆     ┆     ┆     ┆     ┆     ┆     ┆     ┆     ┆     ┆     ┆     ┆     ┆     ┆     ┆     ┆     ┆     ┆     ┆     ┆     ┆     ┆     ┆     ┆     ┆     ┆     ┆     ┆     ┆     ┆     ┆     ┆     ┆     ┆     ┆ gue ┆     ┆     ┆ Leu ┆     ┆     ┆ ver ┆     ┆     ┆     ┆     ┆     ┆     ┆ s   ┆ Leu ┆     ┆ Leu │\n",
       "│     ┆     ┆     ┆     ┆     ┆     ┆     ┆     ┆     ┆     ┆     ┆     ┆     ┆     ┆     ┆     ┆     ┆     ┆     ┆     ┆     ┆     ┆     ┆     ┆     ┆     ┆     ┆     ┆     ┆     ┆     ┆     ┆     ┆     ┆     ┆     ┆     ┆     ┆     ┆     ┆     ┆     ┆     ┆     ┆     ┆     ┆     ┆     ┆     ┆     ┆     ┆     ┆     ┆     ┆     ┆     ┆     ┆     ┆     ┆     ┆     ┆     ┆     ┆     ┆     ┆     ┆     ┆     ┆     ┆     ┆     ┆     ┆     ┆     ┆     ┆   ┆     ┆     ┆     ┆     ┆     ┆     ┆     ┆     ┆     ┆     ┆     ┆     ┆     ┆     ┆     ┆     ┆     ┆     ┆     ┆     ┆     ┆     ┆     ┆     ┆     ┆     ┆     ┆     ┆     ┆     ┆     ┆     ┆     ┆     ┆     ┆     ┆     ┆     ┆     ┆     ┆     ┆     ┆     ┆     ┆     ┆     ┆     ┆     ┆     ┆     ┆     ┆     ┆     ┆     ┆     ┆     ┆     ┆     ┆ -   ┆     ┆     ┆ ven ┆     ┆     ┆ s   ┆     ┆     ┆     ┆     ┆     ┆     ┆     ┆ ven ┆     ┆ ven │\n",
       "│     ┆     ┆     ┆     ┆     ┆     ┆     ┆     ┆     ┆     ┆     ┆     ┆     ┆     ┆     ┆     ┆     ┆     ┆     ┆     ┆     ┆     ┆     ┆     ┆     ┆     ┆     ┆     ┆     ┆     ┆     ┆     ┆     ┆     ┆     ┆     ┆     ┆     ┆     ┆     ┆     ┆     ┆     ┆     ┆     ┆     ┆     ┆     ┆     ┆     ┆     ┆     ┆     ┆     ┆     ┆     ┆     ┆     ┆     ┆     ┆     ┆     ┆     ┆     ┆     ┆     ┆     ┆     ┆     ┆     ┆     ┆     ┆     ┆     ┆     ┆   ┆     ┆     ┆     ┆     ┆     ┆     ┆     ┆     ┆     ┆     ┆     ┆     ┆     ┆     ┆     ┆     ┆     ┆     ┆     ┆     ┆     ┆     ┆     ┆     ┆     ┆     ┆     ┆     ┆     ┆     ┆     ┆     ┆     ┆     ┆     ┆     ┆     ┆     ┆     ┆     ┆     ┆     ┆     ┆     ┆     ┆     ┆     ┆     ┆     ┆     ┆     ┆     ┆     ┆     ┆     ┆     ┆     ┆     ┆ 202 ┆     ┆     ┆ v   ┆     ┆     ┆     ┆     ┆     ┆     ┆     ┆     ┆     ┆     ┆     ┆     ┆     │\n",
       "│     ┆     ┆     ┆     ┆     ┆     ┆     ┆     ┆     ┆     ┆     ┆     ┆     ┆     ┆     ┆     ┆     ┆     ┆     ┆     ┆     ┆     ┆     ┆     ┆     ┆     ┆     ┆     ┆     ┆     ┆     ┆     ┆     ┆     ┆     ┆     ┆     ┆     ┆     ┆     ┆     ┆     ┆     ┆     ┆     ┆     ┆     ┆     ┆     ┆     ┆     ┆     ┆     ┆     ┆     ┆     ┆     ┆     ┆     ┆     ┆     ┆     ┆     ┆     ┆     ┆     ┆     ┆     ┆     ┆     ┆     ┆     ┆     ┆     ┆     ┆   ┆     ┆     ┆     ┆     ┆     ┆     ┆     ┆     ┆     ┆     ┆     ┆     ┆     ┆     ┆     ┆     ┆     ┆     ┆     ┆     ┆     ┆     ┆     ┆     ┆     ┆     ┆     ┆     ┆     ┆     ┆     ┆     ┆     ┆     ┆     ┆     ┆     ┆     ┆     ┆     ┆     ┆     ┆     ┆     ┆     ┆     ┆     ┆     ┆     ┆     ┆     ┆     ┆     ┆     ┆     ┆     ┆     ┆     ┆ 1/2 ┆     ┆     ┆ SV  ┆     ┆     ┆     ┆     ┆     ┆     ┆     ┆     ┆     ┆     ┆     ┆     ┆     │\n",
       "│     ┆     ┆     ┆     ┆     ┆     ┆     ┆     ┆     ┆     ┆     ┆     ┆     ┆     ┆     ┆     ┆     ┆     ┆     ┆     ┆     ┆     ┆     ┆     ┆     ┆     ┆     ┆     ┆     ┆     ┆     ┆     ┆     ┆     ┆     ┆     ┆     ┆     ┆     ┆     ┆     ┆     ┆     ┆     ┆     ┆     ┆     ┆     ┆     ┆     ┆     ┆     ┆     ┆     ┆     ┆     ┆     ┆     ┆     ┆     ┆     ┆     ┆     ┆     ┆     ┆     ┆     ┆     ┆     ┆     ┆     ┆     ┆     ┆     ┆     ┆   ┆     ┆     ┆     ┆     ┆     ┆     ┆     ┆     ┆     ┆     ┆     ┆     ┆     ┆     ┆     ┆     ┆     ┆     ┆     ┆     ┆     ┆     ┆     ┆     ┆     ┆     ┆     ┆     ┆     ┆     ┆     ┆     ┆     ┆     ┆     ┆     ┆     ┆     ┆     ┆     ┆     ┆     ┆     ┆     ┆     ┆     ┆     ┆     ┆     ┆     ┆     ┆     ┆     ┆     ┆     ┆     ┆     ┆     ┆ 022 ┆     ┆     ┆ Zul ┆     ┆     ┆     ┆     ┆     ┆     ┆     ┆     ┆     ┆     ┆     ┆     ┆     │\n",
       "│     ┆     ┆     ┆     ┆     ┆     ┆     ┆     ┆     ┆     ┆     ┆     ┆     ┆     ┆     ┆     ┆     ┆     ┆     ┆     ┆     ┆     ┆     ┆     ┆     ┆     ┆     ┆     ┆     ┆     ┆     ┆     ┆     ┆     ┆     ┆     ┆     ┆     ┆     ┆     ┆     ┆     ┆     ┆     ┆     ┆     ┆     ┆     ┆     ┆     ┆     ┆     ┆     ┆     ┆     ┆     ┆     ┆     ┆     ┆     ┆     ┆     ┆     ┆     ┆     ┆     ┆     ┆     ┆     ┆     ┆     ┆     ┆     ┆     ┆     ┆   ┆     ┆     ┆     ┆     ┆     ┆     ┆     ┆     ┆     ┆     ┆     ┆     ┆     ┆     ┆     ┆     ┆     ┆     ┆     ┆     ┆     ┆     ┆     ┆     ┆     ┆     ┆     ┆     ┆     ┆     ┆     ┆     ┆     ┆     ┆     ┆     ┆     ┆     ┆     ┆     ┆     ┆     ┆     ┆     ┆     ┆     ┆     ┆     ┆     ┆     ┆     ┆     ┆     ┆     ┆     ┆     ┆     ┆     ┆     ┆     ┆     ┆ te… ┆     ┆     ┆     ┆     ┆     ┆     ┆     ┆     ┆     ┆     ┆     ┆     ┆     │\n",
       "│ 35  ┆ 23  ┆ 12  ┆ 17  ┆ 9   ┆ 8   ┆ 17  ┆ 13  ┆ 4   ┆ 2   ┆ 2   ┆ 0   ┆ 1   ┆ 1   ┆ 0   ┆ 1   ┆ 1   ┆ 0   ┆ 8   ┆ 6   ┆ 2   ┆ 3   ┆ 2   ┆ 1   ┆ 1   ┆ 1   ┆ 0   ┆ 86  ┆ 47  ┆ 39  ┆ 47  ┆ 21  ┆ 26  ┆ 29  ┆ 18  ┆ 11  ┆ 85  ┆ 44  ┆ 41  ┆ 37  ┆ 18  ┆ 19  ┆ 23  ┆ 13  ┆ 10  ┆ 5   ┆ 4   ┆ 1   ┆ 2   ┆ 1   ┆ 1   ┆ 2   ┆ 2   ┆ 0   ┆ 116 ┆ 625 ┆ 536 ┆ 490 ┆ 265 ┆ 225 ┆ 373 ┆ 234 ┆ 139 ┆ 334 ┆ 253 ┆ 81  ┆ 174 ┆ 112 ┆ 62  ┆ 159 ┆ 140 ┆ 19  ┆ 110 ┆ 50. ┆ 60. ┆ … ┆ 24. ┆ 22. ┆ 19. ┆ 65. ┆ 0.0 ┆ 772 ┆ 200 ┆ 120 ┆ 286 ┆ 658 ┆ 495 ┆ 368 ┆ 770 ┆ 671 ┆ 221 ┆ 811 ┆ 181 ┆ 101 ┆ 278 ┆ 136 ┆ 156 ┆ 461 ┆ 913 ┆ 73. ┆ 161 ┆ 134 ┆ 217 ┆ 448 ┆ 422 ┆ 282 ┆ 516 ┆ 624 ┆ 933 ┆ 302 ┆ 103 ┆ 460 ┆ 116 ┆ 704 ┆ 594 ┆ 151 ┆ 682 ┆ 39. ┆ 179 ┆ 8.9 ┆ 140 ┆ 497 ┆ 88. ┆ 355 ┆ 118 ┆ 0.0 ┆ 25. ┆ adu ┆ BEL ┆ 249 ┆ mal ┆ 16  ┆ Pro ┆ 202 ┆ BEL ┆ Mid ┆ 449 ┆ Clu ┆ 199 ┆ 115 ┆ Ste ┆ AM  ┆ tru ┆ 202 ┆ 8   ┆ 202 ┆ 202 ┆ S.  ┆ KAS ┆ 26  ┆ KAS │\n",
       "│     ┆     ┆     ┆     ┆     ┆     ┆     ┆     ┆     ┆     ┆     ┆     ┆     ┆     ┆     ┆     ┆     ┆     ┆     ┆     ┆     ┆     ┆     ┆     ┆     ┆     ┆     ┆     ┆     ┆     ┆     ┆     ┆     ┆     ┆     ┆     ┆     ┆     ┆     ┆     ┆     ┆     ┆     ┆     ┆     ┆     ┆     ┆     ┆     ┆     ┆     ┆     ┆     ┆     ┆ 26  ┆ 7   ┆ 9   ┆ 2   ┆ 0   ┆ 2   ┆ 7   ┆ 0   ┆ 7   ┆     ┆     ┆     ┆     ┆     ┆     ┆     ┆     ┆     ┆ .42 ┆ 25  ┆ 17  ┆   ┆ 861 ┆ 018 ┆ 722 ┆ 890 ┆     ┆ 3.6 ┆ 71. ┆ 12. ┆ 46. ┆ 83. ┆ 85. ┆ 51. ┆ 91. ┆ 63. ┆ .88 ┆ .58 ┆ .22 ┆ 6.8 ┆ 4.5 ┆ 5.1 ┆ 7.9 ┆ 2.3 ┆ .45 ┆ 356 ┆ .19 ┆ .61 ┆ .56 ┆ .75 ┆ .31 ┆ .62 ┆ .58 ┆ .03 ┆ .39 ┆ 4.9 ┆ 3.6 ┆ 4.9 ┆ 35. ┆ 5.9 ┆ 6.3 ┆ 87. ┆ 6.9 ┆ 860 ┆ .63 ┆ 492 ┆ .25 ┆ .23 ┆ 074 ┆ .00 ┆ 6.0 ┆     ┆ 5   ┆ lt  ┆     ┆     ┆ e   ┆     ┆ Lea ┆ 1-0 ┆ -   ┆ fie ┆ 98  ┆ b   ┆ 2-0 ┆ 95  ┆ f   ┆     ┆ e   ┆ 2   ┆     ┆ 1/2 ┆ 1   ┆ Pee ┆ Eup ┆     ┆ Eup │\n",
       "│     ┆     ┆     ┆     ┆     ┆     ┆     ┆     ┆     ┆     ┆     ┆     ┆     ┆     ┆     ┆     ┆     ┆     ┆     ┆     ┆     ┆     ┆     ┆     ┆     ┆     ┆     ┆     ┆     ┆     ┆     ┆     ┆     ┆     ┆     ┆     ┆     ┆     ┆     ┆     ┆     ┆     ┆     ┆     ┆     ┆     ┆     ┆     ┆     ┆     ┆     ┆     ┆     ┆     ┆     ┆     ┆     ┆     ┆     ┆     ┆     ┆     ┆     ┆     ┆     ┆     ┆     ┆     ┆     ┆     ┆     ┆     ┆     ┆     ┆     ┆   ┆ 688 ┆ 504 ┆ 531 ┆ 514 ┆     ┆ 013 ┆ 463 ┆ 085 ┆ 545 ┆ 472 ┆ 671 ┆ 548 ┆ 901 ┆ 302 ┆ 911 ┆ 387 ┆ 162 ┆ 296 ┆ 090 ┆ 472 ┆ 411 ┆ 360 ┆ 937 ┆ 276 ┆ 403 ┆ 858 ┆ 647 ┆ 346 ┆ 491 ┆ 386 ┆ 163 ┆ 698 ┆ 583 ┆ 944 ┆ 344 ┆ 525 ┆ 269 ┆ 213 ┆ 430 ┆ 763 ┆ 068 ┆ 32  ┆ 911 ┆ 16  ┆ 236 ┆ 375 ┆ 017 ┆ 555 ┆ 292 ┆     ┆     ┆     ┆     ┆     ┆     ┆     ┆ gue ┆ 7-2 ┆ Pro ┆ ld  ┆     ┆ Bru ┆ 2-0 ┆     ┆ Pee ┆     ┆     ┆     ┆     ┆ 022 ┆     ┆ ter ┆ en  ┆     ┆ en  │\n",
       "│     ┆     ┆     ┆     ┆     ┆     ┆     ┆     ┆     ┆     ┆     ┆     ┆     ┆     ┆     ┆     ┆     ┆     ┆     ┆     ┆     ┆     ┆     ┆     ┆     ┆     ┆     ┆     ┆     ┆     ┆     ┆     ┆     ┆     ┆     ┆     ┆     ┆     ┆     ┆     ┆     ┆     ┆     ┆     ┆     ┆     ┆     ┆     ┆     ┆     ┆     ┆     ┆     ┆     ┆     ┆     ┆     ┆     ┆     ┆     ┆     ┆     ┆     ┆     ┆     ┆     ┆     ┆     ┆     ┆     ┆     ┆     ┆     ┆     ┆     ┆   ┆     ┆     ┆     ┆     ┆     ┆ 87  ┆ 578 ┆ 087 ┆ 214 ┆ 349 ┆ 554 ┆ 754 ┆ 812 ┆ 081 ┆ 6   ┆ 2   ┆ 3   ┆ 34  ┆ 2   ┆ 63  ┆ 97  ┆ 06  ┆     ┆     ┆     ┆ 1   ┆ 9   ┆ 3   ┆ 1   ┆ 6   ┆ 3   ┆     ┆ 3   ┆ 31  ┆ 4   ┆ 97  ┆ 834 ┆ 58  ┆ 29  ┆ 562 ┆ 69  ┆     ┆ 8   ┆     ┆ 3   ┆ 4   ┆     ┆ 4   ┆ 59  ┆     ┆     ┆     ┆     ┆     ┆     ┆     ┆     ┆ 5   ┆ Lea ┆     ┆     ┆ gge ┆ 9   ┆     ┆ ter ┆     ┆     ┆     ┆     ┆     ┆     ┆ s   ┆     ┆     ┆     │\n",
       "│     ┆     ┆     ┆     ┆     ┆     ┆     ┆     ┆     ┆     ┆     ┆     ┆     ┆     ┆     ┆     ┆     ┆     ┆     ┆     ┆     ┆     ┆     ┆     ┆     ┆     ┆     ┆     ┆     ┆     ┆     ┆     ┆     ┆     ┆     ┆     ┆     ┆     ┆     ┆     ┆     ┆     ┆     ┆     ┆     ┆     ┆     ┆     ┆     ┆     ┆     ┆     ┆     ┆     ┆     ┆     ┆     ┆     ┆     ┆     ┆     ┆     ┆     ┆     ┆     ┆     ┆     ┆     ┆     ┆     ┆     ┆     ┆     ┆     ┆     ┆   ┆     ┆     ┆     ┆     ┆     ┆     ┆     ┆     ┆     ┆     ┆     ┆     ┆     ┆     ┆     ┆     ┆     ┆     ┆     ┆     ┆     ┆     ┆     ┆     ┆     ┆     ┆     ┆     ┆     ┆     ┆     ┆     ┆     ┆     ┆     ┆     ┆     ┆     ┆     ┆     ┆     ┆     ┆     ┆     ┆     ┆     ┆     ┆     ┆     ┆     ┆     ┆     ┆     ┆     ┆     ┆     ┆     ┆     ┆ gue ┆     ┆     ┆ KV  ┆     ┆     ┆ s   ┆     ┆     ┆     ┆     ┆     ┆     ┆     ┆     ┆     ┆     │\n",
       "│     ┆     ┆     ┆     ┆     ┆     ┆     ┆     ┆     ┆     ┆     ┆     ┆     ┆     ┆     ┆     ┆     ┆     ┆     ┆     ┆     ┆     ┆     ┆     ┆     ┆     ┆     ┆     ┆     ┆     ┆     ┆     ┆     ┆     ┆     ┆     ┆     ┆     ┆     ┆     ┆     ┆     ┆     ┆     ┆     ┆     ┆     ┆     ┆     ┆     ┆     ┆     ┆     ┆     ┆     ┆     ┆     ┆     ┆     ┆     ┆     ┆     ┆     ┆     ┆     ┆     ┆     ┆     ┆     ┆     ┆     ┆     ┆     ┆     ┆     ┆   ┆     ┆     ┆     ┆     ┆     ┆     ┆     ┆     ┆     ┆     ┆     ┆     ┆     ┆     ┆     ┆     ┆     ┆     ┆     ┆     ┆     ┆     ┆     ┆     ┆     ┆     ┆     ┆     ┆     ┆     ┆     ┆     ┆     ┆     ┆     ┆     ┆     ┆     ┆     ┆     ┆     ┆     ┆     ┆     ┆     ┆     ┆     ┆     ┆     ┆     ┆     ┆     ┆     ┆     ┆     ┆     ┆     ┆     ┆ -   ┆     ┆     ┆ v   ┆     ┆     ┆     ┆     ┆     ┆     ┆     ┆     ┆     ┆     ┆     ┆     ┆     │\n",
       "│     ┆     ┆     ┆     ┆     ┆     ┆     ┆     ┆     ┆     ┆     ┆     ┆     ┆     ┆     ┆     ┆     ┆     ┆     ┆     ┆     ┆     ┆     ┆     ┆     ┆     ┆     ┆     ┆     ┆     ┆     ┆     ┆     ┆     ┆     ┆     ┆     ┆     ┆     ┆     ┆     ┆     ┆     ┆     ┆     ┆     ┆     ┆     ┆     ┆     ┆     ┆     ┆     ┆     ┆     ┆     ┆     ┆     ┆     ┆     ┆     ┆     ┆     ┆     ┆     ┆     ┆     ┆     ┆     ┆     ┆     ┆     ┆     ┆     ┆     ┆   ┆     ┆     ┆     ┆     ┆     ┆     ┆     ┆     ┆     ┆     ┆     ┆     ┆     ┆     ┆     ┆     ┆     ┆     ┆     ┆     ┆     ┆     ┆     ┆     ┆     ┆     ┆     ┆     ┆     ┆     ┆     ┆     ┆     ┆     ┆     ┆     ┆     ┆     ┆     ┆     ┆     ┆     ┆     ┆     ┆     ┆     ┆     ┆     ┆     ┆     ┆     ┆     ┆     ┆     ┆     ┆     ┆     ┆     ┆ 202 ┆     ┆     ┆ KAS ┆     ┆     ┆     ┆     ┆     ┆     ┆     ┆     ┆     ┆     ┆     ┆     ┆     │\n",
       "│     ┆     ┆     ┆     ┆     ┆     ┆     ┆     ┆     ┆     ┆     ┆     ┆     ┆     ┆     ┆     ┆     ┆     ┆     ┆     ┆     ┆     ┆     ┆     ┆     ┆     ┆     ┆     ┆     ┆     ┆     ┆     ┆     ┆     ┆     ┆     ┆     ┆     ┆     ┆     ┆     ┆     ┆     ┆     ┆     ┆     ┆     ┆     ┆     ┆     ┆     ┆     ┆     ┆     ┆     ┆     ┆     ┆     ┆     ┆     ┆     ┆     ┆     ┆     ┆     ┆     ┆     ┆     ┆     ┆     ┆     ┆     ┆     ┆     ┆     ┆   ┆     ┆     ┆     ┆     ┆     ┆     ┆     ┆     ┆     ┆     ┆     ┆     ┆     ┆     ┆     ┆     ┆     ┆     ┆     ┆     ┆     ┆     ┆     ┆     ┆     ┆     ┆     ┆     ┆     ┆     ┆     ┆     ┆     ┆     ┆     ┆     ┆     ┆     ┆     ┆     ┆     ┆     ┆     ┆     ┆     ┆     ┆     ┆     ┆     ┆     ┆     ┆     ┆     ┆     ┆     ┆     ┆     ┆     ┆ 1/2 ┆     ┆     ┆ Eup ┆     ┆     ┆     ┆     ┆     ┆     ┆     ┆     ┆     ┆     ┆     ┆     ┆     │\n",
       "│     ┆     ┆     ┆     ┆     ┆     ┆     ┆     ┆     ┆     ┆     ┆     ┆     ┆     ┆     ┆     ┆     ┆     ┆     ┆     ┆     ┆     ┆     ┆     ┆     ┆     ┆     ┆     ┆     ┆     ┆     ┆     ┆     ┆     ┆     ┆     ┆     ┆     ┆     ┆     ┆     ┆     ┆     ┆     ┆     ┆     ┆     ┆     ┆     ┆     ┆     ┆     ┆     ┆     ┆     ┆     ┆     ┆     ┆     ┆     ┆     ┆     ┆     ┆     ┆     ┆     ┆     ┆     ┆     ┆     ┆     ┆     ┆     ┆     ┆     ┆   ┆     ┆     ┆     ┆     ┆     ┆     ┆     ┆     ┆     ┆     ┆     ┆     ┆     ┆     ┆     ┆     ┆     ┆     ┆     ┆     ┆     ┆     ┆     ┆     ┆     ┆     ┆     ┆     ┆     ┆     ┆     ┆     ┆     ┆     ┆     ┆     ┆     ┆     ┆     ┆     ┆     ┆     ┆     ┆     ┆     ┆     ┆     ┆     ┆     ┆     ┆     ┆     ┆     ┆     ┆     ┆     ┆     ┆     ┆ 022 ┆     ┆     ┆ en  ┆     ┆     ┆     ┆     ┆     ┆     ┆     ┆     ┆     ┆     ┆     ┆     ┆     │\n",
       "└─────┴─────┴─────┴─────┴─────┴─────┴─────┴─────┴─────┴─────┴─────┴─────┴─────┴─────┴─────┴─────┴─────┴─────┴─────┴─────┴─────┴─────┴─────┴─────┴─────┴─────┴─────┴─────┴─────┴─────┴─────┴─────┴─────┴─────┴─────┴─────┴─────┴─────┴─────┴─────┴─────┴─────┴─────┴─────┴─────┴─────┴─────┴─────┴─────┴─────┴─────┴─────┴─────┴─────┴─────┴─────┴─────┴─────┴─────┴─────┴─────┴─────┴─────┴─────┴─────┴─────┴─────┴─────┴─────┴─────┴─────┴─────┴─────┴─────┴─────┴───┴─────┴─────┴─────┴─────┴─────┴─────┴─────┴─────┴─────┴─────┴─────┴─────┴─────┴─────┴─────┴─────┴─────┴─────┴─────┴─────┴─────┴─────┴─────┴─────┴─────┴─────┴─────┴─────┴─────┴─────┴─────┴─────┴─────┴─────┴─────┴─────┴─────┴─────┴─────┴─────┴─────┴─────┴─────┴─────┴─────┴─────┴─────┴─────┴─────┴─────┴─────┴─────┴─────┴─────┴─────┴─────┴─────┴─────┴─────┴─────┴─────┴─────┴─────┴─────┴─────┴─────┴─────┴─────┴─────┴─────┴─────┴─────┴─────┴─────┴─────┘"
      ]
     },
     "execution_count": 5,
>>>>>>> ecf08498a9159a99827573dc94b46897c99c0a13
     "metadata": {},
     "output_type": "execute_result"
    }
   ],
   "source": [
    "pl.Config.set_tbl_cols(150)\n",
    "df.head()"
   ]
  },
  {
   "cell_type": "code",
<<<<<<< HEAD
   "execution_count": 21,
=======
   "execution_count": 6,
>>>>>>> ecf08498a9159a99827573dc94b46897c99c0a13
   "metadata": {},
   "outputs": [],
   "source": [
    "# To avoid testing on the entire data frame a few standard metrics/columns are stored in a list\n",
    "test_metrics = ['P90_Distance','P90_Running Distance','P90_HSR Distance',\n",
    "               'P90_Sprinting Distance', 'PSV-99']"
   ]
  },
  {
   "cell_type": "code",
<<<<<<< HEAD
   "execution_count": 30,
=======
   "execution_count": 10,
>>>>>>> ecf08498a9159a99827573dc94b46897c99c0a13
   "metadata": {},
   "outputs": [
    {
     "data": {
      "text/plain": [
<<<<<<< HEAD
       "(508602, 8)"
      ]
     },
     "execution_count": 30,
=======
       "(449537, 8)"
      ]
     },
     "execution_count": 10,
>>>>>>> ecf08498a9159a99827573dc94b46897c99c0a13
     "metadata": {},
     "output_type": "execute_result"
    }
   ],
   "source": [
    "#create a subset of the df to test the pivot function on a few columns\n",
    "\n",
    "df_subset = df.select(['P90_Distance','P90_Running Distance','P90_HSR Distance',\n",
<<<<<<< HEAD
    "               'P90_Sprinting Distance', 'PSV-99', 'season_name', 'competition_region_division', 'position'])\n",
=======
    "               'P90_Sprinting Distance', 'PSV-99', 'season_name', 'competition_name', 'position'])\n",
>>>>>>> ecf08498a9159a99827573dc94b46897c99c0a13
    "df_subset.shape"
   ]
  },
  {
   "cell_type": "code",
<<<<<<< HEAD
   "execution_count": 31,
=======
   "execution_count": 11,
>>>>>>> ecf08498a9159a99827573dc94b46897c99c0a13
   "metadata": {},
   "outputs": [],
   "source": [
    "wb = \"match_benchmarks.xlsx\""
   ]
  },
  {
   "cell_type": "code",
<<<<<<< HEAD
   "execution_count": 32,
=======
   "execution_count": 12,
>>>>>>> ecf08498a9159a99827573dc94b46897c99c0a13
   "metadata": {},
   "outputs": [
    {
     "name": "stdout",
     "output_type": "stream",
     "text": [
<<<<<<< HEAD
      "['LW', 'LCB', 'DM', 'LF', 'RCB', 'LWB', 'RM', 'CF', 'CB', 'AM', 'LM', 'RWB', 'RW', 'RF']\n"
=======
      "['LF', 'AM', 'CF', 'LCB', 'DM', 'CB', 'LW', 'LM', 'RCB', 'RM', 'RF', 'RWB', 'RW', 'LWB']\n"
>>>>>>> ecf08498a9159a99827573dc94b46897c99c0a13
     ]
    }
   ],
   "source": [
    "positions = df_subset.select('position').unique('position').to_series().to_list()\n",
    "print(positions)"
   ]
  },
  {
   "cell_type": "code",
<<<<<<< HEAD
   "execution_count": 33,
=======
   "execution_count": 13,
>>>>>>> ecf08498a9159a99827573dc94b46897c99c0a13
   "metadata": {},
   "outputs": [],
   "source": [
    "# defining the columns in the dataframe of which benchmarks have to be created\n",
    "test_metrics = ['P90_Distance','P90_Running Distance','P90_HSR Distance',\n",
    "               'P90_Sprinting Distance', 'PSV-99']"
   ]
  },
  {
   "cell_type": "code",
<<<<<<< HEAD
   "execution_count": 34,
=======
   "execution_count": 60,
>>>>>>> ecf08498a9159a99827573dc94b46897c99c0a13
   "metadata": {},
   "outputs": [],
   "source": [
    "stats = {\n",
    "    \"mean\": pl.col(test_metrics).mean(),\n",
    "    \"median\": pl.col(test_metrics).median(),\n",
    "    \"std\": pl.col(test_metrics).std(),\n",
    "    \"q25\": pl.col(test_metrics).quantile(0.25),\n",
    "    \"q75\": pl.col(test_metrics).quantile(0.75),\n",
    "}"
   ]
  },
  {
   "cell_type": "code",
<<<<<<< HEAD
   "execution_count": 35,
   "metadata": {},
   "outputs": [
    {
     "name": "stderr",
     "output_type": "stream",
     "text": [
      " 36%|███▌      | 5/14 [00:00<00:00, 47.67it/s]"
     ]
    },
    {
     "name": "stderr",
     "output_type": "stream",
     "text": [
      "100%|██████████| 14/14 [00:00<00:00, 29.63it/s]\n"
     ]
    },
    {
     "data": {
      "text/html": [
       "<div><style>\n",
       ".dataframe > thead > tr,\n",
       ".dataframe > tbody > tr {\n",
       "  text-align: right;\n",
       "  white-space: pre-wrap;\n",
       "}\n",
       "</style>\n",
       "<small>shape: (53, 2)</small><table border=\"1\" class=\"dataframe\"><thead><tr><th>competition_region_division</th><th>sample_size</th></tr><tr><td>str</td><td>u32</td></tr></thead><tbody><tr><td>&quot;Ecuador_1&quot;</td><td>546</td></tr><tr><td>&quot;Brazil_2&quot;</td><td>424</td></tr><tr><td>&quot;Netherlands_1&quot;</td><td>656</td></tr><tr><td>&quot;Slovakia_1&quot;</td><td>622</td></tr><tr><td>&quot;Czech Republic_1&quot;</td><td>517</td></tr><tr><td>&hellip;</td><td>&hellip;</td></tr><tr><td>&quot;Croatia_1&quot;</td><td>235</td></tr><tr><td>&quot;Sweden_1&quot;</td><td>916</td></tr><tr><td>&quot;Italy_2&quot;</td><td>952</td></tr><tr><td>&quot;Australia_1&quot;</td><td>353</td></tr><tr><td>&quot;Brazil_1&quot;</td><td>721</td></tr></tbody></table></div>"
      ],
      "text/plain": [
       "shape: (53, 2)\n",
       "┌─────────────────────────────┬─────────────┐\n",
       "│ competition_region_division ┆ sample_size │\n",
       "│ ---                         ┆ ---         │\n",
       "│ str                         ┆ u32         │\n",
       "╞═════════════════════════════╪═════════════╡\n",
       "│ Ecuador_1                   ┆ 546         │\n",
       "│ Brazil_2                    ┆ 424         │\n",
       "│ Netherlands_1               ┆ 656         │\n",
       "│ Slovakia_1                  ┆ 622         │\n",
       "│ Czech Republic_1            ┆ 517         │\n",
       "│ …                           ┆ …           │\n",
       "│ Croatia_1                   ┆ 235         │\n",
       "│ Sweden_1                    ┆ 916         │\n",
       "│ Italy_2                     ┆ 952         │\n",
       "│ Australia_1                 ┆ 353         │\n",
       "│ Brazil_1                    ┆ 721         │\n",
       "└─────────────────────────────┴─────────────┘"
      ]
     },
     "execution_count": 35,
     "metadata": {},
     "output_type": "execute_result"
    }
   ],
   "source": [
    "\n",
    "#test\n",
    "for position in tqdm(df_subset.select('position').unique('position').to_series().to_list()):\n",
    "    result_list = []\n",
    "\n",
    "    # determine the sample size per competition\n",
    "    ss = (df_subset\n",
    "        .filter(pl.col(\"position\") == position)\n",
    "        .group_by(\"competition_region_division\")\n",
    "        .agg([\n",
    "            pl.col(\"competition_region_division\").len().alias(\"sample_size\")])\n",
    "    )\n",
    "\n",
    "ss"
   ]
  },
  {
   "cell_type": "code",
   "execution_count": 36,
=======
   "execution_count": 61,
>>>>>>> ecf08498a9159a99827573dc94b46897c99c0a13
   "metadata": {},
   "outputs": [
    {
     "name": "stderr",
     "output_type": "stream",
     "text": [
      "  0%|          | 0/14 [00:00<?, ?it/s]"
     ]
    },
    {
     "name": "stderr",
     "output_type": "stream",
     "text": [
<<<<<<< HEAD
      "100%|██████████| 14/14 [00:03<00:00,  4.38it/s]\n"
=======
      "100%|██████████| 14/14 [00:00<00:00, 38.48it/s]\n"
>>>>>>> ecf08498a9159a99827573dc94b46897c99c0a13
     ]
    },
    {
     "data": {
      "text/html": [
       "<div><style>\n",
       ".dataframe > thead > tr,\n",
       ".dataframe > tbody > tr {\n",
       "  text-align: right;\n",
       "  white-space: pre-wrap;\n",
       "}\n",
       "</style>\n",
<<<<<<< HEAD
       "<small>shape: (265, 7)</small><table border=\"1\" class=\"dataframe\"><thead><tr><th>competition_region_division</th><th>P90_Distance</th><th>P90_Running Distance</th><th>P90_HSR Distance</th><th>P90_Sprinting Distance</th><th>PSV-99</th><th>statistical_measure</th></tr><tr><td>str</td><td>f64</td><td>f64</td><td>f64</td><td>f64</td><td>f64</td><td>str</td></tr></thead><tbody><tr><td>&quot;France_1&quot;</td><td>10416.544216</td><td>1568.170256</td><td>669.576269</td><td>268.661918</td><td>29.530769</td><td>&quot;mean&quot;</td></tr><tr><td>&quot;Chile_1&quot;</td><td>10154.843257</td><td>1495.849453</td><td>631.507792</td><td>220.812403</td><td>28.894921</td><td>&quot;mean&quot;</td></tr><tr><td>&quot;Australia_1&quot;</td><td>10297.986453</td><td>1436.817689</td><td>603.661171</td><td>229.847792</td><td>29.117391</td><td>&quot;mean&quot;</td></tr><tr><td>&quot;Slovakia_1&quot;</td><td>10394.67588</td><td>1497.569425</td><td>647.559013</td><td>253.983335</td><td>29.396215</td><td>&quot;mean&quot;</td></tr><tr><td>&quot;Brazil_2&quot;</td><td>9961.57899</td><td>1385.204351</td><td>568.545137</td><td>192.676328</td><td>28.848837</td><td>&quot;mean&quot;</td></tr><tr><td>&hellip;</td><td>&hellip;</td><td>&hellip;</td><td>&hellip;</td><td>&hellip;</td><td>&hellip;</td><td>&hellip;</td></tr><tr><td>&quot;Costa Rica_1&quot;</td><td>10612.350963</td><td>1637.133448</td><td>708.520648</td><td>270.741521</td><td>29.8</td><td>&quot;q75&quot;</td></tr><tr><td>&quot;France_3&quot;</td><td>10646.049127</td><td>1639.683506</td><td>744.633797</td><td>292.032655</td><td>30.2</td><td>&quot;q75&quot;</td></tr><tr><td>&quot;Portugal_2&quot;</td><td>10088.076923</td><td>1521.04712</td><td>629.701327</td><td>249.376924</td><td>29.9</td><td>&quot;q75&quot;</td></tr><tr><td>&quot;Belgium_2&quot;</td><td>11069.549782</td><td>1781.149818</td><td>762.140614</td><td>300.191693</td><td>29.9</td><td>&quot;q75&quot;</td></tr><tr><td>&quot;Ecuador_1&quot;</td><td>9952.886598</td><td>1406.683359</td><td>635.003054</td><td>250.978474</td><td>30.6</td><td>&quot;q75&quot;</td></tr></tbody></table></div>"
      ],
      "text/plain": [
       "shape: (265, 7)\n",
       "┌──────────────┬──────────────┬──────────────┬─────────────┬─────────────┬───────────┬─────────────┐\n",
       "│ competition_ ┆ P90_Distance ┆ P90_Running  ┆ P90_HSR     ┆ P90_Sprinti ┆ PSV-99    ┆ statistical │\n",
       "│ region_divis ┆ ---          ┆ Distance     ┆ Distance    ┆ ng Distance ┆ ---       ┆ _measure    │\n",
       "│ ion          ┆ f64          ┆ ---          ┆ ---         ┆ ---         ┆ f64       ┆ ---         │\n",
       "│ ---          ┆              ┆ f64          ┆ f64         ┆ f64         ┆           ┆ str         │\n",
       "│ str          ┆              ┆              ┆             ┆             ┆           ┆             │\n",
       "╞══════════════╪══════════════╪══════════════╪═════════════╪═════════════╪═══════════╪═════════════╡\n",
       "│ France_1     ┆ 10416.544216 ┆ 1568.170256  ┆ 669.576269  ┆ 268.661918  ┆ 29.530769 ┆ mean        │\n",
       "│ Chile_1      ┆ 10154.843257 ┆ 1495.849453  ┆ 631.507792  ┆ 220.812403  ┆ 28.894921 ┆ mean        │\n",
       "│ Australia_1  ┆ 10297.986453 ┆ 1436.817689  ┆ 603.661171  ┆ 229.847792  ┆ 29.117391 ┆ mean        │\n",
       "│ Slovakia_1   ┆ 10394.67588  ┆ 1497.569425  ┆ 647.559013  ┆ 253.983335  ┆ 29.396215 ┆ mean        │\n",
       "│ Brazil_2     ┆ 9961.57899   ┆ 1385.204351  ┆ 568.545137  ┆ 192.676328  ┆ 28.848837 ┆ mean        │\n",
       "│ …            ┆ …            ┆ …            ┆ …           ┆ …           ┆ …         ┆ …           │\n",
       "│ Costa Rica_1 ┆ 10612.350963 ┆ 1637.133448  ┆ 708.520648  ┆ 270.741521  ┆ 29.8      ┆ q75         │\n",
       "│ France_3     ┆ 10646.049127 ┆ 1639.683506  ┆ 744.633797  ┆ 292.032655  ┆ 30.2      ┆ q75         │\n",
       "│ Portugal_2   ┆ 10088.076923 ┆ 1521.04712   ┆ 629.701327  ┆ 249.376924  ┆ 29.9      ┆ q75         │\n",
       "│ Belgium_2    ┆ 11069.549782 ┆ 1781.149818  ┆ 762.140614  ┆ 300.191693  ┆ 29.9      ┆ q75         │\n",
       "│ Ecuador_1    ┆ 9952.886598  ┆ 1406.683359  ┆ 635.003054  ┆ 250.978474  ┆ 30.6      ┆ q75         │\n",
       "└──────────────┴──────────────┴──────────────┴─────────────┴─────────────┴───────────┴─────────────┘"
      ]
     },
     "execution_count": 36,
=======
       "<small>shape: (48, 2)</small><table border=\"1\" class=\"dataframe\"><thead><tr><th>competition_name</th><th>sample_size</th></tr><tr><td>str</td><td>u32</td></tr></thead><tbody><tr><td>&quot;MLS Next Pro&quot;</td><td>235</td></tr><tr><td>&quot;Nemzeti Bajnokság&quot;</td><td>62</td></tr><tr><td>&quot;Allsvenskan&quot;</td><td>380</td></tr><tr><td>&quot;Ligue 2&quot;</td><td>222</td></tr><tr><td>&quot;Primera Division - 1st Phase&quot;</td><td>174</td></tr><tr><td>&hellip;</td><td>&hellip;</td></tr><tr><td>&quot;Primera Division RFEF&quot;</td><td>130</td></tr><tr><td>&quot;Premiership&quot;</td><td>136</td></tr><tr><td>&quot;PSL&quot;</td><td>32</td></tr><tr><td>&quot;Division Profesional&quot;</td><td>63</td></tr><tr><td>&quot;3. Liga&quot;</td><td>164</td></tr></tbody></table></div>"
      ],
      "text/plain": [
       "shape: (48, 2)\n",
       "┌──────────────────────────────┬─────────────┐\n",
       "│ competition_name             ┆ sample_size │\n",
       "│ ---                          ┆ ---         │\n",
       "│ str                          ┆ u32         │\n",
       "╞══════════════════════════════╪═════════════╡\n",
       "│ MLS Next Pro                 ┆ 235         │\n",
       "│ Nemzeti Bajnokság            ┆ 62          │\n",
       "│ Allsvenskan                  ┆ 380         │\n",
       "│ Ligue 2                      ┆ 222         │\n",
       "│ Primera Division - 1st Phase ┆ 174         │\n",
       "│ …                            ┆ …           │\n",
       "│ Primera Division RFEF        ┆ 130         │\n",
       "│ Premiership                  ┆ 136         │\n",
       "│ PSL                          ┆ 32          │\n",
       "│ Division Profesional         ┆ 63          │\n",
       "│ 3. Liga                      ┆ 164         │\n",
       "└──────────────────────────────┴─────────────┘"
      ]
     },
     "execution_count": 61,
     "metadata": {},
     "output_type": "execute_result"
    }
   ],
   "source": [
    "\n",
    "#test\n",
    "for position in tqdm(df_subset.select('position').unique('position').to_series().to_list()):\n",
    "    result_list = []\n",
    "\n",
    "    # determine the sample size per competition\n",
    "    ss = (df_subset\n",
    "        .filter(pl.col(\"position\") == position)\n",
    "        .group_by(\"competition_name\")\n",
    "        .agg([\n",
    "            pl.col(\"competition_name\").len().alias(\"sample_size\")])\n",
    "    )\n",
    "\n",
    "ss"
   ]
  },
  {
   "cell_type": "code",
   "execution_count": 57,
   "metadata": {},
   "outputs": [
    {
     "name": "stderr",
     "output_type": "stream",
     "text": [
      "  0%|          | 0/14 [00:00<?, ?it/s]"
     ]
    },
    {
     "name": "stderr",
     "output_type": "stream",
     "text": [
      "100%|██████████| 14/14 [00:02<00:00,  5.61it/s]\n"
     ]
    },
    {
     "data": {
      "text/html": [
       "<div><style>\n",
       ".dataframe > thead > tr,\n",
       ".dataframe > tbody > tr {\n",
       "  text-align: right;\n",
       "  white-space: pre-wrap;\n",
       "}\n",
       "</style>\n",
       "<small>shape: (288, 7)</small><table border=\"1\" class=\"dataframe\"><thead><tr><th>competition_name</th><th>P90_Distance</th><th>P90_Running Distance</th><th>P90_HSR Distance</th><th>P90_Sprinting Distance</th><th>PSV-99</th><th>statistical_measure</th></tr><tr><td>str</td><td>f64</td><td>f64</td><td>f64</td><td>f64</td><td>f64</td><td>str</td></tr></thead><tbody><tr><td>&quot;Europa Conference League&quot;</td><td>10168.637082</td><td>1443.790166</td><td>589.300573</td><td>208.228978</td><td>28.82844</td><td>&quot;mean&quot;</td></tr><tr><td>&quot;Ligue 2&quot;</td><td>10424.017086</td><td>1487.973527</td><td>623.621286</td><td>238.615739</td><td>29.151245</td><td>&quot;mean&quot;</td></tr><tr><td>&quot;LaLiga&quot;</td><td>10124.760362</td><td>1440.153268</td><td>599.922487</td><td>233.4267</td><td>29.328487</td><td>&quot;mean&quot;</td></tr><tr><td>&quot;Allsvenskan&quot;</td><td>10621.733887</td><td>1582.645956</td><td>670.636316</td><td>247.688843</td><td>29.285215</td><td>&quot;mean&quot;</td></tr><tr><td>&quot;Major League Soccer&quot;</td><td>10033.487827</td><td>1455.533105</td><td>619.03823</td><td>234.369904</td><td>29.542359</td><td>&quot;mean&quot;</td></tr><tr><td>&hellip;</td><td>&hellip;</td><td>&hellip;</td><td>&hellip;</td><td>&hellip;</td><td>&hellip;</td><td>&hellip;</td></tr><tr><td>&quot;Segunda Liga&quot;</td><td>183.0</td><td>183.0</td><td>183.0</td><td>183.0</td><td>183.0</td><td>&quot;sample_size&quot;</td></tr><tr><td>&quot;Premier League&quot;</td><td>233.0</td><td>233.0</td><td>233.0</td><td>233.0</td><td>233.0</td><td>&quot;sample_size&quot;</td></tr><tr><td>&quot;Eerste Divisie&quot;</td><td>329.0</td><td>329.0</td><td>329.0</td><td>329.0</td><td>329.0</td><td>&quot;sample_size&quot;</td></tr><tr><td>&quot;Premiership&quot;</td><td>298.0</td><td>298.0</td><td>298.0</td><td>298.0</td><td>298.0</td><td>&quot;sample_size&quot;</td></tr><tr><td>&quot;Liga 1&quot;</td><td>163.0</td><td>163.0</td><td>163.0</td><td>163.0</td><td>163.0</td><td>&quot;sample_size&quot;</td></tr></tbody></table></div>"
      ],
      "text/plain": [
       "shape: (288, 7)\n",
       "┌──────────────┬──────────────┬──────────────┬─────────────┬─────────────┬───────────┬─────────────┐\n",
       "│ competition_ ┆ P90_Distance ┆ P90_Running  ┆ P90_HSR     ┆ P90_Sprinti ┆ PSV-99    ┆ statistical │\n",
       "│ name         ┆ ---          ┆ Distance     ┆ Distance    ┆ ng Distance ┆ ---       ┆ _measure    │\n",
       "│ ---          ┆ f64          ┆ ---          ┆ ---         ┆ ---         ┆ f64       ┆ ---         │\n",
       "│ str          ┆              ┆ f64          ┆ f64         ┆ f64         ┆           ┆ str         │\n",
       "╞══════════════╪══════════════╪══════════════╪═════════════╪═════════════╪═══════════╪═════════════╡\n",
       "│ Europa       ┆ 10168.637082 ┆ 1443.790166  ┆ 589.300573  ┆ 208.228978  ┆ 28.82844  ┆ mean        │\n",
       "│ Conference   ┆              ┆              ┆             ┆             ┆           ┆             │\n",
       "│ League       ┆              ┆              ┆             ┆             ┆           ┆             │\n",
       "│ Ligue 2      ┆ 10424.017086 ┆ 1487.973527  ┆ 623.621286  ┆ 238.615739  ┆ 29.151245 ┆ mean        │\n",
       "│ LaLiga       ┆ 10124.760362 ┆ 1440.153268  ┆ 599.922487  ┆ 233.4267    ┆ 29.328487 ┆ mean        │\n",
       "│ Allsvenskan  ┆ 10621.733887 ┆ 1582.645956  ┆ 670.636316  ┆ 247.688843  ┆ 29.285215 ┆ mean        │\n",
       "│ Major League ┆ 10033.487827 ┆ 1455.533105  ┆ 619.03823   ┆ 234.369904  ┆ 29.542359 ┆ mean        │\n",
       "│ Soccer       ┆              ┆              ┆             ┆             ┆           ┆             │\n",
       "│ …            ┆ …            ┆ …            ┆ …           ┆ …           ┆ …         ┆ …           │\n",
       "│ Segunda Liga ┆ 183.0        ┆ 183.0        ┆ 183.0       ┆ 183.0       ┆ 183.0     ┆ sample_size │\n",
       "│ Premier      ┆ 233.0        ┆ 233.0        ┆ 233.0       ┆ 233.0       ┆ 233.0     ┆ sample_size │\n",
       "│ League       ┆              ┆              ┆             ┆             ┆           ┆             │\n",
       "│ Eerste       ┆ 329.0        ┆ 329.0        ┆ 329.0       ┆ 329.0       ┆ 329.0     ┆ sample_size │\n",
       "│ Divisie      ┆              ┆              ┆             ┆             ┆           ┆             │\n",
       "│ Premiership  ┆ 298.0        ┆ 298.0        ┆ 298.0       ┆ 298.0       ┆ 298.0     ┆ sample_size │\n",
       "│ Liga 1       ┆ 163.0        ┆ 163.0        ┆ 163.0       ┆ 163.0       ┆ 163.0     ┆ sample_size │\n",
       "└──────────────┴──────────────┴──────────────┴─────────────┴─────────────┴───────────┴─────────────┘"
      ]
     },
     "execution_count": 57,
>>>>>>> ecf08498a9159a99827573dc94b46897c99c0a13
     "metadata": {},
     "output_type": "execute_result"
    }
   ],
   "source": [
    "\n",
    "#test\n",
    "for position in tqdm(df_subset.select('position').unique('position').to_series().to_list()):\n",
    "    result_list = []\n",
    "\n",
    "    for stat_name, stat_expr in stats.items():\n",
    "        # Filter for this specific position\n",
    "        df_pos = df_subset.filter(pl.col(\"position\") == position)\n",
    "\n",
    "        result = (\n",
    "            df_pos\n",
<<<<<<< HEAD
    "            .group_by(\"competition_region_division\")\n",
=======
    "            .group_by(\"competition_name\")\n",
>>>>>>> ecf08498a9159a99827573dc94b46897c99c0a13
    "            .agg([stat_expr])\n",
    "            .with_columns(pl.lit(stat_name).alias(\"statistical_measure\"))\n",
    "        )\n",
    "        result_list.append(result)\n",
    "\n",
    "        # Combine all results in a dataframe to write to a position sheet of the excel\n",
    "    df2write = pl.concat(result_list)\n",
    "\n",
    "df2write"
   ]
  },
  {
   "cell_type": "code",
<<<<<<< HEAD
   "execution_count": 39,
=======
   "execution_count": 62,
>>>>>>> ecf08498a9159a99827573dc94b46897c99c0a13
   "metadata": {},
   "outputs": [
    {
     "name": "stderr",
     "output_type": "stream",
     "text": [
      "  0%|          | 0/14 [00:00<?, ?it/s]"
     ]
    },
    {
     "name": "stderr",
     "output_type": "stream",
     "text": [
<<<<<<< HEAD
      "100%|██████████| 14/14 [00:03<00:00,  3.60it/s]\n"
=======
      "100%|██████████| 14/14 [00:01<00:00,  7.26it/s]\n"
>>>>>>> ecf08498a9159a99827573dc94b46897c99c0a13
     ]
    }
   ],
   "source": [
    "\n",
    "#counter = 0\n",
    "with xlsxwriter.Workbook(\"match_benchmarks_stat_grouped.xlsx\") as wb:\n",
    "\n",
    "    for position in tqdm(df_subset.select('position').unique('position').to_series().to_list()):\n",
    "        result_list = []\n",
    "\n",
    "        # determine the sample size per competition\n",
    "        ss = (df_subset\n",
    "            .filter(pl.col(\"position\") == position)\n",
<<<<<<< HEAD
    "            .group_by(\"competition_region_division\")\n",
    "            .agg([\n",
    "                pl.col(\"competition_region_division\").len().alias(\"sample_size\")])\n",
=======
    "            .group_by(\"competition_name\")\n",
    "            .agg([\n",
    "                pl.col(\"competition_name\").len().alias(\"sample_size\")])\n",
>>>>>>> ecf08498a9159a99827573dc94b46897c99c0a13
    "        )\n",
    "\n",
    "        #if counter >= 1:\n",
    "        #    break\n",
    "        #counter += 1\n",
    "\n",
    "        # Filter for this specific position\n",
    "        df_pos = df_subset.filter(pl.col(\"position\") == position)\n",
    "\n",
    "        #print(df_pos)\n",
    "\n",
    "        for stat_name, stat_expr in stats.items():\n",
    "            result = (\n",
    "                df_pos\n",
    "                .group_by(\"competition_region_division\")\n",
    "                .agg([stat_expr])\n",
    "                .with_columns(pl.lit(stat_name).alias(\"statistical_measure\"))\n",
    "            )\n",
    "            result_list.append(result)\n",
    "\n",
    "        # Combine all results in a dataframe to write to a position sheet of the excel\n",
    "        df2write = pl.concat(result_list)\n",
    "        #print(df2write)\n",
    "\n",
    "        # put columns in the prefered order\n",
<<<<<<< HEAD
    "        df2write = df2write.select([\"competition_region_division\",\"statistical_measure\"]+test_metrics)\n",
    "\n",
    "        df2write = ss.join(df2write, on=\"competition_region_division\")\n",
    "\n",
    "        df2write = df2write.rename({\"competition_region_division\":\"Competition\"})\n",
=======
    "        df2write = df2write.select([\"competition_name\",\"statistical_measure\"]+test_metrics)\n",
    "\n",
    "        df2write = ss.join(df2write, on=\"competition_name\")\n",
>>>>>>> ecf08498a9159a99827573dc94b46897c99c0a13
    "\n",
    "        # Create the worksheet so we can reuse it later.\n",
    "        worksheet = wb.add_worksheet(position)\n",
    "\n",
    "        # write the dataframe to the excel\n",
    "        df2write.write_excel(\n",
    "            workbook=wb, \n",
    "            worksheet = worksheet,\n",
    "            autofit = True,\n",
    "            float_precision = 1,\n",
    "            freeze_panes = (1,0),\n",
    "            header_format = {\"bold\": True}\n",
    "        )\n",
    "    \n"
   ]
  },
  {
   "cell_type": "markdown",
   "metadata": {},
   "source": [
    "## Addapted version\n",
    "the following changes were brought to the dataframe\n",
    "- removed season column (just grouped on competition for larger sample size)\n",
    "- only keep: mean - median -std - quantiles 25 & 75\n",
    "- use a seperate column for each statistical measure instead of 1 column to filter on."
   ]
  },
  {
   "cell_type": "code",
   "execution_count": 45,
   "metadata": {},
   "outputs": [],
   "source": [
    "stats2 = {\n",
    "    \"mean\": pl.col(test_metrics).mean().name.suffix(\"_mean\"),\n",
    "    \"median\": pl.col(test_metrics).median().name.suffix(\"_median\"),\n",
    "    \"std\": pl.col(test_metrics).std().name.suffix(\"_std\"),\n",
    "    \"q25\": pl.col(test_metrics).quantile(0.25).name.suffix(\"_q25\"),\n",
    "    \"q75\": pl.col(test_metrics).quantile(0.75).name.suffix(\"_q75\"),\n",
    "    \"sample_size\": pl.col(test_metrics).len().cast(pl.Float64).name.suffix(\"_sample_size\"),\n",
    "}"
   ]
  },
  {
   "cell_type": "code",
<<<<<<< HEAD
   "execution_count": 40,
=======
   "execution_count": 52,
>>>>>>> ecf08498a9159a99827573dc94b46897c99c0a13
   "metadata": {},
   "outputs": [
    {
     "name": "stderr",
     "output_type": "stream",
     "text": [
<<<<<<< HEAD
      "  7%|▋         | 1/14 [00:00<00:04,  3.17it/s]"
=======
      "  0%|          | 0/14 [00:00<?, ?it/s]"
>>>>>>> ecf08498a9159a99827573dc94b46897c99c0a13
     ]
    },
    {
     "name": "stderr",
     "output_type": "stream",
     "text": [
<<<<<<< HEAD
      "100%|██████████| 14/14 [00:05<00:00,  2.48it/s]\n"
=======
      "100%|██████████| 14/14 [00:01<00:00,  7.28it/s]\n"
>>>>>>> ecf08498a9159a99827573dc94b46897c99c0a13
     ]
    }
   ],
   "source": [
    "\n",
    "with xlsxwriter.Workbook(\"match_benchmarks_stat_sep.xlsx\") as wb:\n",
    "\n",
    "    for position in tqdm(df_subset.select('position').unique('position').to_series().to_list()):\n",
    "        result_list = []\n",
    "\n",
    "        # determine the sample size per competition\n",
    "        ss = (df_subset\n",
    "            .filter(pl.col(\"position\") == position)\n",
<<<<<<< HEAD
    "            .group_by(\"competition_region_division\")\n",
    "            .agg([\n",
    "                pl.col(\"competition_region_division\").len().alias(\"sample_size\")])\n",
=======
    "            .group_by(\"competition_name\")\n",
    "            .agg([\n",
    "                pl.col(\"competition_name\").len().alias(\"sample_size\")])\n",
>>>>>>> ecf08498a9159a99827573dc94b46897c99c0a13
    "        )\n",
    "        result_list.append(ss)\n",
    "\n",
    "        # Filter for this specific position\n",
    "        for metric in test_metrics:\n",
    "            result = (\n",
    "                df_subset\n",
    "                .filter(pl.col(\"position\") == position)\n",
    "                .group_by(\"competition_region_division\")\n",
    "                .agg(\n",
    "                    [pl.col(metric).mean().alias(f\"{metric}_mean\")] +\n",
    "                    [pl.col(metric).median().alias(f\"{metric}_median\")] + \n",
    "                    [pl.col(metric).std().alias(f\"{metric}_std\")] + \n",
    "                    [pl.col(metric).quantile(0.25).alias(f\"{metric}_25%_percentile\")]+\n",
    "                    [pl.col(metric).quantile(0.75).alias(f\"{metric}_75%_percentile\")]\n",
    "                )\n",
    "            )   \n",
    "\n",
    "            result_list.append(result)\n",
    "\n",
    "        # Combine all results in a dataframe to write to a position sheet of the excel\n",
    "        df2write = pl.concat(result_list, how='align')\n",
    "        #print(df2write)\n",
    "\n",
    "        df2write = df2write.rename({\"competition_region_division\":\"Competition\"})\n",
    "\n",
    "        # Create the worksheet so we can reuse it later.\n",
    "        worksheet = wb.add_worksheet(position)\n",
    "\n",
    "        # write the dataframe to the excel\n",
    "        df2write.write_excel(\n",
    "            workbook=wb, \n",
    "            worksheet = worksheet,\n",
    "            autofit = True,\n",
    "            float_precision = 1,\n",
    "            freeze_panes = (1,0),\n",
    "            header_format = {\"bold\": True}\n",
    "        )"
   ]
  },
  {
   "cell_type": "code",
   "execution_count": null,
   "metadata": {},
   "outputs": [],
   "source": []
  },
  {
   "cell_type": "code",
   "execution_count": null,
   "metadata": {},
   "outputs": [],
   "source": []
  }
 ],
 "metadata": {
  "kernelspec": {
   "display_name": "usr",
   "language": "python",
   "name": "python3"
  },
  "language_info": {
   "codemirror_mode": {
    "name": "ipython",
    "version": 3
   },
   "file_extension": ".py",
   "mimetype": "text/x-python",
   "name": "python",
   "nbconvert_exporter": "python",
   "pygments_lexer": "ipython3",
   "version": "3.12.7"
  }
 },
 "nbformat": 4,
 "nbformat_minor": 2
}
