{
 "cells": [
  {
   "cell_type": "code",
   "execution_count": 1,
   "id": "3219ed5d",
   "metadata": {},
   "outputs": [],
   "source": [
    "import polars.selectors as cs\n",
    "import polars as pl\n",
    "import plotly as plt\n",
    "import plotly.io as pio\n",
    "import plotly.express as px\n",
    "import plotly.graph_objects as go\n",
    "import numpy as np\n",
    "from scipy.stats import f_oneway\n",
    "from scipy.stats import tukey_hsd\n",
    "from tqdm import tqdm\n",
    "import xlsxwriter\n",
    "import openpyxl\n",
    "from openpyxl import load_workbook\n",
    "from openpyxl.utils.dataframe import dataframe_to_rows\n",
    "import statistics\n",
    "import os\n"
   ]
  },
  {
   "cell_type": "code",
   "execution_count": 2,
   "id": "09323940",
   "metadata": {},
   "outputs": [],
   "source": [
    "parquet_path = \"./parquet4visual.parquet\""
   ]
  },
  {
   "cell_type": "code",
   "execution_count": 3,
   "id": "c4619954",
   "metadata": {},
   "outputs": [],
   "source": [
    "# get the required columns\n",
    "df = pl.read_parquet(parquet_path,\n",
    "   columns = [\n",
    "      'competition_region_division', \n",
    "      'position_grouped', \n",
    "      'PSV-99',\n",
    "      'P90 HSR Distance',\n",
    "   ])"
   ]
  },
  {
   "cell_type": "code",
   "execution_count": 4,
   "id": "d0e397f9",
   "metadata": {},
   "outputs": [
    {
     "data": {
      "text/html": [
       "<div><style>\n",
       ".dataframe > thead > tr,\n",
       ".dataframe > tbody > tr {\n",
       "  text-align: right;\n",
       "  white-space: pre-wrap;\n",
       "}\n",
       "</style>\n",
       "<small>shape: (52, 4)</small><table border=\"1\" class=\"dataframe\"><thead><tr><th>competition_region_division</th><th>position_grouped</th><th>PSV-99</th><th>P90 HSR Distance</th></tr><tr><td>str</td><td>str</td><td>f64</td><td>f64</td></tr></thead><tbody><tr><td>&quot;Europe 1&quot;</td><td>&quot;AM&quot;</td><td>32.1</td><td>645.109908</td></tr><tr><td>&quot;Czech Republic 1&quot;</td><td>&quot;AM&quot;</td><td>28.9</td><td>763.000598</td></tr><tr><td>&quot;Switzerland 1&quot;</td><td>&quot;AM&quot;</td><td>28.2</td><td>618.16765</td></tr><tr><td>&quot;Sweden 1&quot;</td><td>&quot;AM&quot;</td><td>28.1</td><td>606.639839</td></tr><tr><td>&quot;Belgium 2&quot;</td><td>&quot;AM&quot;</td><td>28.6</td><td>663.331181</td></tr><tr><td>&quot;Greece 1&quot;</td><td>&quot;AM&quot;</td><td>27.7</td><td>496.597215</td></tr><tr><td>&quot;Ecuador 1&quot;</td><td>&quot;AM&quot;</td><td>28.4</td><td>646.158494</td></tr><tr><td>&quot;USA 3&quot;</td><td>&quot;AM&quot;</td><td>31.7</td><td>373.921666</td></tr><tr><td>&quot;Netherlands 1&quot;</td><td>&quot;AM&quot;</td><td>29.7</td><td>547.112462</td></tr><tr><td>&quot;Chile 1&quot;</td><td>&quot;AM&quot;</td><td>28.3</td><td>654.080908</td></tr><tr><td>&quot;South Africa 1&quot;</td><td>&quot;AM&quot;</td><td>27.4</td><td>591.122788</td></tr><tr><td>&quot;Argentina 1&quot;</td><td>&quot;AM&quot;</td><td>27.8</td><td>726.424013</td></tr><tr><td>&quot;Austria 1&quot;</td><td>&quot;AM&quot;</td><td>27.1</td><td>368.928296</td></tr><tr><td>&quot;Japan 1&quot;</td><td>&quot;AM&quot;</td><td>26.3</td><td>908.742331</td></tr><tr><td>&quot;Netherlands 2&quot;</td><td>&quot;AM&quot;</td><td>26.9</td><td>898.374473</td></tr><tr><td>&quot;Brazil 2&quot;</td><td>&quot;AM&quot;</td><td>29.6</td><td>780.955476</td></tr><tr><td>&quot;Colombia 1&quot;</td><td>&quot;AM&quot;</td><td>29.7</td><td>484.300222</td></tr><tr><td>&quot;Serbia 1&quot;</td><td>&quot;AM&quot;</td><td>27.9</td><td>581.763298</td></tr><tr><td>&quot;Spain 1&quot;</td><td>&quot;AM&quot;</td><td>26.7</td><td>712.629836</td></tr><tr><td>&quot;Belgium 1&quot;</td><td>&quot;AM&quot;</td><td>25.7</td><td>693.883887</td></tr><tr><td>&quot;Germany 2&quot;</td><td>&quot;AM&quot;</td><td>28.7</td><td>746.467336</td></tr><tr><td>&quot;Hungary 1&quot;</td><td>&quot;AM&quot;</td><td>28.6</td><td>741.275012</td></tr><tr><td>&quot;Romania 1&quot;</td><td>&quot;AM&quot;</td><td>28.5</td><td>463.297484</td></tr><tr><td>&quot;Portugal 2&quot;</td><td>&quot;AM&quot;</td><td>28.7</td><td>423.151317</td></tr><tr><td>&quot;Slovakia 1&quot;</td><td>&quot;AM&quot;</td><td>23.5</td><td>309.295775</td></tr><tr><td>&hellip;</td><td>&hellip;</td><td>&hellip;</td><td>&hellip;</td></tr><tr><td>&quot;Spain 2&quot;</td><td>&quot;AM&quot;</td><td>26.5</td><td>359.896059</td></tr><tr><td>&quot;Norway 1&quot;</td><td>&quot;AM&quot;</td><td>30.8</td><td>673.102327</td></tr><tr><td>&quot;Europe&nbsp;&nbsp;3&quot;</td><td>&quot;AM&quot;</td><td>28.3</td><td>604.227479</td></tr><tr><td>&quot;Italy 2&quot;</td><td>&quot;AM&quot;</td><td>29.8</td><td>801.058722</td></tr><tr><td>&quot;Uruguay 1&quot;</td><td>&quot;AM&quot;</td><td>27.6</td><td>520.075963</td></tr><tr><td>&quot;France 1&quot;</td><td>&quot;AM&quot;</td><td>28.5</td><td>540.396102</td></tr><tr><td>&quot;Japan 2&quot;</td><td>&quot;AM&quot;</td><td>28.1</td><td>746.608452</td></tr><tr><td>&quot;Australia 1&quot;</td><td>&quot;AM&quot;</td><td>27.9</td><td>589.398123</td></tr><tr><td>&quot;Mexico 1&quot;</td><td>&quot;AM&quot;</td><td>27.3</td><td>697.50307</td></tr><tr><td>&quot;France 3&quot;</td><td>&quot;AM&quot;</td><td>25.8</td><td>629.076501</td></tr><tr><td>&quot;Portugal 1&quot;</td><td>&quot;AM&quot;</td><td>26.2</td><td>459.012805</td></tr><tr><td>&quot;Italy 1&quot;</td><td>&quot;AM&quot;</td><td>28.8</td><td>488.610135</td></tr><tr><td>&quot;Paraguay 1&quot;</td><td>&quot;AM&quot;</td><td>24.1</td><td>224.768756</td></tr><tr><td>&quot;South Korea 1&quot;</td><td>&quot;AM&quot;</td><td>28.9</td><td>433.375573</td></tr><tr><td>&quot;Croatia 1&quot;</td><td>&quot;AM&quot;</td><td>31.4</td><td>721.324882</td></tr><tr><td>null</td><td>&quot;AM&quot;</td><td>27.9</td><td>628.344107</td></tr><tr><td>&quot;Poland 1&quot;</td><td>&quot;AM&quot;</td><td>26.6</td><td>276.678846</td></tr><tr><td>&quot;Spain 3&quot;</td><td>&quot;AM&quot;</td><td>24.7</td><td>442.885562</td></tr><tr><td>&quot;Scotland 1&quot;</td><td>&quot;AM&quot;</td><td>26.1</td><td>591.887635</td></tr><tr><td>&quot;Germany 1&quot;</td><td>&quot;AM&quot;</td><td>28.5</td><td>535.256091</td></tr><tr><td>&quot;Denmark 1&quot;</td><td>&quot;AM&quot;</td><td>26.4</td><td>609.611504</td></tr><tr><td>&quot;England 2&quot;</td><td>&quot;AM&quot;</td><td>28.1</td><td>770.23833</td></tr><tr><td>&quot;USA 1&quot;</td><td>&quot;AM&quot;</td><td>25.8</td><td>376.296762</td></tr><tr><td>&quot;France 2&quot;</td><td>&quot;AM&quot;</td><td>29.4</td><td>519.974835</td></tr><tr><td>&quot;Germany 3&quot;</td><td>&quot;AM&quot;</td><td>26.1</td><td>602.818052</td></tr></tbody></table></div>"
      ],
      "text/plain": [
       "shape: (52, 4)\n",
       "┌─────────────────────────────┬──────────────────┬────────┬──────────────────┐\n",
       "│ competition_region_division ┆ position_grouped ┆ PSV-99 ┆ P90 HSR Distance │\n",
       "│ ---                         ┆ ---              ┆ ---    ┆ ---              │\n",
       "│ str                         ┆ str              ┆ f64    ┆ f64              │\n",
       "╞═════════════════════════════╪══════════════════╪════════╪══════════════════╡\n",
       "│ Europe 1                    ┆ AM               ┆ 32.1   ┆ 645.109908       │\n",
       "│ Czech Republic 1            ┆ AM               ┆ 28.9   ┆ 763.000598       │\n",
       "│ Switzerland 1               ┆ AM               ┆ 28.2   ┆ 618.16765        │\n",
       "│ Sweden 1                    ┆ AM               ┆ 28.1   ┆ 606.639839       │\n",
       "│ Belgium 2                   ┆ AM               ┆ 28.6   ┆ 663.331181       │\n",
       "│ Greece 1                    ┆ AM               ┆ 27.7   ┆ 496.597215       │\n",
       "│ Ecuador 1                   ┆ AM               ┆ 28.4   ┆ 646.158494       │\n",
       "│ USA 3                       ┆ AM               ┆ 31.7   ┆ 373.921666       │\n",
       "│ Netherlands 1               ┆ AM               ┆ 29.7   ┆ 547.112462       │\n",
       "│ Chile 1                     ┆ AM               ┆ 28.3   ┆ 654.080908       │\n",
       "│ South Africa 1              ┆ AM               ┆ 27.4   ┆ 591.122788       │\n",
       "│ Argentina 1                 ┆ AM               ┆ 27.8   ┆ 726.424013       │\n",
       "│ Austria 1                   ┆ AM               ┆ 27.1   ┆ 368.928296       │\n",
       "│ Japan 1                     ┆ AM               ┆ 26.3   ┆ 908.742331       │\n",
       "│ Netherlands 2               ┆ AM               ┆ 26.9   ┆ 898.374473       │\n",
       "│ Brazil 2                    ┆ AM               ┆ 29.6   ┆ 780.955476       │\n",
       "│ Colombia 1                  ┆ AM               ┆ 29.7   ┆ 484.300222       │\n",
       "│ Serbia 1                    ┆ AM               ┆ 27.9   ┆ 581.763298       │\n",
       "│ Spain 1                     ┆ AM               ┆ 26.7   ┆ 712.629836       │\n",
       "│ Belgium 1                   ┆ AM               ┆ 25.7   ┆ 693.883887       │\n",
       "│ Germany 2                   ┆ AM               ┆ 28.7   ┆ 746.467336       │\n",
       "│ Hungary 1                   ┆ AM               ┆ 28.6   ┆ 741.275012       │\n",
       "│ Romania 1                   ┆ AM               ┆ 28.5   ┆ 463.297484       │\n",
       "│ Portugal 2                  ┆ AM               ┆ 28.7   ┆ 423.151317       │\n",
       "│ Slovakia 1                  ┆ AM               ┆ 23.5   ┆ 309.295775       │\n",
       "│ …                           ┆ …                ┆ …      ┆ …                │\n",
       "│ Spain 2                     ┆ AM               ┆ 26.5   ┆ 359.896059       │\n",
       "│ Norway 1                    ┆ AM               ┆ 30.8   ┆ 673.102327       │\n",
       "│ Europe  3                   ┆ AM               ┆ 28.3   ┆ 604.227479       │\n",
       "│ Italy 2                     ┆ AM               ┆ 29.8   ┆ 801.058722       │\n",
       "│ Uruguay 1                   ┆ AM               ┆ 27.6   ┆ 520.075963       │\n",
       "│ France 1                    ┆ AM               ┆ 28.5   ┆ 540.396102       │\n",
       "│ Japan 2                     ┆ AM               ┆ 28.1   ┆ 746.608452       │\n",
       "│ Australia 1                 ┆ AM               ┆ 27.9   ┆ 589.398123       │\n",
       "│ Mexico 1                    ┆ AM               ┆ 27.3   ┆ 697.50307        │\n",
       "│ France 3                    ┆ AM               ┆ 25.8   ┆ 629.076501       │\n",
       "│ Portugal 1                  ┆ AM               ┆ 26.2   ┆ 459.012805       │\n",
       "│ Italy 1                     ┆ AM               ┆ 28.8   ┆ 488.610135       │\n",
       "│ Paraguay 1                  ┆ AM               ┆ 24.1   ┆ 224.768756       │\n",
       "│ South Korea 1               ┆ AM               ┆ 28.9   ┆ 433.375573       │\n",
       "│ Croatia 1                   ┆ AM               ┆ 31.4   ┆ 721.324882       │\n",
       "│ null                        ┆ AM               ┆ 27.9   ┆ 628.344107       │\n",
       "│ Poland 1                    ┆ AM               ┆ 26.6   ┆ 276.678846       │\n",
       "│ Spain 3                     ┆ AM               ┆ 24.7   ┆ 442.885562       │\n",
       "│ Scotland 1                  ┆ AM               ┆ 26.1   ┆ 591.887635       │\n",
       "│ Germany 1                   ┆ AM               ┆ 28.5   ┆ 535.256091       │\n",
       "│ Denmark 1                   ┆ AM               ┆ 26.4   ┆ 609.611504       │\n",
       "│ England 2                   ┆ AM               ┆ 28.1   ┆ 770.23833        │\n",
       "│ USA 1                       ┆ AM               ┆ 25.8   ┆ 376.296762       │\n",
       "│ France 2                    ┆ AM               ┆ 29.4   ┆ 519.974835       │\n",
       "│ Germany 3                   ┆ AM               ┆ 26.1   ┆ 602.818052       │\n",
       "└─────────────────────────────┴──────────────────┴────────┴──────────────────┘"
      ]
     },
     "execution_count": 4,
     "metadata": {},
     "output_type": "execute_result"
    }
   ],
   "source": [
    "pl.Config.set_tbl_rows(50)\n",
    "df.unique('competition_region_division')"
   ]
  },
  {
   "cell_type": "code",
   "execution_count": 5,
   "id": "e0639599",
   "metadata": {},
   "outputs": [],
   "source": [
    "positions = df.unique('position_grouped')"
   ]
  },
  {
   "cell_type": "code",
   "execution_count": 6,
   "id": "a7542efa",
   "metadata": {},
   "outputs": [],
   "source": [
    "# hardcode the names of the different metric columns that have to be analyzed\n",
    "metrics = ['PSV-99', 'P90 HSR Distance',]"
   ]
  },
  {
   "cell_type": "code",
   "execution_count": null,
   "id": "8bf5484e",
   "metadata": {},
   "outputs": [
    {
     "name": "stderr",
     "output_type": "stream",
     "text": [
      "  0%|          | 0/2 [00:00<?, ?it/s]"
     ]
    },
    {
     "name": "stderr",
     "output_type": "stream",
     "text": [
      "/home/ianh/miniconda3/envs/club_brugge/lib/python3.13/site-packages/scipy/integrate/_quadpack_py.py:1260: IntegrationWarning: The integral is probably divergent, or slowly convergent.\n",
      "  quad_r = quad(f, low, high, args=args, full_output=self.full_output,\n",
      "100%|██████████| 2/2 [09:37<00:00, 288.68s/it]\n"
     ]
    }
   ],
   "source": [
    "\n",
    "values_by_metric = {} \n",
    "\n",
    "# loop through the metrics \n",
    "for metric in tqdm(metrics):\n",
    "    # create an empty dictionary to store the metric values per position\n",
    "    values_by_metric[metric] = {} \n",
    "    \n",
    "    # select only the columns competition name, position and the metric of interest for further use\n",
    "    mdf = df.select(['competition_region_division', 'position_grouped', metric])\n",
    "    \n",
    "    # loop through the different positions\n",
    "    for position in sorted(positions['position_grouped'].to_list()):\n",
    "        \n",
    "        # filter the data frame on the position\n",
    "        stat_df = mdf.filter(pl.col(\"position_grouped\") == position)\n",
    "        \n",
    "        # group the metric values per competition in a list (needed as input for tukey hsd)\n",
    "        grouped_stats = stat_df.group_by(\"competition_region_division\").agg([\n",
    "            pl.col(metric)\n",
    "        ])\n",
    "        \n",
    "        valid_groups = {\n",
    "            row[\"competition_region_division\"]: row[metric] # returns a dictionary --> competition_name: [metric values]\n",
    "            for row in grouped_stats.iter_rows(named=True) # iter_rows returns a dictionary row{col1_value: col2_value}\n",
    "            if row[\"competition_region_division\"] is not None and len(row[metric]) > 1 # filters out null competitions and competitions with 1 or less metric values\n",
    "        }\n",
    "        #print(valid_groups)\n",
    "        group_names = sorted(valid_groups.keys()) # sort the competition names so results are in same order and can be joined across competitions\n",
    "        group_values = [valid_groups[key] for key in group_names]\n",
    "        result = tukey_hsd(*group_values)\n",
    "\n",
    "        n_groups = len(group_names)\n",
    "\n",
    "        rows = []\n",
    "        # Loop through all pairs\n",
    "        for i in range(n_groups):\n",
    "            for j in range(i + 1, n_groups):\n",
    "                \n",
    "                rows.append({\n",
    "                    f\"Competitions\": f\"{group_names[i]} - {group_names[j]}\",\n",
    "                    f\"Statistic {position}\": round(result.statistic[i, j], 4),\n",
    "                    f\"P-value {position}\": round(result.pvalue[i, j], 4),\n",
    "                    f\"Standard Error {position}\": round(result._stand_err[i, j], 4),\n",
    "                    #f\"Mean {group_names[i]}\": statistics.mean(group_values[i]),\n",
    "                    #f\"Mean {group_names[j]}\": statistics.mean(group_values[j]),\n",
    "                    #f\"SD {group_names[i]}\":statistics.stdev(group_values[i]),\n",
    "                    #f\"SD {group_names[j]}\":statistics.stdev(group_values[j]),\n",
    "                })\n",
    "        \n",
    "        values_by_metric[metric][position] = pl.DataFrame(rows)\n",
    "    \n"
   ]
  },
  {
   "cell_type": "code",
   "execution_count": 16,
   "id": "56a345f8",
   "metadata": {},
   "outputs": [],
   "source": [
    "#values_by_metric"
   ]
  },
  {
   "cell_type": "code",
   "execution_count": 15,
   "id": "9030ea3d",
   "metadata": {},
   "outputs": [],
   "source": [
    "#values_by_metric['PSV-99']['AM']"
   ]
  },
  {
   "cell_type": "code",
   "execution_count": 10,
   "id": "cea43b98",
   "metadata": {},
   "outputs": [
    {
     "name": "stderr",
     "output_type": "stream",
     "text": [
      "100%|██████████| 9/9 [00:00<00:00, 86.98it/s]\n",
      "100%|██████████| 9/9 [00:00<00:00, 100.63it/s]\n"
     ]
    }
   ],
   "source": [
    "dataframes = {}\n",
    "\n",
    "for metric in metrics:\n",
    "    \n",
    "    dataframes[metric] = values_by_metric[metric]['CB']\n",
    "    \n",
    "    for position in tqdm(positions['position_grouped']):\n",
    "        if position != 'CB':\n",
    "            dataframes[metric] = dataframes[metric].join(values_by_metric[metric][position], on = (\"Competitions\"), how = 'left')"
   ]
  },
  {
   "cell_type": "code",
   "execution_count": 17,
   "id": "1ef665cc",
   "metadata": {},
   "outputs": [],
   "source": [
    "#dataframes"
   ]
  },
  {
   "cell_type": "code",
   "execution_count": 11,
   "id": "9f6ce741",
   "metadata": {},
   "outputs": [],
   "source": [
    "if not os.path.exists(\"./Tukey_Full_Results/\"): \n",
    "    os.makedirs(\"./Tukey_Full_Results/\")  "
   ]
  },
  {
   "cell_type": "code",
   "execution_count": 12,
   "id": "8dd1c69d",
   "metadata": {},
   "outputs": [],
   "source": [
    "# write data for all the positions to 1 sheet\n",
    "for metric in metrics:\n",
    "    with xlsxwriter.Workbook(f\"./Tukey_Full_Results/tukey_hsd_full_{metric}.xlsx\") as wb:\n",
    "        dataframes[metric].write_excel(\n",
    "            workbook = wb,\n",
    "            worksheet = 'competitions comparison',\n",
    "            autofit = True,\n",
    "            float_precision = 3,\n",
    "            freeze_panes = (1,0),\n",
    "            header_format = {\"bold\": True}\n",
    "        )    "
   ]
  },
  {
   "cell_type": "code",
   "execution_count": 13,
   "id": "46ae3ee9",
   "metadata": {},
   "outputs": [],
   "source": [
    "if not os.path.exists(\"./Tukey_PerPos_Results/\"): \n",
    "    os.makedirs(\"./Tukey_PerPos_Results/\")  "
   ]
  },
  {
   "cell_type": "code",
   "execution_count": 14,
   "id": "a1c7d6be",
   "metadata": {},
   "outputs": [
    {
     "name": "stderr",
     "output_type": "stream",
     "text": [
      "100%|██████████| 9/9 [00:00<00:00, 88.34it/s]\n",
      "100%|██████████| 9/9 [00:00<00:00, 51.79it/s]\n"
     ]
    }
   ],
   "source": [
    "# write the data to a different sheet per postition\n",
    "for metric in metrics:\n",
    "    with xlsxwriter.Workbook(f\"./Tukey_PerPos_Results/tukey_hsd_{metric}_PerPos.xlsx\") as wb:\n",
    "        for key, value in tqdm(values_by_metric[metric].items()):\n",
    "            value.write_excel(\n",
    "                workbook = wb,\n",
    "                worksheet = key,\n",
    "                autofit = True,\n",
    "                float_precision = 3,\n",
    "                freeze_panes = (1,0),\n",
    "                header_format = {\"bold\": True},\n",
    "                autofilter = True\n",
    "            )\n",
    "     \n",
    "\n"
   ]
  }
 ],
 "metadata": {
  "kernelspec": {
   "display_name": "club_brugge",
   "language": "python",
   "name": "python3"
  },
  "language_info": {
   "codemirror_mode": {
    "name": "ipython",
    "version": 3
   },
   "file_extension": ".py",
   "mimetype": "text/x-python",
   "name": "python",
   "nbconvert_exporter": "python",
   "pygments_lexer": "ipython3",
   "version": "3.13.3"
  }
 },
 "nbformat": 4,
 "nbformat_minor": 5
}
