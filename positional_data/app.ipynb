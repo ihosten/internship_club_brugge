{
 "cells": [
  {
   "cell_type": "code",
   "execution_count": 1,
   "id": "a5fa991b",
   "metadata": {},
   "outputs": [],
   "source": [
    "from floodligt_functions import clean_metadata\n",
    "from floodligt_functions import read_position_data_jsonl\n",
    "import numpy as np\n",
    "from pathlib import Path\n",
    "import polars as pl\n",
    "import json\n",
    "from pathlib import Path\n",
    "import floodlight\n",
    "from floodlight.models.kinematics import AccelerationModel\n",
    "from floodlight.models.kinematics import DistanceModel\n",
    "from floodlight.models.kinematics import VelocityModel\n",
    "\n",
    "import polars.selectors as cs\n",
    "import polars as pl\n",
    "import plotly.io as pio\n",
    "import plotly.express as px\n",
    "import plotly.graph_objects as go\n",
    "from dash import Dash, dcc, html, Input, Output, callback, jupyter_dash, State, no_update\n",
    "import dash_ag_grid as dag\n",
    "import io\n",
    "from PyPDF2 import PdfMerger\n",
    "import xlsxwriter"
   ]
  },
  {
   "cell_type": "code",
   "execution_count": 2,
   "id": "9e05642b",
   "metadata": {},
   "outputs": [],
   "source": [
    "jupyter_dash.default_mode=\"external\""
   ]
  },
  {
   "cell_type": "code",
   "execution_count": 3,
   "id": "f3cc6f4f",
   "metadata": {},
   "outputs": [],
   "source": [
    "filepath_position = Path(\"SecondSpectrum/Second Spectrum/Anderlecht - Club Brugge/tracking-produced.jsonl\")"
   ]
  },
  {
   "cell_type": "code",
   "execution_count": 4,
   "id": "c97362bf",
   "metadata": {},
   "outputs": [],
   "source": [
    "filepath_metadata = Path(\"SecondSpectrum/Second Spectrum/Anderlecht - Club Brugge/rsc-bru_metadata.json\")"
   ]
  },
  {
   "cell_type": "code",
   "execution_count": 5,
   "id": "ce7b1a2e",
   "metadata": {},
   "outputs": [],
   "source": [
    "filepath_cleaned_metadata = Path(\"cleaned_metadata.json\")"
   ]
  },
  {
   "cell_type": "code",
   "execution_count": 6,
   "id": "7b00fde9",
   "metadata": {},
   "outputs": [],
   "source": [
    "meta_cleaned_path = Path(\"cleaned_metadata.json\")"
   ]
  },
  {
   "cell_type": "code",
   "execution_count": 7,
   "id": "465ae5ab",
   "metadata": {},
   "outputs": [],
   "source": [
    "clean_metadata(filepath_metadata)"
   ]
  },
  {
   "cell_type": "code",
   "execution_count": 8,
   "id": "7985a0b1",
   "metadata": {},
   "outputs": [],
   "source": [
    "position_data = read_position_data_jsonl(\n",
    "    filepath_position,\n",
    "    filepath_cleaned_metadata\n",
    ")"
   ]
  },
  {
   "cell_type": "code",
   "execution_count": 9,
   "id": "eeee8ace",
   "metadata": {},
   "outputs": [],
   "source": [
    "metrics = [\"Acceleration\", \"Distance\", \"Velocity\"]\n",
    "halfs = [\"HT1\", \"HT2\"]\n",
    "teams = [\"Home\", \"Away\"]\n",
    "possession = [\"H\", \"A\"]\n",
    "ball = [\"D\", \"A\"]"
   ]
  },
  {
   "cell_type": "code",
   "execution_count": 10,
   "id": "6481dd50",
   "metadata": {},
   "outputs": [],
   "source": [
    "# get list of home players\n",
    "# this will be used to match player with correct position data\n",
    "home_players = [player for player in position_data[3]['Home'][\"player\"]]\n",
    "\n",
    "# get list of away players\n",
    "away_players = [player for player in position_data[3]['Away'][\"player\"]]"
   ]
  },
  {
   "cell_type": "code",
   "execution_count": 11,
   "id": "bf078f20",
   "metadata": {},
   "outputs": [],
   "source": [
    "# defining recurrent styles\n",
    "tab_style = {\"fontWeight\":\"bold\", \"fontFamily\":\"arial\", \"font-size\":\"25px\"}\n",
    "selected_tab_style = {\"fontWeight\": \"bold\", \"fontFamily\": \"Arial\", \"color\": \"mediumblue\", \"font-size\":\"25px\"}\n",
    "\n",
    "download_button_style = {\"textAlign\":\"right\", \"marginTop\": \"10px\", \"marginRight\": \"15px\", \"fontFamily\":\"arial\"}\n",
    "\n",
    "dropdown_style = {\"width\": \"95%\", \"marginRight\": \"100px\", \"fontFamily\":\"arial\", \"margin-bottom\": '8px'}\n",
    "dropdown_label_style = {\"marginRight\": \"10px\", \"fontWeight\":\"bold\", \"fontFamily\":\"arial\"}\n",
    "\n",
    "sidebar_style = {'width': '18%', 'display': 'inline-block', 'verticalAlign': 'middle','paddingTop': '10px',}\n",
    "figure_div_style = {'width': '82%', 'display': 'inline-block', 'verticalAlign': 'top',}"
   ]
  },
  {
   "cell_type": "code",
   "execution_count": 12,
   "id": "4af12c53",
   "metadata": {},
   "outputs": [],
   "source": [
    "def dropdown(label, options, value, drop_id, placeholder):\n",
    "    \"\"\"A function to create dropdown menu's\"\"\"\n",
    "    return html.Div([\n",
    "        html.Label(\n",
    "            label,\n",
    "            style = dropdown_label_style\n",
    "        ),\n",
    "        dcc.Dropdown(\n",
    "            options = options,\n",
    "            value = value,\n",
    "            id = drop_id,\n",
    "            multi = False,\n",
    "            placeholder = placeholder,\n",
    "            style = dropdown_style\n",
    "        )                  \n",
    "    ])"
   ]
  },
  {
   "cell_type": "code",
   "execution_count": null,
   "id": "ed0078c4",
   "metadata": {},
   "outputs": [
    {
     "name": "stdout",
     "output_type": "stream",
     "text": [
      "Dash app running on http://127.0.0.1:8050/\n"
     ]
    },
    {
     "data": {
      "application/javascript": "window.open('http://127.0.0.1:8050/')",
      "text/plain": [
       "<IPython.core.display.Javascript object>"
      ]
     },
     "metadata": {},
     "output_type": "display_data"
    }
   ],
   "source": [
    "app = Dash()\n",
    "app.title = \"Matchalyzer\"\n",
    "\n",
    "app.layout = html.Div([\n",
    "    html.H1(\n",
    "        \"Matchalyzer\", \n",
    "        style={\"color\":\"Black\", \"fontFamily\":\"arial\"}\n",
    "    ),\n",
    "                  \n",
    "    html.Div([\n",
    "        dropdown(\"Metric\", metrics, \"Acceleration\", \"metric_dropdown\" , \"Select a metric\"),\n",
    "        dropdown(\"Team\", teams, \"Away\", \"team_dropdown\" , \"Select a team\"),\n",
    "        dropdown(\"Match Half\", halfs, \"HT1\", \"half_dropdown\" , \"Select a match half\"),\n",
    "        dropdown(\"Possession Status\", possession, \"A\", \"possession_dropdown\" , \"Select a possession team\"),\n",
    "        dropdown(\"Ball Status\", ball, \"A\", \"ballstatus_dropdown\", \"Select a ball status\")                        \n",
    "    ], style = sidebar_style\n",
    "    ),\n",
    "                    \n",
    "    html.Div([\n",
    "        html.Div(id='position_boxplot')\n",
    "    ], style = figure_div_style)  \n",
    "])\n",
    "\n",
    "@callback(\n",
    "    Input(component_id='metric_dropdown', component_property='value'),\n",
    "    Input(component_id='team_dropdown', component_property='value'),\n",
    "    Input(component_id='half_dropdown', component_property='value'),\n",
    "    Input(component_id='possession_dropdown', component_property='value'),\n",
    "    Input(component_id='ballstatus_dropdown', component_property='value'),\n",
    ")\n",
    "\n",
    "def update_graph(team_dropdown, half_dropdown, possession_dropdown, ballstatus_dropdown):\n",
    "    return no_update\n",
    "\n",
    "if __name__ == '__main__':\n",
    "    app.run(jupyter_mode=\"tab\", debug=True, use_reloader=False) # external of tab weghalen als je in de notebook zelf wilt runnen; jupyter_server_url=\"<your-url>\" for hosted notebooks\n",
    "    # specify port app.run(port=8060) wnr huidige port al in use is, optie 2 close het ander programma"
   ]
  },
  {
   "cell_type": "code",
   "execution_count": null,
   "id": "072ad008",
   "metadata": {},
   "outputs": [],
   "source": []
  }
 ],
 "metadata": {
  "kernelspec": {
   "display_name": "floodlight-env",
   "language": "python",
   "name": "python3"
  },
  "language_info": {
   "codemirror_mode": {
    "name": "ipython",
    "version": 3
   },
   "file_extension": ".py",
   "mimetype": "text/x-python",
   "name": "python",
   "nbconvert_exporter": "python",
   "pygments_lexer": "ipython3",
   "version": "3.10.16"
  }
 },
 "nbformat": 4,
 "nbformat_minor": 5
}
