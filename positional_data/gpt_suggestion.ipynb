{
 "cells": [
  {
   "cell_type": "markdown",
   "id": "54fb60ab",
   "metadata": {},
   "source": [
    "what is COD: Hernandez & Jones 2024\n",
    "- type 1: COD could occur both when the player starts from a static or semi-static position and must move into a different direction (does not involve deceleration)\n",
    "- type 2: advances in a certain direction prior to having to maneuver into a new direction (does often involve deceleration)\n",
    "- Type 3: a change in the initial path without changing the direction that the player is facing with a combination of linear (backwards or forward) and lateral movements (does always involve deceleration)\n",
    "- type 4: arc run or curvilinear type run\n",
    "curvilinear type run\n",
    "\n",
    "\n",
    "possible modules:\n",
    "math.athan2() --> returns the arc tangent of y/x, in radians\n",
    "\n",
    "\n",
    "classifications idee?:\n",
    "- characterised the COD angle as one of ‘0–45 DEG’, ‘45–90 DEG’, ‘90–135 DEG’ and ‘135–180 DEG’\n",
    "\n",
    "COD duration:\n",
    "- Brenda et al 2022: 1s\n",
    "- Reilly et al. 2021: averagedurationbetweenthe‘StartTime’and‘EndTime’ forthe observedCODwas3.1s"
   ]
  },
  {
   "cell_type": "code",
   "execution_count": null,
   "id": "0c88f826",
   "metadata": {},
   "outputs": [],
   "source": []
  },
  {
   "cell_type": "code",
   "execution_count": null,
   "id": "c9d36943",
   "metadata": {},
   "outputs": [],
   "source": [
    "import numpy as np\n",
    "import pandas as pd\n",
    "\n",
    "def compute_angle_changes(df, player_name):\n",
    "    x = df[f\"{player_name}_x\"].values\n",
    "    y = df[f\"{player_name}_y\"].values\n",
    "    \n",
    "    # Compute velocity vectors\n",
    "    dx = np.diff(x)\n",
    "    dy = np.diff(y)\n",
    "    v = np.stack((dx, dy), axis=1) # combines dx and dy into a 2D array where each row is a 2D velocity vector\n",
    "\n",
    "    # Normalize to avoid dividing by zero\n",
    "    norms = np.linalg.norm(v, axis=1) # Computes the Euclidean norm (magnitude) of each 2D velocity vector\n",
    "    valid = norms[:-1] > 0  # boolean mask identifying where the first velocity vector (v[:-1]) is non-zero.\n",
    "    v1 = v[:-1][valid] # v1: The velocity at time t\n",
    "    v2 = v[1:][valid] # v1: The velocity at time t + 1\n",
    "\n",
    "    # Compute angle changes (in radians)\n",
    "    dot_products = np.einsum('ij,ij->i', v1, v2) # ompact and efficient way to compute row-wise dot products.\n",
    "    norms_product = np.linalg.norm(v1, axis=1) * np.linalg.norm(v2, axis=1) # Calculates the product of magnitudes (‖v1‖‖v2‖) for each vector pair.\n",
    "    cos_theta = np.clip(dot_products / norms_product, -1.0, 1.0) # Computes the cosine of the angle between v1 and v2\n",
    "    angles = np.arccos(cos_theta) # Computes the angle (in radians) between the velocity vectors.\n",
    "\n",
    "    return angles  # or convert to degrees with np.degrees(angles)\n",
    "\n",
    "# Example usage:\n",
    "angles_amuzu = compute_angle_changes(df, \"Amuzu\")"
   ]
  },
  {
   "cell_type": "code",
   "execution_count": null,
   "id": "60073263",
   "metadata": {},
   "outputs": [],
   "source": [
    "import numpy as np\n",
    "import pandas as pd\n",
    "\n",
    "# Assuming df has 'X' and 'Y' columns with consecutive player positions\n",
    "positions = df[[\"X\", \"Y\"]].to_numpy()\n",
    "\n",
    "# Compute displacement vectors\n",
    "vectors = np.diff(positions, axis=0)\n",
    "\n",
    "# Normalize vectors\n",
    "norms = np.linalg.norm(vectors, axis=1, keepdims=True)\n",
    "unit_vectors = vectors / norms\n",
    "\n",
    "# Compute angle between successive unit vectors\n",
    "cos_angles = np.sum(unit_vectors[:-1] * unit_vectors[1:], axis=1)\n",
    "angles = np.arccos(np.clip(cos_angles, -1.0, 1.0))  # In radians\n",
    "angles_deg = np.degrees(angles)\n",
    "\n",
    "# Detect change of direction where angle > threshold (e.g., 30°)\n",
    "change_points = np.where(angles_deg > 30)[0] + 1  # +1 to get the index of the second vector in the pair\n",
    "\n",
    "print(\"Change of direction at indices:\", change_points)"
   ]
  },
  {
   "cell_type": "markdown",
   "id": "61788c6d",
   "metadata": {},
   "source": [
    "The result is an array of angle changes per frame (except first two).\n",
    "\n",
    "If your data has missing values (NaNs), consider interpolating or masking before processing.\n",
    "\n",
    "You can loop over all player names like so:"
   ]
  },
  {
   "cell_type": "code",
   "execution_count": null,
   "id": "db7ba630",
   "metadata": {},
   "outputs": [],
   "source": [
    "players = [col[:-2] for col in df.columns if col.endswith('_x')]\n",
    "angle_changes_by_player = {\n",
    "    player: compute_angle_changes(df, player) for player in players\n",
    "}"
   ]
  }
 ],
 "metadata": {
  "language_info": {
   "name": "python"
  }
 },
 "nbformat": 4,
 "nbformat_minor": 5
}
