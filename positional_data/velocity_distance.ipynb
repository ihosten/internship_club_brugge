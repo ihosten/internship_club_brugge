{
 "cells": [
  {
   "cell_type": "code",
   "execution_count": 1,
   "id": "7a44ee9a",
   "metadata": {},
   "outputs": [],
   "source": [
    "from pathlib import Path\n",
    "import polars as pl"
   ]
  },
  {
   "cell_type": "code",
   "execution_count": 2,
   "id": "06b66cca",
   "metadata": {},
   "outputs": [],
   "source": [
    "# define the path to the parquet files containing floodlight data: distance & velocity\n",
    "distance_path = Path(\"floodlight_parquets/distance_HT1\")\n",
    "velocity_path = Path(\"floodlight_parquets/velocity_HT1\")"
   ]
  },
  {
   "cell_type": "code",
   "execution_count": 3,
   "id": "a6950cec",
   "metadata": {},
   "outputs": [],
   "source": [
    "# read the distance data\n",
    "distance_df = pl.read_parquet(distance_path)"
   ]
  },
  {
   "cell_type": "code",
   "execution_count": 4,
   "id": "92df5c02",
   "metadata": {},
   "outputs": [],
   "source": [
    "#distance_df"
   ]
  },
  {
   "cell_type": "code",
   "execution_count": null,
   "id": "b6172e22",
   "metadata": {},
   "outputs": [],
   "source": [
    "# dropping ball status and possession data from the distance dataframe\n",
    "# keeping it in the dataframe would add the extra option of filtering in ball status and possession\n",
    "distance_df = distance_df.drop([\"HT1 ball status\", \"HT1 possession\"])"
   ]
  },
  {
   "cell_type": "code",
   "execution_count": 6,
   "id": "299f904e",
   "metadata": {},
   "outputs": [],
   "source": [
    "# read the velocity data\n",
    "velocity_df = pl.read_parquet(velocity_path)"
   ]
  },
  {
   "cell_type": "code",
   "execution_count": 7,
   "id": "5f9efaf7",
   "metadata": {},
   "outputs": [],
   "source": [
    "#velocity_df"
   ]
  },
  {
   "cell_type": "code",
   "execution_count": 8,
   "id": "2b0c0f10",
   "metadata": {},
   "outputs": [],
   "source": [
    "# dropping ball status and possession data from the velocity dataframe\n",
    "# keeping it in the dataframe would add the extra option of filtering in ball status and possession\n",
    "velocity_df = velocity_df.drop([\"HT1 ball status\", \"HT1 possession\"])"
   ]
  },
  {
   "cell_type": "code",
   "execution_count": null,
   "id": "9b24e535",
   "metadata": {},
   "outputs": [],
   "source": [
    "# store the high speed running data per player in a dictionary\n",
    "HSR_distance = {}\n",
    "\n",
    "for col in distance_df.columns:\n",
    "    # combine the velocity and the distance dataframes\n",
    "    HSR_distance[col] = pl.concat(\n",
    "        [distance_df[col].to_frame(name=\"distance\"), velocity_df[col].to_frame(name=\"velocity\")], how=\"horizontal\"\n",
    "    # filter on a specific speed\n",
    "    ).filter(\n",
    "        ((pl.col(\"velocity\") > 6.67) & (pl.col(\"velocity\").is_not_nan()))\n",
    "    # after filtering keep only the distance column\n",
    "    ).select(\n",
    "        \"distance\"\n",
    "    # take the sum of the values in the distance column\n",
    "    # .item() needed to store them as single values independend of a dataframe \n",
    "    ).sum().item()"
   ]
  },
  {
   "cell_type": "code",
   "execution_count": 12,
   "id": "ea7e76ba",
   "metadata": {},
   "outputs": [
    {
     "data": {
      "text/html": [
       "<div><style>\n",
       ".dataframe > thead > tr,\n",
       ".dataframe > tbody > tr {\n",
       "  text-align: right;\n",
       "  white-space: pre-wrap;\n",
       "}\n",
       "</style>\n",
       "<small>shape: (1, 42)</small><table border=\"1\" class=\"dataframe\"><thead><tr><th>C. Coosemans</th><th>Amuzu</th><th>M. Rits</th><th>T. Leoni</th><th>K. Dolberg</th><th>K. Sardella</th><th>A. Dreyer</th><th>L. Dendoncker</th><th>J. Simić</th><th>Amando Lapage</th><th>Ali Maamar</th><th>L. Vázquez</th><th>Y. Verschaeren</th><th>N. Engwanda</th><th>Mads Kikkenborg</th><th>S. Edozie</th><th>Thorgan Hazard</th><th>T. Degreef</th><th>Thomas Foket</th><th>Timon Vanhoutte</th><th>Anas Tajaouart</th><th>S. Mignolet</th><th>Ordoñez</th><th>Ferran Jutglà</th><th>K. Sabbe</th><th>C. Talbi</th><th>H. Vanaken</th><th>B. Mechele</th><th>C. Tzolis</th><th>Maxim De Cuyper</th><th>Ardon Jashari</th><th>Raphael Onyedika</th><th>Bjorn Meijer</th><th>Michal Skoras</th><th>J. Spileers</th><th>C. Nielsen</th><th>Romero</th><th>H. Vetlesen</th><th>Siquet</th><th>Jackers</th><th>Romeo Vermant</th><th>Gustaf Nilsson</th></tr><tr><td>f64</td><td>f64</td><td>f64</td><td>f64</td><td>f64</td><td>f64</td><td>f64</td><td>f64</td><td>f64</td><td>f64</td><td>f64</td><td>f64</td><td>f64</td><td>f64</td><td>f64</td><td>f64</td><td>f64</td><td>f64</td><td>f64</td><td>f64</td><td>f64</td><td>f64</td><td>f64</td><td>f64</td><td>f64</td><td>f64</td><td>f64</td><td>f64</td><td>f64</td><td>f64</td><td>f64</td><td>f64</td><td>f64</td><td>f64</td><td>f64</td><td>f64</td><td>f64</td><td>f64</td><td>f64</td><td>f64</td><td>f64</td><td>f64</td></tr></thead><tbody><tr><td>0.0</td><td>81.046163</td><td>89.14909</td><td>9.242945</td><td>87.572455</td><td>144.517399</td><td>141.575797</td><td>46.150263</td><td>70.861442</td><td>100.035167</td><td>140.466396</td><td>0.0</td><td>0.0</td><td>0.0</td><td>0.0</td><td>0.0</td><td>0.0</td><td>0.0</td><td>0.0</td><td>0.0</td><td>0.0</td><td>0.0</td><td>30.312524</td><td>121.472748</td><td>49.406878</td><td>215.219879</td><td>42.884234</td><td>35.655697</td><td>254.425298</td><td>143.007219</td><td>35.928865</td><td>14.069999</td><td>0.0</td><td>0.0</td><td>0.0</td><td>0.0</td><td>0.0</td><td>0.0</td><td>0.0</td><td>0.0</td><td>0.0</td><td>0.0</td></tr></tbody></table></div>"
      ],
      "text/plain": [
       "shape: (1, 42)\n",
       "┌──────────────┬───────────┬──────────┬──────────┬───┬────────┬─────────┬─────────┬─────────┐\n",
       "│ C. Coosemans ┆ Amuzu     ┆ M. Rits  ┆ T. Leoni ┆ … ┆ Siquet ┆ Jackers ┆ Romeo   ┆ Gustaf  │\n",
       "│ ---          ┆ ---       ┆ ---      ┆ ---      ┆   ┆ ---    ┆ ---     ┆ Vermant ┆ Nilsson │\n",
       "│ f64          ┆ f64       ┆ f64      ┆ f64      ┆   ┆ f64    ┆ f64     ┆ ---     ┆ ---     │\n",
       "│              ┆           ┆          ┆          ┆   ┆        ┆         ┆ f64     ┆ f64     │\n",
       "╞══════════════╪═══════════╪══════════╪══════════╪═══╪════════╪═════════╪═════════╪═════════╡\n",
       "│ 0.0          ┆ 81.046163 ┆ 89.14909 ┆ 9.242945 ┆ … ┆ 0.0    ┆ 0.0     ┆ 0.0     ┆ 0.0     │\n",
       "└──────────────┴───────────┴──────────┴──────────┴───┴────────┴─────────┴─────────┴─────────┘"
      ]
     },
     "execution_count": 12,
     "metadata": {},
     "output_type": "execute_result"
    }
   ],
   "source": [
    "# convert the dictionary to a dataframe (keys =  column names)\n",
    "HSR_df = pl.from_dict(HSR_distance)\n",
    "HSR_df"
   ]
  },
  {
   "cell_type": "markdown",
   "id": "eb3529d2",
   "metadata": {},
   "source": [
    "Investigating the difference between opta and  floodlight data"
   ]
  },
  {
   "cell_type": "code",
   "execution_count": 13,
   "id": "7fb90654",
   "metadata": {},
   "outputs": [],
   "source": [
    "# opta data: meters ran in first half >24 km/u \n",
    "opta_data = {'C. Coosemans': 1,\n",
    " 'Amuzu': 105,\n",
    " 'M. Rits': 117,\n",
    " 'T. Leoni': 21,\n",
    " 'K. Dolberg': 162,\n",
    " 'K. Sardella': 202,\n",
    " 'A. Dreyer': 215,\n",
    " 'L. Dendoncker': 80,\n",
    " 'J. Simić': 119,\n",
    " 'Amando Lapage': 122,\n",
    " 'Ali Maamar': 207,\n",
    " 'L. Vázquez': 0.0,\n",
    " 'Y. Verschaeren': 0.0,\n",
    " 'N. Engwanda': 0.0,\n",
    " 'Mads Kikkenborg': 0.0,\n",
    " 'S. Edozie': 0.0,\n",
    " 'Thorgan Hazard': 0.0,\n",
    " 'T. Degreef': 0.0,\n",
    " 'Thomas Foket': 0.0,\n",
    " 'Timon Vanhoutte': 0.0,\n",
    " 'Anas Tajaouart': 0.0,\n",
    " 'S. Mignolet': 0.0,\n",
    " 'Ordoñez': 43,\n",
    " 'Ferran Jutglà': 186,\n",
    " 'K. Sabbe': 70,\n",
    " 'C. Talbi': 246,\n",
    " 'H. Vanaken': 72,\n",
    " 'B. Mechele': 66,\n",
    " 'C. Tzolis': 310,\n",
    " 'Maxim De Cuyper': 211,\n",
    " 'Ardon Jashari': 79,\n",
    " 'Raphael Onyedika': 14.869796048973726,\n",
    " 'Bjorn Meijer': 0.0,\n",
    " 'Michal Skoras': 0.0,\n",
    " 'J. Spileers': 0.0,\n",
    " 'C. Nielsen': 0.0,\n",
    " 'Romero': 0.0,\n",
    " 'H. Vetlesen': 0.0,\n",
    " 'Siquet': 0.0,\n",
    " 'Jackers': 0.0,\n",
    " 'Romeo Vermant': 0.0,\n",
    " 'Gustaf Nilsson': 0.0}"
   ]
  },
  {
   "cell_type": "code",
   "execution_count": 14,
   "id": "5257076f",
   "metadata": {},
   "outputs": [
    {
     "data": {
      "text/html": [
       "<div><style>\n",
       ".dataframe > thead > tr,\n",
       ".dataframe > tbody > tr {\n",
       "  text-align: right;\n",
       "  white-space: pre-wrap;\n",
       "}\n",
       "</style>\n",
       "<small>shape: (1, 42)</small><table border=\"1\" class=\"dataframe\"><thead><tr><th>C. Coosemans</th><th>Amuzu</th><th>M. Rits</th><th>T. Leoni</th><th>K. Dolberg</th><th>K. Sardella</th><th>A. Dreyer</th><th>L. Dendoncker</th><th>J. Simić</th><th>Amando Lapage</th><th>Ali Maamar</th><th>L. Vázquez</th><th>Y. Verschaeren</th><th>N. Engwanda</th><th>Mads Kikkenborg</th><th>S. Edozie</th><th>Thorgan Hazard</th><th>T. Degreef</th><th>Thomas Foket</th><th>Timon Vanhoutte</th><th>Anas Tajaouart</th><th>S. Mignolet</th><th>Ordoñez</th><th>Ferran Jutglà</th><th>K. Sabbe</th><th>C. Talbi</th><th>H. Vanaken</th><th>B. Mechele</th><th>C. Tzolis</th><th>Maxim De Cuyper</th><th>Ardon Jashari</th><th>Raphael Onyedika</th><th>Bjorn Meijer</th><th>Michal Skoras</th><th>J. Spileers</th><th>C. Nielsen</th><th>Romero</th><th>H. Vetlesen</th><th>Siquet</th><th>Jackers</th><th>Romeo Vermant</th><th>Gustaf Nilsson</th></tr><tr><td>i64</td><td>i64</td><td>i64</td><td>i64</td><td>i64</td><td>i64</td><td>i64</td><td>i64</td><td>i64</td><td>i64</td><td>i64</td><td>f64</td><td>f64</td><td>f64</td><td>f64</td><td>f64</td><td>f64</td><td>f64</td><td>f64</td><td>f64</td><td>f64</td><td>f64</td><td>i64</td><td>i64</td><td>i64</td><td>i64</td><td>i64</td><td>i64</td><td>i64</td><td>i64</td><td>i64</td><td>f64</td><td>f64</td><td>f64</td><td>f64</td><td>f64</td><td>f64</td><td>f64</td><td>f64</td><td>f64</td><td>f64</td><td>f64</td></tr></thead><tbody><tr><td>1</td><td>105</td><td>117</td><td>21</td><td>162</td><td>202</td><td>215</td><td>80</td><td>119</td><td>122</td><td>207</td><td>0.0</td><td>0.0</td><td>0.0</td><td>0.0</td><td>0.0</td><td>0.0</td><td>0.0</td><td>0.0</td><td>0.0</td><td>0.0</td><td>0.0</td><td>43</td><td>186</td><td>70</td><td>246</td><td>72</td><td>66</td><td>310</td><td>211</td><td>79</td><td>14.869796</td><td>0.0</td><td>0.0</td><td>0.0</td><td>0.0</td><td>0.0</td><td>0.0</td><td>0.0</td><td>0.0</td><td>0.0</td><td>0.0</td></tr></tbody></table></div>"
      ],
      "text/plain": [
       "shape: (1, 42)\n",
       "┌──────────────┬───────┬─────────┬──────────┬───┬────────┬─────────┬───────────────┬─────────┐\n",
       "│ C. Coosemans ┆ Amuzu ┆ M. Rits ┆ T. Leoni ┆ … ┆ Siquet ┆ Jackers ┆ Romeo Vermant ┆ Gustaf  │\n",
       "│ ---          ┆ ---   ┆ ---     ┆ ---      ┆   ┆ ---    ┆ ---     ┆ ---           ┆ Nilsson │\n",
       "│ i64          ┆ i64   ┆ i64     ┆ i64      ┆   ┆ f64    ┆ f64     ┆ f64           ┆ ---     │\n",
       "│              ┆       ┆         ┆          ┆   ┆        ┆         ┆               ┆ f64     │\n",
       "╞══════════════╪═══════╪═════════╪══════════╪═══╪════════╪═════════╪═══════════════╪═════════╡\n",
       "│ 1            ┆ 105   ┆ 117     ┆ 21       ┆ … ┆ 0.0    ┆ 0.0     ┆ 0.0           ┆ 0.0     │\n",
       "└──────────────┴───────┴─────────┴──────────┴───┴────────┴─────────┴───────────────┴─────────┘"
      ]
     },
     "execution_count": 14,
     "metadata": {},
     "output_type": "execute_result"
    }
   ],
   "source": [
    "opta_df = pl.from_dict(opta_data)\n",
    "opta_df"
   ]
  },
  {
   "cell_type": "code",
   "execution_count": 15,
   "id": "876bf658",
   "metadata": {},
   "outputs": [
    {
     "name": "stdout",
     "output_type": "stream",
     "text": [
      "0.0\n",
      "77.18682175565263\n",
      "76.19580380155851\n",
      "44.01402616988578\n",
      "54.05707119886542\n",
      "71.54326689744512\n",
      "65.84920792924618\n",
      "57.68782908399081\n",
      "59.547430011012324\n",
      "81.99603849764418\n",
      "67.85816239351453\n",
      "nan\n",
      "nan\n",
      "nan\n",
      "nan\n",
      "nan\n",
      "nan\n",
      "nan\n",
      "nan\n",
      "nan\n",
      "nan\n",
      "nan\n",
      "70.49424230409281\n",
      "65.30792877571304\n",
      "70.58125409352839\n",
      "87.48775583959856\n",
      "59.56143561506539\n",
      "54.023783098708066\n",
      "82.07267681387526\n",
      "67.77593303676234\n",
      "45.47957640291258\n",
      "94.62133292320733\n",
      "nan\n",
      "nan\n",
      "nan\n",
      "nan\n",
      "nan\n",
      "nan\n",
      "nan\n",
      "nan\n",
      "nan\n",
      "nan\n"
     ]
    }
   ],
   "source": [
    "# comparing opta to floodlight \n",
    "for col in HSR_df.columns:\n",
    "    result = (HSR_df[col] / opta_df[col] * 100).item()\n",
    "    print(result)"
   ]
  },
  {
   "cell_type": "code",
   "execution_count": 16,
   "id": "d48bf957",
   "metadata": {},
   "outputs": [
    {
     "data": {
      "text/plain": [
       "{'C. Coosemans': 0.0,\n",
       " 'Amuzu': 81.04616284343525,\n",
       " 'M. Rits': 89.14909044782347,\n",
       " 'T. Leoni': 9.242945495676013,\n",
       " 'K. Dolberg': 87.57245534216199,\n",
       " 'K. Sardella': 144.51739913283916,\n",
       " 'A. Dreyer': 141.5757970478793,\n",
       " 'L. Dendoncker': 46.150263267192656,\n",
       " 'J. Simić': 70.86144171310467,\n",
       " 'Amando Lapage': 100.03516696712589,\n",
       " 'Ali Maamar': 140.46639615457508,\n",
       " 'L. Vázquez': 0.0,\n",
       " 'Y. Verschaeren': 0.0,\n",
       " 'N. Engwanda': 0.0,\n",
       " 'Mads Kikkenborg': 0.0,\n",
       " 'S. Edozie': 0.0,\n",
       " 'Thorgan Hazard': 0.0,\n",
       " 'T. Degreef': 0.0,\n",
       " 'Thomas Foket': 0.0,\n",
       " 'Timon Vanhoutte': 0.0,\n",
       " 'Anas Tajaouart': 0.0,\n",
       " 'S. Mignolet': 0.0,\n",
       " 'Ordoñez': 30.312524190759905,\n",
       " 'Ferran Jutglà': 121.47274752282624,\n",
       " 'K. Sabbe': 49.40687786546987,\n",
       " 'C. Talbi': 215.21987936541248,\n",
       " 'H. Vanaken': 42.884233642847086,\n",
       " 'B. Mechele': 35.655696845147325,\n",
       " 'C. Tzolis': 254.42529812301333,\n",
       " 'Maxim De Cuyper': 143.00721870756854,\n",
       " 'Ardon Jashari': 35.92886535830094,\n",
       " 'Raphael Onyedika': 14.069999224501359,\n",
       " 'Bjorn Meijer': 0.0,\n",
       " 'Michal Skoras': 0.0,\n",
       " 'J. Spileers': 0.0,\n",
       " 'C. Nielsen': 0.0,\n",
       " 'Romero': 0.0,\n",
       " 'H. Vetlesen': 0.0,\n",
       " 'Siquet': 0.0,\n",
       " 'Jackers': 0.0,\n",
       " 'Romeo Vermant': 0.0,\n",
       " 'Gustaf Nilsson': 0.0}"
      ]
     },
     "execution_count": 16,
     "metadata": {},
     "output_type": "execute_result"
    }
   ],
   "source": [
    "HSR_distance"
   ]
  },
  {
   "cell_type": "code",
   "execution_count": null,
   "id": "f8d20143",
   "metadata": {},
   "outputs": [],
   "source": []
  }
 ],
 "metadata": {
  "kernelspec": {
   "display_name": "floodlight-env",
   "language": "python",
   "name": "python3"
  },
  "language_info": {
   "codemirror_mode": {
    "name": "ipython",
    "version": 3
   },
   "file_extension": ".py",
   "mimetype": "text/x-python",
   "name": "python",
   "nbconvert_exporter": "python",
   "pygments_lexer": "ipython3",
   "version": "3.10.16"
  }
 },
 "nbformat": 4,
 "nbformat_minor": 5
}
