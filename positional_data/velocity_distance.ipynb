{
 "cells": [
  {
   "cell_type": "code",
   "execution_count": 2,
   "id": "7a44ee9a",
   "metadata": {},
   "outputs": [],
   "source": [
    "import polars as pl \n",
    "from pathlib import Path"
   ]
  },
  {
   "cell_type": "code",
   "execution_count": 3,
   "id": "8292fabd",
   "metadata": {},
   "outputs": [],
   "source": [
    "base_path = Path(\"SecondSpectrum/Second Spectrum\")"
   ]
  },
  {
   "cell_type": "code",
   "execution_count": 4,
   "id": "4f1948fb",
   "metadata": {},
   "outputs": [],
   "source": [
    "game_path = Path(\"Anderlecht - Club Brugge\")"
   ]
  },
  {
   "cell_type": "code",
   "execution_count": 5,
   "id": "06b66cca",
   "metadata": {},
   "outputs": [],
   "source": [
    "# define the path to the parquet files containing floodlight data: distance & velocity\n",
    "distance_path = Path(base_path, game_path, \"distance_HT1.parquet\")\n",
    "velocity_path = Path(base_path, game_path, \"velocity_HT1.parquet\")"
   ]
  },
  {
   "cell_type": "code",
   "execution_count": 6,
   "id": "a6950cec",
   "metadata": {},
   "outputs": [],
   "source": [
    "# read the distance data\n",
    "distance_df = pl.read_parquet(distance_path)"
   ]
  },
  {
   "cell_type": "code",
   "execution_count": 7,
   "id": "b6172e22",
   "metadata": {},
   "outputs": [],
   "source": [
    "# dropping ball status and possession data from the distance dataframe\n",
    "# keeping it in the dataframe would add the extra option of filtering in ball status and possession\n",
    "distance_df = distance_df.drop([\"HT1 ball status\", \"HT1 possession\"])"
   ]
  },
  {
   "cell_type": "code",
   "execution_count": 10,
   "id": "299f904e",
   "metadata": {},
   "outputs": [],
   "source": [
    "# read the velocity data\n",
    "velocity_df = pl.read_parquet(velocity_path)"
   ]
  },
  {
   "cell_type": "code",
   "execution_count": 11,
   "id": "2b0c0f10",
   "metadata": {},
   "outputs": [],
   "source": [
    "# dropping ball status and possession data from the velocity dataframe\n",
    "# keeping it in the dataframe would add the extra option of filtering in ball status and possession\n",
    "velocity_df = velocity_df.drop([\"HT1 ball status\", \"HT1 possession\"])"
   ]
  },
  {
   "cell_type": "code",
   "execution_count": 12,
   "id": "9b24e535",
   "metadata": {},
   "outputs": [],
   "source": [
    "# store the high speed running data per player in a dictionary\n",
    "HSR_distance = {}\n",
    "\n",
    "for col in distance_df.columns:\n",
    "    # combine the velocity and the distance dataframes\n",
    "    HSR_distance[col] = (\n",
    "        pl.concat(\n",
    "            [\n",
    "                distance_df[col].to_frame(name=\"distance\"), \n",
    "                velocity_df[col].to_frame(name=\"velocity\")], \n",
    "            how=\"horizontal\"\n",
    "        # filter on a specific speed\n",
    "        ).filter(\n",
    "            ((pl.col(\"velocity\") > 6.67) & (pl.col(\"velocity\").is_not_nan()))\n",
    "        # after filtering keep only the distance column\n",
    "        ).select(\n",
    "            \"distance\"\n",
    "        # take the sum of the values in the distance column\n",
    "        ).sum(\n",
    "        # .item() needed to store them as single values independend of a dataframe \n",
    "        ).item(\n",
    "        )\n",
    "    )"
   ]
  },
  {
   "cell_type": "code",
   "execution_count": 13,
   "id": "ea7e76ba",
   "metadata": {},
   "outputs": [],
   "source": [
    "# convert the dictionary to a dataframe (keys =  column names)\n",
    "HSR_df = pl.from_dict(HSR_distance)\n",
    "#HSR_df"
   ]
  },
  {
   "cell_type": "markdown",
   "id": "eb3529d2",
   "metadata": {},
   "source": [
    "Investigating the difference between opta and  floodlight data"
   ]
  },
  {
   "cell_type": "code",
   "execution_count": null,
   "id": "7fb90654",
   "metadata": {},
   "outputs": [],
   "source": [
    "# opta data: meters ran in first half >24 km/u \n",
    "opta_data = {\n",
    "    'C. Coosemans': 1,\n",
    "    'Amuzu': 105,\n",
    "    'M. Rits': 117,\n",
    "    'T. Leoni': 21,\n",
    "    'K. Dolberg': 162,\n",
    "    'K. Sardella': 202,\n",
    "    'A. Dreyer': 215,\n",
    "    'L. Dendoncker': 80,\n",
    "    'J. Simić': 119,\n",
    "    'Amando Lapage': 122,\n",
    "    'Ali Maamar': 207,\n",
    "    'L. Vázquez': 0.0,\n",
    "    'Y. Verschaeren': 0.0,\n",
    "    'N. Engwanda': 0.0,\n",
    "    'Mads Kikkenborg': 0.0,\n",
    "    'S. Edozie': 0.0,\n",
    "    'Thorgan Hazard': 0.0,\n",
    "    'T. Degreef': 0.0,\n",
    "    'Thomas Foket': 0.0,\n",
    "    'Timon Vanhoutte': 0.0,\n",
    "    'Anas Tajaouart': 0.0,\n",
    "    'S. Mignolet': 0.0,\n",
    "    'Ordoñez': 43,\n",
    "    'Ferran Jutglà': 186,\n",
    "    'K. Sabbe': 70,\n",
    "    'C. Talbi': 246,\n",
    "    'H. Vanaken': 72,\n",
    "    'B. Mechele': 66,\n",
    "    'C. Tzolis': 310,\n",
    "    'Maxim De Cuyper': 211,\n",
    "    'Ardon Jashari': 79,\n",
    "    'Raphael Onyedika': 14.869796048973726,\n",
    "    'Bjorn Meijer': 0.0,\n",
    "    'Michal Skoras': 0.0,\n",
    "    'J. Spileers': 0.0,\n",
    "    'C. Nielsen': 0.0,\n",
    "    'Romero': 0.0,\n",
    "    'H. Vetlesen': 0.0,\n",
    "    'Siquet': 0.0,\n",
    "    'Jackers': 0.0,\n",
    "    'Romeo Vermant': 0.0,\n",
    "    'Gustaf Nilsson': 0.0\n",
    "}"
   ]
  },
  {
   "cell_type": "code",
   "execution_count": 15,
   "id": "5257076f",
   "metadata": {},
   "outputs": [
    {
     "data": {
      "text/html": [
       "<div><style>\n",
       ".dataframe > thead > tr,\n",
       ".dataframe > tbody > tr {\n",
       "  text-align: right;\n",
       "  white-space: pre-wrap;\n",
       "}\n",
       "</style>\n",
       "<small>shape: (1, 42)</small><table border=\"1\" class=\"dataframe\"><thead><tr><th>C. Coosemans</th><th>Amuzu</th><th>M. Rits</th><th>T. Leoni</th><th>K. Dolberg</th><th>K. Sardella</th><th>A. Dreyer</th><th>L. Dendoncker</th><th>J. Simić</th><th>Amando Lapage</th><th>Ali Maamar</th><th>L. Vázquez</th><th>Y. Verschaeren</th><th>N. Engwanda</th><th>Mads Kikkenborg</th><th>S. Edozie</th><th>Thorgan Hazard</th><th>T. Degreef</th><th>Thomas Foket</th><th>Timon Vanhoutte</th><th>Anas Tajaouart</th><th>S. Mignolet</th><th>Ordoñez</th><th>Ferran Jutglà</th><th>K. Sabbe</th><th>C. Talbi</th><th>H. Vanaken</th><th>B. Mechele</th><th>C. Tzolis</th><th>Maxim De Cuyper</th><th>Ardon Jashari</th><th>Raphael Onyedika</th><th>Bjorn Meijer</th><th>Michal Skoras</th><th>J. Spileers</th><th>C. Nielsen</th><th>Romero</th><th>H. Vetlesen</th><th>Siquet</th><th>Jackers</th><th>Romeo Vermant</th><th>Gustaf Nilsson</th></tr><tr><td>i64</td><td>i64</td><td>i64</td><td>i64</td><td>i64</td><td>i64</td><td>i64</td><td>i64</td><td>i64</td><td>i64</td><td>i64</td><td>f64</td><td>f64</td><td>f64</td><td>f64</td><td>f64</td><td>f64</td><td>f64</td><td>f64</td><td>f64</td><td>f64</td><td>f64</td><td>i64</td><td>i64</td><td>i64</td><td>i64</td><td>i64</td><td>i64</td><td>i64</td><td>i64</td><td>i64</td><td>f64</td><td>f64</td><td>f64</td><td>f64</td><td>f64</td><td>f64</td><td>f64</td><td>f64</td><td>f64</td><td>f64</td><td>f64</td></tr></thead><tbody><tr><td>1</td><td>105</td><td>117</td><td>21</td><td>162</td><td>202</td><td>215</td><td>80</td><td>119</td><td>122</td><td>207</td><td>0.0</td><td>0.0</td><td>0.0</td><td>0.0</td><td>0.0</td><td>0.0</td><td>0.0</td><td>0.0</td><td>0.0</td><td>0.0</td><td>0.0</td><td>43</td><td>186</td><td>70</td><td>246</td><td>72</td><td>66</td><td>310</td><td>211</td><td>79</td><td>14.869796</td><td>0.0</td><td>0.0</td><td>0.0</td><td>0.0</td><td>0.0</td><td>0.0</td><td>0.0</td><td>0.0</td><td>0.0</td><td>0.0</td></tr></tbody></table></div>"
      ],
      "text/plain": [
       "shape: (1, 42)\n",
       "┌──────────────┬───────┬─────────┬──────────┬───┬────────┬─────────┬───────────────┬─────────┐\n",
       "│ C. Coosemans ┆ Amuzu ┆ M. Rits ┆ T. Leoni ┆ … ┆ Siquet ┆ Jackers ┆ Romeo Vermant ┆ Gustaf  │\n",
       "│ ---          ┆ ---   ┆ ---     ┆ ---      ┆   ┆ ---    ┆ ---     ┆ ---           ┆ Nilsson │\n",
       "│ i64          ┆ i64   ┆ i64     ┆ i64      ┆   ┆ f64    ┆ f64     ┆ f64           ┆ ---     │\n",
       "│              ┆       ┆         ┆          ┆   ┆        ┆         ┆               ┆ f64     │\n",
       "╞══════════════╪═══════╪═════════╪══════════╪═══╪════════╪═════════╪═══════════════╪═════════╡\n",
       "│ 1            ┆ 105   ┆ 117     ┆ 21       ┆ … ┆ 0.0    ┆ 0.0     ┆ 0.0           ┆ 0.0     │\n",
       "└──────────────┴───────┴─────────┴──────────┴───┴────────┴─────────┴───────────────┴─────────┘"
      ]
     },
     "execution_count": 15,
     "metadata": {},
     "output_type": "execute_result"
    }
   ],
   "source": [
    "opta_df = pl.from_dict(opta_data)\n",
    "opta_df"
   ]
  },
  {
   "cell_type": "code",
   "execution_count": 16,
   "id": "876bf658",
   "metadata": {},
   "outputs": [
    {
     "name": "stdout",
     "output_type": "stream",
     "text": [
      "0.0\n",
      "77.18683151971726\n",
      "76.19579999874799\n",
      "44.014027005150204\n",
      "54.0570671175733\n",
      "71.54327241501005\n",
      "65.84920483966206\n",
      "57.687826156616204\n",
      "59.54741790515035\n",
      "81.99604847392098\n",
      "67.85816432197312\n",
      "nan\n",
      "nan\n",
      "nan\n",
      "nan\n",
      "nan\n",
      "nan\n",
      "nan\n",
      "nan\n",
      "nan\n",
      "nan\n",
      "nan\n",
      "70.49424814623457\n",
      "65.30793712985131\n",
      "70.58125632149833\n",
      "87.48774954943153\n",
      "59.56143273247613\n",
      "54.023771575002954\n",
      "82.0726800733997\n",
      "67.77593242048651\n",
      "45.47957891150366\n",
      "94.62133608614822\n",
      "nan\n",
      "nan\n",
      "nan\n",
      "nan\n",
      "nan\n",
      "nan\n",
      "nan\n",
      "nan\n",
      "nan\n",
      "nan\n"
     ]
    }
   ],
   "source": [
    "# comparing opta to floodlight \n",
    "for col in HSR_df.columns:\n",
    "    result = (HSR_df[col] / opta_df[col] * 100).item()\n",
    "    print(result)"
   ]
  }
 ],
 "metadata": {
  "kernelspec": {
   "display_name": "floodlight-env",
   "language": "python",
   "name": "python3"
  },
  "language_info": {
   "codemirror_mode": {
    "name": "ipython",
    "version": 3
   },
   "file_extension": ".py",
   "mimetype": "text/x-python",
   "name": "python",
   "nbconvert_exporter": "python",
   "pygments_lexer": "ipython3",
   "version": "3.10.16"
  }
 },
 "nbformat": 4,
 "nbformat_minor": 5
}
