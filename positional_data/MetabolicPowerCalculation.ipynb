{
 "cells": [
  {
   "cell_type": "code",
   "execution_count": 1,
   "id": "1370ebfe",
   "metadata": {},
   "outputs": [],
   "source": [
    "from floodligt_functions import clean_metadata\n",
    "from floodligt_functions import read_position_data_jsonl\n",
    "\n",
    "import numpy as np\n",
    "from pathlib import Path\n",
    "import json\n",
    "import io\n",
    "import polars as pl\n",
    "import floodlight\n",
    "#from floodlight.io.secondspectrum import read_position_data_jsonl\n",
    "from floodlight.io.secondspectrum import read_teamsheets_from_meta_json\n",
    "import json\n",
    "import tempfile\n",
    "from typing import Union, Tuple, Dict\n",
    "from pathlib import Path\n",
    "from floodlight.core.pitch import Pitch\n",
    "from floodlight.io.utils import get_and_convert\n",
    "from floodlight.core.teamsheet import Teamsheet\n",
    "from floodlight.core.xy import XY\n",
    "from floodlight.core.code import Code\n",
    "from floodlight.models.kinematics import AccelerationModel\n",
    "from floodlight.models.kinematics import DistanceModel\n",
    "from floodlight.models.kinematics import VelocityModel\n",
    "from floodlight.core.property import PlayerProperty\n",
    "from floodlight.models.base import BaseModel, requires_fit\n",
    "from floodlight.models.kinematics import VelocityModel, AccelerationModel\n",
    "from floodlight.models.kinetics import MetabolicPowerModel\n"
   ]
  },
  {
   "cell_type": "code",
   "execution_count": 2,
   "id": "7e9023de",
   "metadata": {},
   "outputs": [],
   "source": [
    "velocity=np.load(\"np_arrays/velocity.npy\")"
   ]
  },
  {
   "cell_type": "code",
   "execution_count": 3,
   "id": "4aae3426",
   "metadata": {},
   "outputs": [],
   "source": [
    "acceleration=np.load(\"np_arrays/acceleration.npy\")"
   ]
  },
  {
   "cell_type": "code",
   "execution_count": 4,
   "id": "ec1790ac",
   "metadata": {},
   "outputs": [],
   "source": [
    "xy=np.load(\"np_arrays/xy.npy\")"
   ]
  },
  {
   "cell_type": "code",
   "execution_count": 5,
   "id": "3f30b18e",
   "metadata": {},
   "outputs": [
    {
     "data": {
      "text/plain": [
       "array([[39.94, -0.09,   nan, ...,   nan,   nan,   nan],\n",
       "       [39.8 , -0.09,   nan, ...,   nan,   nan,   nan],\n",
       "       [39.67, -0.09,   nan, ...,   nan,   nan,   nan],\n",
       "       ...,\n",
       "       [  nan,   nan,   nan, ...,   nan,   nan,   nan],\n",
       "       [  nan,   nan,   nan, ...,   nan,   nan,   nan],\n",
       "       [  nan,   nan,   nan, ...,   nan,   nan,   nan]],\n",
       "      shape=(2901801, 42))"
      ]
     },
     "execution_count": 5,
     "metadata": {},
     "output_type": "execute_result"
    }
   ],
   "source": [
    "xy"
   ]
  },
  {
   "cell_type": "code",
   "execution_count": 6,
   "id": "274dea31",
   "metadata": {},
   "outputs": [],
   "source": [
    "equivalent_slope = MetabolicPowerModel._calc_es(\n",
    "            velocity, acceleration\n",
    "        )"
   ]
  },
  {
   "cell_type": "code",
   "execution_count": 7,
   "id": "2d22ae54",
   "metadata": {},
   "outputs": [],
   "source": [
    "equivalent_mass = MetabolicPowerModel._calc_em(equivalent_slope)"
   ]
  },
  {
   "cell_type": "code",
   "execution_count": 8,
   "id": "03cf5f5e",
   "metadata": {},
   "outputs": [
    {
     "data": {
      "text/plain": [
       "array([[39.94, -0.09,   nan, ...,   nan,   nan,   nan],\n",
       "       [39.8 , -0.09,   nan, ...,   nan,   nan,   nan],\n",
       "       [39.67, -0.09,   nan, ...,   nan,   nan,   nan],\n",
       "       ...,\n",
       "       [  nan,   nan,   nan, ...,   nan,   nan,   nan],\n",
       "       [  nan,   nan,   nan, ...,   nan,   nan,   nan],\n",
       "       [  nan,   nan,   nan, ...,   nan,   nan,   nan]],\n",
       "      shape=(2901801, 42))"
      ]
     },
     "execution_count": 8,
     "metadata": {},
     "output_type": "execute_result"
    }
   ],
   "source": [
    "xy"
   ]
  },
  {
   "cell_type": "code",
   "execution_count": 9,
   "id": "2bc066ef",
   "metadata": {},
   "outputs": [
    {
     "ename": "",
     "evalue": "",
     "output_type": "error",
     "traceback": [
      "\u001b[1;31mThe Kernel crashed while executing code in the current cell or a previous cell. \n",
      "\u001b[1;31mPlease review the code in the cell(s) to identify a possible cause of the failure. \n",
      "\u001b[1;31mClick <a href='https://aka.ms/vscodeJupyterKernelCrash'>here</a> for more info. \n",
      "\u001b[1;31mView Jupyter <a href='command:jupyter.viewOutput'>log</a> for further details."
     ]
    }
   ],
   "source": [
    "metabolic_power = MetabolicPowerModel._calc_metabolic_power(\n",
    "            equivalent_slope, velocity, equivalent_mass, 25, 3.6\n",
    "        )"
   ]
  },
  {
   "cell_type": "code",
   "execution_count": null,
   "id": "5b9271ce",
   "metadata": {},
   "outputs": [],
   "source": [
    "equivalent_mass"
   ]
  }
 ],
 "metadata": {
  "kernelspec": {
   "display_name": "floodlight-env",
   "language": "python",
   "name": "python3"
  },
  "language_info": {
   "codemirror_mode": {
    "name": "ipython",
    "version": 3
   },
   "file_extension": ".py",
   "mimetype": "text/x-python",
   "name": "python",
   "nbconvert_exporter": "python",
   "pygments_lexer": "ipython3",
   "version": "3.10.16"
  }
 },
 "nbformat": 4,
 "nbformat_minor": 5
}
