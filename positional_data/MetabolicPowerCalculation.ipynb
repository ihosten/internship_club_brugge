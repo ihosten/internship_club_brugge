{
 "cells": [
  {
   "cell_type": "code",
   "execution_count": 1,
   "id": "1370ebfe",
   "metadata": {},
   "outputs": [],
   "source": [
    "from floodligt_functions import clean_metadata\n",
    "from floodligt_functions import read_position_data_jsonl\n",
    "\n",
    "import numpy as np\n",
    "from pathlib import Path\n",
    "import json\n",
    "import io\n",
    "import polars as pl\n",
    "import floodlight\n",
    "#from floodlight.io.secondspectrum import read_position_data_jsonl\n",
    "from floodlight.io.secondspectrum import read_teamsheets_from_meta_json\n",
    "import json\n",
    "import tempfile\n",
    "from typing import Union, Tuple, Dict\n",
    "from pathlib import Path\n",
    "from floodlight.core.pitch import Pitch\n",
    "from floodlight.io.utils import get_and_convert\n",
    "from floodlight.core.teamsheet import Teamsheet\n",
    "from floodlight.core.xy import XY\n",
    "from floodlight.core.code import Code\n",
    "from floodlight.models.kinematics import AccelerationModel\n",
    "from floodlight.models.kinematics import DistanceModel\n",
    "from floodlight.models.kinematics import VelocityModel\n",
    "from floodlight.core.property import PlayerProperty\n",
    "from floodlight.models.base import BaseModel, requires_fit\n",
    "from floodlight.models.kinematics import VelocityModel, AccelerationModel\n",
    "from floodlight.models.kinetics import MetabolicPowerModel\n"
   ]
  },
  {
   "cell_type": "code",
   "execution_count": 2,
   "id": "7e9023de",
   "metadata": {},
   "outputs": [],
   "source": [
    "velocity=np.load(\"np_arrays/velocity.npy\")"
   ]
  },
  {
   "cell_type": "code",
   "execution_count": 3,
   "id": "4aae3426",
   "metadata": {},
   "outputs": [],
   "source": [
    "acceleration=np.load(\"np_arrays/acceleration.npy\")"
   ]
  },
  {
   "cell_type": "code",
   "execution_count": 4,
   "id": "ec1790ac",
   "metadata": {},
   "outputs": [],
   "source": [
    "xy=np.load(\"np_arrays/xy.npy\")"
   ]
  },
  {
   "cell_type": "code",
   "execution_count": 2,
   "id": "3f5ba948",
   "metadata": {},
   "outputs": [],
   "source": [
    "es=np.load(\"np_arrays/equivalent_slope.npy\")"
   ]
  },
  {
   "cell_type": "code",
   "execution_count": 6,
   "id": "88c88ae3",
   "metadata": {},
   "outputs": [],
   "source": [
    "em=np.load(\"np_arrays/equivalent_mass.npy\")"
   ]
  },
  {
   "cell_type": "code",
   "execution_count": 15,
   "id": "3f30b18e",
   "metadata": {},
   "outputs": [
    {
     "data": {
      "text/plain": [
       "array([[39.94, -0.09,   nan, ...,   nan,   nan,   nan],\n",
       "       [39.8 , -0.09,   nan, ...,   nan,   nan,   nan],\n",
       "       [39.67, -0.09,   nan, ...,   nan,   nan,   nan],\n",
       "       ...,\n",
       "       [  nan,   nan,   nan, ...,   nan,   nan,   nan],\n",
       "       [  nan,   nan,   nan, ...,   nan,   nan,   nan],\n",
       "       [  nan,   nan,   nan, ...,   nan,   nan,   nan]],\n",
       "      shape=(2901801, 42))"
      ]
     },
     "execution_count": 15,
     "metadata": {},
     "output_type": "execute_result"
    }
   ],
   "source": [
    "xy"
   ]
  },
  {
   "cell_type": "code",
   "execution_count": 17,
   "id": "274dea31",
   "metadata": {},
   "outputs": [],
   "source": [
    "equivalent_slope = MetabolicPowerModel._calc_es(\n",
    "            velocity, acceleration\n",
    "        )\n",
    "np.save(\"np_arrays/equivalent_slope.npy\", equivalent_slope)"
   ]
  },
  {
   "cell_type": "code",
   "execution_count": 8,
   "id": "186314b1",
   "metadata": {},
   "outputs": [
    {
     "data": {
      "text/plain": [
       "array([[-0.31403945,         nan, -0.1866439 , ...,         nan,\n",
       "                nan,         nan],\n",
       "       [-0.31436369,         nan, -0.09332195, ...,         nan,\n",
       "                nan,         nan],\n",
       "       [-0.15534548,         nan, -0.06598513, ...,         nan,\n",
       "                nan,         nan],\n",
       "       ...,\n",
       "       [        nan,         nan,         nan, ...,         nan,\n",
       "                nan,         nan],\n",
       "       [        nan,         nan,         nan, ...,         nan,\n",
       "                nan,         nan],\n",
       "       [        nan,         nan,         nan, ...,         nan,\n",
       "                nan,         nan]], shape=(2901801, 21))"
      ]
     },
     "execution_count": 8,
     "metadata": {},
     "output_type": "execute_result"
    }
   ],
   "source": [
    "equivalent_slope"
   ]
  },
  {
   "cell_type": "code",
   "execution_count": 18,
   "id": "2d22ae54",
   "metadata": {},
   "outputs": [],
   "source": [
    "equivalent_mass = MetabolicPowerModel._calc_em(equivalent_slope)\n",
    "np.save(\"np_arrays/equivalent_mass.npy\", equivalent_mass)"
   ]
  },
  {
   "cell_type": "code",
   "execution_count": 10,
   "id": "a3373f9c",
   "metadata": {},
   "outputs": [
    {
     "data": {
      "text/plain": [
       "array([[1.04815112,        nan, 1.01726887, ...,        nan,        nan,\n",
       "               nan],\n",
       "       [1.04824832,        nan, 1.00434505, ...,        nan,        nan,\n",
       "               nan],\n",
       "       [1.01199418,        nan, 1.00217465, ...,        nan,        nan,\n",
       "               nan],\n",
       "       ...,\n",
       "       [       nan,        nan,        nan, ...,        nan,        nan,\n",
       "               nan],\n",
       "       [       nan,        nan,        nan, ...,        nan,        nan,\n",
       "               nan],\n",
       "       [       nan,        nan,        nan, ...,        nan,        nan,\n",
       "               nan]], shape=(2901801, 21))"
      ]
     },
     "execution_count": 10,
     "metadata": {},
     "output_type": "execute_result"
    }
   ],
   "source": [
    "equivalent_mass"
   ]
  },
  {
   "cell_type": "code",
   "execution_count": null,
   "id": "fc8b7823",
   "metadata": {},
   "outputs": [],
   "source": [
    "es_power = np.stack(\n",
    "            (\n",
    "                np.power(es, 5),\n",
    "                np.power(es, 4),\n",
    "                np.power(es, 3),\n",
    "                np.power(es, 2),\n",
    "                es,\n",
    "                np.ones(es.shape),\n",
    "            ),\n",
    "            axis=-1,\n",
    "        )\n",
    "np.save(\"np_arrays/es_power.npy\", es_power)"
   ]
  },
  {
   "cell_type": "code",
   "execution_count": null,
   "id": "9f3cb160",
   "metadata": {},
   "outputs": [
    {
     "ename": "",
     "evalue": "",
     "output_type": "error",
     "traceback": [
      "\u001b[1;31mThe Kernel crashed while executing code in the current cell or a previous cell. \n",
      "\u001b[1;31mPlease review the code in the cell(s) to identify a possible cause of the failure. \n",
      "\u001b[1;31mClick <a href='https://aka.ms/vscodeJupyterKernelCrash'>here</a> for more info. \n",
      "\u001b[1;31mView Jupyter <a href='command:jupyter.viewOutput'>log</a> for further details."
     ]
    },
    {
     "ename": "",
     "evalue": "",
     "output_type": "error",
     "traceback": [
      "\u001b[1;31mThe Kernel crashed while executing code in the current cell or a previous cell. \n",
      "\u001b[1;31mPlease review the code in the cell(s) to identify a possible cause of the failure. \n",
      "\u001b[1;31mClick <a href='https://aka.ms/vscodeJupyterKernelCrash'>here</a> for more info. \n",
      "\u001b[1;31mView Jupyter <a href='command:jupyter.viewOutput'>log</a> for further details."
     ]
    }
   ],
   "source": [
    "v_trans = MetabolicPowerModel._calc_v_trans(es_power)"
   ]
  },
  {
   "cell_type": "code",
   "execution_count": 8,
   "id": "2d8d8707",
   "metadata": {},
   "outputs": [
    {
     "ename": "",
     "evalue": "",
     "output_type": "error",
     "traceback": [
      "\u001b[1;31mThe Kernel crashed while executing code in the current cell or a previous cell. \n",
      "\u001b[1;31mPlease review the code in the cell(s) to identify a possible cause of the failure. \n",
      "\u001b[1;31mClick <a href='https://aka.ms/vscodeJupyterKernelCrash'>here</a> for more info. \n",
      "\u001b[1;31mView Jupyter <a href='command:jupyter.viewOutput'>log</a> for further details."
     ]
    }
   ],
   "source": [
    "running = MetabolicPowerModel._is_running(velocity, equivalent_slope)"
   ]
  },
  {
   "cell_type": "code",
   "execution_count": null,
   "id": "a6a16882",
   "metadata": {},
   "outputs": [
    {
     "ename": "",
     "evalue": "",
     "output_type": "error",
     "traceback": [
      "\u001b[1;31mThe Kernel crashed while executing code in the current cell or a previous cell. \n",
      "\u001b[1;31mPlease review the code in the cell(s) to identify a possible cause of the failure. \n",
      "\u001b[1;31mClick <a href='https://aka.ms/vscodeJupyterKernelCrash'>here</a> for more info. \n",
      "\u001b[1;31mView Jupyter <a href='command:jupyter.viewOutput'>log</a> for further details."
     ]
    }
   ],
   "source": [
    "ecl = MetabolicPowerModel._calc_ecl(equivalent_slope, velocity, equivalent_mass, 3.6)"
   ]
  },
  {
   "cell_type": "code",
   "execution_count": 9,
   "id": "2bc066ef",
   "metadata": {},
   "outputs": [
    {
     "ename": "",
     "evalue": "",
     "output_type": "error",
     "traceback": [
      "\u001b[1;31mThe Kernel crashed while executing code in the current cell or a previous cell. \n",
      "\u001b[1;31mPlease review the code in the cell(s) to identify a possible cause of the failure. \n",
      "\u001b[1;31mClick <a href='https://aka.ms/vscodeJupyterKernelCrash'>here</a> for more info. \n",
      "\u001b[1;31mView Jupyter <a href='command:jupyter.viewOutput'>log</a> for further details."
     ]
    }
   ],
   "source": [
    "metabolic_power = MetabolicPowerModel._calc_metabolic_power(\n",
    "            equivalent_slope, velocity, equivalent_mass, 25, 3.6\n",
    "        )"
   ]
  },
  {
   "cell_type": "code",
   "execution_count": null,
   "id": "5b9271ce",
   "metadata": {},
   "outputs": [],
   "source": [
    "equivalent_mass"
   ]
  }
 ],
 "metadata": {
  "kernelspec": {
   "display_name": "floodlight-env",
   "language": "python",
   "name": "python3"
  },
  "language_info": {
   "codemirror_mode": {
    "name": "ipython",
    "version": 3
   },
   "file_extension": ".py",
   "mimetype": "text/x-python",
   "name": "python",
   "nbconvert_exporter": "python",
   "pygments_lexer": "ipython3",
   "version": "3.10.16"
  }
 },
 "nbformat": 4,
 "nbformat_minor": 5
}
