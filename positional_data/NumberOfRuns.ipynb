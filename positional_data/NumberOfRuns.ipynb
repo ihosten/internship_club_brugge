{
 "cells": [
  {
   "cell_type": "markdown",
   "id": "455eb6bc",
   "metadata": {},
   "source": [
    "Notebook to identify the number of high speed runs per player"
   ]
  },
  {
   "cell_type": "code",
   "execution_count": 1,
   "id": "7c9b5183",
   "metadata": {},
   "outputs": [],
   "source": [
    "from pathlib import Path\n",
    "import polars as pl"
   ]
  },
  {
   "cell_type": "code",
   "execution_count": 2,
   "id": "b6a719b5",
   "metadata": {},
   "outputs": [],
   "source": [
    "# define the path to the parquet files containing floodlight data: velocity\n",
    "base_path = Path(\"SecondSpectrum/Second Spectrum\")"
   ]
  },
  {
   "cell_type": "code",
   "execution_count": 3,
   "id": "6030e808",
   "metadata": {},
   "outputs": [],
   "source": [
    "game_path = Path(\"Anderlecht - Club Brugge\")"
   ]
  },
  {
   "cell_type": "code",
   "execution_count": 4,
   "id": "59c4b3a3",
   "metadata": {},
   "outputs": [],
   "source": [
    "velocity_path = Path(base_path, game_path, \"velocity_HT1.parquet\")"
   ]
  },
  {
   "cell_type": "code",
   "execution_count": 5,
   "id": "add055cd",
   "metadata": {},
   "outputs": [],
   "source": [
    "# read the velocity data\n",
    "velocity_df = pl.read_parquet(velocity_path)"
   ]
  },
  {
   "cell_type": "code",
   "execution_count": 6,
   "id": "7d941eb3",
   "metadata": {},
   "outputs": [],
   "source": [
    "# dropping ball status and possession data from the velocity dataframe\n",
    "# keeping it in the dataframe would add the extra option of filtering in ball status and possession\n",
    "velocity_df = velocity_df.drop([\"HT1 ball status\", \"HT1 possession\"])"
   ]
  },
  {
   "cell_type": "code",
   "execution_count": 7,
   "id": "7fafad8a",
   "metadata": {},
   "outputs": [],
   "source": [
    "# target speed (m/s)\n",
    "target_speed = 6.67\n",
    "\n",
    "#percentage of target speed loss to define to define the end of a high speed run\n",
    "drop_off = 0.05\n",
    "\n",
    "# determine the cutoff speed based on the target speed and the dropoff percentage\n",
    "cutoff_speed = target_speed - (target_speed * drop_off)"
   ]
  },
  {
   "cell_type": "code",
   "execution_count": null,
   "id": "f0947cac",
   "metadata": {},
   "outputs": [],
   "source": [
    "player_HSR = {}\n",
    "\n",
    "for player in velocity_df.columns:\n",
    "    # initialize a run counter storing the number of runs above a treshold\n",
    "    run_counter = 0\n",
    "    \n",
    "    # initialize a boolean variable that defines if a frame is above a certain treshold or not\n",
    "    # used to determine if frames are part of the same run or not\n",
    "    speed_treshold = False\n",
    "    \n",
    "    for speed in velocity_df[player]:\n",
    "\n",
    "        # detect a high speed run (= speed greater than treshold)\n",
    "        if speed >= target_speed and not speed_treshold:\n",
    "            run_counter += 1\n",
    "            \n",
    "            speed_treshold = True\n",
    "            \n",
    "        # make sure frames of the same run are not counted seperatly\n",
    "        elif speed >= target_speed and speed_treshold:\n",
    "            continue\n",
    "        \n",
    "        # detect the end off a high speed run based by a drop in speed based on cutoff_speed\n",
    "        elif speed <= cutoff_speed and speed_treshold:\n",
    "            speed_treshold = False\n",
    "            \n",
    "        else:\n",
    "            continue\n",
    "    \n",
    "    player_HSR[player] = run_counter"
   ]
  },
  {
   "cell_type": "code",
   "execution_count": 9,
   "id": "6bf95eba",
   "metadata": {},
   "outputs": [
    {
     "data": {
      "text/html": [
       "<div><style>\n",
       ".dataframe > thead > tr,\n",
       ".dataframe > tbody > tr {\n",
       "  text-align: right;\n",
       "  white-space: pre-wrap;\n",
       "}\n",
       "</style>\n",
       "<small>shape: (1, 42)</small><table border=\"1\" class=\"dataframe\"><thead><tr><th>C. Coosemans</th><th>Amuzu</th><th>M. Rits</th><th>T. Leoni</th><th>K. Dolberg</th><th>K. Sardella</th><th>A. Dreyer</th><th>L. Dendoncker</th><th>J. Simić</th><th>Amando Lapage</th><th>Ali Maamar</th><th>L. Vázquez</th><th>Y. Verschaeren</th><th>N. Engwanda</th><th>Mads Kikkenborg</th><th>S. Edozie</th><th>Thorgan Hazard</th><th>T. Degreef</th><th>Thomas Foket</th><th>Timon Vanhoutte</th><th>Anas Tajaouart</th><th>S. Mignolet</th><th>Ordoñez</th><th>Ferran Jutglà</th><th>K. Sabbe</th><th>C. Talbi</th><th>H. Vanaken</th><th>B. Mechele</th><th>C. Tzolis</th><th>Maxim De Cuyper</th><th>Ardon Jashari</th><th>Raphael Onyedika</th><th>Bjorn Meijer</th><th>Michal Skoras</th><th>J. Spileers</th><th>C. Nielsen</th><th>Romero</th><th>H. Vetlesen</th><th>Siquet</th><th>Jackers</th><th>Romeo Vermant</th><th>Gustaf Nilsson</th></tr><tr><td>i64</td><td>i64</td><td>i64</td><td>i64</td><td>i64</td><td>i64</td><td>i64</td><td>i64</td><td>i64</td><td>i64</td><td>i64</td><td>i64</td><td>i64</td><td>i64</td><td>i64</td><td>i64</td><td>i64</td><td>i64</td><td>i64</td><td>i64</td><td>i64</td><td>i64</td><td>i64</td><td>i64</td><td>i64</td><td>i64</td><td>i64</td><td>i64</td><td>i64</td><td>i64</td><td>i64</td><td>i64</td><td>i64</td><td>i64</td><td>i64</td><td>i64</td><td>i64</td><td>i64</td><td>i64</td><td>i64</td><td>i64</td><td>i64</td></tr></thead><tbody><tr><td>0</td><td>7</td><td>6</td><td>1</td><td>8</td><td>12</td><td>12</td><td>7</td><td>9</td><td>6</td><td>15</td><td>0</td><td>0</td><td>0</td><td>0</td><td>0</td><td>0</td><td>0</td><td>0</td><td>0</td><td>0</td><td>0</td><td>7</td><td>11</td><td>6</td><td>15</td><td>5</td><td>7</td><td>18</td><td>12</td><td>8</td><td>2</td><td>0</td><td>0</td><td>0</td><td>0</td><td>0</td><td>0</td><td>0</td><td>0</td><td>0</td><td>0</td></tr></tbody></table></div>"
      ],
      "text/plain": [
       "shape: (1, 42)\n",
       "┌──────────────┬───────┬─────────┬──────────┬───┬────────┬─────────┬───────────────┬─────────┐\n",
       "│ C. Coosemans ┆ Amuzu ┆ M. Rits ┆ T. Leoni ┆ … ┆ Siquet ┆ Jackers ┆ Romeo Vermant ┆ Gustaf  │\n",
       "│ ---          ┆ ---   ┆ ---     ┆ ---      ┆   ┆ ---    ┆ ---     ┆ ---           ┆ Nilsson │\n",
       "│ i64          ┆ i64   ┆ i64     ┆ i64      ┆   ┆ i64    ┆ i64     ┆ i64           ┆ ---     │\n",
       "│              ┆       ┆         ┆          ┆   ┆        ┆         ┆               ┆ i64     │\n",
       "╞══════════════╪═══════╪═════════╪══════════╪═══╪════════╪═════════╪═══════════════╪═════════╡\n",
       "│ 0            ┆ 7     ┆ 6       ┆ 1        ┆ … ┆ 0      ┆ 0       ┆ 0             ┆ 0       │\n",
       "└──────────────┴───────┴─────────┴──────────┴───┴────────┴─────────┴───────────────┴─────────┘"
      ]
     },
     "execution_count": 9,
     "metadata": {},
     "output_type": "execute_result"
    }
   ],
   "source": [
    "# convert the dictionary to a dataframe (keys =  column names)\n",
    "HSR_df = pl.from_dict(player_HSR)\n",
    "HSR_df"
   ]
  },
  {
   "cell_type": "code",
   "execution_count": 10,
   "id": "7365f2f7",
   "metadata": {},
   "outputs": [],
   "source": [
    "# opta data: number of runs in first half >24 km/u \n",
    "opta_data = {\n",
    "    'C. Coosemans': 0,\n",
    "    'Amuzu': 8,\n",
    "    'M. Rits': 6,\n",
    "    'T. Leoni': 1,\n",
    "    'K. Dolberg': 12,\n",
    "    'K. Sardella': 14,\n",
    "    'A. Dreyer': 17,\n",
    "    'L. Dendoncker': 8,\n",
    "    'J. Simić': 9,\n",
    "    'Amando Lapage': 6,\n",
    "    'Ali Maamar': 22,\n",
    "    'L. Vázquez': 0.0,\n",
    "    'Y. Verschaeren': 0.0,\n",
    "    'N. Engwanda': 0.0,\n",
    "    'Mads Kikkenborg': 0.0,\n",
    "    'S. Edozie': 0.0,\n",
    "    'Thorgan Hazard': 0.0,\n",
    "    'T. Degreef': 0.0,\n",
    "    'Thomas Foket': 0.0,\n",
    "    'Timon Vanhoutte': 0.0,\n",
    "    'Anas Tajaouart': 0.0,\n",
    "    'S. Mignolet': 0.0,\n",
    "    'Ordoñez': 6,\n",
    "    'Ferran Jutglà': 14,\n",
    "    'K. Sabbe': 7,\n",
    "    'C. Talbi': 13,\n",
    "    'H. Vanaken': 8,\n",
    "    'B. Mechele': 7,\n",
    "    'C. Tzolis': 19,\n",
    "    'Maxim De Cuyper': 16,\n",
    "    'Ardon Jashari': 11,\n",
    "    'Raphael Onyedika': 3,\n",
    "    'Bjorn Meijer': 0.0,\n",
    "    'Michal Skoras': 0.0,\n",
    "    'J. Spileers': 0.0,\n",
    "    'C. Nielsen': 0.0,\n",
    "    'Romero': 0.0,\n",
    "    'H. Vetlesen': 0.0,\n",
    "    'Siquet': 0.0,\n",
    "    'Jackers': 0.0,\n",
    "    'Romeo Vermant': 0.0,\n",
    "    'Gustaf Nilsson': 0.0\n",
    "}"
   ]
  },
  {
   "cell_type": "code",
   "execution_count": 11,
   "id": "d4688826",
   "metadata": {},
   "outputs": [
    {
     "data": {
      "text/html": [
       "<div><style>\n",
       ".dataframe > thead > tr,\n",
       ".dataframe > tbody > tr {\n",
       "  text-align: right;\n",
       "  white-space: pre-wrap;\n",
       "}\n",
       "</style>\n",
       "<small>shape: (1, 42)</small><table border=\"1\" class=\"dataframe\"><thead><tr><th>C. Coosemans</th><th>Amuzu</th><th>M. Rits</th><th>T. Leoni</th><th>K. Dolberg</th><th>K. Sardella</th><th>A. Dreyer</th><th>L. Dendoncker</th><th>J. Simić</th><th>Amando Lapage</th><th>Ali Maamar</th><th>L. Vázquez</th><th>Y. Verschaeren</th><th>N. Engwanda</th><th>Mads Kikkenborg</th><th>S. Edozie</th><th>Thorgan Hazard</th><th>T. Degreef</th><th>Thomas Foket</th><th>Timon Vanhoutte</th><th>Anas Tajaouart</th><th>S. Mignolet</th><th>Ordoñez</th><th>Ferran Jutglà</th><th>K. Sabbe</th><th>C. Talbi</th><th>H. Vanaken</th><th>B. Mechele</th><th>C. Tzolis</th><th>Maxim De Cuyper</th><th>Ardon Jashari</th><th>Raphael Onyedika</th><th>Bjorn Meijer</th><th>Michal Skoras</th><th>J. Spileers</th><th>C. Nielsen</th><th>Romero</th><th>H. Vetlesen</th><th>Siquet</th><th>Jackers</th><th>Romeo Vermant</th><th>Gustaf Nilsson</th></tr><tr><td>i64</td><td>i64</td><td>i64</td><td>i64</td><td>i64</td><td>i64</td><td>i64</td><td>i64</td><td>i64</td><td>i64</td><td>i64</td><td>f64</td><td>f64</td><td>f64</td><td>f64</td><td>f64</td><td>f64</td><td>f64</td><td>f64</td><td>f64</td><td>f64</td><td>f64</td><td>i64</td><td>i64</td><td>i64</td><td>i64</td><td>i64</td><td>i64</td><td>i64</td><td>i64</td><td>i64</td><td>i64</td><td>f64</td><td>f64</td><td>f64</td><td>f64</td><td>f64</td><td>f64</td><td>f64</td><td>f64</td><td>f64</td><td>f64</td></tr></thead><tbody><tr><td>0</td><td>8</td><td>6</td><td>1</td><td>12</td><td>14</td><td>17</td><td>8</td><td>9</td><td>6</td><td>22</td><td>0.0</td><td>0.0</td><td>0.0</td><td>0.0</td><td>0.0</td><td>0.0</td><td>0.0</td><td>0.0</td><td>0.0</td><td>0.0</td><td>0.0</td><td>6</td><td>14</td><td>7</td><td>13</td><td>8</td><td>7</td><td>19</td><td>16</td><td>11</td><td>3</td><td>0.0</td><td>0.0</td><td>0.0</td><td>0.0</td><td>0.0</td><td>0.0</td><td>0.0</td><td>0.0</td><td>0.0</td><td>0.0</td></tr></tbody></table></div>"
      ],
      "text/plain": [
       "shape: (1, 42)\n",
       "┌──────────────┬───────┬─────────┬──────────┬───┬────────┬─────────┬───────────────┬─────────┐\n",
       "│ C. Coosemans ┆ Amuzu ┆ M. Rits ┆ T. Leoni ┆ … ┆ Siquet ┆ Jackers ┆ Romeo Vermant ┆ Gustaf  │\n",
       "│ ---          ┆ ---   ┆ ---     ┆ ---      ┆   ┆ ---    ┆ ---     ┆ ---           ┆ Nilsson │\n",
       "│ i64          ┆ i64   ┆ i64     ┆ i64      ┆   ┆ f64    ┆ f64     ┆ f64           ┆ ---     │\n",
       "│              ┆       ┆         ┆          ┆   ┆        ┆         ┆               ┆ f64     │\n",
       "╞══════════════╪═══════╪═════════╪══════════╪═══╪════════╪═════════╪═══════════════╪═════════╡\n",
       "│ 0            ┆ 8     ┆ 6       ┆ 1        ┆ … ┆ 0.0    ┆ 0.0     ┆ 0.0           ┆ 0.0     │\n",
       "└──────────────┴───────┴─────────┴──────────┴───┴────────┴─────────┴───────────────┴─────────┘"
      ]
     },
     "execution_count": 11,
     "metadata": {},
     "output_type": "execute_result"
    }
   ],
   "source": [
    "opta_df = pl.from_dict(opta_data)\n",
    "opta_df"
   ]
  },
  {
   "cell_type": "code",
   "execution_count": 12,
   "id": "d4e3e919",
   "metadata": {},
   "outputs": [
    {
     "name": "stdout",
     "output_type": "stream",
     "text": [
      "nan\n",
      "87.5\n",
      "100.0\n",
      "100.0\n",
      "66.66666666666666\n",
      "85.71428571428571\n",
      "70.58823529411765\n",
      "87.5\n",
      "100.0\n",
      "100.0\n",
      "68.18181818181817\n",
      "nan\n",
      "nan\n",
      "nan\n",
      "nan\n",
      "nan\n",
      "nan\n",
      "nan\n",
      "nan\n",
      "nan\n",
      "nan\n",
      "nan\n",
      "116.66666666666667\n",
      "78.57142857142857\n",
      "85.71428571428571\n",
      "115.38461538461537\n",
      "62.5\n",
      "100.0\n",
      "94.73684210526315\n",
      "75.0\n",
      "72.72727272727273\n",
      "66.66666666666666\n",
      "nan\n",
      "nan\n",
      "nan\n",
      "nan\n",
      "nan\n",
      "nan\n",
      "nan\n",
      "nan\n",
      "nan\n",
      "nan\n"
     ]
    }
   ],
   "source": [
    "# comparing opta to floodlight \n",
    "for col in HSR_df.columns:\n",
    "    result = (HSR_df[col] / opta_df[col] * 100).item()\n",
    "    print(result)"
   ]
  }
 ],
 "metadata": {
  "kernelspec": {
   "display_name": "floodlight-env",
   "language": "python",
   "name": "python3"
  },
  "language_info": {
   "codemirror_mode": {
    "name": "ipython",
    "version": 3
   },
   "file_extension": ".py",
   "mimetype": "text/x-python",
   "name": "python",
   "nbconvert_exporter": "python",
   "pygments_lexer": "ipython3",
   "version": "3.10.16"
  }
 },
 "nbformat": 4,
 "nbformat_minor": 5
}
