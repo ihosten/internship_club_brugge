{
 "cells": [
  {
   "cell_type": "code",
   "execution_count": 1,
   "id": "63edaf16",
   "metadata": {},
   "outputs": [],
   "source": [
    "from floodligt_functions import clean_metadata\n",
    "from floodligt_functions import read_position_data_jsonl\n",
    "\n",
    "import numpy as np\n",
    "from pathlib import Path\n",
    "import json\n",
    "import io\n",
    "import polars as pl\n",
    "import floodlight\n",
    "#from floodlight.io.secondspectrum import read_position_data_jsonl\n",
    "from floodlight.io.secondspectrum import read_teamsheets_from_meta_json\n",
    "import json\n",
    "import tempfile\n",
    "from typing import Union, Tuple, Dict\n",
    "from pathlib import Path\n",
    "from floodlight.core.pitch import Pitch\n",
    "from floodlight.io.utils import get_and_convert\n",
    "from floodlight.core.teamsheet import Teamsheet\n",
    "from floodlight.core.xy import XY\n",
    "from floodlight.core.code import Code\n",
    "from floodlight.models.kinematics import AccelerationModel\n",
    "from floodlight.models.kinematics import DistanceModel\n",
    "from floodlight.models.kinematics import VelocityModel"
   ]
  },
  {
   "cell_type": "code",
   "execution_count": 2,
   "id": "0587fa78",
   "metadata": {},
   "outputs": [],
   "source": [
    "filepath_position = Path(\"SecondSpectrum/Second Spectrum/Anderlecht - Club Brugge/tracking-produced.jsonl\")"
   ]
  },
  {
   "cell_type": "code",
   "execution_count": 3,
   "id": "badc27cf",
   "metadata": {},
   "outputs": [],
   "source": [
    "filepath_metadata = Path(\"SecondSpectrum/Second Spectrum/Anderlecht - Club Brugge/rsc-bru_metadata.json\")"
   ]
  },
  {
   "cell_type": "code",
   "execution_count": 4,
   "id": "38c2e6c7",
   "metadata": {},
   "outputs": [],
   "source": [
    "filepath_cleaned_metadata = Path(\"cleaned_metadata.json\")"
   ]
  },
  {
   "cell_type": "code",
   "execution_count": 5,
   "id": "1cca56ef",
   "metadata": {},
   "outputs": [],
   "source": [
    "meta_cleaned_path = Path(\"cleaned_metadata.json\")"
   ]
  },
  {
   "cell_type": "code",
   "execution_count": 6,
   "id": "8ce8a841",
   "metadata": {},
   "outputs": [],
   "source": [
    "clean_metadata(filepath_metadata)"
   ]
  },
  {
   "cell_type": "code",
   "execution_count": 7,
   "id": "4045c6f9",
   "metadata": {},
   "outputs": [],
   "source": [
    "position_data = read_position_data_jsonl(\n",
    "    filepath_position,\n",
    "    filepath_cleaned_metadata\n",
    ")"
   ]
  },
  {
   "cell_type": "code",
   "execution_count": 8,
   "id": "639d4630",
   "metadata": {},
   "outputs": [
    {
     "data": {
      "text/plain": [
       "({'HT1': {'Home': XY(xy=array([[-46.38,  -0.06,  -0.57, ...,    nan,    nan,    nan],\n",
       "          [-46.36,  -0.06,  -0.56, ...,    nan,    nan,    nan],\n",
       "          [-46.35,  -0.08,  -0.55, ...,    nan,    nan,    nan],\n",
       "          ...,\n",
       "          [   nan,    nan,    nan, ...,    nan,    nan,    nan],\n",
       "          [   nan,    nan,    nan, ...,    nan,    nan,    nan],\n",
       "          [   nan,    nan,    nan, ...,    nan,    nan,    nan]],\n",
       "         shape=(3054601, 42)), framerate=25, direction='lr'),\n",
       "   'Away': XY(xy=array([[42.22, -0.24,  8.87, ...,   nan,   nan,   nan],\n",
       "          [42.21, -0.24,  8.88, ...,   nan,   nan,   nan],\n",
       "          [42.21, -0.23,  8.88, ...,   nan,   nan,   nan],\n",
       "          ...,\n",
       "          [  nan,   nan,   nan, ...,   nan,   nan,   nan],\n",
       "          [  nan,   nan,   nan, ...,   nan,   nan,   nan],\n",
       "          [  nan,   nan,   nan, ...,   nan,   nan,   nan]],\n",
       "         shape=(3054601, 42)), framerate=25, direction='rl'),\n",
       "   'Ball': XY(xy=array([[-0.21,  0.07],\n",
       "          [ 0.5 , -0.08],\n",
       "          [ 1.26, -0.19],\n",
       "          ...,\n",
       "          [  nan,   nan],\n",
       "          [  nan,   nan],\n",
       "          [  nan,   nan]], shape=(3054601, 2)), framerate=25, direction=None)},\n",
       "  'HT2': {'Home': XY(xy=array([[39.94, -0.09,   nan, ...,   nan,   nan,   nan],\n",
       "          [39.8 , -0.09,   nan, ...,   nan,   nan,   nan],\n",
       "          [39.67, -0.09,   nan, ...,   nan,   nan,   nan],\n",
       "          ...,\n",
       "          [  nan,   nan,   nan, ...,   nan,   nan,   nan],\n",
       "          [  nan,   nan,   nan, ...,   nan,   nan,   nan],\n",
       "          [  nan,   nan,   nan, ...,   nan,   nan,   nan]],\n",
       "         shape=(2901801, 42)), framerate=25, direction='rl'),\n",
       "   'Away': XY(xy=array([[-43.74,  -1.92, -20.18, ...,    nan,    nan,    nan],\n",
       "          [-43.75,  -1.94, -20.21, ...,    nan,    nan,    nan],\n",
       "          [-43.75,  -1.96, -20.24, ...,    nan,    nan,    nan],\n",
       "          ...,\n",
       "          [   nan,    nan,    nan, ...,    nan,    nan,    nan],\n",
       "          [   nan,    nan,    nan, ...,    nan,    nan,    nan],\n",
       "          [   nan,    nan,    nan, ...,    nan,    nan,    nan]],\n",
       "         shape=(2901801, 42)), framerate=25, direction='lr'),\n",
       "   'Ball': XY(xy=array([[nan, nan],\n",
       "          [nan, nan],\n",
       "          [nan, nan],\n",
       "          ...,\n",
       "          [nan, nan],\n",
       "          [nan, nan],\n",
       "          [nan, nan]], shape=(2901801, 2)), framerate=25, direction=None)}},\n",
       " {'HT1': Code(code=array(['H', 'H', 'H', ..., nan, nan, nan], shape=(3054601,), dtype=object), name='possession', definitions={'H': 'Home', 'A': 'Away'}, framerate=25),\n",
       "  'HT2': Code(code=array(['H', 'H', 'H', ..., nan, nan, nan], shape=(2901801,), dtype=object), name='possession', definitions={'H': 'Home', 'A': 'Away'}, framerate=25)},\n",
       " {'HT1': Code(code=array(['D', 'D', 'D', ..., nan, nan, nan], shape=(3054601,), dtype=object), name='ballstatus', definitions={'D': 'Dead', 'A': 'Alive'}, framerate=25),\n",
       "  'HT2': Code(code=array(['D', 'D', 'D', ..., nan, nan, nan], shape=(2901801,), dtype=object), name='ballstatus', definitions={'D': 'Dead', 'A': 'Alive'}, framerate=25)},\n",
       " {'Home': Teamsheet(teamsheet=             player  jID   pID position  xID\n",
       "  0      C. Coosemans   26  None       GK    0\n",
       "  1             Amuzu    7  None       MF    1\n",
       "  2           M. Rits   23  None       MF    2\n",
       "  3          T. Leoni   17  None       MF    3\n",
       "  4        K. Dolberg   12  None       FW    4\n",
       "  5       K. Sardella   54  None       DF    5\n",
       "  6         A. Dreyer   36  None       MF    6\n",
       "  7     L. Dendoncker   32  None       MF    7\n",
       "  8          J. Simić    4  None       DF    8\n",
       "  9     Amando Lapage   73  None       DF    9\n",
       "  10       Ali Maamar   79  None       MF   10\n",
       "  11       L. Vázquez   20  None      SUB   11\n",
       "  12   Y. Verschaeren   10  None      SUB   12\n",
       "  13      N. Engwanda   71  None      SUB   13\n",
       "  14  Mads Kikkenborg   16  None      SUB   14\n",
       "  15        S. Edozie   27  None      SUB   15\n",
       "  16   Thorgan Hazard   11  None      SUB   16\n",
       "  17       T. Degreef   83  None      SUB   17\n",
       "  18     Thomas Foket   25  None      SUB   18\n",
       "  19  Timon Vanhoutte   63  None      SUB   19\n",
       "  20   Anas Tajaouart   78  None      SUB   20),\n",
       "  'Away': Teamsheet(teamsheet=              player  jID   pID position  xID\n",
       "  0        S. Mignolet   22  None       GK    0\n",
       "  1            Ordoñez    4  None       DF    1\n",
       "  2      Ferran Jutglà    9  None       FW    2\n",
       "  3           K. Sabbe   64  None       DF    3\n",
       "  4           C. Talbi   68  None       MF    4\n",
       "  5         H. Vanaken   20  None       MF    5\n",
       "  6         B. Mechele   44  None       DF    6\n",
       "  7          C. Tzolis    8  None       FW    7\n",
       "  8    Maxim De Cuyper   55  None       DF    8\n",
       "  9      Ardon Jashari   30  None       MF    9\n",
       "  10  Raphael Onyedika   15  None       MF   10\n",
       "  11      Bjorn Meijer   14  None      SUB   11\n",
       "  12     Michal Skoras   21  None      SUB   12\n",
       "  13       J. Spileers   58  None      SUB   13\n",
       "  14        C. Nielsen   27  None      SUB   14\n",
       "  15            Romero    2  None      SUB   15\n",
       "  16       H. Vetlesen   10  None      SUB   16\n",
       "  17            Siquet   41  None      SUB   17\n",
       "  18           Jackers   29  None      SUB   18\n",
       "  19     Romeo Vermant   17  None      SUB   19\n",
       "  20    Gustaf Nilsson   19  None      SUB   20)},\n",
       " Pitch(xlim=(-51.729, 51.729), ylim=(-33.488, 33.488), unit='m', boundaries='flexible', length=103.4589780029297, width=66.97553049316407, sport='football'))"
      ]
     },
     "execution_count": 8,
     "metadata": {},
     "output_type": "execute_result"
    }
   ],
   "source": [
    "position_data"
   ]
  },
  {
   "cell_type": "code",
   "execution_count": 9,
   "id": "a8ecdc91",
   "metadata": {},
   "outputs": [],
   "source": [
    "# get list of home players\n",
    "# this will be used to match player with correct position data\n",
    "home_players = [player for player in position_data[3]['Home'][\"player\"]]"
   ]
  },
  {
   "cell_type": "code",
   "execution_count": 10,
   "id": "435e2ed0",
   "metadata": {},
   "outputs": [],
   "source": [
    "# get list of away players\n",
    "away_players = [player for player in position_data[3]['Away'][\"player\"]]"
   ]
  },
  {
   "cell_type": "code",
   "execution_count": 11,
   "id": "a62e1169",
   "metadata": {},
   "outputs": [],
   "source": [
    "HT1_possession = position_data[1]['HT1'].code\n",
    "\n",
    "# Convert np.nan to None so Polars can handle them as nulls\n",
    "HT1_possession = [x if isinstance(x, str) else None for x in HT1_possession]\n",
    "\n",
    "# Create DataFrame\n",
    "HT1_possession_df = pl.DataFrame({\n",
    "    \"HT1_possession\": HT1_possession\n",
    "})"
   ]
  },
  {
   "cell_type": "code",
   "execution_count": 12,
   "id": "bde7405c",
   "metadata": {},
   "outputs": [],
   "source": [
    "HT2_possession = position_data[1]['HT2'].code\n",
    "# Convert np.nan to None so Polars can handle them as nulls\n",
    "HT2_possession = [x if isinstance(x, str) else None for x in HT2_possession]\n",
    "\n",
    "# Create DataFrame\n",
    "HT2_possession_df = pl.DataFrame({\n",
    "    \"HT2_possession\": HT2_possession\n",
    "})"
   ]
  },
  {
   "cell_type": "code",
   "execution_count": 13,
   "id": "afd8dada",
   "metadata": {},
   "outputs": [],
   "source": [
    "HT1_Ball_Status = position_data[2]['HT1'].code\n",
    "# Convert np.nan to None so Polars can handle them as nulls\n",
    "HT1_Ball_Status = [x if isinstance(x, str) else None for x in HT1_Ball_Status]\n",
    "\n",
    "# Create DataFrame\n",
    "HT1_Ball_Status_df = pl.DataFrame({\n",
    "    \"HT1_Ball_Status\": HT1_Ball_Status\n",
    "})"
   ]
  },
  {
   "cell_type": "code",
   "execution_count": 14,
   "id": "fbd139f0",
   "metadata": {},
   "outputs": [],
   "source": [
    "HT2_Ball_Status = position_data[2]['HT2'].code\n",
    "# Convert np.nan to None so Polars can handle them as nulls\n",
    "HT2_Ball_Status = [x if isinstance(x, str) else None for x in HT2_Ball_Status]\n",
    "\n",
    "# Create DataFrame\n",
    "HT2_Ball_Status_df = pl.DataFrame({\n",
    "    \"HT2_Ball_Status\": HT2_Ball_Status\n",
    "})"
   ]
  },
  {
   "cell_type": "code",
   "execution_count": 15,
   "id": "21ab6862",
   "metadata": {},
   "outputs": [
    {
     "data": {
      "text/html": [
       "<div><style>\n",
       ".dataframe > thead > tr,\n",
       ".dataframe > tbody > tr {\n",
       "  text-align: right;\n",
       "  white-space: pre-wrap;\n",
       "}\n",
       "</style>\n",
       "<small>shape: (3_054_601, 2)</small><table border=\"1\" class=\"dataframe\"><thead><tr><th>HT1_possession</th><th>HT1_Ball_Status</th></tr><tr><td>str</td><td>str</td></tr></thead><tbody><tr><td>&quot;H&quot;</td><td>&quot;D&quot;</td></tr><tr><td>&quot;H&quot;</td><td>&quot;D&quot;</td></tr><tr><td>&quot;H&quot;</td><td>&quot;D&quot;</td></tr><tr><td>&quot;A&quot;</td><td>&quot;A&quot;</td></tr><tr><td>&quot;A&quot;</td><td>&quot;A&quot;</td></tr><tr><td>&hellip;</td><td>&hellip;</td></tr><tr><td>null</td><td>null</td></tr><tr><td>null</td><td>null</td></tr><tr><td>null</td><td>null</td></tr><tr><td>null</td><td>null</td></tr><tr><td>null</td><td>null</td></tr></tbody></table></div>"
      ],
      "text/plain": [
       "shape: (3_054_601, 2)\n",
       "┌────────────────┬─────────────────┐\n",
       "│ HT1_possession ┆ HT1_Ball_Status │\n",
       "│ ---            ┆ ---             │\n",
       "│ str            ┆ str             │\n",
       "╞════════════════╪═════════════════╡\n",
       "│ H              ┆ D               │\n",
       "│ H              ┆ D               │\n",
       "│ H              ┆ D               │\n",
       "│ A              ┆ A               │\n",
       "│ A              ┆ A               │\n",
       "│ …              ┆ …               │\n",
       "│ null           ┆ null            │\n",
       "│ null           ┆ null            │\n",
       "│ null           ┆ null            │\n",
       "│ null           ┆ null            │\n",
       "│ null           ┆ null            │\n",
       "└────────────────┴─────────────────┘"
      ]
     },
     "execution_count": 15,
     "metadata": {},
     "output_type": "execute_result"
    }
   ],
   "source": [
    "# concatenation attempt to see if dataframes are actujally concatenable\n",
    "pl.concat([HT1_possession_df, HT1_Ball_Status_df], how=\"horizontal\")"
   ]
  },
  {
   "cell_type": "code",
   "execution_count": 16,
   "id": "be1338bd",
   "metadata": {},
   "outputs": [],
   "source": [
    "xy_objects = position_data[0]"
   ]
  },
  {
   "cell_type": "code",
   "execution_count": 17,
   "id": "8097dc98",
   "metadata": {},
   "outputs": [
    {
     "data": {
      "text/plain": [
       "XY(xy=array([[-46.38,  -0.06,  -0.57, ...,    nan,    nan,    nan],\n",
       "       [-46.36,  -0.06,  -0.56, ...,    nan,    nan,    nan],\n",
       "       [-46.35,  -0.08,  -0.55, ...,    nan,    nan,    nan],\n",
       "       ...,\n",
       "       [   nan,    nan,    nan, ...,    nan,    nan,    nan],\n",
       "       [   nan,    nan,    nan, ...,    nan,    nan,    nan],\n",
       "       [   nan,    nan,    nan, ...,    nan,    nan,    nan]],\n",
       "      shape=(3054601, 42)), framerate=25, direction='lr')"
      ]
     },
     "execution_count": 17,
     "metadata": {},
     "output_type": "execute_result"
    }
   ],
   "source": [
    "xy_objects['HT1']['Home']#.xy to access the xy values"
   ]
  },
  {
   "cell_type": "code",
   "execution_count": 18,
   "id": "56a32daf",
   "metadata": {},
   "outputs": [
    {
     "data": {
      "text/plain": [
       "array([[-46.38,  -0.06,  -0.57, ...,    nan,    nan,    nan],\n",
       "       [-46.36,  -0.06,  -0.56, ...,    nan,    nan,    nan],\n",
       "       [-46.35,  -0.08,  -0.55, ...,    nan,    nan,    nan],\n",
       "       ...,\n",
       "       [   nan,    nan,    nan, ...,    nan,    nan,    nan],\n",
       "       [   nan,    nan,    nan, ...,    nan,    nan,    nan],\n",
       "       [   nan,    nan,    nan, ...,    nan,    nan,    nan]],\n",
       "      shape=(3054601, 42))"
      ]
     },
     "execution_count": 18,
     "metadata": {},
     "output_type": "execute_result"
    }
   ],
   "source": [
    "xy_objects['HT1']['Home'].xy"
   ]
  },
  {
   "cell_type": "code",
   "execution_count": 19,
   "id": "4d0c3f2c",
   "metadata": {},
   "outputs": [
    {
     "data": {
      "text/plain": [
       "({'HT1': {'Home': XY(xy=array([[-46.38,  -0.06,  -0.57, ...,    nan,    nan,    nan],\n",
       "          [-46.36,  -0.06,  -0.56, ...,    nan,    nan,    nan],\n",
       "          [-46.35,  -0.08,  -0.55, ...,    nan,    nan,    nan],\n",
       "          ...,\n",
       "          [   nan,    nan,    nan, ...,    nan,    nan,    nan],\n",
       "          [   nan,    nan,    nan, ...,    nan,    nan,    nan],\n",
       "          [   nan,    nan,    nan, ...,    nan,    nan,    nan]],\n",
       "         shape=(3054601, 42)), framerate=25, direction='lr'),\n",
       "   'Away': XY(xy=array([[42.22, -0.24,  8.87, ...,   nan,   nan,   nan],\n",
       "          [42.21, -0.24,  8.88, ...,   nan,   nan,   nan],\n",
       "          [42.21, -0.23,  8.88, ...,   nan,   nan,   nan],\n",
       "          ...,\n",
       "          [  nan,   nan,   nan, ...,   nan,   nan,   nan],\n",
       "          [  nan,   nan,   nan, ...,   nan,   nan,   nan],\n",
       "          [  nan,   nan,   nan, ...,   nan,   nan,   nan]],\n",
       "         shape=(3054601, 42)), framerate=25, direction='rl'),\n",
       "   'Ball': XY(xy=array([[-0.21,  0.07],\n",
       "          [ 0.5 , -0.08],\n",
       "          [ 1.26, -0.19],\n",
       "          ...,\n",
       "          [  nan,   nan],\n",
       "          [  nan,   nan],\n",
       "          [  nan,   nan]], shape=(3054601, 2)), framerate=25, direction=None)},\n",
       "  'HT2': {'Home': XY(xy=array([[39.94, -0.09,   nan, ...,   nan,   nan,   nan],\n",
       "          [39.8 , -0.09,   nan, ...,   nan,   nan,   nan],\n",
       "          [39.67, -0.09,   nan, ...,   nan,   nan,   nan],\n",
       "          ...,\n",
       "          [  nan,   nan,   nan, ...,   nan,   nan,   nan],\n",
       "          [  nan,   nan,   nan, ...,   nan,   nan,   nan],\n",
       "          [  nan,   nan,   nan, ...,   nan,   nan,   nan]],\n",
       "         shape=(2901801, 42)), framerate=25, direction='rl'),\n",
       "   'Away': XY(xy=array([[-43.74,  -1.92, -20.18, ...,    nan,    nan,    nan],\n",
       "          [-43.75,  -1.94, -20.21, ...,    nan,    nan,    nan],\n",
       "          [-43.75,  -1.96, -20.24, ...,    nan,    nan,    nan],\n",
       "          ...,\n",
       "          [   nan,    nan,    nan, ...,    nan,    nan,    nan],\n",
       "          [   nan,    nan,    nan, ...,    nan,    nan,    nan],\n",
       "          [   nan,    nan,    nan, ...,    nan,    nan,    nan]],\n",
       "         shape=(2901801, 42)), framerate=25, direction='lr'),\n",
       "   'Ball': XY(xy=array([[nan, nan],\n",
       "          [nan, nan],\n",
       "          [nan, nan],\n",
       "          ...,\n",
       "          [nan, nan],\n",
       "          [nan, nan],\n",
       "          [nan, nan]], shape=(2901801, 2)), framerate=25, direction=None)}},\n",
       " {'HT1': Code(code=array(['H', 'H', 'H', ..., nan, nan, nan], shape=(3054601,), dtype=object), name='possession', definitions={'H': 'Home', 'A': 'Away'}, framerate=25),\n",
       "  'HT2': Code(code=array(['H', 'H', 'H', ..., nan, nan, nan], shape=(2901801,), dtype=object), name='possession', definitions={'H': 'Home', 'A': 'Away'}, framerate=25)},\n",
       " {'HT1': Code(code=array(['D', 'D', 'D', ..., nan, nan, nan], shape=(3054601,), dtype=object), name='ballstatus', definitions={'D': 'Dead', 'A': 'Alive'}, framerate=25),\n",
       "  'HT2': Code(code=array(['D', 'D', 'D', ..., nan, nan, nan], shape=(2901801,), dtype=object), name='ballstatus', definitions={'D': 'Dead', 'A': 'Alive'}, framerate=25)},\n",
       " {'Home': Teamsheet(teamsheet=             player  jID   pID position  xID\n",
       "  0      C. Coosemans   26  None       GK    0\n",
       "  1             Amuzu    7  None       MF    1\n",
       "  2           M. Rits   23  None       MF    2\n",
       "  3          T. Leoni   17  None       MF    3\n",
       "  4        K. Dolberg   12  None       FW    4\n",
       "  5       K. Sardella   54  None       DF    5\n",
       "  6         A. Dreyer   36  None       MF    6\n",
       "  7     L. Dendoncker   32  None       MF    7\n",
       "  8          J. Simić    4  None       DF    8\n",
       "  9     Amando Lapage   73  None       DF    9\n",
       "  10       Ali Maamar   79  None       MF   10\n",
       "  11       L. Vázquez   20  None      SUB   11\n",
       "  12   Y. Verschaeren   10  None      SUB   12\n",
       "  13      N. Engwanda   71  None      SUB   13\n",
       "  14  Mads Kikkenborg   16  None      SUB   14\n",
       "  15        S. Edozie   27  None      SUB   15\n",
       "  16   Thorgan Hazard   11  None      SUB   16\n",
       "  17       T. Degreef   83  None      SUB   17\n",
       "  18     Thomas Foket   25  None      SUB   18\n",
       "  19  Timon Vanhoutte   63  None      SUB   19\n",
       "  20   Anas Tajaouart   78  None      SUB   20),\n",
       "  'Away': Teamsheet(teamsheet=              player  jID   pID position  xID\n",
       "  0        S. Mignolet   22  None       GK    0\n",
       "  1            Ordoñez    4  None       DF    1\n",
       "  2      Ferran Jutglà    9  None       FW    2\n",
       "  3           K. Sabbe   64  None       DF    3\n",
       "  4           C. Talbi   68  None       MF    4\n",
       "  5         H. Vanaken   20  None       MF    5\n",
       "  6         B. Mechele   44  None       DF    6\n",
       "  7          C. Tzolis    8  None       FW    7\n",
       "  8    Maxim De Cuyper   55  None       DF    8\n",
       "  9      Ardon Jashari   30  None       MF    9\n",
       "  10  Raphael Onyedika   15  None       MF   10\n",
       "  11      Bjorn Meijer   14  None      SUB   11\n",
       "  12     Michal Skoras   21  None      SUB   12\n",
       "  13       J. Spileers   58  None      SUB   13\n",
       "  14        C. Nielsen   27  None      SUB   14\n",
       "  15            Romero    2  None      SUB   15\n",
       "  16       H. Vetlesen   10  None      SUB   16\n",
       "  17            Siquet   41  None      SUB   17\n",
       "  18           Jackers   29  None      SUB   18\n",
       "  19     Romeo Vermant   17  None      SUB   19\n",
       "  20    Gustaf Nilsson   19  None      SUB   20)},\n",
       " Pitch(xlim=(-51.729, 51.729), ylim=(-33.488, 33.488), unit='m', boundaries='flexible', length=103.4589780029297, width=66.97553049316407, sport='football'))"
      ]
     },
     "execution_count": 19,
     "metadata": {},
     "output_type": "execute_result"
    }
   ],
   "source": [
    "position_data"
   ]
  },
  {
   "cell_type": "markdown",
   "id": "d89d0ac2",
   "metadata": {},
   "source": [
    "Kinematics Function --> acceleration "
   ]
  },
  {
   "cell_type": "code",
   "execution_count": 20,
   "id": "97b66fd0",
   "metadata": {},
   "outputs": [],
   "source": [
    "# Get the HT1 Home accelleration dataframe\n",
    "am1 = AccelerationModel()\n",
    "am1.fit(xy_objects['HT1']['Home'])\n",
    "acceleration = am1.acceleration()\n",
    "np_array = acceleration.property\n",
    "acceleration_HT1_Home_df = pl.DataFrame(np_array, schema=home_players) "
   ]
  },
  {
   "cell_type": "code",
   "execution_count": 21,
   "id": "6b3b1027",
   "metadata": {},
   "outputs": [],
   "source": [
    "# Get the HT2 Home accelleration dataframe\n",
    "am2 = AccelerationModel()\n",
    "am2.fit(xy_objects['HT2']['Home'])\n",
    "acceleration = am2.acceleration()\n",
    "np_array = acceleration.property\n",
    "acceleration_HT2_Home_df = pl.DataFrame(np_array, schema=home_players) "
   ]
  },
  {
   "cell_type": "code",
   "execution_count": 1,
   "id": "27375f2d",
   "metadata": {},
   "outputs": [
    {
     "ename": "NameError",
     "evalue": "name 'AccelerationModel' is not defined",
     "output_type": "error",
     "traceback": [
      "\u001b[0;31m---------------------------------------------------------------------------\u001b[0m",
      "\u001b[0;31mNameError\u001b[0m                                 Traceback (most recent call last)",
      "Cell \u001b[0;32mIn[1], line 2\u001b[0m\n\u001b[1;32m      1\u001b[0m \u001b[38;5;66;03m# Get the HT1 Away accelleration dataframe\u001b[39;00m\n\u001b[0;32m----> 2\u001b[0m am3 \u001b[38;5;241m=\u001b[39m \u001b[43mAccelerationModel\u001b[49m()\n\u001b[1;32m      3\u001b[0m am3\u001b[38;5;241m.\u001b[39mfit(xy_objects[\u001b[38;5;124m'\u001b[39m\u001b[38;5;124mHT1\u001b[39m\u001b[38;5;124m'\u001b[39m][\u001b[38;5;124m'\u001b[39m\u001b[38;5;124mAway\u001b[39m\u001b[38;5;124m'\u001b[39m])\n\u001b[1;32m      4\u001b[0m acceleration \u001b[38;5;241m=\u001b[39m am3\u001b[38;5;241m.\u001b[39macceleration()\n",
      "\u001b[0;31mNameError\u001b[0m: name 'AccelerationModel' is not defined"
     ]
    }
   ],
   "source": [
    "# Get the HT1 Away accelleration dataframe\n",
    "am3 = AccelerationModel()\n",
    "am3.fit(xy_objects['HT1']['Away'])\n",
    "acceleration = am3.acceleration()\n",
    "np_array = acceleration.property\n",
    "acceleration_HT1_away_df = pl.DataFrame(np_array, schema=away_players) "
   ]
  },
  {
   "cell_type": "code",
   "execution_count": null,
   "id": "b65ccbaa",
   "metadata": {},
   "outputs": [],
   "source": [
    "# Get the HT2 Away accelleration dataframe\n",
    "am4 = AccelerationModel()\n",
    "am4.fit(xy_objects['HT2']['Away'])\n",
    "acceleration = am4.acceleration()\n",
    "np_array = acceleration.property\n",
    "acceleration_HT2_away_df = pl.DataFrame(np_array, schema=away_players) "
   ]
  },
  {
   "cell_type": "markdown",
   "id": "2a3f80eb",
   "metadata": {},
   "source": [
    "Kinematics Function --> distance model"
   ]
  },
  {
   "cell_type": "code",
   "execution_count": null,
   "id": "997108e2",
   "metadata": {},
   "outputs": [
    {
     "ename": "NameError",
     "evalue": "name 'DistanceModel' is not defined",
     "output_type": "error",
     "traceback": [
      "\u001b[0;31m---------------------------------------------------------------------------\u001b[0m",
      "\u001b[0;31mNameError\u001b[0m                                 Traceback (most recent call last)",
      "Cell \u001b[0;32mIn[1], line 1\u001b[0m\n\u001b[0;32m----> 1\u001b[0m dm \u001b[38;5;241m=\u001b[39m \u001b[43mDistanceModel\u001b[49m()\n",
      "\u001b[0;31mNameError\u001b[0m: name 'DistanceModel' is not defined"
     ]
    }
   ],
   "source": [
    "dm = DistanceModel()\n",
    "dm.fit(xy_objects['HT1']['Home'])\n",
    "distance_df = dm.distance_covered()\n",
    "np_array = distance_df.property\n",
    "distance_HT1_Home_df = pl.DataFrame(np_array, schema=home_players)"
   ]
  },
  {
   "cell_type": "code",
   "execution_count": null,
   "id": "04a3ffde",
   "metadata": {},
   "outputs": [],
   "source": [
    "dm = DistanceModel()\n",
    "dm.fit(xy_objects['HT1']['Home'])\n",
    "cumulative_distance_array = dm.cumulative_distance_covered()\n",
    "np_array = cumulative_distance_array.property\n",
    "cdistance_HT1_Home_df = pl.DataFrame(np_array, schema=home_players)"
   ]
  },
  {
   "cell_type": "markdown",
   "id": "e7f14cce",
   "metadata": {},
   "source": [
    "Kinematics Function --> velocity model"
   ]
  },
  {
   "cell_type": "code",
   "execution_count": null,
   "id": "901c23a9",
   "metadata": {},
   "outputs": [],
   "source": [
    "vm = VelocityModel()\n",
    "vm.fit(xy_objects['HT1']['Home'])\n",
    "velocity_array = vm.velocity()\n",
    "np_array = velocity_array.property\n",
    "df = pl.DataFrame(np_array, schema=home_players)"
   ]
  }
 ],
 "metadata": {
  "kernelspec": {
   "display_name": "floodlight-env",
   "language": "python",
   "name": "python3"
  },
  "language_info": {
   "codemirror_mode": {
    "name": "ipython",
    "version": 3
   },
   "file_extension": ".py",
   "mimetype": "text/x-python",
   "name": "python",
   "nbconvert_exporter": "python",
   "pygments_lexer": "ipython3",
   "version": "3.10.16"
  }
 },
 "nbformat": 4,
 "nbformat_minor": 5
}
