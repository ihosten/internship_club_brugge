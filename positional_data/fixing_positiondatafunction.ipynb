{
 "cells": [
  {
   "cell_type": "code",
   "execution_count": 1,
   "id": "63edaf16",
   "metadata": {},
   "outputs": [],
   "source": [
    "from floodligt_functions import clean_metadata\n",
    "from floodligt_functions import read_position_data_jsonl\n",
    "\n",
    "import numpy as np\n",
    "from pathlib import Path\n",
    "import json\n",
    "import io\n",
    "import polars as pl\n",
    "import floodlight\n",
    "#from floodlight.io.secondspectrum import read_position_data_jsonl\n",
    "from floodlight.io.secondspectrum import read_teamsheets_from_meta_json\n",
    "import json\n",
    "import tempfile\n",
    "from typing import Union, Tuple, Dict\n",
    "from pathlib import Path\n",
    "from floodlight.core.pitch import Pitch\n",
    "from floodlight.io.utils import get_and_convert\n",
    "from floodlight.core.teamsheet import Teamsheet\n",
    "from floodlight.core.xy import XY\n",
    "from floodlight.core.code import Code\n",
    "from floodlight.models.kinematics import AccelerationModel\n",
    "from floodlight.models.kinematics import DistanceModel\n",
    "from floodlight.models.kinematics import VelocityModel"
   ]
  },
  {
   "cell_type": "code",
   "execution_count": 2,
   "id": "0587fa78",
   "metadata": {},
   "outputs": [],
   "source": [
    "filepath_position = Path(\"SecondSpectrum/Second Spectrum/Anderlecht - Club Brugge/tracking-produced.jsonl\")"
   ]
  },
  {
   "cell_type": "code",
   "execution_count": 3,
   "id": "badc27cf",
   "metadata": {},
   "outputs": [],
   "source": [
    "filepath_metadata = Path(\"SecondSpectrum/Second Spectrum/Anderlecht - Club Brugge/rsc-bru_metadata.json\")"
   ]
  },
  {
   "cell_type": "code",
   "execution_count": 4,
   "id": "38c2e6c7",
   "metadata": {},
   "outputs": [],
   "source": [
    "filepath_cleaned_metadata = Path(\"cleaned_metadata.json\")"
   ]
  },
  {
   "cell_type": "code",
   "execution_count": null,
   "id": "1cca56ef",
   "metadata": {},
   "outputs": [],
   "source": [
    "meta_cleaned_path = Path(\"cleaned_metadata.json\")"
   ]
  },
  {
   "cell_type": "code",
   "execution_count": 6,
   "id": "8ce8a841",
   "metadata": {},
   "outputs": [],
   "source": [
    "clean_metadata(filepath_metadata)"
   ]
  },
  {
   "cell_type": "code",
   "execution_count": 7,
   "id": "4045c6f9",
   "metadata": {},
   "outputs": [],
   "source": [
    "position_data = read_position_data_jsonl(\n",
    "    filepath_position,\n",
    "    filepath_cleaned_metadata\n",
    ")"
   ]
  },
  {
   "cell_type": "markdown",
   "id": "8154c4be",
   "metadata": {},
   "source": [
    "# Getting the data"
   ]
  },
  {
   "cell_type": "code",
   "execution_count": 8,
   "id": "639d4630",
   "metadata": {},
   "outputs": [],
   "source": [
    "#position_data"
   ]
  },
  {
   "cell_type": "code",
   "execution_count": 9,
   "id": "686508a2",
   "metadata": {},
   "outputs": [],
   "source": [
    "halfs = [\"HT2\"]#[\"HT1\", \"HT2\"]\n",
    "teams = [\"Home\", \"Away\"]"
   ]
  },
  {
   "cell_type": "code",
   "execution_count": 10,
   "id": "a8ecdc91",
   "metadata": {},
   "outputs": [],
   "source": [
    "# get list of home players\n",
    "# this will be used to match player with correct position data\n",
    "home_players = [player for player in position_data[3]['Home'][\"player\"]]\n",
    "\n",
    "# get list of away players\n",
    "away_players = [player for player in position_data[3]['Away'][\"player\"]]"
   ]
  },
  {
   "cell_type": "code",
   "execution_count": 11,
   "id": "d070686b",
   "metadata": {},
   "outputs": [],
   "source": [
    "possession_status = {}\n",
    "\n",
    "for half in halfs:\n",
    "    half_possession = position_data[1][half].code\n",
    "\n",
    "    # Convert np.nan to None so Polars can handle them as nulls\n",
    "    half_possession = [x if isinstance(x, str) else None for x in half_possession]\n",
    "\n",
    "    # Create DataFrame\n",
    "    possession_status[half] = pl.DataFrame({\n",
    "        f\"{half} possession\": half_possession\n",
    "    })"
   ]
  },
  {
   "cell_type": "code",
   "execution_count": 12,
   "id": "34fa2629",
   "metadata": {},
   "outputs": [],
   "source": [
    "ball_status = {}\n",
    "\n",
    "for half in halfs:\n",
    "    half_ball_status = position_data[2][half].code\n",
    "    half_ball_status = [x if isinstance(x, str) else None for x in half_ball_status]\n",
    "    ball_status[half] = pl.DataFrame({\n",
    "        f\"{half} ball status\": half_ball_status\n",
    "    })\n"
   ]
  },
  {
   "cell_type": "code",
   "execution_count": 13,
   "id": "be1338bd",
   "metadata": {},
   "outputs": [],
   "source": [
    "xy_objects = position_data[0]"
   ]
  },
  {
   "cell_type": "code",
   "execution_count": 14,
   "id": "8097dc98",
   "metadata": {},
   "outputs": [],
   "source": [
    "#xy_objects['HT1']['Home']#.xy to access the xy values"
   ]
  },
  {
   "cell_type": "code",
   "execution_count": 15,
   "id": "56a32daf",
   "metadata": {},
   "outputs": [
    {
     "data": {
      "text/plain": [
       "array([[-46.38,  -0.06,  -0.57, ...,    nan,    nan,    nan],\n",
       "       [-46.36,  -0.06,  -0.56, ...,    nan,    nan,    nan],\n",
       "       [-46.35,  -0.08,  -0.55, ...,    nan,    nan,    nan],\n",
       "       ...,\n",
       "       [   nan,    nan,    nan, ...,    nan,    nan,    nan],\n",
       "       [   nan,    nan,    nan, ...,    nan,    nan,    nan],\n",
       "       [   nan,    nan,    nan, ...,    nan,    nan,    nan]],\n",
       "      shape=(3054601, 42))"
      ]
     },
     "execution_count": 15,
     "metadata": {},
     "output_type": "execute_result"
    }
   ],
   "source": [
    "xy_objects['HT1']['Home'].xy"
   ]
  },
  {
   "cell_type": "code",
   "execution_count": 16,
   "id": "4d0c3f2c",
   "metadata": {},
   "outputs": [],
   "source": [
    "# position_data"
   ]
  },
  {
   "cell_type": "markdown",
   "id": "957e2edf",
   "metadata": {},
   "source": [
    "Kinematics Function --> acceleration "
   ]
  },
  {
   "cell_type": "code",
   "execution_count": 17,
   "id": "47b881ed",
   "metadata": {},
   "outputs": [],
   "source": [
    "# Dictionary to store results\n",
    "acceleration_dfs = {}\n",
    "\n",
    "for half in halfs:\n",
    "    acceleration_dfs[half] = {}\n",
    "    \n",
    "    for team in teams:\n",
    "        am = AccelerationModel()\n",
    "        am.fit(xy_objects[half][team])\n",
    "        acceleration = am.acceleration()\n",
    "        np_array = acceleration.property\n",
    "        #np_array = np.where(np.isnan(np_array), 0.1, np_array)\n",
    "        schema = home_players if team == \"Home\" else away_players\n",
    "        acceleration_dfs[half][team] = pl.DataFrame(np_array, schema=schema)\n",
    "        "
   ]
  },
  {
   "cell_type": "code",
   "execution_count": 33,
   "id": "5edc9b72",
   "metadata": {},
   "outputs": [
    {
     "data": {
      "text/plain": [
       "PlayerProperty(property=array([[-1.09071978e+00, -6.32827124e-13, -3.12500000e+00, ...,\n",
       "                    nan,             nan,             nan],\n",
       "       [-5.45359890e-01, -1.45705167e+00, -3.12500000e+00, ...,\n",
       "                    nan,             nan,             nan],\n",
       "       [-1.50129370e+00, -1.45705167e+00, -1.56250000e+00, ...,\n",
       "                    nan,             nan,             nan],\n",
       "       ...,\n",
       "       [            nan,             nan,             nan, ...,\n",
       "                    nan,             nan,             nan],\n",
       "       [            nan,             nan,             nan, ...,\n",
       "                    nan,             nan,             nan],\n",
       "       [            nan,             nan,             nan, ...,\n",
       "                    nan,             nan,             nan]],\n",
       "      shape=(2901801, 21)), name='acceleration', framerate=25)"
      ]
     },
     "execution_count": 33,
     "metadata": {},
     "output_type": "execute_result"
    }
   ],
   "source": [
    "acceleration"
   ]
  },
  {
   "cell_type": "code",
   "execution_count": 88,
   "id": "6cbb5b0a",
   "metadata": {},
   "outputs": [],
   "source": [
    "acceleration_df = pl.concat(\n",
    "    [acceleration_dfs['HT2']['Home'], acceleration_dfs['HT2']['Away'], ball_status['HT2'], possession_status[\"HT2\"]], how=\"horizontal\"\n",
    ").filter(\n",
    "    (pl.col(\"HT2 ball status\") == \"A\") & (pl.col(\"HT2 possession\") == \"A\")\n",
    ").drop(\n",
    "    [\"HT2 ball status\", \"HT2 possession\"]\n",
    ").select(\n",
    "    pl.all().abs().is_not_nan().mean()\n",
    ")\n",
    "\n",
    "# other expressions\n",
    "#pl.all().max()\n",
    "#pl.all().min()\n",
    "\n"
   ]
  },
  {
   "cell_type": "code",
   "execution_count": 89,
   "id": "b30edff1",
   "metadata": {},
   "outputs": [
    {
     "data": {
      "text/html": [
       "<div><style>\n",
       ".dataframe > thead > tr,\n",
       ".dataframe > tbody > tr {\n",
       "  text-align: right;\n",
       "  white-space: pre-wrap;\n",
       "}\n",
       "</style>\n",
       "<small>shape: (1, 42)</small><table border=\"1\" class=\"dataframe\"><thead><tr><th>C. Coosemans</th><th>Amuzu</th><th>M. Rits</th><th>T. Leoni</th><th>K. Dolberg</th><th>K. Sardella</th><th>A. Dreyer</th><th>L. Dendoncker</th><th>J. Simić</th><th>Amando Lapage</th><th>Ali Maamar</th><th>L. Vázquez</th><th>Y. Verschaeren</th><th>N. Engwanda</th><th>Mads Kikkenborg</th><th>S. Edozie</th><th>Thorgan Hazard</th><th>T. Degreef</th><th>Thomas Foket</th><th>Timon Vanhoutte</th><th>Anas Tajaouart</th><th>S. Mignolet</th><th>Ordoñez</th><th>Ferran Jutglà</th><th>K. Sabbe</th><th>C. Talbi</th><th>H. Vanaken</th><th>B. Mechele</th><th>C. Tzolis</th><th>Maxim De Cuyper</th><th>Ardon Jashari</th><th>Raphael Onyedika</th><th>Bjorn Meijer</th><th>Michal Skoras</th><th>J. Spileers</th><th>C. Nielsen</th><th>Romero</th><th>H. Vetlesen</th><th>Siquet</th><th>Jackers</th><th>Romeo Vermant</th><th>Gustaf Nilsson</th></tr><tr><td>f64</td><td>f64</td><td>f64</td><td>f64</td><td>f64</td><td>f64</td><td>f64</td><td>f64</td><td>f64</td><td>f64</td><td>f64</td><td>f64</td><td>f64</td><td>f64</td><td>f64</td><td>f64</td><td>f64</td><td>f64</td><td>f64</td><td>f64</td><td>f64</td><td>f64</td><td>f64</td><td>f64</td><td>f64</td><td>f64</td><td>f64</td><td>f64</td><td>f64</td><td>f64</td><td>f64</td><td>f64</td><td>f64</td><td>f64</td><td>f64</td><td>f64</td><td>f64</td><td>f64</td><td>f64</td><td>f64</td><td>f64</td><td>f64</td></tr></thead><tbody><tr><td>1.0</td><td>0.0</td><td>0.656885</td><td>0.656885</td><td>0.0</td><td>1.0</td><td>0.437817</td><td>1.0</td><td>1.0</td><td>1.0</td><td>1.0</td><td>1.0</td><td>0.343115</td><td>0.0</td><td>0.0</td><td>1.0</td><td>0.562183</td><td>0.343115</td><td>0.0</td><td>0.0</td><td>0.0</td><td>1.0</td><td>0.817623</td><td>0.437817</td><td>0.437817</td><td>0.817623</td><td>1.0</td><td>1.0</td><td>0.899589</td><td>1.0</td><td>1.0</td><td>1.0</td><td>0.562183</td><td>0.182377</td><td>0.182377</td><td>0.0</td><td>0.0</td><td>0.100411</td><td>0.0</td><td>0.0</td><td>0.0</td><td>0.562183</td></tr></tbody></table></div>"
      ],
      "text/plain": [
       "shape: (1, 42)\n",
       "┌──────────────┬───────┬──────────┬──────────┬───┬────────┬─────────┬─────────┬────────────────┐\n",
       "│ C. Coosemans ┆ Amuzu ┆ M. Rits  ┆ T. Leoni ┆ … ┆ Siquet ┆ Jackers ┆ Romeo   ┆ Gustaf Nilsson │\n",
       "│ ---          ┆ ---   ┆ ---      ┆ ---      ┆   ┆ ---    ┆ ---     ┆ Vermant ┆ ---            │\n",
       "│ f64          ┆ f64   ┆ f64      ┆ f64      ┆   ┆ f64    ┆ f64     ┆ ---     ┆ f64            │\n",
       "│              ┆       ┆          ┆          ┆   ┆        ┆         ┆ f64     ┆                │\n",
       "╞══════════════╪═══════╪══════════╪══════════╪═══╪════════╪═════════╪═════════╪════════════════╡\n",
       "│ 1.0          ┆ 0.0   ┆ 0.656885 ┆ 0.656885 ┆ … ┆ 0.0    ┆ 0.0     ┆ 0.0     ┆ 0.562183       │\n",
       "└──────────────┴───────┴──────────┴──────────┴───┴────────┴─────────┴─────────┴────────────────┘"
      ]
     },
     "execution_count": 89,
     "metadata": {},
     "output_type": "execute_result"
    }
   ],
   "source": [
    "acceleration_df"
   ]
  },
  {
   "cell_type": "code",
   "execution_count": 32,
   "id": "724b9756",
   "metadata": {},
   "outputs": [
    {
     "data": {
      "text/html": [
       "<div><style>\n",
       ".dataframe > thead > tr,\n",
       ".dataframe > tbody > tr {\n",
       "  text-align: right;\n",
       "  white-space: pre-wrap;\n",
       "}\n",
       "</style>\n",
       "<small>shape: (2_901_801, 21)</small><table border=\"1\" class=\"dataframe\"><thead><tr><th>column_0</th><th>column_1</th><th>column_2</th><th>column_3</th><th>column_4</th><th>column_5</th><th>column_6</th><th>column_7</th><th>column_8</th><th>column_9</th><th>column_10</th><th>column_11</th><th>column_12</th><th>column_13</th><th>column_14</th><th>column_15</th><th>column_16</th><th>column_17</th><th>column_18</th><th>column_19</th><th>column_20</th></tr><tr><td>f64</td><td>f64</td><td>f64</td><td>f64</td><td>f64</td><td>f64</td><td>f64</td><td>f64</td><td>f64</td><td>f64</td><td>f64</td><td>f64</td><td>f64</td><td>f64</td><td>f64</td><td>f64</td><td>f64</td><td>f64</td><td>f64</td><td>f64</td><td>f64</td></tr></thead><tbody><tr><td>-1.09072</td><td>-6.3283e-13</td><td>-3.125</td><td>0.0</td><td>3.125</td><td>4.419417</td><td>2.7756e-13</td><td>9.8532e-14</td><td>-2.7756e-13</td><td>-1.542511</td><td>-1.250838</td><td>NaN</td><td>NaN</td><td>NaN</td><td>NaN</td><td>NaN</td><td>NaN</td><td>NaN</td><td>NaN</td><td>NaN</td><td>NaN</td></tr><tr><td>-0.54536</td><td>-1.457052</td><td>-3.125</td><td>-1.026335</td><td>1.5625</td><td>4.419417</td><td>2.7756e-13</td><td>1.214256</td><td>-1.3878e-13</td><td>-2.069618</td><td>-1.378147</td><td>NaN</td><td>NaN</td><td>NaN</td><td>NaN</td><td>NaN</td><td>NaN</td><td>NaN</td><td>NaN</td><td>NaN</td><td>NaN</td></tr><tr><td>-1.501294</td><td>-1.457052</td><td>-1.5625</td><td>-1.026335</td><td>-1.5625</td><td>4.8919e-14</td><td>0.0</td><td>1.214256</td><td>0.0</td><td>-1.298362</td><td>-0.465301</td><td>NaN</td><td>NaN</td><td>NaN</td><td>NaN</td><td>NaN</td><td>NaN</td><td>NaN</td><td>NaN</td><td>NaN</td><td>NaN</td></tr><tr><td>-1.501294</td><td>1.2768e-13</td><td>0.0</td><td>1.026335</td><td>0.647209</td><td>-2.856917</td><td>0.129316</td><td>-2.139818</td><td>0.0</td><td>2.2204e-13</td><td>0.752728</td><td>NaN</td><td>NaN</td><td>NaN</td><td>NaN</td><td>NaN</td><td>NaN</td><td>NaN</td><td>NaN</td><td>NaN</td><td>NaN</td></tr><tr><td>1.501294</td><td>-1.443669</td><td>0.0</td><td>0.0</td><td>3.493856</td><td>1.284148</td><td>0.507118</td><td>-2.139818</td><td>0.0</td><td>2.0123e-13</td><td>-0.287427</td><td>NaN</td><td>NaN</td><td>NaN</td><td>NaN</td><td>NaN</td><td>NaN</td><td>NaN</td><td>NaN</td><td>NaN</td><td>NaN</td></tr><tr><td>&hellip;</td><td>&hellip;</td><td>&hellip;</td><td>&hellip;</td><td>&hellip;</td><td>&hellip;</td><td>&hellip;</td><td>&hellip;</td><td>&hellip;</td><td>&hellip;</td><td>&hellip;</td><td>&hellip;</td><td>&hellip;</td><td>&hellip;</td><td>&hellip;</td><td>&hellip;</td><td>&hellip;</td><td>&hellip;</td><td>&hellip;</td><td>&hellip;</td><td>&hellip;</td></tr><tr><td>NaN</td><td>NaN</td><td>NaN</td><td>NaN</td><td>NaN</td><td>NaN</td><td>NaN</td><td>NaN</td><td>NaN</td><td>NaN</td><td>NaN</td><td>NaN</td><td>NaN</td><td>NaN</td><td>NaN</td><td>NaN</td><td>NaN</td><td>NaN</td><td>NaN</td><td>NaN</td><td>NaN</td></tr><tr><td>NaN</td><td>NaN</td><td>NaN</td><td>NaN</td><td>NaN</td><td>NaN</td><td>NaN</td><td>NaN</td><td>NaN</td><td>NaN</td><td>NaN</td><td>NaN</td><td>NaN</td><td>NaN</td><td>NaN</td><td>NaN</td><td>NaN</td><td>NaN</td><td>NaN</td><td>NaN</td><td>NaN</td></tr><tr><td>NaN</td><td>NaN</td><td>NaN</td><td>NaN</td><td>NaN</td><td>NaN</td><td>NaN</td><td>NaN</td><td>NaN</td><td>NaN</td><td>NaN</td><td>NaN</td><td>NaN</td><td>NaN</td><td>NaN</td><td>NaN</td><td>NaN</td><td>NaN</td><td>NaN</td><td>NaN</td><td>NaN</td></tr><tr><td>NaN</td><td>NaN</td><td>NaN</td><td>NaN</td><td>NaN</td><td>NaN</td><td>NaN</td><td>NaN</td><td>NaN</td><td>NaN</td><td>NaN</td><td>NaN</td><td>NaN</td><td>NaN</td><td>NaN</td><td>NaN</td><td>NaN</td><td>NaN</td><td>NaN</td><td>NaN</td><td>NaN</td></tr><tr><td>NaN</td><td>NaN</td><td>NaN</td><td>NaN</td><td>NaN</td><td>NaN</td><td>NaN</td><td>NaN</td><td>NaN</td><td>NaN</td><td>NaN</td><td>NaN</td><td>NaN</td><td>NaN</td><td>NaN</td><td>NaN</td><td>NaN</td><td>NaN</td><td>NaN</td><td>NaN</td><td>NaN</td></tr></tbody></table></div>"
      ],
      "text/plain": [
       "shape: (2_901_801, 21)\n",
       "┌───────────┬───────────┬──────────┬───────────┬───┬───────────┬───────────┬───────────┬───────────┐\n",
       "│ column_0  ┆ column_1  ┆ column_2 ┆ column_3  ┆ … ┆ column_17 ┆ column_18 ┆ column_19 ┆ column_20 │\n",
       "│ ---       ┆ ---       ┆ ---      ┆ ---       ┆   ┆ ---       ┆ ---       ┆ ---       ┆ ---       │\n",
       "│ f64       ┆ f64       ┆ f64      ┆ f64       ┆   ┆ f64       ┆ f64       ┆ f64       ┆ f64       │\n",
       "╞═══════════╪═══════════╪══════════╪═══════════╪═══╪═══════════╪═══════════╪═══════════╪═══════════╡\n",
       "│ -1.09072  ┆ -6.3283e- ┆ -3.125   ┆ 0.0       ┆ … ┆ NaN       ┆ NaN       ┆ NaN       ┆ NaN       │\n",
       "│           ┆ 13        ┆          ┆           ┆   ┆           ┆           ┆           ┆           │\n",
       "│ -0.54536  ┆ -1.457052 ┆ -3.125   ┆ -1.026335 ┆ … ┆ NaN       ┆ NaN       ┆ NaN       ┆ NaN       │\n",
       "│ -1.501294 ┆ -1.457052 ┆ -1.5625  ┆ -1.026335 ┆ … ┆ NaN       ┆ NaN       ┆ NaN       ┆ NaN       │\n",
       "│ -1.501294 ┆ 1.2768e-1 ┆ 0.0      ┆ 1.026335  ┆ … ┆ NaN       ┆ NaN       ┆ NaN       ┆ NaN       │\n",
       "│           ┆ 3         ┆          ┆           ┆   ┆           ┆           ┆           ┆           │\n",
       "│ 1.501294  ┆ -1.443669 ┆ 0.0      ┆ 0.0       ┆ … ┆ NaN       ┆ NaN       ┆ NaN       ┆ NaN       │\n",
       "│ …         ┆ …         ┆ …        ┆ …         ┆ … ┆ …         ┆ …         ┆ …         ┆ …         │\n",
       "│ NaN       ┆ NaN       ┆ NaN      ┆ NaN       ┆ … ┆ NaN       ┆ NaN       ┆ NaN       ┆ NaN       │\n",
       "│ NaN       ┆ NaN       ┆ NaN      ┆ NaN       ┆ … ┆ NaN       ┆ NaN       ┆ NaN       ┆ NaN       │\n",
       "│ NaN       ┆ NaN       ┆ NaN      ┆ NaN       ┆ … ┆ NaN       ┆ NaN       ┆ NaN       ┆ NaN       │\n",
       "│ NaN       ┆ NaN       ┆ NaN      ┆ NaN       ┆ … ┆ NaN       ┆ NaN       ┆ NaN       ┆ NaN       │\n",
       "│ NaN       ┆ NaN       ┆ NaN      ┆ NaN       ┆ … ┆ NaN       ┆ NaN       ┆ NaN       ┆ NaN       │\n",
       "└───────────┴───────────┴──────────┴───────────┴───┴───────────┴───────────┴───────────┴───────────┘"
      ]
     },
     "execution_count": 32,
     "metadata": {},
     "output_type": "execute_result"
    }
   ],
   "source": [
    "pl.from_numpy(np_array)"
   ]
  },
  {
   "cell_type": "code",
   "execution_count": 30,
   "id": "cee1c5ff",
   "metadata": {},
   "outputs": [
    {
     "data": {
      "text/html": [
       "<div><style>\n",
       ".dataframe > thead > tr,\n",
       ".dataframe > tbody > tr {\n",
       "  text-align: right;\n",
       "  white-space: pre-wrap;\n",
       "}\n",
       "</style>\n",
       "<small>shape: (2_901_801,)</small><table border=\"1\" class=\"dataframe\"><thead><tr><th>M. Rits</th></tr><tr><td>f64</td></tr></thead><tbody><tr><td>-1.830583</td></tr><tr><td>-0.915291</td></tr><tr><td>-0.647209</td></tr><tr><td>-0.647209</td></tr><tr><td>-6.9389e-14</td></tr><tr><td>&hellip;</td></tr><tr><td>NaN</td></tr><tr><td>NaN</td></tr><tr><td>NaN</td></tr><tr><td>NaN</td></tr><tr><td>NaN</td></tr></tbody></table></div>"
      ],
      "text/plain": [
       "shape: (2_901_801,)\n",
       "Series: 'M. Rits' [f64]\n",
       "[\n",
       "\t-1.830583\n",
       "\t-0.915291\n",
       "\t-0.647209\n",
       "\t-0.647209\n",
       "\t-6.9389e-14\n",
       "\t…\n",
       "\tNaN\n",
       "\tNaN\n",
       "\tNaN\n",
       "\tNaN\n",
       "\tNaN\n",
       "]"
      ]
     },
     "execution_count": 30,
     "metadata": {},
     "output_type": "execute_result"
    }
   ],
   "source": [
    "acceleration_dfs['HT2']['Home']['M. Rits']"
   ]
  },
  {
   "cell_type": "code",
   "execution_count": 28,
   "id": "d3d1b988",
   "metadata": {},
   "outputs": [
    {
     "data": {
      "text/html": [
       "<div><style>\n",
       ".dataframe > thead > tr,\n",
       ".dataframe > tbody > tr {\n",
       "  text-align: right;\n",
       "  white-space: pre-wrap;\n",
       "}\n",
       "</style>\n",
       "<small>shape: (1, 1)</small><table border=\"1\" class=\"dataframe\"><thead><tr><th>M. Rits</th></tr><tr><td>f64</td></tr></thead><tbody><tr><td>0.017928</td></tr></tbody></table></div>"
      ],
      "text/plain": [
       "shape: (1, 1)\n",
       "┌──────────┐\n",
       "│ M. Rits  │\n",
       "│ ---      │\n",
       "│ f64      │\n",
       "╞══════════╡\n",
       "│ 0.017928 │\n",
       "└──────────┘"
      ]
     },
     "execution_count": 28,
     "metadata": {},
     "output_type": "execute_result"
    }
   ],
   "source": [
    "acceleration_dfs['HT2']['Home'].select(pl.col('M. Rits').is_not_nan().mean())"
   ]
  },
  {
   "cell_type": "code",
   "execution_count": 25,
   "id": "21ab6862",
   "metadata": {},
   "outputs": [],
   "source": [
    "# concatenation attempt to see if dataframes are actujally concatenable\n",
    "acc_ht1_away_df = pl.concat([acceleration_dfs['HT2']['Away'], ball_status['HT2'], possession_status[\"HT2\"]], how=\"horizontal\")"
   ]
  },
  {
   "cell_type": "code",
   "execution_count": 51,
   "id": "e689e8d3",
   "metadata": {},
   "outputs": [
    {
     "ename": "KeyError",
     "evalue": "'Home'",
     "output_type": "error",
     "traceback": [
      "\u001b[0;31m---------------------------------------------------------------------------\u001b[0m",
      "\u001b[0;31mKeyError\u001b[0m                                  Traceback (most recent call last)",
      "Cell \u001b[0;32mIn[51], line 1\u001b[0m\n\u001b[0;32m----> 1\u001b[0m acc_ht1_home_df \u001b[38;5;241m=\u001b[39m pl\u001b[38;5;241m.\u001b[39mconcat([\u001b[43macceleration_dfs\u001b[49m\u001b[43m[\u001b[49m\u001b[38;5;124;43m'\u001b[39;49m\u001b[38;5;124;43mHT2\u001b[39;49m\u001b[38;5;124;43m'\u001b[39;49m\u001b[43m]\u001b[49m\u001b[43m[\u001b[49m\u001b[38;5;124;43m'\u001b[39;49m\u001b[38;5;124;43mHome\u001b[39;49m\u001b[38;5;124;43m'\u001b[39;49m\u001b[43m]\u001b[49m, ball_status[\u001b[38;5;124m'\u001b[39m\u001b[38;5;124mHT2\u001b[39m\u001b[38;5;124m'\u001b[39m], possession_status[\u001b[38;5;124m\"\u001b[39m\u001b[38;5;124mHT2\u001b[39m\u001b[38;5;124m\"\u001b[39m]], how\u001b[38;5;241m=\u001b[39m\u001b[38;5;124m\"\u001b[39m\u001b[38;5;124mhorizontal\u001b[39m\u001b[38;5;124m\"\u001b[39m)\n",
      "\u001b[0;31mKeyError\u001b[0m: 'Home'"
     ]
    }
   ],
   "source": [
    "acc_ht1_home_df = pl.concat([acceleration_dfs['HT2']['Home'], ball_status['HT2'], possession_status[\"HT2\"]], how=\"horizontal\")"
   ]
  },
  {
   "cell_type": "code",
   "execution_count": 26,
   "id": "20dbc7f9",
   "metadata": {},
   "outputs": [
    {
     "data": {
      "text/html": [
       "<div><style>\n",
       ".dataframe > thead > tr,\n",
       ".dataframe > tbody > tr {\n",
       "  text-align: right;\n",
       "  white-space: pre-wrap;\n",
       "}\n",
       "</style>\n",
       "<small>shape: (2_901_801, 23)</small><table border=\"1\" class=\"dataframe\"><thead><tr><th>S. Mignolet</th><th>Ordoñez</th><th>Ferran Jutglà</th><th>K. Sabbe</th><th>C. Talbi</th><th>H. Vanaken</th><th>B. Mechele</th><th>C. Tzolis</th><th>Maxim De Cuyper</th><th>Ardon Jashari</th><th>Raphael Onyedika</th><th>Bjorn Meijer</th><th>Michal Skoras</th><th>J. Spileers</th><th>C. Nielsen</th><th>Romero</th><th>H. Vetlesen</th><th>Siquet</th><th>Jackers</th><th>Romeo Vermant</th><th>Gustaf Nilsson</th><th>HT2 ball status</th><th>HT2 possession</th></tr><tr><td>f64</td><td>f64</td><td>f64</td><td>f64</td><td>f64</td><td>f64</td><td>f64</td><td>f64</td><td>f64</td><td>f64</td><td>f64</td><td>f64</td><td>f64</td><td>f64</td><td>f64</td><td>f64</td><td>f64</td><td>f64</td><td>f64</td><td>f64</td><td>f64</td><td>str</td><td>str</td></tr></thead><tbody><tr><td>-1.09072</td><td>-6.3283e-13</td><td>-3.125</td><td>0.0</td><td>3.125</td><td>4.419417</td><td>2.7756e-13</td><td>9.8532e-14</td><td>-2.7756e-13</td><td>-1.542511</td><td>-1.250838</td><td>NaN</td><td>NaN</td><td>NaN</td><td>NaN</td><td>NaN</td><td>NaN</td><td>NaN</td><td>NaN</td><td>NaN</td><td>NaN</td><td>&quot;D&quot;</td><td>&quot;H&quot;</td></tr><tr><td>-0.54536</td><td>-1.457052</td><td>-3.125</td><td>-1.026335</td><td>1.5625</td><td>4.419417</td><td>2.7756e-13</td><td>1.214256</td><td>-1.3878e-13</td><td>-2.069618</td><td>-1.378147</td><td>NaN</td><td>NaN</td><td>NaN</td><td>NaN</td><td>NaN</td><td>NaN</td><td>NaN</td><td>NaN</td><td>NaN</td><td>NaN</td><td>&quot;D&quot;</td><td>&quot;H&quot;</td></tr><tr><td>-1.501294</td><td>-1.457052</td><td>-1.5625</td><td>-1.026335</td><td>-1.5625</td><td>4.8919e-14</td><td>0.0</td><td>1.214256</td><td>0.0</td><td>-1.298362</td><td>-0.465301</td><td>NaN</td><td>NaN</td><td>NaN</td><td>NaN</td><td>NaN</td><td>NaN</td><td>NaN</td><td>NaN</td><td>NaN</td><td>NaN</td><td>&quot;D&quot;</td><td>&quot;H&quot;</td></tr><tr><td>-1.501294</td><td>1.2768e-13</td><td>0.0</td><td>1.026335</td><td>0.647209</td><td>-2.856917</td><td>0.129316</td><td>-2.139818</td><td>0.0</td><td>2.2204e-13</td><td>0.752728</td><td>NaN</td><td>NaN</td><td>NaN</td><td>NaN</td><td>NaN</td><td>NaN</td><td>NaN</td><td>NaN</td><td>NaN</td><td>NaN</td><td>&quot;D&quot;</td><td>&quot;H&quot;</td></tr><tr><td>1.501294</td><td>-1.443669</td><td>0.0</td><td>0.0</td><td>3.493856</td><td>1.284148</td><td>0.507118</td><td>-2.139818</td><td>0.0</td><td>2.0123e-13</td><td>-0.287427</td><td>NaN</td><td>NaN</td><td>NaN</td><td>NaN</td><td>NaN</td><td>NaN</td><td>NaN</td><td>NaN</td><td>NaN</td><td>NaN</td><td>&quot;D&quot;</td><td>&quot;H&quot;</td></tr><tr><td>&hellip;</td><td>&hellip;</td><td>&hellip;</td><td>&hellip;</td><td>&hellip;</td><td>&hellip;</td><td>&hellip;</td><td>&hellip;</td><td>&hellip;</td><td>&hellip;</td><td>&hellip;</td><td>&hellip;</td><td>&hellip;</td><td>&hellip;</td><td>&hellip;</td><td>&hellip;</td><td>&hellip;</td><td>&hellip;</td><td>&hellip;</td><td>&hellip;</td><td>&hellip;</td><td>&hellip;</td><td>&hellip;</td></tr><tr><td>NaN</td><td>NaN</td><td>NaN</td><td>NaN</td><td>NaN</td><td>NaN</td><td>NaN</td><td>NaN</td><td>NaN</td><td>NaN</td><td>NaN</td><td>NaN</td><td>NaN</td><td>NaN</td><td>NaN</td><td>NaN</td><td>NaN</td><td>NaN</td><td>NaN</td><td>NaN</td><td>NaN</td><td>null</td><td>null</td></tr><tr><td>NaN</td><td>NaN</td><td>NaN</td><td>NaN</td><td>NaN</td><td>NaN</td><td>NaN</td><td>NaN</td><td>NaN</td><td>NaN</td><td>NaN</td><td>NaN</td><td>NaN</td><td>NaN</td><td>NaN</td><td>NaN</td><td>NaN</td><td>NaN</td><td>NaN</td><td>NaN</td><td>NaN</td><td>null</td><td>null</td></tr><tr><td>NaN</td><td>NaN</td><td>NaN</td><td>NaN</td><td>NaN</td><td>NaN</td><td>NaN</td><td>NaN</td><td>NaN</td><td>NaN</td><td>NaN</td><td>NaN</td><td>NaN</td><td>NaN</td><td>NaN</td><td>NaN</td><td>NaN</td><td>NaN</td><td>NaN</td><td>NaN</td><td>NaN</td><td>null</td><td>null</td></tr><tr><td>NaN</td><td>NaN</td><td>NaN</td><td>NaN</td><td>NaN</td><td>NaN</td><td>NaN</td><td>NaN</td><td>NaN</td><td>NaN</td><td>NaN</td><td>NaN</td><td>NaN</td><td>NaN</td><td>NaN</td><td>NaN</td><td>NaN</td><td>NaN</td><td>NaN</td><td>NaN</td><td>NaN</td><td>null</td><td>null</td></tr><tr><td>NaN</td><td>NaN</td><td>NaN</td><td>NaN</td><td>NaN</td><td>NaN</td><td>NaN</td><td>NaN</td><td>NaN</td><td>NaN</td><td>NaN</td><td>NaN</td><td>NaN</td><td>NaN</td><td>NaN</td><td>NaN</td><td>NaN</td><td>NaN</td><td>NaN</td><td>NaN</td><td>NaN</td><td>null</td><td>null</td></tr></tbody></table></div>"
      ],
      "text/plain": [
       "shape: (2_901_801, 23)\n",
       "┌───────────┬───────────┬───────────┬───────────┬───┬───────────┬───────────┬───────────┬──────────┐\n",
       "│ S.        ┆ Ordoñez   ┆ Ferran    ┆ K. Sabbe  ┆ … ┆ Romeo     ┆ Gustaf    ┆ HT2 ball  ┆ HT2 poss │\n",
       "│ Mignolet  ┆ ---       ┆ Jutglà    ┆ ---       ┆   ┆ Vermant   ┆ Nilsson   ┆ status    ┆ ession   │\n",
       "│ ---       ┆ f64       ┆ ---       ┆ f64       ┆   ┆ ---       ┆ ---       ┆ ---       ┆ ---      │\n",
       "│ f64       ┆           ┆ f64       ┆           ┆   ┆ f64       ┆ f64       ┆ str       ┆ str      │\n",
       "╞═══════════╪═══════════╪═══════════╪═══════════╪═══╪═══════════╪═══════════╪═══════════╪══════════╡\n",
       "│ -1.09072  ┆ -6.3283e- ┆ -3.125    ┆ 0.0       ┆ … ┆ NaN       ┆ NaN       ┆ D         ┆ H        │\n",
       "│           ┆ 13        ┆           ┆           ┆   ┆           ┆           ┆           ┆          │\n",
       "│ -0.54536  ┆ -1.457052 ┆ -3.125    ┆ -1.026335 ┆ … ┆ NaN       ┆ NaN       ┆ D         ┆ H        │\n",
       "│ -1.501294 ┆ -1.457052 ┆ -1.5625   ┆ -1.026335 ┆ … ┆ NaN       ┆ NaN       ┆ D         ┆ H        │\n",
       "│ -1.501294 ┆ 1.2768e-1 ┆ 0.0       ┆ 1.026335  ┆ … ┆ NaN       ┆ NaN       ┆ D         ┆ H        │\n",
       "│           ┆ 3         ┆           ┆           ┆   ┆           ┆           ┆           ┆          │\n",
       "│ 1.501294  ┆ -1.443669 ┆ 0.0       ┆ 0.0       ┆ … ┆ NaN       ┆ NaN       ┆ D         ┆ H        │\n",
       "│ …         ┆ …         ┆ …         ┆ …         ┆ … ┆ …         ┆ …         ┆ …         ┆ …        │\n",
       "│ NaN       ┆ NaN       ┆ NaN       ┆ NaN       ┆ … ┆ NaN       ┆ NaN       ┆ null      ┆ null     │\n",
       "│ NaN       ┆ NaN       ┆ NaN       ┆ NaN       ┆ … ┆ NaN       ┆ NaN       ┆ null      ┆ null     │\n",
       "│ NaN       ┆ NaN       ┆ NaN       ┆ NaN       ┆ … ┆ NaN       ┆ NaN       ┆ null      ┆ null     │\n",
       "│ NaN       ┆ NaN       ┆ NaN       ┆ NaN       ┆ … ┆ NaN       ┆ NaN       ┆ null      ┆ null     │\n",
       "│ NaN       ┆ NaN       ┆ NaN       ┆ NaN       ┆ … ┆ NaN       ┆ NaN       ┆ null      ┆ null     │\n",
       "└───────────┴───────────┴───────────┴───────────┴───┴───────────┴───────────┴───────────┴──────────┘"
      ]
     },
     "execution_count": 26,
     "metadata": {},
     "output_type": "execute_result"
    }
   ],
   "source": [
    "acc_ht1_away_df"
   ]
  },
  {
   "cell_type": "markdown",
   "id": "2a3f80eb",
   "metadata": {},
   "source": [
    "Kinematics Function --> distance model"
   ]
  },
  {
   "cell_type": "code",
   "execution_count": null,
   "id": "812ed11a",
   "metadata": {},
   "outputs": [
    {
     "ename": "",
     "evalue": "",
     "output_type": "error",
     "traceback": [
      "\u001b[1;31mThe Kernel crashed while executing code in the current cell or a previous cell. \n",
      "\u001b[1;31mPlease review the code in the cell(s) to identify a possible cause of the failure. \n",
      "\u001b[1;31mClick <a href='https://aka.ms/vscodeJupyterKernelCrash'>here</a> for more info. \n",
      "\u001b[1;31mView Jupyter <a href='command:jupyter.viewOutput'>log</a> for further details."
     ]
    }
   ],
   "source": [
    "# Dictionary to store results\n",
    "distance_dfs = {}\n",
    "\n",
    "for half in halfs:\n",
    "    distance_dfs[half] = {}\n",
    "    \n",
    "    for team in teams:\n",
    "        dm = DistanceModel()\n",
    "        dm.fit(xy_objects[half][team])\n",
    "        distance = dm.distance_covered()\n",
    "        np_array = distance.property\n",
    "        schema = home_players if team == \"Home\" else away_players\n",
    "        distance_dfs[half][team] = pl.DataFrame(np_array, schema=schema)\n",
    "        "
   ]
  },
  {
   "cell_type": "code",
   "execution_count": null,
   "id": "4b365bcc",
   "metadata": {},
   "outputs": [],
   "source": [
    "# Dictionary to store results\n",
    "distance_dfs = {}\n",
    "\n",
    "for half in halfs:\n",
    "    distance_dfs[half] = {}\n",
    "    \n",
    "    for team in teams:\n",
    "        dm = DistanceModel()\n",
    "        dm.fit(xy_objects[half][team])\n",
    "        distance = dm.cumulative_distance_covered()\n",
    "        np_array = distance.property\n",
    "        schema = home_players if team == \"Home\" else away_players\n",
    "        distance_dfs[half][team] = pl.DataFrame(np_array, schema=schema)"
   ]
  },
  {
   "cell_type": "code",
   "execution_count": 22,
   "id": "154ee50b",
   "metadata": {},
   "outputs": [
    {
     "data": {
      "text/plain": [
       "{'HT1': {'Away': shape: (3_054_601, 21)\n",
       "  ┌─────────────┬──────────┬───────────────┬──────────┬───┬────────┬─────────┬─────────┬─────────┐\n",
       "  │ S. Mignolet ┆ Ordoñez  ┆ Ferran Jutglà ┆ K. Sabbe ┆ … ┆ Siquet ┆ Jackers ┆ Romeo   ┆ Gustaf  │\n",
       "  │ ---         ┆ ---      ┆ ---           ┆ ---      ┆   ┆ ---    ┆ ---     ┆ Vermant ┆ Nilsson │\n",
       "  │ f64         ┆ f64      ┆ f64           ┆ f64      ┆   ┆ f64    ┆ f64     ┆ ---     ┆ ---     │\n",
       "  │             ┆          ┆               ┆          ┆   ┆        ┆         ┆ f64     ┆ f64     │\n",
       "  ╞═════════════╪══════════╪═══════════════╪══════════╪═══╪════════╪═════════╪═════════╪═════════╡\n",
       "  │ 0.01        ┆ 0.01     ┆ 0.070711      ┆ 0.01     ┆ … ┆ NaN    ┆ NaN     ┆ NaN     ┆ NaN     │\n",
       "  │ 0.007071    ┆ 0.007071 ┆ 0.075664      ┆ 0.01118  ┆ … ┆ NaN    ┆ NaN     ┆ NaN     ┆ NaN     │\n",
       "  │ 0.01118     ┆ 0.005    ┆ 0.086313      ┆ 0.014142 ┆ … ┆ NaN    ┆ NaN     ┆ NaN     ┆ NaN     │\n",
       "  │ 0.014142    ┆ 0.005    ┆ 0.097082      ┆ 0.014142 ┆ … ┆ NaN    ┆ NaN     ┆ NaN     ┆ NaN     │\n",
       "  │ 0.018028    ┆ 0.01     ┆ 0.103078      ┆ 0.01118  ┆ … ┆ NaN    ┆ NaN     ┆ NaN     ┆ NaN     │\n",
       "  │ …           ┆ …        ┆ …             ┆ …        ┆ … ┆ …      ┆ …       ┆ …       ┆ …       │\n",
       "  │ NaN         ┆ NaN      ┆ NaN           ┆ NaN      ┆ … ┆ NaN    ┆ NaN     ┆ NaN     ┆ NaN     │\n",
       "  │ NaN         ┆ NaN      ┆ NaN           ┆ NaN      ┆ … ┆ NaN    ┆ NaN     ┆ NaN     ┆ NaN     │\n",
       "  │ NaN         ┆ NaN      ┆ NaN           ┆ NaN      ┆ … ┆ NaN    ┆ NaN     ┆ NaN     ┆ NaN     │\n",
       "  │ NaN         ┆ NaN      ┆ NaN           ┆ NaN      ┆ … ┆ NaN    ┆ NaN     ┆ NaN     ┆ NaN     │\n",
       "  │ NaN         ┆ NaN      ┆ NaN           ┆ NaN      ┆ … ┆ NaN    ┆ NaN     ┆ NaN     ┆ NaN     │\n",
       "  └─────────────┴──────────┴───────────────┴──────────┴───┴────────┴─────────┴─────────┴─────────┘}}"
      ]
     },
     "execution_count": 22,
     "metadata": {},
     "output_type": "execute_result"
    }
   ],
   "source": [
    "distance_dfs"
   ]
  },
  {
   "cell_type": "markdown",
   "id": "e7f14cce",
   "metadata": {},
   "source": [
    "Kinematics Function --> velocity model"
   ]
  },
  {
   "cell_type": "code",
   "execution_count": null,
   "id": "563db444",
   "metadata": {},
   "outputs": [],
   "source": [
    "# Dictionary to store results\n",
    "velocity_dfs = {}\n",
    "\n",
    "for half in halfs:\n",
    "    velocity_dfs[half] = {}\n",
    "    \n",
    "    for team in teams:\n",
    "        vm = VelocityModel()\n",
    "        vm.fit(xy_objects[half][team])\n",
    "        velocity = vm.velocity()\n",
    "        np_array = velocity.property\n",
    "        schema = home_players if team == \"Home\" else away_players\n",
    "        velocity_dfs[half][team] = pl.DataFrame(np_array, schema=schema)"
   ]
  },
  {
   "cell_type": "markdown",
   "id": "671cc093",
   "metadata": {},
   "source": [
    "# Analyzing the data properly"
   ]
  },
  {
   "cell_type": "code",
   "execution_count": 27,
   "id": "051afa48",
   "metadata": {},
   "outputs": [
    {
     "data": {
      "text/html": [
       "<div><style>\n",
       ".dataframe > thead > tr,\n",
       ".dataframe > tbody > tr {\n",
       "  text-align: right;\n",
       "  white-space: pre-wrap;\n",
       "}\n",
       "</style>\n",
       "<small>shape: (2_901_801, 23)</small><table border=\"1\" class=\"dataframe\"><thead><tr><th>S. Mignolet</th><th>Ordoñez</th><th>Ferran Jutglà</th><th>K. Sabbe</th><th>C. Talbi</th><th>H. Vanaken</th><th>B. Mechele</th><th>C. Tzolis</th><th>Maxim De Cuyper</th><th>Ardon Jashari</th><th>Raphael Onyedika</th><th>Bjorn Meijer</th><th>Michal Skoras</th><th>J. Spileers</th><th>C. Nielsen</th><th>Romero</th><th>H. Vetlesen</th><th>Siquet</th><th>Jackers</th><th>Romeo Vermant</th><th>Gustaf Nilsson</th><th>HT2 ball status</th><th>HT2 possession</th></tr><tr><td>f64</td><td>f64</td><td>f64</td><td>f64</td><td>f64</td><td>f64</td><td>f64</td><td>f64</td><td>f64</td><td>f64</td><td>f64</td><td>f64</td><td>f64</td><td>f64</td><td>f64</td><td>f64</td><td>f64</td><td>f64</td><td>f64</td><td>f64</td><td>f64</td><td>str</td><td>str</td></tr></thead><tbody><tr><td>-1.09072</td><td>-6.3283e-13</td><td>-3.125</td><td>0.0</td><td>3.125</td><td>4.419417</td><td>2.7756e-13</td><td>9.8532e-14</td><td>-2.7756e-13</td><td>-1.542511</td><td>-1.250838</td><td>NaN</td><td>NaN</td><td>NaN</td><td>NaN</td><td>NaN</td><td>NaN</td><td>NaN</td><td>NaN</td><td>NaN</td><td>NaN</td><td>&quot;D&quot;</td><td>&quot;H&quot;</td></tr><tr><td>-0.54536</td><td>-1.457052</td><td>-3.125</td><td>-1.026335</td><td>1.5625</td><td>4.419417</td><td>2.7756e-13</td><td>1.214256</td><td>-1.3878e-13</td><td>-2.069618</td><td>-1.378147</td><td>NaN</td><td>NaN</td><td>NaN</td><td>NaN</td><td>NaN</td><td>NaN</td><td>NaN</td><td>NaN</td><td>NaN</td><td>NaN</td><td>&quot;D&quot;</td><td>&quot;H&quot;</td></tr><tr><td>-1.501294</td><td>-1.457052</td><td>-1.5625</td><td>-1.026335</td><td>-1.5625</td><td>4.8919e-14</td><td>0.0</td><td>1.214256</td><td>0.0</td><td>-1.298362</td><td>-0.465301</td><td>NaN</td><td>NaN</td><td>NaN</td><td>NaN</td><td>NaN</td><td>NaN</td><td>NaN</td><td>NaN</td><td>NaN</td><td>NaN</td><td>&quot;D&quot;</td><td>&quot;H&quot;</td></tr><tr><td>-1.501294</td><td>1.2768e-13</td><td>0.0</td><td>1.026335</td><td>0.647209</td><td>-2.856917</td><td>0.129316</td><td>-2.139818</td><td>0.0</td><td>2.2204e-13</td><td>0.752728</td><td>NaN</td><td>NaN</td><td>NaN</td><td>NaN</td><td>NaN</td><td>NaN</td><td>NaN</td><td>NaN</td><td>NaN</td><td>NaN</td><td>&quot;D&quot;</td><td>&quot;H&quot;</td></tr><tr><td>1.501294</td><td>-1.443669</td><td>0.0</td><td>0.0</td><td>3.493856</td><td>1.284148</td><td>0.507118</td><td>-2.139818</td><td>0.0</td><td>2.0123e-13</td><td>-0.287427</td><td>NaN</td><td>NaN</td><td>NaN</td><td>NaN</td><td>NaN</td><td>NaN</td><td>NaN</td><td>NaN</td><td>NaN</td><td>NaN</td><td>&quot;D&quot;</td><td>&quot;H&quot;</td></tr><tr><td>&hellip;</td><td>&hellip;</td><td>&hellip;</td><td>&hellip;</td><td>&hellip;</td><td>&hellip;</td><td>&hellip;</td><td>&hellip;</td><td>&hellip;</td><td>&hellip;</td><td>&hellip;</td><td>&hellip;</td><td>&hellip;</td><td>&hellip;</td><td>&hellip;</td><td>&hellip;</td><td>&hellip;</td><td>&hellip;</td><td>&hellip;</td><td>&hellip;</td><td>&hellip;</td><td>&hellip;</td><td>&hellip;</td></tr><tr><td>NaN</td><td>NaN</td><td>NaN</td><td>NaN</td><td>NaN</td><td>NaN</td><td>NaN</td><td>NaN</td><td>NaN</td><td>NaN</td><td>NaN</td><td>NaN</td><td>NaN</td><td>NaN</td><td>NaN</td><td>NaN</td><td>NaN</td><td>NaN</td><td>NaN</td><td>NaN</td><td>NaN</td><td>null</td><td>null</td></tr><tr><td>NaN</td><td>NaN</td><td>NaN</td><td>NaN</td><td>NaN</td><td>NaN</td><td>NaN</td><td>NaN</td><td>NaN</td><td>NaN</td><td>NaN</td><td>NaN</td><td>NaN</td><td>NaN</td><td>NaN</td><td>NaN</td><td>NaN</td><td>NaN</td><td>NaN</td><td>NaN</td><td>NaN</td><td>null</td><td>null</td></tr><tr><td>NaN</td><td>NaN</td><td>NaN</td><td>NaN</td><td>NaN</td><td>NaN</td><td>NaN</td><td>NaN</td><td>NaN</td><td>NaN</td><td>NaN</td><td>NaN</td><td>NaN</td><td>NaN</td><td>NaN</td><td>NaN</td><td>NaN</td><td>NaN</td><td>NaN</td><td>NaN</td><td>NaN</td><td>null</td><td>null</td></tr><tr><td>NaN</td><td>NaN</td><td>NaN</td><td>NaN</td><td>NaN</td><td>NaN</td><td>NaN</td><td>NaN</td><td>NaN</td><td>NaN</td><td>NaN</td><td>NaN</td><td>NaN</td><td>NaN</td><td>NaN</td><td>NaN</td><td>NaN</td><td>NaN</td><td>NaN</td><td>NaN</td><td>NaN</td><td>null</td><td>null</td></tr><tr><td>NaN</td><td>NaN</td><td>NaN</td><td>NaN</td><td>NaN</td><td>NaN</td><td>NaN</td><td>NaN</td><td>NaN</td><td>NaN</td><td>NaN</td><td>NaN</td><td>NaN</td><td>NaN</td><td>NaN</td><td>NaN</td><td>NaN</td><td>NaN</td><td>NaN</td><td>NaN</td><td>NaN</td><td>null</td><td>null</td></tr></tbody></table></div>"
      ],
      "text/plain": [
       "shape: (2_901_801, 23)\n",
       "┌───────────┬───────────┬───────────┬───────────┬───┬───────────┬───────────┬───────────┬──────────┐\n",
       "│ S.        ┆ Ordoñez   ┆ Ferran    ┆ K. Sabbe  ┆ … ┆ Romeo     ┆ Gustaf    ┆ HT2 ball  ┆ HT2 poss │\n",
       "│ Mignolet  ┆ ---       ┆ Jutglà    ┆ ---       ┆   ┆ Vermant   ┆ Nilsson   ┆ status    ┆ ession   │\n",
       "│ ---       ┆ f64       ┆ ---       ┆ f64       ┆   ┆ ---       ┆ ---       ┆ ---       ┆ ---      │\n",
       "│ f64       ┆           ┆ f64       ┆           ┆   ┆ f64       ┆ f64       ┆ str       ┆ str      │\n",
       "╞═══════════╪═══════════╪═══════════╪═══════════╪═══╪═══════════╪═══════════╪═══════════╪══════════╡\n",
       "│ -1.09072  ┆ -6.3283e- ┆ -3.125    ┆ 0.0       ┆ … ┆ NaN       ┆ NaN       ┆ D         ┆ H        │\n",
       "│           ┆ 13        ┆           ┆           ┆   ┆           ┆           ┆           ┆          │\n",
       "│ -0.54536  ┆ -1.457052 ┆ -3.125    ┆ -1.026335 ┆ … ┆ NaN       ┆ NaN       ┆ D         ┆ H        │\n",
       "│ -1.501294 ┆ -1.457052 ┆ -1.5625   ┆ -1.026335 ┆ … ┆ NaN       ┆ NaN       ┆ D         ┆ H        │\n",
       "│ -1.501294 ┆ 1.2768e-1 ┆ 0.0       ┆ 1.026335  ┆ … ┆ NaN       ┆ NaN       ┆ D         ┆ H        │\n",
       "│           ┆ 3         ┆           ┆           ┆   ┆           ┆           ┆           ┆          │\n",
       "│ 1.501294  ┆ -1.443669 ┆ 0.0       ┆ 0.0       ┆ … ┆ NaN       ┆ NaN       ┆ D         ┆ H        │\n",
       "│ …         ┆ …         ┆ …         ┆ …         ┆ … ┆ …         ┆ …         ┆ …         ┆ …        │\n",
       "│ NaN       ┆ NaN       ┆ NaN       ┆ NaN       ┆ … ┆ NaN       ┆ NaN       ┆ null      ┆ null     │\n",
       "│ NaN       ┆ NaN       ┆ NaN       ┆ NaN       ┆ … ┆ NaN       ┆ NaN       ┆ null      ┆ null     │\n",
       "│ NaN       ┆ NaN       ┆ NaN       ┆ NaN       ┆ … ┆ NaN       ┆ NaN       ┆ null      ┆ null     │\n",
       "│ NaN       ┆ NaN       ┆ NaN       ┆ NaN       ┆ … ┆ NaN       ┆ NaN       ┆ null      ┆ null     │\n",
       "│ NaN       ┆ NaN       ┆ NaN       ┆ NaN       ┆ … ┆ NaN       ┆ NaN       ┆ null      ┆ null     │\n",
       "└───────────┴───────────┴───────────┴───────────┴───┴───────────┴───────────┴───────────┴──────────┘"
      ]
     },
     "execution_count": 27,
     "metadata": {},
     "output_type": "execute_result"
    }
   ],
   "source": [
    "acc_ht1_away_df"
   ]
  },
  {
   "cell_type": "code",
   "execution_count": null,
   "id": "09b16e61",
   "metadata": {},
   "outputs": [],
   "source": [
    "possession = [\"H\", \"A\"]\n",
    "ball = [\"D\", \"A\"]\n",
    "\n",
    "\n",
    "away_HT1 = {}\n",
    "\n",
    "for possession_status in possession:\n",
    "    away_HT1[possession_status] = {}\n",
    "    \n",
    "    for ball_status in ball:\n",
    "        away_HT1[possession_status][ball_status] = acc_ht1_away_df.filter(\n",
    "            (pl.col(\"HT2 possession\")==possession_status) & (pl.col(\"HT2 ball status\")==ball_status)\n",
    "        )"
   ]
  },
  {
   "cell_type": "code",
   "execution_count": 29,
   "id": "13f86fe7",
   "metadata": {},
   "outputs": [
    {
     "data": {
      "text/html": [
       "<div><style>\n",
       ".dataframe > thead > tr,\n",
       ".dataframe > tbody > tr {\n",
       "  text-align: right;\n",
       "  white-space: pre-wrap;\n",
       "}\n",
       "</style>\n",
       "<small>shape: (5, 23)</small><table border=\"1\" class=\"dataframe\"><thead><tr><th>S. Mignolet</th><th>Ordoñez</th><th>Ferran Jutglà</th><th>K. Sabbe</th><th>C. Talbi</th><th>H. Vanaken</th><th>B. Mechele</th><th>C. Tzolis</th><th>Maxim De Cuyper</th><th>Ardon Jashari</th><th>Raphael Onyedika</th><th>Bjorn Meijer</th><th>Michal Skoras</th><th>J. Spileers</th><th>C. Nielsen</th><th>Romero</th><th>H. Vetlesen</th><th>Siquet</th><th>Jackers</th><th>Romeo Vermant</th><th>Gustaf Nilsson</th><th>HT2 ball status</th><th>HT2 possession</th></tr><tr><td>f64</td><td>f64</td><td>f64</td><td>f64</td><td>f64</td><td>f64</td><td>f64</td><td>f64</td><td>f64</td><td>f64</td><td>f64</td><td>f64</td><td>f64</td><td>f64</td><td>f64</td><td>f64</td><td>f64</td><td>f64</td><td>f64</td><td>f64</td><td>f64</td><td>str</td><td>str</td></tr></thead><tbody><tr><td>-1.09072</td><td>-6.3283e-13</td><td>-3.125</td><td>0.0</td><td>3.125</td><td>4.419417</td><td>2.7756e-13</td><td>9.8532e-14</td><td>-2.7756e-13</td><td>-1.542511</td><td>-1.250838</td><td>NaN</td><td>NaN</td><td>NaN</td><td>NaN</td><td>NaN</td><td>NaN</td><td>NaN</td><td>NaN</td><td>NaN</td><td>NaN</td><td>&quot;D&quot;</td><td>&quot;H&quot;</td></tr><tr><td>-0.54536</td><td>-1.457052</td><td>-3.125</td><td>-1.026335</td><td>1.5625</td><td>4.419417</td><td>2.7756e-13</td><td>1.214256</td><td>-1.3878e-13</td><td>-2.069618</td><td>-1.378147</td><td>NaN</td><td>NaN</td><td>NaN</td><td>NaN</td><td>NaN</td><td>NaN</td><td>NaN</td><td>NaN</td><td>NaN</td><td>NaN</td><td>&quot;D&quot;</td><td>&quot;H&quot;</td></tr><tr><td>-1.501294</td><td>-1.457052</td><td>-1.5625</td><td>-1.026335</td><td>-1.5625</td><td>4.8919e-14</td><td>0.0</td><td>1.214256</td><td>0.0</td><td>-1.298362</td><td>-0.465301</td><td>NaN</td><td>NaN</td><td>NaN</td><td>NaN</td><td>NaN</td><td>NaN</td><td>NaN</td><td>NaN</td><td>NaN</td><td>NaN</td><td>&quot;D&quot;</td><td>&quot;H&quot;</td></tr><tr><td>-1.501294</td><td>1.2768e-13</td><td>0.0</td><td>1.026335</td><td>0.647209</td><td>-2.856917</td><td>0.129316</td><td>-2.139818</td><td>0.0</td><td>2.2204e-13</td><td>0.752728</td><td>NaN</td><td>NaN</td><td>NaN</td><td>NaN</td><td>NaN</td><td>NaN</td><td>NaN</td><td>NaN</td><td>NaN</td><td>NaN</td><td>&quot;D&quot;</td><td>&quot;H&quot;</td></tr><tr><td>1.501294</td><td>-1.443669</td><td>0.0</td><td>0.0</td><td>3.493856</td><td>1.284148</td><td>0.507118</td><td>-2.139818</td><td>0.0</td><td>2.0123e-13</td><td>-0.287427</td><td>NaN</td><td>NaN</td><td>NaN</td><td>NaN</td><td>NaN</td><td>NaN</td><td>NaN</td><td>NaN</td><td>NaN</td><td>NaN</td><td>&quot;D&quot;</td><td>&quot;H&quot;</td></tr></tbody></table></div>"
      ],
      "text/plain": [
       "shape: (5, 23)\n",
       "┌───────────┬───────────┬───────────┬───────────┬───┬───────────┬───────────┬───────────┬──────────┐\n",
       "│ S.        ┆ Ordoñez   ┆ Ferran    ┆ K. Sabbe  ┆ … ┆ Romeo     ┆ Gustaf    ┆ HT2 ball  ┆ HT2 poss │\n",
       "│ Mignolet  ┆ ---       ┆ Jutglà    ┆ ---       ┆   ┆ Vermant   ┆ Nilsson   ┆ status    ┆ ession   │\n",
       "│ ---       ┆ f64       ┆ ---       ┆ f64       ┆   ┆ ---       ┆ ---       ┆ ---       ┆ ---      │\n",
       "│ f64       ┆           ┆ f64       ┆           ┆   ┆ f64       ┆ f64       ┆ str       ┆ str      │\n",
       "╞═══════════╪═══════════╪═══════════╪═══════════╪═══╪═══════════╪═══════════╪═══════════╪══════════╡\n",
       "│ -1.09072  ┆ -6.3283e- ┆ -3.125    ┆ 0.0       ┆ … ┆ NaN       ┆ NaN       ┆ D         ┆ H        │\n",
       "│           ┆ 13        ┆           ┆           ┆   ┆           ┆           ┆           ┆          │\n",
       "│ -0.54536  ┆ -1.457052 ┆ -3.125    ┆ -1.026335 ┆ … ┆ NaN       ┆ NaN       ┆ D         ┆ H        │\n",
       "│ -1.501294 ┆ -1.457052 ┆ -1.5625   ┆ -1.026335 ┆ … ┆ NaN       ┆ NaN       ┆ D         ┆ H        │\n",
       "│ -1.501294 ┆ 1.2768e-1 ┆ 0.0       ┆ 1.026335  ┆ … ┆ NaN       ┆ NaN       ┆ D         ┆ H        │\n",
       "│           ┆ 3         ┆           ┆           ┆   ┆           ┆           ┆           ┆          │\n",
       "│ 1.501294  ┆ -1.443669 ┆ 0.0       ┆ 0.0       ┆ … ┆ NaN       ┆ NaN       ┆ D         ┆ H        │\n",
       "└───────────┴───────────┴───────────┴───────────┴───┴───────────┴───────────┴───────────┴──────────┘"
      ]
     },
     "execution_count": 29,
     "metadata": {},
     "output_type": "execute_result"
    }
   ],
   "source": [
    "away_HT1[\"H\"][\"D\"].head()"
   ]
  },
  {
   "cell_type": "code",
   "execution_count": 19,
   "id": "1530e08e",
   "metadata": {},
   "outputs": [
    {
     "ename": "NameError",
     "evalue": "name 'away_HT1' is not defined",
     "output_type": "error",
     "traceback": [
      "\u001b[0;31m---------------------------------------------------------------------------\u001b[0m",
      "\u001b[0;31mNameError\u001b[0m                                 Traceback (most recent call last)",
      "Cell \u001b[0;32mIn[19], line 1\u001b[0m\n\u001b[0;32m----> 1\u001b[0m \u001b[43maway_HT1\u001b[49m[\u001b[38;5;124m\"\u001b[39m\u001b[38;5;124mH\u001b[39m\u001b[38;5;124m\"\u001b[39m][\u001b[38;5;124m\"\u001b[39m\u001b[38;5;124mD\u001b[39m\u001b[38;5;124m\"\u001b[39m]\n",
      "\u001b[0;31mNameError\u001b[0m: name 'away_HT1' is not defined"
     ]
    }
   ],
   "source": [
    "away_HT1[\"H\"][\"D\"]"
   ]
  },
  {
   "cell_type": "code",
   "execution_count": 30,
   "id": "069fda78",
   "metadata": {},
   "outputs": [
    {
     "data": {
      "text/html": [
       "<div><style>\n",
       ".dataframe > thead > tr,\n",
       ".dataframe > tbody > tr {\n",
       "  text-align: right;\n",
       "  white-space: pre-wrap;\n",
       "}\n",
       "</style>\n",
       "<small>shape: (1, 21)</small><table border=\"1\" class=\"dataframe\"><thead><tr><th>S. Mignolet_min</th><th>Ordoñez_min</th><th>Ferran Jutglà_min</th><th>K. Sabbe_min</th><th>C. Talbi_min</th><th>H. Vanaken_min</th><th>B. Mechele_min</th><th>C. Tzolis_min</th><th>Maxim De Cuyper_min</th><th>Ardon Jashari_min</th><th>Raphael Onyedika_min</th><th>Bjorn Meijer_min</th><th>Michal Skoras_min</th><th>J. Spileers_min</th><th>C. Nielsen_min</th><th>Romero_min</th><th>H. Vetlesen_min</th><th>Siquet_min</th><th>Jackers_min</th><th>Romeo Vermant_min</th><th>Gustaf Nilsson_min</th></tr><tr><td>f64</td><td>f64</td><td>f64</td><td>f64</td><td>f64</td><td>f64</td><td>f64</td><td>f64</td><td>f64</td><td>f64</td><td>f64</td><td>f64</td><td>f64</td><td>f64</td><td>f64</td><td>f64</td><td>f64</td><td>f64</td><td>f64</td><td>f64</td><td>f64</td></tr></thead><tbody><tr><td>NaN</td><td>NaN</td><td>NaN</td><td>NaN</td><td>NaN</td><td>NaN</td><td>NaN</td><td>NaN</td><td>NaN</td><td>NaN</td><td>NaN</td><td>NaN</td><td>NaN</td><td>NaN</td><td>NaN</td><td>NaN</td><td>NaN</td><td>NaN</td><td>NaN</td><td>NaN</td><td>NaN</td></tr></tbody></table></div>"
      ],
      "text/plain": [
       "shape: (1, 21)\n",
       "┌───────────┬───────────┬───────────┬───────────┬───┬───────────┬───────────┬───────────┬──────────┐\n",
       "│ S. Mignol ┆ Ordoñez_m ┆ Ferran    ┆ K.        ┆ … ┆ Siquet_mi ┆ Jackers_m ┆ Romeo Ver ┆ Gustaf   │\n",
       "│ et_min    ┆ in        ┆ Jutglà_mi ┆ Sabbe_min ┆   ┆ n         ┆ in        ┆ mant_min  ┆ Nilsson_ │\n",
       "│ ---       ┆ ---       ┆ n         ┆ ---       ┆   ┆ ---       ┆ ---       ┆ ---       ┆ min      │\n",
       "│ f64       ┆ f64       ┆ ---       ┆ f64       ┆   ┆ f64       ┆ f64       ┆ f64       ┆ ---      │\n",
       "│           ┆           ┆ f64       ┆           ┆   ┆           ┆           ┆           ┆ f64      │\n",
       "╞═══════════╪═══════════╪═══════════╪═══════════╪═══╪═══════════╪═══════════╪═══════════╪══════════╡\n",
       "│ NaN       ┆ NaN       ┆ NaN       ┆ NaN       ┆ … ┆ NaN       ┆ NaN       ┆ NaN       ┆ NaN      │\n",
       "└───────────┴───────────┴───────────┴───────────┴───┴───────────┴───────────┴───────────┴──────────┘"
      ]
     },
     "execution_count": 30,
     "metadata": {},
     "output_type": "execute_result"
    }
   ],
   "source": [
    "away_HT1[\"H\"][\"D\"].select([\n",
    "    pl.col(col).abs().mean().alias(f\"{col}_min\") for col in away_players\n",
    "])"
   ]
  },
  {
   "cell_type": "code",
   "execution_count": 31,
   "id": "17079f2f",
   "metadata": {},
   "outputs": [
    {
     "data": {
      "text/html": [
       "<div><style>\n",
       ".dataframe > thead > tr,\n",
       ".dataframe > tbody > tr {\n",
       "  text-align: right;\n",
       "  white-space: pre-wrap;\n",
       "}\n",
       "</style>\n",
       "<small>shape: (1, 21)</small><table border=\"1\" class=\"dataframe\"><thead><tr><th>S. Mignolet_max</th><th>Ordoñez_max</th><th>Ferran Jutglà_max</th><th>K. Sabbe_max</th><th>C. Talbi_max</th><th>H. Vanaken_max</th><th>B. Mechele_max</th><th>C. Tzolis_max</th><th>Maxim De Cuyper_max</th><th>Ardon Jashari_max</th><th>Raphael Onyedika_max</th><th>Bjorn Meijer_max</th><th>Michal Skoras_max</th><th>J. Spileers_max</th><th>C. Nielsen_max</th><th>Romero_max</th><th>H. Vetlesen_max</th><th>Siquet_max</th><th>Jackers_max</th><th>Romeo Vermant_max</th><th>Gustaf Nilsson_max</th></tr><tr><td>f64</td><td>f64</td><td>f64</td><td>f64</td><td>f64</td><td>f64</td><td>f64</td><td>f64</td><td>f64</td><td>f64</td><td>f64</td><td>f64</td><td>f64</td><td>f64</td><td>f64</td><td>f64</td><td>f64</td><td>f64</td><td>f64</td><td>f64</td><td>f64</td></tr></thead><tbody><tr><td>7.807764</td><td>6.981456</td><td>7.961471</td><td>6.437364</td><td>6.593038</td><td>8.575156</td><td>6.415378</td><td>6.798234</td><td>5.871191</td><td>9.07594</td><td>7.8808</td><td>9.504194</td><td>9.191229</td><td>7.809523</td><td>NaN</td><td>NaN</td><td>9.10613</td><td>NaN</td><td>NaN</td><td>NaN</td><td>9.308768</td></tr></tbody></table></div>"
      ],
      "text/plain": [
       "shape: (1, 21)\n",
       "┌───────────┬───────────┬───────────┬───────────┬───┬───────────┬───────────┬───────────┬──────────┐\n",
       "│ S. Mignol ┆ Ordoñez_m ┆ Ferran    ┆ K.        ┆ … ┆ Siquet_ma ┆ Jackers_m ┆ Romeo Ver ┆ Gustaf   │\n",
       "│ et_max    ┆ ax        ┆ Jutglà_ma ┆ Sabbe_max ┆   ┆ x         ┆ ax        ┆ mant_max  ┆ Nilsson_ │\n",
       "│ ---       ┆ ---       ┆ x         ┆ ---       ┆   ┆ ---       ┆ ---       ┆ ---       ┆ max      │\n",
       "│ f64       ┆ f64       ┆ ---       ┆ f64       ┆   ┆ f64       ┆ f64       ┆ f64       ┆ ---      │\n",
       "│           ┆           ┆ f64       ┆           ┆   ┆           ┆           ┆           ┆ f64      │\n",
       "╞═══════════╪═══════════╪═══════════╪═══════════╪═══╪═══════════╪═══════════╪═══════════╪══════════╡\n",
       "│ 7.807764  ┆ 6.981456  ┆ 7.961471  ┆ 6.437364  ┆ … ┆ NaN       ┆ NaN       ┆ NaN       ┆ 9.308768 │\n",
       "└───────────┴───────────┴───────────┴───────────┴───┴───────────┴───────────┴───────────┴──────────┘"
      ]
     },
     "execution_count": 31,
     "metadata": {},
     "output_type": "execute_result"
    }
   ],
   "source": [
    "away_HT1[\"H\"][\"D\"].select([\n",
    "    pl.col(col).abs().max().alias(f\"{col}_max\") for col in away_players\n",
    "])"
   ]
  },
  {
   "cell_type": "code",
   "execution_count": 35,
   "id": "41a335b5",
   "metadata": {},
   "outputs": [],
   "source": [
    "test = acc_ht1_away_df.select(pl.max(away_players))"
   ]
  },
  {
   "cell_type": "code",
   "execution_count": 36,
   "id": "512f52f9",
   "metadata": {},
   "outputs": [
    {
     "data": {
      "text/plain": [
       "(1, 21)"
      ]
     },
     "execution_count": 36,
     "metadata": {},
     "output_type": "execute_result"
    }
   ],
   "source": [
    "test.shape"
   ]
  },
  {
   "cell_type": "code",
   "execution_count": 48,
   "id": "38cad9b6",
   "metadata": {},
   "outputs": [
    {
     "data": {
      "text/html": [
       "<div><style>\n",
       ".dataframe > thead > tr,\n",
       ".dataframe > tbody > tr {\n",
       "  text-align: right;\n",
       "  white-space: pre-wrap;\n",
       "}\n",
       "</style>\n",
       "<small>shape: (21, 2)</small><table border=\"1\" class=\"dataframe\"><thead><tr><th>column</th><th>column_0</th></tr><tr><td>str</td><td>f64</td></tr></thead><tbody><tr><td>&quot;S. Mignolet&quot;</td><td>9.35004</td></tr><tr><td>&quot;Ordoñez&quot;</td><td>9.569555</td></tr><tr><td>&quot;Ferran Jutglà&quot;</td><td>8.19405</td></tr><tr><td>&quot;K. Sabbe&quot;</td><td>9.856817</td></tr><tr><td>&quot;C. Talbi&quot;</td><td>10.004882</td></tr><tr><td>&hellip;</td><td>&hellip;</td></tr><tr><td>&quot;H. Vetlesen&quot;</td><td>7.578342</td></tr><tr><td>&quot;Siquet&quot;</td><td>NaN</td></tr><tr><td>&quot;Jackers&quot;</td><td>NaN</td></tr><tr><td>&quot;Romeo Vermant&quot;</td><td>NaN</td></tr><tr><td>&quot;Gustaf Nilsson&quot;</td><td>7.80405</td></tr></tbody></table></div>"
      ],
      "text/plain": [
       "shape: (21, 2)\n",
       "┌────────────────┬───────────┐\n",
       "│ column         ┆ column_0  │\n",
       "│ ---            ┆ ---       │\n",
       "│ str            ┆ f64       │\n",
       "╞════════════════╪═══════════╡\n",
       "│ S. Mignolet    ┆ 9.35004   │\n",
       "│ Ordoñez        ┆ 9.569555  │\n",
       "│ Ferran Jutglà  ┆ 8.19405   │\n",
       "│ K. Sabbe       ┆ 9.856817  │\n",
       "│ C. Talbi       ┆ 10.004882 │\n",
       "│ …              ┆ …         │\n",
       "│ H. Vetlesen    ┆ 7.578342  │\n",
       "│ Siquet         ┆ NaN       │\n",
       "│ Jackers        ┆ NaN       │\n",
       "│ Romeo Vermant  ┆ NaN       │\n",
       "│ Gustaf Nilsson ┆ 7.80405   │\n",
       "└────────────────┴───────────┘"
      ]
     },
     "execution_count": 48,
     "metadata": {},
     "output_type": "execute_result"
    }
   ],
   "source": [
    "test_df = test.transpose(include_header=True)\n",
    "test_df"
   ]
  },
  {
   "cell_type": "code",
   "execution_count": 49,
   "id": "f05c2cc7",
   "metadata": {},
   "outputs": [
    {
     "data": {
      "text/html": [
       "<div><style>\n",
       ".dataframe > thead > tr,\n",
       ".dataframe > tbody > tr {\n",
       "  text-align: right;\n",
       "  white-space: pre-wrap;\n",
       "}\n",
       "</style>\n",
       "<small>shape: (21, 2)</small><table border=\"1\" class=\"dataframe\"><thead><tr><th>player_name</th><th>metric</th></tr><tr><td>str</td><td>f64</td></tr></thead><tbody><tr><td>&quot;S. Mignolet&quot;</td><td>9.35004</td></tr><tr><td>&quot;Ordoñez&quot;</td><td>9.569555</td></tr><tr><td>&quot;Ferran Jutglà&quot;</td><td>8.19405</td></tr><tr><td>&quot;K. Sabbe&quot;</td><td>9.856817</td></tr><tr><td>&quot;C. Talbi&quot;</td><td>10.004882</td></tr><tr><td>&hellip;</td><td>&hellip;</td></tr><tr><td>&quot;H. Vetlesen&quot;</td><td>7.578342</td></tr><tr><td>&quot;Siquet&quot;</td><td>NaN</td></tr><tr><td>&quot;Jackers&quot;</td><td>NaN</td></tr><tr><td>&quot;Romeo Vermant&quot;</td><td>NaN</td></tr><tr><td>&quot;Gustaf Nilsson&quot;</td><td>7.80405</td></tr></tbody></table></div>"
      ],
      "text/plain": [
       "shape: (21, 2)\n",
       "┌────────────────┬───────────┐\n",
       "│ player_name    ┆ metric    │\n",
       "│ ---            ┆ ---       │\n",
       "│ str            ┆ f64       │\n",
       "╞════════════════╪═══════════╡\n",
       "│ S. Mignolet    ┆ 9.35004   │\n",
       "│ Ordoñez        ┆ 9.569555  │\n",
       "│ Ferran Jutglà  ┆ 8.19405   │\n",
       "│ K. Sabbe       ┆ 9.856817  │\n",
       "│ C. Talbi       ┆ 10.004882 │\n",
       "│ …              ┆ …         │\n",
       "│ H. Vetlesen    ┆ 7.578342  │\n",
       "│ Siquet         ┆ NaN       │\n",
       "│ Jackers        ┆ NaN       │\n",
       "│ Romeo Vermant  ┆ NaN       │\n",
       "│ Gustaf Nilsson ┆ 7.80405   │\n",
       "└────────────────┴───────────┘"
      ]
     },
     "execution_count": 49,
     "metadata": {},
     "output_type": "execute_result"
    }
   ],
   "source": [
    "\n",
    "test_df.rename({\"column\": \"player_name\", \"column_0\": \"metric\"})"
   ]
  }
 ],
 "metadata": {
  "kernelspec": {
   "display_name": "floodlight-env",
   "language": "python",
   "name": "python3"
  },
  "language_info": {
   "codemirror_mode": {
    "name": "ipython",
    "version": 3
   },
   "file_extension": ".py",
   "mimetype": "text/x-python",
   "name": "python",
   "nbconvert_exporter": "python",
   "pygments_lexer": "ipython3",
   "version": "3.10.16"
  }
 },
 "nbformat": 4,
 "nbformat_minor": 5
}
