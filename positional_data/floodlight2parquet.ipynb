{
 "cells": [
  {
   "cell_type": "markdown",
   "id": "2cc7aaf1",
   "metadata": {},
   "source": [
    "notebook to find out the amount of distance players run above certrain speed tresholds during a  match"
   ]
  },
  {
   "cell_type": "code",
   "execution_count": 1,
   "id": "6e08927a",
   "metadata": {},
   "outputs": [],
   "source": [
    "import polars as pl\n",
    "from pathlib import Path\n",
    "from floodligt_functions import clean_metadata\n",
    "from floodligt_functions import read_position_data_jsonl\n",
    "from floodlight.models.kinematics import DistanceModel\n",
    "from floodlight.models.kinematics import VelocityModel"
   ]
  },
  {
   "cell_type": "code",
   "execution_count": 2,
   "id": "c7acc3ea",
   "metadata": {},
   "outputs": [],
   "source": [
    "base_path = Path(\"SecondSpectrum/Second Spectrum\")"
   ]
  },
  {
   "cell_type": "code",
   "execution_count": 3,
   "id": "be4f1c39",
   "metadata": {},
   "outputs": [],
   "source": [
    "game_path = Path(\"Anderlecht - Club Brugge\")"
   ]
  },
  {
   "cell_type": "code",
   "execution_count": 4,
   "id": "e24f6b65",
   "metadata": {},
   "outputs": [],
   "source": [
    "# path to the tracking data file\n",
    "tracking_file_path = Path(base_path, game_path, \"tracking-produced.jsonl\")"
   ]
  },
  {
   "cell_type": "code",
   "execution_count": 5,
   "id": "7cc67a09",
   "metadata": {},
   "outputs": [],
   "source": [
    "# path to the origibal meta data file\n",
    "metadata_path = Path(base_path, game_path, \"rsc-bru_metadata.json\")"
   ]
  },
  {
   "cell_type": "code",
   "execution_count": 6,
   "id": "bb87d432",
   "metadata": {},
   "outputs": [],
   "source": [
    "# path to the cleaned metadata file = output of clean_metadata function\n",
    "cleaned_metadata_path = Path(base_path, game_path, \"cleaned_metadata.json\")"
   ]
  },
  {
   "cell_type": "code",
   "execution_count": 7,
   "id": "b6d23327",
   "metadata": {},
   "outputs": [],
   "source": [
    "# modifying the metadata file so it can be used as input for the floodlight function\n",
    "clean_metadata(metadata_path, cleaned_metadata_path)"
   ]
  },
  {
   "cell_type": "code",
   "execution_count": 8,
   "id": "0a7e9d8d",
   "metadata": {},
   "outputs": [],
   "source": [
    "# reading in the tracking / position data\n",
    "position_data = read_position_data_jsonl(\n",
    "    tracking_file_path,\n",
    "    cleaned_metadata_path\n",
    ")"
   ]
  },
  {
   "cell_type": "markdown",
   "id": "e6463673",
   "metadata": {},
   "source": [
    "Getting the data"
   ]
  },
  {
   "cell_type": "code",
   "execution_count": 9,
   "id": "cec8488f",
   "metadata": {},
   "outputs": [],
   "source": [
    "# storing different possibilities for halfs and teams to be used in loops\n",
    "# only HT1 is used to avoid kernel crashing \n",
    "halfs =  [\"HT1\"] #[\"HT1\", \"HT2\"]\n",
    "teams = [\"Home\", \"Away\"]"
   ]
  },
  {
   "cell_type": "code",
   "execution_count": 10,
   "id": "4fc83835",
   "metadata": {},
   "outputs": [],
   "source": [
    "# get list of home players\n",
    "# this will be used to match player with correct position data\n",
    "home_players = [player for player in position_data[3]['Home'][\"player\"]]\n",
    "\n",
    "# get list of away players\n",
    "away_players = [player for player in position_data[3]['Away'][\"player\"]]"
   ]
  },
  {
   "cell_type": "code",
   "execution_count": 11,
   "id": "d2f03e93",
   "metadata": {},
   "outputs": [],
   "source": [
    "# store a dataframe per half showing the possession status (H = Home or A = Away) \n",
    "possession_status = {}\n",
    "\n",
    "for half in halfs:\n",
    "    # access the possession data in the position data dictionary\n",
    "    half_possession = position_data[1][half].code\n",
    "\n",
    "    # Convert np.nan to None so Polars can handle them as nulls\n",
    "    half_possession = [x if isinstance(x, str) else None for x in half_possession]\n",
    "\n",
    "    # Create DataFrame\n",
    "    possession_status[half] = pl.DataFrame({\n",
    "        f\"{half} possession\": half_possession\n",
    "    }).drop_nulls()"
   ]
  },
  {
   "cell_type": "code",
   "execution_count": 12,
   "id": "fb6ec49f",
   "metadata": {},
   "outputs": [],
   "source": [
    "# store a dataframe per half showing the possession status (D = Dead or A = Alive) \n",
    "ball_status = {}\n",
    "\n",
    "for half in halfs:\n",
    "    # access the ball data in the position data dictionary\n",
    "    half_ball_status = position_data[2][half].code\n",
    "    \n",
    "    # Convert np.nan to None so Polars can handle them as nulls\n",
    "    half_ball_status = [x if isinstance(x, str) else None for x in half_ball_status]\n",
    "    \n",
    "    # Create DataFrame\n",
    "    ball_status[half] = pl.DataFrame({\n",
    "        f\"{half} ball status\": half_ball_status\n",
    "    }).drop_nulls()"
   ]
  },
  {
   "cell_type": "code",
   "execution_count": 13,
   "id": "c2ff123e",
   "metadata": {},
   "outputs": [],
   "source": [
    "# get the xy coordinates of the position data\n",
    "# needed as input for the floodlight position - velocity - acceleration data\n",
    "xy_objects = position_data[0]"
   ]
  },
  {
   "cell_type": "code",
   "execution_count": 18,
   "id": "5eb56525",
   "metadata": {},
   "outputs": [],
   "source": [
    "# get the player list to use in the creation of the xy dataframe\n",
    "home_players_xy = [f\"{player}_{axis}\" for player in home_players for axis in (\"x\", \"y\")]"
   ]
  },
  {
   "cell_type": "code",
   "execution_count": null,
   "id": "2ee62cd7",
   "metadata": {},
   "outputs": [],
   "source": [
    "xy_df = (\n",
    "    pl.from_numpy(\n",
    "        xy_objects['HT1']['Home'].xy, schema=home_players_xy).filter(~pl.all_horizontal(pl.all().is_nan())\n",
    "    )\n",
    ")\n"
   ]
  },
  {
   "cell_type": "code",
   "execution_count": null,
   "id": "ae52d765",
   "metadata": {},
   "outputs": [],
   "source": [
    "# write the velocity data to a parquet file \n",
    "xy_path = Path(base_path, game_path, \"xy_HT1.parquet\")\n",
    "xy_df.write_parquet(xy_path)"
   ]
  },
  {
   "cell_type": "code",
   "execution_count": 14,
   "id": "4f677217",
   "metadata": {},
   "outputs": [],
   "source": [
    "# Dictionary to store results per playing half\n",
    "distance_dfs = {}\n",
    "\n",
    "dm = DistanceModel()\n",
    "for half in halfs:                  \n",
    "    distance_dfs[half] = {}\n",
    "    \n",
    "    for team in teams:\n",
    "        # apply the floodlight function\n",
    "        dm.fit(xy_objects[half][team])\n",
    "        distance = dm.distance_covered()\n",
    "        # extract only the distance data\n",
    "        np_array = distance.property\n",
    "        # define the player names that have to be used as column names\n",
    "        players = home_players if team == \"Home\" else away_players\n",
    "        schema_dict = {player:pl.Float32 for player in players}\n",
    "        # store the data in a dataframe and filter out rows that entirely consist of nan values \n",
    "        distance_dfs[half][team] = (\n",
    "            pl.DataFrame(\n",
    "                np_array, \n",
    "                schema=schema_dict\n",
    "            ).filter(\n",
    "                ~pl.all_horizontal(\n",
    "                    pl.all().is_nan()\n",
    "                )\n",
    "            )\n",
    "        )"
   ]
  },
  {
   "cell_type": "code",
   "execution_count": 15,
   "id": "ee752fc7",
   "metadata": {},
   "outputs": [],
   "source": [
    "# concatenate data from the Home team, Away team, ball status & possession status\n",
    "distance_df = (\n",
    "    pl.concat(\n",
    "        [\n",
    "            distance_dfs[\"HT1\"]['Home'],\n",
    "            distance_dfs[\"HT1\"]['Away'],\n",
    "            ball_status[\"HT1\"], \n",
    "            possession_status[\"HT1\"]\n",
    "        ], \n",
    "        how = \"horizontal\"\n",
    "    ).drop_nulls()\n",
    ")"
   ]
  },
  {
   "cell_type": "code",
   "execution_count": 16,
   "id": "0f5b9ac6",
   "metadata": {},
   "outputs": [],
   "source": [
    "# write the distance data to a parquet file \n",
    "distance_path = Path(base_path, game_path, \"distance_HT1.parquet\")\n",
    "distance_df.write_parquet(distance_path)"
   ]
  },
  {
   "cell_type": "code",
   "execution_count": 14,
   "id": "548274b9",
   "metadata": {},
   "outputs": [],
   "source": [
    "\n",
    "# Dictionary to store results\n",
    "velocity_dfs = {}\n",
    "\n",
    "vm = VelocityModel()\n",
    "for half in halfs:\n",
    "    velocity_dfs[half] = {}\n",
    "    \n",
    "    for team in teams:\n",
    "        # apply the floodlight function\n",
    "        vm.fit(xy_objects[half][team])\n",
    "        velocity = vm.velocity()\n",
    "        # extract only the velocity data\n",
    "        np_array = velocity.property\n",
    "        # define the player names that have to be used as column names\n",
    "        players = home_players if team == \"Home\" else away_players\n",
    "        schema_dict = {player:pl.Float32 for player in players}\n",
    "        # store the data in a dataframe and filter out rows that entirely consist of nan values v\n",
    "        velocity_dfs[half][team] = (\n",
    "            pl.DataFrame(\n",
    "                np_array, \n",
    "                schema=schema_dict\n",
    "            ).filter(\n",
    "                ~pl.all_horizontal(\n",
    "                    pl.all().is_nan()\n",
    "                )\n",
    "            )\n",
    "        )"
   ]
  },
  {
   "cell_type": "code",
   "execution_count": 15,
   "id": "0dfa5e74",
   "metadata": {},
   "outputs": [],
   "source": [
    "# concatenate data from the Home team, Away team, ball status & possession status\n",
    "velocity_df = (\n",
    "    pl.concat(\n",
    "        [\n",
    "            velocity_dfs[\"HT1\"]['Home'],\n",
    "            velocity_dfs[\"HT1\"]['Away'],\n",
    "            ball_status[\"HT1\"], \n",
    "            possession_status[\"HT1\"]\n",
    "        ], \n",
    "        how = \"horizontal\"\n",
    "    ).drop_nulls()\n",
    ")\n",
    "#velocity_df"
   ]
  },
  {
   "cell_type": "code",
   "execution_count": 16,
   "id": "4d4a85d9",
   "metadata": {},
   "outputs": [],
   "source": [
    "# write the velocity data to a parquet file \n",
    "velocity_path = Path(base_path, game_path, \"velocity_HT1.parquet\")\n",
    "velocity_df.write_parquet(velocity_path)"
   ]
  },
  {
   "cell_type": "code",
   "execution_count": null,
   "id": "9ad25df9",
   "metadata": {},
   "outputs": [
    {
     "data": {
      "text/html": [
       "<div><style>\n",
       ".dataframe > thead > tr,\n",
       ".dataframe > tbody > tr {\n",
       "  text-align: right;\n",
       "  white-space: pre-wrap;\n",
       "}\n",
       "</style>\n",
       "<small>shape: (1, 1)</small><table border=\"1\" class=\"dataframe\"><thead><tr><th>distance</th></tr><tr><td>f64</td></tr></thead><tbody><tr><td>518.688651</td></tr></tbody></table></div>"
      ],
      "text/plain": [
       "shape: (1, 1)\n",
       "┌────────────┐\n",
       "│ distance   │\n",
       "│ ---        │\n",
       "│ f64        │\n",
       "╞════════════╡\n",
       "│ 518.688651 │\n",
       "└────────────┘"
      ]
     },
     "execution_count": 22,
     "metadata": {},
     "output_type": "execute_result"
    }
   ],
   "source": [
    "# example ofhow the dataframes can be filtered to get distance ran above a certain speed treshold\n",
    "pl.concat(\n",
    "    [\n",
    "        distance_dfs['HT2']['Away'][\"C. Tzolis\"].to_frame(name=\"distance\"), \n",
    "        velocity_dfs['HT2']['Away'][\"C. Tzolis\"].to_frame(name=\"velocity\")\n",
    "    ], \n",
    "    how=\"horizontal\"\n",
    ").filter(\n",
    "    ((pl.col(\"velocity\") > 5.5) & (pl.col(\"velocity\").is_not_nan()))\n",
    ").select(\n",
    "    \"distance\"\n",
    ").sum()\n"
   ]
  }
 ],
 "metadata": {
  "kernelspec": {
   "display_name": "floodlight-env",
   "language": "python",
   "name": "python3"
  },
  "language_info": {
   "codemirror_mode": {
    "name": "ipython",
    "version": 3
   },
   "file_extension": ".py",
   "mimetype": "text/x-python",
   "name": "python",
   "nbconvert_exporter": "python",
   "pygments_lexer": "ipython3",
   "version": "3.10.16"
  }
 },
 "nbformat": 4,
 "nbformat_minor": 5
}
