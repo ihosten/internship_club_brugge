{
 "cells": [
  {
   "cell_type": "markdown",
   "id": "2cc7aaf1",
   "metadata": {},
   "source": [
    "notebook to find out the amount of distance players run above certrain speed tresholds during a  match"
   ]
  },
  {
   "cell_type": "code",
   "execution_count": 2,
   "id": "6e08927a",
   "metadata": {},
   "outputs": [],
   "source": [
    "import polars as pl\n",
    "from pathlib import Path\n",
    "from floodligt_functions import clean_metadata\n",
    "from floodligt_functions import read_position_data_jsonl\n",
    "from floodlight.models.kinematics import DistanceModel\n",
    "from floodlight.models.kinematics import VelocityModel\n",
    "from floodlight.models.kinetics import MetabolicPowerModel\n"
   ]
  },
  {
   "cell_type": "code",
   "execution_count": 3,
   "id": "c7acc3ea",
   "metadata": {},
   "outputs": [],
   "source": [
    "base_path = Path(\"SecondSpectrum/Second Spectrum\")"
   ]
  },
  {
   "cell_type": "code",
   "execution_count": 4,
   "id": "be4f1c39",
   "metadata": {},
   "outputs": [],
   "source": [
    "game_path = Path(\"Anderlecht - Club Brugge\")"
   ]
  },
  {
   "cell_type": "code",
   "execution_count": 5,
   "id": "e24f6b65",
   "metadata": {},
   "outputs": [],
   "source": [
    "# path to the tracking data file\n",
    "tracking_file_path = Path(base_path, game_path, \"tracking-produced.jsonl\")"
   ]
  },
  {
   "cell_type": "code",
   "execution_count": 6,
   "id": "7cc67a09",
   "metadata": {},
   "outputs": [],
   "source": [
    "# path to the origibal meta data file\n",
    "metadata_path = Path(base_path, game_path, \"rsc-bru_metadata.json\")"
   ]
  },
  {
   "cell_type": "code",
   "execution_count": 7,
   "id": "bb87d432",
   "metadata": {},
   "outputs": [],
   "source": [
    "# path to the cleaned metadata file = output of clean_metadata function\n",
    "cleaned_metadata_path = Path(base_path, game_path, \"cleaned_metadata.json\")"
   ]
  },
  {
   "cell_type": "code",
   "execution_count": 8,
   "id": "b6d23327",
   "metadata": {},
   "outputs": [],
   "source": [
    "# modifying the metadata file so it can be used as input for the floodlight function\n",
    "clean_metadata(metadata_path, cleaned_metadata_path)"
   ]
  },
  {
   "cell_type": "code",
   "execution_count": 9,
   "id": "0a7e9d8d",
   "metadata": {},
   "outputs": [],
   "source": [
    "# reading in the tracking / position data\n",
    "position_data = read_position_data_jsonl(\n",
    "    tracking_file_path,\n",
    "    cleaned_metadata_path\n",
    ")"
   ]
  },
  {
   "cell_type": "markdown",
   "id": "e6463673",
   "metadata": {},
   "source": [
    "Getting the data"
   ]
  },
  {
   "cell_type": "code",
   "execution_count": 10,
   "id": "cec8488f",
   "metadata": {},
   "outputs": [],
   "source": [
    "# storing different possibilities for halfs and teams to be used in loops\n",
    "# only HT1 is used to avoid kernel crashing \n",
    "halfs =  [\"HT1\"] #[\"HT1\", \"HT2\"]\n",
    "teams = [\"Home\", \"Away\"]"
   ]
  },
  {
   "cell_type": "code",
   "execution_count": 11,
   "id": "4fc83835",
   "metadata": {},
   "outputs": [],
   "source": [
    "# get list of home players\n",
    "# this will be used to match player with correct position data\n",
    "home_players = [player for player in position_data[3]['Home'][\"player\"]]\n",
    "\n",
    "# get list of away players\n",
    "away_players = [player for player in position_data[3]['Away'][\"player\"]]"
   ]
  },
  {
   "cell_type": "code",
   "execution_count": 12,
   "id": "d2f03e93",
   "metadata": {},
   "outputs": [],
   "source": [
    "# store a dataframe per half showing the possession status (H = Home or A = Away) \n",
    "possession_status = {}\n",
    "\n",
    "for half in halfs:\n",
    "    # access the possession data in the position data dictionary\n",
    "    half_possession = position_data[1][half].code\n",
    "\n",
    "    # Convert np.nan to None so Polars can handle them as nulls\n",
    "    half_possession = [x if isinstance(x, str) else None for x in half_possession]\n",
    "\n",
    "    # Create DataFrame\n",
    "    possession_status[half] = pl.DataFrame({\n",
    "        f\"{half} possession\": half_possession\n",
    "    }).drop_nulls()"
   ]
  },
  {
   "cell_type": "code",
   "execution_count": 13,
   "id": "fb6ec49f",
   "metadata": {},
   "outputs": [],
   "source": [
    "# store a dataframe per half showing the possession status (D = Dead or A = Alive) \n",
    "ball_status = {}\n",
    "\n",
    "for half in halfs:\n",
    "    # access the ball data in the position data dictionary\n",
    "    half_ball_status = position_data[2][half].code\n",
    "    \n",
    "    # Convert np.nan to None so Polars can handle them as nulls\n",
    "    half_ball_status = [x if isinstance(x, str) else None for x in half_ball_status]\n",
    "    \n",
    "    # Create DataFrame\n",
    "    ball_status[half] = pl.DataFrame({\n",
    "        f\"{half} ball status\": half_ball_status\n",
    "    }).drop_nulls()"
   ]
  },
  {
   "cell_type": "code",
   "execution_count": 14,
   "id": "702f31e9",
   "metadata": {},
   "outputs": [
    {
     "data": {
      "text/plain": [
       "({'HT1': {'Home': XY(xy=array([[-46.38,  -0.06,  -0.57, ...,    nan,    nan,    nan],\n",
       "          [-46.36,  -0.06,  -0.56, ...,    nan,    nan,    nan],\n",
       "          [-46.35,  -0.08,  -0.55, ...,    nan,    nan,    nan],\n",
       "          ...,\n",
       "          [   nan,    nan,    nan, ...,    nan,    nan,    nan],\n",
       "          [   nan,    nan,    nan, ...,    nan,    nan,    nan],\n",
       "          [   nan,    nan,    nan, ...,    nan,    nan,    nan]],\n",
       "         shape=(3054601, 42)), framerate=25, direction='lr'),\n",
       "   'Away': XY(xy=array([[42.22, -0.24,  8.87, ...,   nan,   nan,   nan],\n",
       "          [42.21, -0.24,  8.88, ...,   nan,   nan,   nan],\n",
       "          [42.21, -0.23,  8.88, ...,   nan,   nan,   nan],\n",
       "          ...,\n",
       "          [  nan,   nan,   nan, ...,   nan,   nan,   nan],\n",
       "          [  nan,   nan,   nan, ...,   nan,   nan,   nan],\n",
       "          [  nan,   nan,   nan, ...,   nan,   nan,   nan]],\n",
       "         shape=(3054601, 42)), framerate=25, direction='rl'),\n",
       "   'Ball': XY(xy=array([[-0.21,  0.07],\n",
       "          [ 0.5 , -0.08],\n",
       "          [ 1.26, -0.19],\n",
       "          ...,\n",
       "          [  nan,   nan],\n",
       "          [  nan,   nan],\n",
       "          [  nan,   nan]], shape=(3054601, 2)), framerate=25, direction=None)},\n",
       "  'HT2': {'Home': XY(xy=array([[39.94, -0.09,   nan, ...,   nan,   nan,   nan],\n",
       "          [39.8 , -0.09,   nan, ...,   nan,   nan,   nan],\n",
       "          [39.67, -0.09,   nan, ...,   nan,   nan,   nan],\n",
       "          ...,\n",
       "          [  nan,   nan,   nan, ...,   nan,   nan,   nan],\n",
       "          [  nan,   nan,   nan, ...,   nan,   nan,   nan],\n",
       "          [  nan,   nan,   nan, ...,   nan,   nan,   nan]],\n",
       "         shape=(2901801, 42)), framerate=25, direction='rl'),\n",
       "   'Away': XY(xy=array([[-43.74,  -1.92, -20.18, ...,    nan,    nan,    nan],\n",
       "          [-43.75,  -1.94, -20.21, ...,    nan,    nan,    nan],\n",
       "          [-43.75,  -1.96, -20.24, ...,    nan,    nan,    nan],\n",
       "          ...,\n",
       "          [   nan,    nan,    nan, ...,    nan,    nan,    nan],\n",
       "          [   nan,    nan,    nan, ...,    nan,    nan,    nan],\n",
       "          [   nan,    nan,    nan, ...,    nan,    nan,    nan]],\n",
       "         shape=(2901801, 42)), framerate=25, direction='lr'),\n",
       "   'Ball': XY(xy=array([[nan, nan],\n",
       "          [nan, nan],\n",
       "          [nan, nan],\n",
       "          ...,\n",
       "          [nan, nan],\n",
       "          [nan, nan],\n",
       "          [nan, nan]], shape=(2901801, 2)), framerate=25, direction=None)}},\n",
       " {'HT1': Code(code=array(['H', 'H', 'H', ..., nan, nan, nan], shape=(3054601,), dtype=object), name='possession', definitions={'H': 'Home', 'A': 'Away'}, framerate=25),\n",
       "  'HT2': Code(code=array(['H', 'H', 'H', ..., nan, nan, nan], shape=(2901801,), dtype=object), name='possession', definitions={'H': 'Home', 'A': 'Away'}, framerate=25)},\n",
       " {'HT1': Code(code=array(['D', 'D', 'D', ..., nan, nan, nan], shape=(3054601,), dtype=object), name='ballstatus', definitions={'D': 'Dead', 'A': 'Alive'}, framerate=25),\n",
       "  'HT2': Code(code=array(['D', 'D', 'D', ..., nan, nan, nan], shape=(2901801,), dtype=object), name='ballstatus', definitions={'D': 'Dead', 'A': 'Alive'}, framerate=25)},\n",
       " {'Home': Teamsheet(teamsheet=             player  jID   pID position  xID\n",
       "  0      C. Coosemans   26  None       GK    0\n",
       "  1             Amuzu    7  None       MF    1\n",
       "  2           M. Rits   23  None       MF    2\n",
       "  3          T. Leoni   17  None       MF    3\n",
       "  4        K. Dolberg   12  None       FW    4\n",
       "  5       K. Sardella   54  None       DF    5\n",
       "  6         A. Dreyer   36  None       MF    6\n",
       "  7     L. Dendoncker   32  None       MF    7\n",
       "  8          J. Simić    4  None       DF    8\n",
       "  9     Amando Lapage   73  None       DF    9\n",
       "  10       Ali Maamar   79  None       MF   10\n",
       "  11       L. Vázquez   20  None      SUB   11\n",
       "  12   Y. Verschaeren   10  None      SUB   12\n",
       "  13      N. Engwanda   71  None      SUB   13\n",
       "  14  Mads Kikkenborg   16  None      SUB   14\n",
       "  15        S. Edozie   27  None      SUB   15\n",
       "  16   Thorgan Hazard   11  None      SUB   16\n",
       "  17       T. Degreef   83  None      SUB   17\n",
       "  18     Thomas Foket   25  None      SUB   18\n",
       "  19  Timon Vanhoutte   63  None      SUB   19\n",
       "  20   Anas Tajaouart   78  None      SUB   20),\n",
       "  'Away': Teamsheet(teamsheet=              player  jID   pID position  xID\n",
       "  0        S. Mignolet   22  None       GK    0\n",
       "  1            Ordoñez    4  None       DF    1\n",
       "  2      Ferran Jutglà    9  None       FW    2\n",
       "  3           K. Sabbe   64  None       DF    3\n",
       "  4           C. Talbi   68  None       MF    4\n",
       "  5         H. Vanaken   20  None       MF    5\n",
       "  6         B. Mechele   44  None       DF    6\n",
       "  7          C. Tzolis    8  None       FW    7\n",
       "  8    Maxim De Cuyper   55  None       DF    8\n",
       "  9      Ardon Jashari   30  None       MF    9\n",
       "  10  Raphael Onyedika   15  None       MF   10\n",
       "  11      Bjorn Meijer   14  None      SUB   11\n",
       "  12     Michal Skoras   21  None      SUB   12\n",
       "  13       J. Spileers   58  None      SUB   13\n",
       "  14        C. Nielsen   27  None      SUB   14\n",
       "  15            Romero    2  None      SUB   15\n",
       "  16       H. Vetlesen   10  None      SUB   16\n",
       "  17            Siquet   41  None      SUB   17\n",
       "  18           Jackers   29  None      SUB   18\n",
       "  19     Romeo Vermant   17  None      SUB   19\n",
       "  20    Gustaf Nilsson   19  None      SUB   20)},\n",
       " Pitch(xlim=(-51.729, 51.729), ylim=(-33.488, 33.488), unit='m', boundaries='flexible', length=103.4589780029297, width=66.97553049316407, sport='football'))"
      ]
     },
     "execution_count": 14,
     "metadata": {},
     "output_type": "execute_result"
    }
   ],
   "source": [
    "position_data"
   ]
  },
  {
   "cell_type": "code",
   "execution_count": 15,
   "id": "c2ff123e",
   "metadata": {},
   "outputs": [],
   "source": [
    "# get the xy coordinates of the position data\n",
    "# needed as input for the floodlight position - velocity - acceleration data\n",
    "xy_objects = position_data[0]"
   ]
  },
  {
   "cell_type": "code",
   "execution_count": 16,
   "id": "a595b371",
   "metadata": {},
   "outputs": [
    {
     "data": {
      "text/plain": [
       "{'HT1': {'Home': XY(xy=array([[-46.38,  -0.06,  -0.57, ...,    nan,    nan,    nan],\n",
       "         [-46.36,  -0.06,  -0.56, ...,    nan,    nan,    nan],\n",
       "         [-46.35,  -0.08,  -0.55, ...,    nan,    nan,    nan],\n",
       "         ...,\n",
       "         [   nan,    nan,    nan, ...,    nan,    nan,    nan],\n",
       "         [   nan,    nan,    nan, ...,    nan,    nan,    nan],\n",
       "         [   nan,    nan,    nan, ...,    nan,    nan,    nan]],\n",
       "        shape=(3054601, 42)), framerate=25, direction='lr'),\n",
       "  'Away': XY(xy=array([[42.22, -0.24,  8.87, ...,   nan,   nan,   nan],\n",
       "         [42.21, -0.24,  8.88, ...,   nan,   nan,   nan],\n",
       "         [42.21, -0.23,  8.88, ...,   nan,   nan,   nan],\n",
       "         ...,\n",
       "         [  nan,   nan,   nan, ...,   nan,   nan,   nan],\n",
       "         [  nan,   nan,   nan, ...,   nan,   nan,   nan],\n",
       "         [  nan,   nan,   nan, ...,   nan,   nan,   nan]],\n",
       "        shape=(3054601, 42)), framerate=25, direction='rl'),\n",
       "  'Ball': XY(xy=array([[-0.21,  0.07],\n",
       "         [ 0.5 , -0.08],\n",
       "         [ 1.26, -0.19],\n",
       "         ...,\n",
       "         [  nan,   nan],\n",
       "         [  nan,   nan],\n",
       "         [  nan,   nan]], shape=(3054601, 2)), framerate=25, direction=None)},\n",
       " 'HT2': {'Home': XY(xy=array([[39.94, -0.09,   nan, ...,   nan,   nan,   nan],\n",
       "         [39.8 , -0.09,   nan, ...,   nan,   nan,   nan],\n",
       "         [39.67, -0.09,   nan, ...,   nan,   nan,   nan],\n",
       "         ...,\n",
       "         [  nan,   nan,   nan, ...,   nan,   nan,   nan],\n",
       "         [  nan,   nan,   nan, ...,   nan,   nan,   nan],\n",
       "         [  nan,   nan,   nan, ...,   nan,   nan,   nan]],\n",
       "        shape=(2901801, 42)), framerate=25, direction='rl'),\n",
       "  'Away': XY(xy=array([[-43.74,  -1.92, -20.18, ...,    nan,    nan,    nan],\n",
       "         [-43.75,  -1.94, -20.21, ...,    nan,    nan,    nan],\n",
       "         [-43.75,  -1.96, -20.24, ...,    nan,    nan,    nan],\n",
       "         ...,\n",
       "         [   nan,    nan,    nan, ...,    nan,    nan,    nan],\n",
       "         [   nan,    nan,    nan, ...,    nan,    nan,    nan],\n",
       "         [   nan,    nan,    nan, ...,    nan,    nan,    nan]],\n",
       "        shape=(2901801, 42)), framerate=25, direction='lr'),\n",
       "  'Ball': XY(xy=array([[nan, nan],\n",
       "         [nan, nan],\n",
       "         [nan, nan],\n",
       "         ...,\n",
       "         [nan, nan],\n",
       "         [nan, nan],\n",
       "         [nan, nan]], shape=(2901801, 2)), framerate=25, direction=None)}}"
      ]
     },
     "execution_count": 16,
     "metadata": {},
     "output_type": "execute_result"
    }
   ],
   "source": [
    "xy_objects"
   ]
  },
  {
   "cell_type": "code",
   "execution_count": 17,
   "id": "5eb56525",
   "metadata": {},
   "outputs": [],
   "source": [
    "# get the player list to use in the creation of the xy dataframe\n",
    "away_players_xy = [f\"{player}_{axis}\" for player in away_players for axis in (\"x\", \"y\")]"
   ]
  },
  {
   "cell_type": "code",
   "execution_count": 18,
   "id": "2ee62cd7",
   "metadata": {},
   "outputs": [],
   "source": [
    "xy_df = (\n",
    "    pl.from_numpy(\n",
    "        xy_objects['HT1']['Away'].xy, schema=away_players_xy).filter(~pl.all_horizontal(pl.all().is_nan())\n",
    "    )\n",
    ")\n"
   ]
  },
  {
   "cell_type": "code",
   "execution_count": 19,
   "id": "ae52d765",
   "metadata": {},
   "outputs": [],
   "source": [
    "# write the velocity data to a parquet file \n",
    "xy_path = Path(base_path, game_path, \"xy_HT1.parquet\")\n",
    "xy_df.write_parquet(xy_path)"
   ]
  },
  {
   "cell_type": "code",
   "execution_count": 20,
   "id": "107d2fb9",
   "metadata": {},
   "outputs": [
    {
     "data": {
      "text/html": [
       "<div><style>\n",
       ".dataframe > thead > tr,\n",
       ".dataframe > tbody > tr {\n",
       "  text-align: right;\n",
       "  white-space: pre-wrap;\n",
       "}\n",
       "</style>\n",
       "<small>shape: (76_366, 43)</small><table border=\"1\" class=\"dataframe\"><thead><tr><th>S. Mignolet_x</th><th>S. Mignolet_y</th><th>Ordoñez_x</th><th>Ordoñez_y</th><th>Ferran Jutglà_x</th><th>Ferran Jutglà_y</th><th>K. Sabbe_x</th><th>K. Sabbe_y</th><th>C. Talbi_x</th><th>C. Talbi_y</th><th>H. Vanaken_x</th><th>H. Vanaken_y</th><th>B. Mechele_x</th><th>B. Mechele_y</th><th>C. Tzolis_x</th><th>C. Tzolis_y</th><th>Maxim De Cuyper_x</th><th>Maxim De Cuyper_y</th><th>Ardon Jashari_x</th><th>Ardon Jashari_y</th><th>Raphael Onyedika_x</th><th>Raphael Onyedika_y</th><th>Bjorn Meijer_x</th><th>Bjorn Meijer_y</th><th>Michal Skoras_x</th><th>Michal Skoras_y</th><th>J. Spileers_x</th><th>J. Spileers_y</th><th>C. Nielsen_x</th><th>C. Nielsen_y</th><th>Romero_x</th><th>Romero_y</th><th>H. Vetlesen_x</th><th>H. Vetlesen_y</th><th>Siquet_x</th><th>Siquet_y</th><th>Jackers_x</th><th>Jackers_y</th><th>Romeo Vermant_x</th><th>Romeo Vermant_y</th><th>Gustaf Nilsson_x</th><th>Gustaf Nilsson_y</th><th>HT1 possession</th></tr><tr><td>f64</td><td>f64</td><td>f64</td><td>f64</td><td>f64</td><td>f64</td><td>f64</td><td>f64</td><td>f64</td><td>f64</td><td>f64</td><td>f64</td><td>f64</td><td>f64</td><td>f64</td><td>f64</td><td>f64</td><td>f64</td><td>f64</td><td>f64</td><td>f64</td><td>f64</td><td>f64</td><td>f64</td><td>f64</td><td>f64</td><td>f64</td><td>f64</td><td>f64</td><td>f64</td><td>f64</td><td>f64</td><td>f64</td><td>f64</td><td>f64</td><td>f64</td><td>f64</td><td>f64</td><td>f64</td><td>f64</td><td>f64</td><td>f64</td><td>str</td></tr></thead><tbody><tr><td>42.22</td><td>-0.24</td><td>8.87</td><td>5.31</td><td>-0.16</td><td>-22.24</td><td>11.01</td><td>12.63</td><td>0.09</td><td>9.1</td><td>0.45</td><td>-30.18</td><td>25.92</td><td>-3.65</td><td>0.16</td><td>-15.82</td><td>6.17</td><td>-16.74</td><td>-0.2</td><td>-0.14</td><td>6.25</td><td>-7.62</td><td>NaN</td><td>NaN</td><td>NaN</td><td>NaN</td><td>NaN</td><td>NaN</td><td>NaN</td><td>NaN</td><td>NaN</td><td>NaN</td><td>NaN</td><td>NaN</td><td>NaN</td><td>NaN</td><td>NaN</td><td>NaN</td><td>NaN</td><td>NaN</td><td>NaN</td><td>NaN</td><td>&quot;H&quot;</td></tr><tr><td>42.21</td><td>-0.24</td><td>8.88</td><td>5.31</td><td>-0.23</td><td>-22.23</td><td>11.0</td><td>12.63</td><td>0.09</td><td>9.09</td><td>0.45</td><td>-30.19</td><td>25.92</td><td>-3.65</td><td>0.15</td><td>-15.82</td><td>6.17</td><td>-16.75</td><td>-0.17</td><td>-0.15</td><td>6.26</td><td>-7.61</td><td>NaN</td><td>NaN</td><td>NaN</td><td>NaN</td><td>NaN</td><td>NaN</td><td>NaN</td><td>NaN</td><td>NaN</td><td>NaN</td><td>NaN</td><td>NaN</td><td>NaN</td><td>NaN</td><td>NaN</td><td>NaN</td><td>NaN</td><td>NaN</td><td>NaN</td><td>NaN</td><td>&quot;H&quot;</td></tr><tr><td>42.21</td><td>-0.23</td><td>8.88</td><td>5.3</td><td>-0.31</td><td>-22.22</td><td>10.99</td><td>12.64</td><td>0.09</td><td>9.09</td><td>0.44</td><td>-30.19</td><td>25.91</td><td>-3.65</td><td>0.13</td><td>-15.82</td><td>6.17</td><td>-16.75</td><td>-0.14</td><td>-0.16</td><td>6.27</td><td>-7.61</td><td>NaN</td><td>NaN</td><td>NaN</td><td>NaN</td><td>NaN</td><td>NaN</td><td>NaN</td><td>NaN</td><td>NaN</td><td>NaN</td><td>NaN</td><td>NaN</td><td>NaN</td><td>NaN</td><td>NaN</td><td>NaN</td><td>NaN</td><td>NaN</td><td>NaN</td><td>NaN</td><td>&quot;H&quot;</td></tr><tr><td>42.2</td><td>-0.22</td><td>8.88</td><td>5.3</td><td>-0.4</td><td>-22.2</td><td>10.98</td><td>12.65</td><td>0.09</td><td>9.08</td><td>0.42</td><td>-30.18</td><td>25.91</td><td>-3.65</td><td>0.11</td><td>-15.82</td><td>6.17</td><td>-16.76</td><td>-0.12</td><td>-0.17</td><td>6.27</td><td>-7.61</td><td>NaN</td><td>NaN</td><td>NaN</td><td>NaN</td><td>NaN</td><td>NaN</td><td>NaN</td><td>NaN</td><td>NaN</td><td>NaN</td><td>NaN</td><td>NaN</td><td>NaN</td><td>NaN</td><td>NaN</td><td>NaN</td><td>NaN</td><td>NaN</td><td>NaN</td><td>NaN</td><td>&quot;A&quot;</td></tr><tr><td>42.19</td><td>-0.21</td><td>8.88</td><td>5.29</td><td>-0.5</td><td>-22.18</td><td>10.97</td><td>12.66</td><td>0.09</td><td>9.07</td><td>0.38</td><td>-30.19</td><td>25.91</td><td>-3.65</td><td>0.08</td><td>-15.82</td><td>6.18</td><td>-16.76</td><td>-0.1</td><td>-0.18</td><td>6.28</td><td>-7.61</td><td>NaN</td><td>NaN</td><td>NaN</td><td>NaN</td><td>NaN</td><td>NaN</td><td>NaN</td><td>NaN</td><td>NaN</td><td>NaN</td><td>NaN</td><td>NaN</td><td>NaN</td><td>NaN</td><td>NaN</td><td>NaN</td><td>NaN</td><td>NaN</td><td>NaN</td><td>NaN</td><td>&quot;A&quot;</td></tr><tr><td>&hellip;</td><td>&hellip;</td><td>&hellip;</td><td>&hellip;</td><td>&hellip;</td><td>&hellip;</td><td>&hellip;</td><td>&hellip;</td><td>&hellip;</td><td>&hellip;</td><td>&hellip;</td><td>&hellip;</td><td>&hellip;</td><td>&hellip;</td><td>&hellip;</td><td>&hellip;</td><td>&hellip;</td><td>&hellip;</td><td>&hellip;</td><td>&hellip;</td><td>&hellip;</td><td>&hellip;</td><td>&hellip;</td><td>&hellip;</td><td>&hellip;</td><td>&hellip;</td><td>&hellip;</td><td>&hellip;</td><td>&hellip;</td><td>&hellip;</td><td>&hellip;</td><td>&hellip;</td><td>&hellip;</td><td>&hellip;</td><td>&hellip;</td><td>&hellip;</td><td>&hellip;</td><td>&hellip;</td><td>&hellip;</td><td>&hellip;</td><td>&hellip;</td><td>&hellip;</td><td>&hellip;</td></tr><tr><td>31.92</td><td>6.48</td><td>19.09</td><td>10.75</td><td>15.56</td><td>17.2</td><td>15.43</td><td>26.0</td><td>16.08</td><td>22.29</td><td>16.71</td><td>20.77</td><td>17.41</td><td>20.83</td><td>0.83</td><td>-20.73</td><td>18.02</td><td>10.19</td><td>18.99</td><td>9.89</td><td>16.12</td><td>13.31</td><td>NaN</td><td>NaN</td><td>NaN</td><td>NaN</td><td>NaN</td><td>NaN</td><td>NaN</td><td>NaN</td><td>NaN</td><td>NaN</td><td>NaN</td><td>NaN</td><td>NaN</td><td>NaN</td><td>NaN</td><td>NaN</td><td>NaN</td><td>NaN</td><td>NaN</td><td>NaN</td><td>&quot;A&quot;</td></tr><tr><td>31.92</td><td>6.43</td><td>19.09</td><td>10.75</td><td>15.55</td><td>17.2</td><td>15.43</td><td>25.96</td><td>16.07</td><td>22.26</td><td>16.7</td><td>20.73</td><td>17.42</td><td>20.81</td><td>0.83</td><td>-20.73</td><td>18.01</td><td>10.16</td><td>18.99</td><td>9.87</td><td>16.11</td><td>13.3</td><td>NaN</td><td>NaN</td><td>NaN</td><td>NaN</td><td>NaN</td><td>NaN</td><td>NaN</td><td>NaN</td><td>NaN</td><td>NaN</td><td>NaN</td><td>NaN</td><td>NaN</td><td>NaN</td><td>NaN</td><td>NaN</td><td>NaN</td><td>NaN</td><td>NaN</td><td>NaN</td><td>&quot;A&quot;</td></tr><tr><td>31.92</td><td>6.38</td><td>19.09</td><td>10.74</td><td>15.55</td><td>17.19</td><td>15.41</td><td>25.92</td><td>16.06</td><td>22.23</td><td>16.69</td><td>20.69</td><td>17.42</td><td>20.79</td><td>0.83</td><td>-20.73</td><td>18.0</td><td>10.12</td><td>18.99</td><td>9.85</td><td>16.11</td><td>13.29</td><td>NaN</td><td>NaN</td><td>NaN</td><td>NaN</td><td>NaN</td><td>NaN</td><td>NaN</td><td>NaN</td><td>NaN</td><td>NaN</td><td>NaN</td><td>NaN</td><td>NaN</td><td>NaN</td><td>NaN</td><td>NaN</td><td>NaN</td><td>NaN</td><td>NaN</td><td>NaN</td><td>&quot;A&quot;</td></tr><tr><td>31.92</td><td>6.33</td><td>19.1</td><td>10.73</td><td>15.54</td><td>17.19</td><td>15.4</td><td>25.88</td><td>16.05</td><td>22.21</td><td>16.68</td><td>20.65</td><td>17.42</td><td>20.76</td><td>0.83</td><td>-20.73</td><td>17.99</td><td>10.08</td><td>18.99</td><td>9.83</td><td>16.09</td><td>13.27</td><td>NaN</td><td>NaN</td><td>NaN</td><td>NaN</td><td>NaN</td><td>NaN</td><td>NaN</td><td>NaN</td><td>NaN</td><td>NaN</td><td>NaN</td><td>NaN</td><td>NaN</td><td>NaN</td><td>NaN</td><td>NaN</td><td>NaN</td><td>NaN</td><td>NaN</td><td>NaN</td><td>&quot;A&quot;</td></tr><tr><td>31.92</td><td>6.28</td><td>19.1</td><td>10.72</td><td>15.54</td><td>17.18</td><td>15.39</td><td>25.84</td><td>16.04</td><td>22.18</td><td>16.67</td><td>20.6</td><td>17.43</td><td>20.73</td><td>0.83</td><td>-20.72</td><td>17.98</td><td>10.04</td><td>18.99</td><td>9.8</td><td>16.08</td><td>13.26</td><td>NaN</td><td>NaN</td><td>NaN</td><td>NaN</td><td>NaN</td><td>NaN</td><td>NaN</td><td>NaN</td><td>NaN</td><td>NaN</td><td>NaN</td><td>NaN</td><td>NaN</td><td>NaN</td><td>NaN</td><td>NaN</td><td>NaN</td><td>NaN</td><td>NaN</td><td>NaN</td><td>&quot;A&quot;</td></tr></tbody></table></div>"
      ],
      "text/plain": [
       "shape: (76_366, 43)\n",
       "┌───────────┬───────────┬───────────┬───────────┬───┬───────────┬───────────┬───────────┬──────────┐\n",
       "│ S. Mignol ┆ S. Mignol ┆ Ordoñez_x ┆ Ordoñez_y ┆ … ┆ Romeo     ┆ Gustaf    ┆ Gustaf    ┆ HT1 poss │\n",
       "│ et_x      ┆ et_y      ┆ ---       ┆ ---       ┆   ┆ Vermant_y ┆ Nilsson_x ┆ Nilsson_y ┆ ession   │\n",
       "│ ---       ┆ ---       ┆ f64       ┆ f64       ┆   ┆ ---       ┆ ---       ┆ ---       ┆ ---      │\n",
       "│ f64       ┆ f64       ┆           ┆           ┆   ┆ f64       ┆ f64       ┆ f64       ┆ str      │\n",
       "╞═══════════╪═══════════╪═══════════╪═══════════╪═══╪═══════════╪═══════════╪═══════════╪══════════╡\n",
       "│ 42.22     ┆ -0.24     ┆ 8.87      ┆ 5.31      ┆ … ┆ NaN       ┆ NaN       ┆ NaN       ┆ H        │\n",
       "│ 42.21     ┆ -0.24     ┆ 8.88      ┆ 5.31      ┆ … ┆ NaN       ┆ NaN       ┆ NaN       ┆ H        │\n",
       "│ 42.21     ┆ -0.23     ┆ 8.88      ┆ 5.3       ┆ … ┆ NaN       ┆ NaN       ┆ NaN       ┆ H        │\n",
       "│ 42.2      ┆ -0.22     ┆ 8.88      ┆ 5.3       ┆ … ┆ NaN       ┆ NaN       ┆ NaN       ┆ A        │\n",
       "│ 42.19     ┆ -0.21     ┆ 8.88      ┆ 5.29      ┆ … ┆ NaN       ┆ NaN       ┆ NaN       ┆ A        │\n",
       "│ …         ┆ …         ┆ …         ┆ …         ┆ … ┆ …         ┆ …         ┆ …         ┆ …        │\n",
       "│ 31.92     ┆ 6.48      ┆ 19.09     ┆ 10.75     ┆ … ┆ NaN       ┆ NaN       ┆ NaN       ┆ A        │\n",
       "│ 31.92     ┆ 6.43      ┆ 19.09     ┆ 10.75     ┆ … ┆ NaN       ┆ NaN       ┆ NaN       ┆ A        │\n",
       "│ 31.92     ┆ 6.38      ┆ 19.09     ┆ 10.74     ┆ … ┆ NaN       ┆ NaN       ┆ NaN       ┆ A        │\n",
       "│ 31.92     ┆ 6.33      ┆ 19.1      ┆ 10.73     ┆ … ┆ NaN       ┆ NaN       ┆ NaN       ┆ A        │\n",
       "│ 31.92     ┆ 6.28      ┆ 19.1      ┆ 10.72     ┆ … ┆ NaN       ┆ NaN       ┆ NaN       ┆ A        │\n",
       "└───────────┴───────────┴───────────┴───────────┴───┴───────────┴───────────┴───────────┴──────────┘"
      ]
     },
     "execution_count": 20,
     "metadata": {},
     "output_type": "execute_result"
    }
   ],
   "source": [
    "# create a dataframe containing positional and ball status data & write it to parquet\n",
    "xy_possession_df = pl.concat([xy_df, possession_status[\"HT1\"]], how=\"horizontal\")\n",
    "xy_possession_path = Path(base_path, game_path, \"xy_possession_HT1.parquet\")\n",
    "xy_possession_df.write_parquet(xy_possession_path)\n",
    "xy_possession_df"
   ]
  },
  {
   "cell_type": "markdown",
   "id": "1e27a28b",
   "metadata": {},
   "source": [
    "Metabolic Power "
   ]
  },
  {
   "cell_type": "code",
   "execution_count": 21,
   "id": "5e6fc850",
   "metadata": {},
   "outputs": [],
   "source": [
    "metabolic_power_model = MetabolicPowerModel()"
   ]
  },
  {
   "cell_type": "code",
   "execution_count": null,
   "id": "564fbc67",
   "metadata": {},
   "outputs": [],
   "source": [
    "metabolic_power_model.fit(xy_objects['HT1']['Away'])"
   ]
  },
  {
   "cell_type": "code",
   "execution_count": null,
   "id": "bc99c397",
   "metadata": {},
   "outputs": [],
   "source": [
    "metabolic_power_model.metabolic_power()\n"
   ]
  },
  {
   "cell_type": "markdown",
   "id": "61008752",
   "metadata": {},
   "source": [
    "Distance"
   ]
  },
  {
   "cell_type": "code",
   "execution_count": 14,
   "id": "4f677217",
   "metadata": {},
   "outputs": [],
   "source": [
    "# Dictionary to store results per playing half\n",
    "distance_dfs = {}\n",
    "\n",
    "dm = DistanceModel()\n",
    "for half in halfs:                  \n",
    "    distance_dfs[half] = {}\n",
    "    \n",
    "    for team in teams:\n",
    "        # apply the floodlight function\n",
    "        dm.fit(xy_objects[half][team])\n",
    "        distance = dm.distance_covered()\n",
    "        # extract only the distance data\n",
    "        np_array = distance.property\n",
    "        # define the player names that have to be used as column names\n",
    "        players = home_players if team == \"Home\" else away_players\n",
    "        schema_dict = {player:pl.Float32 for player in players}\n",
    "        # store the data in a dataframe and filter out rows that entirely consist of nan values \n",
    "        distance_dfs[half][team] = (\n",
    "            pl.DataFrame(\n",
    "                np_array, \n",
    "                schema=schema_dict\n",
    "            ).filter(\n",
    "                ~pl.all_horizontal(\n",
    "                    pl.all().is_nan()\n",
    "                )\n",
    "            )\n",
    "        )"
   ]
  },
  {
   "cell_type": "code",
   "execution_count": 15,
   "id": "ee752fc7",
   "metadata": {},
   "outputs": [],
   "source": [
    "# concatenate data from the Home team, Away team, ball status & possession status\n",
    "distance_df = (\n",
    "    pl.concat(\n",
    "        [\n",
    "            distance_dfs[\"HT1\"]['Home'],\n",
    "            distance_dfs[\"HT1\"]['Away'],\n",
    "            ball_status[\"HT1\"], \n",
    "            possession_status[\"HT1\"]\n",
    "        ], \n",
    "        how = \"horizontal\"\n",
    "    ).drop_nulls()\n",
    ")"
   ]
  },
  {
   "cell_type": "code",
   "execution_count": 16,
   "id": "0f5b9ac6",
   "metadata": {},
   "outputs": [],
   "source": [
    "# write the distance data to a parquet file \n",
    "distance_path = Path(base_path, game_path, \"distance_HT1.parquet\")\n",
    "distance_df.write_parquet(distance_path)"
   ]
  },
  {
   "cell_type": "markdown",
   "id": "e37a9e59",
   "metadata": {},
   "source": [
    "Velocity"
   ]
  },
  {
   "cell_type": "code",
   "execution_count": 14,
   "id": "548274b9",
   "metadata": {},
   "outputs": [],
   "source": [
    "\n",
    "# Dictionary to store results\n",
    "velocity_dfs = {}\n",
    "\n",
    "vm = VelocityModel()\n",
    "for half in halfs:\n",
    "    velocity_dfs[half] = {}\n",
    "    \n",
    "    for team in teams:\n",
    "        # apply the floodlight function\n",
    "        vm.fit(xy_objects[half][team])\n",
    "        velocity = vm.velocity()\n",
    "        # extract only the velocity data\n",
    "        np_array = velocity.property\n",
    "        # define the player names that have to be used as column names\n",
    "        players = home_players if team == \"Home\" else away_players\n",
    "        schema_dict = {player:pl.Float32 for player in players}\n",
    "        # store the data in a dataframe and filter out rows that entirely consist of nan values v\n",
    "        velocity_dfs[half][team] = (\n",
    "            pl.DataFrame(\n",
    "                np_array, \n",
    "                schema=schema_dict\n",
    "            ).filter(\n",
    "                ~pl.all_horizontal(\n",
    "                    pl.all().is_nan()\n",
    "                )\n",
    "            )\n",
    "        )"
   ]
  },
  {
   "cell_type": "code",
   "execution_count": 15,
   "id": "0dfa5e74",
   "metadata": {},
   "outputs": [],
   "source": [
    "# concatenate data from the Home team, Away team, ball status & possession status\n",
    "velocity_df = (\n",
    "    pl.concat(\n",
    "        [\n",
    "            velocity_dfs[\"HT1\"]['Home'],\n",
    "            velocity_dfs[\"HT1\"]['Away'],\n",
    "            ball_status[\"HT1\"], \n",
    "            possession_status[\"HT1\"]\n",
    "        ], \n",
    "        how = \"horizontal\"\n",
    "    ).drop_nulls()\n",
    ")\n",
    "#velocity_df"
   ]
  },
  {
   "cell_type": "code",
   "execution_count": 16,
   "id": "4d4a85d9",
   "metadata": {},
   "outputs": [],
   "source": [
    "# write the velocity data to a parquet file \n",
    "velocity_path = Path(base_path, game_path, \"velocity_HT1.parquet\")\n",
    "velocity_df.write_parquet(velocity_path)"
   ]
  },
  {
   "cell_type": "code",
   "execution_count": null,
   "id": "9ad25df9",
   "metadata": {},
   "outputs": [
    {
     "data": {
      "text/html": [
       "<div><style>\n",
       ".dataframe > thead > tr,\n",
       ".dataframe > tbody > tr {\n",
       "  text-align: right;\n",
       "  white-space: pre-wrap;\n",
       "}\n",
       "</style>\n",
       "<small>shape: (1, 1)</small><table border=\"1\" class=\"dataframe\"><thead><tr><th>distance</th></tr><tr><td>f64</td></tr></thead><tbody><tr><td>518.688651</td></tr></tbody></table></div>"
      ],
      "text/plain": [
       "shape: (1, 1)\n",
       "┌────────────┐\n",
       "│ distance   │\n",
       "│ ---        │\n",
       "│ f64        │\n",
       "╞════════════╡\n",
       "│ 518.688651 │\n",
       "└────────────┘"
      ]
     },
     "execution_count": 22,
     "metadata": {},
     "output_type": "execute_result"
    }
   ],
   "source": [
    "# example ofhow the dataframes can be filtered to get distance ran above a certain speed treshold\n",
    "pl.concat(\n",
    "    [\n",
    "        distance_dfs['HT2']['Away'][\"C. Tzolis\"].to_frame(name=\"distance\"), \n",
    "        velocity_dfs['HT2']['Away'][\"C. Tzolis\"].to_frame(name=\"velocity\")\n",
    "    ], \n",
    "    how=\"horizontal\"\n",
    ").filter(\n",
    "    ((pl.col(\"velocity\") > 5.5) & (pl.col(\"velocity\").is_not_nan()))\n",
    ").select(\n",
    "    \"distance\"\n",
    ").sum()\n"
   ]
  }
 ],
 "metadata": {
  "kernelspec": {
   "display_name": "floodlight-env",
   "language": "python",
   "name": "python3"
  },
  "language_info": {
   "codemirror_mode": {
    "name": "ipython",
    "version": 3
   },
   "file_extension": ".py",
   "mimetype": "text/x-python",
   "name": "python",
   "nbconvert_exporter": "python",
   "pygments_lexer": "ipython3",
   "version": "3.10.16"
  }
 },
 "nbformat": 4,
 "nbformat_minor": 5
}
