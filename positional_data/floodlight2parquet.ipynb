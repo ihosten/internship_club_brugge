{
 "cells": [
  {
   "cell_type": "markdown",
   "id": "2cc7aaf1",
   "metadata": {},
   "source": [
    "notebook to find out the amount of distance players run above certrain speed tresholds during a  match"
   ]
  },
  {
   "cell_type": "code",
   "execution_count": 1,
   "id": "6e08927a",
   "metadata": {},
   "outputs": [],
   "source": [
    "from floodligt_functions import clean_metadata\n",
    "from floodligt_functions import read_position_data_jsonl\n",
    "from pathlib import Path\n",
    "import polars as pl\n",
    "from floodlight.models.kinematics import DistanceModel\n",
    "from floodlight.models.kinematics import VelocityModel"
   ]
  },
  {
   "cell_type": "code",
   "execution_count": 2,
   "id": "c8840cf2",
   "metadata": {},
   "outputs": [],
   "source": [
    "# path to the tracking data file\n",
    "filepath_position = Path(\"SecondSpectrum/Second Spectrum/Anderlecht - Club Brugge/tracking-produced.jsonl\")"
   ]
  },
  {
   "cell_type": "code",
   "execution_count": 3,
   "id": "27f872d8",
   "metadata": {},
   "outputs": [],
   "source": [
    "# path to the origibal meta data file\n",
    "filepath_metadata = Path(\"SecondSpectrum/Second Spectrum/Anderlecht - Club Brugge/rsc-bru_metadata.json\")"
   ]
  },
  {
   "cell_type": "code",
   "execution_count": 4,
   "id": "ca5067d6",
   "metadata": {},
   "outputs": [],
   "source": [
    "# path to the cleaned metadata file = output of clean_metadata function\n",
    "filepath_cleaned_metadata = Path(\"cleaned_metadata.json\")"
   ]
  },
  {
   "cell_type": "code",
   "execution_count": 5,
   "id": "b6d23327",
   "metadata": {},
   "outputs": [],
   "source": [
    "# modifying the metadata file so it can be used as input for the floodlight function\n",
    "clean_metadata(filepath_metadata)"
   ]
  },
  {
   "cell_type": "code",
   "execution_count": 6,
   "id": "0a7e9d8d",
   "metadata": {},
   "outputs": [],
   "source": [
    "# reading in the tracking / position data\n",
    "position_data = read_position_data_jsonl(\n",
    "    filepath_position,\n",
    "    filepath_cleaned_metadata\n",
    ")"
   ]
  },
  {
   "cell_type": "markdown",
   "id": "e6463673",
   "metadata": {},
   "source": [
    "Getting the data"
   ]
  },
  {
   "cell_type": "code",
   "execution_count": 7,
   "id": "cec8488f",
   "metadata": {},
   "outputs": [],
   "source": [
    "# storing different possibilities for halfs and teams to be used in loops\n",
    "# only HT1 is used to avoid kernel crashing \n",
    "halfs =  [\"HT1\"] #[\"HT1\", \"HT2\"]\n",
    "teams =[\"Home\", \"Away\"]"
   ]
  },
  {
   "cell_type": "code",
   "execution_count": 8,
   "id": "4fc83835",
   "metadata": {},
   "outputs": [],
   "source": [
    "# get list of home players\n",
    "# this will be used to match player with correct position data\n",
    "home_players = [player for player in position_data[3]['Home'][\"player\"]]\n",
    "\n",
    "# get list of away players\n",
    "away_players = [player for player in position_data[3]['Away'][\"player\"]]"
   ]
  },
  {
   "cell_type": "code",
   "execution_count": 13,
   "id": "d2f03e93",
   "metadata": {},
   "outputs": [],
   "source": [
    "# store a dataframe per half showing the possession status (H = Home or A = Away) \n",
    "possession_status = {}\n",
    "\n",
    "for half in halfs:\n",
    "    # access the possession data in the position data dictionary\n",
    "    half_possession = position_data[1][half].code\n",
    "\n",
    "    # Convert np.nan to None so Polars can handle them as nulls\n",
    "    half_possession = [x if isinstance(x, str) else None for x in half_possession]\n",
    "\n",
    "    # Create DataFrame\n",
    "    possession_status[half] = pl.DataFrame({\n",
    "        f\"{half} possession\": half_possession\n",
    "    }).drop_nulls()"
   ]
  },
  {
   "cell_type": "code",
   "execution_count": 11,
   "id": "fb6ec49f",
   "metadata": {},
   "outputs": [],
   "source": [
    "# store a dataframe per half showing the possession status (D = Dead or A = Alive) \n",
    "ball_status = {}\n",
    "\n",
    "for half in halfs:\n",
    "    # access the ball data in the position data dictionary\n",
    "    half_ball_status = position_data[2][half].code\n",
    "    \n",
    "    # Convert np.nan to None so Polars can handle them as nulls\n",
    "    half_ball_status = [x if isinstance(x, str) else None for x in half_ball_status]\n",
    "    \n",
    "    # Create DataFrame\n",
    "    ball_status[half] = pl.DataFrame({\n",
    "        f\"{half} ball status\": half_ball_status\n",
    "    }).drop_nulls()"
   ]
  },
  {
   "cell_type": "code",
   "execution_count": 14,
   "id": "c2ff123e",
   "metadata": {},
   "outputs": [],
   "source": [
    "# get the xy coordinates of the position data\n",
    "# needed as input for the floodlight position - velocity - acceleration data\n",
    "xy_objects = position_data[0]"
   ]
  },
  {
   "cell_type": "code",
   "execution_count": null,
   "id": "4f677217",
   "metadata": {},
   "outputs": [],
   "source": [
    "# Dictionary to store results per playing half\n",
    "distance_dfs = {}\n",
    "\n",
    "for half in halfs:                  \n",
    "    distance_dfs[half] = {}\n",
    "    \n",
    "    for team in teams:\n",
    "        # apply the floodlight function\n",
    "        dm = DistanceModel()\n",
    "        dm.fit(xy_objects[half][team])\n",
    "        distance = dm.distance_covered()\n",
    "        # extract only the distance data\n",
    "        np_array = distance.property\n",
    "        # define the player names that have to be used as column names\n",
    "        schema = home_players if team == \"Home\" else away_players\n",
    "        # store the data in a dataframe and filter out rows that entirely consist of nan values \n",
    "        distance_dfs[half][team] = pl.DataFrame(np_array, schema=schema).filter(~pl.all_horizontal(pl.all().is_nan()))"
   ]
  },
  {
   "cell_type": "code",
   "execution_count": 15,
   "id": "1537894d",
   "metadata": {},
   "outputs": [],
   "source": [
    "#distance_dfs"
   ]
  },
  {
   "cell_type": "code",
   "execution_count": null,
   "id": "ee752fc7",
   "metadata": {},
   "outputs": [],
   "source": [
    "# concatenate data from the Home team, Away team, ball status & possession status\n",
    "distance_df = pl.concat([distance_dfs[\"HT1\"]['Home'],distance_dfs[\"HT1\"]['Away'],ball_status[\"HT1\"], possession_status[\"HT1\"]], how = \"horizontal\").drop_nulls()"
   ]
  },
  {
   "cell_type": "code",
   "execution_count": 17,
   "id": "f0ce1663",
   "metadata": {},
   "outputs": [],
   "source": [
    "#distance_df"
   ]
  },
  {
   "cell_type": "code",
   "execution_count": null,
   "id": "0f5b9ac6",
   "metadata": {},
   "outputs": [],
   "source": [
    "# write the distance data to a parquet file \n",
    "path = Path(\"floodlight_parquets/distance_HT1\")\n",
    "distance_df.write_parquet(path)"
   ]
  },
  {
   "cell_type": "code",
   "execution_count": null,
   "id": "548274b9",
   "metadata": {},
   "outputs": [
    {
     "ename": "",
     "evalue": "",
     "output_type": "error",
     "traceback": [
      "\u001b[1;31mThe Kernel crashed while executing code in the current cell or a previous cell. \n",
      "\u001b[1;31mPlease review the code in the cell(s) to identify a possible cause of the failure. \n",
      "\u001b[1;31mClick <a href='https://aka.ms/vscodeJupyterKernelCrash'>here</a> for more info. \n",
      "\u001b[1;31mView Jupyter <a href='command:jupyter.viewOutput'>log</a> for further details."
     ]
    }
   ],
   "source": [
    "\n",
    "# Dictionary to store results\n",
    "velocity_dfs = {}\n",
    "\n",
    "for half in halfs:\n",
    "    velocity_dfs[half] = {}\n",
    "    \n",
    "    for team in teams:\n",
    "        # apply the floodlight function\n",
    "        vm = VelocityModel()\n",
    "        vm.fit(xy_objects[half][team])\n",
    "        velocity = vm.velocity()\n",
    "        # extract only the velocity data\n",
    "        np_array = velocity.property\n",
    "        # define the player names that have to be used as column names\n",
    "        schema = home_players if team == \"Home\" else away_players\n",
    "        # store the data in a dataframe and filter out rows that entirely consist of nan values \n",
    "        velocity_dfs[half][team] = pl.DataFrame(np_array, schema=schema).filter(~pl.all_horizontal(pl.all().is_nan()))"
   ]
  },
  {
   "cell_type": "code",
   "execution_count": null,
   "id": "a65edd7d",
   "metadata": {},
   "outputs": [
    {
     "data": {
      "text/plain": [
       "{'HT1': {'Home': shape: (76_365, 21)\n",
       "  ┌─────────────┬──────────┬──────────┬──────────┬───┬────────────┬────────┬────────────┬────────────┐\n",
       "  │ C.          ┆ Amuzu    ┆ M. Rits  ┆ T. Leoni ┆ … ┆ T. Degreef ┆ Thomas ┆ Timon      ┆ Anas       │\n",
       "  │ Coosemans   ┆ ---      ┆ ---      ┆ ---      ┆   ┆ ---        ┆ Foket  ┆ Vanhoutte  ┆ Tajaouart  │\n",
       "  │ ---         ┆ f64      ┆ f64      ┆ f64      ┆   ┆ f64        ┆ ---    ┆ ---        ┆ ---        │\n",
       "  │ f64         ┆          ┆          ┆          ┆   ┆            ┆ f64    ┆ f64        ┆ f64        │\n",
       "  ╞═════════════╪══════════╪══════════╪══════════╪═══╪════════════╪════════╪════════════╪════════════╡\n",
       "  │ 0.5         ┆ 1.520691 ┆ 0.559017 ┆ 1.030776 ┆ … ┆ NaN        ┆ NaN    ┆ NaN        ┆ NaN        │\n",
       "  │ 0.450694    ┆ 1.520691 ┆ 0.450694 ┆ 1.007782 ┆ … ┆ NaN        ┆ NaN    ┆ NaN        ┆ NaN        │\n",
       "  │ 0.559017    ┆ 1.667708 ┆ 0.375    ┆ 1.0      ┆ … ┆ NaN        ┆ NaN    ┆ NaN        ┆ NaN        │\n",
       "  │ 0.450694    ┆ 1.976424 ┆ 0.395285 ┆ 1.007782 ┆ … ┆ NaN        ┆ NaN    ┆ NaN        ┆ NaN        │\n",
       "  │ 0.559017    ┆ 2.25347  ┆ 0.375    ┆ 1.007782 ┆ … ┆ NaN        ┆ NaN    ┆ NaN        ┆ NaN        │\n",
       "  │ …           ┆ …        ┆ …        ┆ …        ┆ … ┆ …          ┆ …      ┆ …          ┆ …          │\n",
       "  │ 0.800391    ┆ 0.0      ┆ 1.845603 ┆ 0.395285 ┆ … ┆ NaN        ┆ NaN    ┆ NaN        ┆ NaN        │\n",
       "  │ 0.901388    ┆ 0.0      ┆ 1.789728 ┆ 0.515388 ┆ … ┆ NaN        ┆ NaN    ┆ NaN        ┆ NaN        │\n",
       "  │ 1.007782    ┆ 0.0      ┆ 1.845603 ┆ 0.395285 ┆ … ┆ NaN        ┆ NaN    ┆ NaN        ┆ NaN        │\n",
       "  │ 0.951972    ┆ 0.0      ┆ 1.845603 ┆ 0.395285 ┆ … ┆ NaN        ┆ NaN    ┆ NaN        ┆ NaN        │\n",
       "  │ 0.951972    ┆ 0.0      ┆ 1.789728 ┆ 0.515388 ┆ … ┆ NaN        ┆ NaN    ┆ NaN        ┆ NaN        │\n",
       "  └─────────────┴──────────┴──────────┴──────────┴───┴────────────┴────────┴────────────┴────────────┘,\n",
       "  'Away': shape: (76_365, 21)\n",
       "  ┌─────────────┬──────────┬───────────────┬──────────┬───┬────────┬─────────┬─────────┬─────────┐\n",
       "  │ S. Mignolet ┆ Ordoñez  ┆ Ferran Jutglà ┆ K. Sabbe ┆ … ┆ Siquet ┆ Jackers ┆ Romeo   ┆ Gustaf  │\n",
       "  │ ---         ┆ ---      ┆ ---           ┆ ---      ┆   ┆ ---    ┆ ---     ┆ Vermant ┆ Nilsson │\n",
       "  │ f64         ┆ f64      ┆ f64           ┆ f64      ┆   ┆ f64    ┆ f64     ┆ ---     ┆ ---     │\n",
       "  │             ┆          ┆               ┆          ┆   ┆        ┆         ┆ f64     ┆ f64     │\n",
       "  ╞═════════════╪══════════╪═══════════════╪══════════╪═══╪════════╪═════════╪═════════╪═════════╡\n",
       "  │ 0.25        ┆ 0.25     ┆ 1.767767      ┆ 0.25     ┆ … ┆ NaN    ┆ NaN     ┆ NaN     ┆ NaN     │\n",
       "  │ 0.176777    ┆ 0.176777 ┆ 1.891593      ┆ 0.279508 ┆ … ┆ NaN    ┆ NaN     ┆ NaN     ┆ NaN     │\n",
       "  │ 0.279508    ┆ 0.125    ┆ 2.157835      ┆ 0.353553 ┆ … ┆ NaN    ┆ NaN     ┆ NaN     ┆ NaN     │\n",
       "  │ 0.353553    ┆ 0.125    ┆ 2.427061      ┆ 0.353553 ┆ … ┆ NaN    ┆ NaN     ┆ NaN     ┆ NaN     │\n",
       "  │ 0.450694    ┆ 0.25     ┆ 2.576941      ┆ 0.279508 ┆ … ┆ NaN    ┆ NaN     ┆ NaN     ┆ NaN     │\n",
       "  │ …           ┆ …        ┆ …             ┆ …        ┆ … ┆ …      ┆ …       ┆ …       ┆ …       │\n",
       "  │ 1.152443    ┆ 0.176777 ┆ 0.176777      ┆ 1.030776 ┆ … ┆ NaN    ┆ NaN     ┆ NaN     ┆ NaN     │\n",
       "  │ 1.131923    ┆ 0.0      ┆ 0.176777      ┆ 1.007782 ┆ … ┆ NaN    ┆ NaN     ┆ NaN     ┆ NaN     │\n",
       "  │ 1.25        ┆ 0.125    ┆ 0.176777      ┆ 1.030776 ┆ … ┆ NaN    ┆ NaN     ┆ NaN     ┆ NaN     │\n",
       "  │ 1.25        ┆ 0.279508 ┆ 0.176777      ┆ 1.068    ┆ … ┆ NaN    ┆ NaN     ┆ NaN     ┆ NaN     │\n",
       "  │ 1.25        ┆ 0.279508 ┆ 0.176777      ┆ 1.030776 ┆ … ┆ NaN    ┆ NaN     ┆ NaN     ┆ NaN     │\n",
       "  └─────────────┴──────────┴───────────────┴──────────┴───┴────────┴─────────┴─────────┴─────────┘}}"
      ]
     },
     "execution_count": 18,
     "metadata": {},
     "output_type": "execute_result"
    }
   ],
   "source": [
    "#velocity_dfs"
   ]
  },
  {
   "cell_type": "code",
   "execution_count": null,
   "id": "0dfa5e74",
   "metadata": {},
   "outputs": [
    {
     "data": {
      "text/html": [
       "<div><style>\n",
       ".dataframe > thead > tr,\n",
       ".dataframe > tbody > tr {\n",
       "  text-align: right;\n",
       "  white-space: pre-wrap;\n",
       "}\n",
       "</style>\n",
       "<small>shape: (76_365, 44)</small><table border=\"1\" class=\"dataframe\"><thead><tr><th>C. Coosemans</th><th>Amuzu</th><th>M. Rits</th><th>T. Leoni</th><th>K. Dolberg</th><th>K. Sardella</th><th>A. Dreyer</th><th>L. Dendoncker</th><th>J. Simić</th><th>Amando Lapage</th><th>Ali Maamar</th><th>L. Vázquez</th><th>Y. Verschaeren</th><th>N. Engwanda</th><th>Mads Kikkenborg</th><th>S. Edozie</th><th>Thorgan Hazard</th><th>T. Degreef</th><th>Thomas Foket</th><th>Timon Vanhoutte</th><th>Anas Tajaouart</th><th>S. Mignolet</th><th>Ordoñez</th><th>Ferran Jutglà</th><th>K. Sabbe</th><th>C. Talbi</th><th>H. Vanaken</th><th>B. Mechele</th><th>C. Tzolis</th><th>Maxim De Cuyper</th><th>Ardon Jashari</th><th>Raphael Onyedika</th><th>Bjorn Meijer</th><th>Michal Skoras</th><th>J. Spileers</th><th>C. Nielsen</th><th>Romero</th><th>H. Vetlesen</th><th>Siquet</th><th>Jackers</th><th>Romeo Vermant</th><th>Gustaf Nilsson</th><th>HT1 ball status</th><th>HT1 possession</th></tr><tr><td>f64</td><td>f64</td><td>f64</td><td>f64</td><td>f64</td><td>f64</td><td>f64</td><td>f64</td><td>f64</td><td>f64</td><td>f64</td><td>f64</td><td>f64</td><td>f64</td><td>f64</td><td>f64</td><td>f64</td><td>f64</td><td>f64</td><td>f64</td><td>f64</td><td>f64</td><td>f64</td><td>f64</td><td>f64</td><td>f64</td><td>f64</td><td>f64</td><td>f64</td><td>f64</td><td>f64</td><td>f64</td><td>f64</td><td>f64</td><td>f64</td><td>f64</td><td>f64</td><td>f64</td><td>f64</td><td>f64</td><td>f64</td><td>f64</td><td>str</td><td>str</td></tr></thead><tbody><tr><td>0.5</td><td>1.520691</td><td>0.559017</td><td>1.030776</td><td>2.150581</td><td>0.25</td><td>0.75</td><td>0.353553</td><td>0.5</td><td>0.25</td><td>0.25</td><td>NaN</td><td>NaN</td><td>NaN</td><td>NaN</td><td>NaN</td><td>NaN</td><td>NaN</td><td>NaN</td><td>NaN</td><td>NaN</td><td>0.25</td><td>0.25</td><td>1.767767</td><td>0.25</td><td>0.25</td><td>0.25</td><td>0.0</td><td>0.25</td><td>0.25</td><td>0.790569</td><td>0.353553</td><td>NaN</td><td>NaN</td><td>NaN</td><td>NaN</td><td>NaN</td><td>NaN</td><td>NaN</td><td>NaN</td><td>NaN</td><td>NaN</td><td>&quot;D&quot;</td><td>&quot;H&quot;</td></tr><tr><td>0.450694</td><td>1.520691</td><td>0.450694</td><td>1.007782</td><td>2.150581</td><td>0.25</td><td>0.625</td><td>0.353553</td><td>0.395285</td><td>0.395285</td><td>0.279508</td><td>NaN</td><td>NaN</td><td>NaN</td><td>NaN</td><td>NaN</td><td>NaN</td><td>NaN</td><td>NaN</td><td>NaN</td><td>NaN</td><td>0.176777</td><td>0.176777</td><td>1.891593</td><td>0.279508</td><td>0.125</td><td>0.176777</td><td>0.125</td><td>0.375</td><td>0.125</td><td>0.790569</td><td>0.279508</td><td>NaN</td><td>NaN</td><td>NaN</td><td>NaN</td><td>NaN</td><td>NaN</td><td>NaN</td><td>NaN</td><td>NaN</td><td>NaN</td><td>&quot;D&quot;</td><td>&quot;H&quot;</td></tr><tr><td>0.559017</td><td>1.667708</td><td>0.375</td><td>1.0</td><td>2.25347</td><td>0.279508</td><td>0.625</td><td>0.450694</td><td>0.395285</td><td>0.450694</td><td>0.25</td><td>NaN</td><td>NaN</td><td>NaN</td><td>NaN</td><td>NaN</td><td>NaN</td><td>NaN</td><td>NaN</td><td>NaN</td><td>NaN</td><td>0.279508</td><td>0.125</td><td>2.157835</td><td>0.353553</td><td>0.125</td><td>0.395285</td><td>0.125</td><td>0.5</td><td>0.125</td><td>0.673146</td><td>0.125</td><td>NaN</td><td>NaN</td><td>NaN</td><td>NaN</td><td>NaN</td><td>NaN</td><td>NaN</td><td>NaN</td><td>NaN</td><td>NaN</td><td>&quot;D&quot;</td><td>&quot;H&quot;</td></tr><tr><td>0.450694</td><td>1.976424</td><td>0.395285</td><td>1.007782</td><td>2.25347</td><td>0.279508</td><td>0.5</td><td>0.559017</td><td>0.375</td><td>0.450694</td><td>0.25</td><td>NaN</td><td>NaN</td><td>NaN</td><td>NaN</td><td>NaN</td><td>NaN</td><td>NaN</td><td>NaN</td><td>NaN</td><td>NaN</td><td>0.353553</td><td>0.125</td><td>2.427061</td><td>0.353553</td><td>0.25</td><td>0.75</td><td>0.0</td><td>0.625</td><td>0.176777</td><td>0.559017</td><td>0.125</td><td>NaN</td><td>NaN</td><td>NaN</td><td>NaN</td><td>NaN</td><td>NaN</td><td>NaN</td><td>NaN</td><td>NaN</td><td>NaN</td><td>&quot;A&quot;</td><td>&quot;A&quot;</td></tr><tr><td>0.559017</td><td>2.25347</td><td>0.375</td><td>1.007782</td><td>2.150581</td><td>0.176777</td><td>0.25</td><td>0.559017</td><td>0.375</td><td>0.728869</td><td>0.395285</td><td>NaN</td><td>NaN</td><td>NaN</td><td>NaN</td><td>NaN</td><td>NaN</td><td>NaN</td><td>NaN</td><td>NaN</td><td>NaN</td><td>0.450694</td><td>0.25</td><td>2.576941</td><td>0.279508</td><td>0.125</td><td>1.256234</td><td>0.125</td><td>1.125</td><td>0.125</td><td>0.353553</td><td>0.176777</td><td>NaN</td><td>NaN</td><td>NaN</td><td>NaN</td><td>NaN</td><td>NaN</td><td>NaN</td><td>NaN</td><td>NaN</td><td>NaN</td><td>&quot;A&quot;</td><td>&quot;A&quot;</td></tr><tr><td>&hellip;</td><td>&hellip;</td><td>&hellip;</td><td>&hellip;</td><td>&hellip;</td><td>&hellip;</td><td>&hellip;</td><td>&hellip;</td><td>&hellip;</td><td>&hellip;</td><td>&hellip;</td><td>&hellip;</td><td>&hellip;</td><td>&hellip;</td><td>&hellip;</td><td>&hellip;</td><td>&hellip;</td><td>&hellip;</td><td>&hellip;</td><td>&hellip;</td><td>&hellip;</td><td>&hellip;</td><td>&hellip;</td><td>&hellip;</td><td>&hellip;</td><td>&hellip;</td><td>&hellip;</td><td>&hellip;</td><td>&hellip;</td><td>&hellip;</td><td>&hellip;</td><td>&hellip;</td><td>&hellip;</td><td>&hellip;</td><td>&hellip;</td><td>&hellip;</td><td>&hellip;</td><td>&hellip;</td><td>&hellip;</td><td>&hellip;</td><td>&hellip;</td><td>&hellip;</td><td>&hellip;</td><td>&hellip;</td></tr><tr><td>0.800391</td><td>0.0</td><td>1.845603</td><td>0.395285</td><td>0.515388</td><td>0.279508</td><td>0.125</td><td>0.395285</td><td>0.0</td><td>1.030776</td><td>0.637377</td><td>NaN</td><td>NaN</td><td>NaN</td><td>NaN</td><td>NaN</td><td>NaN</td><td>NaN</td><td>NaN</td><td>NaN</td><td>NaN</td><td>1.152443</td><td>0.176777</td><td>0.176777</td><td>1.030776</td><td>0.673146</td><td>1.007782</td><td>0.515388</td><td>0.176777</td><td>0.883883</td><td>0.5</td><td>0.279508</td><td>NaN</td><td>NaN</td><td>NaN</td><td>NaN</td><td>NaN</td><td>NaN</td><td>NaN</td><td>NaN</td><td>NaN</td><td>NaN</td><td>&quot;A&quot;</td><td>&quot;A&quot;</td></tr><tr><td>0.901388</td><td>0.0</td><td>1.789728</td><td>0.515388</td><td>0.515388</td><td>0.279508</td><td>0.125</td><td>0.450694</td><td>0.0</td><td>1.030776</td><td>0.637377</td><td>NaN</td><td>NaN</td><td>NaN</td><td>NaN</td><td>NaN</td><td>NaN</td><td>NaN</td><td>NaN</td><td>NaN</td><td>NaN</td><td>1.131923</td><td>0.0</td><td>0.176777</td><td>1.007782</td><td>0.673146</td><td>1.007782</td><td>0.559017</td><td>0.0</td><td>0.883883</td><td>0.5</td><td>0.353553</td><td>NaN</td><td>NaN</td><td>NaN</td><td>NaN</td><td>NaN</td><td>NaN</td><td>NaN</td><td>NaN</td><td>NaN</td><td>NaN</td><td>&quot;D&quot;</td><td>&quot;A&quot;</td></tr><tr><td>1.007782</td><td>0.0</td><td>1.845603</td><td>0.395285</td><td>0.625</td><td>0.353553</td><td>0.25</td><td>0.395285</td><td>0.0</td><td>1.152443</td><td>0.673146</td><td>NaN</td><td>NaN</td><td>NaN</td><td>NaN</td><td>NaN</td><td>NaN</td><td>NaN</td><td>NaN</td><td>NaN</td><td>NaN</td><td>1.25</td><td>0.125</td><td>0.176777</td><td>1.030776</td><td>0.790569</td><td>1.030776</td><td>0.515388</td><td>0.0</td><td>0.910014</td><td>0.5</td><td>0.279508</td><td>NaN</td><td>NaN</td><td>NaN</td><td>NaN</td><td>NaN</td><td>NaN</td><td>NaN</td><td>NaN</td><td>NaN</td><td>NaN</td><td>&quot;D&quot;</td><td>&quot;A&quot;</td></tr><tr><td>0.951972</td><td>0.0</td><td>1.845603</td><td>0.395285</td><td>0.637377</td><td>0.176777</td><td>0.25</td><td>0.515388</td><td>0.0</td><td>1.152443</td><td>0.790569</td><td>NaN</td><td>NaN</td><td>NaN</td><td>NaN</td><td>NaN</td><td>NaN</td><td>NaN</td><td>NaN</td><td>NaN</td><td>NaN</td><td>1.25</td><td>0.279508</td><td>0.176777</td><td>1.068</td><td>0.673146</td><td>1.030776</td><td>0.625</td><td>0.0</td><td>1.030776</td><td>0.5</td><td>0.450694</td><td>NaN</td><td>NaN</td><td>NaN</td><td>NaN</td><td>NaN</td><td>NaN</td><td>NaN</td><td>NaN</td><td>NaN</td><td>NaN</td><td>&quot;D&quot;</td><td>&quot;A&quot;</td></tr><tr><td>0.951972</td><td>0.0</td><td>1.789728</td><td>0.515388</td><td>0.515388</td><td>0.176777</td><td>0.125</td><td>0.559017</td><td>0.0</td><td>1.068</td><td>0.790569</td><td>NaN</td><td>NaN</td><td>NaN</td><td>NaN</td><td>NaN</td><td>NaN</td><td>NaN</td><td>NaN</td><td>NaN</td><td>NaN</td><td>1.25</td><td>0.279508</td><td>0.176777</td><td>1.030776</td><td>0.673146</td><td>1.152443</td><td>0.760345</td><td>0.125</td><td>1.030776</td><td>0.625</td><td>0.53033</td><td>NaN</td><td>NaN</td><td>NaN</td><td>NaN</td><td>NaN</td><td>NaN</td><td>NaN</td><td>NaN</td><td>NaN</td><td>NaN</td><td>&quot;D&quot;</td><td>&quot;A&quot;</td></tr></tbody></table></div>"
      ],
      "text/plain": [
       "shape: (76_365, 44)\n",
       "┌────────────┬──────────┬──────────┬──────────┬───┬────────────┬───────────┬───────────┬───────────┐\n",
       "│ C.         ┆ Amuzu    ┆ M. Rits  ┆ T. Leoni ┆ … ┆ Romeo      ┆ Gustaf    ┆ HT1 ball  ┆ HT1 posse │\n",
       "│ Coosemans  ┆ ---      ┆ ---      ┆ ---      ┆   ┆ Vermant    ┆ Nilsson   ┆ status    ┆ ssion     │\n",
       "│ ---        ┆ f64      ┆ f64      ┆ f64      ┆   ┆ ---        ┆ ---       ┆ ---       ┆ ---       │\n",
       "│ f64        ┆          ┆          ┆          ┆   ┆ f64        ┆ f64       ┆ str       ┆ str       │\n",
       "╞════════════╪══════════╪══════════╪══════════╪═══╪════════════╪═══════════╪═══════════╪═══════════╡\n",
       "│ 0.5        ┆ 1.520691 ┆ 0.559017 ┆ 1.030776 ┆ … ┆ NaN        ┆ NaN       ┆ D         ┆ H         │\n",
       "│ 0.450694   ┆ 1.520691 ┆ 0.450694 ┆ 1.007782 ┆ … ┆ NaN        ┆ NaN       ┆ D         ┆ H         │\n",
       "│ 0.559017   ┆ 1.667708 ┆ 0.375    ┆ 1.0      ┆ … ┆ NaN        ┆ NaN       ┆ D         ┆ H         │\n",
       "│ 0.450694   ┆ 1.976424 ┆ 0.395285 ┆ 1.007782 ┆ … ┆ NaN        ┆ NaN       ┆ A         ┆ A         │\n",
       "│ 0.559017   ┆ 2.25347  ┆ 0.375    ┆ 1.007782 ┆ … ┆ NaN        ┆ NaN       ┆ A         ┆ A         │\n",
       "│ …          ┆ …        ┆ …        ┆ …        ┆ … ┆ …          ┆ …         ┆ …         ┆ …         │\n",
       "│ 0.800391   ┆ 0.0      ┆ 1.845603 ┆ 0.395285 ┆ … ┆ NaN        ┆ NaN       ┆ A         ┆ A         │\n",
       "│ 0.901388   ┆ 0.0      ┆ 1.789728 ┆ 0.515388 ┆ … ┆ NaN        ┆ NaN       ┆ D         ┆ A         │\n",
       "│ 1.007782   ┆ 0.0      ┆ 1.845603 ┆ 0.395285 ┆ … ┆ NaN        ┆ NaN       ┆ D         ┆ A         │\n",
       "│ 0.951972   ┆ 0.0      ┆ 1.845603 ┆ 0.395285 ┆ … ┆ NaN        ┆ NaN       ┆ D         ┆ A         │\n",
       "│ 0.951972   ┆ 0.0      ┆ 1.789728 ┆ 0.515388 ┆ … ┆ NaN        ┆ NaN       ┆ D         ┆ A         │\n",
       "└────────────┴──────────┴──────────┴──────────┴───┴────────────┴───────────┴───────────┴───────────┘"
      ]
     },
     "execution_count": 20,
     "metadata": {},
     "output_type": "execute_result"
    }
   ],
   "source": [
    "# concatenate data from the Home team, Away team, ball status & possession status\n",
    "velocity_df = pl.concat([velocity_dfs[\"HT1\"]['Home'],velocity_dfs[\"HT1\"]['Away'],ball_status[\"HT1\"], possession_status[\"HT1\"]], how = \"horizontal\").drop_nulls()\n",
    "#velocity_df"
   ]
  },
  {
   "cell_type": "code",
   "execution_count": null,
   "id": "4d4a85d9",
   "metadata": {},
   "outputs": [],
   "source": [
    "# write the velocity data to a parquet file \n",
    "path = Path(\"floodlight_parquets/velocity_HT1\")\n",
    "velocity_df.write_parquet(path)"
   ]
  },
  {
   "cell_type": "code",
   "execution_count": null,
   "id": "882666d3",
   "metadata": {},
   "outputs": [
    {
     "data": {
      "text/html": [
       "<div><style>\n",
       ".dataframe > thead > tr,\n",
       ".dataframe > tbody > tr {\n",
       "  text-align: right;\n",
       "  white-space: pre-wrap;\n",
       "}\n",
       "</style>\n",
       "<small>shape: (2_901_801,)</small><table border=\"1\" class=\"dataframe\"><thead><tr><th>C. Tzolis</th></tr><tr><td>f64</td></tr></thead><tbody><tr><td>0.014142</td></tr><tr><td>0.014142</td></tr><tr><td>0.018028</td></tr><tr><td>0.018028</td></tr><tr><td>0.01118</td></tr><tr><td>&hellip;</td></tr><tr><td>NaN</td></tr><tr><td>NaN</td></tr><tr><td>NaN</td></tr><tr><td>NaN</td></tr><tr><td>NaN</td></tr></tbody></table></div>"
      ],
      "text/plain": [
       "shape: (2_901_801,)\n",
       "Series: 'C. Tzolis' [f64]\n",
       "[\n",
       "\t0.014142\n",
       "\t0.014142\n",
       "\t0.018028\n",
       "\t0.018028\n",
       "\t0.01118\n",
       "\t…\n",
       "\tNaN\n",
       "\tNaN\n",
       "\tNaN\n",
       "\tNaN\n",
       "\tNaN\n",
       "]"
      ]
     },
     "execution_count": 20,
     "metadata": {},
     "output_type": "execute_result"
    }
   ],
   "source": [
    "#distance_dfs['HT2']['Away'][\"C. Tzolis\"]"
   ]
  },
  {
   "cell_type": "code",
   "execution_count": 22,
   "id": "9ad25df9",
   "metadata": {},
   "outputs": [
    {
     "data": {
      "text/html": [
       "<div><style>\n",
       ".dataframe > thead > tr,\n",
       ".dataframe > tbody > tr {\n",
       "  text-align: right;\n",
       "  white-space: pre-wrap;\n",
       "}\n",
       "</style>\n",
       "<small>shape: (1, 1)</small><table border=\"1\" class=\"dataframe\"><thead><tr><th>distance</th></tr><tr><td>f64</td></tr></thead><tbody><tr><td>518.688651</td></tr></tbody></table></div>"
      ],
      "text/plain": [
       "shape: (1, 1)\n",
       "┌────────────┐\n",
       "│ distance   │\n",
       "│ ---        │\n",
       "│ f64        │\n",
       "╞════════════╡\n",
       "│ 518.688651 │\n",
       "└────────────┘"
      ]
     },
     "execution_count": 22,
     "metadata": {},
     "output_type": "execute_result"
    }
   ],
   "source": [
    "pl.concat(\n",
    "    [distance_dfs['HT2']['Away'][\"C. Tzolis\"].to_frame(name=\"distance\"), velocity_dfs['HT2']['Away'][\"C. Tzolis\"].to_frame(name=\"velocity\")], how=\"horizontal\"\n",
    ").filter(\n",
    "    ((pl.col(\"velocity\") > 5.5) & (pl.col(\"velocity\").is_not_nan()))\n",
    ").select(\n",
    "    \"distance\"\n",
    ").sum()\n"
   ]
  }
 ],
 "metadata": {
  "kernelspec": {
   "display_name": "floodlight-env",
   "language": "python",
   "name": "python3"
  },
  "language_info": {
   "codemirror_mode": {
    "name": "ipython",
    "version": 3
   },
   "file_extension": ".py",
   "mimetype": "text/x-python",
   "name": "python",
   "nbconvert_exporter": "python",
   "pygments_lexer": "ipython3",
   "version": "3.10.16"
  }
 },
 "nbformat": 4,
 "nbformat_minor": 5
}
