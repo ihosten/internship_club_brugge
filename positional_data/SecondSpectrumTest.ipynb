{
 "cells": [
  {
   "cell_type": "code",
   "execution_count": 2,
   "id": "a7120d99",
   "metadata": {},
   "outputs": [],
   "source": [
    "import numpy as np\n",
    "from pathlib import Path\n",
    "import json\n",
    "import io\n",
    "import polars as pl\n",
    "import floodlight\n",
    "from floodlight.io.secondspectrum import read_position_data_jsonl\n",
    "from floodlight.io.secondspectrum import read_teamsheets_from_meta_json\n",
    "import json\n",
    "import tempfile\n",
    "\n"
   ]
  },
  {
   "cell_type": "code",
   "execution_count": 3,
   "id": "b6d50d8d",
   "metadata": {},
   "outputs": [],
   "source": [
    "filepath_position = Path(\"SecondSpectrum/Second Spectrum/Anderlecht - Club Brugge/tracking-produced.jsonl\")"
   ]
  },
  {
   "cell_type": "code",
   "execution_count": 4,
   "id": "bd635233",
   "metadata": {},
   "outputs": [],
   "source": [
    "filepath_metadata = Path(\"SecondSpectrum/Second Spectrum/Anderlecht - Club Brugge/rsc-bru_metadata.json\")"
   ]
  },
  {
   "cell_type": "code",
   "execution_count": 5,
   "id": "b3c3c830",
   "metadata": {},
   "outputs": [],
   "source": [
    "metadata = pl.read_json(filepath_metadata)"
   ]
  },
  {
   "cell_type": "code",
   "execution_count": 6,
   "id": "9a40fe15",
   "metadata": {},
   "outputs": [],
   "source": [
    "# Load raw metadata\n",
    "with open(filepath_metadata) as f:\n",
    "    raw_meta = json.load(f)\n",
    "\n",
    "# Extract the nested `data` block\n",
    "meta_flat = raw_meta[\"data\"]\n",
    "meta_flat[\"fps\"] = 50\n",
    "\n",
    "for period in meta_flat.get(\"periods\", []):\n",
    "    period[\"startFrameIdx\"] = period.pop(\"startFrameClock\", None)\n",
    "    period[\"endFrameIdx\"] = period.pop(\"endFrameClock\", None)\n",
    "\n",
    "# Save it to a temporary cleaned file\n",
    "with open(\"cleaned_metadata.json\", \"w\") as f:\n",
    "    json.dump(meta_flat, f)"
   ]
  },
  {
   "cell_type": "code",
   "execution_count": 7,
   "id": "9a86da08",
   "metadata": {},
   "outputs": [
    {
     "name": "stdout",
     "output_type": "stream",
     "text": [
      "dict_keys(['startTime', 'year', 'month', 'day', 'description', 'id', 'externalIds', 'homeTeam', 'awayTeam', 'venue', 'pitchLength', 'pitchWidth', 'homeScore', 'awayScore', 'periods', 'fps'])\n"
     ]
    }
   ],
   "source": [
    "print(meta_flat.keys()) "
   ]
  },
  {
   "cell_type": "code",
   "execution_count": 8,
   "id": "717c1396",
   "metadata": {},
   "outputs": [
    {
     "data": {
      "text/plain": [
       "{'startTime': 1736703000000,\n",
       " 'year': 2025,\n",
       " 'month': 1,\n",
       " 'day': 12,\n",
       " 'description': 'RSC - BRU : 2025-1-12',\n",
       " 'id': 'd074dbef-20ce-4602-aa1e-cd7a6acc641a',\n",
       " 'externalIds': {},\n",
       " 'homeTeam': {'id': '147449ab-9af9-4edc-bbcd-e37529b6ec6b',\n",
       "  'externalIds': {'optaId': '241', 'fspId': '50074'},\n",
       "  'players': [{'name': 'Mads Kikkenborg',\n",
       "    'number': '16',\n",
       "    'position': 'SUB',\n",
       "    'id': '65d4435d-8017-457f-bbc7-cb1f17157591',\n",
       "    'externalIds': {'optaId': '466310',\n",
       "     'performId': '191f96bw3vkg1nt8545rvbw4q',\n",
       "     'fspId': '250113521'}},\n",
       "   {'name': 'Amuzu',\n",
       "    'number': '7',\n",
       "    'position': 'MF',\n",
       "    'id': 'ae963650-6c2f-4b50-b8b2-20ebd9b573cc',\n",
       "    'externalIds': {'optaId': '437741',\n",
       "     'performId': '5don85s7097g5df42m429b8ix',\n",
       "     'fspId': '250087449'}},\n",
       "   {'name': 'T. Leoni',\n",
       "    'number': '17',\n",
       "    'position': 'MF',\n",
       "    'id': '9605505f-4535-43b7-9afc-b89a8845b913',\n",
       "    'externalIds': {'fspId': '250100836'}},\n",
       "   {'name': 'M. Rits',\n",
       "    'number': '23',\n",
       "    'position': 'MF',\n",
       "    'id': '025ac194-dcf5-4659-bbee-7cf9b159b094',\n",
       "    'externalIds': {'optaId': '66770',\n",
       "     'performId': '13d7ao0j091449ia61cuut87p',\n",
       "     'fspId': '250012557'}},\n",
       "   {'name': 'S. Edozie',\n",
       "    'number': '27',\n",
       "    'position': 'SUB',\n",
       "    'id': 'c040e90d-9215-489b-b261-5854fcdb2bb6',\n",
       "    'externalIds': {'optaId': '490503',\n",
       "     'performId': '67oh9fkwrut68eegfjf5emaui',\n",
       "     'fspId': '250135613'}},\n",
       "   {'name': 'L. Dendoncker',\n",
       "    'number': '32',\n",
       "    'position': 'MF',\n",
       "    'id': '6f6faff9-64e1-4500-9fb5-70210df86ad2',\n",
       "    'externalIds': {'optaId': '151589',\n",
       "     'performId': '1emj0rlthc8syfleox4c39kut',\n",
       "     'fspId': '250042602'}},\n",
       "   {'name': 'L. Vázquez',\n",
       "    'number': '20',\n",
       "    'position': 'SUB',\n",
       "    'id': 'f82683e5-362d-40eb-8d66-043587ac72a8',\n",
       "    'externalIds': {'fspId': '250199271'}},\n",
       "   {'name': 'K. Dolberg',\n",
       "    'number': '12',\n",
       "    'position': 'FW',\n",
       "    'id': '4ce8a0b2-5706-42d1-8f14-1a4d8ff4b729',\n",
       "    'externalIds': {'optaId': '209914',\n",
       "     'performId': 'bpprd2haoafk6y0rjans4iytx',\n",
       "     'fspId': '250177904'}},\n",
       "   {'name': 'N. Engwanda',\n",
       "    'number': '71',\n",
       "    'position': 'SUB',\n",
       "    'id': '2ebed2f0-dd48-4a40-bbe6-49d50f0e33e2',\n",
       "    'externalIds': {'fspId': '250185046'}},\n",
       "   {'name': 'A. Dreyer',\n",
       "    'number': '36',\n",
       "    'position': 'MF',\n",
       "    'id': 'ac268b3e-1259-47aa-8ef0-da139101d06f',\n",
       "    'externalIds': {'optaId': '209987',\n",
       "     'performId': '3q2ibq6hhxyht8046ib49ye39',\n",
       "     'fspId': '250077990'}},\n",
       "   {'name': 'J. Simić',\n",
       "    'number': '4',\n",
       "    'position': 'DF',\n",
       "    'id': 'e1eadfe8-a29b-4869-bac7-fe10709884b5',\n",
       "    'externalIds': {'optaId': '516957',\n",
       "     'performId': 'd3k70qhpvrpytsg2zzioa7cpg',\n",
       "     'fspId': '250172263'}},\n",
       "   {'name': 'Y. Verschaeren',\n",
       "    'number': '10',\n",
       "    'position': 'SUB',\n",
       "    'id': 'b8c0f6ce-b959-4bdf-9d12-72120caffe75',\n",
       "    'externalIds': {'optaId': '438012',\n",
       "     'performId': 'bu7cw3305zs2u7uj2ed5t867e',\n",
       "     'fspId': '250108595'}},\n",
       "   {'name': 'K. Sardella',\n",
       "    'number': '54',\n",
       "    'position': 'DF',\n",
       "    'id': '04aace5a-de9f-44fa-9be6-7cc45a32a4af',\n",
       "    'externalIds': {'fspId': '250116359'}},\n",
       "   {'name': 'T. Degreef',\n",
       "    'number': '83',\n",
       "    'position': 'SUB',\n",
       "    'id': 'e1b9fa1b-a8ee-48e1-9747-c344bd2eaf9f',\n",
       "    'externalIds': {'fspId': '250192810'}},\n",
       "   {'name': 'Thorgan Hazard',\n",
       "    'number': '11',\n",
       "    'position': 'SUB',\n",
       "    'id': '7529a653-8216-40e3-aee9-4a6ae6de2f00',\n",
       "    'externalIds': {'optaId': '97471',\n",
       "     'performId': '3y9nm18as1wxhizq3fyazb2t',\n",
       "     'fspId': '250012551'}},\n",
       "   {'name': 'C. Coosemans',\n",
       "    'number': '26',\n",
       "    'position': 'GK',\n",
       "    'id': 'c40e36c5-6951-4bf9-991a-1053aa5dde28',\n",
       "    'externalIds': {'fspId': '250011167'}},\n",
       "   {'name': 'Timon Vanhoutte',\n",
       "    'number': '63',\n",
       "    'position': 'SUB',\n",
       "    'id': '660b1457-cd36-4383-a019-a8f15d07b115',\n",
       "    'externalIds': {'fspId': '250160806'}},\n",
       "   {'name': 'Amando Lapage',\n",
       "    'number': '73',\n",
       "    'position': 'DF',\n",
       "    'id': 'ceea37fe-ed3e-4bf3-8604-7ff8c5bc5466',\n",
       "    'externalIds': {'fspId': '250199266'}},\n",
       "   {'name': 'Thomas Foket',\n",
       "    'number': '25',\n",
       "    'position': 'SUB',\n",
       "    'id': '5dfdda34-465b-4d87-82d2-2c902fceae91',\n",
       "    'externalIds': {'fspId': '250052801'}},\n",
       "   {'name': 'Anas Tajaouart',\n",
       "    'number': '78',\n",
       "    'position': 'SUB',\n",
       "    'id': '71225edb-578d-471c-94fc-4e53156b4523',\n",
       "    'externalIds': {'fspId': '250202838'}},\n",
       "   {'name': 'Ali Maamar',\n",
       "    'number': '79',\n",
       "    'position': 'MF',\n",
       "    'id': 'a43daa37-dfcc-480c-be54-5e1716cd3043',\n",
       "    'externalIds': {'fspId': '250202834'}}]},\n",
       " 'awayTeam': {'id': 'c1ee4c03-dc60-435b-96c5-56f9db553827',\n",
       "  'externalIds': {'optaId': '413', 'fspId': '50043'},\n",
       "  'players': [{'name': 'S. Mignolet',\n",
       "    'number': '22',\n",
       "    'position': 'GK',\n",
       "    'id': '777bd523-6f9b-4671-b79e-87a77ec62da5',\n",
       "    'externalIds': {'optaId': '66797',\n",
       "     'performId': 'byfrgpc6tgz8lto1gor03y5sl',\n",
       "     'fspId': '98078'}},\n",
       "   {'name': 'Ordoñez',\n",
       "    'number': '4',\n",
       "    'position': 'DF',\n",
       "    'id': '2ee50c94-78ed-452c-943b-bef72cfb80b1',\n",
       "    'externalIds': {}},\n",
       "   {'name': 'Ferran Jutglà',\n",
       "    'number': '9',\n",
       "    'position': 'FW',\n",
       "    'id': 'a1c5a876-b59e-4b9a-abe8-395e87f2661e',\n",
       "    'externalIds': {'optaId': '464575',\n",
       "     'performId': '9mlj7fxon5zy1qmktvvcwjrl6',\n",
       "     'fspId': '250173126'}},\n",
       "   {'name': 'Bjorn Meijer',\n",
       "    'number': '14',\n",
       "    'position': 'SUB',\n",
       "    'id': '3c5a517a-ca83-4b72-b0fe-61a7ab13902d',\n",
       "    'externalIds': {'optaId': '510668',\n",
       "     'performId': '16o074zua15qkk7x0me7gi1w4'}},\n",
       "   {'name': 'C. Nielsen',\n",
       "    'number': '27',\n",
       "    'position': 'SUB',\n",
       "    'id': '2e318d79-ed67-4791-9230-1786b3707d26',\n",
       "    'externalIds': {'optaId': '121166',\n",
       "     'performId': 'ecnh65kkhku5mdkr3il4fl6tx',\n",
       "     'fspId': '250061589'}},\n",
       "   {'name': 'K. Sabbe',\n",
       "    'number': '64',\n",
       "    'position': 'DF',\n",
       "    'id': '55bb1e72-847e-4ba7-b0b6-ea6c4427ec6a',\n",
       "    'externalIds': {'optaId': '503601',\n",
       "     'performId': '1q935a1d9qmoyo7v6tstqx7je',\n",
       "     'fspId': '250138985'}},\n",
       "   {'name': 'H. Vanaken',\n",
       "    'number': '20',\n",
       "    'position': 'MF',\n",
       "    'id': 'bb0820e0-85ed-4729-8771-2f61ccd0944e',\n",
       "    'externalIds': {'optaId': '167763',\n",
       "     'performId': 'x3g0yyxs0j4o8fxphxtf0st1',\n",
       "     'fspId': '250064188'}},\n",
       "   {'name': 'C. Talbi',\n",
       "    'number': '68',\n",
       "    'position': 'MF',\n",
       "    'id': '3fdd2d58-c370-4fbb-ae12-d9845b4120e3',\n",
       "    'externalIds': {}},\n",
       "   {'name': 'Romero',\n",
       "    'number': '2',\n",
       "    'position': 'SUB',\n",
       "    'id': 'df9e32dc-b7c8-4463-a0ee-578adec00430',\n",
       "    'externalIds': {}},\n",
       "   {'name': 'Siquet',\n",
       "    'number': '41',\n",
       "    'position': 'SUB',\n",
       "    'id': '15a403e0-0c4b-4717-ac75-e2be6cf51697',\n",
       "    'externalIds': {}},\n",
       "   {'name': 'J. Spileers',\n",
       "    'number': '58',\n",
       "    'position': 'SUB',\n",
       "    'id': '181465f6-a5c1-48ce-98b4-54185bbdd4a4',\n",
       "    'externalIds': {}},\n",
       "   {'name': 'Michal Skoras',\n",
       "    'number': '21',\n",
       "    'position': 'SUB',\n",
       "    'id': 'c79b6ca7-daa2-4aee-a649-1487f12aeb86',\n",
       "    'externalIds': {}},\n",
       "   {'name': 'Maxim De Cuyper',\n",
       "    'number': '55',\n",
       "    'position': 'DF',\n",
       "    'id': 'c904ad13-a205-47d1-aeec-e54ae830cd16',\n",
       "    'externalIds': {'optaId': '465730',\n",
       "     'performId': 'bjhjz96omjukrg6tj3mny39t6',\n",
       "     'fspId': '250123695'}},\n",
       "   {'name': 'H. Vetlesen',\n",
       "    'number': '10',\n",
       "    'position': 'SUB',\n",
       "    'id': '5c6e9e72-d0e5-4960-a9dd-8bb5db2b3956',\n",
       "    'externalIds': {'optaId': '420890',\n",
       "     'performId': 'bybggxgpzlr7xz2f1i3b7c0kp',\n",
       "     'fspId': '250115134'}},\n",
       "   {'name': 'C. Tzolis',\n",
       "    'number': '8',\n",
       "    'position': 'FW',\n",
       "    'id': 'df80d30e-807b-4d6b-b7c4-5aced8ed5f9f',\n",
       "    'externalIds': {'optaId': '439509',\n",
       "     'performId': 'acffs01m2p3b4uemzjrp51d9m',\n",
       "     'fspId': '250124460'}},\n",
       "   {'name': 'B. Mechele',\n",
       "    'number': '44',\n",
       "    'position': 'DF',\n",
       "    'id': 'a33ee14e-2bcf-4a12-b0b6-c572aa8dffaf',\n",
       "    'externalIds': {'optaId': '161049',\n",
       "     'performId': 'l6y4o9t2b0jxaxo85oztok45',\n",
       "     'fspId': '250053044'}},\n",
       "   {'name': 'Romeo Vermant',\n",
       "    'number': '17',\n",
       "    'position': 'SUB',\n",
       "    'id': '1a61601d-6f50-4fed-8826-0e20eeb84c5b',\n",
       "    'externalIds': {'optaId': '503608',\n",
       "     'performId': '6uthi96vr24700st7s7m1so6i',\n",
       "     'fspId': '250138982'}},\n",
       "   {'name': 'Ardon Jashari',\n",
       "    'number': '30',\n",
       "    'position': 'MF',\n",
       "    'id': '812c48c2-1138-42a1-b0f2-812ab9e6bbd9',\n",
       "    'externalIds': {'optaId': '508855',\n",
       "     'performId': '94sln58zt76ydfvs4pl7xkqy2',\n",
       "     'fspId': '250171283'}},\n",
       "   {'name': 'Jackers',\n",
       "    'number': '29',\n",
       "    'position': 'SUB',\n",
       "    'id': 'ff43c01e-4cc9-4b0e-b932-ea3004cc18e1',\n",
       "    'externalIds': {}},\n",
       "   {'name': 'Gustaf Nilsson',\n",
       "    'number': '19',\n",
       "    'position': 'SUB',\n",
       "    'id': 'b14adfe7-e3d0-420e-9bcc-b19ca15bd3c7',\n",
       "    'externalIds': {}},\n",
       "   {'name': 'Raphael Onyedika',\n",
       "    'number': '15',\n",
       "    'position': 'MF',\n",
       "    'id': 'c6975643-0cee-423f-92a9-a407a1282779',\n",
       "    'externalIds': {'optaId': '503548',\n",
       "     'performId': 'mkq18lpl3d44wxq974mci5wq',\n",
       "     'fspId': '250135101'}}]},\n",
       " 'venue': {'id': '951d377a-03fd-402d-aa0f-b0d81f6f4741',\n",
       "  'externalIds': {'fspId': '63395'}},\n",
       " 'pitchLength': 103.4589780029297,\n",
       " 'pitchWidth': 66.97553049316407,\n",
       " 'homeScore': 0,\n",
       " 'awayScore': 3,\n",
       " 'periods': [{'homeAttPositive': True,\n",
       "   'startFrameIdx': 1736703123000,\n",
       "   'endFrameIdx': 1736706177600},\n",
       "  {'number': 2,\n",
       "   'homeAttPositive': False,\n",
       "   'startFrameIdx': 1736707281320,\n",
       "   'endFrameIdx': 1736710183120}],\n",
       " 'fps': 50}"
      ]
     },
     "execution_count": 8,
     "metadata": {},
     "output_type": "execute_result"
    }
   ],
   "source": [
    "meta_flat"
   ]
  },
  {
   "cell_type": "code",
   "execution_count": 9,
   "id": "b459ae34",
   "metadata": {},
   "outputs": [],
   "source": [
    "meta_flat_path = Path(\"cleaned_metadata1.json\")"
   ]
  },
  {
   "cell_type": "code",
   "execution_count": 10,
   "id": "644e4e95",
   "metadata": {},
   "outputs": [
    {
     "name": "stdout",
     "output_type": "stream",
     "text": [
      "50\n"
     ]
    }
   ],
   "source": [
    "with open(meta_flat_path, 'r') as f:\n",
    "    metadata = json.load(f)\n",
    "    print(metadata[\"fps\"])"
   ]
  },
  {
   "cell_type": "markdown",
   "id": "154085c9",
   "metadata": {},
   "source": [
    "\n",
    " \"periods\" data uses \"startFrameClock\" and \"endFrameClock\" rather than \"startFrameIdx\" and \"endFrameIdx\n",
    " homePlayers & awayPlayers toegevoegd, heel die home & away team lijst weggehaald"
   ]
  },
  {
   "cell_type": "code",
   "execution_count": 11,
   "id": "5dcbf177",
   "metadata": {},
   "outputs": [
    {
     "ename": "IndexError",
     "evalue": "index -1736703123000 is out of bounds for axis 0 with size 3054601",
     "output_type": "error",
     "traceback": [
      "\u001b[0;31m---------------------------------------------------------------------------\u001b[0m",
      "\u001b[0;31mIndexError\u001b[0m                                Traceback (most recent call last)",
      "Cell \u001b[0;32mIn[11], line 1\u001b[0m\n\u001b[0;32m----> 1\u001b[0m \u001b[43mread_position_data_jsonl\u001b[49m\u001b[43m(\u001b[49m\n\u001b[1;32m      2\u001b[0m \u001b[43m    \u001b[49m\u001b[43mfilepath_position\u001b[49m\u001b[43m,\u001b[49m\n\u001b[1;32m      3\u001b[0m \u001b[43m    \u001b[49m\u001b[43mmeta_flat_path\u001b[49m\n\u001b[1;32m      4\u001b[0m \u001b[43m    \u001b[49m\u001b[38;5;66;43;03m#teamsheet_home=None, \u001b[39;49;00m\n\u001b[1;32m      5\u001b[0m \u001b[43m    \u001b[49m\u001b[38;5;66;43;03m#teamsheet_away=None\u001b[39;49;00m\n\u001b[1;32m      6\u001b[0m \u001b[43m)\u001b[49m\n",
      "File \u001b[0;32m~/miniconda3/envs/floodlight-env/lib/python3.10/site-packages/floodlight/io/secondspectrum.py:360\u001b[0m, in \u001b[0;36mread_position_data_jsonl\u001b[0;34m(filepath_position, filepath_metadata, teamsheet_home, teamsheet_away)\u001b[0m\n\u001b[1;32m    358\u001b[0m         x_col \u001b[38;5;241m=\u001b[39m (links_jID_to_xID[team][jID]) \u001b[38;5;241m*\u001b[39m \u001b[38;5;241m2\u001b[39m\n\u001b[1;32m    359\u001b[0m         y_col \u001b[38;5;241m=\u001b[39m (links_jID_to_xID[team][jID]) \u001b[38;5;241m*\u001b[39m \u001b[38;5;241m2\u001b[39m \u001b[38;5;241m+\u001b[39m \u001b[38;5;241m1\u001b[39m\n\u001b[0;32m--> 360\u001b[0m         \u001b[43mxydata\u001b[49m\u001b[43m[\u001b[49m\u001b[43mteam\u001b[49m\u001b[43m]\u001b[49m\u001b[43m[\u001b[49m\u001b[43msegment\u001b[49m\u001b[43m]\u001b[49m\u001b[43m[\u001b[49m\u001b[43mframe_rel\u001b[49m\u001b[43m,\u001b[49m\u001b[43m \u001b[49m\u001b[43m(\u001b[49m\u001b[43mx_col\u001b[49m\u001b[43m,\u001b[49m\u001b[43m \u001b[49m\u001b[43my_col\u001b[49m\u001b[43m)\u001b[49m\u001b[43m]\u001b[49m \u001b[38;5;241m=\u001b[39m player[\u001b[38;5;124m\"\u001b[39m\u001b[38;5;124mxyz\u001b[39m\u001b[38;5;124m\"\u001b[39m][:\u001b[38;5;241m2\u001b[39m]\n\u001b[1;32m    362\u001b[0m \u001b[38;5;66;03m# get ball data\u001b[39;00m\n\u001b[1;32m    363\u001b[0m \u001b[38;5;28;01mif\u001b[39;00m \u001b[38;5;124m\"\u001b[39m\u001b[38;5;124mball\u001b[39m\u001b[38;5;124m\"\u001b[39m \u001b[38;5;129;01min\u001b[39;00m dataline \u001b[38;5;129;01mand\u001b[39;00m dataline[\u001b[38;5;124m\"\u001b[39m\u001b[38;5;124mball\u001b[39m\u001b[38;5;124m\"\u001b[39m]\u001b[38;5;241m.\u001b[39mget(\u001b[38;5;124m\"\u001b[39m\u001b[38;5;124mxyz\u001b[39m\u001b[38;5;124m\"\u001b[39m) \u001b[38;5;129;01mis\u001b[39;00m \u001b[38;5;129;01mnot\u001b[39;00m \u001b[38;5;28;01mNone\u001b[39;00m:\n",
      "\u001b[0;31mIndexError\u001b[0m: index -1736703123000 is out of bounds for axis 0 with size 3054601"
     ]
    }
   ],
   "source": [
    "read_position_data_jsonl(\n",
    "    filepath_position,\n",
    "    meta_flat_path\n",
    "    #teamsheet_home=None, \n",
    "    #teamsheet_away=None\n",
    ")"
   ]
  },
  {
   "cell_type": "code",
   "execution_count": 69,
   "id": "827a97e4",
   "metadata": {},
   "outputs": [
    {
     "data": {
      "text/html": [
       "<div><style>\n",
       ".dataframe > thead > tr,\n",
       ".dataframe > tbody > tr {\n",
       "  text-align: right;\n",
       "  white-space: pre-wrap;\n",
       "}\n",
       "</style>\n",
       "<small>shape: (1, 3)</small><table border=\"1\" class=\"dataframe\"><thead><tr><th>ok</th><th>requestId</th><th>data</th></tr><tr><td>bool</td><td>str</td><td>struct[15]</td></tr></thead><tbody><tr><td>true</td><td>&quot;b487cb4e-ea0a-4684-9408-cc67cf…</td><td>{1736703000000,2025,1,12,&quot;RSC - BRU : 2025-1-12&quot;,&quot;d074dbef-20ce-4602-aa1e-cd7a6acc641a&quot;,{},{&quot;147449ab-9af9-4edc-bbcd-e37529b6ec6b&quot;,{&quot;241&quot;,&quot;50074&quot;},[{&quot;Mads Kikkenborg&quot;,&quot;16&quot;,&quot;SUB&quot;,&quot;65d4435d-8017-457f-bbc7-cb1f17157591&quot;,{&quot;250113521&quot;,&quot;466310&quot;,&quot;191f96bw3vkg1nt8545rvbw4q&quot;}}, {&quot;Amuzu&quot;,&quot;7&quot;,&quot;MF&quot;,&quot;ae963650-6c2f-4b50-b8b2-20ebd9b573cc&quot;,{&quot;250087449&quot;,&quot;437741&quot;,&quot;5don85s7097g5df42m429b8ix&quot;}}, … {&quot;Ali Maamar&quot;,&quot;79&quot;,&quot;MF&quot;,&quot;a43daa37-dfcc-480c-be54-5e1716cd3043&quot;,{&quot;250202834&quot;,null,null}}]},{&quot;c1ee4c03-dc60-435b-96c5-56f9db553827&quot;,{&quot;413&quot;,&quot;50043&quot;},[{&quot;S. Mignolet&quot;,&quot;22&quot;,&quot;GK&quot;,&quot;777bd523-6f9b-4671-b79e-87a77ec62da5&quot;,{&quot;66797&quot;,&quot;byfrgpc6tgz8lto1gor03y5sl&quot;,&quot;98078&quot;}}, {&quot;Ordoñez&quot;,&quot;4&quot;,&quot;DF&quot;,&quot;2ee50c94-78ed-452c-943b-bef72cfb80b1&quot;,{null,null,null}}, … {&quot;Raphael Onyedika&quot;,&quot;15&quot;,&quot;MF&quot;,&quot;c6975643-0cee-423f-92a9-a407a1282779&quot;,{&quot;503548&quot;,&quot;mkq18lpl3d44wxq974mci5wq&quot;,&quot;250135101&quot;}}]},{&quot;951d377a-03fd-402d-aa0f-b0d81f6f4741&quot;,{&quot;63395&quot;}},103.458978,66.97553,0,3,[{1,1736703123000,1736706177600,true}, {2,1736707281320,1736710183120,false}]}</td></tr></tbody></table></div>"
      ],
      "text/plain": [
       "shape: (1, 3)\n",
       "┌──────┬─────────────────────────────────┬─────────────────────────────────┐\n",
       "│ ok   ┆ requestId                       ┆ data                            │\n",
       "│ ---  ┆ ---                             ┆ ---                             │\n",
       "│ bool ┆ str                             ┆ struct[15]                      │\n",
       "╞══════╪═════════════════════════════════╪═════════════════════════════════╡\n",
       "│ true ┆ b487cb4e-ea0a-4684-9408-cc67cf… ┆ {1736703000000,2025,1,12,\"RSC … │\n",
       "└──────┴─────────────────────────────────┴─────────────────────────────────┘"
      ]
     },
     "execution_count": 69,
     "metadata": {},
     "output_type": "execute_result"
    }
   ],
   "source": [
    "metadata"
   ]
  },
  {
   "cell_type": "code",
   "execution_count": 73,
   "id": "d06190dd",
   "metadata": {},
   "outputs": [],
   "source": [
    "unnested_metadata = metadata.unnest(\"data\")"
   ]
  },
  {
   "cell_type": "code",
   "execution_count": null,
   "id": "fc0e672d",
   "metadata": {},
   "outputs": [],
   "source": [
    "unnested_metadata_json = unnested_metadata.write_json()"
   ]
  },
  {
   "cell_type": "code",
   "execution_count": 92,
   "id": "b5f8e127",
   "metadata": {},
   "outputs": [
    {
     "data": {
      "text/plain": [
       "'[{\"ok\":true,\"requestId\":\"b487cb4e-ea0a-4684-9408-cc67cf549700\",\"startTime\":1736703000000,\"year\":2025,\"month\":1,\"day\":12,\"description\":\"RSC - BRU : 2025-1-12\",\"id\":\"d074dbef-20ce-4602-aa1e-cd7a6acc641a\",\"externalIds\":{},\"homeTeam\":{\"id\":\"147449ab-9af9-4edc-bbcd-e37529b6ec6b\",\"externalIds\":{\"optaId\":\"241\",\"fspId\":\"50074\"},\"players\":[{\"name\":\"Mads Kikkenborg\",\"number\":\"16\",\"position\":\"SUB\",\"id\":\"65d4435d-8017-457f-bbc7-cb1f17157591\",\"externalIds\":{\"fspId\":\"250113521\",\"optaId\":\"466310\",\"performId\":\"191f96bw3vkg1nt8545rvbw4q\"}},{\"name\":\"Amuzu\",\"number\":\"7\",\"position\":\"MF\",\"id\":\"ae963650-6c2f-4b50-b8b2-20ebd9b573cc\",\"externalIds\":{\"fspId\":\"250087449\",\"optaId\":\"437741\",\"performId\":\"5don85s7097g5df42m429b8ix\"}},{\"name\":\"T. Leoni\",\"number\":\"17\",\"position\":\"MF\",\"id\":\"9605505f-4535-43b7-9afc-b89a8845b913\",\"externalIds\":{\"fspId\":\"250100836\",\"optaId\":null,\"performId\":null}},{\"name\":\"M. Rits\",\"number\":\"23\",\"position\":\"MF\",\"id\":\"025ac194-dcf5-4659-bbee-7cf9b159b094\",\"externalIds\":{\"fspId\":\"250012557\",\"optaId\":\"66770\",\"performId\":\"13d7ao0j091449ia61cuut87p\"}},{\"name\":\"S. Edozie\",\"number\":\"27\",\"position\":\"SUB\",\"id\":\"c040e90d-9215-489b-b261-5854fcdb2bb6\",\"externalIds\":{\"fspId\":\"250135613\",\"optaId\":\"490503\",\"performId\":\"67oh9fkwrut68eegfjf5emaui\"}},{\"name\":\"L. Dendoncker\",\"number\":\"32\",\"position\":\"MF\",\"id\":\"6f6faff9-64e1-4500-9fb5-70210df86ad2\",\"externalIds\":{\"fspId\":\"250042602\",\"optaId\":\"151589\",\"performId\":\"1emj0rlthc8syfleox4c39kut\"}},{\"name\":\"L. Vázquez\",\"number\":\"20\",\"position\":\"SUB\",\"id\":\"f82683e5-362d-40eb-8d66-043587ac72a8\",\"externalIds\":{\"fspId\":\"250199271\",\"optaId\":null,\"performId\":null}},{\"name\":\"K. Dolberg\",\"number\":\"12\",\"position\":\"FW\",\"id\":\"4ce8a0b2-5706-42d1-8f14-1a4d8ff4b729\",\"externalIds\":{\"fspId\":\"250177904\",\"optaId\":\"209914\",\"performId\":\"bpprd2haoafk6y0rjans4iytx\"}},{\"name\":\"N. Engwanda\",\"number\":\"71\",\"position\":\"SUB\",\"id\":\"2ebed2f0-dd48-4a40-bbe6-49d50f0e33e2\",\"externalIds\":{\"fspId\":\"250185046\",\"optaId\":null,\"performId\":null}},{\"name\":\"A. Dreyer\",\"number\":\"36\",\"position\":\"MF\",\"id\":\"ac268b3e-1259-47aa-8ef0-da139101d06f\",\"externalIds\":{\"fspId\":\"250077990\",\"optaId\":\"209987\",\"performId\":\"3q2ibq6hhxyht8046ib49ye39\"}},{\"name\":\"J. Simić\",\"number\":\"4\",\"position\":\"DF\",\"id\":\"e1eadfe8-a29b-4869-bac7-fe10709884b5\",\"externalIds\":{\"fspId\":\"250172263\",\"optaId\":\"516957\",\"performId\":\"d3k70qhpvrpytsg2zzioa7cpg\"}},{\"name\":\"Y. Verschaeren\",\"number\":\"10\",\"position\":\"SUB\",\"id\":\"b8c0f6ce-b959-4bdf-9d12-72120caffe75\",\"externalIds\":{\"fspId\":\"250108595\",\"optaId\":\"438012\",\"performId\":\"bu7cw3305zs2u7uj2ed5t867e\"}},{\"name\":\"K. Sardella\",\"number\":\"54\",\"position\":\"DF\",\"id\":\"04aace5a-de9f-44fa-9be6-7cc45a32a4af\",\"externalIds\":{\"fspId\":\"250116359\",\"optaId\":null,\"performId\":null}},{\"name\":\"T. Degreef\",\"number\":\"83\",\"position\":\"SUB\",\"id\":\"e1b9fa1b-a8ee-48e1-9747-c344bd2eaf9f\",\"externalIds\":{\"fspId\":\"250192810\",\"optaId\":null,\"performId\":null}},{\"name\":\"Thorgan Hazard\",\"number\":\"11\",\"position\":\"SUB\",\"id\":\"7529a653-8216-40e3-aee9-4a6ae6de2f00\",\"externalIds\":{\"fspId\":\"250012551\",\"optaId\":\"97471\",\"performId\":\"3y9nm18as1wxhizq3fyazb2t\"}},{\"name\":\"C. Coosemans\",\"number\":\"26\",\"position\":\"GK\",\"id\":\"c40e36c5-6951-4bf9-991a-1053aa5dde28\",\"externalIds\":{\"fspId\":\"250011167\",\"optaId\":null,\"performId\":null}},{\"name\":\"Timon Vanhoutte\",\"number\":\"63\",\"position\":\"SUB\",\"id\":\"660b1457-cd36-4383-a019-a8f15d07b115\",\"externalIds\":{\"fspId\":\"250160806\",\"optaId\":null,\"performId\":null}},{\"name\":\"Amando Lapage\",\"number\":\"73\",\"position\":\"DF\",\"id\":\"ceea37fe-ed3e-4bf3-8604-7ff8c5bc5466\",\"externalIds\":{\"fspId\":\"250199266\",\"optaId\":null,\"performId\":null}},{\"name\":\"Thomas Foket\",\"number\":\"25\",\"position\":\"SUB\",\"id\":\"5dfdda34-465b-4d87-82d2-2c902fceae91\",\"externalIds\":{\"fspId\":\"250052801\",\"optaId\":null,\"performId\":null}},{\"name\":\"Anas Tajaouart\",\"number\":\"78\",\"position\":\"SUB\",\"id\":\"71225edb-578d-471c-94fc-4e53156b4523\",\"externalIds\":{\"fspId\":\"250202838\",\"optaId\":null,\"performId\":null}},{\"name\":\"Ali Maamar\",\"number\":\"79\",\"position\":\"MF\",\"id\":\"a43daa37-dfcc-480c-be54-5e1716cd3043\",\"externalIds\":{\"fspId\":\"250202834\",\"optaId\":null,\"performId\":null}}]},\"awayTeam\":{\"id\":\"c1ee4c03-dc60-435b-96c5-56f9db553827\",\"externalIds\":{\"optaId\":\"413\",\"fspId\":\"50043\"},\"players\":[{\"name\":\"S. Mignolet\",\"number\":\"22\",\"position\":\"GK\",\"id\":\"777bd523-6f9b-4671-b79e-87a77ec62da5\",\"externalIds\":{\"optaId\":\"66797\",\"performId\":\"byfrgpc6tgz8lto1gor03y5sl\",\"fspId\":\"98078\"}},{\"name\":\"Ordoñez\",\"number\":\"4\",\"position\":\"DF\",\"id\":\"2ee50c94-78ed-452c-943b-bef72cfb80b1\",\"externalIds\":{\"optaId\":null,\"performId\":null,\"fspId\":null}},{\"name\":\"Ferran Jutglà\",\"number\":\"9\",\"position\":\"FW\",\"id\":\"a1c5a876-b59e-4b9a-abe8-395e87f2661e\",\"externalIds\":{\"optaId\":\"464575\",\"performId\":\"9mlj7fxon5zy1qmktvvcwjrl6\",\"fspId\":\"250173126\"}},{\"name\":\"Bjorn Meijer\",\"number\":\"14\",\"position\":\"SUB\",\"id\":\"3c5a517a-ca83-4b72-b0fe-61a7ab13902d\",\"externalIds\":{\"optaId\":\"510668\",\"performId\":\"16o074zua15qkk7x0me7gi1w4\",\"fspId\":null}},{\"name\":\"C. Nielsen\",\"number\":\"27\",\"position\":\"SUB\",\"id\":\"2e318d79-ed67-4791-9230-1786b3707d26\",\"externalIds\":{\"optaId\":\"121166\",\"performId\":\"ecnh65kkhku5mdkr3il4fl6tx\",\"fspId\":\"250061589\"}},{\"name\":\"K. Sabbe\",\"number\":\"64\",\"position\":\"DF\",\"id\":\"55bb1e72-847e-4ba7-b0b6-ea6c4427ec6a\",\"externalIds\":{\"optaId\":\"503601\",\"performId\":\"1q935a1d9qmoyo7v6tstqx7je\",\"fspId\":\"250138985\"}},{\"name\":\"H. Vanaken\",\"number\":\"20\",\"position\":\"MF\",\"id\":\"bb0820e0-85ed-4729-8771-2f61ccd0944e\",\"externalIds\":{\"optaId\":\"167763\",\"performId\":\"x3g0yyxs0j4o8fxphxtf0st1\",\"fspId\":\"250064188\"}},{\"name\":\"C. Talbi\",\"number\":\"68\",\"position\":\"MF\",\"id\":\"3fdd2d58-c370-4fbb-ae12-d9845b4120e3\",\"externalIds\":{\"optaId\":null,\"performId\":null,\"fspId\":null}},{\"name\":\"Romero\",\"number\":\"2\",\"position\":\"SUB\",\"id\":\"df9e32dc-b7c8-4463-a0ee-578adec00430\",\"externalIds\":{\"optaId\":null,\"performId\":null,\"fspId\":null}},{\"name\":\"Siquet\",\"number\":\"41\",\"position\":\"SUB\",\"id\":\"15a403e0-0c4b-4717-ac75-e2be6cf51697\",\"externalIds\":{\"optaId\":null,\"performId\":null,\"fspId\":null}},{\"name\":\"J. Spileers\",\"number\":\"58\",\"position\":\"SUB\",\"id\":\"181465f6-a5c1-48ce-98b4-54185bbdd4a4\",\"externalIds\":{\"optaId\":null,\"performId\":null,\"fspId\":null}},{\"name\":\"Michal Skoras\",\"number\":\"21\",\"position\":\"SUB\",\"id\":\"c79b6ca7-daa2-4aee-a649-1487f12aeb86\",\"externalIds\":{\"optaId\":null,\"performId\":null,\"fspId\":null}},{\"name\":\"Maxim De Cuyper\",\"number\":\"55\",\"position\":\"DF\",\"id\":\"c904ad13-a205-47d1-aeec-e54ae830cd16\",\"externalIds\":{\"optaId\":\"465730\",\"performId\":\"bjhjz96omjukrg6tj3mny39t6\",\"fspId\":\"250123695\"}},{\"name\":\"H. Vetlesen\",\"number\":\"10\",\"position\":\"SUB\",\"id\":\"5c6e9e72-d0e5-4960-a9dd-8bb5db2b3956\",\"externalIds\":{\"optaId\":\"420890\",\"performId\":\"bybggxgpzlr7xz2f1i3b7c0kp\",\"fspId\":\"250115134\"}},{\"name\":\"C. Tzolis\",\"number\":\"8\",\"position\":\"FW\",\"id\":\"df80d30e-807b-4d6b-b7c4-5aced8ed5f9f\",\"externalIds\":{\"optaId\":\"439509\",\"performId\":\"acffs01m2p3b4uemzjrp51d9m\",\"fspId\":\"250124460\"}},{\"name\":\"B. Mechele\",\"number\":\"44\",\"position\":\"DF\",\"id\":\"a33ee14e-2bcf-4a12-b0b6-c572aa8dffaf\",\"externalIds\":{\"optaId\":\"161049\",\"performId\":\"l6y4o9t2b0jxaxo85oztok45\",\"fspId\":\"250053044\"}},{\"name\":\"Romeo Vermant\",\"number\":\"17\",\"position\":\"SUB\",\"id\":\"1a61601d-6f50-4fed-8826-0e20eeb84c5b\",\"externalIds\":{\"optaId\":\"503608\",\"performId\":\"6uthi96vr24700st7s7m1so6i\",\"fspId\":\"250138982\"}},{\"name\":\"Ardon Jashari\",\"number\":\"30\",\"position\":\"MF\",\"id\":\"812c48c2-1138-42a1-b0f2-812ab9e6bbd9\",\"externalIds\":{\"optaId\":\"508855\",\"performId\":\"94sln58zt76ydfvs4pl7xkqy2\",\"fspId\":\"250171283\"}},{\"name\":\"Jackers\",\"number\":\"29\",\"position\":\"SUB\",\"id\":\"ff43c01e-4cc9-4b0e-b932-ea3004cc18e1\",\"externalIds\":{\"optaId\":null,\"performId\":null,\"fspId\":null}},{\"name\":\"Gustaf Nilsson\",\"number\":\"19\",\"position\":\"SUB\",\"id\":\"b14adfe7-e3d0-420e-9bcc-b19ca15bd3c7\",\"externalIds\":{\"optaId\":null,\"performId\":null,\"fspId\":null}},{\"name\":\"Raphael Onyedika\",\"number\":\"15\",\"position\":\"MF\",\"id\":\"c6975643-0cee-423f-92a9-a407a1282779\",\"externalIds\":{\"optaId\":\"503548\",\"performId\":\"mkq18lpl3d44wxq974mci5wq\",\"fspId\":\"250135101\"}}]},\"venue\":{\"id\":\"951d377a-03fd-402d-aa0f-b0d81f6f4741\",\"externalIds\":{\"fspId\":\"63395\"}},\"pitchLength\":103.4589780029297,\"pitchWidth\":66.97553049316407,\"homeScore\":0,\"awayScore\":3,\"periods\":[{\"number\":1,\"startFrameClock\":1736703123000,\"endFrameClock\":1736706177600,\"homeAttPositive\":true},{\"number\":2,\"startFrameClock\":1736707281320,\"endFrameClock\":1736710183120,\"homeAttPositive\":false}]}]'"
      ]
     },
     "execution_count": 92,
     "metadata": {},
     "output_type": "execute_result"
    }
   ],
   "source": [
    "unnested_metadata_json"
   ]
  },
  {
   "cell_type": "code",
   "execution_count": 91,
   "id": "1925728f",
   "metadata": {},
   "outputs": [
    {
     "ename": "AttributeError",
     "evalue": "'str' object has no attribute 'get'",
     "output_type": "error",
     "traceback": [
      "\u001b[0;31m---------------------------------------------------------------------------\u001b[0m",
      "\u001b[0;31mAttributeError\u001b[0m                            Traceback (most recent call last)",
      "Cell \u001b[0;32mIn[91], line 5\u001b[0m\n\u001b[1;32m      2\u001b[0m     json\u001b[38;5;241m.\u001b[39mdump(unnested_metadata_json, tmpfile)\n\u001b[1;32m      3\u001b[0m     tmpfile_path \u001b[38;5;241m=\u001b[39m tmpfile\u001b[38;5;241m.\u001b[39mname\n\u001b[0;32m----> 5\u001b[0m \u001b[43mread_position_data_jsonl\u001b[49m\u001b[43m(\u001b[49m\n\u001b[1;32m      6\u001b[0m \u001b[43m    \u001b[49m\u001b[43mfilepath_position\u001b[49m\u001b[43m,\u001b[49m\n\u001b[1;32m      7\u001b[0m \u001b[43m    \u001b[49m\u001b[43mtmpfile_path\u001b[49m\u001b[43m)\u001b[49m\n",
      "File \u001b[0;32m~/miniconda3/envs/floodlight-env/lib/python3.10/site-packages/floodlight/io/secondspectrum.py:276\u001b[0m, in \u001b[0;36mread_position_data_jsonl\u001b[0;34m(filepath_position, filepath_metadata, teamsheet_home, teamsheet_away)\u001b[0m\n\u001b[1;32m    224\u001b[0m \u001b[38;5;250m\u001b[39m\u001b[38;5;124;03m\"\"\"Parse Second Spectrum files and extract position data, possession and ballstatus\u001b[39;00m\n\u001b[1;32m    225\u001b[0m \u001b[38;5;124;03mcodes, as well as pitch information.\u001b[39;00m\n\u001b[1;32m    226\u001b[0m \n\u001b[0;32m   (...)\u001b[0m\n\u001b[1;32m    273\u001b[0m \u001b[38;5;124;03m    ``pitch`` is a ``Pitch`` object corresponding to the data.\u001b[39;00m\n\u001b[1;32m    274\u001b[0m \u001b[38;5;124;03m\"\"\"\u001b[39;00m\n\u001b[1;32m    275\u001b[0m \u001b[38;5;66;03m# setup\u001b[39;00m\n\u001b[0;32m--> 276\u001b[0m metadata, periods, directions, pitch \u001b[38;5;241m=\u001b[39m \u001b[43m_read_metajson\u001b[49m\u001b[43m(\u001b[49m\u001b[38;5;28;43mstr\u001b[39;49m\u001b[43m(\u001b[49m\u001b[43mfilepath_metadata\u001b[49m\u001b[43m)\u001b[49m\u001b[43m)\u001b[49m\n\u001b[1;32m    277\u001b[0m segments \u001b[38;5;241m=\u001b[39m \u001b[38;5;28mlist\u001b[39m(periods\u001b[38;5;241m.\u001b[39mkeys())\n\u001b[1;32m    278\u001b[0m teams \u001b[38;5;241m=\u001b[39m [\u001b[38;5;124m\"\u001b[39m\u001b[38;5;124mHome\u001b[39m\u001b[38;5;124m\"\u001b[39m, \u001b[38;5;124m\"\u001b[39m\u001b[38;5;124mAway\u001b[39m\u001b[38;5;124m\"\u001b[39m]\n",
      "File \u001b[0;32m~/miniconda3/envs/floodlight-env/lib/python3.10/site-packages/floodlight/io/secondspectrum.py:87\u001b[0m, in \u001b[0;36m_read_metajson\u001b[0;34m(filepath_metadata)\u001b[0m\n\u001b[1;32m     84\u001b[0m directions \u001b[38;5;241m=\u001b[39m {}\n\u001b[1;32m     86\u001b[0m \u001b[38;5;66;03m# assemble metadata\u001b[39;00m\n\u001b[0;32m---> 87\u001b[0m metadata[\u001b[38;5;124m\"\u001b[39m\u001b[38;5;124mframerate\u001b[39m\u001b[38;5;124m\"\u001b[39m] \u001b[38;5;241m=\u001b[39m \u001b[43mmetajson\u001b[49m\u001b[38;5;241;43m.\u001b[39;49m\u001b[43mget\u001b[49m(\u001b[38;5;124m\"\u001b[39m\u001b[38;5;124mfps\u001b[39m\u001b[38;5;124m\"\u001b[39m, \u001b[38;5;28;01mNone\u001b[39;00m)\n\u001b[1;32m     88\u001b[0m metadata[\u001b[38;5;124m\"\u001b[39m\u001b[38;5;124mlength\u001b[39m\u001b[38;5;124m\"\u001b[39m] \u001b[38;5;241m=\u001b[39m metajson\u001b[38;5;241m.\u001b[39mget(\u001b[38;5;124m\"\u001b[39m\u001b[38;5;124mpitchLength\u001b[39m\u001b[38;5;124m\"\u001b[39m, \u001b[38;5;28;01mNone\u001b[39;00m)\n\u001b[1;32m     89\u001b[0m metadata[\u001b[38;5;124m\"\u001b[39m\u001b[38;5;124mwidth\u001b[39m\u001b[38;5;124m\"\u001b[39m] \u001b[38;5;241m=\u001b[39m metajson\u001b[38;5;241m.\u001b[39mget(\u001b[38;5;124m\"\u001b[39m\u001b[38;5;124mpitchWidth\u001b[39m\u001b[38;5;124m\"\u001b[39m, \u001b[38;5;28;01mNone\u001b[39;00m)\n",
      "\u001b[0;31mAttributeError\u001b[0m: 'str' object has no attribute 'get'"
     ]
    }
   ],
   "source": [
    "with tempfile.NamedTemporaryFile(mode='w+', suffix='.json', delete=False) as tmpfile:\n",
    "    json.dump(unnested_metadata_json, tmpfile)\n",
    "    tmpfile_path = tmpfile.name\n",
    "    \n",
    "read_position_data_jsonl(\n",
    "    filepath_position,\n",
    "    tmpfile_path)"
   ]
  },
  {
   "cell_type": "code",
   "execution_count": 58,
   "id": "346a1b14",
   "metadata": {},
   "outputs": [
    {
     "data": {
      "text/html": [
       "<div><style>\n",
       ".dataframe > thead > tr,\n",
       ".dataframe > tbody > tr {\n",
       "  text-align: right;\n",
       "  white-space: pre-wrap;\n",
       "}\n",
       "</style>\n",
       "<small>shape: (1,)</small><table border=\"1\" class=\"dataframe\"><thead><tr><th>data</th></tr><tr><td>struct[15]</td></tr></thead><tbody><tr><td>{1736703000000,2025,1,12,&quot;RSC - BRU : 2025-1-12&quot;,&quot;d074dbef-20ce-4602-aa1e-cd7a6acc641a&quot;,{},{&quot;147449ab-9af9-4edc-bbcd-e37529b6ec6b&quot;,{&quot;241&quot;,&quot;50074&quot;},[{&quot;Mads Kikkenborg&quot;,&quot;16&quot;,&quot;SUB&quot;,&quot;65d4435d-8017-457f-bbc7-cb1f17157591&quot;,{&quot;466310&quot;,&quot;191f96bw3vkg1nt8545rvbw4q&quot;,&quot;250113521&quot;}}, {&quot;Amuzu&quot;,&quot;7&quot;,&quot;MF&quot;,&quot;ae963650-6c2f-4b50-b8b2-20ebd9b573cc&quot;,{&quot;437741&quot;,&quot;5don85s7097g5df42m429b8ix&quot;,&quot;250087449&quot;}}, … {&quot;Ali Maamar&quot;,&quot;79&quot;,&quot;MF&quot;,&quot;a43daa37-dfcc-480c-be54-5e1716cd3043&quot;,{null,null,&quot;250202834&quot;}}]},{&quot;c1ee4c03-dc60-435b-96c5-56f9db553827&quot;,{&quot;413&quot;,&quot;50043&quot;},[{&quot;S. Mignolet&quot;,&quot;22&quot;,&quot;GK&quot;,&quot;777bd523-6f9b-4671-b79e-87a77ec62da5&quot;,{&quot;66797&quot;,&quot;byfrgpc6tgz8lto1gor03y5sl&quot;,&quot;98078&quot;}}, {&quot;Ordoñez&quot;,&quot;4&quot;,&quot;DF&quot;,&quot;2ee50c94-78ed-452c-943b-bef72cfb80b1&quot;,{null,null,null}}, … {&quot;Raphael Onyedika&quot;,&quot;15&quot;,&quot;MF&quot;,&quot;c6975643-0cee-423f-92a9-a407a1282779&quot;,{&quot;503548&quot;,&quot;mkq18lpl3d44wxq974mci5wq&quot;,&quot;250135101&quot;}}]},{&quot;951d377a-03fd-402d-aa0f-b0d81f6f4741&quot;,{&quot;63395&quot;}},103.458978,66.97553,0,3,[{1,1736703123000,1736706177600,true}, {2,1736707281320,1736710183120,false}]}</td></tr></tbody></table></div>"
      ],
      "text/plain": [
       "shape: (1,)\n",
       "Series: 'data' [struct[15]]\n",
       "[\n",
       "\t{1736703000000,2025,1,12,\"RSC - BRU : 2025-1-12\",\"d074dbef-20ce-4602-aa1e-cd7a6acc641a\",{},{\"147449ab-9af9-4edc-bbcd-e37529b6ec6b\",{\"241\",\"50074\"},[{\"Mads Kikkenborg\",\"16\",\"SUB\",\"65d4435d-8017-457f-bbc7-cb1f17157591\",{\"466310\",\"191f96bw3vkg1nt8545rvbw4q\",\"250113521\"}}, {\"Amuzu\",\"7\",\"MF\",\"ae963650-6c2f-4b50-b8b2-20ebd9b573cc\",{\"437741\",\"5don85s7097g5df42m429b8ix\",\"250087449\"}}, … {\"Ali Maamar\",\"79\",\"MF\",\"a43daa37-dfcc-480c-be54-5e1716cd3043\",{null,null,\"250202834\"}}]},{\"c1ee4c03-dc60-435b-96c5-56f9db553827\",{\"413\",\"50043\"},[{\"S. Mignolet\",\"22\",\"GK\",\"777bd523-6f9b-4671-b79e-87a77ec62da5\",{\"66797\",\"byfrgpc6tgz8lto1gor03y5sl\",\"98078\"}}, {\"Ordoñez\",\"4\",\"DF\",\"2ee50c94-78ed-452c-943b-bef72cfb80b1\",{null,null,null}}, … {\"Raphael Onyedika\",\"15\",\"MF\",\"c6975643-0cee-423f-92a9-a407a1282779\",{\"503548\",\"mkq18lpl3d44wxq974mci5wq\",\"250135101\"}}]},{\"951d377a-03fd-402d-aa0f-b0d81f6f4741\",{\"63395\"}},103.458978,66.97553,0,3,[{1,1736703123000,1736706177600,true}, {2,1736707281320,1736710183120,false}]}\n",
       "]"
      ]
     },
     "execution_count": 58,
     "metadata": {},
     "output_type": "execute_result"
    }
   ],
   "source": [
    "metadata['data']"
   ]
  },
  {
   "cell_type": "code",
   "execution_count": 61,
   "id": "f63154c4",
   "metadata": {},
   "outputs": [
    {
     "ename": "KeyError",
     "evalue": "'homePlayers'",
     "output_type": "error",
     "traceback": [
      "\u001b[0;31m---------------------------------------------------------------------------\u001b[0m",
      "\u001b[0;31mKeyError\u001b[0m                                  Traceback (most recent call last)",
      "Cell \u001b[0;32mIn[61], line 2\u001b[0m\n\u001b[1;32m      1\u001b[0m \u001b[38;5;66;03m# test floodlight.io.secondspectrum\u001b[39;00m\n\u001b[0;32m----> 2\u001b[0m event_data \u001b[38;5;241m=\u001b[39m \u001b[43mread_teamsheets_from_meta_json\u001b[49m\u001b[43m(\u001b[49m\u001b[43mpath_to_metadata\u001b[49m\u001b[43m)\u001b[49m\n",
      "File \u001b[0;32m~/miniconda3/envs/floodlight-env/lib/python3.10/site-packages/floodlight/io/secondspectrum.py:186\u001b[0m, in \u001b[0;36mread_teamsheets_from_meta_json\u001b[0;34m(filepath_metadata)\u001b[0m\n\u001b[1;32m    182\u001b[0m teamsheet \u001b[38;5;241m=\u001b[39m {\n\u001b[1;32m    183\u001b[0m     column: [] \u001b[38;5;28;01mfor\u001b[39;00m column \u001b[38;5;129;01min\u001b[39;00m [\u001b[38;5;124m\"\u001b[39m\u001b[38;5;124mprecedence\u001b[39m\u001b[38;5;124m\"\u001b[39m, \u001b[38;5;124m\"\u001b[39m\u001b[38;5;124mplayer\u001b[39m\u001b[38;5;124m\"\u001b[39m, \u001b[38;5;124m\"\u001b[39m\u001b[38;5;124mjID\u001b[39m\u001b[38;5;124m\"\u001b[39m, \u001b[38;5;124m\"\u001b[39m\u001b[38;5;124mpID\u001b[39m\u001b[38;5;124m\"\u001b[39m, \u001b[38;5;124m\"\u001b[39m\u001b[38;5;124mposition\u001b[39m\u001b[38;5;124m\"\u001b[39m]\n\u001b[1;32m    184\u001b[0m }\n\u001b[1;32m    185\u001b[0m \u001b[38;5;66;03m# query team player list\u001b[39;00m\n\u001b[0;32m--> 186\u001b[0m player_list \u001b[38;5;241m=\u001b[39m \u001b[43mmetajson\u001b[49m\u001b[43m[\u001b[49m\u001b[43mkey_map\u001b[49m\u001b[43m[\u001b[49m\u001b[43mteam\u001b[49m\u001b[43m]\u001b[49m\u001b[43m]\u001b[49m\n\u001b[1;32m    187\u001b[0m \u001b[38;5;66;03m# add players to list\u001b[39;00m\n\u001b[1;32m    188\u001b[0m \u001b[38;5;28;01mfor\u001b[39;00m player \u001b[38;5;129;01min\u001b[39;00m player_list:\n\u001b[1;32m    189\u001b[0m     \u001b[38;5;66;03m# query\u001b[39;00m\n",
      "\u001b[0;31mKeyError\u001b[0m: 'homePlayers'"
     ]
    }
   ],
   "source": [
    "# test floodlight.io.secondspectrum\n",
    "event_data = read_teamsheets_from_meta_json(path_to_metadata)\n"
   ]
  },
  {
   "cell_type": "code",
   "execution_count": null,
   "id": "ef1f89fc",
   "metadata": {},
   "outputs": [],
   "source": [
    "dataset = pl.read_ndjson(path_to_jsonl)"
   ]
  },
  {
   "cell_type": "code",
   "execution_count": 18,
   "id": "9adfd5be",
   "metadata": {},
   "outputs": [
    {
     "data": {
      "text/html": [
       "<div><style>\n",
       ".dataframe > thead > tr,\n",
       ".dataframe > tbody > tr {\n",
       "  text-align: right;\n",
       "  white-space: pre-wrap;\n",
       "}\n",
       "</style>\n",
       "<small>shape: (148_912, 9)</small><table border=\"1\" class=\"dataframe\"><thead><tr><th>period</th><th>frameIdx</th><th>gameClock</th><th>wallClock</th><th>homePlayers</th><th>awayPlayers</th><th>ball</th><th>live</th><th>lastTouch</th></tr><tr><td>i64</td><td>i64</td><td>f64</td><td>i64</td><td>list[struct[4]]</td><td>list[struct[4]]</td><td>struct[2]</td><td>bool</td><td>str</td></tr></thead><tbody><tr><td>1</td><td>0</td><td>0.0</td><td>1736703123000</td><td>[{&quot;025ac194-dcf5-4659-bbee-7cf9b159b094&quot;,23,[-12.86, -10.79, 0.0],0.0}, {&quot;04aace5a-de9f-44fa-9be6-7cc45a32a4af&quot;,54,[-19.56, -25.26, 0.0],0.0}, … {&quot;e1eadfe8-a29b-4869-bac7-fe10709884b5&quot;,4,[-23.0, -14.83, 0.0],0.0}]</td><td>[{&quot;2ee50c94-78ed-452c-943b-bef72cfb80b1&quot;,4,[8.87, 5.31, 0.0],0.0}, {&quot;3fdd2d58-c370-4fbb-ae12-d9845b4120e3&quot;,68,[0.09, 9.1, 0.0],0.0}, … {&quot;df80d30e-807b-4d6b-b7c4-5aced8ed5f9f&quot;,8,[0.16, -15.82, 0.0],0.0}]</td><td>{[-0.21, 0.07, 0.48],18.7}</td><td>false</td><td>&quot;home&quot;</td></tr><tr><td>1</td><td>1</td><td>0.04</td><td>1736703123040</td><td>[{&quot;025ac194-dcf5-4659-bbee-7cf9b159b094&quot;,23,[-12.85, -10.81, 0.0],0.19}, {&quot;04aace5a-de9f-44fa-9be6-7cc45a32a4af&quot;,54,[-19.56, -25.25, 0.0],0.13}, … {&quot;e1eadfe8-a29b-4869-bac7-fe10709884b5&quot;,4,[-23.02, -14.83, 0.0],0.19}]</td><td>[{&quot;2ee50c94-78ed-452c-943b-bef72cfb80b1&quot;,4,[8.88, 5.31, 0.0],0.07}, {&quot;3fdd2d58-c370-4fbb-ae12-d9845b4120e3&quot;,68,[0.09, 9.09, 0.0],0.09}, … {&quot;df80d30e-807b-4d6b-b7c4-5aced8ed5f9f&quot;,8,[0.15, -15.82, 0.0],0.25}]</td><td>{[0.5, -0.08, 0.38],18.62}</td><td>false</td><td>&quot;home&quot;</td></tr><tr><td>1</td><td>2</td><td>0.08</td><td>1736703123080</td><td>[{&quot;025ac194-dcf5-4659-bbee-7cf9b159b094&quot;,23,[-12.84, -10.82, 0.0],0.38}, {&quot;04aace5a-de9f-44fa-9be6-7cc45a32a4af&quot;,54,[-19.56, -25.24, 0.0],0.26}, … {&quot;e1eadfe8-a29b-4869-bac7-fe10709884b5&quot;,4,[-23.03, -14.84, 0.0],0.38}]</td><td>[{&quot;2ee50c94-78ed-452c-943b-bef72cfb80b1&quot;,4,[8.88, 5.3, 0.0],0.13}, {&quot;3fdd2d58-c370-4fbb-ae12-d9845b4120e3&quot;,68,[0.09, 9.09, 0.0],0.17}, … {&quot;df80d30e-807b-4d6b-b7c4-5aced8ed5f9f&quot;,8,[0.13, -15.82, 0.0],0.5}]</td><td>{[1.26, -0.19, 0.48],18.55}</td><td>false</td><td>&quot;home&quot;</td></tr><tr><td>1</td><td>3</td><td>0.12</td><td>1736703123120</td><td>[{&quot;025ac194-dcf5-4659-bbee-7cf9b159b094&quot;,23,[-12.85, -10.84, 0.0],0.38}, {&quot;04aace5a-de9f-44fa-9be6-7cc45a32a4af&quot;,54,[-19.57, -25.23, 0.0],0.2}, … {&quot;e1eadfe8-a29b-4869-bac7-fe10709884b5&quot;,4,[-23.05, -14.84, 0.0],0.38}]</td><td>[{&quot;2ee50c94-78ed-452c-943b-bef72cfb80b1&quot;,4,[8.88, 5.3, 0.0],0.17}, {&quot;3fdd2d58-c370-4fbb-ae12-d9845b4120e3&quot;,68,[0.09, 9.08, 0.0],0.15}, … {&quot;df80d30e-807b-4d6b-b7c4-5aced8ed5f9f&quot;,8,[0.11, -15.82, 0.0],0.78}]</td><td>{[2.02, -0.29, 0.53],18.48}</td><td>true</td><td>&quot;away&quot;</td></tr><tr><td>1</td><td>4</td><td>0.16</td><td>1736703123160</td><td>[{&quot;025ac194-dcf5-4659-bbee-7cf9b159b094&quot;,23,[-12.85, -10.85, 0.0],0.38}, {&quot;04aace5a-de9f-44fa-9be6-7cc45a32a4af&quot;,54,[-19.57, -25.22, 0.0],0.19}, … {&quot;e1eadfe8-a29b-4869-bac7-fe10709884b5&quot;,4,[-23.06, -14.84, 0.0],0.43}]</td><td>[{&quot;2ee50c94-78ed-452c-943b-bef72cfb80b1&quot;,4,[8.88, 5.29, 0.0],0.21}, {&quot;3fdd2d58-c370-4fbb-ae12-d9845b4120e3&quot;,68,[0.09, 9.07, 0.0],0.18}, … {&quot;df80d30e-807b-4d6b-b7c4-5aced8ed5f9f&quot;,8,[0.08, -15.82, 0.0],1.12}]</td><td>{[2.78, -0.39, 0.59],18.4}</td><td>true</td><td>&quot;away&quot;</td></tr><tr><td>&hellip;</td><td>&hellip;</td><td>&hellip;</td><td>&hellip;</td><td>&hellip;</td><td>&hellip;</td><td>&hellip;</td><td>&hellip;</td><td>&hellip;</td></tr><tr><td>2</td><td>148907</td><td>2901.64</td><td>1736710182960</td><td>[{&quot;04aace5a-de9f-44fa-9be6-7cc45a32a4af&quot;,54,[32.01, 13.7, 0.0],1.97}, {&quot;6f6faff9-64e1-4500-9fb5-70210df86ad2&quot;,32,[25.88, -2.59, 0.0],1.9}, … {&quot;f82683e5-362d-40eb-8d66-043587ac72a8&quot;,20,[3.4, -0.27, 0.0],1.93}]</td><td>[{&quot;181465f6-a5c1-48ce-98b4-54185bbdd4a4&quot;,58,[-5.23, -11.25, 0.0],2.18}, {&quot;3c5a517a-ca83-4b72-b0fe-61a7ab13902d&quot;,14,[0.66, 5.64, 0.0],4.06}, … {&quot;c904ad13-a205-47d1-aeec-e54ae830cd16&quot;,55,[46.14, -16.37, 0.0],1.36}]</td><td>{null,0.0}</td><td>false</td><td>&quot;home&quot;</td></tr><tr><td>2</td><td>148908</td><td>2901.68</td><td>1736710183000</td><td>[{&quot;04aace5a-de9f-44fa-9be6-7cc45a32a4af&quot;,54,[31.94, 13.7, 0.0],1.75}, {&quot;6f6faff9-64e1-4500-9fb5-70210df86ad2&quot;,32,[25.81, -2.62, 0.0],1.79}, … {&quot;f82683e5-362d-40eb-8d66-043587ac72a8&quot;,20,[3.33, -0.28, 0.0],1.75}]</td><td>[{&quot;181465f6-a5c1-48ce-98b4-54185bbdd4a4&quot;,58,[-5.28, -11.32, 0.0],1.98}, {&quot;3c5a517a-ca83-4b72-b0fe-61a7ab13902d&quot;,14,[0.51, 5.61, 0.0],3.73}, … {&quot;c904ad13-a205-47d1-aeec-e54ae830cd16&quot;,55,[46.09, -16.38, 0.0],1.26}]</td><td>{null,0.0}</td><td>false</td><td>&quot;home&quot;</td></tr><tr><td>2</td><td>148909</td><td>2901.72</td><td>1736710183040</td><td>[{&quot;04aace5a-de9f-44fa-9be6-7cc45a32a4af&quot;,54,[31.87, 13.7, 0.0],1.63}, {&quot;6f6faff9-64e1-4500-9fb5-70210df86ad2&quot;,32,[25.75, -2.65, 0.0],1.66}, … {&quot;f82683e5-362d-40eb-8d66-043587ac72a8&quot;,20,[3.26, -0.28, 0.0],1.63}]</td><td>[{&quot;181465f6-a5c1-48ce-98b4-54185bbdd4a4&quot;,58,[-5.33, -11.39, 0.0],1.83}, {&quot;3c5a517a-ca83-4b72-b0fe-61a7ab13902d&quot;,14,[0.37, 5.59, 0.0],3.42}, … {&quot;c904ad13-a205-47d1-aeec-e54ae830cd16&quot;,55,[46.05, -16.39, 0.0],1.15}]</td><td>{null,0.0}</td><td>false</td><td>&quot;home&quot;</td></tr><tr><td>2</td><td>148910</td><td>2901.76</td><td>1736710183080</td><td>[{&quot;04aace5a-de9f-44fa-9be6-7cc45a32a4af&quot;,54,[31.81, 13.7, 0.0],0.0}, {&quot;6f6faff9-64e1-4500-9fb5-70210df86ad2&quot;,32,[25.69, -2.68, 0.0],0.0}, … {&quot;f82683e5-362d-40eb-8d66-043587ac72a8&quot;,20,[3.2, -0.28, 0.0],0.0}]</td><td>[{&quot;181465f6-a5c1-48ce-98b4-54185bbdd4a4&quot;,58,[-5.36, -11.44, 0.0],0.0}, {&quot;3c5a517a-ca83-4b72-b0fe-61a7ab13902d&quot;,14,[0.24, 5.57, 0.0],0.0}, … {&quot;c904ad13-a205-47d1-aeec-e54ae830cd16&quot;,55,[46.0, -16.4, 0.0],0.0}]</td><td>{null,0.0}</td><td>false</td><td>&quot;home&quot;</td></tr><tr><td>2</td><td>148911</td><td>2901.8</td><td>1736710183120</td><td>[{&quot;04aace5a-de9f-44fa-9be6-7cc45a32a4af&quot;,54,[31.75, 13.69, 0.0],0.0}, {&quot;6f6faff9-64e1-4500-9fb5-70210df86ad2&quot;,32,[25.64, -2.7, 0.0],0.0}, … {&quot;f82683e5-362d-40eb-8d66-043587ac72a8&quot;,20,[3.14, -0.28, 0.0],0.0}]</td><td>[{&quot;181465f6-a5c1-48ce-98b4-54185bbdd4a4&quot;,58,[-5.4, -11.49, 0.0],0.0}, {&quot;3c5a517a-ca83-4b72-b0fe-61a7ab13902d&quot;,14,[0.12, 5.55, 0.0],0.0}, … {&quot;c904ad13-a205-47d1-aeec-e54ae830cd16&quot;,55,[45.96, -16.41, 0.0],0.0}]</td><td>{null,0.0}</td><td>false</td><td>&quot;home&quot;</td></tr></tbody></table></div>"
      ],
      "text/plain": [
       "shape: (148_912, 9)\n",
       "┌────────┬──────────┬───────────┬──────────────┬───┬─────────────┬─────────────┬───────┬───────────┐\n",
       "│ period ┆ frameIdx ┆ gameClock ┆ wallClock    ┆ … ┆ awayPlayers ┆ ball        ┆ live  ┆ lastTouch │\n",
       "│ ---    ┆ ---      ┆ ---       ┆ ---          ┆   ┆ ---         ┆ ---         ┆ ---   ┆ ---       │\n",
       "│ i64    ┆ i64      ┆ f64       ┆ i64          ┆   ┆ list[struct ┆ struct[2]   ┆ bool  ┆ str       │\n",
       "│        ┆          ┆           ┆              ┆   ┆ [4]]        ┆             ┆       ┆           │\n",
       "╞════════╪══════════╪═══════════╪══════════════╪═══╪═════════════╪═════════════╪═══════╪═══════════╡\n",
       "│ 1      ┆ 0        ┆ 0.0       ┆ 173670312300 ┆ … ┆ [{\"2ee50c94 ┆ {[-0.21,    ┆ false ┆ home      │\n",
       "│        ┆          ┆           ┆ 0            ┆   ┆ -78ed-452c- ┆ 0.07,       ┆       ┆           │\n",
       "│        ┆          ┆           ┆              ┆   ┆ 943b-bef…   ┆ 0.48],18.7} ┆       ┆           │\n",
       "│ 1      ┆ 1        ┆ 0.04      ┆ 173670312304 ┆ … ┆ [{\"2ee50c94 ┆ {[0.5,      ┆ false ┆ home      │\n",
       "│        ┆          ┆           ┆ 0            ┆   ┆ -78ed-452c- ┆ -0.08, 0.38 ┆       ┆           │\n",
       "│        ┆          ┆           ┆              ┆   ┆ 943b-bef…   ┆ ],18.62}    ┆       ┆           │\n",
       "│ 1      ┆ 2        ┆ 0.08      ┆ 173670312308 ┆ … ┆ [{\"2ee50c94 ┆ {[1.26,     ┆ false ┆ home      │\n",
       "│        ┆          ┆           ┆ 0            ┆   ┆ -78ed-452c- ┆ -0.19, 0.48 ┆       ┆           │\n",
       "│        ┆          ┆           ┆              ┆   ┆ 943b-bef…   ┆ ],18.55}    ┆       ┆           │\n",
       "│ 1      ┆ 3        ┆ 0.12      ┆ 173670312312 ┆ … ┆ [{\"2ee50c94 ┆ {[2.02,     ┆ true  ┆ away      │\n",
       "│        ┆          ┆           ┆ 0            ┆   ┆ -78ed-452c- ┆ -0.29, 0.53 ┆       ┆           │\n",
       "│        ┆          ┆           ┆              ┆   ┆ 943b-bef…   ┆ ],18.48}    ┆       ┆           │\n",
       "│ 1      ┆ 4        ┆ 0.16      ┆ 173670312316 ┆ … ┆ [{\"2ee50c94 ┆ {[2.78,     ┆ true  ┆ away      │\n",
       "│        ┆          ┆           ┆ 0            ┆   ┆ -78ed-452c- ┆ -0.39,      ┆       ┆           │\n",
       "│        ┆          ┆           ┆              ┆   ┆ 943b-bef…   ┆ 0.59],18.4} ┆       ┆           │\n",
       "│ …      ┆ …        ┆ …         ┆ …            ┆ … ┆ …           ┆ …           ┆ …     ┆ …         │\n",
       "│ 2      ┆ 148907   ┆ 2901.64   ┆ 173671018296 ┆ … ┆ [{\"181465f6 ┆ {null,0.0}  ┆ false ┆ home      │\n",
       "│        ┆          ┆           ┆ 0            ┆   ┆ -a5c1-48ce- ┆             ┆       ┆           │\n",
       "│        ┆          ┆           ┆              ┆   ┆ 98b4-541…   ┆             ┆       ┆           │\n",
       "│ 2      ┆ 148908   ┆ 2901.68   ┆ 173671018300 ┆ … ┆ [{\"181465f6 ┆ {null,0.0}  ┆ false ┆ home      │\n",
       "│        ┆          ┆           ┆ 0            ┆   ┆ -a5c1-48ce- ┆             ┆       ┆           │\n",
       "│        ┆          ┆           ┆              ┆   ┆ 98b4-541…   ┆             ┆       ┆           │\n",
       "│ 2      ┆ 148909   ┆ 2901.72   ┆ 173671018304 ┆ … ┆ [{\"181465f6 ┆ {null,0.0}  ┆ false ┆ home      │\n",
       "│        ┆          ┆           ┆ 0            ┆   ┆ -a5c1-48ce- ┆             ┆       ┆           │\n",
       "│        ┆          ┆           ┆              ┆   ┆ 98b4-541…   ┆             ┆       ┆           │\n",
       "│ 2      ┆ 148910   ┆ 2901.76   ┆ 173671018308 ┆ … ┆ [{\"181465f6 ┆ {null,0.0}  ┆ false ┆ home      │\n",
       "│        ┆          ┆           ┆ 0            ┆   ┆ -a5c1-48ce- ┆             ┆       ┆           │\n",
       "│        ┆          ┆           ┆              ┆   ┆ 98b4-541…   ┆             ┆       ┆           │\n",
       "│ 2      ┆ 148911   ┆ 2901.8    ┆ 173671018312 ┆ … ┆ [{\"181465f6 ┆ {null,0.0}  ┆ false ┆ home      │\n",
       "│        ┆          ┆           ┆ 0            ┆   ┆ -a5c1-48ce- ┆             ┆       ┆           │\n",
       "│        ┆          ┆           ┆              ┆   ┆ 98b4-541…   ┆             ┆       ┆           │\n",
       "└────────┴──────────┴───────────┴──────────────┴───┴─────────────┴─────────────┴───────┴───────────┘"
      ]
     },
     "execution_count": 18,
     "metadata": {},
     "output_type": "execute_result"
    }
   ],
   "source": [
    "dataset"
   ]
  },
  {
   "cell_type": "code",
   "execution_count": 15,
   "id": "55655d6a",
   "metadata": {},
   "outputs": [
    {
     "ename": "AttributeError",
     "evalue": "'DataFrame' object has no attribute 'get'",
     "output_type": "error",
     "traceback": [
      "\u001b[0;31m---------------------------------------------------------------------------\u001b[0m",
      "\u001b[0;31mAttributeError\u001b[0m                            Traceback (most recent call last)",
      "Cell \u001b[0;32mIn[15], line 1\u001b[0m\n\u001b[0;32m----> 1\u001b[0m home, _, _ \u001b[38;5;241m=\u001b[39m \u001b[43mdataset\u001b[49m\u001b[38;5;241;43m.\u001b[39;49m\u001b[43mget\u001b[49m()\n",
      "\u001b[0;31mAttributeError\u001b[0m: 'DataFrame' object has no attribute 'get'"
     ]
    }
   ],
   "source": [
    "home, _, _ = dataset.get()"
   ]
  },
  {
   "cell_type": "code",
   "execution_count": null,
   "id": "b4ccbe78",
   "metadata": {},
   "outputs": [],
   "source": []
  }
 ],
 "metadata": {
  "kernelspec": {
   "display_name": "floodlight-env",
   "language": "python",
   "name": "python3"
  },
  "language_info": {
   "codemirror_mode": {
    "name": "ipython",
    "version": 3
   },
   "file_extension": ".py",
   "mimetype": "text/x-python",
   "name": "python",
   "nbconvert_exporter": "python",
   "pygments_lexer": "ipython3",
   "version": "3.10.16"
  }
 },
 "nbformat": 4,
 "nbformat_minor": 5
}
