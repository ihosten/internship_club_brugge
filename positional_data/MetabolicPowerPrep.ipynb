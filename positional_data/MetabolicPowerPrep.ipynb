{
 "cells": [
  {
   "cell_type": "code",
   "execution_count": 2,
   "id": "30d508b7",
   "metadata": {},
   "outputs": [],
   "source": [
    "\n",
    "from floodligt_functions import clean_metadata\n",
    "from floodligt_functions import read_position_data_jsonl\n",
    "\n",
    "import numpy as np\n",
    "from pathlib import Path\n",
    "import json\n",
    "import io\n",
    "import polars as pl\n",
    "import floodlight\n",
    "#from floodlight.io.secondspectrum import read_position_data_jsonl\n",
    "from floodlight.io.secondspectrum import read_teamsheets_from_meta_json\n",
    "import json\n",
    "import tempfile\n",
    "from typing import Union, Tuple, Dict\n",
    "from pathlib import Path\n",
    "from floodlight.core.pitch import Pitch\n",
    "from floodlight.io.utils import get_and_convert\n",
    "from floodlight.core.teamsheet import Teamsheet\n",
    "from floodlight.core.xy import XY\n",
    "from floodlight.core.code import Code\n",
    "from floodlight.models.kinematics import AccelerationModel\n",
    "from floodlight.models.kinematics import DistanceModel\n",
    "from floodlight.models.kinematics import VelocityModel\n",
    "from floodlight.models.kinetics import MetabolicPowerModel\n"
   ]
  },
  {
   "cell_type": "code",
   "execution_count": 3,
   "id": "1fd0dfdf",
   "metadata": {},
   "outputs": [],
   "source": [
    "filepath_position = Path(\"SecondSpectrum/Second Spectrum/Anderlecht - Club Brugge/tracking-produced.jsonl\")"
   ]
  },
  {
   "cell_type": "code",
   "execution_count": 4,
   "id": "ba4231b2",
   "metadata": {},
   "outputs": [],
   "source": [
    "filepath_metadata = Path(\"SecondSpectrum/Second Spectrum/Anderlecht - Club Brugge/rsc-bru_metadata.json\")"
   ]
  },
  {
   "cell_type": "code",
   "execution_count": 5,
   "id": "9d5ec217",
   "metadata": {},
   "outputs": [],
   "source": [
    "filepath_cleaned_metadata = Path(\"cleaned_metadata.json\")"
   ]
  },
  {
   "cell_type": "code",
   "execution_count": 6,
   "id": "70d3a94a",
   "metadata": {},
   "outputs": [],
   "source": [
    "clean_metadata(filepath_metadata, filepath_cleaned_metadata)"
   ]
  },
  {
   "cell_type": "code",
   "execution_count": 7,
   "id": "a13440b2",
   "metadata": {},
   "outputs": [],
   "source": [
    "position_data = read_position_data_jsonl(\n",
    "    filepath_position,\n",
    "    filepath_cleaned_metadata\n",
    ")"
   ]
  },
  {
   "cell_type": "code",
   "execution_count": 8,
   "id": "e301959a",
   "metadata": {},
   "outputs": [],
   "source": [
    "xy_objects = position_data[0]"
   ]
  },
  {
   "cell_type": "code",
   "execution_count": null,
   "id": "581d5850",
   "metadata": {},
   "outputs": [
    {
     "data": {
      "text/plain": [
       "XY(xy=array([[39.94, -0.09,   nan, ...,   nan,   nan,   nan],\n",
       "       [39.8 , -0.09,   nan, ...,   nan,   nan,   nan],\n",
       "       [39.67, -0.09,   nan, ...,   nan,   nan,   nan],\n",
       "       ...,\n",
       "       [  nan,   nan,   nan, ...,   nan,   nan,   nan],\n",
       "       [  nan,   nan,   nan, ...,   nan,   nan,   nan],\n",
       "       [  nan,   nan,   nan, ...,   nan,   nan,   nan]],\n",
       "      shape=(2901801, 42)), framerate=25, direction='rl')"
      ]
     },
     "execution_count": 9,
     "metadata": {},
     "output_type": "execute_result"
    },
    {
     "ename": "",
     "evalue": "",
     "output_type": "error",
     "traceback": [
      "\u001b[1;31mThe Kernel crashed while executing code in the current cell or a previous cell. \n",
      "\u001b[1;31mPlease review the code in the cell(s) to identify a possible cause of the failure. \n",
      "\u001b[1;31mClick <a href='https://aka.ms/vscodeJupyterKernelCrash'>here</a> for more info. \n",
      "\u001b[1;31mView Jupyter <a href='command:jupyter.viewOutput'>log</a> for further details."
     ]
    }
   ],
   "source": [
    "xy_objects['HT2']['Home']"
   ]
  },
  {
   "cell_type": "code",
   "execution_count": 9,
   "id": "a6104575",
   "metadata": {},
   "outputs": [],
   "source": [
    "np.save(\"np_arrays/xy.npy\", xy_objects['HT2']['Home'])"
   ]
  },
  {
   "cell_type": "code",
   "execution_count": 9,
   "id": "c74579da",
   "metadata": {},
   "outputs": [
    {
     "data": {
      "text/plain": [
       "array([[39.94, -0.09,   nan, ...,   nan,   nan,   nan],\n",
       "       [39.8 , -0.09,   nan, ...,   nan,   nan,   nan],\n",
       "       [39.67, -0.09,   nan, ...,   nan,   nan,   nan],\n",
       "       ...,\n",
       "       [  nan,   nan,   nan, ...,   nan,   nan,   nan],\n",
       "       [  nan,   nan,   nan, ...,   nan,   nan,   nan],\n",
       "       [  nan,   nan,   nan, ...,   nan,   nan,   nan]],\n",
       "      shape=(2901801, 42))"
      ]
     },
     "execution_count": 9,
     "metadata": {},
     "output_type": "execute_result"
    }
   ],
   "source": [
    "xy_objects['HT2']['Home'].xy"
   ]
  },
  {
   "cell_type": "code",
   "execution_count": 9,
   "id": "457c8217",
   "metadata": {},
   "outputs": [],
   "source": [
    "halfs = [\"HT2\"]#[\"HT1\", \"HT2\"]\n",
    "teams = [\"Home\", \"Away\"]"
   ]
  },
  {
   "cell_type": "code",
   "execution_count": 11,
   "id": "f00569ec",
   "metadata": {},
   "outputs": [],
   "source": [
    "# get list of home players\n",
    "# this will be used to match player with correct position data\n",
    "home_players = [player for player in position_data[3]['Home'][\"player\"]]\n",
    "\n",
    "# get list of away players\n",
    "away_players = [player for player in position_data[3]['Away'][\"player\"]]"
   ]
  },
  {
   "cell_type": "code",
   "execution_count": 12,
   "id": "38d2e7f8",
   "metadata": {},
   "outputs": [],
   "source": [
    "possession_status = {}\n",
    "\n",
    "for half in halfs:\n",
    "    half_possession = position_data[1][half].code\n",
    "\n",
    "    # Convert np.nan to None so Polars can handle them as nulls\n",
    "    half_possession = [x if isinstance(x, str) else None for x in half_possession]\n",
    "\n",
    "    # Create DataFrame\n",
    "    possession_status[half] = pl.DataFrame({\n",
    "        f\"{half} possession\": half_possession\n",
    "    })"
   ]
  },
  {
   "cell_type": "code",
   "execution_count": 13,
   "id": "0ab3e896",
   "metadata": {},
   "outputs": [],
   "source": [
    "ball_status = {}\n",
    "\n",
    "for half in halfs:\n",
    "    half_ball_status = position_data[2][half].code\n",
    "    half_ball_status = [x if isinstance(x, str) else None for x in half_ball_status]\n",
    "    ball_status[half] = pl.DataFrame({\n",
    "        f\"{half} ball status\": half_ball_status\n",
    "    })\n"
   ]
  },
  {
   "cell_type": "code",
   "execution_count": 12,
   "id": "5437263c",
   "metadata": {},
   "outputs": [],
   "source": [
    "xy_objects = position_data[0]"
   ]
  },
  {
   "cell_type": "code",
   "execution_count": null,
   "id": "bd27e4e7",
   "metadata": {},
   "outputs": [],
   "source": [
    "# Dictionary to store results\n",
    "acceleration_dfs = {}\n",
    "\n",
    "for half in halfs:\n",
    "    acceleration_dfs[half] = {}\n",
    "    \n",
    "    for team in teams:\n",
    "        am = AccelerationModel()\n",
    "        am.fit(xy_objects[half][team])\n",
    "        acceleration = am.acceleration()\n",
    "        np_acceleration_array = acceleration.property\n",
    "        acceleration_dfs[half][team] = np_acceleration_array"
   ]
  },
  {
   "cell_type": "code",
   "execution_count": 15,
   "id": "f124d58e",
   "metadata": {},
   "outputs": [
    {
     "data": {
      "text/plain": [
       "array([[-3.125     ,         nan, -1.83058262, ...,         nan,\n",
       "                nan,         nan],\n",
       "       [-3.125     ,         nan, -0.91529131, ...,         nan,\n",
       "                nan,         nan],\n",
       "       [-1.5625    ,         nan, -0.64720869, ...,         nan,\n",
       "                nan,         nan],\n",
       "       ...,\n",
       "       [        nan,         nan,         nan, ...,         nan,\n",
       "                nan,         nan],\n",
       "       [        nan,         nan,         nan, ...,         nan,\n",
       "                nan,         nan],\n",
       "       [        nan,         nan,         nan, ...,         nan,\n",
       "                nan,         nan]], shape=(2901801, 21))"
      ]
     },
     "execution_count": 15,
     "metadata": {},
     "output_type": "execute_result"
    }
   ],
   "source": [
    "acceleration_dfs['HT2']['Home']"
   ]
  },
  {
   "cell_type": "code",
   "execution_count": 16,
   "id": "0158cc60",
   "metadata": {},
   "outputs": [],
   "source": [
    "np.save(\"np_arrays/acceleration.npy\", acceleration_dfs['HT2']['Home'])"
   ]
  },
  {
   "cell_type": "code",
   "execution_count": 10,
   "id": "4d68a1a2",
   "metadata": {},
   "outputs": [],
   "source": [
    "velocity_dfs = {}\n",
    "\n",
    "for half in halfs:\n",
    "    velocity_dfs[half] = {}\n",
    "    \n",
    "    for team in teams:\n",
    "        vm = VelocityModel()\n",
    "        vm.fit(xy_objects[half][team])\n",
    "        velocity = vm.velocity()\n",
    "        np_velocity_array = velocity.property\n",
    "        velocity_dfs[half][team] = np_velocity_array"
   ]
  },
  {
   "cell_type": "code",
   "execution_count": null,
   "id": "dce84d5c",
   "metadata": {},
   "outputs": [
    {
     "ename": "",
     "evalue": "",
     "output_type": "error",
     "traceback": [
      "\u001b[1;31mThe Kernel crashed while executing code in the current cell or a previous cell. \n",
      "\u001b[1;31mPlease review the code in the cell(s) to identify a possible cause of the failure. \n",
      "\u001b[1;31mClick <a href='https://aka.ms/vscodeJupyterKernelCrash'>here</a> for more info. \n",
      "\u001b[1;31mView Jupyter <a href='command:jupyter.viewOutput'>log</a> for further details."
     ]
    }
   ],
   "source": [
    "np.save(\"np_arrays/velocity.npy\", velocity_dfs['HT2']['Home'])"
   ]
  }
 ],
 "metadata": {
  "kernelspec": {
   "display_name": "floodlight-env",
   "language": "python",
   "name": "python3"
  },
  "language_info": {
   "codemirror_mode": {
    "name": "ipython",
    "version": 3
   },
   "file_extension": ".py",
   "mimetype": "text/x-python",
   "name": "python",
   "nbconvert_exporter": "python",
   "pygments_lexer": "ipython3",
   "version": "3.10.16"
  }
 },
 "nbformat": 4,
 "nbformat_minor": 5
}
