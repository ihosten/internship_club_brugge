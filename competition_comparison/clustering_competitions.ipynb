{
 "cells": [
  {
   "cell_type": "code",
   "execution_count": null,
   "id": "b3571fee",
   "metadata": {},
   "outputs": [],
   "source": [
    "import polars as pl\n",
    "from tqdm import tqdm\n",
    "import xlsxwriter \n",
    "from sklearn import set_config\n",
    "from sklearn.cluster import KMeans  \n",
    "from sklearn.preprocessing import StandardScaler\n",
    "from sklearn.metrics import silhouette_score"
   ]
  },
  {
   "cell_type": "code",
   "execution_count": null,
   "id": "1c56052d",
   "metadata": {},
   "outputs": [],
   "source": [
    "parquet_path = \"./data/parquet4visual.parquet\""
   ]
  },
  {
   "cell_type": "code",
   "execution_count": null,
   "id": "47303fcc",
   "metadata": {},
   "outputs": [],
   "source": [
    "# get the required columns\n",
    "df = pl.read_parquet(parquet_path,\n",
    "   columns = [\n",
    "      'competition_region_division', \n",
    "      'position_grouped', \n",
    "      'PSV-99',\n",
    "      'P90 HSR Distance',\n",
    "      \n",
    "   ]).filter(pl.col('competition_region_division').is_not_null()) # filtering out the null competitions "
   ]
  },
  {
   "cell_type": "code",
   "execution_count": 60,
   "id": "b92712a6",
   "metadata": {},
   "outputs": [],
   "source": [
    "# get the unique position names\n",
    "positions = df.select(\"position_grouped\").unique()"
   ]
  },
  {
   "cell_type": "markdown",
   "id": "29da8350",
   "metadata": {},
   "source": [
    "# 2 metrics\n",
    "Clustering competitions based on 2 metrics\n",
    "Competitions are clusterd together  based on there group mean\n"
   ]
  },
  {
   "cell_type": "code",
   "execution_count": 61,
   "id": "2811fdb3",
   "metadata": {},
   "outputs": [],
   "source": [
    "# set config API to polars to get polars output from sklearn\n",
    "set_config(transform_output=\"polars\")"
   ]
  },
  {
   "cell_type": "code",
   "execution_count": 62,
   "id": "3b7b9d0c",
   "metadata": {},
   "outputs": [],
   "source": [
    "scaler = StandardScaler()"
   ]
  },
  {
   "cell_type": "code",
   "execution_count": null,
   "id": "e0310139",
   "metadata": {},
   "outputs": [
    {
     "name": "stderr",
     "output_type": "stream",
     "text": [
      "  0%|          | 0/9 [00:00<?, ?it/s]"
     ]
    },
    {
     "name": "stderr",
     "output_type": "stream",
     "text": [
      "100%|██████████| 9/9 [00:01<00:00,  4.68it/s]\n"
     ]
    }
   ],
   "source": [
    "with xlsxwriter.Workbook(f\"./output/competition_clusters.xlsx\") as wb:\n",
    "    \n",
    "    grouped_df = df.group_by(\n",
    "        \"position_grouped\", \"competition_region_division\"\n",
    "    ).agg([\n",
    "            pl.col(\"PSV-99\").mean().alias(\"PSV-99 mean\"),\n",
    "            pl.col(\"P90 HSR Distance\").mean().alias(\"P90 HSR Distance mean\"),\n",
    "        ])\n",
    "    \n",
    "    # loop through the positions\n",
    "    for position in tqdm(positions[\"position_grouped\"]): \n",
    "\n",
    "        #filter on the correct position\n",
    "        pos_df = grouped_df.filter(\n",
    "            pl.col(\"position_grouped\") == position\n",
    "        ).drop(\n",
    "            \"position_grouped\"\n",
    "        )\n",
    "\n",
    "        # create the features --> drop competitions: not numerical & not needed to create clusters\n",
    "        features = pos_df.drop(\"competition_region_division\")\n",
    "        \n",
    "        # scale the features to avoid influence of metric size\n",
    "        scaled_features = scaler.fit_transform(features)\n",
    "        #scaled_features_df = pl.DataFrame(scaled_features, schema=features.columns)\n",
    "        \n",
    "        # initialize optimal number of clusters (lowest possible)\n",
    "        best_k = 0\n",
    "        # initialize silhoutte score (lowest possible)\n",
    "        best_score = -1\n",
    "\n",
    "\n",
    "        cluster_models = {}\n",
    "        for k in range(2, 6):\n",
    "            model = KMeans(n_clusters=k, random_state=42, init='k-means++', n_init=50, max_iter=1000)\n",
    "            labels = model.fit_predict(scaled_features)\n",
    "            score = silhouette_score(scaled_features, labels)\n",
    "            cluster_models[k] = {\n",
    "                'model': model,\n",
    "                'labels': labels,\n",
    "                'score': score,\n",
    "            }\n",
    "        \n",
    "        for key in cluster_models.keys():\n",
    "            if cluster_models[key]['score'] > best_score:\n",
    "                best_score = cluster_models[key]['score']\n",
    "                best_k = key \n",
    "       \n",
    "        final_df = pos_df.with_columns(pl.Series(\"Clusters\", cluster_models[best_k]['labels'])).sort(\"Clusters\")\n",
    "        \n",
    "        final_df.write_excel(\n",
    "            workbook = wb,\n",
    "            worksheet = position,\n",
    "            autofit = True,\n",
    "            float_precision = 3,\n",
    "            freeze_panes = (1,0),\n",
    "            header_format = {\"bold\": True}\n",
    "        )\n",
    "            \n",
    "            \n",
    "    "
   ]
  },
  {
   "cell_type": "code",
   "execution_count": null,
   "id": "b0fe9bd2",
   "metadata": {},
   "outputs": [],
   "source": []
  }
 ],
 "metadata": {
  "kernelspec": {
   "display_name": "club_brugge",
   "language": "python",
   "name": "python3"
  },
  "language_info": {
   "codemirror_mode": {
    "name": "ipython",
    "version": 3
   },
   "file_extension": ".py",
   "mimetype": "text/x-python",
   "name": "python",
   "nbconvert_exporter": "python",
   "pygments_lexer": "ipython3",
   "version": "3.13.3"
  }
 },
 "nbformat": 4,
 "nbformat_minor": 5
}
